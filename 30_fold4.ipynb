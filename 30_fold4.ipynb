{
  "nbformat": 4,
  "nbformat_minor": 0,
  "metadata": {
    "accelerator": "GPU",
    "colab": {
      "name": "Kodingan Skripsi 3",
      "provenance": [],
      "collapsed_sections": [],
      "include_colab_link": true
    },
    "kernelspec": {
      "display_name": "Python 3",
      "language": "python",
      "name": "python3"
    },
    "language_info": {
      "codemirror_mode": {
        "name": "ipython",
        "version": 3
      },
      "file_extension": ".py",
      "mimetype": "text/x-python",
      "name": "python",
      "nbconvert_exporter": "python",
      "pygments_lexer": "ipython3",
      "version": "3.6.6"
    }
  },
  "cells": [
    {
      "cell_type": "markdown",
      "metadata": {
        "id": "view-in-github",
        "colab_type": "text"
      },
      "source": [
        "<a href=\"https://colab.research.google.com/github/TaufiqIdrus/Python-Projects/blob/master/30_fold4.ipynb\" target=\"_parent\"><img src=\"https://colab.research.google.com/assets/colab-badge.svg\" alt=\"Open In Colab\"/></a>"
      ]
    },
    {
      "cell_type": "markdown",
      "metadata": {
        "id": "yJT_kQA2lITS"
      },
      "source": [
        "**Identifikasi Penyakit Pada Tanaman Apel menggunakan Convolutional Neural Network**"
      ]
    },
    {
      "cell_type": "code",
      "metadata": {
        "id": "xXeOaYTUzmgT"
      },
      "source": [
        "import numpy as np\n",
        "import pickle\n",
        "import os\n",
        "import cv2\n",
        "import tensorflow as tf\n",
        "import keras\n",
        "from os import listdir\n",
        "from sklearn.preprocessing import LabelBinarizer\n",
        "from keras.models import Sequential\n",
        "from keras.layers.convolutional import Conv2D\n",
        "from keras.layers.convolutional import MaxPooling2D\n",
        "from keras.layers.core import Activation, Flatten, Dropout, Dense\n",
        "from keras import backend as K\n",
        "from tensorflow.keras.optimizers import Adam\n",
        "from keras.preprocessing import image\n",
        "import matplotlib.pyplot as plt\n",
        "from sklearn.datasets import make_classification\n",
        "from numpy import mean\n"
      ],
      "execution_count": 1,
      "outputs": []
    },
    {
      "cell_type": "markdown",
      "metadata": {
        "id": "fp8C0d28lQok"
      },
      "source": [
        "Importing and Preparing Dataset"
      ]
    },
    {
      "cell_type": "code",
      "metadata": {
        "id": "_0xehllADlUs",
        "colab": {
          "base_uri": "https://localhost:8080/"
        },
        "outputId": "5ff5e872-229e-4d54-eb5f-afe681e0641d"
      },
      "source": [
        "!pip install pyunpack\n",
        "!pip install patool\n",
        "from pyunpack import Archive\n",
        "Archive('/content/fold5.rar').extractall('/content/Datasets/')\n",
        "iterasi = 5\n",
        "width=60\n",
        "height=60\n",
        "default_image_size = tuple((height, width))\n",
        "directory_root_train = '/content/Datasets/fold5/Train'\n",
        "directory_root_validation = '/content/Datasets/fold5/Validation'\n",
        "directory_root_test = '/content/Datasets/fold5/Test'\n",
        "image_size = 0\n",
        "depth=3"
      ],
      "execution_count": 2,
      "outputs": [
        {
          "output_type": "stream",
          "name": "stdout",
          "text": [
            "Looking in indexes: https://pypi.org/simple, https://us-python.pkg.dev/colab-wheels/public/simple/\n",
            "Collecting pyunpack\n",
            "  Downloading pyunpack-0.3-py2.py3-none-any.whl (4.1 kB)\n",
            "Collecting easyprocess\n",
            "  Downloading EasyProcess-1.1-py3-none-any.whl (8.7 kB)\n",
            "Collecting entrypoint2\n",
            "  Downloading entrypoint2-1.1-py2.py3-none-any.whl (9.9 kB)\n",
            "Installing collected packages: entrypoint2, easyprocess, pyunpack\n",
            "Successfully installed easyprocess-1.1 entrypoint2-1.1 pyunpack-0.3\n",
            "Looking in indexes: https://pypi.org/simple, https://us-python.pkg.dev/colab-wheels/public/simple/\n",
            "Collecting patool\n",
            "  Downloading patool-1.12-py2.py3-none-any.whl (77 kB)\n",
            "\u001b[K     |████████████████████████████████| 77 kB 6.7 MB/s \n",
            "\u001b[?25hInstalling collected packages: patool\n",
            "Successfully installed patool-1.12\n"
          ]
        }
      ]
    },
    {
      "cell_type": "code",
      "metadata": {
        "id": "KbAwJJTpzmge"
      },
      "source": [
        "def convert_image_to_array(image_dir):\n",
        "    try:\n",
        "        image = cv2.imread(image_dir)\n",
        "        if image is not None :\n",
        "            image = cv2.resize(image, default_image_size)   \n",
        "            return keras.preprocessing.image.img_to_array(image)\n",
        "        else :\n",
        "            return np.array([])\n",
        "    except Exception as e:\n",
        "        print(f\"Error : {e}\")\n",
        "        return None"
      ],
      "execution_count": 3,
      "outputs": []
    },
    {
      "cell_type": "markdown",
      "source": [
        "Converting **Training** Data to Array"
      ],
      "metadata": {
        "id": "bgXxUMO2cI_D"
      }
    },
    {
      "cell_type": "code",
      "metadata": {
        "id": "Erz6IjKXzmgg",
        "colab": {
          "base_uri": "https://localhost:8080/"
        },
        "outputId": "d93a4c22-68eb-4572-b049-2280b799a40c"
      },
      "source": [
        "image_list_train, label_list_train = [], []\n",
        "try:\n",
        "    print(\"[INFO] Loading images ...\")\n",
        "    root_dir = listdir(directory_root_train)\n",
        "\n",
        "    for plant_disease_folder in root_dir:\n",
        "        print(f\"[INFO] Processing {plant_disease_folder} ...\")\n",
        "        plant_disease_image_list = listdir(f\"{directory_root_train}/{plant_disease_folder}/\")\n",
        "      \n",
        "        for image in plant_disease_image_list:\n",
        "            image_directory = f\"{directory_root_train}/{plant_disease_folder}/{image}\"\n",
        "\n",
        "            if image_directory.endswith(\".jpg\") == True or image_directory.endswith(\".JPG\") == True:\n",
        "                image_list_train.append(convert_image_to_array(image_directory))\n",
        "                label_list_train.append(plant_disease_folder)\n",
        "    print(\"[INFO] Image loading completed\")\n",
        "\n",
        "except Exception as e:\n",
        "    print(f\"Error : {e}\")\n",
        "\n",
        "#image labeling\n",
        "image_size = len(image_list_train)\n",
        "label_binarizer = LabelBinarizer()\n",
        "image_labels_train = label_binarizer.fit_transform(label_list_train)\n",
        "pickle.dump(label_binarizer,open('label_transform_train.pkl', 'wb'))\n",
        "n_classes = len(label_binarizer.classes_)\n",
        "np_image_list_train = np.array(image_list_train, dtype=np.float16) / 255.0"
      ],
      "execution_count": 4,
      "outputs": [
        {
          "output_type": "stream",
          "name": "stdout",
          "text": [
            "[INFO] Loading images ...\n",
            "[INFO] Processing apel_sehat ...\n",
            "[INFO] Processing apel_busuk_buah ...\n",
            "[INFO] Processing apel_bercak_daun ...\n",
            "[INFO] Processing apel_cacar_daun ...\n",
            "[INFO] Image loading completed\n"
          ]
        }
      ]
    },
    {
      "cell_type": "markdown",
      "source": [
        "Converting **Validation** Data to Array"
      ],
      "metadata": {
        "id": "7eEMGiqRd_E4"
      }
    },
    {
      "cell_type": "code",
      "source": [
        "image_list_validation, label_list_validation = [], []\n",
        "try:\n",
        "    print(\"[INFO] Loading images ...\")\n",
        "    root_dir = listdir(directory_root_validation)\n",
        "\n",
        "    for plant_disease_folder in root_dir:\n",
        "        print(f\"[INFO] Processing {plant_disease_folder} ...\")\n",
        "        plant_disease_image_list = listdir(f\"{directory_root_validation}/{plant_disease_folder}/\")\n",
        "      \n",
        "        for image in plant_disease_image_list:\n",
        "            image_directory = f\"{directory_root_validation}/{plant_disease_folder}/{image}\"\n",
        "\n",
        "            if image_directory.endswith(\".jpg\") == True or image_directory.endswith(\".JPG\") == True:\n",
        "                image_list_validation.append(convert_image_to_array(image_directory))\n",
        "                label_list_validation.append(plant_disease_folder)\n",
        "    print(\"[INFO] Image loading completed\")\n",
        "\n",
        "except Exception as e:\n",
        "    print(f\"Error : {e}\")\n",
        "\n",
        "#image labeling\n",
        "image_size = len(image_list_validation)\n",
        "label_binarizer = LabelBinarizer()\n",
        "image_labels_validation = label_binarizer.fit_transform(label_list_validation)\n",
        "pickle.dump(label_binarizer,open('label_transform_validation.pkl', 'wb'))\n",
        "n_classes = len(label_binarizer.classes_)\n",
        "np_image_list_validation = np.array(image_list_validation, dtype=np.float16) / 255.0"
      ],
      "metadata": {
        "id": "wfHDdR0ZeEuU",
        "colab": {
          "base_uri": "https://localhost:8080/"
        },
        "outputId": "c37b5021-b4b6-4311-c8e4-f970e598df96"
      },
      "execution_count": 5,
      "outputs": [
        {
          "output_type": "stream",
          "name": "stdout",
          "text": [
            "[INFO] Loading images ...\n",
            "[INFO] Processing apel_sehat ...\n",
            "[INFO] Processing apel_busuk_buah ...\n",
            "[INFO] Processing apel_bercak_daun ...\n",
            "[INFO] Processing apel_cacar_daun ...\n",
            "[INFO] Image loading completed\n"
          ]
        }
      ]
    },
    {
      "cell_type": "markdown",
      "source": [
        "Converting **Testing** Data to Array"
      ],
      "metadata": {
        "id": "brwWyZVncTdg"
      }
    },
    {
      "cell_type": "code",
      "metadata": {
        "id": "uNPby5UMcaWY",
        "colab": {
          "base_uri": "https://localhost:8080/"
        },
        "outputId": "45bc00a8-c1cf-4e6f-d1d4-5fd6c6eb0f6b"
      },
      "source": [
        "image_list_test, label_list_test = [], []\n",
        "try:\n",
        "    print(\"[INFO] Loading images ...\")\n",
        "    root_dir = listdir(directory_root_test)\n",
        "\n",
        "    for plant_disease_folder in root_dir:\n",
        "        print(f\"[INFO] Processing {plant_disease_folder} ...\")\n",
        "        plant_disease_image_list = listdir(f\"{directory_root_test}/{plant_disease_folder}/\")\n",
        "      \n",
        "        for image in plant_disease_image_list:\n",
        "            image_directory = f\"{directory_root_test}/{plant_disease_folder}/{image}\"\n",
        "\n",
        "            if image_directory.endswith(\".jpg\") == True or image_directory.endswith(\".JPG\") == True:\n",
        "                image_list_test.append(convert_image_to_array(image_directory))\n",
        "                label_list_test.append(plant_disease_folder)\n",
        "    print(\"[INFO] Image loading completed\")\n",
        "\n",
        "except Exception as e:\n",
        "    print(f\"Error : {e}\")\n",
        "\n",
        "#image labeling\n",
        "image_size = len(image_list_test)\n",
        "label_binarizer = LabelBinarizer()\n",
        "image_labels_test = label_binarizer.fit_transform(label_list_test)\n",
        "pickle.dump(label_binarizer,open('label_transform_test.pkl', 'wb'))\n",
        "n_classes = len(label_binarizer.classes_)\n",
        "np_image_list_test = np.array(image_list_test, dtype=np.float16) / 255.0"
      ],
      "execution_count": 6,
      "outputs": [
        {
          "output_type": "stream",
          "name": "stdout",
          "text": [
            "[INFO] Loading images ...\n",
            "[INFO] Processing apel_sehat ...\n",
            "[INFO] Processing apel_busuk_buah ...\n",
            "[INFO] Processing apel_bercak_daun ...\n",
            "[INFO] Processing apel_cacar_daun ...\n",
            "[INFO] Image loading completed\n"
          ]
        }
      ]
    },
    {
      "cell_type": "markdown",
      "metadata": {
        "id": "jYBTFN0CnAi7"
      },
      "source": [
        "Data Augmenting Initialization"
      ]
    },
    {
      "cell_type": "code",
      "metadata": {
        "id": "TLMxMK2Tzmgr"
      },
      "source": [
        "aug = keras.preprocessing.image.ImageDataGenerator(\n",
        "    rotation_range=25, \n",
        "    width_shift_range=0.1,\n",
        "    height_shift_range=0.1, \n",
        "    shear_range=0.2, \n",
        "    zoom_range=0.2,\n",
        "    horizontal_flip=True, \n",
        "    fill_mode=\"nearest\")"
      ],
      "execution_count": 7,
      "outputs": []
    },
    {
      "cell_type": "markdown",
      "metadata": {
        "id": "H1BfRyYNnGv_"
      },
      "source": [
        "Creating CNN Model"
      ]
    },
    {
      "cell_type": "code",
      "metadata": {
        "id": "WmLX4wm8zmgs"
      },
      "source": [
        "model = keras.models.Sequential()\n",
        "#inputShape = (height, width, depth)\n",
        "inputShape = (60,60,3)\n",
        "\n",
        "model.add(Conv2D(20, (5, 5), padding=\"same\",input_shape=inputShape))\n",
        "model.add(Activation(\"relu\"))\n",
        "\n",
        "model.add(MaxPooling2D(pool_size=(2, 2), strides=2))\n",
        "\n",
        "model.add(Conv2D(50, (5, 5), padding=\"same\"))\n",
        "model.add(Activation(\"relu\"))\n",
        "\n",
        "model.add(MaxPooling2D(pool_size=(2, 2),strides=2))\n",
        "\n",
        "model.add(Flatten())\n",
        "\n",
        "model.add(Dense(500))\n",
        "model.add(Activation(\"relu\"))\n",
        "\n",
        "model.add(Dense(4))\n",
        "model.add(Activation(\"softmax\"))"
      ],
      "execution_count": 8,
      "outputs": []
    },
    {
      "cell_type": "code",
      "source": [
        "model.summary()"
      ],
      "metadata": {
        "id": "RQIgaph8hW06",
        "colab": {
          "base_uri": "https://localhost:8080/"
        },
        "outputId": "be69636d-6807-4b18-ad00-e1860659d6b7"
      },
      "execution_count": 9,
      "outputs": [
        {
          "output_type": "stream",
          "name": "stdout",
          "text": [
            "Model: \"sequential\"\n",
            "_________________________________________________________________\n",
            " Layer (type)                Output Shape              Param #   \n",
            "=================================================================\n",
            " conv2d (Conv2D)             (None, 60, 60, 20)        1520      \n",
            "                                                                 \n",
            " activation (Activation)     (None, 60, 60, 20)        0         \n",
            "                                                                 \n",
            " max_pooling2d (MaxPooling2D  (None, 30, 30, 20)       0         \n",
            " )                                                               \n",
            "                                                                 \n",
            " conv2d_1 (Conv2D)           (None, 30, 30, 50)        25050     \n",
            "                                                                 \n",
            " activation_1 (Activation)   (None, 30, 30, 50)        0         \n",
            "                                                                 \n",
            " max_pooling2d_1 (MaxPooling  (None, 15, 15, 50)       0         \n",
            " 2D)                                                             \n",
            "                                                                 \n",
            " flatten (Flatten)           (None, 11250)             0         \n",
            "                                                                 \n",
            " dense (Dense)               (None, 500)               5625500   \n",
            "                                                                 \n",
            " activation_2 (Activation)   (None, 500)               0         \n",
            "                                                                 \n",
            " dense_1 (Dense)             (None, 4)                 2004      \n",
            "                                                                 \n",
            " activation_3 (Activation)   (None, 4)                 0         \n",
            "                                                                 \n",
            "=================================================================\n",
            "Total params: 5,654,074\n",
            "Trainable params: 5,654,074\n",
            "Non-trainable params: 0\n",
            "_________________________________________________________________\n"
          ]
        }
      ]
    },
    {
      "cell_type": "code",
      "source": [
        "#from PIL import Image\n",
        "#from keras.utils.vis_utils import plot_model\n",
        "#plot_model(model, to_file='cnn_model.png', show_shapes=True, show_layer_names=True)\n",
        "#display(Image.open('cnn_model.png'))"
      ],
      "metadata": {
        "id": "T05gPuu1GudW"
      },
      "execution_count": 10,
      "outputs": []
    },
    {
      "cell_type": "markdown",
      "metadata": {
        "id": "Zfsu3lVfnXFG"
      },
      "source": [
        "**Training** Network"
      ]
    },
    {
      "cell_type": "code",
      "metadata": {
        "id": "rvwKwe3Lzmgv",
        "colab": {
          "base_uri": "https://localhost:8080/"
        },
        "outputId": "0ae070ea-bffd-4083-d4dd-ac84a59ae873"
      },
      "source": [
        "EPOCHS = 200\n",
        "INIT_LR = 1e-3\n",
        "BS = 8\n",
        "\n",
        "with tf.device('/GPU:0'):\n",
        "  opt = Adam(learning_rate=INIT_LR, decay=INIT_LR / EPOCHS)\n",
        "  model.compile(loss=\"categorical_crossentropy\", optimizer=opt,metrics=[\"Accuracy\", \"FalseNegatives\", \"FalsePositives\", \"TrueNegatives\", \"TruePositives\"])\n",
        "  \n",
        "  history = model.fit(\n",
        "      aug.flow(np_image_list_train, image_labels_train, batch_size=BS),\n",
        "      validation_data=(np_image_list_validation, image_labels_validation),\n",
        "      steps_per_epoch=len(np_image_list_train) // BS,\n",
        "      epochs=EPOCHS, \n",
        "      verbose=1,\n",
        "      )\n"
      ],
      "execution_count": 11,
      "outputs": [
        {
          "output_type": "stream",
          "name": "stdout",
          "text": [
            "Epoch 1/200\n",
            "44/44 [==============================] - 17s 59ms/step - loss: 1.4027 - Accuracy: 0.3994 - false_negatives: 316.0000 - false_positives: 36.0000 - true_negatives: 1008.0000 - true_positives: 32.0000 - val_loss: 1.2259 - val_Accuracy: 0.4545 - val_false_negatives: 85.0000 - val_false_positives: 0.0000e+00 - val_true_negatives: 264.0000 - val_true_positives: 3.0000\n",
            "Epoch 2/200\n",
            "44/44 [==============================] - 1s 22ms/step - loss: 1.2213 - Accuracy: 0.4511 - false_negatives: 299.0000 - false_positives: 36.0000 - true_negatives: 1008.0000 - true_positives: 49.0000 - val_loss: 1.1614 - val_Accuracy: 0.4659 - val_false_negatives: 83.0000 - val_false_positives: 0.0000e+00 - val_true_negatives: 264.0000 - val_true_positives: 5.0000\n",
            "Epoch 3/200\n",
            "44/44 [==============================] - 1s 22ms/step - loss: 1.1173 - Accuracy: 0.5259 - false_negatives: 245.0000 - false_positives: 49.0000 - true_negatives: 995.0000 - true_positives: 103.0000 - val_loss: 1.0294 - val_Accuracy: 0.6705 - val_false_negatives: 50.0000 - val_false_positives: 9.0000 - val_true_negatives: 255.0000 - val_true_positives: 38.0000\n",
            "Epoch 4/200\n",
            "44/44 [==============================] - 1s 22ms/step - loss: 1.0649 - Accuracy: 0.5603 - false_negatives: 230.0000 - false_positives: 53.0000 - true_negatives: 991.0000 - true_positives: 118.0000 - val_loss: 1.0455 - val_Accuracy: 0.5909 - val_false_negatives: 57.0000 - val_false_positives: 12.0000 - val_true_negatives: 252.0000 - val_true_positives: 31.0000\n",
            "Epoch 5/200\n",
            "44/44 [==============================] - 1s 27ms/step - loss: 1.0485 - Accuracy: 0.6006 - false_negatives: 218.0000 - false_positives: 53.0000 - true_negatives: 991.0000 - true_positives: 130.0000 - val_loss: 0.9821 - val_Accuracy: 0.6364 - val_false_negatives: 39.0000 - val_false_positives: 17.0000 - val_true_negatives: 247.0000 - val_true_positives: 49.0000\n",
            "Epoch 6/200\n",
            "44/44 [==============================] - 1s 27ms/step - loss: 0.9217 - Accuracy: 0.6278 - false_negatives: 174.0000 - false_positives: 73.0000 - true_negatives: 983.0000 - true_positives: 178.0000 - val_loss: 1.2424 - val_Accuracy: 0.6250 - val_false_negatives: 36.0000 - val_false_positives: 27.0000 - val_true_negatives: 237.0000 - val_true_positives: 52.0000\n",
            "Epoch 7/200\n",
            "44/44 [==============================] - 1s 15ms/step - loss: 0.8987 - Accuracy: 0.6351 - false_negatives: 163.0000 - false_positives: 74.0000 - true_negatives: 970.0000 - true_positives: 185.0000 - val_loss: 0.8776 - val_Accuracy: 0.6932 - val_false_negatives: 32.0000 - val_false_positives: 17.0000 - val_true_negatives: 247.0000 - val_true_positives: 56.0000\n",
            "Epoch 8/200\n",
            "44/44 [==============================] - 1s 14ms/step - loss: 0.8103 - Accuracy: 0.6810 - false_negatives: 141.0000 - false_positives: 71.0000 - true_negatives: 973.0000 - true_positives: 207.0000 - val_loss: 0.9306 - val_Accuracy: 0.6932 - val_false_negatives: 28.0000 - val_false_positives: 21.0000 - val_true_negatives: 243.0000 - val_true_positives: 60.0000\n",
            "Epoch 9/200\n",
            "44/44 [==============================] - 1s 14ms/step - loss: 0.7756 - Accuracy: 0.7069 - false_negatives: 126.0000 - false_positives: 65.0000 - true_negatives: 979.0000 - true_positives: 222.0000 - val_loss: 1.0769 - val_Accuracy: 0.6705 - val_false_negatives: 31.0000 - val_false_positives: 27.0000 - val_true_negatives: 237.0000 - val_true_positives: 57.0000\n",
            "Epoch 10/200\n",
            "44/44 [==============================] - 1s 15ms/step - loss: 0.8161 - Accuracy: 0.6724 - false_negatives: 139.0000 - false_positives: 82.0000 - true_negatives: 962.0000 - true_positives: 209.0000 - val_loss: 0.9934 - val_Accuracy: 0.6818 - val_false_negatives: 33.0000 - val_false_positives: 18.0000 - val_true_negatives: 246.0000 - val_true_positives: 55.0000\n",
            "Epoch 11/200\n",
            "44/44 [==============================] - 1s 14ms/step - loss: 0.8871 - Accuracy: 0.6351 - false_negatives: 155.0000 - false_positives: 67.0000 - true_negatives: 977.0000 - true_positives: 193.0000 - val_loss: 0.9908 - val_Accuracy: 0.6818 - val_false_negatives: 38.0000 - val_false_positives: 22.0000 - val_true_negatives: 242.0000 - val_true_positives: 50.0000\n",
            "Epoch 12/200\n",
            "44/44 [==============================] - 1s 14ms/step - loss: 0.7996 - Accuracy: 0.7098 - false_negatives: 132.0000 - false_positives: 71.0000 - true_negatives: 973.0000 - true_positives: 216.0000 - val_loss: 1.1566 - val_Accuracy: 0.6136 - val_false_negatives: 37.0000 - val_false_positives: 28.0000 - val_true_negatives: 236.0000 - val_true_positives: 51.0000\n",
            "Epoch 13/200\n",
            "44/44 [==============================] - 1s 14ms/step - loss: 0.8183 - Accuracy: 0.6925 - false_negatives: 134.0000 - false_positives: 80.0000 - true_negatives: 964.0000 - true_positives: 214.0000 - val_loss: 0.7440 - val_Accuracy: 0.7727 - val_false_negatives: 31.0000 - val_false_positives: 15.0000 - val_true_negatives: 249.0000 - val_true_positives: 57.0000\n",
            "Epoch 14/200\n",
            "44/44 [==============================] - 1s 14ms/step - loss: 0.7125 - Accuracy: 0.7241 - false_negatives: 124.0000 - false_positives: 69.0000 - true_negatives: 975.0000 - true_positives: 224.0000 - val_loss: 0.9225 - val_Accuracy: 0.6818 - val_false_negatives: 28.0000 - val_false_positives: 23.0000 - val_true_negatives: 241.0000 - val_true_positives: 60.0000\n",
            "Epoch 15/200\n",
            "44/44 [==============================] - 1s 14ms/step - loss: 0.7173 - Accuracy: 0.7213 - false_negatives: 112.0000 - false_positives: 75.0000 - true_negatives: 969.0000 - true_positives: 236.0000 - val_loss: 0.9606 - val_Accuracy: 0.6591 - val_false_negatives: 30.0000 - val_false_positives: 27.0000 - val_true_negatives: 237.0000 - val_true_positives: 58.0000\n",
            "Epoch 16/200\n",
            "44/44 [==============================] - 1s 14ms/step - loss: 0.7443 - Accuracy: 0.7126 - false_negatives: 126.0000 - false_positives: 71.0000 - true_negatives: 973.0000 - true_positives: 222.0000 - val_loss: 0.8404 - val_Accuracy: 0.7614 - val_false_negatives: 26.0000 - val_false_positives: 16.0000 - val_true_negatives: 248.0000 - val_true_positives: 62.0000\n",
            "Epoch 17/200\n",
            "44/44 [==============================] - 1s 14ms/step - loss: 0.7064 - Accuracy: 0.7529 - false_negatives: 113.0000 - false_positives: 65.0000 - true_negatives: 979.0000 - true_positives: 235.0000 - val_loss: 0.8028 - val_Accuracy: 0.6818 - val_false_negatives: 31.0000 - val_false_positives: 18.0000 - val_true_negatives: 246.0000 - val_true_positives: 57.0000\n",
            "Epoch 18/200\n",
            "44/44 [==============================] - 1s 14ms/step - loss: 0.6826 - Accuracy: 0.7299 - false_negatives: 106.0000 - false_positives: 72.0000 - true_negatives: 972.0000 - true_positives: 242.0000 - val_loss: 0.7815 - val_Accuracy: 0.7841 - val_false_negatives: 22.0000 - val_false_positives: 14.0000 - val_true_negatives: 250.0000 - val_true_positives: 66.0000\n",
            "Epoch 19/200\n",
            "44/44 [==============================] - 1s 14ms/step - loss: 0.7813 - Accuracy: 0.6954 - false_negatives: 131.0000 - false_positives: 70.0000 - true_negatives: 974.0000 - true_positives: 217.0000 - val_loss: 0.7639 - val_Accuracy: 0.7614 - val_false_negatives: 22.0000 - val_false_positives: 14.0000 - val_true_negatives: 250.0000 - val_true_positives: 66.0000\n",
            "Epoch 20/200\n",
            "44/44 [==============================] - 1s 14ms/step - loss: 0.7704 - Accuracy: 0.6868 - false_negatives: 139.0000 - false_positives: 72.0000 - true_negatives: 972.0000 - true_positives: 209.0000 - val_loss: 0.7226 - val_Accuracy: 0.7614 - val_false_negatives: 26.0000 - val_false_positives: 13.0000 - val_true_negatives: 251.0000 - val_true_positives: 62.0000\n",
            "Epoch 21/200\n",
            "44/44 [==============================] - 1s 14ms/step - loss: 0.6901 - Accuracy: 0.7330 - false_negatives: 109.0000 - false_positives: 70.0000 - true_negatives: 986.0000 - true_positives: 243.0000 - val_loss: 0.9290 - val_Accuracy: 0.6364 - val_false_negatives: 35.0000 - val_false_positives: 26.0000 - val_true_negatives: 238.0000 - val_true_positives: 53.0000\n",
            "Epoch 22/200\n",
            "44/44 [==============================] - 1s 14ms/step - loss: 0.6491 - Accuracy: 0.7500 - false_negatives: 103.0000 - false_positives: 56.0000 - true_negatives: 988.0000 - true_positives: 245.0000 - val_loss: 0.8408 - val_Accuracy: 0.7045 - val_false_negatives: 30.0000 - val_false_positives: 22.0000 - val_true_negatives: 242.0000 - val_true_positives: 58.0000\n",
            "Epoch 23/200\n",
            "44/44 [==============================] - 1s 14ms/step - loss: 0.6235 - Accuracy: 0.7500 - false_negatives: 97.0000 - false_positives: 61.0000 - true_negatives: 983.0000 - true_positives: 251.0000 - val_loss: 0.7985 - val_Accuracy: 0.7614 - val_false_negatives: 25.0000 - val_false_positives: 15.0000 - val_true_negatives: 249.0000 - val_true_positives: 63.0000\n",
            "Epoch 24/200\n",
            "44/44 [==============================] - 1s 15ms/step - loss: 0.6001 - Accuracy: 0.7557 - false_negatives: 97.0000 - false_positives: 58.0000 - true_negatives: 986.0000 - true_positives: 251.0000 - val_loss: 0.7815 - val_Accuracy: 0.7159 - val_false_negatives: 28.0000 - val_false_positives: 17.0000 - val_true_negatives: 247.0000 - val_true_positives: 60.0000\n",
            "Epoch 25/200\n",
            "44/44 [==============================] - 1s 14ms/step - loss: 0.7124 - Accuracy: 0.7270 - false_negatives: 115.0000 - false_positives: 63.0000 - true_negatives: 981.0000 - true_positives: 233.0000 - val_loss: 0.8801 - val_Accuracy: 0.7045 - val_false_negatives: 30.0000 - val_false_positives: 20.0000 - val_true_negatives: 244.0000 - val_true_positives: 58.0000\n",
            "Epoch 26/200\n",
            "44/44 [==============================] - 1s 14ms/step - loss: 0.6608 - Accuracy: 0.7672 - false_negatives: 110.0000 - false_positives: 56.0000 - true_negatives: 988.0000 - true_positives: 238.0000 - val_loss: 0.9751 - val_Accuracy: 0.6477 - val_false_negatives: 34.0000 - val_false_positives: 25.0000 - val_true_negatives: 239.0000 - val_true_positives: 54.0000\n",
            "Epoch 27/200\n",
            "44/44 [==============================] - 1s 14ms/step - loss: 0.6452 - Accuracy: 0.7414 - false_negatives: 104.0000 - false_positives: 63.0000 - true_negatives: 981.0000 - true_positives: 244.0000 - val_loss: 0.7715 - val_Accuracy: 0.7386 - val_false_negatives: 25.0000 - val_false_positives: 16.0000 - val_true_negatives: 248.0000 - val_true_positives: 63.0000\n",
            "Epoch 28/200\n",
            "44/44 [==============================] - 1s 14ms/step - loss: 0.6137 - Accuracy: 0.7557 - false_negatives: 93.0000 - false_positives: 62.0000 - true_negatives: 982.0000 - true_positives: 255.0000 - val_loss: 0.7730 - val_Accuracy: 0.7500 - val_false_negatives: 22.0000 - val_false_positives: 17.0000 - val_true_negatives: 247.0000 - val_true_positives: 66.0000\n",
            "Epoch 29/200\n",
            "44/44 [==============================] - 1s 14ms/step - loss: 0.6202 - Accuracy: 0.7500 - false_negatives: 104.0000 - false_positives: 74.0000 - true_negatives: 970.0000 - true_positives: 244.0000 - val_loss: 0.8550 - val_Accuracy: 0.7727 - val_false_negatives: 25.0000 - val_false_positives: 18.0000 - val_true_negatives: 246.0000 - val_true_positives: 63.0000\n",
            "Epoch 30/200\n",
            "44/44 [==============================] - 1s 14ms/step - loss: 0.6478 - Accuracy: 0.7385 - false_negatives: 105.0000 - false_positives: 70.0000 - true_negatives: 974.0000 - true_positives: 243.0000 - val_loss: 0.8083 - val_Accuracy: 0.7045 - val_false_negatives: 27.0000 - val_false_positives: 18.0000 - val_true_negatives: 246.0000 - val_true_positives: 61.0000\n",
            "Epoch 31/200\n",
            "44/44 [==============================] - 1s 14ms/step - loss: 0.6627 - Accuracy: 0.7385 - false_negatives: 109.0000 - false_positives: 65.0000 - true_negatives: 979.0000 - true_positives: 239.0000 - val_loss: 1.0492 - val_Accuracy: 0.6364 - val_false_negatives: 35.0000 - val_false_positives: 28.0000 - val_true_negatives: 236.0000 - val_true_positives: 53.0000\n",
            "Epoch 32/200\n",
            "44/44 [==============================] - 1s 14ms/step - loss: 0.6336 - Accuracy: 0.7644 - false_negatives: 100.0000 - false_positives: 70.0000 - true_negatives: 974.0000 - true_positives: 248.0000 - val_loss: 0.7288 - val_Accuracy: 0.7727 - val_false_negatives: 22.0000 - val_false_positives: 12.0000 - val_true_negatives: 252.0000 - val_true_positives: 66.0000\n",
            "Epoch 33/200\n",
            "44/44 [==============================] - 1s 14ms/step - loss: 0.6133 - Accuracy: 0.7672 - false_negatives: 103.0000 - false_positives: 61.0000 - true_negatives: 983.0000 - true_positives: 245.0000 - val_loss: 0.7171 - val_Accuracy: 0.7500 - val_false_negatives: 24.0000 - val_false_positives: 17.0000 - val_true_negatives: 247.0000 - val_true_positives: 64.0000\n",
            "Epoch 34/200\n",
            "44/44 [==============================] - 1s 14ms/step - loss: 0.5929 - Accuracy: 0.7841 - false_negatives: 91.0000 - false_positives: 60.0000 - true_negatives: 996.0000 - true_positives: 261.0000 - val_loss: 0.7827 - val_Accuracy: 0.7273 - val_false_negatives: 27.0000 - val_false_positives: 20.0000 - val_true_negatives: 244.0000 - val_true_positives: 61.0000\n",
            "Epoch 35/200\n",
            "44/44 [==============================] - 1s 14ms/step - loss: 0.6156 - Accuracy: 0.7672 - false_negatives: 101.0000 - false_positives: 53.0000 - true_negatives: 991.0000 - true_positives: 247.0000 - val_loss: 0.9549 - val_Accuracy: 0.6932 - val_false_negatives: 31.0000 - val_false_positives: 24.0000 - val_true_negatives: 240.0000 - val_true_positives: 57.0000\n",
            "Epoch 36/200\n",
            "44/44 [==============================] - 1s 14ms/step - loss: 0.6080 - Accuracy: 0.7471 - false_negatives: 100.0000 - false_positives: 65.0000 - true_negatives: 979.0000 - true_positives: 248.0000 - val_loss: 0.7537 - val_Accuracy: 0.7500 - val_false_negatives: 25.0000 - val_false_positives: 15.0000 - val_true_negatives: 249.0000 - val_true_positives: 63.0000\n",
            "Epoch 37/200\n",
            "44/44 [==============================] - 1s 15ms/step - loss: 0.5881 - Accuracy: 0.7672 - false_negatives: 95.0000 - false_positives: 62.0000 - true_negatives: 982.0000 - true_positives: 253.0000 - val_loss: 0.8360 - val_Accuracy: 0.7500 - val_false_negatives: 23.0000 - val_false_positives: 19.0000 - val_true_negatives: 245.0000 - val_true_positives: 65.0000\n",
            "Epoch 38/200\n",
            "44/44 [==============================] - 1s 14ms/step - loss: 0.5978 - Accuracy: 0.7845 - false_negatives: 88.0000 - false_positives: 59.0000 - true_negatives: 985.0000 - true_positives: 260.0000 - val_loss: 0.8621 - val_Accuracy: 0.7273 - val_false_negatives: 26.0000 - val_false_positives: 21.0000 - val_true_negatives: 243.0000 - val_true_positives: 62.0000\n",
            "Epoch 39/200\n",
            "44/44 [==============================] - 1s 14ms/step - loss: 0.6666 - Accuracy: 0.7500 - false_negatives: 110.0000 - false_positives: 59.0000 - true_negatives: 985.0000 - true_positives: 238.0000 - val_loss: 0.9299 - val_Accuracy: 0.6591 - val_false_negatives: 32.0000 - val_false_positives: 23.0000 - val_true_negatives: 241.0000 - val_true_positives: 56.0000\n",
            "Epoch 40/200\n",
            "44/44 [==============================] - 1s 14ms/step - loss: 0.5606 - Accuracy: 0.7874 - false_negatives: 92.0000 - false_positives: 51.0000 - true_negatives: 993.0000 - true_positives: 256.0000 - val_loss: 0.8034 - val_Accuracy: 0.7159 - val_false_negatives: 29.0000 - val_false_positives: 20.0000 - val_true_negatives: 244.0000 - val_true_positives: 59.0000\n",
            "Epoch 41/200\n",
            "44/44 [==============================] - 1s 15ms/step - loss: 0.5907 - Accuracy: 0.7787 - false_negatives: 95.0000 - false_positives: 54.0000 - true_negatives: 990.0000 - true_positives: 253.0000 - val_loss: 0.8452 - val_Accuracy: 0.7045 - val_false_negatives: 28.0000 - val_false_positives: 24.0000 - val_true_negatives: 240.0000 - val_true_positives: 60.0000\n",
            "Epoch 42/200\n",
            "44/44 [==============================] - 1s 15ms/step - loss: 0.5772 - Accuracy: 0.7701 - false_negatives: 100.0000 - false_positives: 59.0000 - true_negatives: 985.0000 - true_positives: 248.0000 - val_loss: 0.8412 - val_Accuracy: 0.7273 - val_false_negatives: 26.0000 - val_false_positives: 17.0000 - val_true_negatives: 247.0000 - val_true_positives: 62.0000\n",
            "Epoch 43/200\n",
            "44/44 [==============================] - 1s 14ms/step - loss: 0.5613 - Accuracy: 0.7615 - false_negatives: 93.0000 - false_positives: 63.0000 - true_negatives: 981.0000 - true_positives: 255.0000 - val_loss: 0.8910 - val_Accuracy: 0.6705 - val_false_negatives: 33.0000 - val_false_positives: 24.0000 - val_true_negatives: 240.0000 - val_true_positives: 55.0000\n",
            "Epoch 44/200\n",
            "44/44 [==============================] - 1s 14ms/step - loss: 0.6302 - Accuracy: 0.7615 - false_negatives: 94.0000 - false_positives: 61.0000 - true_negatives: 983.0000 - true_positives: 254.0000 - val_loss: 0.8240 - val_Accuracy: 0.7614 - val_false_negatives: 25.0000 - val_false_positives: 18.0000 - val_true_negatives: 246.0000 - val_true_positives: 63.0000\n",
            "Epoch 45/200\n",
            "44/44 [==============================] - 1s 14ms/step - loss: 0.5676 - Accuracy: 0.7730 - false_negatives: 90.0000 - false_positives: 61.0000 - true_negatives: 983.0000 - true_positives: 258.0000 - val_loss: 0.7773 - val_Accuracy: 0.7614 - val_false_negatives: 25.0000 - val_false_positives: 15.0000 - val_true_negatives: 249.0000 - val_true_positives: 63.0000\n",
            "Epoch 46/200\n",
            "44/44 [==============================] - 1s 14ms/step - loss: 0.5818 - Accuracy: 0.7672 - false_negatives: 98.0000 - false_positives: 55.0000 - true_negatives: 989.0000 - true_positives: 250.0000 - val_loss: 0.8154 - val_Accuracy: 0.7045 - val_false_negatives: 29.0000 - val_false_positives: 19.0000 - val_true_negatives: 245.0000 - val_true_positives: 59.0000\n",
            "Epoch 47/200\n",
            "44/44 [==============================] - 1s 14ms/step - loss: 0.5502 - Accuracy: 0.7874 - false_negatives: 88.0000 - false_positives: 58.0000 - true_negatives: 986.0000 - true_positives: 260.0000 - val_loss: 0.8691 - val_Accuracy: 0.7045 - val_false_negatives: 29.0000 - val_false_positives: 21.0000 - val_true_negatives: 243.0000 - val_true_positives: 59.0000\n",
            "Epoch 48/200\n",
            "44/44 [==============================] - 1s 14ms/step - loss: 0.5315 - Accuracy: 0.7759 - false_negatives: 85.0000 - false_positives: 63.0000 - true_negatives: 981.0000 - true_positives: 263.0000 - val_loss: 0.8644 - val_Accuracy: 0.7614 - val_false_negatives: 22.0000 - val_false_positives: 19.0000 - val_true_negatives: 245.0000 - val_true_positives: 66.0000\n",
            "Epoch 49/200\n",
            "44/44 [==============================] - 1s 14ms/step - loss: 0.5705 - Accuracy: 0.7816 - false_negatives: 83.0000 - false_positives: 58.0000 - true_negatives: 986.0000 - true_positives: 265.0000 - val_loss: 0.8421 - val_Accuracy: 0.7159 - val_false_negatives: 27.0000 - val_false_positives: 23.0000 - val_true_negatives: 241.0000 - val_true_positives: 61.0000\n",
            "Epoch 50/200\n",
            "44/44 [==============================] - 1s 14ms/step - loss: 0.5168 - Accuracy: 0.8017 - false_negatives: 85.0000 - false_positives: 48.0000 - true_negatives: 996.0000 - true_positives: 263.0000 - val_loss: 0.7714 - val_Accuracy: 0.7955 - val_false_negatives: 22.0000 - val_false_positives: 17.0000 - val_true_negatives: 247.0000 - val_true_positives: 66.0000\n",
            "Epoch 51/200\n",
            "44/44 [==============================] - 1s 14ms/step - loss: 0.5772 - Accuracy: 0.7672 - false_negatives: 95.0000 - false_positives: 62.0000 - true_negatives: 982.0000 - true_positives: 253.0000 - val_loss: 0.8316 - val_Accuracy: 0.7727 - val_false_negatives: 23.0000 - val_false_positives: 17.0000 - val_true_negatives: 247.0000 - val_true_positives: 65.0000\n",
            "Epoch 52/200\n",
            "44/44 [==============================] - 1s 14ms/step - loss: 0.5874 - Accuracy: 0.7787 - false_negatives: 96.0000 - false_positives: 60.0000 - true_negatives: 984.0000 - true_positives: 252.0000 - val_loss: 0.8170 - val_Accuracy: 0.7727 - val_false_negatives: 23.0000 - val_false_positives: 16.0000 - val_true_negatives: 248.0000 - val_true_positives: 65.0000\n",
            "Epoch 53/200\n",
            "44/44 [==============================] - 1s 14ms/step - loss: 0.5857 - Accuracy: 0.7759 - false_negatives: 92.0000 - false_positives: 64.0000 - true_negatives: 980.0000 - true_positives: 256.0000 - val_loss: 0.7869 - val_Accuracy: 0.7159 - val_false_negatives: 27.0000 - val_false_positives: 18.0000 - val_true_negatives: 246.0000 - val_true_positives: 61.0000\n",
            "Epoch 54/200\n",
            "44/44 [==============================] - 1s 15ms/step - loss: 0.5144 - Accuracy: 0.8017 - false_negatives: 84.0000 - false_positives: 58.0000 - true_negatives: 986.0000 - true_positives: 264.0000 - val_loss: 0.8044 - val_Accuracy: 0.7614 - val_false_negatives: 24.0000 - val_false_positives: 15.0000 - val_true_negatives: 249.0000 - val_true_positives: 64.0000\n",
            "Epoch 55/200\n",
            "44/44 [==============================] - 1s 14ms/step - loss: 0.5669 - Accuracy: 0.7816 - false_negatives: 90.0000 - false_positives: 60.0000 - true_negatives: 984.0000 - true_positives: 258.0000 - val_loss: 0.9243 - val_Accuracy: 0.7045 - val_false_negatives: 32.0000 - val_false_positives: 22.0000 - val_true_negatives: 242.0000 - val_true_positives: 56.0000\n",
            "Epoch 56/200\n",
            "44/44 [==============================] - 1s 14ms/step - loss: 0.5084 - Accuracy: 0.7931 - false_negatives: 81.0000 - false_positives: 56.0000 - true_negatives: 988.0000 - true_positives: 267.0000 - val_loss: 0.9124 - val_Accuracy: 0.7273 - val_false_negatives: 27.0000 - val_false_positives: 20.0000 - val_true_negatives: 244.0000 - val_true_positives: 61.0000\n",
            "Epoch 57/200\n",
            "44/44 [==============================] - 1s 14ms/step - loss: 0.5341 - Accuracy: 0.7960 - false_negatives: 88.0000 - false_positives: 62.0000 - true_negatives: 982.0000 - true_positives: 260.0000 - val_loss: 0.8488 - val_Accuracy: 0.7159 - val_false_negatives: 28.0000 - val_false_positives: 17.0000 - val_true_negatives: 247.0000 - val_true_positives: 60.0000\n",
            "Epoch 58/200\n",
            "44/44 [==============================] - 1s 14ms/step - loss: 0.5554 - Accuracy: 0.8046 - false_negatives: 88.0000 - false_positives: 51.0000 - true_negatives: 993.0000 - true_positives: 260.0000 - val_loss: 0.8923 - val_Accuracy: 0.7386 - val_false_negatives: 31.0000 - val_false_positives: 20.0000 - val_true_negatives: 244.0000 - val_true_positives: 57.0000\n",
            "Epoch 59/200\n",
            "44/44 [==============================] - 1s 14ms/step - loss: 0.5430 - Accuracy: 0.7672 - false_negatives: 92.0000 - false_positives: 66.0000 - true_negatives: 978.0000 - true_positives: 256.0000 - val_loss: 0.7963 - val_Accuracy: 0.7045 - val_false_negatives: 29.0000 - val_false_positives: 18.0000 - val_true_negatives: 246.0000 - val_true_positives: 59.0000\n",
            "Epoch 60/200\n",
            "44/44 [==============================] - 1s 14ms/step - loss: 0.5953 - Accuracy: 0.7787 - false_negatives: 97.0000 - false_positives: 62.0000 - true_negatives: 982.0000 - true_positives: 251.0000 - val_loss: 0.8509 - val_Accuracy: 0.6932 - val_false_negatives: 27.0000 - val_false_positives: 19.0000 - val_true_negatives: 245.0000 - val_true_positives: 61.0000\n",
            "Epoch 61/200\n",
            "44/44 [==============================] - 1s 14ms/step - loss: 0.6002 - Accuracy: 0.7557 - false_negatives: 96.0000 - false_positives: 59.0000 - true_negatives: 985.0000 - true_positives: 252.0000 - val_loss: 0.7259 - val_Accuracy: 0.7500 - val_false_negatives: 23.0000 - val_false_positives: 16.0000 - val_true_negatives: 248.0000 - val_true_positives: 65.0000\n",
            "Epoch 62/200\n",
            "44/44 [==============================] - 1s 14ms/step - loss: 0.5238 - Accuracy: 0.7960 - false_negatives: 88.0000 - false_positives: 54.0000 - true_negatives: 990.0000 - true_positives: 260.0000 - val_loss: 0.8562 - val_Accuracy: 0.7273 - val_false_negatives: 25.0000 - val_false_positives: 20.0000 - val_true_negatives: 244.0000 - val_true_positives: 63.0000\n",
            "Epoch 63/200\n",
            "44/44 [==============================] - 1s 14ms/step - loss: 0.4859 - Accuracy: 0.7960 - false_negatives: 79.0000 - false_positives: 56.0000 - true_negatives: 988.0000 - true_positives: 269.0000 - val_loss: 0.9689 - val_Accuracy: 0.7727 - val_false_negatives: 22.0000 - val_false_positives: 19.0000 - val_true_negatives: 245.0000 - val_true_positives: 66.0000\n",
            "Epoch 64/200\n",
            "44/44 [==============================] - 1s 14ms/step - loss: 0.5560 - Accuracy: 0.8161 - false_negatives: 85.0000 - false_positives: 56.0000 - true_negatives: 988.0000 - true_positives: 263.0000 - val_loss: 0.8206 - val_Accuracy: 0.7386 - val_false_negatives: 23.0000 - val_false_positives: 15.0000 - val_true_negatives: 249.0000 - val_true_positives: 65.0000\n",
            "Epoch 65/200\n",
            "44/44 [==============================] - 1s 14ms/step - loss: 0.4623 - Accuracy: 0.8420 - false_negatives: 72.0000 - false_positives: 44.0000 - true_negatives: 1000.0000 - true_positives: 276.0000 - val_loss: 0.8051 - val_Accuracy: 0.7500 - val_false_negatives: 26.0000 - val_false_positives: 17.0000 - val_true_negatives: 247.0000 - val_true_positives: 62.0000\n",
            "Epoch 66/200\n",
            "44/44 [==============================] - 1s 15ms/step - loss: 0.5500 - Accuracy: 0.7931 - false_negatives: 95.0000 - false_positives: 57.0000 - true_negatives: 987.0000 - true_positives: 253.0000 - val_loss: 0.8286 - val_Accuracy: 0.7614 - val_false_negatives: 23.0000 - val_false_positives: 16.0000 - val_true_negatives: 248.0000 - val_true_positives: 65.0000\n",
            "Epoch 67/200\n",
            "44/44 [==============================] - 1s 14ms/step - loss: 0.4980 - Accuracy: 0.8103 - false_negatives: 72.0000 - false_positives: 55.0000 - true_negatives: 989.0000 - true_positives: 276.0000 - val_loss: 0.8762 - val_Accuracy: 0.7386 - val_false_negatives: 27.0000 - val_false_positives: 21.0000 - val_true_negatives: 243.0000 - val_true_positives: 61.0000\n",
            "Epoch 68/200\n",
            "44/44 [==============================] - 1s 14ms/step - loss: 0.4975 - Accuracy: 0.7931 - false_negatives: 80.0000 - false_positives: 52.0000 - true_negatives: 992.0000 - true_positives: 268.0000 - val_loss: 0.7862 - val_Accuracy: 0.7614 - val_false_negatives: 23.0000 - val_false_positives: 17.0000 - val_true_negatives: 247.0000 - val_true_positives: 65.0000\n",
            "Epoch 69/200\n",
            "44/44 [==============================] - 1s 14ms/step - loss: 0.5690 - Accuracy: 0.7902 - false_negatives: 86.0000 - false_positives: 61.0000 - true_negatives: 983.0000 - true_positives: 262.0000 - val_loss: 0.7656 - val_Accuracy: 0.7727 - val_false_negatives: 22.0000 - val_false_positives: 14.0000 - val_true_negatives: 250.0000 - val_true_positives: 66.0000\n",
            "Epoch 70/200\n",
            "44/44 [==============================] - 1s 14ms/step - loss: 0.5418 - Accuracy: 0.8103 - false_negatives: 75.0000 - false_positives: 54.0000 - true_negatives: 990.0000 - true_positives: 273.0000 - val_loss: 0.8645 - val_Accuracy: 0.7045 - val_false_negatives: 31.0000 - val_false_positives: 21.0000 - val_true_negatives: 243.0000 - val_true_positives: 57.0000\n",
            "Epoch 71/200\n",
            "44/44 [==============================] - 1s 14ms/step - loss: 0.4963 - Accuracy: 0.8017 - false_negatives: 80.0000 - false_positives: 52.0000 - true_negatives: 992.0000 - true_positives: 268.0000 - val_loss: 0.8075 - val_Accuracy: 0.7273 - val_false_negatives: 28.0000 - val_false_positives: 17.0000 - val_true_negatives: 247.0000 - val_true_positives: 60.0000\n",
            "Epoch 72/200\n",
            "44/44 [==============================] - 1s 14ms/step - loss: 0.5007 - Accuracy: 0.8103 - false_negatives: 78.0000 - false_positives: 50.0000 - true_negatives: 994.0000 - true_positives: 270.0000 - val_loss: 0.8582 - val_Accuracy: 0.7045 - val_false_negatives: 28.0000 - val_false_positives: 21.0000 - val_true_negatives: 243.0000 - val_true_positives: 60.0000\n",
            "Epoch 73/200\n",
            "44/44 [==============================] - 1s 14ms/step - loss: 0.4917 - Accuracy: 0.7787 - false_negatives: 83.0000 - false_positives: 60.0000 - true_negatives: 984.0000 - true_positives: 265.0000 - val_loss: 0.7647 - val_Accuracy: 0.7614 - val_false_negatives: 23.0000 - val_false_positives: 12.0000 - val_true_negatives: 252.0000 - val_true_positives: 65.0000\n",
            "Epoch 74/200\n",
            "44/44 [==============================] - 1s 15ms/step - loss: 0.4443 - Accuracy: 0.8362 - false_negatives: 69.0000 - false_positives: 45.0000 - true_negatives: 999.0000 - true_positives: 279.0000 - val_loss: 0.8072 - val_Accuracy: 0.7273 - val_false_negatives: 27.0000 - val_false_positives: 17.0000 - val_true_negatives: 247.0000 - val_true_positives: 61.0000\n",
            "Epoch 75/200\n",
            "44/44 [==============================] - 1s 15ms/step - loss: 0.4833 - Accuracy: 0.8075 - false_negatives: 79.0000 - false_positives: 52.0000 - true_negatives: 992.0000 - true_positives: 269.0000 - val_loss: 0.8904 - val_Accuracy: 0.7273 - val_false_negatives: 26.0000 - val_false_positives: 19.0000 - val_true_negatives: 245.0000 - val_true_positives: 62.0000\n",
            "Epoch 76/200\n",
            "44/44 [==============================] - 1s 14ms/step - loss: 0.4973 - Accuracy: 0.8276 - false_negatives: 82.0000 - false_positives: 51.0000 - true_negatives: 993.0000 - true_positives: 266.0000 - val_loss: 0.8051 - val_Accuracy: 0.7273 - val_false_negatives: 24.0000 - val_false_positives: 16.0000 - val_true_negatives: 248.0000 - val_true_positives: 64.0000\n",
            "Epoch 77/200\n",
            "44/44 [==============================] - 1s 14ms/step - loss: 0.4970 - Accuracy: 0.7989 - false_negatives: 79.0000 - false_positives: 55.0000 - true_negatives: 989.0000 - true_positives: 269.0000 - val_loss: 0.8155 - val_Accuracy: 0.7614 - val_false_negatives: 21.0000 - val_false_positives: 17.0000 - val_true_negatives: 247.0000 - val_true_positives: 67.0000\n",
            "Epoch 78/200\n",
            "44/44 [==============================] - 1s 15ms/step - loss: 0.4915 - Accuracy: 0.8017 - false_negatives: 79.0000 - false_positives: 58.0000 - true_negatives: 986.0000 - true_positives: 269.0000 - val_loss: 0.8630 - val_Accuracy: 0.7614 - val_false_negatives: 24.0000 - val_false_positives: 16.0000 - val_true_negatives: 248.0000 - val_true_positives: 64.0000\n",
            "Epoch 79/200\n",
            "44/44 [==============================] - 1s 15ms/step - loss: 0.4474 - Accuracy: 0.8276 - false_negatives: 69.0000 - false_positives: 48.0000 - true_negatives: 996.0000 - true_positives: 279.0000 - val_loss: 0.8538 - val_Accuracy: 0.7614 - val_false_negatives: 22.0000 - val_false_positives: 16.0000 - val_true_negatives: 248.0000 - val_true_positives: 66.0000\n",
            "Epoch 80/200\n",
            "44/44 [==============================] - 1s 14ms/step - loss: 0.4465 - Accuracy: 0.8161 - false_negatives: 74.0000 - false_positives: 52.0000 - true_negatives: 992.0000 - true_positives: 274.0000 - val_loss: 0.8341 - val_Accuracy: 0.7614 - val_false_negatives: 26.0000 - val_false_positives: 17.0000 - val_true_negatives: 247.0000 - val_true_positives: 62.0000\n",
            "Epoch 81/200\n",
            "44/44 [==============================] - 1s 14ms/step - loss: 0.4695 - Accuracy: 0.8103 - false_negatives: 78.0000 - false_positives: 50.0000 - true_negatives: 994.0000 - true_positives: 270.0000 - val_loss: 0.8308 - val_Accuracy: 0.7045 - val_false_negatives: 29.0000 - val_false_positives: 19.0000 - val_true_negatives: 245.0000 - val_true_positives: 59.0000\n",
            "Epoch 82/200\n",
            "44/44 [==============================] - 1s 15ms/step - loss: 0.4381 - Accuracy: 0.8218 - false_negatives: 67.0000 - false_positives: 51.0000 - true_negatives: 993.0000 - true_positives: 281.0000 - val_loss: 1.0098 - val_Accuracy: 0.7273 - val_false_negatives: 27.0000 - val_false_positives: 20.0000 - val_true_negatives: 244.0000 - val_true_positives: 61.0000\n",
            "Epoch 83/200\n",
            "44/44 [==============================] - 1s 14ms/step - loss: 0.4650 - Accuracy: 0.8247 - false_negatives: 75.0000 - false_positives: 47.0000 - true_negatives: 997.0000 - true_positives: 273.0000 - val_loss: 0.9239 - val_Accuracy: 0.7500 - val_false_negatives: 23.0000 - val_false_positives: 19.0000 - val_true_negatives: 245.0000 - val_true_positives: 65.0000\n",
            "Epoch 84/200\n",
            "44/44 [==============================] - 1s 14ms/step - loss: 0.4517 - Accuracy: 0.8046 - false_negatives: 79.0000 - false_positives: 47.0000 - true_negatives: 997.0000 - true_positives: 269.0000 - val_loss: 0.8715 - val_Accuracy: 0.7386 - val_false_negatives: 24.0000 - val_false_positives: 19.0000 - val_true_negatives: 245.0000 - val_true_positives: 64.0000\n",
            "Epoch 85/200\n",
            "44/44 [==============================] - 1s 14ms/step - loss: 0.4974 - Accuracy: 0.8161 - false_negatives: 74.0000 - false_positives: 53.0000 - true_negatives: 991.0000 - true_positives: 274.0000 - val_loss: 0.9106 - val_Accuracy: 0.7386 - val_false_negatives: 27.0000 - val_false_positives: 18.0000 - val_true_negatives: 246.0000 - val_true_positives: 61.0000\n",
            "Epoch 86/200\n",
            "44/44 [==============================] - 1s 14ms/step - loss: 0.4248 - Accuracy: 0.8276 - false_negatives: 77.0000 - false_positives: 48.0000 - true_negatives: 996.0000 - true_positives: 271.0000 - val_loss: 0.9211 - val_Accuracy: 0.7045 - val_false_negatives: 29.0000 - val_false_positives: 21.0000 - val_true_negatives: 243.0000 - val_true_positives: 59.0000\n",
            "Epoch 87/200\n",
            "44/44 [==============================] - 1s 15ms/step - loss: 0.4178 - Accuracy: 0.8247 - false_negatives: 66.0000 - false_positives: 51.0000 - true_negatives: 993.0000 - true_positives: 282.0000 - val_loss: 0.9557 - val_Accuracy: 0.6818 - val_false_negatives: 28.0000 - val_false_positives: 21.0000 - val_true_negatives: 243.0000 - val_true_positives: 60.0000\n",
            "Epoch 88/200\n",
            "44/44 [==============================] - 1s 15ms/step - loss: 0.4180 - Accuracy: 0.8276 - false_negatives: 69.0000 - false_positives: 45.0000 - true_negatives: 999.0000 - true_positives: 279.0000 - val_loss: 0.8840 - val_Accuracy: 0.7614 - val_false_negatives: 24.0000 - val_false_positives: 18.0000 - val_true_negatives: 246.0000 - val_true_positives: 64.0000\n",
            "Epoch 89/200\n",
            "44/44 [==============================] - 1s 15ms/step - loss: 0.4483 - Accuracy: 0.8276 - false_negatives: 70.0000 - false_positives: 53.0000 - true_negatives: 991.0000 - true_positives: 278.0000 - val_loss: 0.8479 - val_Accuracy: 0.7273 - val_false_negatives: 26.0000 - val_false_positives: 22.0000 - val_true_negatives: 242.0000 - val_true_positives: 62.0000\n",
            "Epoch 90/200\n",
            "44/44 [==============================] - 1s 15ms/step - loss: 0.4338 - Accuracy: 0.8218 - false_negatives: 70.0000 - false_positives: 47.0000 - true_negatives: 997.0000 - true_positives: 278.0000 - val_loss: 1.1259 - val_Accuracy: 0.6818 - val_false_negatives: 32.0000 - val_false_positives: 23.0000 - val_true_negatives: 241.0000 - val_true_positives: 56.0000\n",
            "Epoch 91/200\n",
            "44/44 [==============================] - 1s 14ms/step - loss: 0.4310 - Accuracy: 0.8305 - false_negatives: 66.0000 - false_positives: 45.0000 - true_negatives: 999.0000 - true_positives: 282.0000 - val_loss: 0.7896 - val_Accuracy: 0.7614 - val_false_negatives: 25.0000 - val_false_positives: 19.0000 - val_true_negatives: 245.0000 - val_true_positives: 63.0000\n",
            "Epoch 92/200\n",
            "44/44 [==============================] - 1s 14ms/step - loss: 0.4959 - Accuracy: 0.8218 - false_negatives: 72.0000 - false_positives: 50.0000 - true_negatives: 994.0000 - true_positives: 276.0000 - val_loss: 0.8769 - val_Accuracy: 0.7045 - val_false_negatives: 27.0000 - val_false_positives: 20.0000 - val_true_negatives: 244.0000 - val_true_positives: 61.0000\n",
            "Epoch 93/200\n",
            "44/44 [==============================] - 1s 14ms/step - loss: 0.4559 - Accuracy: 0.8305 - false_negatives: 67.0000 - false_positives: 48.0000 - true_negatives: 996.0000 - true_positives: 281.0000 - val_loss: 0.8902 - val_Accuracy: 0.7273 - val_false_negatives: 25.0000 - val_false_positives: 19.0000 - val_true_negatives: 245.0000 - val_true_positives: 63.0000\n",
            "Epoch 94/200\n",
            "44/44 [==============================] - 1s 14ms/step - loss: 0.4019 - Accuracy: 0.8534 - false_negatives: 56.0000 - false_positives: 46.0000 - true_negatives: 998.0000 - true_positives: 292.0000 - val_loss: 0.8317 - val_Accuracy: 0.7727 - val_false_negatives: 21.0000 - val_false_positives: 18.0000 - val_true_negatives: 246.0000 - val_true_positives: 67.0000\n",
            "Epoch 95/200\n",
            "44/44 [==============================] - 1s 14ms/step - loss: 0.4201 - Accuracy: 0.8448 - false_negatives: 60.0000 - false_positives: 43.0000 - true_negatives: 1001.0000 - true_positives: 288.0000 - val_loss: 0.9745 - val_Accuracy: 0.7045 - val_false_negatives: 31.0000 - val_false_positives: 19.0000 - val_true_negatives: 245.0000 - val_true_positives: 57.0000\n",
            "Epoch 96/200\n",
            "44/44 [==============================] - 1s 15ms/step - loss: 0.4315 - Accuracy: 0.8506 - false_negatives: 59.0000 - false_positives: 46.0000 - true_negatives: 998.0000 - true_positives: 289.0000 - val_loss: 0.9337 - val_Accuracy: 0.7159 - val_false_negatives: 28.0000 - val_false_positives: 20.0000 - val_true_negatives: 244.0000 - val_true_positives: 60.0000\n",
            "Epoch 97/200\n",
            "44/44 [==============================] - 1s 15ms/step - loss: 0.3978 - Accuracy: 0.8477 - false_negatives: 67.0000 - false_positives: 39.0000 - true_negatives: 1005.0000 - true_positives: 281.0000 - val_loss: 0.9758 - val_Accuracy: 0.7500 - val_false_negatives: 23.0000 - val_false_positives: 18.0000 - val_true_negatives: 246.0000 - val_true_positives: 65.0000\n",
            "Epoch 98/200\n",
            "44/44 [==============================] - 1s 15ms/step - loss: 0.3645 - Accuracy: 0.8506 - false_negatives: 60.0000 - false_positives: 48.0000 - true_negatives: 996.0000 - true_positives: 288.0000 - val_loss: 1.1019 - val_Accuracy: 0.7045 - val_false_negatives: 27.0000 - val_false_positives: 23.0000 - val_true_negatives: 241.0000 - val_true_positives: 61.0000\n",
            "Epoch 99/200\n",
            "44/44 [==============================] - 1s 15ms/step - loss: 0.3713 - Accuracy: 0.8362 - false_negatives: 61.0000 - false_positives: 45.0000 - true_negatives: 999.0000 - true_positives: 287.0000 - val_loss: 1.1786 - val_Accuracy: 0.6932 - val_false_negatives: 29.0000 - val_false_positives: 25.0000 - val_true_negatives: 239.0000 - val_true_positives: 59.0000\n",
            "Epoch 100/200\n",
            "44/44 [==============================] - 1s 15ms/step - loss: 0.4017 - Accuracy: 0.8563 - false_negatives: 55.0000 - false_positives: 47.0000 - true_negatives: 997.0000 - true_positives: 293.0000 - val_loss: 0.9628 - val_Accuracy: 0.7273 - val_false_negatives: 27.0000 - val_false_positives: 20.0000 - val_true_negatives: 244.0000 - val_true_positives: 61.0000\n",
            "Epoch 101/200\n",
            "44/44 [==============================] - 1s 15ms/step - loss: 0.3634 - Accuracy: 0.8793 - false_negatives: 52.0000 - false_positives: 38.0000 - true_negatives: 1006.0000 - true_positives: 296.0000 - val_loss: 0.9734 - val_Accuracy: 0.7159 - val_false_negatives: 27.0000 - val_false_positives: 22.0000 - val_true_negatives: 242.0000 - val_true_positives: 61.0000\n",
            "Epoch 102/200\n",
            "44/44 [==============================] - 1s 15ms/step - loss: 0.3672 - Accuracy: 0.8477 - false_negatives: 58.0000 - false_positives: 46.0000 - true_negatives: 998.0000 - true_positives: 290.0000 - val_loss: 1.0789 - val_Accuracy: 0.7159 - val_false_negatives: 28.0000 - val_false_positives: 22.0000 - val_true_negatives: 242.0000 - val_true_positives: 60.0000\n",
            "Epoch 103/200\n",
            "44/44 [==============================] - 1s 15ms/step - loss: 0.4507 - Accuracy: 0.8305 - false_negatives: 65.0000 - false_positives: 54.0000 - true_negatives: 990.0000 - true_positives: 283.0000 - val_loss: 1.0745 - val_Accuracy: 0.7500 - val_false_negatives: 27.0000 - val_false_positives: 21.0000 - val_true_negatives: 243.0000 - val_true_positives: 61.0000\n",
            "Epoch 104/200\n",
            "44/44 [==============================] - 1s 15ms/step - loss: 0.4609 - Accuracy: 0.8276 - false_negatives: 67.0000 - false_positives: 47.0000 - true_negatives: 997.0000 - true_positives: 281.0000 - val_loss: 0.9748 - val_Accuracy: 0.7273 - val_false_negatives: 26.0000 - val_false_positives: 21.0000 - val_true_negatives: 243.0000 - val_true_positives: 62.0000\n",
            "Epoch 105/200\n",
            "44/44 [==============================] - 1s 15ms/step - loss: 0.3605 - Accuracy: 0.8678 - false_negatives: 53.0000 - false_positives: 40.0000 - true_negatives: 1004.0000 - true_positives: 295.0000 - val_loss: 1.1089 - val_Accuracy: 0.6932 - val_false_negatives: 27.0000 - val_false_positives: 25.0000 - val_true_negatives: 239.0000 - val_true_positives: 61.0000\n",
            "Epoch 106/200\n",
            "44/44 [==============================] - 1s 15ms/step - loss: 0.3554 - Accuracy: 0.8563 - false_negatives: 59.0000 - false_positives: 41.0000 - true_negatives: 1003.0000 - true_positives: 289.0000 - val_loss: 1.0992 - val_Accuracy: 0.6932 - val_false_negatives: 27.0000 - val_false_positives: 24.0000 - val_true_negatives: 240.0000 - val_true_positives: 61.0000\n",
            "Epoch 107/200\n",
            "44/44 [==============================] - 1s 15ms/step - loss: 0.3754 - Accuracy: 0.8391 - false_negatives: 63.0000 - false_positives: 49.0000 - true_negatives: 995.0000 - true_positives: 285.0000 - val_loss: 0.9818 - val_Accuracy: 0.7273 - val_false_negatives: 26.0000 - val_false_positives: 19.0000 - val_true_negatives: 245.0000 - val_true_positives: 62.0000\n",
            "Epoch 108/200\n",
            "44/44 [==============================] - 1s 15ms/step - loss: 0.3945 - Accuracy: 0.8305 - false_negatives: 68.0000 - false_positives: 52.0000 - true_negatives: 992.0000 - true_positives: 280.0000 - val_loss: 1.0390 - val_Accuracy: 0.7273 - val_false_negatives: 24.0000 - val_false_positives: 23.0000 - val_true_negatives: 241.0000 - val_true_positives: 64.0000\n",
            "Epoch 109/200\n",
            "44/44 [==============================] - 1s 15ms/step - loss: 0.3668 - Accuracy: 0.8621 - false_negatives: 61.0000 - false_positives: 37.0000 - true_negatives: 1007.0000 - true_positives: 287.0000 - val_loss: 1.0288 - val_Accuracy: 0.6932 - val_false_negatives: 28.0000 - val_false_positives: 25.0000 - val_true_negatives: 239.0000 - val_true_positives: 60.0000\n",
            "Epoch 110/200\n",
            "44/44 [==============================] - 1s 15ms/step - loss: 0.3388 - Accuracy: 0.8621 - false_negatives: 58.0000 - false_positives: 41.0000 - true_negatives: 1003.0000 - true_positives: 290.0000 - val_loss: 0.9244 - val_Accuracy: 0.7500 - val_false_negatives: 24.0000 - val_false_positives: 19.0000 - val_true_negatives: 245.0000 - val_true_positives: 64.0000\n",
            "Epoch 111/200\n",
            "44/44 [==============================] - 1s 15ms/step - loss: 0.3606 - Accuracy: 0.8420 - false_negatives: 57.0000 - false_positives: 44.0000 - true_negatives: 1000.0000 - true_positives: 291.0000 - val_loss: 0.8621 - val_Accuracy: 0.7955 - val_false_negatives: 24.0000 - val_false_positives: 15.0000 - val_true_negatives: 249.0000 - val_true_positives: 64.0000\n",
            "Epoch 112/200\n",
            "44/44 [==============================] - 1s 15ms/step - loss: 0.3442 - Accuracy: 0.8736 - false_negatives: 54.0000 - false_positives: 36.0000 - true_negatives: 1008.0000 - true_positives: 294.0000 - val_loss: 0.9734 - val_Accuracy: 0.7159 - val_false_negatives: 26.0000 - val_false_positives: 23.0000 - val_true_negatives: 241.0000 - val_true_positives: 62.0000\n",
            "Epoch 113/200\n",
            "44/44 [==============================] - 1s 15ms/step - loss: 0.3384 - Accuracy: 0.8707 - false_negatives: 56.0000 - false_positives: 37.0000 - true_negatives: 1007.0000 - true_positives: 292.0000 - val_loss: 1.0852 - val_Accuracy: 0.7386 - val_false_negatives: 25.0000 - val_false_positives: 22.0000 - val_true_negatives: 242.0000 - val_true_positives: 63.0000\n",
            "Epoch 114/200\n",
            "44/44 [==============================] - 1s 15ms/step - loss: 0.4320 - Accuracy: 0.8218 - false_negatives: 71.0000 - false_positives: 50.0000 - true_negatives: 994.0000 - true_positives: 277.0000 - val_loss: 1.0819 - val_Accuracy: 0.7273 - val_false_negatives: 25.0000 - val_false_positives: 20.0000 - val_true_negatives: 244.0000 - val_true_positives: 63.0000\n",
            "Epoch 115/200\n",
            "44/44 [==============================] - 1s 15ms/step - loss: 0.3165 - Accuracy: 0.8822 - false_negatives: 48.0000 - false_positives: 34.0000 - true_negatives: 1010.0000 - true_positives: 300.0000 - val_loss: 1.2245 - val_Accuracy: 0.6932 - val_false_negatives: 27.0000 - val_false_positives: 24.0000 - val_true_negatives: 240.0000 - val_true_positives: 61.0000\n",
            "Epoch 116/200\n",
            "44/44 [==============================] - 1s 15ms/step - loss: 0.3735 - Accuracy: 0.8621 - false_negatives: 55.0000 - false_positives: 44.0000 - true_negatives: 1000.0000 - true_positives: 293.0000 - val_loss: 1.2960 - val_Accuracy: 0.7045 - val_false_negatives: 28.0000 - val_false_positives: 24.0000 - val_true_negatives: 240.0000 - val_true_positives: 60.0000\n",
            "Epoch 117/200\n",
            "44/44 [==============================] - 1s 15ms/step - loss: 0.3066 - Accuracy: 0.8937 - false_negatives: 47.0000 - false_positives: 30.0000 - true_negatives: 1014.0000 - true_positives: 301.0000 - val_loss: 1.1287 - val_Accuracy: 0.7614 - val_false_negatives: 22.0000 - val_false_positives: 19.0000 - val_true_negatives: 245.0000 - val_true_positives: 66.0000\n",
            "Epoch 118/200\n",
            "44/44 [==============================] - 1s 15ms/step - loss: 0.4000 - Accuracy: 0.8391 - false_negatives: 64.0000 - false_positives: 48.0000 - true_negatives: 996.0000 - true_positives: 284.0000 - val_loss: 1.2889 - val_Accuracy: 0.7045 - val_false_negatives: 27.0000 - val_false_positives: 23.0000 - val_true_negatives: 241.0000 - val_true_positives: 61.0000\n",
            "Epoch 119/200\n",
            "44/44 [==============================] - 1s 15ms/step - loss: 0.3228 - Accuracy: 0.8851 - false_negatives: 48.0000 - false_positives: 32.0000 - true_negatives: 1012.0000 - true_positives: 300.0000 - val_loss: 1.0537 - val_Accuracy: 0.6932 - val_false_negatives: 30.0000 - val_false_positives: 23.0000 - val_true_negatives: 241.0000 - val_true_positives: 58.0000\n",
            "Epoch 120/200\n",
            "44/44 [==============================] - 1s 15ms/step - loss: 0.3350 - Accuracy: 0.8937 - false_negatives: 42.0000 - false_positives: 33.0000 - true_negatives: 1011.0000 - true_positives: 306.0000 - val_loss: 1.2053 - val_Accuracy: 0.7045 - val_false_negatives: 28.0000 - val_false_positives: 23.0000 - val_true_negatives: 241.0000 - val_true_positives: 60.0000\n",
            "Epoch 121/200\n",
            "44/44 [==============================] - 1s 16ms/step - loss: 0.3706 - Accuracy: 0.8420 - false_negatives: 61.0000 - false_positives: 43.0000 - true_negatives: 1001.0000 - true_positives: 287.0000 - val_loss: 1.1570 - val_Accuracy: 0.7045 - val_false_negatives: 28.0000 - val_false_positives: 22.0000 - val_true_negatives: 242.0000 - val_true_positives: 60.0000\n",
            "Epoch 122/200\n",
            "44/44 [==============================] - 1s 16ms/step - loss: 0.3568 - Accuracy: 0.8764 - false_negatives: 50.0000 - false_positives: 35.0000 - true_negatives: 1009.0000 - true_positives: 298.0000 - val_loss: 1.1891 - val_Accuracy: 0.7045 - val_false_negatives: 26.0000 - val_false_positives: 24.0000 - val_true_negatives: 240.0000 - val_true_positives: 62.0000\n",
            "Epoch 123/200\n",
            "44/44 [==============================] - 1s 15ms/step - loss: 0.3274 - Accuracy: 0.8563 - false_negatives: 56.0000 - false_positives: 41.0000 - true_negatives: 1003.0000 - true_positives: 292.0000 - val_loss: 1.2743 - val_Accuracy: 0.6932 - val_false_negatives: 28.0000 - val_false_positives: 25.0000 - val_true_negatives: 239.0000 - val_true_positives: 60.0000\n",
            "Epoch 124/200\n",
            "44/44 [==============================] - 1s 15ms/step - loss: 0.4547 - Accuracy: 0.8132 - false_negatives: 74.0000 - false_positives: 54.0000 - true_negatives: 990.0000 - true_positives: 274.0000 - val_loss: 1.1017 - val_Accuracy: 0.7386 - val_false_negatives: 24.0000 - val_false_positives: 19.0000 - val_true_negatives: 245.0000 - val_true_positives: 64.0000\n",
            "Epoch 125/200\n",
            "44/44 [==============================] - 1s 15ms/step - loss: 0.3548 - Accuracy: 0.8793 - false_negatives: 54.0000 - false_positives: 33.0000 - true_negatives: 1011.0000 - true_positives: 294.0000 - val_loss: 1.0945 - val_Accuracy: 0.7273 - val_false_negatives: 26.0000 - val_false_positives: 24.0000 - val_true_negatives: 240.0000 - val_true_positives: 62.0000\n",
            "Epoch 126/200\n",
            "44/44 [==============================] - 1s 16ms/step - loss: 0.3396 - Accuracy: 0.8736 - false_negatives: 49.0000 - false_positives: 40.0000 - true_negatives: 1004.0000 - true_positives: 299.0000 - val_loss: 1.1704 - val_Accuracy: 0.6818 - val_false_negatives: 29.0000 - val_false_positives: 26.0000 - val_true_negatives: 238.0000 - val_true_positives: 59.0000\n",
            "Epoch 127/200\n",
            "44/44 [==============================] - 1s 15ms/step - loss: 0.3123 - Accuracy: 0.8736 - false_negatives: 47.0000 - false_positives: 38.0000 - true_negatives: 1006.0000 - true_positives: 301.0000 - val_loss: 1.3249 - val_Accuracy: 0.6364 - val_false_negatives: 33.0000 - val_false_positives: 29.0000 - val_true_negatives: 235.0000 - val_true_positives: 55.0000\n",
            "Epoch 128/200\n",
            "44/44 [==============================] - 1s 15ms/step - loss: 0.3948 - Accuracy: 0.8333 - false_negatives: 65.0000 - false_positives: 50.0000 - true_negatives: 994.0000 - true_positives: 283.0000 - val_loss: 1.3070 - val_Accuracy: 0.6818 - val_false_negatives: 30.0000 - val_false_positives: 27.0000 - val_true_negatives: 237.0000 - val_true_positives: 58.0000\n",
            "Epoch 129/200\n",
            "44/44 [==============================] - 1s 15ms/step - loss: 0.3139 - Accuracy: 0.8736 - false_negatives: 49.0000 - false_positives: 37.0000 - true_negatives: 1007.0000 - true_positives: 299.0000 - val_loss: 1.3282 - val_Accuracy: 0.6932 - val_false_negatives: 28.0000 - val_false_positives: 23.0000 - val_true_negatives: 241.0000 - val_true_positives: 60.0000\n",
            "Epoch 130/200\n",
            "44/44 [==============================] - 1s 15ms/step - loss: 0.3747 - Accuracy: 0.8636 - false_negatives: 56.0000 - false_positives: 42.0000 - true_negatives: 1014.0000 - true_positives: 296.0000 - val_loss: 1.1966 - val_Accuracy: 0.6932 - val_false_negatives: 30.0000 - val_false_positives: 24.0000 - val_true_negatives: 240.0000 - val_true_positives: 58.0000\n",
            "Epoch 131/200\n",
            "44/44 [==============================] - 1s 15ms/step - loss: 0.3206 - Accuracy: 0.8736 - false_negatives: 50.0000 - false_positives: 42.0000 - true_negatives: 1002.0000 - true_positives: 298.0000 - val_loss: 1.0776 - val_Accuracy: 0.7159 - val_false_negatives: 25.0000 - val_false_positives: 23.0000 - val_true_negatives: 241.0000 - val_true_positives: 63.0000\n",
            "Epoch 132/200\n",
            "44/44 [==============================] - 1s 15ms/step - loss: 0.2825 - Accuracy: 0.9023 - false_negatives: 39.0000 - false_positives: 28.0000 - true_negatives: 1016.0000 - true_positives: 309.0000 - val_loss: 1.1930 - val_Accuracy: 0.6818 - val_false_negatives: 28.0000 - val_false_positives: 28.0000 - val_true_negatives: 236.0000 - val_true_positives: 60.0000\n",
            "Epoch 133/200\n",
            "44/44 [==============================] - 1s 15ms/step - loss: 0.3491 - Accuracy: 0.8678 - false_negatives: 54.0000 - false_positives: 38.0000 - true_negatives: 1006.0000 - true_positives: 294.0000 - val_loss: 1.3984 - val_Accuracy: 0.7159 - val_false_negatives: 25.0000 - val_false_positives: 25.0000 - val_true_negatives: 239.0000 - val_true_positives: 63.0000\n",
            "Epoch 134/200\n",
            "44/44 [==============================] - 1s 15ms/step - loss: 0.2781 - Accuracy: 0.8879 - false_negatives: 45.0000 - false_positives: 35.0000 - true_negatives: 1009.0000 - true_positives: 303.0000 - val_loss: 1.4992 - val_Accuracy: 0.6818 - val_false_negatives: 29.0000 - val_false_positives: 27.0000 - val_true_negatives: 237.0000 - val_true_positives: 59.0000\n",
            "Epoch 135/200\n",
            "44/44 [==============================] - 1s 15ms/step - loss: 0.3037 - Accuracy: 0.8736 - false_negatives: 51.0000 - false_positives: 34.0000 - true_negatives: 1010.0000 - true_positives: 297.0000 - val_loss: 1.2387 - val_Accuracy: 0.7273 - val_false_negatives: 26.0000 - val_false_positives: 24.0000 - val_true_negatives: 240.0000 - val_true_positives: 62.0000\n",
            "Epoch 136/200\n",
            "44/44 [==============================] - 1s 16ms/step - loss: 0.2892 - Accuracy: 0.8879 - false_negatives: 46.0000 - false_positives: 32.0000 - true_negatives: 1012.0000 - true_positives: 302.0000 - val_loss: 1.3399 - val_Accuracy: 0.7159 - val_false_negatives: 26.0000 - val_false_positives: 25.0000 - val_true_negatives: 239.0000 - val_true_positives: 62.0000\n",
            "Epoch 137/200\n",
            "44/44 [==============================] - 1s 17ms/step - loss: 0.2925 - Accuracy: 0.8851 - false_negatives: 45.0000 - false_positives: 34.0000 - true_negatives: 1010.0000 - true_positives: 303.0000 - val_loss: 1.4890 - val_Accuracy: 0.6932 - val_false_negatives: 28.0000 - val_false_positives: 26.0000 - val_true_negatives: 238.0000 - val_true_positives: 60.0000\n",
            "Epoch 138/200\n",
            "44/44 [==============================] - 1s 15ms/step - loss: 0.2486 - Accuracy: 0.8822 - false_negatives: 44.0000 - false_positives: 35.0000 - true_negatives: 1009.0000 - true_positives: 304.0000 - val_loss: 1.3401 - val_Accuracy: 0.7045 - val_false_negatives: 26.0000 - val_false_positives: 26.0000 - val_true_negatives: 238.0000 - val_true_positives: 62.0000\n",
            "Epoch 139/200\n",
            "44/44 [==============================] - 1s 16ms/step - loss: 0.3047 - Accuracy: 0.8822 - false_negatives: 42.0000 - false_positives: 36.0000 - true_negatives: 1008.0000 - true_positives: 306.0000 - val_loss: 1.3074 - val_Accuracy: 0.7159 - val_false_negatives: 27.0000 - val_false_positives: 25.0000 - val_true_negatives: 239.0000 - val_true_positives: 61.0000\n",
            "Epoch 140/200\n",
            "44/44 [==============================] - 1s 15ms/step - loss: 0.2961 - Accuracy: 0.8966 - false_negatives: 44.0000 - false_positives: 28.0000 - true_negatives: 1016.0000 - true_positives: 304.0000 - val_loss: 1.5456 - val_Accuracy: 0.6818 - val_false_negatives: 28.0000 - val_false_positives: 27.0000 - val_true_negatives: 237.0000 - val_true_positives: 60.0000\n",
            "Epoch 141/200\n",
            "44/44 [==============================] - 1s 15ms/step - loss: 0.3185 - Accuracy: 0.8937 - false_negatives: 42.0000 - false_positives: 34.0000 - true_negatives: 1010.0000 - true_positives: 306.0000 - val_loss: 1.2980 - val_Accuracy: 0.7159 - val_false_negatives: 25.0000 - val_false_positives: 23.0000 - val_true_negatives: 241.0000 - val_true_positives: 63.0000\n",
            "Epoch 142/200\n",
            "44/44 [==============================] - 1s 15ms/step - loss: 0.3000 - Accuracy: 0.8736 - false_negatives: 48.0000 - false_positives: 40.0000 - true_negatives: 1004.0000 - true_positives: 300.0000 - val_loss: 1.1833 - val_Accuracy: 0.6932 - val_false_negatives: 27.0000 - val_false_positives: 27.0000 - val_true_negatives: 237.0000 - val_true_positives: 61.0000\n",
            "Epoch 143/200\n",
            "44/44 [==============================] - 1s 15ms/step - loss: 0.2972 - Accuracy: 0.8966 - false_negatives: 39.0000 - false_positives: 34.0000 - true_negatives: 1010.0000 - true_positives: 309.0000 - val_loss: 1.3197 - val_Accuracy: 0.7159 - val_false_negatives: 25.0000 - val_false_positives: 25.0000 - val_true_negatives: 239.0000 - val_true_positives: 63.0000\n",
            "Epoch 144/200\n",
            "44/44 [==============================] - 1s 15ms/step - loss: 0.2466 - Accuracy: 0.9224 - false_negatives: 31.0000 - false_positives: 25.0000 - true_negatives: 1019.0000 - true_positives: 317.0000 - val_loss: 1.5423 - val_Accuracy: 0.7045 - val_false_negatives: 27.0000 - val_false_positives: 23.0000 - val_true_negatives: 241.0000 - val_true_positives: 61.0000\n",
            "Epoch 145/200\n",
            "44/44 [==============================] - 1s 15ms/step - loss: 0.2451 - Accuracy: 0.9167 - false_negatives: 33.0000 - false_positives: 29.0000 - true_negatives: 1015.0000 - true_positives: 315.0000 - val_loss: 1.2889 - val_Accuracy: 0.7386 - val_false_negatives: 23.0000 - val_false_positives: 23.0000 - val_true_negatives: 241.0000 - val_true_positives: 65.0000\n",
            "Epoch 146/200\n",
            "44/44 [==============================] - 1s 16ms/step - loss: 0.2473 - Accuracy: 0.8994 - false_negatives: 39.0000 - false_positives: 31.0000 - true_negatives: 1013.0000 - true_positives: 309.0000 - val_loss: 1.7608 - val_Accuracy: 0.6477 - val_false_negatives: 32.0000 - val_false_positives: 31.0000 - val_true_negatives: 233.0000 - val_true_positives: 56.0000\n",
            "Epoch 147/200\n",
            "44/44 [==============================] - 1s 15ms/step - loss: 0.3786 - Accuracy: 0.8563 - false_negatives: 57.0000 - false_positives: 42.0000 - true_negatives: 1002.0000 - true_positives: 291.0000 - val_loss: 1.2794 - val_Accuracy: 0.7273 - val_false_negatives: 24.0000 - val_false_positives: 23.0000 - val_true_negatives: 241.0000 - val_true_positives: 64.0000\n",
            "Epoch 148/200\n",
            "44/44 [==============================] - 1s 15ms/step - loss: 0.3165 - Accuracy: 0.8851 - false_negatives: 47.0000 - false_positives: 36.0000 - true_negatives: 1008.0000 - true_positives: 301.0000 - val_loss: 1.2551 - val_Accuracy: 0.7386 - val_false_negatives: 23.0000 - val_false_positives: 22.0000 - val_true_negatives: 242.0000 - val_true_positives: 65.0000\n",
            "Epoch 149/200\n",
            "44/44 [==============================] - 1s 15ms/step - loss: 0.2634 - Accuracy: 0.9023 - false_negatives: 36.0000 - false_positives: 33.0000 - true_negatives: 1011.0000 - true_positives: 312.0000 - val_loss: 1.3139 - val_Accuracy: 0.7273 - val_false_negatives: 24.0000 - val_false_positives: 23.0000 - val_true_negatives: 241.0000 - val_true_positives: 64.0000\n",
            "Epoch 150/200\n",
            "44/44 [==============================] - 1s 15ms/step - loss: 0.2102 - Accuracy: 0.9138 - false_negatives: 37.0000 - false_positives: 27.0000 - true_negatives: 1017.0000 - true_positives: 311.0000 - val_loss: 1.1430 - val_Accuracy: 0.7045 - val_false_negatives: 27.0000 - val_false_positives: 24.0000 - val_true_negatives: 240.0000 - val_true_positives: 61.0000\n",
            "Epoch 151/200\n",
            "44/44 [==============================] - 1s 15ms/step - loss: 0.2648 - Accuracy: 0.9052 - false_negatives: 34.0000 - false_positives: 29.0000 - true_negatives: 1015.0000 - true_positives: 314.0000 - val_loss: 1.3582 - val_Accuracy: 0.6591 - val_false_negatives: 30.0000 - val_false_positives: 30.0000 - val_true_negatives: 234.0000 - val_true_positives: 58.0000\n",
            "Epoch 152/200\n",
            "44/44 [==============================] - 1s 16ms/step - loss: 0.3290 - Accuracy: 0.8707 - false_negatives: 48.0000 - false_positives: 42.0000 - true_negatives: 1002.0000 - true_positives: 300.0000 - val_loss: 1.6736 - val_Accuracy: 0.6591 - val_false_negatives: 30.0000 - val_false_positives: 28.0000 - val_true_negatives: 236.0000 - val_true_positives: 58.0000\n",
            "Epoch 153/200\n",
            "44/44 [==============================] - 1s 15ms/step - loss: 0.3037 - Accuracy: 0.8822 - false_negatives: 44.0000 - false_positives: 39.0000 - true_negatives: 1005.0000 - true_positives: 304.0000 - val_loss: 1.4137 - val_Accuracy: 0.6705 - val_false_negatives: 30.0000 - val_false_positives: 29.0000 - val_true_negatives: 235.0000 - val_true_positives: 58.0000\n",
            "Epoch 154/200\n",
            "44/44 [==============================] - 1s 15ms/step - loss: 0.2285 - Accuracy: 0.9167 - false_negatives: 31.0000 - false_positives: 27.0000 - true_negatives: 1017.0000 - true_positives: 317.0000 - val_loss: 1.1900 - val_Accuracy: 0.6591 - val_false_negatives: 31.0000 - val_false_positives: 28.0000 - val_true_negatives: 236.0000 - val_true_positives: 57.0000\n",
            "Epoch 155/200\n",
            "44/44 [==============================] - 1s 15ms/step - loss: 0.2301 - Accuracy: 0.8937 - false_negatives: 38.0000 - false_positives: 30.0000 - true_negatives: 1014.0000 - true_positives: 310.0000 - val_loss: 1.4751 - val_Accuracy: 0.6932 - val_false_negatives: 27.0000 - val_false_positives: 27.0000 - val_true_negatives: 237.0000 - val_true_positives: 61.0000\n",
            "Epoch 156/200\n",
            "44/44 [==============================] - 1s 15ms/step - loss: 0.2470 - Accuracy: 0.9023 - false_negatives: 37.0000 - false_positives: 30.0000 - true_negatives: 1014.0000 - true_positives: 311.0000 - val_loss: 1.3004 - val_Accuracy: 0.7159 - val_false_negatives: 26.0000 - val_false_positives: 25.0000 - val_true_negatives: 239.0000 - val_true_positives: 62.0000\n",
            "Epoch 157/200\n",
            "44/44 [==============================] - 1s 15ms/step - loss: 0.2996 - Accuracy: 0.9052 - false_negatives: 39.0000 - false_positives: 30.0000 - true_negatives: 1014.0000 - true_positives: 309.0000 - val_loss: 1.3797 - val_Accuracy: 0.6705 - val_false_negatives: 30.0000 - val_false_positives: 29.0000 - val_true_negatives: 235.0000 - val_true_positives: 58.0000\n",
            "Epoch 158/200\n",
            "44/44 [==============================] - 1s 15ms/step - loss: 0.2452 - Accuracy: 0.8937 - false_negatives: 41.0000 - false_positives: 32.0000 - true_negatives: 1012.0000 - true_positives: 307.0000 - val_loss: 1.2940 - val_Accuracy: 0.6932 - val_false_negatives: 27.0000 - val_false_positives: 25.0000 - val_true_negatives: 239.0000 - val_true_positives: 61.0000\n",
            "Epoch 159/200\n",
            "44/44 [==============================] - 1s 16ms/step - loss: 0.2344 - Accuracy: 0.9080 - false_negatives: 34.0000 - false_positives: 29.0000 - true_negatives: 1015.0000 - true_positives: 314.0000 - val_loss: 1.2725 - val_Accuracy: 0.7159 - val_false_negatives: 25.0000 - val_false_positives: 24.0000 - val_true_negatives: 240.0000 - val_true_positives: 63.0000\n",
            "Epoch 160/200\n",
            "44/44 [==============================] - 1s 15ms/step - loss: 0.1974 - Accuracy: 0.9253 - false_negatives: 27.0000 - false_positives: 23.0000 - true_negatives: 1021.0000 - true_positives: 321.0000 - val_loss: 1.4334 - val_Accuracy: 0.7045 - val_false_negatives: 26.0000 - val_false_positives: 24.0000 - val_true_negatives: 240.0000 - val_true_positives: 62.0000\n",
            "Epoch 161/200\n",
            "44/44 [==============================] - 1s 15ms/step - loss: 0.2048 - Accuracy: 0.9195 - false_negatives: 29.0000 - false_positives: 27.0000 - true_negatives: 1017.0000 - true_positives: 319.0000 - val_loss: 1.3804 - val_Accuracy: 0.7386 - val_false_negatives: 23.0000 - val_false_positives: 21.0000 - val_true_negatives: 243.0000 - val_true_positives: 65.0000\n",
            "Epoch 162/200\n",
            "44/44 [==============================] - 1s 16ms/step - loss: 0.2633 - Accuracy: 0.8851 - false_negatives: 43.0000 - false_positives: 36.0000 - true_negatives: 1008.0000 - true_positives: 305.0000 - val_loss: 1.2070 - val_Accuracy: 0.7045 - val_false_negatives: 26.0000 - val_false_positives: 25.0000 - val_true_negatives: 239.0000 - val_true_positives: 62.0000\n",
            "Epoch 163/200\n",
            "44/44 [==============================] - 1s 15ms/step - loss: 0.2203 - Accuracy: 0.9282 - false_negatives: 27.0000 - false_positives: 23.0000 - true_negatives: 1021.0000 - true_positives: 321.0000 - val_loss: 1.2983 - val_Accuracy: 0.6818 - val_false_negatives: 28.0000 - val_false_positives: 26.0000 - val_true_negatives: 238.0000 - val_true_positives: 60.0000\n",
            "Epoch 164/200\n",
            "44/44 [==============================] - 1s 15ms/step - loss: 0.2011 - Accuracy: 0.9224 - false_negatives: 29.0000 - false_positives: 26.0000 - true_negatives: 1018.0000 - true_positives: 319.0000 - val_loss: 1.2782 - val_Accuracy: 0.7273 - val_false_negatives: 24.0000 - val_false_positives: 21.0000 - val_true_negatives: 243.0000 - val_true_positives: 64.0000\n",
            "Epoch 165/200\n",
            "44/44 [==============================] - 1s 15ms/step - loss: 0.2226 - Accuracy: 0.9080 - false_negatives: 36.0000 - false_positives: 31.0000 - true_negatives: 1013.0000 - true_positives: 312.0000 - val_loss: 1.2565 - val_Accuracy: 0.7045 - val_false_negatives: 26.0000 - val_false_positives: 24.0000 - val_true_negatives: 240.0000 - val_true_positives: 62.0000\n",
            "Epoch 166/200\n",
            "44/44 [==============================] - 1s 16ms/step - loss: 0.2160 - Accuracy: 0.9176 - false_negatives: 32.0000 - false_positives: 24.0000 - true_negatives: 1032.0000 - true_positives: 320.0000 - val_loss: 1.4039 - val_Accuracy: 0.7273 - val_false_negatives: 24.0000 - val_false_positives: 24.0000 - val_true_negatives: 240.0000 - val_true_positives: 64.0000\n",
            "Epoch 167/200\n",
            "44/44 [==============================] - 1s 15ms/step - loss: 0.2990 - Accuracy: 0.9052 - false_negatives: 38.0000 - false_positives: 33.0000 - true_negatives: 1011.0000 - true_positives: 310.0000 - val_loss: 1.2939 - val_Accuracy: 0.7386 - val_false_negatives: 23.0000 - val_false_positives: 23.0000 - val_true_negatives: 241.0000 - val_true_positives: 65.0000\n",
            "Epoch 168/200\n",
            "44/44 [==============================] - 1s 15ms/step - loss: 0.2435 - Accuracy: 0.9023 - false_negatives: 39.0000 - false_positives: 32.0000 - true_negatives: 1012.0000 - true_positives: 309.0000 - val_loss: 1.3748 - val_Accuracy: 0.6932 - val_false_negatives: 28.0000 - val_false_positives: 27.0000 - val_true_negatives: 237.0000 - val_true_positives: 60.0000\n",
            "Epoch 169/200\n",
            "44/44 [==============================] - 1s 16ms/step - loss: 0.2344 - Accuracy: 0.9080 - false_negatives: 33.0000 - false_positives: 25.0000 - true_negatives: 1019.0000 - true_positives: 315.0000 - val_loss: 1.3705 - val_Accuracy: 0.6932 - val_false_negatives: 27.0000 - val_false_positives: 26.0000 - val_true_negatives: 238.0000 - val_true_positives: 61.0000\n",
            "Epoch 170/200\n",
            "44/44 [==============================] - 1s 15ms/step - loss: 0.2042 - Accuracy: 0.9253 - false_negatives: 28.0000 - false_positives: 23.0000 - true_negatives: 1021.0000 - true_positives: 320.0000 - val_loss: 1.4497 - val_Accuracy: 0.7159 - val_false_negatives: 25.0000 - val_false_positives: 25.0000 - val_true_negatives: 239.0000 - val_true_positives: 63.0000\n",
            "Epoch 171/200\n",
            "44/44 [==============================] - 1s 16ms/step - loss: 0.1578 - Accuracy: 0.9282 - false_negatives: 26.0000 - false_positives: 22.0000 - true_negatives: 1022.0000 - true_positives: 322.0000 - val_loss: 1.5423 - val_Accuracy: 0.7159 - val_false_negatives: 26.0000 - val_false_positives: 25.0000 - val_true_negatives: 239.0000 - val_true_positives: 62.0000\n",
            "Epoch 172/200\n",
            "44/44 [==============================] - 1s 16ms/step - loss: 0.2617 - Accuracy: 0.8994 - false_negatives: 37.0000 - false_positives: 31.0000 - true_negatives: 1013.0000 - true_positives: 311.0000 - val_loss: 1.6051 - val_Accuracy: 0.7159 - val_false_negatives: 25.0000 - val_false_positives: 24.0000 - val_true_negatives: 240.0000 - val_true_positives: 63.0000\n",
            "Epoch 173/200\n",
            "44/44 [==============================] - 1s 15ms/step - loss: 0.2333 - Accuracy: 0.8908 - false_negatives: 40.0000 - false_positives: 32.0000 - true_negatives: 1012.0000 - true_positives: 308.0000 - val_loss: 1.3935 - val_Accuracy: 0.7159 - val_false_negatives: 25.0000 - val_false_positives: 25.0000 - val_true_negatives: 239.0000 - val_true_positives: 63.0000\n",
            "Epoch 174/200\n",
            "44/44 [==============================] - 1s 15ms/step - loss: 0.2179 - Accuracy: 0.9282 - false_negatives: 28.0000 - false_positives: 24.0000 - true_negatives: 1020.0000 - true_positives: 320.0000 - val_loss: 1.2503 - val_Accuracy: 0.7045 - val_false_negatives: 26.0000 - val_false_positives: 22.0000 - val_true_negatives: 242.0000 - val_true_positives: 62.0000\n",
            "Epoch 175/200\n",
            "44/44 [==============================] - 1s 16ms/step - loss: 0.2273 - Accuracy: 0.9224 - false_negatives: 28.0000 - false_positives: 26.0000 - true_negatives: 1018.0000 - true_positives: 320.0000 - val_loss: 1.3965 - val_Accuracy: 0.7045 - val_false_negatives: 26.0000 - val_false_positives: 26.0000 - val_true_negatives: 238.0000 - val_true_positives: 62.0000\n",
            "Epoch 176/200\n",
            "44/44 [==============================] - 1s 15ms/step - loss: 0.2761 - Accuracy: 0.9080 - false_negatives: 34.0000 - false_positives: 31.0000 - true_negatives: 1013.0000 - true_positives: 314.0000 - val_loss: 1.4273 - val_Accuracy: 0.6705 - val_false_negatives: 29.0000 - val_false_positives: 29.0000 - val_true_negatives: 235.0000 - val_true_positives: 59.0000\n",
            "Epoch 177/200\n",
            "44/44 [==============================] - 1s 16ms/step - loss: 0.2574 - Accuracy: 0.9080 - false_negatives: 34.0000 - false_positives: 31.0000 - true_negatives: 1013.0000 - true_positives: 314.0000 - val_loss: 1.2625 - val_Accuracy: 0.6932 - val_false_negatives: 27.0000 - val_false_positives: 26.0000 - val_true_negatives: 238.0000 - val_true_positives: 61.0000\n",
            "Epoch 178/200\n",
            "44/44 [==============================] - 1s 15ms/step - loss: 0.1727 - Accuracy: 0.9397 - false_negatives: 23.0000 - false_positives: 17.0000 - true_negatives: 1027.0000 - true_positives: 325.0000 - val_loss: 1.6328 - val_Accuracy: 0.6932 - val_false_negatives: 29.0000 - val_false_positives: 26.0000 - val_true_negatives: 238.0000 - val_true_positives: 59.0000\n",
            "Epoch 179/200\n",
            "44/44 [==============================] - 1s 15ms/step - loss: 0.1388 - Accuracy: 0.9425 - false_negatives: 22.0000 - false_positives: 16.0000 - true_negatives: 1028.0000 - true_positives: 326.0000 - val_loss: 1.4448 - val_Accuracy: 0.7273 - val_false_negatives: 25.0000 - val_false_positives: 23.0000 - val_true_negatives: 241.0000 - val_true_positives: 63.0000\n",
            "Epoch 180/200\n",
            "44/44 [==============================] - 1s 15ms/step - loss: 0.2010 - Accuracy: 0.9080 - false_negatives: 36.0000 - false_positives: 28.0000 - true_negatives: 1016.0000 - true_positives: 312.0000 - val_loss: 1.5779 - val_Accuracy: 0.7045 - val_false_negatives: 27.0000 - val_false_positives: 25.0000 - val_true_negatives: 239.0000 - val_true_positives: 61.0000\n",
            "Epoch 181/200\n",
            "44/44 [==============================] - 1s 16ms/step - loss: 0.2620 - Accuracy: 0.8994 - false_negatives: 36.0000 - false_positives: 31.0000 - true_negatives: 1013.0000 - true_positives: 312.0000 - val_loss: 1.2454 - val_Accuracy: 0.6932 - val_false_negatives: 27.0000 - val_false_positives: 26.0000 - val_true_negatives: 238.0000 - val_true_positives: 61.0000\n",
            "Epoch 182/200\n",
            "44/44 [==============================] - 1s 16ms/step - loss: 0.1932 - Accuracy: 0.9454 - false_negatives: 23.0000 - false_positives: 18.0000 - true_negatives: 1026.0000 - true_positives: 325.0000 - val_loss: 1.5208 - val_Accuracy: 0.7614 - val_false_negatives: 21.0000 - val_false_positives: 21.0000 - val_true_negatives: 243.0000 - val_true_positives: 67.0000\n",
            "Epoch 183/200\n",
            "44/44 [==============================] - 1s 15ms/step - loss: 0.2262 - Accuracy: 0.9109 - false_negatives: 33.0000 - false_positives: 27.0000 - true_negatives: 1017.0000 - true_positives: 315.0000 - val_loss: 1.2303 - val_Accuracy: 0.7386 - val_false_negatives: 24.0000 - val_false_positives: 22.0000 - val_true_negatives: 242.0000 - val_true_positives: 64.0000\n",
            "Epoch 184/200\n",
            "44/44 [==============================] - 1s 16ms/step - loss: 0.1659 - Accuracy: 0.9425 - false_negatives: 26.0000 - false_positives: 17.0000 - true_negatives: 1027.0000 - true_positives: 322.0000 - val_loss: 1.5029 - val_Accuracy: 0.7727 - val_false_negatives: 20.0000 - val_false_positives: 18.0000 - val_true_negatives: 246.0000 - val_true_positives: 68.0000\n",
            "Epoch 185/200\n",
            "44/44 [==============================] - 1s 15ms/step - loss: 0.2156 - Accuracy: 0.9080 - false_negatives: 32.0000 - false_positives: 29.0000 - true_negatives: 1015.0000 - true_positives: 316.0000 - val_loss: 1.4254 - val_Accuracy: 0.7500 - val_false_negatives: 24.0000 - val_false_positives: 21.0000 - val_true_negatives: 243.0000 - val_true_positives: 64.0000\n",
            "Epoch 186/200\n",
            "44/44 [==============================] - 1s 17ms/step - loss: 0.2327 - Accuracy: 0.8994 - false_negatives: 36.0000 - false_positives: 30.0000 - true_negatives: 1014.0000 - true_positives: 312.0000 - val_loss: 1.3479 - val_Accuracy: 0.7614 - val_false_negatives: 21.0000 - val_false_positives: 20.0000 - val_true_negatives: 244.0000 - val_true_positives: 67.0000\n",
            "Epoch 187/200\n",
            "44/44 [==============================] - 1s 16ms/step - loss: 0.2454 - Accuracy: 0.9052 - false_negatives: 36.0000 - false_positives: 31.0000 - true_negatives: 1013.0000 - true_positives: 312.0000 - val_loss: 1.5044 - val_Accuracy: 0.7500 - val_false_negatives: 22.0000 - val_false_positives: 21.0000 - val_true_negatives: 243.0000 - val_true_positives: 66.0000\n",
            "Epoch 188/200\n",
            "44/44 [==============================] - 1s 15ms/step - loss: 0.1760 - Accuracy: 0.9397 - false_negatives: 22.0000 - false_positives: 20.0000 - true_negatives: 1024.0000 - true_positives: 326.0000 - val_loss: 1.5400 - val_Accuracy: 0.7500 - val_false_negatives: 22.0000 - val_false_positives: 22.0000 - val_true_negatives: 242.0000 - val_true_positives: 66.0000\n",
            "Epoch 189/200\n",
            "44/44 [==============================] - 1s 16ms/step - loss: 0.2114 - Accuracy: 0.9282 - false_negatives: 26.0000 - false_positives: 23.0000 - true_negatives: 1021.0000 - true_positives: 322.0000 - val_loss: 1.4308 - val_Accuracy: 0.6818 - val_false_negatives: 30.0000 - val_false_positives: 28.0000 - val_true_negatives: 236.0000 - val_true_positives: 58.0000\n",
            "Epoch 190/200\n",
            "44/44 [==============================] - 1s 16ms/step - loss: 0.1912 - Accuracy: 0.9368 - false_negatives: 25.0000 - false_positives: 19.0000 - true_negatives: 1025.0000 - true_positives: 323.0000 - val_loss: 1.5485 - val_Accuracy: 0.7159 - val_false_negatives: 25.0000 - val_false_positives: 23.0000 - val_true_negatives: 241.0000 - val_true_positives: 63.0000\n",
            "Epoch 191/200\n",
            "44/44 [==============================] - 1s 16ms/step - loss: 0.1999 - Accuracy: 0.9339 - false_negatives: 25.0000 - false_positives: 22.0000 - true_negatives: 1022.0000 - true_positives: 323.0000 - val_loss: 1.5038 - val_Accuracy: 0.7727 - val_false_negatives: 21.0000 - val_false_positives: 19.0000 - val_true_negatives: 245.0000 - val_true_positives: 67.0000\n",
            "Epoch 192/200\n",
            "44/44 [==============================] - 1s 16ms/step - loss: 0.1685 - Accuracy: 0.9397 - false_negatives: 22.0000 - false_positives: 19.0000 - true_negatives: 1025.0000 - true_positives: 326.0000 - val_loss: 1.6423 - val_Accuracy: 0.6932 - val_false_negatives: 27.0000 - val_false_positives: 27.0000 - val_true_negatives: 237.0000 - val_true_positives: 61.0000\n",
            "Epoch 193/200\n",
            "44/44 [==============================] - 1s 16ms/step - loss: 0.1545 - Accuracy: 0.9397 - false_negatives: 22.0000 - false_positives: 20.0000 - true_negatives: 1024.0000 - true_positives: 326.0000 - val_loss: 1.5107 - val_Accuracy: 0.7386 - val_false_negatives: 24.0000 - val_false_positives: 23.0000 - val_true_negatives: 241.0000 - val_true_positives: 64.0000\n",
            "Epoch 194/200\n",
            "44/44 [==============================] - 1s 16ms/step - loss: 0.1734 - Accuracy: 0.9310 - false_negatives: 24.0000 - false_positives: 24.0000 - true_negatives: 1020.0000 - true_positives: 324.0000 - val_loss: 1.5658 - val_Accuracy: 0.7045 - val_false_negatives: 27.0000 - val_false_positives: 25.0000 - val_true_negatives: 239.0000 - val_true_positives: 61.0000\n",
            "Epoch 195/200\n",
            "44/44 [==============================] - 1s 16ms/step - loss: 0.1485 - Accuracy: 0.9397 - false_negatives: 24.0000 - false_positives: 21.0000 - true_negatives: 1023.0000 - true_positives: 324.0000 - val_loss: 1.5072 - val_Accuracy: 0.7614 - val_false_negatives: 21.0000 - val_false_positives: 20.0000 - val_true_negatives: 244.0000 - val_true_positives: 67.0000\n",
            "Epoch 196/200\n",
            "44/44 [==============================] - 1s 16ms/step - loss: 0.1910 - Accuracy: 0.9397 - false_negatives: 24.0000 - false_positives: 20.0000 - true_negatives: 1024.0000 - true_positives: 324.0000 - val_loss: 1.5062 - val_Accuracy: 0.6705 - val_false_negatives: 29.0000 - val_false_positives: 25.0000 - val_true_negatives: 239.0000 - val_true_positives: 59.0000\n",
            "Epoch 197/200\n",
            "44/44 [==============================] - 1s 16ms/step - loss: 0.1735 - Accuracy: 0.9282 - false_negatives: 25.0000 - false_positives: 23.0000 - true_negatives: 1021.0000 - true_positives: 323.0000 - val_loss: 1.6413 - val_Accuracy: 0.7841 - val_false_negatives: 19.0000 - val_false_positives: 19.0000 - val_true_negatives: 245.0000 - val_true_positives: 69.0000\n",
            "Epoch 198/200\n",
            "44/44 [==============================] - 1s 16ms/step - loss: 0.1283 - Accuracy: 0.9511 - false_negatives: 17.0000 - false_positives: 14.0000 - true_negatives: 1030.0000 - true_positives: 331.0000 - val_loss: 1.7485 - val_Accuracy: 0.7045 - val_false_negatives: 26.0000 - val_false_positives: 25.0000 - val_true_negatives: 239.0000 - val_true_positives: 62.0000\n",
            "Epoch 199/200\n",
            "44/44 [==============================] - 1s 16ms/step - loss: 0.2119 - Accuracy: 0.9195 - false_negatives: 28.0000 - false_positives: 25.0000 - true_negatives: 1019.0000 - true_positives: 320.0000 - val_loss: 1.7768 - val_Accuracy: 0.6705 - val_false_negatives: 30.0000 - val_false_positives: 29.0000 - val_true_negatives: 235.0000 - val_true_positives: 58.0000\n",
            "Epoch 200/200\n",
            "44/44 [==============================] - 1s 15ms/step - loss: 0.2058 - Accuracy: 0.9109 - false_negatives: 32.0000 - false_positives: 28.0000 - true_negatives: 1016.0000 - true_positives: 316.0000 - val_loss: 1.9552 - val_Accuracy: 0.6705 - val_false_negatives: 29.0000 - val_false_positives: 29.0000 - val_true_negatives: 235.0000 - val_true_positives: 59.0000\n"
          ]
        }
      ]
    },
    {
      "cell_type": "markdown",
      "source": [
        "Plotting Traning Result"
      ],
      "metadata": {
        "id": "XZSFG8fXqz7c"
      }
    },
    {
      "cell_type": "code",
      "source": [
        "  #plotting\n",
        "  epochs = range(1, len(history.history['loss'])+1)\n",
        "  plt.title(f\"Grafik loss training iterasi {iterasi}\")\n",
        "  plt.plot(epochs, history.history['loss'], 'r', label='Training Loss')\n",
        "  plt.plot(epochs, history.history['val_loss'], 'b', label='Validation Loss')    \n",
        "  plt.xlabel(\"Epoch\")\n",
        "  plt.ylabel(\"Loss\")\n",
        "  plt.legend()\n",
        "  plt.show()\n"
      ],
      "metadata": {
        "id": "3dXbDrJpY1NK",
        "colab": {
          "base_uri": "https://localhost:8080/",
          "height": 295
        },
        "outputId": "83d4ae93-70b9-4f23-8595-f1745fa19c2d"
      },
      "execution_count": 12,
      "outputs": [
        {
          "output_type": "display_data",
          "data": {
            "text/plain": [
              "<Figure size 432x288 with 1 Axes>"
            ],
            "image/png": "[encoded data removed]"
          },
          "metadata": {
            "needs_background": "light"
          }
        }
      ]
    },
    {
      "cell_type": "code",
      "source": [
        "  #plotting\n",
        "  epochs = range(1, len(history.history['loss'])+1)\n",
        "  plt.title(f\"Grafik Akurasi training iterasi {iterasi}\")\n",
        "  plt.plot(epochs, history.history['Accuracy'], 'r', label='Training Accuracy')\n",
        "  plt.plot(epochs, history.history['val_Accuracy'], 'b', label='Validation Accuracy')    \n",
        "  plt.xlabel(\"Epoch\")\n",
        "  plt.ylabel(\"Accuracy\")\n",
        "  plt.legend()\n",
        "  plt.show()"
      ],
      "metadata": {
        "id": "j3xigprPwlSX",
        "colab": {
          "base_uri": "https://localhost:8080/",
          "height": 295
        },
        "outputId": "724b945e-fef3-4c26-9dc1-c16a2a5f477e"
      },
      "execution_count": 13,
      "outputs": [
        {
          "output_type": "display_data",
          "data": {
            "text/plain": [
              "<Figure size 432x288 with 1 Axes>"
            ],
            "image/png": "[encoded data removed]"
          },
          "metadata": {
            "needs_background": "light"
          }
        }
      ]
    },
    {
      "cell_type": "code",
      "source": [
        "import matplotlib.pyplot as plt\n",
        "from sklearn.datasets import make_classification\n",
        "from numpy import mean\n",
        "from sklearn.metrics import confusion_matrix, ConfusionMatrixDisplay, accuracy_score, classification_report, recall_score\n",
        "\n",
        "validation = model.predict(np_image_list_validation)\n",
        "\n",
        "predicted_labels = []\n",
        "correct_labels = []\n",
        "for i in range (len(validation)):\n",
        "  predicted_labels.append(np.argmax(validation[i]))\n",
        "\n",
        "for i in range (len(image_labels_validation)):\n",
        "  correct_labels.append(np.argmax(image_labels_validation[i]))\n",
        "\n",
        "\n",
        "confusion_matrix = confusion_matrix(correct_labels, predicted_labels)\n",
        "disp = ConfusionMatrixDisplay(confusion_matrix=confusion_matrix)  \n",
        "disp.plot()\n",
        "plt.show()\n",
        "print('--------')\n",
        "FP = confusion_matrix.sum(axis=0) - np.diag(confusion_matrix)  \n",
        "FN = confusion_matrix.sum(axis=1) - np.diag(confusion_matrix)\n",
        "TP = np.diag(confusion_matrix)\n",
        "TN = confusion_matrix.sum() - (FP + FN + TP)\n",
        "\n",
        "# Sensitivity, hit rate, recall, or true positive rate\n",
        "TPR = TP/(TP+FN)\n",
        "# Specificity or true negative rate\n",
        "TNR = TN/(TN+FP) \n",
        "# Overall accuracy\n",
        "ACC = (TP+TN)/(TP+FP+FN+TN)\n",
        "\n",
        "print(TP)\n",
        "print(TN)\n",
        "print(FP)\n",
        "print(FN)\n",
        "print('--------')\n",
        "print(ACC)\n",
        "print(TPR)\n",
        "print(TNR)\n",
        "print('--------')\n",
        "\n",
        "TP = sum(TP)\n",
        "TN = sum(TN)\n",
        "FP = sum(FP)\n",
        "FN = sum(FN)\n",
        "\n",
        "# Sensitivity, hit rate, recall, or true positive rate\n",
        "TPR = TP/(TP+FN)\n",
        "# Specificity or true negative rate\n",
        "TNR = TN/(TN+FP) \n",
        "# Overall accuracy\n",
        "ACC = (TP+TN)/(TP+FP+FN+TN)\n",
        "\n",
        "print(TP)\n",
        "print(TN)\n",
        "print(FP)\n",
        "print(FN)\n",
        "print('--------')\n",
        "print(ACC)\n",
        "print(TPR)\n",
        "print(TNR)"
      ],
      "metadata": {
        "colab": {
          "base_uri": "https://localhost:8080/",
          "height": 591
        },
        "id": "y0RigLm76Rpg",
        "outputId": "c6a77f7f-c10e-4a20-8345-e335189a54ec"
      },
      "execution_count": 14,
      "outputs": [
        {
          "output_type": "display_data",
          "data": {
            "text/plain": [
              "<Figure size 432x288 with 2 Axes>"
            ],
            "image/png": "[encoded data removed]"
          },
          "metadata": {
            "needs_background": "light"
          }
        },
        {
          "output_type": "stream",
          "name": "stdout",
          "text": [
            "--------\n",
            "[ 2  4 14 39]\n",
            "[71 66 56 42]\n",
            "[7 9 7 6]\n",
            "[ 8  9 11  1]\n",
            "--------\n",
            "[0.82954545 0.79545455 0.79545455 0.92045455]\n",
            "[0.2        0.30769231 0.56       0.975     ]\n",
            "[0.91025641 0.88       0.88888889 0.875     ]\n",
            "--------\n",
            "59\n",
            "235\n",
            "29\n",
            "29\n",
            "--------\n",
            "0.8352272727272727\n",
            "0.6704545454545454\n",
            "0.8901515151515151\n"
          ]
        }
      ]
    },
    {
      "cell_type": "code",
      "source": [
        "import matplotlib.pyplot as plt\n",
        "from sklearn.datasets import make_classification\n",
        "from numpy import mean\n",
        "from sklearn.metrics import confusion_matrix, ConfusionMatrixDisplay, accuracy_score, classification_report, recall_score\n",
        "\n",
        "test = model.predict(np_image_list_test)\n",
        "\n",
        "predicted_labels = []\n",
        "correct_labels = []\n",
        "for i in range (len(test)):\n",
        "  predicted_labels.append(np.argmax(test[i]))\n",
        "\n",
        "for i in range (len(image_labels_test)):\n",
        "  correct_labels.append(np.argmax(image_labels_test[i]))\n",
        "\n",
        "\n",
        "confusion_matrix = confusion_matrix(correct_labels, predicted_labels)\n",
        "disp = ConfusionMatrixDisplay(confusion_matrix=confusion_matrix)  \n",
        "disp.plot()\n",
        "plt.show()\n",
        "print('--------')\n",
        "FP = confusion_matrix.sum(axis=0) - np.diag(confusion_matrix)  \n",
        "FN = confusion_matrix.sum(axis=1) - np.diag(confusion_matrix)\n",
        "TP = np.diag(confusion_matrix)\n",
        "TN = confusion_matrix.sum() - (FP + FN + TP)\n",
        "\n",
        "# Sensitivity, hit rate, recall, or true positive rate\n",
        "TPR = TP/(TP+FN)\n",
        "# Specificity or true negative rate\n",
        "TNR = TN/(TN+FP) \n",
        "# Overall accuracy\n",
        "ACC = (TP+TN)/(TP+FP+FN+TN)\n",
        "\n",
        "print(TP)\n",
        "print(TN)\n",
        "print(FP)\n",
        "print(FN)\n",
        "print('--------')\n",
        "print(ACC)\n",
        "print(TPR)\n",
        "print(TNR)\n",
        "print('--------')\n",
        "\n",
        "TP = sum(TP)\n",
        "TN = sum(TN)\n",
        "FP = sum(FP)\n",
        "FN = sum(FN)\n",
        "\n",
        "# Sensitivity, hit rate, recall, or true positive rate\n",
        "TPR = TP/(TP+FN)\n",
        "# Specificity or true negative rate\n",
        "TNR = TN/(TN+FP) \n",
        "# Overall accuracy\n",
        "ACC = (TP+TN)/(TP+FP+FN+TN)\n",
        "\n",
        "print(TP)\n",
        "print(TN)\n",
        "print(FP)\n",
        "print(FN)\n",
        "print('--------')\n",
        "print(ACC)\n",
        "print(TPR)\n",
        "print(TNR)"
      ],
      "metadata": {
        "colab": {
          "base_uri": "https://localhost:8080/",
          "height": 591
        },
        "id": "xufCN02P5v4A",
        "outputId": "05fcfb1e-c80b-443b-8428-45bee236f76c"
      },
      "execution_count": 15,
      "outputs": [
        {
          "output_type": "display_data",
          "data": {
            "text/plain": [
              "<Figure size 432x288 with 2 Axes>"
            ],
            "image/png": "[encoded data removed]"
          },
          "metadata": {
            "needs_background": "light"
          }
        },
        {
          "output_type": "stream",
          "name": "stdout",
          "text": [
            "--------\n",
            "[ 4  5  9 43]\n",
            "[82 87 70 42]\n",
            "[16  7  8 18]\n",
            "[ 8 11 23  7]\n",
            "--------\n",
            "[0.78181818 0.83636364 0.71818182 0.77272727]\n",
            "[0.33333333 0.3125     0.28125    0.86      ]\n",
            "[0.83673469 0.92553191 0.8974359  0.7       ]\n",
            "--------\n",
            "61\n",
            "281\n",
            "49\n",
            "49\n",
            "--------\n",
            "0.7772727272727272\n",
            "0.5545454545454546\n",
            "0.8515151515151516\n"
          ]
        }
      ]
    },
    {
      "cell_type": "markdown",
      "metadata": {
        "id": "bTgk1-sdzmgy"
      },
      "source": [
        "**Validating** Network"
      ]
    },
    {
      "cell_type": "code",
      "source": [
        "\n"
      ],
      "metadata": {
        "id": "d_NBE4KkWuhu"
      },
      "execution_count": 15,
      "outputs": []
    },
    {
      "cell_type": "markdown",
      "source": [
        "**Testing** Network"
      ],
      "metadata": {
        "id": "saJYjKqX9tRL"
      }
    },
    {
      "cell_type": "code",
      "source": [
        "\n"
      ],
      "metadata": {
        "id": "A7DR52hmTc75"
      },
      "execution_count": 15,
      "outputs": []
    },
    {
      "cell_type": "code",
      "source": [
        "#test_img = cv2.imread('/content/Datasets/fold5/Test/apel_sehat/apel_sehat (1).jpg')\n",
        "\n",
        "#plt.imshow(test_img)\n",
        "#test_img = test_img / 255\n",
        "#test_img = np.expand_dims(test_img, axis=0)\n",
        "#pr=model.predict(test_img)\n",
        "\n",
        "#print(pr)\n",
        "#output = label_binarizer.inverse_transform(pr)\n",
        "#print(output)"
      ],
      "metadata": {
        "id": "zkMI6CwJArvo"
      },
      "execution_count": 16,
      "outputs": []
    },
    {
      "cell_type": "code",
      "source": [
        "# save the model to disk\n",
        "#print(\"[INFO] Saving model...\")\n",
        "#pickle.dump(model,open('cnn_model.pkl', 'wb'))\n",
        "#model.save('/content/fold1.h5')"
      ],
      "metadata": {
        "id": "Wr_b8qBuCAIS"
      },
      "execution_count": 17,
      "outputs": []
    }
  ]
}