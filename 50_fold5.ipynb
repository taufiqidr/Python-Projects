{
  "nbformat": 4,
  "nbformat_minor": 0,
  "metadata": {
    "accelerator": "GPU",
    "colab": {
      "name": "Kodingan Skripsi 3",
      "provenance": [],
      "collapsed_sections": [],
      "include_colab_link": true
    },
    "kernelspec": {
      "display_name": "Python 3",
      "language": "python",
      "name": "python3"
    },
    "language_info": {
      "codemirror_mode": {
        "name": "ipython",
        "version": 3
      },
      "file_extension": ".py",
      "mimetype": "text/x-python",
      "name": "python",
      "nbconvert_exporter": "python",
      "pygments_lexer": "ipython3",
      "version": "3.6.6"
    }
  },
  "cells": [
    {
      "cell_type": "markdown",
      "metadata": {
        "id": "view-in-github",
        "colab_type": "text"
      },
      "source": [
        "<a href=\"https://colab.research.google.com/github/TaufiqIdrus/Python-Projects/blob/master/50_fold5.ipynb\" target=\"_parent\"><img src=\"https://colab.research.google.com/assets/colab-badge.svg\" alt=\"Open In Colab\"/></a>"
      ]
    },
    {
      "cell_type": "markdown",
      "metadata": {
        "id": "yJT_kQA2lITS"
      },
      "source": [
        "**Identifikasi Penyakit Pada Tanaman Apel menggunakan Convolutional Neural Network**"
      ]
    },
    {
      "cell_type": "code",
      "metadata": {
        "id": "xXeOaYTUzmgT"
      },
      "source": [
        "import numpy as np\n",
        "import pickle\n",
        "import os\n",
        "import cv2\n",
        "import tensorflow as tf\n",
        "import keras\n",
        "from os import listdir\n",
        "from sklearn.preprocessing import LabelBinarizer\n",
        "from keras.models import Sequential\n",
        "from keras.layers.convolutional import Conv2D\n",
        "from keras.layers.convolutional import MaxPooling2D\n",
        "from keras.layers.core import Activation, Flatten, Dropout, Dense\n",
        "from keras import backend as K\n",
        "from tensorflow.keras.optimizers import Adam\n",
        "from keras.preprocessing import image\n",
        "import matplotlib.pyplot as plt\n",
        "from sklearn.datasets import make_classification\n",
        "from numpy import mean\n"
      ],
      "execution_count": 1,
      "outputs": []
    },
    {
      "cell_type": "markdown",
      "metadata": {
        "id": "fp8C0d28lQok"
      },
      "source": [
        "Importing and Preparing Dataset"
      ]
    },
    {
      "cell_type": "code",
      "metadata": {
        "id": "_0xehllADlUs",
        "colab": {
          "base_uri": "https://localhost:8080/"
        },
        "outputId": "5caebb6e-1f70-432c-b184-f0769f99e629"
      },
      "source": [
        "!pip install pyunpack\n",
        "!pip install patool\n",
        "from pyunpack import Archive\n",
        "Archive('/content/fold5.rar').extractall('/content/Datasets/')\n",
        "iterasi = 5\n",
        "width=60\n",
        "height=60\n",
        "default_image_size = tuple((height, width))\n",
        "directory_root_train = '/content/Datasets/fold5/Train'\n",
        "directory_root_validation = '/content/Datasets/fold5/Validation'\n",
        "directory_root_test = '/content/Datasets/fold5/Test'\n",
        "image_size = 0\n",
        "depth=3"
      ],
      "execution_count": 2,
      "outputs": [
        {
          "output_type": "stream",
          "name": "stdout",
          "text": [
            "Looking in indexes: https://pypi.org/simple, https://us-python.pkg.dev/colab-wheels/public/simple/\n",
            "Collecting pyunpack\n",
            "  Downloading pyunpack-0.3-py2.py3-none-any.whl (4.1 kB)\n",
            "Collecting easyprocess\n",
            "  Downloading EasyProcess-1.1-py3-none-any.whl (8.7 kB)\n",
            "Collecting entrypoint2\n",
            "  Downloading entrypoint2-1.1-py2.py3-none-any.whl (9.9 kB)\n",
            "Installing collected packages: entrypoint2, easyprocess, pyunpack\n",
            "Successfully installed easyprocess-1.1 entrypoint2-1.1 pyunpack-0.3\n",
            "Looking in indexes: https://pypi.org/simple, https://us-python.pkg.dev/colab-wheels/public/simple/\n",
            "Collecting patool\n",
            "  Downloading patool-1.12-py2.py3-none-any.whl (77 kB)\n",
            "\u001b[K     |████████████████████████████████| 77 kB 6.8 MB/s \n",
            "\u001b[?25hInstalling collected packages: patool\n",
            "Successfully installed patool-1.12\n"
          ]
        }
      ]
    },
    {
      "cell_type": "code",
      "metadata": {
        "id": "KbAwJJTpzmge"
      },
      "source": [
        "def convert_image_to_array(image_dir):\n",
        "    try:\n",
        "        image = cv2.imread(image_dir)\n",
        "        if image is not None :\n",
        "            image = cv2.resize(image, default_image_size)   \n",
        "            return keras.preprocessing.image.img_to_array(image)\n",
        "        else :\n",
        "            return np.array([])\n",
        "    except Exception as e:\n",
        "        print(f\"Error : {e}\")\n",
        "        return None"
      ],
      "execution_count": 3,
      "outputs": []
    },
    {
      "cell_type": "markdown",
      "source": [
        "Converting **Training** Data to Array"
      ],
      "metadata": {
        "id": "bgXxUMO2cI_D"
      }
    },
    {
      "cell_type": "code",
      "metadata": {
        "id": "Erz6IjKXzmgg",
        "colab": {
          "base_uri": "https://localhost:8080/"
        },
        "outputId": "5bc39c90-9443-4352-a2c0-557534e732b6"
      },
      "source": [
        "image_list_train, label_list_train = [], []\n",
        "try:\n",
        "    print(\"[INFO] Loading images ...\")\n",
        "    root_dir = listdir(directory_root_train)\n",
        "\n",
        "    for plant_disease_folder in root_dir:\n",
        "        print(f\"[INFO] Processing {plant_disease_folder} ...\")\n",
        "        plant_disease_image_list = listdir(f\"{directory_root_train}/{plant_disease_folder}/\")\n",
        "      \n",
        "        for image in plant_disease_image_list:\n",
        "            image_directory = f\"{directory_root_train}/{plant_disease_folder}/{image}\"\n",
        "\n",
        "            if image_directory.endswith(\".jpg\") == True or image_directory.endswith(\".JPG\") == True:\n",
        "                image_list_train.append(convert_image_to_array(image_directory))\n",
        "                label_list_train.append(plant_disease_folder)\n",
        "    print(\"[INFO] Image loading completed\")\n",
        "\n",
        "except Exception as e:\n",
        "    print(f\"Error : {e}\")\n",
        "\n",
        "#image labeling\n",
        "image_size = len(image_list_train)\n",
        "label_binarizer = LabelBinarizer()\n",
        "image_labels_train = label_binarizer.fit_transform(label_list_train)\n",
        "pickle.dump(label_binarizer,open('label_transform_train.pkl', 'wb'))\n",
        "n_classes = len(label_binarizer.classes_)\n",
        "np_image_list_train = np.array(image_list_train, dtype=np.float16) / 255.0"
      ],
      "execution_count": 4,
      "outputs": [
        {
          "output_type": "stream",
          "name": "stdout",
          "text": [
            "[INFO] Loading images ...\n",
            "[INFO] Processing apel_sehat ...\n",
            "[INFO] Processing apel_busuk_buah ...\n",
            "[INFO] Processing apel_bercak_daun ...\n",
            "[INFO] Processing apel_cacar_daun ...\n",
            "[INFO] Image loading completed\n"
          ]
        }
      ]
    },
    {
      "cell_type": "markdown",
      "source": [
        "Converting **Validation** Data to Array"
      ],
      "metadata": {
        "id": "7eEMGiqRd_E4"
      }
    },
    {
      "cell_type": "code",
      "source": [
        "image_list_validation, label_list_validation = [], []\n",
        "try:\n",
        "    print(\"[INFO] Loading images ...\")\n",
        "    root_dir = listdir(directory_root_validation)\n",
        "\n",
        "    for plant_disease_folder in root_dir:\n",
        "        print(f\"[INFO] Processing {plant_disease_folder} ...\")\n",
        "        plant_disease_image_list = listdir(f\"{directory_root_validation}/{plant_disease_folder}/\")\n",
        "      \n",
        "        for image in plant_disease_image_list:\n",
        "            image_directory = f\"{directory_root_validation}/{plant_disease_folder}/{image}\"\n",
        "\n",
        "            if image_directory.endswith(\".jpg\") == True or image_directory.endswith(\".JPG\") == True:\n",
        "                image_list_validation.append(convert_image_to_array(image_directory))\n",
        "                label_list_validation.append(plant_disease_folder)\n",
        "    print(\"[INFO] Image loading completed\")\n",
        "\n",
        "except Exception as e:\n",
        "    print(f\"Error : {e}\")\n",
        "\n",
        "#image labeling\n",
        "image_size = len(image_list_validation)\n",
        "label_binarizer = LabelBinarizer()\n",
        "image_labels_validation = label_binarizer.fit_transform(label_list_validation)\n",
        "pickle.dump(label_binarizer,open('label_transform_validation.pkl', 'wb'))\n",
        "n_classes = len(label_binarizer.classes_)\n",
        "np_image_list_validation = np.array(image_list_validation, dtype=np.float16) / 255.0"
      ],
      "metadata": {
        "id": "wfHDdR0ZeEuU",
        "colab": {
          "base_uri": "https://localhost:8080/"
        },
        "outputId": "d55ac1da-fe53-467a-da37-895e0600b678"
      },
      "execution_count": 5,
      "outputs": [
        {
          "output_type": "stream",
          "name": "stdout",
          "text": [
            "[INFO] Loading images ...\n",
            "[INFO] Processing apel_sehat ...\n",
            "[INFO] Processing apel_busuk_buah ...\n",
            "[INFO] Processing apel_bercak_daun ...\n",
            "[INFO] Processing apel_cacar_daun ...\n",
            "[INFO] Image loading completed\n"
          ]
        }
      ]
    },
    {
      "cell_type": "markdown",
      "source": [
        "Converting **Testing** Data to Array"
      ],
      "metadata": {
        "id": "brwWyZVncTdg"
      }
    },
    {
      "cell_type": "code",
      "metadata": {
        "id": "uNPby5UMcaWY",
        "colab": {
          "base_uri": "https://localhost:8080/"
        },
        "outputId": "e58c2040-dff3-4a65-e502-e00a6862b1fc"
      },
      "source": [
        "image_list_test, label_list_test = [], []\n",
        "try:\n",
        "    print(\"[INFO] Loading images ...\")\n",
        "    root_dir = listdir(directory_root_test)\n",
        "\n",
        "    for plant_disease_folder in root_dir:\n",
        "        print(f\"[INFO] Processing {plant_disease_folder} ...\")\n",
        "        plant_disease_image_list = listdir(f\"{directory_root_test}/{plant_disease_folder}/\")\n",
        "      \n",
        "        for image in plant_disease_image_list:\n",
        "            image_directory = f\"{directory_root_test}/{plant_disease_folder}/{image}\"\n",
        "\n",
        "            if image_directory.endswith(\".jpg\") == True or image_directory.endswith(\".JPG\") == True:\n",
        "                image_list_test.append(convert_image_to_array(image_directory))\n",
        "                label_list_test.append(plant_disease_folder)\n",
        "    print(\"[INFO] Image loading completed\")\n",
        "\n",
        "except Exception as e:\n",
        "    print(f\"Error : {e}\")\n",
        "\n",
        "#image labeling\n",
        "image_size = len(image_list_test)\n",
        "label_binarizer = LabelBinarizer()\n",
        "image_labels_test = label_binarizer.fit_transform(label_list_test)\n",
        "pickle.dump(label_binarizer,open('label_transform_test.pkl', 'wb'))\n",
        "n_classes = len(label_binarizer.classes_)\n",
        "np_image_list_test = np.array(image_list_test, dtype=np.float16) / 255.0"
      ],
      "execution_count": 6,
      "outputs": [
        {
          "output_type": "stream",
          "name": "stdout",
          "text": [
            "[INFO] Loading images ...\n",
            "[INFO] Processing apel_sehat ...\n",
            "[INFO] Processing apel_busuk_buah ...\n",
            "[INFO] Processing apel_bercak_daun ...\n",
            "[INFO] Processing apel_cacar_daun ...\n",
            "[INFO] Image loading completed\n"
          ]
        }
      ]
    },
    {
      "cell_type": "markdown",
      "metadata": {
        "id": "jYBTFN0CnAi7"
      },
      "source": [
        "Data Augmenting Initialization"
      ]
    },
    {
      "cell_type": "code",
      "metadata": {
        "id": "TLMxMK2Tzmgr"
      },
      "source": [
        "aug = keras.preprocessing.image.ImageDataGenerator(\n",
        "    rotation_range=25, \n",
        "    width_shift_range=0.1,\n",
        "    height_shift_range=0.1, \n",
        "    shear_range=0.2, \n",
        "    zoom_range=0.2,\n",
        "    horizontal_flip=True, \n",
        "    fill_mode=\"nearest\")"
      ],
      "execution_count": 7,
      "outputs": []
    },
    {
      "cell_type": "markdown",
      "metadata": {
        "id": "H1BfRyYNnGv_"
      },
      "source": [
        "Creating CNN Model"
      ]
    },
    {
      "cell_type": "code",
      "metadata": {
        "id": "WmLX4wm8zmgs"
      },
      "source": [
        "model = keras.models.Sequential()\n",
        "#inputShape = (height, width, depth)\n",
        "inputShape = (60,60,3)\n",
        "\n",
        "model.add(Conv2D(20, (5, 5), padding=\"same\",input_shape=inputShape))\n",
        "model.add(Activation(\"relu\"))\n",
        "\n",
        "model.add(MaxPooling2D(pool_size=(2, 2), strides=2))\n",
        "\n",
        "model.add(Conv2D(50, (5, 5), padding=\"same\"))\n",
        "model.add(Activation(\"relu\"))\n",
        "\n",
        "model.add(MaxPooling2D(pool_size=(2, 2),strides=2))\n",
        "\n",
        "model.add(Flatten())\n",
        "\n",
        "model.add(Dense(500))\n",
        "model.add(Activation(\"relu\"))\n",
        "\n",
        "model.add(Dense(4))\n",
        "model.add(Activation(\"softmax\"))"
      ],
      "execution_count": 8,
      "outputs": []
    },
    {
      "cell_type": "code",
      "source": [
        "model.summary()"
      ],
      "metadata": {
        "id": "RQIgaph8hW06",
        "colab": {
          "base_uri": "https://localhost:8080/"
        },
        "outputId": "93f63b7f-560f-4677-d650-b49d86f58631"
      },
      "execution_count": 9,
      "outputs": [
        {
          "output_type": "stream",
          "name": "stdout",
          "text": [
            "Model: \"sequential\"\n",
            "_________________________________________________________________\n",
            " Layer (type)                Output Shape              Param #   \n",
            "=================================================================\n",
            " conv2d (Conv2D)             (None, 60, 60, 20)        1520      \n",
            "                                                                 \n",
            " activation (Activation)     (None, 60, 60, 20)        0         \n",
            "                                                                 \n",
            " max_pooling2d (MaxPooling2D  (None, 30, 30, 20)       0         \n",
            " )                                                               \n",
            "                                                                 \n",
            " conv2d_1 (Conv2D)           (None, 30, 30, 50)        25050     \n",
            "                                                                 \n",
            " activation_1 (Activation)   (None, 30, 30, 50)        0         \n",
            "                                                                 \n",
            " max_pooling2d_1 (MaxPooling  (None, 15, 15, 50)       0         \n",
            " 2D)                                                             \n",
            "                                                                 \n",
            " flatten (Flatten)           (None, 11250)             0         \n",
            "                                                                 \n",
            " dense (Dense)               (None, 500)               5625500   \n",
            "                                                                 \n",
            " activation_2 (Activation)   (None, 500)               0         \n",
            "                                                                 \n",
            " dense_1 (Dense)             (None, 4)                 2004      \n",
            "                                                                 \n",
            " activation_3 (Activation)   (None, 4)                 0         \n",
            "                                                                 \n",
            "=================================================================\n",
            "Total params: 5,654,074\n",
            "Trainable params: 5,654,074\n",
            "Non-trainable params: 0\n",
            "_________________________________________________________________\n"
          ]
        }
      ]
    },
    {
      "cell_type": "code",
      "source": [
        "#from PIL import Image\n",
        "#from keras.utils.vis_utils import plot_model\n",
        "#plot_model(model, to_file='cnn_model.png', show_shapes=True, show_layer_names=True)\n",
        "#display(Image.open('cnn_model.png'))"
      ],
      "metadata": {
        "id": "T05gPuu1GudW"
      },
      "execution_count": 10,
      "outputs": []
    },
    {
      "cell_type": "markdown",
      "metadata": {
        "id": "Zfsu3lVfnXFG"
      },
      "source": [
        "**Training** Network"
      ]
    },
    {
      "cell_type": "code",
      "metadata": {
        "id": "rvwKwe3Lzmgv",
        "colab": {
          "base_uri": "https://localhost:8080/"
        },
        "outputId": "132a1ac8-8262-4a74-a481-c8ad1a690b9a"
      },
      "source": [
        "EPOCHS = 200\n",
        "INIT_LR = 1e-3\n",
        "BS = 8\n",
        "\n",
        "with tf.device('/GPU:0'):\n",
        "  opt = Adam(learning_rate=INIT_LR, decay=INIT_LR / EPOCHS)\n",
        "  model.compile(loss=\"categorical_crossentropy\", optimizer=opt,metrics=[\"Accuracy\", \"FalseNegatives\", \"FalsePositives\", \"TrueNegatives\", \"TruePositives\"])\n",
        "  \n",
        "  history = model.fit(\n",
        "      aug.flow(np_image_list_train, image_labels_train, batch_size=BS),\n",
        "      validation_data=(np_image_list_validation, image_labels_validation),\n",
        "      steps_per_epoch=len(np_image_list_train) // BS,\n",
        "      epochs=EPOCHS, \n",
        "      verbose=1,\n",
        "      )\n"
      ],
      "execution_count": 11,
      "outputs": [
        {
          "output_type": "stream",
          "name": "stdout",
          "text": [
            "Epoch 1/200\n",
            "44/44 [==============================] - 17s 48ms/step - loss: 1.3657 - Accuracy: 0.4006 - false_negatives: 342.0000 - false_positives: 9.0000 - true_negatives: 1047.0000 - true_positives: 10.0000 - val_loss: 1.2335 - val_Accuracy: 0.4348 - val_false_negatives: 69.0000 - val_false_positives: 10.0000 - val_true_negatives: 266.0000 - val_true_positives: 23.0000\n",
            "Epoch 2/200\n",
            "44/44 [==============================] - 1s 14ms/step - loss: 1.1609 - Accuracy: 0.4744 - false_negatives: 245.0000 - false_positives: 50.0000 - true_negatives: 1006.0000 - true_positives: 107.0000 - val_loss: 1.2191 - val_Accuracy: 0.4239 - val_false_negatives: 63.0000 - val_false_positives: 22.0000 - val_true_negatives: 254.0000 - val_true_positives: 29.0000\n",
            "Epoch 3/200\n",
            "44/44 [==============================] - 1s 14ms/step - loss: 1.0834 - Accuracy: 0.5710 - false_negatives: 236.0000 - false_positives: 45.0000 - true_negatives: 1011.0000 - true_positives: 116.0000 - val_loss: 1.2362 - val_Accuracy: 0.5761 - val_false_negatives: 66.0000 - val_false_positives: 13.0000 - val_true_negatives: 263.0000 - val_true_positives: 26.0000\n",
            "Epoch 4/200\n",
            "44/44 [==============================] - 1s 14ms/step - loss: 1.0432 - Accuracy: 0.5795 - false_negatives: 237.0000 - false_positives: 31.0000 - true_negatives: 1025.0000 - true_positives: 115.0000 - val_loss: 1.1799 - val_Accuracy: 0.5978 - val_false_negatives: 67.0000 - val_false_positives: 12.0000 - val_true_negatives: 264.0000 - val_true_positives: 25.0000\n",
            "Epoch 5/200\n",
            "44/44 [==============================] - 1s 14ms/step - loss: 1.0719 - Accuracy: 0.5710 - false_negatives: 223.0000 - false_positives: 55.0000 - true_negatives: 1001.0000 - true_positives: 129.0000 - val_loss: 1.1479 - val_Accuracy: 0.5652 - val_false_negatives: 60.0000 - val_false_positives: 13.0000 - val_true_negatives: 263.0000 - val_true_positives: 32.0000\n",
            "Epoch 6/200\n",
            "44/44 [==============================] - 1s 14ms/step - loss: 0.9919 - Accuracy: 0.6080 - false_negatives: 228.0000 - false_positives: 42.0000 - true_negatives: 1014.0000 - true_positives: 124.0000 - val_loss: 1.2784 - val_Accuracy: 0.5978 - val_false_negatives: 41.0000 - val_false_positives: 32.0000 - val_true_negatives: 244.0000 - val_true_positives: 51.0000\n",
            "Epoch 7/200\n",
            "44/44 [==============================] - 1s 14ms/step - loss: 0.9549 - Accuracy: 0.6136 - false_negatives: 194.0000 - false_positives: 60.0000 - true_negatives: 996.0000 - true_positives: 158.0000 - val_loss: 1.2373 - val_Accuracy: 0.5652 - val_false_negatives: 62.0000 - val_false_positives: 15.0000 - val_true_negatives: 261.0000 - val_true_positives: 30.0000\n",
            "Epoch 8/200\n",
            "44/44 [==============================] - 1s 14ms/step - loss: 0.9575 - Accuracy: 0.6278 - false_negatives: 216.0000 - false_positives: 35.0000 - true_negatives: 1021.0000 - true_positives: 136.0000 - val_loss: 1.1811 - val_Accuracy: 0.6087 - val_false_negatives: 52.0000 - val_false_positives: 18.0000 - val_true_negatives: 258.0000 - val_true_positives: 40.0000\n",
            "Epoch 9/200\n",
            "44/44 [==============================] - 1s 14ms/step - loss: 0.9616 - Accuracy: 0.6278 - false_negatives: 200.0000 - false_positives: 53.0000 - true_negatives: 1003.0000 - true_positives: 152.0000 - val_loss: 1.1827 - val_Accuracy: 0.5652 - val_false_negatives: 51.0000 - val_false_positives: 18.0000 - val_true_negatives: 258.0000 - val_true_positives: 41.0000\n",
            "Epoch 10/200\n",
            "44/44 [==============================] - 1s 14ms/step - loss: 0.9248 - Accuracy: 0.6307 - false_negatives: 199.0000 - false_positives: 43.0000 - true_negatives: 1013.0000 - true_positives: 153.0000 - val_loss: 1.1398 - val_Accuracy: 0.5978 - val_false_negatives: 61.0000 - val_false_positives: 9.0000 - val_true_negatives: 267.0000 - val_true_positives: 31.0000\n",
            "Epoch 11/200\n",
            "44/44 [==============================] - 1s 14ms/step - loss: 0.9047 - Accuracy: 0.6477 - false_negatives: 198.0000 - false_positives: 46.0000 - true_negatives: 1010.0000 - true_positives: 154.0000 - val_loss: 1.2705 - val_Accuracy: 0.6087 - val_false_negatives: 61.0000 - val_false_positives: 11.0000 - val_true_negatives: 265.0000 - val_true_positives: 31.0000\n",
            "Epoch 12/200\n",
            "44/44 [==============================] - 1s 14ms/step - loss: 0.9405 - Accuracy: 0.6193 - false_negatives: 202.0000 - false_positives: 53.0000 - true_negatives: 1003.0000 - true_positives: 150.0000 - val_loss: 1.0881 - val_Accuracy: 0.6848 - val_false_negatives: 52.0000 - val_false_positives: 11.0000 - val_true_negatives: 265.0000 - val_true_positives: 40.0000\n",
            "Epoch 13/200\n",
            "44/44 [==============================] - 1s 13ms/step - loss: 0.8991 - Accuracy: 0.6619 - false_negatives: 182.0000 - false_positives: 56.0000 - true_negatives: 1000.0000 - true_positives: 170.0000 - val_loss: 1.1329 - val_Accuracy: 0.6848 - val_false_negatives: 46.0000 - val_false_positives: 15.0000 - val_true_negatives: 261.0000 - val_true_positives: 46.0000\n",
            "Epoch 14/200\n",
            "44/44 [==============================] - 1s 14ms/step - loss: 0.8755 - Accuracy: 0.6761 - false_negatives: 181.0000 - false_positives: 51.0000 - true_negatives: 1005.0000 - true_positives: 171.0000 - val_loss: 1.1237 - val_Accuracy: 0.6630 - val_false_negatives: 44.0000 - val_false_positives: 19.0000 - val_true_negatives: 257.0000 - val_true_positives: 48.0000\n",
            "Epoch 15/200\n",
            "44/44 [==============================] - 1s 14ms/step - loss: 0.8854 - Accuracy: 0.6562 - false_negatives: 167.0000 - false_positives: 66.0000 - true_negatives: 990.0000 - true_positives: 185.0000 - val_loss: 1.1455 - val_Accuracy: 0.6522 - val_false_negatives: 49.0000 - val_false_positives: 14.0000 - val_true_negatives: 262.0000 - val_true_positives: 43.0000\n",
            "Epoch 16/200\n",
            "44/44 [==============================] - 1s 14ms/step - loss: 0.8608 - Accuracy: 0.6761 - false_negatives: 163.0000 - false_positives: 55.0000 - true_negatives: 1001.0000 - true_positives: 189.0000 - val_loss: 1.1983 - val_Accuracy: 0.5978 - val_false_negatives: 52.0000 - val_false_positives: 16.0000 - val_true_negatives: 260.0000 - val_true_positives: 40.0000\n",
            "Epoch 17/200\n",
            "44/44 [==============================] - 1s 14ms/step - loss: 0.9069 - Accuracy: 0.6733 - false_negatives: 174.0000 - false_positives: 60.0000 - true_negatives: 996.0000 - true_positives: 178.0000 - val_loss: 1.1360 - val_Accuracy: 0.6413 - val_false_negatives: 43.0000 - val_false_positives: 21.0000 - val_true_negatives: 255.0000 - val_true_positives: 49.0000\n",
            "Epoch 18/200\n",
            "44/44 [==============================] - 1s 14ms/step - loss: 0.8721 - Accuracy: 0.6591 - false_negatives: 162.0000 - false_positives: 64.0000 - true_negatives: 992.0000 - true_positives: 190.0000 - val_loss: 1.1630 - val_Accuracy: 0.6739 - val_false_negatives: 41.0000 - val_false_positives: 18.0000 - val_true_negatives: 258.0000 - val_true_positives: 51.0000\n",
            "Epoch 19/200\n",
            "44/44 [==============================] - 1s 14ms/step - loss: 0.8588 - Accuracy: 0.6705 - false_negatives: 163.0000 - false_positives: 55.0000 - true_negatives: 1001.0000 - true_positives: 189.0000 - val_loss: 1.0975 - val_Accuracy: 0.6630 - val_false_negatives: 53.0000 - val_false_positives: 11.0000 - val_true_negatives: 265.0000 - val_true_positives: 39.0000\n",
            "Epoch 20/200\n",
            "44/44 [==============================] - 1s 14ms/step - loss: 0.8305 - Accuracy: 0.6989 - false_negatives: 153.0000 - false_positives: 56.0000 - true_negatives: 1000.0000 - true_positives: 199.0000 - val_loss: 1.2404 - val_Accuracy: 0.6196 - val_false_negatives: 41.0000 - val_false_positives: 29.0000 - val_true_negatives: 247.0000 - val_true_positives: 51.0000\n",
            "Epoch 21/200\n",
            "44/44 [==============================] - 1s 13ms/step - loss: 0.8523 - Accuracy: 0.6676 - false_negatives: 161.0000 - false_positives: 71.0000 - true_negatives: 985.0000 - true_positives: 191.0000 - val_loss: 1.1494 - val_Accuracy: 0.4239 - val_false_negatives: 63.0000 - val_false_positives: 24.0000 - val_true_negatives: 252.0000 - val_true_positives: 29.0000\n",
            "Epoch 22/200\n",
            "44/44 [==============================] - 1s 14ms/step - loss: 0.8064 - Accuracy: 0.6960 - false_negatives: 140.0000 - false_positives: 67.0000 - true_negatives: 989.0000 - true_positives: 212.0000 - val_loss: 1.1009 - val_Accuracy: 0.7391 - val_false_negatives: 38.0000 - val_false_positives: 17.0000 - val_true_negatives: 259.0000 - val_true_positives: 54.0000\n",
            "Epoch 23/200\n",
            "44/44 [==============================] - 1s 14ms/step - loss: 0.8094 - Accuracy: 0.6818 - false_negatives: 149.0000 - false_positives: 65.0000 - true_negatives: 991.0000 - true_positives: 203.0000 - val_loss: 1.1951 - val_Accuracy: 0.5761 - val_false_negatives: 53.0000 - val_false_positives: 20.0000 - val_true_negatives: 256.0000 - val_true_positives: 39.0000\n",
            "Epoch 24/200\n",
            "44/44 [==============================] - 1s 14ms/step - loss: 0.8169 - Accuracy: 0.6761 - false_negatives: 151.0000 - false_positives: 72.0000 - true_negatives: 984.0000 - true_positives: 201.0000 - val_loss: 1.0820 - val_Accuracy: 0.6630 - val_false_negatives: 44.0000 - val_false_positives: 14.0000 - val_true_negatives: 262.0000 - val_true_positives: 48.0000\n",
            "Epoch 25/200\n",
            "44/44 [==============================] - 1s 14ms/step - loss: 0.7710 - Accuracy: 0.6989 - false_negatives: 136.0000 - false_positives: 64.0000 - true_negatives: 992.0000 - true_positives: 216.0000 - val_loss: 1.0739 - val_Accuracy: 0.6304 - val_false_negatives: 44.0000 - val_false_positives: 16.0000 - val_true_negatives: 260.0000 - val_true_positives: 48.0000\n",
            "Epoch 26/200\n",
            "44/44 [==============================] - 1s 14ms/step - loss: 0.8001 - Accuracy: 0.7017 - false_negatives: 139.0000 - false_positives: 63.0000 - true_negatives: 993.0000 - true_positives: 213.0000 - val_loss: 1.0888 - val_Accuracy: 0.6196 - val_false_negatives: 48.0000 - val_false_positives: 17.0000 - val_true_negatives: 259.0000 - val_true_positives: 44.0000\n",
            "Epoch 27/200\n",
            "44/44 [==============================] - 1s 14ms/step - loss: 0.8043 - Accuracy: 0.6875 - false_negatives: 151.0000 - false_positives: 63.0000 - true_negatives: 993.0000 - true_positives: 201.0000 - val_loss: 1.0919 - val_Accuracy: 0.6196 - val_false_negatives: 47.0000 - val_false_positives: 16.0000 - val_true_negatives: 260.0000 - val_true_positives: 45.0000\n",
            "Epoch 28/200\n",
            "44/44 [==============================] - 1s 14ms/step - loss: 0.7584 - Accuracy: 0.6960 - false_negatives: 145.0000 - false_positives: 64.0000 - true_negatives: 992.0000 - true_positives: 207.0000 - val_loss: 1.0861 - val_Accuracy: 0.6848 - val_false_negatives: 34.0000 - val_false_positives: 18.0000 - val_true_negatives: 258.0000 - val_true_positives: 58.0000\n",
            "Epoch 29/200\n",
            "44/44 [==============================] - 1s 14ms/step - loss: 0.7781 - Accuracy: 0.6818 - false_negatives: 136.0000 - false_positives: 68.0000 - true_negatives: 988.0000 - true_positives: 216.0000 - val_loss: 1.0839 - val_Accuracy: 0.6413 - val_false_negatives: 40.0000 - val_false_positives: 18.0000 - val_true_negatives: 258.0000 - val_true_positives: 52.0000\n",
            "Epoch 30/200\n",
            "44/44 [==============================] - 1s 14ms/step - loss: 0.7490 - Accuracy: 0.7074 - false_negatives: 144.0000 - false_positives: 63.0000 - true_negatives: 993.0000 - true_positives: 208.0000 - val_loss: 1.1983 - val_Accuracy: 0.6196 - val_false_negatives: 40.0000 - val_false_positives: 26.0000 - val_true_negatives: 250.0000 - val_true_positives: 52.0000\n",
            "Epoch 31/200\n",
            "44/44 [==============================] - 1s 14ms/step - loss: 0.7599 - Accuracy: 0.6903 - false_negatives: 148.0000 - false_positives: 55.0000 - true_negatives: 1001.0000 - true_positives: 204.0000 - val_loss: 1.1280 - val_Accuracy: 0.6087 - val_false_negatives: 45.0000 - val_false_positives: 21.0000 - val_true_negatives: 255.0000 - val_true_positives: 47.0000\n",
            "Epoch 32/200\n",
            "44/44 [==============================] - 1s 14ms/step - loss: 0.7495 - Accuracy: 0.7017 - false_negatives: 141.0000 - false_positives: 65.0000 - true_negatives: 991.0000 - true_positives: 211.0000 - val_loss: 1.2303 - val_Accuracy: 0.5217 - val_false_negatives: 52.0000 - val_false_positives: 34.0000 - val_true_negatives: 242.0000 - val_true_positives: 40.0000\n",
            "Epoch 33/200\n",
            "44/44 [==============================] - 1s 14ms/step - loss: 0.7516 - Accuracy: 0.7188 - false_negatives: 129.0000 - false_positives: 58.0000 - true_negatives: 998.0000 - true_positives: 223.0000 - val_loss: 1.0722 - val_Accuracy: 0.6304 - val_false_negatives: 41.0000 - val_false_positives: 24.0000 - val_true_negatives: 252.0000 - val_true_positives: 51.0000\n",
            "Epoch 34/200\n",
            "44/44 [==============================] - 1s 14ms/step - loss: 0.7829 - Accuracy: 0.6960 - false_negatives: 143.0000 - false_positives: 59.0000 - true_negatives: 997.0000 - true_positives: 209.0000 - val_loss: 1.1091 - val_Accuracy: 0.6196 - val_false_negatives: 41.0000 - val_false_positives: 24.0000 - val_true_negatives: 252.0000 - val_true_positives: 51.0000\n",
            "Epoch 35/200\n",
            "44/44 [==============================] - 1s 14ms/step - loss: 0.7249 - Accuracy: 0.7102 - false_negatives: 127.0000 - false_positives: 65.0000 - true_negatives: 991.0000 - true_positives: 225.0000 - val_loss: 1.1854 - val_Accuracy: 0.6739 - val_false_negatives: 35.0000 - val_false_positives: 21.0000 - val_true_negatives: 255.0000 - val_true_positives: 57.0000\n",
            "Epoch 36/200\n",
            "44/44 [==============================] - 1s 14ms/step - loss: 0.7119 - Accuracy: 0.7358 - false_negatives: 120.0000 - false_positives: 68.0000 - true_negatives: 988.0000 - true_positives: 232.0000 - val_loss: 1.3138 - val_Accuracy: 0.5870 - val_false_negatives: 49.0000 - val_false_positives: 27.0000 - val_true_negatives: 249.0000 - val_true_positives: 43.0000\n",
            "Epoch 37/200\n",
            "44/44 [==============================] - 1s 14ms/step - loss: 0.6830 - Accuracy: 0.7500 - false_negatives: 115.0000 - false_positives: 60.0000 - true_negatives: 996.0000 - true_positives: 237.0000 - val_loss: 1.1714 - val_Accuracy: 0.5870 - val_false_negatives: 46.0000 - val_false_positives: 29.0000 - val_true_negatives: 247.0000 - val_true_positives: 46.0000\n",
            "Epoch 38/200\n",
            "44/44 [==============================] - 1s 14ms/step - loss: 0.7088 - Accuracy: 0.7500 - false_negatives: 120.0000 - false_positives: 59.0000 - true_negatives: 997.0000 - true_positives: 232.0000 - val_loss: 1.1990 - val_Accuracy: 0.5978 - val_false_negatives: 41.0000 - val_false_positives: 31.0000 - val_true_negatives: 245.0000 - val_true_positives: 51.0000\n",
            "Epoch 39/200\n",
            "44/44 [==============================] - 1s 14ms/step - loss: 0.7357 - Accuracy: 0.7244 - false_negatives: 116.0000 - false_positives: 59.0000 - true_negatives: 997.0000 - true_positives: 236.0000 - val_loss: 1.2791 - val_Accuracy: 0.5326 - val_false_negatives: 50.0000 - val_false_positives: 32.0000 - val_true_negatives: 244.0000 - val_true_positives: 42.0000\n",
            "Epoch 40/200\n",
            "44/44 [==============================] - 1s 14ms/step - loss: 0.6919 - Accuracy: 0.7330 - false_negatives: 116.0000 - false_positives: 57.0000 - true_negatives: 999.0000 - true_positives: 236.0000 - val_loss: 1.2761 - val_Accuracy: 0.5978 - val_false_negatives: 42.0000 - val_false_positives: 31.0000 - val_true_negatives: 245.0000 - val_true_positives: 50.0000\n",
            "Epoch 41/200\n",
            "44/44 [==============================] - 1s 14ms/step - loss: 0.6872 - Accuracy: 0.7273 - false_negatives: 122.0000 - false_positives: 57.0000 - true_negatives: 999.0000 - true_positives: 230.0000 - val_loss: 1.2849 - val_Accuracy: 0.5543 - val_false_negatives: 49.0000 - val_false_positives: 37.0000 - val_true_negatives: 239.0000 - val_true_positives: 43.0000\n",
            "Epoch 42/200\n",
            "44/44 [==============================] - 1s 14ms/step - loss: 0.7570 - Accuracy: 0.6960 - false_negatives: 143.0000 - false_positives: 61.0000 - true_negatives: 995.0000 - true_positives: 209.0000 - val_loss: 1.3123 - val_Accuracy: 0.5543 - val_false_negatives: 45.0000 - val_false_positives: 37.0000 - val_true_negatives: 239.0000 - val_true_positives: 47.0000\n",
            "Epoch 43/200\n",
            "44/44 [==============================] - 1s 14ms/step - loss: 0.7980 - Accuracy: 0.7017 - false_negatives: 134.0000 - false_positives: 72.0000 - true_negatives: 984.0000 - true_positives: 218.0000 - val_loss: 1.1633 - val_Accuracy: 0.5543 - val_false_negatives: 52.0000 - val_false_positives: 27.0000 - val_true_negatives: 249.0000 - val_true_positives: 40.0000\n",
            "Epoch 44/200\n",
            "44/44 [==============================] - 1s 14ms/step - loss: 0.6910 - Accuracy: 0.7415 - false_negatives: 123.0000 - false_positives: 59.0000 - true_negatives: 997.0000 - true_positives: 229.0000 - val_loss: 1.3299 - val_Accuracy: 0.5761 - val_false_negatives: 44.0000 - val_false_positives: 34.0000 - val_true_negatives: 242.0000 - val_true_positives: 48.0000\n",
            "Epoch 45/200\n",
            "44/44 [==============================] - 1s 14ms/step - loss: 0.6833 - Accuracy: 0.7528 - false_negatives: 116.0000 - false_positives: 57.0000 - true_negatives: 999.0000 - true_positives: 236.0000 - val_loss: 1.2932 - val_Accuracy: 0.6087 - val_false_negatives: 42.0000 - val_false_positives: 32.0000 - val_true_negatives: 244.0000 - val_true_positives: 50.0000\n",
            "Epoch 46/200\n",
            "44/44 [==============================] - 1s 14ms/step - loss: 0.6586 - Accuracy: 0.7642 - false_negatives: 105.0000 - false_positives: 58.0000 - true_negatives: 998.0000 - true_positives: 247.0000 - val_loss: 1.2394 - val_Accuracy: 0.5761 - val_false_negatives: 43.0000 - val_false_positives: 30.0000 - val_true_negatives: 246.0000 - val_true_positives: 49.0000\n",
            "Epoch 47/200\n",
            "44/44 [==============================] - 1s 14ms/step - loss: 0.6834 - Accuracy: 0.7301 - false_negatives: 114.0000 - false_positives: 66.0000 - true_negatives: 990.0000 - true_positives: 238.0000 - val_loss: 1.0460 - val_Accuracy: 0.5978 - val_false_negatives: 44.0000 - val_false_positives: 33.0000 - val_true_negatives: 243.0000 - val_true_positives: 48.0000\n",
            "Epoch 48/200\n",
            "44/44 [==============================] - 1s 14ms/step - loss: 0.6609 - Accuracy: 0.7585 - false_negatives: 113.0000 - false_positives: 59.0000 - true_negatives: 997.0000 - true_positives: 239.0000 - val_loss: 1.7085 - val_Accuracy: 0.5326 - val_false_negatives: 52.0000 - val_false_positives: 39.0000 - val_true_negatives: 237.0000 - val_true_positives: 40.0000\n",
            "Epoch 49/200\n",
            "44/44 [==============================] - 1s 14ms/step - loss: 0.7167 - Accuracy: 0.7472 - false_negatives: 113.0000 - false_positives: 53.0000 - true_negatives: 1003.0000 - true_positives: 239.0000 - val_loss: 1.0726 - val_Accuracy: 0.5761 - val_false_negatives: 45.0000 - val_false_positives: 30.0000 - val_true_negatives: 246.0000 - val_true_positives: 47.0000\n",
            "Epoch 50/200\n",
            "44/44 [==============================] - 1s 14ms/step - loss: 0.6576 - Accuracy: 0.7585 - false_negatives: 108.0000 - false_positives: 62.0000 - true_negatives: 994.0000 - true_positives: 244.0000 - val_loss: 1.3480 - val_Accuracy: 0.4891 - val_false_negatives: 52.0000 - val_false_positives: 37.0000 - val_true_negatives: 239.0000 - val_true_positives: 40.0000\n",
            "Epoch 51/200\n",
            "44/44 [==============================] - 1s 14ms/step - loss: 0.6336 - Accuracy: 0.7670 - false_negatives: 102.0000 - false_positives: 56.0000 - true_negatives: 1000.0000 - true_positives: 250.0000 - val_loss: 1.1353 - val_Accuracy: 0.6522 - val_false_negatives: 37.0000 - val_false_positives: 21.0000 - val_true_negatives: 255.0000 - val_true_positives: 55.0000\n",
            "Epoch 52/200\n",
            "44/44 [==============================] - 1s 14ms/step - loss: 0.6405 - Accuracy: 0.7386 - false_negatives: 107.0000 - false_positives: 62.0000 - true_negatives: 994.0000 - true_positives: 245.0000 - val_loss: 1.3306 - val_Accuracy: 0.5109 - val_false_negatives: 46.0000 - val_false_positives: 38.0000 - val_true_negatives: 238.0000 - val_true_positives: 46.0000\n",
            "Epoch 53/200\n",
            "44/44 [==============================] - 1s 14ms/step - loss: 0.6628 - Accuracy: 0.7500 - false_negatives: 111.0000 - false_positives: 74.0000 - true_negatives: 982.0000 - true_positives: 241.0000 - val_loss: 1.0978 - val_Accuracy: 0.5326 - val_false_negatives: 51.0000 - val_false_positives: 33.0000 - val_true_negatives: 243.0000 - val_true_positives: 41.0000\n",
            "Epoch 54/200\n",
            "44/44 [==============================] - 1s 14ms/step - loss: 0.6823 - Accuracy: 0.7472 - false_negatives: 109.0000 - false_positives: 56.0000 - true_negatives: 1000.0000 - true_positives: 243.0000 - val_loss: 1.5384 - val_Accuracy: 0.5435 - val_false_negatives: 49.0000 - val_false_positives: 34.0000 - val_true_negatives: 242.0000 - val_true_positives: 43.0000\n",
            "Epoch 55/200\n",
            "44/44 [==============================] - 1s 14ms/step - loss: 0.6378 - Accuracy: 0.7472 - false_negatives: 109.0000 - false_positives: 63.0000 - true_negatives: 993.0000 - true_positives: 243.0000 - val_loss: 1.3992 - val_Accuracy: 0.5870 - val_false_negatives: 41.0000 - val_false_positives: 32.0000 - val_true_negatives: 244.0000 - val_true_positives: 51.0000\n",
            "Epoch 56/200\n",
            "44/44 [==============================] - 1s 15ms/step - loss: 0.6037 - Accuracy: 0.7898 - false_negatives: 98.0000 - false_positives: 55.0000 - true_negatives: 1001.0000 - true_positives: 254.0000 - val_loss: 1.2378 - val_Accuracy: 0.5543 - val_false_negatives: 44.0000 - val_false_positives: 35.0000 - val_true_negatives: 241.0000 - val_true_positives: 48.0000\n",
            "Epoch 57/200\n",
            "44/44 [==============================] - 1s 14ms/step - loss: 0.6225 - Accuracy: 0.7614 - false_negatives: 101.0000 - false_positives: 64.0000 - true_negatives: 992.0000 - true_positives: 251.0000 - val_loss: 1.2278 - val_Accuracy: 0.5978 - val_false_negatives: 40.0000 - val_false_positives: 30.0000 - val_true_negatives: 246.0000 - val_true_positives: 52.0000\n",
            "Epoch 58/200\n",
            "44/44 [==============================] - 1s 14ms/step - loss: 0.5886 - Accuracy: 0.7841 - false_negatives: 95.0000 - false_positives: 57.0000 - true_negatives: 999.0000 - true_positives: 257.0000 - val_loss: 1.5622 - val_Accuracy: 0.5217 - val_false_negatives: 48.0000 - val_false_positives: 39.0000 - val_true_negatives: 237.0000 - val_true_positives: 44.0000\n",
            "Epoch 59/200\n",
            "44/44 [==============================] - 1s 14ms/step - loss: 0.5857 - Accuracy: 0.7784 - false_negatives: 101.0000 - false_positives: 55.0000 - true_negatives: 1001.0000 - true_positives: 251.0000 - val_loss: 1.0860 - val_Accuracy: 0.5978 - val_false_negatives: 39.0000 - val_false_positives: 31.0000 - val_true_negatives: 245.0000 - val_true_positives: 53.0000\n",
            "Epoch 60/200\n",
            "44/44 [==============================] - 1s 14ms/step - loss: 0.5784 - Accuracy: 0.7727 - false_negatives: 97.0000 - false_positives: 59.0000 - true_negatives: 997.0000 - true_positives: 255.0000 - val_loss: 0.9976 - val_Accuracy: 0.6196 - val_false_negatives: 40.0000 - val_false_positives: 27.0000 - val_true_negatives: 249.0000 - val_true_positives: 52.0000\n",
            "Epoch 61/200\n",
            "44/44 [==============================] - 1s 14ms/step - loss: 0.5843 - Accuracy: 0.7812 - false_negatives: 101.0000 - false_positives: 53.0000 - true_negatives: 1003.0000 - true_positives: 251.0000 - val_loss: 1.3275 - val_Accuracy: 0.5870 - val_false_negatives: 40.0000 - val_false_positives: 36.0000 - val_true_negatives: 240.0000 - val_true_positives: 52.0000\n",
            "Epoch 62/200\n",
            "44/44 [==============================] - 1s 14ms/step - loss: 0.6203 - Accuracy: 0.7500 - false_negatives: 101.0000 - false_positives: 64.0000 - true_negatives: 992.0000 - true_positives: 251.0000 - val_loss: 1.0266 - val_Accuracy: 0.6413 - val_false_negatives: 36.0000 - val_false_positives: 29.0000 - val_true_negatives: 247.0000 - val_true_positives: 56.0000\n",
            "Epoch 63/200\n",
            "44/44 [==============================] - 1s 14ms/step - loss: 0.6102 - Accuracy: 0.7784 - false_negatives: 93.0000 - false_positives: 61.0000 - true_negatives: 995.0000 - true_positives: 259.0000 - val_loss: 0.9946 - val_Accuracy: 0.6848 - val_false_negatives: 38.0000 - val_false_positives: 22.0000 - val_true_negatives: 254.0000 - val_true_positives: 54.0000\n",
            "Epoch 64/200\n",
            "44/44 [==============================] - 1s 14ms/step - loss: 0.6536 - Accuracy: 0.7443 - false_negatives: 117.0000 - false_positives: 62.0000 - true_negatives: 994.0000 - true_positives: 235.0000 - val_loss: 1.0687 - val_Accuracy: 0.5978 - val_false_negatives: 43.0000 - val_false_positives: 27.0000 - val_true_negatives: 249.0000 - val_true_positives: 49.0000\n",
            "Epoch 65/200\n",
            "44/44 [==============================] - 1s 14ms/step - loss: 0.6068 - Accuracy: 0.7727 - false_negatives: 100.0000 - false_positives: 55.0000 - true_negatives: 1001.0000 - true_positives: 252.0000 - val_loss: 1.3279 - val_Accuracy: 0.5761 - val_false_negatives: 42.0000 - val_false_positives: 37.0000 - val_true_negatives: 239.0000 - val_true_positives: 50.0000\n",
            "Epoch 66/200\n",
            "44/44 [==============================] - 1s 14ms/step - loss: 0.5803 - Accuracy: 0.7869 - false_negatives: 90.0000 - false_positives: 58.0000 - true_negatives: 998.0000 - true_positives: 262.0000 - val_loss: 1.2369 - val_Accuracy: 0.5652 - val_false_negatives: 43.0000 - val_false_positives: 34.0000 - val_true_negatives: 242.0000 - val_true_positives: 49.0000\n",
            "Epoch 67/200\n",
            "44/44 [==============================] - 1s 14ms/step - loss: 0.5746 - Accuracy: 0.8153 - false_negatives: 85.0000 - false_positives: 49.0000 - true_negatives: 1007.0000 - true_positives: 267.0000 - val_loss: 1.3459 - val_Accuracy: 0.5870 - val_false_negatives: 40.0000 - val_false_positives: 33.0000 - val_true_negatives: 243.0000 - val_true_positives: 52.0000\n",
            "Epoch 68/200\n",
            "44/44 [==============================] - 1s 14ms/step - loss: 0.5908 - Accuracy: 0.7841 - false_negatives: 91.0000 - false_positives: 58.0000 - true_negatives: 998.0000 - true_positives: 261.0000 - val_loss: 1.3679 - val_Accuracy: 0.5543 - val_false_negatives: 42.0000 - val_false_positives: 38.0000 - val_true_negatives: 238.0000 - val_true_positives: 50.0000\n",
            "Epoch 69/200\n",
            "44/44 [==============================] - 1s 14ms/step - loss: 0.5290 - Accuracy: 0.7983 - false_negatives: 88.0000 - false_positives: 60.0000 - true_negatives: 996.0000 - true_positives: 264.0000 - val_loss: 1.0522 - val_Accuracy: 0.7174 - val_false_negatives: 30.0000 - val_false_positives: 25.0000 - val_true_negatives: 251.0000 - val_true_positives: 62.0000\n",
            "Epoch 70/200\n",
            "44/44 [==============================] - 1s 14ms/step - loss: 0.5621 - Accuracy: 0.7983 - false_negatives: 89.0000 - false_positives: 56.0000 - true_negatives: 1000.0000 - true_positives: 263.0000 - val_loss: 1.0731 - val_Accuracy: 0.5870 - val_false_negatives: 39.0000 - val_false_positives: 31.0000 - val_true_negatives: 245.0000 - val_true_positives: 53.0000\n",
            "Epoch 71/200\n",
            "44/44 [==============================] - 1s 14ms/step - loss: 0.5766 - Accuracy: 0.8097 - false_negatives: 92.0000 - false_positives: 48.0000 - true_negatives: 1008.0000 - true_positives: 260.0000 - val_loss: 1.1767 - val_Accuracy: 0.5870 - val_false_negatives: 40.0000 - val_false_positives: 37.0000 - val_true_negatives: 239.0000 - val_true_positives: 52.0000\n",
            "Epoch 72/200\n",
            "44/44 [==============================] - 1s 14ms/step - loss: 0.6172 - Accuracy: 0.7727 - false_negatives: 99.0000 - false_positives: 61.0000 - true_negatives: 995.0000 - true_positives: 253.0000 - val_loss: 1.0371 - val_Accuracy: 0.6087 - val_false_negatives: 40.0000 - val_false_positives: 32.0000 - val_true_negatives: 244.0000 - val_true_positives: 52.0000\n",
            "Epoch 73/200\n",
            "44/44 [==============================] - 1s 14ms/step - loss: 0.5811 - Accuracy: 0.7812 - false_negatives: 93.0000 - false_positives: 58.0000 - true_negatives: 998.0000 - true_positives: 259.0000 - val_loss: 1.3766 - val_Accuracy: 0.5543 - val_false_negatives: 43.0000 - val_false_positives: 36.0000 - val_true_negatives: 240.0000 - val_true_positives: 49.0000\n",
            "Epoch 74/200\n",
            "44/44 [==============================] - 1s 15ms/step - loss: 0.5008 - Accuracy: 0.8153 - false_negatives: 76.0000 - false_positives: 48.0000 - true_negatives: 1008.0000 - true_positives: 276.0000 - val_loss: 1.1618 - val_Accuracy: 0.6087 - val_false_negatives: 37.0000 - val_false_positives: 35.0000 - val_true_negatives: 241.0000 - val_true_positives: 55.0000\n",
            "Epoch 75/200\n",
            "44/44 [==============================] - 1s 14ms/step - loss: 0.5187 - Accuracy: 0.8182 - false_negatives: 80.0000 - false_positives: 46.0000 - true_negatives: 1010.0000 - true_positives: 272.0000 - val_loss: 1.2048 - val_Accuracy: 0.6413 - val_false_negatives: 34.0000 - val_false_positives: 30.0000 - val_true_negatives: 246.0000 - val_true_positives: 58.0000\n",
            "Epoch 76/200\n",
            "44/44 [==============================] - 1s 14ms/step - loss: 0.5118 - Accuracy: 0.8125 - false_negatives: 83.0000 - false_positives: 51.0000 - true_negatives: 1005.0000 - true_positives: 269.0000 - val_loss: 1.3781 - val_Accuracy: 0.5870 - val_false_negatives: 41.0000 - val_false_positives: 38.0000 - val_true_negatives: 238.0000 - val_true_positives: 51.0000\n",
            "Epoch 77/200\n",
            "44/44 [==============================] - 1s 14ms/step - loss: 0.5258 - Accuracy: 0.7926 - false_negatives: 83.0000 - false_positives: 53.0000 - true_negatives: 1003.0000 - true_positives: 269.0000 - val_loss: 1.4014 - val_Accuracy: 0.5652 - val_false_negatives: 41.0000 - val_false_positives: 40.0000 - val_true_negatives: 236.0000 - val_true_positives: 51.0000\n",
            "Epoch 78/200\n",
            "44/44 [==============================] - 1s 14ms/step - loss: 0.6001 - Accuracy: 0.7869 - false_negatives: 91.0000 - false_positives: 59.0000 - true_negatives: 997.0000 - true_positives: 261.0000 - val_loss: 1.4449 - val_Accuracy: 0.5543 - val_false_negatives: 43.0000 - val_false_positives: 37.0000 - val_true_negatives: 239.0000 - val_true_positives: 49.0000\n",
            "Epoch 79/200\n",
            "44/44 [==============================] - 1s 14ms/step - loss: 0.5778 - Accuracy: 0.7727 - false_negatives: 89.0000 - false_positives: 60.0000 - true_negatives: 996.0000 - true_positives: 263.0000 - val_loss: 1.1052 - val_Accuracy: 0.5652 - val_false_negatives: 42.0000 - val_false_positives: 34.0000 - val_true_negatives: 242.0000 - val_true_positives: 50.0000\n",
            "Epoch 80/200\n",
            "44/44 [==============================] - 1s 14ms/step - loss: 0.5137 - Accuracy: 0.8097 - false_negatives: 81.0000 - false_positives: 51.0000 - true_negatives: 1005.0000 - true_positives: 271.0000 - val_loss: 1.1920 - val_Accuracy: 0.5543 - val_false_negatives: 41.0000 - val_false_positives: 37.0000 - val_true_negatives: 239.0000 - val_true_positives: 51.0000\n",
            "Epoch 81/200\n",
            "44/44 [==============================] - 1s 14ms/step - loss: 0.5290 - Accuracy: 0.8068 - false_negatives: 79.0000 - false_positives: 56.0000 - true_negatives: 1000.0000 - true_positives: 273.0000 - val_loss: 1.2003 - val_Accuracy: 0.5217 - val_false_negatives: 47.0000 - val_false_positives: 37.0000 - val_true_negatives: 239.0000 - val_true_positives: 45.0000\n",
            "Epoch 82/200\n",
            "44/44 [==============================] - 1s 14ms/step - loss: 0.5020 - Accuracy: 0.7812 - false_negatives: 89.0000 - false_positives: 57.0000 - true_negatives: 999.0000 - true_positives: 263.0000 - val_loss: 1.2408 - val_Accuracy: 0.6087 - val_false_negatives: 38.0000 - val_false_positives: 33.0000 - val_true_negatives: 243.0000 - val_true_positives: 54.0000\n",
            "Epoch 83/200\n",
            "44/44 [==============================] - 1s 14ms/step - loss: 0.4798 - Accuracy: 0.8267 - false_negatives: 69.0000 - false_positives: 53.0000 - true_negatives: 1003.0000 - true_positives: 283.0000 - val_loss: 0.9777 - val_Accuracy: 0.6522 - val_false_negatives: 35.0000 - val_false_positives: 30.0000 - val_true_negatives: 246.0000 - val_true_positives: 57.0000\n",
            "Epoch 84/200\n",
            "44/44 [==============================] - 1s 14ms/step - loss: 0.5206 - Accuracy: 0.8068 - false_negatives: 85.0000 - false_positives: 46.0000 - true_negatives: 1010.0000 - true_positives: 267.0000 - val_loss: 1.3243 - val_Accuracy: 0.5652 - val_false_negatives: 42.0000 - val_false_positives: 36.0000 - val_true_negatives: 240.0000 - val_true_positives: 50.0000\n",
            "Epoch 85/200\n",
            "44/44 [==============================] - 1s 14ms/step - loss: 0.4994 - Accuracy: 0.8210 - false_negatives: 74.0000 - false_positives: 50.0000 - true_negatives: 1006.0000 - true_positives: 278.0000 - val_loss: 1.2845 - val_Accuracy: 0.5652 - val_false_negatives: 43.0000 - val_false_positives: 38.0000 - val_true_negatives: 238.0000 - val_true_positives: 49.0000\n",
            "Epoch 86/200\n",
            "44/44 [==============================] - 1s 14ms/step - loss: 0.4599 - Accuracy: 0.8153 - false_negatives: 78.0000 - false_positives: 47.0000 - true_negatives: 1009.0000 - true_positives: 274.0000 - val_loss: 1.4488 - val_Accuracy: 0.6087 - val_false_negatives: 37.0000 - val_false_positives: 32.0000 - val_true_negatives: 244.0000 - val_true_positives: 55.0000\n",
            "Epoch 87/200\n",
            "44/44 [==============================] - 1s 14ms/step - loss: 0.6097 - Accuracy: 0.7784 - false_negatives: 96.0000 - false_positives: 56.0000 - true_negatives: 1000.0000 - true_positives: 256.0000 - val_loss: 1.1468 - val_Accuracy: 0.5761 - val_false_negatives: 43.0000 - val_false_positives: 35.0000 - val_true_negatives: 241.0000 - val_true_positives: 49.0000\n",
            "Epoch 88/200\n",
            "44/44 [==============================] - 1s 14ms/step - loss: 0.4827 - Accuracy: 0.8466 - false_negatives: 61.0000 - false_positives: 41.0000 - true_negatives: 1015.0000 - true_positives: 291.0000 - val_loss: 1.3937 - val_Accuracy: 0.5435 - val_false_negatives: 42.0000 - val_false_positives: 38.0000 - val_true_negatives: 238.0000 - val_true_positives: 50.0000\n",
            "Epoch 89/200\n",
            "44/44 [==============================] - 1s 14ms/step - loss: 0.4717 - Accuracy: 0.7983 - false_negatives: 84.0000 - false_positives: 48.0000 - true_negatives: 1008.0000 - true_positives: 268.0000 - val_loss: 1.2283 - val_Accuracy: 0.5761 - val_false_negatives: 40.0000 - val_false_positives: 35.0000 - val_true_negatives: 241.0000 - val_true_positives: 52.0000\n",
            "Epoch 90/200\n",
            "44/44 [==============================] - 1s 14ms/step - loss: 0.4529 - Accuracy: 0.8068 - false_negatives: 75.0000 - false_positives: 56.0000 - true_negatives: 1000.0000 - true_positives: 277.0000 - val_loss: 1.4063 - val_Accuracy: 0.6304 - val_false_negatives: 35.0000 - val_false_positives: 30.0000 - val_true_negatives: 246.0000 - val_true_positives: 57.0000\n",
            "Epoch 91/200\n",
            "44/44 [==============================] - 1s 14ms/step - loss: 0.6068 - Accuracy: 0.7756 - false_negatives: 95.0000 - false_positives: 54.0000 - true_negatives: 1002.0000 - true_positives: 257.0000 - val_loss: 1.1276 - val_Accuracy: 0.6413 - val_false_negatives: 37.0000 - val_false_positives: 29.0000 - val_true_negatives: 247.0000 - val_true_positives: 55.0000\n",
            "Epoch 92/200\n",
            "44/44 [==============================] - 1s 14ms/step - loss: 0.4488 - Accuracy: 0.8182 - false_negatives: 72.0000 - false_positives: 50.0000 - true_negatives: 1006.0000 - true_positives: 280.0000 - val_loss: 1.0655 - val_Accuracy: 0.6413 - val_false_negatives: 35.0000 - val_false_positives: 31.0000 - val_true_negatives: 245.0000 - val_true_positives: 57.0000\n",
            "Epoch 93/200\n",
            "44/44 [==============================] - 1s 14ms/step - loss: 0.4653 - Accuracy: 0.8352 - false_negatives: 72.0000 - false_positives: 44.0000 - true_negatives: 1012.0000 - true_positives: 280.0000 - val_loss: 1.2137 - val_Accuracy: 0.5761 - val_false_negatives: 41.0000 - val_false_positives: 36.0000 - val_true_negatives: 240.0000 - val_true_positives: 51.0000\n",
            "Epoch 94/200\n",
            "44/44 [==============================] - 1s 14ms/step - loss: 0.4263 - Accuracy: 0.8352 - false_negatives: 74.0000 - false_positives: 46.0000 - true_negatives: 1010.0000 - true_positives: 278.0000 - val_loss: 1.1497 - val_Accuracy: 0.5978 - val_false_negatives: 38.0000 - val_false_positives: 37.0000 - val_true_negatives: 239.0000 - val_true_positives: 54.0000\n",
            "Epoch 95/200\n",
            "44/44 [==============================] - 1s 15ms/step - loss: 0.4942 - Accuracy: 0.8125 - false_negatives: 78.0000 - false_positives: 53.0000 - true_negatives: 1003.0000 - true_positives: 274.0000 - val_loss: 1.0988 - val_Accuracy: 0.6630 - val_false_negatives: 34.0000 - val_false_positives: 28.0000 - val_true_negatives: 248.0000 - val_true_positives: 58.0000\n",
            "Epoch 96/200\n",
            "44/44 [==============================] - 1s 14ms/step - loss: 0.4761 - Accuracy: 0.8352 - false_negatives: 70.0000 - false_positives: 48.0000 - true_negatives: 1008.0000 - true_positives: 282.0000 - val_loss: 1.1824 - val_Accuracy: 0.5978 - val_false_negatives: 42.0000 - val_false_positives: 35.0000 - val_true_negatives: 241.0000 - val_true_positives: 50.0000\n",
            "Epoch 97/200\n",
            "44/44 [==============================] - 1s 14ms/step - loss: 0.4678 - Accuracy: 0.8295 - false_negatives: 73.0000 - false_positives: 45.0000 - true_negatives: 1011.0000 - true_positives: 279.0000 - val_loss: 1.5309 - val_Accuracy: 0.6413 - val_false_negatives: 33.0000 - val_false_positives: 33.0000 - val_true_negatives: 243.0000 - val_true_positives: 59.0000\n",
            "Epoch 98/200\n",
            "44/44 [==============================] - 1s 15ms/step - loss: 0.4970 - Accuracy: 0.8153 - false_negatives: 76.0000 - false_positives: 52.0000 - true_negatives: 1004.0000 - true_positives: 276.0000 - val_loss: 1.3403 - val_Accuracy: 0.5761 - val_false_negatives: 41.0000 - val_false_positives: 38.0000 - val_true_negatives: 238.0000 - val_true_positives: 51.0000\n",
            "Epoch 99/200\n",
            "44/44 [==============================] - 1s 14ms/step - loss: 0.4641 - Accuracy: 0.8324 - false_negatives: 73.0000 - false_positives: 44.0000 - true_negatives: 1012.0000 - true_positives: 279.0000 - val_loss: 1.2940 - val_Accuracy: 0.6087 - val_false_negatives: 38.0000 - val_false_positives: 35.0000 - val_true_negatives: 241.0000 - val_true_positives: 54.0000\n",
            "Epoch 100/200\n",
            "44/44 [==============================] - 1s 15ms/step - loss: 0.4173 - Accuracy: 0.8438 - false_negatives: 68.0000 - false_positives: 41.0000 - true_negatives: 1015.0000 - true_positives: 284.0000 - val_loss: 1.0731 - val_Accuracy: 0.5978 - val_false_negatives: 38.0000 - val_false_positives: 34.0000 - val_true_negatives: 242.0000 - val_true_positives: 54.0000\n",
            "Epoch 101/200\n",
            "44/44 [==============================] - 1s 15ms/step - loss: 0.4067 - Accuracy: 0.8494 - false_negatives: 67.0000 - false_positives: 45.0000 - true_negatives: 1011.0000 - true_positives: 285.0000 - val_loss: 1.3431 - val_Accuracy: 0.5435 - val_false_negatives: 42.0000 - val_false_positives: 38.0000 - val_true_negatives: 238.0000 - val_true_positives: 50.0000\n",
            "Epoch 102/200\n",
            "44/44 [==============================] - 1s 15ms/step - loss: 0.4618 - Accuracy: 0.8381 - false_negatives: 70.0000 - false_positives: 42.0000 - true_negatives: 1014.0000 - true_positives: 282.0000 - val_loss: 1.4455 - val_Accuracy: 0.5761 - val_false_negatives: 42.0000 - val_false_positives: 34.0000 - val_true_negatives: 242.0000 - val_true_positives: 50.0000\n",
            "Epoch 103/200\n",
            "44/44 [==============================] - 1s 14ms/step - loss: 0.4442 - Accuracy: 0.8324 - false_negatives: 64.0000 - false_positives: 47.0000 - true_negatives: 1009.0000 - true_positives: 288.0000 - val_loss: 1.1307 - val_Accuracy: 0.6848 - val_false_negatives: 33.0000 - val_false_positives: 27.0000 - val_true_negatives: 249.0000 - val_true_positives: 59.0000\n",
            "Epoch 104/200\n",
            "44/44 [==============================] - 1s 24ms/step - loss: 0.4583 - Accuracy: 0.8324 - false_negatives: 77.0000 - false_positives: 46.0000 - true_negatives: 1010.0000 - true_positives: 275.0000 - val_loss: 1.1413 - val_Accuracy: 0.6630 - val_false_negatives: 31.0000 - val_false_positives: 30.0000 - val_true_negatives: 246.0000 - val_true_positives: 61.0000\n",
            "Epoch 105/200\n",
            "44/44 [==============================] - 1s 23ms/step - loss: 0.3991 - Accuracy: 0.8466 - false_negatives: 60.0000 - false_positives: 45.0000 - true_negatives: 1011.0000 - true_positives: 292.0000 - val_loss: 1.2310 - val_Accuracy: 0.6087 - val_false_negatives: 37.0000 - val_false_positives: 33.0000 - val_true_negatives: 243.0000 - val_true_positives: 55.0000\n",
            "Epoch 106/200\n",
            "44/44 [==============================] - 1s 14ms/step - loss: 0.4611 - Accuracy: 0.8239 - false_negatives: 67.0000 - false_positives: 50.0000 - true_negatives: 1006.0000 - true_positives: 285.0000 - val_loss: 0.9596 - val_Accuracy: 0.7283 - val_false_negatives: 30.0000 - val_false_positives: 22.0000 - val_true_negatives: 254.0000 - val_true_positives: 62.0000\n",
            "Epoch 107/200\n",
            "44/44 [==============================] - 1s 15ms/step - loss: 0.5020 - Accuracy: 0.8381 - false_negatives: 70.0000 - false_positives: 41.0000 - true_negatives: 1015.0000 - true_positives: 282.0000 - val_loss: 1.1507 - val_Accuracy: 0.5978 - val_false_negatives: 38.0000 - val_false_positives: 32.0000 - val_true_negatives: 244.0000 - val_true_positives: 54.0000\n",
            "Epoch 108/200\n",
            "44/44 [==============================] - 1s 15ms/step - loss: 0.4212 - Accuracy: 0.8466 - false_negatives: 59.0000 - false_positives: 44.0000 - true_negatives: 1012.0000 - true_positives: 293.0000 - val_loss: 1.0766 - val_Accuracy: 0.6304 - val_false_negatives: 37.0000 - val_false_positives: 31.0000 - val_true_negatives: 245.0000 - val_true_positives: 55.0000\n",
            "Epoch 109/200\n",
            "44/44 [==============================] - 1s 14ms/step - loss: 0.4146 - Accuracy: 0.8494 - false_negatives: 63.0000 - false_positives: 39.0000 - true_negatives: 1017.0000 - true_positives: 289.0000 - val_loss: 1.3484 - val_Accuracy: 0.6196 - val_false_negatives: 37.0000 - val_false_positives: 30.0000 - val_true_negatives: 246.0000 - val_true_positives: 55.0000\n",
            "Epoch 110/200\n",
            "44/44 [==============================] - 1s 15ms/step - loss: 0.4102 - Accuracy: 0.8523 - false_negatives: 66.0000 - false_positives: 42.0000 - true_negatives: 1014.0000 - true_positives: 286.0000 - val_loss: 1.2581 - val_Accuracy: 0.6087 - val_false_negatives: 40.0000 - val_false_positives: 34.0000 - val_true_negatives: 242.0000 - val_true_positives: 52.0000\n",
            "Epoch 111/200\n",
            "44/44 [==============================] - 1s 14ms/step - loss: 0.4176 - Accuracy: 0.8494 - false_negatives: 61.0000 - false_positives: 42.0000 - true_negatives: 1014.0000 - true_positives: 291.0000 - val_loss: 1.2541 - val_Accuracy: 0.5870 - val_false_negatives: 41.0000 - val_false_positives: 34.0000 - val_true_negatives: 242.0000 - val_true_positives: 51.0000\n",
            "Epoch 112/200\n",
            "44/44 [==============================] - 1s 15ms/step - loss: 0.4070 - Accuracy: 0.8580 - false_negatives: 63.0000 - false_positives: 38.0000 - true_negatives: 1018.0000 - true_positives: 289.0000 - val_loss: 1.5134 - val_Accuracy: 0.5543 - val_false_negatives: 43.0000 - val_false_positives: 39.0000 - val_true_negatives: 237.0000 - val_true_positives: 49.0000\n",
            "Epoch 113/200\n",
            "44/44 [==============================] - 1s 15ms/step - loss: 0.3614 - Accuracy: 0.8665 - false_negatives: 57.0000 - false_positives: 42.0000 - true_negatives: 1014.0000 - true_positives: 295.0000 - val_loss: 2.1842 - val_Accuracy: 0.5870 - val_false_negatives: 39.0000 - val_false_positives: 36.0000 - val_true_negatives: 240.0000 - val_true_positives: 53.0000\n",
            "Epoch 114/200\n",
            "44/44 [==============================] - 1s 15ms/step - loss: 0.4364 - Accuracy: 0.8352 - false_negatives: 64.0000 - false_positives: 48.0000 - true_negatives: 1008.0000 - true_positives: 288.0000 - val_loss: 1.2486 - val_Accuracy: 0.6087 - val_false_negatives: 36.0000 - val_false_positives: 34.0000 - val_true_negatives: 242.0000 - val_true_positives: 56.0000\n",
            "Epoch 115/200\n",
            "44/44 [==============================] - 1s 14ms/step - loss: 0.3621 - Accuracy: 0.8750 - false_negatives: 47.0000 - false_positives: 41.0000 - true_negatives: 1015.0000 - true_positives: 305.0000 - val_loss: 1.2559 - val_Accuracy: 0.5978 - val_false_negatives: 37.0000 - val_false_positives: 35.0000 - val_true_negatives: 241.0000 - val_true_positives: 55.0000\n",
            "Epoch 116/200\n",
            "44/44 [==============================] - 1s 15ms/step - loss: 0.3371 - Accuracy: 0.8693 - false_negatives: 54.0000 - false_positives: 41.0000 - true_negatives: 1015.0000 - true_positives: 298.0000 - val_loss: 1.3979 - val_Accuracy: 0.6196 - val_false_negatives: 36.0000 - val_false_positives: 35.0000 - val_true_negatives: 241.0000 - val_true_positives: 56.0000\n",
            "Epoch 117/200\n",
            "44/44 [==============================] - 1s 15ms/step - loss: 0.4109 - Accuracy: 0.8580 - false_negatives: 61.0000 - false_positives: 42.0000 - true_negatives: 1014.0000 - true_positives: 291.0000 - val_loss: 1.1097 - val_Accuracy: 0.7065 - val_false_negatives: 28.0000 - val_false_positives: 24.0000 - val_true_negatives: 252.0000 - val_true_positives: 64.0000\n",
            "Epoch 118/200\n",
            "44/44 [==============================] - 1s 15ms/step - loss: 0.4825 - Accuracy: 0.8182 - false_negatives: 74.0000 - false_positives: 57.0000 - true_negatives: 999.0000 - true_positives: 278.0000 - val_loss: 1.3707 - val_Accuracy: 0.5978 - val_false_negatives: 40.0000 - val_false_positives: 33.0000 - val_true_negatives: 243.0000 - val_true_positives: 52.0000\n",
            "Epoch 119/200\n",
            "44/44 [==============================] - 1s 15ms/step - loss: 0.4287 - Accuracy: 0.8608 - false_negatives: 66.0000 - false_positives: 35.0000 - true_negatives: 1021.0000 - true_positives: 286.0000 - val_loss: 1.4992 - val_Accuracy: 0.5978 - val_false_negatives: 39.0000 - val_false_positives: 33.0000 - val_true_negatives: 243.0000 - val_true_positives: 53.0000\n",
            "Epoch 120/200\n",
            "44/44 [==============================] - 1s 15ms/step - loss: 0.5552 - Accuracy: 0.7955 - false_negatives: 84.0000 - false_positives: 58.0000 - true_negatives: 998.0000 - true_positives: 268.0000 - val_loss: 1.4236 - val_Accuracy: 0.5761 - val_false_negatives: 42.0000 - val_false_positives: 37.0000 - val_true_negatives: 239.0000 - val_true_positives: 50.0000\n",
            "Epoch 121/200\n",
            "44/44 [==============================] - 1s 15ms/step - loss: 0.4098 - Accuracy: 0.8409 - false_negatives: 60.0000 - false_positives: 41.0000 - true_negatives: 1015.0000 - true_positives: 292.0000 - val_loss: 1.3261 - val_Accuracy: 0.5978 - val_false_negatives: 39.0000 - val_false_positives: 36.0000 - val_true_negatives: 240.0000 - val_true_positives: 53.0000\n",
            "Epoch 122/200\n",
            "44/44 [==============================] - 1s 15ms/step - loss: 0.3863 - Accuracy: 0.8636 - false_negatives: 60.0000 - false_positives: 36.0000 - true_negatives: 1020.0000 - true_positives: 292.0000 - val_loss: 1.6011 - val_Accuracy: 0.6413 - val_false_negatives: 34.0000 - val_false_positives: 32.0000 - val_true_negatives: 244.0000 - val_true_positives: 58.0000\n",
            "Epoch 123/200\n",
            "44/44 [==============================] - 1s 14ms/step - loss: 0.3617 - Accuracy: 0.8722 - false_negatives: 52.0000 - false_positives: 38.0000 - true_negatives: 1018.0000 - true_positives: 300.0000 - val_loss: 1.6886 - val_Accuracy: 0.5761 - val_false_negatives: 39.0000 - val_false_positives: 38.0000 - val_true_negatives: 238.0000 - val_true_positives: 53.0000\n",
            "Epoch 124/200\n",
            "44/44 [==============================] - 1s 15ms/step - loss: 0.4067 - Accuracy: 0.8523 - false_negatives: 59.0000 - false_positives: 39.0000 - true_negatives: 1017.0000 - true_positives: 293.0000 - val_loss: 1.8391 - val_Accuracy: 0.6087 - val_false_negatives: 37.0000 - val_false_positives: 36.0000 - val_true_negatives: 240.0000 - val_true_positives: 55.0000\n",
            "Epoch 125/200\n",
            "44/44 [==============================] - 1s 14ms/step - loss: 0.3479 - Accuracy: 0.8949 - false_negatives: 45.0000 - false_positives: 33.0000 - true_negatives: 1023.0000 - true_positives: 307.0000 - val_loss: 1.6603 - val_Accuracy: 0.5978 - val_false_negatives: 37.0000 - val_false_positives: 35.0000 - val_true_negatives: 241.0000 - val_true_positives: 55.0000\n",
            "Epoch 126/200\n",
            "44/44 [==============================] - 1s 15ms/step - loss: 0.3379 - Accuracy: 0.8636 - false_negatives: 55.0000 - false_positives: 39.0000 - true_negatives: 1017.0000 - true_positives: 297.0000 - val_loss: 1.9720 - val_Accuracy: 0.5761 - val_false_negatives: 39.0000 - val_false_positives: 36.0000 - val_true_negatives: 240.0000 - val_true_positives: 53.0000\n",
            "Epoch 127/200\n",
            "44/44 [==============================] - 1s 15ms/step - loss: 0.4166 - Accuracy: 0.8693 - false_negatives: 59.0000 - false_positives: 41.0000 - true_negatives: 1015.0000 - true_positives: 293.0000 - val_loss: 1.3340 - val_Accuracy: 0.6413 - val_false_negatives: 34.0000 - val_false_positives: 32.0000 - val_true_negatives: 244.0000 - val_true_positives: 58.0000\n",
            "Epoch 128/200\n",
            "44/44 [==============================] - 1s 15ms/step - loss: 0.3426 - Accuracy: 0.8750 - false_negatives: 49.0000 - false_positives: 38.0000 - true_negatives: 1018.0000 - true_positives: 303.0000 - val_loss: 2.1835 - val_Accuracy: 0.5870 - val_false_negatives: 47.0000 - val_false_positives: 36.0000 - val_true_negatives: 240.0000 - val_true_positives: 45.0000\n",
            "Epoch 129/200\n",
            "44/44 [==============================] - 1s 15ms/step - loss: 0.4015 - Accuracy: 0.8551 - false_negatives: 63.0000 - false_positives: 42.0000 - true_negatives: 1014.0000 - true_positives: 289.0000 - val_loss: 1.4269 - val_Accuracy: 0.5761 - val_false_negatives: 40.0000 - val_false_positives: 36.0000 - val_true_negatives: 240.0000 - val_true_positives: 52.0000\n",
            "Epoch 130/200\n",
            "44/44 [==============================] - 1s 15ms/step - loss: 0.3886 - Accuracy: 0.8523 - false_negatives: 60.0000 - false_positives: 45.0000 - true_negatives: 1011.0000 - true_positives: 292.0000 - val_loss: 1.5174 - val_Accuracy: 0.5652 - val_false_negatives: 41.0000 - val_false_positives: 38.0000 - val_true_negatives: 238.0000 - val_true_positives: 51.0000\n",
            "Epoch 131/200\n",
            "44/44 [==============================] - 1s 14ms/step - loss: 0.3590 - Accuracy: 0.8580 - false_negatives: 59.0000 - false_positives: 42.0000 - true_negatives: 1014.0000 - true_positives: 293.0000 - val_loss: 1.4660 - val_Accuracy: 0.6413 - val_false_negatives: 34.0000 - val_false_positives: 31.0000 - val_true_negatives: 245.0000 - val_true_positives: 58.0000\n",
            "Epoch 132/200\n",
            "44/44 [==============================] - 1s 15ms/step - loss: 0.3386 - Accuracy: 0.8778 - false_negatives: 49.0000 - false_positives: 35.0000 - true_negatives: 1021.0000 - true_positives: 303.0000 - val_loss: 1.9647 - val_Accuracy: 0.6087 - val_false_negatives: 37.0000 - val_false_positives: 36.0000 - val_true_negatives: 240.0000 - val_true_positives: 55.0000\n",
            "Epoch 133/200\n",
            "44/44 [==============================] - 1s 15ms/step - loss: 0.3450 - Accuracy: 0.8750 - false_negatives: 53.0000 - false_positives: 37.0000 - true_negatives: 1019.0000 - true_positives: 299.0000 - val_loss: 1.6052 - val_Accuracy: 0.6087 - val_false_negatives: 36.0000 - val_false_positives: 34.0000 - val_true_negatives: 242.0000 - val_true_positives: 56.0000\n",
            "Epoch 134/200\n",
            "44/44 [==============================] - 1s 15ms/step - loss: 0.3366 - Accuracy: 0.8949 - false_negatives: 44.0000 - false_positives: 34.0000 - true_negatives: 1022.0000 - true_positives: 308.0000 - val_loss: 1.1746 - val_Accuracy: 0.6957 - val_false_negatives: 29.0000 - val_false_positives: 28.0000 - val_true_negatives: 248.0000 - val_true_positives: 63.0000\n",
            "Epoch 135/200\n",
            "44/44 [==============================] - 1s 15ms/step - loss: 0.3185 - Accuracy: 0.8722 - false_negatives: 47.0000 - false_positives: 37.0000 - true_negatives: 1019.0000 - true_positives: 305.0000 - val_loss: 1.5716 - val_Accuracy: 0.6413 - val_false_negatives: 34.0000 - val_false_positives: 32.0000 - val_true_negatives: 244.0000 - val_true_positives: 58.0000\n",
            "Epoch 136/200\n",
            "44/44 [==============================] - 1s 15ms/step - loss: 0.3286 - Accuracy: 0.8807 - false_negatives: 51.0000 - false_positives: 38.0000 - true_negatives: 1018.0000 - true_positives: 301.0000 - val_loss: 1.9116 - val_Accuracy: 0.5652 - val_false_negatives: 44.0000 - val_false_positives: 40.0000 - val_true_negatives: 236.0000 - val_true_positives: 48.0000\n",
            "Epoch 137/200\n",
            "44/44 [==============================] - 1s 15ms/step - loss: 0.3564 - Accuracy: 0.8608 - false_negatives: 51.0000 - false_positives: 45.0000 - true_negatives: 1011.0000 - true_positives: 301.0000 - val_loss: 1.8330 - val_Accuracy: 0.5870 - val_false_negatives: 39.0000 - val_false_positives: 38.0000 - val_true_negatives: 238.0000 - val_true_positives: 53.0000\n",
            "Epoch 138/200\n",
            "44/44 [==============================] - 1s 15ms/step - loss: 0.3366 - Accuracy: 0.8920 - false_negatives: 45.0000 - false_positives: 31.0000 - true_negatives: 1025.0000 - true_positives: 307.0000 - val_loss: 1.8563 - val_Accuracy: 0.5978 - val_false_negatives: 37.0000 - val_false_positives: 35.0000 - val_true_negatives: 241.0000 - val_true_positives: 55.0000\n",
            "Epoch 139/200\n",
            "44/44 [==============================] - 1s 15ms/step - loss: 0.2888 - Accuracy: 0.8778 - false_negatives: 47.0000 - false_positives: 34.0000 - true_negatives: 1022.0000 - true_positives: 305.0000 - val_loss: 1.8378 - val_Accuracy: 0.6196 - val_false_negatives: 35.0000 - val_false_positives: 34.0000 - val_true_negatives: 242.0000 - val_true_positives: 57.0000\n",
            "Epoch 140/200\n",
            "44/44 [==============================] - 1s 15ms/step - loss: 0.3541 - Accuracy: 0.8778 - false_negatives: 46.0000 - false_positives: 37.0000 - true_negatives: 1019.0000 - true_positives: 306.0000 - val_loss: 1.7173 - val_Accuracy: 0.6304 - val_false_negatives: 35.0000 - val_false_positives: 33.0000 - val_true_negatives: 243.0000 - val_true_positives: 57.0000\n",
            "Epoch 141/200\n",
            "44/44 [==============================] - 1s 16ms/step - loss: 0.3473 - Accuracy: 0.8778 - false_negatives: 49.0000 - false_positives: 39.0000 - true_negatives: 1017.0000 - true_positives: 303.0000 - val_loss: 1.6547 - val_Accuracy: 0.6304 - val_false_negatives: 36.0000 - val_false_positives: 34.0000 - val_true_negatives: 242.0000 - val_true_positives: 56.0000\n",
            "Epoch 142/200\n",
            "44/44 [==============================] - 1s 15ms/step - loss: 0.3148 - Accuracy: 0.8750 - false_negatives: 49.0000 - false_positives: 41.0000 - true_negatives: 1015.0000 - true_positives: 303.0000 - val_loss: 1.6486 - val_Accuracy: 0.5978 - val_false_negatives: 37.0000 - val_false_positives: 36.0000 - val_true_negatives: 240.0000 - val_true_positives: 55.0000\n",
            "Epoch 143/200\n",
            "44/44 [==============================] - 1s 18ms/step - loss: 0.2666 - Accuracy: 0.8892 - false_negatives: 44.0000 - false_positives: 35.0000 - true_negatives: 1021.0000 - true_positives: 308.0000 - val_loss: 1.7303 - val_Accuracy: 0.6087 - val_false_negatives: 37.0000 - val_false_positives: 33.0000 - val_true_negatives: 243.0000 - val_true_positives: 55.0000\n",
            "Epoch 144/200\n",
            "44/44 [==============================] - 1s 14ms/step - loss: 0.3152 - Accuracy: 0.8949 - false_negatives: 42.0000 - false_positives: 31.0000 - true_negatives: 1025.0000 - true_positives: 310.0000 - val_loss: 2.1460 - val_Accuracy: 0.6087 - val_false_negatives: 38.0000 - val_false_positives: 35.0000 - val_true_negatives: 241.0000 - val_true_positives: 54.0000\n",
            "Epoch 145/200\n",
            "44/44 [==============================] - 1s 15ms/step - loss: 0.3319 - Accuracy: 0.8807 - false_negatives: 47.0000 - false_positives: 39.0000 - true_negatives: 1017.0000 - true_positives: 305.0000 - val_loss: 1.4099 - val_Accuracy: 0.6304 - val_false_negatives: 34.0000 - val_false_positives: 33.0000 - val_true_negatives: 243.0000 - val_true_positives: 58.0000\n",
            "Epoch 146/200\n",
            "44/44 [==============================] - 1s 15ms/step - loss: 0.2664 - Accuracy: 0.8892 - false_negatives: 40.0000 - false_positives: 34.0000 - true_negatives: 1022.0000 - true_positives: 312.0000 - val_loss: 1.5782 - val_Accuracy: 0.6087 - val_false_negatives: 37.0000 - val_false_positives: 35.0000 - val_true_negatives: 241.0000 - val_true_positives: 55.0000\n",
            "Epoch 147/200\n",
            "44/44 [==============================] - 1s 14ms/step - loss: 0.3353 - Accuracy: 0.8920 - false_negatives: 43.0000 - false_positives: 34.0000 - true_negatives: 1022.0000 - true_positives: 309.0000 - val_loss: 1.5427 - val_Accuracy: 0.6413 - val_false_negatives: 33.0000 - val_false_positives: 32.0000 - val_true_negatives: 244.0000 - val_true_positives: 59.0000\n",
            "Epoch 148/200\n",
            "44/44 [==============================] - 1s 15ms/step - loss: 0.3209 - Accuracy: 0.8807 - false_negatives: 45.0000 - false_positives: 37.0000 - true_negatives: 1019.0000 - true_positives: 307.0000 - val_loss: 1.3801 - val_Accuracy: 0.6739 - val_false_negatives: 31.0000 - val_false_positives: 28.0000 - val_true_negatives: 248.0000 - val_true_positives: 61.0000\n",
            "Epoch 149/200\n",
            "44/44 [==============================] - 1s 15ms/step - loss: 0.3311 - Accuracy: 0.8636 - false_negatives: 57.0000 - false_positives: 39.0000 - true_negatives: 1017.0000 - true_positives: 295.0000 - val_loss: 1.7594 - val_Accuracy: 0.5978 - val_false_negatives: 39.0000 - val_false_positives: 37.0000 - val_true_negatives: 239.0000 - val_true_positives: 53.0000\n",
            "Epoch 150/200\n",
            "44/44 [==============================] - 1s 15ms/step - loss: 0.3917 - Accuracy: 0.8551 - false_negatives: 60.0000 - false_positives: 41.0000 - true_negatives: 1015.0000 - true_positives: 292.0000 - val_loss: 1.7899 - val_Accuracy: 0.5870 - val_false_negatives: 38.0000 - val_false_positives: 38.0000 - val_true_negatives: 238.0000 - val_true_positives: 54.0000\n",
            "Epoch 151/200\n",
            "44/44 [==============================] - 1s 15ms/step - loss: 0.3019 - Accuracy: 0.8864 - false_negatives: 49.0000 - false_positives: 36.0000 - true_negatives: 1020.0000 - true_positives: 303.0000 - val_loss: 2.0051 - val_Accuracy: 0.6087 - val_false_negatives: 36.0000 - val_false_positives: 34.0000 - val_true_negatives: 242.0000 - val_true_positives: 56.0000\n",
            "Epoch 152/200\n",
            "44/44 [==============================] - 1s 15ms/step - loss: 0.2656 - Accuracy: 0.8949 - false_negatives: 41.0000 - false_positives: 29.0000 - true_negatives: 1027.0000 - true_positives: 311.0000 - val_loss: 1.5078 - val_Accuracy: 0.6630 - val_false_negatives: 32.0000 - val_false_positives: 31.0000 - val_true_negatives: 245.0000 - val_true_positives: 60.0000\n",
            "Epoch 153/200\n",
            "44/44 [==============================] - 1s 15ms/step - loss: 0.2829 - Accuracy: 0.8892 - false_negatives: 43.0000 - false_positives: 34.0000 - true_negatives: 1022.0000 - true_positives: 309.0000 - val_loss: 1.8140 - val_Accuracy: 0.5978 - val_false_negatives: 38.0000 - val_false_positives: 36.0000 - val_true_negatives: 240.0000 - val_true_positives: 54.0000\n",
            "Epoch 154/200\n",
            "44/44 [==============================] - 1s 15ms/step - loss: 0.3307 - Accuracy: 0.8835 - false_negatives: 46.0000 - false_positives: 36.0000 - true_negatives: 1020.0000 - true_positives: 306.0000 - val_loss: 2.0602 - val_Accuracy: 0.5761 - val_false_negatives: 40.0000 - val_false_positives: 39.0000 - val_true_negatives: 237.0000 - val_true_positives: 52.0000\n",
            "Epoch 155/200\n",
            "44/44 [==============================] - 1s 15ms/step - loss: 0.2851 - Accuracy: 0.9062 - false_negatives: 39.0000 - false_positives: 31.0000 - true_negatives: 1025.0000 - true_positives: 313.0000 - val_loss: 1.6985 - val_Accuracy: 0.5870 - val_false_negatives: 38.0000 - val_false_positives: 38.0000 - val_true_negatives: 238.0000 - val_true_positives: 54.0000\n",
            "Epoch 156/200\n",
            "44/44 [==============================] - 1s 15ms/step - loss: 0.2509 - Accuracy: 0.9006 - false_negatives: 36.0000 - false_positives: 31.0000 - true_negatives: 1025.0000 - true_positives: 316.0000 - val_loss: 1.9255 - val_Accuracy: 0.4891 - val_false_negatives: 47.0000 - val_false_positives: 44.0000 - val_true_negatives: 232.0000 - val_true_positives: 45.0000\n",
            "Epoch 157/200\n",
            "44/44 [==============================] - 1s 15ms/step - loss: 0.3357 - Accuracy: 0.8636 - false_negatives: 50.0000 - false_positives: 38.0000 - true_negatives: 1018.0000 - true_positives: 302.0000 - val_loss: 1.5501 - val_Accuracy: 0.6087 - val_false_negatives: 36.0000 - val_false_positives: 35.0000 - val_true_negatives: 241.0000 - val_true_positives: 56.0000\n",
            "Epoch 158/200\n",
            "44/44 [==============================] - 1s 15ms/step - loss: 0.2583 - Accuracy: 0.9006 - false_negatives: 37.0000 - false_positives: 32.0000 - true_negatives: 1024.0000 - true_positives: 315.0000 - val_loss: 1.7740 - val_Accuracy: 0.5870 - val_false_negatives: 38.0000 - val_false_positives: 35.0000 - val_true_negatives: 241.0000 - val_true_positives: 54.0000\n",
            "Epoch 159/200\n",
            "44/44 [==============================] - 1s 15ms/step - loss: 0.2805 - Accuracy: 0.9034 - false_negatives: 38.0000 - false_positives: 27.0000 - true_negatives: 1029.0000 - true_positives: 314.0000 - val_loss: 1.6276 - val_Accuracy: 0.6848 - val_false_negatives: 31.0000 - val_false_positives: 28.0000 - val_true_negatives: 248.0000 - val_true_positives: 61.0000\n",
            "Epoch 160/200\n",
            "44/44 [==============================] - 1s 18ms/step - loss: 0.2872 - Accuracy: 0.9006 - false_negatives: 41.0000 - false_positives: 31.0000 - true_negatives: 1025.0000 - true_positives: 311.0000 - val_loss: 1.8927 - val_Accuracy: 0.5761 - val_false_negatives: 40.0000 - val_false_positives: 37.0000 - val_true_negatives: 239.0000 - val_true_positives: 52.0000\n",
            "Epoch 161/200\n",
            "44/44 [==============================] - 1s 25ms/step - loss: 0.2651 - Accuracy: 0.8977 - false_negatives: 40.0000 - false_positives: 32.0000 - true_negatives: 1024.0000 - true_positives: 312.0000 - val_loss: 1.8495 - val_Accuracy: 0.5761 - val_false_negatives: 39.0000 - val_false_positives: 37.0000 - val_true_negatives: 239.0000 - val_true_positives: 53.0000\n",
            "Epoch 162/200\n",
            "44/44 [==============================] - 1s 18ms/step - loss: 0.3570 - Accuracy: 0.8608 - false_negatives: 52.0000 - false_positives: 36.0000 - true_negatives: 1020.0000 - true_positives: 300.0000 - val_loss: 1.9958 - val_Accuracy: 0.5870 - val_false_negatives: 38.0000 - val_false_positives: 35.0000 - val_true_negatives: 241.0000 - val_true_positives: 54.0000\n",
            "Epoch 163/200\n",
            "44/44 [==============================] - 1s 15ms/step - loss: 0.3501 - Accuracy: 0.8778 - false_negatives: 45.0000 - false_positives: 41.0000 - true_negatives: 1015.0000 - true_positives: 307.0000 - val_loss: 1.6509 - val_Accuracy: 0.6739 - val_false_negatives: 30.0000 - val_false_positives: 27.0000 - val_true_negatives: 249.0000 - val_true_positives: 62.0000\n",
            "Epoch 164/200\n",
            "44/44 [==============================] - 1s 15ms/step - loss: 0.2872 - Accuracy: 0.9034 - false_negatives: 42.0000 - false_positives: 25.0000 - true_negatives: 1031.0000 - true_positives: 310.0000 - val_loss: 1.8979 - val_Accuracy: 0.6413 - val_false_negatives: 33.0000 - val_false_positives: 31.0000 - val_true_negatives: 245.0000 - val_true_positives: 59.0000\n",
            "Epoch 165/200\n",
            "44/44 [==============================] - 1s 15ms/step - loss: 0.2276 - Accuracy: 0.9148 - false_negatives: 31.0000 - false_positives: 26.0000 - true_negatives: 1030.0000 - true_positives: 321.0000 - val_loss: 1.9774 - val_Accuracy: 0.5326 - val_false_negatives: 43.0000 - val_false_positives: 40.0000 - val_true_negatives: 236.0000 - val_true_positives: 49.0000\n",
            "Epoch 166/200\n",
            "44/44 [==============================] - 1s 15ms/step - loss: 0.2625 - Accuracy: 0.8977 - false_negatives: 38.0000 - false_positives: 32.0000 - true_negatives: 1024.0000 - true_positives: 314.0000 - val_loss: 1.4126 - val_Accuracy: 0.6739 - val_false_negatives: 31.0000 - val_false_positives: 26.0000 - val_true_negatives: 250.0000 - val_true_positives: 61.0000\n",
            "Epoch 167/200\n",
            "44/44 [==============================] - 1s 15ms/step - loss: 0.3137 - Accuracy: 0.8778 - false_negatives: 48.0000 - false_positives: 40.0000 - true_negatives: 1016.0000 - true_positives: 304.0000 - val_loss: 1.4345 - val_Accuracy: 0.6413 - val_false_negatives: 33.0000 - val_false_positives: 28.0000 - val_true_negatives: 248.0000 - val_true_positives: 59.0000\n",
            "Epoch 168/200\n",
            "44/44 [==============================] - 1s 15ms/step - loss: 0.2373 - Accuracy: 0.9176 - false_negatives: 33.0000 - false_positives: 27.0000 - true_negatives: 1029.0000 - true_positives: 319.0000 - val_loss: 1.6203 - val_Accuracy: 0.5543 - val_false_negatives: 42.0000 - val_false_positives: 37.0000 - val_true_negatives: 239.0000 - val_true_positives: 50.0000\n",
            "Epoch 169/200\n",
            "44/44 [==============================] - 1s 15ms/step - loss: 0.2709 - Accuracy: 0.9091 - false_negatives: 37.0000 - false_positives: 30.0000 - true_negatives: 1026.0000 - true_positives: 315.0000 - val_loss: 1.6983 - val_Accuracy: 0.5652 - val_false_negatives: 40.0000 - val_false_positives: 37.0000 - val_true_negatives: 239.0000 - val_true_positives: 52.0000\n",
            "Epoch 170/200\n",
            "44/44 [==============================] - 1s 15ms/step - loss: 0.3288 - Accuracy: 0.8807 - false_negatives: 49.0000 - false_positives: 37.0000 - true_negatives: 1019.0000 - true_positives: 303.0000 - val_loss: 1.4457 - val_Accuracy: 0.6087 - val_false_negatives: 36.0000 - val_false_positives: 32.0000 - val_true_negatives: 244.0000 - val_true_positives: 56.0000\n",
            "Epoch 171/200\n",
            "44/44 [==============================] - 1s 15ms/step - loss: 0.2809 - Accuracy: 0.8977 - false_negatives: 41.0000 - false_positives: 34.0000 - true_negatives: 1022.0000 - true_positives: 311.0000 - val_loss: 2.1939 - val_Accuracy: 0.5652 - val_false_negatives: 40.0000 - val_false_positives: 37.0000 - val_true_negatives: 239.0000 - val_true_positives: 52.0000\n",
            "Epoch 172/200\n",
            "44/44 [==============================] - 1s 15ms/step - loss: 0.2683 - Accuracy: 0.9062 - false_negatives: 34.0000 - false_positives: 31.0000 - true_negatives: 1025.0000 - true_positives: 318.0000 - val_loss: 1.9728 - val_Accuracy: 0.5870 - val_false_negatives: 39.0000 - val_false_positives: 35.0000 - val_true_negatives: 241.0000 - val_true_positives: 53.0000\n",
            "Epoch 173/200\n",
            "44/44 [==============================] - 1s 16ms/step - loss: 0.2114 - Accuracy: 0.9062 - false_negatives: 37.0000 - false_positives: 24.0000 - true_negatives: 1032.0000 - true_positives: 315.0000 - val_loss: 2.3833 - val_Accuracy: 0.5217 - val_false_negatives: 44.0000 - val_false_positives: 42.0000 - val_true_negatives: 234.0000 - val_true_positives: 48.0000\n",
            "Epoch 174/200\n",
            "44/44 [==============================] - 1s 15ms/step - loss: 0.2641 - Accuracy: 0.9062 - false_negatives: 34.0000 - false_positives: 30.0000 - true_negatives: 1026.0000 - true_positives: 318.0000 - val_loss: 1.6422 - val_Accuracy: 0.6413 - val_false_negatives: 34.0000 - val_false_positives: 30.0000 - val_true_negatives: 246.0000 - val_true_positives: 58.0000\n",
            "Epoch 175/200\n",
            "44/44 [==============================] - 1s 15ms/step - loss: 0.2535 - Accuracy: 0.9119 - false_negatives: 36.0000 - false_positives: 27.0000 - true_negatives: 1029.0000 - true_positives: 316.0000 - val_loss: 1.3587 - val_Accuracy: 0.6630 - val_false_negatives: 33.0000 - val_false_positives: 30.0000 - val_true_negatives: 246.0000 - val_true_positives: 59.0000\n",
            "Epoch 176/200\n",
            "44/44 [==============================] - 1s 15ms/step - loss: 0.2573 - Accuracy: 0.9062 - false_negatives: 37.0000 - false_positives: 29.0000 - true_negatives: 1027.0000 - true_positives: 315.0000 - val_loss: 1.7805 - val_Accuracy: 0.5978 - val_false_negatives: 38.0000 - val_false_positives: 35.0000 - val_true_negatives: 241.0000 - val_true_positives: 54.0000\n",
            "Epoch 177/200\n",
            "44/44 [==============================] - 1s 15ms/step - loss: 0.2365 - Accuracy: 0.9034 - false_negatives: 36.0000 - false_positives: 31.0000 - true_negatives: 1025.0000 - true_positives: 316.0000 - val_loss: 1.7631 - val_Accuracy: 0.5761 - val_false_negatives: 40.0000 - val_false_positives: 38.0000 - val_true_negatives: 238.0000 - val_true_positives: 52.0000\n",
            "Epoch 178/200\n",
            "44/44 [==============================] - 1s 15ms/step - loss: 0.2685 - Accuracy: 0.9091 - false_negatives: 35.0000 - false_positives: 30.0000 - true_negatives: 1026.0000 - true_positives: 317.0000 - val_loss: 1.7197 - val_Accuracy: 0.5978 - val_false_negatives: 40.0000 - val_false_positives: 37.0000 - val_true_negatives: 239.0000 - val_true_positives: 52.0000\n",
            "Epoch 179/200\n",
            "44/44 [==============================] - 1s 16ms/step - loss: 0.2031 - Accuracy: 0.9318 - false_negatives: 26.0000 - false_positives: 19.0000 - true_negatives: 1037.0000 - true_positives: 326.0000 - val_loss: 1.5824 - val_Accuracy: 0.6304 - val_false_negatives: 34.0000 - val_false_positives: 30.0000 - val_true_negatives: 246.0000 - val_true_positives: 58.0000\n",
            "Epoch 180/200\n",
            "44/44 [==============================] - 1s 15ms/step - loss: 0.2066 - Accuracy: 0.9318 - false_negatives: 26.0000 - false_positives: 22.0000 - true_negatives: 1034.0000 - true_positives: 326.0000 - val_loss: 1.8053 - val_Accuracy: 0.5978 - val_false_negatives: 38.0000 - val_false_positives: 35.0000 - val_true_negatives: 241.0000 - val_true_positives: 54.0000\n",
            "Epoch 181/200\n",
            "44/44 [==============================] - 1s 15ms/step - loss: 0.2192 - Accuracy: 0.9233 - false_negatives: 31.0000 - false_positives: 25.0000 - true_negatives: 1031.0000 - true_positives: 321.0000 - val_loss: 1.6341 - val_Accuracy: 0.6522 - val_false_negatives: 32.0000 - val_false_positives: 32.0000 - val_true_negatives: 244.0000 - val_true_positives: 60.0000\n",
            "Epoch 182/200\n",
            "44/44 [==============================] - 1s 15ms/step - loss: 0.1453 - Accuracy: 0.9375 - false_negatives: 24.0000 - false_positives: 18.0000 - true_negatives: 1038.0000 - true_positives: 328.0000 - val_loss: 1.7942 - val_Accuracy: 0.5870 - val_false_negatives: 38.0000 - val_false_positives: 37.0000 - val_true_negatives: 239.0000 - val_true_positives: 54.0000\n",
            "Epoch 183/200\n",
            "44/44 [==============================] - 1s 15ms/step - loss: 0.1770 - Accuracy: 0.9375 - false_negatives: 25.0000 - false_positives: 16.0000 - true_negatives: 1040.0000 - true_positives: 327.0000 - val_loss: 1.9531 - val_Accuracy: 0.6522 - val_false_negatives: 32.0000 - val_false_positives: 31.0000 - val_true_negatives: 245.0000 - val_true_positives: 60.0000\n",
            "Epoch 184/200\n",
            "44/44 [==============================] - 1s 16ms/step - loss: 0.1927 - Accuracy: 0.9318 - false_negatives: 25.0000 - false_positives: 21.0000 - true_negatives: 1035.0000 - true_positives: 327.0000 - val_loss: 1.9930 - val_Accuracy: 0.5761 - val_false_negatives: 39.0000 - val_false_positives: 39.0000 - val_true_negatives: 237.0000 - val_true_positives: 53.0000\n",
            "Epoch 185/200\n",
            "44/44 [==============================] - 1s 16ms/step - loss: 0.2494 - Accuracy: 0.9034 - false_negatives: 37.0000 - false_positives: 29.0000 - true_negatives: 1027.0000 - true_positives: 315.0000 - val_loss: 1.4708 - val_Accuracy: 0.6304 - val_false_negatives: 35.0000 - val_false_positives: 33.0000 - val_true_negatives: 243.0000 - val_true_positives: 57.0000\n",
            "Epoch 186/200\n",
            "44/44 [==============================] - 1s 15ms/step - loss: 0.2622 - Accuracy: 0.9034 - false_negatives: 41.0000 - false_positives: 31.0000 - true_negatives: 1025.0000 - true_positives: 311.0000 - val_loss: 2.1808 - val_Accuracy: 0.6196 - val_false_negatives: 35.0000 - val_false_positives: 35.0000 - val_true_negatives: 241.0000 - val_true_positives: 57.0000\n",
            "Epoch 187/200\n",
            "44/44 [==============================] - 1s 16ms/step - loss: 0.2862 - Accuracy: 0.8949 - false_negatives: 38.0000 - false_positives: 31.0000 - true_negatives: 1025.0000 - true_positives: 314.0000 - val_loss: 2.0612 - val_Accuracy: 0.6087 - val_false_negatives: 37.0000 - val_false_positives: 34.0000 - val_true_negatives: 242.0000 - val_true_positives: 55.0000\n",
            "Epoch 188/200\n",
            "44/44 [==============================] - 1s 15ms/step - loss: 0.1749 - Accuracy: 0.9318 - false_negatives: 25.0000 - false_positives: 19.0000 - true_negatives: 1037.0000 - true_positives: 327.0000 - val_loss: 1.7835 - val_Accuracy: 0.6522 - val_false_negatives: 33.0000 - val_false_positives: 30.0000 - val_true_negatives: 246.0000 - val_true_positives: 59.0000\n",
            "Epoch 189/200\n",
            "44/44 [==============================] - 1s 15ms/step - loss: 0.2246 - Accuracy: 0.9148 - false_negatives: 33.0000 - false_positives: 25.0000 - true_negatives: 1031.0000 - true_positives: 319.0000 - val_loss: 1.7258 - val_Accuracy: 0.5978 - val_false_negatives: 37.0000 - val_false_positives: 36.0000 - val_true_negatives: 240.0000 - val_true_positives: 55.0000\n",
            "Epoch 190/200\n",
            "44/44 [==============================] - 1s 16ms/step - loss: 0.2156 - Accuracy: 0.9091 - false_negatives: 34.0000 - false_positives: 25.0000 - true_negatives: 1031.0000 - true_positives: 318.0000 - val_loss: 2.4426 - val_Accuracy: 0.5652 - val_false_negatives: 40.0000 - val_false_positives: 40.0000 - val_true_negatives: 236.0000 - val_true_positives: 52.0000\n",
            "Epoch 191/200\n",
            "44/44 [==============================] - 1s 15ms/step - loss: 0.2723 - Accuracy: 0.9034 - false_negatives: 36.0000 - false_positives: 28.0000 - true_negatives: 1028.0000 - true_positives: 316.0000 - val_loss: 2.6418 - val_Accuracy: 0.6087 - val_false_negatives: 37.0000 - val_false_positives: 36.0000 - val_true_negatives: 240.0000 - val_true_positives: 55.0000\n",
            "Epoch 192/200\n",
            "44/44 [==============================] - 1s 15ms/step - loss: 0.2150 - Accuracy: 0.9148 - false_negatives: 32.0000 - false_positives: 24.0000 - true_negatives: 1032.0000 - true_positives: 320.0000 - val_loss: 2.6224 - val_Accuracy: 0.5652 - val_false_negatives: 40.0000 - val_false_positives: 39.0000 - val_true_negatives: 237.0000 - val_true_positives: 52.0000\n",
            "Epoch 193/200\n",
            "44/44 [==============================] - 1s 16ms/step - loss: 0.1737 - Accuracy: 0.9290 - false_negatives: 29.0000 - false_positives: 20.0000 - true_negatives: 1036.0000 - true_positives: 323.0000 - val_loss: 2.5476 - val_Accuracy: 0.5543 - val_false_negatives: 41.0000 - val_false_positives: 41.0000 - val_true_negatives: 235.0000 - val_true_positives: 51.0000\n",
            "Epoch 194/200\n",
            "44/44 [==============================] - 1s 16ms/step - loss: 0.1804 - Accuracy: 0.9318 - false_negatives: 27.0000 - false_positives: 22.0000 - true_negatives: 1034.0000 - true_positives: 325.0000 - val_loss: 2.7254 - val_Accuracy: 0.5652 - val_false_negatives: 40.0000 - val_false_positives: 38.0000 - val_true_negatives: 238.0000 - val_true_positives: 52.0000\n",
            "Epoch 195/200\n",
            "44/44 [==============================] - 1s 16ms/step - loss: 0.2510 - Accuracy: 0.9006 - false_negatives: 35.0000 - false_positives: 34.0000 - true_negatives: 1022.0000 - true_positives: 317.0000 - val_loss: 1.9864 - val_Accuracy: 0.6087 - val_false_negatives: 38.0000 - val_false_positives: 35.0000 - val_true_negatives: 241.0000 - val_true_positives: 54.0000\n",
            "Epoch 196/200\n",
            "44/44 [==============================] - 1s 16ms/step - loss: 0.2363 - Accuracy: 0.9119 - false_negatives: 32.0000 - false_positives: 25.0000 - true_negatives: 1031.0000 - true_positives: 320.0000 - val_loss: 2.4716 - val_Accuracy: 0.6087 - val_false_negatives: 38.0000 - val_false_positives: 36.0000 - val_true_negatives: 240.0000 - val_true_positives: 54.0000\n",
            "Epoch 197/200\n",
            "44/44 [==============================] - 1s 16ms/step - loss: 0.2114 - Accuracy: 0.9205 - false_negatives: 31.0000 - false_positives: 22.0000 - true_negatives: 1034.0000 - true_positives: 321.0000 - val_loss: 1.9376 - val_Accuracy: 0.5870 - val_false_negatives: 38.0000 - val_false_positives: 38.0000 - val_true_negatives: 238.0000 - val_true_positives: 54.0000\n",
            "Epoch 198/200\n",
            "44/44 [==============================] - 1s 16ms/step - loss: 0.2137 - Accuracy: 0.9290 - false_negatives: 26.0000 - false_positives: 24.0000 - true_negatives: 1032.0000 - true_positives: 326.0000 - val_loss: 2.5673 - val_Accuracy: 0.5978 - val_false_negatives: 38.0000 - val_false_positives: 37.0000 - val_true_negatives: 239.0000 - val_true_positives: 54.0000\n",
            "Epoch 199/200\n",
            "44/44 [==============================] - 1s 16ms/step - loss: 0.2044 - Accuracy: 0.9233 - false_negatives: 31.0000 - false_positives: 23.0000 - true_negatives: 1033.0000 - true_positives: 321.0000 - val_loss: 1.9567 - val_Accuracy: 0.6087 - val_false_negatives: 37.0000 - val_false_positives: 36.0000 - val_true_negatives: 240.0000 - val_true_positives: 55.0000\n",
            "Epoch 200/200\n",
            "44/44 [==============================] - 1s 16ms/step - loss: 0.2103 - Accuracy: 0.9119 - false_negatives: 32.0000 - false_positives: 26.0000 - true_negatives: 1030.0000 - true_positives: 320.0000 - val_loss: 1.7899 - val_Accuracy: 0.6196 - val_false_negatives: 35.0000 - val_false_positives: 34.0000 - val_true_negatives: 242.0000 - val_true_positives: 57.0000\n"
          ]
        }
      ]
    },
    {
      "cell_type": "markdown",
      "source": [
        "Plotting Traning Result"
      ],
      "metadata": {
        "id": "XZSFG8fXqz7c"
      }
    },
    {
      "cell_type": "code",
      "source": [
        "  #plotting\n",
        "  epochs = range(1, len(history.history['loss'])+1)\n",
        "  plt.title(f\"Grafik loss training iterasi {iterasi}\")\n",
        "  plt.plot(epochs, history.history['loss'], 'r', label='Training Loss')\n",
        "  plt.plot(epochs, history.history['val_loss'], 'b', label='Validation Loss')    \n",
        "  plt.xlabel(\"Epoch\")\n",
        "  plt.ylabel(\"Loss\")\n",
        "  plt.legend()\n",
        "  plt.show()\n"
      ],
      "metadata": {
        "id": "3dXbDrJpY1NK",
        "colab": {
          "base_uri": "https://localhost:8080/",
          "height": 295
        },
        "outputId": "cdc76d40-0a94-475b-ba75-17292bbbccb2"
      },
      "execution_count": 12,
      "outputs": [
        {
          "output_type": "display_data",
          "data": {
            "text/plain": [
              "<Figure size 432x288 with 1 Axes>"
            ],
            "image/png": "[encoded data removed]"
          },
          "metadata": {
            "needs_background": "light"
          }
        }
      ]
    },
    {
      "cell_type": "code",
      "source": [
        "  #plotting\n",
        "  epochs = range(1, len(history.history['loss'])+1)\n",
        "  plt.title(f\"Grafik Akurasi training iterasi {iterasi}\")\n",
        "  plt.plot(epochs, history.history['Accuracy'], 'r', label='Training Accuracy')\n",
        "  plt.plot(epochs, history.history['val_Accuracy'], 'b', label='Validation Accuracy')    \n",
        "  plt.xlabel(\"Epoch\")\n",
        "  plt.ylabel(\"Accuracy\")\n",
        "  plt.legend()\n",
        "  plt.show()"
      ],
      "metadata": {
        "id": "j3xigprPwlSX",
        "colab": {
          "base_uri": "https://localhost:8080/",
          "height": 295
        },
        "outputId": "5ac0288f-0434-4a7b-83bd-298f9cce5208"
      },
      "execution_count": 13,
      "outputs": [
        {
          "output_type": "display_data",
          "data": {
            "text/plain": [
              "<Figure size 432x288 with 1 Axes>"
            ],
            "image/png": "[encoded data removed]"
          },
          "metadata": {
            "needs_background": "light"
          }
        }
      ]
    },
    {
      "cell_type": "code",
      "source": [
        "import matplotlib.pyplot as plt\n",
        "from sklearn.datasets import make_classification\n",
        "from numpy import mean\n",
        "from sklearn.metrics import confusion_matrix, ConfusionMatrixDisplay, accuracy_score, classification_report, recall_score\n",
        "\n",
        "validation = model.predict(np_image_list_validation)\n",
        "\n",
        "predicted_labels = []\n",
        "correct_labels = []\n",
        "for i in range (len(validation)):\n",
        "  predicted_labels.append(np.argmax(validation[i]))\n",
        "\n",
        "for i in range (len(image_labels_validation)):\n",
        "  correct_labels.append(np.argmax(image_labels_validation[i]))\n",
        "\n",
        "\n",
        "confusion_matrix = confusion_matrix(correct_labels, predicted_labels)\n",
        "disp = ConfusionMatrixDisplay(confusion_matrix=confusion_matrix)  \n",
        "disp.plot()\n",
        "plt.show()\n",
        "print('--------')\n",
        "FP = confusion_matrix.sum(axis=0) - np.diag(confusion_matrix)  \n",
        "FN = confusion_matrix.sum(axis=1) - np.diag(confusion_matrix)\n",
        "TP = np.diag(confusion_matrix)\n",
        "TN = confusion_matrix.sum() - (FP + FN + TP)\n",
        "\n",
        "# Sensitivity, hit rate, recall, or true positive rate\n",
        "TPR = TP/(TP+FN)\n",
        "# Specificity or true negative rate\n",
        "TNR = TN/(TN+FP) \n",
        "# Overall accuracy\n",
        "ACC = (TP+TN)/(TP+FP+FN+TN)\n",
        "\n",
        "print(TP)\n",
        "print(TN)\n",
        "print(FP)\n",
        "print(FN)\n",
        "print('--------')\n",
        "print(ACC)\n",
        "print(TPR)\n",
        "print(TNR)\n",
        "print('--------')\n",
        "\n",
        "TP = sum(TP)\n",
        "TN = sum(TN)\n",
        "FP = sum(FP)\n",
        "FN = sum(FN)\n",
        "\n",
        "# Sensitivity, hit rate, recall, or true positive rate\n",
        "TPR = TP/(TP+FN)\n",
        "# Specificity or true negative rate\n",
        "TNR = TN/(TN+FP) \n",
        "# Overall accuracy\n",
        "ACC = (TP+TN)/(TP+FP+FN+TN)\n",
        "\n",
        "print(TP)\n",
        "print(TN)\n",
        "print(FP)\n",
        "print(FN)\n",
        "print('--------')\n",
        "print(ACC)\n",
        "print(TPR)\n",
        "print(TNR)"
      ],
      "metadata": {
        "colab": {
          "base_uri": "https://localhost:8080/",
          "height": 591
        },
        "id": "y0RigLm76Rpg",
        "outputId": "e3c4de65-8ffc-4e56-998e-b19ae988cca1"
      },
      "execution_count": 14,
      "outputs": [
        {
          "output_type": "display_data",
          "data": {
            "text/plain": [
              "<Figure size 432x288 with 2 Axes>"
            ],
            "image/png": "[encoded data removed]"
          },
          "metadata": {
            "needs_background": "light"
          }
        },
        {
          "output_type": "stream",
          "name": "stdout",
          "text": [
            "--------\n",
            "[ 0  7 27 23]\n",
            "[69 73 52 47]\n",
            "[13  5 12  5]\n",
            "[10  7  1 17]\n",
            "--------\n",
            "[0.75       0.86956522 0.85869565 0.76086957]\n",
            "[0.         0.5        0.96428571 0.575     ]\n",
            "[0.84146341 0.93589744 0.8125     0.90384615]\n",
            "--------\n",
            "57\n",
            "241\n",
            "35\n",
            "35\n",
            "--------\n",
            "0.8097826086956522\n",
            "0.6195652173913043\n",
            "0.8731884057971014\n"
          ]
        }
      ]
    },
    {
      "cell_type": "code",
      "source": [
        "import matplotlib.pyplot as plt\n",
        "from sklearn.datasets import make_classification\n",
        "from numpy import mean\n",
        "from sklearn.metrics import confusion_matrix, ConfusionMatrixDisplay, accuracy_score, classification_report, recall_score\n",
        "\n",
        "test = model.predict(np_image_list_test)\n",
        "\n",
        "predicted_labels = []\n",
        "correct_labels = []\n",
        "for i in range (len(test)):\n",
        "  predicted_labels.append(np.argmax(test[i]))\n",
        "\n",
        "for i in range (len(image_labels_test)):\n",
        "  correct_labels.append(np.argmax(image_labels_test[i]))\n",
        "\n",
        "\n",
        "confusion_matrix = confusion_matrix(correct_labels, predicted_labels)\n",
        "disp = ConfusionMatrixDisplay(confusion_matrix=confusion_matrix)  \n",
        "disp.plot()\n",
        "plt.show()\n",
        "print('--------')\n",
        "FP = confusion_matrix.sum(axis=0) - np.diag(confusion_matrix)  \n",
        "FN = confusion_matrix.sum(axis=1) - np.diag(confusion_matrix)\n",
        "TP = np.diag(confusion_matrix)\n",
        "TN = confusion_matrix.sum() - (FP + FN + TP)\n",
        "\n",
        "# Sensitivity, hit rate, recall, or true positive rate\n",
        "TPR = TP/(TP+FN)\n",
        "# Specificity or true negative rate\n",
        "TNR = TN/(TN+FP) \n",
        "# Overall accuracy\n",
        "ACC = (TP+TN)/(TP+FP+FN+TN)\n",
        "\n",
        "print(TP)\n",
        "print(TN)\n",
        "print(FP)\n",
        "print(FN)\n",
        "print('--------')\n",
        "print(ACC)\n",
        "print(TPR)\n",
        "print(TNR)\n",
        "print('--------')\n",
        "\n",
        "TP = sum(TP)\n",
        "TN = sum(TN)\n",
        "FP = sum(FP)\n",
        "FN = sum(FN)\n",
        "\n",
        "# Sensitivity, hit rate, recall, or true positive rate\n",
        "TPR = TP/(TP+FN)\n",
        "# Specificity or true negative rate\n",
        "TNR = TN/(TN+FP) \n",
        "# Overall accuracy\n",
        "ACC = (TP+TN)/(TP+FP+FN+TN)\n",
        "\n",
        "print(TP)\n",
        "print(TN)\n",
        "print(FP)\n",
        "print(FN)\n",
        "print('--------')\n",
        "print(ACC)\n",
        "print(TPR)\n",
        "print(TNR)"
      ],
      "metadata": {
        "colab": {
          "base_uri": "https://localhost:8080/",
          "height": 591
        },
        "id": "xufCN02P5v4A",
        "outputId": "50d25a51-6adc-43c5-cca4-71a1550c804a"
      },
      "execution_count": 15,
      "outputs": [
        {
          "output_type": "display_data",
          "data": {
            "text/plain": [
              "<Figure size 432x288 with 2 Axes>"
            ],
            "image/png": "[encoded data removed]"
          },
          "metadata": {
            "needs_background": "light"
          }
        },
        {
          "output_type": "stream",
          "name": "stdout",
          "text": [
            "--------\n",
            "[ 0  8 15 36]\n",
            "[96 87 57 39]\n",
            "[ 2  7 21 21]\n",
            "[12  8 17 14]\n",
            "--------\n",
            "[0.87272727 0.86363636 0.65454545 0.68181818]\n",
            "[0.      0.5     0.46875 0.72   ]\n",
            "[0.97959184 0.92553191 0.73076923 0.65      ]\n",
            "--------\n",
            "59\n",
            "279\n",
            "51\n",
            "51\n",
            "--------\n",
            "0.7681818181818182\n",
            "0.5363636363636364\n",
            "0.8454545454545455\n"
          ]
        }
      ]
    },
    {
      "cell_type": "markdown",
      "metadata": {
        "id": "bTgk1-sdzmgy"
      },
      "source": [
        "**Validating** Network"
      ]
    },
    {
      "cell_type": "code",
      "source": [
        "\n"
      ],
      "metadata": {
        "id": "d_NBE4KkWuhu"
      },
      "execution_count": 15,
      "outputs": []
    },
    {
      "cell_type": "markdown",
      "source": [
        "**Testing** Network"
      ],
      "metadata": {
        "id": "saJYjKqX9tRL"
      }
    },
    {
      "cell_type": "code",
      "source": [
        "\n"
      ],
      "metadata": {
        "id": "A7DR52hmTc75"
      },
      "execution_count": 15,
      "outputs": []
    },
    {
      "cell_type": "code",
      "source": [
        "#test_img = cv2.imread('/content/Datasets/fold5/Test/apel_sehat/apel_sehat (1).jpg')\n",
        "\n",
        "#plt.imshow(test_img)\n",
        "#test_img = test_img / 255\n",
        "#test_img = np.expand_dims(test_img, axis=0)\n",
        "#pr=model.predict(test_img)\n",
        "\n",
        "#print(pr)\n",
        "#output = label_binarizer.inverse_transform(pr)\n",
        "#print(output)"
      ],
      "metadata": {
        "id": "zkMI6CwJArvo"
      },
      "execution_count": 16,
      "outputs": []
    },
    {
      "cell_type": "code",
      "source": [
        "# save the model to disk\n",
        "#print(\"[INFO] Saving model...\")\n",
        "#pickle.dump(model,open('cnn_model.pkl', 'wb'))\n",
        "#model.save('/content/fold1.h5')"
      ],
      "metadata": {
        "id": "Wr_b8qBuCAIS"
      },
      "execution_count": 17,
      "outputs": []
    }
  ]
}