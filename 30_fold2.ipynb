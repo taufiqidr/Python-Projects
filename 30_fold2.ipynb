{
  "nbformat": 4,
  "nbformat_minor": 0,
  "metadata": {
    "accelerator": "GPU",
    "colab": {
      "name": "Kodingan Skripsi 3",
      "provenance": [],
      "collapsed_sections": [],
      "include_colab_link": true
    },
    "kernelspec": {
      "display_name": "Python 3",
      "language": "python",
      "name": "python3"
    },
    "language_info": {
      "codemirror_mode": {
        "name": "ipython",
        "version": 3
      },
      "file_extension": ".py",
      "mimetype": "text/x-python",
      "name": "python",
      "nbconvert_exporter": "python",
      "pygments_lexer": "ipython3",
      "version": "3.6.6"
    }
  },
  "cells": [
    {
      "cell_type": "markdown",
      "metadata": {
        "id": "view-in-github",
        "colab_type": "text"
      },
      "source": [
        "<a href=\"https://colab.research.google.com/github/TaufiqIdrus/Python-Projects/blob/master/30_fold2.ipynb\" target=\"_parent\"><img src=\"https://colab.research.google.com/assets/colab-badge.svg\" alt=\"Open In Colab\"/></a>"
      ]
    },
    {
      "cell_type": "markdown",
      "metadata": {
        "id": "yJT_kQA2lITS"
      },
      "source": [
        "**Identifikasi Penyakit Pada Tanaman Apel menggunakan Convolutional Neural Network**"
      ]
    },
    {
      "cell_type": "code",
      "metadata": {
        "id": "xXeOaYTUzmgT"
      },
      "source": [
        "import numpy as np\n",
        "import pickle\n",
        "import os\n",
        "import cv2\n",
        "import tensorflow as tf\n",
        "import keras\n",
        "from os import listdir\n",
        "from sklearn.preprocessing import LabelBinarizer\n",
        "from keras.models import Sequential\n",
        "from keras.layers.convolutional import Conv2D\n",
        "from keras.layers.convolutional import MaxPooling2D\n",
        "from keras.layers.core import Activation, Flatten, Dropout, Dense\n",
        "from keras import backend as K\n",
        "from tensorflow.keras.optimizers import Adam\n",
        "from keras.preprocessing import image\n",
        "import matplotlib.pyplot as plt\n",
        "from sklearn.datasets import make_classification\n",
        "from numpy import mean\n"
      ],
      "execution_count": 1,
      "outputs": []
    },
    {
      "cell_type": "markdown",
      "metadata": {
        "id": "fp8C0d28lQok"
      },
      "source": [
        "Importing and Preparing Dataset"
      ]
    },
    {
      "cell_type": "code",
      "metadata": {
        "id": "_0xehllADlUs",
        "colab": {
          "base_uri": "https://localhost:8080/"
        },
        "outputId": "0dbcdb2a-3593-49e7-f47e-2626738d9ec0"
      },
      "source": [
        "!pip install pyunpack\n",
        "!pip install patool\n",
        "from pyunpack import Archive\n",
        "Archive('/content/fold3.rar').extractall('/content/Datasets/')\n",
        "iterasi = 3\n",
        "width=60\n",
        "height=60\n",
        "default_image_size = tuple((height, width))\n",
        "directory_root_train = '/content/Datasets/fold3/Train'\n",
        "directory_root_validation = '/content/Datasets/fold3/Validation'\n",
        "directory_root_test = '/content/Datasets/fold3/Test'\n",
        "image_size = 0\n",
        "depth=3"
      ],
      "execution_count": 2,
      "outputs": [
        {
          "output_type": "stream",
          "name": "stdout",
          "text": [
            "Looking in indexes: https://pypi.org/simple, https://us-python.pkg.dev/colab-wheels/public/simple/\n",
            "Collecting pyunpack\n",
            "  Downloading pyunpack-0.3-py2.py3-none-any.whl (4.1 kB)\n",
            "Collecting easyprocess\n",
            "  Downloading EasyProcess-1.1-py3-none-any.whl (8.7 kB)\n",
            "Collecting entrypoint2\n",
            "  Downloading entrypoint2-1.1-py2.py3-none-any.whl (9.9 kB)\n",
            "Installing collected packages: entrypoint2, easyprocess, pyunpack\n",
            "Successfully installed easyprocess-1.1 entrypoint2-1.1 pyunpack-0.3\n",
            "Looking in indexes: https://pypi.org/simple, https://us-python.pkg.dev/colab-wheels/public/simple/\n",
            "Collecting patool\n",
            "  Downloading patool-1.12-py2.py3-none-any.whl (77 kB)\n",
            "\u001b[K     |████████████████████████████████| 77 kB 4.7 MB/s \n",
            "\u001b[?25hInstalling collected packages: patool\n",
            "Successfully installed patool-1.12\n"
          ]
        }
      ]
    },
    {
      "cell_type": "code",
      "metadata": {
        "id": "KbAwJJTpzmge"
      },
      "source": [
        "def convert_image_to_array(image_dir):\n",
        "    try:\n",
        "        image = cv2.imread(image_dir)\n",
        "        if image is not None :\n",
        "            image = cv2.resize(image, default_image_size)   \n",
        "            return keras.preprocessing.image.img_to_array(image)\n",
        "        else :\n",
        "            return np.array([])\n",
        "    except Exception as e:\n",
        "        print(f\"Error : {e}\")\n",
        "        return None"
      ],
      "execution_count": 3,
      "outputs": []
    },
    {
      "cell_type": "markdown",
      "source": [
        "Converting **Training** Data to Array"
      ],
      "metadata": {
        "id": "bgXxUMO2cI_D"
      }
    },
    {
      "cell_type": "code",
      "metadata": {
        "id": "Erz6IjKXzmgg",
        "colab": {
          "base_uri": "https://localhost:8080/"
        },
        "outputId": "32302225-5afa-43c7-cb39-3b7bba2a95c5"
      },
      "source": [
        "image_list_train, label_list_train = [], []\n",
        "try:\n",
        "    print(\"[INFO] Loading images ...\")\n",
        "    root_dir = listdir(directory_root_train)\n",
        "\n",
        "    for plant_disease_folder in root_dir:\n",
        "        print(f\"[INFO] Processing {plant_disease_folder} ...\")\n",
        "        plant_disease_image_list = listdir(f\"{directory_root_train}/{plant_disease_folder}/\")\n",
        "      \n",
        "        for image in plant_disease_image_list:\n",
        "            image_directory = f\"{directory_root_train}/{plant_disease_folder}/{image}\"\n",
        "\n",
        "            if image_directory.endswith(\".jpg\") == True or image_directory.endswith(\".JPG\") == True:\n",
        "                image_list_train.append(convert_image_to_array(image_directory))\n",
        "                label_list_train.append(plant_disease_folder)\n",
        "    print(\"[INFO] Image loading completed\")\n",
        "\n",
        "except Exception as e:\n",
        "    print(f\"Error : {e}\")\n",
        "\n",
        "#image labeling\n",
        "image_size = len(image_list_train)\n",
        "label_binarizer = LabelBinarizer()\n",
        "image_labels_train = label_binarizer.fit_transform(label_list_train)\n",
        "pickle.dump(label_binarizer,open('label_transform_train.pkl', 'wb'))\n",
        "n_classes = len(label_binarizer.classes_)\n",
        "np_image_list_train = np.array(image_list_train, dtype=np.float16) / 255.0"
      ],
      "execution_count": 4,
      "outputs": [
        {
          "output_type": "stream",
          "name": "stdout",
          "text": [
            "[INFO] Loading images ...\n",
            "[INFO] Processing apel_sehat ...\n",
            "[INFO] Processing apel_busuk_buah ...\n",
            "[INFO] Processing apel_bercak_daun ...\n",
            "[INFO] Processing apel_cacar_daun ...\n",
            "[INFO] Image loading completed\n"
          ]
        }
      ]
    },
    {
      "cell_type": "markdown",
      "source": [
        "Converting **Validation** Data to Array"
      ],
      "metadata": {
        "id": "7eEMGiqRd_E4"
      }
    },
    {
      "cell_type": "code",
      "source": [
        "image_list_validation, label_list_validation = [], []\n",
        "try:\n",
        "    print(\"[INFO] Loading images ...\")\n",
        "    root_dir = listdir(directory_root_validation)\n",
        "\n",
        "    for plant_disease_folder in root_dir:\n",
        "        print(f\"[INFO] Processing {plant_disease_folder} ...\")\n",
        "        plant_disease_image_list = listdir(f\"{directory_root_validation}/{plant_disease_folder}/\")\n",
        "      \n",
        "        for image in plant_disease_image_list:\n",
        "            image_directory = f\"{directory_root_validation}/{plant_disease_folder}/{image}\"\n",
        "\n",
        "            if image_directory.endswith(\".jpg\") == True or image_directory.endswith(\".JPG\") == True:\n",
        "                image_list_validation.append(convert_image_to_array(image_directory))\n",
        "                label_list_validation.append(plant_disease_folder)\n",
        "    print(\"[INFO] Image loading completed\")\n",
        "\n",
        "except Exception as e:\n",
        "    print(f\"Error : {e}\")\n",
        "\n",
        "#image labeling\n",
        "image_size = len(image_list_validation)\n",
        "label_binarizer = LabelBinarizer()\n",
        "image_labels_validation = label_binarizer.fit_transform(label_list_validation)\n",
        "pickle.dump(label_binarizer,open('label_transform_validation.pkl', 'wb'))\n",
        "n_classes = len(label_binarizer.classes_)\n",
        "np_image_list_validation = np.array(image_list_validation, dtype=np.float16) / 255.0"
      ],
      "metadata": {
        "id": "wfHDdR0ZeEuU",
        "colab": {
          "base_uri": "https://localhost:8080/"
        },
        "outputId": "3fbebc33-cc68-4979-b72b-b930cbd18d1e"
      },
      "execution_count": 5,
      "outputs": [
        {
          "output_type": "stream",
          "name": "stdout",
          "text": [
            "[INFO] Loading images ...\n",
            "[INFO] Processing apel_sehat ...\n",
            "[INFO] Processing apel_busuk_buah ...\n",
            "[INFO] Processing apel_bercak_daun ...\n",
            "[INFO] Processing apel_cacar_daun ...\n",
            "[INFO] Image loading completed\n"
          ]
        }
      ]
    },
    {
      "cell_type": "markdown",
      "source": [
        "Converting **Testing** Data to Array"
      ],
      "metadata": {
        "id": "brwWyZVncTdg"
      }
    },
    {
      "cell_type": "code",
      "metadata": {
        "id": "uNPby5UMcaWY",
        "colab": {
          "base_uri": "https://localhost:8080/"
        },
        "outputId": "0e959d32-e88b-4807-feef-0a5b7a23912e"
      },
      "source": [
        "image_list_test, label_list_test = [], []\n",
        "try:\n",
        "    print(\"[INFO] Loading images ...\")\n",
        "    root_dir = listdir(directory_root_test)\n",
        "\n",
        "    for plant_disease_folder in root_dir:\n",
        "        print(f\"[INFO] Processing {plant_disease_folder} ...\")\n",
        "        plant_disease_image_list = listdir(f\"{directory_root_test}/{plant_disease_folder}/\")\n",
        "      \n",
        "        for image in plant_disease_image_list:\n",
        "            image_directory = f\"{directory_root_test}/{plant_disease_folder}/{image}\"\n",
        "\n",
        "            if image_directory.endswith(\".jpg\") == True or image_directory.endswith(\".JPG\") == True:\n",
        "                image_list_test.append(convert_image_to_array(image_directory))\n",
        "                label_list_test.append(plant_disease_folder)\n",
        "    print(\"[INFO] Image loading completed\")\n",
        "\n",
        "except Exception as e:\n",
        "    print(f\"Error : {e}\")\n",
        "\n",
        "#image labeling\n",
        "image_size = len(image_list_test)\n",
        "label_binarizer = LabelBinarizer()\n",
        "image_labels_test = label_binarizer.fit_transform(label_list_test)\n",
        "pickle.dump(label_binarizer,open('label_transform_test.pkl', 'wb'))\n",
        "n_classes = len(label_binarizer.classes_)\n",
        "np_image_list_test = np.array(image_list_test, dtype=np.float16) / 255.0"
      ],
      "execution_count": 6,
      "outputs": [
        {
          "output_type": "stream",
          "name": "stdout",
          "text": [
            "[INFO] Loading images ...\n",
            "[INFO] Processing apel_sehat ...\n",
            "[INFO] Processing apel_busuk_buah ...\n",
            "[INFO] Processing apel_bercak_daun ...\n",
            "[INFO] Processing apel_cacar_daun ...\n",
            "[INFO] Image loading completed\n"
          ]
        }
      ]
    },
    {
      "cell_type": "markdown",
      "metadata": {
        "id": "jYBTFN0CnAi7"
      },
      "source": [
        "Data Augmenting Initialization"
      ]
    },
    {
      "cell_type": "code",
      "metadata": {
        "id": "TLMxMK2Tzmgr"
      },
      "source": [
        "aug = keras.preprocessing.image.ImageDataGenerator(\n",
        "    rotation_range=25, \n",
        "    width_shift_range=0.1,\n",
        "    height_shift_range=0.1, \n",
        "    shear_range=0.2, \n",
        "    zoom_range=0.2,\n",
        "    horizontal_flip=True, \n",
        "    fill_mode=\"nearest\")"
      ],
      "execution_count": 7,
      "outputs": []
    },
    {
      "cell_type": "markdown",
      "metadata": {
        "id": "H1BfRyYNnGv_"
      },
      "source": [
        "Creating CNN Model"
      ]
    },
    {
      "cell_type": "code",
      "metadata": {
        "id": "WmLX4wm8zmgs"
      },
      "source": [
        "model = keras.models.Sequential()\n",
        "#inputShape = (height, width, depth)\n",
        "inputShape = (60,60,3)\n",
        "\n",
        "model.add(Conv2D(20, (5, 5), padding=\"same\",input_shape=inputShape))\n",
        "model.add(Activation(\"relu\"))\n",
        "\n",
        "model.add(MaxPooling2D(pool_size=(2, 2), strides=2))\n",
        "\n",
        "model.add(Conv2D(50, (5, 5), padding=\"same\"))\n",
        "model.add(Activation(\"relu\"))\n",
        "\n",
        "model.add(MaxPooling2D(pool_size=(2, 2),strides=2))\n",
        "\n",
        "model.add(Flatten())\n",
        "\n",
        "model.add(Dense(500))\n",
        "model.add(Activation(\"relu\"))\n",
        "\n",
        "model.add(Dense(4))\n",
        "model.add(Activation(\"softmax\"))"
      ],
      "execution_count": 8,
      "outputs": []
    },
    {
      "cell_type": "code",
      "source": [
        "model.summary()"
      ],
      "metadata": {
        "id": "RQIgaph8hW06",
        "colab": {
          "base_uri": "https://localhost:8080/"
        },
        "outputId": "678707b9-e555-46cb-a4e8-3c32dcdbfe42"
      },
      "execution_count": 9,
      "outputs": [
        {
          "output_type": "stream",
          "name": "stdout",
          "text": [
            "Model: \"sequential\"\n",
            "_________________________________________________________________\n",
            " Layer (type)                Output Shape              Param #   \n",
            "=================================================================\n",
            " conv2d (Conv2D)             (None, 60, 60, 20)        1520      \n",
            "                                                                 \n",
            " activation (Activation)     (None, 60, 60, 20)        0         \n",
            "                                                                 \n",
            " max_pooling2d (MaxPooling2D  (None, 30, 30, 20)       0         \n",
            " )                                                               \n",
            "                                                                 \n",
            " conv2d_1 (Conv2D)           (None, 30, 30, 50)        25050     \n",
            "                                                                 \n",
            " activation_1 (Activation)   (None, 30, 30, 50)        0         \n",
            "                                                                 \n",
            " max_pooling2d_1 (MaxPooling  (None, 15, 15, 50)       0         \n",
            " 2D)                                                             \n",
            "                                                                 \n",
            " flatten (Flatten)           (None, 11250)             0         \n",
            "                                                                 \n",
            " dense (Dense)               (None, 500)               5625500   \n",
            "                                                                 \n",
            " activation_2 (Activation)   (None, 500)               0         \n",
            "                                                                 \n",
            " dense_1 (Dense)             (None, 4)                 2004      \n",
            "                                                                 \n",
            " activation_3 (Activation)   (None, 4)                 0         \n",
            "                                                                 \n",
            "=================================================================\n",
            "Total params: 5,654,074\n",
            "Trainable params: 5,654,074\n",
            "Non-trainable params: 0\n",
            "_________________________________________________________________\n"
          ]
        }
      ]
    },
    {
      "cell_type": "code",
      "source": [
        "#from PIL import Image\n",
        "#from keras.utils.vis_utils import plot_model\n",
        "#plot_model(model, to_file='cnn_model.png', show_shapes=True, show_layer_names=True)\n",
        "#display(Image.open('cnn_model.png'))"
      ],
      "metadata": {
        "id": "T05gPuu1GudW"
      },
      "execution_count": 10,
      "outputs": []
    },
    {
      "cell_type": "markdown",
      "metadata": {
        "id": "Zfsu3lVfnXFG"
      },
      "source": [
        "**Training** Network"
      ]
    },
    {
      "cell_type": "code",
      "metadata": {
        "id": "rvwKwe3Lzmgv",
        "colab": {
          "base_uri": "https://localhost:8080/"
        },
        "outputId": "3b4e6ac3-8d1f-468d-e800-3e473f9b8220"
      },
      "source": [
        "EPOCHS = 200\n",
        "INIT_LR = 1e-3\n",
        "BS = 8\n",
        "\n",
        "with tf.device('/GPU:0'):\n",
        "  opt = Adam(learning_rate=INIT_LR, decay=INIT_LR / EPOCHS)\n",
        "  model.compile(loss=\"categorical_crossentropy\", optimizer=opt,metrics=[\"Accuracy\", \"FalseNegatives\", \"FalsePositives\", \"TrueNegatives\", \"TruePositives\"])\n",
        "  \n",
        "  history = model.fit(\n",
        "      aug.flow(np_image_list_train, image_labels_train, batch_size=BS),\n",
        "      validation_data=(np_image_list_validation, image_labels_validation),\n",
        "      steps_per_epoch=len(np_image_list_train) // BS,\n",
        "      epochs=EPOCHS, \n",
        "      verbose=1,\n",
        "      )\n"
      ],
      "execution_count": 11,
      "outputs": [
        {
          "output_type": "stream",
          "name": "stdout",
          "text": [
            "Epoch 1/200\n",
            "44/44 [==============================] - 18s 59ms/step - loss: 1.4053 - Accuracy: 0.4339 - false_negatives: 316.0000 - false_positives: 51.0000 - true_negatives: 993.0000 - true_positives: 32.0000 - val_loss: 1.2319 - val_Accuracy: 0.4659 - val_false_negatives: 88.0000 - val_false_positives: 0.0000e+00 - val_true_negatives: 264.0000 - val_true_positives: 0.0000e+00\n",
            "Epoch 2/200\n",
            "44/44 [==============================] - 1s 14ms/step - loss: 1.2128 - Accuracy: 0.4540 - false_negatives: 269.0000 - false_positives: 37.0000 - true_negatives: 1007.0000 - true_positives: 79.0000 - val_loss: 1.1373 - val_Accuracy: 0.4659 - val_false_negatives: 48.0000 - val_false_positives: 27.0000 - val_true_negatives: 237.0000 - val_true_positives: 40.0000\n",
            "Epoch 3/200\n",
            "44/44 [==============================] - 1s 14ms/step - loss: 1.0755 - Accuracy: 0.5661 - false_negatives: 242.0000 - false_positives: 48.0000 - true_negatives: 996.0000 - true_positives: 106.0000 - val_loss: 1.0023 - val_Accuracy: 0.5795 - val_false_negatives: 52.0000 - val_false_positives: 10.0000 - val_true_negatives: 254.0000 - val_true_positives: 36.0000\n",
            "Epoch 4/200\n",
            "44/44 [==============================] - 1s 15ms/step - loss: 1.0818 - Accuracy: 0.5345 - false_negatives: 251.0000 - false_positives: 31.0000 - true_negatives: 1013.0000 - true_positives: 97.0000 - val_loss: 1.0997 - val_Accuracy: 0.5341 - val_false_negatives: 48.0000 - val_false_positives: 21.0000 - val_true_negatives: 243.0000 - val_true_positives: 40.0000\n",
            "Epoch 5/200\n",
            "44/44 [==============================] - 1s 14ms/step - loss: 0.9795 - Accuracy: 0.6351 - false_negatives: 208.0000 - false_positives: 51.0000 - true_negatives: 993.0000 - true_positives: 140.0000 - val_loss: 0.9756 - val_Accuracy: 0.6477 - val_false_negatives: 37.0000 - val_false_positives: 21.0000 - val_true_negatives: 243.0000 - val_true_positives: 51.0000\n",
            "Epoch 6/200\n",
            "44/44 [==============================] - 1s 15ms/step - loss: 0.9459 - Accuracy: 0.6264 - false_negatives: 182.0000 - false_positives: 57.0000 - true_negatives: 987.0000 - true_positives: 166.0000 - val_loss: 0.9757 - val_Accuracy: 0.6591 - val_false_negatives: 55.0000 - val_false_positives: 9.0000 - val_true_negatives: 255.0000 - val_true_positives: 33.0000\n",
            "Epoch 7/200\n",
            "44/44 [==============================] - 1s 14ms/step - loss: 0.9951 - Accuracy: 0.6063 - false_negatives: 219.0000 - false_positives: 50.0000 - true_negatives: 994.0000 - true_positives: 129.0000 - val_loss: 1.0104 - val_Accuracy: 0.6023 - val_false_negatives: 41.0000 - val_false_positives: 17.0000 - val_true_negatives: 247.0000 - val_true_positives: 47.0000\n",
            "Epoch 8/200\n",
            "44/44 [==============================] - 1s 14ms/step - loss: 0.9687 - Accuracy: 0.6178 - false_negatives: 195.0000 - false_positives: 62.0000 - true_negatives: 982.0000 - true_positives: 153.0000 - val_loss: 0.9250 - val_Accuracy: 0.6705 - val_false_negatives: 39.0000 - val_false_positives: 15.0000 - val_true_negatives: 249.0000 - val_true_positives: 49.0000\n",
            "Epoch 9/200\n",
            "44/44 [==============================] - 1s 14ms/step - loss: 0.9217 - Accuracy: 0.6264 - false_negatives: 179.0000 - false_positives: 66.0000 - true_negatives: 978.0000 - true_positives: 169.0000 - val_loss: 0.9150 - val_Accuracy: 0.6705 - val_false_negatives: 46.0000 - val_false_positives: 12.0000 - val_true_negatives: 252.0000 - val_true_positives: 42.0000\n",
            "Epoch 10/200\n",
            "44/44 [==============================] - 1s 14ms/step - loss: 0.9118 - Accuracy: 0.6523 - false_negatives: 165.0000 - false_positives: 71.0000 - true_negatives: 973.0000 - true_positives: 183.0000 - val_loss: 0.9046 - val_Accuracy: 0.6250 - val_false_negatives: 45.0000 - val_false_positives: 12.0000 - val_true_negatives: 252.0000 - val_true_positives: 43.0000\n",
            "Epoch 11/200\n",
            "44/44 [==============================] - 1s 14ms/step - loss: 0.8875 - Accuracy: 0.6609 - false_negatives: 169.0000 - false_positives: 67.0000 - true_negatives: 977.0000 - true_positives: 179.0000 - val_loss: 1.0838 - val_Accuracy: 0.6023 - val_false_negatives: 39.0000 - val_false_positives: 23.0000 - val_true_negatives: 241.0000 - val_true_positives: 49.0000\n",
            "Epoch 12/200\n",
            "44/44 [==============================] - 1s 15ms/step - loss: 0.9032 - Accuracy: 0.6724 - false_negatives: 147.0000 - false_positives: 74.0000 - true_negatives: 970.0000 - true_positives: 201.0000 - val_loss: 0.9201 - val_Accuracy: 0.6705 - val_false_negatives: 44.0000 - val_false_positives: 18.0000 - val_true_negatives: 246.0000 - val_true_positives: 44.0000\n",
            "Epoch 13/200\n",
            "44/44 [==============================] - 1s 14ms/step - loss: 0.8992 - Accuracy: 0.6667 - false_negatives: 155.0000 - false_positives: 76.0000 - true_negatives: 968.0000 - true_positives: 193.0000 - val_loss: 0.8814 - val_Accuracy: 0.7159 - val_false_negatives: 44.0000 - val_false_positives: 12.0000 - val_true_negatives: 252.0000 - val_true_positives: 44.0000\n",
            "Epoch 14/200\n",
            "44/44 [==============================] - 1s 14ms/step - loss: 0.8537 - Accuracy: 0.6810 - false_negatives: 146.0000 - false_positives: 72.0000 - true_negatives: 972.0000 - true_positives: 202.0000 - val_loss: 0.8840 - val_Accuracy: 0.7045 - val_false_negatives: 44.0000 - val_false_positives: 9.0000 - val_true_negatives: 255.0000 - val_true_positives: 44.0000\n",
            "Epoch 15/200\n",
            "44/44 [==============================] - 1s 14ms/step - loss: 0.8717 - Accuracy: 0.6609 - false_negatives: 157.0000 - false_positives: 59.0000 - true_negatives: 985.0000 - true_positives: 191.0000 - val_loss: 1.0928 - val_Accuracy: 0.5568 - val_false_negatives: 41.0000 - val_false_positives: 28.0000 - val_true_negatives: 236.0000 - val_true_positives: 47.0000\n",
            "Epoch 16/200\n",
            "44/44 [==============================] - 1s 15ms/step - loss: 0.9087 - Accuracy: 0.6437 - false_negatives: 157.0000 - false_positives: 65.0000 - true_negatives: 979.0000 - true_positives: 191.0000 - val_loss: 0.8468 - val_Accuracy: 0.6932 - val_false_negatives: 34.0000 - val_false_positives: 19.0000 - val_true_negatives: 245.0000 - val_true_positives: 54.0000\n",
            "Epoch 17/200\n",
            "44/44 [==============================] - 1s 14ms/step - loss: 0.8456 - Accuracy: 0.6724 - false_negatives: 143.0000 - false_positives: 71.0000 - true_negatives: 973.0000 - true_positives: 205.0000 - val_loss: 0.8427 - val_Accuracy: 0.7045 - val_false_negatives: 35.0000 - val_false_positives: 15.0000 - val_true_negatives: 249.0000 - val_true_positives: 53.0000\n",
            "Epoch 18/200\n",
            "44/44 [==============================] - 1s 14ms/step - loss: 0.7899 - Accuracy: 0.7011 - false_negatives: 128.0000 - false_positives: 71.0000 - true_negatives: 973.0000 - true_positives: 220.0000 - val_loss: 0.8918 - val_Accuracy: 0.6591 - val_false_negatives: 37.0000 - val_false_positives: 16.0000 - val_true_negatives: 248.0000 - val_true_positives: 51.0000\n",
            "Epoch 19/200\n",
            "44/44 [==============================] - 1s 15ms/step - loss: 0.8474 - Accuracy: 0.6782 - false_negatives: 149.0000 - false_positives: 71.0000 - true_negatives: 973.0000 - true_positives: 199.0000 - val_loss: 0.9397 - val_Accuracy: 0.6591 - val_false_negatives: 35.0000 - val_false_positives: 21.0000 - val_true_negatives: 243.0000 - val_true_positives: 53.0000\n",
            "Epoch 20/200\n",
            "44/44 [==============================] - 1s 14ms/step - loss: 0.8164 - Accuracy: 0.6810 - false_negatives: 132.0000 - false_positives: 73.0000 - true_negatives: 971.0000 - true_positives: 216.0000 - val_loss: 0.7956 - val_Accuracy: 0.7500 - val_false_negatives: 34.0000 - val_false_positives: 17.0000 - val_true_negatives: 247.0000 - val_true_positives: 54.0000\n",
            "Epoch 21/200\n",
            "44/44 [==============================] - 1s 14ms/step - loss: 0.8160 - Accuracy: 0.6925 - false_negatives: 142.0000 - false_positives: 64.0000 - true_negatives: 980.0000 - true_positives: 206.0000 - val_loss: 0.9183 - val_Accuracy: 0.6591 - val_false_negatives: 33.0000 - val_false_positives: 25.0000 - val_true_negatives: 239.0000 - val_true_positives: 55.0000\n",
            "Epoch 22/200\n",
            "44/44 [==============================] - 1s 14ms/step - loss: 0.8108 - Accuracy: 0.6810 - false_negatives: 127.0000 - false_positives: 80.0000 - true_negatives: 964.0000 - true_positives: 221.0000 - val_loss: 0.8586 - val_Accuracy: 0.6705 - val_false_negatives: 35.0000 - val_false_positives: 20.0000 - val_true_negatives: 244.0000 - val_true_positives: 53.0000\n",
            "Epoch 23/200\n",
            "44/44 [==============================] - 1s 15ms/step - loss: 0.7917 - Accuracy: 0.6638 - false_negatives: 135.0000 - false_positives: 77.0000 - true_negatives: 967.0000 - true_positives: 213.0000 - val_loss: 0.9491 - val_Accuracy: 0.6136 - val_false_negatives: 35.0000 - val_false_positives: 24.0000 - val_true_negatives: 240.0000 - val_true_positives: 53.0000\n",
            "Epoch 24/200\n",
            "44/44 [==============================] - 1s 15ms/step - loss: 0.8507 - Accuracy: 0.6695 - false_negatives: 151.0000 - false_positives: 69.0000 - true_negatives: 975.0000 - true_positives: 197.0000 - val_loss: 0.7648 - val_Accuracy: 0.7159 - val_false_negatives: 34.0000 - val_false_positives: 16.0000 - val_true_negatives: 248.0000 - val_true_positives: 54.0000\n",
            "Epoch 25/200\n",
            "44/44 [==============================] - 1s 20ms/step - loss: 0.7180 - Accuracy: 0.7241 - false_negatives: 117.0000 - false_positives: 63.0000 - true_negatives: 981.0000 - true_positives: 231.0000 - val_loss: 1.0892 - val_Accuracy: 0.6136 - val_false_negatives: 35.0000 - val_false_positives: 29.0000 - val_true_negatives: 235.0000 - val_true_positives: 53.0000\n",
            "Epoch 26/200\n",
            "44/44 [==============================] - 1s 14ms/step - loss: 0.7757 - Accuracy: 0.6868 - false_negatives: 133.0000 - false_positives: 70.0000 - true_negatives: 974.0000 - true_positives: 215.0000 - val_loss: 0.7524 - val_Accuracy: 0.7159 - val_false_negatives: 34.0000 - val_false_positives: 15.0000 - val_true_negatives: 249.0000 - val_true_positives: 54.0000\n",
            "Epoch 27/200\n",
            "44/44 [==============================] - 1s 15ms/step - loss: 0.7333 - Accuracy: 0.7241 - false_negatives: 121.0000 - false_positives: 61.0000 - true_negatives: 983.0000 - true_positives: 227.0000 - val_loss: 0.8010 - val_Accuracy: 0.7159 - val_false_negatives: 32.0000 - val_false_positives: 16.0000 - val_true_negatives: 248.0000 - val_true_positives: 56.0000\n",
            "Epoch 28/200\n",
            "44/44 [==============================] - 1s 15ms/step - loss: 0.6876 - Accuracy: 0.7301 - false_negatives: 111.0000 - false_positives: 61.0000 - true_negatives: 995.0000 - true_positives: 241.0000 - val_loss: 0.7431 - val_Accuracy: 0.7045 - val_false_negatives: 31.0000 - val_false_positives: 18.0000 - val_true_negatives: 246.0000 - val_true_positives: 57.0000\n",
            "Epoch 29/200\n",
            "44/44 [==============================] - 1s 18ms/step - loss: 0.7232 - Accuracy: 0.7155 - false_negatives: 116.0000 - false_positives: 68.0000 - true_negatives: 976.0000 - true_positives: 232.0000 - val_loss: 1.0240 - val_Accuracy: 0.7159 - val_false_negatives: 32.0000 - val_false_positives: 20.0000 - val_true_negatives: 244.0000 - val_true_positives: 56.0000\n",
            "Epoch 30/200\n",
            "44/44 [==============================] - 1s 25ms/step - loss: 0.7216 - Accuracy: 0.7184 - false_negatives: 120.0000 - false_positives: 67.0000 - true_negatives: 977.0000 - true_positives: 228.0000 - val_loss: 0.9354 - val_Accuracy: 0.7159 - val_false_negatives: 25.0000 - val_false_positives: 21.0000 - val_true_negatives: 243.0000 - val_true_positives: 63.0000\n",
            "Epoch 31/200\n",
            "44/44 [==============================] - 1s 20ms/step - loss: 0.7066 - Accuracy: 0.7443 - false_negatives: 111.0000 - false_positives: 68.0000 - true_negatives: 976.0000 - true_positives: 237.0000 - val_loss: 0.8875 - val_Accuracy: 0.7273 - val_false_negatives: 26.0000 - val_false_positives: 19.0000 - val_true_negatives: 245.0000 - val_true_positives: 62.0000\n",
            "Epoch 32/200\n",
            "44/44 [==============================] - 1s 28ms/step - loss: 0.6528 - Accuracy: 0.7701 - false_negatives: 104.0000 - false_positives: 59.0000 - true_negatives: 985.0000 - true_positives: 244.0000 - val_loss: 0.7491 - val_Accuracy: 0.7386 - val_false_negatives: 25.0000 - val_false_positives: 17.0000 - val_true_negatives: 247.0000 - val_true_positives: 63.0000\n",
            "Epoch 33/200\n",
            "44/44 [==============================] - 1s 14ms/step - loss: 0.6669 - Accuracy: 0.7385 - false_negatives: 106.0000 - false_positives: 65.0000 - true_negatives: 979.0000 - true_positives: 242.0000 - val_loss: 0.7236 - val_Accuracy: 0.7500 - val_false_negatives: 29.0000 - val_false_positives: 14.0000 - val_true_negatives: 250.0000 - val_true_positives: 59.0000\n",
            "Epoch 34/200\n",
            "44/44 [==============================] - 1s 15ms/step - loss: 0.6384 - Accuracy: 0.7615 - false_negatives: 104.0000 - false_positives: 52.0000 - true_negatives: 992.0000 - true_positives: 244.0000 - val_loss: 0.8043 - val_Accuracy: 0.7045 - val_false_negatives: 29.0000 - val_false_positives: 23.0000 - val_true_negatives: 241.0000 - val_true_positives: 59.0000\n",
            "Epoch 35/200\n",
            "44/44 [==============================] - 1s 14ms/step - loss: 0.6707 - Accuracy: 0.7213 - false_negatives: 114.0000 - false_positives: 67.0000 - true_negatives: 977.0000 - true_positives: 234.0000 - val_loss: 0.9606 - val_Accuracy: 0.6932 - val_false_negatives: 32.0000 - val_false_positives: 17.0000 - val_true_negatives: 247.0000 - val_true_positives: 56.0000\n",
            "Epoch 36/200\n",
            "44/44 [==============================] - 1s 14ms/step - loss: 0.7537 - Accuracy: 0.7126 - false_negatives: 124.0000 - false_positives: 59.0000 - true_negatives: 985.0000 - true_positives: 224.0000 - val_loss: 0.9866 - val_Accuracy: 0.6477 - val_false_negatives: 39.0000 - val_false_positives: 22.0000 - val_true_negatives: 242.0000 - val_true_positives: 49.0000\n",
            "Epoch 37/200\n",
            "44/44 [==============================] - 1s 14ms/step - loss: 0.6429 - Accuracy: 0.7471 - false_negatives: 111.0000 - false_positives: 51.0000 - true_negatives: 993.0000 - true_positives: 237.0000 - val_loss: 1.2321 - val_Accuracy: 0.6705 - val_false_negatives: 33.0000 - val_false_positives: 22.0000 - val_true_negatives: 242.0000 - val_true_positives: 55.0000\n",
            "Epoch 38/200\n",
            "44/44 [==============================] - 1s 14ms/step - loss: 0.6899 - Accuracy: 0.7356 - false_negatives: 111.0000 - false_positives: 69.0000 - true_negatives: 975.0000 - true_positives: 237.0000 - val_loss: 0.7361 - val_Accuracy: 0.7273 - val_false_negatives: 31.0000 - val_false_positives: 12.0000 - val_true_negatives: 252.0000 - val_true_positives: 57.0000\n",
            "Epoch 39/200\n",
            "44/44 [==============================] - 1s 15ms/step - loss: 0.6794 - Accuracy: 0.7385 - false_negatives: 114.0000 - false_positives: 62.0000 - true_negatives: 982.0000 - true_positives: 234.0000 - val_loss: 0.7419 - val_Accuracy: 0.7386 - val_false_negatives: 28.0000 - val_false_positives: 12.0000 - val_true_negatives: 252.0000 - val_true_positives: 60.0000\n",
            "Epoch 40/200\n",
            "44/44 [==============================] - 1s 14ms/step - loss: 0.6374 - Accuracy: 0.7529 - false_negatives: 106.0000 - false_positives: 54.0000 - true_negatives: 990.0000 - true_positives: 242.0000 - val_loss: 1.0196 - val_Accuracy: 0.7045 - val_false_negatives: 33.0000 - val_false_positives: 20.0000 - val_true_negatives: 244.0000 - val_true_positives: 55.0000\n",
            "Epoch 41/200\n",
            "44/44 [==============================] - 1s 15ms/step - loss: 0.6231 - Accuracy: 0.7644 - false_negatives: 92.0000 - false_positives: 55.0000 - true_negatives: 989.0000 - true_positives: 256.0000 - val_loss: 0.8621 - val_Accuracy: 0.7159 - val_false_negatives: 32.0000 - val_false_positives: 16.0000 - val_true_negatives: 248.0000 - val_true_positives: 56.0000\n",
            "Epoch 42/200\n",
            "44/44 [==============================] - 1s 15ms/step - loss: 0.6430 - Accuracy: 0.7500 - false_negatives: 105.0000 - false_positives: 59.0000 - true_negatives: 985.0000 - true_positives: 243.0000 - val_loss: 0.9425 - val_Accuracy: 0.7045 - val_false_negatives: 34.0000 - val_false_positives: 16.0000 - val_true_negatives: 248.0000 - val_true_positives: 54.0000\n",
            "Epoch 43/200\n",
            "44/44 [==============================] - 1s 16ms/step - loss: 0.6345 - Accuracy: 0.7615 - false_negatives: 103.0000 - false_positives: 50.0000 - true_negatives: 994.0000 - true_positives: 245.0000 - val_loss: 0.7462 - val_Accuracy: 0.7159 - val_false_negatives: 30.0000 - val_false_positives: 17.0000 - val_true_negatives: 247.0000 - val_true_positives: 58.0000\n",
            "Epoch 44/200\n",
            "44/44 [==============================] - 1s 15ms/step - loss: 0.5927 - Accuracy: 0.7759 - false_negatives: 99.0000 - false_positives: 53.0000 - true_negatives: 991.0000 - true_positives: 249.0000 - val_loss: 1.0101 - val_Accuracy: 0.6818 - val_false_negatives: 36.0000 - val_false_positives: 21.0000 - val_true_negatives: 243.0000 - val_true_positives: 52.0000\n",
            "Epoch 45/200\n",
            "44/44 [==============================] - 1s 15ms/step - loss: 0.6513 - Accuracy: 0.7557 - false_negatives: 109.0000 - false_positives: 55.0000 - true_negatives: 989.0000 - true_positives: 239.0000 - val_loss: 0.7725 - val_Accuracy: 0.6932 - val_false_negatives: 30.0000 - val_false_positives: 19.0000 - val_true_negatives: 245.0000 - val_true_positives: 58.0000\n",
            "Epoch 46/200\n",
            "44/44 [==============================] - 1s 15ms/step - loss: 0.6346 - Accuracy: 0.7328 - false_negatives: 104.0000 - false_positives: 65.0000 - true_negatives: 979.0000 - true_positives: 244.0000 - val_loss: 0.7569 - val_Accuracy: 0.7159 - val_false_negatives: 29.0000 - val_false_positives: 17.0000 - val_true_negatives: 247.0000 - val_true_positives: 59.0000\n",
            "Epoch 47/200\n",
            "44/44 [==============================] - 1s 14ms/step - loss: 0.6000 - Accuracy: 0.7586 - false_negatives: 105.0000 - false_positives: 52.0000 - true_negatives: 992.0000 - true_positives: 243.0000 - val_loss: 0.7117 - val_Accuracy: 0.7614 - val_false_negatives: 25.0000 - val_false_positives: 18.0000 - val_true_negatives: 246.0000 - val_true_positives: 63.0000\n",
            "Epoch 48/200\n",
            "44/44 [==============================] - 1s 15ms/step - loss: 0.6025 - Accuracy: 0.7759 - false_negatives: 101.0000 - false_positives: 52.0000 - true_negatives: 992.0000 - true_positives: 247.0000 - val_loss: 0.7488 - val_Accuracy: 0.6932 - val_false_negatives: 32.0000 - val_false_positives: 14.0000 - val_true_negatives: 250.0000 - val_true_positives: 56.0000\n",
            "Epoch 49/200\n",
            "44/44 [==============================] - 1s 15ms/step - loss: 0.6229 - Accuracy: 0.7586 - false_negatives: 104.0000 - false_positives: 57.0000 - true_negatives: 987.0000 - true_positives: 244.0000 - val_loss: 0.7126 - val_Accuracy: 0.7500 - val_false_negatives: 22.0000 - val_false_positives: 15.0000 - val_true_negatives: 249.0000 - val_true_positives: 66.0000\n",
            "Epoch 50/200\n",
            "44/44 [==============================] - 1s 15ms/step - loss: 0.5541 - Accuracy: 0.7931 - false_negatives: 93.0000 - false_positives: 53.0000 - true_negatives: 991.0000 - true_positives: 255.0000 - val_loss: 0.8103 - val_Accuracy: 0.7045 - val_false_negatives: 29.0000 - val_false_positives: 16.0000 - val_true_negatives: 248.0000 - val_true_positives: 59.0000\n",
            "Epoch 51/200\n",
            "44/44 [==============================] - 1s 14ms/step - loss: 0.6112 - Accuracy: 0.7931 - false_negatives: 94.0000 - false_positives: 54.0000 - true_negatives: 990.0000 - true_positives: 254.0000 - val_loss: 0.7820 - val_Accuracy: 0.7045 - val_false_negatives: 34.0000 - val_false_positives: 16.0000 - val_true_negatives: 248.0000 - val_true_positives: 54.0000\n",
            "Epoch 52/200\n",
            "44/44 [==============================] - 1s 15ms/step - loss: 0.6061 - Accuracy: 0.7701 - false_negatives: 91.0000 - false_positives: 55.0000 - true_negatives: 989.0000 - true_positives: 257.0000 - val_loss: 0.6986 - val_Accuracy: 0.7614 - val_false_negatives: 25.0000 - val_false_positives: 14.0000 - val_true_negatives: 250.0000 - val_true_positives: 63.0000\n",
            "Epoch 53/200\n",
            "44/44 [==============================] - 1s 14ms/step - loss: 0.5466 - Accuracy: 0.7816 - false_negatives: 89.0000 - false_positives: 57.0000 - true_negatives: 987.0000 - true_positives: 259.0000 - val_loss: 0.7373 - val_Accuracy: 0.7273 - val_false_negatives: 29.0000 - val_false_positives: 15.0000 - val_true_negatives: 249.0000 - val_true_positives: 59.0000\n",
            "Epoch 54/200\n",
            "44/44 [==============================] - 1s 15ms/step - loss: 0.5557 - Accuracy: 0.7931 - false_negatives: 97.0000 - false_positives: 54.0000 - true_negatives: 990.0000 - true_positives: 251.0000 - val_loss: 0.6748 - val_Accuracy: 0.7727 - val_false_negatives: 26.0000 - val_false_positives: 15.0000 - val_true_negatives: 249.0000 - val_true_positives: 62.0000\n",
            "Epoch 55/200\n",
            "44/44 [==============================] - 1s 15ms/step - loss: 0.5488 - Accuracy: 0.7615 - false_negatives: 90.0000 - false_positives: 57.0000 - true_negatives: 987.0000 - true_positives: 258.0000 - val_loss: 1.0485 - val_Accuracy: 0.6818 - val_false_negatives: 31.0000 - val_false_positives: 22.0000 - val_true_negatives: 242.0000 - val_true_positives: 57.0000\n",
            "Epoch 56/200\n",
            "44/44 [==============================] - 1s 15ms/step - loss: 0.5843 - Accuracy: 0.7730 - false_negatives: 95.0000 - false_positives: 65.0000 - true_negatives: 979.0000 - true_positives: 253.0000 - val_loss: 0.8138 - val_Accuracy: 0.7273 - val_false_negatives: 26.0000 - val_false_positives: 18.0000 - val_true_negatives: 246.0000 - val_true_positives: 62.0000\n",
            "Epoch 57/200\n",
            "44/44 [==============================] - 1s 15ms/step - loss: 0.5480 - Accuracy: 0.7816 - false_negatives: 88.0000 - false_positives: 57.0000 - true_negatives: 987.0000 - true_positives: 260.0000 - val_loss: 0.6669 - val_Accuracy: 0.7273 - val_false_negatives: 26.0000 - val_false_positives: 15.0000 - val_true_negatives: 249.0000 - val_true_positives: 62.0000\n",
            "Epoch 58/200\n",
            "44/44 [==============================] - 1s 14ms/step - loss: 0.5103 - Accuracy: 0.8046 - false_negatives: 92.0000 - false_positives: 49.0000 - true_negatives: 995.0000 - true_positives: 256.0000 - val_loss: 0.8587 - val_Accuracy: 0.7273 - val_false_negatives: 27.0000 - val_false_positives: 19.0000 - val_true_negatives: 245.0000 - val_true_positives: 61.0000\n",
            "Epoch 59/200\n",
            "44/44 [==============================] - 1s 15ms/step - loss: 0.5363 - Accuracy: 0.7902 - false_negatives: 88.0000 - false_positives: 51.0000 - true_negatives: 993.0000 - true_positives: 260.0000 - val_loss: 0.8505 - val_Accuracy: 0.7273 - val_false_negatives: 32.0000 - val_false_positives: 18.0000 - val_true_negatives: 246.0000 - val_true_positives: 56.0000\n",
            "Epoch 60/200\n",
            "44/44 [==============================] - 1s 15ms/step - loss: 0.5291 - Accuracy: 0.8046 - false_negatives: 80.0000 - false_positives: 56.0000 - true_negatives: 988.0000 - true_positives: 268.0000 - val_loss: 0.8361 - val_Accuracy: 0.7159 - val_false_negatives: 26.0000 - val_false_positives: 18.0000 - val_true_negatives: 246.0000 - val_true_positives: 62.0000\n",
            "Epoch 61/200\n",
            "44/44 [==============================] - 1s 15ms/step - loss: 0.5636 - Accuracy: 0.7586 - false_negatives: 103.0000 - false_positives: 66.0000 - true_negatives: 978.0000 - true_positives: 245.0000 - val_loss: 1.2303 - val_Accuracy: 0.6818 - val_false_negatives: 32.0000 - val_false_positives: 23.0000 - val_true_negatives: 241.0000 - val_true_positives: 56.0000\n",
            "Epoch 62/200\n",
            "44/44 [==============================] - 1s 15ms/step - loss: 0.5820 - Accuracy: 0.7787 - false_negatives: 93.0000 - false_positives: 60.0000 - true_negatives: 984.0000 - true_positives: 255.0000 - val_loss: 0.9968 - val_Accuracy: 0.7159 - val_false_negatives: 33.0000 - val_false_positives: 19.0000 - val_true_negatives: 245.0000 - val_true_positives: 55.0000\n",
            "Epoch 63/200\n",
            "44/44 [==============================] - 1s 15ms/step - loss: 0.5580 - Accuracy: 0.7845 - false_negatives: 84.0000 - false_positives: 57.0000 - true_negatives: 987.0000 - true_positives: 264.0000 - val_loss: 0.8721 - val_Accuracy: 0.7159 - val_false_negatives: 36.0000 - val_false_positives: 19.0000 - val_true_negatives: 245.0000 - val_true_positives: 52.0000\n",
            "Epoch 64/200\n",
            "44/44 [==============================] - 1s 15ms/step - loss: 0.5507 - Accuracy: 0.7960 - false_negatives: 90.0000 - false_positives: 48.0000 - true_negatives: 996.0000 - true_positives: 258.0000 - val_loss: 0.8668 - val_Accuracy: 0.7045 - val_false_negatives: 30.0000 - val_false_positives: 18.0000 - val_true_negatives: 246.0000 - val_true_positives: 58.0000\n",
            "Epoch 65/200\n",
            "44/44 [==============================] - 1s 15ms/step - loss: 0.5467 - Accuracy: 0.7874 - false_negatives: 89.0000 - false_positives: 55.0000 - true_negatives: 989.0000 - true_positives: 259.0000 - val_loss: 0.7166 - val_Accuracy: 0.7500 - val_false_negatives: 25.0000 - val_false_positives: 18.0000 - val_true_negatives: 246.0000 - val_true_positives: 63.0000\n",
            "Epoch 66/200\n",
            "44/44 [==============================] - 1s 15ms/step - loss: 0.5164 - Accuracy: 0.7874 - false_negatives: 89.0000 - false_positives: 43.0000 - true_negatives: 1001.0000 - true_positives: 259.0000 - val_loss: 1.0171 - val_Accuracy: 0.7159 - val_false_negatives: 27.0000 - val_false_positives: 23.0000 - val_true_negatives: 241.0000 - val_true_positives: 61.0000\n",
            "Epoch 67/200\n",
            "44/44 [==============================] - 1s 14ms/step - loss: 0.5808 - Accuracy: 0.7644 - false_negatives: 95.0000 - false_positives: 54.0000 - true_negatives: 990.0000 - true_positives: 253.0000 - val_loss: 1.0953 - val_Accuracy: 0.6477 - val_false_negatives: 32.0000 - val_false_positives: 21.0000 - val_true_negatives: 243.0000 - val_true_positives: 56.0000\n",
            "Epoch 68/200\n",
            "44/44 [==============================] - 1s 15ms/step - loss: 0.5412 - Accuracy: 0.7816 - false_negatives: 89.0000 - false_positives: 52.0000 - true_negatives: 992.0000 - true_positives: 259.0000 - val_loss: 1.2431 - val_Accuracy: 0.6364 - val_false_negatives: 33.0000 - val_false_positives: 24.0000 - val_true_negatives: 240.0000 - val_true_positives: 55.0000\n",
            "Epoch 69/200\n",
            "44/44 [==============================] - 1s 15ms/step - loss: 0.5990 - Accuracy: 0.7845 - false_negatives: 98.0000 - false_positives: 54.0000 - true_negatives: 990.0000 - true_positives: 250.0000 - val_loss: 0.9033 - val_Accuracy: 0.7273 - val_false_negatives: 33.0000 - val_false_positives: 17.0000 - val_true_negatives: 247.0000 - val_true_positives: 55.0000\n",
            "Epoch 70/200\n",
            "44/44 [==============================] - 1s 14ms/step - loss: 0.5924 - Accuracy: 0.7701 - false_negatives: 95.0000 - false_positives: 57.0000 - true_negatives: 987.0000 - true_positives: 253.0000 - val_loss: 0.8426 - val_Accuracy: 0.7159 - val_false_negatives: 32.0000 - val_false_positives: 16.0000 - val_true_negatives: 248.0000 - val_true_positives: 56.0000\n",
            "Epoch 71/200\n",
            "44/44 [==============================] - 1s 15ms/step - loss: 0.5329 - Accuracy: 0.7989 - false_negatives: 95.0000 - false_positives: 42.0000 - true_negatives: 1002.0000 - true_positives: 253.0000 - val_loss: 0.9355 - val_Accuracy: 0.7273 - val_false_negatives: 28.0000 - val_false_positives: 17.0000 - val_true_negatives: 247.0000 - val_true_positives: 60.0000\n",
            "Epoch 72/200\n",
            "44/44 [==============================] - 1s 15ms/step - loss: 0.4943 - Accuracy: 0.8161 - false_negatives: 77.0000 - false_positives: 48.0000 - true_negatives: 996.0000 - true_positives: 271.0000 - val_loss: 0.8618 - val_Accuracy: 0.7500 - val_false_negatives: 27.0000 - val_false_positives: 16.0000 - val_true_negatives: 248.0000 - val_true_positives: 61.0000\n",
            "Epoch 73/200\n",
            "44/44 [==============================] - 1s 15ms/step - loss: 0.4958 - Accuracy: 0.8017 - false_negatives: 86.0000 - false_positives: 46.0000 - true_negatives: 998.0000 - true_positives: 262.0000 - val_loss: 0.7740 - val_Accuracy: 0.7045 - val_false_negatives: 30.0000 - val_false_positives: 18.0000 - val_true_negatives: 246.0000 - val_true_positives: 58.0000\n",
            "Epoch 74/200\n",
            "44/44 [==============================] - 1s 15ms/step - loss: 0.4941 - Accuracy: 0.7845 - false_negatives: 86.0000 - false_positives: 54.0000 - true_negatives: 990.0000 - true_positives: 262.0000 - val_loss: 0.9222 - val_Accuracy: 0.7159 - val_false_negatives: 27.0000 - val_false_positives: 19.0000 - val_true_negatives: 245.0000 - val_true_positives: 61.0000\n",
            "Epoch 75/200\n",
            "44/44 [==============================] - 1s 15ms/step - loss: 0.5231 - Accuracy: 0.8218 - false_negatives: 78.0000 - false_positives: 44.0000 - true_negatives: 1000.0000 - true_positives: 270.0000 - val_loss: 0.7477 - val_Accuracy: 0.6591 - val_false_negatives: 31.0000 - val_false_positives: 17.0000 - val_true_negatives: 247.0000 - val_true_positives: 57.0000\n",
            "Epoch 76/200\n",
            "44/44 [==============================] - 1s 15ms/step - loss: 0.4741 - Accuracy: 0.8075 - false_negatives: 78.0000 - false_positives: 48.0000 - true_negatives: 996.0000 - true_positives: 270.0000 - val_loss: 1.2267 - val_Accuracy: 0.6705 - val_false_negatives: 33.0000 - val_false_positives: 21.0000 - val_true_negatives: 243.0000 - val_true_positives: 55.0000\n",
            "Epoch 77/200\n",
            "44/44 [==============================] - 1s 15ms/step - loss: 0.6071 - Accuracy: 0.7615 - false_negatives: 103.0000 - false_positives: 59.0000 - true_negatives: 985.0000 - true_positives: 245.0000 - val_loss: 1.0014 - val_Accuracy: 0.6932 - val_false_negatives: 31.0000 - val_false_positives: 20.0000 - val_true_negatives: 244.0000 - val_true_positives: 57.0000\n",
            "Epoch 78/200\n",
            "44/44 [==============================] - 1s 15ms/step - loss: 0.5061 - Accuracy: 0.8103 - false_negatives: 84.0000 - false_positives: 44.0000 - true_negatives: 1000.0000 - true_positives: 264.0000 - val_loss: 0.8588 - val_Accuracy: 0.6705 - val_false_negatives: 34.0000 - val_false_positives: 20.0000 - val_true_negatives: 244.0000 - val_true_positives: 54.0000\n",
            "Epoch 79/200\n",
            "44/44 [==============================] - 1s 15ms/step - loss: 0.4879 - Accuracy: 0.7989 - false_negatives: 87.0000 - false_positives: 52.0000 - true_negatives: 992.0000 - true_positives: 261.0000 - val_loss: 0.7922 - val_Accuracy: 0.7159 - val_false_negatives: 27.0000 - val_false_positives: 17.0000 - val_true_negatives: 247.0000 - val_true_positives: 61.0000\n",
            "Epoch 80/200\n",
            "44/44 [==============================] - 1s 14ms/step - loss: 0.4834 - Accuracy: 0.8097 - false_negatives: 86.0000 - false_positives: 45.0000 - true_negatives: 1011.0000 - true_positives: 266.0000 - val_loss: 0.8416 - val_Accuracy: 0.7386 - val_false_negatives: 28.0000 - val_false_positives: 19.0000 - val_true_negatives: 245.0000 - val_true_positives: 60.0000\n",
            "Epoch 81/200\n",
            "44/44 [==============================] - 1s 15ms/step - loss: 0.4761 - Accuracy: 0.8075 - false_negatives: 80.0000 - false_positives: 49.0000 - true_negatives: 995.0000 - true_positives: 268.0000 - val_loss: 1.0125 - val_Accuracy: 0.7386 - val_false_negatives: 25.0000 - val_false_positives: 17.0000 - val_true_negatives: 247.0000 - val_true_positives: 63.0000\n",
            "Epoch 82/200\n",
            "44/44 [==============================] - 1s 15ms/step - loss: 0.5339 - Accuracy: 0.8046 - false_negatives: 79.0000 - false_positives: 55.0000 - true_negatives: 989.0000 - true_positives: 269.0000 - val_loss: 0.8184 - val_Accuracy: 0.6932 - val_false_negatives: 32.0000 - val_false_positives: 17.0000 - val_true_negatives: 247.0000 - val_true_positives: 56.0000\n",
            "Epoch 83/200\n",
            "44/44 [==============================] - 1s 15ms/step - loss: 0.4469 - Accuracy: 0.8276 - false_negatives: 70.0000 - false_positives: 41.0000 - true_negatives: 1003.0000 - true_positives: 278.0000 - val_loss: 1.0899 - val_Accuracy: 0.7045 - val_false_negatives: 30.0000 - val_false_positives: 18.0000 - val_true_negatives: 246.0000 - val_true_positives: 58.0000\n",
            "Epoch 84/200\n",
            "44/44 [==============================] - 1s 15ms/step - loss: 0.4567 - Accuracy: 0.8506 - false_negatives: 68.0000 - false_positives: 41.0000 - true_negatives: 1003.0000 - true_positives: 280.0000 - val_loss: 0.8497 - val_Accuracy: 0.6591 - val_false_negatives: 32.0000 - val_false_positives: 19.0000 - val_true_negatives: 245.0000 - val_true_positives: 56.0000\n",
            "Epoch 85/200\n",
            "44/44 [==============================] - 1s 15ms/step - loss: 0.5143 - Accuracy: 0.8161 - false_negatives: 85.0000 - false_positives: 49.0000 - true_negatives: 995.0000 - true_positives: 263.0000 - val_loss: 0.9782 - val_Accuracy: 0.7386 - val_false_negatives: 29.0000 - val_false_positives: 17.0000 - val_true_negatives: 247.0000 - val_true_positives: 59.0000\n",
            "Epoch 86/200\n",
            "44/44 [==============================] - 1s 15ms/step - loss: 0.4618 - Accuracy: 0.8218 - false_negatives: 74.0000 - false_positives: 53.0000 - true_negatives: 991.0000 - true_positives: 274.0000 - val_loss: 0.9934 - val_Accuracy: 0.7159 - val_false_negatives: 29.0000 - val_false_positives: 17.0000 - val_true_negatives: 247.0000 - val_true_positives: 59.0000\n",
            "Epoch 87/200\n",
            "44/44 [==============================] - 1s 15ms/step - loss: 0.4767 - Accuracy: 0.8075 - false_negatives: 78.0000 - false_positives: 56.0000 - true_negatives: 988.0000 - true_positives: 270.0000 - val_loss: 1.0669 - val_Accuracy: 0.7386 - val_false_negatives: 26.0000 - val_false_positives: 21.0000 - val_true_negatives: 243.0000 - val_true_positives: 62.0000\n",
            "Epoch 88/200\n",
            "44/44 [==============================] - 1s 15ms/step - loss: 0.4776 - Accuracy: 0.8276 - false_negatives: 79.0000 - false_positives: 46.0000 - true_negatives: 998.0000 - true_positives: 269.0000 - val_loss: 0.9762 - val_Accuracy: 0.6932 - val_false_negatives: 31.0000 - val_false_positives: 20.0000 - val_true_negatives: 244.0000 - val_true_positives: 57.0000\n",
            "Epoch 89/200\n",
            "44/44 [==============================] - 1s 15ms/step - loss: 0.4797 - Accuracy: 0.8132 - false_negatives: 76.0000 - false_positives: 54.0000 - true_negatives: 990.0000 - true_positives: 272.0000 - val_loss: 0.9705 - val_Accuracy: 0.7273 - val_false_negatives: 29.0000 - val_false_positives: 20.0000 - val_true_negatives: 244.0000 - val_true_positives: 59.0000\n",
            "Epoch 90/200\n",
            "44/44 [==============================] - 1s 15ms/step - loss: 0.5137 - Accuracy: 0.7672 - false_negatives: 93.0000 - false_positives: 61.0000 - true_negatives: 983.0000 - true_positives: 255.0000 - val_loss: 1.1212 - val_Accuracy: 0.7159 - val_false_negatives: 31.0000 - val_false_positives: 19.0000 - val_true_negatives: 245.0000 - val_true_positives: 57.0000\n",
            "Epoch 91/200\n",
            "44/44 [==============================] - 1s 14ms/step - loss: 0.4870 - Accuracy: 0.8161 - false_negatives: 80.0000 - false_positives: 47.0000 - true_negatives: 997.0000 - true_positives: 268.0000 - val_loss: 0.7644 - val_Accuracy: 0.7841 - val_false_negatives: 24.0000 - val_false_positives: 16.0000 - val_true_negatives: 248.0000 - val_true_positives: 64.0000\n",
            "Epoch 92/200\n",
            "44/44 [==============================] - 1s 15ms/step - loss: 0.4600 - Accuracy: 0.8305 - false_negatives: 71.0000 - false_positives: 41.0000 - true_negatives: 1003.0000 - true_positives: 277.0000 - val_loss: 0.7479 - val_Accuracy: 0.7273 - val_false_negatives: 30.0000 - val_false_positives: 15.0000 - val_true_negatives: 249.0000 - val_true_positives: 58.0000\n",
            "Epoch 93/200\n",
            "44/44 [==============================] - 1s 15ms/step - loss: 0.4899 - Accuracy: 0.7902 - false_negatives: 85.0000 - false_positives: 59.0000 - true_negatives: 985.0000 - true_positives: 263.0000 - val_loss: 0.7856 - val_Accuracy: 0.7386 - val_false_negatives: 26.0000 - val_false_positives: 18.0000 - val_true_negatives: 246.0000 - val_true_positives: 62.0000\n",
            "Epoch 94/200\n",
            "44/44 [==============================] - 1s 15ms/step - loss: 0.4714 - Accuracy: 0.8075 - false_negatives: 78.0000 - false_positives: 52.0000 - true_negatives: 992.0000 - true_positives: 270.0000 - val_loss: 1.0065 - val_Accuracy: 0.6591 - val_false_negatives: 34.0000 - val_false_positives: 25.0000 - val_true_negatives: 239.0000 - val_true_positives: 54.0000\n",
            "Epoch 95/200\n",
            "44/44 [==============================] - 1s 15ms/step - loss: 0.4767 - Accuracy: 0.8125 - false_negatives: 77.0000 - false_positives: 49.0000 - true_negatives: 1007.0000 - true_positives: 275.0000 - val_loss: 0.7662 - val_Accuracy: 0.7159 - val_false_negatives: 31.0000 - val_false_positives: 17.0000 - val_true_negatives: 247.0000 - val_true_positives: 57.0000\n",
            "Epoch 96/200\n",
            "44/44 [==============================] - 1s 15ms/step - loss: 0.4909 - Accuracy: 0.8046 - false_negatives: 83.0000 - false_positives: 50.0000 - true_negatives: 994.0000 - true_positives: 265.0000 - val_loss: 0.7771 - val_Accuracy: 0.7273 - val_false_negatives: 29.0000 - val_false_positives: 18.0000 - val_true_negatives: 246.0000 - val_true_positives: 59.0000\n",
            "Epoch 97/200\n",
            "44/44 [==============================] - 1s 15ms/step - loss: 0.4995 - Accuracy: 0.7902 - false_negatives: 91.0000 - false_positives: 50.0000 - true_negatives: 994.0000 - true_positives: 257.0000 - val_loss: 1.2142 - val_Accuracy: 0.6818 - val_false_negatives: 31.0000 - val_false_positives: 23.0000 - val_true_negatives: 241.0000 - val_true_positives: 57.0000\n",
            "Epoch 98/200\n",
            "44/44 [==============================] - 1s 15ms/step - loss: 0.4903 - Accuracy: 0.8075 - false_negatives: 79.0000 - false_positives: 51.0000 - true_negatives: 993.0000 - true_positives: 269.0000 - val_loss: 0.9857 - val_Accuracy: 0.7159 - val_false_negatives: 28.0000 - val_false_positives: 20.0000 - val_true_negatives: 244.0000 - val_true_positives: 60.0000\n",
            "Epoch 99/200\n",
            "44/44 [==============================] - 1s 15ms/step - loss: 0.4565 - Accuracy: 0.8218 - false_negatives: 74.0000 - false_positives: 53.0000 - true_negatives: 991.0000 - true_positives: 274.0000 - val_loss: 0.8571 - val_Accuracy: 0.6932 - val_false_negatives: 30.0000 - val_false_positives: 21.0000 - val_true_negatives: 243.0000 - val_true_positives: 58.0000\n",
            "Epoch 100/200\n",
            "44/44 [==============================] - 1s 15ms/step - loss: 0.3975 - Accuracy: 0.8523 - false_negatives: 69.0000 - false_positives: 43.0000 - true_negatives: 1013.0000 - true_positives: 283.0000 - val_loss: 1.1353 - val_Accuracy: 0.7045 - val_false_negatives: 27.0000 - val_false_positives: 22.0000 - val_true_negatives: 242.0000 - val_true_positives: 61.0000\n",
            "Epoch 101/200\n",
            "44/44 [==============================] - 1s 16ms/step - loss: 0.4655 - Accuracy: 0.8190 - false_negatives: 71.0000 - false_positives: 48.0000 - true_negatives: 996.0000 - true_positives: 277.0000 - val_loss: 0.9207 - val_Accuracy: 0.7386 - val_false_negatives: 26.0000 - val_false_positives: 19.0000 - val_true_negatives: 245.0000 - val_true_positives: 62.0000\n",
            "Epoch 102/200\n",
            "44/44 [==============================] - 1s 16ms/step - loss: 0.4653 - Accuracy: 0.8218 - false_negatives: 75.0000 - false_positives: 44.0000 - true_negatives: 1000.0000 - true_positives: 273.0000 - val_loss: 0.8711 - val_Accuracy: 0.7273 - val_false_negatives: 25.0000 - val_false_positives: 18.0000 - val_true_negatives: 246.0000 - val_true_positives: 63.0000\n",
            "Epoch 103/200\n",
            "44/44 [==============================] - 1s 15ms/step - loss: 0.4633 - Accuracy: 0.8218 - false_negatives: 76.0000 - false_positives: 47.0000 - true_negatives: 997.0000 - true_positives: 272.0000 - val_loss: 0.9801 - val_Accuracy: 0.7386 - val_false_negatives: 25.0000 - val_false_positives: 20.0000 - val_true_negatives: 244.0000 - val_true_positives: 63.0000\n",
            "Epoch 104/200\n",
            "44/44 [==============================] - 1s 16ms/step - loss: 0.4605 - Accuracy: 0.8247 - false_negatives: 75.0000 - false_positives: 49.0000 - true_negatives: 995.0000 - true_positives: 273.0000 - val_loss: 0.9712 - val_Accuracy: 0.7500 - val_false_negatives: 28.0000 - val_false_positives: 17.0000 - val_true_negatives: 247.0000 - val_true_positives: 60.0000\n",
            "Epoch 105/200\n",
            "44/44 [==============================] - 1s 25ms/step - loss: 0.4385 - Accuracy: 0.8132 - false_negatives: 74.0000 - false_positives: 51.0000 - true_negatives: 993.0000 - true_positives: 274.0000 - val_loss: 0.9226 - val_Accuracy: 0.7273 - val_false_negatives: 27.0000 - val_false_positives: 17.0000 - val_true_negatives: 247.0000 - val_true_positives: 61.0000\n",
            "Epoch 106/200\n",
            "44/44 [==============================] - 1s 15ms/step - loss: 0.4380 - Accuracy: 0.8305 - false_negatives: 72.0000 - false_positives: 46.0000 - true_negatives: 998.0000 - true_positives: 276.0000 - val_loss: 0.9971 - val_Accuracy: 0.7386 - val_false_negatives: 26.0000 - val_false_positives: 19.0000 - val_true_negatives: 245.0000 - val_true_positives: 62.0000\n",
            "Epoch 107/200\n",
            "44/44 [==============================] - 1s 15ms/step - loss: 0.4487 - Accuracy: 0.8218 - false_negatives: 74.0000 - false_positives: 52.0000 - true_negatives: 992.0000 - true_positives: 274.0000 - val_loss: 0.7746 - val_Accuracy: 0.7159 - val_false_negatives: 29.0000 - val_false_positives: 13.0000 - val_true_negatives: 251.0000 - val_true_positives: 59.0000\n",
            "Epoch 108/200\n",
            "44/44 [==============================] - 1s 15ms/step - loss: 0.3822 - Accuracy: 0.8362 - false_negatives: 63.0000 - false_positives: 46.0000 - true_negatives: 998.0000 - true_positives: 285.0000 - val_loss: 0.8172 - val_Accuracy: 0.7500 - val_false_negatives: 24.0000 - val_false_positives: 19.0000 - val_true_negatives: 245.0000 - val_true_positives: 64.0000\n",
            "Epoch 109/200\n",
            "44/44 [==============================] - 1s 16ms/step - loss: 0.3943 - Accuracy: 0.8608 - false_negatives: 62.0000 - false_positives: 41.0000 - true_negatives: 1015.0000 - true_positives: 290.0000 - val_loss: 0.9679 - val_Accuracy: 0.6932 - val_false_negatives: 30.0000 - val_false_positives: 24.0000 - val_true_negatives: 240.0000 - val_true_positives: 58.0000\n",
            "Epoch 110/200\n",
            "44/44 [==============================] - 1s 16ms/step - loss: 0.4601 - Accuracy: 0.8247 - false_negatives: 74.0000 - false_positives: 46.0000 - true_negatives: 998.0000 - true_positives: 274.0000 - val_loss: 0.7975 - val_Accuracy: 0.7045 - val_false_negatives: 30.0000 - val_false_positives: 24.0000 - val_true_negatives: 240.0000 - val_true_positives: 58.0000\n",
            "Epoch 111/200\n",
            "44/44 [==============================] - 1s 15ms/step - loss: 0.4308 - Accuracy: 0.8247 - false_negatives: 74.0000 - false_positives: 47.0000 - true_negatives: 997.0000 - true_positives: 274.0000 - val_loss: 0.9346 - val_Accuracy: 0.7159 - val_false_negatives: 28.0000 - val_false_positives: 21.0000 - val_true_negatives: 243.0000 - val_true_positives: 60.0000\n",
            "Epoch 112/200\n",
            "44/44 [==============================] - 1s 15ms/step - loss: 0.4348 - Accuracy: 0.8305 - false_negatives: 67.0000 - false_positives: 46.0000 - true_negatives: 998.0000 - true_positives: 281.0000 - val_loss: 0.6953 - val_Accuracy: 0.7500 - val_false_negatives: 24.0000 - val_false_positives: 18.0000 - val_true_negatives: 246.0000 - val_true_positives: 64.0000\n",
            "Epoch 113/200\n",
            "44/44 [==============================] - 1s 15ms/step - loss: 0.4358 - Accuracy: 0.8362 - false_negatives: 72.0000 - false_positives: 43.0000 - true_negatives: 1001.0000 - true_positives: 276.0000 - val_loss: 0.9011 - val_Accuracy: 0.7273 - val_false_negatives: 24.0000 - val_false_positives: 21.0000 - val_true_negatives: 243.0000 - val_true_positives: 64.0000\n",
            "Epoch 114/200\n",
            "44/44 [==============================] - 1s 23ms/step - loss: 0.4485 - Accuracy: 0.8362 - false_negatives: 68.0000 - false_positives: 47.0000 - true_negatives: 997.0000 - true_positives: 280.0000 - val_loss: 0.9079 - val_Accuracy: 0.6932 - val_false_negatives: 30.0000 - val_false_positives: 21.0000 - val_true_negatives: 243.0000 - val_true_positives: 58.0000\n",
            "Epoch 115/200\n",
            "44/44 [==============================] - 1s 24ms/step - loss: 0.4146 - Accuracy: 0.8247 - false_negatives: 69.0000 - false_positives: 45.0000 - true_negatives: 999.0000 - true_positives: 279.0000 - val_loss: 0.8698 - val_Accuracy: 0.7500 - val_false_negatives: 25.0000 - val_false_positives: 17.0000 - val_true_negatives: 247.0000 - val_true_positives: 63.0000\n",
            "Epoch 116/200\n",
            "44/44 [==============================] - 1s 15ms/step - loss: 0.4161 - Accuracy: 0.8362 - false_negatives: 63.0000 - false_positives: 43.0000 - true_negatives: 1001.0000 - true_positives: 285.0000 - val_loss: 0.7893 - val_Accuracy: 0.7045 - val_false_negatives: 28.0000 - val_false_positives: 20.0000 - val_true_negatives: 244.0000 - val_true_positives: 60.0000\n",
            "Epoch 117/200\n",
            "44/44 [==============================] - 1s 15ms/step - loss: 0.3635 - Accuracy: 0.8477 - false_negatives: 63.0000 - false_positives: 41.0000 - true_negatives: 1003.0000 - true_positives: 285.0000 - val_loss: 0.9428 - val_Accuracy: 0.7045 - val_false_negatives: 28.0000 - val_false_positives: 20.0000 - val_true_negatives: 244.0000 - val_true_positives: 60.0000\n",
            "Epoch 118/200\n",
            "44/44 [==============================] - 1s 15ms/step - loss: 0.4380 - Accuracy: 0.8333 - false_negatives: 69.0000 - false_positives: 48.0000 - true_negatives: 996.0000 - true_positives: 279.0000 - val_loss: 0.8697 - val_Accuracy: 0.7955 - val_false_negatives: 19.0000 - val_false_positives: 16.0000 - val_true_negatives: 248.0000 - val_true_positives: 69.0000\n",
            "Epoch 119/200\n",
            "44/44 [==============================] - 1s 15ms/step - loss: 0.3646 - Accuracy: 0.8678 - false_negatives: 53.0000 - false_positives: 38.0000 - true_negatives: 1006.0000 - true_positives: 295.0000 - val_loss: 0.8938 - val_Accuracy: 0.6818 - val_false_negatives: 32.0000 - val_false_positives: 22.0000 - val_true_negatives: 242.0000 - val_true_positives: 56.0000\n",
            "Epoch 120/200\n",
            "44/44 [==============================] - 1s 15ms/step - loss: 0.3988 - Accuracy: 0.8305 - false_negatives: 66.0000 - false_positives: 45.0000 - true_negatives: 999.0000 - true_positives: 282.0000 - val_loss: 1.1373 - val_Accuracy: 0.7159 - val_false_negatives: 27.0000 - val_false_positives: 22.0000 - val_true_negatives: 242.0000 - val_true_positives: 61.0000\n",
            "Epoch 121/200\n",
            "44/44 [==============================] - 1s 15ms/step - loss: 0.4191 - Accuracy: 0.8333 - false_negatives: 71.0000 - false_positives: 47.0000 - true_negatives: 997.0000 - true_positives: 277.0000 - val_loss: 0.8999 - val_Accuracy: 0.7614 - val_false_negatives: 24.0000 - val_false_positives: 19.0000 - val_true_negatives: 245.0000 - val_true_positives: 64.0000\n",
            "Epoch 122/200\n",
            "44/44 [==============================] - 1s 15ms/step - loss: 0.3698 - Accuracy: 0.8333 - false_negatives: 66.0000 - false_positives: 45.0000 - true_negatives: 999.0000 - true_positives: 282.0000 - val_loss: 0.9414 - val_Accuracy: 0.6818 - val_false_negatives: 32.0000 - val_false_positives: 24.0000 - val_true_negatives: 240.0000 - val_true_positives: 56.0000\n",
            "Epoch 123/200\n",
            "44/44 [==============================] - 1s 15ms/step - loss: 0.3244 - Accuracy: 0.8649 - false_negatives: 54.0000 - false_positives: 39.0000 - true_negatives: 1005.0000 - true_positives: 294.0000 - val_loss: 1.2851 - val_Accuracy: 0.6932 - val_false_negatives: 28.0000 - val_false_positives: 23.0000 - val_true_negatives: 241.0000 - val_true_positives: 60.0000\n",
            "Epoch 124/200\n",
            "44/44 [==============================] - 1s 15ms/step - loss: 0.3986 - Accuracy: 0.8477 - false_negatives: 58.0000 - false_positives: 45.0000 - true_negatives: 999.0000 - true_positives: 290.0000 - val_loss: 0.8437 - val_Accuracy: 0.6818 - val_false_negatives: 28.0000 - val_false_positives: 22.0000 - val_true_negatives: 242.0000 - val_true_positives: 60.0000\n",
            "Epoch 125/200\n",
            "44/44 [==============================] - 1s 15ms/step - loss: 0.3393 - Accuracy: 0.8563 - false_negatives: 64.0000 - false_positives: 38.0000 - true_negatives: 1006.0000 - true_positives: 284.0000 - val_loss: 0.8249 - val_Accuracy: 0.6932 - val_false_negatives: 29.0000 - val_false_positives: 22.0000 - val_true_negatives: 242.0000 - val_true_positives: 59.0000\n",
            "Epoch 126/200\n",
            "44/44 [==============================] - 1s 16ms/step - loss: 0.3550 - Accuracy: 0.8736 - false_negatives: 48.0000 - false_positives: 40.0000 - true_negatives: 1004.0000 - true_positives: 300.0000 - val_loss: 0.8952 - val_Accuracy: 0.6932 - val_false_negatives: 27.0000 - val_false_positives: 21.0000 - val_true_negatives: 243.0000 - val_true_positives: 61.0000\n",
            "Epoch 127/200\n",
            "44/44 [==============================] - 1s 15ms/step - loss: 0.3636 - Accuracy: 0.8506 - false_negatives: 60.0000 - false_positives: 44.0000 - true_negatives: 1000.0000 - true_positives: 288.0000 - val_loss: 1.0238 - val_Accuracy: 0.7159 - val_false_negatives: 30.0000 - val_false_positives: 22.0000 - val_true_negatives: 242.0000 - val_true_positives: 58.0000\n",
            "Epoch 128/200\n",
            "44/44 [==============================] - 1s 15ms/step - loss: 0.3797 - Accuracy: 0.8420 - false_negatives: 64.0000 - false_positives: 44.0000 - true_negatives: 1000.0000 - true_positives: 284.0000 - val_loss: 1.3090 - val_Accuracy: 0.6705 - val_false_negatives: 29.0000 - val_false_positives: 24.0000 - val_true_negatives: 240.0000 - val_true_positives: 59.0000\n",
            "Epoch 129/200\n",
            "44/44 [==============================] - 1s 15ms/step - loss: 0.3905 - Accuracy: 0.8362 - false_negatives: 68.0000 - false_positives: 44.0000 - true_negatives: 1000.0000 - true_positives: 280.0000 - val_loss: 1.4422 - val_Accuracy: 0.7045 - val_false_negatives: 32.0000 - val_false_positives: 25.0000 - val_true_negatives: 239.0000 - val_true_positives: 56.0000\n",
            "Epoch 130/200\n",
            "44/44 [==============================] - 1s 15ms/step - loss: 0.3914 - Accuracy: 0.8477 - false_negatives: 64.0000 - false_positives: 39.0000 - true_negatives: 1005.0000 - true_positives: 284.0000 - val_loss: 1.1384 - val_Accuracy: 0.6818 - val_false_negatives: 31.0000 - val_false_positives: 25.0000 - val_true_negatives: 239.0000 - val_true_positives: 57.0000\n",
            "Epoch 131/200\n",
            "44/44 [==============================] - 1s 16ms/step - loss: 0.3564 - Accuracy: 0.8678 - false_negatives: 56.0000 - false_positives: 39.0000 - true_negatives: 1005.0000 - true_positives: 292.0000 - val_loss: 0.8890 - val_Accuracy: 0.7841 - val_false_negatives: 19.0000 - val_false_positives: 17.0000 - val_true_negatives: 247.0000 - val_true_positives: 69.0000\n",
            "Epoch 132/200\n",
            "44/44 [==============================] - 1s 15ms/step - loss: 0.3102 - Accuracy: 0.8793 - false_negatives: 49.0000 - false_positives: 31.0000 - true_negatives: 1013.0000 - true_positives: 299.0000 - val_loss: 0.9703 - val_Accuracy: 0.7273 - val_false_negatives: 25.0000 - val_false_positives: 23.0000 - val_true_negatives: 241.0000 - val_true_positives: 63.0000\n",
            "Epoch 133/200\n",
            "44/44 [==============================] - 1s 16ms/step - loss: 0.3639 - Accuracy: 0.8534 - false_negatives: 57.0000 - false_positives: 45.0000 - true_negatives: 999.0000 - true_positives: 291.0000 - val_loss: 1.1590 - val_Accuracy: 0.6932 - val_false_negatives: 32.0000 - val_false_positives: 22.0000 - val_true_negatives: 242.0000 - val_true_positives: 56.0000\n",
            "Epoch 134/200\n",
            "44/44 [==============================] - 1s 24ms/step - loss: 0.4266 - Accuracy: 0.8592 - false_negatives: 55.0000 - false_positives: 42.0000 - true_negatives: 1002.0000 - true_positives: 293.0000 - val_loss: 1.2061 - val_Accuracy: 0.7386 - val_false_negatives: 26.0000 - val_false_positives: 21.0000 - val_true_negatives: 243.0000 - val_true_positives: 62.0000\n",
            "Epoch 135/200\n",
            "44/44 [==============================] - 1s 23ms/step - loss: 0.3869 - Accuracy: 0.8506 - false_negatives: 60.0000 - false_positives: 48.0000 - true_negatives: 996.0000 - true_positives: 288.0000 - val_loss: 0.8900 - val_Accuracy: 0.7159 - val_false_negatives: 28.0000 - val_false_positives: 19.0000 - val_true_negatives: 245.0000 - val_true_positives: 60.0000\n",
            "Epoch 136/200\n",
            "44/44 [==============================] - 1s 16ms/step - loss: 0.3829 - Accuracy: 0.8420 - false_negatives: 65.0000 - false_positives: 44.0000 - true_negatives: 1000.0000 - true_positives: 283.0000 - val_loss: 0.9542 - val_Accuracy: 0.7045 - val_false_negatives: 31.0000 - val_false_positives: 16.0000 - val_true_negatives: 248.0000 - val_true_positives: 57.0000\n",
            "Epoch 137/200\n",
            "44/44 [==============================] - 1s 15ms/step - loss: 0.3479 - Accuracy: 0.8736 - false_negatives: 50.0000 - false_positives: 34.0000 - true_negatives: 1010.0000 - true_positives: 298.0000 - val_loss: 0.8535 - val_Accuracy: 0.7614 - val_false_negatives: 23.0000 - val_false_positives: 18.0000 - val_true_negatives: 246.0000 - val_true_positives: 65.0000\n",
            "Epoch 138/200\n",
            "44/44 [==============================] - 1s 16ms/step - loss: 0.3480 - Accuracy: 0.8649 - false_negatives: 59.0000 - false_positives: 39.0000 - true_negatives: 1005.0000 - true_positives: 289.0000 - val_loss: 1.0591 - val_Accuracy: 0.7045 - val_false_negatives: 28.0000 - val_false_positives: 22.0000 - val_true_negatives: 242.0000 - val_true_positives: 60.0000\n",
            "Epoch 139/200\n",
            "44/44 [==============================] - 1s 15ms/step - loss: 0.3400 - Accuracy: 0.8621 - false_negatives: 55.0000 - false_positives: 41.0000 - true_negatives: 1003.0000 - true_positives: 293.0000 - val_loss: 0.9530 - val_Accuracy: 0.7159 - val_false_negatives: 27.0000 - val_false_positives: 21.0000 - val_true_negatives: 243.0000 - val_true_positives: 61.0000\n",
            "Epoch 140/200\n",
            "44/44 [==============================] - 1s 15ms/step - loss: 0.3882 - Accuracy: 0.8621 - false_negatives: 55.0000 - false_positives: 43.0000 - true_negatives: 1001.0000 - true_positives: 293.0000 - val_loss: 1.2432 - val_Accuracy: 0.7159 - val_false_negatives: 25.0000 - val_false_positives: 23.0000 - val_true_negatives: 241.0000 - val_true_positives: 63.0000\n",
            "Epoch 141/200\n",
            "44/44 [==============================] - 1s 15ms/step - loss: 0.3603 - Accuracy: 0.8764 - false_negatives: 52.0000 - false_positives: 35.0000 - true_negatives: 1009.0000 - true_positives: 296.0000 - val_loss: 0.8405 - val_Accuracy: 0.7159 - val_false_negatives: 27.0000 - val_false_positives: 15.0000 - val_true_negatives: 249.0000 - val_true_positives: 61.0000\n",
            "Epoch 142/200\n",
            "44/44 [==============================] - 1s 15ms/step - loss: 0.3106 - Accuracy: 0.8736 - false_negatives: 49.0000 - false_positives: 35.0000 - true_negatives: 1009.0000 - true_positives: 299.0000 - val_loss: 0.9276 - val_Accuracy: 0.7614 - val_false_negatives: 22.0000 - val_false_positives: 17.0000 - val_true_negatives: 247.0000 - val_true_positives: 66.0000\n",
            "Epoch 143/200\n",
            "44/44 [==============================] - 1s 16ms/step - loss: 0.3193 - Accuracy: 0.8908 - false_negatives: 45.0000 - false_positives: 33.0000 - true_negatives: 1011.0000 - true_positives: 303.0000 - val_loss: 1.1706 - val_Accuracy: 0.7727 - val_false_negatives: 23.0000 - val_false_positives: 20.0000 - val_true_negatives: 244.0000 - val_true_positives: 65.0000\n",
            "Epoch 144/200\n",
            "44/44 [==============================] - 1s 15ms/step - loss: 0.3513 - Accuracy: 0.8851 - false_negatives: 47.0000 - false_positives: 37.0000 - true_negatives: 1007.0000 - true_positives: 301.0000 - val_loss: 0.9719 - val_Accuracy: 0.7159 - val_false_negatives: 25.0000 - val_false_positives: 22.0000 - val_true_negatives: 242.0000 - val_true_positives: 63.0000\n",
            "Epoch 145/200\n",
            "44/44 [==============================] - 1s 16ms/step - loss: 0.3962 - Accuracy: 0.8477 - false_negatives: 63.0000 - false_positives: 46.0000 - true_negatives: 998.0000 - true_positives: 285.0000 - val_loss: 1.4666 - val_Accuracy: 0.7273 - val_false_negatives: 25.0000 - val_false_positives: 22.0000 - val_true_negatives: 242.0000 - val_true_positives: 63.0000\n",
            "Epoch 146/200\n",
            "44/44 [==============================] - 1s 15ms/step - loss: 0.3052 - Accuracy: 0.8851 - false_negatives: 45.0000 - false_positives: 29.0000 - true_negatives: 1015.0000 - true_positives: 303.0000 - val_loss: 1.0640 - val_Accuracy: 0.7614 - val_false_negatives: 21.0000 - val_false_positives: 18.0000 - val_true_negatives: 246.0000 - val_true_positives: 67.0000\n",
            "Epoch 147/200\n",
            "44/44 [==============================] - 1s 15ms/step - loss: 0.3115 - Accuracy: 0.8592 - false_negatives: 58.0000 - false_positives: 42.0000 - true_negatives: 1002.0000 - true_positives: 290.0000 - val_loss: 0.9554 - val_Accuracy: 0.7273 - val_false_negatives: 26.0000 - val_false_positives: 21.0000 - val_true_negatives: 243.0000 - val_true_positives: 62.0000\n",
            "Epoch 148/200\n",
            "44/44 [==============================] - 1s 15ms/step - loss: 0.2615 - Accuracy: 0.9023 - false_negatives: 46.0000 - false_positives: 25.0000 - true_negatives: 1019.0000 - true_positives: 302.0000 - val_loss: 1.0701 - val_Accuracy: 0.7500 - val_false_negatives: 24.0000 - val_false_positives: 18.0000 - val_true_negatives: 246.0000 - val_true_positives: 64.0000\n",
            "Epoch 149/200\n",
            "44/44 [==============================] - 1s 15ms/step - loss: 0.2540 - Accuracy: 0.8937 - false_negatives: 39.0000 - false_positives: 34.0000 - true_negatives: 1010.0000 - true_positives: 309.0000 - val_loss: 1.0880 - val_Accuracy: 0.7614 - val_false_negatives: 22.0000 - val_false_positives: 18.0000 - val_true_negatives: 246.0000 - val_true_positives: 66.0000\n",
            "Epoch 150/200\n",
            "44/44 [==============================] - 1s 15ms/step - loss: 0.3203 - Accuracy: 0.8678 - false_negatives: 53.0000 - false_positives: 41.0000 - true_negatives: 1003.0000 - true_positives: 295.0000 - val_loss: 1.0087 - val_Accuracy: 0.7614 - val_false_negatives: 22.0000 - val_false_positives: 19.0000 - val_true_negatives: 245.0000 - val_true_positives: 66.0000\n",
            "Epoch 151/200\n",
            "44/44 [==============================] - 1s 16ms/step - loss: 0.4074 - Accuracy: 0.8534 - false_negatives: 59.0000 - false_positives: 39.0000 - true_negatives: 1005.0000 - true_positives: 289.0000 - val_loss: 0.9479 - val_Accuracy: 0.7045 - val_false_negatives: 28.0000 - val_false_positives: 21.0000 - val_true_negatives: 243.0000 - val_true_positives: 60.0000\n",
            "Epoch 152/200\n",
            "44/44 [==============================] - 1s 15ms/step - loss: 0.2685 - Accuracy: 0.8966 - false_negatives: 43.0000 - false_positives: 29.0000 - true_negatives: 1015.0000 - true_positives: 305.0000 - val_loss: 1.1006 - val_Accuracy: 0.7386 - val_false_negatives: 23.0000 - val_false_positives: 19.0000 - val_true_negatives: 245.0000 - val_true_positives: 65.0000\n",
            "Epoch 153/200\n",
            "44/44 [==============================] - 1s 16ms/step - loss: 0.2656 - Accuracy: 0.8994 - false_negatives: 41.0000 - false_positives: 30.0000 - true_negatives: 1014.0000 - true_positives: 307.0000 - val_loss: 0.9551 - val_Accuracy: 0.7045 - val_false_negatives: 26.0000 - val_false_positives: 22.0000 - val_true_negatives: 242.0000 - val_true_positives: 62.0000\n",
            "Epoch 154/200\n",
            "44/44 [==============================] - 1s 16ms/step - loss: 0.2700 - Accuracy: 0.8994 - false_negatives: 37.0000 - false_positives: 30.0000 - true_negatives: 1014.0000 - true_positives: 311.0000 - val_loss: 1.0967 - val_Accuracy: 0.6932 - val_false_negatives: 28.0000 - val_false_positives: 24.0000 - val_true_negatives: 240.0000 - val_true_positives: 60.0000\n",
            "Epoch 155/200\n",
            "44/44 [==============================] - 1s 16ms/step - loss: 0.2948 - Accuracy: 0.8879 - false_negatives: 46.0000 - false_positives: 33.0000 - true_negatives: 1011.0000 - true_positives: 302.0000 - val_loss: 1.0885 - val_Accuracy: 0.7500 - val_false_negatives: 22.0000 - val_false_positives: 21.0000 - val_true_negatives: 243.0000 - val_true_positives: 66.0000\n",
            "Epoch 156/200\n",
            "44/44 [==============================] - 1s 16ms/step - loss: 0.3122 - Accuracy: 0.8879 - false_negatives: 45.0000 - false_positives: 32.0000 - true_negatives: 1012.0000 - true_positives: 303.0000 - val_loss: 0.9609 - val_Accuracy: 0.7273 - val_false_negatives: 25.0000 - val_false_positives: 22.0000 - val_true_negatives: 242.0000 - val_true_positives: 63.0000\n",
            "Epoch 157/200\n",
            "44/44 [==============================] - 1s 16ms/step - loss: 0.3675 - Accuracy: 0.8563 - false_negatives: 57.0000 - false_positives: 47.0000 - true_negatives: 997.0000 - true_positives: 291.0000 - val_loss: 0.8255 - val_Accuracy: 0.6705 - val_false_negatives: 29.0000 - val_false_positives: 21.0000 - val_true_negatives: 243.0000 - val_true_positives: 59.0000\n",
            "Epoch 158/200\n",
            "44/44 [==============================] - 1s 15ms/step - loss: 0.3166 - Accuracy: 0.8707 - false_negatives: 52.0000 - false_positives: 37.0000 - true_negatives: 1007.0000 - true_positives: 296.0000 - val_loss: 0.8617 - val_Accuracy: 0.7273 - val_false_negatives: 25.0000 - val_false_positives: 20.0000 - val_true_negatives: 244.0000 - val_true_positives: 63.0000\n",
            "Epoch 159/200\n",
            "44/44 [==============================] - 1s 16ms/step - loss: 0.2802 - Accuracy: 0.9052 - false_negatives: 39.0000 - false_positives: 30.0000 - true_negatives: 1014.0000 - true_positives: 309.0000 - val_loss: 0.9970 - val_Accuracy: 0.7500 - val_false_negatives: 23.0000 - val_false_positives: 20.0000 - val_true_negatives: 244.0000 - val_true_positives: 65.0000\n",
            "Epoch 160/200\n",
            "44/44 [==============================] - 1s 16ms/step - loss: 0.2802 - Accuracy: 0.9062 - false_negatives: 40.0000 - false_positives: 32.0000 - true_negatives: 1024.0000 - true_positives: 312.0000 - val_loss: 1.0396 - val_Accuracy: 0.7841 - val_false_negatives: 21.0000 - val_false_positives: 17.0000 - val_true_negatives: 247.0000 - val_true_positives: 67.0000\n",
            "Epoch 161/200\n",
            "44/44 [==============================] - 1s 16ms/step - loss: 0.3101 - Accuracy: 0.8793 - false_negatives: 46.0000 - false_positives: 37.0000 - true_negatives: 1007.0000 - true_positives: 302.0000 - val_loss: 1.3658 - val_Accuracy: 0.7500 - val_false_negatives: 25.0000 - val_false_positives: 21.0000 - val_true_negatives: 243.0000 - val_true_positives: 63.0000\n",
            "Epoch 162/200\n",
            "44/44 [==============================] - 1s 16ms/step - loss: 0.3337 - Accuracy: 0.8707 - false_negatives: 50.0000 - false_positives: 39.0000 - true_negatives: 1005.0000 - true_positives: 298.0000 - val_loss: 0.7385 - val_Accuracy: 0.7273 - val_false_negatives: 25.0000 - val_false_positives: 17.0000 - val_true_negatives: 247.0000 - val_true_positives: 63.0000\n",
            "Epoch 163/200\n",
            "44/44 [==============================] - 1s 16ms/step - loss: 0.3216 - Accuracy: 0.8592 - false_negatives: 56.0000 - false_positives: 36.0000 - true_negatives: 1008.0000 - true_positives: 292.0000 - val_loss: 0.9999 - val_Accuracy: 0.7045 - val_false_negatives: 27.0000 - val_false_positives: 24.0000 - val_true_negatives: 240.0000 - val_true_positives: 61.0000\n",
            "Epoch 164/200\n",
            "44/44 [==============================] - 1s 15ms/step - loss: 0.2482 - Accuracy: 0.9138 - false_negatives: 38.0000 - false_positives: 27.0000 - true_negatives: 1017.0000 - true_positives: 310.0000 - val_loss: 1.1295 - val_Accuracy: 0.7386 - val_false_negatives: 23.0000 - val_false_positives: 21.0000 - val_true_negatives: 243.0000 - val_true_positives: 65.0000\n",
            "Epoch 165/200\n",
            "44/44 [==============================] - 1s 16ms/step - loss: 0.2419 - Accuracy: 0.9167 - false_negatives: 32.0000 - false_positives: 29.0000 - true_negatives: 1015.0000 - true_positives: 316.0000 - val_loss: 1.3475 - val_Accuracy: 0.6818 - val_false_negatives: 30.0000 - val_false_positives: 24.0000 - val_true_negatives: 240.0000 - val_true_positives: 58.0000\n",
            "Epoch 166/200\n",
            "44/44 [==============================] - 1s 16ms/step - loss: 0.2543 - Accuracy: 0.8937 - false_negatives: 41.0000 - false_positives: 27.0000 - true_negatives: 1017.0000 - true_positives: 307.0000 - val_loss: 1.2769 - val_Accuracy: 0.7273 - val_false_negatives: 25.0000 - val_false_positives: 22.0000 - val_true_negatives: 242.0000 - val_true_positives: 63.0000\n",
            "Epoch 167/200\n",
            "44/44 [==============================] - 1s 17ms/step - loss: 0.2433 - Accuracy: 0.9109 - false_negatives: 34.0000 - false_positives: 27.0000 - true_negatives: 1017.0000 - true_positives: 314.0000 - val_loss: 1.1655 - val_Accuracy: 0.7045 - val_false_negatives: 28.0000 - val_false_positives: 23.0000 - val_true_negatives: 241.0000 - val_true_positives: 60.0000\n",
            "Epoch 168/200\n",
            "44/44 [==============================] - 1s 15ms/step - loss: 0.2419 - Accuracy: 0.9167 - false_negatives: 31.0000 - false_positives: 24.0000 - true_negatives: 1020.0000 - true_positives: 317.0000 - val_loss: 1.0956 - val_Accuracy: 0.7159 - val_false_negatives: 25.0000 - val_false_positives: 24.0000 - val_true_negatives: 240.0000 - val_true_positives: 63.0000\n",
            "Epoch 169/200\n",
            "44/44 [==============================] - 1s 16ms/step - loss: 0.2840 - Accuracy: 0.8937 - false_negatives: 42.0000 - false_positives: 34.0000 - true_negatives: 1010.0000 - true_positives: 306.0000 - val_loss: 1.6288 - val_Accuracy: 0.7159 - val_false_negatives: 25.0000 - val_false_positives: 23.0000 - val_true_negatives: 241.0000 - val_true_positives: 63.0000\n",
            "Epoch 170/200\n",
            "44/44 [==============================] - 1s 16ms/step - loss: 0.2938 - Accuracy: 0.8764 - false_negatives: 49.0000 - false_positives: 36.0000 - true_negatives: 1008.0000 - true_positives: 299.0000 - val_loss: 1.1493 - val_Accuracy: 0.7045 - val_false_negatives: 26.0000 - val_false_positives: 24.0000 - val_true_negatives: 240.0000 - val_true_positives: 62.0000\n",
            "Epoch 171/200\n",
            "44/44 [==============================] - 1s 16ms/step - loss: 0.3374 - Accuracy: 0.8592 - false_negatives: 54.0000 - false_positives: 41.0000 - true_negatives: 1003.0000 - true_positives: 294.0000 - val_loss: 1.2512 - val_Accuracy: 0.7045 - val_false_negatives: 27.0000 - val_false_positives: 24.0000 - val_true_negatives: 240.0000 - val_true_positives: 61.0000\n",
            "Epoch 172/200\n",
            "44/44 [==============================] - 1s 15ms/step - loss: 0.2342 - Accuracy: 0.9195 - false_negatives: 35.0000 - false_positives: 25.0000 - true_negatives: 1019.0000 - true_positives: 313.0000 - val_loss: 1.1602 - val_Accuracy: 0.6932 - val_false_negatives: 27.0000 - val_false_positives: 24.0000 - val_true_negatives: 240.0000 - val_true_positives: 61.0000\n",
            "Epoch 173/200\n",
            "44/44 [==============================] - 1s 16ms/step - loss: 0.2692 - Accuracy: 0.9023 - false_negatives: 39.0000 - false_positives: 28.0000 - true_negatives: 1016.0000 - true_positives: 309.0000 - val_loss: 1.1562 - val_Accuracy: 0.6818 - val_false_negatives: 28.0000 - val_false_positives: 26.0000 - val_true_negatives: 238.0000 - val_true_positives: 60.0000\n",
            "Epoch 174/200\n",
            "44/44 [==============================] - 1s 16ms/step - loss: 0.2694 - Accuracy: 0.9080 - false_negatives: 42.0000 - false_positives: 27.0000 - true_negatives: 1017.0000 - true_positives: 306.0000 - val_loss: 1.1452 - val_Accuracy: 0.7159 - val_false_negatives: 26.0000 - val_false_positives: 25.0000 - val_true_negatives: 239.0000 - val_true_positives: 62.0000\n",
            "Epoch 175/200\n",
            "44/44 [==============================] - 1s 16ms/step - loss: 0.2854 - Accuracy: 0.8966 - false_negatives: 41.0000 - false_positives: 32.0000 - true_negatives: 1012.0000 - true_positives: 307.0000 - val_loss: 1.0786 - val_Accuracy: 0.7386 - val_false_negatives: 23.0000 - val_false_positives: 22.0000 - val_true_negatives: 242.0000 - val_true_positives: 65.0000\n",
            "Epoch 176/200\n",
            "44/44 [==============================] - 1s 16ms/step - loss: 0.3938 - Accuracy: 0.8649 - false_negatives: 55.0000 - false_positives: 43.0000 - true_negatives: 1001.0000 - true_positives: 293.0000 - val_loss: 0.9283 - val_Accuracy: 0.6932 - val_false_negatives: 28.0000 - val_false_positives: 22.0000 - val_true_negatives: 242.0000 - val_true_positives: 60.0000\n",
            "Epoch 177/200\n",
            "44/44 [==============================] - 1s 16ms/step - loss: 0.2420 - Accuracy: 0.9224 - false_negatives: 35.0000 - false_positives: 23.0000 - true_negatives: 1021.0000 - true_positives: 313.0000 - val_loss: 0.9828 - val_Accuracy: 0.7159 - val_false_negatives: 25.0000 - val_false_positives: 21.0000 - val_true_negatives: 243.0000 - val_true_positives: 63.0000\n",
            "Epoch 178/200\n",
            "44/44 [==============================] - 1s 16ms/step - loss: 0.2515 - Accuracy: 0.9023 - false_negatives: 40.0000 - false_positives: 31.0000 - true_negatives: 1013.0000 - true_positives: 308.0000 - val_loss: 1.2639 - val_Accuracy: 0.7727 - val_false_negatives: 21.0000 - val_false_positives: 20.0000 - val_true_negatives: 244.0000 - val_true_positives: 67.0000\n",
            "Epoch 179/200\n",
            "44/44 [==============================] - 1s 16ms/step - loss: 0.2618 - Accuracy: 0.9052 - false_negatives: 34.0000 - false_positives: 27.0000 - true_negatives: 1017.0000 - true_positives: 314.0000 - val_loss: 0.9135 - val_Accuracy: 0.7500 - val_false_negatives: 22.0000 - val_false_positives: 20.0000 - val_true_negatives: 244.0000 - val_true_positives: 66.0000\n",
            "Epoch 180/200\n",
            "44/44 [==============================] - 1s 15ms/step - loss: 0.2274 - Accuracy: 0.9138 - false_negatives: 34.0000 - false_positives: 28.0000 - true_negatives: 1016.0000 - true_positives: 314.0000 - val_loss: 1.2607 - val_Accuracy: 0.7727 - val_false_negatives: 21.0000 - val_false_positives: 17.0000 - val_true_negatives: 247.0000 - val_true_positives: 67.0000\n",
            "Epoch 181/200\n",
            "44/44 [==============================] - 1s 16ms/step - loss: 0.2632 - Accuracy: 0.9109 - false_negatives: 36.0000 - false_positives: 27.0000 - true_negatives: 1017.0000 - true_positives: 312.0000 - val_loss: 1.0508 - val_Accuracy: 0.7614 - val_false_negatives: 21.0000 - val_false_positives: 19.0000 - val_true_negatives: 245.0000 - val_true_positives: 67.0000\n",
            "Epoch 182/200\n",
            "44/44 [==============================] - 1s 16ms/step - loss: 0.3187 - Accuracy: 0.8793 - false_negatives: 46.0000 - false_positives: 40.0000 - true_negatives: 1004.0000 - true_positives: 302.0000 - val_loss: 1.0980 - val_Accuracy: 0.7500 - val_false_negatives: 23.0000 - val_false_positives: 20.0000 - val_true_negatives: 244.0000 - val_true_positives: 65.0000\n",
            "Epoch 183/200\n",
            "44/44 [==============================] - 1s 16ms/step - loss: 0.3134 - Accuracy: 0.8966 - false_negatives: 39.0000 - false_positives: 35.0000 - true_negatives: 1009.0000 - true_positives: 309.0000 - val_loss: 0.9761 - val_Accuracy: 0.7841 - val_false_negatives: 21.0000 - val_false_positives: 19.0000 - val_true_negatives: 245.0000 - val_true_positives: 67.0000\n",
            "Epoch 184/200\n",
            "44/44 [==============================] - 1s 16ms/step - loss: 0.3192 - Accuracy: 0.8764 - false_negatives: 49.0000 - false_positives: 40.0000 - true_negatives: 1004.0000 - true_positives: 299.0000 - val_loss: 0.9331 - val_Accuracy: 0.7727 - val_false_negatives: 20.0000 - val_false_positives: 19.0000 - val_true_negatives: 245.0000 - val_true_positives: 68.0000\n",
            "Epoch 185/200\n",
            "44/44 [==============================] - 1s 16ms/step - loss: 0.2623 - Accuracy: 0.8994 - false_negatives: 42.0000 - false_positives: 29.0000 - true_negatives: 1015.0000 - true_positives: 306.0000 - val_loss: 1.5096 - val_Accuracy: 0.7273 - val_false_negatives: 27.0000 - val_false_positives: 22.0000 - val_true_negatives: 242.0000 - val_true_positives: 61.0000\n",
            "Epoch 186/200\n",
            "44/44 [==============================] - 1s 16ms/step - loss: 0.2844 - Accuracy: 0.8966 - false_negatives: 40.0000 - false_positives: 34.0000 - true_negatives: 1010.0000 - true_positives: 308.0000 - val_loss: 1.0297 - val_Accuracy: 0.7386 - val_false_negatives: 24.0000 - val_false_positives: 18.0000 - val_true_negatives: 246.0000 - val_true_positives: 64.0000\n",
            "Epoch 187/200\n",
            "44/44 [==============================] - 1s 16ms/step - loss: 0.2847 - Accuracy: 0.8851 - false_negatives: 41.0000 - false_positives: 34.0000 - true_negatives: 1010.0000 - true_positives: 307.0000 - val_loss: 0.9928 - val_Accuracy: 0.7614 - val_false_negatives: 23.0000 - val_false_positives: 19.0000 - val_true_negatives: 245.0000 - val_true_positives: 65.0000\n",
            "Epoch 188/200\n",
            "44/44 [==============================] - 1s 16ms/step - loss: 0.2030 - Accuracy: 0.9310 - false_negatives: 28.0000 - false_positives: 19.0000 - true_negatives: 1025.0000 - true_positives: 320.0000 - val_loss: 0.9541 - val_Accuracy: 0.7614 - val_false_negatives: 22.0000 - val_false_positives: 20.0000 - val_true_negatives: 244.0000 - val_true_positives: 66.0000\n",
            "Epoch 189/200\n",
            "44/44 [==============================] - 1s 16ms/step - loss: 0.2521 - Accuracy: 0.9052 - false_negatives: 36.0000 - false_positives: 32.0000 - true_negatives: 1012.0000 - true_positives: 312.0000 - val_loss: 1.2613 - val_Accuracy: 0.7955 - val_false_negatives: 19.0000 - val_false_positives: 18.0000 - val_true_negatives: 246.0000 - val_true_positives: 69.0000\n",
            "Epoch 190/200\n",
            "44/44 [==============================] - 1s 16ms/step - loss: 0.2459 - Accuracy: 0.9109 - false_negatives: 35.0000 - false_positives: 29.0000 - true_negatives: 1015.0000 - true_positives: 313.0000 - val_loss: 0.9866 - val_Accuracy: 0.7614 - val_false_negatives: 21.0000 - val_false_positives: 19.0000 - val_true_negatives: 245.0000 - val_true_positives: 67.0000\n",
            "Epoch 191/200\n",
            "44/44 [==============================] - 1s 16ms/step - loss: 0.2576 - Accuracy: 0.8937 - false_negatives: 41.0000 - false_positives: 28.0000 - true_negatives: 1016.0000 - true_positives: 307.0000 - val_loss: 0.9854 - val_Accuracy: 0.7500 - val_false_negatives: 24.0000 - val_false_positives: 17.0000 - val_true_negatives: 247.0000 - val_true_positives: 64.0000\n",
            "Epoch 192/200\n",
            "44/44 [==============================] - 1s 16ms/step - loss: 0.2726 - Accuracy: 0.9080 - false_negatives: 36.0000 - false_positives: 28.0000 - true_negatives: 1016.0000 - true_positives: 312.0000 - val_loss: 1.2712 - val_Accuracy: 0.7841 - val_false_negatives: 20.0000 - val_false_positives: 19.0000 - val_true_negatives: 245.0000 - val_true_positives: 68.0000\n",
            "Epoch 193/200\n",
            "44/44 [==============================] - 1s 16ms/step - loss: 0.2358 - Accuracy: 0.9080 - false_negatives: 38.0000 - false_positives: 27.0000 - true_negatives: 1017.0000 - true_positives: 310.0000 - val_loss: 0.7188 - val_Accuracy: 0.8068 - val_false_negatives: 19.0000 - val_false_positives: 13.0000 - val_true_negatives: 251.0000 - val_true_positives: 69.0000\n",
            "Epoch 194/200\n",
            "44/44 [==============================] - 1s 16ms/step - loss: 0.1914 - Accuracy: 0.9339 - false_negatives: 27.0000 - false_positives: 21.0000 - true_negatives: 1023.0000 - true_positives: 321.0000 - val_loss: 0.9793 - val_Accuracy: 0.7727 - val_false_negatives: 20.0000 - val_false_positives: 19.0000 - val_true_negatives: 245.0000 - val_true_positives: 68.0000\n",
            "Epoch 195/200\n",
            "44/44 [==============================] - 1s 15ms/step - loss: 0.2310 - Accuracy: 0.9195 - false_negatives: 33.0000 - false_positives: 25.0000 - true_negatives: 1019.0000 - true_positives: 315.0000 - val_loss: 1.3399 - val_Accuracy: 0.7614 - val_false_negatives: 21.0000 - val_false_positives: 18.0000 - val_true_negatives: 246.0000 - val_true_positives: 67.0000\n",
            "Epoch 196/200\n",
            "44/44 [==============================] - 1s 16ms/step - loss: 0.2183 - Accuracy: 0.9167 - false_negatives: 35.0000 - false_positives: 28.0000 - true_negatives: 1016.0000 - true_positives: 313.0000 - val_loss: 1.1959 - val_Accuracy: 0.8068 - val_false_negatives: 18.0000 - val_false_positives: 16.0000 - val_true_negatives: 248.0000 - val_true_positives: 70.0000\n",
            "Epoch 197/200\n",
            "44/44 [==============================] - 1s 16ms/step - loss: 0.2124 - Accuracy: 0.9290 - false_negatives: 30.0000 - false_positives: 23.0000 - true_negatives: 1033.0000 - true_positives: 322.0000 - val_loss: 1.0776 - val_Accuracy: 0.7386 - val_false_negatives: 24.0000 - val_false_positives: 21.0000 - val_true_negatives: 243.0000 - val_true_positives: 64.0000\n",
            "Epoch 198/200\n",
            "44/44 [==============================] - 1s 16ms/step - loss: 0.2175 - Accuracy: 0.9397 - false_negatives: 24.0000 - false_positives: 21.0000 - true_negatives: 1023.0000 - true_positives: 324.0000 - val_loss: 1.0326 - val_Accuracy: 0.7500 - val_false_negatives: 23.0000 - val_false_positives: 21.0000 - val_true_negatives: 243.0000 - val_true_positives: 65.0000\n",
            "Epoch 199/200\n",
            "44/44 [==============================] - 1s 16ms/step - loss: 0.1872 - Accuracy: 0.9253 - false_negatives: 29.0000 - false_positives: 22.0000 - true_negatives: 1022.0000 - true_positives: 319.0000 - val_loss: 0.9587 - val_Accuracy: 0.7273 - val_false_negatives: 24.0000 - val_false_positives: 20.0000 - val_true_negatives: 244.0000 - val_true_positives: 64.0000\n",
            "Epoch 200/200\n",
            "44/44 [==============================] - 1s 16ms/step - loss: 0.2477 - Accuracy: 0.9023 - false_negatives: 37.0000 - false_positives: 27.0000 - true_negatives: 1017.0000 - true_positives: 311.0000 - val_loss: 1.1048 - val_Accuracy: 0.7386 - val_false_negatives: 24.0000 - val_false_positives: 22.0000 - val_true_negatives: 242.0000 - val_true_positives: 64.0000\n"
          ]
        }
      ]
    },
    {
      "cell_type": "markdown",
      "source": [
        "Plotting Traning Result"
      ],
      "metadata": {
        "id": "XZSFG8fXqz7c"
      }
    },
    {
      "cell_type": "code",
      "source": [
        "  #plotting\n",
        "  epochs = range(1, len(history.history['loss'])+1)\n",
        "  plt.title(f\"Grafik loss training iterasi {iterasi}\")\n",
        "  plt.plot(epochs, history.history['loss'], 'r', label='Training Loss')\n",
        "  plt.plot(epochs, history.history['val_loss'], 'b', label='Validation Loss')    \n",
        "  plt.xlabel(\"Epoch\")\n",
        "  plt.ylabel(\"Loss\")\n",
        "  plt.legend()\n",
        "  plt.show()\n"
      ],
      "metadata": {
        "id": "3dXbDrJpY1NK",
        "colab": {
          "base_uri": "https://localhost:8080/",
          "height": 295
        },
        "outputId": "73630099-27a7-4a9d-86eb-46790df6acb2"
      },
      "execution_count": 12,
      "outputs": [
        {
          "output_type": "display_data",
          "data": {
            "text/plain": [
              "<Figure size 432x288 with 1 Axes>"
            ],
            "image/png": "[encoded data removed]"
          },
          "metadata": {
            "needs_background": "light"
          }
        }
      ]
    },
    {
      "cell_type": "code",
      "source": [
        "  #plotting\n",
        "  epochs = range(1, len(history.history['loss'])+1)\n",
        "  plt.title(f\"Grafik Akurasi training iterasi {iterasi}\")\n",
        "  plt.plot(epochs, history.history['Accuracy'], 'r', label='Training Accuracy')\n",
        "  plt.plot(epochs, history.history['val_Accuracy'], 'b', label='Validation Accuracy')    \n",
        "  plt.xlabel(\"Epoch\")\n",
        "  plt.ylabel(\"Accuracy\")\n",
        "  plt.legend()\n",
        "  plt.show()"
      ],
      "metadata": {
        "id": "j3xigprPwlSX",
        "colab": {
          "base_uri": "https://localhost:8080/",
          "height": 295
        },
        "outputId": "278cd241-7eb0-40c2-f72e-e060ef71b0e9"
      },
      "execution_count": 13,
      "outputs": [
        {
          "output_type": "display_data",
          "data": {
            "text/plain": [
              "<Figure size 432x288 with 1 Axes>"
            ],
            "image/png": "[encoded data removed]"
          },
          "metadata": {
            "needs_background": "light"
          }
        }
      ]
    },
    {
      "cell_type": "code",
      "source": [
        "import matplotlib.pyplot as plt\n",
        "from sklearn.datasets import make_classification\n",
        "from numpy import mean\n",
        "from sklearn.metrics import confusion_matrix, ConfusionMatrixDisplay, accuracy_score, classification_report, recall_score\n",
        "\n",
        "validation = model.predict(np_image_list_validation)\n",
        "\n",
        "predicted_labels = []\n",
        "correct_labels = []\n",
        "for i in range (len(validation)):\n",
        "  predicted_labels.append(np.argmax(validation[i]))\n",
        "\n",
        "for i in range (len(image_labels_validation)):\n",
        "  correct_labels.append(np.argmax(image_labels_validation[i]))\n",
        "\n",
        "\n",
        "confusion_matrix = confusion_matrix(correct_labels, predicted_labels)\n",
        "disp = ConfusionMatrixDisplay(confusion_matrix=confusion_matrix)  \n",
        "disp.plot()\n",
        "plt.show()\n",
        "print('--------')\n",
        "FP = confusion_matrix.sum(axis=0) - np.diag(confusion_matrix)  \n",
        "FN = confusion_matrix.sum(axis=1) - np.diag(confusion_matrix)\n",
        "TP = np.diag(confusion_matrix)\n",
        "TN = confusion_matrix.sum() - (FP + FN + TP)\n",
        "\n",
        "# Sensitivity, hit rate, recall, or true positive rate\n",
        "TPR = TP/(TP+FN)\n",
        "# Specificity or true negative rate\n",
        "TNR = TN/(TN+FP) \n",
        "# Overall accuracy\n",
        "ACC = (TP+TN)/(TP+FP+FN+TN)\n",
        "\n",
        "print(TP)\n",
        "print(TN)\n",
        "print(FP)\n",
        "print(FN)\n",
        "print('--------')\n",
        "print(ACC)\n",
        "print(TPR)\n",
        "print(TNR)\n",
        "print('--------')\n",
        "\n",
        "TP = sum(TP)\n",
        "TN = sum(TN)\n",
        "FP = sum(FP)\n",
        "FN = sum(FN)\n",
        "\n",
        "# Sensitivity, hit rate, recall, or true positive rate\n",
        "TPR = TP/(TP+FN)\n",
        "# Specificity or true negative rate\n",
        "TNR = TN/(TN+FP) \n",
        "# Overall accuracy\n",
        "ACC = (TP+TN)/(TP+FP+FN+TN)\n",
        "\n",
        "print(TP)\n",
        "print(TN)\n",
        "print(FP)\n",
        "print(FN)\n",
        "print('--------')\n",
        "print(ACC)\n",
        "print(TPR)\n",
        "print(TNR)"
      ],
      "metadata": {
        "colab": {
          "base_uri": "https://localhost:8080/",
          "height": 591
        },
        "id": "y0RigLm76Rpg",
        "outputId": "894b4856-0678-442a-96fd-576ec9beb47e"
      },
      "execution_count": 14,
      "outputs": [
        {
          "output_type": "display_data",
          "data": {
            "text/plain": [
              "<Figure size 432x288 with 2 Axes>"
            ],
            "image/png": "[encoded data removed]"
          },
          "metadata": {
            "needs_background": "light"
          }
        },
        {
          "output_type": "stream",
          "name": "stdout",
          "text": [
            "--------\n",
            "[ 6  6 16 37]\n",
            "[73 70 60 38]\n",
            "[ 5  5  3 10]\n",
            "[4 7 9 3]\n",
            "--------\n",
            "[0.89772727 0.86363636 0.86363636 0.85227273]\n",
            "[0.6        0.46153846 0.64       0.925     ]\n",
            "[0.93589744 0.93333333 0.95238095 0.79166667]\n",
            "--------\n",
            "65\n",
            "241\n",
            "23\n",
            "23\n",
            "--------\n",
            "0.8693181818181818\n",
            "0.7386363636363636\n",
            "0.9128787878787878\n"
          ]
        }
      ]
    },
    {
      "cell_type": "code",
      "source": [
        "import matplotlib.pyplot as plt\n",
        "from sklearn.datasets import make_classification\n",
        "from numpy import mean\n",
        "from sklearn.metrics import confusion_matrix, ConfusionMatrixDisplay, accuracy_score, classification_report, recall_score\n",
        "\n",
        "test = model.predict(np_image_list_test)\n",
        "\n",
        "predicted_labels = []\n",
        "correct_labels = []\n",
        "for i in range (len(test)):\n",
        "  predicted_labels.append(np.argmax(test[i]))\n",
        "\n",
        "for i in range (len(image_labels_test)):\n",
        "  correct_labels.append(np.argmax(image_labels_test[i]))\n",
        "\n",
        "\n",
        "confusion_matrix = confusion_matrix(correct_labels, predicted_labels)\n",
        "disp = ConfusionMatrixDisplay(confusion_matrix=confusion_matrix)  \n",
        "disp.plot()\n",
        "plt.show()\n",
        "print('--------')\n",
        "FP = confusion_matrix.sum(axis=0) - np.diag(confusion_matrix)  \n",
        "FN = confusion_matrix.sum(axis=1) - np.diag(confusion_matrix)\n",
        "TP = np.diag(confusion_matrix)\n",
        "TN = confusion_matrix.sum() - (FP + FN + TP)\n",
        "\n",
        "# Sensitivity, hit rate, recall, or true positive rate\n",
        "TPR = TP/(TP+FN)\n",
        "# Specificity or true negative rate\n",
        "TNR = TN/(TN+FP) \n",
        "# Overall accuracy\n",
        "ACC = (TP+TN)/(TP+FP+FN+TN)\n",
        "\n",
        "print(TP)\n",
        "print(TN)\n",
        "print(FP)\n",
        "print(FN)\n",
        "print('--------')\n",
        "print(ACC)\n",
        "print(TPR)\n",
        "print(TNR)\n",
        "print('--------')\n",
        "\n",
        "TP = sum(TP)\n",
        "TN = sum(TN)\n",
        "FP = sum(FP)\n",
        "FN = sum(FN)\n",
        "\n",
        "# Sensitivity, hit rate, recall, or true positive rate\n",
        "TPR = TP/(TP+FN)\n",
        "# Specificity or true negative rate\n",
        "TNR = TN/(TN+FP) \n",
        "# Overall accuracy\n",
        "ACC = (TP+TN)/(TP+FP+FN+TN)\n",
        "\n",
        "print(TP)\n",
        "print(TN)\n",
        "print(FP)\n",
        "print(FN)\n",
        "print('--------')\n",
        "print(ACC)\n",
        "print(TPR)\n",
        "print(TNR)"
      ],
      "metadata": {
        "colab": {
          "base_uri": "https://localhost:8080/",
          "height": 591
        },
        "id": "xufCN02P5v4A",
        "outputId": "cb90d470-e984-4f18-9c58-f5c9ea70b165"
      },
      "execution_count": 15,
      "outputs": [
        {
          "output_type": "display_data",
          "data": {
            "text/plain": [
              "<Figure size 432x288 with 2 Axes>"
            ],
            "image/png": "[encoded data removed]"
          },
          "metadata": {
            "needs_background": "light"
          }
        },
        {
          "output_type": "stream",
          "name": "stdout",
          "text": [
            "--------\n",
            "[ 3  7  6 39]\n",
            "[88 82 65 40]\n",
            "[10 12 13 20]\n",
            "[ 9  9 26 11]\n",
            "--------\n",
            "[0.82727273 0.80909091 0.64545455 0.71818182]\n",
            "[0.25   0.4375 0.1875 0.78  ]\n",
            "[0.89795918 0.87234043 0.83333333 0.66666667]\n",
            "--------\n",
            "55\n",
            "275\n",
            "55\n",
            "55\n",
            "--------\n",
            "0.75\n",
            "0.5\n",
            "0.8333333333333334\n"
          ]
        }
      ]
    },
    {
      "cell_type": "markdown",
      "metadata": {
        "id": "bTgk1-sdzmgy"
      },
      "source": [
        "**Validating** Network"
      ]
    },
    {
      "cell_type": "code",
      "source": [
        "\n"
      ],
      "metadata": {
        "id": "d_NBE4KkWuhu"
      },
      "execution_count": 15,
      "outputs": []
    },
    {
      "cell_type": "markdown",
      "source": [
        "**Testing** Network"
      ],
      "metadata": {
        "id": "saJYjKqX9tRL"
      }
    },
    {
      "cell_type": "code",
      "source": [
        "\n"
      ],
      "metadata": {
        "id": "A7DR52hmTc75"
      },
      "execution_count": 15,
      "outputs": []
    },
    {
      "cell_type": "code",
      "source": [
        "#test_img = cv2.imread('/content/Datasets/fold5/Test/apel_sehat/apel_sehat (1).jpg')\n",
        "\n",
        "#plt.imshow(test_img)\n",
        "#test_img = test_img / 255\n",
        "#test_img = np.expand_dims(test_img, axis=0)\n",
        "#pr=model.predict(test_img)\n",
        "\n",
        "#print(pr)\n",
        "#output = label_binarizer.inverse_transform(pr)\n",
        "#print(output)"
      ],
      "metadata": {
        "id": "zkMI6CwJArvo"
      },
      "execution_count": 16,
      "outputs": []
    },
    {
      "cell_type": "code",
      "source": [
        "# save the model to disk\n",
        "#print(\"[INFO] Saving model...\")\n",
        "#pickle.dump(model,open('cnn_model.pkl', 'wb'))\n",
        "#model.save('/content/fold1.h5')"
      ],
      "metadata": {
        "id": "Wr_b8qBuCAIS"
      },
      "execution_count": 17,
      "outputs": []
    }
  ]
}