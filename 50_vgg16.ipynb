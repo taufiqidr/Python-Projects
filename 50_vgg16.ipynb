{
  "nbformat": 4,
  "nbformat_minor": 0,
  "metadata": {
    "accelerator": "GPU",
    "colab": {
      "name": "Kodingan Skripsi 5 (VGG16)",
      "provenance": [],
      "collapsed_sections": [],
      "include_colab_link": true
    },
    "kernelspec": {
      "display_name": "Python 3",
      "language": "python",
      "name": "python3"
    },
    "language_info": {
      "codemirror_mode": {
        "name": "ipython",
        "version": 3
      },
      "file_extension": ".py",
      "mimetype": "text/x-python",
      "name": "python",
      "nbconvert_exporter": "python",
      "pygments_lexer": "ipython3",
      "version": "3.6.6"
    }
  },
  "cells": [
    {
      "cell_type": "markdown",
      "metadata": {
        "id": "view-in-github",
        "colab_type": "text"
      },
      "source": [
        "<a href=\"https://colab.research.google.com/github/TaufiqIdrus/Python-Projects/blob/master/50_vgg16.ipynb\" target=\"_parent\"><img src=\"https://colab.research.google.com/assets/colab-badge.svg\" alt=\"Open In Colab\"/></a>"
      ]
    },
    {
      "cell_type": "markdown",
      "metadata": {
        "id": "yJT_kQA2lITS"
      },
      "source": [
        "**Identifikasi Penyakit Pada Tanaman Apel menggunakan Convolutional Neural Network**"
      ]
    },
    {
      "cell_type": "code",
      "metadata": {
        "id": "xXeOaYTUzmgT"
      },
      "source": [
        "import numpy as np\n",
        "import pickle\n",
        "import os\n",
        "import cv2\n",
        "import tensorflow as tf\n",
        "import keras\n",
        "from os import listdir\n",
        "from sklearn.preprocessing import LabelBinarizer\n",
        "from sklearn.model_selection import KFold\n",
        "from keras.models import Sequential\n",
        "from keras.layers.normalization import batch_normalization\n",
        "from keras.layers.convolutional import Conv2D\n",
        "from keras.layers.convolutional import MaxPooling2D\n",
        "from keras.layers.core import Activation, Flatten, Dropout, Dense\n",
        "from keras import backend as K\n",
        "from tensorflow.keras.optimizers import Adam\n",
        "from keras.preprocessing import image\n",
        "from sklearn.preprocessing import MultiLabelBinarizer\n",
        "from sklearn.model_selection import train_test_split\n",
        "import matplotlib.pyplot as plt\n",
        "from sklearn.datasets import make_classification\n",
        "from numpy import mean\n",
        "from sklearn.metrics import confusion_matrix, ConfusionMatrixDisplay, accuracy_score, classification_report, recall_score\n"
      ],
      "execution_count": 1,
      "outputs": []
    },
    {
      "cell_type": "markdown",
      "metadata": {
        "id": "fp8C0d28lQok"
      },
      "source": [
        "Importing and Preparing Dataset"
      ]
    },
    {
      "cell_type": "code",
      "metadata": {
        "id": "_0xehllADlUs",
        "colab": {
          "base_uri": "https://localhost:8080/"
        },
        "outputId": "f132059d-5c25-4c21-bba9-89dda982f5af"
      },
      "source": [
        "!pip install pyunpack\n",
        "!pip install patool\n",
        "from pyunpack import Archive\n",
        "Archive('/content/fold1.rar').extractall('/content/Datasets/')\n",
        "iterasi = 1\n",
        "width=60\n",
        "height=60\n",
        "default_image_size = tuple((height, width))\n",
        "directory_root_train = '/content/Datasets/fold1/Train'\n",
        "directory_root_validation = '/content/Datasets/fold1/Validation'\n",
        "directory_root_test = '/content/Datasets/fold1/Test'\n",
        "image_size = 0\n",
        "depth=3"
      ],
      "execution_count": 2,
      "outputs": [
        {
          "output_type": "stream",
          "name": "stdout",
          "text": [
            "Looking in indexes: https://pypi.org/simple, https://us-python.pkg.dev/colab-wheels/public/simple/\n",
            "Collecting pyunpack\n",
            "  Downloading pyunpack-0.3-py2.py3-none-any.whl (4.1 kB)\n",
            "Collecting entrypoint2\n",
            "  Downloading entrypoint2-1.1-py2.py3-none-any.whl (9.9 kB)\n",
            "Collecting easyprocess\n",
            "  Downloading EasyProcess-1.1-py3-none-any.whl (8.7 kB)\n",
            "Installing collected packages: entrypoint2, easyprocess, pyunpack\n",
            "Successfully installed easyprocess-1.1 entrypoint2-1.1 pyunpack-0.3\n",
            "Looking in indexes: https://pypi.org/simple, https://us-python.pkg.dev/colab-wheels/public/simple/\n",
            "Collecting patool\n",
            "  Downloading patool-1.12-py2.py3-none-any.whl (77 kB)\n",
            "\u001b[K     |████████████████████████████████| 77 kB 3.7 MB/s \n",
            "\u001b[?25hInstalling collected packages: patool\n",
            "Successfully installed patool-1.12\n"
          ]
        }
      ]
    },
    {
      "cell_type": "code",
      "metadata": {
        "id": "KbAwJJTpzmge"
      },
      "source": [
        "def convert_image_to_array(image_dir):\n",
        "    try:\n",
        "        image = cv2.imread(image_dir)\n",
        "        if image is not None :\n",
        "            image = cv2.resize(image, default_image_size)   \n",
        "            return keras.preprocessing.image.img_to_array(image)\n",
        "        else :\n",
        "            return np.array([])\n",
        "    except Exception as e:\n",
        "        print(f\"Error : {e}\")\n",
        "        return None"
      ],
      "execution_count": 3,
      "outputs": []
    },
    {
      "cell_type": "markdown",
      "source": [
        "Converting **Training** Data to Array"
      ],
      "metadata": {
        "id": "bgXxUMO2cI_D"
      }
    },
    {
      "cell_type": "code",
      "metadata": {
        "id": "Erz6IjKXzmgg",
        "colab": {
          "base_uri": "https://localhost:8080/"
        },
        "outputId": "ae83cb62-cb16-40f3-c01c-0e446f9304f2"
      },
      "source": [
        "import numpy as np\n",
        "from os import listdir\n",
        "from sklearn.preprocessing import LabelBinarizer\n",
        "import pickle\n",
        "image_list_train, label_list_train = [], []\n",
        "try:\n",
        "    print(\"[INFO] Loading images ...\")\n",
        "    root_dir = listdir(directory_root_train)\n",
        "\n",
        "    for plant_disease_folder in root_dir:\n",
        "        print(f\"[INFO] Processing {plant_disease_folder} ...\")\n",
        "        plant_disease_image_list = listdir(f\"{directory_root_train}/{plant_disease_folder}/\")\n",
        "      \n",
        "        for image in plant_disease_image_list:\n",
        "            image_directory = f\"{directory_root_train}/{plant_disease_folder}/{image}\"\n",
        "\n",
        "            if image_directory.endswith(\".jpg\") == True or image_directory.endswith(\".JPG\") == True:\n",
        "                image_list_train.append(convert_image_to_array(image_directory))\n",
        "                label_list_train.append(plant_disease_folder)\n",
        "    print(\"[INFO] Image loading completed\")\n",
        "\n",
        "except Exception as e:\n",
        "    print(f\"Error : {e}\")\n",
        "\n",
        "#image labeling\n",
        "image_size = len(image_list_train)\n",
        "label_binarizer = LabelBinarizer()\n",
        "image_labels_train = label_binarizer.fit_transform(label_list_train)\n",
        "pickle.dump(label_binarizer,open('label_transform_train.pkl', 'wb'))\n",
        "n_classes = len(label_binarizer.classes_)\n",
        "np_image_list_train = np.array(image_list_train, dtype=np.float16) / 255.0"
      ],
      "execution_count": 4,
      "outputs": [
        {
          "output_type": "stream",
          "name": "stdout",
          "text": [
            "[INFO] Loading images ...\n",
            "[INFO] Processing apel_sehat ...\n",
            "[INFO] Processing apel_bercak_daun ...\n",
            "[INFO] Processing apel_cacar_daun ...\n",
            "[INFO] Processing apel_busuk_buah ...\n",
            "[INFO] Image loading completed\n"
          ]
        }
      ]
    },
    {
      "cell_type": "markdown",
      "source": [
        "Converting **Validation** Data to Array"
      ],
      "metadata": {
        "id": "7eEMGiqRd_E4"
      }
    },
    {
      "cell_type": "code",
      "source": [
        "image_list_validation, label_list_validation = [], []\n",
        "try:\n",
        "    print(\"[INFO] Loading images ...\")\n",
        "    root_dir = listdir(directory_root_validation)\n",
        "\n",
        "    for plant_disease_folder in root_dir:\n",
        "        print(f\"[INFO] Processing {plant_disease_folder} ...\")\n",
        "        plant_disease_image_list = listdir(f\"{directory_root_validation}/{plant_disease_folder}/\")\n",
        "      \n",
        "        for image in plant_disease_image_list:\n",
        "            image_directory = f\"{directory_root_validation}/{plant_disease_folder}/{image}\"\n",
        "\n",
        "            if image_directory.endswith(\".jpg\") == True or image_directory.endswith(\".JPG\") == True:\n",
        "                image_list_validation.append(convert_image_to_array(image_directory))\n",
        "                label_list_validation.append(plant_disease_folder)\n",
        "    print(\"[INFO] Image loading completed\")\n",
        "\n",
        "except Exception as e:\n",
        "    print(f\"Error : {e}\")\n",
        "\n",
        "#image labeling\n",
        "image_size = len(image_list_validation)\n",
        "label_binarizer = LabelBinarizer()\n",
        "image_labels_validation = label_binarizer.fit_transform(label_list_validation)\n",
        "pickle.dump(label_binarizer,open('label_transform_validation.pkl', 'wb'))\n",
        "n_classes = len(label_binarizer.classes_)\n",
        "np_image_list_validation = np.array(image_list_validation, dtype=np.float16) / 255.0"
      ],
      "metadata": {
        "id": "wfHDdR0ZeEuU",
        "colab": {
          "base_uri": "https://localhost:8080/"
        },
        "outputId": "ea057f9d-4f97-4649-d218-fbdd8bbb4fe2"
      },
      "execution_count": 5,
      "outputs": [
        {
          "output_type": "stream",
          "name": "stdout",
          "text": [
            "[INFO] Loading images ...\n",
            "[INFO] Processing apel_sehat ...\n",
            "[INFO] Processing apel_bercak_daun ...\n",
            "[INFO] Processing apel_cacar_daun ...\n",
            "[INFO] Processing apel_busuk_buah ...\n",
            "[INFO] Image loading completed\n"
          ]
        }
      ]
    },
    {
      "cell_type": "markdown",
      "source": [
        "Converting **Testing** Data to Array"
      ],
      "metadata": {
        "id": "brwWyZVncTdg"
      }
    },
    {
      "cell_type": "code",
      "metadata": {
        "id": "uNPby5UMcaWY",
        "colab": {
          "base_uri": "https://localhost:8080/"
        },
        "outputId": "b8a4216a-ce14-44f5-c188-611c307e44cd"
      },
      "source": [
        "image_list_test, label_list_test = [], []\n",
        "try:\n",
        "    print(\"[INFO] Loading images ...\")\n",
        "    root_dir = listdir(directory_root_test)\n",
        "\n",
        "    for plant_disease_folder in root_dir:\n",
        "        print(f\"[INFO] Processing {plant_disease_folder} ...\")\n",
        "        plant_disease_image_list = listdir(f\"{directory_root_test}/{plant_disease_folder}/\")\n",
        "      \n",
        "        for image in plant_disease_image_list:\n",
        "            image_directory = f\"{directory_root_test}/{plant_disease_folder}/{image}\"\n",
        "\n",
        "            if image_directory.endswith(\".jpg\") == True or image_directory.endswith(\".JPG\") == True:\n",
        "                image_list_test.append(convert_image_to_array(image_directory))\n",
        "                label_list_test.append(plant_disease_folder)\n",
        "    print(\"[INFO] Image loading completed\")\n",
        "\n",
        "except Exception as e:\n",
        "    print(f\"Error : {e}\")\n",
        "\n",
        "#image labeling\n",
        "image_size = len(image_list_test)\n",
        "label_binarizer = LabelBinarizer()\n",
        "image_labels_test = label_binarizer.fit_transform(label_list_test)\n",
        "pickle.dump(label_binarizer,open('label_transform_test.pkl', 'wb'))\n",
        "n_classes = len(label_binarizer.classes_)\n",
        "np_image_list_test = np.array(image_list_test, dtype=np.float16) / 255.0"
      ],
      "execution_count": 6,
      "outputs": [
        {
          "output_type": "stream",
          "name": "stdout",
          "text": [
            "[INFO] Loading images ...\n",
            "[INFO] Processing apel_sehat ...\n",
            "[INFO] Processing apel_bercak_daun ...\n",
            "[INFO] Processing apel_cacar_daun ...\n",
            "[INFO] Processing apel_busuk_buah ...\n",
            "[INFO] Image loading completed\n"
          ]
        }
      ]
    },
    {
      "cell_type": "markdown",
      "metadata": {
        "id": "jYBTFN0CnAi7"
      },
      "source": [
        "Data Augmenting Initialization"
      ]
    },
    {
      "cell_type": "code",
      "metadata": {
        "id": "TLMxMK2Tzmgr"
      },
      "source": [
        "aug = keras.preprocessing.image.ImageDataGenerator(\n",
        "    rotation_range=25, \n",
        "    width_shift_range=0.1,\n",
        "    height_shift_range=0.1, \n",
        "    shear_range=0.2, \n",
        "    zoom_range=0.2,\n",
        "    horizontal_flip=True, \n",
        "    fill_mode=\"nearest\")"
      ],
      "execution_count": 7,
      "outputs": []
    },
    {
      "cell_type": "markdown",
      "metadata": {
        "id": "H1BfRyYNnGv_"
      },
      "source": [
        "Creating CNN Model"
      ]
    },
    {
      "cell_type": "code",
      "source": [
        "from tensorflow.keras.layers import Input, Conv2D \n",
        "from tensorflow.keras.layers import MaxPool2D, Flatten, Dense, AveragePooling2D\n",
        "from tensorflow.keras import Model\n",
        "# input\n",
        "\n",
        "input = Input(shape =(60,60,3))\n",
        "# 1st Conv Block\n",
        "\n",
        "x = Conv2D (filters =64, kernel_size =3, padding ='same', activation='relu')(input)\n",
        "x = Conv2D (filters =64, kernel_size =3, padding ='same', activation='relu')(x)\n",
        "x = AveragePooling2D(pool_size =2, strides =2, padding ='same')(x)\n",
        "# 2nd Conv Block\n",
        "\n",
        "x = Conv2D (filters =128, kernel_size =3, padding ='same', activation='relu')(x)\n",
        "x = Conv2D (filters =128, kernel_size =3, padding ='same', activation='relu')(x)\n",
        "x = MaxPool2D(pool_size =2, strides =2, padding ='same')(x)\n",
        "# 3rd Conv block\n",
        "\n",
        "x = Conv2D (filters =256, kernel_size =3, padding ='same', activation='relu')(x)\n",
        "x = Conv2D (filters =256, kernel_size =3, padding ='same', activation='relu')(x)\n",
        "x = Conv2D (filters =256, kernel_size =3, padding ='same', activation='relu')(x)\n",
        "x = MaxPool2D(pool_size =2, strides =2, padding ='same')(x)\n",
        "# 4th Conv block\n",
        "\n",
        "x = Conv2D (filters =512, kernel_size =3, padding ='same', activation='relu')(x)\n",
        "x = Conv2D (filters =512, kernel_size =3, padding ='same', activation='relu')(x)\n",
        "x = Conv2D (filters =512, kernel_size =3, padding ='same', activation='relu')(x)\n",
        "x = MaxPool2D(pool_size =2, strides =2, padding ='same')(x)\n",
        "\n",
        "# 5th Conv block\n",
        "\n",
        "x = Conv2D (filters =512, kernel_size =3, padding ='same', activation='relu')(x)\n",
        "x = Conv2D (filters =512, kernel_size =3, padding ='same', activation='relu')(x)\n",
        "x = Conv2D (filters =512, kernel_size =3, padding ='same', activation='relu')(x)\n",
        "x = MaxPool2D(pool_size =2, strides =2, padding ='same')(x)\n",
        "# Fully connected layers\n",
        "\n",
        "x = Flatten()(x)\n",
        "x = Dense(units = 1024, activation ='relu')(x)\n",
        "output = Dense(units = 4, activation ='softmax')(x)\n",
        "# creating the model\n",
        "\n",
        "model = Model (inputs=input, outputs =output)"
      ],
      "metadata": {
        "id": "n3ba8ezfA9sp"
      },
      "execution_count": 8,
      "outputs": []
    },
    {
      "cell_type": "markdown",
      "metadata": {
        "id": "Zfsu3lVfnXFG"
      },
      "source": [
        "**Training** Network"
      ]
    },
    {
      "cell_type": "code",
      "source": [
        "history = None"
      ],
      "metadata": {
        "id": "_Q14CGsDVk8H"
      },
      "execution_count": 9,
      "outputs": []
    },
    {
      "cell_type": "code",
      "metadata": {
        "id": "rvwKwe3Lzmgv",
        "colab": {
          "base_uri": "https://localhost:8080/"
        },
        "outputId": "84b2a135-b9cb-41f3-b20c-959e10dc8f22"
      },
      "source": [
        "EPOCHS = 200\n",
        "INIT_LR = 1e-4\n",
        "BS = 8\n",
        "with tf.device('/GPU:0'):\n",
        "  opt = Adam(learning_rate=INIT_LR, decay=INIT_LR / EPOCHS)\n",
        "  model.compile(loss=\"categorical_crossentropy\", optimizer=opt,metrics=[\"Accuracy\", \"FalseNegatives\", \"FalsePositives\", \"TrueNegatives\", \"TruePositives\"])\n",
        "  \n",
        "  history = model.fit(\n",
        "      aug.flow(np_image_list_train, image_labels_train, batch_size=BS),\n",
        "      validation_data=(np_image_list_validation, image_labels_validation),\n",
        "      steps_per_epoch=len(np_image_list_train) // BS,\n",
        "      epochs=EPOCHS, \n",
        "      verbose=1,\n",
        "      )\n"
      ],
      "execution_count": 10,
      "outputs": [
        {
          "output_type": "stream",
          "name": "stdout",
          "text": [
            "Epoch 1/200\n",
            "44/44 [==============================] - 21s 86ms/step - loss: 1.3386 - Accuracy: 0.4483 - false_negatives: 334.0000 - false_positives: 23.0000 - true_negatives: 1021.0000 - true_positives: 14.0000 - val_loss: 1.2443 - val_Accuracy: 0.4545 - val_false_negatives: 88.0000 - val_false_positives: 0.0000e+00 - val_true_negatives: 264.0000 - val_true_positives: 0.0000e+00\n",
            "Epoch 2/200\n",
            "44/44 [==============================] - 1s 33ms/step - loss: 1.2677 - Accuracy: 0.4511 - false_negatives: 323.0000 - false_positives: 36.0000 - true_negatives: 1008.0000 - true_positives: 25.0000 - val_loss: 1.2969 - val_Accuracy: 0.4545 - val_false_negatives: 88.0000 - val_false_positives: 0.0000e+00 - val_true_negatives: 264.0000 - val_true_positives: 0.0000e+00\n",
            "Epoch 3/200\n",
            "44/44 [==============================] - 1s 33ms/step - loss: 1.2894 - Accuracy: 0.4511 - false_negatives: 320.0000 - false_positives: 31.0000 - true_negatives: 1013.0000 - true_positives: 28.0000 - val_loss: 1.2815 - val_Accuracy: 0.4545 - val_false_negatives: 88.0000 - val_false_positives: 0.0000e+00 - val_true_negatives: 264.0000 - val_true_positives: 0.0000e+00\n",
            "Epoch 4/200\n",
            "44/44 [==============================] - 1s 33ms/step - loss: 1.2634 - Accuracy: 0.4483 - false_negatives: 319.0000 - false_positives: 20.0000 - true_negatives: 1024.0000 - true_positives: 29.0000 - val_loss: 1.2374 - val_Accuracy: 0.4545 - val_false_negatives: 88.0000 - val_false_positives: 0.0000e+00 - val_true_negatives: 264.0000 - val_true_positives: 0.0000e+00\n",
            "Epoch 5/200\n",
            "44/44 [==============================] - 1s 34ms/step - loss: 1.1917 - Accuracy: 0.4483 - false_negatives: 268.0000 - false_positives: 44.0000 - true_negatives: 1000.0000 - true_positives: 80.0000 - val_loss: 1.1655 - val_Accuracy: 0.4545 - val_false_negatives: 65.0000 - val_false_positives: 13.0000 - val_true_negatives: 251.0000 - val_true_positives: 23.0000\n",
            "Epoch 6/200\n",
            "44/44 [==============================] - 1s 32ms/step - loss: 1.2621 - Accuracy: 0.3994 - false_negatives: 310.0000 - false_positives: 14.0000 - true_negatives: 1030.0000 - true_positives: 38.0000 - val_loss: 1.2672 - val_Accuracy: 0.4545 - val_false_negatives: 88.0000 - val_false_positives: 0.0000e+00 - val_true_negatives: 264.0000 - val_true_positives: 0.0000e+00\n",
            "Epoch 7/200\n",
            "44/44 [==============================] - 1s 33ms/step - loss: 1.2863 - Accuracy: 0.4425 - false_negatives: 346.0000 - false_positives: 6.0000 - true_negatives: 1038.0000 - true_positives: 2.0000 - val_loss: 1.2433 - val_Accuracy: 0.4545 - val_false_negatives: 88.0000 - val_false_positives: 0.0000e+00 - val_true_negatives: 264.0000 - val_true_positives: 0.0000e+00\n",
            "Epoch 8/200\n",
            "44/44 [==============================] - 1s 32ms/step - loss: 1.2633 - Accuracy: 0.4454 - false_negatives: 348.0000 - false_positives: 0.0000e+00 - true_negatives: 1044.0000 - true_positives: 0.0000e+00 - val_loss: 1.2400 - val_Accuracy: 0.4545 - val_false_negatives: 88.0000 - val_false_positives: 0.0000e+00 - val_true_negatives: 264.0000 - val_true_positives: 0.0000e+00\n",
            "Epoch 9/200\n",
            "44/44 [==============================] - 1s 33ms/step - loss: 1.2422 - Accuracy: 0.4540 - false_negatives: 295.0000 - false_positives: 48.0000 - true_negatives: 996.0000 - true_positives: 53.0000 - val_loss: 1.2500 - val_Accuracy: 0.4545 - val_false_negatives: 88.0000 - val_false_positives: 0.0000e+00 - val_true_negatives: 264.0000 - val_true_positives: 0.0000e+00\n",
            "Epoch 10/200\n",
            "44/44 [==============================] - 1s 32ms/step - loss: 1.2433 - Accuracy: 0.4511 - false_negatives: 327.0000 - false_positives: 11.0000 - true_negatives: 1033.0000 - true_positives: 21.0000 - val_loss: 1.2124 - val_Accuracy: 0.4545 - val_false_negatives: 48.0000 - val_false_positives: 36.0000 - val_true_negatives: 228.0000 - val_true_positives: 40.0000\n",
            "Epoch 11/200\n",
            "44/44 [==============================] - 1s 32ms/step - loss: 1.2005 - Accuracy: 0.4483 - false_negatives: 289.0000 - false_positives: 40.0000 - true_negatives: 1004.0000 - true_positives: 59.0000 - val_loss: 1.1069 - val_Accuracy: 0.5114 - val_false_negatives: 55.0000 - val_false_positives: 26.0000 - val_true_negatives: 238.0000 - val_true_positives: 33.0000\n",
            "Epoch 12/200\n",
            "44/44 [==============================] - 1s 32ms/step - loss: 1.2241 - Accuracy: 0.4799 - false_negatives: 294.0000 - false_positives: 28.0000 - true_negatives: 1016.0000 - true_positives: 54.0000 - val_loss: 1.1360 - val_Accuracy: 0.5114 - val_false_negatives: 76.0000 - val_false_positives: 4.0000 - val_true_negatives: 260.0000 - val_true_positives: 12.0000\n",
            "Epoch 13/200\n",
            "44/44 [==============================] - 1s 33ms/step - loss: 1.0737 - Accuracy: 0.5144 - false_negatives: 237.0000 - false_positives: 34.0000 - true_negatives: 1010.0000 - true_positives: 111.0000 - val_loss: 1.1548 - val_Accuracy: 0.5568 - val_false_negatives: 53.0000 - val_false_positives: 23.0000 - val_true_negatives: 241.0000 - val_true_positives: 35.0000\n",
            "Epoch 14/200\n",
            "44/44 [==============================] - 1s 32ms/step - loss: 0.9636 - Accuracy: 0.6149 - false_negatives: 209.0000 - false_positives: 40.0000 - true_negatives: 1004.0000 - true_positives: 139.0000 - val_loss: 1.2952 - val_Accuracy: 0.5114 - val_false_negatives: 53.0000 - val_false_positives: 32.0000 - val_true_negatives: 232.0000 - val_true_positives: 35.0000\n",
            "Epoch 15/200\n",
            "44/44 [==============================] - 1s 33ms/step - loss: 0.9494 - Accuracy: 0.6121 - false_negatives: 202.0000 - false_positives: 41.0000 - true_negatives: 1003.0000 - true_positives: 146.0000 - val_loss: 1.0515 - val_Accuracy: 0.6136 - val_false_negatives: 46.0000 - val_false_positives: 24.0000 - val_true_negatives: 240.0000 - val_true_positives: 42.0000\n",
            "Epoch 16/200\n",
            "44/44 [==============================] - 1s 33ms/step - loss: 0.9670 - Accuracy: 0.6437 - false_negatives: 193.0000 - false_positives: 60.0000 - true_negatives: 984.0000 - true_positives: 155.0000 - val_loss: 1.0982 - val_Accuracy: 0.5909 - val_false_negatives: 60.0000 - val_false_positives: 11.0000 - val_true_negatives: 253.0000 - val_true_positives: 28.0000\n",
            "Epoch 17/200\n",
            "44/44 [==============================] - 1s 33ms/step - loss: 0.9149 - Accuracy: 0.6724 - false_negatives: 169.0000 - false_positives: 63.0000 - true_negatives: 981.0000 - true_positives: 179.0000 - val_loss: 1.3694 - val_Accuracy: 0.5341 - val_false_negatives: 43.0000 - val_false_positives: 32.0000 - val_true_negatives: 232.0000 - val_true_positives: 45.0000\n",
            "Epoch 18/200\n",
            "44/44 [==============================] - 1s 32ms/step - loss: 0.8855 - Accuracy: 0.6753 - false_negatives: 155.0000 - false_positives: 74.0000 - true_negatives: 970.0000 - true_positives: 193.0000 - val_loss: 1.0672 - val_Accuracy: 0.5909 - val_false_negatives: 51.0000 - val_false_positives: 23.0000 - val_true_negatives: 241.0000 - val_true_positives: 37.0000\n",
            "Epoch 19/200\n",
            "44/44 [==============================] - 1s 33ms/step - loss: 0.8319 - Accuracy: 0.6839 - false_negatives: 133.0000 - false_positives: 76.0000 - true_negatives: 968.0000 - true_positives: 215.0000 - val_loss: 1.3134 - val_Accuracy: 0.5000 - val_false_negatives: 46.0000 - val_false_positives: 35.0000 - val_true_negatives: 229.0000 - val_true_positives: 42.0000\n",
            "Epoch 20/200\n",
            "44/44 [==============================] - 1s 33ms/step - loss: 0.8237 - Accuracy: 0.6638 - false_negatives: 141.0000 - false_positives: 69.0000 - true_negatives: 975.0000 - true_positives: 207.0000 - val_loss: 1.0527 - val_Accuracy: 0.5909 - val_false_negatives: 56.0000 - val_false_positives: 9.0000 - val_true_negatives: 255.0000 - val_true_positives: 32.0000\n",
            "Epoch 21/200\n",
            "44/44 [==============================] - 1s 33ms/step - loss: 0.8297 - Accuracy: 0.6925 - false_negatives: 132.0000 - false_positives: 64.0000 - true_negatives: 980.0000 - true_positives: 216.0000 - val_loss: 1.0481 - val_Accuracy: 0.5909 - val_false_negatives: 43.0000 - val_false_positives: 23.0000 - val_true_negatives: 241.0000 - val_true_positives: 45.0000\n",
            "Epoch 22/200\n",
            "44/44 [==============================] - 1s 33ms/step - loss: 0.7702 - Accuracy: 0.7069 - false_negatives: 129.0000 - false_positives: 66.0000 - true_negatives: 978.0000 - true_positives: 219.0000 - val_loss: 1.1204 - val_Accuracy: 0.6136 - val_false_negatives: 47.0000 - val_false_positives: 24.0000 - val_true_negatives: 240.0000 - val_true_positives: 41.0000\n",
            "Epoch 23/200\n",
            "44/44 [==============================] - 1s 32ms/step - loss: 0.7535 - Accuracy: 0.6983 - false_negatives: 130.0000 - false_positives: 59.0000 - true_negatives: 985.0000 - true_positives: 218.0000 - val_loss: 1.4402 - val_Accuracy: 0.5114 - val_false_negatives: 44.0000 - val_false_positives: 34.0000 - val_true_negatives: 230.0000 - val_true_positives: 44.0000\n",
            "Epoch 24/200\n",
            "44/44 [==============================] - 1s 32ms/step - loss: 0.8444 - Accuracy: 0.6897 - false_negatives: 153.0000 - false_positives: 69.0000 - true_negatives: 975.0000 - true_positives: 195.0000 - val_loss: 1.1841 - val_Accuracy: 0.4773 - val_false_negatives: 74.0000 - val_false_positives: 10.0000 - val_true_negatives: 254.0000 - val_true_positives: 14.0000\n",
            "Epoch 25/200\n",
            "44/44 [==============================] - 1s 32ms/step - loss: 0.7636 - Accuracy: 0.7069 - false_negatives: 127.0000 - false_positives: 61.0000 - true_negatives: 983.0000 - true_positives: 221.0000 - val_loss: 1.0423 - val_Accuracy: 0.6023 - val_false_negatives: 48.0000 - val_false_positives: 19.0000 - val_true_negatives: 245.0000 - val_true_positives: 40.0000\n",
            "Epoch 26/200\n",
            "44/44 [==============================] - 1s 32ms/step - loss: 0.7664 - Accuracy: 0.6925 - false_negatives: 131.0000 - false_positives: 63.0000 - true_negatives: 981.0000 - true_positives: 217.0000 - val_loss: 1.0663 - val_Accuracy: 0.6023 - val_false_negatives: 43.0000 - val_false_positives: 22.0000 - val_true_negatives: 242.0000 - val_true_positives: 45.0000\n",
            "Epoch 27/200\n",
            "44/44 [==============================] - 1s 33ms/step - loss: 0.7566 - Accuracy: 0.7011 - false_negatives: 144.0000 - false_positives: 53.0000 - true_negatives: 991.0000 - true_positives: 204.0000 - val_loss: 1.0330 - val_Accuracy: 0.6136 - val_false_negatives: 46.0000 - val_false_positives: 17.0000 - val_true_negatives: 247.0000 - val_true_positives: 42.0000\n",
            "Epoch 28/200\n",
            "44/44 [==============================] - 1s 33ms/step - loss: 0.7519 - Accuracy: 0.7301 - false_negatives: 122.0000 - false_positives: 60.0000 - true_negatives: 996.0000 - true_positives: 230.0000 - val_loss: 0.9778 - val_Accuracy: 0.6477 - val_false_negatives: 42.0000 - val_false_positives: 17.0000 - val_true_negatives: 247.0000 - val_true_positives: 46.0000\n",
            "Epoch 29/200\n",
            "44/44 [==============================] - 1s 33ms/step - loss: 0.7458 - Accuracy: 0.7184 - false_negatives: 130.0000 - false_positives: 61.0000 - true_negatives: 983.0000 - true_positives: 218.0000 - val_loss: 1.1502 - val_Accuracy: 0.5682 - val_false_negatives: 52.0000 - val_false_positives: 24.0000 - val_true_negatives: 240.0000 - val_true_positives: 36.0000\n",
            "Epoch 30/200\n",
            "44/44 [==============================] - 1s 32ms/step - loss: 0.7352 - Accuracy: 0.7184 - false_negatives: 120.0000 - false_positives: 64.0000 - true_negatives: 980.0000 - true_positives: 228.0000 - val_loss: 1.1781 - val_Accuracy: 0.5795 - val_false_negatives: 47.0000 - val_false_positives: 23.0000 - val_true_negatives: 241.0000 - val_true_positives: 41.0000\n",
            "Epoch 31/200\n",
            "44/44 [==============================] - 1s 32ms/step - loss: 0.7128 - Accuracy: 0.7040 - false_negatives: 136.0000 - false_positives: 56.0000 - true_negatives: 988.0000 - true_positives: 212.0000 - val_loss: 1.1693 - val_Accuracy: 0.5795 - val_false_negatives: 43.0000 - val_false_positives: 24.0000 - val_true_negatives: 240.0000 - val_true_positives: 45.0000\n",
            "Epoch 32/200\n",
            "44/44 [==============================] - 1s 33ms/step - loss: 0.7320 - Accuracy: 0.7241 - false_negatives: 125.0000 - false_positives: 61.0000 - true_negatives: 983.0000 - true_positives: 223.0000 - val_loss: 1.1243 - val_Accuracy: 0.6023 - val_false_negatives: 46.0000 - val_false_positives: 24.0000 - val_true_negatives: 240.0000 - val_true_positives: 42.0000\n",
            "Epoch 33/200\n",
            "44/44 [==============================] - 1s 33ms/step - loss: 0.6939 - Accuracy: 0.7184 - false_negatives: 120.0000 - false_positives: 55.0000 - true_negatives: 989.0000 - true_positives: 228.0000 - val_loss: 1.4477 - val_Accuracy: 0.5682 - val_false_negatives: 42.0000 - val_false_positives: 27.0000 - val_true_negatives: 237.0000 - val_true_positives: 46.0000\n",
            "Epoch 34/200\n",
            "44/44 [==============================] - 1s 34ms/step - loss: 0.6876 - Accuracy: 0.7270 - false_negatives: 126.0000 - false_positives: 60.0000 - true_negatives: 984.0000 - true_positives: 222.0000 - val_loss: 1.3938 - val_Accuracy: 0.5455 - val_false_negatives: 41.0000 - val_false_positives: 23.0000 - val_true_negatives: 241.0000 - val_true_positives: 47.0000\n",
            "Epoch 35/200\n",
            "44/44 [==============================] - 1s 33ms/step - loss: 0.6985 - Accuracy: 0.7011 - false_negatives: 132.0000 - false_positives: 49.0000 - true_negatives: 995.0000 - true_positives: 216.0000 - val_loss: 1.2384 - val_Accuracy: 0.5682 - val_false_negatives: 43.0000 - val_false_positives: 20.0000 - val_true_negatives: 244.0000 - val_true_positives: 45.0000\n",
            "Epoch 36/200\n",
            "44/44 [==============================] - 1s 32ms/step - loss: 0.7192 - Accuracy: 0.7356 - false_negatives: 122.0000 - false_positives: 52.0000 - true_negatives: 992.0000 - true_positives: 226.0000 - val_loss: 1.1660 - val_Accuracy: 0.6136 - val_false_negatives: 62.0000 - val_false_positives: 16.0000 - val_true_negatives: 248.0000 - val_true_positives: 26.0000\n",
            "Epoch 37/200\n",
            "44/44 [==============================] - 1s 33ms/step - loss: 0.6878 - Accuracy: 0.7241 - false_negatives: 122.0000 - false_positives: 62.0000 - true_negatives: 982.0000 - true_positives: 226.0000 - val_loss: 1.2586 - val_Accuracy: 0.5909 - val_false_negatives: 40.0000 - val_false_positives: 24.0000 - val_true_negatives: 240.0000 - val_true_positives: 48.0000\n",
            "Epoch 38/200\n",
            "44/44 [==============================] - 1s 32ms/step - loss: 0.6851 - Accuracy: 0.7356 - false_negatives: 117.0000 - false_positives: 66.0000 - true_negatives: 978.0000 - true_positives: 231.0000 - val_loss: 1.0551 - val_Accuracy: 0.6023 - val_false_negatives: 42.0000 - val_false_positives: 21.0000 - val_true_negatives: 243.0000 - val_true_positives: 46.0000\n",
            "Epoch 39/200\n",
            "44/44 [==============================] - 2s 36ms/step - loss: 0.6681 - Accuracy: 0.7356 - false_negatives: 120.0000 - false_positives: 54.0000 - true_negatives: 990.0000 - true_positives: 228.0000 - val_loss: 1.2432 - val_Accuracy: 0.5795 - val_false_negatives: 42.0000 - val_false_positives: 22.0000 - val_true_negatives: 242.0000 - val_true_positives: 46.0000\n",
            "Epoch 40/200\n",
            "44/44 [==============================] - 2s 38ms/step - loss: 0.6596 - Accuracy: 0.7443 - false_negatives: 117.0000 - false_positives: 49.0000 - true_negatives: 995.0000 - true_positives: 231.0000 - val_loss: 1.1862 - val_Accuracy: 0.6364 - val_false_negatives: 40.0000 - val_false_positives: 23.0000 - val_true_negatives: 241.0000 - val_true_positives: 48.0000\n",
            "Epoch 41/200\n",
            "44/44 [==============================] - 2s 36ms/step - loss: 0.6843 - Accuracy: 0.7356 - false_negatives: 126.0000 - false_positives: 51.0000 - true_negatives: 993.0000 - true_positives: 222.0000 - val_loss: 1.0643 - val_Accuracy: 0.6136 - val_false_negatives: 42.0000 - val_false_positives: 22.0000 - val_true_negatives: 242.0000 - val_true_positives: 46.0000\n",
            "Epoch 42/200\n",
            "44/44 [==============================] - 1s 33ms/step - loss: 0.6838 - Accuracy: 0.7270 - false_negatives: 120.0000 - false_positives: 61.0000 - true_negatives: 983.0000 - true_positives: 228.0000 - val_loss: 1.2371 - val_Accuracy: 0.5909 - val_false_negatives: 43.0000 - val_false_positives: 22.0000 - val_true_negatives: 242.0000 - val_true_positives: 45.0000\n",
            "Epoch 43/200\n",
            "44/44 [==============================] - 1s 33ms/step - loss: 0.6315 - Accuracy: 0.7471 - false_negatives: 110.0000 - false_positives: 52.0000 - true_negatives: 992.0000 - true_positives: 238.0000 - val_loss: 1.0546 - val_Accuracy: 0.6364 - val_false_negatives: 43.0000 - val_false_positives: 17.0000 - val_true_negatives: 247.0000 - val_true_positives: 45.0000\n",
            "Epoch 44/200\n",
            "44/44 [==============================] - 1s 33ms/step - loss: 0.6618 - Accuracy: 0.7385 - false_negatives: 125.0000 - false_positives: 48.0000 - true_negatives: 996.0000 - true_positives: 223.0000 - val_loss: 1.2331 - val_Accuracy: 0.6023 - val_false_negatives: 41.0000 - val_false_positives: 26.0000 - val_true_negatives: 238.0000 - val_true_positives: 47.0000\n",
            "Epoch 45/200\n",
            "44/44 [==============================] - 1s 32ms/step - loss: 0.6353 - Accuracy: 0.7644 - false_negatives: 105.0000 - false_positives: 51.0000 - true_negatives: 993.0000 - true_positives: 243.0000 - val_loss: 1.1573 - val_Accuracy: 0.6136 - val_false_negatives: 42.0000 - val_false_positives: 22.0000 - val_true_negatives: 242.0000 - val_true_positives: 46.0000\n",
            "Epoch 46/200\n",
            "44/44 [==============================] - 1s 34ms/step - loss: 0.6433 - Accuracy: 0.7443 - false_negatives: 117.0000 - false_positives: 50.0000 - true_negatives: 994.0000 - true_positives: 231.0000 - val_loss: 1.1253 - val_Accuracy: 0.6250 - val_false_negatives: 41.0000 - val_false_positives: 23.0000 - val_true_negatives: 241.0000 - val_true_positives: 47.0000\n",
            "Epoch 47/200\n",
            "44/44 [==============================] - 1s 32ms/step - loss: 0.6373 - Accuracy: 0.7471 - false_negatives: 114.0000 - false_positives: 54.0000 - true_negatives: 990.0000 - true_positives: 234.0000 - val_loss: 1.1588 - val_Accuracy: 0.5682 - val_false_negatives: 45.0000 - val_false_positives: 19.0000 - val_true_negatives: 245.0000 - val_true_positives: 43.0000\n",
            "Epoch 48/200\n",
            "44/44 [==============================] - 1s 32ms/step - loss: 0.6757 - Accuracy: 0.7356 - false_negatives: 129.0000 - false_positives: 48.0000 - true_negatives: 996.0000 - true_positives: 219.0000 - val_loss: 1.0936 - val_Accuracy: 0.5795 - val_false_negatives: 50.0000 - val_false_positives: 21.0000 - val_true_negatives: 243.0000 - val_true_positives: 38.0000\n",
            "Epoch 49/200\n",
            "44/44 [==============================] - 1s 33ms/step - loss: 0.6058 - Accuracy: 0.7586 - false_negatives: 111.0000 - false_positives: 49.0000 - true_negatives: 995.0000 - true_positives: 237.0000 - val_loss: 1.3735 - val_Accuracy: 0.5795 - val_false_negatives: 42.0000 - val_false_positives: 27.0000 - val_true_negatives: 237.0000 - val_true_positives: 46.0000\n",
            "Epoch 50/200\n",
            "44/44 [==============================] - 1s 32ms/step - loss: 0.6010 - Accuracy: 0.7701 - false_negatives: 101.0000 - false_positives: 55.0000 - true_negatives: 989.0000 - true_positives: 247.0000 - val_loss: 1.3205 - val_Accuracy: 0.5682 - val_false_negatives: 42.0000 - val_false_positives: 22.0000 - val_true_negatives: 242.0000 - val_true_positives: 46.0000\n",
            "Epoch 51/200\n",
            "44/44 [==============================] - 1s 33ms/step - loss: 0.5909 - Accuracy: 0.7672 - false_negatives: 101.0000 - false_positives: 49.0000 - true_negatives: 995.0000 - true_positives: 247.0000 - val_loss: 1.3131 - val_Accuracy: 0.6023 - val_false_negatives: 41.0000 - val_false_positives: 23.0000 - val_true_negatives: 241.0000 - val_true_positives: 47.0000\n",
            "Epoch 52/200\n",
            "44/44 [==============================] - 1s 33ms/step - loss: 0.6109 - Accuracy: 0.7701 - false_negatives: 103.0000 - false_positives: 47.0000 - true_negatives: 997.0000 - true_positives: 245.0000 - val_loss: 1.1018 - val_Accuracy: 0.6023 - val_false_negatives: 41.0000 - val_false_positives: 26.0000 - val_true_negatives: 238.0000 - val_true_positives: 47.0000\n",
            "Epoch 53/200\n",
            "44/44 [==============================] - 1s 33ms/step - loss: 0.6320 - Accuracy: 0.7730 - false_negatives: 110.0000 - false_positives: 51.0000 - true_negatives: 993.0000 - true_positives: 238.0000 - val_loss: 1.1375 - val_Accuracy: 0.6136 - val_false_negatives: 42.0000 - val_false_positives: 24.0000 - val_true_negatives: 240.0000 - val_true_positives: 46.0000\n",
            "Epoch 54/200\n",
            "44/44 [==============================] - 1s 33ms/step - loss: 0.6186 - Accuracy: 0.7557 - false_negatives: 110.0000 - false_positives: 53.0000 - true_negatives: 991.0000 - true_positives: 238.0000 - val_loss: 1.1361 - val_Accuracy: 0.5682 - val_false_negatives: 45.0000 - val_false_positives: 27.0000 - val_true_negatives: 237.0000 - val_true_positives: 43.0000\n",
            "Epoch 55/200\n",
            "44/44 [==============================] - 1s 33ms/step - loss: 0.6134 - Accuracy: 0.7787 - false_negatives: 94.0000 - false_positives: 58.0000 - true_negatives: 986.0000 - true_positives: 254.0000 - val_loss: 1.3059 - val_Accuracy: 0.6250 - val_false_negatives: 40.0000 - val_false_positives: 23.0000 - val_true_negatives: 241.0000 - val_true_positives: 48.0000\n",
            "Epoch 56/200\n",
            "44/44 [==============================] - 1s 33ms/step - loss: 0.6286 - Accuracy: 0.7730 - false_negatives: 105.0000 - false_positives: 56.0000 - true_negatives: 988.0000 - true_positives: 243.0000 - val_loss: 1.1877 - val_Accuracy: 0.5909 - val_false_negatives: 41.0000 - val_false_positives: 27.0000 - val_true_negatives: 237.0000 - val_true_positives: 47.0000\n",
            "Epoch 57/200\n",
            "44/44 [==============================] - 1s 33ms/step - loss: 0.6110 - Accuracy: 0.7586 - false_negatives: 101.0000 - false_positives: 59.0000 - true_negatives: 985.0000 - true_positives: 247.0000 - val_loss: 1.0751 - val_Accuracy: 0.6364 - val_false_negatives: 44.0000 - val_false_positives: 20.0000 - val_true_negatives: 244.0000 - val_true_positives: 44.0000\n",
            "Epoch 58/200\n",
            "44/44 [==============================] - 1s 33ms/step - loss: 0.5851 - Accuracy: 0.7845 - false_negatives: 98.0000 - false_positives: 46.0000 - true_negatives: 998.0000 - true_positives: 250.0000 - val_loss: 1.3977 - val_Accuracy: 0.6023 - val_false_negatives: 39.0000 - val_false_positives: 27.0000 - val_true_negatives: 237.0000 - val_true_positives: 49.0000\n",
            "Epoch 59/200\n",
            "44/44 [==============================] - 1s 33ms/step - loss: 0.6098 - Accuracy: 0.7443 - false_negatives: 106.0000 - false_positives: 55.0000 - true_negatives: 989.0000 - true_positives: 242.0000 - val_loss: 1.4702 - val_Accuracy: 0.6136 - val_false_negatives: 39.0000 - val_false_positives: 27.0000 - val_true_negatives: 237.0000 - val_true_positives: 49.0000\n",
            "Epoch 60/200\n",
            "44/44 [==============================] - 1s 34ms/step - loss: 0.6850 - Accuracy: 0.7155 - false_negatives: 113.0000 - false_positives: 65.0000 - true_negatives: 979.0000 - true_positives: 235.0000 - val_loss: 1.2848 - val_Accuracy: 0.6023 - val_false_negatives: 42.0000 - val_false_positives: 26.0000 - val_true_negatives: 238.0000 - val_true_positives: 46.0000\n",
            "Epoch 61/200\n",
            "44/44 [==============================] - 1s 33ms/step - loss: 0.5864 - Accuracy: 0.7701 - false_negatives: 105.0000 - false_positives: 51.0000 - true_negatives: 993.0000 - true_positives: 243.0000 - val_loss: 1.1319 - val_Accuracy: 0.6136 - val_false_negatives: 43.0000 - val_false_positives: 22.0000 - val_true_negatives: 242.0000 - val_true_positives: 45.0000\n",
            "Epoch 62/200\n",
            "44/44 [==============================] - 2s 34ms/step - loss: 0.5674 - Accuracy: 0.7845 - false_negatives: 103.0000 - false_positives: 50.0000 - true_negatives: 994.0000 - true_positives: 245.0000 - val_loss: 1.5114 - val_Accuracy: 0.6023 - val_false_negatives: 41.0000 - val_false_positives: 25.0000 - val_true_negatives: 239.0000 - val_true_positives: 47.0000\n",
            "Epoch 63/200\n",
            "44/44 [==============================] - 1s 33ms/step - loss: 0.5864 - Accuracy: 0.7759 - false_negatives: 102.0000 - false_positives: 55.0000 - true_negatives: 989.0000 - true_positives: 246.0000 - val_loss: 1.6613 - val_Accuracy: 0.5795 - val_false_negatives: 39.0000 - val_false_positives: 29.0000 - val_true_negatives: 235.0000 - val_true_positives: 49.0000\n",
            "Epoch 64/200\n",
            "44/44 [==============================] - 1s 33ms/step - loss: 0.5779 - Accuracy: 0.7759 - false_negatives: 95.0000 - false_positives: 51.0000 - true_negatives: 993.0000 - true_positives: 253.0000 - val_loss: 1.1758 - val_Accuracy: 0.5909 - val_false_negatives: 39.0000 - val_false_positives: 25.0000 - val_true_negatives: 239.0000 - val_true_positives: 49.0000\n",
            "Epoch 65/200\n",
            "44/44 [==============================] - 2s 34ms/step - loss: 0.5745 - Accuracy: 0.7672 - false_negatives: 99.0000 - false_positives: 59.0000 - true_negatives: 985.0000 - true_positives: 249.0000 - val_loss: 1.2104 - val_Accuracy: 0.6136 - val_false_negatives: 42.0000 - val_false_positives: 26.0000 - val_true_negatives: 238.0000 - val_true_positives: 46.0000\n",
            "Epoch 66/200\n",
            "44/44 [==============================] - 1s 33ms/step - loss: 0.5937 - Accuracy: 0.7672 - false_negatives: 100.0000 - false_positives: 53.0000 - true_negatives: 991.0000 - true_positives: 248.0000 - val_loss: 1.4036 - val_Accuracy: 0.5568 - val_false_negatives: 41.0000 - val_false_positives: 27.0000 - val_true_negatives: 237.0000 - val_true_positives: 47.0000\n",
            "Epoch 67/200\n",
            "44/44 [==============================] - 1s 33ms/step - loss: 0.6150 - Accuracy: 0.7644 - false_negatives: 95.0000 - false_positives: 55.0000 - true_negatives: 989.0000 - true_positives: 253.0000 - val_loss: 1.1857 - val_Accuracy: 0.6136 - val_false_negatives: 41.0000 - val_false_positives: 21.0000 - val_true_negatives: 243.0000 - val_true_positives: 47.0000\n",
            "Epoch 68/200\n",
            "44/44 [==============================] - 1s 33ms/step - loss: 0.5662 - Accuracy: 0.7730 - false_negatives: 104.0000 - false_positives: 53.0000 - true_negatives: 991.0000 - true_positives: 244.0000 - val_loss: 1.1966 - val_Accuracy: 0.6023 - val_false_negatives: 40.0000 - val_false_positives: 26.0000 - val_true_negatives: 238.0000 - val_true_positives: 48.0000\n",
            "Epoch 69/200\n",
            "44/44 [==============================] - 1s 33ms/step - loss: 0.5609 - Accuracy: 0.7701 - false_negatives: 94.0000 - false_positives: 54.0000 - true_negatives: 990.0000 - true_positives: 254.0000 - val_loss: 1.0469 - val_Accuracy: 0.6023 - val_false_negatives: 42.0000 - val_false_positives: 22.0000 - val_true_negatives: 242.0000 - val_true_positives: 46.0000\n",
            "Epoch 70/200\n",
            "44/44 [==============================] - 1s 33ms/step - loss: 0.5705 - Accuracy: 0.7644 - false_negatives: 101.0000 - false_positives: 53.0000 - true_negatives: 991.0000 - true_positives: 247.0000 - val_loss: 1.2180 - val_Accuracy: 0.5795 - val_false_negatives: 40.0000 - val_false_positives: 26.0000 - val_true_negatives: 238.0000 - val_true_positives: 48.0000\n",
            "Epoch 71/200\n",
            "44/44 [==============================] - 1s 33ms/step - loss: 0.5542 - Accuracy: 0.7586 - false_negatives: 102.0000 - false_positives: 56.0000 - true_negatives: 988.0000 - true_positives: 246.0000 - val_loss: 1.2249 - val_Accuracy: 0.5682 - val_false_negatives: 44.0000 - val_false_positives: 27.0000 - val_true_negatives: 237.0000 - val_true_positives: 44.0000\n",
            "Epoch 72/200\n",
            "44/44 [==============================] - 2s 34ms/step - loss: 0.5396 - Accuracy: 0.7931 - false_negatives: 90.0000 - false_positives: 46.0000 - true_negatives: 998.0000 - true_positives: 258.0000 - val_loss: 1.4967 - val_Accuracy: 0.5682 - val_false_negatives: 41.0000 - val_false_positives: 29.0000 - val_true_negatives: 235.0000 - val_true_positives: 47.0000\n",
            "Epoch 73/200\n",
            "44/44 [==============================] - 1s 33ms/step - loss: 0.5893 - Accuracy: 0.7644 - false_negatives: 96.0000 - false_positives: 60.0000 - true_negatives: 984.0000 - true_positives: 252.0000 - val_loss: 1.2056 - val_Accuracy: 0.5682 - val_false_negatives: 42.0000 - val_false_positives: 23.0000 - val_true_negatives: 241.0000 - val_true_positives: 46.0000\n",
            "Epoch 74/200\n",
            "44/44 [==============================] - 1s 34ms/step - loss: 0.5442 - Accuracy: 0.7730 - false_negatives: 91.0000 - false_positives: 59.0000 - true_negatives: 985.0000 - true_positives: 257.0000 - val_loss: 1.1832 - val_Accuracy: 0.5909 - val_false_negatives: 42.0000 - val_false_positives: 28.0000 - val_true_negatives: 236.0000 - val_true_positives: 46.0000\n",
            "Epoch 75/200\n",
            "44/44 [==============================] - 2s 34ms/step - loss: 0.5469 - Accuracy: 0.7960 - false_negatives: 86.0000 - false_positives: 50.0000 - true_negatives: 994.0000 - true_positives: 262.0000 - val_loss: 1.1584 - val_Accuracy: 0.6023 - val_false_negatives: 43.0000 - val_false_positives: 21.0000 - val_true_negatives: 243.0000 - val_true_positives: 45.0000\n",
            "Epoch 76/200\n",
            "44/44 [==============================] - 1s 33ms/step - loss: 0.5189 - Accuracy: 0.7960 - false_negatives: 85.0000 - false_positives: 55.0000 - true_negatives: 989.0000 - true_positives: 263.0000 - val_loss: 1.3142 - val_Accuracy: 0.5909 - val_false_negatives: 40.0000 - val_false_positives: 27.0000 - val_true_negatives: 237.0000 - val_true_positives: 48.0000\n",
            "Epoch 77/200\n",
            "44/44 [==============================] - 1s 33ms/step - loss: 0.5948 - Accuracy: 0.7787 - false_negatives: 97.0000 - false_positives: 58.0000 - true_negatives: 986.0000 - true_positives: 251.0000 - val_loss: 1.1849 - val_Accuracy: 0.6250 - val_false_negatives: 37.0000 - val_false_positives: 24.0000 - val_true_negatives: 240.0000 - val_true_positives: 51.0000\n",
            "Epoch 78/200\n",
            "44/44 [==============================] - 2s 34ms/step - loss: 0.5668 - Accuracy: 0.7874 - false_negatives: 93.0000 - false_positives: 49.0000 - true_negatives: 995.0000 - true_positives: 255.0000 - val_loss: 1.1384 - val_Accuracy: 0.6250 - val_false_negatives: 44.0000 - val_false_positives: 22.0000 - val_true_negatives: 242.0000 - val_true_positives: 44.0000\n",
            "Epoch 79/200\n",
            "44/44 [==============================] - 1s 33ms/step - loss: 0.5441 - Accuracy: 0.7787 - false_negatives: 89.0000 - false_positives: 58.0000 - true_negatives: 986.0000 - true_positives: 259.0000 - val_loss: 1.1613 - val_Accuracy: 0.5795 - val_false_negatives: 41.0000 - val_false_positives: 27.0000 - val_true_negatives: 237.0000 - val_true_positives: 47.0000\n",
            "Epoch 80/200\n",
            "44/44 [==============================] - 1s 33ms/step - loss: 0.5335 - Accuracy: 0.7931 - false_negatives: 85.0000 - false_positives: 44.0000 - true_negatives: 1000.0000 - true_positives: 263.0000 - val_loss: 1.5603 - val_Accuracy: 0.5795 - val_false_negatives: 39.0000 - val_false_positives: 29.0000 - val_true_negatives: 235.0000 - val_true_positives: 49.0000\n",
            "Epoch 81/200\n",
            "44/44 [==============================] - 2s 34ms/step - loss: 0.5164 - Accuracy: 0.8017 - false_negatives: 85.0000 - false_positives: 55.0000 - true_negatives: 989.0000 - true_positives: 263.0000 - val_loss: 1.2344 - val_Accuracy: 0.5795 - val_false_negatives: 42.0000 - val_false_positives: 28.0000 - val_true_negatives: 236.0000 - val_true_positives: 46.0000\n",
            "Epoch 82/200\n",
            "44/44 [==============================] - 1s 33ms/step - loss: 0.4881 - Accuracy: 0.8132 - false_negatives: 79.0000 - false_positives: 50.0000 - true_negatives: 994.0000 - true_positives: 269.0000 - val_loss: 1.4342 - val_Accuracy: 0.6136 - val_false_negatives: 40.0000 - val_false_positives: 28.0000 - val_true_negatives: 236.0000 - val_true_positives: 48.0000\n",
            "Epoch 83/200\n",
            "44/44 [==============================] - 1s 33ms/step - loss: 0.5270 - Accuracy: 0.7816 - false_negatives: 91.0000 - false_positives: 60.0000 - true_negatives: 984.0000 - true_positives: 257.0000 - val_loss: 1.2438 - val_Accuracy: 0.5795 - val_false_negatives: 39.0000 - val_false_positives: 27.0000 - val_true_negatives: 237.0000 - val_true_positives: 49.0000\n",
            "Epoch 84/200\n",
            "44/44 [==============================] - 1s 34ms/step - loss: 0.4891 - Accuracy: 0.8017 - false_negatives: 80.0000 - false_positives: 56.0000 - true_negatives: 988.0000 - true_positives: 268.0000 - val_loss: 1.2993 - val_Accuracy: 0.5909 - val_false_negatives: 41.0000 - val_false_positives: 30.0000 - val_true_negatives: 234.0000 - val_true_positives: 47.0000\n",
            "Epoch 85/200\n",
            "44/44 [==============================] - 2s 35ms/step - loss: 0.5383 - Accuracy: 0.7902 - false_negatives: 83.0000 - false_positives: 49.0000 - true_negatives: 995.0000 - true_positives: 265.0000 - val_loss: 1.2145 - val_Accuracy: 0.6023 - val_false_negatives: 43.0000 - val_false_positives: 21.0000 - val_true_negatives: 243.0000 - val_true_positives: 45.0000\n",
            "Epoch 86/200\n",
            "44/44 [==============================] - 1s 33ms/step - loss: 0.4923 - Accuracy: 0.8161 - false_negatives: 82.0000 - false_positives: 49.0000 - true_negatives: 995.0000 - true_positives: 266.0000 - val_loss: 1.8245 - val_Accuracy: 0.5682 - val_false_negatives: 38.0000 - val_false_positives: 32.0000 - val_true_negatives: 232.0000 - val_true_positives: 50.0000\n",
            "Epoch 87/200\n",
            "44/44 [==============================] - 1s 34ms/step - loss: 0.4862 - Accuracy: 0.8075 - false_negatives: 76.0000 - false_positives: 57.0000 - true_negatives: 987.0000 - true_positives: 272.0000 - val_loss: 1.6504 - val_Accuracy: 0.5909 - val_false_negatives: 41.0000 - val_false_positives: 32.0000 - val_true_negatives: 232.0000 - val_true_positives: 47.0000\n",
            "Epoch 88/200\n",
            "44/44 [==============================] - 2s 35ms/step - loss: 0.4750 - Accuracy: 0.7874 - false_negatives: 82.0000 - false_positives: 53.0000 - true_negatives: 991.0000 - true_positives: 266.0000 - val_loss: 1.9374 - val_Accuracy: 0.5568 - val_false_negatives: 40.0000 - val_false_positives: 31.0000 - val_true_negatives: 233.0000 - val_true_positives: 48.0000\n",
            "Epoch 89/200\n",
            "44/44 [==============================] - 2s 35ms/step - loss: 0.4668 - Accuracy: 0.8132 - false_negatives: 77.0000 - false_positives: 52.0000 - true_negatives: 992.0000 - true_positives: 271.0000 - val_loss: 1.5175 - val_Accuracy: 0.5795 - val_false_negatives: 40.0000 - val_false_positives: 30.0000 - val_true_negatives: 234.0000 - val_true_positives: 48.0000\n",
            "Epoch 90/200\n",
            "44/44 [==============================] - 2s 34ms/step - loss: 0.5203 - Accuracy: 0.7787 - false_negatives: 87.0000 - false_positives: 57.0000 - true_negatives: 987.0000 - true_positives: 261.0000 - val_loss: 1.5707 - val_Accuracy: 0.5795 - val_false_negatives: 39.0000 - val_false_positives: 31.0000 - val_true_negatives: 233.0000 - val_true_positives: 49.0000\n",
            "Epoch 91/200\n",
            "44/44 [==============================] - 2s 34ms/step - loss: 0.4680 - Accuracy: 0.7931 - false_negatives: 83.0000 - false_positives: 56.0000 - true_negatives: 988.0000 - true_positives: 265.0000 - val_loss: 1.3310 - val_Accuracy: 0.5795 - val_false_negatives: 39.0000 - val_false_positives: 26.0000 - val_true_negatives: 238.0000 - val_true_positives: 49.0000\n",
            "Epoch 92/200\n",
            "44/44 [==============================] - 2s 34ms/step - loss: 0.4337 - Accuracy: 0.8333 - false_negatives: 66.0000 - false_positives: 41.0000 - true_negatives: 1003.0000 - true_positives: 282.0000 - val_loss: 1.8304 - val_Accuracy: 0.5795 - val_false_negatives: 39.0000 - val_false_positives: 30.0000 - val_true_negatives: 234.0000 - val_true_positives: 49.0000\n",
            "Epoch 93/200\n",
            "44/44 [==============================] - 2s 34ms/step - loss: 0.5389 - Accuracy: 0.7902 - false_negatives: 81.0000 - false_positives: 53.0000 - true_negatives: 991.0000 - true_positives: 267.0000 - val_loss: 1.4537 - val_Accuracy: 0.5682 - val_false_negatives: 39.0000 - val_false_positives: 31.0000 - val_true_negatives: 233.0000 - val_true_positives: 49.0000\n",
            "Epoch 94/200\n",
            "44/44 [==============================] - 1s 33ms/step - loss: 0.4877 - Accuracy: 0.8017 - false_negatives: 77.0000 - false_positives: 54.0000 - true_negatives: 990.0000 - true_positives: 271.0000 - val_loss: 1.3864 - val_Accuracy: 0.6023 - val_false_negatives: 37.0000 - val_false_positives: 29.0000 - val_true_negatives: 235.0000 - val_true_positives: 51.0000\n",
            "Epoch 95/200\n",
            "44/44 [==============================] - 2s 34ms/step - loss: 0.4638 - Accuracy: 0.8075 - false_negatives: 75.0000 - false_positives: 51.0000 - true_negatives: 993.0000 - true_positives: 273.0000 - val_loss: 1.4951 - val_Accuracy: 0.5909 - val_false_negatives: 37.0000 - val_false_positives: 32.0000 - val_true_negatives: 232.0000 - val_true_positives: 51.0000\n",
            "Epoch 96/200\n",
            "44/44 [==============================] - 1s 34ms/step - loss: 0.4442 - Accuracy: 0.8190 - false_negatives: 76.0000 - false_positives: 44.0000 - true_negatives: 1000.0000 - true_positives: 272.0000 - val_loss: 1.5048 - val_Accuracy: 0.5795 - val_false_negatives: 40.0000 - val_false_positives: 29.0000 - val_true_negatives: 235.0000 - val_true_positives: 48.0000\n",
            "Epoch 97/200\n",
            "44/44 [==============================] - 1s 34ms/step - loss: 0.4475 - Accuracy: 0.8448 - false_negatives: 60.0000 - false_positives: 44.0000 - true_negatives: 1000.0000 - true_positives: 288.0000 - val_loss: 1.4114 - val_Accuracy: 0.5682 - val_false_negatives: 39.0000 - val_false_positives: 28.0000 - val_true_negatives: 236.0000 - val_true_positives: 49.0000\n",
            "Epoch 98/200\n",
            "44/44 [==============================] - 1s 33ms/step - loss: 0.4652 - Accuracy: 0.8161 - false_negatives: 81.0000 - false_positives: 47.0000 - true_negatives: 997.0000 - true_positives: 267.0000 - val_loss: 1.3482 - val_Accuracy: 0.5568 - val_false_negatives: 42.0000 - val_false_positives: 32.0000 - val_true_negatives: 232.0000 - val_true_positives: 46.0000\n",
            "Epoch 99/200\n",
            "44/44 [==============================] - 1s 33ms/step - loss: 0.4314 - Accuracy: 0.8333 - false_negatives: 71.0000 - false_positives: 46.0000 - true_negatives: 998.0000 - true_positives: 277.0000 - val_loss: 1.7141 - val_Accuracy: 0.5909 - val_false_negatives: 38.0000 - val_false_positives: 28.0000 - val_true_negatives: 236.0000 - val_true_positives: 50.0000\n",
            "Epoch 100/200\n",
            "44/44 [==============================] - 2s 34ms/step - loss: 0.4005 - Accuracy: 0.8477 - false_negatives: 67.0000 - false_positives: 39.0000 - true_negatives: 1005.0000 - true_positives: 281.0000 - val_loss: 1.5883 - val_Accuracy: 0.5682 - val_false_negatives: 41.0000 - val_false_positives: 30.0000 - val_true_negatives: 234.0000 - val_true_positives: 47.0000\n",
            "Epoch 101/200\n",
            "44/44 [==============================] - 1s 33ms/step - loss: 0.4946 - Accuracy: 0.8103 - false_negatives: 80.0000 - false_positives: 51.0000 - true_negatives: 993.0000 - true_positives: 268.0000 - val_loss: 1.4440 - val_Accuracy: 0.5795 - val_false_negatives: 38.0000 - val_false_positives: 31.0000 - val_true_negatives: 233.0000 - val_true_positives: 50.0000\n",
            "Epoch 102/200\n",
            "44/44 [==============================] - 2s 34ms/step - loss: 0.5139 - Accuracy: 0.8305 - false_negatives: 78.0000 - false_positives: 44.0000 - true_negatives: 1000.0000 - true_positives: 270.0000 - val_loss: 1.4266 - val_Accuracy: 0.5795 - val_false_negatives: 39.0000 - val_false_positives: 30.0000 - val_true_negatives: 234.0000 - val_true_positives: 49.0000\n",
            "Epoch 103/200\n",
            "44/44 [==============================] - 1s 33ms/step - loss: 0.4458 - Accuracy: 0.8391 - false_negatives: 64.0000 - false_positives: 51.0000 - true_negatives: 993.0000 - true_positives: 284.0000 - val_loss: 1.4438 - val_Accuracy: 0.5568 - val_false_negatives: 41.0000 - val_false_positives: 32.0000 - val_true_negatives: 232.0000 - val_true_positives: 47.0000\n",
            "Epoch 104/200\n",
            "44/44 [==============================] - 2s 35ms/step - loss: 0.4343 - Accuracy: 0.8409 - false_negatives: 66.0000 - false_positives: 43.0000 - true_negatives: 1013.0000 - true_positives: 286.0000 - val_loss: 1.5441 - val_Accuracy: 0.5455 - val_false_negatives: 41.0000 - val_false_positives: 31.0000 - val_true_negatives: 233.0000 - val_true_positives: 47.0000\n",
            "Epoch 105/200\n",
            "44/44 [==============================] - 2s 34ms/step - loss: 0.4270 - Accuracy: 0.8448 - false_negatives: 67.0000 - false_positives: 40.0000 - true_negatives: 1004.0000 - true_positives: 281.0000 - val_loss: 1.6163 - val_Accuracy: 0.5795 - val_false_negatives: 38.0000 - val_false_positives: 32.0000 - val_true_negatives: 232.0000 - val_true_positives: 50.0000\n",
            "Epoch 106/200\n",
            "44/44 [==============================] - 2s 35ms/step - loss: 0.3965 - Accuracy: 0.8391 - false_negatives: 66.0000 - false_positives: 44.0000 - true_negatives: 1000.0000 - true_positives: 282.0000 - val_loss: 1.6549 - val_Accuracy: 0.5795 - val_false_negatives: 42.0000 - val_false_positives: 35.0000 - val_true_negatives: 229.0000 - val_true_positives: 46.0000\n",
            "Epoch 107/200\n",
            "44/44 [==============================] - 1s 34ms/step - loss: 0.5019 - Accuracy: 0.7902 - false_negatives: 81.0000 - false_positives: 57.0000 - true_negatives: 987.0000 - true_positives: 267.0000 - val_loss: 1.4164 - val_Accuracy: 0.5568 - val_false_negatives: 41.0000 - val_false_positives: 29.0000 - val_true_negatives: 235.0000 - val_true_positives: 47.0000\n",
            "Epoch 108/200\n",
            "44/44 [==============================] - 2s 34ms/step - loss: 0.3920 - Accuracy: 0.8305 - false_negatives: 70.0000 - false_positives: 42.0000 - true_negatives: 1002.0000 - true_positives: 278.0000 - val_loss: 1.4549 - val_Accuracy: 0.5682 - val_false_negatives: 39.0000 - val_false_positives: 30.0000 - val_true_negatives: 234.0000 - val_true_positives: 49.0000\n",
            "Epoch 109/200\n",
            "44/44 [==============================] - 1s 34ms/step - loss: 0.4117 - Accuracy: 0.8362 - false_negatives: 66.0000 - false_positives: 48.0000 - true_negatives: 996.0000 - true_positives: 282.0000 - val_loss: 1.5216 - val_Accuracy: 0.6136 - val_false_negatives: 40.0000 - val_false_positives: 31.0000 - val_true_negatives: 233.0000 - val_true_positives: 48.0000\n",
            "Epoch 110/200\n",
            "44/44 [==============================] - 2s 34ms/step - loss: 0.4094 - Accuracy: 0.8420 - false_negatives: 64.0000 - false_positives: 42.0000 - true_negatives: 1002.0000 - true_positives: 284.0000 - val_loss: 1.3638 - val_Accuracy: 0.6023 - val_false_negatives: 39.0000 - val_false_positives: 27.0000 - val_true_negatives: 237.0000 - val_true_positives: 49.0000\n",
            "Epoch 111/200\n",
            "44/44 [==============================] - 2s 34ms/step - loss: 0.4296 - Accuracy: 0.8247 - false_negatives: 74.0000 - false_positives: 45.0000 - true_negatives: 999.0000 - true_positives: 274.0000 - val_loss: 1.3418 - val_Accuracy: 0.5568 - val_false_negatives: 40.0000 - val_false_positives: 31.0000 - val_true_negatives: 233.0000 - val_true_positives: 48.0000\n",
            "Epoch 112/200\n",
            "44/44 [==============================] - 2s 35ms/step - loss: 0.4362 - Accuracy: 0.8477 - false_negatives: 65.0000 - false_positives: 46.0000 - true_negatives: 998.0000 - true_positives: 283.0000 - val_loss: 1.7700 - val_Accuracy: 0.5795 - val_false_negatives: 40.0000 - val_false_positives: 28.0000 - val_true_negatives: 236.0000 - val_true_positives: 48.0000\n",
            "Epoch 113/200\n",
            "44/44 [==============================] - 1s 34ms/step - loss: 0.5386 - Accuracy: 0.7845 - false_negatives: 85.0000 - false_positives: 56.0000 - true_negatives: 988.0000 - true_positives: 263.0000 - val_loss: 1.6505 - val_Accuracy: 0.5682 - val_false_negatives: 40.0000 - val_false_positives: 33.0000 - val_true_negatives: 231.0000 - val_true_positives: 48.0000\n",
            "Epoch 114/200\n",
            "44/44 [==============================] - 2s 35ms/step - loss: 0.3785 - Accuracy: 0.8506 - false_negatives: 57.0000 - false_positives: 42.0000 - true_negatives: 1002.0000 - true_positives: 291.0000 - val_loss: 1.5938 - val_Accuracy: 0.5795 - val_false_negatives: 37.0000 - val_false_positives: 29.0000 - val_true_negatives: 235.0000 - val_true_positives: 51.0000\n",
            "Epoch 115/200\n",
            "44/44 [==============================] - 1s 34ms/step - loss: 0.4217 - Accuracy: 0.8276 - false_negatives: 69.0000 - false_positives: 47.0000 - true_negatives: 997.0000 - true_positives: 279.0000 - val_loss: 1.7858 - val_Accuracy: 0.5795 - val_false_negatives: 39.0000 - val_false_positives: 35.0000 - val_true_negatives: 229.0000 - val_true_positives: 49.0000\n",
            "Epoch 116/200\n",
            "44/44 [==============================] - 2s 35ms/step - loss: 0.3494 - Accuracy: 0.8563 - false_negatives: 61.0000 - false_positives: 35.0000 - true_negatives: 1009.0000 - true_positives: 287.0000 - val_loss: 1.9638 - val_Accuracy: 0.5682 - val_false_negatives: 40.0000 - val_false_positives: 30.0000 - val_true_negatives: 234.0000 - val_true_positives: 48.0000\n",
            "Epoch 117/200\n",
            "44/44 [==============================] - 1s 34ms/step - loss: 0.3777 - Accuracy: 0.8391 - false_negatives: 61.0000 - false_positives: 43.0000 - true_negatives: 1001.0000 - true_positives: 287.0000 - val_loss: 1.5698 - val_Accuracy: 0.6023 - val_false_negatives: 40.0000 - val_false_positives: 27.0000 - val_true_negatives: 237.0000 - val_true_positives: 48.0000\n",
            "Epoch 118/200\n",
            "44/44 [==============================] - 2s 34ms/step - loss: 0.3634 - Accuracy: 0.8592 - false_negatives: 59.0000 - false_positives: 39.0000 - true_negatives: 1005.0000 - true_positives: 289.0000 - val_loss: 1.4773 - val_Accuracy: 0.5341 - val_false_negatives: 48.0000 - val_false_positives: 30.0000 - val_true_negatives: 234.0000 - val_true_positives: 40.0000\n",
            "Epoch 119/200\n",
            "44/44 [==============================] - 2s 34ms/step - loss: 0.4342 - Accuracy: 0.8247 - false_negatives: 68.0000 - false_positives: 50.0000 - true_negatives: 994.0000 - true_positives: 280.0000 - val_loss: 1.5789 - val_Accuracy: 0.5795 - val_false_negatives: 39.0000 - val_false_positives: 31.0000 - val_true_negatives: 233.0000 - val_true_positives: 49.0000\n",
            "Epoch 120/200\n",
            "44/44 [==============================] - 2s 35ms/step - loss: 0.3474 - Accuracy: 0.8563 - false_negatives: 59.0000 - false_positives: 39.0000 - true_negatives: 1005.0000 - true_positives: 289.0000 - val_loss: 1.7214 - val_Accuracy: 0.5341 - val_false_negatives: 41.0000 - val_false_positives: 39.0000 - val_true_negatives: 225.0000 - val_true_positives: 47.0000\n",
            "Epoch 121/200\n",
            "44/44 [==============================] - 2s 34ms/step - loss: 0.3845 - Accuracy: 0.8448 - false_negatives: 62.0000 - false_positives: 43.0000 - true_negatives: 1001.0000 - true_positives: 286.0000 - val_loss: 1.6048 - val_Accuracy: 0.6250 - val_false_negatives: 37.0000 - val_false_positives: 31.0000 - val_true_negatives: 233.0000 - val_true_positives: 51.0000\n",
            "Epoch 122/200\n",
            "44/44 [==============================] - 2s 34ms/step - loss: 0.4234 - Accuracy: 0.8448 - false_negatives: 59.0000 - false_positives: 41.0000 - true_negatives: 1003.0000 - true_positives: 289.0000 - val_loss: 1.6070 - val_Accuracy: 0.5795 - val_false_negatives: 37.0000 - val_false_positives: 34.0000 - val_true_negatives: 230.0000 - val_true_positives: 51.0000\n",
            "Epoch 123/200\n",
            "44/44 [==============================] - 2s 34ms/step - loss: 0.3745 - Accuracy: 0.8506 - false_negatives: 58.0000 - false_positives: 42.0000 - true_negatives: 1002.0000 - true_positives: 290.0000 - val_loss: 1.4149 - val_Accuracy: 0.5795 - val_false_negatives: 38.0000 - val_false_positives: 31.0000 - val_true_negatives: 233.0000 - val_true_positives: 50.0000\n",
            "Epoch 124/200\n",
            "44/44 [==============================] - 2s 34ms/step - loss: 0.3416 - Accuracy: 0.8534 - false_negatives: 60.0000 - false_positives: 39.0000 - true_negatives: 1005.0000 - true_positives: 288.0000 - val_loss: 1.7347 - val_Accuracy: 0.5795 - val_false_negatives: 38.0000 - val_false_positives: 34.0000 - val_true_negatives: 230.0000 - val_true_positives: 50.0000\n",
            "Epoch 125/200\n",
            "44/44 [==============================] - 2s 35ms/step - loss: 0.3309 - Accuracy: 0.8793 - false_negatives: 48.0000 - false_positives: 30.0000 - true_negatives: 1014.0000 - true_positives: 300.0000 - val_loss: 1.8379 - val_Accuracy: 0.5909 - val_false_negatives: 41.0000 - val_false_positives: 31.0000 - val_true_negatives: 233.0000 - val_true_positives: 47.0000\n",
            "Epoch 126/200\n",
            "44/44 [==============================] - 1s 34ms/step - loss: 0.3338 - Accuracy: 0.8736 - false_negatives: 51.0000 - false_positives: 36.0000 - true_negatives: 1008.0000 - true_positives: 297.0000 - val_loss: 1.5910 - val_Accuracy: 0.5455 - val_false_negatives: 43.0000 - val_false_positives: 31.0000 - val_true_negatives: 233.0000 - val_true_positives: 45.0000\n",
            "Epoch 127/200\n",
            "44/44 [==============================] - 1s 33ms/step - loss: 0.3468 - Accuracy: 0.8707 - false_negatives: 53.0000 - false_positives: 35.0000 - true_negatives: 1009.0000 - true_positives: 295.0000 - val_loss: 1.8185 - val_Accuracy: 0.5795 - val_false_negatives: 40.0000 - val_false_positives: 33.0000 - val_true_negatives: 231.0000 - val_true_positives: 48.0000\n",
            "Epoch 128/200\n",
            "44/44 [==============================] - 1s 33ms/step - loss: 0.3277 - Accuracy: 0.8764 - false_negatives: 50.0000 - false_positives: 34.0000 - true_negatives: 1010.0000 - true_positives: 298.0000 - val_loss: 1.8825 - val_Accuracy: 0.5455 - val_false_negatives: 42.0000 - val_false_positives: 30.0000 - val_true_negatives: 234.0000 - val_true_positives: 46.0000\n",
            "Epoch 129/200\n",
            "44/44 [==============================] - 1s 33ms/step - loss: 0.3986 - Accuracy: 0.8764 - false_negatives: 50.0000 - false_positives: 31.0000 - true_negatives: 1013.0000 - true_positives: 298.0000 - val_loss: 1.7117 - val_Accuracy: 0.5682 - val_false_negatives: 39.0000 - val_false_positives: 36.0000 - val_true_negatives: 228.0000 - val_true_positives: 49.0000\n",
            "Epoch 130/200\n",
            "44/44 [==============================] - 1s 33ms/step - loss: 0.3321 - Accuracy: 0.8764 - false_negatives: 46.0000 - false_positives: 39.0000 - true_negatives: 1005.0000 - true_positives: 302.0000 - val_loss: 1.6675 - val_Accuracy: 0.5455 - val_false_negatives: 42.0000 - val_false_positives: 34.0000 - val_true_negatives: 230.0000 - val_true_positives: 46.0000\n",
            "Epoch 131/200\n",
            "44/44 [==============================] - 1s 34ms/step - loss: 0.2571 - Accuracy: 0.9080 - false_negatives: 37.0000 - false_positives: 25.0000 - true_negatives: 1019.0000 - true_positives: 311.0000 - val_loss: 2.1955 - val_Accuracy: 0.5568 - val_false_negatives: 42.0000 - val_false_positives: 37.0000 - val_true_negatives: 227.0000 - val_true_positives: 46.0000\n",
            "Epoch 132/200\n",
            "44/44 [==============================] - 2s 34ms/step - loss: 0.2862 - Accuracy: 0.8851 - false_negatives: 42.0000 - false_positives: 32.0000 - true_negatives: 1012.0000 - true_positives: 306.0000 - val_loss: 1.8569 - val_Accuracy: 0.4773 - val_false_negatives: 46.0000 - val_false_positives: 38.0000 - val_true_negatives: 226.0000 - val_true_positives: 42.0000\n",
            "Epoch 133/200\n",
            "44/44 [==============================] - 2s 37ms/step - loss: 0.4269 - Accuracy: 0.8333 - false_negatives: 67.0000 - false_positives: 46.0000 - true_negatives: 998.0000 - true_positives: 281.0000 - val_loss: 1.4288 - val_Accuracy: 0.5682 - val_false_negatives: 39.0000 - val_false_positives: 33.0000 - val_true_negatives: 231.0000 - val_true_positives: 49.0000\n",
            "Epoch 134/200\n",
            "44/44 [==============================] - 2s 34ms/step - loss: 0.3401 - Accuracy: 0.8793 - false_negatives: 50.0000 - false_positives: 31.0000 - true_negatives: 1013.0000 - true_positives: 298.0000 - val_loss: 2.0691 - val_Accuracy: 0.5568 - val_false_negatives: 42.0000 - val_false_positives: 33.0000 - val_true_negatives: 231.0000 - val_true_positives: 46.0000\n",
            "Epoch 135/200\n",
            "44/44 [==============================] - 2s 34ms/step - loss: 0.3036 - Accuracy: 0.8879 - false_negatives: 47.0000 - false_positives: 35.0000 - true_negatives: 1009.0000 - true_positives: 301.0000 - val_loss: 1.8715 - val_Accuracy: 0.5795 - val_false_negatives: 38.0000 - val_false_positives: 34.0000 - val_true_negatives: 230.0000 - val_true_positives: 50.0000\n",
            "Epoch 136/200\n",
            "44/44 [==============================] - 1s 33ms/step - loss: 0.2778 - Accuracy: 0.8879 - false_negatives: 46.0000 - false_positives: 31.0000 - true_negatives: 1013.0000 - true_positives: 302.0000 - val_loss: 1.6746 - val_Accuracy: 0.6023 - val_false_negatives: 37.0000 - val_false_positives: 32.0000 - val_true_negatives: 232.0000 - val_true_positives: 51.0000\n",
            "Epoch 137/200\n",
            "44/44 [==============================] - 2s 34ms/step - loss: 0.3130 - Accuracy: 0.8793 - false_negatives: 49.0000 - false_positives: 34.0000 - true_negatives: 1010.0000 - true_positives: 299.0000 - val_loss: 1.7818 - val_Accuracy: 0.5682 - val_false_negatives: 41.0000 - val_false_positives: 33.0000 - val_true_negatives: 231.0000 - val_true_positives: 47.0000\n",
            "Epoch 138/200\n",
            "44/44 [==============================] - 2s 34ms/step - loss: 0.2954 - Accuracy: 0.8879 - false_negatives: 47.0000 - false_positives: 35.0000 - true_negatives: 1009.0000 - true_positives: 301.0000 - val_loss: 1.9021 - val_Accuracy: 0.5682 - val_false_negatives: 41.0000 - val_false_positives: 33.0000 - val_true_negatives: 231.0000 - val_true_positives: 47.0000\n",
            "Epoch 139/200\n",
            "44/44 [==============================] - 2s 34ms/step - loss: 0.2810 - Accuracy: 0.8822 - false_negatives: 48.0000 - false_positives: 36.0000 - true_negatives: 1008.0000 - true_positives: 300.0000 - val_loss: 1.8561 - val_Accuracy: 0.5795 - val_false_negatives: 39.0000 - val_false_positives: 37.0000 - val_true_negatives: 227.0000 - val_true_positives: 49.0000\n",
            "Epoch 140/200\n",
            "44/44 [==============================] - 2s 34ms/step - loss: 0.2403 - Accuracy: 0.8994 - false_negatives: 45.0000 - false_positives: 28.0000 - true_negatives: 1016.0000 - true_positives: 303.0000 - val_loss: 2.5849 - val_Accuracy: 0.6136 - val_false_negatives: 35.0000 - val_false_positives: 32.0000 - val_true_negatives: 232.0000 - val_true_positives: 53.0000\n",
            "Epoch 141/200\n",
            "44/44 [==============================] - 2s 35ms/step - loss: 0.3289 - Accuracy: 0.8822 - false_negatives: 45.0000 - false_positives: 34.0000 - true_negatives: 1010.0000 - true_positives: 303.0000 - val_loss: 1.9065 - val_Accuracy: 0.6136 - val_false_negatives: 34.0000 - val_false_positives: 31.0000 - val_true_negatives: 233.0000 - val_true_positives: 54.0000\n",
            "Epoch 142/200\n",
            "44/44 [==============================] - 2s 34ms/step - loss: 0.3294 - Accuracy: 0.8764 - false_negatives: 47.0000 - false_positives: 35.0000 - true_negatives: 1009.0000 - true_positives: 301.0000 - val_loss: 2.0308 - val_Accuracy: 0.5568 - val_false_negatives: 40.0000 - val_false_positives: 37.0000 - val_true_negatives: 227.0000 - val_true_positives: 48.0000\n",
            "Epoch 143/200\n",
            "44/44 [==============================] - 2s 35ms/step - loss: 0.3253 - Accuracy: 0.8736 - false_negatives: 52.0000 - false_positives: 35.0000 - true_negatives: 1009.0000 - true_positives: 296.0000 - val_loss: 1.7481 - val_Accuracy: 0.5795 - val_false_negatives: 38.0000 - val_false_positives: 35.0000 - val_true_negatives: 229.0000 - val_true_positives: 50.0000\n",
            "Epoch 144/200\n",
            "44/44 [==============================] - 2s 35ms/step - loss: 0.3077 - Accuracy: 0.8678 - false_negatives: 53.0000 - false_positives: 35.0000 - true_negatives: 1009.0000 - true_positives: 295.0000 - val_loss: 1.9452 - val_Accuracy: 0.6023 - val_false_negatives: 36.0000 - val_false_positives: 34.0000 - val_true_negatives: 230.0000 - val_true_positives: 52.0000\n",
            "Epoch 145/200\n",
            "44/44 [==============================] - 2s 35ms/step - loss: 0.2131 - Accuracy: 0.9253 - false_negatives: 29.0000 - false_positives: 23.0000 - true_negatives: 1021.0000 - true_positives: 319.0000 - val_loss: 2.6178 - val_Accuracy: 0.5568 - val_false_negatives: 39.0000 - val_false_positives: 36.0000 - val_true_negatives: 228.0000 - val_true_positives: 49.0000\n",
            "Epoch 146/200\n",
            "44/44 [==============================] - 2s 35ms/step - loss: 0.3559 - Accuracy: 0.8621 - false_negatives: 51.0000 - false_positives: 34.0000 - true_negatives: 1010.0000 - true_positives: 297.0000 - val_loss: 2.0741 - val_Accuracy: 0.5682 - val_false_negatives: 41.0000 - val_false_positives: 36.0000 - val_true_negatives: 228.0000 - val_true_positives: 47.0000\n",
            "Epoch 147/200\n",
            "44/44 [==============================] - 2s 35ms/step - loss: 0.2852 - Accuracy: 0.8822 - false_negatives: 50.0000 - false_positives: 33.0000 - true_negatives: 1011.0000 - true_positives: 298.0000 - val_loss: 1.8744 - val_Accuracy: 0.5909 - val_false_negatives: 37.0000 - val_false_positives: 34.0000 - val_true_negatives: 230.0000 - val_true_positives: 51.0000\n",
            "Epoch 148/200\n",
            "44/44 [==============================] - 2s 35ms/step - loss: 0.2525 - Accuracy: 0.8908 - false_negatives: 43.0000 - false_positives: 33.0000 - true_negatives: 1011.0000 - true_positives: 305.0000 - val_loss: 2.1569 - val_Accuracy: 0.6136 - val_false_negatives: 35.0000 - val_false_positives: 30.0000 - val_true_negatives: 234.0000 - val_true_positives: 53.0000\n",
            "Epoch 149/200\n",
            "44/44 [==============================] - 2s 35ms/step - loss: 0.2721 - Accuracy: 0.8851 - false_negatives: 44.0000 - false_positives: 32.0000 - true_negatives: 1012.0000 - true_positives: 304.0000 - val_loss: 2.0331 - val_Accuracy: 0.6250 - val_false_negatives: 33.0000 - val_false_positives: 30.0000 - val_true_negatives: 234.0000 - val_true_positives: 55.0000\n",
            "Epoch 150/200\n",
            "44/44 [==============================] - 2s 35ms/step - loss: 0.2651 - Accuracy: 0.9023 - false_negatives: 36.0000 - false_positives: 30.0000 - true_negatives: 1014.0000 - true_positives: 312.0000 - val_loss: 1.9156 - val_Accuracy: 0.5795 - val_false_negatives: 37.0000 - val_false_positives: 34.0000 - val_true_negatives: 230.0000 - val_true_positives: 51.0000\n",
            "Epoch 151/200\n",
            "44/44 [==============================] - 2s 35ms/step - loss: 0.2119 - Accuracy: 0.9282 - false_negatives: 31.0000 - false_positives: 21.0000 - true_negatives: 1023.0000 - true_positives: 317.0000 - val_loss: 2.4696 - val_Accuracy: 0.5795 - val_false_negatives: 38.0000 - val_false_positives: 36.0000 - val_true_negatives: 228.0000 - val_true_positives: 50.0000\n",
            "Epoch 152/200\n",
            "44/44 [==============================] - 2s 34ms/step - loss: 0.2148 - Accuracy: 0.9138 - false_negatives: 35.0000 - false_positives: 27.0000 - true_negatives: 1017.0000 - true_positives: 313.0000 - val_loss: 2.2951 - val_Accuracy: 0.5682 - val_false_negatives: 40.0000 - val_false_positives: 36.0000 - val_true_negatives: 228.0000 - val_true_positives: 48.0000\n",
            "Epoch 153/200\n",
            "44/44 [==============================] - 2s 35ms/step - loss: 0.2146 - Accuracy: 0.9253 - false_negatives: 26.0000 - false_positives: 22.0000 - true_negatives: 1022.0000 - true_positives: 322.0000 - val_loss: 2.8558 - val_Accuracy: 0.6023 - val_false_negatives: 35.0000 - val_false_positives: 34.0000 - val_true_negatives: 230.0000 - val_true_positives: 53.0000\n",
            "Epoch 154/200\n",
            "44/44 [==============================] - 2s 35ms/step - loss: 0.2010 - Accuracy: 0.9253 - false_negatives: 27.0000 - false_positives: 22.0000 - true_negatives: 1022.0000 - true_positives: 321.0000 - val_loss: 3.0325 - val_Accuracy: 0.5909 - val_false_negatives: 36.0000 - val_false_positives: 35.0000 - val_true_negatives: 229.0000 - val_true_positives: 52.0000\n",
            "Epoch 155/200\n",
            "44/44 [==============================] - 2s 35ms/step - loss: 0.2471 - Accuracy: 0.9080 - false_negatives: 34.0000 - false_positives: 32.0000 - true_negatives: 1012.0000 - true_positives: 314.0000 - val_loss: 2.5874 - val_Accuracy: 0.5227 - val_false_negatives: 42.0000 - val_false_positives: 39.0000 - val_true_negatives: 225.0000 - val_true_positives: 46.0000\n",
            "Epoch 156/200\n",
            "44/44 [==============================] - 2s 35ms/step - loss: 0.4046 - Accuracy: 0.8621 - false_negatives: 52.0000 - false_positives: 40.0000 - true_negatives: 1004.0000 - true_positives: 296.0000 - val_loss: 2.1774 - val_Accuracy: 0.5568 - val_false_negatives: 39.0000 - val_false_positives: 36.0000 - val_true_negatives: 228.0000 - val_true_positives: 49.0000\n",
            "Epoch 157/200\n",
            "44/44 [==============================] - 2s 35ms/step - loss: 0.2657 - Accuracy: 0.9109 - false_negatives: 33.0000 - false_positives: 25.0000 - true_negatives: 1019.0000 - true_positives: 315.0000 - val_loss: 2.0004 - val_Accuracy: 0.5341 - val_false_negatives: 42.0000 - val_false_positives: 35.0000 - val_true_negatives: 229.0000 - val_true_positives: 46.0000\n",
            "Epoch 158/200\n",
            "44/44 [==============================] - 2s 34ms/step - loss: 0.2152 - Accuracy: 0.8966 - false_negatives: 39.0000 - false_positives: 33.0000 - true_negatives: 1011.0000 - true_positives: 309.0000 - val_loss: 2.6519 - val_Accuracy: 0.5909 - val_false_negatives: 37.0000 - val_false_positives: 33.0000 - val_true_negatives: 231.0000 - val_true_positives: 51.0000\n",
            "Epoch 159/200\n",
            "44/44 [==============================] - 2s 34ms/step - loss: 0.1970 - Accuracy: 0.9138 - false_negatives: 32.0000 - false_positives: 25.0000 - true_negatives: 1019.0000 - true_positives: 316.0000 - val_loss: 2.7895 - val_Accuracy: 0.5909 - val_false_negatives: 37.0000 - val_false_positives: 35.0000 - val_true_negatives: 229.0000 - val_true_positives: 51.0000\n",
            "Epoch 160/200\n",
            "44/44 [==============================] - 2s 34ms/step - loss: 0.2255 - Accuracy: 0.9167 - false_negatives: 31.0000 - false_positives: 24.0000 - true_negatives: 1020.0000 - true_positives: 317.0000 - val_loss: 2.4465 - val_Accuracy: 0.5795 - val_false_negatives: 39.0000 - val_false_positives: 35.0000 - val_true_negatives: 229.0000 - val_true_positives: 49.0000\n",
            "Epoch 161/200\n",
            "44/44 [==============================] - 2s 35ms/step - loss: 0.2578 - Accuracy: 0.9023 - false_negatives: 37.0000 - false_positives: 26.0000 - true_negatives: 1018.0000 - true_positives: 311.0000 - val_loss: 2.1780 - val_Accuracy: 0.5909 - val_false_negatives: 38.0000 - val_false_positives: 34.0000 - val_true_negatives: 230.0000 - val_true_positives: 50.0000\n",
            "Epoch 162/200\n",
            "44/44 [==============================] - 2s 35ms/step - loss: 0.2750 - Accuracy: 0.9167 - false_negatives: 35.0000 - false_positives: 27.0000 - true_negatives: 1017.0000 - true_positives: 313.0000 - val_loss: 2.6314 - val_Accuracy: 0.6136 - val_false_negatives: 35.0000 - val_false_positives: 33.0000 - val_true_negatives: 231.0000 - val_true_positives: 53.0000\n",
            "Epoch 163/200\n",
            "44/44 [==============================] - 2s 35ms/step - loss: 0.2424 - Accuracy: 0.9224 - false_negatives: 33.0000 - false_positives: 24.0000 - true_negatives: 1020.0000 - true_positives: 315.0000 - val_loss: 2.0660 - val_Accuracy: 0.5909 - val_false_negatives: 36.0000 - val_false_positives: 32.0000 - val_true_negatives: 232.0000 - val_true_positives: 52.0000\n",
            "Epoch 164/200\n",
            "44/44 [==============================] - 2s 35ms/step - loss: 0.1927 - Accuracy: 0.9282 - false_negatives: 29.0000 - false_positives: 22.0000 - true_negatives: 1022.0000 - true_positives: 319.0000 - val_loss: 2.1930 - val_Accuracy: 0.5455 - val_false_negatives: 40.0000 - val_false_positives: 37.0000 - val_true_negatives: 227.0000 - val_true_positives: 48.0000\n",
            "Epoch 165/200\n",
            "44/44 [==============================] - 2s 34ms/step - loss: 0.2244 - Accuracy: 0.9109 - false_negatives: 33.0000 - false_positives: 26.0000 - true_negatives: 1018.0000 - true_positives: 315.0000 - val_loss: 1.9819 - val_Accuracy: 0.6023 - val_false_negatives: 36.0000 - val_false_positives: 27.0000 - val_true_negatives: 237.0000 - val_true_positives: 52.0000\n",
            "Epoch 166/200\n",
            "44/44 [==============================] - 2s 34ms/step - loss: 0.2086 - Accuracy: 0.9339 - false_negatives: 25.0000 - false_positives: 21.0000 - true_negatives: 1023.0000 - true_positives: 323.0000 - val_loss: 2.3414 - val_Accuracy: 0.5909 - val_false_negatives: 37.0000 - val_false_positives: 34.0000 - val_true_negatives: 230.0000 - val_true_positives: 51.0000\n",
            "Epoch 167/200\n",
            "44/44 [==============================] - 2s 34ms/step - loss: 0.2690 - Accuracy: 0.9023 - false_negatives: 36.0000 - false_positives: 31.0000 - true_negatives: 1013.0000 - true_positives: 312.0000 - val_loss: 2.3678 - val_Accuracy: 0.5455 - val_false_negatives: 40.0000 - val_false_positives: 39.0000 - val_true_negatives: 225.0000 - val_true_positives: 48.0000\n",
            "Epoch 168/200\n",
            "44/44 [==============================] - 2s 34ms/step - loss: 0.2418 - Accuracy: 0.8879 - false_negatives: 39.0000 - false_positives: 33.0000 - true_negatives: 1011.0000 - true_positives: 309.0000 - val_loss: 2.7202 - val_Accuracy: 0.5568 - val_false_negatives: 39.0000 - val_false_positives: 38.0000 - val_true_negatives: 226.0000 - val_true_positives: 49.0000\n",
            "Epoch 169/200\n",
            "44/44 [==============================] - 1s 34ms/step - loss: 0.2003 - Accuracy: 0.9310 - false_negatives: 30.0000 - false_positives: 17.0000 - true_negatives: 1027.0000 - true_positives: 318.0000 - val_loss: 2.6365 - val_Accuracy: 0.5909 - val_false_negatives: 37.0000 - val_false_positives: 35.0000 - val_true_negatives: 229.0000 - val_true_positives: 51.0000\n",
            "Epoch 170/200\n",
            "44/44 [==============================] - 2s 34ms/step - loss: 0.2711 - Accuracy: 0.8822 - false_negatives: 44.0000 - false_positives: 28.0000 - true_negatives: 1016.0000 - true_positives: 304.0000 - val_loss: 2.4223 - val_Accuracy: 0.5795 - val_false_negatives: 37.0000 - val_false_positives: 35.0000 - val_true_negatives: 229.0000 - val_true_positives: 51.0000\n",
            "Epoch 171/200\n",
            "44/44 [==============================] - 2s 35ms/step - loss: 0.2035 - Accuracy: 0.9253 - false_negatives: 29.0000 - false_positives: 22.0000 - true_negatives: 1022.0000 - true_positives: 319.0000 - val_loss: 2.2815 - val_Accuracy: 0.5909 - val_false_negatives: 37.0000 - val_false_positives: 34.0000 - val_true_negatives: 230.0000 - val_true_positives: 51.0000\n",
            "Epoch 172/200\n",
            "44/44 [==============================] - 2s 34ms/step - loss: 0.1692 - Accuracy: 0.9310 - false_negatives: 28.0000 - false_positives: 20.0000 - true_negatives: 1024.0000 - true_positives: 320.0000 - val_loss: 2.6960 - val_Accuracy: 0.5568 - val_false_negatives: 42.0000 - val_false_positives: 38.0000 - val_true_negatives: 226.0000 - val_true_positives: 46.0000\n",
            "Epoch 173/200\n",
            "44/44 [==============================] - 2s 35ms/step - loss: 0.1891 - Accuracy: 0.9224 - false_negatives: 30.0000 - false_positives: 25.0000 - true_negatives: 1019.0000 - true_positives: 318.0000 - val_loss: 2.7586 - val_Accuracy: 0.5909 - val_false_negatives: 36.0000 - val_false_positives: 36.0000 - val_true_negatives: 228.0000 - val_true_positives: 52.0000\n",
            "Epoch 174/200\n",
            "44/44 [==============================] - 2s 35ms/step - loss: 0.2677 - Accuracy: 0.8994 - false_negatives: 35.0000 - false_positives: 29.0000 - true_negatives: 1015.0000 - true_positives: 313.0000 - val_loss: 2.2035 - val_Accuracy: 0.5795 - val_false_negatives: 37.0000 - val_false_positives: 33.0000 - val_true_negatives: 231.0000 - val_true_positives: 51.0000\n",
            "Epoch 175/200\n",
            "44/44 [==============================] - 1s 34ms/step - loss: 0.2197 - Accuracy: 0.9167 - false_negatives: 30.0000 - false_positives: 26.0000 - true_negatives: 1018.0000 - true_positives: 318.0000 - val_loss: 2.5277 - val_Accuracy: 0.5568 - val_false_negatives: 39.0000 - val_false_positives: 36.0000 - val_true_negatives: 228.0000 - val_true_positives: 49.0000\n",
            "Epoch 176/200\n",
            "44/44 [==============================] - 2s 34ms/step - loss: 0.1668 - Accuracy: 0.9339 - false_negatives: 23.0000 - false_positives: 22.0000 - true_negatives: 1022.0000 - true_positives: 325.0000 - val_loss: 2.7028 - val_Accuracy: 0.5795 - val_false_negatives: 37.0000 - val_false_positives: 36.0000 - val_true_negatives: 228.0000 - val_true_positives: 51.0000\n",
            "Epoch 177/200\n",
            "44/44 [==============================] - 2s 35ms/step - loss: 0.1617 - Accuracy: 0.9397 - false_negatives: 21.0000 - false_positives: 20.0000 - true_negatives: 1024.0000 - true_positives: 327.0000 - val_loss: 2.5334 - val_Accuracy: 0.5341 - val_false_negatives: 42.0000 - val_false_positives: 37.0000 - val_true_negatives: 227.0000 - val_true_positives: 46.0000\n",
            "Epoch 178/200\n",
            "44/44 [==============================] - 2s 34ms/step - loss: 0.1975 - Accuracy: 0.9224 - false_negatives: 28.0000 - false_positives: 24.0000 - true_negatives: 1020.0000 - true_positives: 320.0000 - val_loss: 2.4274 - val_Accuracy: 0.5341 - val_false_negatives: 42.0000 - val_false_positives: 37.0000 - val_true_negatives: 227.0000 - val_true_positives: 46.0000\n",
            "Epoch 179/200\n",
            "44/44 [==============================] - 2s 35ms/step - loss: 0.2120 - Accuracy: 0.9195 - false_negatives: 30.0000 - false_positives: 23.0000 - true_negatives: 1021.0000 - true_positives: 318.0000 - val_loss: 2.0843 - val_Accuracy: 0.5682 - val_false_negatives: 39.0000 - val_false_positives: 35.0000 - val_true_negatives: 229.0000 - val_true_positives: 49.0000\n",
            "Epoch 180/200\n",
            "44/44 [==============================] - 2s 35ms/step - loss: 0.1976 - Accuracy: 0.9253 - false_negatives: 28.0000 - false_positives: 22.0000 - true_negatives: 1022.0000 - true_positives: 320.0000 - val_loss: 2.4540 - val_Accuracy: 0.5568 - val_false_negatives: 40.0000 - val_false_positives: 37.0000 - val_true_negatives: 227.0000 - val_true_positives: 48.0000\n",
            "Epoch 181/200\n",
            "44/44 [==============================] - 2s 34ms/step - loss: 0.2039 - Accuracy: 0.9195 - false_negatives: 31.0000 - false_positives: 26.0000 - true_negatives: 1018.0000 - true_positives: 317.0000 - val_loss: 2.6913 - val_Accuracy: 0.5909 - val_false_negatives: 37.0000 - val_false_positives: 35.0000 - val_true_negatives: 229.0000 - val_true_positives: 51.0000\n",
            "Epoch 182/200\n",
            "44/44 [==============================] - 2s 34ms/step - loss: 0.1865 - Accuracy: 0.9397 - false_negatives: 24.0000 - false_positives: 20.0000 - true_negatives: 1024.0000 - true_positives: 324.0000 - val_loss: 2.3461 - val_Accuracy: 0.5909 - val_false_negatives: 37.0000 - val_false_positives: 36.0000 - val_true_negatives: 228.0000 - val_true_positives: 51.0000\n",
            "Epoch 183/200\n",
            "44/44 [==============================] - 1s 34ms/step - loss: 0.1877 - Accuracy: 0.9253 - false_negatives: 28.0000 - false_positives: 23.0000 - true_negatives: 1021.0000 - true_positives: 320.0000 - val_loss: 2.7215 - val_Accuracy: 0.5795 - val_false_negatives: 37.0000 - val_false_positives: 36.0000 - val_true_negatives: 228.0000 - val_true_positives: 51.0000\n",
            "Epoch 184/200\n",
            "44/44 [==============================] - 2s 34ms/step - loss: 0.2114 - Accuracy: 0.9195 - false_negatives: 31.0000 - false_positives: 25.0000 - true_negatives: 1019.0000 - true_positives: 317.0000 - val_loss: 2.3404 - val_Accuracy: 0.6023 - val_false_negatives: 37.0000 - val_false_positives: 33.0000 - val_true_negatives: 231.0000 - val_true_positives: 51.0000\n",
            "Epoch 185/200\n",
            "44/44 [==============================] - 2s 35ms/step - loss: 0.1726 - Accuracy: 0.9425 - false_negatives: 24.0000 - false_positives: 19.0000 - true_negatives: 1025.0000 - true_positives: 324.0000 - val_loss: 2.3095 - val_Accuracy: 0.5909 - val_false_negatives: 38.0000 - val_false_positives: 34.0000 - val_true_negatives: 230.0000 - val_true_positives: 50.0000\n",
            "Epoch 186/200\n",
            "44/44 [==============================] - 2s 36ms/step - loss: 0.2497 - Accuracy: 0.8937 - false_negatives: 40.0000 - false_positives: 31.0000 - true_negatives: 1013.0000 - true_positives: 308.0000 - val_loss: 2.2772 - val_Accuracy: 0.6136 - val_false_negatives: 35.0000 - val_false_positives: 32.0000 - val_true_negatives: 232.0000 - val_true_positives: 53.0000\n",
            "Epoch 187/200\n",
            "44/44 [==============================] - 2s 34ms/step - loss: 0.1920 - Accuracy: 0.9368 - false_negatives: 25.0000 - false_positives: 21.0000 - true_negatives: 1023.0000 - true_positives: 323.0000 - val_loss: 2.3564 - val_Accuracy: 0.6364 - val_false_negatives: 32.0000 - val_false_positives: 32.0000 - val_true_negatives: 232.0000 - val_true_positives: 56.0000\n",
            "Epoch 188/200\n",
            "44/44 [==============================] - 2s 35ms/step - loss: 0.1768 - Accuracy: 0.9397 - false_negatives: 24.0000 - false_positives: 17.0000 - true_negatives: 1027.0000 - true_positives: 324.0000 - val_loss: 2.6250 - val_Accuracy: 0.6023 - val_false_negatives: 35.0000 - val_false_positives: 35.0000 - val_true_negatives: 229.0000 - val_true_positives: 53.0000\n",
            "Epoch 189/200\n",
            "44/44 [==============================] - 2s 35ms/step - loss: 0.3110 - Accuracy: 0.8822 - false_negatives: 44.0000 - false_positives: 35.0000 - true_negatives: 1009.0000 - true_positives: 304.0000 - val_loss: 2.1254 - val_Accuracy: 0.5795 - val_false_negatives: 37.0000 - val_false_positives: 33.0000 - val_true_negatives: 231.0000 - val_true_positives: 51.0000\n",
            "Epoch 190/200\n",
            "44/44 [==============================] - 2s 36ms/step - loss: 0.2072 - Accuracy: 0.9224 - false_negatives: 30.0000 - false_positives: 25.0000 - true_negatives: 1019.0000 - true_positives: 318.0000 - val_loss: 2.2504 - val_Accuracy: 0.6023 - val_false_negatives: 36.0000 - val_false_positives: 34.0000 - val_true_negatives: 230.0000 - val_true_positives: 52.0000\n",
            "Epoch 191/200\n",
            "44/44 [==============================] - 2s 35ms/step - loss: 0.1472 - Accuracy: 0.9425 - false_negatives: 21.0000 - false_positives: 20.0000 - true_negatives: 1024.0000 - true_positives: 327.0000 - val_loss: 2.2273 - val_Accuracy: 0.5909 - val_false_negatives: 37.0000 - val_false_positives: 30.0000 - val_true_negatives: 234.0000 - val_true_positives: 51.0000\n",
            "Epoch 192/200\n",
            "44/44 [==============================] - 2s 36ms/step - loss: 0.1290 - Accuracy: 0.9483 - false_negatives: 20.0000 - false_positives: 15.0000 - true_negatives: 1029.0000 - true_positives: 328.0000 - val_loss: 2.6999 - val_Accuracy: 0.5682 - val_false_negatives: 40.0000 - val_false_positives: 35.0000 - val_true_negatives: 229.0000 - val_true_positives: 48.0000\n",
            "Epoch 193/200\n",
            "44/44 [==============================] - 2s 35ms/step - loss: 0.1383 - Accuracy: 0.9397 - false_negatives: 25.0000 - false_positives: 17.0000 - true_negatives: 1027.0000 - true_positives: 323.0000 - val_loss: 2.9177 - val_Accuracy: 0.5455 - val_false_negatives: 41.0000 - val_false_positives: 40.0000 - val_true_negatives: 224.0000 - val_true_positives: 47.0000\n",
            "Epoch 194/200\n",
            "44/44 [==============================] - 2s 35ms/step - loss: 0.1205 - Accuracy: 0.9598 - false_negatives: 15.0000 - false_positives: 14.0000 - true_negatives: 1030.0000 - true_positives: 333.0000 - val_loss: 3.2402 - val_Accuracy: 0.6023 - val_false_negatives: 36.0000 - val_false_positives: 35.0000 - val_true_negatives: 229.0000 - val_true_positives: 52.0000\n",
            "Epoch 195/200\n",
            "44/44 [==============================] - 2s 36ms/step - loss: 0.1536 - Accuracy: 0.9454 - false_negatives: 22.0000 - false_positives: 18.0000 - true_negatives: 1026.0000 - true_positives: 326.0000 - val_loss: 2.9489 - val_Accuracy: 0.6023 - val_false_negatives: 36.0000 - val_false_positives: 34.0000 - val_true_negatives: 230.0000 - val_true_positives: 52.0000\n",
            "Epoch 196/200\n",
            "44/44 [==============================] - 2s 34ms/step - loss: 0.1998 - Accuracy: 0.9339 - false_negatives: 24.0000 - false_positives: 22.0000 - true_negatives: 1022.0000 - true_positives: 324.0000 - val_loss: 2.6586 - val_Accuracy: 0.5341 - val_false_negatives: 42.0000 - val_false_positives: 41.0000 - val_true_negatives: 223.0000 - val_true_positives: 46.0000\n",
            "Epoch 197/200\n",
            "44/44 [==============================] - 2s 36ms/step - loss: 0.1381 - Accuracy: 0.9540 - false_negatives: 18.0000 - false_positives: 15.0000 - true_negatives: 1029.0000 - true_positives: 330.0000 - val_loss: 2.8575 - val_Accuracy: 0.5568 - val_false_negatives: 40.0000 - val_false_positives: 37.0000 - val_true_negatives: 227.0000 - val_true_positives: 48.0000\n",
            "Epoch 198/200\n",
            "44/44 [==============================] - 2s 34ms/step - loss: 0.0950 - Accuracy: 0.9713 - false_negatives: 13.0000 - false_positives: 9.0000 - true_negatives: 1035.0000 - true_positives: 335.0000 - val_loss: 3.1902 - val_Accuracy: 0.5341 - val_false_negatives: 41.0000 - val_false_positives: 40.0000 - val_true_negatives: 224.0000 - val_true_positives: 47.0000\n",
            "Epoch 199/200\n",
            "44/44 [==============================] - 2s 35ms/step - loss: 0.2015 - Accuracy: 0.9253 - false_negatives: 28.0000 - false_positives: 24.0000 - true_negatives: 1020.0000 - true_positives: 320.0000 - val_loss: 2.9310 - val_Accuracy: 0.6023 - val_false_negatives: 35.0000 - val_false_positives: 34.0000 - val_true_negatives: 230.0000 - val_true_positives: 53.0000\n",
            "Epoch 200/200\n",
            "44/44 [==============================] - 2s 35ms/step - loss: 0.2366 - Accuracy: 0.9224 - false_negatives: 31.0000 - false_positives: 22.0000 - true_negatives: 1022.0000 - true_positives: 317.0000 - val_loss: 1.9770 - val_Accuracy: 0.6136 - val_false_negatives: 36.0000 - val_false_positives: 32.0000 - val_true_negatives: 232.0000 - val_true_positives: 52.0000\n"
          ]
        }
      ]
    },
    {
      "cell_type": "markdown",
      "source": [
        "Plotting Traning Result"
      ],
      "metadata": {
        "id": "XZSFG8fXqz7c"
      }
    },
    {
      "cell_type": "code",
      "source": [
        "  #plotting\n",
        "  epochs = range(1, len(history.history['loss'])+1)\n",
        "  #plt.title(f\"Grafik loss training iterasi {iterasi}\")\n",
        "  plt.title(f\"Grafik loss training VGG16\")\n",
        "  plt.plot(epochs, history.history['loss'], 'r', label='Training Loss')\n",
        "  plt.plot(epochs, history.history['val_loss'], 'b', label='Validation Loss')    \n",
        "  plt.xlabel(\"Epoch\")\n",
        "  plt.ylabel(\"Loss\")\n",
        "  plt.legend()\n",
        "  plt.show()\n"
      ],
      "metadata": {
        "id": "3dXbDrJpY1NK",
        "colab": {
          "base_uri": "https://localhost:8080/",
          "height": 295
        },
        "outputId": "afe32c07-294c-46bd-a06d-84fbdffab113"
      },
      "execution_count": 11,
      "outputs": [
        {
          "output_type": "display_data",
          "data": {
            "text/plain": [
              "<Figure size 432x288 with 1 Axes>"
            ],
            "image/png": "[encoded data removed]"
          },
          "metadata": {
            "needs_background": "light"
          }
        }
      ]
    },
    {
      "cell_type": "code",
      "source": [
        "  #plotting\n",
        "  epochs = range(1, len(history.history['loss'])+1)\n",
        "  #plt.title(f\"Grafik Akurasi training iterasi {iterasi}\")\n",
        "  plt.title(f\"Grafik Akurasi training VGG16\")\n",
        "  plt.plot(epochs, history.history['Accuracy'], 'r', label='Training Accuracy')\n",
        "  plt.plot(epochs, history.history['val_Accuracy'], 'b', label='Validation Accuracy')    \n",
        "  plt.xlabel(\"Epoch\")\n",
        "  plt.ylabel(\"Accuracy\")\n",
        "  plt.legend()\n",
        "  plt.show()"
      ],
      "metadata": {
        "id": "j3xigprPwlSX",
        "colab": {
          "base_uri": "https://localhost:8080/",
          "height": 295
        },
        "outputId": "45c77981-9258-411f-9f73-bccf4c4e4748"
      },
      "execution_count": 12,
      "outputs": [
        {
          "output_type": "display_data",
          "data": {
            "text/plain": [
              "<Figure size 432x288 with 1 Axes>"
            ],
            "image/png": "[encoded data removed]"
          },
          "metadata": {
            "needs_background": "light"
          }
        }
      ]
    },
    {
      "cell_type": "markdown",
      "metadata": {
        "id": "bTgk1-sdzmgy"
      },
      "source": [
        "**Validating** Network"
      ]
    },
    {
      "cell_type": "code",
      "source": [
        "import matplotlib.pyplot as plt\n",
        "from sklearn.datasets import make_classification\n",
        "from numpy import mean\n",
        "from sklearn.metrics import confusion_matrix, ConfusionMatrixDisplay, accuracy_score, classification_report, recall_score\n",
        "\n",
        "validation = model.predict(np_image_list_validation)\n",
        "\n",
        "predicted_labels = []\n",
        "correct_labels = []\n",
        "for i in range (len(validation)):\n",
        "  predicted_labels.append(np.argmax(validation[i]))\n",
        "\n",
        "for i in range (len(image_labels_validation)):\n",
        "  correct_labels.append(np.argmax(image_labels_validation[i]))\n",
        "\n",
        "\n",
        "confusion_matrix = confusion_matrix(correct_labels, predicted_labels)\n",
        "disp = ConfusionMatrixDisplay(confusion_matrix=confusion_matrix)  \n",
        "disp.plot()\n",
        "plt.show()\n",
        "print('--------')\n",
        "FP = confusion_matrix.sum(axis=0) - np.diag(confusion_matrix)  \n",
        "FN = confusion_matrix.sum(axis=1) - np.diag(confusion_matrix)\n",
        "TP = np.diag(confusion_matrix)\n",
        "TN = confusion_matrix.sum() - (FP + FN + TP)\n",
        "\n",
        "# Sensitivity, hit rate, recall, or true positive rate\n",
        "TPR = TP/(TP+FN)\n",
        "# Specificity or true negative rate\n",
        "TNR = TN/(TN+FP) \n",
        "# Overall accuracy\n",
        "ACC = (TP+TN)/(TP+FP+FN+TN)\n",
        "\n",
        "print(TP)\n",
        "print(TN)\n",
        "print(FP)\n",
        "print(FN)\n",
        "print('--------')\n",
        "print(ACC)\n",
        "print(TPR)\n",
        "print(TNR)\n",
        "print('--------')\n",
        "\n",
        "TP = sum(TP)\n",
        "TN = sum(TN)\n",
        "FP = sum(FP)\n",
        "FN = sum(FN)\n",
        "\n",
        "# Sensitivity, hit rate, recall, or true positive rate\n",
        "TPR = TP/(TP+FN)\n",
        "# Specificity or true negative rate\n",
        "TNR = TN/(TN+FP) \n",
        "# Overall accuracy\n",
        "ACC = (TP+TN)/(TP+FP+FN+TN)\n",
        "\n",
        "print(TP)\n",
        "print(TN)\n",
        "print(FP)\n",
        "print(FN)\n",
        "print('--------')\n",
        "print(ACC)\n",
        "print(TPR)\n",
        "print(TNR)"
      ],
      "metadata": {
        "id": "z9NBaYvZ61d7",
        "colab": {
          "base_uri": "https://localhost:8080/",
          "height": 591
        },
        "outputId": "2477eafd-26dc-4f77-cdf5-b947647dc4a4"
      },
      "execution_count": 13,
      "outputs": [
        {
          "output_type": "display_data",
          "data": {
            "text/plain": [
              "<Figure size 432x288 with 2 Axes>"
            ],
            "image/png": "[encoded data removed]"
          },
          "metadata": {
            "needs_background": "light"
          }
        },
        {
          "output_type": "stream",
          "name": "stdout",
          "text": [
            "--------\n",
            "[ 5  8  4 37]\n",
            "[70 68 59 33]\n",
            "[ 8  7  4 15]\n",
            "[ 5  5 21  3]\n",
            "--------\n",
            "[0.85227273 0.86363636 0.71590909 0.79545455]\n",
            "[0.5        0.61538462 0.16       0.925     ]\n",
            "[0.8974359  0.90666667 0.93650794 0.6875    ]\n",
            "--------\n",
            "54\n",
            "230\n",
            "34\n",
            "34\n",
            "--------\n",
            "0.8068181818181818\n",
            "0.6136363636363636\n",
            "0.8712121212121212\n"
          ]
        }
      ]
    },
    {
      "cell_type": "markdown",
      "source": [
        "**Testing** Network"
      ],
      "metadata": {
        "id": "saJYjKqX9tRL"
      }
    },
    {
      "cell_type": "code",
      "source": [
        "import matplotlib.pyplot as plt\n",
        "from sklearn.datasets import make_classification\n",
        "from numpy import mean\n",
        "from sklearn.metrics import confusion_matrix, ConfusionMatrixDisplay, accuracy_score, classification_report, recall_score\n",
        "\n",
        "test = model.predict(np_image_list_test)\n",
        "\n",
        "predicted_labels = []\n",
        "correct_labels = []\n",
        "for i in range (len(test)):\n",
        "  predicted_labels.append(np.argmax(test[i]))\n",
        "\n",
        "for i in range (len(image_labels_test)):\n",
        "  correct_labels.append(np.argmax(image_labels_test[i]))\n",
        "\n",
        "\n",
        "confusion_matrix = confusion_matrix(correct_labels, predicted_labels)\n",
        "disp = ConfusionMatrixDisplay(confusion_matrix=confusion_matrix)  \n",
        "disp.plot()\n",
        "plt.show()\n",
        "print('--------')\n",
        "FP = confusion_matrix.sum(axis=0) - np.diag(confusion_matrix)  \n",
        "FN = confusion_matrix.sum(axis=1) - np.diag(confusion_matrix)\n",
        "TP = np.diag(confusion_matrix)\n",
        "TN = confusion_matrix.sum() - (FP + FN + TP)\n",
        "\n",
        "# Sensitivity, hit rate, recall, or true positive rate\n",
        "TPR = TP/(TP+FN)\n",
        "# Specificity or true negative rate\n",
        "TNR = TN/(TN+FP) \n",
        "# Overall accuracy\n",
        "ACC = (TP+TN)/(TP+FP+FN+TN)\n",
        "\n",
        "print(TP)\n",
        "print(TN)\n",
        "print(FP)\n",
        "print(FN)\n",
        "print('--------')\n",
        "print(ACC)\n",
        "print(TPR)\n",
        "print(TNR)\n",
        "print('--------')\n",
        "\n",
        "TP = sum(TP)\n",
        "TN = sum(TN)\n",
        "FP = sum(FP)\n",
        "FN = sum(FN)\n",
        "\n",
        "# Sensitivity, hit rate, recall, or true positive rate\n",
        "TPR = TP/(TP+FN)\n",
        "# Specificity or true negative rate\n",
        "TNR = TN/(TN+FP) \n",
        "# Overall accuracy\n",
        "ACC = (TP+TN)/(TP+FP+FN+TN)\n",
        "\n",
        "print(TP)\n",
        "print(TN)\n",
        "print(FP)\n",
        "print(FN)\n",
        "print('--------')\n",
        "print(ACC)\n",
        "print(TPR)\n",
        "print(TNR)"
      ],
      "metadata": {
        "id": "3a1AYdsF4FoY",
        "colab": {
          "base_uri": "https://localhost:8080/",
          "height": 591
        },
        "outputId": "0af4ba1b-1756-4c97-c713-7e57edc93dea"
      },
      "execution_count": 14,
      "outputs": [
        {
          "output_type": "display_data",
          "data": {
            "text/plain": [
              "<Figure size 432x288 with 2 Axes>"
            ],
            "image/png": "[encoded data removed]"
          },
          "metadata": {
            "needs_background": "light"
          }
        },
        {
          "output_type": "stream",
          "name": "stdout",
          "text": [
            "--------\n",
            "[ 4  6  5 44]\n",
            "[89 80 72 38]\n",
            "[ 9 14  6 22]\n",
            "[ 8 10 27  6]\n",
            "--------\n",
            "[0.84545455 0.78181818 0.7        0.74545455]\n",
            "[0.33333333 0.375      0.15625    0.88      ]\n",
            "[0.90816327 0.85106383 0.92307692 0.63333333]\n",
            "--------\n",
            "59\n",
            "279\n",
            "51\n",
            "51\n",
            "--------\n",
            "0.7681818181818182\n",
            "0.5363636363636364\n",
            "0.8454545454545455\n"
          ]
        }
      ]
    },
    {
      "cell_type": "code",
      "metadata": {
        "id": "AKd6Tu7mzmg2"
      },
      "source": [
        "# save the model to disk\n",
        "#print(\"[INFO] Saving model...\")\n",
        "# pickle.dump(model,open('cnn_model.pkl', 'wb'))\n",
        "#model.save('/content/vgg16.h5')    "
      ],
      "execution_count": 15,
      "outputs": []
    },
    {
      "cell_type": "code",
      "metadata": {
        "id": "O6iIKa7Jzmg7"
      },
      "source": [
        "#test_img = cv2.imread('/content/datasets/Apple/Apple___Black_rot/0139bc6d-391c-4fd1-bcae-cc74dabfddd7___JR_FrgE.S 2734.JPG')\n",
        "\n",
        "#plt.imshow(test_img)\n",
        "#test_img = test_img / 255\n",
        "#test_img = np.expand_dims(test_img, axis=0)\n",
        "#pr=model.predict(test_img)\n",
        "\n",
        "#print(pr)\n",
        "#output = label_binarizer.inverse_transform(pr)\n",
        "#print(output)\n"
      ],
      "execution_count": 16,
      "outputs": []
    }
  ]
}