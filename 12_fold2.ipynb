{
  "nbformat": 4,
  "nbformat_minor": 0,
  "metadata": {
    "accelerator": "GPU",
    "colab": {
      "name": "Kodingan Skripsi 3",
      "provenance": [],
      "collapsed_sections": [],
      "include_colab_link": true
    },
    "kernelspec": {
      "display_name": "Python 3",
      "language": "python",
      "name": "python3"
    },
    "language_info": {
      "codemirror_mode": {
        "name": "ipython",
        "version": 3
      },
      "file_extension": ".py",
      "mimetype": "text/x-python",
      "name": "python",
      "nbconvert_exporter": "python",
      "pygments_lexer": "ipython3",
      "version": "3.6.6"
    }
  },
  "cells": [
    {
      "cell_type": "markdown",
      "metadata": {
        "id": "view-in-github",
        "colab_type": "text"
      },
      "source": [
        "<a href=\"https://colab.research.google.com/github/TaufiqIdrus/Python-Projects/blob/master/12_fold2.ipynb\" target=\"_parent\"><img src=\"https://colab.research.google.com/assets/colab-badge.svg\" alt=\"Open In Colab\"/></a>"
      ]
    },
    {
      "cell_type": "markdown",
      "metadata": {
        "id": "yJT_kQA2lITS"
      },
      "source": [
        "**Identifikasi Penyakit Pada Tanaman Apel menggunakan Convolutional Neural Network**"
      ]
    },
    {
      "cell_type": "code",
      "metadata": {
        "id": "xXeOaYTUzmgT"
      },
      "source": [
        "import numpy as np\n",
        "import pickle\n",
        "import os\n",
        "import cv2\n",
        "import tensorflow as tf\n",
        "import keras\n",
        "from os import listdir\n",
        "from sklearn.preprocessing import LabelBinarizer\n",
        "from keras.models import Sequential\n",
        "from keras.layers.convolutional import Conv2D\n",
        "from keras.layers.convolutional import MaxPooling2D\n",
        "from keras.layers.core import Activation, Flatten, Dropout, Dense\n",
        "from keras import backend as K\n",
        "from tensorflow.keras.optimizers import Adam\n",
        "from keras.preprocessing import image\n",
        "import matplotlib.pyplot as plt\n",
        "from sklearn.datasets import make_classification\n",
        "from numpy import mean\n"
      ],
      "execution_count": 1,
      "outputs": []
    },
    {
      "cell_type": "markdown",
      "metadata": {
        "id": "fp8C0d28lQok"
      },
      "source": [
        "Importing and Preparing Dataset"
      ]
    },
    {
      "cell_type": "code",
      "metadata": {
        "id": "_0xehllADlUs",
        "colab": {
          "base_uri": "https://localhost:8080/"
        },
        "outputId": "2573c452-683b-4a67-c707-a2c1effa7a57"
      },
      "source": [
        "!pip install pyunpack\n",
        "!pip install patool\n",
        "from pyunpack import Archive\n",
        "Archive('/content/fold2.rar').extractall('/content/Datasets/')\n",
        "iterasi = 2\n",
        "width=60\n",
        "height=60\n",
        "default_image_size = tuple((height, width))\n",
        "directory_root_train = '/content/Datasets/fold2/Train'\n",
        "directory_root_validation = '/content/Datasets/fold2/Validation'\n",
        "directory_root_test = '/content/Datasets/fold2/Test'\n",
        "image_size = 0\n",
        "depth=3"
      ],
      "execution_count": 2,
      "outputs": [
        {
          "output_type": "stream",
          "name": "stdout",
          "text": [
            "Looking in indexes: https://pypi.org/simple, https://us-python.pkg.dev/colab-wheels/public/simple/\n",
            "Collecting pyunpack\n",
            "  Downloading pyunpack-0.3-py2.py3-none-any.whl (4.1 kB)\n",
            "Collecting entrypoint2\n",
            "  Downloading entrypoint2-1.1-py2.py3-none-any.whl (9.9 kB)\n",
            "Collecting easyprocess\n",
            "  Downloading EasyProcess-1.1-py3-none-any.whl (8.7 kB)\n",
            "Installing collected packages: entrypoint2, easyprocess, pyunpack\n",
            "Successfully installed easyprocess-1.1 entrypoint2-1.1 pyunpack-0.3\n",
            "Looking in indexes: https://pypi.org/simple, https://us-python.pkg.dev/colab-wheels/public/simple/\n",
            "Collecting patool\n",
            "  Downloading patool-1.12-py2.py3-none-any.whl (77 kB)\n",
            "\u001b[K     |████████████████████████████████| 77 kB 5.9 MB/s \n",
            "\u001b[?25hInstalling collected packages: patool\n",
            "Successfully installed patool-1.12\n"
          ]
        }
      ]
    },
    {
      "cell_type": "code",
      "metadata": {
        "id": "KbAwJJTpzmge"
      },
      "source": [
        "def convert_image_to_array(image_dir):\n",
        "    try:\n",
        "        image = cv2.imread(image_dir)\n",
        "        if image is not None :\n",
        "            image = cv2.resize(image, default_image_size)   \n",
        "            return keras.preprocessing.image.img_to_array(image)\n",
        "        else :\n",
        "            return np.array([])\n",
        "    except Exception as e:\n",
        "        print(f\"Error : {e}\")\n",
        "        return None"
      ],
      "execution_count": 3,
      "outputs": []
    },
    {
      "cell_type": "markdown",
      "source": [
        "Converting **Training** Data to Array"
      ],
      "metadata": {
        "id": "bgXxUMO2cI_D"
      }
    },
    {
      "cell_type": "code",
      "metadata": {
        "id": "Erz6IjKXzmgg",
        "colab": {
          "base_uri": "https://localhost:8080/"
        },
        "outputId": "5b5eb3fe-725c-4f1b-97d7-9ca2b791aae0"
      },
      "source": [
        "image_list_train, label_list_train = [], []\n",
        "try:\n",
        "    print(\"[INFO] Loading images ...\")\n",
        "    root_dir = listdir(directory_root_train)\n",
        "\n",
        "    for plant_disease_folder in root_dir:\n",
        "        print(f\"[INFO] Processing {plant_disease_folder} ...\")\n",
        "        plant_disease_image_list = listdir(f\"{directory_root_train}/{plant_disease_folder}/\")\n",
        "      \n",
        "        for image in plant_disease_image_list:\n",
        "            image_directory = f\"{directory_root_train}/{plant_disease_folder}/{image}\"\n",
        "\n",
        "            if image_directory.endswith(\".jpg\") == True or image_directory.endswith(\".JPG\") == True:\n",
        "                image_list_train.append(convert_image_to_array(image_directory))\n",
        "                label_list_train.append(plant_disease_folder)\n",
        "    print(\"[INFO] Image loading completed\")\n",
        "\n",
        "except Exception as e:\n",
        "    print(f\"Error : {e}\")\n",
        "\n",
        "#image labeling\n",
        "image_size = len(image_list_train)\n",
        "label_binarizer = LabelBinarizer()\n",
        "image_labels_train = label_binarizer.fit_transform(label_list_train)\n",
        "pickle.dump(label_binarizer,open('label_transform_train.pkl', 'wb'))\n",
        "n_classes = len(label_binarizer.classes_)\n",
        "np_image_list_train = np.array(image_list_train, dtype=np.float16) / 255.0"
      ],
      "execution_count": 4,
      "outputs": [
        {
          "output_type": "stream",
          "name": "stdout",
          "text": [
            "[INFO] Loading images ...\n",
            "[INFO] Processing apel_sehat ...\n",
            "[INFO] Processing apel_bercak_daun ...\n",
            "[INFO] Processing apel_cacar_daun ...\n",
            "[INFO] Processing apel_busuk_buah ...\n",
            "[INFO] Image loading completed\n"
          ]
        }
      ]
    },
    {
      "cell_type": "markdown",
      "source": [
        "Converting **Validation** Data to Array"
      ],
      "metadata": {
        "id": "7eEMGiqRd_E4"
      }
    },
    {
      "cell_type": "code",
      "source": [
        "image_list_validation, label_list_validation = [], []\n",
        "try:\n",
        "    print(\"[INFO] Loading images ...\")\n",
        "    root_dir = listdir(directory_root_validation)\n",
        "\n",
        "    for plant_disease_folder in root_dir:\n",
        "        print(f\"[INFO] Processing {plant_disease_folder} ...\")\n",
        "        plant_disease_image_list = listdir(f\"{directory_root_validation}/{plant_disease_folder}/\")\n",
        "      \n",
        "        for image in plant_disease_image_list:\n",
        "            image_directory = f\"{directory_root_validation}/{plant_disease_folder}/{image}\"\n",
        "\n",
        "            if image_directory.endswith(\".jpg\") == True or image_directory.endswith(\".JPG\") == True:\n",
        "                image_list_validation.append(convert_image_to_array(image_directory))\n",
        "                label_list_validation.append(plant_disease_folder)\n",
        "    print(\"[INFO] Image loading completed\")\n",
        "\n",
        "except Exception as e:\n",
        "    print(f\"Error : {e}\")\n",
        "\n",
        "#image labeling\n",
        "image_size = len(image_list_validation)\n",
        "label_binarizer = LabelBinarizer()\n",
        "image_labels_validation = label_binarizer.fit_transform(label_list_validation)\n",
        "pickle.dump(label_binarizer,open('label_transform_validation.pkl', 'wb'))\n",
        "n_classes = len(label_binarizer.classes_)\n",
        "np_image_list_validation = np.array(image_list_validation, dtype=np.float16) / 255.0"
      ],
      "metadata": {
        "id": "wfHDdR0ZeEuU",
        "colab": {
          "base_uri": "https://localhost:8080/"
        },
        "outputId": "1fe4ef93-22f6-4b1b-94ef-8f90d26c8457"
      },
      "execution_count": 5,
      "outputs": [
        {
          "output_type": "stream",
          "name": "stdout",
          "text": [
            "[INFO] Loading images ...\n",
            "[INFO] Processing apel_sehat ...\n",
            "[INFO] Processing apel_bercak_daun ...\n",
            "[INFO] Processing apel_cacar_daun ...\n",
            "[INFO] Processing apel_busuk_buah ...\n",
            "[INFO] Image loading completed\n"
          ]
        }
      ]
    },
    {
      "cell_type": "markdown",
      "source": [
        "Converting **Testing** Data to Array"
      ],
      "metadata": {
        "id": "brwWyZVncTdg"
      }
    },
    {
      "cell_type": "code",
      "metadata": {
        "id": "uNPby5UMcaWY",
        "colab": {
          "base_uri": "https://localhost:8080/"
        },
        "outputId": "0e1b22ad-221e-4b9d-ccf8-5e8f33bb17e4"
      },
      "source": [
        "image_list_test, label_list_test = [], []\n",
        "try:\n",
        "    print(\"[INFO] Loading images ...\")\n",
        "    root_dir = listdir(directory_root_test)\n",
        "\n",
        "    for plant_disease_folder in root_dir:\n",
        "        print(f\"[INFO] Processing {plant_disease_folder} ...\")\n",
        "        plant_disease_image_list = listdir(f\"{directory_root_test}/{plant_disease_folder}/\")\n",
        "      \n",
        "        for image in plant_disease_image_list:\n",
        "            image_directory = f\"{directory_root_test}/{plant_disease_folder}/{image}\"\n",
        "\n",
        "            if image_directory.endswith(\".jpg\") == True or image_directory.endswith(\".JPG\") == True:\n",
        "                image_list_test.append(convert_image_to_array(image_directory))\n",
        "                label_list_test.append(plant_disease_folder)\n",
        "    print(\"[INFO] Image loading completed\")\n",
        "\n",
        "except Exception as e:\n",
        "    print(f\"Error : {e}\")\n",
        "\n",
        "#image labeling\n",
        "image_size = len(image_list_test)\n",
        "label_binarizer = LabelBinarizer()\n",
        "image_labels_test = label_binarizer.fit_transform(label_list_test)\n",
        "pickle.dump(label_binarizer,open('label_transform_test.pkl', 'wb'))\n",
        "n_classes = len(label_binarizer.classes_)\n",
        "np_image_list_test = np.array(image_list_test, dtype=np.float16) / 255.0"
      ],
      "execution_count": 6,
      "outputs": [
        {
          "output_type": "stream",
          "name": "stdout",
          "text": [
            "[INFO] Loading images ...\n",
            "[INFO] Processing apel_sehat ...\n",
            "[INFO] Processing apel_bercak_daun ...\n",
            "[INFO] Processing apel_cacar_daun ...\n",
            "[INFO] Processing apel_busuk_buah ...\n",
            "[INFO] Image loading completed\n"
          ]
        }
      ]
    },
    {
      "cell_type": "markdown",
      "metadata": {
        "id": "jYBTFN0CnAi7"
      },
      "source": [
        "Data Augmenting Initialization"
      ]
    },
    {
      "cell_type": "code",
      "metadata": {
        "id": "TLMxMK2Tzmgr"
      },
      "source": [
        "aug = keras.preprocessing.image.ImageDataGenerator(\n",
        "    rotation_range=25, \n",
        "    width_shift_range=0.1,\n",
        "    height_shift_range=0.1, \n",
        "    shear_range=0.2, \n",
        "    zoom_range=0.2,\n",
        "    horizontal_flip=True, \n",
        "    fill_mode=\"nearest\")"
      ],
      "execution_count": 7,
      "outputs": []
    },
    {
      "cell_type": "markdown",
      "metadata": {
        "id": "H1BfRyYNnGv_"
      },
      "source": [
        "Creating CNN Model"
      ]
    },
    {
      "cell_type": "code",
      "metadata": {
        "id": "WmLX4wm8zmgs"
      },
      "source": [
        "model = keras.models.Sequential()\n",
        "inputShape = (height, width, depth)\n",
        "\n",
        "model.add(Conv2D(20, (5, 5), padding=\"same\",input_shape=inputShape))\n",
        "model.add(Activation(\"relu\"))\n",
        "\n",
        "model.add(MaxPooling2D(pool_size=(2, 2), strides=2))\n",
        "\n",
        "model.add(Conv2D(50, (5, 5), padding=\"same\"))\n",
        "model.add(Activation(\"relu\"))\n",
        "\n",
        "model.add(MaxPooling2D(pool_size=(2, 2),strides=2))\n",
        "\n",
        "model.add(Flatten())\n",
        "\n",
        "model.add(Dense(500))\n",
        "model.add(Activation(\"relu\"))\n",
        "\n",
        "model.add(Dense(4))\n",
        "model.add(Activation(\"softmax\"))"
      ],
      "execution_count": 8,
      "outputs": []
    },
    {
      "cell_type": "code",
      "source": [
        "#model.summary()"
      ],
      "metadata": {
        "id": "RQIgaph8hW06"
      },
      "execution_count": 9,
      "outputs": []
    },
    {
      "cell_type": "code",
      "source": [
        "#from PIL import Image\n",
        "#from keras.utils.vis_utils import plot_model\n",
        "#plot_model(model, to_file='cnn_model.png', show_shapes=True, show_layer_names=True)\n",
        "#display(Image.open('cnn_model.png'))"
      ],
      "metadata": {
        "id": "T05gPuu1GudW"
      },
      "execution_count": 10,
      "outputs": []
    },
    {
      "cell_type": "markdown",
      "metadata": {
        "id": "Zfsu3lVfnXFG"
      },
      "source": [
        "**Training** Network"
      ]
    },
    {
      "cell_type": "code",
      "metadata": {
        "id": "rvwKwe3Lzmgv",
        "colab": {
          "base_uri": "https://localhost:8080/"
        },
        "outputId": "36ae3369-b035-48a2-9e2a-92df22b07e65"
      },
      "source": [
        "EPOCHS = 200\n",
        "INIT_LR = 1e-3\n",
        "BS = 8\n",
        "\n",
        "with tf.device('/GPU:0'):\n",
        "  opt = Adam(learning_rate=INIT_LR, decay=INIT_LR / EPOCHS)\n",
        "  model.compile(loss=\"categorical_crossentropy\", optimizer=opt,metrics=[\"Accuracy\", \"FalseNegatives\", \"FalsePositives\", \"TrueNegatives\", \"TruePositives\"])\n",
        "  \n",
        "  history = model.fit(\n",
        "      aug.flow(np_image_list_train, image_labels_train, batch_size=BS),\n",
        "      validation_data=(np_image_list_validation, image_labels_validation),\n",
        "      steps_per_epoch=len(np_image_list_train) // BS,\n",
        "      epochs=EPOCHS, \n",
        "      verbose=1,\n",
        "      )\n"
      ],
      "execution_count": 11,
      "outputs": [
        {
          "output_type": "stream",
          "name": "stdout",
          "text": [
            "Epoch 1/200\n",
            "44/44 [==============================] - 18s 59ms/step - loss: 1.3805 - Accuracy: 0.4540 - false_negatives: 297.0000 - false_positives: 56.0000 - true_negatives: 988.0000 - true_positives: 51.0000 - val_loss: 1.2419 - val_Accuracy: 0.4545 - val_false_negatives: 48.0000 - val_false_positives: 48.0000 - val_true_negatives: 216.0000 - val_true_positives: 40.0000\n",
            "Epoch 2/200\n",
            "44/44 [==============================] - 1s 18ms/step - loss: 1.2178 - Accuracy: 0.4511 - false_negatives: 282.0000 - false_positives: 39.0000 - true_negatives: 1005.0000 - true_positives: 66.0000 - val_loss: 1.1337 - val_Accuracy: 0.4545 - val_false_negatives: 49.0000 - val_false_positives: 18.0000 - val_true_negatives: 246.0000 - val_true_positives: 39.0000\n",
            "Epoch 3/200\n",
            "44/44 [==============================] - 1s 18ms/step - loss: 1.1031 - Accuracy: 0.5776 - false_negatives: 239.0000 - false_positives: 45.0000 - true_negatives: 999.0000 - true_positives: 109.0000 - val_loss: 1.0022 - val_Accuracy: 0.6136 - val_false_negatives: 49.0000 - val_false_positives: 13.0000 - val_true_negatives: 251.0000 - val_true_positives: 39.0000\n",
            "Epoch 4/200\n",
            "44/44 [==============================] - 1s 18ms/step - loss: 1.0421 - Accuracy: 0.6034 - false_negatives: 223.0000 - false_positives: 46.0000 - true_negatives: 998.0000 - true_positives: 125.0000 - val_loss: 0.9759 - val_Accuracy: 0.6818 - val_false_negatives: 37.0000 - val_false_positives: 23.0000 - val_true_negatives: 241.0000 - val_true_positives: 51.0000\n",
            "Epoch 5/200\n",
            "44/44 [==============================] - 1s 17ms/step - loss: 1.0048 - Accuracy: 0.6236 - false_negatives: 201.0000 - false_positives: 60.0000 - true_negatives: 984.0000 - true_positives: 147.0000 - val_loss: 0.9248 - val_Accuracy: 0.6591 - val_false_negatives: 46.0000 - val_false_positives: 13.0000 - val_true_negatives: 251.0000 - val_true_positives: 42.0000\n",
            "Epoch 6/200\n",
            "44/44 [==============================] - 1s 17ms/step - loss: 1.0301 - Accuracy: 0.5948 - false_negatives: 218.0000 - false_positives: 60.0000 - true_negatives: 984.0000 - true_positives: 130.0000 - val_loss: 0.9236 - val_Accuracy: 0.6591 - val_false_negatives: 49.0000 - val_false_positives: 12.0000 - val_true_negatives: 252.0000 - val_true_positives: 39.0000\n",
            "Epoch 7/200\n",
            "44/44 [==============================] - 1s 17ms/step - loss: 0.9743 - Accuracy: 0.6178 - false_negatives: 211.0000 - false_positives: 53.0000 - true_negatives: 991.0000 - true_positives: 137.0000 - val_loss: 0.8937 - val_Accuracy: 0.6705 - val_false_negatives: 47.0000 - val_false_positives: 13.0000 - val_true_negatives: 251.0000 - val_true_positives: 41.0000\n",
            "Epoch 8/200\n",
            "44/44 [==============================] - 1s 18ms/step - loss: 1.0107 - Accuracy: 0.6250 - false_negatives: 219.0000 - false_positives: 55.0000 - true_negatives: 1001.0000 - true_positives: 133.0000 - val_loss: 1.1035 - val_Accuracy: 0.5341 - val_false_negatives: 46.0000 - val_false_positives: 32.0000 - val_true_negatives: 232.0000 - val_true_positives: 42.0000\n",
            "Epoch 9/200\n",
            "44/44 [==============================] - 1s 18ms/step - loss: 1.0179 - Accuracy: 0.5948 - false_negatives: 213.0000 - false_positives: 48.0000 - true_negatives: 996.0000 - true_positives: 135.0000 - val_loss: 0.8921 - val_Accuracy: 0.6932 - val_false_negatives: 50.0000 - val_false_positives: 11.0000 - val_true_negatives: 253.0000 - val_true_positives: 38.0000\n",
            "Epoch 10/200\n",
            "44/44 [==============================] - 1s 18ms/step - loss: 0.9558 - Accuracy: 0.6236 - false_negatives: 202.0000 - false_positives: 44.0000 - true_negatives: 1000.0000 - true_positives: 146.0000 - val_loss: 0.9653 - val_Accuracy: 0.6023 - val_false_negatives: 42.0000 - val_false_positives: 17.0000 - val_true_negatives: 247.0000 - val_true_positives: 46.0000\n",
            "Epoch 11/200\n",
            "44/44 [==============================] - 1s 18ms/step - loss: 1.0126 - Accuracy: 0.6149 - false_negatives: 194.0000 - false_positives: 68.0000 - true_negatives: 976.0000 - true_positives: 154.0000 - val_loss: 0.8600 - val_Accuracy: 0.6932 - val_false_negatives: 42.0000 - val_false_positives: 17.0000 - val_true_negatives: 247.0000 - val_true_positives: 46.0000\n",
            "Epoch 12/200\n",
            "44/44 [==============================] - 1s 18ms/step - loss: 0.9601 - Accuracy: 0.6322 - false_negatives: 183.0000 - false_positives: 68.0000 - true_negatives: 976.0000 - true_positives: 165.0000 - val_loss: 0.8770 - val_Accuracy: 0.6818 - val_false_negatives: 38.0000 - val_false_positives: 17.0000 - val_true_negatives: 247.0000 - val_true_positives: 50.0000\n",
            "Epoch 13/200\n",
            "44/44 [==============================] - 1s 18ms/step - loss: 0.9029 - Accuracy: 0.6638 - false_negatives: 158.0000 - false_positives: 78.0000 - true_negatives: 966.0000 - true_positives: 190.0000 - val_loss: 0.9402 - val_Accuracy: 0.6136 - val_false_negatives: 43.0000 - val_false_positives: 15.0000 - val_true_negatives: 249.0000 - val_true_positives: 45.0000\n",
            "Epoch 14/200\n",
            "44/44 [==============================] - 1s 18ms/step - loss: 0.8931 - Accuracy: 0.6753 - false_negatives: 152.0000 - false_positives: 66.0000 - true_negatives: 978.0000 - true_positives: 196.0000 - val_loss: 0.9118 - val_Accuracy: 0.6364 - val_false_negatives: 38.0000 - val_false_positives: 17.0000 - val_true_negatives: 247.0000 - val_true_positives: 50.0000\n",
            "Epoch 15/200\n",
            "44/44 [==============================] - 1s 19ms/step - loss: 0.9286 - Accuracy: 0.6437 - false_negatives: 169.0000 - false_positives: 74.0000 - true_negatives: 970.0000 - true_positives: 179.0000 - val_loss: 0.9056 - val_Accuracy: 0.6477 - val_false_negatives: 43.0000 - val_false_positives: 14.0000 - val_true_negatives: 250.0000 - val_true_positives: 45.0000\n",
            "Epoch 16/200\n",
            "44/44 [==============================] - 1s 18ms/step - loss: 0.8975 - Accuracy: 0.6609 - false_negatives: 154.0000 - false_positives: 68.0000 - true_negatives: 976.0000 - true_positives: 194.0000 - val_loss: 0.8995 - val_Accuracy: 0.6591 - val_false_negatives: 38.0000 - val_false_positives: 16.0000 - val_true_negatives: 248.0000 - val_true_positives: 50.0000\n",
            "Epoch 17/200\n",
            "44/44 [==============================] - 1s 18ms/step - loss: 0.8924 - Accuracy: 0.6753 - false_negatives: 155.0000 - false_positives: 72.0000 - true_negatives: 972.0000 - true_positives: 193.0000 - val_loss: 0.8005 - val_Accuracy: 0.6932 - val_false_negatives: 39.0000 - val_false_positives: 12.0000 - val_true_negatives: 252.0000 - val_true_positives: 49.0000\n",
            "Epoch 18/200\n",
            "44/44 [==============================] - 1s 18ms/step - loss: 0.9246 - Accuracy: 0.6695 - false_negatives: 148.0000 - false_positives: 80.0000 - true_negatives: 964.0000 - true_positives: 200.0000 - val_loss: 0.9069 - val_Accuracy: 0.7159 - val_false_negatives: 33.0000 - val_false_positives: 17.0000 - val_true_negatives: 247.0000 - val_true_positives: 55.0000\n",
            "Epoch 19/200\n",
            "44/44 [==============================] - 1s 19ms/step - loss: 0.8786 - Accuracy: 0.6705 - false_negatives: 141.0000 - false_positives: 73.0000 - true_negatives: 983.0000 - true_positives: 211.0000 - val_loss: 0.9024 - val_Accuracy: 0.5682 - val_false_negatives: 44.0000 - val_false_positives: 16.0000 - val_true_negatives: 248.0000 - val_true_positives: 44.0000\n",
            "Epoch 20/200\n",
            "44/44 [==============================] - 1s 17ms/step - loss: 0.8514 - Accuracy: 0.6810 - false_negatives: 157.0000 - false_positives: 56.0000 - true_negatives: 988.0000 - true_positives: 191.0000 - val_loss: 0.8300 - val_Accuracy: 0.7159 - val_false_negatives: 31.0000 - val_false_positives: 19.0000 - val_true_negatives: 245.0000 - val_true_positives: 57.0000\n",
            "Epoch 21/200\n",
            "44/44 [==============================] - 1s 19ms/step - loss: 0.8017 - Accuracy: 0.6983 - false_negatives: 130.0000 - false_positives: 63.0000 - true_negatives: 981.0000 - true_positives: 218.0000 - val_loss: 0.9182 - val_Accuracy: 0.6477 - val_false_negatives: 35.0000 - val_false_positives: 20.0000 - val_true_negatives: 244.0000 - val_true_positives: 53.0000\n",
            "Epoch 22/200\n",
            "44/44 [==============================] - 1s 18ms/step - loss: 0.8040 - Accuracy: 0.6897 - false_negatives: 130.0000 - false_positives: 67.0000 - true_negatives: 977.0000 - true_positives: 218.0000 - val_loss: 0.7604 - val_Accuracy: 0.7273 - val_false_negatives: 29.0000 - val_false_positives: 18.0000 - val_true_negatives: 246.0000 - val_true_positives: 59.0000\n",
            "Epoch 23/200\n",
            "44/44 [==============================] - 1s 18ms/step - loss: 0.8724 - Accuracy: 0.6494 - false_negatives: 146.0000 - false_positives: 79.0000 - true_negatives: 965.0000 - true_positives: 202.0000 - val_loss: 1.1141 - val_Accuracy: 0.5682 - val_false_negatives: 43.0000 - val_false_positives: 31.0000 - val_true_negatives: 233.0000 - val_true_positives: 45.0000\n",
            "Epoch 24/200\n",
            "44/44 [==============================] - 1s 18ms/step - loss: 0.8076 - Accuracy: 0.6983 - false_negatives: 135.0000 - false_positives: 63.0000 - true_negatives: 981.0000 - true_positives: 213.0000 - val_loss: 0.9145 - val_Accuracy: 0.6250 - val_false_negatives: 37.0000 - val_false_positives: 19.0000 - val_true_negatives: 245.0000 - val_true_positives: 51.0000\n",
            "Epoch 25/200\n",
            "44/44 [==============================] - 1s 18ms/step - loss: 0.8307 - Accuracy: 0.6983 - false_negatives: 143.0000 - false_positives: 66.0000 - true_negatives: 978.0000 - true_positives: 205.0000 - val_loss: 0.7979 - val_Accuracy: 0.7045 - val_false_negatives: 36.0000 - val_false_positives: 19.0000 - val_true_negatives: 245.0000 - val_true_positives: 52.0000\n",
            "Epoch 26/200\n",
            "44/44 [==============================] - 1s 18ms/step - loss: 0.8039 - Accuracy: 0.6983 - false_negatives: 132.0000 - false_positives: 69.0000 - true_negatives: 975.0000 - true_positives: 216.0000 - val_loss: 0.7981 - val_Accuracy: 0.7045 - val_false_negatives: 28.0000 - val_false_positives: 17.0000 - val_true_negatives: 247.0000 - val_true_positives: 60.0000\n",
            "Epoch 27/200\n",
            "44/44 [==============================] - 1s 18ms/step - loss: 0.7902 - Accuracy: 0.7040 - false_negatives: 131.0000 - false_positives: 67.0000 - true_negatives: 977.0000 - true_positives: 217.0000 - val_loss: 0.9389 - val_Accuracy: 0.6477 - val_false_negatives: 44.0000 - val_false_positives: 20.0000 - val_true_negatives: 244.0000 - val_true_positives: 44.0000\n",
            "Epoch 28/200\n",
            "44/44 [==============================] - 1s 18ms/step - loss: 0.8082 - Accuracy: 0.7040 - false_negatives: 136.0000 - false_positives: 71.0000 - true_negatives: 973.0000 - true_positives: 212.0000 - val_loss: 0.7236 - val_Accuracy: 0.7273 - val_false_negatives: 32.0000 - val_false_positives: 17.0000 - val_true_negatives: 247.0000 - val_true_positives: 56.0000\n",
            "Epoch 29/200\n",
            "44/44 [==============================] - 1s 18ms/step - loss: 0.8104 - Accuracy: 0.6983 - false_negatives: 130.0000 - false_positives: 69.0000 - true_negatives: 975.0000 - true_positives: 218.0000 - val_loss: 0.8096 - val_Accuracy: 0.6477 - val_false_negatives: 35.0000 - val_false_positives: 20.0000 - val_true_negatives: 244.0000 - val_true_positives: 53.0000\n",
            "Epoch 30/200\n",
            "44/44 [==============================] - 1s 17ms/step - loss: 0.7349 - Accuracy: 0.7126 - false_negatives: 122.0000 - false_positives: 68.0000 - true_negatives: 976.0000 - true_positives: 226.0000 - val_loss: 0.9640 - val_Accuracy: 0.6136 - val_false_negatives: 39.0000 - val_false_positives: 24.0000 - val_true_negatives: 240.0000 - val_true_positives: 49.0000\n",
            "Epoch 31/200\n",
            "44/44 [==============================] - 1s 18ms/step - loss: 0.7508 - Accuracy: 0.7126 - false_negatives: 126.0000 - false_positives: 64.0000 - true_negatives: 980.0000 - true_positives: 222.0000 - val_loss: 0.7148 - val_Accuracy: 0.7614 - val_false_negatives: 34.0000 - val_false_positives: 16.0000 - val_true_negatives: 248.0000 - val_true_positives: 54.0000\n",
            "Epoch 32/200\n",
            "44/44 [==============================] - 1s 18ms/step - loss: 0.7114 - Accuracy: 0.7385 - false_negatives: 118.0000 - false_positives: 60.0000 - true_negatives: 984.0000 - true_positives: 230.0000 - val_loss: 0.9221 - val_Accuracy: 0.7045 - val_false_negatives: 32.0000 - val_false_positives: 20.0000 - val_true_negatives: 244.0000 - val_true_positives: 56.0000\n",
            "Epoch 33/200\n",
            "44/44 [==============================] - 1s 17ms/step - loss: 0.7329 - Accuracy: 0.7098 - false_negatives: 121.0000 - false_positives: 62.0000 - true_negatives: 982.0000 - true_positives: 227.0000 - val_loss: 0.7304 - val_Accuracy: 0.7273 - val_false_negatives: 32.0000 - val_false_positives: 17.0000 - val_true_negatives: 247.0000 - val_true_positives: 56.0000\n",
            "Epoch 34/200\n",
            "44/44 [==============================] - 1s 18ms/step - loss: 0.7212 - Accuracy: 0.7385 - false_negatives: 117.0000 - false_positives: 57.0000 - true_negatives: 987.0000 - true_positives: 231.0000 - val_loss: 0.8299 - val_Accuracy: 0.6818 - val_false_negatives: 30.0000 - val_false_positives: 17.0000 - val_true_negatives: 247.0000 - val_true_positives: 58.0000\n",
            "Epoch 35/200\n",
            "44/44 [==============================] - 1s 19ms/step - loss: 0.7350 - Accuracy: 0.7184 - false_negatives: 121.0000 - false_positives: 63.0000 - true_negatives: 981.0000 - true_positives: 227.0000 - val_loss: 0.8347 - val_Accuracy: 0.7159 - val_false_negatives: 35.0000 - val_false_positives: 19.0000 - val_true_negatives: 245.0000 - val_true_positives: 53.0000\n",
            "Epoch 36/200\n",
            "44/44 [==============================] - 1s 18ms/step - loss: 0.6797 - Accuracy: 0.7529 - false_negatives: 106.0000 - false_positives: 66.0000 - true_negatives: 978.0000 - true_positives: 242.0000 - val_loss: 0.7236 - val_Accuracy: 0.7045 - val_false_negatives: 30.0000 - val_false_positives: 17.0000 - val_true_negatives: 247.0000 - val_true_positives: 58.0000\n",
            "Epoch 37/200\n",
            "44/44 [==============================] - 1s 18ms/step - loss: 0.6669 - Accuracy: 0.7500 - false_negatives: 108.0000 - false_positives: 64.0000 - true_negatives: 980.0000 - true_positives: 240.0000 - val_loss: 0.9415 - val_Accuracy: 0.6591 - val_false_negatives: 37.0000 - val_false_positives: 24.0000 - val_true_negatives: 240.0000 - val_true_positives: 51.0000\n",
            "Epoch 38/200\n",
            "44/44 [==============================] - 1s 18ms/step - loss: 0.6880 - Accuracy: 0.7356 - false_negatives: 112.0000 - false_positives: 58.0000 - true_negatives: 986.0000 - true_positives: 236.0000 - val_loss: 0.7572 - val_Accuracy: 0.7273 - val_false_negatives: 34.0000 - val_false_positives: 17.0000 - val_true_negatives: 247.0000 - val_true_positives: 54.0000\n",
            "Epoch 39/200\n",
            "44/44 [==============================] - 1s 18ms/step - loss: 0.6428 - Accuracy: 0.7500 - false_negatives: 104.0000 - false_positives: 54.0000 - true_negatives: 990.0000 - true_positives: 244.0000 - val_loss: 0.9407 - val_Accuracy: 0.6818 - val_false_negatives: 31.0000 - val_false_positives: 20.0000 - val_true_negatives: 244.0000 - val_true_positives: 57.0000\n",
            "Epoch 40/200\n",
            "44/44 [==============================] - 1s 18ms/step - loss: 0.6844 - Accuracy: 0.7299 - false_negatives: 122.0000 - false_positives: 55.0000 - true_negatives: 989.0000 - true_positives: 226.0000 - val_loss: 0.7695 - val_Accuracy: 0.7045 - val_false_negatives: 32.0000 - val_false_positives: 17.0000 - val_true_negatives: 247.0000 - val_true_positives: 56.0000\n",
            "Epoch 41/200\n",
            "44/44 [==============================] - 1s 18ms/step - loss: 0.6279 - Accuracy: 0.7586 - false_negatives: 104.0000 - false_positives: 62.0000 - true_negatives: 982.0000 - true_positives: 244.0000 - val_loss: 0.8542 - val_Accuracy: 0.6932 - val_false_negatives: 30.0000 - val_false_positives: 17.0000 - val_true_negatives: 247.0000 - val_true_positives: 58.0000\n",
            "Epoch 42/200\n",
            "44/44 [==============================] - 1s 18ms/step - loss: 0.6608 - Accuracy: 0.7500 - false_negatives: 109.0000 - false_positives: 67.0000 - true_negatives: 977.0000 - true_positives: 239.0000 - val_loss: 0.7022 - val_Accuracy: 0.7159 - val_false_negatives: 29.0000 - val_false_positives: 17.0000 - val_true_negatives: 247.0000 - val_true_positives: 59.0000\n",
            "Epoch 43/200\n",
            "44/44 [==============================] - 1s 17ms/step - loss: 0.6711 - Accuracy: 0.7471 - false_negatives: 103.0000 - false_positives: 65.0000 - true_negatives: 979.0000 - true_positives: 245.0000 - val_loss: 0.8658 - val_Accuracy: 0.6818 - val_false_negatives: 37.0000 - val_false_positives: 19.0000 - val_true_negatives: 245.0000 - val_true_positives: 51.0000\n",
            "Epoch 44/200\n",
            "44/44 [==============================] - 1s 17ms/step - loss: 0.6436 - Accuracy: 0.7787 - false_negatives: 111.0000 - false_positives: 50.0000 - true_negatives: 994.0000 - true_positives: 237.0000 - val_loss: 0.7825 - val_Accuracy: 0.7386 - val_false_negatives: 32.0000 - val_false_positives: 18.0000 - val_true_negatives: 246.0000 - val_true_positives: 56.0000\n",
            "Epoch 45/200\n",
            "44/44 [==============================] - 1s 19ms/step - loss: 0.5924 - Accuracy: 0.7816 - false_negatives: 93.0000 - false_positives: 53.0000 - true_negatives: 991.0000 - true_positives: 255.0000 - val_loss: 0.9960 - val_Accuracy: 0.6477 - val_false_negatives: 37.0000 - val_false_positives: 23.0000 - val_true_negatives: 241.0000 - val_true_positives: 51.0000\n",
            "Epoch 46/200\n",
            "44/44 [==============================] - 1s 18ms/step - loss: 0.6181 - Accuracy: 0.7816 - false_negatives: 97.0000 - false_positives: 58.0000 - true_negatives: 986.0000 - true_positives: 251.0000 - val_loss: 0.8385 - val_Accuracy: 0.6932 - val_false_negatives: 30.0000 - val_false_positives: 18.0000 - val_true_negatives: 246.0000 - val_true_positives: 58.0000\n",
            "Epoch 47/200\n",
            "44/44 [==============================] - 1s 18ms/step - loss: 0.5983 - Accuracy: 0.7902 - false_negatives: 87.0000 - false_positives: 56.0000 - true_negatives: 988.0000 - true_positives: 261.0000 - val_loss: 0.7599 - val_Accuracy: 0.7045 - val_false_negatives: 33.0000 - val_false_positives: 20.0000 - val_true_negatives: 244.0000 - val_true_positives: 55.0000\n",
            "Epoch 48/200\n",
            "44/44 [==============================] - 1s 18ms/step - loss: 0.5788 - Accuracy: 0.7672 - false_negatives: 96.0000 - false_positives: 55.0000 - true_negatives: 989.0000 - true_positives: 252.0000 - val_loss: 0.8851 - val_Accuracy: 0.6932 - val_false_negatives: 30.0000 - val_false_positives: 20.0000 - val_true_negatives: 244.0000 - val_true_positives: 58.0000\n",
            "Epoch 49/200\n",
            "44/44 [==============================] - 1s 18ms/step - loss: 0.6189 - Accuracy: 0.7500 - false_negatives: 102.0000 - false_positives: 61.0000 - true_negatives: 983.0000 - true_positives: 246.0000 - val_loss: 0.6950 - val_Accuracy: 0.7386 - val_false_negatives: 30.0000 - val_false_positives: 14.0000 - val_true_negatives: 250.0000 - val_true_positives: 58.0000\n",
            "Epoch 50/200\n",
            "44/44 [==============================] - 1s 18ms/step - loss: 0.6405 - Accuracy: 0.7672 - false_negatives: 105.0000 - false_positives: 58.0000 - true_negatives: 986.0000 - true_positives: 243.0000 - val_loss: 0.9245 - val_Accuracy: 0.6591 - val_false_negatives: 33.0000 - val_false_positives: 19.0000 - val_true_negatives: 245.0000 - val_true_positives: 55.0000\n",
            "Epoch 51/200\n",
            "44/44 [==============================] - 1s 18ms/step - loss: 0.6066 - Accuracy: 0.7701 - false_negatives: 104.0000 - false_positives: 60.0000 - true_negatives: 984.0000 - true_positives: 244.0000 - val_loss: 0.6948 - val_Accuracy: 0.7500 - val_false_negatives: 27.0000 - val_false_positives: 16.0000 - val_true_negatives: 248.0000 - val_true_positives: 61.0000\n",
            "Epoch 52/200\n",
            "44/44 [==============================] - 1s 18ms/step - loss: 0.5902 - Accuracy: 0.7672 - false_negatives: 94.0000 - false_positives: 61.0000 - true_negatives: 983.0000 - true_positives: 254.0000 - val_loss: 0.8296 - val_Accuracy: 0.6705 - val_false_negatives: 30.0000 - val_false_positives: 24.0000 - val_true_negatives: 240.0000 - val_true_positives: 58.0000\n",
            "Epoch 53/200\n",
            "44/44 [==============================] - 1s 18ms/step - loss: 0.7145 - Accuracy: 0.7557 - false_negatives: 108.0000 - false_positives: 54.0000 - true_negatives: 990.0000 - true_positives: 240.0000 - val_loss: 0.6935 - val_Accuracy: 0.7159 - val_false_negatives: 30.0000 - val_false_positives: 12.0000 - val_true_negatives: 252.0000 - val_true_positives: 58.0000\n",
            "Epoch 54/200\n",
            "44/44 [==============================] - 1s 18ms/step - loss: 0.6235 - Accuracy: 0.7615 - false_negatives: 102.0000 - false_positives: 56.0000 - true_negatives: 988.0000 - true_positives: 246.0000 - val_loss: 0.8320 - val_Accuracy: 0.7045 - val_false_negatives: 29.0000 - val_false_positives: 21.0000 - val_true_negatives: 243.0000 - val_true_positives: 59.0000\n",
            "Epoch 55/200\n",
            "44/44 [==============================] - 1s 30ms/step - loss: 0.5879 - Accuracy: 0.7816 - false_negatives: 90.0000 - false_positives: 55.0000 - true_negatives: 989.0000 - true_positives: 258.0000 - val_loss: 0.8109 - val_Accuracy: 0.6932 - val_false_negatives: 35.0000 - val_false_positives: 21.0000 - val_true_negatives: 243.0000 - val_true_positives: 53.0000\n",
            "Epoch 56/200\n",
            "44/44 [==============================] - 1s 29ms/step - loss: 0.5714 - Accuracy: 0.7701 - false_negatives: 95.0000 - false_positives: 57.0000 - true_negatives: 987.0000 - true_positives: 253.0000 - val_loss: 0.6552 - val_Accuracy: 0.7614 - val_false_negatives: 25.0000 - val_false_positives: 16.0000 - val_true_negatives: 248.0000 - val_true_positives: 63.0000\n",
            "Epoch 57/200\n",
            "44/44 [==============================] - 1s 28ms/step - loss: 0.5736 - Accuracy: 0.7759 - false_negatives: 91.0000 - false_positives: 53.0000 - true_negatives: 991.0000 - true_positives: 257.0000 - val_loss: 0.7202 - val_Accuracy: 0.7159 - val_false_negatives: 28.0000 - val_false_positives: 19.0000 - val_true_negatives: 245.0000 - val_true_positives: 60.0000\n",
            "Epoch 58/200\n",
            "44/44 [==============================] - 1s 18ms/step - loss: 0.5716 - Accuracy: 0.7586 - false_negatives: 96.0000 - false_positives: 60.0000 - true_negatives: 984.0000 - true_positives: 252.0000 - val_loss: 0.8068 - val_Accuracy: 0.7386 - val_false_negatives: 26.0000 - val_false_positives: 20.0000 - val_true_negatives: 244.0000 - val_true_positives: 62.0000\n",
            "Epoch 59/200\n",
            "44/44 [==============================] - 1s 18ms/step - loss: 0.5980 - Accuracy: 0.7672 - false_negatives: 95.0000 - false_positives: 59.0000 - true_negatives: 985.0000 - true_positives: 253.0000 - val_loss: 0.9634 - val_Accuracy: 0.6818 - val_false_negatives: 32.0000 - val_false_positives: 24.0000 - val_true_negatives: 240.0000 - val_true_positives: 56.0000\n",
            "Epoch 60/200\n",
            "44/44 [==============================] - 1s 19ms/step - loss: 0.6963 - Accuracy: 0.7270 - false_negatives: 115.0000 - false_positives: 63.0000 - true_negatives: 981.0000 - true_positives: 233.0000 - val_loss: 0.7888 - val_Accuracy: 0.7159 - val_false_negatives: 33.0000 - val_false_positives: 18.0000 - val_true_negatives: 246.0000 - val_true_positives: 55.0000\n",
            "Epoch 61/200\n",
            "44/44 [==============================] - 1s 18ms/step - loss: 0.5838 - Accuracy: 0.7845 - false_negatives: 97.0000 - false_positives: 55.0000 - true_negatives: 989.0000 - true_positives: 251.0000 - val_loss: 0.9941 - val_Accuracy: 0.6705 - val_false_negatives: 39.0000 - val_false_positives: 20.0000 - val_true_negatives: 244.0000 - val_true_positives: 49.0000\n",
            "Epoch 62/200\n",
            "44/44 [==============================] - 1s 18ms/step - loss: 0.5390 - Accuracy: 0.7989 - false_negatives: 93.0000 - false_positives: 53.0000 - true_negatives: 991.0000 - true_positives: 255.0000 - val_loss: 0.9973 - val_Accuracy: 0.6705 - val_false_negatives: 32.0000 - val_false_positives: 26.0000 - val_true_negatives: 238.0000 - val_true_positives: 56.0000\n",
            "Epoch 63/200\n",
            "44/44 [==============================] - 1s 18ms/step - loss: 0.5754 - Accuracy: 0.7989 - false_negatives: 89.0000 - false_positives: 48.0000 - true_negatives: 996.0000 - true_positives: 259.0000 - val_loss: 0.8016 - val_Accuracy: 0.6818 - val_false_negatives: 35.0000 - val_false_positives: 20.0000 - val_true_negatives: 244.0000 - val_true_positives: 53.0000\n",
            "Epoch 64/200\n",
            "44/44 [==============================] - 1s 18ms/step - loss: 0.5623 - Accuracy: 0.7960 - false_negatives: 88.0000 - false_positives: 55.0000 - true_negatives: 989.0000 - true_positives: 260.0000 - val_loss: 1.0237 - val_Accuracy: 0.6477 - val_false_negatives: 34.0000 - val_false_positives: 24.0000 - val_true_negatives: 240.0000 - val_true_positives: 54.0000\n",
            "Epoch 65/200\n",
            "44/44 [==============================] - 1s 18ms/step - loss: 0.5251 - Accuracy: 0.7816 - false_negatives: 88.0000 - false_positives: 55.0000 - true_negatives: 989.0000 - true_positives: 260.0000 - val_loss: 0.8799 - val_Accuracy: 0.6818 - val_false_negatives: 33.0000 - val_false_positives: 23.0000 - val_true_negatives: 241.0000 - val_true_positives: 55.0000\n",
            "Epoch 66/200\n",
            "44/44 [==============================] - 1s 18ms/step - loss: 0.5972 - Accuracy: 0.7672 - false_negatives: 96.0000 - false_positives: 64.0000 - true_negatives: 980.0000 - true_positives: 252.0000 - val_loss: 1.1087 - val_Accuracy: 0.6364 - val_false_negatives: 39.0000 - val_false_positives: 25.0000 - val_true_negatives: 239.0000 - val_true_positives: 49.0000\n",
            "Epoch 67/200\n",
            "44/44 [==============================] - 1s 18ms/step - loss: 0.5424 - Accuracy: 0.7960 - false_negatives: 82.0000 - false_positives: 52.0000 - true_negatives: 992.0000 - true_positives: 266.0000 - val_loss: 0.8033 - val_Accuracy: 0.7273 - val_false_negatives: 25.0000 - val_false_positives: 20.0000 - val_true_negatives: 244.0000 - val_true_positives: 63.0000\n",
            "Epoch 68/200\n",
            "44/44 [==============================] - 1s 18ms/step - loss: 0.5509 - Accuracy: 0.7845 - false_negatives: 85.0000 - false_positives: 55.0000 - true_negatives: 989.0000 - true_positives: 263.0000 - val_loss: 0.7183 - val_Accuracy: 0.7386 - val_false_negatives: 29.0000 - val_false_positives: 15.0000 - val_true_negatives: 249.0000 - val_true_positives: 59.0000\n",
            "Epoch 69/200\n",
            "44/44 [==============================] - 1s 18ms/step - loss: 0.4887 - Accuracy: 0.8103 - false_negatives: 77.0000 - false_positives: 51.0000 - true_negatives: 993.0000 - true_positives: 271.0000 - val_loss: 0.8463 - val_Accuracy: 0.7273 - val_false_negatives: 31.0000 - val_false_positives: 21.0000 - val_true_negatives: 243.0000 - val_true_positives: 57.0000\n",
            "Epoch 70/200\n",
            "44/44 [==============================] - 1s 18ms/step - loss: 0.5237 - Accuracy: 0.7931 - false_negatives: 88.0000 - false_positives: 48.0000 - true_negatives: 996.0000 - true_positives: 260.0000 - val_loss: 0.7716 - val_Accuracy: 0.7500 - val_false_negatives: 26.0000 - val_false_positives: 17.0000 - val_true_negatives: 247.0000 - val_true_positives: 62.0000\n",
            "Epoch 71/200\n",
            "44/44 [==============================] - 1s 17ms/step - loss: 0.5264 - Accuracy: 0.8103 - false_negatives: 80.0000 - false_positives: 49.0000 - true_negatives: 995.0000 - true_positives: 268.0000 - val_loss: 0.9551 - val_Accuracy: 0.7045 - val_false_negatives: 32.0000 - val_false_positives: 19.0000 - val_true_negatives: 245.0000 - val_true_positives: 56.0000\n",
            "Epoch 72/200\n",
            "44/44 [==============================] - 1s 18ms/step - loss: 0.5317 - Accuracy: 0.7960 - false_negatives: 86.0000 - false_positives: 55.0000 - true_negatives: 989.0000 - true_positives: 262.0000 - val_loss: 1.0522 - val_Accuracy: 0.7045 - val_false_negatives: 33.0000 - val_false_positives: 23.0000 - val_true_negatives: 241.0000 - val_true_positives: 55.0000\n",
            "Epoch 73/200\n",
            "44/44 [==============================] - 1s 18ms/step - loss: 0.5386 - Accuracy: 0.8190 - false_negatives: 78.0000 - false_positives: 46.0000 - true_negatives: 998.0000 - true_positives: 270.0000 - val_loss: 0.8583 - val_Accuracy: 0.7045 - val_false_negatives: 29.0000 - val_false_positives: 20.0000 - val_true_negatives: 244.0000 - val_true_positives: 59.0000\n",
            "Epoch 74/200\n",
            "44/44 [==============================] - 1s 17ms/step - loss: 0.5373 - Accuracy: 0.7874 - false_negatives: 85.0000 - false_positives: 56.0000 - true_negatives: 988.0000 - true_positives: 263.0000 - val_loss: 0.9486 - val_Accuracy: 0.6818 - val_false_negatives: 31.0000 - val_false_positives: 22.0000 - val_true_negatives: 242.0000 - val_true_positives: 57.0000\n",
            "Epoch 75/200\n",
            "44/44 [==============================] - 1s 17ms/step - loss: 0.5039 - Accuracy: 0.8132 - false_negatives: 78.0000 - false_positives: 51.0000 - true_negatives: 993.0000 - true_positives: 270.0000 - val_loss: 0.9013 - val_Accuracy: 0.7045 - val_false_negatives: 30.0000 - val_false_positives: 22.0000 - val_true_negatives: 242.0000 - val_true_positives: 58.0000\n",
            "Epoch 76/200\n",
            "44/44 [==============================] - 1s 18ms/step - loss: 0.5203 - Accuracy: 0.8075 - false_negatives: 76.0000 - false_positives: 49.0000 - true_negatives: 995.0000 - true_positives: 272.0000 - val_loss: 0.9359 - val_Accuracy: 0.6932 - val_false_negatives: 30.0000 - val_false_positives: 21.0000 - val_true_negatives: 243.0000 - val_true_positives: 58.0000\n",
            "Epoch 77/200\n",
            "44/44 [==============================] - 1s 29ms/step - loss: 0.4920 - Accuracy: 0.7960 - false_negatives: 78.0000 - false_positives: 59.0000 - true_negatives: 985.0000 - true_positives: 270.0000 - val_loss: 1.4716 - val_Accuracy: 0.6364 - val_false_negatives: 33.0000 - val_false_positives: 27.0000 - val_true_negatives: 237.0000 - val_true_positives: 55.0000\n",
            "Epoch 78/200\n",
            "44/44 [==============================] - 1s 18ms/step - loss: 0.5232 - Accuracy: 0.8046 - false_negatives: 83.0000 - false_positives: 48.0000 - true_negatives: 996.0000 - true_positives: 265.0000 - val_loss: 0.7047 - val_Accuracy: 0.7614 - val_false_negatives: 25.0000 - val_false_positives: 16.0000 - val_true_negatives: 248.0000 - val_true_positives: 63.0000\n",
            "Epoch 79/200\n",
            "44/44 [==============================] - 1s 19ms/step - loss: 0.4964 - Accuracy: 0.8103 - false_negatives: 75.0000 - false_positives: 52.0000 - true_negatives: 992.0000 - true_positives: 273.0000 - val_loss: 0.6581 - val_Accuracy: 0.7614 - val_false_negatives: 23.0000 - val_false_positives: 15.0000 - val_true_negatives: 249.0000 - val_true_positives: 65.0000\n",
            "Epoch 80/200\n",
            "44/44 [==============================] - 1s 18ms/step - loss: 0.5179 - Accuracy: 0.8046 - false_negatives: 80.0000 - false_positives: 54.0000 - true_negatives: 990.0000 - true_positives: 268.0000 - val_loss: 1.0200 - val_Accuracy: 0.6818 - val_false_negatives: 30.0000 - val_false_positives: 22.0000 - val_true_negatives: 242.0000 - val_true_positives: 58.0000\n",
            "Epoch 81/200\n",
            "44/44 [==============================] - 1s 18ms/step - loss: 0.4974 - Accuracy: 0.7931 - false_negatives: 84.0000 - false_positives: 46.0000 - true_negatives: 998.0000 - true_positives: 264.0000 - val_loss: 0.7594 - val_Accuracy: 0.7614 - val_false_negatives: 22.0000 - val_false_positives: 16.0000 - val_true_negatives: 248.0000 - val_true_positives: 66.0000\n",
            "Epoch 82/200\n",
            "44/44 [==============================] - 1s 18ms/step - loss: 0.4589 - Accuracy: 0.8161 - false_negatives: 72.0000 - false_positives: 52.0000 - true_negatives: 992.0000 - true_positives: 276.0000 - val_loss: 0.7756 - val_Accuracy: 0.7159 - val_false_negatives: 26.0000 - val_false_positives: 18.0000 - val_true_negatives: 246.0000 - val_true_positives: 62.0000\n",
            "Epoch 83/200\n",
            "44/44 [==============================] - 1s 18ms/step - loss: 0.4711 - Accuracy: 0.8305 - false_negatives: 75.0000 - false_positives: 44.0000 - true_negatives: 1000.0000 - true_positives: 273.0000 - val_loss: 0.7650 - val_Accuracy: 0.7273 - val_false_negatives: 29.0000 - val_false_positives: 16.0000 - val_true_negatives: 248.0000 - val_true_positives: 59.0000\n",
            "Epoch 84/200\n",
            "44/44 [==============================] - 1s 18ms/step - loss: 0.4890 - Accuracy: 0.8132 - false_negatives: 79.0000 - false_positives: 48.0000 - true_negatives: 996.0000 - true_positives: 269.0000 - val_loss: 0.7049 - val_Accuracy: 0.7386 - val_false_negatives: 27.0000 - val_false_positives: 17.0000 - val_true_negatives: 247.0000 - val_true_positives: 61.0000\n",
            "Epoch 85/200\n",
            "44/44 [==============================] - 1s 18ms/step - loss: 0.5197 - Accuracy: 0.7989 - false_negatives: 83.0000 - false_positives: 48.0000 - true_negatives: 996.0000 - true_positives: 265.0000 - val_loss: 1.0416 - val_Accuracy: 0.6932 - val_false_negatives: 31.0000 - val_false_positives: 23.0000 - val_true_negatives: 241.0000 - val_true_positives: 57.0000\n",
            "Epoch 86/200\n",
            "44/44 [==============================] - 1s 18ms/step - loss: 0.4734 - Accuracy: 0.8247 - false_negatives: 75.0000 - false_positives: 47.0000 - true_negatives: 997.0000 - true_positives: 273.0000 - val_loss: 0.8057 - val_Accuracy: 0.7500 - val_false_negatives: 28.0000 - val_false_positives: 20.0000 - val_true_negatives: 244.0000 - val_true_positives: 60.0000\n",
            "Epoch 87/200\n",
            "44/44 [==============================] - 1s 18ms/step - loss: 0.4702 - Accuracy: 0.8190 - false_negatives: 74.0000 - false_positives: 50.0000 - true_negatives: 994.0000 - true_positives: 274.0000 - val_loss: 0.8847 - val_Accuracy: 0.7159 - val_false_negatives: 26.0000 - val_false_positives: 20.0000 - val_true_negatives: 244.0000 - val_true_positives: 62.0000\n",
            "Epoch 88/200\n",
            "44/44 [==============================] - 1s 19ms/step - loss: 0.4900 - Accuracy: 0.8075 - false_negatives: 75.0000 - false_positives: 49.0000 - true_negatives: 995.0000 - true_positives: 273.0000 - val_loss: 0.9452 - val_Accuracy: 0.7159 - val_false_negatives: 29.0000 - val_false_positives: 19.0000 - val_true_negatives: 245.0000 - val_true_positives: 59.0000\n",
            "Epoch 89/200\n",
            "44/44 [==============================] - 1s 18ms/step - loss: 0.5678 - Accuracy: 0.8046 - false_negatives: 79.0000 - false_positives: 48.0000 - true_negatives: 996.0000 - true_positives: 269.0000 - val_loss: 1.2882 - val_Accuracy: 0.6705 - val_false_negatives: 32.0000 - val_false_positives: 24.0000 - val_true_negatives: 240.0000 - val_true_positives: 56.0000\n",
            "Epoch 90/200\n",
            "44/44 [==============================] - 1s 19ms/step - loss: 0.5090 - Accuracy: 0.7845 - false_negatives: 86.0000 - false_positives: 58.0000 - true_negatives: 986.0000 - true_positives: 262.0000 - val_loss: 0.7328 - val_Accuracy: 0.7727 - val_false_negatives: 25.0000 - val_false_positives: 16.0000 - val_true_negatives: 248.0000 - val_true_positives: 63.0000\n",
            "Epoch 91/200\n",
            "44/44 [==============================] - 1s 18ms/step - loss: 0.4387 - Accuracy: 0.8218 - false_negatives: 69.0000 - false_positives: 49.0000 - true_negatives: 995.0000 - true_positives: 279.0000 - val_loss: 0.7261 - val_Accuracy: 0.7614 - val_false_negatives: 25.0000 - val_false_positives: 14.0000 - val_true_negatives: 250.0000 - val_true_positives: 63.0000\n",
            "Epoch 92/200\n",
            "44/44 [==============================] - 1s 19ms/step - loss: 0.4880 - Accuracy: 0.8103 - false_negatives: 81.0000 - false_positives: 51.0000 - true_negatives: 993.0000 - true_positives: 267.0000 - val_loss: 0.7962 - val_Accuracy: 0.7273 - val_false_negatives: 27.0000 - val_false_positives: 17.0000 - val_true_negatives: 247.0000 - val_true_positives: 61.0000\n",
            "Epoch 93/200\n",
            "44/44 [==============================] - 1s 18ms/step - loss: 0.4260 - Accuracy: 0.8305 - false_negatives: 68.0000 - false_positives: 44.0000 - true_negatives: 1000.0000 - true_positives: 280.0000 - val_loss: 1.0033 - val_Accuracy: 0.6818 - val_false_negatives: 30.0000 - val_false_positives: 25.0000 - val_true_negatives: 239.0000 - val_true_positives: 58.0000\n",
            "Epoch 94/200\n",
            "44/44 [==============================] - 1s 18ms/step - loss: 0.4772 - Accuracy: 0.8190 - false_negatives: 74.0000 - false_positives: 51.0000 - true_negatives: 993.0000 - true_positives: 274.0000 - val_loss: 0.7257 - val_Accuracy: 0.7614 - val_false_negatives: 28.0000 - val_false_positives: 16.0000 - val_true_negatives: 248.0000 - val_true_positives: 60.0000\n",
            "Epoch 95/200\n",
            "44/44 [==============================] - 1s 18ms/step - loss: 0.4309 - Accuracy: 0.8276 - false_negatives: 75.0000 - false_positives: 42.0000 - true_negatives: 1002.0000 - true_positives: 273.0000 - val_loss: 1.4636 - val_Accuracy: 0.6705 - val_false_negatives: 32.0000 - val_false_positives: 24.0000 - val_true_negatives: 240.0000 - val_true_positives: 56.0000\n",
            "Epoch 96/200\n",
            "44/44 [==============================] - 1s 18ms/step - loss: 0.4855 - Accuracy: 0.8190 - false_negatives: 71.0000 - false_positives: 48.0000 - true_negatives: 996.0000 - true_positives: 277.0000 - val_loss: 0.8861 - val_Accuracy: 0.7273 - val_false_negatives: 24.0000 - val_false_positives: 21.0000 - val_true_negatives: 243.0000 - val_true_positives: 64.0000\n",
            "Epoch 97/200\n",
            "44/44 [==============================] - 1s 18ms/step - loss: 0.4455 - Accuracy: 0.8420 - false_negatives: 69.0000 - false_positives: 45.0000 - true_negatives: 999.0000 - true_positives: 279.0000 - val_loss: 0.8794 - val_Accuracy: 0.7841 - val_false_negatives: 23.0000 - val_false_positives: 17.0000 - val_true_negatives: 247.0000 - val_true_positives: 65.0000\n",
            "Epoch 98/200\n",
            "44/44 [==============================] - 1s 19ms/step - loss: 0.4461 - Accuracy: 0.8391 - false_negatives: 68.0000 - false_positives: 43.0000 - true_negatives: 1001.0000 - true_positives: 280.0000 - val_loss: 0.7260 - val_Accuracy: 0.7500 - val_false_negatives: 29.0000 - val_false_positives: 15.0000 - val_true_negatives: 249.0000 - val_true_positives: 59.0000\n",
            "Epoch 99/200\n",
            "44/44 [==============================] - 1s 19ms/step - loss: 0.4954 - Accuracy: 0.8161 - false_negatives: 76.0000 - false_positives: 53.0000 - true_negatives: 991.0000 - true_positives: 272.0000 - val_loss: 0.9946 - val_Accuracy: 0.6591 - val_false_negatives: 31.0000 - val_false_positives: 21.0000 - val_true_negatives: 243.0000 - val_true_positives: 57.0000\n",
            "Epoch 100/200\n",
            "44/44 [==============================] - 1s 20ms/step - loss: 0.4316 - Accuracy: 0.8218 - false_negatives: 74.0000 - false_positives: 49.0000 - true_negatives: 995.0000 - true_positives: 274.0000 - val_loss: 1.0814 - val_Accuracy: 0.7045 - val_false_negatives: 29.0000 - val_false_positives: 22.0000 - val_true_negatives: 242.0000 - val_true_positives: 59.0000\n",
            "Epoch 101/200\n",
            "44/44 [==============================] - 1s 19ms/step - loss: 0.4419 - Accuracy: 0.8305 - false_negatives: 70.0000 - false_positives: 48.0000 - true_negatives: 996.0000 - true_positives: 278.0000 - val_loss: 0.7869 - val_Accuracy: 0.7273 - val_false_negatives: 27.0000 - val_false_positives: 19.0000 - val_true_negatives: 245.0000 - val_true_positives: 61.0000\n",
            "Epoch 102/200\n",
            "44/44 [==============================] - 1s 19ms/step - loss: 0.4579 - Accuracy: 0.8333 - false_negatives: 68.0000 - false_positives: 46.0000 - true_negatives: 998.0000 - true_positives: 280.0000 - val_loss: 0.9526 - val_Accuracy: 0.7273 - val_false_negatives: 26.0000 - val_false_positives: 20.0000 - val_true_negatives: 244.0000 - val_true_positives: 62.0000\n",
            "Epoch 103/200\n",
            "44/44 [==============================] - 1s 19ms/step - loss: 0.5034 - Accuracy: 0.8161 - false_negatives: 72.0000 - false_positives: 52.0000 - true_negatives: 992.0000 - true_positives: 276.0000 - val_loss: 0.7789 - val_Accuracy: 0.7500 - val_false_negatives: 30.0000 - val_false_positives: 19.0000 - val_true_negatives: 245.0000 - val_true_positives: 58.0000\n",
            "Epoch 104/200\n",
            "44/44 [==============================] - 1s 19ms/step - loss: 0.4582 - Accuracy: 0.8563 - false_negatives: 67.0000 - false_positives: 36.0000 - true_negatives: 1008.0000 - true_positives: 281.0000 - val_loss: 1.0593 - val_Accuracy: 0.7045 - val_false_negatives: 30.0000 - val_false_positives: 23.0000 - val_true_negatives: 241.0000 - val_true_positives: 58.0000\n",
            "Epoch 105/200\n",
            "44/44 [==============================] - 1s 19ms/step - loss: 0.4214 - Accuracy: 0.8592 - false_negatives: 64.0000 - false_positives: 34.0000 - true_negatives: 1010.0000 - true_positives: 284.0000 - val_loss: 0.8936 - val_Accuracy: 0.7841 - val_false_negatives: 24.0000 - val_false_positives: 17.0000 - val_true_negatives: 247.0000 - val_true_positives: 64.0000\n",
            "Epoch 106/200\n",
            "44/44 [==============================] - 1s 19ms/step - loss: 0.4137 - Accuracy: 0.8534 - false_negatives: 63.0000 - false_positives: 45.0000 - true_negatives: 999.0000 - true_positives: 285.0000 - val_loss: 0.8494 - val_Accuracy: 0.7500 - val_false_negatives: 26.0000 - val_false_positives: 16.0000 - val_true_negatives: 248.0000 - val_true_positives: 62.0000\n",
            "Epoch 107/200\n",
            "44/44 [==============================] - 1s 19ms/step - loss: 0.4648 - Accuracy: 0.8218 - false_negatives: 70.0000 - false_positives: 45.0000 - true_negatives: 999.0000 - true_positives: 278.0000 - val_loss: 0.8624 - val_Accuracy: 0.7614 - val_false_negatives: 27.0000 - val_false_positives: 18.0000 - val_true_negatives: 246.0000 - val_true_positives: 61.0000\n",
            "Epoch 108/200\n",
            "44/44 [==============================] - 1s 19ms/step - loss: 0.4013 - Accuracy: 0.8534 - false_negatives: 60.0000 - false_positives: 38.0000 - true_negatives: 1006.0000 - true_positives: 288.0000 - val_loss: 1.0082 - val_Accuracy: 0.6932 - val_false_negatives: 29.0000 - val_false_positives: 24.0000 - val_true_negatives: 240.0000 - val_true_positives: 59.0000\n",
            "Epoch 109/200\n",
            "44/44 [==============================] - 1s 20ms/step - loss: 0.4254 - Accuracy: 0.8506 - false_negatives: 61.0000 - false_positives: 40.0000 - true_negatives: 1004.0000 - true_positives: 287.0000 - val_loss: 0.9131 - val_Accuracy: 0.7386 - val_false_negatives: 24.0000 - val_false_positives: 20.0000 - val_true_negatives: 244.0000 - val_true_positives: 64.0000\n",
            "Epoch 110/200\n",
            "44/44 [==============================] - 1s 19ms/step - loss: 0.3912 - Accuracy: 0.8477 - false_negatives: 61.0000 - false_positives: 41.0000 - true_negatives: 1003.0000 - true_positives: 287.0000 - val_loss: 0.8984 - val_Accuracy: 0.7159 - val_false_negatives: 26.0000 - val_false_positives: 19.0000 - val_true_negatives: 245.0000 - val_true_positives: 62.0000\n",
            "Epoch 111/200\n",
            "44/44 [==============================] - 1s 20ms/step - loss: 0.4228 - Accuracy: 0.8305 - false_negatives: 71.0000 - false_positives: 48.0000 - true_negatives: 996.0000 - true_positives: 277.0000 - val_loss: 0.9685 - val_Accuracy: 0.7159 - val_false_negatives: 28.0000 - val_false_positives: 21.0000 - val_true_negatives: 243.0000 - val_true_positives: 60.0000\n",
            "Epoch 112/200\n",
            "44/44 [==============================] - 1s 19ms/step - loss: 0.4009 - Accuracy: 0.8218 - false_negatives: 71.0000 - false_positives: 47.0000 - true_negatives: 997.0000 - true_positives: 277.0000 - val_loss: 0.9968 - val_Accuracy: 0.7500 - val_false_negatives: 25.0000 - val_false_positives: 20.0000 - val_true_negatives: 244.0000 - val_true_positives: 63.0000\n",
            "Epoch 113/200\n",
            "44/44 [==============================] - 1s 19ms/step - loss: 0.3855 - Accuracy: 0.8678 - false_negatives: 57.0000 - false_positives: 36.0000 - true_negatives: 1008.0000 - true_positives: 291.0000 - val_loss: 0.9173 - val_Accuracy: 0.7386 - val_false_negatives: 24.0000 - val_false_positives: 19.0000 - val_true_negatives: 245.0000 - val_true_positives: 64.0000\n",
            "Epoch 114/200\n",
            "44/44 [==============================] - 1s 20ms/step - loss: 0.4384 - Accuracy: 0.8103 - false_negatives: 71.0000 - false_positives: 60.0000 - true_negatives: 984.0000 - true_positives: 277.0000 - val_loss: 0.8491 - val_Accuracy: 0.7500 - val_false_negatives: 30.0000 - val_false_positives: 19.0000 - val_true_negatives: 245.0000 - val_true_positives: 58.0000\n",
            "Epoch 115/200\n",
            "44/44 [==============================] - 1s 19ms/step - loss: 0.4271 - Accuracy: 0.8276 - false_negatives: 71.0000 - false_positives: 39.0000 - true_negatives: 1005.0000 - true_positives: 277.0000 - val_loss: 1.0685 - val_Accuracy: 0.7273 - val_false_negatives: 25.0000 - val_false_positives: 20.0000 - val_true_negatives: 244.0000 - val_true_positives: 63.0000\n",
            "Epoch 116/200\n",
            "44/44 [==============================] - 1s 19ms/step - loss: 0.3570 - Accuracy: 0.8649 - false_negatives: 57.0000 - false_positives: 39.0000 - true_negatives: 1005.0000 - true_positives: 291.0000 - val_loss: 0.9320 - val_Accuracy: 0.7500 - val_false_negatives: 25.0000 - val_false_positives: 18.0000 - val_true_negatives: 246.0000 - val_true_positives: 63.0000\n",
            "Epoch 117/200\n",
            "44/44 [==============================] - 1s 19ms/step - loss: 0.3372 - Accuracy: 0.8793 - false_negatives: 53.0000 - false_positives: 36.0000 - true_negatives: 1008.0000 - true_positives: 295.0000 - val_loss: 1.0321 - val_Accuracy: 0.7500 - val_false_negatives: 23.0000 - val_false_positives: 20.0000 - val_true_negatives: 244.0000 - val_true_positives: 65.0000\n",
            "Epoch 118/200\n",
            "44/44 [==============================] - 1s 19ms/step - loss: 0.4098 - Accuracy: 0.8448 - false_negatives: 59.0000 - false_positives: 44.0000 - true_negatives: 1000.0000 - true_positives: 289.0000 - val_loss: 0.9535 - val_Accuracy: 0.7273 - val_false_negatives: 25.0000 - val_false_positives: 20.0000 - val_true_negatives: 244.0000 - val_true_positives: 63.0000\n",
            "Epoch 119/200\n",
            "44/44 [==============================] - 1s 19ms/step - loss: 0.3667 - Accuracy: 0.8649 - false_negatives: 55.0000 - false_positives: 43.0000 - true_negatives: 1001.0000 - true_positives: 293.0000 - val_loss: 0.9235 - val_Accuracy: 0.7841 - val_false_negatives: 22.0000 - val_false_positives: 16.0000 - val_true_negatives: 248.0000 - val_true_positives: 66.0000\n",
            "Epoch 120/200\n",
            "44/44 [==============================] - 1s 19ms/step - loss: 0.3370 - Accuracy: 0.8736 - false_negatives: 52.0000 - false_positives: 35.0000 - true_negatives: 1009.0000 - true_positives: 296.0000 - val_loss: 1.2065 - val_Accuracy: 0.7159 - val_false_negatives: 27.0000 - val_false_positives: 25.0000 - val_true_negatives: 239.0000 - val_true_positives: 61.0000\n",
            "Epoch 121/200\n",
            "44/44 [==============================] - 1s 19ms/step - loss: 0.3659 - Accuracy: 0.8592 - false_negatives: 59.0000 - false_positives: 39.0000 - true_negatives: 1005.0000 - true_positives: 289.0000 - val_loss: 0.8506 - val_Accuracy: 0.7386 - val_false_negatives: 27.0000 - val_false_positives: 19.0000 - val_true_negatives: 245.0000 - val_true_positives: 61.0000\n",
            "Epoch 122/200\n",
            "44/44 [==============================] - 1s 19ms/step - loss: 0.4116 - Accuracy: 0.8420 - false_negatives: 65.0000 - false_positives: 49.0000 - true_negatives: 995.0000 - true_positives: 283.0000 - val_loss: 0.8077 - val_Accuracy: 0.7614 - val_false_negatives: 28.0000 - val_false_positives: 16.0000 - val_true_negatives: 248.0000 - val_true_positives: 60.0000\n",
            "Epoch 123/200\n",
            "44/44 [==============================] - 1s 19ms/step - loss: 0.3954 - Accuracy: 0.8592 - false_negatives: 56.0000 - false_positives: 41.0000 - true_negatives: 1003.0000 - true_positives: 292.0000 - val_loss: 0.8357 - val_Accuracy: 0.7955 - val_false_negatives: 21.0000 - val_false_positives: 16.0000 - val_true_negatives: 248.0000 - val_true_positives: 67.0000\n",
            "Epoch 124/200\n",
            "44/44 [==============================] - 1s 19ms/step - loss: 0.3568 - Accuracy: 0.8592 - false_negatives: 59.0000 - false_positives: 41.0000 - true_negatives: 1003.0000 - true_positives: 289.0000 - val_loss: 0.7616 - val_Accuracy: 0.7727 - val_false_negatives: 25.0000 - val_false_positives: 17.0000 - val_true_negatives: 247.0000 - val_true_positives: 63.0000\n",
            "Epoch 125/200\n",
            "44/44 [==============================] - 1s 19ms/step - loss: 0.4114 - Accuracy: 0.8305 - false_negatives: 72.0000 - false_positives: 47.0000 - true_negatives: 997.0000 - true_positives: 276.0000 - val_loss: 0.7911 - val_Accuracy: 0.7614 - val_false_negatives: 24.0000 - val_false_positives: 18.0000 - val_true_negatives: 246.0000 - val_true_positives: 64.0000\n",
            "Epoch 126/200\n",
            "44/44 [==============================] - 1s 19ms/step - loss: 0.3531 - Accuracy: 0.8793 - false_negatives: 52.0000 - false_positives: 35.0000 - true_negatives: 1009.0000 - true_positives: 296.0000 - val_loss: 0.8335 - val_Accuracy: 0.7727 - val_false_negatives: 23.0000 - val_false_positives: 17.0000 - val_true_negatives: 247.0000 - val_true_positives: 65.0000\n",
            "Epoch 127/200\n",
            "44/44 [==============================] - 1s 19ms/step - loss: 0.3526 - Accuracy: 0.8649 - false_negatives: 57.0000 - false_positives: 38.0000 - true_negatives: 1006.0000 - true_positives: 291.0000 - val_loss: 1.0975 - val_Accuracy: 0.7386 - val_false_negatives: 25.0000 - val_false_positives: 21.0000 - val_true_negatives: 243.0000 - val_true_positives: 63.0000\n",
            "Epoch 128/200\n",
            "44/44 [==============================] - 1s 19ms/step - loss: 0.3635 - Accuracy: 0.8621 - false_negatives: 56.0000 - false_positives: 42.0000 - true_negatives: 1002.0000 - true_positives: 292.0000 - val_loss: 0.9364 - val_Accuracy: 0.7614 - val_false_negatives: 24.0000 - val_false_positives: 20.0000 - val_true_negatives: 244.0000 - val_true_positives: 64.0000\n",
            "Epoch 129/200\n",
            "44/44 [==============================] - 1s 19ms/step - loss: 0.3535 - Accuracy: 0.8636 - false_negatives: 56.0000 - false_positives: 41.0000 - true_negatives: 1015.0000 - true_positives: 296.0000 - val_loss: 0.9661 - val_Accuracy: 0.7386 - val_false_negatives: 23.0000 - val_false_positives: 23.0000 - val_true_negatives: 241.0000 - val_true_positives: 65.0000\n",
            "Epoch 130/200\n",
            "44/44 [==============================] - 1s 19ms/step - loss: 0.3260 - Accuracy: 0.8822 - false_negatives: 49.0000 - false_positives: 32.0000 - true_negatives: 1012.0000 - true_positives: 299.0000 - val_loss: 0.8033 - val_Accuracy: 0.7614 - val_false_negatives: 22.0000 - val_false_positives: 18.0000 - val_true_negatives: 246.0000 - val_true_positives: 66.0000\n",
            "Epoch 131/200\n",
            "44/44 [==============================] - 1s 19ms/step - loss: 0.3203 - Accuracy: 0.8649 - false_negatives: 51.0000 - false_positives: 36.0000 - true_negatives: 1008.0000 - true_positives: 297.0000 - val_loss: 0.9569 - val_Accuracy: 0.7614 - val_false_negatives: 23.0000 - val_false_positives: 20.0000 - val_true_negatives: 244.0000 - val_true_positives: 65.0000\n",
            "Epoch 132/200\n",
            "44/44 [==============================] - 1s 19ms/step - loss: 0.3102 - Accuracy: 0.8908 - false_negatives: 44.0000 - false_positives: 31.0000 - true_negatives: 1013.0000 - true_positives: 304.0000 - val_loss: 0.9336 - val_Accuracy: 0.7500 - val_false_negatives: 23.0000 - val_false_positives: 20.0000 - val_true_negatives: 244.0000 - val_true_positives: 65.0000\n",
            "Epoch 133/200\n",
            "44/44 [==============================] - 1s 19ms/step - loss: 0.3392 - Accuracy: 0.8793 - false_negatives: 51.0000 - false_positives: 32.0000 - true_negatives: 1012.0000 - true_positives: 297.0000 - val_loss: 0.9980 - val_Accuracy: 0.7614 - val_false_negatives: 23.0000 - val_false_positives: 20.0000 - val_true_negatives: 244.0000 - val_true_positives: 65.0000\n",
            "Epoch 134/200\n",
            "44/44 [==============================] - 1s 19ms/step - loss: 0.3277 - Accuracy: 0.8707 - false_negatives: 54.0000 - false_positives: 36.0000 - true_negatives: 1008.0000 - true_positives: 294.0000 - val_loss: 1.0619 - val_Accuracy: 0.7386 - val_false_negatives: 26.0000 - val_false_positives: 20.0000 - val_true_negatives: 244.0000 - val_true_positives: 62.0000\n",
            "Epoch 135/200\n",
            "44/44 [==============================] - 1s 20ms/step - loss: 0.3593 - Accuracy: 0.8649 - false_negatives: 55.0000 - false_positives: 38.0000 - true_negatives: 1006.0000 - true_positives: 293.0000 - val_loss: 1.4234 - val_Accuracy: 0.6932 - val_false_negatives: 27.0000 - val_false_positives: 26.0000 - val_true_negatives: 238.0000 - val_true_positives: 61.0000\n",
            "Epoch 136/200\n",
            "44/44 [==============================] - 1s 20ms/step - loss: 0.3584 - Accuracy: 0.8678 - false_negatives: 55.0000 - false_positives: 40.0000 - true_negatives: 1004.0000 - true_positives: 293.0000 - val_loss: 0.9855 - val_Accuracy: 0.7614 - val_false_negatives: 23.0000 - val_false_positives: 19.0000 - val_true_negatives: 245.0000 - val_true_positives: 65.0000\n",
            "Epoch 137/200\n",
            "44/44 [==============================] - 1s 19ms/step - loss: 0.3141 - Accuracy: 0.8764 - false_negatives: 49.0000 - false_positives: 38.0000 - true_negatives: 1006.0000 - true_positives: 299.0000 - val_loss: 1.0081 - val_Accuracy: 0.7614 - val_false_negatives: 23.0000 - val_false_positives: 19.0000 - val_true_negatives: 245.0000 - val_true_positives: 65.0000\n",
            "Epoch 138/200\n",
            "44/44 [==============================] - 1s 20ms/step - loss: 0.3390 - Accuracy: 0.8793 - false_negatives: 48.0000 - false_positives: 38.0000 - true_negatives: 1006.0000 - true_positives: 300.0000 - val_loss: 0.9099 - val_Accuracy: 0.7727 - val_false_negatives: 23.0000 - val_false_positives: 18.0000 - val_true_negatives: 246.0000 - val_true_positives: 65.0000\n",
            "Epoch 139/200\n",
            "44/44 [==============================] - 1s 19ms/step - loss: 0.3274 - Accuracy: 0.8764 - false_negatives: 52.0000 - false_positives: 39.0000 - true_negatives: 1005.0000 - true_positives: 296.0000 - val_loss: 1.3676 - val_Accuracy: 0.7045 - val_false_negatives: 26.0000 - val_false_positives: 25.0000 - val_true_negatives: 239.0000 - val_true_positives: 62.0000\n",
            "Epoch 140/200\n",
            "44/44 [==============================] - 1s 19ms/step - loss: 0.3626 - Accuracy: 0.8937 - false_negatives: 47.0000 - false_positives: 34.0000 - true_negatives: 1010.0000 - true_positives: 301.0000 - val_loss: 1.0770 - val_Accuracy: 0.7500 - val_false_negatives: 22.0000 - val_false_positives: 20.0000 - val_true_negatives: 244.0000 - val_true_positives: 66.0000\n",
            "Epoch 141/200\n",
            "44/44 [==============================] - 1s 19ms/step - loss: 0.3040 - Accuracy: 0.8764 - false_negatives: 50.0000 - false_positives: 35.0000 - true_negatives: 1009.0000 - true_positives: 298.0000 - val_loss: 1.2297 - val_Accuracy: 0.7045 - val_false_negatives: 26.0000 - val_false_positives: 24.0000 - val_true_negatives: 240.0000 - val_true_positives: 62.0000\n",
            "Epoch 142/200\n",
            "44/44 [==============================] - 1s 20ms/step - loss: 0.3066 - Accuracy: 0.8966 - false_negatives: 43.0000 - false_positives: 30.0000 - true_negatives: 1014.0000 - true_positives: 305.0000 - val_loss: 1.1032 - val_Accuracy: 0.7273 - val_false_negatives: 25.0000 - val_false_positives: 22.0000 - val_true_negatives: 242.0000 - val_true_positives: 63.0000\n",
            "Epoch 143/200\n",
            "44/44 [==============================] - 1s 19ms/step - loss: 0.3009 - Accuracy: 0.9138 - false_negatives: 38.0000 - false_positives: 26.0000 - true_negatives: 1018.0000 - true_positives: 310.0000 - val_loss: 1.0836 - val_Accuracy: 0.7159 - val_false_negatives: 26.0000 - val_false_positives: 23.0000 - val_true_negatives: 241.0000 - val_true_positives: 62.0000\n",
            "Epoch 144/200\n",
            "44/44 [==============================] - 1s 19ms/step - loss: 0.3041 - Accuracy: 0.8678 - false_negatives: 50.0000 - false_positives: 37.0000 - true_negatives: 1007.0000 - true_positives: 298.0000 - val_loss: 1.5197 - val_Accuracy: 0.7273 - val_false_negatives: 25.0000 - val_false_positives: 24.0000 - val_true_negatives: 240.0000 - val_true_positives: 63.0000\n",
            "Epoch 145/200\n",
            "44/44 [==============================] - 1s 20ms/step - loss: 0.3327 - Accuracy: 0.8879 - false_negatives: 48.0000 - false_positives: 33.0000 - true_negatives: 1011.0000 - true_positives: 300.0000 - val_loss: 1.2365 - val_Accuracy: 0.7159 - val_false_negatives: 25.0000 - val_false_positives: 23.0000 - val_true_negatives: 241.0000 - val_true_positives: 63.0000\n",
            "Epoch 146/200\n",
            "44/44 [==============================] - 1s 19ms/step - loss: 0.3099 - Accuracy: 0.8937 - false_negatives: 46.0000 - false_positives: 34.0000 - true_negatives: 1010.0000 - true_positives: 302.0000 - val_loss: 1.1905 - val_Accuracy: 0.7386 - val_false_negatives: 24.0000 - val_false_positives: 20.0000 - val_true_negatives: 244.0000 - val_true_positives: 64.0000\n",
            "Epoch 147/200\n",
            "44/44 [==============================] - 1s 20ms/step - loss: 0.2913 - Accuracy: 0.8822 - false_negatives: 43.0000 - false_positives: 37.0000 - true_negatives: 1007.0000 - true_positives: 305.0000 - val_loss: 1.0861 - val_Accuracy: 0.7159 - val_false_negatives: 28.0000 - val_false_positives: 21.0000 - val_true_negatives: 243.0000 - val_true_positives: 60.0000\n",
            "Epoch 148/200\n",
            "44/44 [==============================] - 1s 20ms/step - loss: 0.3435 - Accuracy: 0.8678 - false_negatives: 55.0000 - false_positives: 43.0000 - true_negatives: 1001.0000 - true_positives: 293.0000 - val_loss: 1.4730 - val_Accuracy: 0.7386 - val_false_negatives: 24.0000 - val_false_positives: 21.0000 - val_true_negatives: 243.0000 - val_true_positives: 64.0000\n",
            "Epoch 149/200\n",
            "44/44 [==============================] - 1s 19ms/step - loss: 0.3670 - Accuracy: 0.8707 - false_negatives: 52.0000 - false_positives: 41.0000 - true_negatives: 1003.0000 - true_positives: 296.0000 - val_loss: 0.9768 - val_Accuracy: 0.6932 - val_false_negatives: 29.0000 - val_false_positives: 22.0000 - val_true_negatives: 242.0000 - val_true_positives: 59.0000\n",
            "Epoch 150/200\n",
            "44/44 [==============================] - 1s 19ms/step - loss: 0.2966 - Accuracy: 0.8966 - false_negatives: 40.0000 - false_positives: 28.0000 - true_negatives: 1016.0000 - true_positives: 308.0000 - val_loss: 0.9817 - val_Accuracy: 0.7955 - val_false_negatives: 19.0000 - val_false_positives: 17.0000 - val_true_negatives: 247.0000 - val_true_positives: 69.0000\n",
            "Epoch 151/200\n",
            "44/44 [==============================] - 1s 19ms/step - loss: 0.3217 - Accuracy: 0.8678 - false_negatives: 52.0000 - false_positives: 31.0000 - true_negatives: 1013.0000 - true_positives: 296.0000 - val_loss: 1.1783 - val_Accuracy: 0.7614 - val_false_negatives: 21.0000 - val_false_positives: 20.0000 - val_true_negatives: 244.0000 - val_true_positives: 67.0000\n",
            "Epoch 152/200\n",
            "44/44 [==============================] - 1s 19ms/step - loss: 0.2639 - Accuracy: 0.9080 - false_negatives: 34.0000 - false_positives: 27.0000 - true_negatives: 1017.0000 - true_positives: 314.0000 - val_loss: 1.0748 - val_Accuracy: 0.7614 - val_false_negatives: 21.0000 - val_false_positives: 18.0000 - val_true_negatives: 246.0000 - val_true_positives: 67.0000\n",
            "Epoch 153/200\n",
            "44/44 [==============================] - 1s 19ms/step - loss: 0.2580 - Accuracy: 0.8851 - false_negatives: 45.0000 - false_positives: 31.0000 - true_negatives: 1013.0000 - true_positives: 303.0000 - val_loss: 1.2752 - val_Accuracy: 0.7614 - val_false_negatives: 22.0000 - val_false_positives: 19.0000 - val_true_negatives: 245.0000 - val_true_positives: 66.0000\n",
            "Epoch 154/200\n",
            "44/44 [==============================] - 1s 20ms/step - loss: 0.3571 - Accuracy: 0.8736 - false_negatives: 48.0000 - false_positives: 36.0000 - true_negatives: 1008.0000 - true_positives: 300.0000 - val_loss: 1.4900 - val_Accuracy: 0.7614 - val_false_negatives: 23.0000 - val_false_positives: 20.0000 - val_true_negatives: 244.0000 - val_true_positives: 65.0000\n",
            "Epoch 155/200\n",
            "44/44 [==============================] - 1s 20ms/step - loss: 0.2659 - Accuracy: 0.8879 - false_negatives: 43.0000 - false_positives: 33.0000 - true_negatives: 1011.0000 - true_positives: 305.0000 - val_loss: 0.9462 - val_Accuracy: 0.8182 - val_false_negatives: 17.0000 - val_false_positives: 14.0000 - val_true_negatives: 250.0000 - val_true_positives: 71.0000\n",
            "Epoch 156/200\n",
            "44/44 [==============================] - 1s 19ms/step - loss: 0.3086 - Accuracy: 0.8822 - false_negatives: 50.0000 - false_positives: 34.0000 - true_negatives: 1010.0000 - true_positives: 298.0000 - val_loss: 1.1783 - val_Accuracy: 0.7500 - val_false_negatives: 23.0000 - val_false_positives: 21.0000 - val_true_negatives: 243.0000 - val_true_positives: 65.0000\n",
            "Epoch 157/200\n",
            "44/44 [==============================] - 1s 19ms/step - loss: 0.2953 - Accuracy: 0.8879 - false_negatives: 45.0000 - false_positives: 33.0000 - true_negatives: 1011.0000 - true_positives: 303.0000 - val_loss: 0.8386 - val_Accuracy: 0.7500 - val_false_negatives: 24.0000 - val_false_positives: 21.0000 - val_true_negatives: 243.0000 - val_true_positives: 64.0000\n",
            "Epoch 158/200\n",
            "44/44 [==============================] - 1s 19ms/step - loss: 0.3555 - Accuracy: 0.8621 - false_negatives: 54.0000 - false_positives: 39.0000 - true_negatives: 1005.0000 - true_positives: 294.0000 - val_loss: 1.0640 - val_Accuracy: 0.7159 - val_false_negatives: 28.0000 - val_false_positives: 20.0000 - val_true_negatives: 244.0000 - val_true_positives: 60.0000\n",
            "Epoch 159/200\n",
            "44/44 [==============================] - 1s 20ms/step - loss: 0.3074 - Accuracy: 0.8937 - false_negatives: 45.0000 - false_positives: 28.0000 - true_negatives: 1016.0000 - true_positives: 303.0000 - val_loss: 1.2136 - val_Accuracy: 0.7841 - val_false_negatives: 21.0000 - val_false_positives: 18.0000 - val_true_negatives: 246.0000 - val_true_positives: 67.0000\n",
            "Epoch 160/200\n",
            "44/44 [==============================] - 1s 18ms/step - loss: 0.3057 - Accuracy: 0.8851 - false_negatives: 50.0000 - false_positives: 34.0000 - true_negatives: 1010.0000 - true_positives: 298.0000 - val_loss: 1.0072 - val_Accuracy: 0.7727 - val_false_negatives: 21.0000 - val_false_positives: 17.0000 - val_true_negatives: 247.0000 - val_true_positives: 67.0000\n",
            "Epoch 161/200\n",
            "44/44 [==============================] - 1s 19ms/step - loss: 0.2892 - Accuracy: 0.8879 - false_negatives: 41.0000 - false_positives: 30.0000 - true_negatives: 1014.0000 - true_positives: 307.0000 - val_loss: 1.0963 - val_Accuracy: 0.7386 - val_false_negatives: 25.0000 - val_false_positives: 20.0000 - val_true_negatives: 244.0000 - val_true_positives: 63.0000\n",
            "Epoch 162/200\n",
            "44/44 [==============================] - 1s 19ms/step - loss: 0.2849 - Accuracy: 0.8908 - false_negatives: 42.0000 - false_positives: 29.0000 - true_negatives: 1015.0000 - true_positives: 306.0000 - val_loss: 1.2812 - val_Accuracy: 0.7273 - val_false_negatives: 24.0000 - val_false_positives: 23.0000 - val_true_negatives: 241.0000 - val_true_positives: 64.0000\n",
            "Epoch 163/200\n",
            "44/44 [==============================] - 1s 19ms/step - loss: 0.2434 - Accuracy: 0.9195 - false_negatives: 34.0000 - false_positives: 20.0000 - true_negatives: 1024.0000 - true_positives: 314.0000 - val_loss: 1.2633 - val_Accuracy: 0.7500 - val_false_negatives: 23.0000 - val_false_positives: 18.0000 - val_true_negatives: 246.0000 - val_true_positives: 65.0000\n",
            "Epoch 164/200\n",
            "44/44 [==============================] - 1s 19ms/step - loss: 0.3571 - Accuracy: 0.8707 - false_negatives: 53.0000 - false_positives: 38.0000 - true_negatives: 1006.0000 - true_positives: 295.0000 - val_loss: 1.1580 - val_Accuracy: 0.7500 - val_false_negatives: 26.0000 - val_false_positives: 21.0000 - val_true_negatives: 243.0000 - val_true_positives: 62.0000\n",
            "Epoch 165/200\n",
            "44/44 [==============================] - 1s 19ms/step - loss: 0.2770 - Accuracy: 0.8937 - false_negatives: 43.0000 - false_positives: 29.0000 - true_negatives: 1015.0000 - true_positives: 305.0000 - val_loss: 0.9818 - val_Accuracy: 0.7614 - val_false_negatives: 22.0000 - val_false_positives: 19.0000 - val_true_negatives: 245.0000 - val_true_positives: 66.0000\n",
            "Epoch 166/200\n",
            "44/44 [==============================] - 1s 20ms/step - loss: 0.2766 - Accuracy: 0.9052 - false_negatives: 35.0000 - false_positives: 30.0000 - true_negatives: 1014.0000 - true_positives: 313.0000 - val_loss: 1.0854 - val_Accuracy: 0.7614 - val_false_negatives: 21.0000 - val_false_positives: 19.0000 - val_true_negatives: 245.0000 - val_true_positives: 67.0000\n",
            "Epoch 167/200\n",
            "44/44 [==============================] - 1s 19ms/step - loss: 0.2471 - Accuracy: 0.9080 - false_negatives: 38.0000 - false_positives: 29.0000 - true_negatives: 1015.0000 - true_positives: 310.0000 - val_loss: 1.0290 - val_Accuracy: 0.7386 - val_false_negatives: 23.0000 - val_false_positives: 20.0000 - val_true_negatives: 244.0000 - val_true_positives: 65.0000\n",
            "Epoch 168/200\n",
            "44/44 [==============================] - 1s 20ms/step - loss: 0.2408 - Accuracy: 0.9109 - false_negatives: 36.0000 - false_positives: 26.0000 - true_negatives: 1018.0000 - true_positives: 312.0000 - val_loss: 1.3101 - val_Accuracy: 0.7727 - val_false_negatives: 20.0000 - val_false_positives: 17.0000 - val_true_negatives: 247.0000 - val_true_positives: 68.0000\n",
            "Epoch 169/200\n",
            "44/44 [==============================] - 1s 19ms/step - loss: 0.3162 - Accuracy: 0.8966 - false_negatives: 43.0000 - false_positives: 31.0000 - true_negatives: 1013.0000 - true_positives: 305.0000 - val_loss: 1.1008 - val_Accuracy: 0.7159 - val_false_negatives: 26.0000 - val_false_positives: 23.0000 - val_true_negatives: 241.0000 - val_true_positives: 62.0000\n",
            "Epoch 170/200\n",
            "44/44 [==============================] - 1s 20ms/step - loss: 0.2942 - Accuracy: 0.8736 - false_negatives: 48.0000 - false_positives: 35.0000 - true_negatives: 1009.0000 - true_positives: 300.0000 - val_loss: 1.1671 - val_Accuracy: 0.7955 - val_false_negatives: 20.0000 - val_false_positives: 18.0000 - val_true_negatives: 246.0000 - val_true_positives: 68.0000\n",
            "Epoch 171/200\n",
            "44/44 [==============================] - 1s 20ms/step - loss: 0.2552 - Accuracy: 0.9023 - false_negatives: 37.0000 - false_positives: 30.0000 - true_negatives: 1014.0000 - true_positives: 311.0000 - val_loss: 1.5344 - val_Accuracy: 0.7614 - val_false_negatives: 22.0000 - val_false_positives: 19.0000 - val_true_negatives: 245.0000 - val_true_positives: 66.0000\n",
            "Epoch 172/200\n",
            "44/44 [==============================] - 1s 20ms/step - loss: 0.2448 - Accuracy: 0.9023 - false_negatives: 38.0000 - false_positives: 27.0000 - true_negatives: 1017.0000 - true_positives: 310.0000 - val_loss: 1.1236 - val_Accuracy: 0.7614 - val_false_negatives: 21.0000 - val_false_positives: 20.0000 - val_true_negatives: 244.0000 - val_true_positives: 67.0000\n",
            "Epoch 173/200\n",
            "44/44 [==============================] - 1s 19ms/step - loss: 0.2575 - Accuracy: 0.9052 - false_negatives: 41.0000 - false_positives: 29.0000 - true_negatives: 1015.0000 - true_positives: 307.0000 - val_loss: 1.3601 - val_Accuracy: 0.7273 - val_false_negatives: 26.0000 - val_false_positives: 23.0000 - val_true_negatives: 241.0000 - val_true_positives: 62.0000\n",
            "Epoch 174/200\n",
            "44/44 [==============================] - 1s 20ms/step - loss: 0.2116 - Accuracy: 0.9282 - false_negatives: 29.0000 - false_positives: 20.0000 - true_negatives: 1024.0000 - true_positives: 319.0000 - val_loss: 1.3274 - val_Accuracy: 0.7386 - val_false_negatives: 24.0000 - val_false_positives: 20.0000 - val_true_negatives: 244.0000 - val_true_positives: 64.0000\n",
            "Epoch 175/200\n",
            "44/44 [==============================] - 1s 20ms/step - loss: 0.2952 - Accuracy: 0.8851 - false_negatives: 43.0000 - false_positives: 37.0000 - true_negatives: 1007.0000 - true_positives: 305.0000 - val_loss: 1.2414 - val_Accuracy: 0.7955 - val_false_negatives: 19.0000 - val_false_positives: 16.0000 - val_true_negatives: 248.0000 - val_true_positives: 69.0000\n",
            "Epoch 176/200\n",
            "44/44 [==============================] - 1s 20ms/step - loss: 0.2334 - Accuracy: 0.9138 - false_negatives: 34.0000 - false_positives: 21.0000 - true_negatives: 1023.0000 - true_positives: 314.0000 - val_loss: 1.2932 - val_Accuracy: 0.7955 - val_false_negatives: 19.0000 - val_false_positives: 17.0000 - val_true_negatives: 247.0000 - val_true_positives: 69.0000\n",
            "Epoch 177/200\n",
            "44/44 [==============================] - 1s 20ms/step - loss: 0.2225 - Accuracy: 0.9282 - false_negatives: 26.0000 - false_positives: 24.0000 - true_negatives: 1020.0000 - true_positives: 322.0000 - val_loss: 1.4516 - val_Accuracy: 0.7841 - val_false_negatives: 19.0000 - val_false_positives: 18.0000 - val_true_negatives: 246.0000 - val_true_positives: 69.0000\n",
            "Epoch 178/200\n",
            "44/44 [==============================] - 1s 20ms/step - loss: 0.2380 - Accuracy: 0.8994 - false_negatives: 37.0000 - false_positives: 26.0000 - true_negatives: 1018.0000 - true_positives: 311.0000 - val_loss: 1.2635 - val_Accuracy: 0.7841 - val_false_negatives: 20.0000 - val_false_positives: 18.0000 - val_true_negatives: 246.0000 - val_true_positives: 68.0000\n",
            "Epoch 179/200\n",
            "44/44 [==============================] - 1s 20ms/step - loss: 0.2109 - Accuracy: 0.9282 - false_negatives: 28.0000 - false_positives: 17.0000 - true_negatives: 1027.0000 - true_positives: 320.0000 - val_loss: 1.3248 - val_Accuracy: 0.7955 - val_false_negatives: 19.0000 - val_false_positives: 18.0000 - val_true_negatives: 246.0000 - val_true_positives: 69.0000\n",
            "Epoch 180/200\n",
            "44/44 [==============================] - 1s 20ms/step - loss: 0.2294 - Accuracy: 0.9109 - false_negatives: 33.0000 - false_positives: 28.0000 - true_negatives: 1016.0000 - true_positives: 315.0000 - val_loss: 1.5401 - val_Accuracy: 0.7386 - val_false_negatives: 23.0000 - val_false_positives: 22.0000 - val_true_negatives: 242.0000 - val_true_positives: 65.0000\n",
            "Epoch 181/200\n",
            "44/44 [==============================] - 1s 20ms/step - loss: 0.2362 - Accuracy: 0.9052 - false_negatives: 35.0000 - false_positives: 30.0000 - true_negatives: 1014.0000 - true_positives: 313.0000 - val_loss: 1.3405 - val_Accuracy: 0.7727 - val_false_negatives: 20.0000 - val_false_positives: 19.0000 - val_true_negatives: 245.0000 - val_true_positives: 68.0000\n",
            "Epoch 182/200\n",
            "44/44 [==============================] - 1s 20ms/step - loss: 0.2197 - Accuracy: 0.9167 - false_negatives: 30.0000 - false_positives: 25.0000 - true_negatives: 1019.0000 - true_positives: 318.0000 - val_loss: 1.4976 - val_Accuracy: 0.7727 - val_false_negatives: 21.0000 - val_false_positives: 17.0000 - val_true_negatives: 247.0000 - val_true_positives: 67.0000\n",
            "Epoch 183/200\n",
            "44/44 [==============================] - 1s 19ms/step - loss: 0.2126 - Accuracy: 0.9224 - false_negatives: 30.0000 - false_positives: 23.0000 - true_negatives: 1021.0000 - true_positives: 318.0000 - val_loss: 1.5058 - val_Accuracy: 0.7614 - val_false_negatives: 23.0000 - val_false_positives: 19.0000 - val_true_negatives: 245.0000 - val_true_positives: 65.0000\n",
            "Epoch 184/200\n",
            "44/44 [==============================] - 1s 20ms/step - loss: 0.2808 - Accuracy: 0.8851 - false_negatives: 47.0000 - false_positives: 36.0000 - true_negatives: 1008.0000 - true_positives: 301.0000 - val_loss: 1.8194 - val_Accuracy: 0.7045 - val_false_negatives: 26.0000 - val_false_positives: 23.0000 - val_true_negatives: 241.0000 - val_true_positives: 62.0000\n",
            "Epoch 185/200\n",
            "44/44 [==============================] - 1s 20ms/step - loss: 0.2445 - Accuracy: 0.8879 - false_negatives: 45.0000 - false_positives: 34.0000 - true_negatives: 1010.0000 - true_positives: 303.0000 - val_loss: 1.3979 - val_Accuracy: 0.7500 - val_false_negatives: 23.0000 - val_false_positives: 18.0000 - val_true_negatives: 246.0000 - val_true_positives: 65.0000\n",
            "Epoch 186/200\n",
            "44/44 [==============================] - 1s 20ms/step - loss: 0.3086 - Accuracy: 0.8764 - false_negatives: 44.0000 - false_positives: 40.0000 - true_negatives: 1004.0000 - true_positives: 304.0000 - val_loss: 1.3701 - val_Accuracy: 0.6705 - val_false_negatives: 30.0000 - val_false_positives: 28.0000 - val_true_negatives: 236.0000 - val_true_positives: 58.0000\n",
            "Epoch 187/200\n",
            "44/44 [==============================] - 1s 20ms/step - loss: 0.3076 - Accuracy: 0.8764 - false_negatives: 49.0000 - false_positives: 38.0000 - true_negatives: 1006.0000 - true_positives: 299.0000 - val_loss: 1.3445 - val_Accuracy: 0.6364 - val_false_negatives: 32.0000 - val_false_positives: 31.0000 - val_true_negatives: 233.0000 - val_true_positives: 56.0000\n",
            "Epoch 188/200\n",
            "44/44 [==============================] - 1s 20ms/step - loss: 0.2571 - Accuracy: 0.8994 - false_negatives: 35.0000 - false_positives: 31.0000 - true_negatives: 1013.0000 - true_positives: 313.0000 - val_loss: 1.2807 - val_Accuracy: 0.7614 - val_false_negatives: 21.0000 - val_false_positives: 18.0000 - val_true_negatives: 246.0000 - val_true_positives: 67.0000\n",
            "Epoch 189/200\n",
            "44/44 [==============================] - 1s 20ms/step - loss: 0.2050 - Accuracy: 0.9109 - false_negatives: 33.0000 - false_positives: 27.0000 - true_negatives: 1017.0000 - true_positives: 315.0000 - val_loss: 1.2342 - val_Accuracy: 0.7727 - val_false_negatives: 20.0000 - val_false_positives: 19.0000 - val_true_negatives: 245.0000 - val_true_positives: 68.0000\n",
            "Epoch 190/200\n",
            "44/44 [==============================] - 1s 19ms/step - loss: 0.3031 - Accuracy: 0.8793 - false_negatives: 45.0000 - false_positives: 38.0000 - true_negatives: 1006.0000 - true_positives: 303.0000 - val_loss: 1.2572 - val_Accuracy: 0.7841 - val_false_negatives: 20.0000 - val_false_positives: 18.0000 - val_true_negatives: 246.0000 - val_true_positives: 68.0000\n",
            "Epoch 191/200\n",
            "44/44 [==============================] - 1s 20ms/step - loss: 0.2581 - Accuracy: 0.8994 - false_negatives: 37.0000 - false_positives: 29.0000 - true_negatives: 1015.0000 - true_positives: 311.0000 - val_loss: 1.3954 - val_Accuracy: 0.7386 - val_false_negatives: 23.0000 - val_false_positives: 22.0000 - val_true_negatives: 242.0000 - val_true_positives: 65.0000\n",
            "Epoch 192/200\n",
            "44/44 [==============================] - 1s 21ms/step - loss: 0.2299 - Accuracy: 0.8966 - false_negatives: 38.0000 - false_positives: 29.0000 - true_negatives: 1015.0000 - true_positives: 310.0000 - val_loss: 1.5364 - val_Accuracy: 0.7386 - val_false_negatives: 23.0000 - val_false_positives: 22.0000 - val_true_negatives: 242.0000 - val_true_positives: 65.0000\n",
            "Epoch 193/200\n",
            "44/44 [==============================] - 1s 20ms/step - loss: 0.1752 - Accuracy: 0.9425 - false_negatives: 25.0000 - false_positives: 17.0000 - true_negatives: 1027.0000 - true_positives: 323.0000 - val_loss: 1.2987 - val_Accuracy: 0.7727 - val_false_negatives: 22.0000 - val_false_positives: 20.0000 - val_true_negatives: 244.0000 - val_true_positives: 66.0000\n",
            "Epoch 194/200\n",
            "44/44 [==============================] - 1s 20ms/step - loss: 0.2212 - Accuracy: 0.9195 - false_negatives: 32.0000 - false_positives: 26.0000 - true_negatives: 1018.0000 - true_positives: 316.0000 - val_loss: 1.4437 - val_Accuracy: 0.7955 - val_false_negatives: 18.0000 - val_false_positives: 17.0000 - val_true_negatives: 247.0000 - val_true_positives: 70.0000\n",
            "Epoch 195/200\n",
            "44/44 [==============================] - 1s 20ms/step - loss: 0.3106 - Accuracy: 0.8822 - false_negatives: 46.0000 - false_positives: 33.0000 - true_negatives: 1011.0000 - true_positives: 302.0000 - val_loss: 1.4523 - val_Accuracy: 0.7273 - val_false_negatives: 26.0000 - val_false_positives: 21.0000 - val_true_negatives: 243.0000 - val_true_positives: 62.0000\n",
            "Epoch 196/200\n",
            "44/44 [==============================] - 1s 20ms/step - loss: 0.1816 - Accuracy: 0.9282 - false_negatives: 29.0000 - false_positives: 20.0000 - true_negatives: 1024.0000 - true_positives: 319.0000 - val_loss: 1.4491 - val_Accuracy: 0.7955 - val_false_negatives: 19.0000 - val_false_positives: 17.0000 - val_true_negatives: 247.0000 - val_true_positives: 69.0000\n",
            "Epoch 197/200\n",
            "44/44 [==============================] - 1s 20ms/step - loss: 0.1851 - Accuracy: 0.9368 - false_negatives: 26.0000 - false_positives: 21.0000 - true_negatives: 1023.0000 - true_positives: 322.0000 - val_loss: 2.0734 - val_Accuracy: 0.7273 - val_false_negatives: 24.0000 - val_false_positives: 23.0000 - val_true_negatives: 241.0000 - val_true_positives: 64.0000\n",
            "Epoch 198/200\n",
            "44/44 [==============================] - 1s 20ms/step - loss: 0.2589 - Accuracy: 0.8966 - false_negatives: 38.0000 - false_positives: 33.0000 - true_negatives: 1011.0000 - true_positives: 310.0000 - val_loss: 1.8428 - val_Accuracy: 0.7386 - val_false_negatives: 23.0000 - val_false_positives: 22.0000 - val_true_negatives: 242.0000 - val_true_positives: 65.0000\n",
            "Epoch 199/200\n",
            "44/44 [==============================] - 1s 20ms/step - loss: 0.2104 - Accuracy: 0.9195 - false_negatives: 29.0000 - false_positives: 25.0000 - true_negatives: 1019.0000 - true_positives: 319.0000 - val_loss: 1.2947 - val_Accuracy: 0.7614 - val_false_negatives: 22.0000 - val_false_positives: 20.0000 - val_true_negatives: 244.0000 - val_true_positives: 66.0000\n",
            "Epoch 200/200\n",
            "44/44 [==============================] - 1s 20ms/step - loss: 0.1815 - Accuracy: 0.9310 - false_negatives: 26.0000 - false_positives: 21.0000 - true_negatives: 1023.0000 - true_positives: 322.0000 - val_loss: 1.3552 - val_Accuracy: 0.7045 - val_false_negatives: 27.0000 - val_false_positives: 23.0000 - val_true_negatives: 241.0000 - val_true_positives: 61.0000\n"
          ]
        }
      ]
    },
    {
      "cell_type": "markdown",
      "source": [
        "Plotting Traning Result"
      ],
      "metadata": {
        "id": "XZSFG8fXqz7c"
      }
    },
    {
      "cell_type": "code",
      "source": [
        "  #plotting\n",
        "  epochs = range(1, len(history.history['loss'])+1)\n",
        "  plt.title(f\"Grafik loss training iterasi {iterasi}\")\n",
        "  plt.plot(epochs, history.history['loss'], 'r', label='Training Loss')\n",
        "  plt.plot(epochs, history.history['val_loss'], 'b', label='Validation Loss')    \n",
        "  plt.xlabel(\"Epoch\")\n",
        "  plt.ylabel(\"Loss\")\n",
        "  plt.legend()\n",
        "  plt.show()\n"
      ],
      "metadata": {
        "id": "3dXbDrJpY1NK",
        "colab": {
          "base_uri": "https://localhost:8080/",
          "height": 295
        },
        "outputId": "838bd2ce-c35e-46af-d5ff-8f8b60178249"
      },
      "execution_count": 12,
      "outputs": [
        {
          "output_type": "display_data",
          "data": {
            "text/plain": [
              "<Figure size 432x288 with 1 Axes>"
            ],
            "image/png": "[encoded data removed]"
          },
          "metadata": {
            "needs_background": "light"
          }
        }
      ]
    },
    {
      "cell_type": "code",
      "source": [
        "  #plotting\n",
        "  epochs = range(1, len(history.history['loss'])+1)\n",
        "  plt.title(f\"Grafik Akurasi training iterasi {iterasi}\")\n",
        "  plt.plot(epochs, history.history['Accuracy'], 'r', label='Training Accuracy')\n",
        "  plt.plot(epochs, history.history['val_Accuracy'], 'b', label='Validation Accuracy')    \n",
        "  plt.xlabel(\"Epoch\")\n",
        "  plt.ylabel(\"Accuracy\")\n",
        "  plt.legend()\n",
        "  plt.show()"
      ],
      "metadata": {
        "id": "j3xigprPwlSX",
        "colab": {
          "base_uri": "https://localhost:8080/",
          "height": 295
        },
        "outputId": "555c8f30-b123-42e3-95f6-2b7d6bc16cb5"
      },
      "execution_count": 13,
      "outputs": [
        {
          "output_type": "display_data",
          "data": {
            "text/plain": [
              "<Figure size 432x288 with 1 Axes>"
            ],
            "image/png": "[encoded data removed]"
          },
          "metadata": {
            "needs_background": "light"
          }
        }
      ]
    },
    {
      "cell_type": "code",
      "source": [
        "import matplotlib.pyplot as plt\n",
        "from sklearn.datasets import make_classification\n",
        "from numpy import mean\n",
        "from sklearn.metrics import confusion_matrix, ConfusionMatrixDisplay, accuracy_score, classification_report, recall_score\n",
        "\n",
        "validation = model.predict(np_image_list_validation)\n",
        "\n",
        "predicted_labels = []\n",
        "correct_labels = []\n",
        "for i in range (len(validation)):\n",
        "  predicted_labels.append(np.argmax(validation[i]))\n",
        "\n",
        "for i in range (len(image_labels_validation)):\n",
        "  correct_labels.append(np.argmax(image_labels_validation[i]))\n",
        "\n",
        "\n",
        "confusion_matrix = confusion_matrix(correct_labels, predicted_labels)\n",
        "disp = ConfusionMatrixDisplay(confusion_matrix=confusion_matrix)  \n",
        "disp.plot()\n",
        "plt.show()\n",
        "print('--------')\n",
        "FP = confusion_matrix.sum(axis=0) - np.diag(confusion_matrix)  \n",
        "FN = confusion_matrix.sum(axis=1) - np.diag(confusion_matrix)\n",
        "TP = np.diag(confusion_matrix)\n",
        "TN = confusion_matrix.sum() - (FP + FN + TP)\n",
        "\n",
        "# Sensitivity, hit rate, recall, or true positive rate\n",
        "TPR = TP/(TP+FN)\n",
        "# Specificity or true negative rate\n",
        "TNR = TN/(TN+FP) \n",
        "# Overall accuracy\n",
        "ACC = (TP+TN)/(TP+FP+FN+TN)\n",
        "\n",
        "print(TP)\n",
        "print(TN)\n",
        "print(FP)\n",
        "print(FN)\n",
        "print('--------')\n",
        "print(ACC)\n",
        "print(TPR)\n",
        "print(TNR)\n",
        "print('--------')\n",
        "\n",
        "TP = sum(TP)\n",
        "TN = sum(TN)\n",
        "FP = sum(FP)\n",
        "FN = sum(FN)\n",
        "\n",
        "# Sensitivity, hit rate, recall, or true positive rate\n",
        "TPR = TP/(TP+FN)\n",
        "# Specificity or true negative rate\n",
        "TNR = TN/(TN+FP) \n",
        "# Overall accuracy\n",
        "ACC = (TP+TN)/(TP+FP+FN+TN)\n",
        "\n",
        "print(TP)\n",
        "print(TN)\n",
        "print(FP)\n",
        "print(FN)\n",
        "print('--------')\n",
        "print(ACC)\n",
        "print(TPR)\n",
        "print(TNR)"
      ],
      "metadata": {
        "colab": {
          "base_uri": "https://localhost:8080/",
          "height": 591
        },
        "id": "y0RigLm76Rpg",
        "outputId": "cd11cb6c-3f13-44c9-9b80-b5c7e6c5e53d"
      },
      "execution_count": 14,
      "outputs": [
        {
          "output_type": "display_data",
          "data": {
            "text/plain": [
              "<Figure size 432x288 with 2 Axes>"
            ],
            "image/png": "[encoded data removed]"
          },
          "metadata": {
            "needs_background": "light"
          }
        },
        {
          "output_type": "stream",
          "name": "stdout",
          "text": [
            "--------\n",
            "[ 7  5 16 34]\n",
            "[72 68 60 38]\n",
            "[ 6  7  3 10]\n",
            "[3 8 9 6]\n",
            "--------\n",
            "[0.89772727 0.82954545 0.86363636 0.81818182]\n",
            "[0.7        0.38461538 0.64       0.85      ]\n",
            "[0.92307692 0.90666667 0.95238095 0.79166667]\n",
            "--------\n",
            "62\n",
            "238\n",
            "26\n",
            "26\n",
            "--------\n",
            "0.8522727272727273\n",
            "0.7045454545454546\n",
            "0.9015151515151515\n"
          ]
        }
      ]
    },
    {
      "cell_type": "code",
      "source": [
        "import matplotlib.pyplot as plt\n",
        "from sklearn.datasets import make_classification\n",
        "from numpy import mean\n",
        "from sklearn.metrics import confusion_matrix, ConfusionMatrixDisplay, accuracy_score, classification_report, recall_score\n",
        "\n",
        "test = model.predict(np_image_list_test)\n",
        "\n",
        "predicted_labels = []\n",
        "correct_labels = []\n",
        "for i in range (len(test)):\n",
        "  predicted_labels.append(np.argmax(test[i]))\n",
        "\n",
        "for i in range (len(image_labels_test)):\n",
        "  correct_labels.append(np.argmax(image_labels_test[i]))\n",
        "\n",
        "\n",
        "confusion_matrix = confusion_matrix(correct_labels, predicted_labels)\n",
        "disp = ConfusionMatrixDisplay(confusion_matrix=confusion_matrix)  \n",
        "disp.plot()\n",
        "plt.show()\n",
        "print('--------')\n",
        "FP = confusion_matrix.sum(axis=0) - np.diag(confusion_matrix)  \n",
        "FN = confusion_matrix.sum(axis=1) - np.diag(confusion_matrix)\n",
        "TP = np.diag(confusion_matrix)\n",
        "TN = confusion_matrix.sum() - (FP + FN + TP)\n",
        "\n",
        "# Sensitivity, hit rate, recall, or true positive rate\n",
        "TPR = TP/(TP+FN)\n",
        "# Specificity or true negative rate\n",
        "TNR = TN/(TN+FP) \n",
        "# Overall accuracy\n",
        "ACC = (TP+TN)/(TP+FP+FN+TN)\n",
        "\n",
        "print(TP)\n",
        "print(TN)\n",
        "print(FP)\n",
        "print(FN)\n",
        "print('--------')\n",
        "print(ACC)\n",
        "print(TPR)\n",
        "print(TNR)\n",
        "print('--------')\n",
        "\n",
        "TP = sum(TP)\n",
        "TN = sum(TN)\n",
        "FP = sum(FP)\n",
        "FN = sum(FN)\n",
        "\n",
        "# Sensitivity, hit rate, recall, or true positive rate\n",
        "TPR = TP/(TP+FN)\n",
        "# Specificity or true negative rate\n",
        "TNR = TN/(TN+FP) \n",
        "# Overall accuracy\n",
        "ACC = (TP+TN)/(TP+FP+FN+TN)\n",
        "\n",
        "print(TP)\n",
        "print(TN)\n",
        "print(FP)\n",
        "print(FN)\n",
        "print('--------')\n",
        "print(ACC)\n",
        "print(TPR)\n",
        "print(TNR)"
      ],
      "metadata": {
        "colab": {
          "base_uri": "https://localhost:8080/",
          "height": 591
        },
        "id": "xufCN02P5v4A",
        "outputId": "d76311fc-9047-4f7a-a7a3-27b2248bdf0b"
      },
      "execution_count": 15,
      "outputs": [
        {
          "output_type": "display_data",
          "data": {
            "text/plain": [
              "<Figure size 432x288 with 2 Axes>"
            ],
            "image/png": "[encoded data removed]"
          },
          "metadata": {
            "needs_background": "light"
          }
        },
        {
          "output_type": "stream",
          "name": "stdout",
          "text": [
            "--------\n",
            "[ 5  7 14 37]\n",
            "[89 86 67 41]\n",
            "[ 9  8 11 19]\n",
            "[ 7  9 18 13]\n",
            "--------\n",
            "[0.85454545 0.84545455 0.73636364 0.70909091]\n",
            "[0.41666667 0.4375     0.4375     0.74      ]\n",
            "[0.90816327 0.91489362 0.85897436 0.68333333]\n",
            "--------\n",
            "63\n",
            "283\n",
            "47\n",
            "47\n",
            "--------\n",
            "0.7863636363636364\n",
            "0.5727272727272728\n",
            "0.8575757575757575\n"
          ]
        }
      ]
    },
    {
      "cell_type": "markdown",
      "metadata": {
        "id": "bTgk1-sdzmgy"
      },
      "source": [
        "**Validating** Network"
      ]
    },
    {
      "cell_type": "code",
      "source": [
        "\n"
      ],
      "metadata": {
        "id": "d_NBE4KkWuhu"
      },
      "execution_count": 15,
      "outputs": []
    },
    {
      "cell_type": "markdown",
      "source": [
        "**Testing** Network"
      ],
      "metadata": {
        "id": "saJYjKqX9tRL"
      }
    },
    {
      "cell_type": "code",
      "source": [
        "\n"
      ],
      "metadata": {
        "id": "A7DR52hmTc75"
      },
      "execution_count": 15,
      "outputs": []
    },
    {
      "cell_type": "code",
      "source": [
        "test_img = cv2.imread('/content/Datasets/fold2/Test/apel_sehat/apel_sehat (1).jpg')\n",
        "\n",
        "plt.imshow(test_img)\n",
        "test_img = test_img / 255\n",
        "test_img = np.expand_dims(test_img, axis=0)\n",
        "pr=model.predict(test_img)\n",
        "\n",
        "print(pr)\n",
        "output = label_binarizer.inverse_transform(pr)\n",
        "print(output)"
      ],
      "metadata": {
        "colab": {
          "base_uri": "https://localhost:8080/",
          "height": 303
        },
        "id": "zkMI6CwJArvo",
        "outputId": "a915bfe3-e4a3-40ec-bd42-0701b6951788"
      },
      "execution_count": 16,
      "outputs": [
        {
          "output_type": "stream",
          "name": "stdout",
          "text": [
            "[[1.8221793e-03 1.9352235e-06 5.2206218e-03 9.9295539e-01]]\n",
            "['apel_sehat']\n"
          ]
        },
        {
          "output_type": "display_data",
          "data": {
            "text/plain": [
              "<Figure size 432x288 with 1 Axes>"
            ],
            "image/png": "[encoded data removed]"
          },
          "metadata": {
            "needs_background": "light"
          }
        }
      ]
    },
    {
      "cell_type": "code",
      "source": [
        "# save the model to disk\n",
        "#print(\"[INFO] Saving model...\")\n",
        "#pickle.dump(model,open('cnn_model.pkl', 'wb'))\n",
        "#model.save('/content/fold1.h5')"
      ],
      "metadata": {
        "id": "Wr_b8qBuCAIS"
      },
      "execution_count": 17,
      "outputs": []
    }
  ]
}