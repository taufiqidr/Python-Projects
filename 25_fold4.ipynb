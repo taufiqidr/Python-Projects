{
  "nbformat": 4,
  "nbformat_minor": 0,
  "metadata": {
    "accelerator": "GPU",
    "colab": {
      "name": "Kodingan Skripsi 3",
      "provenance": [],
      "collapsed_sections": [],
      "include_colab_link": true
    },
    "kernelspec": {
      "display_name": "Python 3",
      "language": "python",
      "name": "python3"
    },
    "language_info": {
      "codemirror_mode": {
        "name": "ipython",
        "version": 3
      },
      "file_extension": ".py",
      "mimetype": "text/x-python",
      "name": "python",
      "nbconvert_exporter": "python",
      "pygments_lexer": "ipython3",
      "version": "3.6.6"
    }
  },
  "cells": [
    {
      "cell_type": "markdown",
      "metadata": {
        "id": "view-in-github",
        "colab_type": "text"
      },
      "source": [
        "<a href=\"https://colab.research.google.com/github/TaufiqIdrus/Python-Projects/blob/master/25_fold4.ipynb\" target=\"_parent\"><img src=\"https://colab.research.google.com/assets/colab-badge.svg\" alt=\"Open In Colab\"/></a>"
      ]
    },
    {
      "cell_type": "markdown",
      "metadata": {
        "id": "yJT_kQA2lITS"
      },
      "source": [
        "**Identifikasi Penyakit Pada Tanaman Apel menggunakan Convolutional Neural Network**"
      ]
    },
    {
      "cell_type": "code",
      "metadata": {
        "id": "xXeOaYTUzmgT"
      },
      "source": [
        "import numpy as np\n",
        "import pickle\n",
        "import os\n",
        "import cv2\n",
        "import tensorflow as tf\n",
        "import keras\n",
        "from os import listdir\n",
        "from sklearn.preprocessing import LabelBinarizer\n",
        "from keras.models import Sequential\n",
        "from keras.layers.convolutional import Conv2D\n",
        "from keras.layers.convolutional import MaxPooling2D\n",
        "from keras.layers.core import Activation, Flatten, Dropout, Dense\n",
        "from keras import backend as K\n",
        "from tensorflow.keras.optimizers import Adam\n",
        "from keras.preprocessing import image\n",
        "import matplotlib.pyplot as plt\n",
        "from sklearn.datasets import make_classification\n",
        "from numpy import mean\n"
      ],
      "execution_count": 1,
      "outputs": []
    },
    {
      "cell_type": "markdown",
      "metadata": {
        "id": "fp8C0d28lQok"
      },
      "source": [
        "Importing and Preparing Dataset"
      ]
    },
    {
      "cell_type": "code",
      "metadata": {
        "id": "_0xehllADlUs",
        "colab": {
          "base_uri": "https://localhost:8080/"
        },
        "outputId": "972b3329-4ba0-46ae-fba6-319882c350c7"
      },
      "source": [
        "!pip install pyunpack\n",
        "!pip install patool\n",
        "from pyunpack import Archive\n",
        "Archive('/content/fold4.rar').extractall('/content/Datasets/')\n",
        "iterasi = 4\n",
        "width=60\n",
        "height=60\n",
        "default_image_size = tuple((height, width))\n",
        "directory_root_train = '/content/Datasets/fold4/Train'\n",
        "directory_root_validation = '/content/Datasets/fold4/Validation'\n",
        "directory_root_test = '/content/Datasets/fold4/Test'\n",
        "image_size = 0\n",
        "depth=3"
      ],
      "execution_count": 2,
      "outputs": [
        {
          "output_type": "stream",
          "name": "stdout",
          "text": [
            "Looking in indexes: https://pypi.org/simple, https://us-python.pkg.dev/colab-wheels/public/simple/\n",
            "Collecting pyunpack\n",
            "  Downloading pyunpack-0.3-py2.py3-none-any.whl (4.1 kB)\n",
            "Collecting easyprocess\n",
            "  Downloading EasyProcess-1.1-py3-none-any.whl (8.7 kB)\n",
            "Collecting entrypoint2\n",
            "  Downloading entrypoint2-1.1-py2.py3-none-any.whl (9.9 kB)\n",
            "Installing collected packages: entrypoint2, easyprocess, pyunpack\n",
            "Successfully installed easyprocess-1.1 entrypoint2-1.1 pyunpack-0.3\n",
            "Looking in indexes: https://pypi.org/simple, https://us-python.pkg.dev/colab-wheels/public/simple/\n",
            "Collecting patool\n",
            "  Downloading patool-1.12-py2.py3-none-any.whl (77 kB)\n",
            "\u001b[K     |████████████████████████████████| 77 kB 3.0 MB/s \n",
            "\u001b[?25hInstalling collected packages: patool\n",
            "Successfully installed patool-1.12\n"
          ]
        }
      ]
    },
    {
      "cell_type": "code",
      "metadata": {
        "id": "KbAwJJTpzmge"
      },
      "source": [
        "def convert_image_to_array(image_dir):\n",
        "    try:\n",
        "        image = cv2.imread(image_dir)\n",
        "        if image is not None :\n",
        "            image = cv2.resize(image, default_image_size)   \n",
        "            return keras.preprocessing.image.img_to_array(image)\n",
        "        else :\n",
        "            return np.array([])\n",
        "    except Exception as e:\n",
        "        print(f\"Error : {e}\")\n",
        "        return None"
      ],
      "execution_count": 3,
      "outputs": []
    },
    {
      "cell_type": "markdown",
      "source": [
        "Converting **Training** Data to Array"
      ],
      "metadata": {
        "id": "bgXxUMO2cI_D"
      }
    },
    {
      "cell_type": "code",
      "metadata": {
        "id": "Erz6IjKXzmgg",
        "colab": {
          "base_uri": "https://localhost:8080/"
        },
        "outputId": "9f50d9d5-7bd6-4796-fe7d-4e713bbbab26"
      },
      "source": [
        "image_list_train, label_list_train = [], []\n",
        "try:\n",
        "    print(\"[INFO] Loading images ...\")\n",
        "    root_dir = listdir(directory_root_train)\n",
        "\n",
        "    for plant_disease_folder in root_dir:\n",
        "        print(f\"[INFO] Processing {plant_disease_folder} ...\")\n",
        "        plant_disease_image_list = listdir(f\"{directory_root_train}/{plant_disease_folder}/\")\n",
        "      \n",
        "        for image in plant_disease_image_list:\n",
        "            image_directory = f\"{directory_root_train}/{plant_disease_folder}/{image}\"\n",
        "\n",
        "            if image_directory.endswith(\".jpg\") == True or image_directory.endswith(\".JPG\") == True:\n",
        "                image_list_train.append(convert_image_to_array(image_directory))\n",
        "                label_list_train.append(plant_disease_folder)\n",
        "    print(\"[INFO] Image loading completed\")\n",
        "\n",
        "except Exception as e:\n",
        "    print(f\"Error : {e}\")\n",
        "\n",
        "#image labeling\n",
        "image_size = len(image_list_train)\n",
        "label_binarizer = LabelBinarizer()\n",
        "image_labels_train = label_binarizer.fit_transform(label_list_train)\n",
        "pickle.dump(label_binarizer,open('label_transform_train.pkl', 'wb'))\n",
        "n_classes = len(label_binarizer.classes_)\n",
        "np_image_list_train = np.array(image_list_train, dtype=np.float16) / 255.0"
      ],
      "execution_count": 4,
      "outputs": [
        {
          "output_type": "stream",
          "name": "stdout",
          "text": [
            "[INFO] Loading images ...\n",
            "[INFO] Processing apel_sehat ...\n",
            "[INFO] Processing apel_bercak_daun ...\n",
            "[INFO] Processing apel_cacar_daun ...\n",
            "[INFO] Processing apel_busuk_buah ...\n",
            "[INFO] Image loading completed\n"
          ]
        }
      ]
    },
    {
      "cell_type": "markdown",
      "source": [
        "Converting **Validation** Data to Array"
      ],
      "metadata": {
        "id": "7eEMGiqRd_E4"
      }
    },
    {
      "cell_type": "code",
      "source": [
        "image_list_validation, label_list_validation = [], []\n",
        "try:\n",
        "    print(\"[INFO] Loading images ...\")\n",
        "    root_dir = listdir(directory_root_validation)\n",
        "\n",
        "    for plant_disease_folder in root_dir:\n",
        "        print(f\"[INFO] Processing {plant_disease_folder} ...\")\n",
        "        plant_disease_image_list = listdir(f\"{directory_root_validation}/{plant_disease_folder}/\")\n",
        "      \n",
        "        for image in plant_disease_image_list:\n",
        "            image_directory = f\"{directory_root_validation}/{plant_disease_folder}/{image}\"\n",
        "\n",
        "            if image_directory.endswith(\".jpg\") == True or image_directory.endswith(\".JPG\") == True:\n",
        "                image_list_validation.append(convert_image_to_array(image_directory))\n",
        "                label_list_validation.append(plant_disease_folder)\n",
        "    print(\"[INFO] Image loading completed\")\n",
        "\n",
        "except Exception as e:\n",
        "    print(f\"Error : {e}\")\n",
        "\n",
        "#image labeling\n",
        "image_size = len(image_list_validation)\n",
        "label_binarizer = LabelBinarizer()\n",
        "image_labels_validation = label_binarizer.fit_transform(label_list_validation)\n",
        "pickle.dump(label_binarizer,open('label_transform_validation.pkl', 'wb'))\n",
        "n_classes = len(label_binarizer.classes_)\n",
        "np_image_list_validation = np.array(image_list_validation, dtype=np.float16) / 255.0"
      ],
      "metadata": {
        "id": "wfHDdR0ZeEuU",
        "colab": {
          "base_uri": "https://localhost:8080/"
        },
        "outputId": "d7b76b56-5133-47e9-dec4-03371f94f5e1"
      },
      "execution_count": 5,
      "outputs": [
        {
          "output_type": "stream",
          "name": "stdout",
          "text": [
            "[INFO] Loading images ...\n",
            "[INFO] Processing apel_sehat ...\n",
            "[INFO] Processing apel_bercak_daun ...\n",
            "[INFO] Processing apel_cacar_daun ...\n",
            "[INFO] Processing apel_busuk_buah ...\n",
            "[INFO] Image loading completed\n"
          ]
        }
      ]
    },
    {
      "cell_type": "markdown",
      "source": [
        "Converting **Testing** Data to Array"
      ],
      "metadata": {
        "id": "brwWyZVncTdg"
      }
    },
    {
      "cell_type": "code",
      "metadata": {
        "id": "uNPby5UMcaWY",
        "colab": {
          "base_uri": "https://localhost:8080/"
        },
        "outputId": "f1651644-4a6c-4418-c0dc-4cc815dfc228"
      },
      "source": [
        "image_list_test, label_list_test = [], []\n",
        "try:\n",
        "    print(\"[INFO] Loading images ...\")\n",
        "    root_dir = listdir(directory_root_test)\n",
        "\n",
        "    for plant_disease_folder in root_dir:\n",
        "        print(f\"[INFO] Processing {plant_disease_folder} ...\")\n",
        "        plant_disease_image_list = listdir(f\"{directory_root_test}/{plant_disease_folder}/\")\n",
        "      \n",
        "        for image in plant_disease_image_list:\n",
        "            image_directory = f\"{directory_root_test}/{plant_disease_folder}/{image}\"\n",
        "\n",
        "            if image_directory.endswith(\".jpg\") == True or image_directory.endswith(\".JPG\") == True:\n",
        "                image_list_test.append(convert_image_to_array(image_directory))\n",
        "                label_list_test.append(plant_disease_folder)\n",
        "    print(\"[INFO] Image loading completed\")\n",
        "\n",
        "except Exception as e:\n",
        "    print(f\"Error : {e}\")\n",
        "\n",
        "#image labeling\n",
        "image_size = len(image_list_test)\n",
        "label_binarizer = LabelBinarizer()\n",
        "image_labels_test = label_binarizer.fit_transform(label_list_test)\n",
        "pickle.dump(label_binarizer,open('label_transform_test.pkl', 'wb'))\n",
        "n_classes = len(label_binarizer.classes_)\n",
        "np_image_list_test = np.array(image_list_test, dtype=np.float16) / 255.0"
      ],
      "execution_count": 6,
      "outputs": [
        {
          "output_type": "stream",
          "name": "stdout",
          "text": [
            "[INFO] Loading images ...\n",
            "[INFO] Processing apel_sehat ...\n",
            "[INFO] Processing apel_bercak_daun ...\n",
            "[INFO] Processing apel_cacar_daun ...\n",
            "[INFO] Processing apel_busuk_buah ...\n",
            "[INFO] Image loading completed\n"
          ]
        }
      ]
    },
    {
      "cell_type": "markdown",
      "metadata": {
        "id": "jYBTFN0CnAi7"
      },
      "source": [
        "Data Augmenting Initialization"
      ]
    },
    {
      "cell_type": "code",
      "metadata": {
        "id": "TLMxMK2Tzmgr"
      },
      "source": [
        "aug = keras.preprocessing.image.ImageDataGenerator(\n",
        "    rotation_range=25, \n",
        "    width_shift_range=0.1,\n",
        "    height_shift_range=0.1, \n",
        "    shear_range=0.2, \n",
        "    zoom_range=0.2,\n",
        "    horizontal_flip=True, \n",
        "    fill_mode=\"nearest\")"
      ],
      "execution_count": 7,
      "outputs": []
    },
    {
      "cell_type": "markdown",
      "metadata": {
        "id": "H1BfRyYNnGv_"
      },
      "source": [
        "Creating CNN Model"
      ]
    },
    {
      "cell_type": "code",
      "metadata": {
        "id": "WmLX4wm8zmgs"
      },
      "source": [
        "model = keras.models.Sequential()\n",
        "inputShape = (height, width, depth)\n",
        "\n",
        "model.add(Conv2D(20, (5, 5), padding=\"same\",input_shape=inputShape))\n",
        "model.add(Activation(\"relu\"))\n",
        "\n",
        "model.add(MaxPooling2D(pool_size=(2, 2), strides=2))\n",
        "\n",
        "model.add(Conv2D(50, (5, 5), padding=\"same\"))\n",
        "model.add(Activation(\"relu\"))\n",
        "\n",
        "model.add(MaxPooling2D(pool_size=(2, 2),strides=2))\n",
        "\n",
        "model.add(Flatten())\n",
        "\n",
        "model.add(Dense(500))\n",
        "model.add(Activation(\"relu\"))\n",
        "\n",
        "model.add(Dense(4))\n",
        "model.add(Activation(\"softmax\"))"
      ],
      "execution_count": 8,
      "outputs": []
    },
    {
      "cell_type": "code",
      "source": [
        "#model.summary()"
      ],
      "metadata": {
        "id": "RQIgaph8hW06"
      },
      "execution_count": 9,
      "outputs": []
    },
    {
      "cell_type": "code",
      "source": [
        "#from PIL import Image\n",
        "#from keras.utils.vis_utils import plot_model\n",
        "#plot_model(model, to_file='cnn_model.png', show_shapes=True, show_layer_names=True)\n",
        "#display(Image.open('cnn_model.png'))"
      ],
      "metadata": {
        "id": "T05gPuu1GudW"
      },
      "execution_count": 10,
      "outputs": []
    },
    {
      "cell_type": "markdown",
      "metadata": {
        "id": "Zfsu3lVfnXFG"
      },
      "source": [
        "**Training** Network"
      ]
    },
    {
      "cell_type": "code",
      "metadata": {
        "id": "rvwKwe3Lzmgv",
        "colab": {
          "base_uri": "https://localhost:8080/"
        },
        "outputId": "8ab843f7-f327-455c-85c6-a42498a48e50"
      },
      "source": [
        "EPOCHS = 200\n",
        "INIT_LR = 1e-3\n",
        "BS = 8\n",
        "\n",
        "with tf.device('/GPU:0'):\n",
        "  opt = Adam(learning_rate=INIT_LR, decay=INIT_LR / EPOCHS)\n",
        "  model.compile(loss=\"categorical_crossentropy\", optimizer=opt,metrics=[\"Accuracy\", \"FalseNegatives\", \"FalsePositives\", \"TrueNegatives\", \"TruePositives\"])\n",
        "  \n",
        "  history = model.fit(\n",
        "      aug.flow(np_image_list_train, image_labels_train, batch_size=BS),\n",
        "      validation_data=(np_image_list_validation, image_labels_validation),\n",
        "      steps_per_epoch=len(np_image_list_train) // BS,\n",
        "      epochs=EPOCHS, \n",
        "      verbose=1,\n",
        "      )\n"
      ],
      "execution_count": 11,
      "outputs": [
        {
          "output_type": "stream",
          "name": "stdout",
          "text": [
            "Epoch 1/200\n",
            "44/44 [==============================] - 18s 66ms/step - loss: 1.4889 - Accuracy: 0.4091 - false_negatives: 305.0000 - false_positives: 56.0000 - true_negatives: 1000.0000 - true_positives: 47.0000 - val_loss: 1.2680 - val_Accuracy: 0.4545 - val_false_negatives: 88.0000 - val_false_positives: 0.0000e+00 - val_true_negatives: 264.0000 - val_true_positives: 0.0000e+00\n",
            "Epoch 2/200\n",
            "44/44 [==============================] - 1s 17ms/step - loss: 1.2297 - Accuracy: 0.4483 - false_negatives: 280.0000 - false_positives: 54.0000 - true_negatives: 990.0000 - true_positives: 68.0000 - val_loss: 1.1881 - val_Accuracy: 0.4545 - val_false_negatives: 84.0000 - val_false_positives: 0.0000e+00 - val_true_negatives: 264.0000 - val_true_positives: 4.0000\n",
            "Epoch 3/200\n",
            "44/44 [==============================] - 1s 15ms/step - loss: 1.1965 - Accuracy: 0.4483 - false_negatives: 276.0000 - false_positives: 38.0000 - true_negatives: 1006.0000 - true_positives: 72.0000 - val_loss: 1.0911 - val_Accuracy: 0.5000 - val_false_negatives: 49.0000 - val_false_positives: 12.0000 - val_true_negatives: 252.0000 - val_true_positives: 39.0000\n",
            "Epoch 4/200\n",
            "44/44 [==============================] - 1s 15ms/step - loss: 1.1319 - Accuracy: 0.5489 - false_negatives: 254.0000 - false_positives: 34.0000 - true_negatives: 1010.0000 - true_positives: 94.0000 - val_loss: 1.1536 - val_Accuracy: 0.4886 - val_false_negatives: 48.0000 - val_false_positives: 26.0000 - val_true_negatives: 238.0000 - val_true_positives: 40.0000\n",
            "Epoch 5/200\n",
            "44/44 [==============================] - 1s 15ms/step - loss: 1.0807 - Accuracy: 0.5259 - false_negatives: 240.0000 - false_positives: 44.0000 - true_negatives: 1000.0000 - true_positives: 108.0000 - val_loss: 1.0600 - val_Accuracy: 0.6932 - val_false_negatives: 61.0000 - val_false_positives: 3.0000 - val_true_negatives: 261.0000 - val_true_positives: 27.0000\n",
            "Epoch 6/200\n",
            "44/44 [==============================] - 1s 15ms/step - loss: 1.0383 - Accuracy: 0.6006 - false_negatives: 232.0000 - false_positives: 43.0000 - true_negatives: 1001.0000 - true_positives: 116.0000 - val_loss: 0.9415 - val_Accuracy: 0.6364 - val_false_negatives: 48.0000 - val_false_positives: 16.0000 - val_true_negatives: 248.0000 - val_true_positives: 40.0000\n",
            "Epoch 7/200\n",
            "44/44 [==============================] - 1s 15ms/step - loss: 1.0019 - Accuracy: 0.6236 - false_negatives: 226.0000 - false_positives: 36.0000 - true_negatives: 1008.0000 - true_positives: 122.0000 - val_loss: 0.9098 - val_Accuracy: 0.6932 - val_false_negatives: 48.0000 - val_false_positives: 13.0000 - val_true_negatives: 251.0000 - val_true_positives: 40.0000\n",
            "Epoch 8/200\n",
            "44/44 [==============================] - 1s 15ms/step - loss: 0.9448 - Accuracy: 0.6351 - false_negatives: 211.0000 - false_positives: 40.0000 - true_negatives: 1004.0000 - true_positives: 137.0000 - val_loss: 1.0105 - val_Accuracy: 0.6364 - val_false_negatives: 48.0000 - val_false_positives: 19.0000 - val_true_negatives: 245.0000 - val_true_positives: 40.0000\n",
            "Epoch 9/200\n",
            "44/44 [==============================] - 1s 15ms/step - loss: 0.9594 - Accuracy: 0.5891 - false_negatives: 201.0000 - false_positives: 54.0000 - true_negatives: 990.0000 - true_positives: 147.0000 - val_loss: 0.8969 - val_Accuracy: 0.7159 - val_false_negatives: 49.0000 - val_false_positives: 11.0000 - val_true_negatives: 253.0000 - val_true_positives: 39.0000\n",
            "Epoch 10/200\n",
            "44/44 [==============================] - 1s 15ms/step - loss: 0.9993 - Accuracy: 0.6034 - false_negatives: 226.0000 - false_positives: 35.0000 - true_negatives: 1009.0000 - true_positives: 122.0000 - val_loss: 0.9440 - val_Accuracy: 0.6477 - val_false_negatives: 47.0000 - val_false_positives: 15.0000 - val_true_negatives: 249.0000 - val_true_positives: 41.0000\n",
            "Epoch 11/200\n",
            "44/44 [==============================] - 1s 15ms/step - loss: 0.9628 - Accuracy: 0.6264 - false_negatives: 209.0000 - false_positives: 42.0000 - true_negatives: 1002.0000 - true_positives: 139.0000 - val_loss: 1.0278 - val_Accuracy: 0.6477 - val_false_negatives: 46.0000 - val_false_positives: 18.0000 - val_true_negatives: 246.0000 - val_true_positives: 42.0000\n",
            "Epoch 12/200\n",
            "44/44 [==============================] - 1s 15ms/step - loss: 0.9354 - Accuracy: 0.6322 - false_negatives: 194.0000 - false_positives: 49.0000 - true_negatives: 995.0000 - true_positives: 154.0000 - val_loss: 1.0408 - val_Accuracy: 0.6250 - val_false_negatives: 47.0000 - val_false_positives: 21.0000 - val_true_negatives: 243.0000 - val_true_positives: 41.0000\n",
            "Epoch 13/200\n",
            "44/44 [==============================] - 1s 15ms/step - loss: 0.9134 - Accuracy: 0.6408 - false_negatives: 193.0000 - false_positives: 52.0000 - true_negatives: 992.0000 - true_positives: 155.0000 - val_loss: 0.9216 - val_Accuracy: 0.6818 - val_false_negatives: 35.0000 - val_false_positives: 20.0000 - val_true_negatives: 244.0000 - val_true_positives: 53.0000\n",
            "Epoch 14/200\n",
            "44/44 [==============================] - 1s 15ms/step - loss: 0.9266 - Accuracy: 0.6408 - false_negatives: 187.0000 - false_positives: 56.0000 - true_negatives: 988.0000 - true_positives: 161.0000 - val_loss: 0.9178 - val_Accuracy: 0.6591 - val_false_negatives: 47.0000 - val_false_positives: 15.0000 - val_true_negatives: 249.0000 - val_true_positives: 41.0000\n",
            "Epoch 15/200\n",
            "44/44 [==============================] - 1s 15ms/step - loss: 0.9116 - Accuracy: 0.6379 - false_negatives: 184.0000 - false_positives: 47.0000 - true_negatives: 997.0000 - true_positives: 164.0000 - val_loss: 0.8035 - val_Accuracy: 0.6705 - val_false_negatives: 33.0000 - val_false_positives: 12.0000 - val_true_negatives: 252.0000 - val_true_positives: 55.0000\n",
            "Epoch 16/200\n",
            "44/44 [==============================] - 1s 15ms/step - loss: 0.9411 - Accuracy: 0.6293 - false_negatives: 185.0000 - false_positives: 57.0000 - true_negatives: 987.0000 - true_positives: 163.0000 - val_loss: 0.8875 - val_Accuracy: 0.7159 - val_false_negatives: 40.0000 - val_false_positives: 13.0000 - val_true_negatives: 251.0000 - val_true_positives: 48.0000\n",
            "Epoch 17/200\n",
            "44/44 [==============================] - 1s 15ms/step - loss: 0.8884 - Accuracy: 0.6695 - false_negatives: 161.0000 - false_positives: 56.0000 - true_negatives: 988.0000 - true_positives: 187.0000 - val_loss: 0.9895 - val_Accuracy: 0.6250 - val_false_negatives: 44.0000 - val_false_positives: 17.0000 - val_true_negatives: 247.0000 - val_true_positives: 44.0000\n",
            "Epoch 18/200\n",
            "44/44 [==============================] - 1s 15ms/step - loss: 0.8899 - Accuracy: 0.6523 - false_negatives: 175.0000 - false_positives: 58.0000 - true_negatives: 986.0000 - true_positives: 173.0000 - val_loss: 0.9068 - val_Accuracy: 0.7045 - val_false_negatives: 34.0000 - val_false_positives: 19.0000 - val_true_negatives: 245.0000 - val_true_positives: 54.0000\n",
            "Epoch 19/200\n",
            "44/44 [==============================] - 1s 15ms/step - loss: 0.8514 - Accuracy: 0.6753 - false_negatives: 148.0000 - false_positives: 64.0000 - true_negatives: 980.0000 - true_positives: 200.0000 - val_loss: 0.8055 - val_Accuracy: 0.7159 - val_false_negatives: 36.0000 - val_false_positives: 17.0000 - val_true_negatives: 247.0000 - val_true_positives: 52.0000\n",
            "Epoch 20/200\n",
            "44/44 [==============================] - 1s 15ms/step - loss: 0.9076 - Accuracy: 0.6466 - false_negatives: 174.0000 - false_positives: 62.0000 - true_negatives: 982.0000 - true_positives: 174.0000 - val_loss: 0.7863 - val_Accuracy: 0.6932 - val_false_negatives: 38.0000 - val_false_positives: 16.0000 - val_true_negatives: 248.0000 - val_true_positives: 50.0000\n",
            "Epoch 21/200\n",
            "44/44 [==============================] - 1s 15ms/step - loss: 0.8946 - Accuracy: 0.6695 - false_negatives: 167.0000 - false_positives: 49.0000 - true_negatives: 995.0000 - true_positives: 181.0000 - val_loss: 0.9275 - val_Accuracy: 0.6818 - val_false_negatives: 30.0000 - val_false_positives: 18.0000 - val_true_negatives: 246.0000 - val_true_positives: 58.0000\n",
            "Epoch 22/200\n",
            "44/44 [==============================] - 1s 15ms/step - loss: 0.8898 - Accuracy: 0.6609 - false_negatives: 174.0000 - false_positives: 59.0000 - true_negatives: 985.0000 - true_positives: 174.0000 - val_loss: 0.8812 - val_Accuracy: 0.7159 - val_false_negatives: 33.0000 - val_false_positives: 18.0000 - val_true_negatives: 246.0000 - val_true_positives: 55.0000\n",
            "Epoch 23/200\n",
            "44/44 [==============================] - 1s 15ms/step - loss: 0.9378 - Accuracy: 0.6638 - false_negatives: 158.0000 - false_positives: 74.0000 - true_negatives: 970.0000 - true_positives: 190.0000 - val_loss: 1.0780 - val_Accuracy: 0.6364 - val_false_negatives: 44.0000 - val_false_positives: 21.0000 - val_true_negatives: 243.0000 - val_true_positives: 44.0000\n",
            "Epoch 24/200\n",
            "44/44 [==============================] - 1s 15ms/step - loss: 0.8777 - Accuracy: 0.6638 - false_negatives: 170.0000 - false_positives: 58.0000 - true_negatives: 986.0000 - true_positives: 178.0000 - val_loss: 0.7973 - val_Accuracy: 0.7045 - val_false_negatives: 30.0000 - val_false_positives: 17.0000 - val_true_negatives: 247.0000 - val_true_positives: 58.0000\n",
            "Epoch 25/200\n",
            "44/44 [==============================] - 1s 15ms/step - loss: 0.8650 - Accuracy: 0.6782 - false_negatives: 170.0000 - false_positives: 55.0000 - true_negatives: 989.0000 - true_positives: 178.0000 - val_loss: 0.8099 - val_Accuracy: 0.7159 - val_false_negatives: 30.0000 - val_false_positives: 18.0000 - val_true_negatives: 246.0000 - val_true_positives: 58.0000\n",
            "Epoch 26/200\n",
            "44/44 [==============================] - 1s 15ms/step - loss: 0.8297 - Accuracy: 0.6609 - false_negatives: 152.0000 - false_positives: 72.0000 - true_negatives: 972.0000 - true_positives: 196.0000 - val_loss: 0.7927 - val_Accuracy: 0.7273 - val_false_negatives: 30.0000 - val_false_positives: 16.0000 - val_true_negatives: 248.0000 - val_true_positives: 58.0000\n",
            "Epoch 27/200\n",
            "44/44 [==============================] - 1s 15ms/step - loss: 0.8387 - Accuracy: 0.6810 - false_negatives: 146.0000 - false_positives: 67.0000 - true_negatives: 977.0000 - true_positives: 202.0000 - val_loss: 0.8483 - val_Accuracy: 0.7386 - val_false_negatives: 31.0000 - val_false_positives: 15.0000 - val_true_negatives: 249.0000 - val_true_positives: 57.0000\n",
            "Epoch 28/200\n",
            "44/44 [==============================] - 1s 15ms/step - loss: 0.8247 - Accuracy: 0.6839 - false_negatives: 145.0000 - false_positives: 69.0000 - true_negatives: 975.0000 - true_positives: 203.0000 - val_loss: 0.9369 - val_Accuracy: 0.7273 - val_false_negatives: 30.0000 - val_false_positives: 20.0000 - val_true_negatives: 244.0000 - val_true_positives: 58.0000\n",
            "Epoch 29/200\n",
            "44/44 [==============================] - 1s 15ms/step - loss: 0.8570 - Accuracy: 0.6695 - false_negatives: 144.0000 - false_positives: 72.0000 - true_negatives: 972.0000 - true_positives: 204.0000 - val_loss: 0.8858 - val_Accuracy: 0.7045 - val_false_negatives: 32.0000 - val_false_positives: 19.0000 - val_true_negatives: 245.0000 - val_true_positives: 56.0000\n",
            "Epoch 30/200\n",
            "44/44 [==============================] - 1s 15ms/step - loss: 0.8348 - Accuracy: 0.6753 - false_negatives: 146.0000 - false_positives: 59.0000 - true_negatives: 985.0000 - true_positives: 202.0000 - val_loss: 0.8129 - val_Accuracy: 0.7273 - val_false_negatives: 32.0000 - val_false_positives: 20.0000 - val_true_negatives: 244.0000 - val_true_positives: 56.0000\n",
            "Epoch 31/200\n",
            "44/44 [==============================] - 1s 15ms/step - loss: 0.8042 - Accuracy: 0.6724 - false_negatives: 144.0000 - false_positives: 60.0000 - true_negatives: 984.0000 - true_positives: 204.0000 - val_loss: 0.8566 - val_Accuracy: 0.7386 - val_false_negatives: 33.0000 - val_false_positives: 19.0000 - val_true_negatives: 245.0000 - val_true_positives: 55.0000\n",
            "Epoch 32/200\n",
            "44/44 [==============================] - 1s 15ms/step - loss: 0.8747 - Accuracy: 0.6580 - false_negatives: 164.0000 - false_positives: 63.0000 - true_negatives: 981.0000 - true_positives: 184.0000 - val_loss: 0.9433 - val_Accuracy: 0.6364 - val_false_negatives: 40.0000 - val_false_positives: 22.0000 - val_true_negatives: 242.0000 - val_true_positives: 48.0000\n",
            "Epoch 33/200\n",
            "44/44 [==============================] - 1s 15ms/step - loss: 0.8412 - Accuracy: 0.6782 - false_negatives: 143.0000 - false_positives: 67.0000 - true_negatives: 977.0000 - true_positives: 205.0000 - val_loss: 0.7817 - val_Accuracy: 0.6932 - val_false_negatives: 36.0000 - val_false_positives: 13.0000 - val_true_negatives: 251.0000 - val_true_positives: 52.0000\n",
            "Epoch 34/200\n",
            "44/44 [==============================] - 1s 15ms/step - loss: 0.8115 - Accuracy: 0.6667 - false_negatives: 157.0000 - false_positives: 56.0000 - true_negatives: 988.0000 - true_positives: 191.0000 - val_loss: 1.0369 - val_Accuracy: 0.6818 - val_false_negatives: 34.0000 - val_false_positives: 24.0000 - val_true_negatives: 240.0000 - val_true_positives: 54.0000\n",
            "Epoch 35/200\n",
            "44/44 [==============================] - 1s 15ms/step - loss: 0.8242 - Accuracy: 0.6810 - false_negatives: 142.0000 - false_positives: 57.0000 - true_negatives: 987.0000 - true_positives: 206.0000 - val_loss: 0.7415 - val_Accuracy: 0.7045 - val_false_negatives: 30.0000 - val_false_positives: 15.0000 - val_true_negatives: 249.0000 - val_true_positives: 58.0000\n",
            "Epoch 36/200\n",
            "44/44 [==============================] - 1s 15ms/step - loss: 0.7797 - Accuracy: 0.6724 - false_negatives: 138.0000 - false_positives: 59.0000 - true_negatives: 985.0000 - true_positives: 210.0000 - val_loss: 0.7512 - val_Accuracy: 0.7159 - val_false_negatives: 30.0000 - val_false_positives: 19.0000 - val_true_negatives: 245.0000 - val_true_positives: 58.0000\n",
            "Epoch 37/200\n",
            "44/44 [==============================] - 1s 15ms/step - loss: 0.7901 - Accuracy: 0.6580 - false_negatives: 141.0000 - false_positives: 62.0000 - true_negatives: 982.0000 - true_positives: 207.0000 - val_loss: 0.8578 - val_Accuracy: 0.6705 - val_false_negatives: 34.0000 - val_false_positives: 24.0000 - val_true_negatives: 240.0000 - val_true_positives: 54.0000\n",
            "Epoch 38/200\n",
            "44/44 [==============================] - 1s 16ms/step - loss: 0.8355 - Accuracy: 0.6667 - false_negatives: 142.0000 - false_positives: 70.0000 - true_negatives: 974.0000 - true_positives: 206.0000 - val_loss: 0.8623 - val_Accuracy: 0.6818 - val_false_negatives: 33.0000 - val_false_positives: 21.0000 - val_true_negatives: 243.0000 - val_true_positives: 55.0000\n",
            "Epoch 39/200\n",
            "44/44 [==============================] - 1s 15ms/step - loss: 0.8015 - Accuracy: 0.6954 - false_negatives: 142.0000 - false_positives: 59.0000 - true_negatives: 985.0000 - true_positives: 206.0000 - val_loss: 0.8098 - val_Accuracy: 0.7159 - val_false_negatives: 30.0000 - val_false_positives: 19.0000 - val_true_negatives: 245.0000 - val_true_positives: 58.0000\n",
            "Epoch 40/200\n",
            "44/44 [==============================] - 1s 15ms/step - loss: 0.7857 - Accuracy: 0.7040 - false_negatives: 140.0000 - false_positives: 64.0000 - true_negatives: 980.0000 - true_positives: 208.0000 - val_loss: 0.8094 - val_Accuracy: 0.7045 - val_false_negatives: 28.0000 - val_false_positives: 23.0000 - val_true_negatives: 241.0000 - val_true_positives: 60.0000\n",
            "Epoch 41/200\n",
            "44/44 [==============================] - 1s 15ms/step - loss: 0.7410 - Accuracy: 0.6897 - false_negatives: 132.0000 - false_positives: 64.0000 - true_negatives: 980.0000 - true_positives: 216.0000 - val_loss: 0.6227 - val_Accuracy: 0.7727 - val_false_negatives: 26.0000 - val_false_positives: 13.0000 - val_true_negatives: 251.0000 - val_true_positives: 62.0000\n",
            "Epoch 42/200\n",
            "44/44 [==============================] - 1s 15ms/step - loss: 0.7656 - Accuracy: 0.6925 - false_negatives: 137.0000 - false_positives: 59.0000 - true_negatives: 985.0000 - true_positives: 211.0000 - val_loss: 0.6821 - val_Accuracy: 0.7500 - val_false_negatives: 24.0000 - val_false_positives: 15.0000 - val_true_negatives: 249.0000 - val_true_positives: 64.0000\n",
            "Epoch 43/200\n",
            "44/44 [==============================] - 1s 15ms/step - loss: 0.7068 - Accuracy: 0.7328 - false_negatives: 124.0000 - false_positives: 56.0000 - true_negatives: 988.0000 - true_positives: 224.0000 - val_loss: 0.6932 - val_Accuracy: 0.7386 - val_false_negatives: 26.0000 - val_false_positives: 19.0000 - val_true_negatives: 245.0000 - val_true_positives: 62.0000\n",
            "Epoch 44/200\n",
            "44/44 [==============================] - 1s 15ms/step - loss: 0.6609 - Accuracy: 0.7586 - false_negatives: 110.0000 - false_positives: 55.0000 - true_negatives: 989.0000 - true_positives: 238.0000 - val_loss: 0.6331 - val_Accuracy: 0.7386 - val_false_negatives: 25.0000 - val_false_positives: 16.0000 - val_true_negatives: 248.0000 - val_true_positives: 63.0000\n",
            "Epoch 45/200\n",
            "44/44 [==============================] - 1s 15ms/step - loss: 0.7045 - Accuracy: 0.7213 - false_negatives: 120.0000 - false_positives: 63.0000 - true_negatives: 981.0000 - true_positives: 228.0000 - val_loss: 0.6775 - val_Accuracy: 0.7614 - val_false_negatives: 23.0000 - val_false_positives: 17.0000 - val_true_negatives: 247.0000 - val_true_positives: 65.0000\n",
            "Epoch 46/200\n",
            "44/44 [==============================] - 1s 15ms/step - loss: 0.6646 - Accuracy: 0.7385 - false_negatives: 118.0000 - false_positives: 55.0000 - true_negatives: 989.0000 - true_positives: 230.0000 - val_loss: 0.7989 - val_Accuracy: 0.7386 - val_false_negatives: 27.0000 - val_false_positives: 20.0000 - val_true_negatives: 244.0000 - val_true_positives: 61.0000\n",
            "Epoch 47/200\n",
            "44/44 [==============================] - 1s 15ms/step - loss: 0.7446 - Accuracy: 0.7098 - false_negatives: 131.0000 - false_positives: 58.0000 - true_negatives: 986.0000 - true_positives: 217.0000 - val_loss: 0.6002 - val_Accuracy: 0.7955 - val_false_negatives: 23.0000 - val_false_positives: 10.0000 - val_true_negatives: 254.0000 - val_true_positives: 65.0000\n",
            "Epoch 48/200\n",
            "44/44 [==============================] - 1s 15ms/step - loss: 0.6644 - Accuracy: 0.7471 - false_negatives: 104.0000 - false_positives: 55.0000 - true_negatives: 989.0000 - true_positives: 244.0000 - val_loss: 0.6762 - val_Accuracy: 0.7727 - val_false_negatives: 24.0000 - val_false_positives: 16.0000 - val_true_negatives: 248.0000 - val_true_positives: 64.0000\n",
            "Epoch 49/200\n",
            "44/44 [==============================] - 1s 15ms/step - loss: 0.6819 - Accuracy: 0.7040 - false_negatives: 128.0000 - false_positives: 63.0000 - true_negatives: 981.0000 - true_positives: 220.0000 - val_loss: 0.6222 - val_Accuracy: 0.7727 - val_false_negatives: 23.0000 - val_false_positives: 14.0000 - val_true_negatives: 250.0000 - val_true_positives: 65.0000\n",
            "Epoch 50/200\n",
            "44/44 [==============================] - 1s 15ms/step - loss: 0.6467 - Accuracy: 0.7529 - false_negatives: 110.0000 - false_positives: 57.0000 - true_negatives: 987.0000 - true_positives: 238.0000 - val_loss: 0.6858 - val_Accuracy: 0.7841 - val_false_negatives: 21.0000 - val_false_positives: 14.0000 - val_true_negatives: 250.0000 - val_true_positives: 67.0000\n",
            "Epoch 51/200\n",
            "44/44 [==============================] - 1s 15ms/step - loss: 0.6504 - Accuracy: 0.7672 - false_negatives: 100.0000 - false_positives: 53.0000 - true_negatives: 991.0000 - true_positives: 248.0000 - val_loss: 0.6005 - val_Accuracy: 0.7614 - val_false_negatives: 23.0000 - val_false_positives: 13.0000 - val_true_negatives: 251.0000 - val_true_positives: 65.0000\n",
            "Epoch 52/200\n",
            "44/44 [==============================] - 1s 15ms/step - loss: 0.6004 - Accuracy: 0.7644 - false_negatives: 100.0000 - false_positives: 52.0000 - true_negatives: 992.0000 - true_positives: 248.0000 - val_loss: 0.6811 - val_Accuracy: 0.7614 - val_false_negatives: 25.0000 - val_false_positives: 15.0000 - val_true_negatives: 249.0000 - val_true_positives: 63.0000\n",
            "Epoch 53/200\n",
            "44/44 [==============================] - 1s 15ms/step - loss: 0.6077 - Accuracy: 0.7730 - false_negatives: 103.0000 - false_positives: 60.0000 - true_negatives: 984.0000 - true_positives: 245.0000 - val_loss: 0.8303 - val_Accuracy: 0.6932 - val_false_negatives: 28.0000 - val_false_positives: 24.0000 - val_true_negatives: 240.0000 - val_true_positives: 60.0000\n",
            "Epoch 54/200\n",
            "44/44 [==============================] - 1s 15ms/step - loss: 0.6338 - Accuracy: 0.7672 - false_negatives: 110.0000 - false_positives: 55.0000 - true_negatives: 989.0000 - true_positives: 238.0000 - val_loss: 0.6505 - val_Accuracy: 0.7727 - val_false_negatives: 25.0000 - val_false_positives: 13.0000 - val_true_negatives: 251.0000 - val_true_positives: 63.0000\n",
            "Epoch 55/200\n",
            "44/44 [==============================] - 1s 15ms/step - loss: 0.5872 - Accuracy: 0.7845 - false_negatives: 99.0000 - false_positives: 43.0000 - true_negatives: 1001.0000 - true_positives: 249.0000 - val_loss: 0.9813 - val_Accuracy: 0.7159 - val_false_negatives: 26.0000 - val_false_positives: 21.0000 - val_true_negatives: 243.0000 - val_true_positives: 62.0000\n",
            "Epoch 56/200\n",
            "44/44 [==============================] - 1s 15ms/step - loss: 0.6495 - Accuracy: 0.7529 - false_negatives: 107.0000 - false_positives: 59.0000 - true_negatives: 985.0000 - true_positives: 241.0000 - val_loss: 0.6574 - val_Accuracy: 0.7841 - val_false_negatives: 25.0000 - val_false_positives: 12.0000 - val_true_negatives: 252.0000 - val_true_positives: 63.0000\n",
            "Epoch 57/200\n",
            "44/44 [==============================] - 1s 15ms/step - loss: 0.6124 - Accuracy: 0.7586 - false_negatives: 103.0000 - false_positives: 59.0000 - true_negatives: 985.0000 - true_positives: 245.0000 - val_loss: 0.7156 - val_Accuracy: 0.7386 - val_false_negatives: 25.0000 - val_false_positives: 20.0000 - val_true_negatives: 244.0000 - val_true_positives: 63.0000\n",
            "Epoch 58/200\n",
            "44/44 [==============================] - 1s 15ms/step - loss: 0.6057 - Accuracy: 0.7644 - false_negatives: 105.0000 - false_positives: 63.0000 - true_negatives: 981.0000 - true_positives: 243.0000 - val_loss: 0.7238 - val_Accuracy: 0.7273 - val_false_negatives: 28.0000 - val_false_positives: 21.0000 - val_true_negatives: 243.0000 - val_true_positives: 60.0000\n",
            "Epoch 59/200\n",
            "44/44 [==============================] - 1s 15ms/step - loss: 0.5975 - Accuracy: 0.7874 - false_negatives: 96.0000 - false_positives: 51.0000 - true_negatives: 993.0000 - true_positives: 252.0000 - val_loss: 0.6807 - val_Accuracy: 0.7159 - val_false_negatives: 27.0000 - val_false_positives: 20.0000 - val_true_negatives: 244.0000 - val_true_positives: 61.0000\n",
            "Epoch 60/200\n",
            "44/44 [==============================] - 1s 15ms/step - loss: 0.5446 - Accuracy: 0.7960 - false_negatives: 93.0000 - false_positives: 57.0000 - true_negatives: 987.0000 - true_positives: 255.0000 - val_loss: 0.6588 - val_Accuracy: 0.7500 - val_false_negatives: 23.0000 - val_false_positives: 18.0000 - val_true_negatives: 246.0000 - val_true_positives: 65.0000\n",
            "Epoch 61/200\n",
            "44/44 [==============================] - 1s 15ms/step - loss: 0.5560 - Accuracy: 0.7931 - false_negatives: 90.0000 - false_positives: 51.0000 - true_negatives: 993.0000 - true_positives: 258.0000 - val_loss: 0.6663 - val_Accuracy: 0.7386 - val_false_negatives: 24.0000 - val_false_positives: 17.0000 - val_true_negatives: 247.0000 - val_true_positives: 64.0000\n",
            "Epoch 62/200\n",
            "44/44 [==============================] - 1s 15ms/step - loss: 0.6336 - Accuracy: 0.7529 - false_negatives: 96.0000 - false_positives: 52.0000 - true_negatives: 992.0000 - true_positives: 252.0000 - val_loss: 1.0979 - val_Accuracy: 0.7045 - val_false_negatives: 30.0000 - val_false_positives: 22.0000 - val_true_negatives: 242.0000 - val_true_positives: 58.0000\n",
            "Epoch 63/200\n",
            "44/44 [==============================] - 1s 23ms/step - loss: 0.6936 - Accuracy: 0.7385 - false_negatives: 118.0000 - false_positives: 64.0000 - true_negatives: 980.0000 - true_positives: 230.0000 - val_loss: 0.7674 - val_Accuracy: 0.7159 - val_false_negatives: 28.0000 - val_false_positives: 20.0000 - val_true_negatives: 244.0000 - val_true_positives: 60.0000\n",
            "Epoch 64/200\n",
            "44/44 [==============================] - 1s 15ms/step - loss: 0.5755 - Accuracy: 0.7672 - false_negatives: 95.0000 - false_positives: 55.0000 - true_negatives: 989.0000 - true_positives: 253.0000 - val_loss: 0.6324 - val_Accuracy: 0.7727 - val_false_negatives: 23.0000 - val_false_positives: 15.0000 - val_true_negatives: 249.0000 - val_true_positives: 65.0000\n",
            "Epoch 65/200\n",
            "44/44 [==============================] - 1s 15ms/step - loss: 0.5604 - Accuracy: 0.7672 - false_negatives: 94.0000 - false_positives: 56.0000 - true_negatives: 988.0000 - true_positives: 254.0000 - val_loss: 0.6097 - val_Accuracy: 0.7955 - val_false_negatives: 22.0000 - val_false_positives: 17.0000 - val_true_negatives: 247.0000 - val_true_positives: 66.0000\n",
            "Epoch 66/200\n",
            "44/44 [==============================] - 1s 15ms/step - loss: 0.6035 - Accuracy: 0.7644 - false_negatives: 104.0000 - false_positives: 59.0000 - true_negatives: 985.0000 - true_positives: 244.0000 - val_loss: 0.7365 - val_Accuracy: 0.7727 - val_false_negatives: 24.0000 - val_false_positives: 17.0000 - val_true_negatives: 247.0000 - val_true_positives: 64.0000\n",
            "Epoch 67/200\n",
            "44/44 [==============================] - 1s 15ms/step - loss: 0.5479 - Accuracy: 0.7787 - false_negatives: 91.0000 - false_positives: 59.0000 - true_negatives: 985.0000 - true_positives: 257.0000 - val_loss: 0.7753 - val_Accuracy: 0.6932 - val_false_negatives: 27.0000 - val_false_positives: 21.0000 - val_true_negatives: 243.0000 - val_true_positives: 61.0000\n",
            "Epoch 68/200\n",
            "44/44 [==============================] - 1s 15ms/step - loss: 0.5904 - Accuracy: 0.7644 - false_negatives: 95.0000 - false_positives: 50.0000 - true_negatives: 994.0000 - true_positives: 253.0000 - val_loss: 0.7068 - val_Accuracy: 0.7614 - val_false_negatives: 23.0000 - val_false_positives: 15.0000 - val_true_negatives: 249.0000 - val_true_positives: 65.0000\n",
            "Epoch 69/200\n",
            "44/44 [==============================] - 1s 15ms/step - loss: 0.5447 - Accuracy: 0.7845 - false_negatives: 88.0000 - false_positives: 55.0000 - true_negatives: 989.0000 - true_positives: 260.0000 - val_loss: 0.6417 - val_Accuracy: 0.7614 - val_false_negatives: 25.0000 - val_false_positives: 17.0000 - val_true_negatives: 247.0000 - val_true_positives: 63.0000\n",
            "Epoch 70/200\n",
            "44/44 [==============================] - 1s 15ms/step - loss: 0.5186 - Accuracy: 0.7989 - false_negatives: 76.0000 - false_positives: 51.0000 - true_negatives: 993.0000 - true_positives: 272.0000 - val_loss: 0.7738 - val_Accuracy: 0.6932 - val_false_negatives: 28.0000 - val_false_positives: 20.0000 - val_true_negatives: 244.0000 - val_true_positives: 60.0000\n",
            "Epoch 71/200\n",
            "44/44 [==============================] - 1s 15ms/step - loss: 0.5728 - Accuracy: 0.7816 - false_negatives: 92.0000 - false_positives: 52.0000 - true_negatives: 992.0000 - true_positives: 256.0000 - val_loss: 0.8735 - val_Accuracy: 0.6932 - val_false_negatives: 30.0000 - val_false_positives: 24.0000 - val_true_negatives: 240.0000 - val_true_positives: 58.0000\n",
            "Epoch 72/200\n",
            "44/44 [==============================] - 1s 16ms/step - loss: 0.5487 - Accuracy: 0.8075 - false_negatives: 87.0000 - false_positives: 47.0000 - true_negatives: 997.0000 - true_positives: 261.0000 - val_loss: 0.7131 - val_Accuracy: 0.7386 - val_false_negatives: 27.0000 - val_false_positives: 19.0000 - val_true_negatives: 245.0000 - val_true_positives: 61.0000\n",
            "Epoch 73/200\n",
            "44/44 [==============================] - 1s 15ms/step - loss: 0.5384 - Accuracy: 0.7960 - false_negatives: 88.0000 - false_positives: 49.0000 - true_negatives: 995.0000 - true_positives: 260.0000 - val_loss: 0.6652 - val_Accuracy: 0.7614 - val_false_negatives: 24.0000 - val_false_positives: 17.0000 - val_true_negatives: 247.0000 - val_true_positives: 64.0000\n",
            "Epoch 74/200\n",
            "44/44 [==============================] - 1s 16ms/step - loss: 0.5297 - Accuracy: 0.8017 - false_negatives: 84.0000 - false_positives: 55.0000 - true_negatives: 989.0000 - true_positives: 264.0000 - val_loss: 0.7050 - val_Accuracy: 0.7727 - val_false_negatives: 23.0000 - val_false_positives: 16.0000 - val_true_negatives: 248.0000 - val_true_positives: 65.0000\n",
            "Epoch 75/200\n",
            "44/44 [==============================] - 1s 15ms/step - loss: 0.5054 - Accuracy: 0.8132 - false_negatives: 81.0000 - false_positives: 51.0000 - true_negatives: 993.0000 - true_positives: 267.0000 - val_loss: 0.7026 - val_Accuracy: 0.7727 - val_false_negatives: 22.0000 - val_false_positives: 19.0000 - val_true_negatives: 245.0000 - val_true_positives: 66.0000\n",
            "Epoch 76/200\n",
            "44/44 [==============================] - 1s 15ms/step - loss: 0.5842 - Accuracy: 0.7902 - false_negatives: 91.0000 - false_positives: 55.0000 - true_negatives: 989.0000 - true_positives: 257.0000 - val_loss: 0.7399 - val_Accuracy: 0.7273 - val_false_negatives: 26.0000 - val_false_positives: 21.0000 - val_true_negatives: 243.0000 - val_true_positives: 62.0000\n",
            "Epoch 77/200\n",
            "44/44 [==============================] - 1s 15ms/step - loss: 0.5526 - Accuracy: 0.8046 - false_negatives: 87.0000 - false_positives: 48.0000 - true_negatives: 996.0000 - true_positives: 261.0000 - val_loss: 0.7366 - val_Accuracy: 0.7500 - val_false_negatives: 24.0000 - val_false_positives: 18.0000 - val_true_negatives: 246.0000 - val_true_positives: 64.0000\n",
            "Epoch 78/200\n",
            "44/44 [==============================] - 1s 15ms/step - loss: 0.5470 - Accuracy: 0.7989 - false_negatives: 88.0000 - false_positives: 50.0000 - true_negatives: 994.0000 - true_positives: 260.0000 - val_loss: 0.7052 - val_Accuracy: 0.7614 - val_false_negatives: 26.0000 - val_false_positives: 19.0000 - val_true_negatives: 245.0000 - val_true_positives: 62.0000\n",
            "Epoch 79/200\n",
            "44/44 [==============================] - 1s 16ms/step - loss: 0.5056 - Accuracy: 0.8132 - false_negatives: 77.0000 - false_positives: 48.0000 - true_negatives: 996.0000 - true_positives: 271.0000 - val_loss: 0.6691 - val_Accuracy: 0.7614 - val_false_negatives: 23.0000 - val_false_positives: 18.0000 - val_true_negatives: 246.0000 - val_true_positives: 65.0000\n",
            "Epoch 80/200\n",
            "44/44 [==============================] - 1s 16ms/step - loss: 0.4904 - Accuracy: 0.8247 - false_negatives: 77.0000 - false_positives: 49.0000 - true_negatives: 995.0000 - true_positives: 271.0000 - val_loss: 0.6656 - val_Accuracy: 0.7727 - val_false_negatives: 24.0000 - val_false_positives: 19.0000 - val_true_negatives: 245.0000 - val_true_positives: 64.0000\n",
            "Epoch 81/200\n",
            "44/44 [==============================] - 1s 15ms/step - loss: 0.4830 - Accuracy: 0.8247 - false_negatives: 72.0000 - false_positives: 44.0000 - true_negatives: 1000.0000 - true_positives: 276.0000 - val_loss: 0.8389 - val_Accuracy: 0.7159 - val_false_negatives: 26.0000 - val_false_positives: 20.0000 - val_true_negatives: 244.0000 - val_true_positives: 62.0000\n",
            "Epoch 82/200\n",
            "44/44 [==============================] - 1s 15ms/step - loss: 0.5114 - Accuracy: 0.8247 - false_negatives: 79.0000 - false_positives: 45.0000 - true_negatives: 999.0000 - true_positives: 269.0000 - val_loss: 0.7500 - val_Accuracy: 0.7614 - val_false_negatives: 23.0000 - val_false_positives: 18.0000 - val_true_negatives: 246.0000 - val_true_positives: 65.0000\n",
            "Epoch 83/200\n",
            "44/44 [==============================] - 1s 15ms/step - loss: 0.4922 - Accuracy: 0.7989 - false_negatives: 83.0000 - false_positives: 45.0000 - true_negatives: 999.0000 - true_positives: 265.0000 - val_loss: 0.7960 - val_Accuracy: 0.7841 - val_false_negatives: 20.0000 - val_false_positives: 18.0000 - val_true_negatives: 246.0000 - val_true_positives: 68.0000\n",
            "Epoch 84/200\n",
            "44/44 [==============================] - 1s 15ms/step - loss: 0.5238 - Accuracy: 0.7931 - false_negatives: 84.0000 - false_positives: 54.0000 - true_negatives: 990.0000 - true_positives: 264.0000 - val_loss: 0.6749 - val_Accuracy: 0.7614 - val_false_negatives: 23.0000 - val_false_positives: 13.0000 - val_true_negatives: 251.0000 - val_true_positives: 65.0000\n",
            "Epoch 85/200\n",
            "44/44 [==============================] - 1s 15ms/step - loss: 0.4879 - Accuracy: 0.8333 - false_negatives: 79.0000 - false_positives: 39.0000 - true_negatives: 1005.0000 - true_positives: 269.0000 - val_loss: 0.6700 - val_Accuracy: 0.7727 - val_false_negatives: 22.0000 - val_false_positives: 17.0000 - val_true_negatives: 247.0000 - val_true_positives: 66.0000\n",
            "Epoch 86/200\n",
            "44/44 [==============================] - 1s 16ms/step - loss: 0.5247 - Accuracy: 0.8017 - false_negatives: 81.0000 - false_positives: 49.0000 - true_negatives: 995.0000 - true_positives: 267.0000 - val_loss: 0.7478 - val_Accuracy: 0.7386 - val_false_negatives: 24.0000 - val_false_positives: 19.0000 - val_true_negatives: 245.0000 - val_true_positives: 64.0000\n",
            "Epoch 87/200\n",
            "44/44 [==============================] - 1s 15ms/step - loss: 0.5073 - Accuracy: 0.8075 - false_negatives: 74.0000 - false_positives: 57.0000 - true_negatives: 987.0000 - true_positives: 274.0000 - val_loss: 0.6307 - val_Accuracy: 0.7614 - val_false_negatives: 23.0000 - val_false_positives: 16.0000 - val_true_negatives: 248.0000 - val_true_positives: 65.0000\n",
            "Epoch 88/200\n",
            "44/44 [==============================] - 1s 15ms/step - loss: 0.4725 - Accuracy: 0.8161 - false_negatives: 78.0000 - false_positives: 45.0000 - true_negatives: 999.0000 - true_positives: 270.0000 - val_loss: 0.7157 - val_Accuracy: 0.7500 - val_false_negatives: 23.0000 - val_false_positives: 15.0000 - val_true_negatives: 249.0000 - val_true_positives: 65.0000\n",
            "Epoch 89/200\n",
            "44/44 [==============================] - 1s 15ms/step - loss: 0.5358 - Accuracy: 0.7989 - false_negatives: 84.0000 - false_positives: 59.0000 - true_negatives: 985.0000 - true_positives: 264.0000 - val_loss: 0.7207 - val_Accuracy: 0.7955 - val_false_negatives: 23.0000 - val_false_positives: 13.0000 - val_true_negatives: 251.0000 - val_true_positives: 65.0000\n",
            "Epoch 90/200\n",
            "44/44 [==============================] - 1s 16ms/step - loss: 0.5003 - Accuracy: 0.8017 - false_negatives: 83.0000 - false_positives: 52.0000 - true_negatives: 992.0000 - true_positives: 265.0000 - val_loss: 0.6771 - val_Accuracy: 0.7614 - val_false_negatives: 22.0000 - val_false_positives: 17.0000 - val_true_negatives: 247.0000 - val_true_positives: 66.0000\n",
            "Epoch 91/200\n",
            "44/44 [==============================] - 1s 15ms/step - loss: 0.5208 - Accuracy: 0.7874 - false_negatives: 88.0000 - false_positives: 55.0000 - true_negatives: 989.0000 - true_positives: 260.0000 - val_loss: 0.6230 - val_Accuracy: 0.7727 - val_false_negatives: 22.0000 - val_false_positives: 17.0000 - val_true_negatives: 247.0000 - val_true_positives: 66.0000\n",
            "Epoch 92/200\n",
            "44/44 [==============================] - 1s 15ms/step - loss: 0.4852 - Accuracy: 0.7989 - false_negatives: 79.0000 - false_positives: 54.0000 - true_negatives: 990.0000 - true_positives: 269.0000 - val_loss: 0.6292 - val_Accuracy: 0.7727 - val_false_negatives: 22.0000 - val_false_positives: 18.0000 - val_true_negatives: 246.0000 - val_true_positives: 66.0000\n",
            "Epoch 93/200\n",
            "44/44 [==============================] - 1s 15ms/step - loss: 0.4242 - Accuracy: 0.8592 - false_negatives: 64.0000 - false_positives: 41.0000 - true_negatives: 1003.0000 - true_positives: 284.0000 - val_loss: 0.7283 - val_Accuracy: 0.7614 - val_false_negatives: 22.0000 - val_false_positives: 19.0000 - val_true_negatives: 245.0000 - val_true_positives: 66.0000\n",
            "Epoch 94/200\n",
            "44/44 [==============================] - 1s 16ms/step - loss: 0.4877 - Accuracy: 0.8333 - false_negatives: 70.0000 - false_positives: 48.0000 - true_negatives: 996.0000 - true_positives: 278.0000 - val_loss: 0.6634 - val_Accuracy: 0.7727 - val_false_negatives: 21.0000 - val_false_positives: 15.0000 - val_true_negatives: 249.0000 - val_true_positives: 67.0000\n",
            "Epoch 95/200\n",
            "44/44 [==============================] - 1s 15ms/step - loss: 0.4463 - Accuracy: 0.8333 - false_negatives: 70.0000 - false_positives: 41.0000 - true_negatives: 1003.0000 - true_positives: 278.0000 - val_loss: 0.6830 - val_Accuracy: 0.7614 - val_false_negatives: 23.0000 - val_false_positives: 18.0000 - val_true_negatives: 246.0000 - val_true_positives: 65.0000\n",
            "Epoch 96/200\n",
            "44/44 [==============================] - 1s 15ms/step - loss: 0.4679 - Accuracy: 0.8132 - false_negatives: 73.0000 - false_positives: 46.0000 - true_negatives: 998.0000 - true_positives: 275.0000 - val_loss: 0.7999 - val_Accuracy: 0.7727 - val_false_negatives: 21.0000 - val_false_positives: 17.0000 - val_true_negatives: 247.0000 - val_true_positives: 67.0000\n",
            "Epoch 97/200\n",
            "44/44 [==============================] - 1s 16ms/step - loss: 0.5487 - Accuracy: 0.7874 - false_negatives: 83.0000 - false_positives: 54.0000 - true_negatives: 990.0000 - true_positives: 265.0000 - val_loss: 0.7198 - val_Accuracy: 0.7955 - val_false_negatives: 20.0000 - val_false_positives: 16.0000 - val_true_negatives: 248.0000 - val_true_positives: 68.0000\n",
            "Epoch 98/200\n",
            "44/44 [==============================] - 1s 15ms/step - loss: 0.5171 - Accuracy: 0.8017 - false_negatives: 83.0000 - false_positives: 51.0000 - true_negatives: 993.0000 - true_positives: 265.0000 - val_loss: 0.7175 - val_Accuracy: 0.7386 - val_false_negatives: 23.0000 - val_false_positives: 16.0000 - val_true_negatives: 248.0000 - val_true_positives: 65.0000\n",
            "Epoch 99/200\n",
            "44/44 [==============================] - 1s 15ms/step - loss: 0.4704 - Accuracy: 0.8075 - false_negatives: 80.0000 - false_positives: 48.0000 - true_negatives: 996.0000 - true_positives: 268.0000 - val_loss: 0.7289 - val_Accuracy: 0.7273 - val_false_negatives: 24.0000 - val_false_positives: 21.0000 - val_true_negatives: 243.0000 - val_true_positives: 64.0000\n",
            "Epoch 100/200\n",
            "44/44 [==============================] - 1s 16ms/step - loss: 0.4694 - Accuracy: 0.8132 - false_negatives: 75.0000 - false_positives: 46.0000 - true_negatives: 998.0000 - true_positives: 273.0000 - val_loss: 0.7903 - val_Accuracy: 0.7500 - val_false_negatives: 22.0000 - val_false_positives: 21.0000 - val_true_negatives: 243.0000 - val_true_positives: 66.0000\n",
            "Epoch 101/200\n",
            "44/44 [==============================] - 1s 16ms/step - loss: 0.4930 - Accuracy: 0.8305 - false_negatives: 74.0000 - false_positives: 45.0000 - true_negatives: 999.0000 - true_positives: 274.0000 - val_loss: 0.6882 - val_Accuracy: 0.7386 - val_false_negatives: 24.0000 - val_false_positives: 19.0000 - val_true_negatives: 245.0000 - val_true_positives: 64.0000\n",
            "Epoch 102/200\n",
            "44/44 [==============================] - 1s 15ms/step - loss: 0.4246 - Accuracy: 0.8563 - false_negatives: 62.0000 - false_positives: 42.0000 - true_negatives: 1002.0000 - true_positives: 286.0000 - val_loss: 0.6719 - val_Accuracy: 0.7614 - val_false_negatives: 23.0000 - val_false_positives: 19.0000 - val_true_negatives: 245.0000 - val_true_positives: 65.0000\n",
            "Epoch 103/200\n",
            "44/44 [==============================] - 1s 16ms/step - loss: 0.4566 - Accuracy: 0.8161 - false_negatives: 79.0000 - false_positives: 45.0000 - true_negatives: 999.0000 - true_positives: 269.0000 - val_loss: 0.7709 - val_Accuracy: 0.7500 - val_false_negatives: 23.0000 - val_false_positives: 18.0000 - val_true_negatives: 246.0000 - val_true_positives: 65.0000\n",
            "Epoch 104/200\n",
            "44/44 [==============================] - 1s 25ms/step - loss: 0.4223 - Accuracy: 0.8506 - false_negatives: 61.0000 - false_positives: 42.0000 - true_negatives: 1002.0000 - true_positives: 287.0000 - val_loss: 0.6975 - val_Accuracy: 0.7614 - val_false_negatives: 21.0000 - val_false_positives: 15.0000 - val_true_negatives: 249.0000 - val_true_positives: 67.0000\n",
            "Epoch 105/200\n",
            "44/44 [==============================] - 1s 16ms/step - loss: 0.4413 - Accuracy: 0.8448 - false_negatives: 71.0000 - false_positives: 39.0000 - true_negatives: 1005.0000 - true_positives: 277.0000 - val_loss: 0.7446 - val_Accuracy: 0.7841 - val_false_negatives: 20.0000 - val_false_positives: 16.0000 - val_true_negatives: 248.0000 - val_true_positives: 68.0000\n",
            "Epoch 106/200\n",
            "44/44 [==============================] - 1s 15ms/step - loss: 0.5285 - Accuracy: 0.8046 - false_negatives: 79.0000 - false_positives: 52.0000 - true_negatives: 992.0000 - true_positives: 269.0000 - val_loss: 0.8192 - val_Accuracy: 0.7500 - val_false_negatives: 25.0000 - val_false_positives: 20.0000 - val_true_negatives: 244.0000 - val_true_positives: 63.0000\n",
            "Epoch 107/200\n",
            "44/44 [==============================] - 1s 16ms/step - loss: 0.4240 - Accuracy: 0.8218 - false_negatives: 68.0000 - false_positives: 49.0000 - true_negatives: 995.0000 - true_positives: 280.0000 - val_loss: 0.7510 - val_Accuracy: 0.7614 - val_false_negatives: 21.0000 - val_false_positives: 18.0000 - val_true_negatives: 246.0000 - val_true_positives: 67.0000\n",
            "Epoch 108/200\n",
            "44/44 [==============================] - 1s 16ms/step - loss: 0.5226 - Accuracy: 0.8103 - false_negatives: 77.0000 - false_positives: 51.0000 - true_negatives: 993.0000 - true_positives: 271.0000 - val_loss: 0.7128 - val_Accuracy: 0.7727 - val_false_negatives: 21.0000 - val_false_positives: 17.0000 - val_true_negatives: 247.0000 - val_true_positives: 67.0000\n",
            "Epoch 109/200\n",
            "44/44 [==============================] - 1s 16ms/step - loss: 0.4680 - Accuracy: 0.8218 - false_negatives: 71.0000 - false_positives: 46.0000 - true_negatives: 998.0000 - true_positives: 277.0000 - val_loss: 0.6814 - val_Accuracy: 0.7727 - val_false_negatives: 21.0000 - val_false_positives: 17.0000 - val_true_negatives: 247.0000 - val_true_positives: 67.0000\n",
            "Epoch 110/200\n",
            "44/44 [==============================] - 1s 17ms/step - loss: 0.4896 - Accuracy: 0.8276 - false_negatives: 74.0000 - false_positives: 47.0000 - true_negatives: 997.0000 - true_positives: 274.0000 - val_loss: 0.7200 - val_Accuracy: 0.7841 - val_false_negatives: 21.0000 - val_false_positives: 14.0000 - val_true_negatives: 250.0000 - val_true_positives: 67.0000\n",
            "Epoch 111/200\n",
            "44/44 [==============================] - 1s 15ms/step - loss: 0.4171 - Accuracy: 0.8333 - false_negatives: 70.0000 - false_positives: 46.0000 - true_negatives: 998.0000 - true_positives: 278.0000 - val_loss: 0.8424 - val_Accuracy: 0.6932 - val_false_negatives: 28.0000 - val_false_positives: 26.0000 - val_true_negatives: 238.0000 - val_true_positives: 60.0000\n",
            "Epoch 112/200\n",
            "44/44 [==============================] - 1s 16ms/step - loss: 0.4477 - Accuracy: 0.8103 - false_negatives: 71.0000 - false_positives: 50.0000 - true_negatives: 994.0000 - true_positives: 277.0000 - val_loss: 0.7019 - val_Accuracy: 0.7500 - val_false_negatives: 22.0000 - val_false_positives: 19.0000 - val_true_negatives: 245.0000 - val_true_positives: 66.0000\n",
            "Epoch 113/200\n",
            "44/44 [==============================] - 1s 16ms/step - loss: 0.4218 - Accuracy: 0.8592 - false_negatives: 55.0000 - false_positives: 40.0000 - true_negatives: 1004.0000 - true_positives: 293.0000 - val_loss: 0.7115 - val_Accuracy: 0.7614 - val_false_negatives: 23.0000 - val_false_positives: 20.0000 - val_true_negatives: 244.0000 - val_true_positives: 65.0000\n",
            "Epoch 114/200\n",
            "44/44 [==============================] - 1s 26ms/step - loss: 0.4572 - Accuracy: 0.8132 - false_negatives: 77.0000 - false_positives: 45.0000 - true_negatives: 999.0000 - true_positives: 271.0000 - val_loss: 0.7137 - val_Accuracy: 0.7955 - val_false_negatives: 22.0000 - val_false_positives: 13.0000 - val_true_negatives: 251.0000 - val_true_positives: 66.0000\n",
            "Epoch 115/200\n",
            "44/44 [==============================] - 1s 16ms/step - loss: 0.3945 - Accuracy: 0.8621 - false_negatives: 62.0000 - false_positives: 36.0000 - true_negatives: 1008.0000 - true_positives: 286.0000 - val_loss: 0.7757 - val_Accuracy: 0.8068 - val_false_negatives: 18.0000 - val_false_positives: 15.0000 - val_true_negatives: 249.0000 - val_true_positives: 70.0000\n",
            "Epoch 116/200\n",
            "44/44 [==============================] - 1s 17ms/step - loss: 0.4188 - Accuracy: 0.8391 - false_negatives: 61.0000 - false_positives: 42.0000 - true_negatives: 1002.0000 - true_positives: 287.0000 - val_loss: 0.7222 - val_Accuracy: 0.7614 - val_false_negatives: 23.0000 - val_false_positives: 18.0000 - val_true_negatives: 246.0000 - val_true_positives: 65.0000\n",
            "Epoch 117/200\n",
            "44/44 [==============================] - 1s 16ms/step - loss: 0.4370 - Accuracy: 0.8190 - false_negatives: 75.0000 - false_positives: 47.0000 - true_negatives: 997.0000 - true_positives: 273.0000 - val_loss: 0.7269 - val_Accuracy: 0.7727 - val_false_negatives: 22.0000 - val_false_positives: 18.0000 - val_true_negatives: 246.0000 - val_true_positives: 66.0000\n",
            "Epoch 118/200\n",
            "44/44 [==============================] - 1s 16ms/step - loss: 0.4304 - Accuracy: 0.8305 - false_negatives: 70.0000 - false_positives: 42.0000 - true_negatives: 1002.0000 - true_positives: 278.0000 - val_loss: 0.6842 - val_Accuracy: 0.7500 - val_false_negatives: 22.0000 - val_false_positives: 19.0000 - val_true_negatives: 245.0000 - val_true_positives: 66.0000\n",
            "Epoch 119/200\n",
            "44/44 [==============================] - 1s 16ms/step - loss: 0.4117 - Accuracy: 0.8420 - false_negatives: 69.0000 - false_positives: 41.0000 - true_negatives: 1003.0000 - true_positives: 279.0000 - val_loss: 0.6650 - val_Accuracy: 0.7955 - val_false_negatives: 19.0000 - val_false_positives: 17.0000 - val_true_negatives: 247.0000 - val_true_positives: 69.0000\n",
            "Epoch 120/200\n",
            "44/44 [==============================] - 1s 16ms/step - loss: 0.3885 - Accuracy: 0.8506 - false_negatives: 61.0000 - false_positives: 35.0000 - true_negatives: 1009.0000 - true_positives: 287.0000 - val_loss: 0.7014 - val_Accuracy: 0.7727 - val_false_negatives: 22.0000 - val_false_positives: 17.0000 - val_true_negatives: 247.0000 - val_true_positives: 66.0000\n",
            "Epoch 121/200\n",
            "44/44 [==============================] - 1s 16ms/step - loss: 0.3842 - Accuracy: 0.8506 - false_negatives: 59.0000 - false_positives: 43.0000 - true_negatives: 1001.0000 - true_positives: 289.0000 - val_loss: 0.7334 - val_Accuracy: 0.7614 - val_false_negatives: 21.0000 - val_false_positives: 18.0000 - val_true_negatives: 246.0000 - val_true_positives: 67.0000\n",
            "Epoch 122/200\n",
            "44/44 [==============================] - 1s 15ms/step - loss: 0.4148 - Accuracy: 0.8391 - false_negatives: 64.0000 - false_positives: 45.0000 - true_negatives: 999.0000 - true_positives: 284.0000 - val_loss: 0.7260 - val_Accuracy: 0.7955 - val_false_negatives: 19.0000 - val_false_positives: 14.0000 - val_true_negatives: 250.0000 - val_true_positives: 69.0000\n",
            "Epoch 123/200\n",
            "44/44 [==============================] - 1s 15ms/step - loss: 0.4021 - Accuracy: 0.8534 - false_negatives: 56.0000 - false_positives: 41.0000 - true_negatives: 1003.0000 - true_positives: 292.0000 - val_loss: 0.7338 - val_Accuracy: 0.7727 - val_false_negatives: 23.0000 - val_false_positives: 16.0000 - val_true_negatives: 248.0000 - val_true_positives: 65.0000\n",
            "Epoch 124/200\n",
            "44/44 [==============================] - 1s 17ms/step - loss: 0.3997 - Accuracy: 0.8534 - false_negatives: 63.0000 - false_positives: 41.0000 - true_negatives: 1003.0000 - true_positives: 285.0000 - val_loss: 0.6946 - val_Accuracy: 0.7614 - val_false_negatives: 21.0000 - val_false_positives: 17.0000 - val_true_negatives: 247.0000 - val_true_positives: 67.0000\n",
            "Epoch 125/200\n",
            "44/44 [==============================] - 1s 17ms/step - loss: 0.4019 - Accuracy: 0.8592 - false_negatives: 60.0000 - false_positives: 40.0000 - true_negatives: 1004.0000 - true_positives: 288.0000 - val_loss: 0.7820 - val_Accuracy: 0.7727 - val_false_negatives: 20.0000 - val_false_positives: 16.0000 - val_true_negatives: 248.0000 - val_true_positives: 68.0000\n",
            "Epoch 126/200\n",
            "44/44 [==============================] - 1s 17ms/step - loss: 0.4269 - Accuracy: 0.8362 - false_negatives: 66.0000 - false_positives: 49.0000 - true_negatives: 995.0000 - true_positives: 282.0000 - val_loss: 0.7260 - val_Accuracy: 0.7955 - val_false_negatives: 20.0000 - val_false_positives: 15.0000 - val_true_negatives: 249.0000 - val_true_positives: 68.0000\n",
            "Epoch 127/200\n",
            "44/44 [==============================] - 1s 16ms/step - loss: 0.4217 - Accuracy: 0.8305 - false_negatives: 72.0000 - false_positives: 44.0000 - true_negatives: 1000.0000 - true_positives: 276.0000 - val_loss: 0.6342 - val_Accuracy: 0.7727 - val_false_negatives: 20.0000 - val_false_positives: 16.0000 - val_true_negatives: 248.0000 - val_true_positives: 68.0000\n",
            "Epoch 128/200\n",
            "44/44 [==============================] - 1s 16ms/step - loss: 0.3316 - Accuracy: 0.8707 - false_negatives: 53.0000 - false_positives: 31.0000 - true_negatives: 1013.0000 - true_positives: 295.0000 - val_loss: 0.7101 - val_Accuracy: 0.7500 - val_false_negatives: 24.0000 - val_false_positives: 20.0000 - val_true_negatives: 244.0000 - val_true_positives: 64.0000\n",
            "Epoch 129/200\n",
            "44/44 [==============================] - 1s 16ms/step - loss: 0.3812 - Accuracy: 0.8592 - false_negatives: 61.0000 - false_positives: 38.0000 - true_negatives: 1006.0000 - true_positives: 287.0000 - val_loss: 0.6462 - val_Accuracy: 0.7727 - val_false_negatives: 23.0000 - val_false_positives: 15.0000 - val_true_negatives: 249.0000 - val_true_positives: 65.0000\n",
            "Epoch 130/200\n",
            "44/44 [==============================] - 1s 16ms/step - loss: 0.3915 - Accuracy: 0.8448 - false_negatives: 65.0000 - false_positives: 45.0000 - true_negatives: 999.0000 - true_positives: 283.0000 - val_loss: 0.7242 - val_Accuracy: 0.7727 - val_false_negatives: 20.0000 - val_false_positives: 17.0000 - val_true_negatives: 247.0000 - val_true_positives: 68.0000\n",
            "Epoch 131/200\n",
            "44/44 [==============================] - 1s 16ms/step - loss: 0.4099 - Accuracy: 0.8381 - false_negatives: 67.0000 - false_positives: 43.0000 - true_negatives: 1013.0000 - true_positives: 285.0000 - val_loss: 0.6655 - val_Accuracy: 0.8182 - val_false_negatives: 18.0000 - val_false_positives: 14.0000 - val_true_negatives: 250.0000 - val_true_positives: 70.0000\n",
            "Epoch 132/200\n",
            "44/44 [==============================] - 1s 16ms/step - loss: 0.3616 - Accuracy: 0.8592 - false_negatives: 57.0000 - false_positives: 39.0000 - true_negatives: 1005.0000 - true_positives: 291.0000 - val_loss: 0.7512 - val_Accuracy: 0.7614 - val_false_negatives: 21.0000 - val_false_positives: 20.0000 - val_true_negatives: 244.0000 - val_true_positives: 67.0000\n",
            "Epoch 133/200\n",
            "44/44 [==============================] - 1s 16ms/step - loss: 0.3798 - Accuracy: 0.8534 - false_negatives: 60.0000 - false_positives: 41.0000 - true_negatives: 1003.0000 - true_positives: 288.0000 - val_loss: 0.7571 - val_Accuracy: 0.7727 - val_false_negatives: 22.0000 - val_false_positives: 20.0000 - val_true_negatives: 244.0000 - val_true_positives: 66.0000\n",
            "Epoch 134/200\n",
            "44/44 [==============================] - 1s 16ms/step - loss: 0.3879 - Accuracy: 0.8506 - false_negatives: 56.0000 - false_positives: 42.0000 - true_negatives: 1002.0000 - true_positives: 292.0000 - val_loss: 0.7247 - val_Accuracy: 0.7955 - val_false_negatives: 20.0000 - val_false_positives: 14.0000 - val_true_negatives: 250.0000 - val_true_positives: 68.0000\n",
            "Epoch 135/200\n",
            "44/44 [==============================] - 1s 16ms/step - loss: 0.3453 - Accuracy: 0.8678 - false_negatives: 59.0000 - false_positives: 36.0000 - true_negatives: 1008.0000 - true_positives: 289.0000 - val_loss: 0.8734 - val_Accuracy: 0.7500 - val_false_negatives: 23.0000 - val_false_positives: 21.0000 - val_true_negatives: 243.0000 - val_true_positives: 65.0000\n",
            "Epoch 136/200\n",
            "44/44 [==============================] - 1s 16ms/step - loss: 0.3860 - Accuracy: 0.8506 - false_negatives: 58.0000 - false_positives: 36.0000 - true_negatives: 1008.0000 - true_positives: 290.0000 - val_loss: 0.8564 - val_Accuracy: 0.7614 - val_false_negatives: 21.0000 - val_false_positives: 17.0000 - val_true_negatives: 247.0000 - val_true_positives: 67.0000\n",
            "Epoch 137/200\n",
            "44/44 [==============================] - 1s 16ms/step - loss: 0.4151 - Accuracy: 0.8391 - false_negatives: 60.0000 - false_positives: 39.0000 - true_negatives: 1005.0000 - true_positives: 288.0000 - val_loss: 0.9326 - val_Accuracy: 0.7500 - val_false_negatives: 24.0000 - val_false_positives: 17.0000 - val_true_negatives: 247.0000 - val_true_positives: 64.0000\n",
            "Epoch 138/200\n",
            "44/44 [==============================] - 1s 16ms/step - loss: 0.3463 - Accuracy: 0.8736 - false_negatives: 56.0000 - false_positives: 34.0000 - true_negatives: 1010.0000 - true_positives: 292.0000 - val_loss: 0.7021 - val_Accuracy: 0.7841 - val_false_negatives: 19.0000 - val_false_positives: 16.0000 - val_true_negatives: 248.0000 - val_true_positives: 69.0000\n",
            "Epoch 139/200\n",
            "44/44 [==============================] - 1s 16ms/step - loss: 0.3650 - Accuracy: 0.8506 - false_negatives: 60.0000 - false_positives: 37.0000 - true_negatives: 1007.0000 - true_positives: 288.0000 - val_loss: 0.7006 - val_Accuracy: 0.7955 - val_false_negatives: 20.0000 - val_false_positives: 16.0000 - val_true_negatives: 248.0000 - val_true_positives: 68.0000\n",
            "Epoch 140/200\n",
            "44/44 [==============================] - 1s 16ms/step - loss: 0.3735 - Accuracy: 0.8649 - false_negatives: 54.0000 - false_positives: 33.0000 - true_negatives: 1011.0000 - true_positives: 294.0000 - val_loss: 0.7057 - val_Accuracy: 0.8068 - val_false_negatives: 20.0000 - val_false_positives: 15.0000 - val_true_negatives: 249.0000 - val_true_positives: 68.0000\n",
            "Epoch 141/200\n",
            "44/44 [==============================] - 1s 16ms/step - loss: 0.3862 - Accuracy: 0.8477 - false_negatives: 66.0000 - false_positives: 43.0000 - true_negatives: 1001.0000 - true_positives: 282.0000 - val_loss: 0.6701 - val_Accuracy: 0.7727 - val_false_negatives: 22.0000 - val_false_positives: 15.0000 - val_true_negatives: 249.0000 - val_true_positives: 66.0000\n",
            "Epoch 142/200\n",
            "44/44 [==============================] - 1s 17ms/step - loss: 0.3459 - Accuracy: 0.8736 - false_negatives: 52.0000 - false_positives: 35.0000 - true_negatives: 1009.0000 - true_positives: 296.0000 - val_loss: 0.6683 - val_Accuracy: 0.7614 - val_false_negatives: 21.0000 - val_false_positives: 18.0000 - val_true_negatives: 246.0000 - val_true_positives: 67.0000\n",
            "Epoch 143/200\n",
            "44/44 [==============================] - 1s 16ms/step - loss: 0.3258 - Accuracy: 0.8879 - false_negatives: 54.0000 - false_positives: 32.0000 - true_negatives: 1012.0000 - true_positives: 294.0000 - val_loss: 0.7074 - val_Accuracy: 0.7614 - val_false_negatives: 22.0000 - val_false_positives: 18.0000 - val_true_negatives: 246.0000 - val_true_positives: 66.0000\n",
            "Epoch 144/200\n",
            "44/44 [==============================] - 1s 16ms/step - loss: 0.3487 - Accuracy: 0.8621 - false_negatives: 60.0000 - false_positives: 39.0000 - true_negatives: 1005.0000 - true_positives: 288.0000 - val_loss: 0.7569 - val_Accuracy: 0.7727 - val_false_negatives: 21.0000 - val_false_positives: 19.0000 - val_true_negatives: 245.0000 - val_true_positives: 67.0000\n",
            "Epoch 145/200\n",
            "44/44 [==============================] - 1s 26ms/step - loss: 0.3678 - Accuracy: 0.8563 - false_negatives: 56.0000 - false_positives: 43.0000 - true_negatives: 1001.0000 - true_positives: 292.0000 - val_loss: 0.8838 - val_Accuracy: 0.7955 - val_false_negatives: 19.0000 - val_false_positives: 16.0000 - val_true_negatives: 248.0000 - val_true_positives: 69.0000\n",
            "Epoch 146/200\n",
            "44/44 [==============================] - 1s 25ms/step - loss: 0.3612 - Accuracy: 0.8649 - false_negatives: 54.0000 - false_positives: 35.0000 - true_negatives: 1009.0000 - true_positives: 294.0000 - val_loss: 0.7737 - val_Accuracy: 0.7614 - val_false_negatives: 23.0000 - val_false_positives: 18.0000 - val_true_negatives: 246.0000 - val_true_positives: 65.0000\n",
            "Epoch 147/200\n",
            "44/44 [==============================] - 1s 17ms/step - loss: 0.3275 - Accuracy: 0.8678 - false_negatives: 48.0000 - false_positives: 39.0000 - true_negatives: 1005.0000 - true_positives: 300.0000 - val_loss: 0.7601 - val_Accuracy: 0.7273 - val_false_negatives: 25.0000 - val_false_positives: 21.0000 - val_true_negatives: 243.0000 - val_true_positives: 63.0000\n",
            "Epoch 148/200\n",
            "44/44 [==============================] - 1s 16ms/step - loss: 0.3549 - Accuracy: 0.8592 - false_negatives: 53.0000 - false_positives: 33.0000 - true_negatives: 1011.0000 - true_positives: 295.0000 - val_loss: 0.7690 - val_Accuracy: 0.7841 - val_false_negatives: 20.0000 - val_false_positives: 16.0000 - val_true_negatives: 248.0000 - val_true_positives: 68.0000\n",
            "Epoch 149/200\n",
            "44/44 [==============================] - 1s 16ms/step - loss: 0.3117 - Accuracy: 0.8851 - false_negatives: 42.0000 - false_positives: 33.0000 - true_negatives: 1011.0000 - true_positives: 306.0000 - val_loss: 0.8220 - val_Accuracy: 0.8182 - val_false_negatives: 19.0000 - val_false_positives: 14.0000 - val_true_negatives: 250.0000 - val_true_positives: 69.0000\n",
            "Epoch 150/200\n",
            "44/44 [==============================] - 1s 15ms/step - loss: 0.3272 - Accuracy: 0.8707 - false_negatives: 49.0000 - false_positives: 37.0000 - true_negatives: 1007.0000 - true_positives: 299.0000 - val_loss: 0.8128 - val_Accuracy: 0.8182 - val_false_negatives: 16.0000 - val_false_positives: 13.0000 - val_true_negatives: 251.0000 - val_true_positives: 72.0000\n",
            "Epoch 151/200\n",
            "44/44 [==============================] - 1s 16ms/step - loss: 0.3724 - Accuracy: 0.8649 - false_negatives: 50.0000 - false_positives: 36.0000 - true_negatives: 1008.0000 - true_positives: 298.0000 - val_loss: 0.8208 - val_Accuracy: 0.8068 - val_false_negatives: 17.0000 - val_false_positives: 14.0000 - val_true_negatives: 250.0000 - val_true_positives: 71.0000\n",
            "Epoch 152/200\n",
            "44/44 [==============================] - 1s 16ms/step - loss: 0.3131 - Accuracy: 0.8822 - false_negatives: 50.0000 - false_positives: 35.0000 - true_negatives: 1009.0000 - true_positives: 298.0000 - val_loss: 0.7547 - val_Accuracy: 0.7614 - val_false_negatives: 21.0000 - val_false_positives: 19.0000 - val_true_negatives: 245.0000 - val_true_positives: 67.0000\n",
            "Epoch 153/200\n",
            "44/44 [==============================] - 1s 16ms/step - loss: 0.3677 - Accuracy: 0.8764 - false_negatives: 55.0000 - false_positives: 37.0000 - true_negatives: 1007.0000 - true_positives: 293.0000 - val_loss: 0.7050 - val_Accuracy: 0.7841 - val_false_negatives: 19.0000 - val_false_positives: 15.0000 - val_true_negatives: 249.0000 - val_true_positives: 69.0000\n",
            "Epoch 154/200\n",
            "44/44 [==============================] - 1s 16ms/step - loss: 0.3991 - Accuracy: 0.8448 - false_negatives: 66.0000 - false_positives: 47.0000 - true_negatives: 997.0000 - true_positives: 282.0000 - val_loss: 0.7235 - val_Accuracy: 0.8068 - val_false_negatives: 20.0000 - val_false_positives: 15.0000 - val_true_negatives: 249.0000 - val_true_positives: 68.0000\n",
            "Epoch 155/200\n",
            "44/44 [==============================] - 1s 16ms/step - loss: 0.3315 - Accuracy: 0.8822 - false_negatives: 49.0000 - false_positives: 33.0000 - true_negatives: 1011.0000 - true_positives: 299.0000 - val_loss: 0.7965 - val_Accuracy: 0.7500 - val_false_negatives: 23.0000 - val_false_positives: 18.0000 - val_true_negatives: 246.0000 - val_true_positives: 65.0000\n",
            "Epoch 156/200\n",
            "44/44 [==============================] - 1s 16ms/step - loss: 0.3136 - Accuracy: 0.8908 - false_negatives: 49.0000 - false_positives: 30.0000 - true_negatives: 1014.0000 - true_positives: 299.0000 - val_loss: 0.7176 - val_Accuracy: 0.7614 - val_false_negatives: 23.0000 - val_false_positives: 16.0000 - val_true_negatives: 248.0000 - val_true_positives: 65.0000\n",
            "Epoch 157/200\n",
            "44/44 [==============================] - 1s 16ms/step - loss: 0.3590 - Accuracy: 0.8649 - false_negatives: 56.0000 - false_positives: 38.0000 - true_negatives: 1006.0000 - true_positives: 292.0000 - val_loss: 0.7756 - val_Accuracy: 0.7841 - val_false_negatives: 19.0000 - val_false_positives: 16.0000 - val_true_negatives: 248.0000 - val_true_positives: 69.0000\n",
            "Epoch 158/200\n",
            "44/44 [==============================] - 1s 15ms/step - loss: 0.3626 - Accuracy: 0.8649 - false_negatives: 60.0000 - false_positives: 38.0000 - true_negatives: 1006.0000 - true_positives: 288.0000 - val_loss: 0.7449 - val_Accuracy: 0.7841 - val_false_negatives: 19.0000 - val_false_positives: 17.0000 - val_true_negatives: 247.0000 - val_true_positives: 69.0000\n",
            "Epoch 159/200\n",
            "44/44 [==============================] - 1s 16ms/step - loss: 0.2797 - Accuracy: 0.8937 - false_negatives: 45.0000 - false_positives: 32.0000 - true_negatives: 1012.0000 - true_positives: 303.0000 - val_loss: 0.8361 - val_Accuracy: 0.8182 - val_false_negatives: 17.0000 - val_false_positives: 16.0000 - val_true_negatives: 248.0000 - val_true_positives: 71.0000\n",
            "Epoch 160/200\n",
            "44/44 [==============================] - 1s 16ms/step - loss: 0.3768 - Accuracy: 0.8707 - false_negatives: 53.0000 - false_positives: 34.0000 - true_negatives: 1010.0000 - true_positives: 295.0000 - val_loss: 0.9919 - val_Accuracy: 0.7273 - val_false_negatives: 24.0000 - val_false_positives: 22.0000 - val_true_negatives: 242.0000 - val_true_positives: 64.0000\n",
            "Epoch 161/200\n",
            "44/44 [==============================] - 1s 16ms/step - loss: 0.3466 - Accuracy: 0.8678 - false_negatives: 56.0000 - false_positives: 35.0000 - true_negatives: 1009.0000 - true_positives: 292.0000 - val_loss: 0.7592 - val_Accuracy: 0.7841 - val_false_negatives: 20.0000 - val_false_positives: 17.0000 - val_true_negatives: 247.0000 - val_true_positives: 68.0000\n",
            "Epoch 162/200\n",
            "44/44 [==============================] - 1s 16ms/step - loss: 0.3111 - Accuracy: 0.8879 - false_negatives: 47.0000 - false_positives: 34.0000 - true_negatives: 1010.0000 - true_positives: 301.0000 - val_loss: 0.7454 - val_Accuracy: 0.7727 - val_false_negatives: 20.0000 - val_false_positives: 15.0000 - val_true_negatives: 249.0000 - val_true_positives: 68.0000\n",
            "Epoch 163/200\n",
            "44/44 [==============================] - 1s 16ms/step - loss: 0.2926 - Accuracy: 0.8665 - false_negatives: 49.0000 - false_positives: 34.0000 - true_negatives: 1022.0000 - true_positives: 303.0000 - val_loss: 0.8129 - val_Accuracy: 0.7727 - val_false_negatives: 20.0000 - val_false_positives: 18.0000 - val_true_negatives: 246.0000 - val_true_positives: 68.0000\n",
            "Epoch 164/200\n",
            "44/44 [==============================] - 1s 16ms/step - loss: 0.3461 - Accuracy: 0.8621 - false_negatives: 54.0000 - false_positives: 34.0000 - true_negatives: 1010.0000 - true_positives: 294.0000 - val_loss: 0.7413 - val_Accuracy: 0.8068 - val_false_negatives: 17.0000 - val_false_positives: 16.0000 - val_true_negatives: 248.0000 - val_true_positives: 71.0000\n",
            "Epoch 165/200\n",
            "44/44 [==============================] - 1s 16ms/step - loss: 0.2778 - Accuracy: 0.8908 - false_negatives: 44.0000 - false_positives: 29.0000 - true_negatives: 1015.0000 - true_positives: 304.0000 - val_loss: 0.7475 - val_Accuracy: 0.7727 - val_false_negatives: 20.0000 - val_false_positives: 18.0000 - val_true_negatives: 246.0000 - val_true_positives: 68.0000\n",
            "Epoch 166/200\n",
            "44/44 [==============================] - 1s 16ms/step - loss: 0.2993 - Accuracy: 0.8937 - false_negatives: 49.0000 - false_positives: 32.0000 - true_negatives: 1012.0000 - true_positives: 299.0000 - val_loss: 0.8375 - val_Accuracy: 0.7841 - val_false_negatives: 20.0000 - val_false_positives: 16.0000 - val_true_negatives: 248.0000 - val_true_positives: 68.0000\n",
            "Epoch 167/200\n",
            "44/44 [==============================] - 1s 17ms/step - loss: 0.3268 - Accuracy: 0.8678 - false_negatives: 51.0000 - false_positives: 40.0000 - true_negatives: 1004.0000 - true_positives: 297.0000 - val_loss: 0.8087 - val_Accuracy: 0.7955 - val_false_negatives: 18.0000 - val_false_positives: 13.0000 - val_true_negatives: 251.0000 - val_true_positives: 70.0000\n",
            "Epoch 168/200\n",
            "44/44 [==============================] - 1s 16ms/step - loss: 0.2688 - Accuracy: 0.8851 - false_negatives: 44.0000 - false_positives: 34.0000 - true_negatives: 1010.0000 - true_positives: 304.0000 - val_loss: 0.7377 - val_Accuracy: 0.7614 - val_false_negatives: 21.0000 - val_false_positives: 18.0000 - val_true_negatives: 246.0000 - val_true_positives: 67.0000\n",
            "Epoch 169/200\n",
            "44/44 [==============================] - 1s 16ms/step - loss: 0.3024 - Accuracy: 0.8822 - false_negatives: 46.0000 - false_positives: 34.0000 - true_negatives: 1010.0000 - true_positives: 302.0000 - val_loss: 0.7008 - val_Accuracy: 0.7955 - val_false_negatives: 19.0000 - val_false_positives: 14.0000 - val_true_negatives: 250.0000 - val_true_positives: 69.0000\n",
            "Epoch 170/200\n",
            "44/44 [==============================] - 1s 16ms/step - loss: 0.3413 - Accuracy: 0.8736 - false_negatives: 49.0000 - false_positives: 37.0000 - true_negatives: 1007.0000 - true_positives: 299.0000 - val_loss: 0.7539 - val_Accuracy: 0.7500 - val_false_negatives: 22.0000 - val_false_positives: 17.0000 - val_true_negatives: 247.0000 - val_true_positives: 66.0000\n",
            "Epoch 171/200\n",
            "44/44 [==============================] - 1s 16ms/step - loss: 0.2839 - Accuracy: 0.9023 - false_negatives: 37.0000 - false_positives: 31.0000 - true_negatives: 1013.0000 - true_positives: 311.0000 - val_loss: 0.8225 - val_Accuracy: 0.7500 - val_false_negatives: 22.0000 - val_false_positives: 21.0000 - val_true_negatives: 243.0000 - val_true_positives: 66.0000\n",
            "Epoch 172/200\n",
            "44/44 [==============================] - 1s 17ms/step - loss: 0.2443 - Accuracy: 0.9167 - false_negatives: 34.0000 - false_positives: 26.0000 - true_negatives: 1018.0000 - true_positives: 314.0000 - val_loss: 0.9015 - val_Accuracy: 0.7841 - val_false_negatives: 19.0000 - val_false_positives: 15.0000 - val_true_negatives: 249.0000 - val_true_positives: 69.0000\n",
            "Epoch 173/200\n",
            "44/44 [==============================] - 1s 16ms/step - loss: 0.3428 - Accuracy: 0.8621 - false_negatives: 52.0000 - false_positives: 41.0000 - true_negatives: 1003.0000 - true_positives: 296.0000 - val_loss: 0.7747 - val_Accuracy: 0.7727 - val_false_negatives: 23.0000 - val_false_positives: 18.0000 - val_true_negatives: 246.0000 - val_true_positives: 65.0000\n",
            "Epoch 174/200\n",
            "44/44 [==============================] - 1s 16ms/step - loss: 0.2549 - Accuracy: 0.9167 - false_negatives: 32.0000 - false_positives: 24.0000 - true_negatives: 1020.0000 - true_positives: 316.0000 - val_loss: 0.9471 - val_Accuracy: 0.7614 - val_false_negatives: 22.0000 - val_false_positives: 18.0000 - val_true_negatives: 246.0000 - val_true_positives: 66.0000\n",
            "Epoch 175/200\n",
            "44/44 [==============================] - 1s 16ms/step - loss: 0.2989 - Accuracy: 0.8908 - false_negatives: 42.0000 - false_positives: 33.0000 - true_negatives: 1011.0000 - true_positives: 306.0000 - val_loss: 0.8288 - val_Accuracy: 0.7727 - val_false_negatives: 22.0000 - val_false_positives: 19.0000 - val_true_negatives: 245.0000 - val_true_positives: 66.0000\n",
            "Epoch 176/200\n",
            "44/44 [==============================] - 1s 16ms/step - loss: 0.2689 - Accuracy: 0.8966 - false_negatives: 44.0000 - false_positives: 32.0000 - true_negatives: 1012.0000 - true_positives: 304.0000 - val_loss: 0.8274 - val_Accuracy: 0.7727 - val_false_negatives: 20.0000 - val_false_positives: 19.0000 - val_true_negatives: 245.0000 - val_true_positives: 68.0000\n",
            "Epoch 177/200\n",
            "44/44 [==============================] - 1s 16ms/step - loss: 0.2837 - Accuracy: 0.8822 - false_negatives: 47.0000 - false_positives: 33.0000 - true_negatives: 1011.0000 - true_positives: 301.0000 - val_loss: 0.8285 - val_Accuracy: 0.7841 - val_false_negatives: 20.0000 - val_false_positives: 18.0000 - val_true_negatives: 246.0000 - val_true_positives: 68.0000\n",
            "Epoch 178/200\n",
            "44/44 [==============================] - 1s 16ms/step - loss: 0.3024 - Accuracy: 0.8851 - false_negatives: 48.0000 - false_positives: 32.0000 - true_negatives: 1012.0000 - true_positives: 300.0000 - val_loss: 0.8874 - val_Accuracy: 0.7500 - val_false_negatives: 22.0000 - val_false_positives: 19.0000 - val_true_negatives: 245.0000 - val_true_positives: 66.0000\n",
            "Epoch 179/200\n",
            "44/44 [==============================] - 1s 16ms/step - loss: 0.2803 - Accuracy: 0.8764 - false_negatives: 50.0000 - false_positives: 34.0000 - true_negatives: 1010.0000 - true_positives: 298.0000 - val_loss: 0.9137 - val_Accuracy: 0.8068 - val_false_negatives: 17.0000 - val_false_positives: 16.0000 - val_true_negatives: 248.0000 - val_true_positives: 71.0000\n",
            "Epoch 180/200\n",
            "44/44 [==============================] - 1s 16ms/step - loss: 0.2563 - Accuracy: 0.9052 - false_negatives: 41.0000 - false_positives: 27.0000 - true_negatives: 1017.0000 - true_positives: 307.0000 - val_loss: 1.0453 - val_Accuracy: 0.7955 - val_false_negatives: 18.0000 - val_false_positives: 17.0000 - val_true_negatives: 247.0000 - val_true_positives: 70.0000\n",
            "Epoch 181/200\n",
            "44/44 [==============================] - 1s 16ms/step - loss: 0.2676 - Accuracy: 0.8879 - false_negatives: 41.0000 - false_positives: 32.0000 - true_negatives: 1012.0000 - true_positives: 307.0000 - val_loss: 0.8959 - val_Accuracy: 0.7614 - val_false_negatives: 22.0000 - val_false_positives: 21.0000 - val_true_negatives: 243.0000 - val_true_positives: 66.0000\n",
            "Epoch 182/200\n",
            "44/44 [==============================] - 1s 16ms/step - loss: 0.2965 - Accuracy: 0.8994 - false_negatives: 45.0000 - false_positives: 31.0000 - true_negatives: 1013.0000 - true_positives: 303.0000 - val_loss: 0.7491 - val_Accuracy: 0.7841 - val_false_negatives: 19.0000 - val_false_positives: 15.0000 - val_true_negatives: 249.0000 - val_true_positives: 69.0000\n",
            "Epoch 183/200\n",
            "44/44 [==============================] - 1s 17ms/step - loss: 0.3050 - Accuracy: 0.8937 - false_negatives: 42.0000 - false_positives: 29.0000 - true_negatives: 1015.0000 - true_positives: 306.0000 - val_loss: 0.8833 - val_Accuracy: 0.7500 - val_false_negatives: 22.0000 - val_false_positives: 21.0000 - val_true_negatives: 243.0000 - val_true_positives: 66.0000\n",
            "Epoch 184/200\n",
            "44/44 [==============================] - 1s 16ms/step - loss: 0.3022 - Accuracy: 0.8793 - false_negatives: 49.0000 - false_positives: 36.0000 - true_negatives: 1008.0000 - true_positives: 299.0000 - val_loss: 0.7917 - val_Accuracy: 0.7500 - val_false_negatives: 22.0000 - val_false_positives: 18.0000 - val_true_negatives: 246.0000 - val_true_positives: 66.0000\n",
            "Epoch 185/200\n",
            "44/44 [==============================] - 1s 17ms/step - loss: 0.2465 - Accuracy: 0.8879 - false_negatives: 44.0000 - false_positives: 35.0000 - true_negatives: 1009.0000 - true_positives: 304.0000 - val_loss: 0.8403 - val_Accuracy: 0.7727 - val_false_negatives: 22.0000 - val_false_positives: 18.0000 - val_true_negatives: 246.0000 - val_true_positives: 66.0000\n",
            "Epoch 186/200\n",
            "44/44 [==============================] - 1s 17ms/step - loss: 0.2805 - Accuracy: 0.8793 - false_negatives: 45.0000 - false_positives: 35.0000 - true_negatives: 1009.0000 - true_positives: 303.0000 - val_loss: 0.9017 - val_Accuracy: 0.7841 - val_false_negatives: 20.0000 - val_false_positives: 17.0000 - val_true_negatives: 247.0000 - val_true_positives: 68.0000\n",
            "Epoch 187/200\n",
            "44/44 [==============================] - 1s 16ms/step - loss: 0.2487 - Accuracy: 0.8879 - false_negatives: 45.0000 - false_positives: 31.0000 - true_negatives: 1013.0000 - true_positives: 303.0000 - val_loss: 0.9549 - val_Accuracy: 0.7841 - val_false_negatives: 19.0000 - val_false_positives: 18.0000 - val_true_negatives: 246.0000 - val_true_positives: 69.0000\n",
            "Epoch 188/200\n",
            "44/44 [==============================] - 1s 16ms/step - loss: 0.2686 - Accuracy: 0.8908 - false_negatives: 42.0000 - false_positives: 35.0000 - true_negatives: 1009.0000 - true_positives: 306.0000 - val_loss: 0.8147 - val_Accuracy: 0.7727 - val_false_negatives: 21.0000 - val_false_positives: 19.0000 - val_true_negatives: 245.0000 - val_true_positives: 67.0000\n",
            "Epoch 189/200\n",
            "44/44 [==============================] - 1s 16ms/step - loss: 0.2878 - Accuracy: 0.8736 - false_negatives: 49.0000 - false_positives: 38.0000 - true_negatives: 1006.0000 - true_positives: 299.0000 - val_loss: 0.7776 - val_Accuracy: 0.7841 - val_false_negatives: 20.0000 - val_false_positives: 18.0000 - val_true_negatives: 246.0000 - val_true_positives: 68.0000\n",
            "Epoch 190/200\n",
            "44/44 [==============================] - 1s 16ms/step - loss: 0.2253 - Accuracy: 0.9148 - false_negatives: 35.0000 - false_positives: 26.0000 - true_negatives: 1030.0000 - true_positives: 317.0000 - val_loss: 0.8560 - val_Accuracy: 0.7727 - val_false_negatives: 20.0000 - val_false_positives: 17.0000 - val_true_negatives: 247.0000 - val_true_positives: 68.0000\n",
            "Epoch 191/200\n",
            "44/44 [==============================] - 1s 17ms/step - loss: 0.2737 - Accuracy: 0.8793 - false_negatives: 45.0000 - false_positives: 36.0000 - true_negatives: 1008.0000 - true_positives: 303.0000 - val_loss: 0.8512 - val_Accuracy: 0.7500 - val_false_negatives: 24.0000 - val_false_positives: 20.0000 - val_true_negatives: 244.0000 - val_true_positives: 64.0000\n",
            "Epoch 192/200\n",
            "44/44 [==============================] - 1s 16ms/step - loss: 0.2681 - Accuracy: 0.8908 - false_negatives: 44.0000 - false_positives: 33.0000 - true_negatives: 1011.0000 - true_positives: 304.0000 - val_loss: 0.9340 - val_Accuracy: 0.7841 - val_false_negatives: 19.0000 - val_false_positives: 19.0000 - val_true_negatives: 245.0000 - val_true_positives: 69.0000\n",
            "Epoch 193/200\n",
            "44/44 [==============================] - 1s 17ms/step - loss: 0.2575 - Accuracy: 0.9109 - false_negatives: 35.0000 - false_positives: 27.0000 - true_negatives: 1017.0000 - true_positives: 313.0000 - val_loss: 0.9366 - val_Accuracy: 0.7727 - val_false_negatives: 20.0000 - val_false_positives: 18.0000 - val_true_negatives: 246.0000 - val_true_positives: 68.0000\n",
            "Epoch 194/200\n",
            "44/44 [==============================] - 1s 17ms/step - loss: 0.2234 - Accuracy: 0.9023 - false_negatives: 38.0000 - false_positives: 30.0000 - true_negatives: 1014.0000 - true_positives: 310.0000 - val_loss: 0.8902 - val_Accuracy: 0.7500 - val_false_negatives: 22.0000 - val_false_positives: 20.0000 - val_true_negatives: 244.0000 - val_true_positives: 66.0000\n",
            "Epoch 195/200\n",
            "44/44 [==============================] - 1s 16ms/step - loss: 0.3117 - Accuracy: 0.8892 - false_negatives: 43.0000 - false_positives: 34.0000 - true_negatives: 1022.0000 - true_positives: 309.0000 - val_loss: 0.8249 - val_Accuracy: 0.7614 - val_false_negatives: 22.0000 - val_false_positives: 18.0000 - val_true_negatives: 246.0000 - val_true_positives: 66.0000\n",
            "Epoch 196/200\n",
            "44/44 [==============================] - 1s 16ms/step - loss: 0.2972 - Accuracy: 0.8851 - false_negatives: 44.0000 - false_positives: 32.0000 - true_negatives: 1012.0000 - true_positives: 304.0000 - val_loss: 0.7549 - val_Accuracy: 0.7727 - val_false_negatives: 20.0000 - val_false_positives: 20.0000 - val_true_negatives: 244.0000 - val_true_positives: 68.0000\n",
            "Epoch 197/200\n",
            "44/44 [==============================] - 1s 16ms/step - loss: 0.2708 - Accuracy: 0.8764 - false_negatives: 52.0000 - false_positives: 36.0000 - true_negatives: 1008.0000 - true_positives: 296.0000 - val_loss: 0.9454 - val_Accuracy: 0.7500 - val_false_negatives: 22.0000 - val_false_positives: 19.0000 - val_true_negatives: 245.0000 - val_true_positives: 66.0000\n",
            "Epoch 198/200\n",
            "44/44 [==============================] - 1s 16ms/step - loss: 0.2814 - Accuracy: 0.9138 - false_negatives: 32.0000 - false_positives: 24.0000 - true_negatives: 1020.0000 - true_positives: 316.0000 - val_loss: 0.9246 - val_Accuracy: 0.7614 - val_false_negatives: 21.0000 - val_false_positives: 20.0000 - val_true_negatives: 244.0000 - val_true_positives: 67.0000\n",
            "Epoch 199/200\n",
            "44/44 [==============================] - 1s 16ms/step - loss: 0.3009 - Accuracy: 0.8879 - false_negatives: 43.0000 - false_positives: 33.0000 - true_negatives: 1011.0000 - true_positives: 305.0000 - val_loss: 0.8543 - val_Accuracy: 0.7500 - val_false_negatives: 22.0000 - val_false_positives: 21.0000 - val_true_negatives: 243.0000 - val_true_positives: 66.0000\n",
            "Epoch 200/200\n",
            "44/44 [==============================] - 1s 16ms/step - loss: 0.2699 - Accuracy: 0.8879 - false_negatives: 43.0000 - false_positives: 33.0000 - true_negatives: 1011.0000 - true_positives: 305.0000 - val_loss: 0.7130 - val_Accuracy: 0.7841 - val_false_negatives: 20.0000 - val_false_positives: 14.0000 - val_true_negatives: 250.0000 - val_true_positives: 68.0000\n"
          ]
        }
      ]
    },
    {
      "cell_type": "markdown",
      "source": [
        "Plotting Traning Result"
      ],
      "metadata": {
        "id": "XZSFG8fXqz7c"
      }
    },
    {
      "cell_type": "code",
      "source": [
        "  #plotting\n",
        "  epochs = range(1, len(history.history['loss'])+1)\n",
        "  plt.title(f\"Grafik loss training iterasi {iterasi}\")\n",
        "  plt.plot(epochs, history.history['loss'], 'r', label='Training Loss')\n",
        "  plt.plot(epochs, history.history['val_loss'], 'b', label='Validation Loss')    \n",
        "  plt.xlabel(\"Epoch\")\n",
        "  plt.ylabel(\"Loss\")\n",
        "  plt.legend()\n",
        "  plt.show()\n"
      ],
      "metadata": {
        "id": "3dXbDrJpY1NK",
        "colab": {
          "base_uri": "https://localhost:8080/",
          "height": 295
        },
        "outputId": "748ef8e3-c101-4779-e633-fe579339dcc7"
      },
      "execution_count": 12,
      "outputs": [
        {
          "output_type": "display_data",
          "data": {
            "text/plain": [
              "<Figure size 432x288 with 1 Axes>"
            ],
            "image/png": "[encoded data removed]"
          },
          "metadata": {
            "needs_background": "light"
          }
        }
      ]
    },
    {
      "cell_type": "code",
      "source": [
        "  #plotting\n",
        "  epochs = range(1, len(history.history['loss'])+1)\n",
        "  plt.title(f\"Grafik Akurasi training iterasi {iterasi}\")\n",
        "  plt.plot(epochs, history.history['Accuracy'], 'r', label='Training Accuracy')\n",
        "  plt.plot(epochs, history.history['val_Accuracy'], 'b', label='Validation Accuracy')    \n",
        "  plt.xlabel(\"Epoch\")\n",
        "  plt.ylabel(\"Accuracy\")\n",
        "  plt.legend()\n",
        "  plt.show()"
      ],
      "metadata": {
        "id": "j3xigprPwlSX",
        "colab": {
          "base_uri": "https://localhost:8080/",
          "height": 295
        },
        "outputId": "f5aaaee0-a989-4551-cff4-09bf34a56b05"
      },
      "execution_count": 13,
      "outputs": [
        {
          "output_type": "display_data",
          "data": {
            "text/plain": [
              "<Figure size 432x288 with 1 Axes>"
            ],
            "image/png": "[encoded data removed]"
          },
          "metadata": {
            "needs_background": "light"
          }
        }
      ]
    },
    {
      "cell_type": "code",
      "source": [
        "import matplotlib.pyplot as plt\n",
        "from sklearn.datasets import make_classification\n",
        "from numpy import mean\n",
        "from sklearn.metrics import confusion_matrix, ConfusionMatrixDisplay, accuracy_score, classification_report, recall_score\n",
        "\n",
        "validation = model.predict(np_image_list_validation)\n",
        "\n",
        "predicted_labels = []\n",
        "correct_labels = []\n",
        "for i in range (len(validation)):\n",
        "  predicted_labels.append(np.argmax(validation[i]))\n",
        "\n",
        "for i in range (len(image_labels_validation)):\n",
        "  correct_labels.append(np.argmax(image_labels_validation[i]))\n",
        "\n",
        "\n",
        "confusion_matrix = confusion_matrix(correct_labels, predicted_labels)\n",
        "disp = ConfusionMatrixDisplay(confusion_matrix=confusion_matrix)  \n",
        "disp.plot()\n",
        "plt.show()\n",
        "print('--------')\n",
        "FP = confusion_matrix.sum(axis=0) - np.diag(confusion_matrix)  \n",
        "FN = confusion_matrix.sum(axis=1) - np.diag(confusion_matrix)\n",
        "TP = np.diag(confusion_matrix)\n",
        "TN = confusion_matrix.sum() - (FP + FN + TP)\n",
        "\n",
        "# Sensitivity, hit rate, recall, or true positive rate\n",
        "TPR = TP/(TP+FN)\n",
        "# Specificity or true negative rate\n",
        "TNR = TN/(TN+FP) \n",
        "# Overall accuracy\n",
        "ACC = (TP+TN)/(TP+FP+FN+TN)\n",
        "\n",
        "print(TP)\n",
        "print(TN)\n",
        "print(FP)\n",
        "print(FN)\n",
        "print('--------')\n",
        "print(ACC)\n",
        "print(TPR)\n",
        "print(TNR)\n",
        "print('--------')\n",
        "\n",
        "TP = sum(TP)\n",
        "TN = sum(TN)\n",
        "FP = sum(FP)\n",
        "FN = sum(FN)\n",
        "\n",
        "# Sensitivity, hit rate, recall, or true positive rate\n",
        "TPR = TP/(TP+FN)\n",
        "# Specificity or true negative rate\n",
        "TNR = TN/(TN+FP) \n",
        "# Overall accuracy\n",
        "ACC = (TP+TN)/(TP+FP+FN+TN)\n",
        "\n",
        "print(TP)\n",
        "print(TN)\n",
        "print(FP)\n",
        "print(FN)\n",
        "print('--------')\n",
        "print(ACC)\n",
        "print(TPR)\n",
        "print(TNR)"
      ],
      "metadata": {
        "colab": {
          "base_uri": "https://localhost:8080/",
          "height": 591
        },
        "id": "y0RigLm76Rpg",
        "outputId": "69bd85f8-8bb0-45a4-c4d2-b45d0b37d34d"
      },
      "execution_count": 14,
      "outputs": [
        {
          "output_type": "display_data",
          "data": {
            "text/plain": [
              "<Figure size 432x288 with 2 Axes>"
            ],
            "image/png": "[encoded data removed]"
          },
          "metadata": {
            "needs_background": "light"
          }
        },
        {
          "output_type": "stream",
          "name": "stdout",
          "text": [
            "--------\n",
            "[ 7  4 20 38]\n",
            "[69 73 60 43]\n",
            "[9 2 3 5]\n",
            "[3 9 5 2]\n",
            "--------\n",
            "[0.86363636 0.875      0.90909091 0.92045455]\n",
            "[0.7        0.30769231 0.8        0.95      ]\n",
            "[0.88461538 0.97333333 0.95238095 0.89583333]\n",
            "--------\n",
            "69\n",
            "245\n",
            "19\n",
            "19\n",
            "--------\n",
            "0.8920454545454546\n",
            "0.7840909090909091\n",
            "0.928030303030303\n"
          ]
        }
      ]
    },
    {
      "cell_type": "code",
      "source": [
        "import matplotlib.pyplot as plt\n",
        "from sklearn.datasets import make_classification\n",
        "from numpy import mean\n",
        "from sklearn.metrics import confusion_matrix, ConfusionMatrixDisplay, accuracy_score, classification_report, recall_score\n",
        "\n",
        "test = model.predict(np_image_list_test)\n",
        "\n",
        "predicted_labels = []\n",
        "correct_labels = []\n",
        "for i in range (len(test)):\n",
        "  predicted_labels.append(np.argmax(test[i]))\n",
        "\n",
        "for i in range (len(image_labels_test)):\n",
        "  correct_labels.append(np.argmax(image_labels_test[i]))\n",
        "\n",
        "\n",
        "confusion_matrix = confusion_matrix(correct_labels, predicted_labels)\n",
        "disp = ConfusionMatrixDisplay(confusion_matrix=confusion_matrix)  \n",
        "disp.plot()\n",
        "plt.show()\n",
        "print('--------')\n",
        "FP = confusion_matrix.sum(axis=0) - np.diag(confusion_matrix)  \n",
        "FN = confusion_matrix.sum(axis=1) - np.diag(confusion_matrix)\n",
        "TP = np.diag(confusion_matrix)\n",
        "TN = confusion_matrix.sum() - (FP + FN + TP)\n",
        "\n",
        "# Sensitivity, hit rate, recall, or true positive rate\n",
        "TPR = TP/(TP+FN)\n",
        "# Specificity or true negative rate\n",
        "TNR = TN/(TN+FP) \n",
        "# Overall accuracy\n",
        "ACC = (TP+TN)/(TP+FP+FN+TN)\n",
        "\n",
        "print(TP)\n",
        "print(TN)\n",
        "print(FP)\n",
        "print(FN)\n",
        "print('--------')\n",
        "print(ACC)\n",
        "print(TPR)\n",
        "print(TNR)\n",
        "print('--------')\n",
        "\n",
        "TP = sum(TP)\n",
        "TN = sum(TN)\n",
        "FP = sum(FP)\n",
        "FN = sum(FN)\n",
        "\n",
        "# Sensitivity, hit rate, recall, or true positive rate\n",
        "TPR = TP/(TP+FN)\n",
        "# Specificity or true negative rate\n",
        "TNR = TN/(TN+FP) \n",
        "# Overall accuracy\n",
        "ACC = (TP+TN)/(TP+FP+FN+TN)\n",
        "\n",
        "print(TP)\n",
        "print(TN)\n",
        "print(FP)\n",
        "print(FN)\n",
        "print('--------')\n",
        "print(ACC)\n",
        "print(TPR)\n",
        "print(TNR)"
      ],
      "metadata": {
        "colab": {
          "base_uri": "https://localhost:8080/",
          "height": 591
        },
        "id": "xufCN02P5v4A",
        "outputId": "65a28762-e5a2-4bef-a08b-076526a77a3e"
      },
      "execution_count": 15,
      "outputs": [
        {
          "output_type": "display_data",
          "data": {
            "text/plain": [
              "<Figure size 432x288 with 2 Axes>"
            ],
            "image/png": "[encoded data removed]"
          },
          "metadata": {
            "needs_background": "light"
          }
        },
        {
          "output_type": "stream",
          "name": "stdout",
          "text": [
            "--------\n",
            "[ 3  6 11 42]\n",
            "[86 89 70 37]\n",
            "[12  5  8 23]\n",
            "[ 9 10 21  8]\n",
            "--------\n",
            "[0.80909091 0.86363636 0.73636364 0.71818182]\n",
            "[0.25    0.375   0.34375 0.84   ]\n",
            "[0.87755102 0.94680851 0.8974359  0.61666667]\n",
            "--------\n",
            "62\n",
            "282\n",
            "48\n",
            "48\n",
            "--------\n",
            "0.7818181818181819\n",
            "0.5636363636363636\n",
            "0.8545454545454545\n"
          ]
        }
      ]
    },
    {
      "cell_type": "markdown",
      "metadata": {
        "id": "bTgk1-sdzmgy"
      },
      "source": [
        "**Validating** Network"
      ]
    },
    {
      "cell_type": "code",
      "source": [
        "\n"
      ],
      "metadata": {
        "id": "d_NBE4KkWuhu"
      },
      "execution_count": 15,
      "outputs": []
    },
    {
      "cell_type": "markdown",
      "source": [
        "**Testing** Network"
      ],
      "metadata": {
        "id": "saJYjKqX9tRL"
      }
    },
    {
      "cell_type": "code",
      "source": [
        "\n"
      ],
      "metadata": {
        "id": "A7DR52hmTc75"
      },
      "execution_count": 15,
      "outputs": []
    },
    {
      "cell_type": "code",
      "source": [
        "test_img = cv2.imread('/content/Datasets/fold4/Test/apel_sehat/apel_sehat (1).jpg')\n",
        "\n",
        "plt.imshow(test_img)\n",
        "test_img = test_img / 255\n",
        "test_img = np.expand_dims(test_img, axis=0)\n",
        "pr=model.predict(test_img)\n",
        "\n",
        "print(pr)\n",
        "output = label_binarizer.inverse_transform(pr)\n",
        "print(output)"
      ],
      "metadata": {
        "colab": {
          "base_uri": "https://localhost:8080/",
          "height": 303
        },
        "id": "zkMI6CwJArvo",
        "outputId": "f594c9b0-29bc-4bf6-eecb-4d2e5ca54ff2"
      },
      "execution_count": 16,
      "outputs": [
        {
          "output_type": "stream",
          "name": "stdout",
          "text": [
            "[[4.9854021e-10 1.4420151e-06 8.5253150e-06 9.9998999e-01]]\n",
            "['apel_sehat']\n"
          ]
        },
        {
          "output_type": "display_data",
          "data": {
            "text/plain": [
              "<Figure size 432x288 with 1 Axes>"
            ],
            "image/png": "[encoded data removed]"
          },
          "metadata": {
            "needs_background": "light"
          }
        }
      ]
    },
    {
      "cell_type": "code",
      "source": [
        "# save the model to disk\n",
        "#print(\"[INFO] Saving model...\")\n",
        "#pickle.dump(model,open('cnn_model.pkl', 'wb'))\n",
        "#model.save('/content/fold1.h5')"
      ],
      "metadata": {
        "id": "Wr_b8qBuCAIS"
      },
      "execution_count": 17,
      "outputs": []
    }
  ]
}