{
  "nbformat": 4,
  "nbformat_minor": 0,
  "metadata": {
    "accelerator": "GPU",
    "colab": {
      "name": "Kodingan Skripsi 5 (VGG16)",
      "provenance": [],
      "collapsed_sections": [],
      "include_colab_link": true
    },
    "kernelspec": {
      "display_name": "Python 3",
      "language": "python",
      "name": "python3"
    },
    "language_info": {
      "codemirror_mode": {
        "name": "ipython",
        "version": 3
      },
      "file_extension": ".py",
      "mimetype": "text/x-python",
      "name": "python",
      "nbconvert_exporter": "python",
      "pygments_lexer": "ipython3",
      "version": "3.6.6"
    }
  },
  "cells": [
    {
      "cell_type": "markdown",
      "metadata": {
        "id": "view-in-github",
        "colab_type": "text"
      },
      "source": [
        "<a href=\"https://colab.research.google.com/github/TaufiqIdrus/Python-Projects/blob/master/12_vgg16.ipynb\" target=\"_parent\"><img src=\"https://colab.research.google.com/assets/colab-badge.svg\" alt=\"Open In Colab\"/></a>"
      ]
    },
    {
      "cell_type": "markdown",
      "metadata": {
        "id": "yJT_kQA2lITS"
      },
      "source": [
        "**Identifikasi Penyakit Pada Tanaman Apel menggunakan Convolutional Neural Network**"
      ]
    },
    {
      "cell_type": "code",
      "metadata": {
        "id": "xXeOaYTUzmgT"
      },
      "source": [
        "import numpy as np\n",
        "import pickle\n",
        "import os\n",
        "import cv2\n",
        "import tensorflow as tf\n",
        "import keras\n",
        "from os import listdir\n",
        "from sklearn.preprocessing import LabelBinarizer\n",
        "from sklearn.model_selection import KFold\n",
        "from keras.models import Sequential\n",
        "from keras.layers.normalization import batch_normalization\n",
        "from keras.layers.convolutional import Conv2D\n",
        "from keras.layers.convolutional import MaxPooling2D\n",
        "from keras.layers.core import Activation, Flatten, Dropout, Dense\n",
        "from keras import backend as K\n",
        "from tensorflow.keras.optimizers import Adam\n",
        "from keras.preprocessing import image\n",
        "from sklearn.preprocessing import MultiLabelBinarizer\n",
        "from sklearn.model_selection import train_test_split\n",
        "import matplotlib.pyplot as plt\n",
        "from sklearn.datasets import make_classification\n",
        "from numpy import mean\n",
        "from sklearn.metrics import confusion_matrix, ConfusionMatrixDisplay, accuracy_score, classification_report, recall_score\n"
      ],
      "execution_count": 1,
      "outputs": []
    },
    {
      "cell_type": "markdown",
      "metadata": {
        "id": "fp8C0d28lQok"
      },
      "source": [
        "Importing and Preparing Dataset"
      ]
    },
    {
      "cell_type": "code",
      "metadata": {
        "id": "_0xehllADlUs",
        "colab": {
          "base_uri": "https://localhost:8080/"
        },
        "outputId": "80d583f1-0400-435e-ba94-3697e89d6534"
      },
      "source": [
        "!pip install pyunpack\n",
        "!pip install patool\n",
        "from pyunpack import Archive\n",
        "Archive('/content/fold1.rar').extractall('/content/Datasets/')\n",
        "iterasi = 1\n",
        "width=60\n",
        "height=60\n",
        "default_image_size = tuple((height, width))\n",
        "directory_root_train = '/content/Datasets/fold1/Train'\n",
        "directory_root_validation = '/content/Datasets/fold1/Validation'\n",
        "directory_root_test = '/content/Datasets/fold1/Test'\n",
        "image_size = 0\n",
        "depth=3"
      ],
      "execution_count": 2,
      "outputs": [
        {
          "output_type": "stream",
          "name": "stdout",
          "text": [
            "Looking in indexes: https://pypi.org/simple, https://us-python.pkg.dev/colab-wheels/public/simple/\n",
            "Collecting pyunpack\n",
            "  Downloading pyunpack-0.3-py2.py3-none-any.whl (4.1 kB)\n",
            "Collecting easyprocess\n",
            "  Downloading EasyProcess-1.1-py3-none-any.whl (8.7 kB)\n",
            "Collecting entrypoint2\n",
            "  Downloading entrypoint2-1.1-py2.py3-none-any.whl (9.9 kB)\n",
            "Installing collected packages: entrypoint2, easyprocess, pyunpack\n",
            "Successfully installed easyprocess-1.1 entrypoint2-1.1 pyunpack-0.3\n",
            "Looking in indexes: https://pypi.org/simple, https://us-python.pkg.dev/colab-wheels/public/simple/\n",
            "Collecting patool\n",
            "  Downloading patool-1.12-py2.py3-none-any.whl (77 kB)\n",
            "\u001b[K     |████████████████████████████████| 77 kB 3.5 MB/s \n",
            "\u001b[?25hInstalling collected packages: patool\n",
            "Successfully installed patool-1.12\n"
          ]
        }
      ]
    },
    {
      "cell_type": "code",
      "metadata": {
        "id": "KbAwJJTpzmge"
      },
      "source": [
        "def convert_image_to_array(image_dir):\n",
        "    try:\n",
        "        image = cv2.imread(image_dir)\n",
        "        if image is not None :\n",
        "            image = cv2.resize(image, default_image_size)   \n",
        "            return keras.preprocessing.image.img_to_array(image)\n",
        "        else :\n",
        "            return np.array([])\n",
        "    except Exception as e:\n",
        "        print(f\"Error : {e}\")\n",
        "        return None"
      ],
      "execution_count": 3,
      "outputs": []
    },
    {
      "cell_type": "markdown",
      "source": [
        "Converting **Training** Data to Array"
      ],
      "metadata": {
        "id": "bgXxUMO2cI_D"
      }
    },
    {
      "cell_type": "code",
      "metadata": {
        "id": "Erz6IjKXzmgg",
        "colab": {
          "base_uri": "https://localhost:8080/"
        },
        "outputId": "fea60da1-c239-4888-c7a5-dc43e30ca68c"
      },
      "source": [
        "import numpy as np\n",
        "from os import listdir\n",
        "from sklearn.preprocessing import LabelBinarizer\n",
        "import pickle\n",
        "image_list_train, label_list_train = [], []\n",
        "try:\n",
        "    print(\"[INFO] Loading images ...\")\n",
        "    root_dir = listdir(directory_root_train)\n",
        "\n",
        "    for plant_disease_folder in root_dir:\n",
        "        print(f\"[INFO] Processing {plant_disease_folder} ...\")\n",
        "        plant_disease_image_list = listdir(f\"{directory_root_train}/{plant_disease_folder}/\")\n",
        "      \n",
        "        for image in plant_disease_image_list:\n",
        "            image_directory = f\"{directory_root_train}/{plant_disease_folder}/{image}\"\n",
        "\n",
        "            if image_directory.endswith(\".jpg\") == True or image_directory.endswith(\".JPG\") == True:\n",
        "                image_list_train.append(convert_image_to_array(image_directory))\n",
        "                label_list_train.append(plant_disease_folder)\n",
        "    print(\"[INFO] Image loading completed\")\n",
        "\n",
        "except Exception as e:\n",
        "    print(f\"Error : {e}\")\n",
        "\n",
        "#image labeling\n",
        "image_size = len(image_list_train)\n",
        "label_binarizer = LabelBinarizer()\n",
        "image_labels_train = label_binarizer.fit_transform(label_list_train)\n",
        "pickle.dump(label_binarizer,open('label_transform_train.pkl', 'wb'))\n",
        "n_classes = len(label_binarizer.classes_)\n",
        "np_image_list_train = np.array(image_list_train, dtype=np.float16) / 255.0"
      ],
      "execution_count": 4,
      "outputs": [
        {
          "output_type": "stream",
          "name": "stdout",
          "text": [
            "[INFO] Loading images ...\n",
            "[INFO] Processing apel_sehat ...\n",
            "[INFO] Processing apel_bercak_daun ...\n",
            "[INFO] Processing apel_cacar_daun ...\n",
            "[INFO] Processing apel_busuk_buah ...\n",
            "[INFO] Image loading completed\n"
          ]
        }
      ]
    },
    {
      "cell_type": "markdown",
      "source": [
        "Converting **Validation** Data to Array"
      ],
      "metadata": {
        "id": "7eEMGiqRd_E4"
      }
    },
    {
      "cell_type": "code",
      "source": [
        "image_list_validation, label_list_validation = [], []\n",
        "try:\n",
        "    print(\"[INFO] Loading images ...\")\n",
        "    root_dir = listdir(directory_root_validation)\n",
        "\n",
        "    for plant_disease_folder in root_dir:\n",
        "        print(f\"[INFO] Processing {plant_disease_folder} ...\")\n",
        "        plant_disease_image_list = listdir(f\"{directory_root_validation}/{plant_disease_folder}/\")\n",
        "      \n",
        "        for image in plant_disease_image_list:\n",
        "            image_directory = f\"{directory_root_validation}/{plant_disease_folder}/{image}\"\n",
        "\n",
        "            if image_directory.endswith(\".jpg\") == True or image_directory.endswith(\".JPG\") == True:\n",
        "                image_list_validation.append(convert_image_to_array(image_directory))\n",
        "                label_list_validation.append(plant_disease_folder)\n",
        "    print(\"[INFO] Image loading completed\")\n",
        "\n",
        "except Exception as e:\n",
        "    print(f\"Error : {e}\")\n",
        "\n",
        "#image labeling\n",
        "image_size = len(image_list_validation)\n",
        "label_binarizer = LabelBinarizer()\n",
        "image_labels_validation = label_binarizer.fit_transform(label_list_validation)\n",
        "pickle.dump(label_binarizer,open('label_transform_validation.pkl', 'wb'))\n",
        "n_classes = len(label_binarizer.classes_)\n",
        "np_image_list_validation = np.array(image_list_validation, dtype=np.float16) / 255.0"
      ],
      "metadata": {
        "id": "wfHDdR0ZeEuU",
        "colab": {
          "base_uri": "https://localhost:8080/"
        },
        "outputId": "40216ce2-fa09-4754-b777-86e4c69bc7c4"
      },
      "execution_count": 5,
      "outputs": [
        {
          "output_type": "stream",
          "name": "stdout",
          "text": [
            "[INFO] Loading images ...\n",
            "[INFO] Processing apel_sehat ...\n",
            "[INFO] Processing apel_bercak_daun ...\n",
            "[INFO] Processing apel_cacar_daun ...\n",
            "[INFO] Processing apel_busuk_buah ...\n",
            "[INFO] Image loading completed\n"
          ]
        }
      ]
    },
    {
      "cell_type": "markdown",
      "source": [
        "Converting **Testing** Data to Array"
      ],
      "metadata": {
        "id": "brwWyZVncTdg"
      }
    },
    {
      "cell_type": "code",
      "metadata": {
        "id": "uNPby5UMcaWY",
        "colab": {
          "base_uri": "https://localhost:8080/"
        },
        "outputId": "5cec376d-2964-44ea-d2f4-65b1fe0f749a"
      },
      "source": [
        "image_list_test, label_list_test = [], []\n",
        "try:\n",
        "    print(\"[INFO] Loading images ...\")\n",
        "    root_dir = listdir(directory_root_test)\n",
        "\n",
        "    for plant_disease_folder in root_dir:\n",
        "        print(f\"[INFO] Processing {plant_disease_folder} ...\")\n",
        "        plant_disease_image_list = listdir(f\"{directory_root_test}/{plant_disease_folder}/\")\n",
        "      \n",
        "        for image in plant_disease_image_list:\n",
        "            image_directory = f\"{directory_root_test}/{plant_disease_folder}/{image}\"\n",
        "\n",
        "            if image_directory.endswith(\".jpg\") == True or image_directory.endswith(\".JPG\") == True:\n",
        "                image_list_test.append(convert_image_to_array(image_directory))\n",
        "                label_list_test.append(plant_disease_folder)\n",
        "    print(\"[INFO] Image loading completed\")\n",
        "\n",
        "except Exception as e:\n",
        "    print(f\"Error : {e}\")\n",
        "\n",
        "#image labeling\n",
        "image_size = len(image_list_test)\n",
        "label_binarizer = LabelBinarizer()\n",
        "image_labels_test = label_binarizer.fit_transform(label_list_test)\n",
        "pickle.dump(label_binarizer,open('label_transform_test.pkl', 'wb'))\n",
        "n_classes = len(label_binarizer.classes_)\n",
        "np_image_list_test = np.array(image_list_test, dtype=np.float16) / 255.0"
      ],
      "execution_count": 6,
      "outputs": [
        {
          "output_type": "stream",
          "name": "stdout",
          "text": [
            "[INFO] Loading images ...\n",
            "[INFO] Processing apel_sehat ...\n",
            "[INFO] Processing apel_bercak_daun ...\n",
            "[INFO] Processing apel_cacar_daun ...\n",
            "[INFO] Processing apel_busuk_buah ...\n",
            "[INFO] Image loading completed\n"
          ]
        }
      ]
    },
    {
      "cell_type": "markdown",
      "metadata": {
        "id": "jYBTFN0CnAi7"
      },
      "source": [
        "Data Augmenting Initialization"
      ]
    },
    {
      "cell_type": "code",
      "metadata": {
        "id": "TLMxMK2Tzmgr"
      },
      "source": [
        "aug = keras.preprocessing.image.ImageDataGenerator(\n",
        "    rotation_range=25, \n",
        "    width_shift_range=0.1,\n",
        "    height_shift_range=0.1, \n",
        "    shear_range=0.2, \n",
        "    zoom_range=0.2,\n",
        "    horizontal_flip=True, \n",
        "    fill_mode=\"nearest\")"
      ],
      "execution_count": 7,
      "outputs": []
    },
    {
      "cell_type": "markdown",
      "metadata": {
        "id": "H1BfRyYNnGv_"
      },
      "source": [
        "Creating CNN Model"
      ]
    },
    {
      "cell_type": "code",
      "source": [
        "from tensorflow.keras.layers import Input, Conv2D \n",
        "from tensorflow.keras.layers import MaxPool2D, Flatten, Dense, AveragePooling2D\n",
        "from tensorflow.keras import Model\n",
        "# input\n",
        "\n",
        "input = Input(shape =(60,60,3))\n",
        "# 1st Conv Block\n",
        "\n",
        "x = Conv2D (filters =64, kernel_size =3, padding ='same', activation='relu')(input)\n",
        "x = Conv2D (filters =64, kernel_size =3, padding ='same', activation='relu')(x)\n",
        "x = AveragePooling2D(pool_size =2, strides =2, padding ='same')(x)\n",
        "# 2nd Conv Block\n",
        "\n",
        "x = Conv2D (filters =128, kernel_size =3, padding ='same', activation='relu')(x)\n",
        "x = Conv2D (filters =128, kernel_size =3, padding ='same', activation='relu')(x)\n",
        "x = MaxPool2D(pool_size =2, strides =2, padding ='same')(x)\n",
        "# 3rd Conv block\n",
        "\n",
        "x = Conv2D (filters =256, kernel_size =3, padding ='same', activation='relu')(x)\n",
        "x = Conv2D (filters =256, kernel_size =3, padding ='same', activation='relu')(x)\n",
        "x = Conv2D (filters =256, kernel_size =3, padding ='same', activation='relu')(x)\n",
        "x = MaxPool2D(pool_size =2, strides =2, padding ='same')(x)\n",
        "# 4th Conv block\n",
        "\n",
        "x = Conv2D (filters =512, kernel_size =3, padding ='same', activation='relu')(x)\n",
        "x = Conv2D (filters =512, kernel_size =3, padding ='same', activation='relu')(x)\n",
        "x = Conv2D (filters =512, kernel_size =3, padding ='same', activation='relu')(x)\n",
        "x = MaxPool2D(pool_size =2, strides =2, padding ='same')(x)\n",
        "\n",
        "# 5th Conv block\n",
        "\n",
        "x = Conv2D (filters =512, kernel_size =3, padding ='same', activation='relu')(x)\n",
        "x = Conv2D (filters =512, kernel_size =3, padding ='same', activation='relu')(x)\n",
        "x = Conv2D (filters =512, kernel_size =3, padding ='same', activation='relu')(x)\n",
        "x = MaxPool2D(pool_size =2, strides =2, padding ='same')(x)\n",
        "# Fully connected layers\n",
        "\n",
        "x = Flatten()(x)\n",
        "x = Dense(units = 1024, activation ='relu')(x)\n",
        "output = Dense(units = 4, activation ='softmax')(x)\n",
        "# creating the model\n",
        "\n",
        "model = Model (inputs=input, outputs =output)"
      ],
      "metadata": {
        "id": "n3ba8ezfA9sp"
      },
      "execution_count": 8,
      "outputs": []
    },
    {
      "cell_type": "markdown",
      "metadata": {
        "id": "Zfsu3lVfnXFG"
      },
      "source": [
        "**Training** Network"
      ]
    },
    {
      "cell_type": "code",
      "source": [
        "history = None"
      ],
      "metadata": {
        "id": "_Q14CGsDVk8H"
      },
      "execution_count": 9,
      "outputs": []
    },
    {
      "cell_type": "code",
      "metadata": {
        "id": "rvwKwe3Lzmgv",
        "colab": {
          "base_uri": "https://localhost:8080/"
        },
        "outputId": "e051d016-bdd0-4105-f24f-1629ae3e3a3b"
      },
      "source": [
        "EPOCHS = 200\n",
        "INIT_LR = 1e-4\n",
        "BS = 8\n",
        "with tf.device('/GPU:0'):\n",
        "  opt = Adam(learning_rate=INIT_LR, decay=INIT_LR / EPOCHS)\n",
        "  model.compile(loss=\"categorical_crossentropy\", optimizer=opt,metrics=[\"Accuracy\", \"FalseNegatives\", \"FalsePositives\", \"TrueNegatives\", \"TruePositives\"])\n",
        "  \n",
        "  history = model.fit(\n",
        "      aug.flow(np_image_list_train, image_labels_train, batch_size=BS),\n",
        "      validation_data=(np_image_list_validation, image_labels_validation),\n",
        "      steps_per_epoch=len(np_image_list_train) // BS,\n",
        "      epochs=EPOCHS, \n",
        "      verbose=1,\n",
        "      )\n"
      ],
      "execution_count": 10,
      "outputs": [
        {
          "output_type": "stream",
          "name": "stdout",
          "text": [
            "Epoch 1/200\n",
            "44/44 [==============================] - 20s 77ms/step - loss: 1.3385 - Accuracy: 0.4080 - false_negatives: 331.0000 - false_positives: 21.0000 - true_negatives: 1023.0000 - true_positives: 17.0000 - val_loss: 1.3047 - val_Accuracy: 0.4545 - val_false_negatives: 88.0000 - val_false_positives: 0.0000e+00 - val_true_negatives: 264.0000 - val_true_positives: 0.0000e+00\n",
            "Epoch 2/200\n",
            "44/44 [==============================] - 2s 35ms/step - loss: 1.2919 - Accuracy: 0.4511 - false_negatives: 328.0000 - false_positives: 19.0000 - true_negatives: 1025.0000 - true_positives: 20.0000 - val_loss: 1.2491 - val_Accuracy: 0.4545 - val_false_negatives: 85.0000 - val_false_positives: 3.0000 - val_true_negatives: 261.0000 - val_true_positives: 3.0000\n",
            "Epoch 3/200\n",
            "44/44 [==============================] - 1s 33ms/step - loss: 1.2694 - Accuracy: 0.4454 - false_negatives: 310.0000 - false_positives: 47.0000 - true_negatives: 997.0000 - true_positives: 38.0000 - val_loss: 1.2615 - val_Accuracy: 0.4545 - val_false_negatives: 88.0000 - val_false_positives: 0.0000e+00 - val_true_negatives: 264.0000 - val_true_positives: 0.0000e+00\n",
            "Epoch 4/200\n",
            "44/44 [==============================] - 1s 33ms/step - loss: 1.2529 - Accuracy: 0.4511 - false_negatives: 324.0000 - false_positives: 20.0000 - true_negatives: 1024.0000 - true_positives: 24.0000 - val_loss: 1.1996 - val_Accuracy: 0.4545 - val_false_negatives: 78.0000 - val_false_positives: 4.0000 - val_true_negatives: 260.0000 - val_true_positives: 10.0000\n",
            "Epoch 5/200\n",
            "44/44 [==============================] - 2s 37ms/step - loss: 1.2397 - Accuracy: 0.4483 - false_negatives: 307.0000 - false_positives: 29.0000 - true_negatives: 1015.0000 - true_positives: 41.0000 - val_loss: 1.2093 - val_Accuracy: 0.4659 - val_false_negatives: 53.0000 - val_false_positives: 28.0000 - val_true_negatives: 236.0000 - val_true_positives: 35.0000\n",
            "Epoch 6/200\n",
            "44/44 [==============================] - 2s 39ms/step - loss: 1.2096 - Accuracy: 0.4310 - false_negatives: 277.0000 - false_positives: 24.0000 - true_negatives: 1020.0000 - true_positives: 71.0000 - val_loss: 1.1986 - val_Accuracy: 0.4545 - val_false_negatives: 50.0000 - val_false_positives: 30.0000 - val_true_negatives: 234.0000 - val_true_positives: 38.0000\n",
            "Epoch 7/200\n",
            "44/44 [==============================] - 2s 40ms/step - loss: 1.1552 - Accuracy: 0.4914 - false_negatives: 254.0000 - false_positives: 34.0000 - true_negatives: 1010.0000 - true_positives: 94.0000 - val_loss: 1.1513 - val_Accuracy: 0.4773 - val_false_negatives: 50.0000 - val_false_positives: 32.0000 - val_true_negatives: 232.0000 - val_true_positives: 38.0000\n",
            "Epoch 8/200\n",
            "44/44 [==============================] - 2s 37ms/step - loss: 1.0214 - Accuracy: 0.5402 - false_negatives: 225.0000 - false_positives: 26.0000 - true_negatives: 1018.0000 - true_positives: 123.0000 - val_loss: 1.1208 - val_Accuracy: 0.4545 - val_false_negatives: 63.0000 - val_false_positives: 11.0000 - val_true_negatives: 253.0000 - val_true_positives: 25.0000\n",
            "Epoch 9/200\n",
            "44/44 [==============================] - 2s 43ms/step - loss: 0.9614 - Accuracy: 0.6264 - false_negatives: 213.0000 - false_positives: 27.0000 - true_negatives: 1017.0000 - true_positives: 135.0000 - val_loss: 1.5329 - val_Accuracy: 0.4773 - val_false_negatives: 47.0000 - val_false_positives: 40.0000 - val_true_negatives: 224.0000 - val_true_positives: 41.0000\n",
            "Epoch 10/200\n",
            "44/44 [==============================] - 2s 37ms/step - loss: 1.0758 - Accuracy: 0.6494 - false_negatives: 250.0000 - false_positives: 36.0000 - true_negatives: 1008.0000 - true_positives: 98.0000 - val_loss: 1.2501 - val_Accuracy: 0.5227 - val_false_negatives: 45.0000 - val_false_positives: 37.0000 - val_true_negatives: 227.0000 - val_true_positives: 43.0000\n",
            "Epoch 11/200\n",
            "44/44 [==============================] - 1s 33ms/step - loss: 1.0893 - Accuracy: 0.5776 - false_negatives: 232.0000 - false_positives: 53.0000 - true_negatives: 991.0000 - true_positives: 116.0000 - val_loss: 1.3154 - val_Accuracy: 0.5227 - val_false_negatives: 55.0000 - val_false_positives: 37.0000 - val_true_negatives: 227.0000 - val_true_positives: 33.0000\n",
            "Epoch 12/200\n",
            "44/44 [==============================] - 1s 33ms/step - loss: 0.9661 - Accuracy: 0.6609 - false_negatives: 189.0000 - false_positives: 51.0000 - true_negatives: 993.0000 - true_positives: 159.0000 - val_loss: 1.1758 - val_Accuracy: 0.5114 - val_false_negatives: 46.0000 - val_false_positives: 32.0000 - val_true_negatives: 232.0000 - val_true_positives: 42.0000\n",
            "Epoch 13/200\n",
            "44/44 [==============================] - 1s 34ms/step - loss: 0.8501 - Accuracy: 0.6810 - false_negatives: 144.0000 - false_positives: 60.0000 - true_negatives: 984.0000 - true_positives: 204.0000 - val_loss: 1.2683 - val_Accuracy: 0.5114 - val_false_negatives: 47.0000 - val_false_positives: 38.0000 - val_true_negatives: 226.0000 - val_true_positives: 41.0000\n",
            "Epoch 14/200\n",
            "44/44 [==============================] - 1s 33ms/step - loss: 0.8082 - Accuracy: 0.6954 - false_negatives: 140.0000 - false_positives: 65.0000 - true_negatives: 979.0000 - true_positives: 208.0000 - val_loss: 1.1751 - val_Accuracy: 0.5227 - val_false_negatives: 46.0000 - val_false_positives: 32.0000 - val_true_negatives: 232.0000 - val_true_positives: 42.0000\n",
            "Epoch 15/200\n",
            "44/44 [==============================] - 1s 34ms/step - loss: 0.7821 - Accuracy: 0.6925 - false_negatives: 130.0000 - false_positives: 62.0000 - true_negatives: 982.0000 - true_positives: 218.0000 - val_loss: 1.1924 - val_Accuracy: 0.5114 - val_false_negatives: 45.0000 - val_false_positives: 25.0000 - val_true_negatives: 239.0000 - val_true_positives: 43.0000\n",
            "Epoch 16/200\n",
            "44/44 [==============================] - 1s 33ms/step - loss: 0.8049 - Accuracy: 0.6839 - false_negatives: 135.0000 - false_positives: 62.0000 - true_negatives: 982.0000 - true_positives: 213.0000 - val_loss: 0.9996 - val_Accuracy: 0.6023 - val_false_negatives: 44.0000 - val_false_positives: 16.0000 - val_true_negatives: 248.0000 - val_true_positives: 44.0000\n",
            "Epoch 17/200\n",
            "44/44 [==============================] - 1s 33ms/step - loss: 0.7774 - Accuracy: 0.7069 - false_negatives: 128.0000 - false_positives: 64.0000 - true_negatives: 980.0000 - true_positives: 220.0000 - val_loss: 1.0365 - val_Accuracy: 0.5909 - val_false_negatives: 45.0000 - val_false_positives: 15.0000 - val_true_negatives: 249.0000 - val_true_positives: 43.0000\n",
            "Epoch 18/200\n",
            "44/44 [==============================] - 1s 34ms/step - loss: 0.7387 - Accuracy: 0.7074 - false_negatives: 132.0000 - false_positives: 52.0000 - true_negatives: 1004.0000 - true_positives: 220.0000 - val_loss: 1.0767 - val_Accuracy: 0.5682 - val_false_negatives: 44.0000 - val_false_positives: 17.0000 - val_true_negatives: 247.0000 - val_true_positives: 44.0000\n",
            "Epoch 19/200\n",
            "44/44 [==============================] - 1s 33ms/step - loss: 0.7621 - Accuracy: 0.7069 - false_negatives: 125.0000 - false_positives: 57.0000 - true_negatives: 987.0000 - true_positives: 223.0000 - val_loss: 1.0556 - val_Accuracy: 0.5909 - val_false_negatives: 44.0000 - val_false_positives: 21.0000 - val_true_negatives: 243.0000 - val_true_positives: 44.0000\n",
            "Epoch 20/200\n",
            "44/44 [==============================] - 1s 33ms/step - loss: 0.7468 - Accuracy: 0.7098 - false_negatives: 118.0000 - false_positives: 65.0000 - true_negatives: 979.0000 - true_positives: 230.0000 - val_loss: 1.1073 - val_Accuracy: 0.5341 - val_false_negatives: 45.0000 - val_false_positives: 25.0000 - val_true_negatives: 239.0000 - val_true_positives: 43.0000\n",
            "Epoch 21/200\n",
            "44/44 [==============================] - 1s 34ms/step - loss: 0.7744 - Accuracy: 0.7098 - false_negatives: 136.0000 - false_positives: 63.0000 - true_negatives: 981.0000 - true_positives: 212.0000 - val_loss: 1.0125 - val_Accuracy: 0.5455 - val_false_negatives: 43.0000 - val_false_positives: 18.0000 - val_true_negatives: 246.0000 - val_true_positives: 45.0000\n",
            "Epoch 22/200\n",
            "44/44 [==============================] - 1s 33ms/step - loss: 0.7236 - Accuracy: 0.7299 - false_negatives: 118.0000 - false_positives: 58.0000 - true_negatives: 986.0000 - true_positives: 230.0000 - val_loss: 1.1081 - val_Accuracy: 0.5455 - val_false_negatives: 46.0000 - val_false_positives: 25.0000 - val_true_negatives: 239.0000 - val_true_positives: 42.0000\n",
            "Epoch 23/200\n",
            "44/44 [==============================] - 2s 34ms/step - loss: 0.7175 - Accuracy: 0.6954 - false_negatives: 124.0000 - false_positives: 62.0000 - true_negatives: 982.0000 - true_positives: 224.0000 - val_loss: 1.1221 - val_Accuracy: 0.5568 - val_false_negatives: 43.0000 - val_false_positives: 22.0000 - val_true_negatives: 242.0000 - val_true_positives: 45.0000\n",
            "Epoch 24/200\n",
            "44/44 [==============================] - 1s 34ms/step - loss: 0.7153 - Accuracy: 0.7098 - false_negatives: 130.0000 - false_positives: 59.0000 - true_negatives: 985.0000 - true_positives: 218.0000 - val_loss: 1.1161 - val_Accuracy: 0.5341 - val_false_negatives: 51.0000 - val_false_positives: 23.0000 - val_true_negatives: 241.0000 - val_true_positives: 37.0000\n",
            "Epoch 25/200\n",
            "44/44 [==============================] - 2s 35ms/step - loss: 0.7113 - Accuracy: 0.7011 - false_negatives: 135.0000 - false_positives: 55.0000 - true_negatives: 989.0000 - true_positives: 213.0000 - val_loss: 1.3608 - val_Accuracy: 0.5227 - val_false_negatives: 44.0000 - val_false_positives: 25.0000 - val_true_negatives: 239.0000 - val_true_positives: 44.0000\n",
            "Epoch 26/200\n",
            "44/44 [==============================] - 1s 33ms/step - loss: 0.7285 - Accuracy: 0.7011 - false_negatives: 128.0000 - false_positives: 56.0000 - true_negatives: 988.0000 - true_positives: 220.0000 - val_loss: 1.1847 - val_Accuracy: 0.5568 - val_false_negatives: 43.0000 - val_false_positives: 23.0000 - val_true_negatives: 241.0000 - val_true_positives: 45.0000\n",
            "Epoch 27/200\n",
            "44/44 [==============================] - 1s 33ms/step - loss: 0.6640 - Accuracy: 0.7443 - false_negatives: 116.0000 - false_positives: 57.0000 - true_negatives: 987.0000 - true_positives: 232.0000 - val_loss: 1.0162 - val_Accuracy: 0.6364 - val_false_negatives: 45.0000 - val_false_positives: 21.0000 - val_true_negatives: 243.0000 - val_true_positives: 43.0000\n",
            "Epoch 28/200\n",
            "44/44 [==============================] - 1s 33ms/step - loss: 0.7794 - Accuracy: 0.6925 - false_negatives: 126.0000 - false_positives: 64.0000 - true_negatives: 980.0000 - true_positives: 222.0000 - val_loss: 1.1068 - val_Accuracy: 0.6023 - val_false_negatives: 56.0000 - val_false_positives: 21.0000 - val_true_negatives: 243.0000 - val_true_positives: 32.0000\n",
            "Epoch 29/200\n",
            "44/44 [==============================] - 1s 33ms/step - loss: 0.7080 - Accuracy: 0.7017 - false_negatives: 127.0000 - false_positives: 53.0000 - true_negatives: 1003.0000 - true_positives: 225.0000 - val_loss: 1.0415 - val_Accuracy: 0.6023 - val_false_negatives: 46.0000 - val_false_positives: 21.0000 - val_true_negatives: 243.0000 - val_true_positives: 42.0000\n",
            "Epoch 30/200\n",
            "44/44 [==============================] - 2s 34ms/step - loss: 0.6861 - Accuracy: 0.7299 - false_negatives: 115.0000 - false_positives: 58.0000 - true_negatives: 986.0000 - true_positives: 233.0000 - val_loss: 1.1814 - val_Accuracy: 0.5341 - val_false_negatives: 51.0000 - val_false_positives: 18.0000 - val_true_negatives: 246.0000 - val_true_positives: 37.0000\n",
            "Epoch 31/200\n",
            "44/44 [==============================] - 1s 34ms/step - loss: 0.6913 - Accuracy: 0.7126 - false_negatives: 125.0000 - false_positives: 55.0000 - true_negatives: 989.0000 - true_positives: 223.0000 - val_loss: 1.2429 - val_Accuracy: 0.5568 - val_false_negatives: 43.0000 - val_false_positives: 24.0000 - val_true_negatives: 240.0000 - val_true_positives: 45.0000\n",
            "Epoch 32/200\n",
            "44/44 [==============================] - 1s 33ms/step - loss: 0.6531 - Accuracy: 0.7385 - false_negatives: 114.0000 - false_positives: 58.0000 - true_negatives: 986.0000 - true_positives: 234.0000 - val_loss: 1.3954 - val_Accuracy: 0.6136 - val_false_negatives: 43.0000 - val_false_positives: 23.0000 - val_true_negatives: 241.0000 - val_true_positives: 45.0000\n",
            "Epoch 33/200\n",
            "44/44 [==============================] - 1s 33ms/step - loss: 0.6623 - Accuracy: 0.7213 - false_negatives: 127.0000 - false_positives: 53.0000 - true_negatives: 991.0000 - true_positives: 221.0000 - val_loss: 1.2588 - val_Accuracy: 0.5682 - val_false_negatives: 44.0000 - val_false_positives: 23.0000 - val_true_negatives: 241.0000 - val_true_positives: 44.0000\n",
            "Epoch 34/200\n",
            "44/44 [==============================] - 2s 38ms/step - loss: 0.6673 - Accuracy: 0.7356 - false_negatives: 102.0000 - false_positives: 59.0000 - true_negatives: 985.0000 - true_positives: 246.0000 - val_loss: 1.0901 - val_Accuracy: 0.5455 - val_false_negatives: 48.0000 - val_false_positives: 18.0000 - val_true_negatives: 246.0000 - val_true_positives: 40.0000\n",
            "Epoch 35/200\n",
            "44/44 [==============================] - 2s 33ms/step - loss: 0.6693 - Accuracy: 0.7299 - false_negatives: 127.0000 - false_positives: 52.0000 - true_negatives: 992.0000 - true_positives: 221.0000 - val_loss: 1.1449 - val_Accuracy: 0.5568 - val_false_negatives: 44.0000 - val_false_positives: 23.0000 - val_true_negatives: 241.0000 - val_true_positives: 44.0000\n",
            "Epoch 36/200\n",
            "44/44 [==============================] - 1s 34ms/step - loss: 0.6406 - Accuracy: 0.7500 - false_negatives: 114.0000 - false_positives: 48.0000 - true_negatives: 996.0000 - true_positives: 234.0000 - val_loss: 1.2410 - val_Accuracy: 0.6250 - val_false_negatives: 42.0000 - val_false_positives: 23.0000 - val_true_negatives: 241.0000 - val_true_positives: 46.0000\n",
            "Epoch 37/200\n",
            "44/44 [==============================] - 1s 33ms/step - loss: 0.6672 - Accuracy: 0.7328 - false_negatives: 122.0000 - false_positives: 54.0000 - true_negatives: 990.0000 - true_positives: 226.0000 - val_loss: 1.0539 - val_Accuracy: 0.6136 - val_false_negatives: 44.0000 - val_false_positives: 19.0000 - val_true_negatives: 245.0000 - val_true_positives: 44.0000\n",
            "Epoch 38/200\n",
            "44/44 [==============================] - 1s 33ms/step - loss: 0.6537 - Accuracy: 0.7557 - false_negatives: 105.0000 - false_positives: 48.0000 - true_negatives: 996.0000 - true_positives: 243.0000 - val_loss: 1.2098 - val_Accuracy: 0.5682 - val_false_negatives: 44.0000 - val_false_positives: 25.0000 - val_true_negatives: 239.0000 - val_true_positives: 44.0000\n",
            "Epoch 39/200\n",
            "44/44 [==============================] - 2s 34ms/step - loss: 0.6195 - Accuracy: 0.7385 - false_negatives: 115.0000 - false_positives: 53.0000 - true_negatives: 991.0000 - true_positives: 233.0000 - val_loss: 1.8555 - val_Accuracy: 0.5000 - val_false_negatives: 47.0000 - val_false_positives: 32.0000 - val_true_negatives: 232.0000 - val_true_positives: 41.0000\n",
            "Epoch 40/200\n",
            "44/44 [==============================] - 1s 33ms/step - loss: 0.6650 - Accuracy: 0.7644 - false_negatives: 118.0000 - false_positives: 53.0000 - true_negatives: 991.0000 - true_positives: 230.0000 - val_loss: 1.2645 - val_Accuracy: 0.5341 - val_false_negatives: 42.0000 - val_false_positives: 24.0000 - val_true_negatives: 240.0000 - val_true_positives: 46.0000\n",
            "Epoch 41/200\n",
            "44/44 [==============================] - 2s 34ms/step - loss: 0.6292 - Accuracy: 0.7443 - false_negatives: 111.0000 - false_positives: 63.0000 - true_negatives: 981.0000 - true_positives: 237.0000 - val_loss: 1.2555 - val_Accuracy: 0.5568 - val_false_negatives: 43.0000 - val_false_positives: 21.0000 - val_true_negatives: 243.0000 - val_true_positives: 45.0000\n",
            "Epoch 42/200\n",
            "44/44 [==============================] - 1s 34ms/step - loss: 0.6305 - Accuracy: 0.7529 - false_negatives: 116.0000 - false_positives: 54.0000 - true_negatives: 990.0000 - true_positives: 232.0000 - val_loss: 1.2485 - val_Accuracy: 0.5341 - val_false_negatives: 44.0000 - val_false_positives: 25.0000 - val_true_negatives: 239.0000 - val_true_positives: 44.0000\n",
            "Epoch 43/200\n",
            "44/44 [==============================] - 1s 34ms/step - loss: 0.6119 - Accuracy: 0.7471 - false_negatives: 109.0000 - false_positives: 59.0000 - true_negatives: 985.0000 - true_positives: 239.0000 - val_loss: 1.2988 - val_Accuracy: 0.5341 - val_false_negatives: 47.0000 - val_false_positives: 31.0000 - val_true_negatives: 233.0000 - val_true_positives: 41.0000\n",
            "Epoch 44/200\n",
            "44/44 [==============================] - 1s 33ms/step - loss: 0.6136 - Accuracy: 0.7672 - false_negatives: 107.0000 - false_positives: 58.0000 - true_negatives: 986.0000 - true_positives: 241.0000 - val_loss: 1.1793 - val_Accuracy: 0.5795 - val_false_negatives: 41.0000 - val_false_positives: 25.0000 - val_true_negatives: 239.0000 - val_true_positives: 47.0000\n",
            "Epoch 45/200\n",
            "44/44 [==============================] - 1s 33ms/step - loss: 0.6182 - Accuracy: 0.7701 - false_negatives: 107.0000 - false_positives: 53.0000 - true_negatives: 991.0000 - true_positives: 241.0000 - val_loss: 1.2005 - val_Accuracy: 0.5341 - val_false_negatives: 51.0000 - val_false_positives: 18.0000 - val_true_negatives: 246.0000 - val_true_positives: 37.0000\n",
            "Epoch 46/200\n",
            "44/44 [==============================] - 2s 34ms/step - loss: 0.6167 - Accuracy: 0.7644 - false_negatives: 107.0000 - false_positives: 56.0000 - true_negatives: 988.0000 - true_positives: 241.0000 - val_loss: 1.1247 - val_Accuracy: 0.5682 - val_false_negatives: 44.0000 - val_false_positives: 20.0000 - val_true_negatives: 244.0000 - val_true_positives: 44.0000\n",
            "Epoch 47/200\n",
            "44/44 [==============================] - 1s 33ms/step - loss: 0.6033 - Accuracy: 0.7730 - false_negatives: 99.0000 - false_positives: 56.0000 - true_negatives: 988.0000 - true_positives: 249.0000 - val_loss: 1.1211 - val_Accuracy: 0.6023 - val_false_negatives: 41.0000 - val_false_positives: 22.0000 - val_true_negatives: 242.0000 - val_true_positives: 47.0000\n",
            "Epoch 48/200\n",
            "44/44 [==============================] - 1s 33ms/step - loss: 0.5662 - Accuracy: 0.7759 - false_negatives: 101.0000 - false_positives: 53.0000 - true_negatives: 991.0000 - true_positives: 247.0000 - val_loss: 1.2542 - val_Accuracy: 0.5909 - val_false_negatives: 42.0000 - val_false_positives: 28.0000 - val_true_negatives: 236.0000 - val_true_positives: 46.0000\n",
            "Epoch 49/200\n",
            "44/44 [==============================] - 1s 33ms/step - loss: 0.6120 - Accuracy: 0.7701 - false_negatives: 96.0000 - false_positives: 60.0000 - true_negatives: 984.0000 - true_positives: 252.0000 - val_loss: 1.4857 - val_Accuracy: 0.5568 - val_false_negatives: 42.0000 - val_false_positives: 29.0000 - val_true_negatives: 235.0000 - val_true_positives: 46.0000\n",
            "Epoch 50/200\n",
            "44/44 [==============================] - 1s 33ms/step - loss: 0.5584 - Accuracy: 0.7787 - false_negatives: 89.0000 - false_positives: 54.0000 - true_negatives: 990.0000 - true_positives: 259.0000 - val_loss: 1.3319 - val_Accuracy: 0.5682 - val_false_negatives: 43.0000 - val_false_positives: 32.0000 - val_true_negatives: 232.0000 - val_true_positives: 45.0000\n",
            "Epoch 51/200\n",
            "44/44 [==============================] - 1s 33ms/step - loss: 0.6517 - Accuracy: 0.7155 - false_negatives: 113.0000 - false_positives: 70.0000 - true_negatives: 974.0000 - true_positives: 235.0000 - val_loss: 1.2280 - val_Accuracy: 0.5227 - val_false_negatives: 51.0000 - val_false_positives: 26.0000 - val_true_negatives: 238.0000 - val_true_positives: 37.0000\n",
            "Epoch 52/200\n",
            "44/44 [==============================] - 1s 34ms/step - loss: 0.6417 - Accuracy: 0.7615 - false_negatives: 109.0000 - false_positives: 54.0000 - true_negatives: 990.0000 - true_positives: 239.0000 - val_loss: 1.5616 - val_Accuracy: 0.5568 - val_false_negatives: 43.0000 - val_false_positives: 27.0000 - val_true_negatives: 237.0000 - val_true_positives: 45.0000\n",
            "Epoch 53/200\n",
            "44/44 [==============================] - 1s 33ms/step - loss: 0.5275 - Accuracy: 0.7874 - false_negatives: 92.0000 - false_positives: 50.0000 - true_negatives: 994.0000 - true_positives: 256.0000 - val_loss: 1.3225 - val_Accuracy: 0.5795 - val_false_negatives: 42.0000 - val_false_positives: 34.0000 - val_true_negatives: 230.0000 - val_true_positives: 46.0000\n",
            "Epoch 54/200\n",
            "44/44 [==============================] - 1s 34ms/step - loss: 0.5693 - Accuracy: 0.7816 - false_negatives: 96.0000 - false_positives: 60.0000 - true_negatives: 984.0000 - true_positives: 252.0000 - val_loss: 1.2320 - val_Accuracy: 0.5909 - val_false_negatives: 44.0000 - val_false_positives: 29.0000 - val_true_negatives: 235.0000 - val_true_positives: 44.0000\n",
            "Epoch 55/200\n",
            "44/44 [==============================] - 1s 34ms/step - loss: 0.5782 - Accuracy: 0.7529 - false_negatives: 100.0000 - false_positives: 69.0000 - true_negatives: 975.0000 - true_positives: 248.0000 - val_loss: 1.4378 - val_Accuracy: 0.5341 - val_false_negatives: 42.0000 - val_false_positives: 30.0000 - val_true_negatives: 234.0000 - val_true_positives: 46.0000\n",
            "Epoch 56/200\n",
            "44/44 [==============================] - 2s 34ms/step - loss: 0.5681 - Accuracy: 0.7672 - false_negatives: 102.0000 - false_positives: 57.0000 - true_negatives: 987.0000 - true_positives: 246.0000 - val_loss: 1.5667 - val_Accuracy: 0.5227 - val_false_negatives: 44.0000 - val_false_positives: 31.0000 - val_true_negatives: 233.0000 - val_true_positives: 44.0000\n",
            "Epoch 57/200\n",
            "44/44 [==============================] - 1s 34ms/step - loss: 0.6723 - Accuracy: 0.7299 - false_negatives: 111.0000 - false_positives: 52.0000 - true_negatives: 992.0000 - true_positives: 237.0000 - val_loss: 1.2436 - val_Accuracy: 0.5795 - val_false_negatives: 42.0000 - val_false_positives: 22.0000 - val_true_negatives: 242.0000 - val_true_positives: 46.0000\n",
            "Epoch 58/200\n",
            "44/44 [==============================] - 1s 34ms/step - loss: 0.6230 - Accuracy: 0.7672 - false_negatives: 105.0000 - false_positives: 63.0000 - true_negatives: 981.0000 - true_positives: 243.0000 - val_loss: 1.1615 - val_Accuracy: 0.5682 - val_false_negatives: 50.0000 - val_false_positives: 26.0000 - val_true_negatives: 238.0000 - val_true_positives: 38.0000\n",
            "Epoch 59/200\n",
            "44/44 [==============================] - 2s 34ms/step - loss: 0.6832 - Accuracy: 0.7414 - false_negatives: 114.0000 - false_positives: 55.0000 - true_negatives: 989.0000 - true_positives: 234.0000 - val_loss: 1.1432 - val_Accuracy: 0.5909 - val_false_negatives: 43.0000 - val_false_positives: 21.0000 - val_true_negatives: 243.0000 - val_true_positives: 45.0000\n",
            "Epoch 60/200\n",
            "44/44 [==============================] - 2s 36ms/step - loss: 0.5710 - Accuracy: 0.7759 - false_negatives: 90.0000 - false_positives: 54.0000 - true_negatives: 990.0000 - true_positives: 258.0000 - val_loss: 1.3549 - val_Accuracy: 0.5568 - val_false_negatives: 43.0000 - val_false_positives: 32.0000 - val_true_negatives: 232.0000 - val_true_positives: 45.0000\n",
            "Epoch 61/200\n",
            "44/44 [==============================] - 2s 36ms/step - loss: 0.5468 - Accuracy: 0.7931 - false_negatives: 89.0000 - false_positives: 57.0000 - true_negatives: 987.0000 - true_positives: 259.0000 - val_loss: 1.4572 - val_Accuracy: 0.5568 - val_false_negatives: 40.0000 - val_false_positives: 32.0000 - val_true_negatives: 232.0000 - val_true_positives: 48.0000\n",
            "Epoch 62/200\n",
            "44/44 [==============================] - 2s 36ms/step - loss: 0.5015 - Accuracy: 0.8017 - false_negatives: 85.0000 - false_positives: 51.0000 - true_negatives: 993.0000 - true_positives: 263.0000 - val_loss: 1.2965 - val_Accuracy: 0.6023 - val_false_negatives: 39.0000 - val_false_positives: 30.0000 - val_true_negatives: 234.0000 - val_true_positives: 49.0000\n",
            "Epoch 63/200\n",
            "44/44 [==============================] - 1s 33ms/step - loss: 0.5434 - Accuracy: 0.7902 - false_negatives: 82.0000 - false_positives: 56.0000 - true_negatives: 988.0000 - true_positives: 266.0000 - val_loss: 1.2509 - val_Accuracy: 0.5795 - val_false_negatives: 40.0000 - val_false_positives: 31.0000 - val_true_negatives: 233.0000 - val_true_positives: 48.0000\n",
            "Epoch 64/200\n",
            "44/44 [==============================] - 1s 33ms/step - loss: 0.5324 - Accuracy: 0.7816 - false_negatives: 93.0000 - false_positives: 54.0000 - true_negatives: 990.0000 - true_positives: 255.0000 - val_loss: 1.5031 - val_Accuracy: 0.5568 - val_false_negatives: 41.0000 - val_false_positives: 33.0000 - val_true_negatives: 231.0000 - val_true_positives: 47.0000\n",
            "Epoch 65/200\n",
            "44/44 [==============================] - 1s 33ms/step - loss: 0.5004 - Accuracy: 0.8161 - false_negatives: 75.0000 - false_positives: 50.0000 - true_negatives: 994.0000 - true_positives: 273.0000 - val_loss: 1.3553 - val_Accuracy: 0.6023 - val_false_negatives: 38.0000 - val_false_positives: 29.0000 - val_true_negatives: 235.0000 - val_true_positives: 50.0000\n",
            "Epoch 66/200\n",
            "44/44 [==============================] - 2s 34ms/step - loss: 0.5099 - Accuracy: 0.7787 - false_negatives: 88.0000 - false_positives: 59.0000 - true_negatives: 985.0000 - true_positives: 260.0000 - val_loss: 1.4735 - val_Accuracy: 0.5909 - val_false_negatives: 37.0000 - val_false_positives: 28.0000 - val_true_negatives: 236.0000 - val_true_positives: 51.0000\n",
            "Epoch 67/200\n",
            "44/44 [==============================] - 2s 34ms/step - loss: 0.5140 - Accuracy: 0.7989 - false_negatives: 83.0000 - false_positives: 59.0000 - true_negatives: 985.0000 - true_positives: 265.0000 - val_loss: 1.2059 - val_Accuracy: 0.5909 - val_false_negatives: 38.0000 - val_false_positives: 28.0000 - val_true_negatives: 236.0000 - val_true_positives: 50.0000\n",
            "Epoch 68/200\n",
            "44/44 [==============================] - 2s 35ms/step - loss: 0.5112 - Accuracy: 0.8011 - false_negatives: 87.0000 - false_positives: 51.0000 - true_negatives: 1005.0000 - true_positives: 265.0000 - val_loss: 1.6005 - val_Accuracy: 0.5455 - val_false_negatives: 40.0000 - val_false_positives: 31.0000 - val_true_negatives: 233.0000 - val_true_positives: 48.0000\n",
            "Epoch 69/200\n",
            "44/44 [==============================] - 2s 34ms/step - loss: 0.4801 - Accuracy: 0.7845 - false_negatives: 85.0000 - false_positives: 53.0000 - true_negatives: 991.0000 - true_positives: 263.0000 - val_loss: 1.4836 - val_Accuracy: 0.5568 - val_false_negatives: 42.0000 - val_false_positives: 30.0000 - val_true_negatives: 234.0000 - val_true_positives: 46.0000\n",
            "Epoch 70/200\n",
            "44/44 [==============================] - 2s 35ms/step - loss: 0.5341 - Accuracy: 0.7759 - false_negatives: 90.0000 - false_positives: 60.0000 - true_negatives: 984.0000 - true_positives: 258.0000 - val_loss: 1.3118 - val_Accuracy: 0.5795 - val_false_negatives: 40.0000 - val_false_positives: 27.0000 - val_true_negatives: 237.0000 - val_true_positives: 48.0000\n",
            "Epoch 71/200\n",
            "44/44 [==============================] - 2s 35ms/step - loss: 0.4818 - Accuracy: 0.8161 - false_negatives: 76.0000 - false_positives: 52.0000 - true_negatives: 992.0000 - true_positives: 272.0000 - val_loss: 1.4401 - val_Accuracy: 0.6023 - val_false_negatives: 36.0000 - val_false_positives: 28.0000 - val_true_negatives: 236.0000 - val_true_positives: 52.0000\n",
            "Epoch 72/200\n",
            "44/44 [==============================] - 2s 34ms/step - loss: 0.4765 - Accuracy: 0.8276 - false_negatives: 68.0000 - false_positives: 47.0000 - true_negatives: 997.0000 - true_positives: 280.0000 - val_loss: 1.2844 - val_Accuracy: 0.5795 - val_false_negatives: 40.0000 - val_false_positives: 28.0000 - val_true_negatives: 236.0000 - val_true_positives: 48.0000\n",
            "Epoch 73/200\n",
            "44/44 [==============================] - 2s 35ms/step - loss: 0.5084 - Accuracy: 0.7989 - false_negatives: 81.0000 - false_positives: 56.0000 - true_negatives: 988.0000 - true_positives: 267.0000 - val_loss: 1.2858 - val_Accuracy: 0.5909 - val_false_negatives: 40.0000 - val_false_positives: 25.0000 - val_true_negatives: 239.0000 - val_true_positives: 48.0000\n",
            "Epoch 74/200\n",
            "44/44 [==============================] - 1s 34ms/step - loss: 0.4595 - Accuracy: 0.8362 - false_negatives: 71.0000 - false_positives: 45.0000 - true_negatives: 999.0000 - true_positives: 277.0000 - val_loss: 1.5221 - val_Accuracy: 0.4091 - val_false_negatives: 55.0000 - val_false_positives: 45.0000 - val_true_negatives: 219.0000 - val_true_positives: 33.0000\n",
            "Epoch 75/200\n",
            "44/44 [==============================] - 2s 35ms/step - loss: 0.5433 - Accuracy: 0.7874 - false_negatives: 83.0000 - false_positives: 60.0000 - true_negatives: 984.0000 - true_positives: 265.0000 - val_loss: 1.3636 - val_Accuracy: 0.5455 - val_false_negatives: 44.0000 - val_false_positives: 27.0000 - val_true_negatives: 237.0000 - val_true_positives: 44.0000\n",
            "Epoch 76/200\n",
            "44/44 [==============================] - 2s 34ms/step - loss: 0.4740 - Accuracy: 0.8247 - false_negatives: 75.0000 - false_positives: 47.0000 - true_negatives: 997.0000 - true_positives: 273.0000 - val_loss: 1.3319 - val_Accuracy: 0.5568 - val_false_negatives: 42.0000 - val_false_positives: 28.0000 - val_true_negatives: 236.0000 - val_true_positives: 46.0000\n",
            "Epoch 77/200\n",
            "44/44 [==============================] - 1s 34ms/step - loss: 0.5083 - Accuracy: 0.8161 - false_negatives: 72.0000 - false_positives: 58.0000 - true_negatives: 986.0000 - true_positives: 276.0000 - val_loss: 1.3088 - val_Accuracy: 0.5682 - val_false_negatives: 41.0000 - val_false_positives: 30.0000 - val_true_negatives: 234.0000 - val_true_positives: 47.0000\n",
            "Epoch 78/200\n",
            "44/44 [==============================] - 1s 34ms/step - loss: 0.4959 - Accuracy: 0.8075 - false_negatives: 74.0000 - false_positives: 44.0000 - true_negatives: 1000.0000 - true_positives: 274.0000 - val_loss: 1.6112 - val_Accuracy: 0.5682 - val_false_negatives: 40.0000 - val_false_positives: 29.0000 - val_true_negatives: 235.0000 - val_true_positives: 48.0000\n",
            "Epoch 79/200\n",
            "44/44 [==============================] - 1s 33ms/step - loss: 0.4847 - Accuracy: 0.8276 - false_negatives: 72.0000 - false_positives: 50.0000 - true_negatives: 994.0000 - true_positives: 276.0000 - val_loss: 1.3928 - val_Accuracy: 0.6023 - val_false_negatives: 36.0000 - val_false_positives: 28.0000 - val_true_negatives: 236.0000 - val_true_positives: 52.0000\n",
            "Epoch 80/200\n",
            "44/44 [==============================] - 1s 33ms/step - loss: 0.4287 - Accuracy: 0.8420 - false_negatives: 65.0000 - false_positives: 41.0000 - true_negatives: 1003.0000 - true_positives: 283.0000 - val_loss: 1.4534 - val_Accuracy: 0.5909 - val_false_negatives: 38.0000 - val_false_positives: 30.0000 - val_true_negatives: 234.0000 - val_true_positives: 50.0000\n",
            "Epoch 81/200\n",
            "44/44 [==============================] - 2s 34ms/step - loss: 0.4369 - Accuracy: 0.8362 - false_negatives: 64.0000 - false_positives: 47.0000 - true_negatives: 997.0000 - true_positives: 284.0000 - val_loss: 1.3360 - val_Accuracy: 0.5795 - val_false_negatives: 39.0000 - val_false_positives: 28.0000 - val_true_negatives: 236.0000 - val_true_positives: 49.0000\n",
            "Epoch 82/200\n",
            "44/44 [==============================] - 2s 34ms/step - loss: 0.4466 - Accuracy: 0.8362 - false_negatives: 64.0000 - false_positives: 50.0000 - true_negatives: 994.0000 - true_positives: 284.0000 - val_loss: 1.3463 - val_Accuracy: 0.6364 - val_false_negatives: 32.0000 - val_false_positives: 29.0000 - val_true_negatives: 235.0000 - val_true_positives: 56.0000\n",
            "Epoch 83/200\n",
            "44/44 [==============================] - 1s 34ms/step - loss: 0.4904 - Accuracy: 0.8420 - false_negatives: 71.0000 - false_positives: 48.0000 - true_negatives: 996.0000 - true_positives: 277.0000 - val_loss: 1.3283 - val_Accuracy: 0.5909 - val_false_negatives: 39.0000 - val_false_positives: 28.0000 - val_true_negatives: 236.0000 - val_true_positives: 49.0000\n",
            "Epoch 84/200\n",
            "44/44 [==============================] - 2s 34ms/step - loss: 0.4203 - Accuracy: 0.8563 - false_negatives: 56.0000 - false_positives: 39.0000 - true_negatives: 1005.0000 - true_positives: 292.0000 - val_loss: 1.5668 - val_Accuracy: 0.5795 - val_false_negatives: 37.0000 - val_false_positives: 28.0000 - val_true_negatives: 236.0000 - val_true_positives: 51.0000\n",
            "Epoch 85/200\n",
            "44/44 [==============================] - 2s 34ms/step - loss: 0.4287 - Accuracy: 0.8391 - false_negatives: 63.0000 - false_positives: 45.0000 - true_negatives: 999.0000 - true_positives: 285.0000 - val_loss: 1.5909 - val_Accuracy: 0.5909 - val_false_negatives: 38.0000 - val_false_positives: 26.0000 - val_true_negatives: 238.0000 - val_true_positives: 50.0000\n",
            "Epoch 86/200\n",
            "44/44 [==============================] - 2s 34ms/step - loss: 0.3994 - Accuracy: 0.8448 - false_negatives: 62.0000 - false_positives: 44.0000 - true_negatives: 1000.0000 - true_positives: 286.0000 - val_loss: 1.1663 - val_Accuracy: 0.6591 - val_false_negatives: 32.0000 - val_false_positives: 24.0000 - val_true_negatives: 240.0000 - val_true_positives: 56.0000\n",
            "Epoch 87/200\n",
            "44/44 [==============================] - 1s 34ms/step - loss: 0.4022 - Accuracy: 0.8563 - false_negatives: 62.0000 - false_positives: 38.0000 - true_negatives: 1006.0000 - true_positives: 286.0000 - val_loss: 1.5302 - val_Accuracy: 0.5795 - val_false_negatives: 39.0000 - val_false_positives: 31.0000 - val_true_negatives: 233.0000 - val_true_positives: 49.0000\n",
            "Epoch 88/200\n",
            "44/44 [==============================] - 2s 34ms/step - loss: 0.3700 - Accuracy: 0.8621 - false_negatives: 56.0000 - false_positives: 39.0000 - true_negatives: 1005.0000 - true_positives: 292.0000 - val_loss: 1.7122 - val_Accuracy: 0.6136 - val_false_negatives: 34.0000 - val_false_positives: 30.0000 - val_true_negatives: 234.0000 - val_true_positives: 54.0000\n",
            "Epoch 89/200\n",
            "44/44 [==============================] - 2s 34ms/step - loss: 0.4069 - Accuracy: 0.8420 - false_negatives: 61.0000 - false_positives: 43.0000 - true_negatives: 1001.0000 - true_positives: 287.0000 - val_loss: 1.6714 - val_Accuracy: 0.6136 - val_false_negatives: 36.0000 - val_false_positives: 31.0000 - val_true_negatives: 233.0000 - val_true_positives: 52.0000\n",
            "Epoch 90/200\n",
            "44/44 [==============================] - 1s 33ms/step - loss: 0.4063 - Accuracy: 0.8563 - false_negatives: 55.0000 - false_positives: 44.0000 - true_negatives: 1000.0000 - true_positives: 293.0000 - val_loss: 1.3330 - val_Accuracy: 0.6136 - val_false_negatives: 37.0000 - val_false_positives: 29.0000 - val_true_negatives: 235.0000 - val_true_positives: 51.0000\n",
            "Epoch 91/200\n",
            "44/44 [==============================] - 2s 34ms/step - loss: 0.4228 - Accuracy: 0.8391 - false_negatives: 59.0000 - false_positives: 43.0000 - true_negatives: 1001.0000 - true_positives: 289.0000 - val_loss: 1.2856 - val_Accuracy: 0.5909 - val_false_negatives: 37.0000 - val_false_positives: 24.0000 - val_true_negatives: 240.0000 - val_true_positives: 51.0000\n",
            "Epoch 92/200\n",
            "44/44 [==============================] - 1s 34ms/step - loss: 0.3436 - Accuracy: 0.8649 - false_negatives: 51.0000 - false_positives: 40.0000 - true_negatives: 1004.0000 - true_positives: 297.0000 - val_loss: 2.1036 - val_Accuracy: 0.5795 - val_false_negatives: 37.0000 - val_false_positives: 34.0000 - val_true_negatives: 230.0000 - val_true_positives: 51.0000\n",
            "Epoch 93/200\n",
            "44/44 [==============================] - 1s 34ms/step - loss: 0.3479 - Accuracy: 0.8621 - false_negatives: 49.0000 - false_positives: 40.0000 - true_negatives: 1004.0000 - true_positives: 299.0000 - val_loss: 1.9487 - val_Accuracy: 0.6023 - val_false_negatives: 36.0000 - val_false_positives: 32.0000 - val_true_negatives: 232.0000 - val_true_positives: 52.0000\n",
            "Epoch 94/200\n",
            "44/44 [==============================] - 1s 34ms/step - loss: 0.3755 - Accuracy: 0.8506 - false_negatives: 59.0000 - false_positives: 46.0000 - true_negatives: 998.0000 - true_positives: 289.0000 - val_loss: 1.7611 - val_Accuracy: 0.5568 - val_false_negatives: 41.0000 - val_false_positives: 31.0000 - val_true_negatives: 233.0000 - val_true_positives: 47.0000\n",
            "Epoch 95/200\n",
            "44/44 [==============================] - 1s 34ms/step - loss: 0.3314 - Accuracy: 0.8764 - false_negatives: 50.0000 - false_positives: 34.0000 - true_negatives: 1010.0000 - true_positives: 298.0000 - val_loss: 1.8810 - val_Accuracy: 0.6136 - val_false_negatives: 37.0000 - val_false_positives: 31.0000 - val_true_negatives: 233.0000 - val_true_positives: 51.0000\n",
            "Epoch 96/200\n",
            "44/44 [==============================] - 1s 33ms/step - loss: 0.3315 - Accuracy: 0.8736 - false_negatives: 50.0000 - false_positives: 36.0000 - true_negatives: 1008.0000 - true_positives: 298.0000 - val_loss: 2.6220 - val_Accuracy: 0.5568 - val_false_negatives: 40.0000 - val_false_positives: 35.0000 - val_true_negatives: 229.0000 - val_true_positives: 48.0000\n",
            "Epoch 97/200\n",
            "44/44 [==============================] - 1s 34ms/step - loss: 0.4162 - Accuracy: 0.8333 - false_negatives: 64.0000 - false_positives: 41.0000 - true_negatives: 1003.0000 - true_positives: 284.0000 - val_loss: 1.4264 - val_Accuracy: 0.5455 - val_false_negatives: 41.0000 - val_false_positives: 24.0000 - val_true_negatives: 240.0000 - val_true_positives: 47.0000\n",
            "Epoch 98/200\n",
            "44/44 [==============================] - 2s 34ms/step - loss: 0.4660 - Accuracy: 0.8448 - false_negatives: 60.0000 - false_positives: 42.0000 - true_negatives: 1002.0000 - true_positives: 288.0000 - val_loss: 1.2532 - val_Accuracy: 0.5682 - val_false_negatives: 41.0000 - val_false_positives: 28.0000 - val_true_negatives: 236.0000 - val_true_positives: 47.0000\n",
            "Epoch 99/200\n",
            "44/44 [==============================] - 2s 34ms/step - loss: 0.3882 - Accuracy: 0.8621 - false_negatives: 60.0000 - false_positives: 42.0000 - true_negatives: 1002.0000 - true_positives: 288.0000 - val_loss: 1.8613 - val_Accuracy: 0.6023 - val_false_negatives: 35.0000 - val_false_positives: 29.0000 - val_true_negatives: 235.0000 - val_true_positives: 53.0000\n",
            "Epoch 100/200\n",
            "44/44 [==============================] - 2s 34ms/step - loss: 0.3539 - Accuracy: 0.8822 - false_negatives: 49.0000 - false_positives: 33.0000 - true_negatives: 1011.0000 - true_positives: 299.0000 - val_loss: 2.1716 - val_Accuracy: 0.6023 - val_false_negatives: 35.0000 - val_false_positives: 34.0000 - val_true_negatives: 230.0000 - val_true_positives: 53.0000\n",
            "Epoch 101/200\n",
            "44/44 [==============================] - 1s 34ms/step - loss: 0.4971 - Accuracy: 0.8190 - false_negatives: 66.0000 - false_positives: 46.0000 - true_negatives: 998.0000 - true_positives: 282.0000 - val_loss: 1.5195 - val_Accuracy: 0.5568 - val_false_negatives: 39.0000 - val_false_positives: 31.0000 - val_true_negatives: 233.0000 - val_true_positives: 49.0000\n",
            "Epoch 102/200\n",
            "44/44 [==============================] - 2s 35ms/step - loss: 0.3308 - Accuracy: 0.8879 - false_negatives: 46.0000 - false_positives: 30.0000 - true_negatives: 1014.0000 - true_positives: 302.0000 - val_loss: 1.3626 - val_Accuracy: 0.5909 - val_false_negatives: 36.0000 - val_false_positives: 30.0000 - val_true_negatives: 234.0000 - val_true_positives: 52.0000\n",
            "Epoch 103/200\n",
            "44/44 [==============================] - 2s 34ms/step - loss: 0.3282 - Accuracy: 0.8736 - false_negatives: 49.0000 - false_positives: 39.0000 - true_negatives: 1005.0000 - true_positives: 299.0000 - val_loss: 1.7295 - val_Accuracy: 0.5795 - val_false_negatives: 39.0000 - val_false_positives: 32.0000 - val_true_negatives: 232.0000 - val_true_positives: 49.0000\n",
            "Epoch 104/200\n",
            "44/44 [==============================] - 2s 35ms/step - loss: 0.2785 - Accuracy: 0.8994 - false_negatives: 39.0000 - false_positives: 30.0000 - true_negatives: 1014.0000 - true_positives: 309.0000 - val_loss: 1.6716 - val_Accuracy: 0.6250 - val_false_negatives: 33.0000 - val_false_positives: 31.0000 - val_true_negatives: 233.0000 - val_true_positives: 55.0000\n",
            "Epoch 105/200\n",
            "44/44 [==============================] - 2s 35ms/step - loss: 0.3344 - Accuracy: 0.8851 - false_negatives: 45.0000 - false_positives: 30.0000 - true_negatives: 1014.0000 - true_positives: 303.0000 - val_loss: 1.7212 - val_Accuracy: 0.5909 - val_false_negatives: 38.0000 - val_false_positives: 34.0000 - val_true_negatives: 230.0000 - val_true_positives: 50.0000\n",
            "Epoch 106/200\n",
            "44/44 [==============================] - 2s 34ms/step - loss: 0.3159 - Accuracy: 0.8851 - false_negatives: 43.0000 - false_positives: 37.0000 - true_negatives: 1007.0000 - true_positives: 305.0000 - val_loss: 1.3794 - val_Accuracy: 0.6364 - val_false_negatives: 34.0000 - val_false_positives: 27.0000 - val_true_negatives: 237.0000 - val_true_positives: 54.0000\n",
            "Epoch 107/200\n",
            "44/44 [==============================] - 2s 34ms/step - loss: 0.3417 - Accuracy: 0.8707 - false_negatives: 48.0000 - false_positives: 40.0000 - true_negatives: 1004.0000 - true_positives: 300.0000 - val_loss: 2.2710 - val_Accuracy: 0.5682 - val_false_negatives: 39.0000 - val_false_positives: 31.0000 - val_true_negatives: 233.0000 - val_true_positives: 49.0000\n",
            "Epoch 108/200\n",
            "44/44 [==============================] - 2s 34ms/step - loss: 0.4455 - Accuracy: 0.8362 - false_negatives: 64.0000 - false_positives: 47.0000 - true_negatives: 997.0000 - true_positives: 284.0000 - val_loss: 1.6099 - val_Accuracy: 0.5795 - val_false_negatives: 39.0000 - val_false_positives: 32.0000 - val_true_negatives: 232.0000 - val_true_positives: 49.0000\n",
            "Epoch 109/200\n",
            "44/44 [==============================] - 2s 34ms/step - loss: 0.2745 - Accuracy: 0.9138 - false_negatives: 36.0000 - false_positives: 24.0000 - true_negatives: 1020.0000 - true_positives: 312.0000 - val_loss: 2.0969 - val_Accuracy: 0.5455 - val_false_negatives: 40.0000 - val_false_positives: 35.0000 - val_true_negatives: 229.0000 - val_true_positives: 48.0000\n",
            "Epoch 110/200\n",
            "44/44 [==============================] - 2s 35ms/step - loss: 0.3210 - Accuracy: 0.8793 - false_negatives: 43.0000 - false_positives: 38.0000 - true_negatives: 1006.0000 - true_positives: 305.0000 - val_loss: 1.4741 - val_Accuracy: 0.6136 - val_false_negatives: 35.0000 - val_false_positives: 28.0000 - val_true_negatives: 236.0000 - val_true_positives: 53.0000\n",
            "Epoch 111/200\n",
            "44/44 [==============================] - 2s 34ms/step - loss: 0.2892 - Accuracy: 0.9080 - false_negatives: 39.0000 - false_positives: 29.0000 - true_negatives: 1015.0000 - true_positives: 309.0000 - val_loss: 2.0198 - val_Accuracy: 0.6023 - val_false_negatives: 35.0000 - val_false_positives: 33.0000 - val_true_negatives: 231.0000 - val_true_positives: 53.0000\n",
            "Epoch 112/200\n",
            "44/44 [==============================] - 2s 34ms/step - loss: 0.2697 - Accuracy: 0.8966 - false_negatives: 48.0000 - false_positives: 34.0000 - true_negatives: 1010.0000 - true_positives: 300.0000 - val_loss: 2.0383 - val_Accuracy: 0.5795 - val_false_negatives: 37.0000 - val_false_positives: 34.0000 - val_true_negatives: 230.0000 - val_true_positives: 51.0000\n",
            "Epoch 113/200\n",
            "44/44 [==============================] - 2s 35ms/step - loss: 0.3051 - Accuracy: 0.8822 - false_negatives: 45.0000 - false_positives: 39.0000 - true_negatives: 1005.0000 - true_positives: 303.0000 - val_loss: 2.0916 - val_Accuracy: 0.6136 - val_false_negatives: 37.0000 - val_false_positives: 33.0000 - val_true_negatives: 231.0000 - val_true_positives: 51.0000\n",
            "Epoch 114/200\n",
            "44/44 [==============================] - 1s 34ms/step - loss: 0.4198 - Accuracy: 0.8420 - false_negatives: 62.0000 - false_positives: 48.0000 - true_negatives: 996.0000 - true_positives: 286.0000 - val_loss: 1.4009 - val_Accuracy: 0.5455 - val_false_negatives: 43.0000 - val_false_positives: 32.0000 - val_true_negatives: 232.0000 - val_true_positives: 45.0000\n",
            "Epoch 115/200\n",
            "44/44 [==============================] - 2s 34ms/step - loss: 0.3824 - Accuracy: 0.8506 - false_negatives: 64.0000 - false_positives: 37.0000 - true_negatives: 1007.0000 - true_positives: 284.0000 - val_loss: 1.7584 - val_Accuracy: 0.6136 - val_false_negatives: 36.0000 - val_false_positives: 29.0000 - val_true_negatives: 235.0000 - val_true_positives: 52.0000\n",
            "Epoch 116/200\n",
            "44/44 [==============================] - 1s 34ms/step - loss: 0.2568 - Accuracy: 0.9080 - false_negatives: 36.0000 - false_positives: 25.0000 - true_negatives: 1019.0000 - true_positives: 312.0000 - val_loss: 1.8994 - val_Accuracy: 0.6364 - val_false_negatives: 34.0000 - val_false_positives: 31.0000 - val_true_negatives: 233.0000 - val_true_positives: 54.0000\n",
            "Epoch 117/200\n",
            "44/44 [==============================] - 2s 34ms/step - loss: 0.3030 - Accuracy: 0.8851 - false_negatives: 42.0000 - false_positives: 34.0000 - true_negatives: 1010.0000 - true_positives: 306.0000 - val_loss: 1.9228 - val_Accuracy: 0.6250 - val_false_negatives: 34.0000 - val_false_positives: 32.0000 - val_true_negatives: 232.0000 - val_true_positives: 54.0000\n",
            "Epoch 118/200\n",
            "44/44 [==============================] - 2s 34ms/step - loss: 0.2859 - Accuracy: 0.8851 - false_negatives: 43.0000 - false_positives: 38.0000 - true_negatives: 1006.0000 - true_positives: 305.0000 - val_loss: 1.3878 - val_Accuracy: 0.6023 - val_false_negatives: 38.0000 - val_false_positives: 32.0000 - val_true_negatives: 232.0000 - val_true_positives: 50.0000\n",
            "Epoch 119/200\n",
            "44/44 [==============================] - 2s 34ms/step - loss: 0.2703 - Accuracy: 0.8994 - false_negatives: 39.0000 - false_positives: 32.0000 - true_negatives: 1012.0000 - true_positives: 309.0000 - val_loss: 1.6698 - val_Accuracy: 0.6250 - val_false_negatives: 36.0000 - val_false_positives: 32.0000 - val_true_negatives: 232.0000 - val_true_positives: 52.0000\n",
            "Epoch 120/200\n",
            "44/44 [==============================] - 2s 34ms/step - loss: 0.3168 - Accuracy: 0.8793 - false_negatives: 46.0000 - false_positives: 38.0000 - true_negatives: 1006.0000 - true_positives: 302.0000 - val_loss: 2.1356 - val_Accuracy: 0.5568 - val_false_negatives: 39.0000 - val_false_positives: 37.0000 - val_true_negatives: 227.0000 - val_true_positives: 49.0000\n",
            "Epoch 121/200\n",
            "44/44 [==============================] - 2s 35ms/step - loss: 0.3128 - Accuracy: 0.8793 - false_negatives: 50.0000 - false_positives: 34.0000 - true_negatives: 1010.0000 - true_positives: 298.0000 - val_loss: 2.1959 - val_Accuracy: 0.5795 - val_false_negatives: 37.0000 - val_false_positives: 35.0000 - val_true_negatives: 229.0000 - val_true_positives: 51.0000\n",
            "Epoch 122/200\n",
            "44/44 [==============================] - 2s 35ms/step - loss: 0.3452 - Accuracy: 0.8534 - false_negatives: 57.0000 - false_positives: 42.0000 - true_negatives: 1002.0000 - true_positives: 291.0000 - val_loss: 1.5386 - val_Accuracy: 0.5795 - val_false_negatives: 38.0000 - val_false_positives: 30.0000 - val_true_negatives: 234.0000 - val_true_positives: 50.0000\n",
            "Epoch 123/200\n",
            "44/44 [==============================] - 2s 35ms/step - loss: 0.2499 - Accuracy: 0.8937 - false_negatives: 44.0000 - false_positives: 31.0000 - true_negatives: 1013.0000 - true_positives: 304.0000 - val_loss: 2.0880 - val_Accuracy: 0.5795 - val_false_negatives: 38.0000 - val_false_positives: 35.0000 - val_true_negatives: 229.0000 - val_true_positives: 50.0000\n",
            "Epoch 124/200\n",
            "44/44 [==============================] - 2s 35ms/step - loss: 0.2354 - Accuracy: 0.9109 - false_negatives: 38.0000 - false_positives: 30.0000 - true_negatives: 1014.0000 - true_positives: 310.0000 - val_loss: 1.7743 - val_Accuracy: 0.6250 - val_false_negatives: 34.0000 - val_false_positives: 33.0000 - val_true_negatives: 231.0000 - val_true_positives: 54.0000\n",
            "Epoch 125/200\n",
            "44/44 [==============================] - 2s 35ms/step - loss: 0.3322 - Accuracy: 0.8649 - false_negatives: 53.0000 - false_positives: 39.0000 - true_negatives: 1005.0000 - true_positives: 295.0000 - val_loss: 1.7462 - val_Accuracy: 0.5909 - val_false_negatives: 37.0000 - val_false_positives: 32.0000 - val_true_negatives: 232.0000 - val_true_positives: 51.0000\n",
            "Epoch 126/200\n",
            "44/44 [==============================] - 2s 34ms/step - loss: 0.2948 - Accuracy: 0.8908 - false_negatives: 44.0000 - false_positives: 34.0000 - true_negatives: 1010.0000 - true_positives: 304.0000 - val_loss: 1.7404 - val_Accuracy: 0.6023 - val_false_negatives: 35.0000 - val_false_positives: 30.0000 - val_true_negatives: 234.0000 - val_true_positives: 53.0000\n",
            "Epoch 127/200\n",
            "44/44 [==============================] - 2s 35ms/step - loss: 0.3040 - Accuracy: 0.8937 - false_negatives: 39.0000 - false_positives: 30.0000 - true_negatives: 1014.0000 - true_positives: 309.0000 - val_loss: 1.8559 - val_Accuracy: 0.5795 - val_false_negatives: 39.0000 - val_false_positives: 34.0000 - val_true_negatives: 230.0000 - val_true_positives: 49.0000\n",
            "Epoch 128/200\n",
            "44/44 [==============================] - 2s 35ms/step - loss: 0.2097 - Accuracy: 0.9167 - false_negatives: 35.0000 - false_positives: 24.0000 - true_negatives: 1020.0000 - true_positives: 313.0000 - val_loss: 2.1940 - val_Accuracy: 0.5682 - val_false_negatives: 39.0000 - val_false_positives: 33.0000 - val_true_negatives: 231.0000 - val_true_positives: 49.0000\n",
            "Epoch 129/200\n",
            "44/44 [==============================] - 2s 34ms/step - loss: 0.2559 - Accuracy: 0.8908 - false_negatives: 39.0000 - false_positives: 33.0000 - true_negatives: 1011.0000 - true_positives: 309.0000 - val_loss: 2.2553 - val_Accuracy: 0.5909 - val_false_negatives: 36.0000 - val_false_positives: 33.0000 - val_true_negatives: 231.0000 - val_true_positives: 52.0000\n",
            "Epoch 130/200\n",
            "44/44 [==============================] - 2s 35ms/step - loss: 0.2518 - Accuracy: 0.9109 - false_negatives: 33.0000 - false_positives: 30.0000 - true_negatives: 1014.0000 - true_positives: 315.0000 - val_loss: 1.5487 - val_Accuracy: 0.5682 - val_false_negatives: 38.0000 - val_false_positives: 35.0000 - val_true_negatives: 229.0000 - val_true_positives: 50.0000\n",
            "Epoch 131/200\n",
            "44/44 [==============================] - 2s 35ms/step - loss: 0.2339 - Accuracy: 0.9339 - false_negatives: 28.0000 - false_positives: 22.0000 - true_negatives: 1022.0000 - true_positives: 320.0000 - val_loss: 2.3834 - val_Accuracy: 0.5568 - val_false_negatives: 39.0000 - val_false_positives: 38.0000 - val_true_negatives: 226.0000 - val_true_positives: 49.0000\n",
            "Epoch 132/200\n",
            "44/44 [==============================] - 2s 35ms/step - loss: 0.2810 - Accuracy: 0.9052 - false_negatives: 38.0000 - false_positives: 30.0000 - true_negatives: 1014.0000 - true_positives: 310.0000 - val_loss: 2.1771 - val_Accuracy: 0.5909 - val_false_negatives: 36.0000 - val_false_positives: 34.0000 - val_true_negatives: 230.0000 - val_true_positives: 52.0000\n",
            "Epoch 133/200\n",
            "44/44 [==============================] - 2s 35ms/step - loss: 0.2698 - Accuracy: 0.8937 - false_negatives: 41.0000 - false_positives: 36.0000 - true_negatives: 1008.0000 - true_positives: 307.0000 - val_loss: 1.5891 - val_Accuracy: 0.5682 - val_false_negatives: 38.0000 - val_false_positives: 34.0000 - val_true_negatives: 230.0000 - val_true_positives: 50.0000\n",
            "Epoch 134/200\n",
            "44/44 [==============================] - 2s 35ms/step - loss: 0.2145 - Accuracy: 0.9195 - false_negatives: 32.0000 - false_positives: 26.0000 - true_negatives: 1018.0000 - true_positives: 316.0000 - val_loss: 2.1457 - val_Accuracy: 0.6023 - val_false_negatives: 37.0000 - val_false_positives: 31.0000 - val_true_negatives: 233.0000 - val_true_positives: 51.0000\n",
            "Epoch 135/200\n",
            "44/44 [==============================] - 2s 34ms/step - loss: 0.2009 - Accuracy: 0.9224 - false_negatives: 28.0000 - false_positives: 25.0000 - true_negatives: 1019.0000 - true_positives: 320.0000 - val_loss: 2.4044 - val_Accuracy: 0.5795 - val_false_negatives: 37.0000 - val_false_positives: 34.0000 - val_true_negatives: 230.0000 - val_true_positives: 51.0000\n",
            "Epoch 136/200\n",
            "44/44 [==============================] - 2s 34ms/step - loss: 0.2562 - Accuracy: 0.9023 - false_negatives: 41.0000 - false_positives: 33.0000 - true_negatives: 1011.0000 - true_positives: 307.0000 - val_loss: 2.5661 - val_Accuracy: 0.5909 - val_false_negatives: 37.0000 - val_false_positives: 33.0000 - val_true_negatives: 231.0000 - val_true_positives: 51.0000\n",
            "Epoch 137/200\n",
            "44/44 [==============================] - 2s 35ms/step - loss: 0.2279 - Accuracy: 0.8966 - false_negatives: 40.0000 - false_positives: 31.0000 - true_negatives: 1013.0000 - true_positives: 308.0000 - val_loss: 2.2749 - val_Accuracy: 0.5909 - val_false_negatives: 36.0000 - val_false_positives: 35.0000 - val_true_negatives: 229.0000 - val_true_positives: 52.0000\n",
            "Epoch 138/200\n",
            "44/44 [==============================] - 2s 35ms/step - loss: 0.2544 - Accuracy: 0.8994 - false_negatives: 38.0000 - false_positives: 32.0000 - true_negatives: 1012.0000 - true_positives: 310.0000 - val_loss: 2.0165 - val_Accuracy: 0.5455 - val_false_negatives: 40.0000 - val_false_positives: 36.0000 - val_true_negatives: 228.0000 - val_true_positives: 48.0000\n",
            "Epoch 139/200\n",
            "44/44 [==============================] - 2s 35ms/step - loss: 0.2111 - Accuracy: 0.9224 - false_negatives: 30.0000 - false_positives: 25.0000 - true_negatives: 1019.0000 - true_positives: 318.0000 - val_loss: 2.2018 - val_Accuracy: 0.6250 - val_false_negatives: 35.0000 - val_false_positives: 32.0000 - val_true_negatives: 232.0000 - val_true_positives: 53.0000\n",
            "Epoch 140/200\n",
            "44/44 [==============================] - 2s 36ms/step - loss: 0.4007 - Accuracy: 0.8592 - false_negatives: 54.0000 - false_positives: 42.0000 - true_negatives: 1002.0000 - true_positives: 294.0000 - val_loss: 1.6970 - val_Accuracy: 0.5114 - val_false_negatives: 47.0000 - val_false_positives: 37.0000 - val_true_negatives: 227.0000 - val_true_positives: 41.0000\n",
            "Epoch 141/200\n",
            "44/44 [==============================] - 2s 35ms/step - loss: 0.2706 - Accuracy: 0.8994 - false_negatives: 43.0000 - false_positives: 30.0000 - true_negatives: 1014.0000 - true_positives: 305.0000 - val_loss: 1.7217 - val_Accuracy: 0.5341 - val_false_negatives: 42.0000 - val_false_positives: 35.0000 - val_true_negatives: 229.0000 - val_true_positives: 46.0000\n",
            "Epoch 142/200\n",
            "44/44 [==============================] - 2s 35ms/step - loss: 0.2047 - Accuracy: 0.9253 - false_negatives: 29.0000 - false_positives: 23.0000 - true_negatives: 1021.0000 - true_positives: 319.0000 - val_loss: 2.1825 - val_Accuracy: 0.5682 - val_false_negatives: 39.0000 - val_false_positives: 35.0000 - val_true_negatives: 229.0000 - val_true_positives: 49.0000\n",
            "Epoch 143/200\n",
            "44/44 [==============================] - 2s 35ms/step - loss: 0.1792 - Accuracy: 0.9368 - false_negatives: 24.0000 - false_positives: 20.0000 - true_negatives: 1024.0000 - true_positives: 324.0000 - val_loss: 2.5643 - val_Accuracy: 0.5568 - val_false_negatives: 40.0000 - val_false_positives: 38.0000 - val_true_negatives: 226.0000 - val_true_positives: 48.0000\n",
            "Epoch 144/200\n",
            "44/44 [==============================] - 2s 34ms/step - loss: 0.2066 - Accuracy: 0.9195 - false_negatives: 30.0000 - false_positives: 24.0000 - true_negatives: 1020.0000 - true_positives: 318.0000 - val_loss: 2.5258 - val_Accuracy: 0.5227 - val_false_negatives: 43.0000 - val_false_positives: 39.0000 - val_true_negatives: 225.0000 - val_true_positives: 45.0000\n",
            "Epoch 145/200\n",
            "44/44 [==============================] - 2s 34ms/step - loss: 0.1640 - Accuracy: 0.9195 - false_negatives: 31.0000 - false_positives: 24.0000 - true_negatives: 1020.0000 - true_positives: 317.0000 - val_loss: 2.9341 - val_Accuracy: 0.5568 - val_false_negatives: 39.0000 - val_false_positives: 38.0000 - val_true_negatives: 226.0000 - val_true_positives: 49.0000\n",
            "Epoch 146/200\n",
            "44/44 [==============================] - 2s 35ms/step - loss: 0.1890 - Accuracy: 0.9282 - false_negatives: 27.0000 - false_positives: 23.0000 - true_negatives: 1021.0000 - true_positives: 321.0000 - val_loss: 2.7973 - val_Accuracy: 0.5795 - val_false_negatives: 38.0000 - val_false_positives: 35.0000 - val_true_negatives: 229.0000 - val_true_positives: 50.0000\n",
            "Epoch 147/200\n",
            "44/44 [==============================] - 2s 35ms/step - loss: 0.2919 - Accuracy: 0.9023 - false_negatives: 40.0000 - false_positives: 32.0000 - true_negatives: 1012.0000 - true_positives: 308.0000 - val_loss: 1.4904 - val_Accuracy: 0.5795 - val_false_negatives: 37.0000 - val_false_positives: 30.0000 - val_true_negatives: 234.0000 - val_true_positives: 51.0000\n",
            "Epoch 148/200\n",
            "44/44 [==============================] - 2s 35ms/step - loss: 0.2327 - Accuracy: 0.9167 - false_negatives: 32.0000 - false_positives: 26.0000 - true_negatives: 1018.0000 - true_positives: 316.0000 - val_loss: 2.2573 - val_Accuracy: 0.5795 - val_false_negatives: 39.0000 - val_false_positives: 35.0000 - val_true_negatives: 229.0000 - val_true_positives: 49.0000\n",
            "Epoch 149/200\n",
            "44/44 [==============================] - 2s 34ms/step - loss: 0.1670 - Accuracy: 0.9397 - false_negatives: 21.0000 - false_positives: 18.0000 - true_negatives: 1026.0000 - true_positives: 327.0000 - val_loss: 2.4106 - val_Accuracy: 0.5455 - val_false_negatives: 41.0000 - val_false_positives: 37.0000 - val_true_negatives: 227.0000 - val_true_positives: 47.0000\n",
            "Epoch 150/200\n",
            "44/44 [==============================] - 2s 35ms/step - loss: 0.1908 - Accuracy: 0.9310 - false_negatives: 29.0000 - false_positives: 23.0000 - true_negatives: 1021.0000 - true_positives: 319.0000 - val_loss: 2.2384 - val_Accuracy: 0.6023 - val_false_negatives: 36.0000 - val_false_positives: 33.0000 - val_true_negatives: 231.0000 - val_true_positives: 52.0000\n",
            "Epoch 151/200\n",
            "44/44 [==============================] - 2s 35ms/step - loss: 0.2145 - Accuracy: 0.9195 - false_negatives: 30.0000 - false_positives: 26.0000 - true_negatives: 1018.0000 - true_positives: 318.0000 - val_loss: 2.2078 - val_Accuracy: 0.5795 - val_false_negatives: 37.0000 - val_false_positives: 34.0000 - val_true_negatives: 230.0000 - val_true_positives: 51.0000\n",
            "Epoch 152/200\n",
            "44/44 [==============================] - 2s 35ms/step - loss: 0.1997 - Accuracy: 0.9339 - false_negatives: 25.0000 - false_positives: 22.0000 - true_negatives: 1022.0000 - true_positives: 323.0000 - val_loss: 1.7712 - val_Accuracy: 0.5795 - val_false_negatives: 38.0000 - val_false_positives: 35.0000 - val_true_negatives: 229.0000 - val_true_positives: 50.0000\n",
            "Epoch 153/200\n",
            "44/44 [==============================] - 2s 34ms/step - loss: 0.1875 - Accuracy: 0.9310 - false_negatives: 27.0000 - false_positives: 20.0000 - true_negatives: 1024.0000 - true_positives: 321.0000 - val_loss: 2.6427 - val_Accuracy: 0.5795 - val_false_negatives: 38.0000 - val_false_positives: 35.0000 - val_true_negatives: 229.0000 - val_true_positives: 50.0000\n",
            "Epoch 154/200\n",
            "44/44 [==============================] - 2s 35ms/step - loss: 0.2016 - Accuracy: 0.9253 - false_negatives: 26.0000 - false_positives: 23.0000 - true_negatives: 1021.0000 - true_positives: 322.0000 - val_loss: 2.4081 - val_Accuracy: 0.5795 - val_false_negatives: 38.0000 - val_false_positives: 34.0000 - val_true_negatives: 230.0000 - val_true_positives: 50.0000\n",
            "Epoch 155/200\n",
            "44/44 [==============================] - 2s 35ms/step - loss: 0.2460 - Accuracy: 0.9109 - false_negatives: 35.0000 - false_positives: 29.0000 - true_negatives: 1015.0000 - true_positives: 313.0000 - val_loss: 1.8966 - val_Accuracy: 0.6136 - val_false_negatives: 34.0000 - val_false_positives: 32.0000 - val_true_negatives: 232.0000 - val_true_positives: 54.0000\n",
            "Epoch 156/200\n",
            "44/44 [==============================] - 2s 35ms/step - loss: 0.1756 - Accuracy: 0.9397 - false_negatives: 23.0000 - false_positives: 17.0000 - true_negatives: 1027.0000 - true_positives: 325.0000 - val_loss: 2.3557 - val_Accuracy: 0.5909 - val_false_negatives: 37.0000 - val_false_positives: 35.0000 - val_true_negatives: 229.0000 - val_true_positives: 51.0000\n",
            "Epoch 157/200\n",
            "44/44 [==============================] - 2s 35ms/step - loss: 0.3620 - Accuracy: 0.8764 - false_negatives: 47.0000 - false_positives: 37.0000 - true_negatives: 1007.0000 - true_positives: 301.0000 - val_loss: 1.7172 - val_Accuracy: 0.5795 - val_false_negatives: 40.0000 - val_false_positives: 34.0000 - val_true_negatives: 230.0000 - val_true_positives: 48.0000\n",
            "Epoch 158/200\n",
            "44/44 [==============================] - 2s 35ms/step - loss: 0.2088 - Accuracy: 0.9224 - false_negatives: 29.0000 - false_positives: 24.0000 - true_negatives: 1020.0000 - true_positives: 319.0000 - val_loss: 2.0202 - val_Accuracy: 0.5682 - val_false_negatives: 39.0000 - val_false_positives: 32.0000 - val_true_negatives: 232.0000 - val_true_positives: 49.0000\n",
            "Epoch 159/200\n",
            "44/44 [==============================] - 2s 35ms/step - loss: 0.1557 - Accuracy: 0.9425 - false_negatives: 23.0000 - false_positives: 18.0000 - true_negatives: 1026.0000 - true_positives: 325.0000 - val_loss: 2.4286 - val_Accuracy: 0.6136 - val_false_negatives: 35.0000 - val_false_positives: 33.0000 - val_true_negatives: 231.0000 - val_true_positives: 53.0000\n",
            "Epoch 160/200\n",
            "44/44 [==============================] - 2s 35ms/step - loss: 0.1507 - Accuracy: 0.9454 - false_negatives: 21.0000 - false_positives: 18.0000 - true_negatives: 1026.0000 - true_positives: 327.0000 - val_loss: 3.6806 - val_Accuracy: 0.5909 - val_false_negatives: 36.0000 - val_false_positives: 33.0000 - val_true_negatives: 231.0000 - val_true_positives: 52.0000\n",
            "Epoch 161/200\n",
            "44/44 [==============================] - 2s 36ms/step - loss: 0.2117 - Accuracy: 0.9310 - false_negatives: 26.0000 - false_positives: 21.0000 - true_negatives: 1023.0000 - true_positives: 322.0000 - val_loss: 2.5109 - val_Accuracy: 0.5682 - val_false_negatives: 38.0000 - val_false_positives: 37.0000 - val_true_negatives: 227.0000 - val_true_positives: 50.0000\n",
            "Epoch 162/200\n",
            "44/44 [==============================] - 2s 35ms/step - loss: 0.2829 - Accuracy: 0.9253 - false_negatives: 28.0000 - false_positives: 25.0000 - true_negatives: 1019.0000 - true_positives: 320.0000 - val_loss: 2.0667 - val_Accuracy: 0.6023 - val_false_negatives: 37.0000 - val_false_positives: 33.0000 - val_true_negatives: 231.0000 - val_true_positives: 51.0000\n",
            "Epoch 163/200\n",
            "44/44 [==============================] - 2s 35ms/step - loss: 0.1812 - Accuracy: 0.9454 - false_negatives: 21.0000 - false_positives: 18.0000 - true_negatives: 1026.0000 - true_positives: 327.0000 - val_loss: 2.0694 - val_Accuracy: 0.5568 - val_false_negatives: 40.0000 - val_false_positives: 36.0000 - val_true_negatives: 228.0000 - val_true_positives: 48.0000\n",
            "Epoch 164/200\n",
            "44/44 [==============================] - 2s 36ms/step - loss: 0.1827 - Accuracy: 0.9339 - false_negatives: 24.0000 - false_positives: 19.0000 - true_negatives: 1025.0000 - true_positives: 324.0000 - val_loss: 2.1085 - val_Accuracy: 0.5682 - val_false_negatives: 38.0000 - val_false_positives: 36.0000 - val_true_negatives: 228.0000 - val_true_positives: 50.0000\n",
            "Epoch 165/200\n",
            "44/44 [==============================] - 2s 35ms/step - loss: 0.1904 - Accuracy: 0.9167 - false_negatives: 29.0000 - false_positives: 25.0000 - true_negatives: 1019.0000 - true_positives: 319.0000 - val_loss: 1.8291 - val_Accuracy: 0.5795 - val_false_negatives: 37.0000 - val_false_positives: 34.0000 - val_true_negatives: 230.0000 - val_true_positives: 51.0000\n",
            "Epoch 166/200\n",
            "44/44 [==============================] - 2s 34ms/step - loss: 0.2096 - Accuracy: 0.9224 - false_negatives: 30.0000 - false_positives: 25.0000 - true_negatives: 1019.0000 - true_positives: 318.0000 - val_loss: 1.8782 - val_Accuracy: 0.5682 - val_false_negatives: 39.0000 - val_false_positives: 36.0000 - val_true_negatives: 228.0000 - val_true_positives: 49.0000\n",
            "Epoch 167/200\n",
            "44/44 [==============================] - 2s 35ms/step - loss: 0.2446 - Accuracy: 0.9109 - false_negatives: 33.0000 - false_positives: 27.0000 - true_negatives: 1017.0000 - true_positives: 315.0000 - val_loss: 2.2114 - val_Accuracy: 0.5909 - val_false_negatives: 37.0000 - val_false_positives: 34.0000 - val_true_negatives: 230.0000 - val_true_positives: 51.0000\n",
            "Epoch 168/200\n",
            "44/44 [==============================] - 2s 34ms/step - loss: 0.2031 - Accuracy: 0.9253 - false_negatives: 29.0000 - false_positives: 23.0000 - true_negatives: 1021.0000 - true_positives: 319.0000 - val_loss: 2.1528 - val_Accuracy: 0.5795 - val_false_negatives: 37.0000 - val_false_positives: 33.0000 - val_true_negatives: 231.0000 - val_true_positives: 51.0000\n",
            "Epoch 169/200\n",
            "44/44 [==============================] - 2s 35ms/step - loss: 0.1223 - Accuracy: 0.9598 - false_negatives: 17.0000 - false_positives: 12.0000 - true_negatives: 1032.0000 - true_positives: 331.0000 - val_loss: 2.6805 - val_Accuracy: 0.5909 - val_false_negatives: 36.0000 - val_false_positives: 34.0000 - val_true_negatives: 230.0000 - val_true_positives: 52.0000\n",
            "Epoch 170/200\n",
            "44/44 [==============================] - 2s 34ms/step - loss: 0.1374 - Accuracy: 0.9425 - false_negatives: 20.0000 - false_positives: 17.0000 - true_negatives: 1027.0000 - true_positives: 328.0000 - val_loss: 2.4753 - val_Accuracy: 0.5909 - val_false_negatives: 36.0000 - val_false_positives: 32.0000 - val_true_negatives: 232.0000 - val_true_positives: 52.0000\n",
            "Epoch 171/200\n",
            "44/44 [==============================] - 2s 35ms/step - loss: 0.1662 - Accuracy: 0.9483 - false_negatives: 21.0000 - false_positives: 18.0000 - true_negatives: 1026.0000 - true_positives: 327.0000 - val_loss: 2.4950 - val_Accuracy: 0.5682 - val_false_negatives: 39.0000 - val_false_positives: 35.0000 - val_true_negatives: 229.0000 - val_true_positives: 49.0000\n",
            "Epoch 172/200\n",
            "44/44 [==============================] - 2s 35ms/step - loss: 0.1600 - Accuracy: 0.9339 - false_negatives: 25.0000 - false_positives: 22.0000 - true_negatives: 1022.0000 - true_positives: 323.0000 - val_loss: 2.3314 - val_Accuracy: 0.6023 - val_false_negatives: 35.0000 - val_false_positives: 34.0000 - val_true_negatives: 230.0000 - val_true_positives: 53.0000\n",
            "Epoch 173/200\n",
            "44/44 [==============================] - 2s 34ms/step - loss: 0.2889 - Accuracy: 0.9138 - false_negatives: 31.0000 - false_positives: 29.0000 - true_negatives: 1015.0000 - true_positives: 317.0000 - val_loss: 2.3492 - val_Accuracy: 0.5341 - val_false_negatives: 42.0000 - val_false_positives: 38.0000 - val_true_negatives: 226.0000 - val_true_positives: 46.0000\n",
            "Epoch 174/200\n",
            "44/44 [==============================] - 2s 35ms/step - loss: 0.2670 - Accuracy: 0.9023 - false_negatives: 37.0000 - false_positives: 30.0000 - true_negatives: 1014.0000 - true_positives: 311.0000 - val_loss: 1.8033 - val_Accuracy: 0.5909 - val_false_negatives: 37.0000 - val_false_positives: 35.0000 - val_true_negatives: 229.0000 - val_true_positives: 51.0000\n",
            "Epoch 175/200\n",
            "44/44 [==============================] - 2s 35ms/step - loss: 0.1418 - Accuracy: 0.9483 - false_negatives: 19.0000 - false_positives: 18.0000 - true_negatives: 1026.0000 - true_positives: 329.0000 - val_loss: 2.3691 - val_Accuracy: 0.5909 - val_false_negatives: 36.0000 - val_false_positives: 36.0000 - val_true_negatives: 228.0000 - val_true_positives: 52.0000\n",
            "Epoch 176/200\n",
            "44/44 [==============================] - 2s 35ms/step - loss: 0.1307 - Accuracy: 0.9511 - false_negatives: 18.0000 - false_positives: 15.0000 - true_negatives: 1029.0000 - true_positives: 330.0000 - val_loss: 3.1386 - val_Accuracy: 0.6023 - val_false_negatives: 35.0000 - val_false_positives: 35.0000 - val_true_negatives: 229.0000 - val_true_positives: 53.0000\n",
            "Epoch 177/200\n",
            "44/44 [==============================] - 2s 35ms/step - loss: 0.1406 - Accuracy: 0.9454 - false_negatives: 21.0000 - false_positives: 16.0000 - true_negatives: 1028.0000 - true_positives: 327.0000 - val_loss: 3.0498 - val_Accuracy: 0.6023 - val_false_negatives: 36.0000 - val_false_positives: 35.0000 - val_true_negatives: 229.0000 - val_true_positives: 52.0000\n",
            "Epoch 178/200\n",
            "44/44 [==============================] - 2s 35ms/step - loss: 0.1388 - Accuracy: 0.9425 - false_negatives: 22.0000 - false_positives: 18.0000 - true_negatives: 1026.0000 - true_positives: 326.0000 - val_loss: 2.6375 - val_Accuracy: 0.5909 - val_false_negatives: 37.0000 - val_false_positives: 32.0000 - val_true_negatives: 232.0000 - val_true_positives: 51.0000\n",
            "Epoch 179/200\n",
            "44/44 [==============================] - 2s 35ms/step - loss: 0.1450 - Accuracy: 0.9483 - false_negatives: 19.0000 - false_positives: 17.0000 - true_negatives: 1027.0000 - true_positives: 329.0000 - val_loss: 3.3512 - val_Accuracy: 0.5795 - val_false_negatives: 37.0000 - val_false_positives: 36.0000 - val_true_negatives: 228.0000 - val_true_positives: 51.0000\n",
            "Epoch 180/200\n",
            "44/44 [==============================] - 2s 36ms/step - loss: 0.2527 - Accuracy: 0.9368 - false_negatives: 23.0000 - false_positives: 22.0000 - true_negatives: 1022.0000 - true_positives: 325.0000 - val_loss: 1.9997 - val_Accuracy: 0.6364 - val_false_negatives: 36.0000 - val_false_positives: 31.0000 - val_true_negatives: 233.0000 - val_true_positives: 52.0000\n",
            "Epoch 181/200\n",
            "44/44 [==============================] - 2s 35ms/step - loss: 0.1583 - Accuracy: 0.9339 - false_negatives: 26.0000 - false_positives: 19.0000 - true_negatives: 1025.0000 - true_positives: 322.0000 - val_loss: 2.1178 - val_Accuracy: 0.6136 - val_false_negatives: 34.0000 - val_false_positives: 34.0000 - val_true_negatives: 230.0000 - val_true_positives: 54.0000\n",
            "Epoch 182/200\n",
            "44/44 [==============================] - 2s 34ms/step - loss: 0.1588 - Accuracy: 0.9397 - false_negatives: 21.0000 - false_positives: 19.0000 - true_negatives: 1025.0000 - true_positives: 327.0000 - val_loss: 2.5774 - val_Accuracy: 0.5568 - val_false_negatives: 39.0000 - val_false_positives: 37.0000 - val_true_negatives: 227.0000 - val_true_positives: 49.0000\n",
            "Epoch 183/200\n",
            "44/44 [==============================] - 2s 34ms/step - loss: 0.1705 - Accuracy: 0.9397 - false_negatives: 23.0000 - false_positives: 19.0000 - true_negatives: 1025.0000 - true_positives: 325.0000 - val_loss: 2.1035 - val_Accuracy: 0.6136 - val_false_negatives: 36.0000 - val_false_positives: 33.0000 - val_true_negatives: 231.0000 - val_true_positives: 52.0000\n",
            "Epoch 184/200\n",
            "44/44 [==============================] - 2s 35ms/step - loss: 0.1463 - Accuracy: 0.9511 - false_negatives: 19.0000 - false_positives: 16.0000 - true_negatives: 1028.0000 - true_positives: 329.0000 - val_loss: 2.0364 - val_Accuracy: 0.6136 - val_false_negatives: 36.0000 - val_false_positives: 32.0000 - val_true_negatives: 232.0000 - val_true_positives: 52.0000\n",
            "Epoch 185/200\n",
            "44/44 [==============================] - 2s 34ms/step - loss: 0.1097 - Accuracy: 0.9626 - false_negatives: 14.0000 - false_positives: 12.0000 - true_negatives: 1032.0000 - true_positives: 334.0000 - val_loss: 2.7737 - val_Accuracy: 0.5568 - val_false_negatives: 39.0000 - val_false_positives: 37.0000 - val_true_negatives: 227.0000 - val_true_positives: 49.0000\n",
            "Epoch 186/200\n",
            "44/44 [==============================] - 2s 35ms/step - loss: 0.1741 - Accuracy: 0.9483 - false_negatives: 20.0000 - false_positives: 16.0000 - true_negatives: 1028.0000 - true_positives: 328.0000 - val_loss: 1.9881 - val_Accuracy: 0.6023 - val_false_negatives: 36.0000 - val_false_positives: 32.0000 - val_true_negatives: 232.0000 - val_true_positives: 52.0000\n",
            "Epoch 187/200\n",
            "44/44 [==============================] - 2s 35ms/step - loss: 0.1574 - Accuracy: 0.9425 - false_negatives: 21.0000 - false_positives: 19.0000 - true_negatives: 1025.0000 - true_positives: 327.0000 - val_loss: 2.3951 - val_Accuracy: 0.6136 - val_false_negatives: 34.0000 - val_false_positives: 32.0000 - val_true_negatives: 232.0000 - val_true_positives: 54.0000\n",
            "Epoch 188/200\n",
            "44/44 [==============================] - 2s 35ms/step - loss: 0.1634 - Accuracy: 0.9282 - false_negatives: 25.0000 - false_positives: 25.0000 - true_negatives: 1019.0000 - true_positives: 323.0000 - val_loss: 2.0328 - val_Accuracy: 0.6136 - val_false_negatives: 34.0000 - val_false_positives: 33.0000 - val_true_negatives: 231.0000 - val_true_positives: 54.0000\n",
            "Epoch 189/200\n",
            "44/44 [==============================] - 2s 35ms/step - loss: 0.2173 - Accuracy: 0.9195 - false_negatives: 30.0000 - false_positives: 26.0000 - true_negatives: 1018.0000 - true_positives: 318.0000 - val_loss: 2.4163 - val_Accuracy: 0.5795 - val_false_negatives: 37.0000 - val_false_positives: 36.0000 - val_true_negatives: 228.0000 - val_true_positives: 51.0000\n",
            "Epoch 190/200\n",
            "44/44 [==============================] - 2s 35ms/step - loss: 0.1463 - Accuracy: 0.9253 - false_negatives: 27.0000 - false_positives: 21.0000 - true_negatives: 1023.0000 - true_positives: 321.0000 - val_loss: 2.0668 - val_Accuracy: 0.5795 - val_false_negatives: 37.0000 - val_false_positives: 34.0000 - val_true_negatives: 230.0000 - val_true_positives: 51.0000\n",
            "Epoch 191/200\n",
            "44/44 [==============================] - 2s 35ms/step - loss: 0.1330 - Accuracy: 0.9454 - false_negatives: 19.0000 - false_positives: 17.0000 - true_negatives: 1027.0000 - true_positives: 329.0000 - val_loss: 2.5707 - val_Accuracy: 0.5795 - val_false_negatives: 38.0000 - val_false_positives: 37.0000 - val_true_negatives: 227.0000 - val_true_positives: 50.0000\n",
            "Epoch 192/200\n",
            "44/44 [==============================] - 2s 35ms/step - loss: 0.1128 - Accuracy: 0.9655 - false_negatives: 14.0000 - false_positives: 11.0000 - true_negatives: 1033.0000 - true_positives: 334.0000 - val_loss: 2.5970 - val_Accuracy: 0.6477 - val_false_negatives: 31.0000 - val_false_positives: 30.0000 - val_true_negatives: 234.0000 - val_true_positives: 57.0000\n",
            "Epoch 193/200\n",
            "44/44 [==============================] - 2s 35ms/step - loss: 0.1226 - Accuracy: 0.9540 - false_negatives: 17.0000 - false_positives: 14.0000 - true_negatives: 1030.0000 - true_positives: 331.0000 - val_loss: 2.8422 - val_Accuracy: 0.5682 - val_false_negatives: 38.0000 - val_false_positives: 38.0000 - val_true_negatives: 226.0000 - val_true_positives: 50.0000\n",
            "Epoch 194/200\n",
            "44/44 [==============================] - 2s 34ms/step - loss: 0.0867 - Accuracy: 0.9741 - false_negatives: 10.0000 - false_positives: 9.0000 - true_negatives: 1035.0000 - true_positives: 338.0000 - val_loss: 2.7254 - val_Accuracy: 0.6250 - val_false_negatives: 33.0000 - val_false_positives: 32.0000 - val_true_negatives: 232.0000 - val_true_positives: 55.0000\n",
            "Epoch 195/200\n",
            "44/44 [==============================] - 2s 34ms/step - loss: 0.1120 - Accuracy: 0.9626 - false_negatives: 14.0000 - false_positives: 12.0000 - true_negatives: 1032.0000 - true_positives: 334.0000 - val_loss: 2.2609 - val_Accuracy: 0.6023 - val_false_negatives: 35.0000 - val_false_positives: 34.0000 - val_true_negatives: 230.0000 - val_true_positives: 53.0000\n",
            "Epoch 196/200\n",
            "44/44 [==============================] - 2s 35ms/step - loss: 0.1119 - Accuracy: 0.9454 - false_negatives: 19.0000 - false_positives: 18.0000 - true_negatives: 1026.0000 - true_positives: 329.0000 - val_loss: 2.6758 - val_Accuracy: 0.6250 - val_false_negatives: 34.0000 - val_false_positives: 31.0000 - val_true_negatives: 233.0000 - val_true_positives: 54.0000\n",
            "Epoch 197/200\n",
            "44/44 [==============================] - 2s 35ms/step - loss: 0.1539 - Accuracy: 0.9454 - false_negatives: 19.0000 - false_positives: 18.0000 - true_negatives: 1026.0000 - true_positives: 329.0000 - val_loss: 2.2735 - val_Accuracy: 0.6136 - val_false_negatives: 34.0000 - val_false_positives: 33.0000 - val_true_negatives: 231.0000 - val_true_positives: 54.0000\n",
            "Epoch 198/200\n",
            "44/44 [==============================] - 2s 35ms/step - loss: 0.2447 - Accuracy: 0.9138 - false_negatives: 31.0000 - false_positives: 26.0000 - true_negatives: 1018.0000 - true_positives: 317.0000 - val_loss: 2.2658 - val_Accuracy: 0.5682 - val_false_negatives: 38.0000 - val_false_positives: 35.0000 - val_true_negatives: 229.0000 - val_true_positives: 50.0000\n",
            "Epoch 199/200\n",
            "44/44 [==============================] - 2s 35ms/step - loss: 0.1875 - Accuracy: 0.9224 - false_negatives: 28.0000 - false_positives: 24.0000 - true_negatives: 1020.0000 - true_positives: 320.0000 - val_loss: 2.2988 - val_Accuracy: 0.5909 - val_false_negatives: 37.0000 - val_false_positives: 35.0000 - val_true_negatives: 229.0000 - val_true_positives: 51.0000\n",
            "Epoch 200/200\n",
            "44/44 [==============================] - 2s 35ms/step - loss: 0.1337 - Accuracy: 0.9425 - false_negatives: 22.0000 - false_positives: 20.0000 - true_negatives: 1024.0000 - true_positives: 326.0000 - val_loss: 2.3270 - val_Accuracy: 0.6023 - val_false_negatives: 37.0000 - val_false_positives: 34.0000 - val_true_negatives: 230.0000 - val_true_positives: 51.0000\n"
          ]
        }
      ]
    },
    {
      "cell_type": "markdown",
      "source": [
        "Plotting Traning Result"
      ],
      "metadata": {
        "id": "XZSFG8fXqz7c"
      }
    },
    {
      "cell_type": "code",
      "source": [
        "  #plotting\n",
        "  epochs = range(1, len(history.history['loss'])+1)\n",
        "  #plt.title(f\"Grafik loss training iterasi {iterasi}\")\n",
        "  plt.title(f\"Grafik loss training VGG16\")\n",
        "  plt.plot(epochs, history.history['loss'], 'r', label='Training Loss')\n",
        "  plt.plot(epochs, history.history['val_loss'], 'b', label='Validation Loss')    \n",
        "  plt.xlabel(\"Epoch\")\n",
        "  plt.ylabel(\"Loss\")\n",
        "  plt.legend()\n",
        "  plt.show()\n"
      ],
      "metadata": {
        "id": "3dXbDrJpY1NK",
        "colab": {
          "base_uri": "https://localhost:8080/",
          "height": 295
        },
        "outputId": "76f2f5d1-6d5b-42f9-8cbf-81010af69194"
      },
      "execution_count": 11,
      "outputs": [
        {
          "output_type": "display_data",
          "data": {
            "text/plain": [
              "<Figure size 432x288 with 1 Axes>"
            ],
            "image/png": "[encoded data removed]"
          },
          "metadata": {
            "needs_background": "light"
          }
        }
      ]
    },
    {
      "cell_type": "code",
      "source": [
        "  #plotting\n",
        "  epochs = range(1, len(history.history['loss'])+1)\n",
        "  #plt.title(f\"Grafik Akurasi training iterasi {iterasi}\")\n",
        "  plt.title(f\"Grafik Akurasi training VGG16\")\n",
        "  plt.plot(epochs, history.history['Accuracy'], 'r', label='Training Accuracy')\n",
        "  plt.plot(epochs, history.history['val_Accuracy'], 'b', label='Validation Accuracy')    \n",
        "  plt.xlabel(\"Epoch\")\n",
        "  plt.ylabel(\"Accuracy\")\n",
        "  plt.legend()\n",
        "  plt.show()"
      ],
      "metadata": {
        "id": "j3xigprPwlSX",
        "colab": {
          "base_uri": "https://localhost:8080/",
          "height": 295
        },
        "outputId": "c8ca54da-95f9-41df-df58-47452fde546b"
      },
      "execution_count": 12,
      "outputs": [
        {
          "output_type": "display_data",
          "data": {
            "text/plain": [
              "<Figure size 432x288 with 1 Axes>"
            ],
            "image/png": "[encoded data removed]"
          },
          "metadata": {
            "needs_background": "light"
          }
        }
      ]
    },
    {
      "cell_type": "markdown",
      "metadata": {
        "id": "bTgk1-sdzmgy"
      },
      "source": [
        "**Validating** Network"
      ]
    },
    {
      "cell_type": "code",
      "source": [
        "import matplotlib.pyplot as plt\n",
        "from sklearn.datasets import make_classification\n",
        "from numpy import mean\n",
        "from sklearn.metrics import confusion_matrix, ConfusionMatrixDisplay, accuracy_score, classification_report, recall_score\n",
        "\n",
        "validation = model.predict(np_image_list_validation)\n",
        "\n",
        "predicted_labels = []\n",
        "correct_labels = []\n",
        "for i in range (len(validation)):\n",
        "  predicted_labels.append(np.argmax(validation[i]))\n",
        "\n",
        "for i in range (len(image_labels_validation)):\n",
        "  correct_labels.append(np.argmax(image_labels_validation[i]))\n",
        "\n",
        "\n",
        "confusion_matrix = confusion_matrix(correct_labels, predicted_labels)\n",
        "disp = ConfusionMatrixDisplay(confusion_matrix=confusion_matrix)  \n",
        "disp.plot()\n",
        "plt.show()\n",
        "print('--------')\n",
        "FP = confusion_matrix.sum(axis=0) - np.diag(confusion_matrix)  \n",
        "FN = confusion_matrix.sum(axis=1) - np.diag(confusion_matrix)\n",
        "TP = np.diag(confusion_matrix)\n",
        "TN = confusion_matrix.sum() - (FP + FN + TP)\n",
        "\n",
        "# Sensitivity, hit rate, recall, or true positive rate\n",
        "TPR = TP/(TP+FN)\n",
        "# Specificity or true negative rate\n",
        "TNR = TN/(TN+FP) \n",
        "# Overall accuracy\n",
        "ACC = (TP+TN)/(TP+FP+FN+TN)\n",
        "\n",
        "print(TP)\n",
        "print(TN)\n",
        "print(FP)\n",
        "print(FN)\n",
        "print('--------')\n",
        "print(ACC)\n",
        "print(TPR)\n",
        "print(TNR)\n",
        "print('--------')\n",
        "\n",
        "TP = sum(TP)\n",
        "TN = sum(TN)\n",
        "FP = sum(FP)\n",
        "FN = sum(FN)\n",
        "\n",
        "# Sensitivity, hit rate, recall, or true positive rate\n",
        "TPR = TP/(TP+FN)\n",
        "# Specificity or true negative rate\n",
        "TNR = TN/(TN+FP) \n",
        "# Overall accuracy\n",
        "ACC = (TP+TN)/(TP+FP+FN+TN)\n",
        "\n",
        "print(TP)\n",
        "print(TN)\n",
        "print(FP)\n",
        "print(FN)\n",
        "print('--------')\n",
        "print(ACC)\n",
        "print(TPR)\n",
        "print(TNR)"
      ],
      "metadata": {
        "id": "z9NBaYvZ61d7",
        "colab": {
          "base_uri": "https://localhost:8080/",
          "height": 595
        },
        "outputId": "ffaef0d4-9e94-45be-ab2b-0d39de6f1731"
      },
      "execution_count": 13,
      "outputs": [
        {
          "output_type": "display_data",
          "data": {
            "text/plain": [
              "<Figure size 432x288 with 2 Axes>"
            ],
            "image/png": "[encoded data removed]"
          },
          "metadata": {
            "needs_background": "light"
          }
        },
        {
          "output_type": "stream",
          "name": "stdout",
          "text": [
            "--------\n",
            "[ 3  6  9 35]\n",
            "[68 70 55 36]\n",
            "[10  5  8 12]\n",
            "[ 7  7 16  5]\n",
            "--------\n",
            "[0.80681818 0.86363636 0.72727273 0.80681818]\n",
            "[0.3        0.46153846 0.36       0.875     ]\n",
            "[0.87179487 0.93333333 0.87301587 0.75      ]\n",
            "--------\n",
            "53\n",
            "229\n",
            "35\n",
            "35\n",
            "--------\n",
            "0.8011363636363636\n",
            "0.6022727272727273\n",
            "0.8674242424242424\n"
          ]
        }
      ]
    },
    {
      "cell_type": "markdown",
      "source": [
        "**Testing** Network"
      ],
      "metadata": {
        "id": "saJYjKqX9tRL"
      }
    },
    {
      "cell_type": "code",
      "source": [
        "import matplotlib.pyplot as plt\n",
        "from sklearn.datasets import make_classification\n",
        "from numpy import mean\n",
        "from sklearn.metrics import confusion_matrix, ConfusionMatrixDisplay, accuracy_score, classification_report, recall_score\n",
        "\n",
        "test = model.predict(np_image_list_test)\n",
        "\n",
        "predicted_labels = []\n",
        "correct_labels = []\n",
        "for i in range (len(test)):\n",
        "  predicted_labels.append(np.argmax(test[i]))\n",
        "\n",
        "for i in range (len(image_labels_test)):\n",
        "  correct_labels.append(np.argmax(image_labels_test[i]))\n",
        "\n",
        "\n",
        "confusion_matrix = confusion_matrix(correct_labels, predicted_labels)\n",
        "disp = ConfusionMatrixDisplay(confusion_matrix=confusion_matrix)  \n",
        "disp.plot()\n",
        "plt.show()\n",
        "print('--------')\n",
        "FP = confusion_matrix.sum(axis=0) - np.diag(confusion_matrix)  \n",
        "FN = confusion_matrix.sum(axis=1) - np.diag(confusion_matrix)\n",
        "TP = np.diag(confusion_matrix)\n",
        "TN = confusion_matrix.sum() - (FP + FN + TP)\n",
        "\n",
        "# Sensitivity, hit rate, recall, or true positive rate\n",
        "TPR = TP/(TP+FN)\n",
        "# Specificity or true negative rate\n",
        "TNR = TN/(TN+FP) \n",
        "# Overall accuracy\n",
        "ACC = (TP+TN)/(TP+FP+FN+TN)\n",
        "\n",
        "print(TP)\n",
        "print(TN)\n",
        "print(FP)\n",
        "print(FN)\n",
        "print('--------')\n",
        "print(ACC)\n",
        "print(TPR)\n",
        "print(TNR)\n",
        "print('--------')\n",
        "\n",
        "TP = sum(TP)\n",
        "TN = sum(TN)\n",
        "FP = sum(FP)\n",
        "FN = sum(FN)\n",
        "\n",
        "# Sensitivity, hit rate, recall, or true positive rate\n",
        "TPR = TP/(TP+FN)\n",
        "# Specificity or true negative rate\n",
        "TNR = TN/(TN+FP) \n",
        "# Overall accuracy\n",
        "ACC = (TP+TN)/(TP+FP+FN+TN)\n",
        "\n",
        "print(TP)\n",
        "print(TN)\n",
        "print(FP)\n",
        "print(FN)\n",
        "print('--------')\n",
        "print(ACC)\n",
        "print(TPR)\n",
        "print(TNR)"
      ],
      "metadata": {
        "id": "3a1AYdsF4FoY",
        "colab": {
          "base_uri": "https://localhost:8080/",
          "height": 591
        },
        "outputId": "9d6fcbdb-f689-434f-b5f2-ff89aca74217"
      },
      "execution_count": 14,
      "outputs": [
        {
          "output_type": "display_data",
          "data": {
            "text/plain": [
              "<Figure size 432x288 with 2 Axes>"
            ],
            "image/png": "[encoded data removed]"
          },
          "metadata": {
            "needs_background": "light"
          }
        },
        {
          "output_type": "stream",
          "name": "stdout",
          "text": [
            "--------\n",
            "[ 4  7 10 39]\n",
            "[82 84 70 44]\n",
            "[16 10  8 16]\n",
            "[ 8  9 22 11]\n",
            "--------\n",
            "[0.78181818 0.82727273 0.72727273 0.75454545]\n",
            "[0.33333333 0.4375     0.3125     0.78      ]\n",
            "[0.83673469 0.89361702 0.8974359  0.73333333]\n",
            "--------\n",
            "60\n",
            "280\n",
            "50\n",
            "50\n",
            "--------\n",
            "0.7727272727272727\n",
            "0.5454545454545454\n",
            "0.8484848484848485\n"
          ]
        }
      ]
    },
    {
      "cell_type": "code",
      "metadata": {
        "id": "AKd6Tu7mzmg2"
      },
      "source": [
        "# save the model to disk\n",
        "#print(\"[INFO] Saving model...\")\n",
        "# pickle.dump(model,open('cnn_model.pkl', 'wb'))\n",
        "#model.save('/content/vgg16.h5')    "
      ],
      "execution_count": 15,
      "outputs": []
    },
    {
      "cell_type": "code",
      "metadata": {
        "id": "O6iIKa7Jzmg7"
      },
      "source": [
        "#test_img = cv2.imread('/content/datasets/Apple/Apple___Black_rot/0139bc6d-391c-4fd1-bcae-cc74dabfddd7___JR_FrgE.S 2734.JPG')\n",
        "\n",
        "#plt.imshow(test_img)\n",
        "#test_img = test_img / 255\n",
        "#test_img = np.expand_dims(test_img, axis=0)\n",
        "#pr=model.predict(test_img)\n",
        "\n",
        "#print(pr)\n",
        "#output = label_binarizer.inverse_transform(pr)\n",
        "#print(output)\n"
      ],
      "execution_count": 16,
      "outputs": []
    }
  ]
}