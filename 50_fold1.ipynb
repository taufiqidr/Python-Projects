{
  "nbformat": 4,
  "nbformat_minor": 0,
  "metadata": {
    "accelerator": "GPU",
    "colab": {
      "name": "Kodingan Skripsi 3",
      "provenance": [],
      "collapsed_sections": [],
      "include_colab_link": true
    },
    "kernelspec": {
      "display_name": "Python 3",
      "language": "python",
      "name": "python3"
    },
    "language_info": {
      "codemirror_mode": {
        "name": "ipython",
        "version": 3
      },
      "file_extension": ".py",
      "mimetype": "text/x-python",
      "name": "python",
      "nbconvert_exporter": "python",
      "pygments_lexer": "ipython3",
      "version": "3.6.6"
    }
  },
  "cells": [
    {
      "cell_type": "markdown",
      "metadata": {
        "id": "view-in-github",
        "colab_type": "text"
      },
      "source": [
        "<a href=\"https://colab.research.google.com/github/TaufiqIdrus/Python-Projects/blob/master/50_fold1.ipynb\" target=\"_parent\"><img src=\"https://colab.research.google.com/assets/colab-badge.svg\" alt=\"Open In Colab\"/></a>"
      ]
    },
    {
      "cell_type": "markdown",
      "metadata": {
        "id": "yJT_kQA2lITS"
      },
      "source": [
        "**Identifikasi Penyakit Pada Tanaman Apel menggunakan Convolutional Neural Network**"
      ]
    },
    {
      "cell_type": "code",
      "metadata": {
        "id": "xXeOaYTUzmgT"
      },
      "source": [
        "import numpy as np\n",
        "import pickle\n",
        "import os\n",
        "import cv2\n",
        "import tensorflow as tf\n",
        "import keras\n",
        "from os import listdir\n",
        "from sklearn.preprocessing import LabelBinarizer\n",
        "from keras.models import Sequential\n",
        "from keras.layers.convolutional import Conv2D\n",
        "from keras.layers.convolutional import MaxPooling2D\n",
        "from keras.layers.core import Activation, Flatten, Dropout, Dense\n",
        "from keras import backend as K\n",
        "from tensorflow.keras.optimizers import Adam\n",
        "from keras.preprocessing import image\n",
        "import matplotlib.pyplot as plt\n",
        "from sklearn.datasets import make_classification\n",
        "from numpy import mean\n"
      ],
      "execution_count": 1,
      "outputs": []
    },
    {
      "cell_type": "markdown",
      "metadata": {
        "id": "fp8C0d28lQok"
      },
      "source": [
        "Importing and Preparing Dataset"
      ]
    },
    {
      "cell_type": "code",
      "metadata": {
        "id": "_0xehllADlUs",
        "colab": {
          "base_uri": "https://localhost:8080/"
        },
        "outputId": "f1d1c768-3eb4-4054-b3b3-64fb4187a3e7"
      },
      "source": [
        "!pip install pyunpack\n",
        "!pip install patool\n",
        "from pyunpack import Archive\n",
        "Archive('/content/fold1.rar').extractall('/content/Datasets/')\n",
        "iterasi = 1\n",
        "width=60\n",
        "height=60\n",
        "default_image_size = tuple((height, width))\n",
        "directory_root_train = '/content/Datasets/fold1/Train'\n",
        "directory_root_validation = '/content/Datasets/fold1/Validation'\n",
        "directory_root_test = '/content/Datasets/fold1/Test'\n",
        "image_size = 0\n",
        "depth=3"
      ],
      "execution_count": 2,
      "outputs": [
        {
          "output_type": "stream",
          "name": "stdout",
          "text": [
            "Looking in indexes: https://pypi.org/simple, https://us-python.pkg.dev/colab-wheels/public/simple/\n",
            "Collecting pyunpack\n",
            "  Downloading pyunpack-0.3-py2.py3-none-any.whl (4.1 kB)\n",
            "Collecting entrypoint2\n",
            "  Downloading entrypoint2-1.1-py2.py3-none-any.whl (9.9 kB)\n",
            "Collecting easyprocess\n",
            "  Downloading EasyProcess-1.1-py3-none-any.whl (8.7 kB)\n",
            "Installing collected packages: entrypoint2, easyprocess, pyunpack\n",
            "Successfully installed easyprocess-1.1 entrypoint2-1.1 pyunpack-0.3\n",
            "Looking in indexes: https://pypi.org/simple, https://us-python.pkg.dev/colab-wheels/public/simple/\n",
            "Collecting patool\n",
            "  Downloading patool-1.12-py2.py3-none-any.whl (77 kB)\n",
            "\u001b[K     |████████████████████████████████| 77 kB 4.1 MB/s \n",
            "\u001b[?25hInstalling collected packages: patool\n",
            "Successfully installed patool-1.12\n"
          ]
        }
      ]
    },
    {
      "cell_type": "code",
      "metadata": {
        "id": "KbAwJJTpzmge"
      },
      "source": [
        "def convert_image_to_array(image_dir):\n",
        "    try:\n",
        "        image = cv2.imread(image_dir)\n",
        "        if image is not None :\n",
        "            image = cv2.resize(image, default_image_size)   \n",
        "            return keras.preprocessing.image.img_to_array(image)\n",
        "        else :\n",
        "            return np.array([])\n",
        "    except Exception as e:\n",
        "        print(f\"Error : {e}\")\n",
        "        return None"
      ],
      "execution_count": 3,
      "outputs": []
    },
    {
      "cell_type": "markdown",
      "source": [
        "Converting **Training** Data to Array"
      ],
      "metadata": {
        "id": "bgXxUMO2cI_D"
      }
    },
    {
      "cell_type": "code",
      "metadata": {
        "id": "Erz6IjKXzmgg",
        "colab": {
          "base_uri": "https://localhost:8080/"
        },
        "outputId": "dec41d15-8d99-48e4-c045-492a3d3f8453"
      },
      "source": [
        "image_list_train, label_list_train = [], []\n",
        "try:\n",
        "    print(\"[INFO] Loading images ...\")\n",
        "    root_dir = listdir(directory_root_train)\n",
        "\n",
        "    for plant_disease_folder in root_dir:\n",
        "        print(f\"[INFO] Processing {plant_disease_folder} ...\")\n",
        "        plant_disease_image_list = listdir(f\"{directory_root_train}/{plant_disease_folder}/\")\n",
        "      \n",
        "        for image in plant_disease_image_list:\n",
        "            image_directory = f\"{directory_root_train}/{plant_disease_folder}/{image}\"\n",
        "\n",
        "            if image_directory.endswith(\".jpg\") == True or image_directory.endswith(\".JPG\") == True:\n",
        "                image_list_train.append(convert_image_to_array(image_directory))\n",
        "                label_list_train.append(plant_disease_folder)\n",
        "    print(\"[INFO] Image loading completed\")\n",
        "\n",
        "except Exception as e:\n",
        "    print(f\"Error : {e}\")\n",
        "\n",
        "#image labeling\n",
        "image_size = len(image_list_train)\n",
        "label_binarizer = LabelBinarizer()\n",
        "image_labels_train = label_binarizer.fit_transform(label_list_train)\n",
        "pickle.dump(label_binarizer,open('label_transform_train.pkl', 'wb'))\n",
        "n_classes = len(label_binarizer.classes_)\n",
        "np_image_list_train = np.array(image_list_train, dtype=np.float16) / 255.0"
      ],
      "execution_count": 4,
      "outputs": [
        {
          "output_type": "stream",
          "name": "stdout",
          "text": [
            "[INFO] Loading images ...\n",
            "[INFO] Processing apel_sehat ...\n",
            "[INFO] Processing apel_bercak_daun ...\n",
            "[INFO] Processing apel_cacar_daun ...\n",
            "[INFO] Processing apel_busuk_buah ...\n",
            "[INFO] Image loading completed\n"
          ]
        }
      ]
    },
    {
      "cell_type": "markdown",
      "source": [
        "Converting **Validation** Data to Array"
      ],
      "metadata": {
        "id": "7eEMGiqRd_E4"
      }
    },
    {
      "cell_type": "code",
      "source": [
        "image_list_validation, label_list_validation = [], []\n",
        "try:\n",
        "    print(\"[INFO] Loading images ...\")\n",
        "    root_dir = listdir(directory_root_validation)\n",
        "\n",
        "    for plant_disease_folder in root_dir:\n",
        "        print(f\"[INFO] Processing {plant_disease_folder} ...\")\n",
        "        plant_disease_image_list = listdir(f\"{directory_root_validation}/{plant_disease_folder}/\")\n",
        "      \n",
        "        for image in plant_disease_image_list:\n",
        "            image_directory = f\"{directory_root_validation}/{plant_disease_folder}/{image}\"\n",
        "\n",
        "            if image_directory.endswith(\".jpg\") == True or image_directory.endswith(\".JPG\") == True:\n",
        "                image_list_validation.append(convert_image_to_array(image_directory))\n",
        "                label_list_validation.append(plant_disease_folder)\n",
        "    print(\"[INFO] Image loading completed\")\n",
        "\n",
        "except Exception as e:\n",
        "    print(f\"Error : {e}\")\n",
        "\n",
        "#image labeling\n",
        "image_size = len(image_list_validation)\n",
        "label_binarizer = LabelBinarizer()\n",
        "image_labels_validation = label_binarizer.fit_transform(label_list_validation)\n",
        "pickle.dump(label_binarizer,open('label_transform_validation.pkl', 'wb'))\n",
        "n_classes = len(label_binarizer.classes_)\n",
        "np_image_list_validation = np.array(image_list_validation, dtype=np.float16) / 255.0"
      ],
      "metadata": {
        "id": "wfHDdR0ZeEuU",
        "colab": {
          "base_uri": "https://localhost:8080/"
        },
        "outputId": "840c28ae-603f-4e8f-b629-ab2aa5d3d1a9"
      },
      "execution_count": 5,
      "outputs": [
        {
          "output_type": "stream",
          "name": "stdout",
          "text": [
            "[INFO] Loading images ...\n",
            "[INFO] Processing apel_sehat ...\n",
            "[INFO] Processing apel_bercak_daun ...\n",
            "[INFO] Processing apel_cacar_daun ...\n",
            "[INFO] Processing apel_busuk_buah ...\n",
            "[INFO] Image loading completed\n"
          ]
        }
      ]
    },
    {
      "cell_type": "markdown",
      "source": [
        "Converting **Testing** Data to Array"
      ],
      "metadata": {
        "id": "brwWyZVncTdg"
      }
    },
    {
      "cell_type": "code",
      "metadata": {
        "id": "uNPby5UMcaWY",
        "colab": {
          "base_uri": "https://localhost:8080/"
        },
        "outputId": "8f8705dd-a633-43d1-f0ef-dfb1ab25df23"
      },
      "source": [
        "image_list_test, label_list_test = [], []\n",
        "try:\n",
        "    print(\"[INFO] Loading images ...\")\n",
        "    root_dir = listdir(directory_root_test)\n",
        "\n",
        "    for plant_disease_folder in root_dir:\n",
        "        print(f\"[INFO] Processing {plant_disease_folder} ...\")\n",
        "        plant_disease_image_list = listdir(f\"{directory_root_test}/{plant_disease_folder}/\")\n",
        "      \n",
        "        for image in plant_disease_image_list:\n",
        "            image_directory = f\"{directory_root_test}/{plant_disease_folder}/{image}\"\n",
        "\n",
        "            if image_directory.endswith(\".jpg\") == True or image_directory.endswith(\".JPG\") == True:\n",
        "                image_list_test.append(convert_image_to_array(image_directory))\n",
        "                label_list_test.append(plant_disease_folder)\n",
        "    print(\"[INFO] Image loading completed\")\n",
        "\n",
        "except Exception as e:\n",
        "    print(f\"Error : {e}\")\n",
        "\n",
        "#image labeling\n",
        "image_size = len(image_list_test)\n",
        "label_binarizer = LabelBinarizer()\n",
        "image_labels_test = label_binarizer.fit_transform(label_list_test)\n",
        "pickle.dump(label_binarizer,open('label_transform_test.pkl', 'wb'))\n",
        "n_classes = len(label_binarizer.classes_)\n",
        "np_image_list_test = np.array(image_list_test, dtype=np.float16) / 255.0"
      ],
      "execution_count": 6,
      "outputs": [
        {
          "output_type": "stream",
          "name": "stdout",
          "text": [
            "[INFO] Loading images ...\n",
            "[INFO] Processing apel_sehat ...\n",
            "[INFO] Processing apel_bercak_daun ...\n",
            "[INFO] Processing apel_cacar_daun ...\n",
            "[INFO] Processing apel_busuk_buah ...\n",
            "[INFO] Image loading completed\n"
          ]
        }
      ]
    },
    {
      "cell_type": "markdown",
      "metadata": {
        "id": "jYBTFN0CnAi7"
      },
      "source": [
        "Data Augmenting Initialization"
      ]
    },
    {
      "cell_type": "code",
      "metadata": {
        "id": "TLMxMK2Tzmgr"
      },
      "source": [
        "aug = keras.preprocessing.image.ImageDataGenerator(\n",
        "    rotation_range=25, \n",
        "    width_shift_range=0.1,\n",
        "    height_shift_range=0.1, \n",
        "    shear_range=0.2, \n",
        "    zoom_range=0.2,\n",
        "    horizontal_flip=True, \n",
        "    fill_mode=\"nearest\")"
      ],
      "execution_count": 7,
      "outputs": []
    },
    {
      "cell_type": "markdown",
      "metadata": {
        "id": "H1BfRyYNnGv_"
      },
      "source": [
        "Creating CNN Model"
      ]
    },
    {
      "cell_type": "code",
      "metadata": {
        "id": "WmLX4wm8zmgs"
      },
      "source": [
        "model = keras.models.Sequential()\n",
        "inputShape = (height, width, depth)\n",
        "\n",
        "model.add(Conv2D(20, (5, 5), padding=\"same\",input_shape=inputShape))\n",
        "model.add(Activation(\"relu\"))\n",
        "\n",
        "model.add(MaxPooling2D(pool_size=(2, 2), strides=2))\n",
        "\n",
        "model.add(Conv2D(50, (5, 5), padding=\"same\"))\n",
        "model.add(Activation(\"relu\"))\n",
        "\n",
        "model.add(MaxPooling2D(pool_size=(2, 2),strides=2))\n",
        "\n",
        "model.add(Flatten())\n",
        "\n",
        "model.add(Dense(500))\n",
        "model.add(Activation(\"relu\"))\n",
        "\n",
        "model.add(Dense(4))\n",
        "model.add(Activation(\"softmax\"))"
      ],
      "execution_count": 8,
      "outputs": []
    },
    {
      "cell_type": "code",
      "source": [
        "#model.summary()"
      ],
      "metadata": {
        "id": "RQIgaph8hW06"
      },
      "execution_count": 9,
      "outputs": []
    },
    {
      "cell_type": "code",
      "source": [
        "#from PIL import Image\n",
        "#from keras.utils.vis_utils import plot_model\n",
        "#plot_model(model, to_file='cnn_model.png', show_shapes=True, show_layer_names=True)\n",
        "#display(Image.open('cnn_model.png'))"
      ],
      "metadata": {
        "id": "T05gPuu1GudW"
      },
      "execution_count": 10,
      "outputs": []
    },
    {
      "cell_type": "markdown",
      "metadata": {
        "id": "Zfsu3lVfnXFG"
      },
      "source": [
        "**Training** Network"
      ]
    },
    {
      "cell_type": "code",
      "metadata": {
        "id": "rvwKwe3Lzmgv",
        "colab": {
          "base_uri": "https://localhost:8080/"
        },
        "outputId": "50e70045-e78a-4883-f361-0f837b43a62c"
      },
      "source": [
        "EPOCHS = 200\n",
        "INIT_LR = 1e-3\n",
        "BS = 8\n",
        "\n",
        "with tf.device('/GPU:0'):\n",
        "  opt = Adam(learning_rate=INIT_LR, decay=INIT_LR / EPOCHS)\n",
        "  model.compile(loss=\"categorical_crossentropy\", optimizer=opt,metrics=[\"Accuracy\", \"FalseNegatives\", \"FalsePositives\", \"TrueNegatives\", \"TruePositives\"])\n",
        "  \n",
        "  history = model.fit(\n",
        "      aug.flow(np_image_list_train, image_labels_train, batch_size=BS),\n",
        "      validation_data=(np_image_list_validation, image_labels_validation),\n",
        "      steps_per_epoch=len(np_image_list_train) // BS,\n",
        "      epochs=EPOCHS, \n",
        "      verbose=1,\n",
        "      )\n"
      ],
      "execution_count": 11,
      "outputs": [
        {
          "output_type": "stream",
          "name": "stdout",
          "text": [
            "Epoch 1/200\n",
            "44/44 [==============================] - 18s 60ms/step - loss: 1.3016 - Accuracy: 0.4052 - false_negatives: 322.0000 - false_positives: 23.0000 - true_negatives: 1021.0000 - true_positives: 26.0000 - val_loss: 1.2222 - val_Accuracy: 0.4545 - val_false_negatives: 53.0000 - val_false_positives: 27.0000 - val_true_negatives: 237.0000 - val_true_positives: 35.0000\n",
            "Epoch 2/200\n",
            "44/44 [==============================] - 1s 14ms/step - loss: 1.1752 - Accuracy: 0.5029 - false_negatives: 265.0000 - false_positives: 42.0000 - true_negatives: 1002.0000 - true_positives: 83.0000 - val_loss: 1.3521 - val_Accuracy: 0.4545 - val_false_negatives: 48.0000 - val_false_positives: 43.0000 - val_true_negatives: 221.0000 - val_true_positives: 40.0000\n",
            "Epoch 3/200\n",
            "44/44 [==============================] - 1s 14ms/step - loss: 1.0769 - Accuracy: 0.5747 - false_negatives: 235.0000 - false_positives: 48.0000 - true_negatives: 996.0000 - true_positives: 113.0000 - val_loss: 1.2704 - val_Accuracy: 0.4773 - val_false_negatives: 49.0000 - val_false_positives: 30.0000 - val_true_negatives: 234.0000 - val_true_positives: 39.0000\n",
            "Epoch 4/200\n",
            "44/44 [==============================] - 1s 14ms/step - loss: 1.0058 - Accuracy: 0.6293 - false_negatives: 211.0000 - false_positives: 55.0000 - true_negatives: 989.0000 - true_positives: 137.0000 - val_loss: 1.2604 - val_Accuracy: 0.5000 - val_false_negatives: 51.0000 - val_false_positives: 38.0000 - val_true_negatives: 226.0000 - val_true_positives: 37.0000\n",
            "Epoch 5/200\n",
            "44/44 [==============================] - 1s 14ms/step - loss: 0.9856 - Accuracy: 0.6149 - false_negatives: 199.0000 - false_positives: 52.0000 - true_negatives: 992.0000 - true_positives: 149.0000 - val_loss: 1.2648 - val_Accuracy: 0.4773 - val_false_negatives: 61.0000 - val_false_positives: 32.0000 - val_true_negatives: 232.0000 - val_true_positives: 27.0000\n",
            "Epoch 6/200\n",
            "44/44 [==============================] - 1s 13ms/step - loss: 0.8885 - Accuracy: 0.6638 - false_negatives: 156.0000 - false_positives: 64.0000 - true_negatives: 980.0000 - true_positives: 192.0000 - val_loss: 1.4438 - val_Accuracy: 0.5000 - val_false_negatives: 50.0000 - val_false_positives: 38.0000 - val_true_negatives: 226.0000 - val_true_positives: 38.0000\n",
            "Epoch 7/200\n",
            "44/44 [==============================] - 1s 14ms/step - loss: 0.8984 - Accuracy: 0.6552 - false_negatives: 157.0000 - false_positives: 77.0000 - true_negatives: 967.0000 - true_positives: 191.0000 - val_loss: 1.4500 - val_Accuracy: 0.4659 - val_false_negatives: 49.0000 - val_false_positives: 29.0000 - val_true_negatives: 235.0000 - val_true_positives: 39.0000\n",
            "Epoch 8/200\n",
            "44/44 [==============================] - 1s 15ms/step - loss: 0.9086 - Accuracy: 0.6552 - false_negatives: 179.0000 - false_positives: 64.0000 - true_negatives: 980.0000 - true_positives: 169.0000 - val_loss: 1.2278 - val_Accuracy: 0.4545 - val_false_negatives: 75.0000 - val_false_positives: 10.0000 - val_true_negatives: 254.0000 - val_true_positives: 13.0000\n",
            "Epoch 9/200\n",
            "44/44 [==============================] - 1s 14ms/step - loss: 0.9026 - Accuracy: 0.6580 - false_negatives: 170.0000 - false_positives: 56.0000 - true_negatives: 988.0000 - true_positives: 178.0000 - val_loss: 1.3117 - val_Accuracy: 0.4659 - val_false_negatives: 63.0000 - val_false_positives: 28.0000 - val_true_negatives: 236.0000 - val_true_positives: 25.0000\n",
            "Epoch 10/200\n",
            "44/44 [==============================] - 1s 13ms/step - loss: 0.9353 - Accuracy: 0.6466 - false_negatives: 175.0000 - false_positives: 65.0000 - true_negatives: 979.0000 - true_positives: 173.0000 - val_loss: 1.5037 - val_Accuracy: 0.4886 - val_false_negatives: 51.0000 - val_false_positives: 30.0000 - val_true_negatives: 234.0000 - val_true_positives: 37.0000\n",
            "Epoch 11/200\n",
            "44/44 [==============================] - 1s 14ms/step - loss: 0.8684 - Accuracy: 0.6753 - false_negatives: 149.0000 - false_positives: 73.0000 - true_negatives: 971.0000 - true_positives: 199.0000 - val_loss: 1.6431 - val_Accuracy: 0.4545 - val_false_negatives: 49.0000 - val_false_positives: 37.0000 - val_true_negatives: 227.0000 - val_true_positives: 39.0000\n",
            "Epoch 12/200\n",
            "44/44 [==============================] - 1s 14ms/step - loss: 0.8552 - Accuracy: 0.6695 - false_negatives: 144.0000 - false_positives: 74.0000 - true_negatives: 970.0000 - true_positives: 204.0000 - val_loss: 1.3786 - val_Accuracy: 0.4773 - val_false_negatives: 52.0000 - val_false_positives: 34.0000 - val_true_negatives: 230.0000 - val_true_positives: 36.0000\n",
            "Epoch 13/200\n",
            "44/44 [==============================] - 1s 14ms/step - loss: 0.8802 - Accuracy: 0.6552 - false_negatives: 155.0000 - false_positives: 71.0000 - true_negatives: 973.0000 - true_positives: 193.0000 - val_loss: 1.3870 - val_Accuracy: 0.4886 - val_false_negatives: 52.0000 - val_false_positives: 41.0000 - val_true_negatives: 223.0000 - val_true_positives: 36.0000\n",
            "Epoch 14/200\n",
            "44/44 [==============================] - 1s 14ms/step - loss: 0.8647 - Accuracy: 0.6724 - false_negatives: 161.0000 - false_positives: 67.0000 - true_negatives: 977.0000 - true_positives: 187.0000 - val_loss: 1.3333 - val_Accuracy: 0.5000 - val_false_negatives: 50.0000 - val_false_positives: 36.0000 - val_true_negatives: 228.0000 - val_true_positives: 38.0000\n",
            "Epoch 15/200\n",
            "44/44 [==============================] - 1s 14ms/step - loss: 0.8804 - Accuracy: 0.6523 - false_negatives: 148.0000 - false_positives: 79.0000 - true_negatives: 965.0000 - true_positives: 200.0000 - val_loss: 1.2375 - val_Accuracy: 0.5000 - val_false_negatives: 54.0000 - val_false_positives: 36.0000 - val_true_negatives: 228.0000 - val_true_positives: 34.0000\n",
            "Epoch 16/200\n",
            "44/44 [==============================] - 1s 15ms/step - loss: 0.8731 - Accuracy: 0.6379 - false_negatives: 163.0000 - false_positives: 72.0000 - true_negatives: 972.0000 - true_positives: 185.0000 - val_loss: 1.3163 - val_Accuracy: 0.4886 - val_false_negatives: 53.0000 - val_false_positives: 31.0000 - val_true_negatives: 233.0000 - val_true_positives: 35.0000\n",
            "Epoch 17/200\n",
            "44/44 [==============================] - 1s 13ms/step - loss: 0.8032 - Accuracy: 0.6782 - false_negatives: 128.0000 - false_positives: 86.0000 - true_negatives: 958.0000 - true_positives: 220.0000 - val_loss: 1.3328 - val_Accuracy: 0.5000 - val_false_negatives: 50.0000 - val_false_positives: 38.0000 - val_true_negatives: 226.0000 - val_true_positives: 38.0000\n",
            "Epoch 18/200\n",
            "44/44 [==============================] - 1s 14ms/step - loss: 0.7827 - Accuracy: 0.6925 - false_negatives: 134.0000 - false_positives: 64.0000 - true_negatives: 980.0000 - true_positives: 214.0000 - val_loss: 1.6220 - val_Accuracy: 0.4659 - val_false_negatives: 49.0000 - val_false_positives: 38.0000 - val_true_negatives: 226.0000 - val_true_positives: 39.0000\n",
            "Epoch 19/200\n",
            "44/44 [==============================] - 1s 14ms/step - loss: 0.7936 - Accuracy: 0.6868 - false_negatives: 127.0000 - false_positives: 78.0000 - true_negatives: 966.0000 - true_positives: 221.0000 - val_loss: 1.3198 - val_Accuracy: 0.4773 - val_false_negatives: 57.0000 - val_false_positives: 31.0000 - val_true_negatives: 233.0000 - val_true_positives: 31.0000\n",
            "Epoch 20/200\n",
            "44/44 [==============================] - 1s 14ms/step - loss: 0.8248 - Accuracy: 0.6724 - false_negatives: 131.0000 - false_positives: 76.0000 - true_negatives: 968.0000 - true_positives: 217.0000 - val_loss: 1.3325 - val_Accuracy: 0.4773 - val_false_negatives: 50.0000 - val_false_positives: 34.0000 - val_true_negatives: 230.0000 - val_true_positives: 38.0000\n",
            "Epoch 21/200\n",
            "44/44 [==============================] - 1s 14ms/step - loss: 0.7631 - Accuracy: 0.7098 - false_negatives: 126.0000 - false_positives: 73.0000 - true_negatives: 971.0000 - true_positives: 222.0000 - val_loss: 1.3170 - val_Accuracy: 0.5227 - val_false_negatives: 50.0000 - val_false_positives: 37.0000 - val_true_negatives: 227.0000 - val_true_positives: 38.0000\n",
            "Epoch 22/200\n",
            "44/44 [==============================] - 1s 14ms/step - loss: 0.6942 - Accuracy: 0.7155 - false_negatives: 117.0000 - false_positives: 66.0000 - true_negatives: 978.0000 - true_positives: 231.0000 - val_loss: 1.2446 - val_Accuracy: 0.5000 - val_false_negatives: 52.0000 - val_false_positives: 34.0000 - val_true_negatives: 230.0000 - val_true_positives: 36.0000\n",
            "Epoch 23/200\n",
            "44/44 [==============================] - 1s 14ms/step - loss: 0.8263 - Accuracy: 0.6868 - false_negatives: 139.0000 - false_positives: 66.0000 - true_negatives: 978.0000 - true_positives: 209.0000 - val_loss: 1.2346 - val_Accuracy: 0.5227 - val_false_negatives: 51.0000 - val_false_positives: 36.0000 - val_true_negatives: 228.0000 - val_true_positives: 37.0000\n",
            "Epoch 24/200\n",
            "44/44 [==============================] - 1s 14ms/step - loss: 0.7476 - Accuracy: 0.7241 - false_negatives: 117.0000 - false_positives: 75.0000 - true_negatives: 969.0000 - true_positives: 231.0000 - val_loss: 1.3771 - val_Accuracy: 0.4886 - val_false_negatives: 46.0000 - val_false_positives: 43.0000 - val_true_negatives: 221.0000 - val_true_positives: 42.0000\n",
            "Epoch 25/200\n",
            "44/44 [==============================] - 1s 14ms/step - loss: 0.7355 - Accuracy: 0.7385 - false_negatives: 115.0000 - false_positives: 67.0000 - true_negatives: 977.0000 - true_positives: 233.0000 - val_loss: 1.2106 - val_Accuracy: 0.5114 - val_false_negatives: 57.0000 - val_false_positives: 23.0000 - val_true_negatives: 241.0000 - val_true_positives: 31.0000\n",
            "Epoch 26/200\n",
            "44/44 [==============================] - 1s 14ms/step - loss: 0.7211 - Accuracy: 0.7644 - false_negatives: 116.0000 - false_positives: 57.0000 - true_negatives: 987.0000 - true_positives: 232.0000 - val_loss: 1.3189 - val_Accuracy: 0.5455 - val_false_negatives: 48.0000 - val_false_positives: 37.0000 - val_true_negatives: 227.0000 - val_true_positives: 40.0000\n",
            "Epoch 27/200\n",
            "44/44 [==============================] - 1s 14ms/step - loss: 0.7058 - Accuracy: 0.7500 - false_negatives: 115.0000 - false_positives: 64.0000 - true_negatives: 980.0000 - true_positives: 233.0000 - val_loss: 1.4773 - val_Accuracy: 0.5568 - val_false_negatives: 44.0000 - val_false_positives: 32.0000 - val_true_negatives: 232.0000 - val_true_positives: 44.0000\n",
            "Epoch 28/200\n",
            "44/44 [==============================] - 1s 14ms/step - loss: 0.6959 - Accuracy: 0.7443 - false_negatives: 108.0000 - false_positives: 58.0000 - true_negatives: 986.0000 - true_positives: 240.0000 - val_loss: 1.4240 - val_Accuracy: 0.5682 - val_false_negatives: 44.0000 - val_false_positives: 33.0000 - val_true_negatives: 231.0000 - val_true_positives: 44.0000\n",
            "Epoch 29/200\n",
            "44/44 [==============================] - 1s 14ms/step - loss: 0.7190 - Accuracy: 0.7529 - false_negatives: 113.0000 - false_positives: 55.0000 - true_negatives: 989.0000 - true_positives: 235.0000 - val_loss: 1.2615 - val_Accuracy: 0.4773 - val_false_negatives: 56.0000 - val_false_positives: 28.0000 - val_true_negatives: 236.0000 - val_true_positives: 32.0000\n",
            "Epoch 30/200\n",
            "44/44 [==============================] - 1s 14ms/step - loss: 0.7196 - Accuracy: 0.7328 - false_negatives: 106.0000 - false_positives: 73.0000 - true_negatives: 971.0000 - true_positives: 242.0000 - val_loss: 1.3048 - val_Accuracy: 0.5455 - val_false_negatives: 44.0000 - val_false_positives: 35.0000 - val_true_negatives: 229.0000 - val_true_positives: 44.0000\n",
            "Epoch 31/200\n",
            "44/44 [==============================] - 1s 14ms/step - loss: 0.6875 - Accuracy: 0.7615 - false_negatives: 98.0000 - false_positives: 68.0000 - true_negatives: 976.0000 - true_positives: 250.0000 - val_loss: 1.4516 - val_Accuracy: 0.5568 - val_false_negatives: 43.0000 - val_false_positives: 31.0000 - val_true_negatives: 233.0000 - val_true_positives: 45.0000\n",
            "Epoch 32/200\n",
            "44/44 [==============================] - 1s 14ms/step - loss: 0.6674 - Accuracy: 0.7615 - false_negatives: 101.0000 - false_positives: 61.0000 - true_negatives: 983.0000 - true_positives: 247.0000 - val_loss: 1.4730 - val_Accuracy: 0.5568 - val_false_negatives: 47.0000 - val_false_positives: 30.0000 - val_true_negatives: 234.0000 - val_true_positives: 41.0000\n",
            "Epoch 33/200\n",
            "44/44 [==============================] - 1s 14ms/step - loss: 0.6938 - Accuracy: 0.7328 - false_negatives: 112.0000 - false_positives: 67.0000 - true_negatives: 977.0000 - true_positives: 236.0000 - val_loss: 1.2984 - val_Accuracy: 0.5455 - val_false_negatives: 40.0000 - val_false_positives: 37.0000 - val_true_negatives: 227.0000 - val_true_positives: 48.0000\n",
            "Epoch 34/200\n",
            "44/44 [==============================] - 1s 14ms/step - loss: 0.6615 - Accuracy: 0.7358 - false_negatives: 107.0000 - false_positives: 68.0000 - true_negatives: 988.0000 - true_positives: 245.0000 - val_loss: 1.2918 - val_Accuracy: 0.5114 - val_false_negatives: 44.0000 - val_false_positives: 38.0000 - val_true_negatives: 226.0000 - val_true_positives: 44.0000\n",
            "Epoch 35/200\n",
            "44/44 [==============================] - 1s 14ms/step - loss: 0.6732 - Accuracy: 0.7529 - false_negatives: 101.0000 - false_positives: 61.0000 - true_negatives: 983.0000 - true_positives: 247.0000 - val_loss: 1.4624 - val_Accuracy: 0.5455 - val_false_negatives: 48.0000 - val_false_positives: 33.0000 - val_true_negatives: 231.0000 - val_true_positives: 40.0000\n",
            "Epoch 36/200\n",
            "44/44 [==============================] - 1s 14ms/step - loss: 0.6347 - Accuracy: 0.7672 - false_negatives: 91.0000 - false_positives: 60.0000 - true_negatives: 984.0000 - true_positives: 257.0000 - val_loss: 1.2488 - val_Accuracy: 0.5568 - val_false_negatives: 48.0000 - val_false_positives: 33.0000 - val_true_negatives: 231.0000 - val_true_positives: 40.0000\n",
            "Epoch 37/200\n",
            "44/44 [==============================] - 1s 14ms/step - loss: 0.6843 - Accuracy: 0.7414 - false_negatives: 101.0000 - false_positives: 64.0000 - true_negatives: 980.0000 - true_positives: 247.0000 - val_loss: 1.2319 - val_Accuracy: 0.4886 - val_false_negatives: 51.0000 - val_false_positives: 36.0000 - val_true_negatives: 228.0000 - val_true_positives: 37.0000\n",
            "Epoch 38/200\n",
            "44/44 [==============================] - 1s 14ms/step - loss: 0.6835 - Accuracy: 0.7644 - false_negatives: 109.0000 - false_positives: 65.0000 - true_negatives: 979.0000 - true_positives: 239.0000 - val_loss: 1.2874 - val_Accuracy: 0.5568 - val_false_negatives: 41.0000 - val_false_positives: 37.0000 - val_true_negatives: 227.0000 - val_true_positives: 47.0000\n",
            "Epoch 39/200\n",
            "44/44 [==============================] - 1s 14ms/step - loss: 0.6774 - Accuracy: 0.7557 - false_negatives: 100.0000 - false_positives: 69.0000 - true_negatives: 975.0000 - true_positives: 248.0000 - val_loss: 1.3888 - val_Accuracy: 0.5682 - val_false_negatives: 40.0000 - val_false_positives: 33.0000 - val_true_negatives: 231.0000 - val_true_positives: 48.0000\n",
            "Epoch 40/200\n",
            "44/44 [==============================] - 1s 14ms/step - loss: 0.6424 - Accuracy: 0.7816 - false_negatives: 98.0000 - false_positives: 56.0000 - true_negatives: 988.0000 - true_positives: 250.0000 - val_loss: 1.4733 - val_Accuracy: 0.5568 - val_false_negatives: 44.0000 - val_false_positives: 34.0000 - val_true_negatives: 230.0000 - val_true_positives: 44.0000\n",
            "Epoch 41/200\n",
            "44/44 [==============================] - 1s 14ms/step - loss: 0.6613 - Accuracy: 0.7759 - false_negatives: 93.0000 - false_positives: 61.0000 - true_negatives: 983.0000 - true_positives: 255.0000 - val_loss: 1.3264 - val_Accuracy: 0.5682 - val_false_negatives: 48.0000 - val_false_positives: 33.0000 - val_true_negatives: 231.0000 - val_true_positives: 40.0000\n",
            "Epoch 42/200\n",
            "44/44 [==============================] - 1s 14ms/step - loss: 0.6531 - Accuracy: 0.7787 - false_negatives: 100.0000 - false_positives: 66.0000 - true_negatives: 978.0000 - true_positives: 248.0000 - val_loss: 1.2184 - val_Accuracy: 0.5455 - val_false_negatives: 44.0000 - val_false_positives: 36.0000 - val_true_negatives: 228.0000 - val_true_positives: 44.0000\n",
            "Epoch 43/200\n",
            "44/44 [==============================] - 1s 15ms/step - loss: 0.6658 - Accuracy: 0.7874 - false_negatives: 98.0000 - false_positives: 58.0000 - true_negatives: 986.0000 - true_positives: 250.0000 - val_loss: 1.1740 - val_Accuracy: 0.5341 - val_false_negatives: 43.0000 - val_false_positives: 34.0000 - val_true_negatives: 230.0000 - val_true_positives: 45.0000\n",
            "Epoch 44/200\n",
            "44/44 [==============================] - 1s 14ms/step - loss: 0.6395 - Accuracy: 0.7586 - false_negatives: 106.0000 - false_positives: 61.0000 - true_negatives: 983.0000 - true_positives: 242.0000 - val_loss: 1.3383 - val_Accuracy: 0.5568 - val_false_negatives: 51.0000 - val_false_positives: 26.0000 - val_true_negatives: 238.0000 - val_true_positives: 37.0000\n",
            "Epoch 45/200\n",
            "44/44 [==============================] - 1s 14ms/step - loss: 0.6249 - Accuracy: 0.7787 - false_negatives: 103.0000 - false_positives: 60.0000 - true_negatives: 984.0000 - true_positives: 245.0000 - val_loss: 1.2244 - val_Accuracy: 0.5455 - val_false_negatives: 46.0000 - val_false_positives: 32.0000 - val_true_negatives: 232.0000 - val_true_positives: 42.0000\n",
            "Epoch 46/200\n",
            "44/44 [==============================] - 1s 14ms/step - loss: 0.6270 - Accuracy: 0.7701 - false_negatives: 94.0000 - false_positives: 58.0000 - true_negatives: 986.0000 - true_positives: 254.0000 - val_loss: 1.2860 - val_Accuracy: 0.5341 - val_false_negatives: 45.0000 - val_false_positives: 34.0000 - val_true_negatives: 230.0000 - val_true_positives: 43.0000\n",
            "Epoch 47/200\n",
            "44/44 [==============================] - 1s 15ms/step - loss: 0.6201 - Accuracy: 0.7730 - false_negatives: 90.0000 - false_positives: 53.0000 - true_negatives: 991.0000 - true_positives: 258.0000 - val_loss: 1.5933 - val_Accuracy: 0.5568 - val_false_negatives: 45.0000 - val_false_positives: 33.0000 - val_true_negatives: 231.0000 - val_true_positives: 43.0000\n",
            "Epoch 48/200\n",
            "44/44 [==============================] - 1s 14ms/step - loss: 0.7259 - Accuracy: 0.7500 - false_negatives: 101.0000 - false_positives: 72.0000 - true_negatives: 972.0000 - true_positives: 247.0000 - val_loss: 1.4940 - val_Accuracy: 0.5227 - val_false_negatives: 44.0000 - val_false_positives: 38.0000 - val_true_negatives: 226.0000 - val_true_positives: 44.0000\n",
            "Epoch 49/200\n",
            "44/44 [==============================] - 1s 14ms/step - loss: 0.6554 - Accuracy: 0.7644 - false_negatives: 99.0000 - false_positives: 55.0000 - true_negatives: 989.0000 - true_positives: 249.0000 - val_loss: 1.3234 - val_Accuracy: 0.5682 - val_false_negatives: 44.0000 - val_false_positives: 28.0000 - val_true_negatives: 236.0000 - val_true_positives: 44.0000\n",
            "Epoch 50/200\n",
            "44/44 [==============================] - 1s 14ms/step - loss: 0.6443 - Accuracy: 0.7759 - false_negatives: 90.0000 - false_positives: 60.0000 - true_negatives: 984.0000 - true_positives: 258.0000 - val_loss: 1.1862 - val_Accuracy: 0.5455 - val_false_negatives: 44.0000 - val_false_positives: 32.0000 - val_true_negatives: 232.0000 - val_true_positives: 44.0000\n",
            "Epoch 51/200\n",
            "44/44 [==============================] - 1s 14ms/step - loss: 0.6409 - Accuracy: 0.7586 - false_negatives: 104.0000 - false_positives: 62.0000 - true_negatives: 982.0000 - true_positives: 244.0000 - val_loss: 1.6831 - val_Accuracy: 0.5568 - val_false_negatives: 43.0000 - val_false_positives: 34.0000 - val_true_negatives: 230.0000 - val_true_positives: 45.0000\n",
            "Epoch 52/200\n",
            "44/44 [==============================] - 1s 14ms/step - loss: 0.5929 - Accuracy: 0.7931 - false_negatives: 92.0000 - false_positives: 49.0000 - true_negatives: 995.0000 - true_positives: 256.0000 - val_loss: 1.4108 - val_Accuracy: 0.5795 - val_false_negatives: 41.0000 - val_false_positives: 35.0000 - val_true_negatives: 229.0000 - val_true_positives: 47.0000\n",
            "Epoch 53/200\n",
            "44/44 [==============================] - 1s 14ms/step - loss: 0.5914 - Accuracy: 0.7902 - false_negatives: 84.0000 - false_positives: 58.0000 - true_negatives: 986.0000 - true_positives: 264.0000 - val_loss: 1.4046 - val_Accuracy: 0.5568 - val_false_negatives: 46.0000 - val_false_positives: 36.0000 - val_true_negatives: 228.0000 - val_true_positives: 42.0000\n",
            "Epoch 54/200\n",
            "44/44 [==============================] - 1s 14ms/step - loss: 0.5774 - Accuracy: 0.8075 - false_negatives: 79.0000 - false_positives: 56.0000 - true_negatives: 988.0000 - true_positives: 269.0000 - val_loss: 1.3153 - val_Accuracy: 0.5341 - val_false_negatives: 43.0000 - val_false_positives: 36.0000 - val_true_negatives: 228.0000 - val_true_positives: 45.0000\n",
            "Epoch 55/200\n",
            "44/44 [==============================] - 1s 14ms/step - loss: 0.5916 - Accuracy: 0.7931 - false_negatives: 87.0000 - false_positives: 59.0000 - true_negatives: 985.0000 - true_positives: 261.0000 - val_loss: 1.2845 - val_Accuracy: 0.5455 - val_false_negatives: 43.0000 - val_false_positives: 34.0000 - val_true_negatives: 230.0000 - val_true_positives: 45.0000\n",
            "Epoch 56/200\n",
            "44/44 [==============================] - 1s 14ms/step - loss: 0.5897 - Accuracy: 0.7960 - false_negatives: 84.0000 - false_positives: 55.0000 - true_negatives: 989.0000 - true_positives: 264.0000 - val_loss: 1.2439 - val_Accuracy: 0.5682 - val_false_negatives: 43.0000 - val_false_positives: 31.0000 - val_true_negatives: 233.0000 - val_true_positives: 45.0000\n",
            "Epoch 57/200\n",
            "44/44 [==============================] - 1s 14ms/step - loss: 0.5947 - Accuracy: 0.7701 - false_negatives: 97.0000 - false_positives: 58.0000 - true_negatives: 986.0000 - true_positives: 251.0000 - val_loss: 1.4240 - val_Accuracy: 0.5341 - val_false_negatives: 44.0000 - val_false_positives: 39.0000 - val_true_negatives: 225.0000 - val_true_positives: 44.0000\n",
            "Epoch 58/200\n",
            "44/44 [==============================] - 1s 14ms/step - loss: 0.5767 - Accuracy: 0.8075 - false_negatives: 81.0000 - false_positives: 45.0000 - true_negatives: 999.0000 - true_positives: 267.0000 - val_loss: 1.6622 - val_Accuracy: 0.5682 - val_false_negatives: 44.0000 - val_false_positives: 34.0000 - val_true_negatives: 230.0000 - val_true_positives: 44.0000\n",
            "Epoch 59/200\n",
            "44/44 [==============================] - 1s 15ms/step - loss: 0.5993 - Accuracy: 0.8075 - false_negatives: 88.0000 - false_positives: 51.0000 - true_negatives: 993.0000 - true_positives: 260.0000 - val_loss: 1.2449 - val_Accuracy: 0.5568 - val_false_negatives: 46.0000 - val_false_positives: 32.0000 - val_true_negatives: 232.0000 - val_true_positives: 42.0000\n",
            "Epoch 60/200\n",
            "44/44 [==============================] - 1s 14ms/step - loss: 0.5377 - Accuracy: 0.8046 - false_negatives: 83.0000 - false_positives: 49.0000 - true_negatives: 995.0000 - true_positives: 265.0000 - val_loss: 1.3808 - val_Accuracy: 0.5455 - val_false_negatives: 44.0000 - val_false_positives: 36.0000 - val_true_negatives: 228.0000 - val_true_positives: 44.0000\n",
            "Epoch 61/200\n",
            "44/44 [==============================] - 1s 14ms/step - loss: 0.6135 - Accuracy: 0.7845 - false_negatives: 90.0000 - false_positives: 59.0000 - true_negatives: 985.0000 - true_positives: 258.0000 - val_loss: 1.4481 - val_Accuracy: 0.5341 - val_false_negatives: 45.0000 - val_false_positives: 32.0000 - val_true_negatives: 232.0000 - val_true_positives: 43.0000\n",
            "Epoch 62/200\n",
            "44/44 [==============================] - 1s 14ms/step - loss: 0.6144 - Accuracy: 0.7874 - false_negatives: 87.0000 - false_positives: 61.0000 - true_negatives: 983.0000 - true_positives: 261.0000 - val_loss: 1.4774 - val_Accuracy: 0.5568 - val_false_negatives: 45.0000 - val_false_positives: 34.0000 - val_true_negatives: 230.0000 - val_true_positives: 43.0000\n",
            "Epoch 63/200\n",
            "44/44 [==============================] - 1s 14ms/step - loss: 0.6232 - Accuracy: 0.7989 - false_negatives: 85.0000 - false_positives: 59.0000 - true_negatives: 985.0000 - true_positives: 263.0000 - val_loss: 1.3041 - val_Accuracy: 0.5568 - val_false_negatives: 42.0000 - val_false_positives: 34.0000 - val_true_negatives: 230.0000 - val_true_positives: 46.0000\n",
            "Epoch 64/200\n",
            "44/44 [==============================] - 1s 14ms/step - loss: 0.5772 - Accuracy: 0.7931 - false_negatives: 89.0000 - false_positives: 52.0000 - true_negatives: 992.0000 - true_positives: 259.0000 - val_loss: 1.6692 - val_Accuracy: 0.5227 - val_false_negatives: 47.0000 - val_false_positives: 35.0000 - val_true_negatives: 229.0000 - val_true_positives: 41.0000\n",
            "Epoch 65/200\n",
            "44/44 [==============================] - 1s 15ms/step - loss: 0.6397 - Accuracy: 0.7730 - false_negatives: 83.0000 - false_positives: 62.0000 - true_negatives: 982.0000 - true_positives: 265.0000 - val_loss: 1.3634 - val_Accuracy: 0.5455 - val_false_negatives: 43.0000 - val_false_positives: 32.0000 - val_true_negatives: 232.0000 - val_true_positives: 45.0000\n",
            "Epoch 66/200\n",
            "44/44 [==============================] - 1s 15ms/step - loss: 0.5849 - Accuracy: 0.7989 - false_negatives: 92.0000 - false_positives: 47.0000 - true_negatives: 997.0000 - true_positives: 256.0000 - val_loss: 1.6590 - val_Accuracy: 0.5455 - val_false_negatives: 45.0000 - val_false_positives: 36.0000 - val_true_negatives: 228.0000 - val_true_positives: 43.0000\n",
            "Epoch 67/200\n",
            "44/44 [==============================] - 1s 14ms/step - loss: 0.5796 - Accuracy: 0.7816 - false_negatives: 94.0000 - false_positives: 60.0000 - true_negatives: 984.0000 - true_positives: 254.0000 - val_loss: 1.6772 - val_Accuracy: 0.5455 - val_false_negatives: 41.0000 - val_false_positives: 35.0000 - val_true_negatives: 229.0000 - val_true_positives: 47.0000\n",
            "Epoch 68/200\n",
            "44/44 [==============================] - 1s 14ms/step - loss: 0.5464 - Accuracy: 0.8075 - false_negatives: 77.0000 - false_positives: 55.0000 - true_negatives: 989.0000 - true_positives: 271.0000 - val_loss: 1.7374 - val_Accuracy: 0.5341 - val_false_negatives: 46.0000 - val_false_positives: 37.0000 - val_true_negatives: 227.0000 - val_true_positives: 42.0000\n",
            "Epoch 69/200\n",
            "44/44 [==============================] - 1s 15ms/step - loss: 0.5447 - Accuracy: 0.8075 - false_negatives: 78.0000 - false_positives: 56.0000 - true_negatives: 988.0000 - true_positives: 270.0000 - val_loss: 1.4117 - val_Accuracy: 0.5455 - val_false_negatives: 44.0000 - val_false_positives: 33.0000 - val_true_negatives: 231.0000 - val_true_positives: 44.0000\n",
            "Epoch 70/200\n",
            "44/44 [==============================] - 1s 14ms/step - loss: 0.5420 - Accuracy: 0.8132 - false_negatives: 78.0000 - false_positives: 52.0000 - true_negatives: 992.0000 - true_positives: 270.0000 - val_loss: 1.3615 - val_Accuracy: 0.5341 - val_false_negatives: 45.0000 - val_false_positives: 32.0000 - val_true_negatives: 232.0000 - val_true_positives: 43.0000\n",
            "Epoch 71/200\n",
            "44/44 [==============================] - 1s 14ms/step - loss: 0.5480 - Accuracy: 0.7931 - false_negatives: 87.0000 - false_positives: 49.0000 - true_negatives: 995.0000 - true_positives: 261.0000 - val_loss: 1.3516 - val_Accuracy: 0.5227 - val_false_negatives: 43.0000 - val_false_positives: 33.0000 - val_true_negatives: 231.0000 - val_true_positives: 45.0000\n",
            "Epoch 72/200\n",
            "44/44 [==============================] - 1s 14ms/step - loss: 0.5305 - Accuracy: 0.7989 - false_negatives: 81.0000 - false_positives: 54.0000 - true_negatives: 990.0000 - true_positives: 267.0000 - val_loss: 2.3253 - val_Accuracy: 0.5341 - val_false_negatives: 44.0000 - val_false_positives: 38.0000 - val_true_negatives: 226.0000 - val_true_positives: 44.0000\n",
            "Epoch 73/200\n",
            "44/44 [==============================] - 1s 14ms/step - loss: 0.5816 - Accuracy: 0.8017 - false_negatives: 89.0000 - false_positives: 53.0000 - true_negatives: 991.0000 - true_positives: 259.0000 - val_loss: 1.4547 - val_Accuracy: 0.5568 - val_false_negatives: 44.0000 - val_false_positives: 36.0000 - val_true_negatives: 228.0000 - val_true_positives: 44.0000\n",
            "Epoch 74/200\n",
            "44/44 [==============================] - 1s 15ms/step - loss: 0.5178 - Accuracy: 0.8190 - false_negatives: 79.0000 - false_positives: 49.0000 - true_negatives: 995.0000 - true_positives: 269.0000 - val_loss: 1.6934 - val_Accuracy: 0.5568 - val_false_negatives: 44.0000 - val_false_positives: 34.0000 - val_true_negatives: 230.0000 - val_true_positives: 44.0000\n",
            "Epoch 75/200\n",
            "44/44 [==============================] - 1s 14ms/step - loss: 0.5219 - Accuracy: 0.8161 - false_negatives: 72.0000 - false_positives: 51.0000 - true_negatives: 993.0000 - true_positives: 276.0000 - val_loss: 1.5895 - val_Accuracy: 0.5795 - val_false_negatives: 41.0000 - val_false_positives: 31.0000 - val_true_negatives: 233.0000 - val_true_positives: 47.0000\n",
            "Epoch 76/200\n",
            "44/44 [==============================] - 1s 14ms/step - loss: 0.5065 - Accuracy: 0.8046 - false_negatives: 78.0000 - false_positives: 49.0000 - true_negatives: 995.0000 - true_positives: 270.0000 - val_loss: 1.2626 - val_Accuracy: 0.5227 - val_false_negatives: 49.0000 - val_false_positives: 27.0000 - val_true_negatives: 237.0000 - val_true_positives: 39.0000\n",
            "Epoch 77/200\n",
            "44/44 [==============================] - 1s 14ms/step - loss: 0.5617 - Accuracy: 0.7931 - false_negatives: 80.0000 - false_positives: 58.0000 - true_negatives: 986.0000 - true_positives: 268.0000 - val_loss: 1.4751 - val_Accuracy: 0.5341 - val_false_negatives: 43.0000 - val_false_positives: 33.0000 - val_true_negatives: 231.0000 - val_true_positives: 45.0000\n",
            "Epoch 78/200\n",
            "44/44 [==============================] - 1s 14ms/step - loss: 0.5078 - Accuracy: 0.8103 - false_negatives: 80.0000 - false_positives: 51.0000 - true_negatives: 993.0000 - true_positives: 268.0000 - val_loss: 1.6615 - val_Accuracy: 0.5455 - val_false_negatives: 43.0000 - val_false_positives: 34.0000 - val_true_negatives: 230.0000 - val_true_positives: 45.0000\n",
            "Epoch 79/200\n",
            "44/44 [==============================] - 1s 14ms/step - loss: 0.5334 - Accuracy: 0.8075 - false_negatives: 85.0000 - false_positives: 53.0000 - true_negatives: 991.0000 - true_positives: 263.0000 - val_loss: 1.7988 - val_Accuracy: 0.5341 - val_false_negatives: 46.0000 - val_false_positives: 33.0000 - val_true_negatives: 231.0000 - val_true_positives: 42.0000\n",
            "Epoch 80/200\n",
            "44/44 [==============================] - 1s 14ms/step - loss: 0.4865 - Accuracy: 0.8103 - false_negatives: 75.0000 - false_positives: 54.0000 - true_negatives: 990.0000 - true_positives: 273.0000 - val_loss: 1.3227 - val_Accuracy: 0.5568 - val_false_negatives: 44.0000 - val_false_positives: 33.0000 - val_true_negatives: 231.0000 - val_true_positives: 44.0000\n",
            "Epoch 81/200\n",
            "44/44 [==============================] - 1s 14ms/step - loss: 0.5135 - Accuracy: 0.8132 - false_negatives: 77.0000 - false_positives: 56.0000 - true_negatives: 988.0000 - true_positives: 271.0000 - val_loss: 1.3676 - val_Accuracy: 0.5341 - val_false_negatives: 44.0000 - val_false_positives: 30.0000 - val_true_negatives: 234.0000 - val_true_positives: 44.0000\n",
            "Epoch 82/200\n",
            "44/44 [==============================] - 1s 14ms/step - loss: 0.5783 - Accuracy: 0.8103 - false_negatives: 77.0000 - false_positives: 52.0000 - true_negatives: 992.0000 - true_positives: 271.0000 - val_loss: 1.5199 - val_Accuracy: 0.5114 - val_false_negatives: 44.0000 - val_false_positives: 36.0000 - val_true_negatives: 228.0000 - val_true_positives: 44.0000\n",
            "Epoch 83/200\n",
            "44/44 [==============================] - 1s 14ms/step - loss: 0.5108 - Accuracy: 0.8153 - false_negatives: 82.0000 - false_positives: 55.0000 - true_negatives: 1001.0000 - true_positives: 270.0000 - val_loss: 1.7399 - val_Accuracy: 0.5114 - val_false_negatives: 45.0000 - val_false_positives: 32.0000 - val_true_negatives: 232.0000 - val_true_positives: 43.0000\n",
            "Epoch 84/200\n",
            "44/44 [==============================] - 1s 14ms/step - loss: 0.5123 - Accuracy: 0.8190 - false_negatives: 77.0000 - false_positives: 50.0000 - true_negatives: 994.0000 - true_positives: 271.0000 - val_loss: 1.4191 - val_Accuracy: 0.5568 - val_false_negatives: 46.0000 - val_false_positives: 33.0000 - val_true_negatives: 231.0000 - val_true_positives: 42.0000\n",
            "Epoch 85/200\n",
            "44/44 [==============================] - 1s 14ms/step - loss: 0.5130 - Accuracy: 0.8161 - false_negatives: 73.0000 - false_positives: 49.0000 - true_negatives: 995.0000 - true_positives: 275.0000 - val_loss: 1.6852 - val_Accuracy: 0.5455 - val_false_negatives: 45.0000 - val_false_positives: 35.0000 - val_true_negatives: 229.0000 - val_true_positives: 43.0000\n",
            "Epoch 86/200\n",
            "44/44 [==============================] - 1s 14ms/step - loss: 0.5212 - Accuracy: 0.8017 - false_negatives: 83.0000 - false_positives: 56.0000 - true_negatives: 988.0000 - true_positives: 265.0000 - val_loss: 1.3027 - val_Accuracy: 0.5227 - val_false_negatives: 48.0000 - val_false_positives: 33.0000 - val_true_negatives: 231.0000 - val_true_positives: 40.0000\n",
            "Epoch 87/200\n",
            "44/44 [==============================] - 1s 14ms/step - loss: 0.5295 - Accuracy: 0.8046 - false_negatives: 77.0000 - false_positives: 54.0000 - true_negatives: 990.0000 - true_positives: 271.0000 - val_loss: 1.5027 - val_Accuracy: 0.5795 - val_false_negatives: 45.0000 - val_false_positives: 30.0000 - val_true_negatives: 234.0000 - val_true_positives: 43.0000\n",
            "Epoch 88/200\n",
            "44/44 [==============================] - 1s 16ms/step - loss: 0.4647 - Accuracy: 0.8218 - false_negatives: 73.0000 - false_positives: 48.0000 - true_negatives: 996.0000 - true_positives: 275.0000 - val_loss: 1.6596 - val_Accuracy: 0.5682 - val_false_negatives: 41.0000 - val_false_positives: 29.0000 - val_true_negatives: 235.0000 - val_true_positives: 47.0000\n",
            "Epoch 89/200\n",
            "44/44 [==============================] - 1s 14ms/step - loss: 0.4830 - Accuracy: 0.8247 - false_negatives: 69.0000 - false_positives: 50.0000 - true_negatives: 994.0000 - true_positives: 279.0000 - val_loss: 1.8425 - val_Accuracy: 0.5455 - val_false_negatives: 45.0000 - val_false_positives: 35.0000 - val_true_negatives: 229.0000 - val_true_positives: 43.0000\n",
            "Epoch 90/200\n",
            "44/44 [==============================] - 1s 14ms/step - loss: 0.4820 - Accuracy: 0.8103 - false_negatives: 74.0000 - false_positives: 53.0000 - true_negatives: 991.0000 - true_positives: 274.0000 - val_loss: 1.5965 - val_Accuracy: 0.5114 - val_false_negatives: 45.0000 - val_false_positives: 35.0000 - val_true_negatives: 229.0000 - val_true_positives: 43.0000\n",
            "Epoch 91/200\n",
            "44/44 [==============================] - 1s 14ms/step - loss: 0.4773 - Accuracy: 0.8333 - false_negatives: 72.0000 - false_positives: 47.0000 - true_negatives: 997.0000 - true_positives: 276.0000 - val_loss: 1.8979 - val_Accuracy: 0.5341 - val_false_negatives: 46.0000 - val_false_positives: 36.0000 - val_true_negatives: 228.0000 - val_true_positives: 42.0000\n",
            "Epoch 92/200\n",
            "44/44 [==============================] - 1s 15ms/step - loss: 0.4826 - Accuracy: 0.8132 - false_negatives: 80.0000 - false_positives: 50.0000 - true_negatives: 994.0000 - true_positives: 268.0000 - val_loss: 1.7574 - val_Accuracy: 0.4773 - val_false_negatives: 47.0000 - val_false_positives: 37.0000 - val_true_negatives: 227.0000 - val_true_positives: 41.0000\n",
            "Epoch 93/200\n",
            "44/44 [==============================] - 1s 14ms/step - loss: 0.4716 - Accuracy: 0.8362 - false_negatives: 71.0000 - false_positives: 43.0000 - true_negatives: 1001.0000 - true_positives: 277.0000 - val_loss: 1.4397 - val_Accuracy: 0.5000 - val_false_negatives: 46.0000 - val_false_positives: 36.0000 - val_true_negatives: 228.0000 - val_true_positives: 42.0000\n",
            "Epoch 94/200\n",
            "44/44 [==============================] - 1s 14ms/step - loss: 0.4834 - Accuracy: 0.8324 - false_negatives: 74.0000 - false_positives: 47.0000 - true_negatives: 1009.0000 - true_positives: 278.0000 - val_loss: 1.4008 - val_Accuracy: 0.5341 - val_false_negatives: 45.0000 - val_false_positives: 34.0000 - val_true_negatives: 230.0000 - val_true_positives: 43.0000\n",
            "Epoch 95/200\n",
            "44/44 [==============================] - 1s 14ms/step - loss: 0.4499 - Accuracy: 0.8218 - false_negatives: 72.0000 - false_positives: 42.0000 - true_negatives: 1002.0000 - true_positives: 276.0000 - val_loss: 1.4491 - val_Accuracy: 0.5568 - val_false_negatives: 44.0000 - val_false_positives: 34.0000 - val_true_negatives: 230.0000 - val_true_positives: 44.0000\n",
            "Epoch 96/200\n",
            "44/44 [==============================] - 1s 14ms/step - loss: 0.4765 - Accuracy: 0.8477 - false_negatives: 67.0000 - false_positives: 42.0000 - true_negatives: 1002.0000 - true_positives: 281.0000 - val_loss: 1.6530 - val_Accuracy: 0.5568 - val_false_negatives: 45.0000 - val_false_positives: 36.0000 - val_true_negatives: 228.0000 - val_true_positives: 43.0000\n",
            "Epoch 97/200\n",
            "44/44 [==============================] - 1s 14ms/step - loss: 0.4730 - Accuracy: 0.8132 - false_negatives: 70.0000 - false_positives: 57.0000 - true_negatives: 987.0000 - true_positives: 278.0000 - val_loss: 1.4725 - val_Accuracy: 0.5455 - val_false_negatives: 45.0000 - val_false_positives: 35.0000 - val_true_negatives: 229.0000 - val_true_positives: 43.0000\n",
            "Epoch 98/200\n",
            "44/44 [==============================] - 1s 14ms/step - loss: 0.4232 - Accuracy: 0.8333 - false_negatives: 72.0000 - false_positives: 50.0000 - true_negatives: 994.0000 - true_positives: 276.0000 - val_loss: 1.7405 - val_Accuracy: 0.5000 - val_false_negatives: 47.0000 - val_false_positives: 36.0000 - val_true_negatives: 228.0000 - val_true_positives: 41.0000\n",
            "Epoch 99/200\n",
            "44/44 [==============================] - 1s 14ms/step - loss: 0.5141 - Accuracy: 0.8132 - false_negatives: 79.0000 - false_positives: 50.0000 - true_negatives: 994.0000 - true_positives: 269.0000 - val_loss: 1.3561 - val_Accuracy: 0.5455 - val_false_negatives: 45.0000 - val_false_positives: 30.0000 - val_true_negatives: 234.0000 - val_true_positives: 43.0000\n",
            "Epoch 100/200\n",
            "44/44 [==============================] - 1s 15ms/step - loss: 0.4526 - Accuracy: 0.8190 - false_negatives: 74.0000 - false_positives: 46.0000 - true_negatives: 998.0000 - true_positives: 274.0000 - val_loss: 1.8430 - val_Accuracy: 0.5227 - val_false_negatives: 45.0000 - val_false_positives: 39.0000 - val_true_negatives: 225.0000 - val_true_positives: 43.0000\n",
            "Epoch 101/200\n",
            "44/44 [==============================] - 1s 15ms/step - loss: 0.4734 - Accuracy: 0.8267 - false_negatives: 75.0000 - false_positives: 46.0000 - true_negatives: 1010.0000 - true_positives: 277.0000 - val_loss: 1.6751 - val_Accuracy: 0.5568 - val_false_negatives: 41.0000 - val_false_positives: 37.0000 - val_true_negatives: 227.0000 - val_true_positives: 47.0000\n",
            "Epoch 102/200\n",
            "44/44 [==============================] - 1s 15ms/step - loss: 0.4697 - Accuracy: 0.8333 - false_negatives: 73.0000 - false_positives: 48.0000 - true_negatives: 996.0000 - true_positives: 275.0000 - val_loss: 1.6963 - val_Accuracy: 0.5227 - val_false_negatives: 43.0000 - val_false_positives: 37.0000 - val_true_negatives: 227.0000 - val_true_positives: 45.0000\n",
            "Epoch 103/200\n",
            "44/44 [==============================] - 1s 14ms/step - loss: 0.4674 - Accuracy: 0.8333 - false_negatives: 71.0000 - false_positives: 44.0000 - true_negatives: 1000.0000 - true_positives: 277.0000 - val_loss: 1.3270 - val_Accuracy: 0.5568 - val_false_negatives: 44.0000 - val_false_positives: 32.0000 - val_true_negatives: 232.0000 - val_true_positives: 44.0000\n",
            "Epoch 104/200\n",
            "44/44 [==============================] - 1s 14ms/step - loss: 0.4815 - Accuracy: 0.8362 - false_negatives: 66.0000 - false_positives: 44.0000 - true_negatives: 1000.0000 - true_positives: 282.0000 - val_loss: 1.5015 - val_Accuracy: 0.5455 - val_false_negatives: 42.0000 - val_false_positives: 34.0000 - val_true_negatives: 230.0000 - val_true_positives: 46.0000\n",
            "Epoch 105/200\n",
            "44/44 [==============================] - 1s 15ms/step - loss: 0.3936 - Accuracy: 0.8420 - false_negatives: 61.0000 - false_positives: 43.0000 - true_negatives: 1001.0000 - true_positives: 287.0000 - val_loss: 1.7612 - val_Accuracy: 0.5341 - val_false_negatives: 44.0000 - val_false_positives: 35.0000 - val_true_negatives: 229.0000 - val_true_positives: 44.0000\n",
            "Epoch 106/200\n",
            "44/44 [==============================] - 1s 15ms/step - loss: 0.4137 - Accuracy: 0.8333 - false_negatives: 74.0000 - false_positives: 44.0000 - true_negatives: 1000.0000 - true_positives: 274.0000 - val_loss: 1.4938 - val_Accuracy: 0.5227 - val_false_negatives: 45.0000 - val_false_positives: 33.0000 - val_true_negatives: 231.0000 - val_true_positives: 43.0000\n",
            "Epoch 107/200\n",
            "44/44 [==============================] - 1s 25ms/step - loss: 0.4244 - Accuracy: 0.8448 - false_negatives: 60.0000 - false_positives: 39.0000 - true_negatives: 1005.0000 - true_positives: 288.0000 - val_loss: 1.7521 - val_Accuracy: 0.5455 - val_false_negatives: 42.0000 - val_false_positives: 36.0000 - val_true_negatives: 228.0000 - val_true_positives: 46.0000\n",
            "Epoch 108/200\n",
            "44/44 [==============================] - 1s 24ms/step - loss: 0.4186 - Accuracy: 0.8438 - false_negatives: 66.0000 - false_positives: 44.0000 - true_negatives: 1012.0000 - true_positives: 286.0000 - val_loss: 1.8646 - val_Accuracy: 0.5341 - val_false_negatives: 42.0000 - val_false_positives: 35.0000 - val_true_negatives: 229.0000 - val_true_positives: 46.0000\n",
            "Epoch 109/200\n",
            "44/44 [==============================] - 1s 25ms/step - loss: 0.4133 - Accuracy: 0.8506 - false_negatives: 63.0000 - false_positives: 37.0000 - true_negatives: 1007.0000 - true_positives: 285.0000 - val_loss: 1.4247 - val_Accuracy: 0.6023 - val_false_negatives: 41.0000 - val_false_positives: 30.0000 - val_true_negatives: 234.0000 - val_true_positives: 47.0000\n",
            "Epoch 110/200\n",
            "44/44 [==============================] - 1s 15ms/step - loss: 0.4056 - Accuracy: 0.8477 - false_negatives: 68.0000 - false_positives: 41.0000 - true_negatives: 1003.0000 - true_positives: 280.0000 - val_loss: 1.6485 - val_Accuracy: 0.5227 - val_false_negatives: 43.0000 - val_false_positives: 34.0000 - val_true_negatives: 230.0000 - val_true_positives: 45.0000\n",
            "Epoch 111/200\n",
            "44/44 [==============================] - 1s 14ms/step - loss: 0.4034 - Accuracy: 0.8420 - false_negatives: 62.0000 - false_positives: 45.0000 - true_negatives: 999.0000 - true_positives: 286.0000 - val_loss: 1.9661 - val_Accuracy: 0.5568 - val_false_negatives: 44.0000 - val_false_positives: 34.0000 - val_true_negatives: 230.0000 - val_true_positives: 44.0000\n",
            "Epoch 112/200\n",
            "44/44 [==============================] - 1s 15ms/step - loss: 0.3860 - Accuracy: 0.8534 - false_negatives: 63.0000 - false_positives: 40.0000 - true_negatives: 1004.0000 - true_positives: 285.0000 - val_loss: 1.8359 - val_Accuracy: 0.5682 - val_false_negatives: 41.0000 - val_false_positives: 33.0000 - val_true_negatives: 231.0000 - val_true_positives: 47.0000\n",
            "Epoch 113/200\n",
            "44/44 [==============================] - 1s 15ms/step - loss: 0.4171 - Accuracy: 0.8506 - false_negatives: 62.0000 - false_positives: 40.0000 - true_negatives: 1004.0000 - true_positives: 286.0000 - val_loss: 2.2078 - val_Accuracy: 0.5227 - val_false_negatives: 43.0000 - val_false_positives: 37.0000 - val_true_negatives: 227.0000 - val_true_positives: 45.0000\n",
            "Epoch 114/200\n",
            "44/44 [==============================] - 1s 15ms/step - loss: 0.4469 - Accuracy: 0.8276 - false_negatives: 69.0000 - false_positives: 40.0000 - true_negatives: 1004.0000 - true_positives: 279.0000 - val_loss: 1.3907 - val_Accuracy: 0.5795 - val_false_negatives: 45.0000 - val_false_positives: 30.0000 - val_true_negatives: 234.0000 - val_true_positives: 43.0000\n",
            "Epoch 115/200\n",
            "44/44 [==============================] - 1s 15ms/step - loss: 0.4046 - Accuracy: 0.8391 - false_negatives: 63.0000 - false_positives: 47.0000 - true_negatives: 997.0000 - true_positives: 285.0000 - val_loss: 1.6674 - val_Accuracy: 0.5568 - val_false_negatives: 43.0000 - val_false_positives: 33.0000 - val_true_negatives: 231.0000 - val_true_positives: 45.0000\n",
            "Epoch 116/200\n",
            "44/44 [==============================] - 1s 15ms/step - loss: 0.3802 - Accuracy: 0.8793 - false_negatives: 54.0000 - false_positives: 40.0000 - true_negatives: 1004.0000 - true_positives: 294.0000 - val_loss: 2.1269 - val_Accuracy: 0.5568 - val_false_negatives: 41.0000 - val_false_positives: 35.0000 - val_true_negatives: 229.0000 - val_true_positives: 47.0000\n",
            "Epoch 117/200\n",
            "44/44 [==============================] - 1s 16ms/step - loss: 0.4267 - Accuracy: 0.8362 - false_negatives: 67.0000 - false_positives: 44.0000 - true_negatives: 1000.0000 - true_positives: 281.0000 - val_loss: 1.6957 - val_Accuracy: 0.5795 - val_false_negatives: 41.0000 - val_false_positives: 31.0000 - val_true_negatives: 233.0000 - val_true_positives: 47.0000\n",
            "Epoch 118/200\n",
            "44/44 [==============================] - 1s 15ms/step - loss: 0.4008 - Accuracy: 0.8592 - false_negatives: 56.0000 - false_positives: 37.0000 - true_negatives: 1007.0000 - true_positives: 292.0000 - val_loss: 1.6107 - val_Accuracy: 0.6136 - val_false_negatives: 39.0000 - val_false_positives: 32.0000 - val_true_negatives: 232.0000 - val_true_positives: 49.0000\n",
            "Epoch 119/200\n",
            "44/44 [==============================] - 1s 15ms/step - loss: 0.3238 - Accuracy: 0.8879 - false_negatives: 47.0000 - false_positives: 29.0000 - true_negatives: 1015.0000 - true_positives: 301.0000 - val_loss: 2.0287 - val_Accuracy: 0.5568 - val_false_negatives: 40.0000 - val_false_positives: 33.0000 - val_true_negatives: 231.0000 - val_true_positives: 48.0000\n",
            "Epoch 120/200\n",
            "44/44 [==============================] - 1s 15ms/step - loss: 0.4170 - Accuracy: 0.8391 - false_negatives: 64.0000 - false_positives: 43.0000 - true_negatives: 1001.0000 - true_positives: 284.0000 - val_loss: 1.3776 - val_Accuracy: 0.5455 - val_false_negatives: 44.0000 - val_false_positives: 33.0000 - val_true_negatives: 231.0000 - val_true_positives: 44.0000\n",
            "Epoch 121/200\n",
            "44/44 [==============================] - 1s 15ms/step - loss: 0.3658 - Accuracy: 0.8736 - false_negatives: 50.0000 - false_positives: 39.0000 - true_negatives: 1005.0000 - true_positives: 298.0000 - val_loss: 1.4041 - val_Accuracy: 0.5909 - val_false_negatives: 40.0000 - val_false_positives: 29.0000 - val_true_negatives: 235.0000 - val_true_positives: 48.0000\n",
            "Epoch 122/200\n",
            "44/44 [==============================] - 1s 15ms/step - loss: 0.4045 - Accuracy: 0.8477 - false_negatives: 58.0000 - false_positives: 43.0000 - true_negatives: 1001.0000 - true_positives: 290.0000 - val_loss: 1.6801 - val_Accuracy: 0.5455 - val_false_negatives: 42.0000 - val_false_positives: 37.0000 - val_true_negatives: 227.0000 - val_true_positives: 46.0000\n",
            "Epoch 123/200\n",
            "44/44 [==============================] - 1s 16ms/step - loss: 0.4462 - Accuracy: 0.8448 - false_negatives: 64.0000 - false_positives: 43.0000 - true_negatives: 1001.0000 - true_positives: 284.0000 - val_loss: 1.7899 - val_Accuracy: 0.5341 - val_false_negatives: 43.0000 - val_false_positives: 36.0000 - val_true_negatives: 228.0000 - val_true_positives: 45.0000\n",
            "Epoch 124/200\n",
            "44/44 [==============================] - 1s 15ms/step - loss: 0.3307 - Accuracy: 0.8736 - false_negatives: 49.0000 - false_positives: 33.0000 - true_negatives: 1011.0000 - true_positives: 299.0000 - val_loss: 1.3935 - val_Accuracy: 0.5795 - val_false_negatives: 41.0000 - val_false_positives: 32.0000 - val_true_negatives: 232.0000 - val_true_positives: 47.0000\n",
            "Epoch 125/200\n",
            "44/44 [==============================] - 1s 15ms/step - loss: 0.4032 - Accuracy: 0.8333 - false_negatives: 67.0000 - false_positives: 44.0000 - true_negatives: 1000.0000 - true_positives: 281.0000 - val_loss: 1.9591 - val_Accuracy: 0.5568 - val_false_negatives: 42.0000 - val_false_positives: 32.0000 - val_true_negatives: 232.0000 - val_true_positives: 46.0000\n",
            "Epoch 126/200\n",
            "44/44 [==============================] - 1s 15ms/step - loss: 0.4263 - Accuracy: 0.8391 - false_negatives: 69.0000 - false_positives: 45.0000 - true_negatives: 999.0000 - true_positives: 279.0000 - val_loss: 1.7490 - val_Accuracy: 0.5455 - val_false_negatives: 42.0000 - val_false_positives: 38.0000 - val_true_negatives: 226.0000 - val_true_positives: 46.0000\n",
            "Epoch 127/200\n",
            "44/44 [==============================] - 1s 15ms/step - loss: 0.3753 - Accuracy: 0.8563 - false_negatives: 59.0000 - false_positives: 36.0000 - true_negatives: 1008.0000 - true_positives: 289.0000 - val_loss: 1.8371 - val_Accuracy: 0.5795 - val_false_negatives: 40.0000 - val_false_positives: 36.0000 - val_true_negatives: 228.0000 - val_true_positives: 48.0000\n",
            "Epoch 128/200\n",
            "44/44 [==============================] - 1s 15ms/step - loss: 0.3555 - Accuracy: 0.8649 - false_negatives: 48.0000 - false_positives: 38.0000 - true_negatives: 1006.0000 - true_positives: 300.0000 - val_loss: 1.5526 - val_Accuracy: 0.6250 - val_false_negatives: 36.0000 - val_false_positives: 30.0000 - val_true_negatives: 234.0000 - val_true_positives: 52.0000\n",
            "Epoch 129/200\n",
            "44/44 [==============================] - 1s 15ms/step - loss: 0.3434 - Accuracy: 0.8736 - false_negatives: 52.0000 - false_positives: 39.0000 - true_negatives: 1005.0000 - true_positives: 296.0000 - val_loss: 1.5564 - val_Accuracy: 0.5909 - val_false_negatives: 38.0000 - val_false_positives: 28.0000 - val_true_negatives: 236.0000 - val_true_positives: 50.0000\n",
            "Epoch 130/200\n",
            "44/44 [==============================] - 1s 15ms/step - loss: 0.3297 - Accuracy: 0.8908 - false_negatives: 47.0000 - false_positives: 32.0000 - true_negatives: 1012.0000 - true_positives: 301.0000 - val_loss: 1.6433 - val_Accuracy: 0.6364 - val_false_negatives: 38.0000 - val_false_positives: 31.0000 - val_true_negatives: 233.0000 - val_true_positives: 50.0000\n",
            "Epoch 131/200\n",
            "44/44 [==============================] - 1s 15ms/step - loss: 0.3066 - Accuracy: 0.8851 - false_negatives: 46.0000 - false_positives: 35.0000 - true_negatives: 1009.0000 - true_positives: 302.0000 - val_loss: 2.1033 - val_Accuracy: 0.5682 - val_false_negatives: 39.0000 - val_false_positives: 29.0000 - val_true_negatives: 235.0000 - val_true_positives: 49.0000\n",
            "Epoch 132/200\n",
            "44/44 [==============================] - 1s 15ms/step - loss: 0.3788 - Accuracy: 0.8534 - false_negatives: 56.0000 - false_positives: 44.0000 - true_negatives: 1000.0000 - true_positives: 292.0000 - val_loss: 1.6635 - val_Accuracy: 0.6023 - val_false_negatives: 37.0000 - val_false_positives: 29.0000 - val_true_negatives: 235.0000 - val_true_positives: 51.0000\n",
            "Epoch 133/200\n",
            "44/44 [==============================] - 1s 15ms/step - loss: 0.3401 - Accuracy: 0.8592 - false_negatives: 55.0000 - false_positives: 40.0000 - true_negatives: 1004.0000 - true_positives: 293.0000 - val_loss: 1.5271 - val_Accuracy: 0.6023 - val_false_negatives: 38.0000 - val_false_positives: 34.0000 - val_true_negatives: 230.0000 - val_true_positives: 50.0000\n",
            "Epoch 134/200\n",
            "44/44 [==============================] - 1s 15ms/step - loss: 0.2716 - Accuracy: 0.9023 - false_negatives: 40.0000 - false_positives: 26.0000 - true_negatives: 1018.0000 - true_positives: 308.0000 - val_loss: 1.7721 - val_Accuracy: 0.5682 - val_false_negatives: 39.0000 - val_false_positives: 35.0000 - val_true_negatives: 229.0000 - val_true_positives: 49.0000\n",
            "Epoch 135/200\n",
            "44/44 [==============================] - 1s 16ms/step - loss: 0.3535 - Accuracy: 0.8793 - false_negatives: 50.0000 - false_positives: 34.0000 - true_negatives: 1010.0000 - true_positives: 298.0000 - val_loss: 1.9099 - val_Accuracy: 0.5795 - val_false_negatives: 38.0000 - val_false_positives: 35.0000 - val_true_negatives: 229.0000 - val_true_positives: 50.0000\n",
            "Epoch 136/200\n",
            "44/44 [==============================] - 1s 15ms/step - loss: 0.3093 - Accuracy: 0.8851 - false_negatives: 46.0000 - false_positives: 31.0000 - true_negatives: 1013.0000 - true_positives: 302.0000 - val_loss: 2.4980 - val_Accuracy: 0.5568 - val_false_negatives: 41.0000 - val_false_positives: 35.0000 - val_true_negatives: 229.0000 - val_true_positives: 47.0000\n",
            "Epoch 137/200\n",
            "44/44 [==============================] - 1s 15ms/step - loss: 0.2829 - Accuracy: 0.8994 - false_negatives: 39.0000 - false_positives: 28.0000 - true_negatives: 1016.0000 - true_positives: 309.0000 - val_loss: 1.9183 - val_Accuracy: 0.5795 - val_false_negatives: 38.0000 - val_false_positives: 34.0000 - val_true_negatives: 230.0000 - val_true_positives: 50.0000\n",
            "Epoch 138/200\n",
            "44/44 [==============================] - 1s 15ms/step - loss: 0.3515 - Accuracy: 0.8822 - false_negatives: 49.0000 - false_positives: 36.0000 - true_negatives: 1008.0000 - true_positives: 299.0000 - val_loss: 2.1502 - val_Accuracy: 0.5909 - val_false_negatives: 38.0000 - val_false_positives: 31.0000 - val_true_negatives: 233.0000 - val_true_positives: 50.0000\n",
            "Epoch 139/200\n",
            "44/44 [==============================] - 1s 15ms/step - loss: 0.2995 - Accuracy: 0.8908 - false_negatives: 40.0000 - false_positives: 28.0000 - true_negatives: 1016.0000 - true_positives: 308.0000 - val_loss: 2.2976 - val_Accuracy: 0.5682 - val_false_negatives: 41.0000 - val_false_positives: 33.0000 - val_true_negatives: 231.0000 - val_true_positives: 47.0000\n",
            "Epoch 140/200\n",
            "44/44 [==============================] - 1s 16ms/step - loss: 0.3839 - Accuracy: 0.8707 - false_negatives: 51.0000 - false_positives: 38.0000 - true_negatives: 1006.0000 - true_positives: 297.0000 - val_loss: 1.9166 - val_Accuracy: 0.6250 - val_false_negatives: 34.0000 - val_false_positives: 32.0000 - val_true_negatives: 232.0000 - val_true_positives: 54.0000\n",
            "Epoch 141/200\n",
            "44/44 [==============================] - 1s 16ms/step - loss: 0.3405 - Accuracy: 0.8649 - false_negatives: 51.0000 - false_positives: 42.0000 - true_negatives: 1002.0000 - true_positives: 297.0000 - val_loss: 2.2826 - val_Accuracy: 0.5795 - val_false_negatives: 37.0000 - val_false_positives: 32.0000 - val_true_negatives: 232.0000 - val_true_positives: 51.0000\n",
            "Epoch 142/200\n",
            "44/44 [==============================] - 1s 15ms/step - loss: 0.3226 - Accuracy: 0.8879 - false_negatives: 42.0000 - false_positives: 32.0000 - true_negatives: 1012.0000 - true_positives: 306.0000 - val_loss: 2.3175 - val_Accuracy: 0.5341 - val_false_negatives: 42.0000 - val_false_positives: 33.0000 - val_true_negatives: 231.0000 - val_true_positives: 46.0000\n",
            "Epoch 143/200\n",
            "44/44 [==============================] - 1s 15ms/step - loss: 0.3141 - Accuracy: 0.8764 - false_negatives: 47.0000 - false_positives: 37.0000 - true_negatives: 1007.0000 - true_positives: 301.0000 - val_loss: 1.9856 - val_Accuracy: 0.5682 - val_false_negatives: 39.0000 - val_false_positives: 37.0000 - val_true_negatives: 227.0000 - val_true_positives: 49.0000\n",
            "Epoch 144/200\n",
            "44/44 [==============================] - 1s 15ms/step - loss: 0.3978 - Accuracy: 0.8649 - false_negatives: 51.0000 - false_positives: 38.0000 - true_negatives: 1006.0000 - true_positives: 297.0000 - val_loss: 2.6563 - val_Accuracy: 0.5341 - val_false_negatives: 43.0000 - val_false_positives: 36.0000 - val_true_negatives: 228.0000 - val_true_positives: 45.0000\n",
            "Epoch 145/200\n",
            "44/44 [==============================] - 1s 15ms/step - loss: 0.3351 - Accuracy: 0.8649 - false_negatives: 53.0000 - false_positives: 37.0000 - true_negatives: 1007.0000 - true_positives: 295.0000 - val_loss: 2.8779 - val_Accuracy: 0.5227 - val_false_negatives: 44.0000 - val_false_positives: 36.0000 - val_true_negatives: 228.0000 - val_true_positives: 44.0000\n",
            "Epoch 146/200\n",
            "44/44 [==============================] - 1s 15ms/step - loss: 0.3145 - Accuracy: 0.8592 - false_negatives: 50.0000 - false_positives: 39.0000 - true_negatives: 1005.0000 - true_positives: 298.0000 - val_loss: 2.2883 - val_Accuracy: 0.5568 - val_false_negatives: 41.0000 - val_false_positives: 32.0000 - val_true_negatives: 232.0000 - val_true_positives: 47.0000\n",
            "Epoch 147/200\n",
            "44/44 [==============================] - 1s 16ms/step - loss: 0.4323 - Accuracy: 0.8333 - false_negatives: 65.0000 - false_positives: 49.0000 - true_negatives: 995.0000 - true_positives: 283.0000 - val_loss: 1.9717 - val_Accuracy: 0.5568 - val_false_negatives: 42.0000 - val_false_positives: 34.0000 - val_true_negatives: 230.0000 - val_true_positives: 46.0000\n",
            "Epoch 148/200\n",
            "44/44 [==============================] - 1s 15ms/step - loss: 0.2754 - Accuracy: 0.8937 - false_negatives: 41.0000 - false_positives: 31.0000 - true_negatives: 1013.0000 - true_positives: 307.0000 - val_loss: 1.7761 - val_Accuracy: 0.5341 - val_false_negatives: 43.0000 - val_false_positives: 34.0000 - val_true_negatives: 230.0000 - val_true_positives: 45.0000\n",
            "Epoch 149/200\n",
            "44/44 [==============================] - 1s 15ms/step - loss: 0.2931 - Accuracy: 0.8879 - false_negatives: 46.0000 - false_positives: 33.0000 - true_negatives: 1011.0000 - true_positives: 302.0000 - val_loss: 2.0773 - val_Accuracy: 0.5341 - val_false_negatives: 43.0000 - val_false_positives: 40.0000 - val_true_negatives: 224.0000 - val_true_positives: 45.0000\n",
            "Epoch 150/200\n",
            "44/44 [==============================] - 1s 16ms/step - loss: 0.3307 - Accuracy: 0.8764 - false_negatives: 48.0000 - false_positives: 39.0000 - true_negatives: 1005.0000 - true_positives: 300.0000 - val_loss: 2.1710 - val_Accuracy: 0.5568 - val_false_negatives: 41.0000 - val_false_positives: 36.0000 - val_true_negatives: 228.0000 - val_true_positives: 47.0000\n",
            "Epoch 151/200\n",
            "44/44 [==============================] - 1s 16ms/step - loss: 0.2960 - Accuracy: 0.8908 - false_negatives: 41.0000 - false_positives: 33.0000 - true_negatives: 1011.0000 - true_positives: 307.0000 - val_loss: 1.8298 - val_Accuracy: 0.5227 - val_false_negatives: 43.0000 - val_false_positives: 38.0000 - val_true_negatives: 226.0000 - val_true_positives: 45.0000\n",
            "Epoch 152/200\n",
            "44/44 [==============================] - 1s 15ms/step - loss: 0.2944 - Accuracy: 0.9034 - false_negatives: 39.0000 - false_positives: 29.0000 - true_negatives: 1027.0000 - true_positives: 313.0000 - val_loss: 2.3680 - val_Accuracy: 0.5682 - val_false_negatives: 40.0000 - val_false_positives: 36.0000 - val_true_negatives: 228.0000 - val_true_positives: 48.0000\n",
            "Epoch 153/200\n",
            "44/44 [==============================] - 1s 15ms/step - loss: 0.2923 - Accuracy: 0.8937 - false_negatives: 39.0000 - false_positives: 28.0000 - true_negatives: 1016.0000 - true_positives: 309.0000 - val_loss: 2.0231 - val_Accuracy: 0.5795 - val_false_negatives: 40.0000 - val_false_positives: 31.0000 - val_true_negatives: 233.0000 - val_true_positives: 48.0000\n",
            "Epoch 154/200\n",
            "44/44 [==============================] - 1s 15ms/step - loss: 0.2701 - Accuracy: 0.8966 - false_negatives: 41.0000 - false_positives: 32.0000 - true_negatives: 1012.0000 - true_positives: 307.0000 - val_loss: 2.3215 - val_Accuracy: 0.5568 - val_false_negatives: 40.0000 - val_false_positives: 35.0000 - val_true_negatives: 229.0000 - val_true_positives: 48.0000\n",
            "Epoch 155/200\n",
            "44/44 [==============================] - 1s 15ms/step - loss: 0.3135 - Accuracy: 0.9052 - false_negatives: 39.0000 - false_positives: 31.0000 - true_negatives: 1013.0000 - true_positives: 309.0000 - val_loss: 2.4096 - val_Accuracy: 0.5682 - val_false_negatives: 40.0000 - val_false_positives: 35.0000 - val_true_negatives: 229.0000 - val_true_positives: 48.0000\n",
            "Epoch 156/200\n",
            "44/44 [==============================] - 1s 15ms/step - loss: 0.2808 - Accuracy: 0.8937 - false_negatives: 43.0000 - false_positives: 33.0000 - true_negatives: 1011.0000 - true_positives: 305.0000 - val_loss: 2.0427 - val_Accuracy: 0.5227 - val_false_negatives: 42.0000 - val_false_positives: 40.0000 - val_true_negatives: 224.0000 - val_true_positives: 46.0000\n",
            "Epoch 157/200\n",
            "44/44 [==============================] - 1s 15ms/step - loss: 0.3051 - Accuracy: 0.8994 - false_negatives: 40.0000 - false_positives: 31.0000 - true_negatives: 1013.0000 - true_positives: 308.0000 - val_loss: 2.2139 - val_Accuracy: 0.5000 - val_false_negatives: 44.0000 - val_false_positives: 38.0000 - val_true_negatives: 226.0000 - val_true_positives: 44.0000\n",
            "Epoch 158/200\n",
            "44/44 [==============================] - 1s 15ms/step - loss: 0.2184 - Accuracy: 0.9224 - false_negatives: 37.0000 - false_positives: 25.0000 - true_negatives: 1019.0000 - true_positives: 311.0000 - val_loss: 1.9089 - val_Accuracy: 0.5000 - val_false_negatives: 48.0000 - val_false_positives: 35.0000 - val_true_negatives: 229.0000 - val_true_positives: 40.0000\n",
            "Epoch 159/200\n",
            "44/44 [==============================] - 1s 15ms/step - loss: 0.3122 - Accuracy: 0.8822 - false_negatives: 47.0000 - false_positives: 35.0000 - true_negatives: 1009.0000 - true_positives: 301.0000 - val_loss: 2.4485 - val_Accuracy: 0.5795 - val_false_negatives: 40.0000 - val_false_positives: 32.0000 - val_true_negatives: 232.0000 - val_true_positives: 48.0000\n",
            "Epoch 160/200\n",
            "44/44 [==============================] - 1s 15ms/step - loss: 0.2526 - Accuracy: 0.8908 - false_negatives: 41.0000 - false_positives: 34.0000 - true_negatives: 1010.0000 - true_positives: 307.0000 - val_loss: 2.3906 - val_Accuracy: 0.5455 - val_false_negatives: 42.0000 - val_false_positives: 37.0000 - val_true_negatives: 227.0000 - val_true_positives: 46.0000\n",
            "Epoch 161/200\n",
            "44/44 [==============================] - 1s 15ms/step - loss: 0.2643 - Accuracy: 0.8822 - false_negatives: 46.0000 - false_positives: 34.0000 - true_negatives: 1010.0000 - true_positives: 302.0000 - val_loss: 2.0791 - val_Accuracy: 0.5795 - val_false_negatives: 39.0000 - val_false_positives: 35.0000 - val_true_negatives: 229.0000 - val_true_positives: 49.0000\n",
            "Epoch 162/200\n",
            "44/44 [==============================] - 1s 15ms/step - loss: 0.2959 - Accuracy: 0.8879 - false_negatives: 44.0000 - false_positives: 36.0000 - true_negatives: 1008.0000 - true_positives: 304.0000 - val_loss: 2.9965 - val_Accuracy: 0.5455 - val_false_negatives: 41.0000 - val_false_positives: 38.0000 - val_true_negatives: 226.0000 - val_true_positives: 47.0000\n",
            "Epoch 163/200\n",
            "44/44 [==============================] - 1s 15ms/step - loss: 0.2926 - Accuracy: 0.8966 - false_negatives: 39.0000 - false_positives: 32.0000 - true_negatives: 1012.0000 - true_positives: 309.0000 - val_loss: 2.2492 - val_Accuracy: 0.5341 - val_false_negatives: 42.0000 - val_false_positives: 38.0000 - val_true_negatives: 226.0000 - val_true_positives: 46.0000\n",
            "Epoch 164/200\n",
            "44/44 [==============================] - 1s 15ms/step - loss: 0.2844 - Accuracy: 0.9167 - false_negatives: 37.0000 - false_positives: 28.0000 - true_negatives: 1016.0000 - true_positives: 311.0000 - val_loss: 2.2504 - val_Accuracy: 0.5909 - val_false_negatives: 39.0000 - val_false_positives: 33.0000 - val_true_negatives: 231.0000 - val_true_positives: 49.0000\n",
            "Epoch 165/200\n",
            "44/44 [==============================] - 1s 16ms/step - loss: 0.2400 - Accuracy: 0.9052 - false_negatives: 39.0000 - false_positives: 28.0000 - true_negatives: 1016.0000 - true_positives: 309.0000 - val_loss: 2.3999 - val_Accuracy: 0.5795 - val_false_negatives: 40.0000 - val_false_positives: 34.0000 - val_true_negatives: 230.0000 - val_true_positives: 48.0000\n",
            "Epoch 166/200\n",
            "44/44 [==============================] - 1s 15ms/step - loss: 0.2259 - Accuracy: 0.9080 - false_negatives: 34.0000 - false_positives: 30.0000 - true_negatives: 1014.0000 - true_positives: 314.0000 - val_loss: 2.7088 - val_Accuracy: 0.5682 - val_false_negatives: 40.0000 - val_false_positives: 36.0000 - val_true_negatives: 228.0000 - val_true_positives: 48.0000\n",
            "Epoch 167/200\n",
            "44/44 [==============================] - 1s 15ms/step - loss: 0.2461 - Accuracy: 0.9080 - false_negatives: 37.0000 - false_positives: 28.0000 - true_negatives: 1016.0000 - true_positives: 311.0000 - val_loss: 2.2602 - val_Accuracy: 0.5568 - val_false_negatives: 41.0000 - val_false_positives: 33.0000 - val_true_negatives: 231.0000 - val_true_positives: 47.0000\n",
            "Epoch 168/200\n",
            "44/44 [==============================] - 1s 15ms/step - loss: 0.2312 - Accuracy: 0.9224 - false_negatives: 33.0000 - false_positives: 24.0000 - true_negatives: 1020.0000 - true_positives: 315.0000 - val_loss: 2.6772 - val_Accuracy: 0.5682 - val_false_negatives: 38.0000 - val_false_positives: 36.0000 - val_true_negatives: 228.0000 - val_true_positives: 50.0000\n",
            "Epoch 169/200\n",
            "44/44 [==============================] - 1s 16ms/step - loss: 0.1934 - Accuracy: 0.9224 - false_negatives: 29.0000 - false_positives: 21.0000 - true_negatives: 1023.0000 - true_positives: 319.0000 - val_loss: 2.7391 - val_Accuracy: 0.5341 - val_false_negatives: 42.0000 - val_false_positives: 36.0000 - val_true_negatives: 228.0000 - val_true_positives: 46.0000\n",
            "Epoch 170/200\n",
            "44/44 [==============================] - 1s 15ms/step - loss: 0.2351 - Accuracy: 0.9052 - false_negatives: 35.0000 - false_positives: 29.0000 - true_negatives: 1015.0000 - true_positives: 313.0000 - val_loss: 2.9720 - val_Accuracy: 0.5341 - val_false_negatives: 41.0000 - val_false_positives: 37.0000 - val_true_negatives: 227.0000 - val_true_positives: 47.0000\n",
            "Epoch 171/200\n",
            "44/44 [==============================] - 1s 15ms/step - loss: 0.2512 - Accuracy: 0.9109 - false_negatives: 33.0000 - false_positives: 27.0000 - true_negatives: 1017.0000 - true_positives: 315.0000 - val_loss: 2.5192 - val_Accuracy: 0.5455 - val_false_negatives: 41.0000 - val_false_positives: 37.0000 - val_true_negatives: 227.0000 - val_true_positives: 47.0000\n",
            "Epoch 172/200\n",
            "44/44 [==============================] - 1s 15ms/step - loss: 0.2101 - Accuracy: 0.9282 - false_negatives: 28.0000 - false_positives: 23.0000 - true_negatives: 1021.0000 - true_positives: 320.0000 - val_loss: 2.1966 - val_Accuracy: 0.5682 - val_false_negatives: 41.0000 - val_false_positives: 35.0000 - val_true_negatives: 229.0000 - val_true_positives: 47.0000\n",
            "Epoch 173/200\n",
            "44/44 [==============================] - 1s 15ms/step - loss: 0.3099 - Accuracy: 0.8793 - false_negatives: 43.0000 - false_positives: 38.0000 - true_negatives: 1006.0000 - true_positives: 305.0000 - val_loss: 2.3104 - val_Accuracy: 0.5455 - val_false_negatives: 43.0000 - val_false_positives: 32.0000 - val_true_negatives: 232.0000 - val_true_positives: 45.0000\n",
            "Epoch 174/200\n",
            "44/44 [==============================] - 1s 16ms/step - loss: 0.2754 - Accuracy: 0.9052 - false_negatives: 37.0000 - false_positives: 25.0000 - true_negatives: 1019.0000 - true_positives: 311.0000 - val_loss: 2.5001 - val_Accuracy: 0.5227 - val_false_negatives: 42.0000 - val_false_positives: 36.0000 - val_true_negatives: 228.0000 - val_true_positives: 46.0000\n",
            "Epoch 175/200\n",
            "44/44 [==============================] - 1s 15ms/step - loss: 0.3040 - Accuracy: 0.9023 - false_negatives: 38.0000 - false_positives: 31.0000 - true_negatives: 1013.0000 - true_positives: 310.0000 - val_loss: 2.4103 - val_Accuracy: 0.6136 - val_false_negatives: 39.0000 - val_false_positives: 34.0000 - val_true_negatives: 230.0000 - val_true_positives: 49.0000\n",
            "Epoch 176/200\n",
            "44/44 [==============================] - 1s 16ms/step - loss: 0.2557 - Accuracy: 0.9023 - false_negatives: 36.0000 - false_positives: 28.0000 - true_negatives: 1016.0000 - true_positives: 312.0000 - val_loss: 2.5526 - val_Accuracy: 0.5568 - val_false_negatives: 40.0000 - val_false_positives: 35.0000 - val_true_negatives: 229.0000 - val_true_positives: 48.0000\n",
            "Epoch 177/200\n",
            "44/44 [==============================] - 1s 15ms/step - loss: 0.2750 - Accuracy: 0.9195 - false_negatives: 32.0000 - false_positives: 25.0000 - true_negatives: 1019.0000 - true_positives: 316.0000 - val_loss: 2.4228 - val_Accuracy: 0.5682 - val_false_negatives: 40.0000 - val_false_positives: 34.0000 - val_true_negatives: 230.0000 - val_true_positives: 48.0000\n",
            "Epoch 178/200\n",
            "44/44 [==============================] - 1s 15ms/step - loss: 0.2118 - Accuracy: 0.9195 - false_negatives: 30.0000 - false_positives: 24.0000 - true_negatives: 1020.0000 - true_positives: 318.0000 - val_loss: 2.3290 - val_Accuracy: 0.5341 - val_false_negatives: 45.0000 - val_false_positives: 38.0000 - val_true_negatives: 226.0000 - val_true_positives: 43.0000\n",
            "Epoch 179/200\n",
            "44/44 [==============================] - 1s 15ms/step - loss: 0.2272 - Accuracy: 0.9224 - false_negatives: 28.0000 - false_positives: 23.0000 - true_negatives: 1021.0000 - true_positives: 320.0000 - val_loss: 3.3441 - val_Accuracy: 0.5341 - val_false_negatives: 43.0000 - val_false_positives: 38.0000 - val_true_negatives: 226.0000 - val_true_positives: 45.0000\n",
            "Epoch 180/200\n",
            "44/44 [==============================] - 1s 15ms/step - loss: 0.2611 - Accuracy: 0.9052 - false_negatives: 40.0000 - false_positives: 26.0000 - true_negatives: 1018.0000 - true_positives: 308.0000 - val_loss: 2.1654 - val_Accuracy: 0.5909 - val_false_negatives: 40.0000 - val_false_positives: 31.0000 - val_true_negatives: 233.0000 - val_true_positives: 48.0000\n",
            "Epoch 181/200\n",
            "44/44 [==============================] - 1s 16ms/step - loss: 0.2426 - Accuracy: 0.9109 - false_negatives: 38.0000 - false_positives: 29.0000 - true_negatives: 1015.0000 - true_positives: 310.0000 - val_loss: 1.9658 - val_Accuracy: 0.5909 - val_false_negatives: 37.0000 - val_false_positives: 31.0000 - val_true_negatives: 233.0000 - val_true_positives: 51.0000\n",
            "Epoch 182/200\n",
            "44/44 [==============================] - 1s 15ms/step - loss: 0.1894 - Accuracy: 0.9282 - false_negatives: 28.0000 - false_positives: 20.0000 - true_negatives: 1024.0000 - true_positives: 320.0000 - val_loss: 2.5027 - val_Accuracy: 0.5909 - val_false_negatives: 39.0000 - val_false_positives: 33.0000 - val_true_negatives: 231.0000 - val_true_positives: 49.0000\n",
            "Epoch 183/200\n",
            "44/44 [==============================] - 1s 17ms/step - loss: 0.1807 - Accuracy: 0.9253 - false_negatives: 28.0000 - false_positives: 21.0000 - true_negatives: 1023.0000 - true_positives: 320.0000 - val_loss: 2.3793 - val_Accuracy: 0.5682 - val_false_negatives: 41.0000 - val_false_positives: 35.0000 - val_true_negatives: 229.0000 - val_true_positives: 47.0000\n",
            "Epoch 184/200\n",
            "44/44 [==============================] - 1s 16ms/step - loss: 0.2353 - Accuracy: 0.9282 - false_negatives: 26.0000 - false_positives: 25.0000 - true_negatives: 1019.0000 - true_positives: 322.0000 - val_loss: 2.3125 - val_Accuracy: 0.5682 - val_false_negatives: 39.0000 - val_false_positives: 37.0000 - val_true_negatives: 227.0000 - val_true_positives: 49.0000\n",
            "Epoch 185/200\n",
            "44/44 [==============================] - 1s 15ms/step - loss: 0.2398 - Accuracy: 0.9138 - false_negatives: 33.0000 - false_positives: 24.0000 - true_negatives: 1020.0000 - true_positives: 315.0000 - val_loss: 2.0833 - val_Accuracy: 0.6364 - val_false_negatives: 35.0000 - val_false_positives: 31.0000 - val_true_negatives: 233.0000 - val_true_positives: 53.0000\n",
            "Epoch 186/200\n",
            "44/44 [==============================] - 1s 16ms/step - loss: 0.1739 - Accuracy: 0.9339 - false_negatives: 24.0000 - false_positives: 21.0000 - true_negatives: 1023.0000 - true_positives: 324.0000 - val_loss: 2.4286 - val_Accuracy: 0.5909 - val_false_negatives: 38.0000 - val_false_positives: 32.0000 - val_true_negatives: 232.0000 - val_true_positives: 50.0000\n",
            "Epoch 187/200\n",
            "44/44 [==============================] - 1s 16ms/step - loss: 0.2448 - Accuracy: 0.9109 - false_negatives: 35.0000 - false_positives: 30.0000 - true_negatives: 1014.0000 - true_positives: 313.0000 - val_loss: 2.7190 - val_Accuracy: 0.5682 - val_false_negatives: 40.0000 - val_false_positives: 35.0000 - val_true_negatives: 229.0000 - val_true_positives: 48.0000\n",
            "Epoch 188/200\n",
            "44/44 [==============================] - 1s 16ms/step - loss: 0.1805 - Accuracy: 0.9368 - false_negatives: 27.0000 - false_positives: 18.0000 - true_negatives: 1026.0000 - true_positives: 321.0000 - val_loss: 2.6290 - val_Accuracy: 0.5455 - val_false_negatives: 41.0000 - val_false_positives: 38.0000 - val_true_negatives: 226.0000 - val_true_positives: 47.0000\n",
            "Epoch 189/200\n",
            "44/44 [==============================] - 1s 15ms/step - loss: 0.2537 - Accuracy: 0.8994 - false_negatives: 36.0000 - false_positives: 30.0000 - true_negatives: 1014.0000 - true_positives: 312.0000 - val_loss: 2.2869 - val_Accuracy: 0.5909 - val_false_negatives: 38.0000 - val_false_positives: 31.0000 - val_true_negatives: 233.0000 - val_true_positives: 50.0000\n",
            "Epoch 190/200\n",
            "44/44 [==============================] - 1s 15ms/step - loss: 0.2196 - Accuracy: 0.9253 - false_negatives: 33.0000 - false_positives: 25.0000 - true_negatives: 1019.0000 - true_positives: 315.0000 - val_loss: 2.4930 - val_Accuracy: 0.5795 - val_false_negatives: 38.0000 - val_false_positives: 36.0000 - val_true_negatives: 228.0000 - val_true_positives: 50.0000\n",
            "Epoch 191/200\n",
            "44/44 [==============================] - 1s 15ms/step - loss: 0.1925 - Accuracy: 0.9368 - false_negatives: 24.0000 - false_positives: 19.0000 - true_negatives: 1025.0000 - true_positives: 324.0000 - val_loss: 2.7282 - val_Accuracy: 0.5682 - val_false_negatives: 39.0000 - val_false_positives: 32.0000 - val_true_negatives: 232.0000 - val_true_positives: 49.0000\n",
            "Epoch 192/200\n",
            "44/44 [==============================] - 1s 16ms/step - loss: 0.2328 - Accuracy: 0.9052 - false_negatives: 35.0000 - false_positives: 31.0000 - true_negatives: 1013.0000 - true_positives: 313.0000 - val_loss: 2.6712 - val_Accuracy: 0.5000 - val_false_negatives: 45.0000 - val_false_positives: 39.0000 - val_true_negatives: 225.0000 - val_true_positives: 43.0000\n",
            "Epoch 193/200\n",
            "44/44 [==============================] - 1s 15ms/step - loss: 0.2427 - Accuracy: 0.9195 - false_negatives: 33.0000 - false_positives: 23.0000 - true_negatives: 1021.0000 - true_positives: 315.0000 - val_loss: 2.4086 - val_Accuracy: 0.5568 - val_false_negatives: 39.0000 - val_false_positives: 36.0000 - val_true_negatives: 228.0000 - val_true_positives: 49.0000\n",
            "Epoch 194/200\n",
            "44/44 [==============================] - 1s 16ms/step - loss: 0.1855 - Accuracy: 0.9224 - false_negatives: 30.0000 - false_positives: 26.0000 - true_negatives: 1018.0000 - true_positives: 318.0000 - val_loss: 2.3756 - val_Accuracy: 0.5909 - val_false_negatives: 37.0000 - val_false_positives: 34.0000 - val_true_negatives: 230.0000 - val_true_positives: 51.0000\n",
            "Epoch 195/200\n",
            "44/44 [==============================] - 1s 16ms/step - loss: 0.2230 - Accuracy: 0.9195 - false_negatives: 30.0000 - false_positives: 26.0000 - true_negatives: 1018.0000 - true_positives: 318.0000 - val_loss: 2.4908 - val_Accuracy: 0.5909 - val_false_negatives: 39.0000 - val_false_positives: 31.0000 - val_true_negatives: 233.0000 - val_true_positives: 49.0000\n",
            "Epoch 196/200\n",
            "44/44 [==============================] - 1s 15ms/step - loss: 0.2264 - Accuracy: 0.9224 - false_negatives: 31.0000 - false_positives: 25.0000 - true_negatives: 1019.0000 - true_positives: 317.0000 - val_loss: 2.5950 - val_Accuracy: 0.5455 - val_false_negatives: 43.0000 - val_false_positives: 36.0000 - val_true_negatives: 228.0000 - val_true_positives: 45.0000\n",
            "Epoch 197/200\n",
            "44/44 [==============================] - 1s 16ms/step - loss: 0.4098 - Accuracy: 0.8793 - false_negatives: 44.0000 - false_positives: 40.0000 - true_negatives: 1004.0000 - true_positives: 304.0000 - val_loss: 1.9551 - val_Accuracy: 0.6023 - val_false_negatives: 36.0000 - val_false_positives: 33.0000 - val_true_negatives: 231.0000 - val_true_positives: 52.0000\n",
            "Epoch 198/200\n",
            "44/44 [==============================] - 1s 15ms/step - loss: 0.3417 - Accuracy: 0.8851 - false_negatives: 46.0000 - false_positives: 37.0000 - true_negatives: 1007.0000 - true_positives: 302.0000 - val_loss: 2.2128 - val_Accuracy: 0.5795 - val_false_negatives: 39.0000 - val_false_positives: 33.0000 - val_true_negatives: 231.0000 - val_true_positives: 49.0000\n",
            "Epoch 199/200\n",
            "44/44 [==============================] - 1s 16ms/step - loss: 0.2099 - Accuracy: 0.9138 - false_negatives: 30.0000 - false_positives: 28.0000 - true_negatives: 1016.0000 - true_positives: 318.0000 - val_loss: 2.3036 - val_Accuracy: 0.5795 - val_false_negatives: 38.0000 - val_false_positives: 34.0000 - val_true_negatives: 230.0000 - val_true_positives: 50.0000\n",
            "Epoch 200/200\n",
            "44/44 [==============================] - 1s 16ms/step - loss: 0.1929 - Accuracy: 0.9224 - false_negatives: 29.0000 - false_positives: 24.0000 - true_negatives: 1020.0000 - true_positives: 319.0000 - val_loss: 2.5996 - val_Accuracy: 0.5568 - val_false_negatives: 41.0000 - val_false_positives: 36.0000 - val_true_negatives: 228.0000 - val_true_positives: 47.0000\n"
          ]
        }
      ]
    },
    {
      "cell_type": "markdown",
      "source": [
        "Plotting Traning Result"
      ],
      "metadata": {
        "id": "XZSFG8fXqz7c"
      }
    },
    {
      "cell_type": "code",
      "source": [
        "  #plotting\n",
        "  epochs = range(1, len(history.history['loss'])+1)\n",
        "  plt.title(f\"Grafik loss training iterasi {iterasi}\")\n",
        "  plt.plot(epochs, history.history['loss'], 'r', label='Training Loss')\n",
        "  plt.plot(epochs, history.history['val_loss'], 'b', label='Validation Loss')    \n",
        "  plt.xlabel(\"Epoch\")\n",
        "  plt.ylabel(\"Loss\")\n",
        "  plt.legend()\n",
        "  plt.show()\n"
      ],
      "metadata": {
        "id": "3dXbDrJpY1NK",
        "colab": {
          "base_uri": "https://localhost:8080/",
          "height": 295
        },
        "outputId": "c7001dc2-a872-4c7d-f89d-8767ed6e06b4"
      },
      "execution_count": 12,
      "outputs": [
        {
          "output_type": "display_data",
          "data": {
            "text/plain": [
              "<Figure size 432x288 with 1 Axes>"
            ],
            "image/png": "[encoded data removed]"
          },
          "metadata": {
            "needs_background": "light"
          }
        }
      ]
    },
    {
      "cell_type": "code",
      "source": [
        "  #plotting\n",
        "  epochs = range(1, len(history.history['loss'])+1)\n",
        "  plt.title(f\"Grafik Akurasi training iterasi {iterasi}\")\n",
        "  plt.plot(epochs, history.history['Accuracy'], 'r', label='Training Accuracy')\n",
        "  plt.plot(epochs, history.history['val_Accuracy'], 'b', label='Validation Accuracy')    \n",
        "  plt.xlabel(\"Epoch\")\n",
        "  plt.ylabel(\"Accuracy\")\n",
        "  plt.legend()\n",
        "  plt.show()"
      ],
      "metadata": {
        "id": "j3xigprPwlSX",
        "colab": {
          "base_uri": "https://localhost:8080/",
          "height": 295
        },
        "outputId": "ed227b4b-d541-436d-a837-453cf507c1c8"
      },
      "execution_count": 13,
      "outputs": [
        {
          "output_type": "display_data",
          "data": {
            "text/plain": [
              "<Figure size 432x288 with 1 Axes>"
            ],
            "image/png": "[encoded data removed]"
          },
          "metadata": {
            "needs_background": "light"
          }
        }
      ]
    },
    {
      "cell_type": "code",
      "source": [
        "import matplotlib.pyplot as plt\n",
        "from sklearn.datasets import make_classification\n",
        "from numpy import mean\n",
        "from sklearn.metrics import confusion_matrix, ConfusionMatrixDisplay, accuracy_score, classification_report, recall_score\n",
        "\n",
        "validation = model.predict(np_image_list_validation)\n",
        "\n",
        "predicted_labels = []\n",
        "correct_labels = []\n",
        "for i in range (len(validation)):\n",
        "  predicted_labels.append(np.argmax(validation[i]))\n",
        "\n",
        "for i in range (len(image_labels_validation)):\n",
        "  correct_labels.append(np.argmax(image_labels_validation[i]))\n",
        "\n",
        "\n",
        "confusion_matrix = confusion_matrix(correct_labels, predicted_labels)\n",
        "disp = ConfusionMatrixDisplay(confusion_matrix=confusion_matrix)  \n",
        "disp.plot()\n",
        "plt.show()\n",
        "print('--------')\n",
        "FP = confusion_matrix.sum(axis=0) - np.diag(confusion_matrix)  \n",
        "FN = confusion_matrix.sum(axis=1) - np.diag(confusion_matrix)\n",
        "TP = np.diag(confusion_matrix)\n",
        "TN = confusion_matrix.sum() - (FP + FN + TP)\n",
        "\n",
        "# Sensitivity, hit rate, recall, or true positive rate\n",
        "TPR = TP/(TP+FN)\n",
        "# Specificity or true negative rate\n",
        "TNR = TN/(TN+FP) \n",
        "# Overall accuracy\n",
        "ACC = (TP+TN)/(TP+FP+FN+TN)\n",
        "\n",
        "print(TP)\n",
        "print(TN)\n",
        "print(FP)\n",
        "print(FN)\n",
        "print('--------')\n",
        "print(ACC)\n",
        "print(TPR)\n",
        "print(TNR)\n",
        "print('--------')\n",
        "\n",
        "TP = sum(TP)\n",
        "TN = sum(TN)\n",
        "FP = sum(FP)\n",
        "FN = sum(FN)\n",
        "\n",
        "# Sensitivity, hit rate, recall, or true positive rate\n",
        "TPR = TP/(TP+FN)\n",
        "# Specificity or true negative rate\n",
        "TNR = TN/(TN+FP) \n",
        "# Overall accuracy\n",
        "ACC = (TP+TN)/(TP+FP+FN+TN)\n",
        "\n",
        "print(TP)\n",
        "print(TN)\n",
        "print(FP)\n",
        "print(FN)\n",
        "print('--------')\n",
        "print(ACC)\n",
        "print(TPR)\n",
        "print(TNR)"
      ],
      "metadata": {
        "colab": {
          "base_uri": "https://localhost:8080/",
          "height": 591
        },
        "id": "y0RigLm76Rpg",
        "outputId": "2e80f1e4-68b0-4c3e-ec5f-d468d055d337"
      },
      "execution_count": 14,
      "outputs": [
        {
          "output_type": "display_data",
          "data": {
            "text/plain": [
              "<Figure size 432x288 with 2 Axes>"
            ],
            "image/png": "[encoded data removed]"
          },
          "metadata": {
            "needs_background": "light"
          }
        },
        {
          "output_type": "stream",
          "name": "stdout",
          "text": [
            "--------\n",
            "[ 2  5  3 39]\n",
            "[74 70 59 22]\n",
            "[ 4  5  4 26]\n",
            "[ 8  8 22  1]\n",
            "--------\n",
            "[0.86363636 0.85227273 0.70454545 0.69318182]\n",
            "[0.2        0.38461538 0.12       0.975     ]\n",
            "[0.94871795 0.93333333 0.93650794 0.45833333]\n",
            "--------\n",
            "49\n",
            "225\n",
            "39\n",
            "39\n",
            "--------\n",
            "0.7784090909090909\n",
            "0.5568181818181818\n",
            "0.8522727272727273\n"
          ]
        }
      ]
    },
    {
      "cell_type": "code",
      "source": [
        "import matplotlib.pyplot as plt\n",
        "from sklearn.datasets import make_classification\n",
        "from numpy import mean\n",
        "from sklearn.metrics import confusion_matrix, ConfusionMatrixDisplay, accuracy_score, classification_report, recall_score\n",
        "\n",
        "test = model.predict(np_image_list_test)\n",
        "\n",
        "predicted_labels = []\n",
        "correct_labels = []\n",
        "for i in range (len(test)):\n",
        "  predicted_labels.append(np.argmax(test[i]))\n",
        "\n",
        "for i in range (len(image_labels_test)):\n",
        "  correct_labels.append(np.argmax(image_labels_test[i]))\n",
        "\n",
        "\n",
        "confusion_matrix = confusion_matrix(correct_labels, predicted_labels)\n",
        "disp = ConfusionMatrixDisplay(confusion_matrix=confusion_matrix)  \n",
        "disp.plot()\n",
        "plt.show()\n",
        "print('--------')\n",
        "FP = confusion_matrix.sum(axis=0) - np.diag(confusion_matrix)  \n",
        "FN = confusion_matrix.sum(axis=1) - np.diag(confusion_matrix)\n",
        "TP = np.diag(confusion_matrix)\n",
        "TN = confusion_matrix.sum() - (FP + FN + TP)\n",
        "\n",
        "# Sensitivity, hit rate, recall, or true positive rate\n",
        "TPR = TP/(TP+FN)\n",
        "# Specificity or true negative rate\n",
        "TNR = TN/(TN+FP) \n",
        "# Overall accuracy\n",
        "ACC = (TP+TN)/(TP+FP+FN+TN)\n",
        "\n",
        "print(TP)\n",
        "print(TN)\n",
        "print(FP)\n",
        "print(FN)\n",
        "print('--------')\n",
        "print(ACC)\n",
        "print(TPR)\n",
        "print(TNR)\n",
        "print('--------')\n",
        "\n",
        "TP = sum(TP)\n",
        "TN = sum(TN)\n",
        "FP = sum(FP)\n",
        "FN = sum(FN)\n",
        "\n",
        "# Sensitivity, hit rate, recall, or true positive rate\n",
        "TPR = TP/(TP+FN)\n",
        "# Specificity or true negative rate\n",
        "TNR = TN/(TN+FP) \n",
        "# Overall accuracy\n",
        "ACC = (TP+TN)/(TP+FP+FN+TN)\n",
        "\n",
        "print(TP)\n",
        "print(TN)\n",
        "print(FP)\n",
        "print(FN)\n",
        "print('--------')\n",
        "print(ACC)\n",
        "print(TPR)\n",
        "print(TNR)"
      ],
      "metadata": {
        "colab": {
          "base_uri": "https://localhost:8080/",
          "height": 591
        },
        "id": "xufCN02P5v4A",
        "outputId": "0c7b8046-1a9b-4643-917d-1e2df02cd5f6"
      },
      "execution_count": 15,
      "outputs": [
        {
          "output_type": "display_data",
          "data": {
            "text/plain": [
              "<Figure size 432x288 with 2 Axes>"
            ],
            "image/png": "[encoded data removed]"
          },
          "metadata": {
            "needs_background": "light"
          }
        },
        {
          "output_type": "stream",
          "name": "stdout",
          "text": [
            "--------\n",
            "[ 3  6  6 48]\n",
            "[94 89 72 28]\n",
            "[ 4  5  6 32]\n",
            "[ 9 10 26  2]\n",
            "--------\n",
            "[0.88181818 0.86363636 0.70909091 0.69090909]\n",
            "[0.25   0.375  0.1875 0.96  ]\n",
            "[0.95918367 0.94680851 0.92307692 0.46666667]\n",
            "--------\n",
            "63\n",
            "283\n",
            "47\n",
            "47\n",
            "--------\n",
            "0.7863636363636364\n",
            "0.5727272727272728\n",
            "0.8575757575757575\n"
          ]
        }
      ]
    },
    {
      "cell_type": "markdown",
      "metadata": {
        "id": "bTgk1-sdzmgy"
      },
      "source": [
        "**Validating** Network"
      ]
    },
    {
      "cell_type": "code",
      "source": [
        "\n"
      ],
      "metadata": {
        "id": "d_NBE4KkWuhu"
      },
      "execution_count": 15,
      "outputs": []
    },
    {
      "cell_type": "markdown",
      "source": [
        "**Testing** Network"
      ],
      "metadata": {
        "id": "saJYjKqX9tRL"
      }
    },
    {
      "cell_type": "code",
      "source": [
        "\n"
      ],
      "metadata": {
        "id": "A7DR52hmTc75"
      },
      "execution_count": 15,
      "outputs": []
    },
    {
      "cell_type": "code",
      "source": [
        "test_img = cv2.imread('/content/Datasets/fold1/Test/apel_sehat/apel_sehat (1).jpg')\n",
        "\n",
        "plt.imshow(test_img)\n",
        "test_img = test_img / 255\n",
        "test_img = np.expand_dims(test_img, axis=0)\n",
        "pr=model.predict(test_img)\n",
        "\n",
        "print(pr)\n",
        "output = label_binarizer.inverse_transform(pr)\n",
        "print(output)"
      ],
      "metadata": {
        "colab": {
          "base_uri": "https://localhost:8080/",
          "height": 303
        },
        "id": "zkMI6CwJArvo",
        "outputId": "a33104c7-5a59-4683-eb1e-39d5bd8c3e13"
      },
      "execution_count": 16,
      "outputs": [
        {
          "output_type": "stream",
          "name": "stdout",
          "text": [
            "[[4.7624100e-04 3.2426011e-05 2.6142172e-05 9.9946529e-01]]\n",
            "['apel_sehat']\n"
          ]
        },
        {
          "output_type": "display_data",
          "data": {
            "text/plain": [
              "<Figure size 432x288 with 1 Axes>"
            ],
            "image/png": "[encoded data removed]"
          },
          "metadata": {
            "needs_background": "light"
          }
        }
      ]
    },
    {
      "cell_type": "code",
      "source": [
        "# save the model to disk\n",
        "#print(\"[INFO] Saving model...\")\n",
        "#pickle.dump(model,open('cnn_model.pkl', 'wb'))\n",
        "#model.save('/content/fold1.h5')"
      ],
      "metadata": {
        "id": "Wr_b8qBuCAIS"
      },
      "execution_count": 17,
      "outputs": []
    }
  ]
}