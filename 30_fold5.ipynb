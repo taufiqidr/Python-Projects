{
  "nbformat": 4,
  "nbformat_minor": 0,
  "metadata": {
    "accelerator": "GPU",
    "colab": {
      "name": "Kodingan Skripsi 3",
      "provenance": [],
      "collapsed_sections": [],
      "include_colab_link": true
    },
    "kernelspec": {
      "display_name": "Python 3",
      "language": "python",
      "name": "python3"
    },
    "language_info": {
      "codemirror_mode": {
        "name": "ipython",
        "version": 3
      },
      "file_extension": ".py",
      "mimetype": "text/x-python",
      "name": "python",
      "nbconvert_exporter": "python",
      "pygments_lexer": "ipython3",
      "version": "3.6.6"
    }
  },
  "cells": [
    {
      "cell_type": "markdown",
      "metadata": {
        "id": "view-in-github",
        "colab_type": "text"
      },
      "source": [
        "<a href=\"https://colab.research.google.com/github/TaufiqIdrus/Python-Projects/blob/master/30_fold5.ipynb\" target=\"_parent\"><img src=\"https://colab.research.google.com/assets/colab-badge.svg\" alt=\"Open In Colab\"/></a>"
      ]
    },
    {
      "cell_type": "markdown",
      "metadata": {
        "id": "yJT_kQA2lITS"
      },
      "source": [
        "**Identifikasi Penyakit Pada Tanaman Apel menggunakan Convolutional Neural Network**"
      ]
    },
    {
      "cell_type": "code",
      "metadata": {
        "id": "xXeOaYTUzmgT"
      },
      "source": [
        "import numpy as np\n",
        "import pickle\n",
        "import os\n",
        "import cv2\n",
        "import tensorflow as tf\n",
        "import keras\n",
        "from os import listdir\n",
        "from sklearn.preprocessing import LabelBinarizer\n",
        "from keras.models import Sequential\n",
        "from keras.layers.convolutional import Conv2D\n",
        "from keras.layers.convolutional import MaxPooling2D\n",
        "from keras.layers.core import Activation, Flatten, Dropout, Dense\n",
        "from keras import backend as K\n",
        "from tensorflow.keras.optimizers import Adam\n",
        "from keras.preprocessing import image\n",
        "import matplotlib.pyplot as plt\n",
        "from sklearn.datasets import make_classification\n",
        "from numpy import mean\n"
      ],
      "execution_count": 1,
      "outputs": []
    },
    {
      "cell_type": "markdown",
      "metadata": {
        "id": "fp8C0d28lQok"
      },
      "source": [
        "Importing and Preparing Dataset"
      ]
    },
    {
      "cell_type": "code",
      "metadata": {
        "id": "_0xehllADlUs",
        "colab": {
          "base_uri": "https://localhost:8080/"
        },
        "outputId": "e563865f-d9ad-4009-e597-c50d0ed97d66"
      },
      "source": [
        "!pip install pyunpack\n",
        "!pip install patool\n",
        "from pyunpack import Archive\n",
        "Archive('/content/fold5.rar').extractall('/content/Datasets/')\n",
        "iterasi = 5\n",
        "width=60\n",
        "height=60\n",
        "default_image_size = tuple((height, width))\n",
        "directory_root_train = '/content/Datasets/fold5/Train'\n",
        "directory_root_validation = '/content/Datasets/fold5/Validation'\n",
        "directory_root_test = '/content/Datasets/fold5/Test'\n",
        "image_size = 0\n",
        "depth=3"
      ],
      "execution_count": 2,
      "outputs": [
        {
          "output_type": "stream",
          "name": "stdout",
          "text": [
            "Looking in indexes: https://pypi.org/simple, https://us-python.pkg.dev/colab-wheels/public/simple/\n",
            "Collecting pyunpack\n",
            "  Downloading pyunpack-0.3-py2.py3-none-any.whl (4.1 kB)\n",
            "Collecting easyprocess\n",
            "  Downloading EasyProcess-1.1-py3-none-any.whl (8.7 kB)\n",
            "Collecting entrypoint2\n",
            "  Downloading entrypoint2-1.1-py2.py3-none-any.whl (9.9 kB)\n",
            "Installing collected packages: entrypoint2, easyprocess, pyunpack\n",
            "Successfully installed easyprocess-1.1 entrypoint2-1.1 pyunpack-0.3\n",
            "Looking in indexes: https://pypi.org/simple, https://us-python.pkg.dev/colab-wheels/public/simple/\n",
            "Collecting patool\n",
            "  Downloading patool-1.12-py2.py3-none-any.whl (77 kB)\n",
            "\u001b[K     |████████████████████████████████| 77 kB 3.8 MB/s \n",
            "\u001b[?25hInstalling collected packages: patool\n",
            "Successfully installed patool-1.12\n"
          ]
        }
      ]
    },
    {
      "cell_type": "code",
      "metadata": {
        "id": "KbAwJJTpzmge"
      },
      "source": [
        "def convert_image_to_array(image_dir):\n",
        "    try:\n",
        "        image = cv2.imread(image_dir)\n",
        "        if image is not None :\n",
        "            image = cv2.resize(image, default_image_size)   \n",
        "            return keras.preprocessing.image.img_to_array(image)\n",
        "        else :\n",
        "            return np.array([])\n",
        "    except Exception as e:\n",
        "        print(f\"Error : {e}\")\n",
        "        return None"
      ],
      "execution_count": 3,
      "outputs": []
    },
    {
      "cell_type": "markdown",
      "source": [
        "Converting **Training** Data to Array"
      ],
      "metadata": {
        "id": "bgXxUMO2cI_D"
      }
    },
    {
      "cell_type": "code",
      "metadata": {
        "id": "Erz6IjKXzmgg",
        "colab": {
          "base_uri": "https://localhost:8080/"
        },
        "outputId": "2b08b2df-77e7-409c-bf17-bd55de805fd9"
      },
      "source": [
        "image_list_train, label_list_train = [], []\n",
        "try:\n",
        "    print(\"[INFO] Loading images ...\")\n",
        "    root_dir = listdir(directory_root_train)\n",
        "\n",
        "    for plant_disease_folder in root_dir:\n",
        "        print(f\"[INFO] Processing {plant_disease_folder} ...\")\n",
        "        plant_disease_image_list = listdir(f\"{directory_root_train}/{plant_disease_folder}/\")\n",
        "      \n",
        "        for image in plant_disease_image_list:\n",
        "            image_directory = f\"{directory_root_train}/{plant_disease_folder}/{image}\"\n",
        "\n",
        "            if image_directory.endswith(\".jpg\") == True or image_directory.endswith(\".JPG\") == True:\n",
        "                image_list_train.append(convert_image_to_array(image_directory))\n",
        "                label_list_train.append(plant_disease_folder)\n",
        "    print(\"[INFO] Image loading completed\")\n",
        "\n",
        "except Exception as e:\n",
        "    print(f\"Error : {e}\")\n",
        "\n",
        "#image labeling\n",
        "image_size = len(image_list_train)\n",
        "label_binarizer = LabelBinarizer()\n",
        "image_labels_train = label_binarizer.fit_transform(label_list_train)\n",
        "pickle.dump(label_binarizer,open('label_transform_train.pkl', 'wb'))\n",
        "n_classes = len(label_binarizer.classes_)\n",
        "np_image_list_train = np.array(image_list_train, dtype=np.float16) / 255.0"
      ],
      "execution_count": 4,
      "outputs": [
        {
          "output_type": "stream",
          "name": "stdout",
          "text": [
            "[INFO] Loading images ...\n",
            "[INFO] Processing apel_sehat ...\n",
            "[INFO] Processing apel_busuk_buah ...\n",
            "[INFO] Processing apel_bercak_daun ...\n",
            "[INFO] Processing apel_cacar_daun ...\n",
            "[INFO] Image loading completed\n"
          ]
        }
      ]
    },
    {
      "cell_type": "markdown",
      "source": [
        "Converting **Validation** Data to Array"
      ],
      "metadata": {
        "id": "7eEMGiqRd_E4"
      }
    },
    {
      "cell_type": "code",
      "source": [
        "image_list_validation, label_list_validation = [], []\n",
        "try:\n",
        "    print(\"[INFO] Loading images ...\")\n",
        "    root_dir = listdir(directory_root_validation)\n",
        "\n",
        "    for plant_disease_folder in root_dir:\n",
        "        print(f\"[INFO] Processing {plant_disease_folder} ...\")\n",
        "        plant_disease_image_list = listdir(f\"{directory_root_validation}/{plant_disease_folder}/\")\n",
        "      \n",
        "        for image in plant_disease_image_list:\n",
        "            image_directory = f\"{directory_root_validation}/{plant_disease_folder}/{image}\"\n",
        "\n",
        "            if image_directory.endswith(\".jpg\") == True or image_directory.endswith(\".JPG\") == True:\n",
        "                image_list_validation.append(convert_image_to_array(image_directory))\n",
        "                label_list_validation.append(plant_disease_folder)\n",
        "    print(\"[INFO] Image loading completed\")\n",
        "\n",
        "except Exception as e:\n",
        "    print(f\"Error : {e}\")\n",
        "\n",
        "#image labeling\n",
        "image_size = len(image_list_validation)\n",
        "label_binarizer = LabelBinarizer()\n",
        "image_labels_validation = label_binarizer.fit_transform(label_list_validation)\n",
        "pickle.dump(label_binarizer,open('label_transform_validation.pkl', 'wb'))\n",
        "n_classes = len(label_binarizer.classes_)\n",
        "np_image_list_validation = np.array(image_list_validation, dtype=np.float16) / 255.0"
      ],
      "metadata": {
        "id": "wfHDdR0ZeEuU",
        "colab": {
          "base_uri": "https://localhost:8080/"
        },
        "outputId": "8ff5d951-bd1d-4ea0-c306-fba0ae0307a5"
      },
      "execution_count": 5,
      "outputs": [
        {
          "output_type": "stream",
          "name": "stdout",
          "text": [
            "[INFO] Loading images ...\n",
            "[INFO] Processing apel_sehat ...\n",
            "[INFO] Processing apel_busuk_buah ...\n",
            "[INFO] Processing apel_bercak_daun ...\n",
            "[INFO] Processing apel_cacar_daun ...\n",
            "[INFO] Image loading completed\n"
          ]
        }
      ]
    },
    {
      "cell_type": "markdown",
      "source": [
        "Converting **Testing** Data to Array"
      ],
      "metadata": {
        "id": "brwWyZVncTdg"
      }
    },
    {
      "cell_type": "code",
      "metadata": {
        "id": "uNPby5UMcaWY",
        "colab": {
          "base_uri": "https://localhost:8080/"
        },
        "outputId": "b4fc4f82-ef75-41c6-8aad-c188ca6e208d"
      },
      "source": [
        "image_list_test, label_list_test = [], []\n",
        "try:\n",
        "    print(\"[INFO] Loading images ...\")\n",
        "    root_dir = listdir(directory_root_test)\n",
        "\n",
        "    for plant_disease_folder in root_dir:\n",
        "        print(f\"[INFO] Processing {plant_disease_folder} ...\")\n",
        "        plant_disease_image_list = listdir(f\"{directory_root_test}/{plant_disease_folder}/\")\n",
        "      \n",
        "        for image in plant_disease_image_list:\n",
        "            image_directory = f\"{directory_root_test}/{plant_disease_folder}/{image}\"\n",
        "\n",
        "            if image_directory.endswith(\".jpg\") == True or image_directory.endswith(\".JPG\") == True:\n",
        "                image_list_test.append(convert_image_to_array(image_directory))\n",
        "                label_list_test.append(plant_disease_folder)\n",
        "    print(\"[INFO] Image loading completed\")\n",
        "\n",
        "except Exception as e:\n",
        "    print(f\"Error : {e}\")\n",
        "\n",
        "#image labeling\n",
        "image_size = len(image_list_test)\n",
        "label_binarizer = LabelBinarizer()\n",
        "image_labels_test = label_binarizer.fit_transform(label_list_test)\n",
        "pickle.dump(label_binarizer,open('label_transform_test.pkl', 'wb'))\n",
        "n_classes = len(label_binarizer.classes_)\n",
        "np_image_list_test = np.array(image_list_test, dtype=np.float16) / 255.0"
      ],
      "execution_count": 6,
      "outputs": [
        {
          "output_type": "stream",
          "name": "stdout",
          "text": [
            "[INFO] Loading images ...\n",
            "[INFO] Processing apel_sehat ...\n",
            "[INFO] Processing apel_busuk_buah ...\n",
            "[INFO] Processing apel_bercak_daun ...\n",
            "[INFO] Processing apel_cacar_daun ...\n",
            "[INFO] Image loading completed\n"
          ]
        }
      ]
    },
    {
      "cell_type": "markdown",
      "metadata": {
        "id": "jYBTFN0CnAi7"
      },
      "source": [
        "Data Augmenting Initialization"
      ]
    },
    {
      "cell_type": "code",
      "metadata": {
        "id": "TLMxMK2Tzmgr"
      },
      "source": [
        "aug = keras.preprocessing.image.ImageDataGenerator(\n",
        "    rotation_range=25, \n",
        "    width_shift_range=0.1,\n",
        "    height_shift_range=0.1, \n",
        "    shear_range=0.2, \n",
        "    zoom_range=0.2,\n",
        "    horizontal_flip=True, \n",
        "    fill_mode=\"nearest\")"
      ],
      "execution_count": 7,
      "outputs": []
    },
    {
      "cell_type": "markdown",
      "metadata": {
        "id": "H1BfRyYNnGv_"
      },
      "source": [
        "Creating CNN Model"
      ]
    },
    {
      "cell_type": "code",
      "metadata": {
        "id": "WmLX4wm8zmgs"
      },
      "source": [
        "model = keras.models.Sequential()\n",
        "#inputShape = (height, width, depth)\n",
        "inputShape = (60,60,3)\n",
        "\n",
        "model.add(Conv2D(20, (5, 5), padding=\"same\",input_shape=inputShape))\n",
        "model.add(Activation(\"relu\"))\n",
        "\n",
        "model.add(MaxPooling2D(pool_size=(2, 2), strides=2))\n",
        "\n",
        "model.add(Conv2D(50, (5, 5), padding=\"same\"))\n",
        "model.add(Activation(\"relu\"))\n",
        "\n",
        "model.add(MaxPooling2D(pool_size=(2, 2),strides=2))\n",
        "\n",
        "model.add(Flatten())\n",
        "\n",
        "model.add(Dense(500))\n",
        "model.add(Activation(\"relu\"))\n",
        "\n",
        "model.add(Dense(4))\n",
        "model.add(Activation(\"softmax\"))"
      ],
      "execution_count": 8,
      "outputs": []
    },
    {
      "cell_type": "code",
      "source": [
        "model.summary()"
      ],
      "metadata": {
        "id": "RQIgaph8hW06",
        "colab": {
          "base_uri": "https://localhost:8080/"
        },
        "outputId": "f52a33ee-7c00-4a04-e4b3-2c1fdf43638f"
      },
      "execution_count": 9,
      "outputs": [
        {
          "output_type": "stream",
          "name": "stdout",
          "text": [
            "Model: \"sequential\"\n",
            "_________________________________________________________________\n",
            " Layer (type)                Output Shape              Param #   \n",
            "=================================================================\n",
            " conv2d (Conv2D)             (None, 60, 60, 20)        1520      \n",
            "                                                                 \n",
            " activation (Activation)     (None, 60, 60, 20)        0         \n",
            "                                                                 \n",
            " max_pooling2d (MaxPooling2D  (None, 30, 30, 20)       0         \n",
            " )                                                               \n",
            "                                                                 \n",
            " conv2d_1 (Conv2D)           (None, 30, 30, 50)        25050     \n",
            "                                                                 \n",
            " activation_1 (Activation)   (None, 30, 30, 50)        0         \n",
            "                                                                 \n",
            " max_pooling2d_1 (MaxPooling  (None, 15, 15, 50)       0         \n",
            " 2D)                                                             \n",
            "                                                                 \n",
            " flatten (Flatten)           (None, 11250)             0         \n",
            "                                                                 \n",
            " dense (Dense)               (None, 500)               5625500   \n",
            "                                                                 \n",
            " activation_2 (Activation)   (None, 500)               0         \n",
            "                                                                 \n",
            " dense_1 (Dense)             (None, 4)                 2004      \n",
            "                                                                 \n",
            " activation_3 (Activation)   (None, 4)                 0         \n",
            "                                                                 \n",
            "=================================================================\n",
            "Total params: 5,654,074\n",
            "Trainable params: 5,654,074\n",
            "Non-trainable params: 0\n",
            "_________________________________________________________________\n"
          ]
        }
      ]
    },
    {
      "cell_type": "code",
      "source": [
        "#from PIL import Image\n",
        "#from keras.utils.vis_utils import plot_model\n",
        "#plot_model(model, to_file='cnn_model.png', show_shapes=True, show_layer_names=True)\n",
        "#display(Image.open('cnn_model.png'))"
      ],
      "metadata": {
        "id": "T05gPuu1GudW"
      },
      "execution_count": 10,
      "outputs": []
    },
    {
      "cell_type": "markdown",
      "metadata": {
        "id": "Zfsu3lVfnXFG"
      },
      "source": [
        "**Training** Network"
      ]
    },
    {
      "cell_type": "code",
      "metadata": {
        "id": "rvwKwe3Lzmgv",
        "colab": {
          "base_uri": "https://localhost:8080/"
        },
        "outputId": "bd64e8ae-7cfd-4484-f789-017ad0f338ac"
      },
      "source": [
        "EPOCHS = 200\n",
        "INIT_LR = 1e-3\n",
        "BS = 8\n",
        "\n",
        "with tf.device('/GPU:0'):\n",
        "  opt = Adam(learning_rate=INIT_LR, decay=INIT_LR / EPOCHS)\n",
        "  model.compile(loss=\"categorical_crossentropy\", optimizer=opt,metrics=[\"Accuracy\", \"FalseNegatives\", \"FalsePositives\", \"TrueNegatives\", \"TruePositives\"])\n",
        "  \n",
        "  history = model.fit(\n",
        "      aug.flow(np_image_list_train, image_labels_train, batch_size=BS),\n",
        "      validation_data=(np_image_list_validation, image_labels_validation),\n",
        "      steps_per_epoch=len(np_image_list_train) // BS,\n",
        "      epochs=EPOCHS, \n",
        "      verbose=1,\n",
        "      )\n"
      ],
      "execution_count": 11,
      "outputs": [
        {
          "output_type": "stream",
          "name": "stdout",
          "text": [
            "Epoch 1/200\n",
            "44/44 [==============================] - 18s 56ms/step - loss: 1.3132 - Accuracy: 0.4148 - false_negatives: 306.0000 - false_positives: 46.0000 - true_negatives: 1010.0000 - true_positives: 46.0000 - val_loss: 1.2208 - val_Accuracy: 0.4348 - val_false_negatives: 74.0000 - val_false_positives: 5.0000 - val_true_negatives: 271.0000 - val_true_positives: 18.0000\n",
            "Epoch 2/200\n",
            "44/44 [==============================] - 1s 15ms/step - loss: 1.1347 - Accuracy: 0.5284 - false_negatives: 246.0000 - false_positives: 45.0000 - true_negatives: 1011.0000 - true_positives: 106.0000 - val_loss: 1.1809 - val_Accuracy: 0.5652 - val_false_negatives: 75.0000 - val_false_positives: 4.0000 - val_true_negatives: 272.0000 - val_true_positives: 17.0000\n",
            "Epoch 3/200\n",
            "44/44 [==============================] - 1s 15ms/step - loss: 1.0616 - Accuracy: 0.6051 - false_negatives: 238.0000 - false_positives: 34.0000 - true_negatives: 1022.0000 - true_positives: 114.0000 - val_loss: 1.5489 - val_Accuracy: 0.4457 - val_false_negatives: 53.0000 - val_false_positives: 40.0000 - val_true_negatives: 236.0000 - val_true_positives: 39.0000\n",
            "Epoch 4/200\n",
            "44/44 [==============================] - 1s 15ms/step - loss: 1.0101 - Accuracy: 0.6051 - false_negatives: 198.0000 - false_positives: 56.0000 - true_negatives: 1000.0000 - true_positives: 154.0000 - val_loss: 1.2986 - val_Accuracy: 0.5870 - val_false_negatives: 40.0000 - val_false_positives: 34.0000 - val_true_negatives: 242.0000 - val_true_positives: 52.0000\n",
            "Epoch 5/200\n",
            "44/44 [==============================] - 1s 15ms/step - loss: 0.9133 - Accuracy: 0.6364 - false_negatives: 181.0000 - false_positives: 57.0000 - true_negatives: 999.0000 - true_positives: 171.0000 - val_loss: 1.3532 - val_Accuracy: 0.5217 - val_false_negatives: 61.0000 - val_false_positives: 18.0000 - val_true_negatives: 258.0000 - val_true_positives: 31.0000\n",
            "Epoch 6/200\n",
            "44/44 [==============================] - 1s 15ms/step - loss: 0.9067 - Accuracy: 0.6307 - false_negatives: 187.0000 - false_positives: 45.0000 - true_negatives: 1011.0000 - true_positives: 165.0000 - val_loss: 1.1879 - val_Accuracy: 0.5652 - val_false_negatives: 56.0000 - val_false_positives: 21.0000 - val_true_negatives: 255.0000 - val_true_positives: 36.0000\n",
            "Epoch 7/200\n",
            "44/44 [==============================] - 1s 16ms/step - loss: 0.8959 - Accuracy: 0.6136 - false_negatives: 182.0000 - false_positives: 54.0000 - true_negatives: 1002.0000 - true_positives: 170.0000 - val_loss: 1.4204 - val_Accuracy: 0.5652 - val_false_negatives: 51.0000 - val_false_positives: 19.0000 - val_true_negatives: 257.0000 - val_true_positives: 41.0000\n",
            "Epoch 8/200\n",
            "44/44 [==============================] - 1s 15ms/step - loss: 0.8944 - Accuracy: 0.6392 - false_negatives: 171.0000 - false_positives: 53.0000 - true_negatives: 1003.0000 - true_positives: 181.0000 - val_loss: 1.3071 - val_Accuracy: 0.6196 - val_false_negatives: 43.0000 - val_false_positives: 23.0000 - val_true_negatives: 253.0000 - val_true_positives: 49.0000\n",
            "Epoch 9/200\n",
            "44/44 [==============================] - 1s 15ms/step - loss: 0.8648 - Accuracy: 0.6506 - false_negatives: 164.0000 - false_positives: 80.0000 - true_negatives: 976.0000 - true_positives: 188.0000 - val_loss: 1.4656 - val_Accuracy: 0.5870 - val_false_negatives: 43.0000 - val_false_positives: 32.0000 - val_true_negatives: 244.0000 - val_true_positives: 49.0000\n",
            "Epoch 10/200\n",
            "44/44 [==============================] - 1s 15ms/step - loss: 0.9009 - Accuracy: 0.6591 - false_negatives: 165.0000 - false_positives: 69.0000 - true_negatives: 987.0000 - true_positives: 187.0000 - val_loss: 1.4650 - val_Accuracy: 0.5978 - val_false_negatives: 43.0000 - val_false_positives: 23.0000 - val_true_negatives: 253.0000 - val_true_positives: 49.0000\n",
            "Epoch 11/200\n",
            "44/44 [==============================] - 1s 14ms/step - loss: 0.8880 - Accuracy: 0.6761 - false_negatives: 167.0000 - false_positives: 63.0000 - true_negatives: 993.0000 - true_positives: 185.0000 - val_loss: 1.1961 - val_Accuracy: 0.6413 - val_false_negatives: 40.0000 - val_false_positives: 27.0000 - val_true_negatives: 249.0000 - val_true_positives: 52.0000\n",
            "Epoch 12/200\n",
            "44/44 [==============================] - 1s 14ms/step - loss: 0.8886 - Accuracy: 0.6648 - false_negatives: 167.0000 - false_positives: 59.0000 - true_negatives: 997.0000 - true_positives: 185.0000 - val_loss: 1.1361 - val_Accuracy: 0.5978 - val_false_negatives: 54.0000 - val_false_positives: 15.0000 - val_true_negatives: 261.0000 - val_true_positives: 38.0000\n",
            "Epoch 13/200\n",
            "44/44 [==============================] - 1s 15ms/step - loss: 0.8264 - Accuracy: 0.7045 - false_negatives: 153.0000 - false_positives: 59.0000 - true_negatives: 997.0000 - true_positives: 199.0000 - val_loss: 1.1991 - val_Accuracy: 0.6087 - val_false_negatives: 48.0000 - val_false_positives: 13.0000 - val_true_negatives: 263.0000 - val_true_positives: 44.0000\n",
            "Epoch 14/200\n",
            "44/44 [==============================] - 1s 15ms/step - loss: 0.7883 - Accuracy: 0.7102 - false_negatives: 135.0000 - false_positives: 61.0000 - true_negatives: 995.0000 - true_positives: 217.0000 - val_loss: 1.3696 - val_Accuracy: 0.6413 - val_false_negatives: 41.0000 - val_false_positives: 22.0000 - val_true_negatives: 254.0000 - val_true_positives: 51.0000\n",
            "Epoch 15/200\n",
            "44/44 [==============================] - 1s 15ms/step - loss: 0.7866 - Accuracy: 0.6960 - false_negatives: 138.0000 - false_positives: 70.0000 - true_negatives: 986.0000 - true_positives: 214.0000 - val_loss: 1.1130 - val_Accuracy: 0.6413 - val_false_negatives: 45.0000 - val_false_positives: 18.0000 - val_true_negatives: 258.0000 - val_true_positives: 47.0000\n",
            "Epoch 16/200\n",
            "44/44 [==============================] - 1s 16ms/step - loss: 0.7618 - Accuracy: 0.7017 - false_negatives: 138.0000 - false_positives: 59.0000 - true_negatives: 997.0000 - true_positives: 214.0000 - val_loss: 1.2229 - val_Accuracy: 0.5978 - val_false_negatives: 42.0000 - val_false_positives: 29.0000 - val_true_negatives: 247.0000 - val_true_positives: 50.0000\n",
            "Epoch 17/200\n",
            "44/44 [==============================] - 1s 16ms/step - loss: 0.7769 - Accuracy: 0.7074 - false_negatives: 125.0000 - false_positives: 66.0000 - true_negatives: 990.0000 - true_positives: 227.0000 - val_loss: 1.3893 - val_Accuracy: 0.6087 - val_false_negatives: 41.0000 - val_false_positives: 32.0000 - val_true_negatives: 244.0000 - val_true_positives: 51.0000\n",
            "Epoch 18/200\n",
            "44/44 [==============================] - 1s 15ms/step - loss: 0.7462 - Accuracy: 0.7273 - false_negatives: 129.0000 - false_positives: 60.0000 - true_negatives: 996.0000 - true_positives: 223.0000 - val_loss: 1.1614 - val_Accuracy: 0.6630 - val_false_negatives: 39.0000 - val_false_positives: 19.0000 - val_true_negatives: 257.0000 - val_true_positives: 53.0000\n",
            "Epoch 19/200\n",
            "44/44 [==============================] - 1s 15ms/step - loss: 0.7868 - Accuracy: 0.6705 - false_negatives: 142.0000 - false_positives: 74.0000 - true_negatives: 982.0000 - true_positives: 210.0000 - val_loss: 1.0240 - val_Accuracy: 0.6848 - val_false_negatives: 36.0000 - val_false_positives: 20.0000 - val_true_negatives: 256.0000 - val_true_positives: 56.0000\n",
            "Epoch 20/200\n",
            "44/44 [==============================] - 1s 15ms/step - loss: 0.7352 - Accuracy: 0.7244 - false_negatives: 119.0000 - false_positives: 69.0000 - true_negatives: 987.0000 - true_positives: 233.0000 - val_loss: 1.2221 - val_Accuracy: 0.6304 - val_false_negatives: 40.0000 - val_false_positives: 16.0000 - val_true_negatives: 260.0000 - val_true_positives: 52.0000\n",
            "Epoch 21/200\n",
            "44/44 [==============================] - 1s 15ms/step - loss: 0.7030 - Accuracy: 0.7528 - false_negatives: 111.0000 - false_positives: 56.0000 - true_negatives: 1000.0000 - true_positives: 241.0000 - val_loss: 1.1006 - val_Accuracy: 0.6413 - val_false_negatives: 40.0000 - val_false_positives: 29.0000 - val_true_negatives: 247.0000 - val_true_positives: 52.0000\n",
            "Epoch 22/200\n",
            "44/44 [==============================] - 1s 15ms/step - loss: 0.7319 - Accuracy: 0.7386 - false_negatives: 120.0000 - false_positives: 56.0000 - true_negatives: 1000.0000 - true_positives: 232.0000 - val_loss: 1.1040 - val_Accuracy: 0.6848 - val_false_negatives: 40.0000 - val_false_positives: 23.0000 - val_true_negatives: 253.0000 - val_true_positives: 52.0000\n",
            "Epoch 23/200\n",
            "44/44 [==============================] - 1s 16ms/step - loss: 0.6732 - Accuracy: 0.7358 - false_negatives: 105.0000 - false_positives: 61.0000 - true_negatives: 995.0000 - true_positives: 247.0000 - val_loss: 1.1079 - val_Accuracy: 0.6413 - val_false_negatives: 37.0000 - val_false_positives: 27.0000 - val_true_negatives: 249.0000 - val_true_positives: 55.0000\n",
            "Epoch 24/200\n",
            "44/44 [==============================] - 1s 15ms/step - loss: 0.6068 - Accuracy: 0.7784 - false_negatives: 94.0000 - false_positives: 55.0000 - true_negatives: 1001.0000 - true_positives: 258.0000 - val_loss: 1.2918 - val_Accuracy: 0.6304 - val_false_negatives: 35.0000 - val_false_positives: 31.0000 - val_true_negatives: 245.0000 - val_true_positives: 57.0000\n",
            "Epoch 25/200\n",
            "44/44 [==============================] - 1s 15ms/step - loss: 0.6487 - Accuracy: 0.7528 - false_negatives: 106.0000 - false_positives: 60.0000 - true_negatives: 996.0000 - true_positives: 246.0000 - val_loss: 1.0395 - val_Accuracy: 0.6304 - val_false_negatives: 39.0000 - val_false_positives: 31.0000 - val_true_negatives: 245.0000 - val_true_positives: 53.0000\n",
            "Epoch 26/200\n",
            "44/44 [==============================] - 1s 16ms/step - loss: 0.6824 - Accuracy: 0.7557 - false_negatives: 108.0000 - false_positives: 64.0000 - true_negatives: 992.0000 - true_positives: 244.0000 - val_loss: 1.1157 - val_Accuracy: 0.6087 - val_false_negatives: 38.0000 - val_false_positives: 32.0000 - val_true_negatives: 244.0000 - val_true_positives: 54.0000\n",
            "Epoch 27/200\n",
            "44/44 [==============================] - 1s 16ms/step - loss: 0.6553 - Accuracy: 0.7614 - false_negatives: 104.0000 - false_positives: 52.0000 - true_negatives: 1004.0000 - true_positives: 248.0000 - val_loss: 1.3113 - val_Accuracy: 0.6196 - val_false_negatives: 37.0000 - val_false_positives: 33.0000 - val_true_negatives: 243.0000 - val_true_positives: 55.0000\n",
            "Epoch 28/200\n",
            "44/44 [==============================] - 1s 15ms/step - loss: 0.6548 - Accuracy: 0.7585 - false_negatives: 102.0000 - false_positives: 67.0000 - true_negatives: 989.0000 - true_positives: 250.0000 - val_loss: 1.4390 - val_Accuracy: 0.6196 - val_false_negatives: 35.0000 - val_false_positives: 25.0000 - val_true_negatives: 251.0000 - val_true_positives: 57.0000\n",
            "Epoch 29/200\n",
            "44/44 [==============================] - 1s 16ms/step - loss: 0.6702 - Accuracy: 0.7642 - false_negatives: 106.0000 - false_positives: 65.0000 - true_negatives: 991.0000 - true_positives: 246.0000 - val_loss: 1.1882 - val_Accuracy: 0.6196 - val_false_negatives: 39.0000 - val_false_positives: 29.0000 - val_true_negatives: 247.0000 - val_true_positives: 53.0000\n",
            "Epoch 30/200\n",
            "44/44 [==============================] - 1s 16ms/step - loss: 0.6785 - Accuracy: 0.7500 - false_negatives: 107.0000 - false_positives: 62.0000 - true_negatives: 994.0000 - true_positives: 245.0000 - val_loss: 1.0396 - val_Accuracy: 0.5978 - val_false_negatives: 45.0000 - val_false_positives: 27.0000 - val_true_negatives: 249.0000 - val_true_positives: 47.0000\n",
            "Epoch 31/200\n",
            "44/44 [==============================] - 1s 16ms/step - loss: 0.6086 - Accuracy: 0.7699 - false_negatives: 102.0000 - false_positives: 54.0000 - true_negatives: 1002.0000 - true_positives: 250.0000 - val_loss: 1.3253 - val_Accuracy: 0.6413 - val_false_negatives: 34.0000 - val_false_positives: 30.0000 - val_true_negatives: 246.0000 - val_true_positives: 58.0000\n",
            "Epoch 32/200\n",
            "44/44 [==============================] - 1s 15ms/step - loss: 0.6592 - Accuracy: 0.7500 - false_negatives: 101.0000 - false_positives: 66.0000 - true_negatives: 990.0000 - true_positives: 251.0000 - val_loss: 1.1692 - val_Accuracy: 0.6848 - val_false_negatives: 36.0000 - val_false_positives: 25.0000 - val_true_negatives: 251.0000 - val_true_positives: 56.0000\n",
            "Epoch 33/200\n",
            "44/44 [==============================] - 1s 15ms/step - loss: 0.6256 - Accuracy: 0.7614 - false_negatives: 98.0000 - false_positives: 60.0000 - true_negatives: 996.0000 - true_positives: 254.0000 - val_loss: 1.2217 - val_Accuracy: 0.6196 - val_false_negatives: 37.0000 - val_false_positives: 30.0000 - val_true_negatives: 246.0000 - val_true_positives: 55.0000\n",
            "Epoch 34/200\n",
            "44/44 [==============================] - 1s 16ms/step - loss: 0.6499 - Accuracy: 0.7699 - false_negatives: 98.0000 - false_positives: 56.0000 - true_negatives: 1000.0000 - true_positives: 254.0000 - val_loss: 1.0337 - val_Accuracy: 0.6413 - val_false_negatives: 37.0000 - val_false_positives: 28.0000 - val_true_negatives: 248.0000 - val_true_positives: 55.0000\n",
            "Epoch 35/200\n",
            "44/44 [==============================] - 1s 15ms/step - loss: 0.6069 - Accuracy: 0.7841 - false_negatives: 87.0000 - false_positives: 61.0000 - true_negatives: 995.0000 - true_positives: 265.0000 - val_loss: 1.1177 - val_Accuracy: 0.6739 - val_false_negatives: 32.0000 - val_false_positives: 29.0000 - val_true_negatives: 247.0000 - val_true_positives: 60.0000\n",
            "Epoch 36/200\n",
            "44/44 [==============================] - 1s 16ms/step - loss: 0.5548 - Accuracy: 0.7869 - false_negatives: 91.0000 - false_positives: 54.0000 - true_negatives: 1002.0000 - true_positives: 261.0000 - val_loss: 1.4721 - val_Accuracy: 0.6413 - val_false_negatives: 34.0000 - val_false_positives: 32.0000 - val_true_negatives: 244.0000 - val_true_positives: 58.0000\n",
            "Epoch 37/200\n",
            "44/44 [==============================] - 1s 16ms/step - loss: 0.6106 - Accuracy: 0.7841 - false_negatives: 97.0000 - false_positives: 56.0000 - true_negatives: 1000.0000 - true_positives: 255.0000 - val_loss: 1.0353 - val_Accuracy: 0.6848 - val_false_negatives: 33.0000 - val_false_positives: 28.0000 - val_true_negatives: 248.0000 - val_true_positives: 59.0000\n",
            "Epoch 38/200\n",
            "44/44 [==============================] - 1s 15ms/step - loss: 0.5701 - Accuracy: 0.7926 - false_negatives: 87.0000 - false_positives: 50.0000 - true_negatives: 1006.0000 - true_positives: 265.0000 - val_loss: 1.1511 - val_Accuracy: 0.6413 - val_false_negatives: 34.0000 - val_false_positives: 30.0000 - val_true_negatives: 246.0000 - val_true_positives: 58.0000\n",
            "Epoch 39/200\n",
            "44/44 [==============================] - 1s 15ms/step - loss: 0.6036 - Accuracy: 0.7784 - false_negatives: 92.0000 - false_positives: 61.0000 - true_negatives: 995.0000 - true_positives: 260.0000 - val_loss: 1.2008 - val_Accuracy: 0.6413 - val_false_negatives: 35.0000 - val_false_positives: 31.0000 - val_true_negatives: 245.0000 - val_true_positives: 57.0000\n",
            "Epoch 40/200\n",
            "44/44 [==============================] - 1s 15ms/step - loss: 0.6004 - Accuracy: 0.7812 - false_negatives: 91.0000 - false_positives: 61.0000 - true_negatives: 995.0000 - true_positives: 261.0000 - val_loss: 1.0289 - val_Accuracy: 0.6630 - val_false_negatives: 32.0000 - val_false_positives: 31.0000 - val_true_negatives: 245.0000 - val_true_positives: 60.0000\n",
            "Epoch 41/200\n",
            "44/44 [==============================] - 1s 16ms/step - loss: 0.5857 - Accuracy: 0.7812 - false_negatives: 94.0000 - false_positives: 59.0000 - true_negatives: 997.0000 - true_positives: 258.0000 - val_loss: 1.2974 - val_Accuracy: 0.7174 - val_false_negatives: 27.0000 - val_false_positives: 25.0000 - val_true_negatives: 251.0000 - val_true_positives: 65.0000\n",
            "Epoch 42/200\n",
            "44/44 [==============================] - 1s 15ms/step - loss: 0.6195 - Accuracy: 0.7699 - false_negatives: 90.0000 - false_positives: 66.0000 - true_negatives: 990.0000 - true_positives: 262.0000 - val_loss: 1.1782 - val_Accuracy: 0.5870 - val_false_negatives: 40.0000 - val_false_positives: 32.0000 - val_true_negatives: 244.0000 - val_true_positives: 52.0000\n",
            "Epoch 43/200\n",
            "44/44 [==============================] - 1s 16ms/step - loss: 0.5279 - Accuracy: 0.8011 - false_negatives: 85.0000 - false_positives: 52.0000 - true_negatives: 1004.0000 - true_positives: 267.0000 - val_loss: 1.4721 - val_Accuracy: 0.5761 - val_false_negatives: 44.0000 - val_false_positives: 35.0000 - val_true_negatives: 241.0000 - val_true_positives: 48.0000\n",
            "Epoch 44/200\n",
            "44/44 [==============================] - 1s 15ms/step - loss: 0.5538 - Accuracy: 0.7784 - false_negatives: 87.0000 - false_positives: 56.0000 - true_negatives: 1000.0000 - true_positives: 265.0000 - val_loss: 1.2407 - val_Accuracy: 0.6522 - val_false_negatives: 35.0000 - val_false_positives: 32.0000 - val_true_negatives: 244.0000 - val_true_positives: 57.0000\n",
            "Epoch 45/200\n",
            "44/44 [==============================] - 1s 15ms/step - loss: 0.5538 - Accuracy: 0.7898 - false_negatives: 86.0000 - false_positives: 55.0000 - true_negatives: 1001.0000 - true_positives: 266.0000 - val_loss: 1.1128 - val_Accuracy: 0.6304 - val_false_negatives: 36.0000 - val_false_positives: 31.0000 - val_true_negatives: 245.0000 - val_true_positives: 56.0000\n",
            "Epoch 46/200\n",
            "44/44 [==============================] - 1s 16ms/step - loss: 0.5124 - Accuracy: 0.8153 - false_negatives: 77.0000 - false_positives: 49.0000 - true_negatives: 1007.0000 - true_positives: 275.0000 - val_loss: 1.2381 - val_Accuracy: 0.6304 - val_false_negatives: 35.0000 - val_false_positives: 33.0000 - val_true_negatives: 243.0000 - val_true_positives: 57.0000\n",
            "Epoch 47/200\n",
            "44/44 [==============================] - 1s 16ms/step - loss: 0.5338 - Accuracy: 0.7983 - false_negatives: 80.0000 - false_positives: 53.0000 - true_negatives: 1003.0000 - true_positives: 272.0000 - val_loss: 1.1360 - val_Accuracy: 0.5870 - val_false_negatives: 39.0000 - val_false_positives: 35.0000 - val_true_negatives: 241.0000 - val_true_positives: 53.0000\n",
            "Epoch 48/200\n",
            "44/44 [==============================] - 1s 16ms/step - loss: 0.4855 - Accuracy: 0.8352 - false_negatives: 77.0000 - false_positives: 51.0000 - true_negatives: 1005.0000 - true_positives: 275.0000 - val_loss: 1.3336 - val_Accuracy: 0.5870 - val_false_negatives: 41.0000 - val_false_positives: 36.0000 - val_true_negatives: 240.0000 - val_true_positives: 51.0000\n",
            "Epoch 49/200\n",
            "44/44 [==============================] - 1s 16ms/step - loss: 0.4908 - Accuracy: 0.8239 - false_negatives: 68.0000 - false_positives: 50.0000 - true_negatives: 1006.0000 - true_positives: 284.0000 - val_loss: 1.1103 - val_Accuracy: 0.7174 - val_false_negatives: 28.0000 - val_false_positives: 25.0000 - val_true_negatives: 251.0000 - val_true_positives: 64.0000\n",
            "Epoch 50/200\n",
            "44/44 [==============================] - 1s 16ms/step - loss: 0.5195 - Accuracy: 0.8125 - false_negatives: 87.0000 - false_positives: 48.0000 - true_negatives: 1008.0000 - true_positives: 265.0000 - val_loss: 1.4180 - val_Accuracy: 0.5652 - val_false_negatives: 41.0000 - val_false_positives: 38.0000 - val_true_negatives: 238.0000 - val_true_positives: 51.0000\n",
            "Epoch 51/200\n",
            "44/44 [==============================] - 1s 16ms/step - loss: 0.5202 - Accuracy: 0.8153 - false_negatives: 72.0000 - false_positives: 49.0000 - true_negatives: 1007.0000 - true_positives: 280.0000 - val_loss: 1.1559 - val_Accuracy: 0.6630 - val_false_negatives: 32.0000 - val_false_positives: 26.0000 - val_true_negatives: 250.0000 - val_true_positives: 60.0000\n",
            "Epoch 52/200\n",
            "44/44 [==============================] - 1s 16ms/step - loss: 0.5321 - Accuracy: 0.8125 - false_negatives: 75.0000 - false_positives: 55.0000 - true_negatives: 1001.0000 - true_positives: 277.0000 - val_loss: 1.1716 - val_Accuracy: 0.6087 - val_false_negatives: 40.0000 - val_false_positives: 36.0000 - val_true_negatives: 240.0000 - val_true_positives: 52.0000\n",
            "Epoch 53/200\n",
            "44/44 [==============================] - 1s 16ms/step - loss: 0.5364 - Accuracy: 0.8068 - false_negatives: 77.0000 - false_positives: 53.0000 - true_negatives: 1003.0000 - true_positives: 275.0000 - val_loss: 1.5832 - val_Accuracy: 0.5326 - val_false_negatives: 44.0000 - val_false_positives: 40.0000 - val_true_negatives: 236.0000 - val_true_positives: 48.0000\n",
            "Epoch 54/200\n",
            "44/44 [==============================] - 1s 15ms/step - loss: 0.5883 - Accuracy: 0.7642 - false_negatives: 92.0000 - false_positives: 54.0000 - true_negatives: 1002.0000 - true_positives: 260.0000 - val_loss: 1.3208 - val_Accuracy: 0.5543 - val_false_negatives: 44.0000 - val_false_positives: 34.0000 - val_true_negatives: 242.0000 - val_true_positives: 48.0000\n",
            "Epoch 55/200\n",
            "44/44 [==============================] - 1s 15ms/step - loss: 0.6184 - Accuracy: 0.7670 - false_negatives: 96.0000 - false_positives: 62.0000 - true_negatives: 994.0000 - true_positives: 256.0000 - val_loss: 1.2219 - val_Accuracy: 0.5652 - val_false_negatives: 46.0000 - val_false_positives: 38.0000 - val_true_negatives: 238.0000 - val_true_positives: 46.0000\n",
            "Epoch 56/200\n",
            "44/44 [==============================] - 1s 15ms/step - loss: 0.5585 - Accuracy: 0.7926 - false_negatives: 83.0000 - false_positives: 59.0000 - true_negatives: 997.0000 - true_positives: 269.0000 - val_loss: 1.1802 - val_Accuracy: 0.6522 - val_false_negatives: 33.0000 - val_false_positives: 29.0000 - val_true_negatives: 247.0000 - val_true_positives: 59.0000\n",
            "Epoch 57/200\n",
            "44/44 [==============================] - 1s 15ms/step - loss: 0.5102 - Accuracy: 0.7955 - false_negatives: 83.0000 - false_positives: 57.0000 - true_negatives: 999.0000 - true_positives: 269.0000 - val_loss: 1.7244 - val_Accuracy: 0.6413 - val_false_negatives: 33.0000 - val_false_positives: 33.0000 - val_true_negatives: 243.0000 - val_true_positives: 59.0000\n",
            "Epoch 58/200\n",
            "44/44 [==============================] - 1s 15ms/step - loss: 0.6265 - Accuracy: 0.7784 - false_negatives: 96.0000 - false_positives: 67.0000 - true_negatives: 989.0000 - true_positives: 256.0000 - val_loss: 1.3112 - val_Accuracy: 0.5435 - val_false_negatives: 45.0000 - val_false_positives: 39.0000 - val_true_negatives: 237.0000 - val_true_positives: 47.0000\n",
            "Epoch 59/200\n",
            "44/44 [==============================] - 1s 15ms/step - loss: 0.5242 - Accuracy: 0.8040 - false_negatives: 86.0000 - false_positives: 51.0000 - true_negatives: 1005.0000 - true_positives: 266.0000 - val_loss: 1.1307 - val_Accuracy: 0.6630 - val_false_negatives: 33.0000 - val_false_positives: 29.0000 - val_true_negatives: 247.0000 - val_true_positives: 59.0000\n",
            "Epoch 60/200\n",
            "44/44 [==============================] - 1s 15ms/step - loss: 0.5265 - Accuracy: 0.8125 - false_negatives: 77.0000 - false_positives: 48.0000 - true_negatives: 1008.0000 - true_positives: 275.0000 - val_loss: 1.0750 - val_Accuracy: 0.6739 - val_false_negatives: 32.0000 - val_false_positives: 28.0000 - val_true_negatives: 248.0000 - val_true_positives: 60.0000\n",
            "Epoch 61/200\n",
            "44/44 [==============================] - 1s 15ms/step - loss: 0.4393 - Accuracy: 0.8324 - false_negatives: 67.0000 - false_positives: 50.0000 - true_negatives: 1006.0000 - true_positives: 285.0000 - val_loss: 1.1738 - val_Accuracy: 0.6304 - val_false_negatives: 37.0000 - val_false_positives: 29.0000 - val_true_negatives: 247.0000 - val_true_positives: 55.0000\n",
            "Epoch 62/200\n",
            "44/44 [==============================] - 1s 16ms/step - loss: 0.4849 - Accuracy: 0.8097 - false_negatives: 77.0000 - false_positives: 56.0000 - true_negatives: 1000.0000 - true_positives: 275.0000 - val_loss: 1.1831 - val_Accuracy: 0.6848 - val_false_negatives: 31.0000 - val_false_positives: 28.0000 - val_true_negatives: 248.0000 - val_true_positives: 61.0000\n",
            "Epoch 63/200\n",
            "44/44 [==============================] - 1s 17ms/step - loss: 0.4411 - Accuracy: 0.8409 - false_negatives: 60.0000 - false_positives: 47.0000 - true_negatives: 1009.0000 - true_positives: 292.0000 - val_loss: 1.1364 - val_Accuracy: 0.5978 - val_false_negatives: 39.0000 - val_false_positives: 32.0000 - val_true_negatives: 244.0000 - val_true_positives: 53.0000\n",
            "Epoch 64/200\n",
            "44/44 [==============================] - 1s 16ms/step - loss: 0.4596 - Accuracy: 0.8295 - false_negatives: 72.0000 - false_positives: 46.0000 - true_negatives: 1010.0000 - true_positives: 280.0000 - val_loss: 1.1788 - val_Accuracy: 0.5870 - val_false_negatives: 40.0000 - val_false_positives: 35.0000 - val_true_negatives: 241.0000 - val_true_positives: 52.0000\n",
            "Epoch 65/200\n",
            "44/44 [==============================] - 1s 15ms/step - loss: 0.4556 - Accuracy: 0.8153 - false_negatives: 72.0000 - false_positives: 49.0000 - true_negatives: 1007.0000 - true_positives: 280.0000 - val_loss: 1.3801 - val_Accuracy: 0.5217 - val_false_negatives: 44.0000 - val_false_positives: 42.0000 - val_true_negatives: 234.0000 - val_true_positives: 48.0000\n",
            "Epoch 66/200\n",
            "44/44 [==============================] - 1s 16ms/step - loss: 0.4494 - Accuracy: 0.8352 - false_negatives: 66.0000 - false_positives: 44.0000 - true_negatives: 1012.0000 - true_positives: 286.0000 - val_loss: 1.3231 - val_Accuracy: 0.5761 - val_false_negatives: 40.0000 - val_false_positives: 39.0000 - val_true_negatives: 237.0000 - val_true_positives: 52.0000\n",
            "Epoch 67/200\n",
            "44/44 [==============================] - 1s 15ms/step - loss: 0.4442 - Accuracy: 0.8381 - false_negatives: 66.0000 - false_positives: 47.0000 - true_negatives: 1009.0000 - true_positives: 286.0000 - val_loss: 1.3352 - val_Accuracy: 0.6522 - val_false_negatives: 32.0000 - val_false_positives: 29.0000 - val_true_negatives: 247.0000 - val_true_positives: 60.0000\n",
            "Epoch 68/200\n",
            "44/44 [==============================] - 1s 15ms/step - loss: 0.4625 - Accuracy: 0.8381 - false_negatives: 70.0000 - false_positives: 46.0000 - true_negatives: 1010.0000 - true_positives: 282.0000 - val_loss: 1.6415 - val_Accuracy: 0.5870 - val_false_negatives: 40.0000 - val_false_positives: 36.0000 - val_true_negatives: 240.0000 - val_true_positives: 52.0000\n",
            "Epoch 69/200\n",
            "44/44 [==============================] - 1s 16ms/step - loss: 0.4483 - Accuracy: 0.8267 - false_negatives: 67.0000 - false_positives: 44.0000 - true_negatives: 1012.0000 - true_positives: 285.0000 - val_loss: 1.5371 - val_Accuracy: 0.5978 - val_false_negatives: 38.0000 - val_false_positives: 31.0000 - val_true_negatives: 245.0000 - val_true_positives: 54.0000\n",
            "Epoch 70/200\n",
            "44/44 [==============================] - 1s 16ms/step - loss: 0.4933 - Accuracy: 0.8153 - false_negatives: 73.0000 - false_positives: 55.0000 - true_negatives: 1001.0000 - true_positives: 279.0000 - val_loss: 1.1873 - val_Accuracy: 0.6413 - val_false_negatives: 33.0000 - val_false_positives: 31.0000 - val_true_negatives: 245.0000 - val_true_positives: 59.0000\n",
            "Epoch 71/200\n",
            "44/44 [==============================] - 1s 16ms/step - loss: 0.4191 - Accuracy: 0.8466 - false_negatives: 62.0000 - false_positives: 40.0000 - true_negatives: 1016.0000 - true_positives: 290.0000 - val_loss: 1.4178 - val_Accuracy: 0.6087 - val_false_negatives: 37.0000 - val_false_positives: 35.0000 - val_true_negatives: 241.0000 - val_true_positives: 55.0000\n",
            "Epoch 72/200\n",
            "44/44 [==============================] - 1s 15ms/step - loss: 0.4720 - Accuracy: 0.8409 - false_negatives: 66.0000 - false_positives: 51.0000 - true_negatives: 1005.0000 - true_positives: 286.0000 - val_loss: 1.2620 - val_Accuracy: 0.6413 - val_false_negatives: 35.0000 - val_false_positives: 32.0000 - val_true_negatives: 244.0000 - val_true_positives: 57.0000\n",
            "Epoch 73/200\n",
            "44/44 [==============================] - 1s 16ms/step - loss: 0.4462 - Accuracy: 0.8295 - false_negatives: 73.0000 - false_positives: 48.0000 - true_negatives: 1008.0000 - true_positives: 279.0000 - val_loss: 1.3004 - val_Accuracy: 0.6087 - val_false_negatives: 38.0000 - val_false_positives: 33.0000 - val_true_negatives: 243.0000 - val_true_positives: 54.0000\n",
            "Epoch 74/200\n",
            "44/44 [==============================] - 1s 16ms/step - loss: 0.4544 - Accuracy: 0.8409 - false_negatives: 64.0000 - false_positives: 48.0000 - true_negatives: 1008.0000 - true_positives: 288.0000 - val_loss: 1.1721 - val_Accuracy: 0.6848 - val_false_negatives: 33.0000 - val_false_positives: 28.0000 - val_true_negatives: 248.0000 - val_true_positives: 59.0000\n",
            "Epoch 75/200\n",
            "44/44 [==============================] - 1s 15ms/step - loss: 0.4347 - Accuracy: 0.8267 - false_negatives: 72.0000 - false_positives: 49.0000 - true_negatives: 1007.0000 - true_positives: 280.0000 - val_loss: 1.2043 - val_Accuracy: 0.6196 - val_false_negatives: 36.0000 - val_false_positives: 34.0000 - val_true_negatives: 242.0000 - val_true_positives: 56.0000\n",
            "Epoch 76/200\n",
            "44/44 [==============================] - 1s 16ms/step - loss: 0.4426 - Accuracy: 0.8381 - false_negatives: 65.0000 - false_positives: 51.0000 - true_negatives: 1005.0000 - true_positives: 287.0000 - val_loss: 1.3501 - val_Accuracy: 0.6304 - val_false_negatives: 36.0000 - val_false_positives: 34.0000 - val_true_negatives: 242.0000 - val_true_positives: 56.0000\n",
            "Epoch 77/200\n",
            "44/44 [==============================] - 1s 15ms/step - loss: 0.3994 - Accuracy: 0.8324 - false_negatives: 66.0000 - false_positives: 44.0000 - true_negatives: 1012.0000 - true_positives: 286.0000 - val_loss: 1.7635 - val_Accuracy: 0.5978 - val_false_negatives: 41.0000 - val_false_positives: 37.0000 - val_true_negatives: 239.0000 - val_true_positives: 51.0000\n",
            "Epoch 78/200\n",
            "44/44 [==============================] - 1s 15ms/step - loss: 0.4518 - Accuracy: 0.8324 - false_negatives: 69.0000 - false_positives: 50.0000 - true_negatives: 1006.0000 - true_positives: 283.0000 - val_loss: 2.0324 - val_Accuracy: 0.5543 - val_false_negatives: 42.0000 - val_false_positives: 37.0000 - val_true_negatives: 239.0000 - val_true_positives: 50.0000\n",
            "Epoch 79/200\n",
            "44/44 [==============================] - 1s 15ms/step - loss: 0.4460 - Accuracy: 0.8409 - false_negatives: 67.0000 - false_positives: 46.0000 - true_negatives: 1010.0000 - true_positives: 285.0000 - val_loss: 1.0244 - val_Accuracy: 0.6739 - val_false_negatives: 33.0000 - val_false_positives: 25.0000 - val_true_negatives: 251.0000 - val_true_positives: 59.0000\n",
            "Epoch 80/200\n",
            "44/44 [==============================] - 1s 15ms/step - loss: 0.4786 - Accuracy: 0.8182 - false_negatives: 73.0000 - false_positives: 54.0000 - true_negatives: 1002.0000 - true_positives: 279.0000 - val_loss: 1.5350 - val_Accuracy: 0.6087 - val_false_negatives: 40.0000 - val_false_positives: 33.0000 - val_true_negatives: 243.0000 - val_true_positives: 52.0000\n",
            "Epoch 81/200\n",
            "44/44 [==============================] - 1s 15ms/step - loss: 0.4673 - Accuracy: 0.8324 - false_negatives: 69.0000 - false_positives: 49.0000 - true_negatives: 1007.0000 - true_positives: 283.0000 - val_loss: 1.4864 - val_Accuracy: 0.6087 - val_false_negatives: 36.0000 - val_false_positives: 34.0000 - val_true_negatives: 242.0000 - val_true_positives: 56.0000\n",
            "Epoch 82/200\n",
            "44/44 [==============================] - 1s 15ms/step - loss: 0.4590 - Accuracy: 0.8295 - false_negatives: 70.0000 - false_positives: 44.0000 - true_negatives: 1012.0000 - true_positives: 282.0000 - val_loss: 1.1925 - val_Accuracy: 0.7065 - val_false_negatives: 28.0000 - val_false_positives: 25.0000 - val_true_negatives: 251.0000 - val_true_positives: 64.0000\n",
            "Epoch 83/200\n",
            "44/44 [==============================] - 1s 16ms/step - loss: 0.4107 - Accuracy: 0.8352 - false_negatives: 61.0000 - false_positives: 46.0000 - true_negatives: 1010.0000 - true_positives: 291.0000 - val_loss: 1.3873 - val_Accuracy: 0.6087 - val_false_negatives: 38.0000 - val_false_positives: 33.0000 - val_true_negatives: 243.0000 - val_true_positives: 54.0000\n",
            "Epoch 84/200\n",
            "44/44 [==============================] - 1s 16ms/step - loss: 0.4016 - Accuracy: 0.8438 - false_negatives: 64.0000 - false_positives: 45.0000 - true_negatives: 1011.0000 - true_positives: 288.0000 - val_loss: 1.2878 - val_Accuracy: 0.6848 - val_false_negatives: 30.0000 - val_false_positives: 27.0000 - val_true_negatives: 249.0000 - val_true_positives: 62.0000\n",
            "Epoch 85/200\n",
            "44/44 [==============================] - 1s 16ms/step - loss: 0.4069 - Accuracy: 0.8551 - false_negatives: 60.0000 - false_positives: 43.0000 - true_negatives: 1013.0000 - true_positives: 292.0000 - val_loss: 1.2411 - val_Accuracy: 0.6522 - val_false_negatives: 33.0000 - val_false_positives: 30.0000 - val_true_negatives: 246.0000 - val_true_positives: 59.0000\n",
            "Epoch 86/200\n",
            "44/44 [==============================] - 1s 16ms/step - loss: 0.4220 - Accuracy: 0.8239 - false_negatives: 70.0000 - false_positives: 46.0000 - true_negatives: 1010.0000 - true_positives: 282.0000 - val_loss: 1.5813 - val_Accuracy: 0.5761 - val_false_negatives: 42.0000 - val_false_positives: 34.0000 - val_true_negatives: 242.0000 - val_true_positives: 50.0000\n",
            "Epoch 87/200\n",
            "44/44 [==============================] - 1s 15ms/step - loss: 0.3855 - Accuracy: 0.8494 - false_negatives: 57.0000 - false_positives: 42.0000 - true_negatives: 1014.0000 - true_positives: 295.0000 - val_loss: 1.4204 - val_Accuracy: 0.5978 - val_false_negatives: 38.0000 - val_false_positives: 37.0000 - val_true_negatives: 239.0000 - val_true_positives: 54.0000\n",
            "Epoch 88/200\n",
            "44/44 [==============================] - 1s 16ms/step - loss: 0.4024 - Accuracy: 0.8438 - false_negatives: 63.0000 - false_positives: 45.0000 - true_negatives: 1011.0000 - true_positives: 289.0000 - val_loss: 1.4120 - val_Accuracy: 0.5652 - val_false_negatives: 42.0000 - val_false_positives: 36.0000 - val_true_negatives: 240.0000 - val_true_positives: 50.0000\n",
            "Epoch 89/200\n",
            "44/44 [==============================] - 1s 16ms/step - loss: 0.4150 - Accuracy: 0.8381 - false_negatives: 64.0000 - false_positives: 46.0000 - true_negatives: 1010.0000 - true_positives: 288.0000 - val_loss: 1.2390 - val_Accuracy: 0.6739 - val_false_negatives: 31.0000 - val_false_positives: 28.0000 - val_true_negatives: 248.0000 - val_true_positives: 61.0000\n",
            "Epoch 90/200\n",
            "44/44 [==============================] - 1s 15ms/step - loss: 0.4197 - Accuracy: 0.8466 - false_negatives: 60.0000 - false_positives: 44.0000 - true_negatives: 1012.0000 - true_positives: 292.0000 - val_loss: 1.5976 - val_Accuracy: 0.6630 - val_false_negatives: 33.0000 - val_false_positives: 29.0000 - val_true_negatives: 247.0000 - val_true_positives: 59.0000\n",
            "Epoch 91/200\n",
            "44/44 [==============================] - 1s 16ms/step - loss: 0.4167 - Accuracy: 0.8580 - false_negatives: 61.0000 - false_positives: 38.0000 - true_negatives: 1018.0000 - true_positives: 291.0000 - val_loss: 1.4084 - val_Accuracy: 0.6413 - val_false_negatives: 35.0000 - val_false_positives: 32.0000 - val_true_negatives: 244.0000 - val_true_positives: 57.0000\n",
            "Epoch 92/200\n",
            "44/44 [==============================] - 1s 16ms/step - loss: 0.3991 - Accuracy: 0.8722 - false_negatives: 54.0000 - false_positives: 36.0000 - true_negatives: 1020.0000 - true_positives: 298.0000 - val_loss: 1.4244 - val_Accuracy: 0.6087 - val_false_negatives: 38.0000 - val_false_positives: 36.0000 - val_true_negatives: 240.0000 - val_true_positives: 54.0000\n",
            "Epoch 93/200\n",
            "44/44 [==============================] - 1s 15ms/step - loss: 0.3810 - Accuracy: 0.8551 - false_negatives: 55.0000 - false_positives: 42.0000 - true_negatives: 1014.0000 - true_positives: 297.0000 - val_loss: 1.6983 - val_Accuracy: 0.5543 - val_false_negatives: 42.0000 - val_false_positives: 40.0000 - val_true_negatives: 236.0000 - val_true_positives: 50.0000\n",
            "Epoch 94/200\n",
            "44/44 [==============================] - 1s 15ms/step - loss: 0.3597 - Accuracy: 0.8665 - false_negatives: 53.0000 - false_positives: 35.0000 - true_negatives: 1021.0000 - true_positives: 299.0000 - val_loss: 1.1768 - val_Accuracy: 0.6957 - val_false_negatives: 28.0000 - val_false_positives: 27.0000 - val_true_negatives: 249.0000 - val_true_positives: 64.0000\n",
            "Epoch 95/200\n",
            "44/44 [==============================] - 1s 16ms/step - loss: 0.3890 - Accuracy: 0.8750 - false_negatives: 50.0000 - false_positives: 34.0000 - true_negatives: 1022.0000 - true_positives: 302.0000 - val_loss: 1.6406 - val_Accuracy: 0.6087 - val_false_negatives: 38.0000 - val_false_positives: 35.0000 - val_true_negatives: 241.0000 - val_true_positives: 54.0000\n",
            "Epoch 96/200\n",
            "44/44 [==============================] - 1s 16ms/step - loss: 0.3602 - Accuracy: 0.8551 - false_negatives: 53.0000 - false_positives: 45.0000 - true_negatives: 1011.0000 - true_positives: 299.0000 - val_loss: 1.4937 - val_Accuracy: 0.6522 - val_false_negatives: 33.0000 - val_false_positives: 30.0000 - val_true_negatives: 246.0000 - val_true_positives: 59.0000\n",
            "Epoch 97/200\n",
            "44/44 [==============================] - 1s 16ms/step - loss: 0.3753 - Accuracy: 0.8580 - false_negatives: 55.0000 - false_positives: 44.0000 - true_negatives: 1012.0000 - true_positives: 297.0000 - val_loss: 1.3556 - val_Accuracy: 0.6522 - val_false_negatives: 32.0000 - val_false_positives: 26.0000 - val_true_negatives: 250.0000 - val_true_positives: 60.0000\n",
            "Epoch 98/200\n",
            "44/44 [==============================] - 1s 16ms/step - loss: 0.3540 - Accuracy: 0.8750 - false_negatives: 49.0000 - false_positives: 36.0000 - true_negatives: 1020.0000 - true_positives: 303.0000 - val_loss: 1.5584 - val_Accuracy: 0.5978 - val_false_negatives: 39.0000 - val_false_positives: 37.0000 - val_true_negatives: 239.0000 - val_true_positives: 53.0000\n",
            "Epoch 99/200\n",
            "44/44 [==============================] - 1s 16ms/step - loss: 0.4143 - Accuracy: 0.8466 - false_negatives: 61.0000 - false_positives: 45.0000 - true_negatives: 1011.0000 - true_positives: 291.0000 - val_loss: 1.4075 - val_Accuracy: 0.6522 - val_false_negatives: 36.0000 - val_false_positives: 29.0000 - val_true_negatives: 247.0000 - val_true_positives: 56.0000\n",
            "Epoch 100/200\n",
            "44/44 [==============================] - 1s 17ms/step - loss: 0.4059 - Accuracy: 0.8381 - false_negatives: 63.0000 - false_positives: 50.0000 - true_negatives: 1006.0000 - true_positives: 289.0000 - val_loss: 1.3765 - val_Accuracy: 0.6522 - val_false_negatives: 37.0000 - val_false_positives: 32.0000 - val_true_negatives: 244.0000 - val_true_positives: 55.0000\n",
            "Epoch 101/200\n",
            "44/44 [==============================] - 1s 16ms/step - loss: 0.4140 - Accuracy: 0.8494 - false_negatives: 59.0000 - false_positives: 46.0000 - true_negatives: 1010.0000 - true_positives: 293.0000 - val_loss: 1.3109 - val_Accuracy: 0.5652 - val_false_negatives: 41.0000 - val_false_positives: 37.0000 - val_true_negatives: 239.0000 - val_true_positives: 51.0000\n",
            "Epoch 102/200\n",
            "44/44 [==============================] - 1s 16ms/step - loss: 0.3467 - Accuracy: 0.8608 - false_negatives: 58.0000 - false_positives: 42.0000 - true_negatives: 1014.0000 - true_positives: 294.0000 - val_loss: 1.8649 - val_Accuracy: 0.6087 - val_false_negatives: 38.0000 - val_false_positives: 34.0000 - val_true_negatives: 242.0000 - val_true_positives: 54.0000\n",
            "Epoch 103/200\n",
            "44/44 [==============================] - 1s 16ms/step - loss: 0.3339 - Accuracy: 0.8835 - false_negatives: 47.0000 - false_positives: 37.0000 - true_negatives: 1019.0000 - true_positives: 305.0000 - val_loss: 1.7210 - val_Accuracy: 0.6304 - val_false_negatives: 35.0000 - val_false_positives: 33.0000 - val_true_negatives: 243.0000 - val_true_positives: 57.0000\n",
            "Epoch 104/200\n",
            "44/44 [==============================] - 1s 16ms/step - loss: 0.3920 - Accuracy: 0.8551 - false_negatives: 61.0000 - false_positives: 46.0000 - true_negatives: 1010.0000 - true_positives: 291.0000 - val_loss: 1.4930 - val_Accuracy: 0.6087 - val_false_negatives: 38.0000 - val_false_positives: 32.0000 - val_true_negatives: 244.0000 - val_true_positives: 54.0000\n",
            "Epoch 105/200\n",
            "44/44 [==============================] - 1s 16ms/step - loss: 0.3239 - Accuracy: 0.8494 - false_negatives: 61.0000 - false_positives: 45.0000 - true_negatives: 1011.0000 - true_positives: 291.0000 - val_loss: 1.7770 - val_Accuracy: 0.5870 - val_false_negatives: 38.0000 - val_false_positives: 38.0000 - val_true_negatives: 238.0000 - val_true_positives: 54.0000\n",
            "Epoch 106/200\n",
            "44/44 [==============================] - 1s 16ms/step - loss: 0.4817 - Accuracy: 0.8040 - false_negatives: 74.0000 - false_positives: 63.0000 - true_negatives: 993.0000 - true_positives: 278.0000 - val_loss: 1.7131 - val_Accuracy: 0.5543 - val_false_negatives: 43.0000 - val_false_positives: 38.0000 - val_true_negatives: 238.0000 - val_true_positives: 49.0000\n",
            "Epoch 107/200\n",
            "44/44 [==============================] - 1s 16ms/step - loss: 0.3993 - Accuracy: 0.8409 - false_negatives: 69.0000 - false_positives: 46.0000 - true_negatives: 1010.0000 - true_positives: 283.0000 - val_loss: 2.3589 - val_Accuracy: 0.5652 - val_false_negatives: 41.0000 - val_false_positives: 39.0000 - val_true_negatives: 237.0000 - val_true_positives: 51.0000\n",
            "Epoch 108/200\n",
            "44/44 [==============================] - 1s 16ms/step - loss: 0.4020 - Accuracy: 0.8580 - false_negatives: 59.0000 - false_positives: 40.0000 - true_negatives: 1016.0000 - true_positives: 293.0000 - val_loss: 1.6938 - val_Accuracy: 0.5978 - val_false_negatives: 42.0000 - val_false_positives: 36.0000 - val_true_negatives: 240.0000 - val_true_positives: 50.0000\n",
            "Epoch 109/200\n",
            "44/44 [==============================] - 1s 16ms/step - loss: 0.4004 - Accuracy: 0.8352 - false_negatives: 60.0000 - false_positives: 47.0000 - true_negatives: 1009.0000 - true_positives: 292.0000 - val_loss: 1.5847 - val_Accuracy: 0.6087 - val_false_negatives: 37.0000 - val_false_positives: 32.0000 - val_true_negatives: 244.0000 - val_true_positives: 55.0000\n",
            "Epoch 110/200\n",
            "44/44 [==============================] - 1s 16ms/step - loss: 0.3931 - Accuracy: 0.8352 - false_negatives: 59.0000 - false_positives: 47.0000 - true_negatives: 1009.0000 - true_positives: 293.0000 - val_loss: 1.3133 - val_Accuracy: 0.6304 - val_false_negatives: 35.0000 - val_false_positives: 31.0000 - val_true_negatives: 245.0000 - val_true_positives: 57.0000\n",
            "Epoch 111/200\n",
            "44/44 [==============================] - 1s 16ms/step - loss: 0.3378 - Accuracy: 0.8807 - false_negatives: 55.0000 - false_positives: 38.0000 - true_negatives: 1018.0000 - true_positives: 297.0000 - val_loss: 1.6186 - val_Accuracy: 0.6630 - val_false_negatives: 31.0000 - val_false_positives: 29.0000 - val_true_negatives: 247.0000 - val_true_positives: 61.0000\n",
            "Epoch 112/200\n",
            "44/44 [==============================] - 1s 16ms/step - loss: 0.3560 - Accuracy: 0.8636 - false_negatives: 49.0000 - false_positives: 40.0000 - true_negatives: 1016.0000 - true_positives: 303.0000 - val_loss: 1.2450 - val_Accuracy: 0.6087 - val_false_negatives: 37.0000 - val_false_positives: 32.0000 - val_true_negatives: 244.0000 - val_true_positives: 55.0000\n",
            "Epoch 113/200\n",
            "44/44 [==============================] - 1s 16ms/step - loss: 0.4108 - Accuracy: 0.8551 - false_negatives: 58.0000 - false_positives: 45.0000 - true_negatives: 1011.0000 - true_positives: 294.0000 - val_loss: 1.7566 - val_Accuracy: 0.6087 - val_false_negatives: 37.0000 - val_false_positives: 35.0000 - val_true_negatives: 241.0000 - val_true_positives: 55.0000\n",
            "Epoch 114/200\n",
            "44/44 [==============================] - 1s 17ms/step - loss: 0.3365 - Accuracy: 0.8693 - false_negatives: 52.0000 - false_positives: 37.0000 - true_negatives: 1019.0000 - true_positives: 300.0000 - val_loss: 1.3228 - val_Accuracy: 0.6522 - val_false_negatives: 33.0000 - val_false_positives: 31.0000 - val_true_negatives: 245.0000 - val_true_positives: 59.0000\n",
            "Epoch 115/200\n",
            "44/44 [==============================] - 1s 16ms/step - loss: 0.3360 - Accuracy: 0.8665 - false_negatives: 56.0000 - false_positives: 40.0000 - true_negatives: 1016.0000 - true_positives: 296.0000 - val_loss: 1.6536 - val_Accuracy: 0.6304 - val_false_negatives: 35.0000 - val_false_positives: 31.0000 - val_true_negatives: 245.0000 - val_true_positives: 57.0000\n",
            "Epoch 116/200\n",
            "44/44 [==============================] - 1s 16ms/step - loss: 0.3182 - Accuracy: 0.9034 - false_negatives: 39.0000 - false_positives: 30.0000 - true_negatives: 1026.0000 - true_positives: 313.0000 - val_loss: 1.4796 - val_Accuracy: 0.6196 - val_false_negatives: 35.0000 - val_false_positives: 35.0000 - val_true_negatives: 241.0000 - val_true_positives: 57.0000\n",
            "Epoch 117/200\n",
            "44/44 [==============================] - 1s 17ms/step - loss: 0.3156 - Accuracy: 0.8835 - false_negatives: 46.0000 - false_positives: 35.0000 - true_negatives: 1021.0000 - true_positives: 306.0000 - val_loss: 1.4268 - val_Accuracy: 0.6413 - val_false_negatives: 34.0000 - val_false_positives: 31.0000 - val_true_negatives: 245.0000 - val_true_positives: 58.0000\n",
            "Epoch 118/200\n",
            "44/44 [==============================] - 1s 16ms/step - loss: 0.3931 - Accuracy: 0.8608 - false_negatives: 51.0000 - false_positives: 44.0000 - true_negatives: 1012.0000 - true_positives: 301.0000 - val_loss: 1.2963 - val_Accuracy: 0.7174 - val_false_negatives: 30.0000 - val_false_positives: 23.0000 - val_true_negatives: 253.0000 - val_true_positives: 62.0000\n",
            "Epoch 119/200\n",
            "44/44 [==============================] - 1s 16ms/step - loss: 0.3282 - Accuracy: 0.8807 - false_negatives: 52.0000 - false_positives: 30.0000 - true_negatives: 1026.0000 - true_positives: 300.0000 - val_loss: 1.5953 - val_Accuracy: 0.5543 - val_false_negatives: 43.0000 - val_false_positives: 39.0000 - val_true_negatives: 237.0000 - val_true_positives: 49.0000\n",
            "Epoch 120/200\n",
            "44/44 [==============================] - 1s 16ms/step - loss: 0.3811 - Accuracy: 0.8494 - false_negatives: 58.0000 - false_positives: 44.0000 - true_negatives: 1012.0000 - true_positives: 294.0000 - val_loss: 1.5417 - val_Accuracy: 0.5978 - val_false_negatives: 39.0000 - val_false_positives: 34.0000 - val_true_negatives: 242.0000 - val_true_positives: 53.0000\n",
            "Epoch 121/200\n",
            "44/44 [==============================] - 1s 16ms/step - loss: 0.3303 - Accuracy: 0.8722 - false_negatives: 56.0000 - false_positives: 34.0000 - true_negatives: 1022.0000 - true_positives: 296.0000 - val_loss: 1.5294 - val_Accuracy: 0.6304 - val_false_negatives: 35.0000 - val_false_positives: 32.0000 - val_true_negatives: 244.0000 - val_true_positives: 57.0000\n",
            "Epoch 122/200\n",
            "44/44 [==============================] - 1s 16ms/step - loss: 0.3120 - Accuracy: 0.8750 - false_negatives: 47.0000 - false_positives: 38.0000 - true_negatives: 1018.0000 - true_positives: 305.0000 - val_loss: 1.5078 - val_Accuracy: 0.6087 - val_false_negatives: 38.0000 - val_false_positives: 35.0000 - val_true_negatives: 241.0000 - val_true_positives: 54.0000\n",
            "Epoch 123/200\n",
            "44/44 [==============================] - 1s 16ms/step - loss: 0.2791 - Accuracy: 0.8949 - false_negatives: 41.0000 - false_positives: 32.0000 - true_negatives: 1024.0000 - true_positives: 311.0000 - val_loss: 1.6511 - val_Accuracy: 0.5978 - val_false_negatives: 37.0000 - val_false_positives: 34.0000 - val_true_negatives: 242.0000 - val_true_positives: 55.0000\n",
            "Epoch 124/200\n",
            "44/44 [==============================] - 1s 16ms/step - loss: 0.3561 - Accuracy: 0.8722 - false_negatives: 50.0000 - false_positives: 35.0000 - true_negatives: 1021.0000 - true_positives: 302.0000 - val_loss: 1.3997 - val_Accuracy: 0.6522 - val_false_negatives: 32.0000 - val_false_positives: 30.0000 - val_true_negatives: 246.0000 - val_true_positives: 60.0000\n",
            "Epoch 125/200\n",
            "44/44 [==============================] - 1s 16ms/step - loss: 0.3537 - Accuracy: 0.8636 - false_negatives: 56.0000 - false_positives: 37.0000 - true_negatives: 1019.0000 - true_positives: 296.0000 - val_loss: 1.5165 - val_Accuracy: 0.6413 - val_false_negatives: 34.0000 - val_false_positives: 30.0000 - val_true_negatives: 246.0000 - val_true_positives: 58.0000\n",
            "Epoch 126/200\n",
            "44/44 [==============================] - 1s 17ms/step - loss: 0.3526 - Accuracy: 0.8722 - false_negatives: 52.0000 - false_positives: 40.0000 - true_negatives: 1016.0000 - true_positives: 300.0000 - val_loss: 1.3532 - val_Accuracy: 0.6522 - val_false_negatives: 32.0000 - val_false_positives: 29.0000 - val_true_negatives: 247.0000 - val_true_positives: 60.0000\n",
            "Epoch 127/200\n",
            "44/44 [==============================] - 1s 16ms/step - loss: 0.3245 - Accuracy: 0.8750 - false_negatives: 53.0000 - false_positives: 35.0000 - true_negatives: 1021.0000 - true_positives: 299.0000 - val_loss: 1.9108 - val_Accuracy: 0.6196 - val_false_negatives: 38.0000 - val_false_positives: 35.0000 - val_true_negatives: 241.0000 - val_true_positives: 54.0000\n",
            "Epoch 128/200\n",
            "44/44 [==============================] - 1s 16ms/step - loss: 0.2753 - Accuracy: 0.9006 - false_negatives: 38.0000 - false_positives: 31.0000 - true_negatives: 1025.0000 - true_positives: 314.0000 - val_loss: 1.3088 - val_Accuracy: 0.6848 - val_false_negatives: 29.0000 - val_false_positives: 28.0000 - val_true_negatives: 248.0000 - val_true_positives: 63.0000\n",
            "Epoch 129/200\n",
            "44/44 [==============================] - 1s 17ms/step - loss: 0.3691 - Accuracy: 0.8636 - false_negatives: 55.0000 - false_positives: 40.0000 - true_negatives: 1016.0000 - true_positives: 297.0000 - val_loss: 1.3530 - val_Accuracy: 0.7065 - val_false_negatives: 28.0000 - val_false_positives: 24.0000 - val_true_negatives: 252.0000 - val_true_positives: 64.0000\n",
            "Epoch 130/200\n",
            "44/44 [==============================] - 1s 17ms/step - loss: 0.2803 - Accuracy: 0.9062 - false_negatives: 38.0000 - false_positives: 27.0000 - true_negatives: 1029.0000 - true_positives: 314.0000 - val_loss: 1.5232 - val_Accuracy: 0.6087 - val_false_negatives: 37.0000 - val_false_positives: 35.0000 - val_true_negatives: 241.0000 - val_true_positives: 55.0000\n",
            "Epoch 131/200\n",
            "44/44 [==============================] - 1s 16ms/step - loss: 0.3112 - Accuracy: 0.8920 - false_negatives: 46.0000 - false_positives: 29.0000 - true_negatives: 1027.0000 - true_positives: 306.0000 - val_loss: 1.6174 - val_Accuracy: 0.6848 - val_false_negatives: 29.0000 - val_false_positives: 27.0000 - val_true_negatives: 249.0000 - val_true_positives: 63.0000\n",
            "Epoch 132/200\n",
            "44/44 [==============================] - 1s 17ms/step - loss: 0.3988 - Accuracy: 0.8636 - false_negatives: 54.0000 - false_positives: 44.0000 - true_negatives: 1012.0000 - true_positives: 298.0000 - val_loss: 1.2567 - val_Accuracy: 0.7065 - val_false_negatives: 27.0000 - val_false_positives: 22.0000 - val_true_negatives: 254.0000 - val_true_positives: 65.0000\n",
            "Epoch 133/200\n",
            "44/44 [==============================] - 1s 16ms/step - loss: 0.3819 - Accuracy: 0.8580 - false_negatives: 56.0000 - false_positives: 44.0000 - true_negatives: 1012.0000 - true_positives: 296.0000 - val_loss: 1.7434 - val_Accuracy: 0.6304 - val_false_negatives: 34.0000 - val_false_positives: 34.0000 - val_true_negatives: 242.0000 - val_true_positives: 58.0000\n",
            "Epoch 134/200\n",
            "44/44 [==============================] - 1s 17ms/step - loss: 0.3128 - Accuracy: 0.8750 - false_negatives: 49.0000 - false_positives: 39.0000 - true_negatives: 1017.0000 - true_positives: 303.0000 - val_loss: 1.6783 - val_Accuracy: 0.6304 - val_false_negatives: 37.0000 - val_false_positives: 31.0000 - val_true_negatives: 245.0000 - val_true_positives: 55.0000\n",
            "Epoch 135/200\n",
            "44/44 [==============================] - 1s 17ms/step - loss: 0.3048 - Accuracy: 0.8693 - false_negatives: 52.0000 - false_positives: 41.0000 - true_negatives: 1015.0000 - true_positives: 300.0000 - val_loss: 1.2418 - val_Accuracy: 0.6739 - val_false_negatives: 31.0000 - val_false_positives: 28.0000 - val_true_negatives: 248.0000 - val_true_positives: 61.0000\n",
            "Epoch 136/200\n",
            "44/44 [==============================] - 1s 17ms/step - loss: 0.3380 - Accuracy: 0.8722 - false_negatives: 54.0000 - false_positives: 42.0000 - true_negatives: 1014.0000 - true_positives: 298.0000 - val_loss: 2.2547 - val_Accuracy: 0.6304 - val_false_negatives: 34.0000 - val_false_positives: 33.0000 - val_true_negatives: 243.0000 - val_true_positives: 58.0000\n",
            "Epoch 137/200\n",
            "44/44 [==============================] - 1s 17ms/step - loss: 0.3442 - Accuracy: 0.8835 - false_negatives: 42.0000 - false_positives: 33.0000 - true_negatives: 1023.0000 - true_positives: 310.0000 - val_loss: 1.4982 - val_Accuracy: 0.6304 - val_false_negatives: 34.0000 - val_false_positives: 34.0000 - val_true_negatives: 242.0000 - val_true_positives: 58.0000\n",
            "Epoch 138/200\n",
            "44/44 [==============================] - 1s 17ms/step - loss: 0.3892 - Accuracy: 0.8551 - false_negatives: 59.0000 - false_positives: 46.0000 - true_negatives: 1010.0000 - true_positives: 293.0000 - val_loss: 1.6237 - val_Accuracy: 0.6087 - val_false_negatives: 38.0000 - val_false_positives: 34.0000 - val_true_negatives: 242.0000 - val_true_positives: 54.0000\n",
            "Epoch 139/200\n",
            "44/44 [==============================] - 1s 16ms/step - loss: 0.3184 - Accuracy: 0.8778 - false_negatives: 46.0000 - false_positives: 39.0000 - true_negatives: 1017.0000 - true_positives: 306.0000 - val_loss: 1.3529 - val_Accuracy: 0.7065 - val_false_negatives: 31.0000 - val_false_positives: 27.0000 - val_true_negatives: 249.0000 - val_true_positives: 61.0000\n",
            "Epoch 140/200\n",
            "44/44 [==============================] - 1s 26ms/step - loss: 0.3164 - Accuracy: 0.8807 - false_negatives: 50.0000 - false_positives: 34.0000 - true_negatives: 1022.0000 - true_positives: 302.0000 - val_loss: 1.3250 - val_Accuracy: 0.6630 - val_false_negatives: 31.0000 - val_false_positives: 30.0000 - val_true_negatives: 246.0000 - val_true_positives: 61.0000\n",
            "Epoch 141/200\n",
            "44/44 [==============================] - 1s 17ms/step - loss: 0.2539 - Accuracy: 0.8977 - false_negatives: 41.0000 - false_positives: 30.0000 - true_negatives: 1026.0000 - true_positives: 311.0000 - val_loss: 1.5298 - val_Accuracy: 0.6739 - val_false_negatives: 30.0000 - val_false_positives: 27.0000 - val_true_negatives: 249.0000 - val_true_positives: 62.0000\n",
            "Epoch 142/200\n",
            "44/44 [==============================] - 1s 17ms/step - loss: 0.2743 - Accuracy: 0.8892 - false_negatives: 41.0000 - false_positives: 35.0000 - true_negatives: 1021.0000 - true_positives: 311.0000 - val_loss: 1.4390 - val_Accuracy: 0.6630 - val_false_negatives: 32.0000 - val_false_positives: 31.0000 - val_true_negatives: 245.0000 - val_true_positives: 60.0000\n",
            "Epoch 143/200\n",
            "44/44 [==============================] - 1s 26ms/step - loss: 0.2573 - Accuracy: 0.9091 - false_negatives: 38.0000 - false_positives: 29.0000 - true_negatives: 1027.0000 - true_positives: 314.0000 - val_loss: 1.4825 - val_Accuracy: 0.6304 - val_false_negatives: 35.0000 - val_false_positives: 33.0000 - val_true_negatives: 243.0000 - val_true_positives: 57.0000\n",
            "Epoch 144/200\n",
            "44/44 [==============================] - 1s 27ms/step - loss: 0.3392 - Accuracy: 0.8807 - false_negatives: 48.0000 - false_positives: 35.0000 - true_negatives: 1021.0000 - true_positives: 304.0000 - val_loss: 1.3092 - val_Accuracy: 0.6196 - val_false_negatives: 35.0000 - val_false_positives: 30.0000 - val_true_negatives: 246.0000 - val_true_positives: 57.0000\n",
            "Epoch 145/200\n",
            "44/44 [==============================] - 1s 26ms/step - loss: 0.2657 - Accuracy: 0.9062 - false_negatives: 36.0000 - false_positives: 30.0000 - true_negatives: 1026.0000 - true_positives: 316.0000 - val_loss: 1.4102 - val_Accuracy: 0.6957 - val_false_negatives: 28.0000 - val_false_positives: 28.0000 - val_true_negatives: 248.0000 - val_true_positives: 64.0000\n",
            "Epoch 146/200\n",
            "44/44 [==============================] - 1s 17ms/step - loss: 0.2223 - Accuracy: 0.9205 - false_negatives: 35.0000 - false_positives: 23.0000 - true_negatives: 1033.0000 - true_positives: 317.0000 - val_loss: 1.5291 - val_Accuracy: 0.6957 - val_false_negatives: 28.0000 - val_false_positives: 26.0000 - val_true_negatives: 250.0000 - val_true_positives: 64.0000\n",
            "Epoch 147/200\n",
            "44/44 [==============================] - 1s 17ms/step - loss: 0.2354 - Accuracy: 0.9176 - false_negatives: 32.0000 - false_positives: 26.0000 - true_negatives: 1030.0000 - true_positives: 320.0000 - val_loss: 1.6656 - val_Accuracy: 0.7065 - val_false_negatives: 27.0000 - val_false_positives: 27.0000 - val_true_negatives: 249.0000 - val_true_positives: 65.0000\n",
            "Epoch 148/200\n",
            "44/44 [==============================] - 1s 16ms/step - loss: 0.2792 - Accuracy: 0.8920 - false_negatives: 43.0000 - false_positives: 33.0000 - true_negatives: 1023.0000 - true_positives: 309.0000 - val_loss: 1.3145 - val_Accuracy: 0.7391 - val_false_negatives: 24.0000 - val_false_positives: 22.0000 - val_true_negatives: 254.0000 - val_true_positives: 68.0000\n",
            "Epoch 149/200\n",
            "44/44 [==============================] - 1s 17ms/step - loss: 0.2798 - Accuracy: 0.9006 - false_negatives: 38.0000 - false_positives: 32.0000 - true_negatives: 1024.0000 - true_positives: 314.0000 - val_loss: 1.4483 - val_Accuracy: 0.7500 - val_false_negatives: 23.0000 - val_false_positives: 23.0000 - val_true_negatives: 253.0000 - val_true_positives: 69.0000\n",
            "Epoch 150/200\n",
            "44/44 [==============================] - 1s 18ms/step - loss: 0.2143 - Accuracy: 0.9347 - false_negatives: 23.0000 - false_positives: 23.0000 - true_negatives: 1033.0000 - true_positives: 329.0000 - val_loss: 1.4451 - val_Accuracy: 0.6848 - val_false_negatives: 30.0000 - val_false_positives: 27.0000 - val_true_negatives: 249.0000 - val_true_positives: 62.0000\n",
            "Epoch 151/200\n",
            "44/44 [==============================] - 1s 17ms/step - loss: 0.2273 - Accuracy: 0.9176 - false_negatives: 32.0000 - false_positives: 24.0000 - true_negatives: 1032.0000 - true_positives: 320.0000 - val_loss: 1.2769 - val_Accuracy: 0.7391 - val_false_negatives: 25.0000 - val_false_positives: 24.0000 - val_true_negatives: 252.0000 - val_true_positives: 67.0000\n",
            "Epoch 152/200\n",
            "44/44 [==============================] - 1s 16ms/step - loss: 0.3007 - Accuracy: 0.8977 - false_negatives: 39.0000 - false_positives: 31.0000 - true_negatives: 1025.0000 - true_positives: 313.0000 - val_loss: 1.3344 - val_Accuracy: 0.7065 - val_false_negatives: 28.0000 - val_false_positives: 26.0000 - val_true_negatives: 250.0000 - val_true_positives: 64.0000\n",
            "Epoch 153/200\n",
            "44/44 [==============================] - 1s 16ms/step - loss: 0.2638 - Accuracy: 0.8920 - false_negatives: 41.0000 - false_positives: 34.0000 - true_negatives: 1022.0000 - true_positives: 311.0000 - val_loss: 1.5472 - val_Accuracy: 0.6522 - val_false_negatives: 35.0000 - val_false_positives: 31.0000 - val_true_negatives: 245.0000 - val_true_positives: 57.0000\n",
            "Epoch 154/200\n",
            "44/44 [==============================] - 1s 16ms/step - loss: 0.2979 - Accuracy: 0.8864 - false_negatives: 41.0000 - false_positives: 38.0000 - true_negatives: 1018.0000 - true_positives: 311.0000 - val_loss: 1.6187 - val_Accuracy: 0.6413 - val_false_negatives: 34.0000 - val_false_positives: 32.0000 - val_true_negatives: 244.0000 - val_true_positives: 58.0000\n",
            "Epoch 155/200\n",
            "44/44 [==============================] - 1s 16ms/step - loss: 0.2975 - Accuracy: 0.9062 - false_negatives: 43.0000 - false_positives: 31.0000 - true_negatives: 1025.0000 - true_positives: 309.0000 - val_loss: 1.5073 - val_Accuracy: 0.7065 - val_false_negatives: 27.0000 - val_false_positives: 26.0000 - val_true_negatives: 250.0000 - val_true_positives: 65.0000\n",
            "Epoch 156/200\n",
            "44/44 [==============================] - 1s 16ms/step - loss: 0.2239 - Accuracy: 0.9148 - false_negatives: 34.0000 - false_positives: 27.0000 - true_negatives: 1029.0000 - true_positives: 318.0000 - val_loss: 1.7063 - val_Accuracy: 0.6304 - val_false_negatives: 35.0000 - val_false_positives: 32.0000 - val_true_negatives: 244.0000 - val_true_positives: 57.0000\n",
            "Epoch 157/200\n",
            "44/44 [==============================] - 1s 16ms/step - loss: 0.2494 - Accuracy: 0.9119 - false_negatives: 36.0000 - false_positives: 28.0000 - true_negatives: 1028.0000 - true_positives: 316.0000 - val_loss: 1.5883 - val_Accuracy: 0.6848 - val_false_negatives: 30.0000 - val_false_positives: 28.0000 - val_true_negatives: 248.0000 - val_true_positives: 62.0000\n",
            "Epoch 158/200\n",
            "44/44 [==============================] - 1s 16ms/step - loss: 0.2211 - Accuracy: 0.9233 - false_negatives: 31.0000 - false_positives: 23.0000 - true_negatives: 1033.0000 - true_positives: 321.0000 - val_loss: 1.8284 - val_Accuracy: 0.7391 - val_false_negatives: 24.0000 - val_false_positives: 24.0000 - val_true_negatives: 252.0000 - val_true_positives: 68.0000\n",
            "Epoch 159/200\n",
            "44/44 [==============================] - 1s 16ms/step - loss: 0.2214 - Accuracy: 0.9205 - false_negatives: 33.0000 - false_positives: 28.0000 - true_negatives: 1028.0000 - true_positives: 319.0000 - val_loss: 1.9086 - val_Accuracy: 0.6522 - val_false_negatives: 33.0000 - val_false_positives: 32.0000 - val_true_negatives: 244.0000 - val_true_positives: 59.0000\n",
            "Epoch 160/200\n",
            "44/44 [==============================] - 1s 17ms/step - loss: 0.3174 - Accuracy: 0.8778 - false_negatives: 43.0000 - false_positives: 37.0000 - true_negatives: 1019.0000 - true_positives: 309.0000 - val_loss: 1.6710 - val_Accuracy: 0.6957 - val_false_negatives: 29.0000 - val_false_positives: 27.0000 - val_true_negatives: 249.0000 - val_true_positives: 63.0000\n",
            "Epoch 161/200\n",
            "44/44 [==============================] - 1s 16ms/step - loss: 0.2619 - Accuracy: 0.9062 - false_negatives: 37.0000 - false_positives: 28.0000 - true_negatives: 1028.0000 - true_positives: 315.0000 - val_loss: 1.8106 - val_Accuracy: 0.6522 - val_false_negatives: 32.0000 - val_false_positives: 32.0000 - val_true_negatives: 244.0000 - val_true_positives: 60.0000\n",
            "Epoch 162/200\n",
            "44/44 [==============================] - 1s 17ms/step - loss: 0.2719 - Accuracy: 0.8807 - false_negatives: 49.0000 - false_positives: 36.0000 - true_negatives: 1020.0000 - true_positives: 303.0000 - val_loss: 1.4330 - val_Accuracy: 0.6848 - val_false_negatives: 29.0000 - val_false_positives: 28.0000 - val_true_negatives: 248.0000 - val_true_positives: 63.0000\n",
            "Epoch 163/200\n",
            "44/44 [==============================] - 1s 16ms/step - loss: 0.2609 - Accuracy: 0.8949 - false_negatives: 41.0000 - false_positives: 29.0000 - true_negatives: 1027.0000 - true_positives: 311.0000 - val_loss: 1.4973 - val_Accuracy: 0.7065 - val_false_negatives: 30.0000 - val_false_positives: 25.0000 - val_true_negatives: 251.0000 - val_true_positives: 62.0000\n",
            "Epoch 164/200\n",
            "44/44 [==============================] - 1s 17ms/step - loss: 0.2351 - Accuracy: 0.9176 - false_negatives: 33.0000 - false_positives: 22.0000 - true_negatives: 1034.0000 - true_positives: 319.0000 - val_loss: 1.5263 - val_Accuracy: 0.7065 - val_false_negatives: 29.0000 - val_false_positives: 27.0000 - val_true_negatives: 249.0000 - val_true_positives: 63.0000\n",
            "Epoch 165/200\n",
            "44/44 [==============================] - 1s 17ms/step - loss: 0.2634 - Accuracy: 0.9062 - false_negatives: 36.0000 - false_positives: 30.0000 - true_negatives: 1026.0000 - true_positives: 316.0000 - val_loss: 1.7506 - val_Accuracy: 0.6087 - val_false_negatives: 36.0000 - val_false_positives: 35.0000 - val_true_negatives: 241.0000 - val_true_positives: 56.0000\n",
            "Epoch 166/200\n",
            "44/44 [==============================] - 1s 16ms/step - loss: 0.2629 - Accuracy: 0.8977 - false_negatives: 41.0000 - false_positives: 34.0000 - true_negatives: 1022.0000 - true_positives: 311.0000 - val_loss: 1.7336 - val_Accuracy: 0.6413 - val_false_negatives: 35.0000 - val_false_positives: 30.0000 - val_true_negatives: 246.0000 - val_true_positives: 57.0000\n",
            "Epoch 167/200\n",
            "44/44 [==============================] - 1s 16ms/step - loss: 0.2797 - Accuracy: 0.8949 - false_negatives: 39.0000 - false_positives: 35.0000 - true_negatives: 1021.0000 - true_positives: 313.0000 - val_loss: 1.6929 - val_Accuracy: 0.6087 - val_false_negatives: 36.0000 - val_false_positives: 35.0000 - val_true_negatives: 241.0000 - val_true_positives: 56.0000\n",
            "Epoch 168/200\n",
            "44/44 [==============================] - 1s 16ms/step - loss: 0.2318 - Accuracy: 0.9148 - false_negatives: 33.0000 - false_positives: 27.0000 - true_negatives: 1029.0000 - true_positives: 319.0000 - val_loss: 1.5145 - val_Accuracy: 0.6522 - val_false_negatives: 33.0000 - val_false_positives: 31.0000 - val_true_negatives: 245.0000 - val_true_positives: 59.0000\n",
            "Epoch 169/200\n",
            "44/44 [==============================] - 1s 16ms/step - loss: 0.2379 - Accuracy: 0.9148 - false_negatives: 35.0000 - false_positives: 27.0000 - true_negatives: 1029.0000 - true_positives: 317.0000 - val_loss: 1.5457 - val_Accuracy: 0.7065 - val_false_negatives: 28.0000 - val_false_positives: 26.0000 - val_true_negatives: 250.0000 - val_true_positives: 64.0000\n",
            "Epoch 170/200\n",
            "44/44 [==============================] - 1s 16ms/step - loss: 0.2314 - Accuracy: 0.9176 - false_negatives: 35.0000 - false_positives: 24.0000 - true_negatives: 1032.0000 - true_positives: 317.0000 - val_loss: 1.8307 - val_Accuracy: 0.6196 - val_false_negatives: 35.0000 - val_false_positives: 33.0000 - val_true_negatives: 243.0000 - val_true_positives: 57.0000\n",
            "Epoch 171/200\n",
            "44/44 [==============================] - 1s 16ms/step - loss: 0.2166 - Accuracy: 0.9290 - false_negatives: 30.0000 - false_positives: 24.0000 - true_negatives: 1032.0000 - true_positives: 322.0000 - val_loss: 1.7363 - val_Accuracy: 0.6413 - val_false_negatives: 34.0000 - val_false_positives: 30.0000 - val_true_negatives: 246.0000 - val_true_positives: 58.0000\n",
            "Epoch 172/200\n",
            "44/44 [==============================] - 1s 16ms/step - loss: 0.2291 - Accuracy: 0.9006 - false_negatives: 38.0000 - false_positives: 31.0000 - true_negatives: 1025.0000 - true_positives: 314.0000 - val_loss: 1.9739 - val_Accuracy: 0.5978 - val_false_negatives: 38.0000 - val_false_positives: 36.0000 - val_true_negatives: 240.0000 - val_true_positives: 54.0000\n",
            "Epoch 173/200\n",
            "44/44 [==============================] - 1s 16ms/step - loss: 0.2370 - Accuracy: 0.9034 - false_negatives: 37.0000 - false_positives: 28.0000 - true_negatives: 1028.0000 - true_positives: 315.0000 - val_loss: 1.7313 - val_Accuracy: 0.6196 - val_false_negatives: 35.0000 - val_false_positives: 31.0000 - val_true_negatives: 245.0000 - val_true_positives: 57.0000\n",
            "Epoch 174/200\n",
            "44/44 [==============================] - 1s 17ms/step - loss: 0.1985 - Accuracy: 0.9290 - false_negatives: 31.0000 - false_positives: 22.0000 - true_negatives: 1034.0000 - true_positives: 321.0000 - val_loss: 1.8497 - val_Accuracy: 0.7174 - val_false_negatives: 27.0000 - val_false_positives: 25.0000 - val_true_negatives: 251.0000 - val_true_positives: 65.0000\n",
            "Epoch 175/200\n",
            "44/44 [==============================] - 1s 17ms/step - loss: 0.2499 - Accuracy: 0.9034 - false_negatives: 34.0000 - false_positives: 28.0000 - true_negatives: 1028.0000 - true_positives: 318.0000 - val_loss: 1.8061 - val_Accuracy: 0.6739 - val_false_negatives: 32.0000 - val_false_positives: 29.0000 - val_true_negatives: 247.0000 - val_true_positives: 60.0000\n",
            "Epoch 176/200\n",
            "44/44 [==============================] - 1s 17ms/step - loss: 0.2656 - Accuracy: 0.9006 - false_negatives: 38.0000 - false_positives: 34.0000 - true_negatives: 1022.0000 - true_positives: 314.0000 - val_loss: 2.1802 - val_Accuracy: 0.5652 - val_false_negatives: 41.0000 - val_false_positives: 39.0000 - val_true_negatives: 237.0000 - val_true_positives: 51.0000\n",
            "Epoch 177/200\n",
            "44/44 [==============================] - 1s 16ms/step - loss: 0.2389 - Accuracy: 0.9261 - false_negatives: 29.0000 - false_positives: 24.0000 - true_negatives: 1032.0000 - true_positives: 323.0000 - val_loss: 1.6294 - val_Accuracy: 0.6304 - val_false_negatives: 35.0000 - val_false_positives: 32.0000 - val_true_negatives: 244.0000 - val_true_positives: 57.0000\n",
            "Epoch 178/200\n",
            "44/44 [==============================] - 1s 16ms/step - loss: 0.1945 - Accuracy: 0.9148 - false_negatives: 34.0000 - false_positives: 26.0000 - true_negatives: 1030.0000 - true_positives: 318.0000 - val_loss: 2.1972 - val_Accuracy: 0.5870 - val_false_negatives: 39.0000 - val_false_positives: 36.0000 - val_true_negatives: 240.0000 - val_true_positives: 53.0000\n",
            "Epoch 179/200\n",
            "44/44 [==============================] - 1s 16ms/step - loss: 0.1812 - Accuracy: 0.9290 - false_negatives: 26.0000 - false_positives: 22.0000 - true_negatives: 1034.0000 - true_positives: 326.0000 - val_loss: 2.0589 - val_Accuracy: 0.5870 - val_false_negatives: 39.0000 - val_false_positives: 38.0000 - val_true_negatives: 238.0000 - val_true_positives: 53.0000\n",
            "Epoch 180/200\n",
            "44/44 [==============================] - 1s 16ms/step - loss: 0.1723 - Accuracy: 0.9517 - false_negatives: 21.0000 - false_positives: 15.0000 - true_negatives: 1041.0000 - true_positives: 331.0000 - val_loss: 2.6713 - val_Accuracy: 0.5543 - val_false_negatives: 42.0000 - val_false_positives: 41.0000 - val_true_negatives: 235.0000 - val_true_positives: 50.0000\n",
            "Epoch 181/200\n",
            "44/44 [==============================] - 1s 16ms/step - loss: 0.1729 - Accuracy: 0.9347 - false_negatives: 25.0000 - false_positives: 19.0000 - true_negatives: 1037.0000 - true_positives: 327.0000 - val_loss: 2.3740 - val_Accuracy: 0.6196 - val_false_negatives: 35.0000 - val_false_positives: 34.0000 - val_true_negatives: 242.0000 - val_true_positives: 57.0000\n",
            "Epoch 182/200\n",
            "44/44 [==============================] - 1s 16ms/step - loss: 0.2182 - Accuracy: 0.9091 - false_negatives: 33.0000 - false_positives: 29.0000 - true_negatives: 1027.0000 - true_positives: 319.0000 - val_loss: 2.5819 - val_Accuracy: 0.5978 - val_false_negatives: 40.0000 - val_false_positives: 37.0000 - val_true_negatives: 239.0000 - val_true_positives: 52.0000\n",
            "Epoch 183/200\n",
            "44/44 [==============================] - 1s 17ms/step - loss: 0.1905 - Accuracy: 0.9261 - false_negatives: 26.0000 - false_positives: 23.0000 - true_negatives: 1033.0000 - true_positives: 326.0000 - val_loss: 2.0575 - val_Accuracy: 0.6087 - val_false_negatives: 37.0000 - val_false_positives: 34.0000 - val_true_negatives: 242.0000 - val_true_positives: 55.0000\n",
            "Epoch 184/200\n",
            "44/44 [==============================] - 1s 17ms/step - loss: 0.1978 - Accuracy: 0.9290 - false_negatives: 30.0000 - false_positives: 21.0000 - true_negatives: 1035.0000 - true_positives: 322.0000 - val_loss: 2.4018 - val_Accuracy: 0.6413 - val_false_negatives: 34.0000 - val_false_positives: 33.0000 - val_true_negatives: 243.0000 - val_true_positives: 58.0000\n",
            "Epoch 185/200\n",
            "44/44 [==============================] - 1s 18ms/step - loss: 0.2208 - Accuracy: 0.9119 - false_negatives: 33.0000 - false_positives: 27.0000 - true_negatives: 1029.0000 - true_positives: 319.0000 - val_loss: 1.6767 - val_Accuracy: 0.7065 - val_false_negatives: 28.0000 - val_false_positives: 26.0000 - val_true_negatives: 250.0000 - val_true_positives: 64.0000\n",
            "Epoch 186/200\n",
            "44/44 [==============================] - 1s 17ms/step - loss: 0.2003 - Accuracy: 0.9290 - false_negatives: 28.0000 - false_positives: 25.0000 - true_negatives: 1031.0000 - true_positives: 324.0000 - val_loss: 3.6598 - val_Accuracy: 0.5761 - val_false_negatives: 40.0000 - val_false_positives: 37.0000 - val_true_negatives: 239.0000 - val_true_positives: 52.0000\n",
            "Epoch 187/200\n",
            "44/44 [==============================] - 1s 17ms/step - loss: 0.2975 - Accuracy: 0.9006 - false_negatives: 38.0000 - false_positives: 33.0000 - true_negatives: 1023.0000 - true_positives: 314.0000 - val_loss: 2.7046 - val_Accuracy: 0.5978 - val_false_negatives: 39.0000 - val_false_positives: 36.0000 - val_true_negatives: 240.0000 - val_true_positives: 53.0000\n",
            "Epoch 188/200\n",
            "44/44 [==============================] - 1s 17ms/step - loss: 0.1943 - Accuracy: 0.9261 - false_negatives: 27.0000 - false_positives: 23.0000 - true_negatives: 1033.0000 - true_positives: 325.0000 - val_loss: 4.4060 - val_Accuracy: 0.5870 - val_false_negatives: 38.0000 - val_false_positives: 37.0000 - val_true_negatives: 239.0000 - val_true_positives: 54.0000\n",
            "Epoch 189/200\n",
            "44/44 [==============================] - 1s 16ms/step - loss: 0.2478 - Accuracy: 0.9034 - false_negatives: 35.0000 - false_positives: 33.0000 - true_negatives: 1023.0000 - true_positives: 317.0000 - val_loss: 1.9963 - val_Accuracy: 0.6087 - val_false_negatives: 37.0000 - val_false_positives: 34.0000 - val_true_negatives: 242.0000 - val_true_positives: 55.0000\n",
            "Epoch 190/200\n",
            "44/44 [==============================] - 1s 16ms/step - loss: 0.2031 - Accuracy: 0.9233 - false_negatives: 29.0000 - false_positives: 24.0000 - true_negatives: 1032.0000 - true_positives: 323.0000 - val_loss: 2.4585 - val_Accuracy: 0.5870 - val_false_negatives: 38.0000 - val_false_positives: 37.0000 - val_true_negatives: 239.0000 - val_true_positives: 54.0000\n",
            "Epoch 191/200\n",
            "44/44 [==============================] - 1s 17ms/step - loss: 0.2443 - Accuracy: 0.9034 - false_negatives: 39.0000 - false_positives: 31.0000 - true_negatives: 1025.0000 - true_positives: 313.0000 - val_loss: 2.0016 - val_Accuracy: 0.6304 - val_false_negatives: 34.0000 - val_false_positives: 32.0000 - val_true_negatives: 244.0000 - val_true_positives: 58.0000\n",
            "Epoch 192/200\n",
            "44/44 [==============================] - 1s 17ms/step - loss: 0.2207 - Accuracy: 0.9148 - false_negatives: 35.0000 - false_positives: 25.0000 - true_negatives: 1031.0000 - true_positives: 317.0000 - val_loss: 2.0181 - val_Accuracy: 0.6087 - val_false_negatives: 37.0000 - val_false_positives: 34.0000 - val_true_negatives: 242.0000 - val_true_positives: 55.0000\n",
            "Epoch 193/200\n",
            "44/44 [==============================] - 1s 16ms/step - loss: 0.2253 - Accuracy: 0.9148 - false_negatives: 32.0000 - false_positives: 27.0000 - true_negatives: 1029.0000 - true_positives: 320.0000 - val_loss: 1.7610 - val_Accuracy: 0.6957 - val_false_negatives: 29.0000 - val_false_positives: 28.0000 - val_true_negatives: 248.0000 - val_true_positives: 63.0000\n",
            "Epoch 194/200\n",
            "44/44 [==============================] - 1s 17ms/step - loss: 0.1982 - Accuracy: 0.9403 - false_negatives: 27.0000 - false_positives: 19.0000 - true_negatives: 1037.0000 - true_positives: 325.0000 - val_loss: 2.0061 - val_Accuracy: 0.6304 - val_false_negatives: 35.0000 - val_false_positives: 28.0000 - val_true_negatives: 248.0000 - val_true_positives: 57.0000\n",
            "Epoch 195/200\n",
            "44/44 [==============================] - 1s 17ms/step - loss: 0.1444 - Accuracy: 0.9347 - false_negatives: 23.0000 - false_positives: 22.0000 - true_negatives: 1034.0000 - true_positives: 329.0000 - val_loss: 2.4179 - val_Accuracy: 0.5978 - val_false_negatives: 37.0000 - val_false_positives: 36.0000 - val_true_negatives: 240.0000 - val_true_positives: 55.0000\n",
            "Epoch 196/200\n",
            "44/44 [==============================] - 1s 17ms/step - loss: 0.2058 - Accuracy: 0.9290 - false_negatives: 27.0000 - false_positives: 25.0000 - true_negatives: 1031.0000 - true_positives: 325.0000 - val_loss: 1.9771 - val_Accuracy: 0.6739 - val_false_negatives: 30.0000 - val_false_positives: 29.0000 - val_true_negatives: 247.0000 - val_true_positives: 62.0000\n",
            "Epoch 197/200\n",
            "44/44 [==============================] - 1s 17ms/step - loss: 0.1753 - Accuracy: 0.9375 - false_negatives: 25.0000 - false_positives: 18.0000 - true_negatives: 1038.0000 - true_positives: 327.0000 - val_loss: 2.4205 - val_Accuracy: 0.6087 - val_false_negatives: 36.0000 - val_false_positives: 36.0000 - val_true_negatives: 240.0000 - val_true_positives: 56.0000\n",
            "Epoch 198/200\n",
            "44/44 [==============================] - 1s 16ms/step - loss: 0.2700 - Accuracy: 0.9034 - false_negatives: 40.0000 - false_positives: 31.0000 - true_negatives: 1025.0000 - true_positives: 312.0000 - val_loss: 2.2681 - val_Accuracy: 0.6522 - val_false_negatives: 32.0000 - val_false_positives: 32.0000 - val_true_negatives: 244.0000 - val_true_positives: 60.0000\n",
            "Epoch 199/200\n",
            "44/44 [==============================] - 1s 16ms/step - loss: 0.2164 - Accuracy: 0.9091 - false_negatives: 32.0000 - false_positives: 27.0000 - true_negatives: 1029.0000 - true_positives: 320.0000 - val_loss: 2.0433 - val_Accuracy: 0.5978 - val_false_negatives: 37.0000 - val_false_positives: 37.0000 - val_true_negatives: 239.0000 - val_true_positives: 55.0000\n",
            "Epoch 200/200\n",
            "44/44 [==============================] - 1s 16ms/step - loss: 0.2229 - Accuracy: 0.9233 - false_negatives: 32.0000 - false_positives: 27.0000 - true_negatives: 1029.0000 - true_positives: 320.0000 - val_loss: 2.2253 - val_Accuracy: 0.6413 - val_false_negatives: 33.0000 - val_false_positives: 31.0000 - val_true_negatives: 245.0000 - val_true_positives: 59.0000\n"
          ]
        }
      ]
    },
    {
      "cell_type": "markdown",
      "source": [
        "Plotting Traning Result"
      ],
      "metadata": {
        "id": "XZSFG8fXqz7c"
      }
    },
    {
      "cell_type": "code",
      "source": [
        "  #plotting\n",
        "  epochs = range(1, len(history.history['loss'])+1)\n",
        "  plt.title(f\"Grafik loss training iterasi {iterasi}\")\n",
        "  plt.plot(epochs, history.history['loss'], 'r', label='Training Loss')\n",
        "  plt.plot(epochs, history.history['val_loss'], 'b', label='Validation Loss')    \n",
        "  plt.xlabel(\"Epoch\")\n",
        "  plt.ylabel(\"Loss\")\n",
        "  plt.legend()\n",
        "  plt.show()\n"
      ],
      "metadata": {
        "id": "3dXbDrJpY1NK",
        "colab": {
          "base_uri": "https://localhost:8080/",
          "height": 295
        },
        "outputId": "5a69be5a-0754-4fde-f985-1e9731832bff"
      },
      "execution_count": 12,
      "outputs": [
        {
          "output_type": "display_data",
          "data": {
            "text/plain": [
              "<Figure size 432x288 with 1 Axes>"
            ],
            "image/png": "[encoded data removed]"
          },
          "metadata": {
            "needs_background": "light"
          }
        }
      ]
    },
    {
      "cell_type": "code",
      "source": [
        "  #plotting\n",
        "  epochs = range(1, len(history.history['loss'])+1)\n",
        "  plt.title(f\"Grafik Akurasi training iterasi {iterasi}\")\n",
        "  plt.plot(epochs, history.history['Accuracy'], 'r', label='Training Accuracy')\n",
        "  plt.plot(epochs, history.history['val_Accuracy'], 'b', label='Validation Accuracy')    \n",
        "  plt.xlabel(\"Epoch\")\n",
        "  plt.ylabel(\"Accuracy\")\n",
        "  plt.legend()\n",
        "  plt.show()"
      ],
      "metadata": {
        "id": "j3xigprPwlSX",
        "colab": {
          "base_uri": "https://localhost:8080/",
          "height": 295
        },
        "outputId": "ca12d280-0aab-47db-a215-20fdf903e91e"
      },
      "execution_count": 13,
      "outputs": [
        {
          "output_type": "display_data",
          "data": {
            "text/plain": [
              "<Figure size 432x288 with 1 Axes>"
            ],
            "image/png": "[encoded data removed]"
          },
          "metadata": {
            "needs_background": "light"
          }
        }
      ]
    },
    {
      "cell_type": "code",
      "source": [
        "import matplotlib.pyplot as plt\n",
        "from sklearn.datasets import make_classification\n",
        "from numpy import mean\n",
        "from sklearn.metrics import confusion_matrix, ConfusionMatrixDisplay, accuracy_score, classification_report, recall_score\n",
        "\n",
        "validation = model.predict(np_image_list_validation)\n",
        "\n",
        "predicted_labels = []\n",
        "correct_labels = []\n",
        "for i in range (len(validation)):\n",
        "  predicted_labels.append(np.argmax(validation[i]))\n",
        "\n",
        "for i in range (len(image_labels_validation)):\n",
        "  correct_labels.append(np.argmax(image_labels_validation[i]))\n",
        "\n",
        "\n",
        "confusion_matrix = confusion_matrix(correct_labels, predicted_labels)\n",
        "disp = ConfusionMatrixDisplay(confusion_matrix=confusion_matrix)  \n",
        "disp.plot()\n",
        "plt.show()\n",
        "print('--------')\n",
        "FP = confusion_matrix.sum(axis=0) - np.diag(confusion_matrix)  \n",
        "FN = confusion_matrix.sum(axis=1) - np.diag(confusion_matrix)\n",
        "TP = np.diag(confusion_matrix)\n",
        "TN = confusion_matrix.sum() - (FP + FN + TP)\n",
        "\n",
        "# Sensitivity, hit rate, recall, or true positive rate\n",
        "TPR = TP/(TP+FN)\n",
        "# Specificity or true negative rate\n",
        "TNR = TN/(TN+FP) \n",
        "# Overall accuracy\n",
        "ACC = (TP+TN)/(TP+FP+FN+TN)\n",
        "\n",
        "print(TP)\n",
        "print(TN)\n",
        "print(FP)\n",
        "print(FN)\n",
        "print('--------')\n",
        "print(ACC)\n",
        "print(TPR)\n",
        "print(TNR)\n",
        "print('--------')\n",
        "\n",
        "TP = sum(TP)\n",
        "TN = sum(TN)\n",
        "FP = sum(FP)\n",
        "FN = sum(FN)\n",
        "\n",
        "# Sensitivity, hit rate, recall, or true positive rate\n",
        "TPR = TP/(TP+FN)\n",
        "# Specificity or true negative rate\n",
        "TNR = TN/(TN+FP) \n",
        "# Overall accuracy\n",
        "ACC = (TP+TN)/(TP+FP+FN+TN)\n",
        "\n",
        "print(TP)\n",
        "print(TN)\n",
        "print(FP)\n",
        "print(FN)\n",
        "print('--------')\n",
        "print(ACC)\n",
        "print(TPR)\n",
        "print(TNR)"
      ],
      "metadata": {
        "colab": {
          "base_uri": "https://localhost:8080/",
          "height": 591
        },
        "id": "y0RigLm76Rpg",
        "outputId": "d931af23-9cdc-4007-cbf5-b34f3cb8befa"
      },
      "execution_count": 14,
      "outputs": [
        {
          "output_type": "display_data",
          "data": {
            "text/plain": [
              "<Figure size 432x288 with 2 Axes>"
            ],
            "image/png": "[encoded data removed]"
          },
          "metadata": {
            "needs_background": "light"
          }
        },
        {
          "output_type": "stream",
          "name": "stdout",
          "text": [
            "--------\n",
            "[ 3  4 24 28]\n",
            "[67 76 56 44]\n",
            "[15  2  8  8]\n",
            "[ 7 10  4 12]\n",
            "--------\n",
            "[0.76086957 0.86956522 0.86956522 0.7826087 ]\n",
            "[0.3        0.28571429 0.85714286 0.7       ]\n",
            "[0.81707317 0.97435897 0.875      0.84615385]\n",
            "--------\n",
            "59\n",
            "243\n",
            "33\n",
            "33\n",
            "--------\n",
            "0.8206521739130435\n",
            "0.6413043478260869\n",
            "0.8804347826086957\n"
          ]
        }
      ]
    },
    {
      "cell_type": "code",
      "source": [
        "import matplotlib.pyplot as plt\n",
        "from sklearn.datasets import make_classification\n",
        "from numpy import mean\n",
        "from sklearn.metrics import confusion_matrix, ConfusionMatrixDisplay, accuracy_score, classification_report, recall_score\n",
        "\n",
        "test = model.predict(np_image_list_test)\n",
        "\n",
        "predicted_labels = []\n",
        "correct_labels = []\n",
        "for i in range (len(test)):\n",
        "  predicted_labels.append(np.argmax(test[i]))\n",
        "\n",
        "for i in range (len(image_labels_test)):\n",
        "  correct_labels.append(np.argmax(image_labels_test[i]))\n",
        "\n",
        "\n",
        "confusion_matrix = confusion_matrix(correct_labels, predicted_labels)\n",
        "disp = ConfusionMatrixDisplay(confusion_matrix=confusion_matrix)  \n",
        "disp.plot()\n",
        "plt.show()\n",
        "print('--------')\n",
        "FP = confusion_matrix.sum(axis=0) - np.diag(confusion_matrix)  \n",
        "FN = confusion_matrix.sum(axis=1) - np.diag(confusion_matrix)\n",
        "TP = np.diag(confusion_matrix)\n",
        "TN = confusion_matrix.sum() - (FP + FN + TP)\n",
        "\n",
        "# Sensitivity, hit rate, recall, or true positive rate\n",
        "TPR = TP/(TP+FN)\n",
        "# Specificity or true negative rate\n",
        "TNR = TN/(TN+FP) \n",
        "# Overall accuracy\n",
        "ACC = (TP+TN)/(TP+FP+FN+TN)\n",
        "\n",
        "print(TP)\n",
        "print(TN)\n",
        "print(FP)\n",
        "print(FN)\n",
        "print('--------')\n",
        "print(ACC)\n",
        "print(TPR)\n",
        "print(TNR)\n",
        "print('--------')\n",
        "\n",
        "TP = sum(TP)\n",
        "TN = sum(TN)\n",
        "FP = sum(FP)\n",
        "FN = sum(FN)\n",
        "\n",
        "# Sensitivity, hit rate, recall, or true positive rate\n",
        "TPR = TP/(TP+FN)\n",
        "# Specificity or true negative rate\n",
        "TNR = TN/(TN+FP) \n",
        "# Overall accuracy\n",
        "ACC = (TP+TN)/(TP+FP+FN+TN)\n",
        "\n",
        "print(TP)\n",
        "print(TN)\n",
        "print(FP)\n",
        "print(FN)\n",
        "print('--------')\n",
        "print(ACC)\n",
        "print(TPR)\n",
        "print(TNR)"
      ],
      "metadata": {
        "colab": {
          "base_uri": "https://localhost:8080/",
          "height": 591
        },
        "id": "xufCN02P5v4A",
        "outputId": "c601fc99-cf81-4c01-daff-a412c2be18fc"
      },
      "execution_count": 15,
      "outputs": [
        {
          "output_type": "display_data",
          "data": {
            "text/plain": [
              "<Figure size 432x288 with 2 Axes>"
            ],
            "image/png": "[encoded data removed]"
          },
          "metadata": {
            "needs_background": "light"
          }
        },
        {
          "output_type": "stream",
          "name": "stdout",
          "text": [
            "--------\n",
            "[ 3  7 17 41]\n",
            "[93 91 65 39]\n",
            "[ 5  3 13 21]\n",
            "[ 9  9 15  9]\n",
            "--------\n",
            "[0.87272727 0.89090909 0.74545455 0.72727273]\n",
            "[0.25    0.4375  0.53125 0.82   ]\n",
            "[0.94897959 0.96808511 0.83333333 0.65      ]\n",
            "--------\n",
            "68\n",
            "288\n",
            "42\n",
            "42\n",
            "--------\n",
            "0.8090909090909091\n",
            "0.6181818181818182\n",
            "0.8727272727272727\n"
          ]
        }
      ]
    },
    {
      "cell_type": "markdown",
      "metadata": {
        "id": "bTgk1-sdzmgy"
      },
      "source": [
        "**Validating** Network"
      ]
    },
    {
      "cell_type": "code",
      "source": [
        "\n"
      ],
      "metadata": {
        "id": "d_NBE4KkWuhu"
      },
      "execution_count": 15,
      "outputs": []
    },
    {
      "cell_type": "markdown",
      "source": [
        "**Testing** Network"
      ],
      "metadata": {
        "id": "saJYjKqX9tRL"
      }
    },
    {
      "cell_type": "code",
      "source": [
        "\n"
      ],
      "metadata": {
        "id": "A7DR52hmTc75"
      },
      "execution_count": 15,
      "outputs": []
    },
    {
      "cell_type": "code",
      "source": [
        "#test_img = cv2.imread('/content/Datasets/fold5/Test/apel_sehat/apel_sehat (1).jpg')\n",
        "\n",
        "#plt.imshow(test_img)\n",
        "#test_img = test_img / 255\n",
        "#test_img = np.expand_dims(test_img, axis=0)\n",
        "#pr=model.predict(test_img)\n",
        "\n",
        "#print(pr)\n",
        "#output = label_binarizer.inverse_transform(pr)\n",
        "#print(output)"
      ],
      "metadata": {
        "id": "zkMI6CwJArvo"
      },
      "execution_count": 16,
      "outputs": []
    },
    {
      "cell_type": "code",
      "source": [
        "# save the model to disk\n",
        "#print(\"[INFO] Saving model...\")\n",
        "#pickle.dump(model,open('cnn_model.pkl', 'wb'))\n",
        "#model.save('/content/fold1.h5')"
      ],
      "metadata": {
        "id": "Wr_b8qBuCAIS"
      },
      "execution_count": 17,
      "outputs": []
    }
  ]
}