{
  "nbformat": 4,
  "nbformat_minor": 0,
  "metadata": {
    "accelerator": "GPU",
    "colab": {
      "name": "Kodingan Skripsi 3",
      "provenance": [],
      "collapsed_sections": [],
      "include_colab_link": true
    },
    "kernelspec": {
      "display_name": "Python 3",
      "language": "python",
      "name": "python3"
    },
    "language_info": {
      "codemirror_mode": {
        "name": "ipython",
        "version": 3
      },
      "file_extension": ".py",
      "mimetype": "text/x-python",
      "name": "python",
      "nbconvert_exporter": "python",
      "pygments_lexer": "ipython3",
      "version": "3.6.6"
    }
  },
  "cells": [
    {
      "cell_type": "markdown",
      "metadata": {
        "id": "view-in-github",
        "colab_type": "text"
      },
      "source": [
        "<a href=\"https://colab.research.google.com/github/TaufiqIdrus/Python-Projects/blob/master/30_fold1.ipynb\" target=\"_parent\"><img src=\"https://colab.research.google.com/assets/colab-badge.svg\" alt=\"Open In Colab\"/></a>"
      ]
    },
    {
      "cell_type": "markdown",
      "metadata": {
        "id": "yJT_kQA2lITS"
      },
      "source": [
        "**Identifikasi Penyakit Pada Tanaman Apel menggunakan Convolutional Neural Network**"
      ]
    },
    {
      "cell_type": "code",
      "metadata": {
        "id": "xXeOaYTUzmgT"
      },
      "source": [
        "import numpy as np\n",
        "import pickle\n",
        "import os\n",
        "import cv2\n",
        "import tensorflow as tf\n",
        "import keras\n",
        "from os import listdir\n",
        "from sklearn.preprocessing import LabelBinarizer\n",
        "from keras.models import Sequential\n",
        "from keras.layers.convolutional import Conv2D\n",
        "from keras.layers.convolutional import MaxPooling2D\n",
        "from keras.layers.core import Activation, Flatten, Dropout, Dense\n",
        "from keras import backend as K\n",
        "from tensorflow.keras.optimizers import Adam\n",
        "from keras.preprocessing import image\n",
        "import matplotlib.pyplot as plt\n",
        "from sklearn.datasets import make_classification\n",
        "from numpy import mean\n"
      ],
      "execution_count": 1,
      "outputs": []
    },
    {
      "cell_type": "markdown",
      "metadata": {
        "id": "fp8C0d28lQok"
      },
      "source": [
        "Importing and Preparing Dataset"
      ]
    },
    {
      "cell_type": "code",
      "metadata": {
        "id": "_0xehllADlUs",
        "colab": {
          "base_uri": "https://localhost:8080/"
        },
        "outputId": "7a3bf050-55bc-4c93-e9e8-e45a941461fc"
      },
      "source": [
        "!pip install pyunpack\n",
        "!pip install patool\n",
        "from pyunpack import Archive\n",
        "Archive('/content/fold1.rar').extractall('/content/Datasets/')\n",
        "iterasi = 1\n",
        "width=60\n",
        "height=60\n",
        "default_image_size = tuple((height, width))\n",
        "directory_root_train = '/content/Datasets/fold1/Train'\n",
        "directory_root_validation = '/content/Datasets/fold1/Validation'\n",
        "directory_root_test = '/content/Datasets/fold1/Test'\n",
        "image_size = 0\n",
        "depth=3"
      ],
      "execution_count": 2,
      "outputs": [
        {
          "output_type": "stream",
          "name": "stdout",
          "text": [
            "Looking in indexes: https://pypi.org/simple, https://us-python.pkg.dev/colab-wheels/public/simple/\n",
            "Collecting pyunpack\n",
            "  Downloading pyunpack-0.3-py2.py3-none-any.whl (4.1 kB)\n",
            "Collecting entrypoint2\n",
            "  Downloading entrypoint2-1.1-py2.py3-none-any.whl (9.9 kB)\n",
            "Collecting easyprocess\n",
            "  Downloading EasyProcess-1.1-py3-none-any.whl (8.7 kB)\n",
            "Installing collected packages: entrypoint2, easyprocess, pyunpack\n",
            "Successfully installed easyprocess-1.1 entrypoint2-1.1 pyunpack-0.3\n",
            "Looking in indexes: https://pypi.org/simple, https://us-python.pkg.dev/colab-wheels/public/simple/\n",
            "Collecting patool\n",
            "  Downloading patool-1.12-py2.py3-none-any.whl (77 kB)\n",
            "\u001b[K     |████████████████████████████████| 77 kB 3.6 MB/s \n",
            "\u001b[?25hInstalling collected packages: patool\n",
            "Successfully installed patool-1.12\n"
          ]
        }
      ]
    },
    {
      "cell_type": "code",
      "metadata": {
        "id": "KbAwJJTpzmge"
      },
      "source": [
        "def convert_image_to_array(image_dir):\n",
        "    try:\n",
        "        image = cv2.imread(image_dir)\n",
        "        if image is not None :\n",
        "            image = cv2.resize(image, default_image_size)   \n",
        "            return keras.preprocessing.image.img_to_array(image)\n",
        "        else :\n",
        "            return np.array([])\n",
        "    except Exception as e:\n",
        "        print(f\"Error : {e}\")\n",
        "        return None"
      ],
      "execution_count": 3,
      "outputs": []
    },
    {
      "cell_type": "markdown",
      "source": [
        "Converting **Training** Data to Array"
      ],
      "metadata": {
        "id": "bgXxUMO2cI_D"
      }
    },
    {
      "cell_type": "code",
      "metadata": {
        "id": "Erz6IjKXzmgg",
        "colab": {
          "base_uri": "https://localhost:8080/"
        },
        "outputId": "040ac99d-718c-4017-dba6-fdaeb2df6986"
      },
      "source": [
        "image_list_train, label_list_train = [], []\n",
        "try:\n",
        "    print(\"[INFO] Loading images ...\")\n",
        "    root_dir = listdir(directory_root_train)\n",
        "\n",
        "    for plant_disease_folder in root_dir:\n",
        "        print(f\"[INFO] Processing {plant_disease_folder} ...\")\n",
        "        plant_disease_image_list = listdir(f\"{directory_root_train}/{plant_disease_folder}/\")\n",
        "      \n",
        "        for image in plant_disease_image_list:\n",
        "            image_directory = f\"{directory_root_train}/{plant_disease_folder}/{image}\"\n",
        "\n",
        "            if image_directory.endswith(\".jpg\") == True or image_directory.endswith(\".JPG\") == True:\n",
        "                image_list_train.append(convert_image_to_array(image_directory))\n",
        "                label_list_train.append(plant_disease_folder)\n",
        "    print(\"[INFO] Image loading completed\")\n",
        "\n",
        "except Exception as e:\n",
        "    print(f\"Error : {e}\")\n",
        "\n",
        "#image labeling\n",
        "image_size = len(image_list_train)\n",
        "label_binarizer = LabelBinarizer()\n",
        "image_labels_train = label_binarizer.fit_transform(label_list_train)\n",
        "pickle.dump(label_binarizer,open('label_transform_train.pkl', 'wb'))\n",
        "n_classes = len(label_binarizer.classes_)\n",
        "np_image_list_train = np.array(image_list_train, dtype=np.float16) / 255.0"
      ],
      "execution_count": 4,
      "outputs": [
        {
          "output_type": "stream",
          "name": "stdout",
          "text": [
            "[INFO] Loading images ...\n",
            "[INFO] Processing apel_sehat ...\n",
            "[INFO] Processing apel_busuk_buah ...\n",
            "[INFO] Processing apel_bercak_daun ...\n",
            "[INFO] Processing apel_cacar_daun ...\n",
            "[INFO] Image loading completed\n"
          ]
        }
      ]
    },
    {
      "cell_type": "markdown",
      "source": [
        "Converting **Validation** Data to Array"
      ],
      "metadata": {
        "id": "7eEMGiqRd_E4"
      }
    },
    {
      "cell_type": "code",
      "source": [
        "image_list_validation, label_list_validation = [], []\n",
        "try:\n",
        "    print(\"[INFO] Loading images ...\")\n",
        "    root_dir = listdir(directory_root_validation)\n",
        "\n",
        "    for plant_disease_folder in root_dir:\n",
        "        print(f\"[INFO] Processing {plant_disease_folder} ...\")\n",
        "        plant_disease_image_list = listdir(f\"{directory_root_validation}/{plant_disease_folder}/\")\n",
        "      \n",
        "        for image in plant_disease_image_list:\n",
        "            image_directory = f\"{directory_root_validation}/{plant_disease_folder}/{image}\"\n",
        "\n",
        "            if image_directory.endswith(\".jpg\") == True or image_directory.endswith(\".JPG\") == True:\n",
        "                image_list_validation.append(convert_image_to_array(image_directory))\n",
        "                label_list_validation.append(plant_disease_folder)\n",
        "    print(\"[INFO] Image loading completed\")\n",
        "\n",
        "except Exception as e:\n",
        "    print(f\"Error : {e}\")\n",
        "\n",
        "#image labeling\n",
        "image_size = len(image_list_validation)\n",
        "label_binarizer = LabelBinarizer()\n",
        "image_labels_validation = label_binarizer.fit_transform(label_list_validation)\n",
        "pickle.dump(label_binarizer,open('label_transform_validation.pkl', 'wb'))\n",
        "n_classes = len(label_binarizer.classes_)\n",
        "np_image_list_validation = np.array(image_list_validation, dtype=np.float16) / 255.0"
      ],
      "metadata": {
        "id": "wfHDdR0ZeEuU",
        "colab": {
          "base_uri": "https://localhost:8080/"
        },
        "outputId": "3343a17b-c83e-4637-d006-c3b03a1b2f65"
      },
      "execution_count": 5,
      "outputs": [
        {
          "output_type": "stream",
          "name": "stdout",
          "text": [
            "[INFO] Loading images ...\n",
            "[INFO] Processing apel_sehat ...\n",
            "[INFO] Processing apel_busuk_buah ...\n",
            "[INFO] Processing apel_bercak_daun ...\n",
            "[INFO] Processing apel_cacar_daun ...\n",
            "[INFO] Image loading completed\n"
          ]
        }
      ]
    },
    {
      "cell_type": "markdown",
      "source": [
        "Converting **Testing** Data to Array"
      ],
      "metadata": {
        "id": "brwWyZVncTdg"
      }
    },
    {
      "cell_type": "code",
      "metadata": {
        "id": "uNPby5UMcaWY",
        "colab": {
          "base_uri": "https://localhost:8080/"
        },
        "outputId": "86e00056-c3bd-4d88-c54d-a491a4bd3e28"
      },
      "source": [
        "image_list_test, label_list_test = [], []\n",
        "try:\n",
        "    print(\"[INFO] Loading images ...\")\n",
        "    root_dir = listdir(directory_root_test)\n",
        "\n",
        "    for plant_disease_folder in root_dir:\n",
        "        print(f\"[INFO] Processing {plant_disease_folder} ...\")\n",
        "        plant_disease_image_list = listdir(f\"{directory_root_test}/{plant_disease_folder}/\")\n",
        "      \n",
        "        for image in plant_disease_image_list:\n",
        "            image_directory = f\"{directory_root_test}/{plant_disease_folder}/{image}\"\n",
        "\n",
        "            if image_directory.endswith(\".jpg\") == True or image_directory.endswith(\".JPG\") == True:\n",
        "                image_list_test.append(convert_image_to_array(image_directory))\n",
        "                label_list_test.append(plant_disease_folder)\n",
        "    print(\"[INFO] Image loading completed\")\n",
        "\n",
        "except Exception as e:\n",
        "    print(f\"Error : {e}\")\n",
        "\n",
        "#image labeling\n",
        "image_size = len(image_list_test)\n",
        "label_binarizer = LabelBinarizer()\n",
        "image_labels_test = label_binarizer.fit_transform(label_list_test)\n",
        "pickle.dump(label_binarizer,open('label_transform_test.pkl', 'wb'))\n",
        "n_classes = len(label_binarizer.classes_)\n",
        "np_image_list_test = np.array(image_list_test, dtype=np.float16) / 255.0"
      ],
      "execution_count": 6,
      "outputs": [
        {
          "output_type": "stream",
          "name": "stdout",
          "text": [
            "[INFO] Loading images ...\n",
            "[INFO] Processing apel_sehat ...\n",
            "[INFO] Processing apel_busuk_buah ...\n",
            "[INFO] Processing apel_bercak_daun ...\n",
            "[INFO] Processing apel_cacar_daun ...\n",
            "[INFO] Image loading completed\n"
          ]
        }
      ]
    },
    {
      "cell_type": "markdown",
      "metadata": {
        "id": "jYBTFN0CnAi7"
      },
      "source": [
        "Data Augmenting Initialization"
      ]
    },
    {
      "cell_type": "code",
      "metadata": {
        "id": "TLMxMK2Tzmgr"
      },
      "source": [
        "aug = keras.preprocessing.image.ImageDataGenerator(\n",
        "    rotation_range=25, \n",
        "    width_shift_range=0.1,\n",
        "    height_shift_range=0.1, \n",
        "    shear_range=0.2, \n",
        "    zoom_range=0.2,\n",
        "    horizontal_flip=True, \n",
        "    fill_mode=\"nearest\")"
      ],
      "execution_count": 7,
      "outputs": []
    },
    {
      "cell_type": "markdown",
      "metadata": {
        "id": "H1BfRyYNnGv_"
      },
      "source": [
        "Creating CNN Model"
      ]
    },
    {
      "cell_type": "code",
      "metadata": {
        "id": "WmLX4wm8zmgs"
      },
      "source": [
        "model = keras.models.Sequential()\n",
        "#inputShape = (height, width, depth)\n",
        "inputShape = (60,60,3)\n",
        "\n",
        "model.add(Conv2D(20, (5, 5), padding=\"same\",input_shape=inputShape))\n",
        "model.add(Activation(\"relu\"))\n",
        "\n",
        "model.add(MaxPooling2D(pool_size=(2, 2), strides=2))\n",
        "\n",
        "model.add(Conv2D(50, (5, 5), padding=\"same\"))\n",
        "model.add(Activation(\"relu\"))\n",
        "\n",
        "model.add(MaxPooling2D(pool_size=(2, 2),strides=2))\n",
        "\n",
        "model.add(Flatten())\n",
        "\n",
        "model.add(Dense(500))\n",
        "model.add(Activation(\"relu\"))\n",
        "\n",
        "model.add(Dense(4))\n",
        "model.add(Activation(\"softmax\"))"
      ],
      "execution_count": 8,
      "outputs": []
    },
    {
      "cell_type": "code",
      "source": [
        "model.summary()"
      ],
      "metadata": {
        "id": "RQIgaph8hW06",
        "colab": {
          "base_uri": "https://localhost:8080/"
        },
        "outputId": "9d21a86d-a26e-4274-a876-dd333293d0a2"
      },
      "execution_count": 9,
      "outputs": [
        {
          "output_type": "stream",
          "name": "stdout",
          "text": [
            "Model: \"sequential\"\n",
            "_________________________________________________________________\n",
            " Layer (type)                Output Shape              Param #   \n",
            "=================================================================\n",
            " conv2d (Conv2D)             (None, 60, 60, 20)        1520      \n",
            "                                                                 \n",
            " activation (Activation)     (None, 60, 60, 20)        0         \n",
            "                                                                 \n",
            " max_pooling2d (MaxPooling2D  (None, 30, 30, 20)       0         \n",
            " )                                                               \n",
            "                                                                 \n",
            " conv2d_1 (Conv2D)           (None, 30, 30, 50)        25050     \n",
            "                                                                 \n",
            " activation_1 (Activation)   (None, 30, 30, 50)        0         \n",
            "                                                                 \n",
            " max_pooling2d_1 (MaxPooling  (None, 15, 15, 50)       0         \n",
            " 2D)                                                             \n",
            "                                                                 \n",
            " flatten (Flatten)           (None, 11250)             0         \n",
            "                                                                 \n",
            " dense (Dense)               (None, 500)               5625500   \n",
            "                                                                 \n",
            " activation_2 (Activation)   (None, 500)               0         \n",
            "                                                                 \n",
            " dense_1 (Dense)             (None, 4)                 2004      \n",
            "                                                                 \n",
            " activation_3 (Activation)   (None, 4)                 0         \n",
            "                                                                 \n",
            "=================================================================\n",
            "Total params: 5,654,074\n",
            "Trainable params: 5,654,074\n",
            "Non-trainable params: 0\n",
            "_________________________________________________________________\n"
          ]
        }
      ]
    },
    {
      "cell_type": "code",
      "source": [
        "#from PIL import Image\n",
        "#from keras.utils.vis_utils import plot_model\n",
        "#plot_model(model, to_file='cnn_model.png', show_shapes=True, show_layer_names=True)\n",
        "#display(Image.open('cnn_model.png'))"
      ],
      "metadata": {
        "id": "T05gPuu1GudW"
      },
      "execution_count": 10,
      "outputs": []
    },
    {
      "cell_type": "markdown",
      "metadata": {
        "id": "Zfsu3lVfnXFG"
      },
      "source": [
        "**Training** Network"
      ]
    },
    {
      "cell_type": "code",
      "metadata": {
        "id": "rvwKwe3Lzmgv",
        "colab": {
          "base_uri": "https://localhost:8080/"
        },
        "outputId": "f3b9f414-a691-4ba2-c1a0-923eb25f139c"
      },
      "source": [
        "EPOCHS = 200\n",
        "INIT_LR = 1e-3\n",
        "BS = 8\n",
        "\n",
        "with tf.device('/GPU:0'):\n",
        "  opt = Adam(learning_rate=INIT_LR, decay=INIT_LR / EPOCHS)\n",
        "  model.compile(loss=\"categorical_crossentropy\", optimizer=opt,metrics=[\"Accuracy\", \"FalseNegatives\", \"FalsePositives\", \"TrueNegatives\", \"TruePositives\"])\n",
        "  \n",
        "  history = model.fit(\n",
        "      aug.flow(np_image_list_train, image_labels_train, batch_size=BS),\n",
        "      validation_data=(np_image_list_validation, image_labels_validation),\n",
        "      steps_per_epoch=len(np_image_list_train) // BS,\n",
        "      epochs=EPOCHS, \n",
        "      verbose=1,\n",
        "      )\n"
      ],
      "execution_count": 11,
      "outputs": [
        {
          "output_type": "stream",
          "name": "stdout",
          "text": [
            "Epoch 1/200\n",
            "44/44 [==============================] - 18s 60ms/step - loss: 1.4422 - Accuracy: 0.4052 - false_negatives: 336.0000 - false_positives: 18.0000 - true_negatives: 1026.0000 - true_positives: 12.0000 - val_loss: 1.2177 - val_Accuracy: 0.4545 - val_false_negatives: 73.0000 - val_false_positives: 7.0000 - val_true_negatives: 257.0000 - val_true_positives: 15.0000\n",
            "Epoch 2/200\n",
            "44/44 [==============================] - 1s 15ms/step - loss: 1.2140 - Accuracy: 0.4483 - false_negatives: 273.0000 - false_positives: 49.0000 - true_negatives: 995.0000 - true_positives: 75.0000 - val_loss: 1.4084 - val_Accuracy: 0.4545 - val_false_negatives: 48.0000 - val_false_positives: 47.0000 - val_true_negatives: 217.0000 - val_true_positives: 40.0000\n",
            "Epoch 3/200\n",
            "44/44 [==============================] - 1s 14ms/step - loss: 1.1070 - Accuracy: 0.5431 - false_negatives: 238.0000 - false_positives: 47.0000 - true_negatives: 997.0000 - true_positives: 110.0000 - val_loss: 1.1877 - val_Accuracy: 0.5114 - val_false_negatives: 70.0000 - val_false_positives: 11.0000 - val_true_negatives: 253.0000 - val_true_positives: 18.0000\n",
            "Epoch 4/200\n",
            "44/44 [==============================] - 1s 15ms/step - loss: 1.0157 - Accuracy: 0.6092 - false_negatives: 222.0000 - false_positives: 41.0000 - true_negatives: 1003.0000 - true_positives: 126.0000 - val_loss: 1.3135 - val_Accuracy: 0.4773 - val_false_negatives: 50.0000 - val_false_positives: 26.0000 - val_true_negatives: 238.0000 - val_true_positives: 38.0000\n",
            "Epoch 5/200\n",
            "44/44 [==============================] - 1s 15ms/step - loss: 0.9579 - Accuracy: 0.6351 - false_negatives: 189.0000 - false_positives: 51.0000 - true_negatives: 993.0000 - true_positives: 159.0000 - val_loss: 2.0016 - val_Accuracy: 0.4545 - val_false_negatives: 48.0000 - val_false_positives: 33.0000 - val_true_negatives: 231.0000 - val_true_positives: 40.0000\n",
            "Epoch 6/200\n",
            "44/44 [==============================] - 1s 15ms/step - loss: 0.9365 - Accuracy: 0.6466 - false_negatives: 174.0000 - false_positives: 65.0000 - true_negatives: 979.0000 - true_positives: 174.0000 - val_loss: 1.2549 - val_Accuracy: 0.4886 - val_false_negatives: 65.0000 - val_false_positives: 17.0000 - val_true_negatives: 247.0000 - val_true_positives: 23.0000\n",
            "Epoch 7/200\n",
            "44/44 [==============================] - 1s 14ms/step - loss: 1.0026 - Accuracy: 0.6178 - false_negatives: 199.0000 - false_positives: 57.0000 - true_negatives: 987.0000 - true_positives: 149.0000 - val_loss: 1.3146 - val_Accuracy: 0.4886 - val_false_negatives: 53.0000 - val_false_positives: 31.0000 - val_true_negatives: 233.0000 - val_true_positives: 35.0000\n",
            "Epoch 8/200\n",
            "44/44 [==============================] - 1s 15ms/step - loss: 0.9121 - Accuracy: 0.6724 - false_negatives: 166.0000 - false_positives: 56.0000 - true_negatives: 988.0000 - true_positives: 182.0000 - val_loss: 1.4286 - val_Accuracy: 0.4773 - val_false_negatives: 51.0000 - val_false_positives: 34.0000 - val_true_negatives: 230.0000 - val_true_positives: 37.0000\n",
            "Epoch 9/200\n",
            "44/44 [==============================] - 1s 15ms/step - loss: 0.8493 - Accuracy: 0.6753 - false_negatives: 142.0000 - false_positives: 65.0000 - true_negatives: 979.0000 - true_positives: 206.0000 - val_loss: 1.3221 - val_Accuracy: 0.4886 - val_false_negatives: 52.0000 - val_false_positives: 24.0000 - val_true_negatives: 240.0000 - val_true_positives: 36.0000\n",
            "Epoch 10/200\n",
            "44/44 [==============================] - 1s 15ms/step - loss: 0.8693 - Accuracy: 0.6782 - false_negatives: 159.0000 - false_positives: 64.0000 - true_negatives: 980.0000 - true_positives: 189.0000 - val_loss: 1.3090 - val_Accuracy: 0.5000 - val_false_negatives: 50.0000 - val_false_positives: 36.0000 - val_true_negatives: 228.0000 - val_true_positives: 38.0000\n",
            "Epoch 11/200\n",
            "44/44 [==============================] - 1s 15ms/step - loss: 0.8015 - Accuracy: 0.7011 - false_negatives: 144.0000 - false_positives: 60.0000 - true_negatives: 984.0000 - true_positives: 204.0000 - val_loss: 1.8736 - val_Accuracy: 0.4545 - val_false_negatives: 48.0000 - val_false_positives: 43.0000 - val_true_negatives: 221.0000 - val_true_positives: 40.0000\n",
            "Epoch 12/200\n",
            "44/44 [==============================] - 1s 15ms/step - loss: 0.8547 - Accuracy: 0.6609 - false_negatives: 151.0000 - false_positives: 71.0000 - true_negatives: 973.0000 - true_positives: 197.0000 - val_loss: 1.4403 - val_Accuracy: 0.5000 - val_false_negatives: 51.0000 - val_false_positives: 25.0000 - val_true_negatives: 239.0000 - val_true_positives: 37.0000\n",
            "Epoch 13/200\n",
            "44/44 [==============================] - 1s 15ms/step - loss: 0.8702 - Accuracy: 0.6609 - false_negatives: 167.0000 - false_positives: 64.0000 - true_negatives: 980.0000 - true_positives: 181.0000 - val_loss: 1.5701 - val_Accuracy: 0.5000 - val_false_negatives: 49.0000 - val_false_positives: 37.0000 - val_true_negatives: 227.0000 - val_true_positives: 39.0000\n",
            "Epoch 14/200\n",
            "44/44 [==============================] - 1s 14ms/step - loss: 0.8333 - Accuracy: 0.6983 - false_negatives: 140.0000 - false_positives: 60.0000 - true_negatives: 984.0000 - true_positives: 208.0000 - val_loss: 1.2422 - val_Accuracy: 0.5114 - val_false_negatives: 51.0000 - val_false_positives: 32.0000 - val_true_negatives: 232.0000 - val_true_positives: 37.0000\n",
            "Epoch 15/200\n",
            "44/44 [==============================] - 1s 16ms/step - loss: 0.8053 - Accuracy: 0.6868 - false_negatives: 140.0000 - false_positives: 67.0000 - true_negatives: 977.0000 - true_positives: 208.0000 - val_loss: 1.6887 - val_Accuracy: 0.4659 - val_false_negatives: 49.0000 - val_false_positives: 39.0000 - val_true_negatives: 225.0000 - val_true_positives: 39.0000\n",
            "Epoch 16/200\n",
            "44/44 [==============================] - 1s 25ms/step - loss: 0.7813 - Accuracy: 0.7270 - false_negatives: 128.0000 - false_positives: 57.0000 - true_negatives: 987.0000 - true_positives: 220.0000 - val_loss: 1.5106 - val_Accuracy: 0.5114 - val_false_negatives: 45.0000 - val_false_positives: 38.0000 - val_true_negatives: 226.0000 - val_true_positives: 43.0000\n",
            "Epoch 17/200\n",
            "44/44 [==============================] - 1s 27ms/step - loss: 0.7665 - Accuracy: 0.7385 - false_negatives: 118.0000 - false_positives: 63.0000 - true_negatives: 981.0000 - true_positives: 230.0000 - val_loss: 1.4809 - val_Accuracy: 0.5227 - val_false_negatives: 47.0000 - val_false_positives: 34.0000 - val_true_negatives: 230.0000 - val_true_positives: 41.0000\n",
            "Epoch 18/200\n",
            "44/44 [==============================] - 1s 28ms/step - loss: 0.7517 - Accuracy: 0.7244 - false_negatives: 117.0000 - false_positives: 66.0000 - true_negatives: 990.0000 - true_positives: 235.0000 - val_loss: 1.4938 - val_Accuracy: 0.5227 - val_false_negatives: 45.0000 - val_false_positives: 35.0000 - val_true_negatives: 229.0000 - val_true_positives: 43.0000\n",
            "Epoch 19/200\n",
            "44/44 [==============================] - 1s 15ms/step - loss: 0.7644 - Accuracy: 0.7241 - false_negatives: 127.0000 - false_positives: 62.0000 - true_negatives: 982.0000 - true_positives: 221.0000 - val_loss: 1.2211 - val_Accuracy: 0.5455 - val_false_negatives: 42.0000 - val_false_positives: 37.0000 - val_true_negatives: 227.0000 - val_true_positives: 46.0000\n",
            "Epoch 20/200\n",
            "44/44 [==============================] - 1s 15ms/step - loss: 0.7225 - Accuracy: 0.7586 - false_negatives: 107.0000 - false_positives: 63.0000 - true_negatives: 981.0000 - true_positives: 241.0000 - val_loss: 1.1277 - val_Accuracy: 0.5227 - val_false_negatives: 58.0000 - val_false_positives: 15.0000 - val_true_negatives: 249.0000 - val_true_positives: 30.0000\n",
            "Epoch 21/200\n",
            "44/44 [==============================] - 1s 14ms/step - loss: 0.7642 - Accuracy: 0.7011 - false_negatives: 129.0000 - false_positives: 70.0000 - true_negatives: 974.0000 - true_positives: 219.0000 - val_loss: 1.4157 - val_Accuracy: 0.5568 - val_false_negatives: 44.0000 - val_false_positives: 34.0000 - val_true_negatives: 230.0000 - val_true_positives: 44.0000\n",
            "Epoch 22/200\n",
            "44/44 [==============================] - 1s 15ms/step - loss: 0.7509 - Accuracy: 0.7270 - false_negatives: 119.0000 - false_positives: 70.0000 - true_negatives: 974.0000 - true_positives: 229.0000 - val_loss: 1.5723 - val_Accuracy: 0.5341 - val_false_negatives: 42.0000 - val_false_positives: 40.0000 - val_true_negatives: 224.0000 - val_true_positives: 46.0000\n",
            "Epoch 23/200\n",
            "44/44 [==============================] - 1s 19ms/step - loss: 0.7355 - Accuracy: 0.7385 - false_negatives: 114.0000 - false_positives: 62.0000 - true_negatives: 982.0000 - true_positives: 234.0000 - val_loss: 1.2571 - val_Accuracy: 0.5568 - val_false_negatives: 46.0000 - val_false_positives: 31.0000 - val_true_negatives: 233.0000 - val_true_positives: 42.0000\n",
            "Epoch 24/200\n",
            "44/44 [==============================] - 1s 26ms/step - loss: 0.6985 - Accuracy: 0.7500 - false_negatives: 101.0000 - false_positives: 58.0000 - true_negatives: 986.0000 - true_positives: 247.0000 - val_loss: 1.3060 - val_Accuracy: 0.5568 - val_false_negatives: 43.0000 - val_false_positives: 38.0000 - val_true_negatives: 226.0000 - val_true_positives: 45.0000\n",
            "Epoch 25/200\n",
            "44/44 [==============================] - 1s 24ms/step - loss: 0.6829 - Accuracy: 0.7787 - false_negatives: 108.0000 - false_positives: 59.0000 - true_negatives: 985.0000 - true_positives: 240.0000 - val_loss: 1.2503 - val_Accuracy: 0.5795 - val_false_negatives: 43.0000 - val_false_positives: 31.0000 - val_true_negatives: 233.0000 - val_true_positives: 45.0000\n",
            "Epoch 26/200\n",
            "44/44 [==============================] - 1s 15ms/step - loss: 0.6604 - Accuracy: 0.7759 - false_negatives: 93.0000 - false_positives: 59.0000 - true_negatives: 985.0000 - true_positives: 255.0000 - val_loss: 1.6976 - val_Accuracy: 0.5000 - val_false_negatives: 44.0000 - val_false_positives: 38.0000 - val_true_negatives: 226.0000 - val_true_positives: 44.0000\n",
            "Epoch 27/200\n",
            "44/44 [==============================] - 1s 15ms/step - loss: 0.6675 - Accuracy: 0.7586 - false_negatives: 105.0000 - false_positives: 65.0000 - true_negatives: 979.0000 - true_positives: 243.0000 - val_loss: 1.2050 - val_Accuracy: 0.5795 - val_false_negatives: 47.0000 - val_false_positives: 27.0000 - val_true_negatives: 237.0000 - val_true_positives: 41.0000\n",
            "Epoch 28/200\n",
            "44/44 [==============================] - 1s 15ms/step - loss: 0.6751 - Accuracy: 0.7557 - false_negatives: 105.0000 - false_positives: 60.0000 - true_negatives: 984.0000 - true_positives: 243.0000 - val_loss: 1.7398 - val_Accuracy: 0.5000 - val_false_negatives: 44.0000 - val_false_positives: 40.0000 - val_true_negatives: 224.0000 - val_true_positives: 44.0000\n",
            "Epoch 29/200\n",
            "44/44 [==============================] - 1s 14ms/step - loss: 0.6221 - Accuracy: 0.7701 - false_negatives: 94.0000 - false_positives: 58.0000 - true_negatives: 986.0000 - true_positives: 254.0000 - val_loss: 1.2524 - val_Accuracy: 0.5682 - val_false_negatives: 44.0000 - val_false_positives: 31.0000 - val_true_negatives: 233.0000 - val_true_positives: 44.0000\n",
            "Epoch 30/200\n",
            "44/44 [==============================] - 1s 15ms/step - loss: 0.6483 - Accuracy: 0.7701 - false_negatives: 100.0000 - false_positives: 52.0000 - true_negatives: 992.0000 - true_positives: 248.0000 - val_loss: 1.3185 - val_Accuracy: 0.5795 - val_false_negatives: 43.0000 - val_false_positives: 34.0000 - val_true_negatives: 230.0000 - val_true_positives: 45.0000\n",
            "Epoch 31/200\n",
            "44/44 [==============================] - 1s 15ms/step - loss: 0.6039 - Accuracy: 0.7931 - false_negatives: 87.0000 - false_positives: 54.0000 - true_negatives: 990.0000 - true_positives: 261.0000 - val_loss: 1.5419 - val_Accuracy: 0.5568 - val_false_negatives: 43.0000 - val_false_positives: 34.0000 - val_true_negatives: 230.0000 - val_true_positives: 45.0000\n",
            "Epoch 32/200\n",
            "44/44 [==============================] - 1s 14ms/step - loss: 0.7247 - Accuracy: 0.7241 - false_negatives: 106.0000 - false_positives: 69.0000 - true_negatives: 975.0000 - true_positives: 242.0000 - val_loss: 1.1741 - val_Accuracy: 0.5909 - val_false_negatives: 42.0000 - val_false_positives: 32.0000 - val_true_negatives: 232.0000 - val_true_positives: 46.0000\n",
            "Epoch 33/200\n",
            "44/44 [==============================] - 1s 15ms/step - loss: 0.6311 - Accuracy: 0.7701 - false_negatives: 101.0000 - false_positives: 57.0000 - true_negatives: 987.0000 - true_positives: 247.0000 - val_loss: 1.3912 - val_Accuracy: 0.5568 - val_false_negatives: 42.0000 - val_false_positives: 37.0000 - val_true_negatives: 227.0000 - val_true_positives: 46.0000\n",
            "Epoch 34/200\n",
            "44/44 [==============================] - 1s 15ms/step - loss: 0.6141 - Accuracy: 0.7874 - false_negatives: 94.0000 - false_positives: 54.0000 - true_negatives: 990.0000 - true_positives: 254.0000 - val_loss: 1.3147 - val_Accuracy: 0.5795 - val_false_negatives: 41.0000 - val_false_positives: 34.0000 - val_true_negatives: 230.0000 - val_true_positives: 47.0000\n",
            "Epoch 35/200\n",
            "44/44 [==============================] - 1s 15ms/step - loss: 0.6514 - Accuracy: 0.7730 - false_negatives: 96.0000 - false_positives: 61.0000 - true_negatives: 983.0000 - true_positives: 252.0000 - val_loss: 1.3012 - val_Accuracy: 0.5682 - val_false_negatives: 47.0000 - val_false_positives: 30.0000 - val_true_negatives: 234.0000 - val_true_positives: 41.0000\n",
            "Epoch 36/200\n",
            "44/44 [==============================] - 1s 15ms/step - loss: 0.6329 - Accuracy: 0.7874 - false_negatives: 99.0000 - false_positives: 53.0000 - true_negatives: 991.0000 - true_positives: 249.0000 - val_loss: 1.5709 - val_Accuracy: 0.5455 - val_false_negatives: 41.0000 - val_false_positives: 37.0000 - val_true_negatives: 227.0000 - val_true_positives: 47.0000\n",
            "Epoch 37/200\n",
            "44/44 [==============================] - 1s 15ms/step - loss: 0.6264 - Accuracy: 0.7471 - false_negatives: 99.0000 - false_positives: 57.0000 - true_negatives: 987.0000 - true_positives: 249.0000 - val_loss: 1.3783 - val_Accuracy: 0.6023 - val_false_negatives: 41.0000 - val_false_positives: 32.0000 - val_true_negatives: 232.0000 - val_true_positives: 47.0000\n",
            "Epoch 38/200\n",
            "44/44 [==============================] - 1s 14ms/step - loss: 0.5986 - Accuracy: 0.7615 - false_negatives: 97.0000 - false_positives: 63.0000 - true_negatives: 981.0000 - true_positives: 251.0000 - val_loss: 1.2806 - val_Accuracy: 0.5795 - val_false_negatives: 45.0000 - val_false_positives: 31.0000 - val_true_negatives: 233.0000 - val_true_positives: 43.0000\n",
            "Epoch 39/200\n",
            "44/44 [==============================] - 1s 15ms/step - loss: 0.5559 - Accuracy: 0.8247 - false_negatives: 80.0000 - false_positives: 50.0000 - true_negatives: 994.0000 - true_positives: 268.0000 - val_loss: 1.1177 - val_Accuracy: 0.6023 - val_false_negatives: 39.0000 - val_false_positives: 27.0000 - val_true_negatives: 237.0000 - val_true_positives: 49.0000\n",
            "Epoch 40/200\n",
            "44/44 [==============================] - 1s 15ms/step - loss: 0.6221 - Accuracy: 0.7586 - false_negatives: 99.0000 - false_positives: 65.0000 - true_negatives: 979.0000 - true_positives: 249.0000 - val_loss: 1.1347 - val_Accuracy: 0.5909 - val_false_negatives: 44.0000 - val_false_positives: 30.0000 - val_true_negatives: 234.0000 - val_true_positives: 44.0000\n",
            "Epoch 41/200\n",
            "44/44 [==============================] - 1s 15ms/step - loss: 0.5879 - Accuracy: 0.8017 - false_negatives: 81.0000 - false_positives: 51.0000 - true_negatives: 993.0000 - true_positives: 267.0000 - val_loss: 1.4143 - val_Accuracy: 0.5682 - val_false_negatives: 42.0000 - val_false_positives: 30.0000 - val_true_negatives: 234.0000 - val_true_positives: 46.0000\n",
            "Epoch 42/200\n",
            "44/44 [==============================] - 1s 15ms/step - loss: 0.5855 - Accuracy: 0.7816 - false_negatives: 96.0000 - false_positives: 49.0000 - true_negatives: 995.0000 - true_positives: 252.0000 - val_loss: 1.2886 - val_Accuracy: 0.6023 - val_false_negatives: 41.0000 - val_false_positives: 27.0000 - val_true_negatives: 237.0000 - val_true_positives: 47.0000\n",
            "Epoch 43/200\n",
            "44/44 [==============================] - 1s 15ms/step - loss: 0.5772 - Accuracy: 0.7845 - false_negatives: 87.0000 - false_positives: 59.0000 - true_negatives: 985.0000 - true_positives: 261.0000 - val_loss: 1.1900 - val_Accuracy: 0.5795 - val_false_negatives: 42.0000 - val_false_positives: 29.0000 - val_true_negatives: 235.0000 - val_true_positives: 46.0000\n",
            "Epoch 44/200\n",
            "44/44 [==============================] - 1s 15ms/step - loss: 0.5510 - Accuracy: 0.7960 - false_negatives: 86.0000 - false_positives: 50.0000 - true_negatives: 994.0000 - true_positives: 262.0000 - val_loss: 1.6754 - val_Accuracy: 0.5455 - val_false_negatives: 45.0000 - val_false_positives: 32.0000 - val_true_negatives: 232.0000 - val_true_positives: 43.0000\n",
            "Epoch 45/200\n",
            "44/44 [==============================] - 1s 15ms/step - loss: 0.5851 - Accuracy: 0.7874 - false_negatives: 94.0000 - false_positives: 49.0000 - true_negatives: 995.0000 - true_positives: 254.0000 - val_loss: 1.5465 - val_Accuracy: 0.5455 - val_false_negatives: 43.0000 - val_false_positives: 35.0000 - val_true_negatives: 229.0000 - val_true_positives: 45.0000\n",
            "Epoch 46/200\n",
            "44/44 [==============================] - 1s 15ms/step - loss: 0.6049 - Accuracy: 0.7529 - false_negatives: 102.0000 - false_positives: 62.0000 - true_negatives: 982.0000 - true_positives: 246.0000 - val_loss: 1.4597 - val_Accuracy: 0.5114 - val_false_negatives: 46.0000 - val_false_positives: 31.0000 - val_true_negatives: 233.0000 - val_true_positives: 42.0000\n",
            "Epoch 47/200\n",
            "44/44 [==============================] - 1s 15ms/step - loss: 0.5784 - Accuracy: 0.7931 - false_negatives: 81.0000 - false_positives: 48.0000 - true_negatives: 996.0000 - true_positives: 267.0000 - val_loss: 1.6555 - val_Accuracy: 0.5341 - val_false_negatives: 42.0000 - val_false_positives: 36.0000 - val_true_negatives: 228.0000 - val_true_positives: 46.0000\n",
            "Epoch 48/200\n",
            "44/44 [==============================] - 1s 14ms/step - loss: 0.5660 - Accuracy: 0.7960 - false_negatives: 80.0000 - false_positives: 58.0000 - true_negatives: 986.0000 - true_positives: 268.0000 - val_loss: 1.3592 - val_Accuracy: 0.5568 - val_false_negatives: 46.0000 - val_false_positives: 31.0000 - val_true_negatives: 233.0000 - val_true_positives: 42.0000\n",
            "Epoch 49/200\n",
            "44/44 [==============================] - 1s 15ms/step - loss: 0.5888 - Accuracy: 0.7759 - false_negatives: 95.0000 - false_positives: 54.0000 - true_negatives: 990.0000 - true_positives: 253.0000 - val_loss: 1.2347 - val_Accuracy: 0.5682 - val_false_negatives: 41.0000 - val_false_positives: 33.0000 - val_true_negatives: 231.0000 - val_true_positives: 47.0000\n",
            "Epoch 50/200\n",
            "44/44 [==============================] - 1s 15ms/step - loss: 0.5604 - Accuracy: 0.8017 - false_negatives: 87.0000 - false_positives: 57.0000 - true_negatives: 987.0000 - true_positives: 261.0000 - val_loss: 1.4509 - val_Accuracy: 0.5682 - val_false_negatives: 43.0000 - val_false_positives: 28.0000 - val_true_negatives: 236.0000 - val_true_positives: 45.0000\n",
            "Epoch 51/200\n",
            "44/44 [==============================] - 1s 15ms/step - loss: 0.5445 - Accuracy: 0.7816 - false_negatives: 84.0000 - false_positives: 52.0000 - true_negatives: 992.0000 - true_positives: 264.0000 - val_loss: 1.2304 - val_Accuracy: 0.5795 - val_false_negatives: 42.0000 - val_false_positives: 28.0000 - val_true_negatives: 236.0000 - val_true_positives: 46.0000\n",
            "Epoch 52/200\n",
            "44/44 [==============================] - 1s 15ms/step - loss: 0.5548 - Accuracy: 0.7931 - false_negatives: 88.0000 - false_positives: 51.0000 - true_negatives: 993.0000 - true_positives: 260.0000 - val_loss: 1.3576 - val_Accuracy: 0.5795 - val_false_negatives: 40.0000 - val_false_positives: 32.0000 - val_true_negatives: 232.0000 - val_true_positives: 48.0000\n",
            "Epoch 53/200\n",
            "44/44 [==============================] - 1s 15ms/step - loss: 0.4724 - Accuracy: 0.8362 - false_negatives: 72.0000 - false_positives: 41.0000 - true_negatives: 1003.0000 - true_positives: 276.0000 - val_loss: 1.3493 - val_Accuracy: 0.6136 - val_false_negatives: 36.0000 - val_false_positives: 32.0000 - val_true_negatives: 232.0000 - val_true_positives: 52.0000\n",
            "Epoch 54/200\n",
            "44/44 [==============================] - 1s 15ms/step - loss: 0.5276 - Accuracy: 0.7874 - false_negatives: 80.0000 - false_positives: 50.0000 - true_negatives: 994.0000 - true_positives: 268.0000 - val_loss: 1.5463 - val_Accuracy: 0.5568 - val_false_negatives: 42.0000 - val_false_positives: 33.0000 - val_true_negatives: 231.0000 - val_true_positives: 46.0000\n",
            "Epoch 55/200\n",
            "44/44 [==============================] - 1s 15ms/step - loss: 0.5269 - Accuracy: 0.8017 - false_negatives: 89.0000 - false_positives: 55.0000 - true_negatives: 989.0000 - true_positives: 259.0000 - val_loss: 1.3380 - val_Accuracy: 0.6023 - val_false_negatives: 42.0000 - val_false_positives: 28.0000 - val_true_negatives: 236.0000 - val_true_positives: 46.0000\n",
            "Epoch 56/200\n",
            "44/44 [==============================] - 1s 15ms/step - loss: 0.5364 - Accuracy: 0.8075 - false_negatives: 85.0000 - false_positives: 51.0000 - true_negatives: 993.0000 - true_positives: 263.0000 - val_loss: 1.3496 - val_Accuracy: 0.5682 - val_false_negatives: 43.0000 - val_false_positives: 28.0000 - val_true_negatives: 236.0000 - val_true_positives: 45.0000\n",
            "Epoch 57/200\n",
            "44/44 [==============================] - 1s 15ms/step - loss: 0.5040 - Accuracy: 0.8247 - false_negatives: 73.0000 - false_positives: 45.0000 - true_negatives: 999.0000 - true_positives: 275.0000 - val_loss: 1.5157 - val_Accuracy: 0.5568 - val_false_negatives: 43.0000 - val_false_positives: 32.0000 - val_true_negatives: 232.0000 - val_true_positives: 45.0000\n",
            "Epoch 58/200\n",
            "44/44 [==============================] - 1s 15ms/step - loss: 0.4895 - Accuracy: 0.8333 - false_negatives: 72.0000 - false_positives: 47.0000 - true_negatives: 997.0000 - true_positives: 276.0000 - val_loss: 1.2262 - val_Accuracy: 0.5909 - val_false_negatives: 42.0000 - val_false_positives: 26.0000 - val_true_negatives: 238.0000 - val_true_positives: 46.0000\n",
            "Epoch 59/200\n",
            "44/44 [==============================] - 1s 15ms/step - loss: 0.5206 - Accuracy: 0.8247 - false_negatives: 74.0000 - false_positives: 49.0000 - true_negatives: 995.0000 - true_positives: 274.0000 - val_loss: 1.2766 - val_Accuracy: 0.5568 - val_false_negatives: 42.0000 - val_false_positives: 27.0000 - val_true_negatives: 237.0000 - val_true_positives: 46.0000\n",
            "Epoch 60/200\n",
            "44/44 [==============================] - 1s 15ms/step - loss: 0.5009 - Accuracy: 0.8161 - false_negatives: 83.0000 - false_positives: 48.0000 - true_negatives: 996.0000 - true_positives: 265.0000 - val_loss: 1.3094 - val_Accuracy: 0.5682 - val_false_negatives: 42.0000 - val_false_positives: 28.0000 - val_true_negatives: 236.0000 - val_true_positives: 46.0000\n",
            "Epoch 61/200\n",
            "44/44 [==============================] - 1s 15ms/step - loss: 0.5047 - Accuracy: 0.7874 - false_negatives: 85.0000 - false_positives: 54.0000 - true_negatives: 990.0000 - true_positives: 263.0000 - val_loss: 1.4906 - val_Accuracy: 0.5682 - val_false_negatives: 46.0000 - val_false_positives: 27.0000 - val_true_negatives: 237.0000 - val_true_positives: 42.0000\n",
            "Epoch 62/200\n",
            "44/44 [==============================] - 1s 15ms/step - loss: 0.4704 - Accuracy: 0.8103 - false_negatives: 75.0000 - false_positives: 42.0000 - true_negatives: 1002.0000 - true_positives: 273.0000 - val_loss: 1.6671 - val_Accuracy: 0.5455 - val_false_negatives: 42.0000 - val_false_positives: 29.0000 - val_true_negatives: 235.0000 - val_true_positives: 46.0000\n",
            "Epoch 63/200\n",
            "44/44 [==============================] - 1s 15ms/step - loss: 0.4862 - Accuracy: 0.8218 - false_negatives: 70.0000 - false_positives: 41.0000 - true_negatives: 1003.0000 - true_positives: 278.0000 - val_loss: 1.2073 - val_Accuracy: 0.6023 - val_false_negatives: 45.0000 - val_false_positives: 23.0000 - val_true_negatives: 241.0000 - val_true_positives: 43.0000\n",
            "Epoch 64/200\n",
            "44/44 [==============================] - 1s 15ms/step - loss: 0.4908 - Accuracy: 0.8161 - false_negatives: 81.0000 - false_positives: 48.0000 - true_negatives: 996.0000 - true_positives: 267.0000 - val_loss: 1.7022 - val_Accuracy: 0.5568 - val_false_negatives: 42.0000 - val_false_positives: 36.0000 - val_true_negatives: 228.0000 - val_true_positives: 46.0000\n",
            "Epoch 65/200\n",
            "44/44 [==============================] - 1s 15ms/step - loss: 0.4430 - Accuracy: 0.8247 - false_negatives: 72.0000 - false_positives: 42.0000 - true_negatives: 1002.0000 - true_positives: 276.0000 - val_loss: 1.4839 - val_Accuracy: 0.5568 - val_false_negatives: 42.0000 - val_false_positives: 31.0000 - val_true_negatives: 233.0000 - val_true_positives: 46.0000\n",
            "Epoch 66/200\n",
            "44/44 [==============================] - 1s 15ms/step - loss: 0.4618 - Accuracy: 0.8477 - false_negatives: 75.0000 - false_positives: 38.0000 - true_negatives: 1006.0000 - true_positives: 273.0000 - val_loss: 1.4955 - val_Accuracy: 0.5568 - val_false_negatives: 42.0000 - val_false_positives: 34.0000 - val_true_negatives: 230.0000 - val_true_positives: 46.0000\n",
            "Epoch 67/200\n",
            "44/44 [==============================] - 1s 15ms/step - loss: 0.4693 - Accuracy: 0.8362 - false_negatives: 69.0000 - false_positives: 47.0000 - true_negatives: 997.0000 - true_positives: 279.0000 - val_loss: 1.1948 - val_Accuracy: 0.6023 - val_false_negatives: 39.0000 - val_false_positives: 28.0000 - val_true_negatives: 236.0000 - val_true_positives: 49.0000\n",
            "Epoch 68/200\n",
            "44/44 [==============================] - 1s 19ms/step - loss: 0.4802 - Accuracy: 0.8218 - false_negatives: 72.0000 - false_positives: 45.0000 - true_negatives: 999.0000 - true_positives: 276.0000 - val_loss: 1.3606 - val_Accuracy: 0.5455 - val_false_negatives: 43.0000 - val_false_positives: 31.0000 - val_true_negatives: 233.0000 - val_true_positives: 45.0000\n",
            "Epoch 69/200\n",
            "44/44 [==============================] - 1s 16ms/step - loss: 0.4738 - Accuracy: 0.8333 - false_negatives: 78.0000 - false_positives: 46.0000 - true_negatives: 998.0000 - true_positives: 270.0000 - val_loss: 1.4496 - val_Accuracy: 0.5568 - val_false_negatives: 44.0000 - val_false_positives: 32.0000 - val_true_negatives: 232.0000 - val_true_positives: 44.0000\n",
            "Epoch 70/200\n",
            "44/44 [==============================] - 1s 15ms/step - loss: 0.4517 - Accuracy: 0.8333 - false_negatives: 69.0000 - false_positives: 49.0000 - true_negatives: 995.0000 - true_positives: 279.0000 - val_loss: 1.6043 - val_Accuracy: 0.5568 - val_false_negatives: 41.0000 - val_false_positives: 31.0000 - val_true_negatives: 233.0000 - val_true_positives: 47.0000\n",
            "Epoch 71/200\n",
            "44/44 [==============================] - 1s 16ms/step - loss: 0.4547 - Accuracy: 0.8391 - false_negatives: 68.0000 - false_positives: 44.0000 - true_negatives: 1000.0000 - true_positives: 280.0000 - val_loss: 1.3540 - val_Accuracy: 0.5682 - val_false_negatives: 44.0000 - val_false_positives: 25.0000 - val_true_negatives: 239.0000 - val_true_positives: 44.0000\n",
            "Epoch 72/200\n",
            "44/44 [==============================] - 1s 15ms/step - loss: 0.4914 - Accuracy: 0.8132 - false_negatives: 78.0000 - false_positives: 48.0000 - true_negatives: 996.0000 - true_positives: 270.0000 - val_loss: 1.2779 - val_Accuracy: 0.5909 - val_false_negatives: 42.0000 - val_false_positives: 24.0000 - val_true_negatives: 240.0000 - val_true_positives: 46.0000\n",
            "Epoch 73/200\n",
            "44/44 [==============================] - 1s 15ms/step - loss: 0.4696 - Accuracy: 0.8391 - false_negatives: 69.0000 - false_positives: 42.0000 - true_negatives: 1002.0000 - true_positives: 279.0000 - val_loss: 1.2817 - val_Accuracy: 0.6136 - val_false_negatives: 40.0000 - val_false_positives: 26.0000 - val_true_negatives: 238.0000 - val_true_positives: 48.0000\n",
            "Epoch 74/200\n",
            "44/44 [==============================] - 1s 15ms/step - loss: 0.4648 - Accuracy: 0.8333 - false_negatives: 69.0000 - false_positives: 44.0000 - true_negatives: 1000.0000 - true_positives: 279.0000 - val_loss: 1.5410 - val_Accuracy: 0.5568 - val_false_negatives: 44.0000 - val_false_positives: 32.0000 - val_true_negatives: 232.0000 - val_true_positives: 44.0000\n",
            "Epoch 75/200\n",
            "44/44 [==============================] - 1s 15ms/step - loss: 0.4984 - Accuracy: 0.8075 - false_negatives: 78.0000 - false_positives: 50.0000 - true_negatives: 994.0000 - true_positives: 270.0000 - val_loss: 1.2094 - val_Accuracy: 0.6136 - val_false_negatives: 47.0000 - val_false_positives: 25.0000 - val_true_negatives: 239.0000 - val_true_positives: 41.0000\n",
            "Epoch 76/200\n",
            "44/44 [==============================] - 1s 15ms/step - loss: 0.4348 - Accuracy: 0.8276 - false_negatives: 76.0000 - false_positives: 40.0000 - true_negatives: 1004.0000 - true_positives: 272.0000 - val_loss: 1.6221 - val_Accuracy: 0.5795 - val_false_negatives: 39.0000 - val_false_positives: 33.0000 - val_true_negatives: 231.0000 - val_true_positives: 49.0000\n",
            "Epoch 77/200\n",
            "44/44 [==============================] - 1s 15ms/step - loss: 0.4218 - Accuracy: 0.8506 - false_negatives: 63.0000 - false_positives: 37.0000 - true_negatives: 1007.0000 - true_positives: 285.0000 - val_loss: 1.9604 - val_Accuracy: 0.5682 - val_false_negatives: 41.0000 - val_false_positives: 34.0000 - val_true_negatives: 230.0000 - val_true_positives: 47.0000\n",
            "Epoch 78/200\n",
            "44/44 [==============================] - 1s 15ms/step - loss: 0.4575 - Accuracy: 0.8103 - false_negatives: 79.0000 - false_positives: 46.0000 - true_negatives: 998.0000 - true_positives: 269.0000 - val_loss: 1.2318 - val_Accuracy: 0.5795 - val_false_negatives: 40.0000 - val_false_positives: 25.0000 - val_true_negatives: 239.0000 - val_true_positives: 48.0000\n",
            "Epoch 79/200\n",
            "44/44 [==============================] - 1s 15ms/step - loss: 0.4021 - Accuracy: 0.8391 - false_negatives: 69.0000 - false_positives: 36.0000 - true_negatives: 1008.0000 - true_positives: 279.0000 - val_loss: 1.4116 - val_Accuracy: 0.5795 - val_false_negatives: 39.0000 - val_false_positives: 33.0000 - val_true_negatives: 231.0000 - val_true_positives: 49.0000\n",
            "Epoch 80/200\n",
            "44/44 [==============================] - 1s 15ms/step - loss: 0.4494 - Accuracy: 0.8391 - false_negatives: 65.0000 - false_positives: 46.0000 - true_negatives: 998.0000 - true_positives: 283.0000 - val_loss: 1.2192 - val_Accuracy: 0.6477 - val_false_negatives: 37.0000 - val_false_positives: 22.0000 - val_true_negatives: 242.0000 - val_true_positives: 51.0000\n",
            "Epoch 81/200\n",
            "44/44 [==============================] - 1s 15ms/step - loss: 0.4448 - Accuracy: 0.8477 - false_negatives: 66.0000 - false_positives: 39.0000 - true_negatives: 1005.0000 - true_positives: 282.0000 - val_loss: 1.5902 - val_Accuracy: 0.5795 - val_false_negatives: 41.0000 - val_false_positives: 35.0000 - val_true_negatives: 229.0000 - val_true_positives: 47.0000\n",
            "Epoch 82/200\n",
            "44/44 [==============================] - 1s 15ms/step - loss: 0.4215 - Accuracy: 0.8649 - false_negatives: 54.0000 - false_positives: 36.0000 - true_negatives: 1008.0000 - true_positives: 294.0000 - val_loss: 1.5365 - val_Accuracy: 0.5568 - val_false_negatives: 40.0000 - val_false_positives: 33.0000 - val_true_negatives: 231.0000 - val_true_positives: 48.0000\n",
            "Epoch 83/200\n",
            "44/44 [==============================] - 1s 15ms/step - loss: 0.3978 - Accuracy: 0.8420 - false_negatives: 60.0000 - false_positives: 40.0000 - true_negatives: 1004.0000 - true_positives: 288.0000 - val_loss: 1.6589 - val_Accuracy: 0.5227 - val_false_negatives: 44.0000 - val_false_positives: 32.0000 - val_true_negatives: 232.0000 - val_true_positives: 44.0000\n",
            "Epoch 84/200\n",
            "44/44 [==============================] - 1s 15ms/step - loss: 0.4215 - Accuracy: 0.8621 - false_negatives: 60.0000 - false_positives: 38.0000 - true_negatives: 1006.0000 - true_positives: 288.0000 - val_loss: 1.3702 - val_Accuracy: 0.5909 - val_false_negatives: 47.0000 - val_false_positives: 25.0000 - val_true_negatives: 239.0000 - val_true_positives: 41.0000\n",
            "Epoch 85/200\n",
            "44/44 [==============================] - 1s 15ms/step - loss: 0.4260 - Accuracy: 0.8218 - false_negatives: 70.0000 - false_positives: 54.0000 - true_negatives: 990.0000 - true_positives: 278.0000 - val_loss: 2.0746 - val_Accuracy: 0.5682 - val_false_negatives: 40.0000 - val_false_positives: 32.0000 - val_true_negatives: 232.0000 - val_true_positives: 48.0000\n",
            "Epoch 86/200\n",
            "44/44 [==============================] - 1s 15ms/step - loss: 0.4007 - Accuracy: 0.8563 - false_negatives: 62.0000 - false_positives: 38.0000 - true_negatives: 1006.0000 - true_positives: 286.0000 - val_loss: 1.7798 - val_Accuracy: 0.5341 - val_false_negatives: 43.0000 - val_false_positives: 33.0000 - val_true_negatives: 231.0000 - val_true_positives: 45.0000\n",
            "Epoch 87/200\n",
            "44/44 [==============================] - 1s 15ms/step - loss: 0.4020 - Accuracy: 0.8391 - false_negatives: 66.0000 - false_positives: 46.0000 - true_negatives: 998.0000 - true_positives: 282.0000 - val_loss: 1.4739 - val_Accuracy: 0.5909 - val_false_negatives: 39.0000 - val_false_positives: 31.0000 - val_true_negatives: 233.0000 - val_true_positives: 49.0000\n",
            "Epoch 88/200\n",
            "44/44 [==============================] - 1s 15ms/step - loss: 0.4215 - Accuracy: 0.8420 - false_negatives: 62.0000 - false_positives: 43.0000 - true_negatives: 1001.0000 - true_positives: 286.0000 - val_loss: 1.7312 - val_Accuracy: 0.5455 - val_false_negatives: 43.0000 - val_false_positives: 30.0000 - val_true_negatives: 234.0000 - val_true_positives: 45.0000\n",
            "Epoch 89/200\n",
            "44/44 [==============================] - 1s 15ms/step - loss: 0.3965 - Accuracy: 0.8448 - false_negatives: 57.0000 - false_positives: 37.0000 - true_negatives: 1007.0000 - true_positives: 291.0000 - val_loss: 1.6802 - val_Accuracy: 0.5682 - val_false_negatives: 41.0000 - val_false_positives: 29.0000 - val_true_negatives: 235.0000 - val_true_positives: 47.0000\n",
            "Epoch 90/200\n",
            "44/44 [==============================] - 1s 15ms/step - loss: 0.4318 - Accuracy: 0.8333 - false_negatives: 67.0000 - false_positives: 47.0000 - true_negatives: 997.0000 - true_positives: 281.0000 - val_loss: 1.4646 - val_Accuracy: 0.6136 - val_false_negatives: 36.0000 - val_false_positives: 28.0000 - val_true_negatives: 236.0000 - val_true_positives: 52.0000\n",
            "Epoch 91/200\n",
            "44/44 [==============================] - 1s 15ms/step - loss: 0.4263 - Accuracy: 0.8477 - false_negatives: 65.0000 - false_positives: 46.0000 - true_negatives: 998.0000 - true_positives: 283.0000 - val_loss: 1.3677 - val_Accuracy: 0.6023 - val_false_negatives: 45.0000 - val_false_positives: 23.0000 - val_true_negatives: 241.0000 - val_true_positives: 43.0000\n",
            "Epoch 92/200\n",
            "44/44 [==============================] - 1s 15ms/step - loss: 0.3939 - Accuracy: 0.8506 - false_negatives: 64.0000 - false_positives: 37.0000 - true_negatives: 1007.0000 - true_positives: 284.0000 - val_loss: 1.7571 - val_Accuracy: 0.5909 - val_false_negatives: 38.0000 - val_false_positives: 33.0000 - val_true_negatives: 231.0000 - val_true_positives: 50.0000\n",
            "Epoch 93/200\n",
            "44/44 [==============================] - 1s 16ms/step - loss: 0.4414 - Accuracy: 0.8362 - false_negatives: 67.0000 - false_positives: 41.0000 - true_negatives: 1003.0000 - true_positives: 281.0000 - val_loss: 1.5859 - val_Accuracy: 0.6023 - val_false_negatives: 41.0000 - val_false_positives: 28.0000 - val_true_negatives: 236.0000 - val_true_positives: 47.0000\n",
            "Epoch 94/200\n",
            "44/44 [==============================] - 1s 16ms/step - loss: 0.3533 - Accuracy: 0.8649 - false_negatives: 55.0000 - false_positives: 37.0000 - true_negatives: 1007.0000 - true_positives: 293.0000 - val_loss: 1.7117 - val_Accuracy: 0.5909 - val_false_negatives: 37.0000 - val_false_positives: 34.0000 - val_true_negatives: 230.0000 - val_true_positives: 51.0000\n",
            "Epoch 95/200\n",
            "44/44 [==============================] - 1s 15ms/step - loss: 0.3905 - Accuracy: 0.8534 - false_negatives: 59.0000 - false_positives: 42.0000 - true_negatives: 1002.0000 - true_positives: 289.0000 - val_loss: 1.6228 - val_Accuracy: 0.5455 - val_false_negatives: 41.0000 - val_false_positives: 28.0000 - val_true_negatives: 236.0000 - val_true_positives: 47.0000\n",
            "Epoch 96/200\n",
            "44/44 [==============================] - 1s 15ms/step - loss: 0.3673 - Accuracy: 0.8764 - false_negatives: 52.0000 - false_positives: 31.0000 - true_negatives: 1013.0000 - true_positives: 296.0000 - val_loss: 1.3825 - val_Accuracy: 0.6591 - val_false_negatives: 34.0000 - val_false_positives: 25.0000 - val_true_negatives: 239.0000 - val_true_positives: 54.0000\n",
            "Epoch 97/200\n",
            "44/44 [==============================] - 1s 15ms/step - loss: 0.3448 - Accuracy: 0.8707 - false_negatives: 54.0000 - false_positives: 36.0000 - true_negatives: 1008.0000 - true_positives: 294.0000 - val_loss: 1.3717 - val_Accuracy: 0.6023 - val_false_negatives: 38.0000 - val_false_positives: 23.0000 - val_true_negatives: 241.0000 - val_true_positives: 50.0000\n",
            "Epoch 98/200\n",
            "44/44 [==============================] - 1s 15ms/step - loss: 0.3344 - Accuracy: 0.8793 - false_negatives: 48.0000 - false_positives: 37.0000 - true_negatives: 1007.0000 - true_positives: 300.0000 - val_loss: 1.5229 - val_Accuracy: 0.6136 - val_false_negatives: 36.0000 - val_false_positives: 32.0000 - val_true_negatives: 232.0000 - val_true_positives: 52.0000\n",
            "Epoch 99/200\n",
            "44/44 [==============================] - 1s 16ms/step - loss: 0.3249 - Accuracy: 0.8822 - false_negatives: 46.0000 - false_positives: 34.0000 - true_negatives: 1010.0000 - true_positives: 302.0000 - val_loss: 1.9045 - val_Accuracy: 0.6023 - val_false_negatives: 38.0000 - val_false_positives: 30.0000 - val_true_negatives: 234.0000 - val_true_positives: 50.0000\n",
            "Epoch 100/200\n",
            "44/44 [==============================] - 1s 17ms/step - loss: 0.3322 - Accuracy: 0.8707 - false_negatives: 49.0000 - false_positives: 41.0000 - true_negatives: 1003.0000 - true_positives: 299.0000 - val_loss: 2.4268 - val_Accuracy: 0.5795 - val_false_negatives: 41.0000 - val_false_positives: 34.0000 - val_true_negatives: 230.0000 - val_true_positives: 47.0000\n",
            "Epoch 101/200\n",
            "44/44 [==============================] - 1s 15ms/step - loss: 0.3272 - Accuracy: 0.8879 - false_negatives: 44.0000 - false_positives: 30.0000 - true_negatives: 1014.0000 - true_positives: 304.0000 - val_loss: 1.5065 - val_Accuracy: 0.5455 - val_false_negatives: 43.0000 - val_false_positives: 32.0000 - val_true_negatives: 232.0000 - val_true_positives: 45.0000\n",
            "Epoch 102/200\n",
            "44/44 [==============================] - 1s 16ms/step - loss: 0.3650 - Accuracy: 0.8649 - false_negatives: 49.0000 - false_positives: 36.0000 - true_negatives: 1008.0000 - true_positives: 299.0000 - val_loss: 1.6424 - val_Accuracy: 0.5795 - val_false_negatives: 40.0000 - val_false_positives: 29.0000 - val_true_negatives: 235.0000 - val_true_positives: 48.0000\n",
            "Epoch 103/200\n",
            "44/44 [==============================] - 1s 16ms/step - loss: 0.3210 - Accuracy: 0.8994 - false_negatives: 39.0000 - false_positives: 28.0000 - true_negatives: 1016.0000 - true_positives: 309.0000 - val_loss: 1.4893 - val_Accuracy: 0.5455 - val_false_negatives: 44.0000 - val_false_positives: 31.0000 - val_true_negatives: 233.0000 - val_true_positives: 44.0000\n",
            "Epoch 104/200\n",
            "44/44 [==============================] - 1s 22ms/step - loss: 0.3514 - Accuracy: 0.8750 - false_negatives: 58.0000 - false_positives: 34.0000 - true_negatives: 1022.0000 - true_positives: 294.0000 - val_loss: 1.9245 - val_Accuracy: 0.6023 - val_false_negatives: 37.0000 - val_false_positives: 31.0000 - val_true_negatives: 233.0000 - val_true_positives: 51.0000\n",
            "Epoch 105/200\n",
            "44/44 [==============================] - 1s 23ms/step - loss: 0.3323 - Accuracy: 0.8764 - false_negatives: 46.0000 - false_positives: 31.0000 - true_negatives: 1013.0000 - true_positives: 302.0000 - val_loss: 1.9297 - val_Accuracy: 0.5682 - val_false_negatives: 39.0000 - val_false_positives: 35.0000 - val_true_negatives: 229.0000 - val_true_positives: 49.0000\n",
            "Epoch 106/200\n",
            "44/44 [==============================] - 1s 15ms/step - loss: 0.3263 - Accuracy: 0.8707 - false_negatives: 54.0000 - false_positives: 32.0000 - true_negatives: 1012.0000 - true_positives: 294.0000 - val_loss: 1.8727 - val_Accuracy: 0.5909 - val_false_negatives: 39.0000 - val_false_positives: 33.0000 - val_true_negatives: 231.0000 - val_true_positives: 49.0000\n",
            "Epoch 107/200\n",
            "44/44 [==============================] - 1s 15ms/step - loss: 0.3431 - Accuracy: 0.8879 - false_negatives: 49.0000 - false_positives: 32.0000 - true_negatives: 1012.0000 - true_positives: 299.0000 - val_loss: 2.0330 - val_Accuracy: 0.5909 - val_false_negatives: 38.0000 - val_false_positives: 31.0000 - val_true_negatives: 233.0000 - val_true_positives: 50.0000\n",
            "Epoch 108/200\n",
            "44/44 [==============================] - 1s 15ms/step - loss: 0.3361 - Accuracy: 0.8879 - false_negatives: 43.0000 - false_positives: 30.0000 - true_negatives: 1014.0000 - true_positives: 305.0000 - val_loss: 1.6107 - val_Accuracy: 0.5682 - val_false_negatives: 41.0000 - val_false_positives: 35.0000 - val_true_negatives: 229.0000 - val_true_positives: 47.0000\n",
            "Epoch 109/200\n",
            "44/44 [==============================] - 1s 15ms/step - loss: 0.3211 - Accuracy: 0.8793 - false_negatives: 46.0000 - false_positives: 34.0000 - true_negatives: 1010.0000 - true_positives: 302.0000 - val_loss: 1.9747 - val_Accuracy: 0.5568 - val_false_negatives: 41.0000 - val_false_positives: 35.0000 - val_true_negatives: 229.0000 - val_true_positives: 47.0000\n",
            "Epoch 110/200\n",
            "44/44 [==============================] - 1s 15ms/step - loss: 0.3099 - Accuracy: 0.8937 - false_negatives: 42.0000 - false_positives: 33.0000 - true_negatives: 1011.0000 - true_positives: 306.0000 - val_loss: 1.6231 - val_Accuracy: 0.6136 - val_false_negatives: 34.0000 - val_false_positives: 29.0000 - val_true_negatives: 235.0000 - val_true_positives: 54.0000\n",
            "Epoch 111/200\n",
            "44/44 [==============================] - 1s 15ms/step - loss: 0.2875 - Accuracy: 0.9167 - false_negatives: 35.0000 - false_positives: 26.0000 - true_negatives: 1018.0000 - true_positives: 313.0000 - val_loss: 1.7715 - val_Accuracy: 0.6136 - val_false_negatives: 36.0000 - val_false_positives: 29.0000 - val_true_negatives: 235.0000 - val_true_positives: 52.0000\n",
            "Epoch 112/200\n",
            "44/44 [==============================] - 1s 15ms/step - loss: 0.3461 - Accuracy: 0.8621 - false_negatives: 50.0000 - false_positives: 44.0000 - true_negatives: 1000.0000 - true_positives: 298.0000 - val_loss: 1.5110 - val_Accuracy: 0.5568 - val_false_negatives: 40.0000 - val_false_positives: 36.0000 - val_true_negatives: 228.0000 - val_true_positives: 48.0000\n",
            "Epoch 113/200\n",
            "44/44 [==============================] - 1s 16ms/step - loss: 0.2818 - Accuracy: 0.8822 - false_negatives: 46.0000 - false_positives: 33.0000 - true_negatives: 1011.0000 - true_positives: 302.0000 - val_loss: 2.1810 - val_Accuracy: 0.5682 - val_false_negatives: 43.0000 - val_false_positives: 32.0000 - val_true_negatives: 232.0000 - val_true_positives: 45.0000\n",
            "Epoch 114/200\n",
            "44/44 [==============================] - 1s 15ms/step - loss: 0.2946 - Accuracy: 0.9052 - false_negatives: 40.0000 - false_positives: 28.0000 - true_negatives: 1016.0000 - true_positives: 308.0000 - val_loss: 2.0773 - val_Accuracy: 0.5795 - val_false_negatives: 41.0000 - val_false_positives: 33.0000 - val_true_negatives: 231.0000 - val_true_positives: 47.0000\n",
            "Epoch 115/200\n",
            "44/44 [==============================] - 1s 16ms/step - loss: 0.3761 - Accuracy: 0.8764 - false_negatives: 49.0000 - false_positives: 36.0000 - true_negatives: 1008.0000 - true_positives: 299.0000 - val_loss: 1.5844 - val_Accuracy: 0.6136 - val_false_negatives: 36.0000 - val_false_positives: 32.0000 - val_true_negatives: 232.0000 - val_true_positives: 52.0000\n",
            "Epoch 116/200\n",
            "44/44 [==============================] - 1s 15ms/step - loss: 0.2738 - Accuracy: 0.9052 - false_negatives: 38.0000 - false_positives: 30.0000 - true_negatives: 1014.0000 - true_positives: 310.0000 - val_loss: 1.7833 - val_Accuracy: 0.5909 - val_false_negatives: 40.0000 - val_false_positives: 32.0000 - val_true_negatives: 232.0000 - val_true_positives: 48.0000\n",
            "Epoch 117/200\n",
            "44/44 [==============================] - 1s 16ms/step - loss: 0.2906 - Accuracy: 0.9023 - false_negatives: 41.0000 - false_positives: 26.0000 - true_negatives: 1018.0000 - true_positives: 307.0000 - val_loss: 1.6781 - val_Accuracy: 0.5909 - val_false_negatives: 38.0000 - val_false_positives: 31.0000 - val_true_negatives: 233.0000 - val_true_positives: 50.0000\n",
            "Epoch 118/200\n",
            "44/44 [==============================] - 1s 15ms/step - loss: 0.2686 - Accuracy: 0.9138 - false_negatives: 40.0000 - false_positives: 20.0000 - true_negatives: 1024.0000 - true_positives: 308.0000 - val_loss: 1.6656 - val_Accuracy: 0.6023 - val_false_negatives: 36.0000 - val_false_positives: 33.0000 - val_true_negatives: 231.0000 - val_true_positives: 52.0000\n",
            "Epoch 119/200\n",
            "44/44 [==============================] - 1s 16ms/step - loss: 0.2546 - Accuracy: 0.9109 - false_negatives: 35.0000 - false_positives: 25.0000 - true_negatives: 1019.0000 - true_positives: 313.0000 - val_loss: 1.8397 - val_Accuracy: 0.5568 - val_false_negatives: 40.0000 - val_false_positives: 33.0000 - val_true_negatives: 231.0000 - val_true_positives: 48.0000\n",
            "Epoch 120/200\n",
            "44/44 [==============================] - 1s 16ms/step - loss: 0.2510 - Accuracy: 0.9109 - false_negatives: 33.0000 - false_positives: 28.0000 - true_negatives: 1016.0000 - true_positives: 315.0000 - val_loss: 2.0006 - val_Accuracy: 0.5909 - val_false_negatives: 37.0000 - val_false_positives: 33.0000 - val_true_negatives: 231.0000 - val_true_positives: 51.0000\n",
            "Epoch 121/200\n",
            "44/44 [==============================] - 1s 15ms/step - loss: 0.2962 - Accuracy: 0.9052 - false_negatives: 35.0000 - false_positives: 27.0000 - true_negatives: 1017.0000 - true_positives: 313.0000 - val_loss: 2.0623 - val_Accuracy: 0.5682 - val_false_negatives: 39.0000 - val_false_positives: 34.0000 - val_true_negatives: 230.0000 - val_true_positives: 49.0000\n",
            "Epoch 122/200\n",
            "44/44 [==============================] - 1s 16ms/step - loss: 0.2400 - Accuracy: 0.9138 - false_negatives: 38.0000 - false_positives: 20.0000 - true_negatives: 1024.0000 - true_positives: 310.0000 - val_loss: 2.1981 - val_Accuracy: 0.6364 - val_false_negatives: 34.0000 - val_false_positives: 31.0000 - val_true_negatives: 233.0000 - val_true_positives: 54.0000\n",
            "Epoch 123/200\n",
            "44/44 [==============================] - 1s 16ms/step - loss: 0.2011 - Accuracy: 0.9224 - false_negatives: 31.0000 - false_positives: 23.0000 - true_negatives: 1021.0000 - true_positives: 317.0000 - val_loss: 1.7400 - val_Accuracy: 0.6023 - val_false_negatives: 36.0000 - val_false_positives: 32.0000 - val_true_negatives: 232.0000 - val_true_positives: 52.0000\n",
            "Epoch 124/200\n",
            "44/44 [==============================] - 1s 16ms/step - loss: 0.2617 - Accuracy: 0.8966 - false_negatives: 40.0000 - false_positives: 31.0000 - true_negatives: 1013.0000 - true_positives: 308.0000 - val_loss: 1.9421 - val_Accuracy: 0.6364 - val_false_negatives: 33.0000 - val_false_positives: 28.0000 - val_true_negatives: 236.0000 - val_true_positives: 55.0000\n",
            "Epoch 125/200\n",
            "44/44 [==============================] - 1s 16ms/step - loss: 0.2446 - Accuracy: 0.8793 - false_negatives: 45.0000 - false_positives: 34.0000 - true_negatives: 1010.0000 - true_positives: 303.0000 - val_loss: 2.0098 - val_Accuracy: 0.5909 - val_false_negatives: 38.0000 - val_false_positives: 34.0000 - val_true_negatives: 230.0000 - val_true_positives: 50.0000\n",
            "Epoch 126/200\n",
            "44/44 [==============================] - 1s 15ms/step - loss: 0.3029 - Accuracy: 0.8908 - false_negatives: 44.0000 - false_positives: 33.0000 - true_negatives: 1011.0000 - true_positives: 304.0000 - val_loss: 1.8452 - val_Accuracy: 0.5909 - val_false_negatives: 38.0000 - val_false_positives: 31.0000 - val_true_negatives: 233.0000 - val_true_positives: 50.0000\n",
            "Epoch 127/200\n",
            "44/44 [==============================] - 1s 15ms/step - loss: 0.2898 - Accuracy: 0.9023 - false_negatives: 39.0000 - false_positives: 30.0000 - true_negatives: 1014.0000 - true_positives: 309.0000 - val_loss: 1.6363 - val_Accuracy: 0.5909 - val_false_negatives: 36.0000 - val_false_positives: 33.0000 - val_true_negatives: 231.0000 - val_true_positives: 52.0000\n",
            "Epoch 128/200\n",
            "44/44 [==============================] - 1s 16ms/step - loss: 0.2780 - Accuracy: 0.9052 - false_negatives: 42.0000 - false_positives: 31.0000 - true_negatives: 1013.0000 - true_positives: 306.0000 - val_loss: 2.6807 - val_Accuracy: 0.5795 - val_false_negatives: 41.0000 - val_false_positives: 34.0000 - val_true_negatives: 230.0000 - val_true_positives: 47.0000\n",
            "Epoch 129/200\n",
            "44/44 [==============================] - 1s 16ms/step - loss: 0.2578 - Accuracy: 0.9080 - false_negatives: 37.0000 - false_positives: 28.0000 - true_negatives: 1016.0000 - true_positives: 311.0000 - val_loss: 2.1462 - val_Accuracy: 0.6136 - val_false_negatives: 34.0000 - val_false_positives: 31.0000 - val_true_negatives: 233.0000 - val_true_positives: 54.0000\n",
            "Epoch 130/200\n",
            "44/44 [==============================] - 1s 15ms/step - loss: 0.3013 - Accuracy: 0.8879 - false_negatives: 40.0000 - false_positives: 37.0000 - true_negatives: 1007.0000 - true_positives: 308.0000 - val_loss: 1.7906 - val_Accuracy: 0.5227 - val_false_negatives: 43.0000 - val_false_positives: 36.0000 - val_true_negatives: 228.0000 - val_true_positives: 45.0000\n",
            "Epoch 131/200\n",
            "44/44 [==============================] - 1s 16ms/step - loss: 0.2645 - Accuracy: 0.8966 - false_negatives: 40.0000 - false_positives: 26.0000 - true_negatives: 1018.0000 - true_positives: 308.0000 - val_loss: 2.0416 - val_Accuracy: 0.5568 - val_false_negatives: 41.0000 - val_false_positives: 32.0000 - val_true_negatives: 232.0000 - val_true_positives: 47.0000\n",
            "Epoch 132/200\n",
            "44/44 [==============================] - 1s 16ms/step - loss: 0.2580 - Accuracy: 0.9052 - false_negatives: 34.0000 - false_positives: 31.0000 - true_negatives: 1013.0000 - true_positives: 314.0000 - val_loss: 2.0834 - val_Accuracy: 0.5568 - val_false_negatives: 40.0000 - val_false_positives: 35.0000 - val_true_negatives: 229.0000 - val_true_positives: 48.0000\n",
            "Epoch 133/200\n",
            "44/44 [==============================] - 1s 15ms/step - loss: 0.2399 - Accuracy: 0.9224 - false_negatives: 31.0000 - false_positives: 19.0000 - true_negatives: 1025.0000 - true_positives: 317.0000 - val_loss: 2.1000 - val_Accuracy: 0.5568 - val_false_negatives: 40.0000 - val_false_positives: 35.0000 - val_true_negatives: 229.0000 - val_true_positives: 48.0000\n",
            "Epoch 134/200\n",
            "44/44 [==============================] - 1s 16ms/step - loss: 0.2506 - Accuracy: 0.9023 - false_negatives: 38.0000 - false_positives: 25.0000 - true_negatives: 1019.0000 - true_positives: 310.0000 - val_loss: 2.1367 - val_Accuracy: 0.5682 - val_false_negatives: 40.0000 - val_false_positives: 35.0000 - val_true_negatives: 229.0000 - val_true_positives: 48.0000\n",
            "Epoch 135/200\n",
            "44/44 [==============================] - 1s 15ms/step - loss: 0.4337 - Accuracy: 0.8391 - false_negatives: 57.0000 - false_positives: 45.0000 - true_negatives: 999.0000 - true_positives: 291.0000 - val_loss: 1.5227 - val_Accuracy: 0.6023 - val_false_negatives: 35.0000 - val_false_positives: 30.0000 - val_true_negatives: 234.0000 - val_true_positives: 53.0000\n",
            "Epoch 136/200\n",
            "44/44 [==============================] - 1s 16ms/step - loss: 0.3142 - Accuracy: 0.8649 - false_negatives: 55.0000 - false_positives: 41.0000 - true_negatives: 1003.0000 - true_positives: 293.0000 - val_loss: 2.7293 - val_Accuracy: 0.5795 - val_false_negatives: 40.0000 - val_false_positives: 35.0000 - val_true_negatives: 229.0000 - val_true_positives: 48.0000\n",
            "Epoch 137/200\n",
            "44/44 [==============================] - 1s 16ms/step - loss: 0.2669 - Accuracy: 0.9023 - false_negatives: 42.0000 - false_positives: 28.0000 - true_negatives: 1016.0000 - true_positives: 306.0000 - val_loss: 1.8541 - val_Accuracy: 0.5682 - val_false_negatives: 39.0000 - val_false_positives: 33.0000 - val_true_negatives: 231.0000 - val_true_positives: 49.0000\n",
            "Epoch 138/200\n",
            "44/44 [==============================] - 1s 16ms/step - loss: 0.2156 - Accuracy: 0.9282 - false_negatives: 29.0000 - false_positives: 19.0000 - true_negatives: 1025.0000 - true_positives: 319.0000 - val_loss: 2.0808 - val_Accuracy: 0.5795 - val_false_negatives: 39.0000 - val_false_positives: 35.0000 - val_true_negatives: 229.0000 - val_true_positives: 49.0000\n",
            "Epoch 139/200\n",
            "44/44 [==============================] - 1s 16ms/step - loss: 0.2238 - Accuracy: 0.9080 - false_negatives: 38.0000 - false_positives: 26.0000 - true_negatives: 1018.0000 - true_positives: 310.0000 - val_loss: 2.1275 - val_Accuracy: 0.5795 - val_false_negatives: 37.0000 - val_false_positives: 34.0000 - val_true_negatives: 230.0000 - val_true_positives: 51.0000\n",
            "Epoch 140/200\n",
            "44/44 [==============================] - 1s 15ms/step - loss: 0.3158 - Accuracy: 0.8879 - false_negatives: 41.0000 - false_positives: 32.0000 - true_negatives: 1012.0000 - true_positives: 307.0000 - val_loss: 1.9118 - val_Accuracy: 0.5795 - val_false_negatives: 38.0000 - val_false_positives: 33.0000 - val_true_negatives: 231.0000 - val_true_positives: 50.0000\n",
            "Epoch 141/200\n",
            "44/44 [==============================] - 1s 16ms/step - loss: 0.2667 - Accuracy: 0.8994 - false_negatives: 45.0000 - false_positives: 29.0000 - true_negatives: 1015.0000 - true_positives: 303.0000 - val_loss: 1.6408 - val_Accuracy: 0.6136 - val_false_negatives: 36.0000 - val_false_positives: 31.0000 - val_true_negatives: 233.0000 - val_true_positives: 52.0000\n",
            "Epoch 142/200\n",
            "44/44 [==============================] - 1s 16ms/step - loss: 0.2067 - Accuracy: 0.9339 - false_negatives: 25.0000 - false_positives: 19.0000 - true_negatives: 1025.0000 - true_positives: 323.0000 - val_loss: 1.7761 - val_Accuracy: 0.5909 - val_false_negatives: 36.0000 - val_false_positives: 31.0000 - val_true_negatives: 233.0000 - val_true_positives: 52.0000\n",
            "Epoch 143/200\n",
            "44/44 [==============================] - 1s 16ms/step - loss: 0.2542 - Accuracy: 0.9052 - false_negatives: 37.0000 - false_positives: 28.0000 - true_negatives: 1016.0000 - true_positives: 311.0000 - val_loss: 2.0588 - val_Accuracy: 0.5568 - val_false_negatives: 41.0000 - val_false_positives: 36.0000 - val_true_negatives: 228.0000 - val_true_positives: 47.0000\n",
            "Epoch 144/200\n",
            "44/44 [==============================] - 1s 16ms/step - loss: 0.2422 - Accuracy: 0.9195 - false_negatives: 30.0000 - false_positives: 23.0000 - true_negatives: 1021.0000 - true_positives: 318.0000 - val_loss: 2.1556 - val_Accuracy: 0.5568 - val_false_negatives: 42.0000 - val_false_positives: 36.0000 - val_true_negatives: 228.0000 - val_true_positives: 46.0000\n",
            "Epoch 145/200\n",
            "44/44 [==============================] - 1s 16ms/step - loss: 0.2003 - Accuracy: 0.9224 - false_negatives: 31.0000 - false_positives: 27.0000 - true_negatives: 1017.0000 - true_positives: 317.0000 - val_loss: 2.0942 - val_Accuracy: 0.5568 - val_false_negatives: 39.0000 - val_false_positives: 31.0000 - val_true_negatives: 233.0000 - val_true_positives: 49.0000\n",
            "Epoch 146/200\n",
            "44/44 [==============================] - 1s 16ms/step - loss: 0.2152 - Accuracy: 0.9224 - false_negatives: 30.0000 - false_positives: 21.0000 - true_negatives: 1023.0000 - true_positives: 318.0000 - val_loss: 2.2133 - val_Accuracy: 0.5341 - val_false_negatives: 43.0000 - val_false_positives: 37.0000 - val_true_negatives: 227.0000 - val_true_positives: 45.0000\n",
            "Epoch 147/200\n",
            "44/44 [==============================] - 1s 16ms/step - loss: 0.1827 - Accuracy: 0.9253 - false_negatives: 28.0000 - false_positives: 24.0000 - true_negatives: 1020.0000 - true_positives: 320.0000 - val_loss: 2.6759 - val_Accuracy: 0.5795 - val_false_negatives: 40.0000 - val_false_positives: 35.0000 - val_true_negatives: 229.0000 - val_true_positives: 48.0000\n",
            "Epoch 148/200\n",
            "44/44 [==============================] - 1s 16ms/step - loss: 0.1759 - Accuracy: 0.9282 - false_negatives: 28.0000 - false_positives: 23.0000 - true_negatives: 1021.0000 - true_positives: 320.0000 - val_loss: 3.1634 - val_Accuracy: 0.5455 - val_false_negatives: 42.0000 - val_false_positives: 36.0000 - val_true_negatives: 228.0000 - val_true_positives: 46.0000\n",
            "Epoch 149/200\n",
            "44/44 [==============================] - 1s 16ms/step - loss: 0.2801 - Accuracy: 0.8937 - false_negatives: 45.0000 - false_positives: 30.0000 - true_negatives: 1014.0000 - true_positives: 303.0000 - val_loss: 2.6047 - val_Accuracy: 0.5795 - val_false_negatives: 40.0000 - val_false_positives: 35.0000 - val_true_negatives: 229.0000 - val_true_positives: 48.0000\n",
            "Epoch 150/200\n",
            "44/44 [==============================] - 1s 16ms/step - loss: 0.2167 - Accuracy: 0.9339 - false_negatives: 26.0000 - false_positives: 21.0000 - true_negatives: 1023.0000 - true_positives: 322.0000 - val_loss: 2.7720 - val_Accuracy: 0.5455 - val_false_negatives: 41.0000 - val_false_positives: 38.0000 - val_true_negatives: 226.0000 - val_true_positives: 47.0000\n",
            "Epoch 151/200\n",
            "44/44 [==============================] - 1s 16ms/step - loss: 0.2147 - Accuracy: 0.9138 - false_negatives: 31.0000 - false_positives: 26.0000 - true_negatives: 1018.0000 - true_positives: 317.0000 - val_loss: 2.1569 - val_Accuracy: 0.5568 - val_false_negatives: 41.0000 - val_false_positives: 34.0000 - val_true_negatives: 230.0000 - val_true_positives: 47.0000\n",
            "Epoch 152/200\n",
            "44/44 [==============================] - 1s 16ms/step - loss: 0.1498 - Accuracy: 0.9454 - false_negatives: 20.0000 - false_positives: 16.0000 - true_negatives: 1028.0000 - true_positives: 328.0000 - val_loss: 2.3473 - val_Accuracy: 0.5455 - val_false_negatives: 41.0000 - val_false_positives: 39.0000 - val_true_negatives: 225.0000 - val_true_positives: 47.0000\n",
            "Epoch 153/200\n",
            "44/44 [==============================] - 1s 16ms/step - loss: 0.2018 - Accuracy: 0.9282 - false_negatives: 26.0000 - false_positives: 19.0000 - true_negatives: 1025.0000 - true_positives: 322.0000 - val_loss: 2.8424 - val_Accuracy: 0.5341 - val_false_negatives: 42.0000 - val_false_positives: 38.0000 - val_true_negatives: 226.0000 - val_true_positives: 46.0000\n",
            "Epoch 154/200\n",
            "44/44 [==============================] - 1s 16ms/step - loss: 0.2521 - Accuracy: 0.9224 - false_negatives: 33.0000 - false_positives: 26.0000 - true_negatives: 1018.0000 - true_positives: 315.0000 - val_loss: 2.6999 - val_Accuracy: 0.5682 - val_false_negatives: 38.0000 - val_false_positives: 37.0000 - val_true_negatives: 227.0000 - val_true_positives: 50.0000\n",
            "Epoch 155/200\n",
            "44/44 [==============================] - 1s 16ms/step - loss: 0.1825 - Accuracy: 0.9282 - false_negatives: 30.0000 - false_positives: 22.0000 - true_negatives: 1022.0000 - true_positives: 318.0000 - val_loss: 2.4281 - val_Accuracy: 0.5568 - val_false_negatives: 40.0000 - val_false_positives: 35.0000 - val_true_negatives: 229.0000 - val_true_positives: 48.0000\n",
            "Epoch 156/200\n",
            "44/44 [==============================] - 1s 16ms/step - loss: 0.2227 - Accuracy: 0.9052 - false_negatives: 33.0000 - false_positives: 31.0000 - true_negatives: 1013.0000 - true_positives: 315.0000 - val_loss: 2.3655 - val_Accuracy: 0.5568 - val_false_negatives: 39.0000 - val_false_positives: 34.0000 - val_true_negatives: 230.0000 - val_true_positives: 49.0000\n",
            "Epoch 157/200\n",
            "44/44 [==============================] - 1s 16ms/step - loss: 0.2160 - Accuracy: 0.9109 - false_negatives: 34.0000 - false_positives: 28.0000 - true_negatives: 1016.0000 - true_positives: 314.0000 - val_loss: 2.7042 - val_Accuracy: 0.5568 - val_false_negatives: 39.0000 - val_false_positives: 35.0000 - val_true_negatives: 229.0000 - val_true_positives: 49.0000\n",
            "Epoch 158/200\n",
            "44/44 [==============================] - 1s 16ms/step - loss: 0.1762 - Accuracy: 0.9282 - false_negatives: 25.0000 - false_positives: 22.0000 - true_negatives: 1022.0000 - true_positives: 323.0000 - val_loss: 2.5659 - val_Accuracy: 0.5455 - val_false_negatives: 41.0000 - val_false_positives: 39.0000 - val_true_negatives: 225.0000 - val_true_positives: 47.0000\n",
            "Epoch 159/200\n",
            "44/44 [==============================] - 1s 16ms/step - loss: 0.1535 - Accuracy: 0.9598 - false_negatives: 15.0000 - false_positives: 13.0000 - true_negatives: 1031.0000 - true_positives: 333.0000 - val_loss: 2.5994 - val_Accuracy: 0.5682 - val_false_negatives: 39.0000 - val_false_positives: 37.0000 - val_true_negatives: 227.0000 - val_true_positives: 49.0000\n",
            "Epoch 160/200\n",
            "44/44 [==============================] - 1s 16ms/step - loss: 0.1479 - Accuracy: 0.9397 - false_negatives: 23.0000 - false_positives: 17.0000 - true_negatives: 1027.0000 - true_positives: 325.0000 - val_loss: 2.6391 - val_Accuracy: 0.5455 - val_false_negatives: 41.0000 - val_false_positives: 35.0000 - val_true_negatives: 229.0000 - val_true_positives: 47.0000\n",
            "Epoch 161/200\n",
            "44/44 [==============================] - 1s 16ms/step - loss: 0.1652 - Accuracy: 0.9511 - false_negatives: 19.0000 - false_positives: 16.0000 - true_negatives: 1028.0000 - true_positives: 329.0000 - val_loss: 2.5125 - val_Accuracy: 0.5227 - val_false_negatives: 44.0000 - val_false_positives: 40.0000 - val_true_negatives: 224.0000 - val_true_positives: 44.0000\n",
            "Epoch 162/200\n",
            "44/44 [==============================] - 1s 16ms/step - loss: 0.1684 - Accuracy: 0.9368 - false_negatives: 24.0000 - false_positives: 21.0000 - true_negatives: 1023.0000 - true_positives: 324.0000 - val_loss: 2.4708 - val_Accuracy: 0.5568 - val_false_negatives: 39.0000 - val_false_positives: 39.0000 - val_true_negatives: 225.0000 - val_true_positives: 49.0000\n",
            "Epoch 163/200\n",
            "44/44 [==============================] - 1s 16ms/step - loss: 0.2291 - Accuracy: 0.9167 - false_negatives: 31.0000 - false_positives: 26.0000 - true_negatives: 1018.0000 - true_positives: 317.0000 - val_loss: 2.8599 - val_Accuracy: 0.5682 - val_false_negatives: 39.0000 - val_false_positives: 37.0000 - val_true_negatives: 227.0000 - val_true_positives: 49.0000\n",
            "Epoch 164/200\n",
            "44/44 [==============================] - 1s 16ms/step - loss: 0.2060 - Accuracy: 0.9224 - false_negatives: 28.0000 - false_positives: 23.0000 - true_negatives: 1021.0000 - true_positives: 320.0000 - val_loss: 2.3619 - val_Accuracy: 0.5455 - val_false_negatives: 42.0000 - val_false_positives: 39.0000 - val_true_negatives: 225.0000 - val_true_positives: 46.0000\n",
            "Epoch 165/200\n",
            "44/44 [==============================] - 1s 16ms/step - loss: 0.1756 - Accuracy: 0.9397 - false_negatives: 25.0000 - false_positives: 21.0000 - true_negatives: 1023.0000 - true_positives: 323.0000 - val_loss: 2.6524 - val_Accuracy: 0.5568 - val_false_negatives: 42.0000 - val_false_positives: 37.0000 - val_true_negatives: 227.0000 - val_true_positives: 46.0000\n",
            "Epoch 166/200\n",
            "44/44 [==============================] - 1s 16ms/step - loss: 0.1840 - Accuracy: 0.9540 - false_negatives: 17.0000 - false_positives: 14.0000 - true_negatives: 1030.0000 - true_positives: 331.0000 - val_loss: 2.4354 - val_Accuracy: 0.5455 - val_false_negatives: 41.0000 - val_false_positives: 38.0000 - val_true_negatives: 226.0000 - val_true_positives: 47.0000\n",
            "Epoch 167/200\n",
            "44/44 [==============================] - 1s 16ms/step - loss: 0.2073 - Accuracy: 0.9310 - false_negatives: 28.0000 - false_positives: 23.0000 - true_negatives: 1021.0000 - true_positives: 320.0000 - val_loss: 2.0561 - val_Accuracy: 0.5341 - val_false_negatives: 42.0000 - val_false_positives: 39.0000 - val_true_negatives: 225.0000 - val_true_positives: 46.0000\n",
            "Epoch 168/200\n",
            "44/44 [==============================] - 1s 16ms/step - loss: 0.2152 - Accuracy: 0.9310 - false_negatives: 28.0000 - false_positives: 21.0000 - true_negatives: 1023.0000 - true_positives: 320.0000 - val_loss: 2.0574 - val_Accuracy: 0.6136 - val_false_negatives: 36.0000 - val_false_positives: 33.0000 - val_true_negatives: 231.0000 - val_true_positives: 52.0000\n",
            "Epoch 169/200\n",
            "44/44 [==============================] - 1s 16ms/step - loss: 0.1399 - Accuracy: 0.9454 - false_negatives: 20.0000 - false_positives: 18.0000 - true_negatives: 1026.0000 - true_positives: 328.0000 - val_loss: 2.5938 - val_Accuracy: 0.5341 - val_false_negatives: 41.0000 - val_false_positives: 38.0000 - val_true_negatives: 226.0000 - val_true_positives: 47.0000\n",
            "Epoch 170/200\n",
            "44/44 [==============================] - 1s 16ms/step - loss: 0.1486 - Accuracy: 0.9569 - false_negatives: 18.0000 - false_positives: 14.0000 - true_negatives: 1030.0000 - true_positives: 330.0000 - val_loss: 2.8917 - val_Accuracy: 0.5455 - val_false_negatives: 42.0000 - val_false_positives: 38.0000 - val_true_negatives: 226.0000 - val_true_positives: 46.0000\n",
            "Epoch 171/200\n",
            "44/44 [==============================] - 1s 16ms/step - loss: 0.2058 - Accuracy: 0.9109 - false_negatives: 33.0000 - false_positives: 28.0000 - true_negatives: 1016.0000 - true_positives: 315.0000 - val_loss: 2.6845 - val_Accuracy: 0.5455 - val_false_negatives: 43.0000 - val_false_positives: 39.0000 - val_true_negatives: 225.0000 - val_true_positives: 45.0000\n",
            "Epoch 172/200\n",
            "44/44 [==============================] - 1s 16ms/step - loss: 0.1616 - Accuracy: 0.9368 - false_negatives: 25.0000 - false_positives: 17.0000 - true_negatives: 1027.0000 - true_positives: 323.0000 - val_loss: 2.6008 - val_Accuracy: 0.5455 - val_false_negatives: 40.0000 - val_false_positives: 37.0000 - val_true_negatives: 227.0000 - val_true_positives: 48.0000\n",
            "Epoch 173/200\n",
            "44/44 [==============================] - 1s 16ms/step - loss: 0.1890 - Accuracy: 0.9397 - false_negatives: 21.0000 - false_positives: 19.0000 - true_negatives: 1025.0000 - true_positives: 327.0000 - val_loss: 2.3973 - val_Accuracy: 0.5341 - val_false_negatives: 43.0000 - val_false_positives: 40.0000 - val_true_negatives: 224.0000 - val_true_positives: 45.0000\n",
            "Epoch 174/200\n",
            "44/44 [==============================] - 1s 16ms/step - loss: 0.1929 - Accuracy: 0.9224 - false_negatives: 31.0000 - false_positives: 26.0000 - true_negatives: 1018.0000 - true_positives: 317.0000 - val_loss: 2.6596 - val_Accuracy: 0.5341 - val_false_negatives: 41.0000 - val_false_positives: 40.0000 - val_true_negatives: 224.0000 - val_true_positives: 47.0000\n",
            "Epoch 175/200\n",
            "44/44 [==============================] - 1s 16ms/step - loss: 0.1732 - Accuracy: 0.9425 - false_negatives: 20.0000 - false_positives: 19.0000 - true_negatives: 1025.0000 - true_positives: 328.0000 - val_loss: 2.7837 - val_Accuracy: 0.5227 - val_false_negatives: 43.0000 - val_false_positives: 42.0000 - val_true_negatives: 222.0000 - val_true_positives: 45.0000\n",
            "Epoch 176/200\n",
            "44/44 [==============================] - 1s 16ms/step - loss: 0.1304 - Accuracy: 0.9511 - false_negatives: 17.0000 - false_positives: 15.0000 - true_negatives: 1029.0000 - true_positives: 331.0000 - val_loss: 2.7605 - val_Accuracy: 0.5341 - val_false_negatives: 42.0000 - val_false_positives: 40.0000 - val_true_negatives: 224.0000 - val_true_positives: 46.0000\n",
            "Epoch 177/200\n",
            "44/44 [==============================] - 1s 16ms/step - loss: 0.1698 - Accuracy: 0.9339 - false_negatives: 25.0000 - false_positives: 21.0000 - true_negatives: 1023.0000 - true_positives: 323.0000 - val_loss: 2.9497 - val_Accuracy: 0.5114 - val_false_negatives: 45.0000 - val_false_positives: 43.0000 - val_true_negatives: 221.0000 - val_true_positives: 43.0000\n",
            "Epoch 178/200\n",
            "44/44 [==============================] - 1s 16ms/step - loss: 0.1569 - Accuracy: 0.9425 - false_negatives: 22.0000 - false_positives: 17.0000 - true_negatives: 1027.0000 - true_positives: 326.0000 - val_loss: 3.1179 - val_Accuracy: 0.5568 - val_false_negatives: 39.0000 - val_false_positives: 39.0000 - val_true_negatives: 225.0000 - val_true_positives: 49.0000\n",
            "Epoch 179/200\n",
            "44/44 [==============================] - 1s 16ms/step - loss: 0.2410 - Accuracy: 0.9339 - false_negatives: 24.0000 - false_positives: 22.0000 - true_negatives: 1022.0000 - true_positives: 324.0000 - val_loss: 2.5452 - val_Accuracy: 0.5341 - val_false_negatives: 42.0000 - val_false_positives: 39.0000 - val_true_negatives: 225.0000 - val_true_positives: 46.0000\n",
            "Epoch 180/200\n",
            "44/44 [==============================] - 1s 16ms/step - loss: 0.1738 - Accuracy: 0.9195 - false_negatives: 28.0000 - false_positives: 23.0000 - true_negatives: 1021.0000 - true_positives: 320.0000 - val_loss: 2.4241 - val_Accuracy: 0.5909 - val_false_negatives: 37.0000 - val_false_positives: 35.0000 - val_true_negatives: 229.0000 - val_true_positives: 51.0000\n",
            "Epoch 181/200\n",
            "44/44 [==============================] - 1s 16ms/step - loss: 0.1838 - Accuracy: 0.9253 - false_negatives: 27.0000 - false_positives: 24.0000 - true_negatives: 1020.0000 - true_positives: 321.0000 - val_loss: 2.9404 - val_Accuracy: 0.5795 - val_false_negatives: 40.0000 - val_false_positives: 36.0000 - val_true_negatives: 228.0000 - val_true_positives: 48.0000\n",
            "Epoch 182/200\n",
            "44/44 [==============================] - 1s 17ms/step - loss: 0.1219 - Accuracy: 0.9511 - false_negatives: 19.0000 - false_positives: 16.0000 - true_negatives: 1028.0000 - true_positives: 329.0000 - val_loss: 2.9048 - val_Accuracy: 0.5682 - val_false_negatives: 38.0000 - val_false_positives: 37.0000 - val_true_negatives: 227.0000 - val_true_positives: 50.0000\n",
            "Epoch 183/200\n",
            "44/44 [==============================] - 1s 17ms/step - loss: 0.1362 - Accuracy: 0.9425 - false_negatives: 20.0000 - false_positives: 19.0000 - true_negatives: 1025.0000 - true_positives: 328.0000 - val_loss: 2.6633 - val_Accuracy: 0.5795 - val_false_negatives: 39.0000 - val_false_positives: 37.0000 - val_true_negatives: 227.0000 - val_true_positives: 49.0000\n",
            "Epoch 184/200\n",
            "44/44 [==============================] - 1s 16ms/step - loss: 0.1416 - Accuracy: 0.9483 - false_negatives: 19.0000 - false_positives: 17.0000 - true_negatives: 1027.0000 - true_positives: 329.0000 - val_loss: 3.0389 - val_Accuracy: 0.5114 - val_false_negatives: 43.0000 - val_false_positives: 41.0000 - val_true_negatives: 223.0000 - val_true_positives: 45.0000\n",
            "Epoch 185/200\n",
            "44/44 [==============================] - 1s 16ms/step - loss: 0.1155 - Accuracy: 0.9569 - false_negatives: 17.0000 - false_positives: 14.0000 - true_negatives: 1030.0000 - true_positives: 331.0000 - val_loss: 2.7324 - val_Accuracy: 0.5227 - val_false_negatives: 42.0000 - val_false_positives: 42.0000 - val_true_negatives: 222.0000 - val_true_positives: 46.0000\n",
            "Epoch 186/200\n",
            "44/44 [==============================] - 1s 16ms/step - loss: 0.1452 - Accuracy: 0.9483 - false_negatives: 20.0000 - false_positives: 17.0000 - true_negatives: 1027.0000 - true_positives: 328.0000 - val_loss: 3.4617 - val_Accuracy: 0.5341 - val_false_negatives: 41.0000 - val_false_positives: 39.0000 - val_true_negatives: 225.0000 - val_true_positives: 47.0000\n",
            "Epoch 187/200\n",
            "44/44 [==============================] - 1s 16ms/step - loss: 0.1323 - Accuracy: 0.9454 - false_negatives: 21.0000 - false_positives: 18.0000 - true_negatives: 1026.0000 - true_positives: 327.0000 - val_loss: 3.3617 - val_Accuracy: 0.5227 - val_false_negatives: 43.0000 - val_false_positives: 41.0000 - val_true_negatives: 223.0000 - val_true_positives: 45.0000\n",
            "Epoch 188/200\n",
            "44/44 [==============================] - 1s 16ms/step - loss: 0.2189 - Accuracy: 0.9253 - false_negatives: 26.0000 - false_positives: 25.0000 - true_negatives: 1019.0000 - true_positives: 322.0000 - val_loss: 3.2767 - val_Accuracy: 0.5341 - val_false_negatives: 44.0000 - val_false_positives: 39.0000 - val_true_negatives: 225.0000 - val_true_positives: 44.0000\n",
            "Epoch 189/200\n",
            "44/44 [==============================] - 1s 25ms/step - loss: 0.1725 - Accuracy: 0.9432 - false_negatives: 22.0000 - false_positives: 20.0000 - true_negatives: 1036.0000 - true_positives: 330.0000 - val_loss: 3.0657 - val_Accuracy: 0.5114 - val_false_negatives: 43.0000 - val_false_positives: 42.0000 - val_true_negatives: 222.0000 - val_true_positives: 45.0000\n",
            "Epoch 190/200\n",
            "44/44 [==============================] - 1s 23ms/step - loss: 0.1538 - Accuracy: 0.9454 - false_negatives: 21.0000 - false_positives: 16.0000 - true_negatives: 1028.0000 - true_positives: 327.0000 - val_loss: 2.9921 - val_Accuracy: 0.5341 - val_false_negatives: 42.0000 - val_false_positives: 39.0000 - val_true_negatives: 225.0000 - val_true_positives: 46.0000\n",
            "Epoch 191/200\n",
            "44/44 [==============================] - 1s 16ms/step - loss: 0.1634 - Accuracy: 0.9540 - false_negatives: 18.0000 - false_positives: 15.0000 - true_negatives: 1029.0000 - true_positives: 330.0000 - val_loss: 3.7410 - val_Accuracy: 0.5114 - val_false_negatives: 44.0000 - val_false_positives: 38.0000 - val_true_negatives: 226.0000 - val_true_positives: 44.0000\n",
            "Epoch 192/200\n",
            "44/44 [==============================] - 1s 16ms/step - loss: 0.1139 - Accuracy: 0.9569 - false_negatives: 16.0000 - false_positives: 13.0000 - true_negatives: 1031.0000 - true_positives: 332.0000 - val_loss: 3.1926 - val_Accuracy: 0.5000 - val_false_negatives: 44.0000 - val_false_positives: 43.0000 - val_true_negatives: 221.0000 - val_true_positives: 44.0000\n",
            "Epoch 193/200\n",
            "44/44 [==============================] - 1s 16ms/step - loss: 0.1685 - Accuracy: 0.9425 - false_negatives: 20.0000 - false_positives: 19.0000 - true_negatives: 1025.0000 - true_positives: 328.0000 - val_loss: 3.8599 - val_Accuracy: 0.5341 - val_false_negatives: 43.0000 - val_false_positives: 41.0000 - val_true_negatives: 223.0000 - val_true_positives: 45.0000\n",
            "Epoch 194/200\n",
            "44/44 [==============================] - 1s 16ms/step - loss: 0.1185 - Accuracy: 0.9598 - false_negatives: 15.0000 - false_positives: 13.0000 - true_negatives: 1031.0000 - true_positives: 333.0000 - val_loss: 3.6392 - val_Accuracy: 0.5341 - val_false_negatives: 43.0000 - val_false_positives: 40.0000 - val_true_negatives: 224.0000 - val_true_positives: 45.0000\n",
            "Epoch 195/200\n",
            "44/44 [==============================] - 1s 16ms/step - loss: 0.1770 - Accuracy: 0.9368 - false_negatives: 22.0000 - false_positives: 20.0000 - true_negatives: 1024.0000 - true_positives: 326.0000 - val_loss: 3.4649 - val_Accuracy: 0.5568 - val_false_negatives: 41.0000 - val_false_positives: 37.0000 - val_true_negatives: 227.0000 - val_true_positives: 47.0000\n",
            "Epoch 196/200\n",
            "44/44 [==============================] - 1s 17ms/step - loss: 0.1774 - Accuracy: 0.9397 - false_negatives: 22.0000 - false_positives: 20.0000 - true_negatives: 1024.0000 - true_positives: 326.0000 - val_loss: 3.2212 - val_Accuracy: 0.5227 - val_false_negatives: 42.0000 - val_false_positives: 39.0000 - val_true_negatives: 225.0000 - val_true_positives: 46.0000\n",
            "Epoch 197/200\n",
            "44/44 [==============================] - 1s 16ms/step - loss: 0.1278 - Accuracy: 0.9626 - false_negatives: 14.0000 - false_positives: 12.0000 - true_negatives: 1032.0000 - true_positives: 334.0000 - val_loss: 3.4855 - val_Accuracy: 0.5568 - val_false_negatives: 41.0000 - val_false_positives: 38.0000 - val_true_negatives: 226.0000 - val_true_positives: 47.0000\n",
            "Epoch 198/200\n",
            "44/44 [==============================] - 1s 17ms/step - loss: 0.1346 - Accuracy: 0.9598 - false_negatives: 15.0000 - false_positives: 14.0000 - true_negatives: 1030.0000 - true_positives: 333.0000 - val_loss: 2.8146 - val_Accuracy: 0.5341 - val_false_negatives: 41.0000 - val_false_positives: 38.0000 - val_true_negatives: 226.0000 - val_true_positives: 47.0000\n",
            "Epoch 199/200\n",
            "44/44 [==============================] - 1s 16ms/step - loss: 0.0926 - Accuracy: 0.9626 - false_negatives: 14.0000 - false_positives: 10.0000 - true_negatives: 1034.0000 - true_positives: 334.0000 - val_loss: 3.1128 - val_Accuracy: 0.5114 - val_false_negatives: 44.0000 - val_false_positives: 41.0000 - val_true_negatives: 223.0000 - val_true_positives: 44.0000\n",
            "Epoch 200/200\n",
            "44/44 [==============================] - 1s 16ms/step - loss: 0.1267 - Accuracy: 0.9483 - false_negatives: 18.0000 - false_positives: 17.0000 - true_negatives: 1027.0000 - true_positives: 330.0000 - val_loss: 3.1419 - val_Accuracy: 0.5227 - val_false_negatives: 43.0000 - val_false_positives: 40.0000 - val_true_negatives: 224.0000 - val_true_positives: 45.0000\n"
          ]
        }
      ]
    },
    {
      "cell_type": "markdown",
      "source": [
        "Plotting Traning Result"
      ],
      "metadata": {
        "id": "XZSFG8fXqz7c"
      }
    },
    {
      "cell_type": "code",
      "source": [
        "  #plotting\n",
        "  epochs = range(1, len(history.history['loss'])+1)\n",
        "  plt.title(f\"Grafik loss training iterasi {iterasi}\")\n",
        "  plt.plot(epochs, history.history['loss'], 'r', label='Training Loss')\n",
        "  plt.plot(epochs, history.history['val_loss'], 'b', label='Validation Loss')    \n",
        "  plt.xlabel(\"Epoch\")\n",
        "  plt.ylabel(\"Loss\")\n",
        "  plt.legend()\n",
        "  plt.show()\n"
      ],
      "metadata": {
        "id": "3dXbDrJpY1NK",
        "colab": {
          "base_uri": "https://localhost:8080/",
          "height": 295
        },
        "outputId": "6bce60c9-6c75-43bd-bbac-e37561fe3d3e"
      },
      "execution_count": 12,
      "outputs": [
        {
          "output_type": "display_data",
          "data": {
            "text/plain": [
              "<Figure size 432x288 with 1 Axes>"
            ],
            "image/png": "[encoded data removed]"
          },
          "metadata": {
            "needs_background": "light"
          }
        }
      ]
    },
    {
      "cell_type": "code",
      "source": [
        "  #plotting\n",
        "  epochs = range(1, len(history.history['loss'])+1)\n",
        "  plt.title(f\"Grafik Akurasi training iterasi {iterasi}\")\n",
        "  plt.plot(epochs, history.history['Accuracy'], 'r', label='Training Accuracy')\n",
        "  plt.plot(epochs, history.history['val_Accuracy'], 'b', label='Validation Accuracy')    \n",
        "  plt.xlabel(\"Epoch\")\n",
        "  plt.ylabel(\"Accuracy\")\n",
        "  plt.legend()\n",
        "  plt.show()"
      ],
      "metadata": {
        "id": "j3xigprPwlSX",
        "colab": {
          "base_uri": "https://localhost:8080/",
          "height": 295
        },
        "outputId": "661c2aa5-fdca-4820-bc98-a3a91b9376f7"
      },
      "execution_count": 13,
      "outputs": [
        {
          "output_type": "display_data",
          "data": {
            "text/plain": [
              "<Figure size 432x288 with 1 Axes>"
            ],
            "image/png": "[encoded data removed]"
          },
          "metadata": {
            "needs_background": "light"
          }
        }
      ]
    },
    {
      "cell_type": "code",
      "source": [
        "import matplotlib.pyplot as plt\n",
        "from sklearn.datasets import make_classification\n",
        "from numpy import mean\n",
        "from sklearn.metrics import confusion_matrix, ConfusionMatrixDisplay, accuracy_score, classification_report, recall_score\n",
        "\n",
        "validation = model.predict(np_image_list_validation)\n",
        "\n",
        "predicted_labels = []\n",
        "correct_labels = []\n",
        "for i in range (len(validation)):\n",
        "  predicted_labels.append(np.argmax(validation[i]))\n",
        "\n",
        "for i in range (len(image_labels_validation)):\n",
        "  correct_labels.append(np.argmax(image_labels_validation[i]))\n",
        "\n",
        "\n",
        "confusion_matrix = confusion_matrix(correct_labels, predicted_labels)\n",
        "disp = ConfusionMatrixDisplay(confusion_matrix=confusion_matrix)  \n",
        "disp.plot()\n",
        "plt.show()\n",
        "print('--------')\n",
        "FP = confusion_matrix.sum(axis=0) - np.diag(confusion_matrix)  \n",
        "FN = confusion_matrix.sum(axis=1) - np.diag(confusion_matrix)\n",
        "TP = np.diag(confusion_matrix)\n",
        "TN = confusion_matrix.sum() - (FP + FN + TP)\n",
        "\n",
        "# Sensitivity, hit rate, recall, or true positive rate\n",
        "TPR = TP/(TP+FN)\n",
        "# Specificity or true negative rate\n",
        "TNR = TN/(TN+FP) \n",
        "# Overall accuracy\n",
        "ACC = (TP+TN)/(TP+FP+FN+TN)\n",
        "\n",
        "print(TP)\n",
        "print(TN)\n",
        "print(FP)\n",
        "print(FN)\n",
        "print('--------')\n",
        "print(ACC)\n",
        "print(TPR)\n",
        "print(TNR)\n",
        "print('--------')\n",
        "\n",
        "TP = sum(TP)\n",
        "TN = sum(TN)\n",
        "FP = sum(FP)\n",
        "FN = sum(FN)\n",
        "\n",
        "# Sensitivity, hit rate, recall, or true positive rate\n",
        "TPR = TP/(TP+FN)\n",
        "# Specificity or true negative rate\n",
        "TNR = TN/(TN+FP) \n",
        "# Overall accuracy\n",
        "ACC = (TP+TN)/(TP+FP+FN+TN)\n",
        "\n",
        "print(TP)\n",
        "print(TN)\n",
        "print(FP)\n",
        "print(FN)\n",
        "print('--------')\n",
        "print(ACC)\n",
        "print(TPR)\n",
        "print(TNR)"
      ],
      "metadata": {
        "colab": {
          "base_uri": "https://localhost:8080/",
          "height": 591
        },
        "id": "y0RigLm76Rpg",
        "outputId": "c09a0223-694e-4191-a21d-8122703b298c"
      },
      "execution_count": 14,
      "outputs": [
        {
          "output_type": "display_data",
          "data": {
            "text/plain": [
              "<Figure size 432x288 with 2 Axes>"
            ],
            "image/png": "[encoded data removed]"
          },
          "metadata": {
            "needs_background": "light"
          }
        },
        {
          "output_type": "stream",
          "name": "stdout",
          "text": [
            "--------\n",
            "[ 3  7  4 32]\n",
            "[65 68 59 30]\n",
            "[13  7  4 18]\n",
            "[ 7  6 21  8]\n",
            "--------\n",
            "[0.77272727 0.85227273 0.71590909 0.70454545]\n",
            "[0.3        0.53846154 0.16       0.8       ]\n",
            "[0.83333333 0.90666667 0.93650794 0.625     ]\n",
            "--------\n",
            "46\n",
            "222\n",
            "42\n",
            "42\n",
            "--------\n",
            "0.7613636363636364\n",
            "0.5227272727272727\n",
            "0.8409090909090909\n"
          ]
        }
      ]
    },
    {
      "cell_type": "code",
      "source": [
        "import matplotlib.pyplot as plt\n",
        "from sklearn.datasets import make_classification\n",
        "from numpy import mean\n",
        "from sklearn.metrics import confusion_matrix, ConfusionMatrixDisplay, accuracy_score, classification_report, recall_score\n",
        "\n",
        "test = model.predict(np_image_list_test)\n",
        "\n",
        "predicted_labels = []\n",
        "correct_labels = []\n",
        "for i in range (len(test)):\n",
        "  predicted_labels.append(np.argmax(test[i]))\n",
        "\n",
        "for i in range (len(image_labels_test)):\n",
        "  correct_labels.append(np.argmax(image_labels_test[i]))\n",
        "\n",
        "\n",
        "confusion_matrix = confusion_matrix(correct_labels, predicted_labels)\n",
        "disp = ConfusionMatrixDisplay(confusion_matrix=confusion_matrix)  \n",
        "disp.plot()\n",
        "plt.show()\n",
        "print('--------')\n",
        "FP = confusion_matrix.sum(axis=0) - np.diag(confusion_matrix)  \n",
        "FN = confusion_matrix.sum(axis=1) - np.diag(confusion_matrix)\n",
        "TP = np.diag(confusion_matrix)\n",
        "TN = confusion_matrix.sum() - (FP + FN + TP)\n",
        "\n",
        "# Sensitivity, hit rate, recall, or true positive rate\n",
        "TPR = TP/(TP+FN)\n",
        "# Specificity or true negative rate\n",
        "TNR = TN/(TN+FP) \n",
        "# Overall accuracy\n",
        "ACC = (TP+TN)/(TP+FP+FN+TN)\n",
        "\n",
        "print(TP)\n",
        "print(TN)\n",
        "print(FP)\n",
        "print(FN)\n",
        "print('--------')\n",
        "print(ACC)\n",
        "print(TPR)\n",
        "print(TNR)\n",
        "print('--------')\n",
        "\n",
        "TP = sum(TP)\n",
        "TN = sum(TN)\n",
        "FP = sum(FP)\n",
        "FN = sum(FN)\n",
        "\n",
        "# Sensitivity, hit rate, recall, or true positive rate\n",
        "TPR = TP/(TP+FN)\n",
        "# Specificity or true negative rate\n",
        "TNR = TN/(TN+FP) \n",
        "# Overall accuracy\n",
        "ACC = (TP+TN)/(TP+FP+FN+TN)\n",
        "\n",
        "print(TP)\n",
        "print(TN)\n",
        "print(FP)\n",
        "print(FN)\n",
        "print('--------')\n",
        "print(ACC)\n",
        "print(TPR)\n",
        "print(TNR)"
      ],
      "metadata": {
        "colab": {
          "base_uri": "https://localhost:8080/",
          "height": 591
        },
        "id": "xufCN02P5v4A",
        "outputId": "bbf261f7-657e-47a1-fe6e-c596beb5ca7f"
      },
      "execution_count": 15,
      "outputs": [
        {
          "output_type": "display_data",
          "data": {
            "text/plain": [
              "<Figure size 432x288 with 2 Axes>"
            ],
            "image/png": "[encoded data removed]"
          },
          "metadata": {
            "needs_background": "light"
          }
        },
        {
          "output_type": "stream",
          "name": "stdout",
          "text": [
            "--------\n",
            "[ 2  9  3 38]\n",
            "[77 80 75 40]\n",
            "[21 14  3 20]\n",
            "[10  7 29 12]\n",
            "--------\n",
            "[0.71818182 0.80909091 0.70909091 0.70909091]\n",
            "[0.16666667 0.5625     0.09375    0.76      ]\n",
            "[0.78571429 0.85106383 0.96153846 0.66666667]\n",
            "--------\n",
            "52\n",
            "272\n",
            "58\n",
            "58\n",
            "--------\n",
            "0.7363636363636363\n",
            "0.4727272727272727\n",
            "0.8242424242424242\n"
          ]
        }
      ]
    },
    {
      "cell_type": "markdown",
      "metadata": {
        "id": "bTgk1-sdzmgy"
      },
      "source": [
        "**Validating** Network"
      ]
    },
    {
      "cell_type": "code",
      "source": [
        "\n"
      ],
      "metadata": {
        "id": "d_NBE4KkWuhu"
      },
      "execution_count": 15,
      "outputs": []
    },
    {
      "cell_type": "markdown",
      "source": [
        "**Testing** Network"
      ],
      "metadata": {
        "id": "saJYjKqX9tRL"
      }
    },
    {
      "cell_type": "code",
      "source": [
        "\n"
      ],
      "metadata": {
        "id": "A7DR52hmTc75"
      },
      "execution_count": 15,
      "outputs": []
    },
    {
      "cell_type": "code",
      "source": [
        "#test_img = cv2.imread('/content/Datasets/fold5/Test/apel_sehat/apel_sehat (1).jpg')\n",
        "\n",
        "#plt.imshow(test_img)\n",
        "#test_img = test_img / 255\n",
        "#test_img = np.expand_dims(test_img, axis=0)\n",
        "#pr=model.predict(test_img)\n",
        "\n",
        "#print(pr)\n",
        "#output = label_binarizer.inverse_transform(pr)\n",
        "#print(output)"
      ],
      "metadata": {
        "id": "zkMI6CwJArvo"
      },
      "execution_count": 16,
      "outputs": []
    },
    {
      "cell_type": "code",
      "source": [
        "# save the model to disk\n",
        "#print(\"[INFO] Saving model...\")\n",
        "#pickle.dump(model,open('cnn_model.pkl', 'wb'))\n",
        "#model.save('/content/fold1.h5')"
      ],
      "metadata": {
        "id": "Wr_b8qBuCAIS"
      },
      "execution_count": 17,
      "outputs": []
    }
  ]
}