{
  "nbformat": 4,
  "nbformat_minor": 0,
  "metadata": {
    "accelerator": "GPU",
    "colab": {
      "name": "Kodingan Skripsi 3",
      "provenance": [],
      "collapsed_sections": [],
      "include_colab_link": true
    },
    "kernelspec": {
      "display_name": "Python 3",
      "language": "python",
      "name": "python3"
    },
    "language_info": {
      "codemirror_mode": {
        "name": "ipython",
        "version": 3
      },
      "file_extension": ".py",
      "mimetype": "text/x-python",
      "name": "python",
      "nbconvert_exporter": "python",
      "pygments_lexer": "ipython3",
      "version": "3.6.6"
    }
  },
  "cells": [
    {
      "cell_type": "markdown",
      "metadata": {
        "id": "view-in-github",
        "colab_type": "text"
      },
      "source": [
        "<a href=\"https://colab.research.google.com/github/TaufiqIdrus/Python-Projects/blob/master/25_fold1.ipynb\" target=\"_parent\"><img src=\"https://colab.research.google.com/assets/colab-badge.svg\" alt=\"Open In Colab\"/></a>"
      ]
    },
    {
      "cell_type": "markdown",
      "metadata": {
        "id": "yJT_kQA2lITS"
      },
      "source": [
        "**Identifikasi Penyakit Pada Tanaman Apel menggunakan Convolutional Neural Network**"
      ]
    },
    {
      "cell_type": "code",
      "metadata": {
        "id": "xXeOaYTUzmgT"
      },
      "source": [
        "import numpy as np\n",
        "import pickle\n",
        "import os\n",
        "import cv2\n",
        "import tensorflow as tf\n",
        "import keras\n",
        "from os import listdir\n",
        "from sklearn.preprocessing import LabelBinarizer\n",
        "from keras.models import Sequential\n",
        "from keras.layers.convolutional import Conv2D\n",
        "from keras.layers.convolutional import MaxPooling2D\n",
        "from keras.layers.core import Activation, Flatten, Dropout, Dense\n",
        "from keras import backend as K\n",
        "from tensorflow.keras.optimizers import Adam\n",
        "from keras.preprocessing import image\n",
        "import matplotlib.pyplot as plt\n",
        "from sklearn.datasets import make_classification\n",
        "from numpy import mean\n"
      ],
      "execution_count": 1,
      "outputs": []
    },
    {
      "cell_type": "markdown",
      "metadata": {
        "id": "fp8C0d28lQok"
      },
      "source": [
        "Importing and Preparing Dataset"
      ]
    },
    {
      "cell_type": "code",
      "metadata": {
        "id": "_0xehllADlUs",
        "colab": {
          "base_uri": "https://localhost:8080/"
        },
        "outputId": "9146d683-d4e5-4630-a1e8-89a88eb13a75"
      },
      "source": [
        "!pip install pyunpack\n",
        "!pip install patool\n",
        "from pyunpack import Archive\n",
        "Archive('/content/fold1.rar').extractall('/content/Datasets/')\n",
        "iterasi = 1\n",
        "width=60\n",
        "height=60\n",
        "default_image_size = tuple((height, width))\n",
        "directory_root_train = '/content/Datasets/fold1/Train'\n",
        "directory_root_validation = '/content/Datasets/fold1/Validation'\n",
        "directory_root_test = '/content/Datasets/fold1/Test'\n",
        "image_size = 0\n",
        "depth=3"
      ],
      "execution_count": 2,
      "outputs": [
        {
          "output_type": "stream",
          "name": "stdout",
          "text": [
            "Looking in indexes: https://pypi.org/simple, https://us-python.pkg.dev/colab-wheels/public/simple/\n",
            "Requirement already satisfied: pyunpack in /usr/local/lib/python3.7/dist-packages (0.3)\n",
            "Requirement already satisfied: easyprocess in /usr/local/lib/python3.7/dist-packages (from pyunpack) (1.1)\n",
            "Requirement already satisfied: entrypoint2 in /usr/local/lib/python3.7/dist-packages (from pyunpack) (1.1)\n",
            "Looking in indexes: https://pypi.org/simple, https://us-python.pkg.dev/colab-wheels/public/simple/\n",
            "Requirement already satisfied: patool in /usr/local/lib/python3.7/dist-packages (1.12)\n"
          ]
        }
      ]
    },
    {
      "cell_type": "code",
      "metadata": {
        "id": "KbAwJJTpzmge"
      },
      "source": [
        "def convert_image_to_array(image_dir):\n",
        "    try:\n",
        "        image = cv2.imread(image_dir)\n",
        "        if image is not None :\n",
        "            image = cv2.resize(image, default_image_size)   \n",
        "            return keras.preprocessing.image.img_to_array(image)\n",
        "        else :\n",
        "            return np.array([])\n",
        "    except Exception as e:\n",
        "        print(f\"Error : {e}\")\n",
        "        return None"
      ],
      "execution_count": 3,
      "outputs": []
    },
    {
      "cell_type": "markdown",
      "source": [
        "Converting **Training** Data to Array"
      ],
      "metadata": {
        "id": "bgXxUMO2cI_D"
      }
    },
    {
      "cell_type": "code",
      "metadata": {
        "id": "Erz6IjKXzmgg",
        "colab": {
          "base_uri": "https://localhost:8080/"
        },
        "outputId": "525b6296-4f85-44b2-e93d-beedf6e9a70e"
      },
      "source": [
        "image_list_train, label_list_train = [], []\n",
        "try:\n",
        "    print(\"[INFO] Loading images ...\")\n",
        "    root_dir = listdir(directory_root_train)\n",
        "\n",
        "    for plant_disease_folder in root_dir:\n",
        "        print(f\"[INFO] Processing {plant_disease_folder} ...\")\n",
        "        plant_disease_image_list = listdir(f\"{directory_root_train}/{plant_disease_folder}/\")\n",
        "      \n",
        "        for image in plant_disease_image_list:\n",
        "            image_directory = f\"{directory_root_train}/{plant_disease_folder}/{image}\"\n",
        "\n",
        "            if image_directory.endswith(\".jpg\") == True or image_directory.endswith(\".JPG\") == True:\n",
        "                image_list_train.append(convert_image_to_array(image_directory))\n",
        "                label_list_train.append(plant_disease_folder)\n",
        "    print(\"[INFO] Image loading completed\")\n",
        "\n",
        "except Exception as e:\n",
        "    print(f\"Error : {e}\")\n",
        "\n",
        "#image labeling\n",
        "image_size = len(image_list_train)\n",
        "label_binarizer = LabelBinarizer()\n",
        "image_labels_train = label_binarizer.fit_transform(label_list_train)\n",
        "pickle.dump(label_binarizer,open('label_transform_train.pkl', 'wb'))\n",
        "n_classes = len(label_binarizer.classes_)\n",
        "np_image_list_train = np.array(image_list_train, dtype=np.float16) / 255.0"
      ],
      "execution_count": 4,
      "outputs": [
        {
          "output_type": "stream",
          "name": "stdout",
          "text": [
            "[INFO] Loading images ...\n",
            "[INFO] Processing apel_sehat ...\n",
            "[INFO] Processing apel_bercak_daun ...\n",
            "[INFO] Processing apel_cacar_daun ...\n",
            "[INFO] Processing apel_busuk_buah ...\n",
            "[INFO] Image loading completed\n"
          ]
        }
      ]
    },
    {
      "cell_type": "markdown",
      "source": [
        "Converting **Validation** Data to Array"
      ],
      "metadata": {
        "id": "7eEMGiqRd_E4"
      }
    },
    {
      "cell_type": "code",
      "source": [
        "image_list_validation, label_list_validation = [], []\n",
        "try:\n",
        "    print(\"[INFO] Loading images ...\")\n",
        "    root_dir = listdir(directory_root_validation)\n",
        "\n",
        "    for plant_disease_folder in root_dir:\n",
        "        print(f\"[INFO] Processing {plant_disease_folder} ...\")\n",
        "        plant_disease_image_list = listdir(f\"{directory_root_validation}/{plant_disease_folder}/\")\n",
        "      \n",
        "        for image in plant_disease_image_list:\n",
        "            image_directory = f\"{directory_root_validation}/{plant_disease_folder}/{image}\"\n",
        "\n",
        "            if image_directory.endswith(\".jpg\") == True or image_directory.endswith(\".JPG\") == True:\n",
        "                image_list_validation.append(convert_image_to_array(image_directory))\n",
        "                label_list_validation.append(plant_disease_folder)\n",
        "    print(\"[INFO] Image loading completed\")\n",
        "\n",
        "except Exception as e:\n",
        "    print(f\"Error : {e}\")\n",
        "\n",
        "#image labeling\n",
        "image_size = len(image_list_validation)\n",
        "label_binarizer = LabelBinarizer()\n",
        "image_labels_validation = label_binarizer.fit_transform(label_list_validation)\n",
        "pickle.dump(label_binarizer,open('label_transform_validation.pkl', 'wb'))\n",
        "n_classes = len(label_binarizer.classes_)\n",
        "np_image_list_validation = np.array(image_list_validation, dtype=np.float16) / 255.0"
      ],
      "metadata": {
        "id": "wfHDdR0ZeEuU",
        "colab": {
          "base_uri": "https://localhost:8080/"
        },
        "outputId": "e4419c24-fac3-40a8-ac3a-0678f35085a1"
      },
      "execution_count": 5,
      "outputs": [
        {
          "output_type": "stream",
          "name": "stdout",
          "text": [
            "[INFO] Loading images ...\n",
            "[INFO] Processing apel_sehat ...\n",
            "[INFO] Processing apel_bercak_daun ...\n",
            "[INFO] Processing apel_cacar_daun ...\n",
            "[INFO] Processing apel_busuk_buah ...\n",
            "[INFO] Image loading completed\n"
          ]
        }
      ]
    },
    {
      "cell_type": "markdown",
      "source": [
        "Converting **Testing** Data to Array"
      ],
      "metadata": {
        "id": "brwWyZVncTdg"
      }
    },
    {
      "cell_type": "code",
      "metadata": {
        "id": "uNPby5UMcaWY",
        "colab": {
          "base_uri": "https://localhost:8080/"
        },
        "outputId": "3b59f639-75d7-46c3-941b-0c7b43a5cb09"
      },
      "source": [
        "image_list_test, label_list_test = [], []\n",
        "try:\n",
        "    print(\"[INFO] Loading images ...\")\n",
        "    root_dir = listdir(directory_root_test)\n",
        "\n",
        "    for plant_disease_folder in root_dir:\n",
        "        print(f\"[INFO] Processing {plant_disease_folder} ...\")\n",
        "        plant_disease_image_list = listdir(f\"{directory_root_test}/{plant_disease_folder}/\")\n",
        "      \n",
        "        for image in plant_disease_image_list:\n",
        "            image_directory = f\"{directory_root_test}/{plant_disease_folder}/{image}\"\n",
        "\n",
        "            if image_directory.endswith(\".jpg\") == True or image_directory.endswith(\".JPG\") == True:\n",
        "                image_list_test.append(convert_image_to_array(image_directory))\n",
        "                label_list_test.append(plant_disease_folder)\n",
        "    print(\"[INFO] Image loading completed\")\n",
        "\n",
        "except Exception as e:\n",
        "    print(f\"Error : {e}\")\n",
        "\n",
        "#image labeling\n",
        "image_size = len(image_list_test)\n",
        "label_binarizer = LabelBinarizer()\n",
        "image_labels_test = label_binarizer.fit_transform(label_list_test)\n",
        "pickle.dump(label_binarizer,open('label_transform_test.pkl', 'wb'))\n",
        "n_classes = len(label_binarizer.classes_)\n",
        "np_image_list_test = np.array(image_list_test, dtype=np.float16) / 255.0"
      ],
      "execution_count": 6,
      "outputs": [
        {
          "output_type": "stream",
          "name": "stdout",
          "text": [
            "[INFO] Loading images ...\n",
            "[INFO] Processing apel_sehat ...\n",
            "[INFO] Processing apel_bercak_daun ...\n",
            "[INFO] Processing apel_cacar_daun ...\n",
            "[INFO] Processing apel_busuk_buah ...\n",
            "[INFO] Image loading completed\n"
          ]
        }
      ]
    },
    {
      "cell_type": "markdown",
      "metadata": {
        "id": "jYBTFN0CnAi7"
      },
      "source": [
        "Data Augmenting Initialization"
      ]
    },
    {
      "cell_type": "code",
      "metadata": {
        "id": "TLMxMK2Tzmgr"
      },
      "source": [
        "aug = keras.preprocessing.image.ImageDataGenerator(\n",
        "    rotation_range=25, \n",
        "    width_shift_range=0.1,\n",
        "    height_shift_range=0.1, \n",
        "    shear_range=0.2, \n",
        "    zoom_range=0.2,\n",
        "    horizontal_flip=True, \n",
        "    fill_mode=\"nearest\")"
      ],
      "execution_count": 7,
      "outputs": []
    },
    {
      "cell_type": "markdown",
      "metadata": {
        "id": "H1BfRyYNnGv_"
      },
      "source": [
        "Creating CNN Model"
      ]
    },
    {
      "cell_type": "code",
      "metadata": {
        "id": "WmLX4wm8zmgs"
      },
      "source": [
        "model = keras.models.Sequential()\n",
        "inputShape = (height, width, depth)\n",
        "\n",
        "model.add(Conv2D(20, (5, 5), padding=\"same\",input_shape=inputShape))\n",
        "model.add(Activation(\"relu\"))\n",
        "\n",
        "model.add(MaxPooling2D(pool_size=(2, 2), strides=2))\n",
        "\n",
        "model.add(Conv2D(50, (5, 5), padding=\"same\"))\n",
        "model.add(Activation(\"relu\"))\n",
        "\n",
        "model.add(MaxPooling2D(pool_size=(2, 2),strides=2))\n",
        "\n",
        "model.add(Flatten())\n",
        "\n",
        "model.add(Dense(500))\n",
        "model.add(Activation(\"relu\"))\n",
        "\n",
        "model.add(Dense(4))\n",
        "model.add(Activation(\"softmax\"))"
      ],
      "execution_count": 8,
      "outputs": []
    },
    {
      "cell_type": "code",
      "source": [
        "#model.summary()"
      ],
      "metadata": {
        "id": "RQIgaph8hW06"
      },
      "execution_count": 9,
      "outputs": []
    },
    {
      "cell_type": "code",
      "source": [
        "#from PIL import Image\n",
        "#from keras.utils.vis_utils import plot_model\n",
        "#plot_model(model, to_file='cnn_model.png', show_shapes=True, show_layer_names=True)\n",
        "#display(Image.open('cnn_model.png'))"
      ],
      "metadata": {
        "id": "T05gPuu1GudW"
      },
      "execution_count": 10,
      "outputs": []
    },
    {
      "cell_type": "markdown",
      "metadata": {
        "id": "Zfsu3lVfnXFG"
      },
      "source": [
        "**Training** Network"
      ]
    },
    {
      "cell_type": "code",
      "metadata": {
        "id": "rvwKwe3Lzmgv",
        "colab": {
          "base_uri": "https://localhost:8080/"
        },
        "outputId": "e9ceb590-dfdd-489c-9eb0-e2a2b50eacf1"
      },
      "source": [
        "EPOCHS = 200\n",
        "INIT_LR = 1e-3\n",
        "BS = 8\n",
        "\n",
        "with tf.device('/GPU:0'):\n",
        "  opt = Adam(learning_rate=INIT_LR, decay=INIT_LR / EPOCHS)\n",
        "  model.compile(loss=\"categorical_crossentropy\", optimizer=opt,metrics=[\"Accuracy\", \"FalseNegatives\", \"FalsePositives\", \"TrueNegatives\", \"TruePositives\"])\n",
        "  \n",
        "  history = model.fit(\n",
        "      aug.flow(np_image_list_train, image_labels_train, batch_size=BS),\n",
        "      validation_data=(np_image_list_validation, image_labels_validation),\n",
        "      steps_per_epoch=len(np_image_list_train) // BS,\n",
        "      epochs=EPOCHS, \n",
        "      verbose=1,\n",
        "      )\n"
      ],
      "execution_count": 11,
      "outputs": [
        {
          "output_type": "stream",
          "name": "stdout",
          "text": [
            "Epoch 1/200\n",
            "44/44 [==============================] - 5s 30ms/step - loss: 1.3222 - Accuracy: 0.4109 - false_negatives: 312.0000 - false_positives: 30.0000 - true_negatives: 1014.0000 - true_positives: 36.0000 - val_loss: 1.2198 - val_Accuracy: 0.4545 - val_false_negatives: 48.0000 - val_false_positives: 39.0000 - val_true_negatives: 225.0000 - val_true_positives: 40.0000\n",
            "Epoch 2/200\n",
            "44/44 [==============================] - 1s 15ms/step - loss: 1.0795 - Accuracy: 0.5546 - false_negatives: 227.0000 - false_positives: 43.0000 - true_negatives: 1001.0000 - true_positives: 121.0000 - val_loss: 1.1592 - val_Accuracy: 0.5000 - val_false_negatives: 68.0000 - val_false_positives: 17.0000 - val_true_negatives: 247.0000 - val_true_positives: 20.0000\n",
            "Epoch 3/200\n",
            "44/44 [==============================] - 1s 26ms/step - loss: 0.9762 - Accuracy: 0.6034 - false_negatives: 217.0000 - false_positives: 47.0000 - true_negatives: 997.0000 - true_positives: 131.0000 - val_loss: 1.2678 - val_Accuracy: 0.5000 - val_false_negatives: 51.0000 - val_false_positives: 26.0000 - val_true_negatives: 238.0000 - val_true_positives: 37.0000\n",
            "Epoch 4/200\n",
            "44/44 [==============================] - 1s 26ms/step - loss: 0.9254 - Accuracy: 0.6322 - false_negatives: 181.0000 - false_positives: 48.0000 - true_negatives: 996.0000 - true_positives: 167.0000 - val_loss: 1.3059 - val_Accuracy: 0.5455 - val_false_negatives: 48.0000 - val_false_positives: 32.0000 - val_true_negatives: 232.0000 - val_true_positives: 40.0000\n",
            "Epoch 5/200\n",
            "44/44 [==============================] - 1s 27ms/step - loss: 0.8781 - Accuracy: 0.6839 - false_negatives: 172.0000 - false_positives: 45.0000 - true_negatives: 999.0000 - true_positives: 176.0000 - val_loss: 1.7989 - val_Accuracy: 0.4773 - val_false_negatives: 48.0000 - val_false_positives: 40.0000 - val_true_negatives: 224.0000 - val_true_positives: 40.0000\n",
            "Epoch 6/200\n",
            "44/44 [==============================] - 1s 29ms/step - loss: 0.8595 - Accuracy: 0.6667 - false_negatives: 154.0000 - false_positives: 73.0000 - true_negatives: 971.0000 - true_positives: 194.0000 - val_loss: 1.6250 - val_Accuracy: 0.4886 - val_false_negatives: 47.0000 - val_false_positives: 37.0000 - val_true_negatives: 227.0000 - val_true_positives: 41.0000\n",
            "Epoch 7/200\n",
            "44/44 [==============================] - 1s 28ms/step - loss: 0.8886 - Accuracy: 0.6810 - false_negatives: 170.0000 - false_positives: 53.0000 - true_negatives: 991.0000 - true_positives: 178.0000 - val_loss: 1.2974 - val_Accuracy: 0.5455 - val_false_negatives: 47.0000 - val_false_positives: 33.0000 - val_true_negatives: 231.0000 - val_true_positives: 41.0000\n",
            "Epoch 8/200\n",
            "44/44 [==============================] - 1s 28ms/step - loss: 0.8610 - Accuracy: 0.6839 - false_negatives: 151.0000 - false_positives: 52.0000 - true_negatives: 992.0000 - true_positives: 197.0000 - val_loss: 1.6098 - val_Accuracy: 0.5114 - val_false_negatives: 47.0000 - val_false_positives: 37.0000 - val_true_negatives: 227.0000 - val_true_positives: 41.0000\n",
            "Epoch 9/200\n",
            "44/44 [==============================] - 1s 29ms/step - loss: 0.8329 - Accuracy: 0.6839 - false_negatives: 141.0000 - false_positives: 60.0000 - true_negatives: 984.0000 - true_positives: 207.0000 - val_loss: 1.4782 - val_Accuracy: 0.4886 - val_false_negatives: 49.0000 - val_false_positives: 33.0000 - val_true_negatives: 231.0000 - val_true_positives: 39.0000\n",
            "Epoch 10/200\n",
            "44/44 [==============================] - 1s 29ms/step - loss: 0.8288 - Accuracy: 0.6868 - false_negatives: 144.0000 - false_positives: 65.0000 - true_negatives: 979.0000 - true_positives: 204.0000 - val_loss: 1.5343 - val_Accuracy: 0.5341 - val_false_negatives: 44.0000 - val_false_positives: 33.0000 - val_true_negatives: 231.0000 - val_true_positives: 44.0000\n",
            "Epoch 11/200\n",
            "44/44 [==============================] - 1s 21ms/step - loss: 0.7733 - Accuracy: 0.7155 - false_negatives: 122.0000 - false_positives: 60.0000 - true_negatives: 984.0000 - true_positives: 226.0000 - val_loss: 1.1524 - val_Accuracy: 0.5909 - val_false_negatives: 45.0000 - val_false_positives: 20.0000 - val_true_negatives: 244.0000 - val_true_positives: 43.0000\n",
            "Epoch 12/200\n",
            "44/44 [==============================] - 1s 16ms/step - loss: 0.8328 - Accuracy: 0.6954 - false_negatives: 141.0000 - false_positives: 64.0000 - true_negatives: 980.0000 - true_positives: 207.0000 - val_loss: 1.6825 - val_Accuracy: 0.4773 - val_false_negatives: 46.0000 - val_false_positives: 42.0000 - val_true_negatives: 222.0000 - val_true_positives: 42.0000\n",
            "Epoch 13/200\n",
            "44/44 [==============================] - 1s 15ms/step - loss: 0.7781 - Accuracy: 0.7356 - false_negatives: 132.0000 - false_positives: 55.0000 - true_negatives: 989.0000 - true_positives: 216.0000 - val_loss: 1.3275 - val_Accuracy: 0.5682 - val_false_negatives: 42.0000 - val_false_positives: 31.0000 - val_true_negatives: 233.0000 - val_true_positives: 46.0000\n",
            "Epoch 14/200\n",
            "44/44 [==============================] - 1s 16ms/step - loss: 0.7814 - Accuracy: 0.7155 - false_negatives: 135.0000 - false_positives: 58.0000 - true_negatives: 986.0000 - true_positives: 213.0000 - val_loss: 1.2273 - val_Accuracy: 0.5682 - val_false_negatives: 46.0000 - val_false_positives: 27.0000 - val_true_negatives: 237.0000 - val_true_positives: 42.0000\n",
            "Epoch 15/200\n",
            "44/44 [==============================] - 1s 15ms/step - loss: 0.7072 - Accuracy: 0.7443 - false_negatives: 111.0000 - false_positives: 64.0000 - true_negatives: 980.0000 - true_positives: 237.0000 - val_loss: 1.2535 - val_Accuracy: 0.5000 - val_false_negatives: 61.0000 - val_false_positives: 22.0000 - val_true_negatives: 242.0000 - val_true_positives: 27.0000\n",
            "Epoch 16/200\n",
            "44/44 [==============================] - 1s 16ms/step - loss: 0.7945 - Accuracy: 0.7155 - false_negatives: 138.0000 - false_positives: 58.0000 - true_negatives: 986.0000 - true_positives: 210.0000 - val_loss: 1.2082 - val_Accuracy: 0.5568 - val_false_negatives: 46.0000 - val_false_positives: 25.0000 - val_true_negatives: 239.0000 - val_true_positives: 42.0000\n",
            "Epoch 17/200\n",
            "44/44 [==============================] - 1s 16ms/step - loss: 0.6808 - Accuracy: 0.7443 - false_negatives: 102.0000 - false_positives: 56.0000 - true_negatives: 988.0000 - true_positives: 246.0000 - val_loss: 1.2552 - val_Accuracy: 0.5795 - val_false_negatives: 39.0000 - val_false_positives: 31.0000 - val_true_negatives: 233.0000 - val_true_positives: 49.0000\n",
            "Epoch 18/200\n",
            "44/44 [==============================] - 1s 15ms/step - loss: 0.7503 - Accuracy: 0.7328 - false_negatives: 109.0000 - false_positives: 58.0000 - true_negatives: 986.0000 - true_positives: 239.0000 - val_loss: 1.1061 - val_Accuracy: 0.5682 - val_false_negatives: 43.0000 - val_false_positives: 25.0000 - val_true_negatives: 239.0000 - val_true_positives: 45.0000\n",
            "Epoch 19/200\n",
            "44/44 [==============================] - 1s 16ms/step - loss: 0.7626 - Accuracy: 0.7040 - false_negatives: 131.0000 - false_positives: 68.0000 - true_negatives: 976.0000 - true_positives: 217.0000 - val_loss: 1.2471 - val_Accuracy: 0.5682 - val_false_negatives: 42.0000 - val_false_positives: 36.0000 - val_true_negatives: 228.0000 - val_true_positives: 46.0000\n",
            "Epoch 20/200\n",
            "44/44 [==============================] - 1s 15ms/step - loss: 0.7009 - Accuracy: 0.7270 - false_negatives: 113.0000 - false_positives: 72.0000 - true_negatives: 972.0000 - true_positives: 235.0000 - val_loss: 1.3586 - val_Accuracy: 0.5341 - val_false_negatives: 44.0000 - val_false_positives: 33.0000 - val_true_negatives: 231.0000 - val_true_positives: 44.0000\n",
            "Epoch 21/200\n",
            "44/44 [==============================] - 1s 16ms/step - loss: 0.7029 - Accuracy: 0.7529 - false_negatives: 108.0000 - false_positives: 54.0000 - true_negatives: 990.0000 - true_positives: 240.0000 - val_loss: 1.2987 - val_Accuracy: 0.5682 - val_false_negatives: 42.0000 - val_false_positives: 30.0000 - val_true_negatives: 234.0000 - val_true_positives: 46.0000\n",
            "Epoch 22/200\n",
            "44/44 [==============================] - 1s 15ms/step - loss: 0.6628 - Accuracy: 0.7730 - false_negatives: 99.0000 - false_positives: 63.0000 - true_negatives: 981.0000 - true_positives: 249.0000 - val_loss: 1.3714 - val_Accuracy: 0.5795 - val_false_negatives: 43.0000 - val_false_positives: 34.0000 - val_true_negatives: 230.0000 - val_true_positives: 45.0000\n",
            "Epoch 23/200\n",
            "44/44 [==============================] - 1s 15ms/step - loss: 0.6408 - Accuracy: 0.7816 - false_negatives: 99.0000 - false_positives: 53.0000 - true_negatives: 991.0000 - true_positives: 249.0000 - val_loss: 1.1828 - val_Accuracy: 0.5795 - val_false_negatives: 43.0000 - val_false_positives: 29.0000 - val_true_negatives: 235.0000 - val_true_positives: 45.0000\n",
            "Epoch 24/200\n",
            "44/44 [==============================] - 1s 16ms/step - loss: 0.6222 - Accuracy: 0.7557 - false_negatives: 100.0000 - false_positives: 54.0000 - true_negatives: 990.0000 - true_positives: 248.0000 - val_loss: 1.1604 - val_Accuracy: 0.5568 - val_false_negatives: 45.0000 - val_false_positives: 35.0000 - val_true_negatives: 229.0000 - val_true_positives: 43.0000\n",
            "Epoch 25/200\n",
            "44/44 [==============================] - 1s 15ms/step - loss: 0.6614 - Accuracy: 0.7414 - false_negatives: 113.0000 - false_positives: 59.0000 - true_negatives: 985.0000 - true_positives: 235.0000 - val_loss: 1.2412 - val_Accuracy: 0.5795 - val_false_negatives: 41.0000 - val_false_positives: 32.0000 - val_true_negatives: 232.0000 - val_true_positives: 47.0000\n",
            "Epoch 26/200\n",
            "44/44 [==============================] - 1s 15ms/step - loss: 0.6289 - Accuracy: 0.7644 - false_negatives: 98.0000 - false_positives: 61.0000 - true_negatives: 983.0000 - true_positives: 250.0000 - val_loss: 1.1555 - val_Accuracy: 0.6136 - val_false_negatives: 41.0000 - val_false_positives: 26.0000 - val_true_negatives: 238.0000 - val_true_positives: 47.0000\n",
            "Epoch 27/200\n",
            "44/44 [==============================] - 1s 15ms/step - loss: 0.6042 - Accuracy: 0.7787 - false_negatives: 89.0000 - false_positives: 64.0000 - true_negatives: 980.0000 - true_positives: 259.0000 - val_loss: 1.2339 - val_Accuracy: 0.6023 - val_false_negatives: 42.0000 - val_false_positives: 30.0000 - val_true_negatives: 234.0000 - val_true_positives: 46.0000\n",
            "Epoch 28/200\n",
            "44/44 [==============================] - 1s 16ms/step - loss: 0.6234 - Accuracy: 0.7615 - false_negatives: 101.0000 - false_positives: 58.0000 - true_negatives: 986.0000 - true_positives: 247.0000 - val_loss: 1.3168 - val_Accuracy: 0.5568 - val_false_negatives: 39.0000 - val_false_positives: 37.0000 - val_true_negatives: 227.0000 - val_true_positives: 49.0000\n",
            "Epoch 29/200\n",
            "44/44 [==============================] - 1s 15ms/step - loss: 0.6276 - Accuracy: 0.7615 - false_negatives: 104.0000 - false_positives: 61.0000 - true_negatives: 983.0000 - true_positives: 244.0000 - val_loss: 1.3481 - val_Accuracy: 0.5795 - val_false_negatives: 38.0000 - val_false_positives: 34.0000 - val_true_negatives: 230.0000 - val_true_positives: 50.0000\n",
            "Epoch 30/200\n",
            "44/44 [==============================] - 1s 15ms/step - loss: 0.6377 - Accuracy: 0.7557 - false_negatives: 99.0000 - false_positives: 60.0000 - true_negatives: 984.0000 - true_positives: 249.0000 - val_loss: 1.1802 - val_Accuracy: 0.5795 - val_false_negatives: 38.0000 - val_false_positives: 33.0000 - val_true_negatives: 231.0000 - val_true_positives: 50.0000\n",
            "Epoch 31/200\n",
            "44/44 [==============================] - 1s 15ms/step - loss: 0.5953 - Accuracy: 0.7902 - false_negatives: 97.0000 - false_positives: 48.0000 - true_negatives: 996.0000 - true_positives: 251.0000 - val_loss: 1.2149 - val_Accuracy: 0.6250 - val_false_negatives: 35.0000 - val_false_positives: 32.0000 - val_true_negatives: 232.0000 - val_true_positives: 53.0000\n",
            "Epoch 32/200\n",
            "44/44 [==============================] - 1s 15ms/step - loss: 0.6413 - Accuracy: 0.7701 - false_negatives: 97.0000 - false_positives: 60.0000 - true_negatives: 984.0000 - true_positives: 251.0000 - val_loss: 1.4833 - val_Accuracy: 0.5568 - val_false_negatives: 42.0000 - val_false_positives: 32.0000 - val_true_negatives: 232.0000 - val_true_positives: 46.0000\n",
            "Epoch 33/200\n",
            "44/44 [==============================] - 1s 16ms/step - loss: 0.6123 - Accuracy: 0.7557 - false_negatives: 101.0000 - false_positives: 55.0000 - true_negatives: 989.0000 - true_positives: 247.0000 - val_loss: 1.6729 - val_Accuracy: 0.6136 - val_false_negatives: 39.0000 - val_false_positives: 29.0000 - val_true_negatives: 235.0000 - val_true_positives: 49.0000\n",
            "Epoch 34/200\n",
            "44/44 [==============================] - 1s 16ms/step - loss: 0.6091 - Accuracy: 0.7701 - false_negatives: 97.0000 - false_positives: 48.0000 - true_negatives: 996.0000 - true_positives: 251.0000 - val_loss: 1.2588 - val_Accuracy: 0.5682 - val_false_negatives: 39.0000 - val_false_positives: 32.0000 - val_true_negatives: 232.0000 - val_true_positives: 49.0000\n",
            "Epoch 35/200\n",
            "44/44 [==============================] - 1s 16ms/step - loss: 0.6287 - Accuracy: 0.7586 - false_negatives: 100.0000 - false_positives: 62.0000 - true_negatives: 982.0000 - true_positives: 248.0000 - val_loss: 1.3637 - val_Accuracy: 0.5568 - val_false_negatives: 44.0000 - val_false_positives: 34.0000 - val_true_negatives: 230.0000 - val_true_positives: 44.0000\n",
            "Epoch 36/200\n",
            "44/44 [==============================] - 1s 15ms/step - loss: 0.6614 - Accuracy: 0.7644 - false_negatives: 104.0000 - false_positives: 56.0000 - true_negatives: 988.0000 - true_positives: 244.0000 - val_loss: 1.2971 - val_Accuracy: 0.5795 - val_false_negatives: 40.0000 - val_false_positives: 30.0000 - val_true_negatives: 234.0000 - val_true_positives: 48.0000\n",
            "Epoch 37/200\n",
            "44/44 [==============================] - 1s 16ms/step - loss: 0.6233 - Accuracy: 0.7759 - false_negatives: 95.0000 - false_positives: 58.0000 - true_negatives: 986.0000 - true_positives: 253.0000 - val_loss: 1.3887 - val_Accuracy: 0.6136 - val_false_negatives: 37.0000 - val_false_positives: 27.0000 - val_true_negatives: 237.0000 - val_true_positives: 51.0000\n",
            "Epoch 38/200\n",
            "44/44 [==============================] - 1s 15ms/step - loss: 0.5576 - Accuracy: 0.8017 - false_negatives: 82.0000 - false_positives: 52.0000 - true_negatives: 992.0000 - true_positives: 266.0000 - val_loss: 1.3684 - val_Accuracy: 0.5909 - val_false_negatives: 40.0000 - val_false_positives: 29.0000 - val_true_negatives: 235.0000 - val_true_positives: 48.0000\n",
            "Epoch 39/200\n",
            "44/44 [==============================] - 1s 16ms/step - loss: 0.5334 - Accuracy: 0.7874 - false_negatives: 89.0000 - false_positives: 48.0000 - true_negatives: 996.0000 - true_positives: 259.0000 - val_loss: 1.3133 - val_Accuracy: 0.6136 - val_false_negatives: 36.0000 - val_false_positives: 34.0000 - val_true_negatives: 230.0000 - val_true_positives: 52.0000\n",
            "Epoch 40/200\n",
            "44/44 [==============================] - 1s 15ms/step - loss: 0.6201 - Accuracy: 0.7557 - false_negatives: 97.0000 - false_positives: 55.0000 - true_negatives: 989.0000 - true_positives: 251.0000 - val_loss: 1.4261 - val_Accuracy: 0.5795 - val_false_negatives: 40.0000 - val_false_positives: 37.0000 - val_true_negatives: 227.0000 - val_true_positives: 48.0000\n",
            "Epoch 41/200\n",
            "44/44 [==============================] - 1s 15ms/step - loss: 0.5503 - Accuracy: 0.7730 - false_negatives: 90.0000 - false_positives: 58.0000 - true_negatives: 986.0000 - true_positives: 258.0000 - val_loss: 1.2023 - val_Accuracy: 0.6364 - val_false_negatives: 37.0000 - val_false_positives: 29.0000 - val_true_negatives: 235.0000 - val_true_positives: 51.0000\n",
            "Epoch 42/200\n",
            "44/44 [==============================] - 1s 16ms/step - loss: 0.5735 - Accuracy: 0.7730 - false_negatives: 91.0000 - false_positives: 60.0000 - true_negatives: 984.0000 - true_positives: 257.0000 - val_loss: 1.0801 - val_Accuracy: 0.6023 - val_false_negatives: 39.0000 - val_false_positives: 26.0000 - val_true_negatives: 238.0000 - val_true_positives: 49.0000\n",
            "Epoch 43/200\n",
            "44/44 [==============================] - 1s 16ms/step - loss: 0.5728 - Accuracy: 0.7816 - false_negatives: 89.0000 - false_positives: 58.0000 - true_negatives: 986.0000 - true_positives: 259.0000 - val_loss: 1.1856 - val_Accuracy: 0.6250 - val_false_negatives: 35.0000 - val_false_positives: 31.0000 - val_true_negatives: 233.0000 - val_true_positives: 53.0000\n",
            "Epoch 44/200\n",
            "44/44 [==============================] - 1s 16ms/step - loss: 0.5784 - Accuracy: 0.7759 - false_negatives: 87.0000 - false_positives: 57.0000 - true_negatives: 987.0000 - true_positives: 261.0000 - val_loss: 1.0876 - val_Accuracy: 0.5909 - val_false_negatives: 38.0000 - val_false_positives: 26.0000 - val_true_negatives: 238.0000 - val_true_positives: 50.0000\n",
            "Epoch 45/200\n",
            "44/44 [==============================] - 1s 15ms/step - loss: 0.5526 - Accuracy: 0.7874 - false_negatives: 89.0000 - false_positives: 52.0000 - true_negatives: 992.0000 - true_positives: 259.0000 - val_loss: 1.2520 - val_Accuracy: 0.6364 - val_false_negatives: 36.0000 - val_false_positives: 30.0000 - val_true_negatives: 234.0000 - val_true_positives: 52.0000\n",
            "Epoch 46/200\n",
            "44/44 [==============================] - 1s 16ms/step - loss: 0.5837 - Accuracy: 0.7443 - false_negatives: 103.0000 - false_positives: 60.0000 - true_negatives: 984.0000 - true_positives: 245.0000 - val_loss: 1.3987 - val_Accuracy: 0.6364 - val_false_negatives: 40.0000 - val_false_positives: 29.0000 - val_true_negatives: 235.0000 - val_true_positives: 48.0000\n",
            "Epoch 47/200\n",
            "44/44 [==============================] - 1s 17ms/step - loss: 0.5636 - Accuracy: 0.7989 - false_negatives: 83.0000 - false_positives: 51.0000 - true_negatives: 993.0000 - true_positives: 265.0000 - val_loss: 1.7756 - val_Accuracy: 0.6136 - val_false_negatives: 39.0000 - val_false_positives: 29.0000 - val_true_negatives: 235.0000 - val_true_positives: 49.0000\n",
            "Epoch 48/200\n",
            "44/44 [==============================] - 1s 16ms/step - loss: 0.5827 - Accuracy: 0.7730 - false_negatives: 91.0000 - false_positives: 49.0000 - true_negatives: 995.0000 - true_positives: 257.0000 - val_loss: 1.0835 - val_Accuracy: 0.6250 - val_false_negatives: 39.0000 - val_false_positives: 23.0000 - val_true_negatives: 241.0000 - val_true_positives: 49.0000\n",
            "Epoch 49/200\n",
            "44/44 [==============================] - 1s 16ms/step - loss: 0.5305 - Accuracy: 0.8017 - false_negatives: 84.0000 - false_positives: 47.0000 - true_negatives: 997.0000 - true_positives: 264.0000 - val_loss: 1.2028 - val_Accuracy: 0.6364 - val_false_negatives: 35.0000 - val_false_positives: 30.0000 - val_true_negatives: 234.0000 - val_true_positives: 53.0000\n",
            "Epoch 50/200\n",
            "44/44 [==============================] - 1s 16ms/step - loss: 0.5417 - Accuracy: 0.7960 - false_negatives: 83.0000 - false_positives: 52.0000 - true_negatives: 992.0000 - true_positives: 265.0000 - val_loss: 1.4292 - val_Accuracy: 0.6136 - val_false_negatives: 37.0000 - val_false_positives: 30.0000 - val_true_negatives: 234.0000 - val_true_positives: 51.0000\n",
            "Epoch 51/200\n",
            "44/44 [==============================] - 1s 17ms/step - loss: 0.5143 - Accuracy: 0.8247 - false_negatives: 80.0000 - false_positives: 48.0000 - true_negatives: 996.0000 - true_positives: 268.0000 - val_loss: 1.0564 - val_Accuracy: 0.6364 - val_false_negatives: 35.0000 - val_false_positives: 25.0000 - val_true_negatives: 239.0000 - val_true_positives: 53.0000\n",
            "Epoch 52/200\n",
            "44/44 [==============================] - 1s 17ms/step - loss: 0.5948 - Accuracy: 0.7759 - false_negatives: 101.0000 - false_positives: 59.0000 - true_negatives: 985.0000 - true_positives: 247.0000 - val_loss: 1.4778 - val_Accuracy: 0.5455 - val_false_negatives: 43.0000 - val_false_positives: 33.0000 - val_true_negatives: 231.0000 - val_true_positives: 45.0000\n",
            "Epoch 53/200\n",
            "44/44 [==============================] - 1s 16ms/step - loss: 0.5566 - Accuracy: 0.7816 - false_negatives: 89.0000 - false_positives: 55.0000 - true_negatives: 989.0000 - true_positives: 259.0000 - val_loss: 1.2904 - val_Accuracy: 0.6364 - val_false_negatives: 35.0000 - val_false_positives: 27.0000 - val_true_negatives: 237.0000 - val_true_positives: 53.0000\n",
            "Epoch 54/200\n",
            "44/44 [==============================] - 1s 16ms/step - loss: 0.5314 - Accuracy: 0.7931 - false_negatives: 86.0000 - false_positives: 49.0000 - true_negatives: 995.0000 - true_positives: 262.0000 - val_loss: 2.0654 - val_Accuracy: 0.5682 - val_false_negatives: 42.0000 - val_false_positives: 33.0000 - val_true_negatives: 231.0000 - val_true_positives: 46.0000\n",
            "Epoch 55/200\n",
            "44/44 [==============================] - 1s 16ms/step - loss: 0.5355 - Accuracy: 0.8017 - false_negatives: 91.0000 - false_positives: 54.0000 - true_negatives: 990.0000 - true_positives: 257.0000 - val_loss: 1.3973 - val_Accuracy: 0.6023 - val_false_negatives: 36.0000 - val_false_positives: 27.0000 - val_true_negatives: 237.0000 - val_true_positives: 52.0000\n",
            "Epoch 56/200\n",
            "44/44 [==============================] - 1s 16ms/step - loss: 0.5561 - Accuracy: 0.7931 - false_negatives: 85.0000 - false_positives: 48.0000 - true_negatives: 996.0000 - true_positives: 263.0000 - val_loss: 1.2038 - val_Accuracy: 0.6477 - val_false_negatives: 33.0000 - val_false_positives: 29.0000 - val_true_negatives: 235.0000 - val_true_positives: 55.0000\n",
            "Epoch 57/200\n",
            "44/44 [==============================] - 1s 16ms/step - loss: 0.4856 - Accuracy: 0.8132 - false_negatives: 77.0000 - false_positives: 46.0000 - true_negatives: 998.0000 - true_positives: 271.0000 - val_loss: 1.9476 - val_Accuracy: 0.5568 - val_false_negatives: 42.0000 - val_false_positives: 30.0000 - val_true_negatives: 234.0000 - val_true_positives: 46.0000\n",
            "Epoch 58/200\n",
            "44/44 [==============================] - 1s 16ms/step - loss: 0.4817 - Accuracy: 0.8103 - false_negatives: 74.0000 - false_positives: 48.0000 - true_negatives: 996.0000 - true_positives: 274.0000 - val_loss: 1.3751 - val_Accuracy: 0.6591 - val_false_negatives: 36.0000 - val_false_positives: 26.0000 - val_true_negatives: 238.0000 - val_true_positives: 52.0000\n",
            "Epoch 59/200\n",
            "44/44 [==============================] - 1s 16ms/step - loss: 0.5088 - Accuracy: 0.7960 - false_negatives: 83.0000 - false_positives: 54.0000 - true_negatives: 990.0000 - true_positives: 265.0000 - val_loss: 1.4910 - val_Accuracy: 0.6023 - val_false_negatives: 37.0000 - val_false_positives: 28.0000 - val_true_negatives: 236.0000 - val_true_positives: 51.0000\n",
            "Epoch 60/200\n",
            "44/44 [==============================] - 1s 15ms/step - loss: 0.4391 - Accuracy: 0.8506 - false_negatives: 64.0000 - false_positives: 41.0000 - true_negatives: 1003.0000 - true_positives: 284.0000 - val_loss: 1.1527 - val_Accuracy: 0.6136 - val_false_negatives: 38.0000 - val_false_positives: 27.0000 - val_true_negatives: 237.0000 - val_true_positives: 50.0000\n",
            "Epoch 61/200\n",
            "44/44 [==============================] - 1s 16ms/step - loss: 0.5129 - Accuracy: 0.8218 - false_negatives: 75.0000 - false_positives: 47.0000 - true_negatives: 997.0000 - true_positives: 273.0000 - val_loss: 1.3628 - val_Accuracy: 0.6364 - val_false_negatives: 37.0000 - val_false_positives: 27.0000 - val_true_negatives: 237.0000 - val_true_positives: 51.0000\n",
            "Epoch 62/200\n",
            "44/44 [==============================] - 1s 16ms/step - loss: 0.5035 - Accuracy: 0.8017 - false_negatives: 85.0000 - false_positives: 44.0000 - true_negatives: 1000.0000 - true_positives: 263.0000 - val_loss: 1.6213 - val_Accuracy: 0.6023 - val_false_negatives: 37.0000 - val_false_positives: 33.0000 - val_true_negatives: 231.0000 - val_true_positives: 51.0000\n",
            "Epoch 63/200\n",
            "44/44 [==============================] - 1s 16ms/step - loss: 0.4649 - Accuracy: 0.8190 - false_negatives: 69.0000 - false_positives: 47.0000 - true_negatives: 997.0000 - true_positives: 279.0000 - val_loss: 1.4976 - val_Accuracy: 0.6250 - val_false_negatives: 33.0000 - val_false_positives: 31.0000 - val_true_negatives: 233.0000 - val_true_positives: 55.0000\n",
            "Epoch 64/200\n",
            "44/44 [==============================] - 1s 16ms/step - loss: 0.5191 - Accuracy: 0.8075 - false_negatives: 87.0000 - false_positives: 49.0000 - true_negatives: 995.0000 - true_positives: 261.0000 - val_loss: 1.3537 - val_Accuracy: 0.6136 - val_false_negatives: 37.0000 - val_false_positives: 29.0000 - val_true_negatives: 235.0000 - val_true_positives: 51.0000\n",
            "Epoch 65/200\n",
            "44/44 [==============================] - 1s 16ms/step - loss: 0.4603 - Accuracy: 0.8534 - false_negatives: 69.0000 - false_positives: 37.0000 - true_negatives: 1007.0000 - true_positives: 279.0000 - val_loss: 1.1812 - val_Accuracy: 0.6477 - val_false_negatives: 34.0000 - val_false_positives: 25.0000 - val_true_negatives: 239.0000 - val_true_positives: 54.0000\n",
            "Epoch 66/200\n",
            "44/44 [==============================] - 1s 16ms/step - loss: 0.5069 - Accuracy: 0.8190 - false_negatives: 76.0000 - false_positives: 48.0000 - true_negatives: 996.0000 - true_positives: 272.0000 - val_loss: 1.5528 - val_Accuracy: 0.6136 - val_false_negatives: 37.0000 - val_false_positives: 30.0000 - val_true_negatives: 234.0000 - val_true_positives: 51.0000\n",
            "Epoch 67/200\n",
            "44/44 [==============================] - 1s 17ms/step - loss: 0.4784 - Accuracy: 0.8276 - false_negatives: 76.0000 - false_positives: 44.0000 - true_negatives: 1000.0000 - true_positives: 272.0000 - val_loss: 1.4345 - val_Accuracy: 0.6250 - val_false_negatives: 37.0000 - val_false_positives: 26.0000 - val_true_negatives: 238.0000 - val_true_positives: 51.0000\n",
            "Epoch 68/200\n",
            "44/44 [==============================] - 1s 16ms/step - loss: 0.4973 - Accuracy: 0.8103 - false_negatives: 84.0000 - false_positives: 48.0000 - true_negatives: 996.0000 - true_positives: 264.0000 - val_loss: 1.5686 - val_Accuracy: 0.5909 - val_false_negatives: 36.0000 - val_false_positives: 34.0000 - val_true_negatives: 230.0000 - val_true_positives: 52.0000\n",
            "Epoch 69/200\n",
            "44/44 [==============================] - 1s 16ms/step - loss: 0.4802 - Accuracy: 0.8075 - false_negatives: 82.0000 - false_positives: 55.0000 - true_negatives: 989.0000 - true_positives: 266.0000 - val_loss: 1.8412 - val_Accuracy: 0.5909 - val_false_negatives: 40.0000 - val_false_positives: 29.0000 - val_true_negatives: 235.0000 - val_true_positives: 48.0000\n",
            "Epoch 70/200\n",
            "44/44 [==============================] - 1s 16ms/step - loss: 0.5092 - Accuracy: 0.7931 - false_negatives: 83.0000 - false_positives: 56.0000 - true_negatives: 988.0000 - true_positives: 265.0000 - val_loss: 1.4645 - val_Accuracy: 0.6364 - val_false_negatives: 38.0000 - val_false_positives: 29.0000 - val_true_negatives: 235.0000 - val_true_positives: 50.0000\n",
            "Epoch 71/200\n",
            "44/44 [==============================] - 1s 16ms/step - loss: 0.5149 - Accuracy: 0.8305 - false_negatives: 81.0000 - false_positives: 42.0000 - true_negatives: 1002.0000 - true_positives: 267.0000 - val_loss: 1.5408 - val_Accuracy: 0.6364 - val_false_negatives: 36.0000 - val_false_positives: 29.0000 - val_true_negatives: 235.0000 - val_true_positives: 52.0000\n",
            "Epoch 72/200\n",
            "44/44 [==============================] - 1s 17ms/step - loss: 0.5155 - Accuracy: 0.7960 - false_negatives: 85.0000 - false_positives: 52.0000 - true_negatives: 992.0000 - true_positives: 263.0000 - val_loss: 1.2304 - val_Accuracy: 0.6364 - val_false_negatives: 38.0000 - val_false_positives: 25.0000 - val_true_negatives: 239.0000 - val_true_positives: 50.0000\n",
            "Epoch 73/200\n",
            "44/44 [==============================] - 1s 16ms/step - loss: 0.4368 - Accuracy: 0.8534 - false_negatives: 72.0000 - false_positives: 39.0000 - true_negatives: 1005.0000 - true_positives: 276.0000 - val_loss: 1.5589 - val_Accuracy: 0.5795 - val_false_negatives: 39.0000 - val_false_positives: 27.0000 - val_true_negatives: 237.0000 - val_true_positives: 49.0000\n",
            "Epoch 74/200\n",
            "44/44 [==============================] - 1s 16ms/step - loss: 0.4416 - Accuracy: 0.8190 - false_negatives: 73.0000 - false_positives: 44.0000 - true_negatives: 1000.0000 - true_positives: 275.0000 - val_loss: 1.4897 - val_Accuracy: 0.6023 - val_false_negatives: 36.0000 - val_false_positives: 28.0000 - val_true_negatives: 236.0000 - val_true_positives: 52.0000\n",
            "Epoch 75/200\n",
            "44/44 [==============================] - 1s 15ms/step - loss: 0.4045 - Accuracy: 0.8563 - false_negatives: 61.0000 - false_positives: 34.0000 - true_negatives: 1010.0000 - true_positives: 287.0000 - val_loss: 1.6947 - val_Accuracy: 0.5795 - val_false_negatives: 40.0000 - val_false_positives: 29.0000 - val_true_negatives: 235.0000 - val_true_positives: 48.0000\n",
            "Epoch 76/200\n",
            "44/44 [==============================] - 1s 16ms/step - loss: 0.4315 - Accuracy: 0.8420 - false_negatives: 67.0000 - false_positives: 41.0000 - true_negatives: 1003.0000 - true_positives: 281.0000 - val_loss: 1.9012 - val_Accuracy: 0.5341 - val_false_negatives: 42.0000 - val_false_positives: 36.0000 - val_true_negatives: 228.0000 - val_true_positives: 46.0000\n",
            "Epoch 77/200\n",
            "44/44 [==============================] - 1s 16ms/step - loss: 0.4906 - Accuracy: 0.8103 - false_negatives: 86.0000 - false_positives: 52.0000 - true_negatives: 992.0000 - true_positives: 262.0000 - val_loss: 1.4404 - val_Accuracy: 0.6136 - val_false_negatives: 35.0000 - val_false_positives: 32.0000 - val_true_negatives: 232.0000 - val_true_positives: 53.0000\n",
            "Epoch 78/200\n",
            "44/44 [==============================] - 1s 16ms/step - loss: 0.4991 - Accuracy: 0.8247 - false_negatives: 80.0000 - false_positives: 45.0000 - true_negatives: 999.0000 - true_positives: 268.0000 - val_loss: 1.1253 - val_Accuracy: 0.6705 - val_false_negatives: 29.0000 - val_false_positives: 26.0000 - val_true_negatives: 238.0000 - val_true_positives: 59.0000\n",
            "Epoch 79/200\n",
            "44/44 [==============================] - 1s 16ms/step - loss: 0.4415 - Accuracy: 0.8391 - false_negatives: 72.0000 - false_positives: 41.0000 - true_negatives: 1003.0000 - true_positives: 276.0000 - val_loss: 1.6705 - val_Accuracy: 0.6023 - val_false_negatives: 35.0000 - val_false_positives: 29.0000 - val_true_negatives: 235.0000 - val_true_positives: 53.0000\n",
            "Epoch 80/200\n",
            "44/44 [==============================] - 1s 16ms/step - loss: 0.4517 - Accuracy: 0.8333 - false_negatives: 66.0000 - false_positives: 43.0000 - true_negatives: 1001.0000 - true_positives: 282.0000 - val_loss: 1.6172 - val_Accuracy: 0.6023 - val_false_negatives: 39.0000 - val_false_positives: 31.0000 - val_true_negatives: 233.0000 - val_true_positives: 49.0000\n",
            "Epoch 81/200\n",
            "44/44 [==============================] - 1s 16ms/step - loss: 0.4206 - Accuracy: 0.8563 - false_negatives: 70.0000 - false_positives: 36.0000 - true_negatives: 1008.0000 - true_positives: 278.0000 - val_loss: 1.4028 - val_Accuracy: 0.6250 - val_false_negatives: 34.0000 - val_false_positives: 24.0000 - val_true_negatives: 240.0000 - val_true_positives: 54.0000\n",
            "Epoch 82/200\n",
            "44/44 [==============================] - 1s 16ms/step - loss: 0.3699 - Accuracy: 0.8506 - false_negatives: 57.0000 - false_positives: 38.0000 - true_negatives: 1006.0000 - true_positives: 291.0000 - val_loss: 1.6639 - val_Accuracy: 0.6136 - val_false_negatives: 36.0000 - val_false_positives: 29.0000 - val_true_negatives: 235.0000 - val_true_positives: 52.0000\n",
            "Epoch 83/200\n",
            "44/44 [==============================] - 1s 16ms/step - loss: 0.4342 - Accuracy: 0.8218 - false_negatives: 72.0000 - false_positives: 45.0000 - true_negatives: 999.0000 - true_positives: 276.0000 - val_loss: 1.2102 - val_Accuracy: 0.6364 - val_false_negatives: 35.0000 - val_false_positives: 24.0000 - val_true_negatives: 240.0000 - val_true_positives: 53.0000\n",
            "Epoch 84/200\n",
            "44/44 [==============================] - 1s 16ms/step - loss: 0.4255 - Accuracy: 0.8592 - false_negatives: 70.0000 - false_positives: 39.0000 - true_negatives: 1005.0000 - true_positives: 278.0000 - val_loss: 1.5104 - val_Accuracy: 0.6591 - val_false_negatives: 32.0000 - val_false_positives: 26.0000 - val_true_negatives: 238.0000 - val_true_positives: 56.0000\n",
            "Epoch 85/200\n",
            "44/44 [==============================] - 1s 16ms/step - loss: 0.4507 - Accuracy: 0.8247 - false_negatives: 70.0000 - false_positives: 48.0000 - true_negatives: 996.0000 - true_positives: 278.0000 - val_loss: 1.4368 - val_Accuracy: 0.6136 - val_false_negatives: 39.0000 - val_false_positives: 28.0000 - val_true_negatives: 236.0000 - val_true_positives: 49.0000\n",
            "Epoch 86/200\n",
            "44/44 [==============================] - 1s 16ms/step - loss: 0.5209 - Accuracy: 0.7902 - false_negatives: 90.0000 - false_positives: 50.0000 - true_negatives: 994.0000 - true_positives: 258.0000 - val_loss: 1.9421 - val_Accuracy: 0.5909 - val_false_negatives: 38.0000 - val_false_positives: 28.0000 - val_true_negatives: 236.0000 - val_true_positives: 50.0000\n",
            "Epoch 87/200\n",
            "44/44 [==============================] - 1s 16ms/step - loss: 0.4409 - Accuracy: 0.8409 - false_negatives: 76.0000 - false_positives: 46.0000 - true_negatives: 1010.0000 - true_positives: 276.0000 - val_loss: 1.2981 - val_Accuracy: 0.6477 - val_false_negatives: 33.0000 - val_false_positives: 23.0000 - val_true_negatives: 241.0000 - val_true_positives: 55.0000\n",
            "Epoch 88/200\n",
            "44/44 [==============================] - 1s 16ms/step - loss: 0.4116 - Accuracy: 0.8506 - false_negatives: 64.0000 - false_positives: 36.0000 - true_negatives: 1008.0000 - true_positives: 284.0000 - val_loss: 1.4219 - val_Accuracy: 0.6136 - val_false_negatives: 37.0000 - val_false_positives: 23.0000 - val_true_negatives: 241.0000 - val_true_positives: 51.0000\n",
            "Epoch 89/200\n",
            "44/44 [==============================] - 1s 16ms/step - loss: 0.3689 - Accuracy: 0.8678 - false_negatives: 53.0000 - false_positives: 31.0000 - true_negatives: 1013.0000 - true_positives: 295.0000 - val_loss: 1.5370 - val_Accuracy: 0.6250 - val_false_negatives: 37.0000 - val_false_positives: 26.0000 - val_true_negatives: 238.0000 - val_true_positives: 51.0000\n",
            "Epoch 90/200\n",
            "44/44 [==============================] - 1s 16ms/step - loss: 0.4139 - Accuracy: 0.8305 - false_negatives: 67.0000 - false_positives: 52.0000 - true_negatives: 992.0000 - true_positives: 281.0000 - val_loss: 1.4832 - val_Accuracy: 0.6705 - val_false_negatives: 32.0000 - val_false_positives: 27.0000 - val_true_negatives: 237.0000 - val_true_positives: 56.0000\n",
            "Epoch 91/200\n",
            "44/44 [==============================] - 1s 16ms/step - loss: 0.3670 - Accuracy: 0.8534 - false_negatives: 57.0000 - false_positives: 38.0000 - true_negatives: 1006.0000 - true_positives: 291.0000 - val_loss: 1.5399 - val_Accuracy: 0.6591 - val_false_negatives: 33.0000 - val_false_positives: 29.0000 - val_true_negatives: 235.0000 - val_true_positives: 55.0000\n",
            "Epoch 92/200\n",
            "44/44 [==============================] - 1s 16ms/step - loss: 0.4251 - Accuracy: 0.8362 - false_negatives: 65.0000 - false_positives: 45.0000 - true_negatives: 999.0000 - true_positives: 283.0000 - val_loss: 1.8515 - val_Accuracy: 0.6023 - val_false_negatives: 36.0000 - val_false_positives: 29.0000 - val_true_negatives: 235.0000 - val_true_positives: 52.0000\n",
            "Epoch 93/200\n",
            "44/44 [==============================] - 1s 16ms/step - loss: 0.3514 - Accuracy: 0.8592 - false_negatives: 57.0000 - false_positives: 35.0000 - true_negatives: 1009.0000 - true_positives: 291.0000 - val_loss: 1.7475 - val_Accuracy: 0.6136 - val_false_negatives: 35.0000 - val_false_positives: 28.0000 - val_true_negatives: 236.0000 - val_true_positives: 53.0000\n",
            "Epoch 94/200\n",
            "44/44 [==============================] - 1s 16ms/step - loss: 0.3603 - Accuracy: 0.8793 - false_negatives: 52.0000 - false_positives: 35.0000 - true_negatives: 1009.0000 - true_positives: 296.0000 - val_loss: 1.1909 - val_Accuracy: 0.6932 - val_false_negatives: 31.0000 - val_false_positives: 23.0000 - val_true_negatives: 241.0000 - val_true_positives: 57.0000\n",
            "Epoch 95/200\n",
            "44/44 [==============================] - 1s 16ms/step - loss: 0.4284 - Accuracy: 0.8362 - false_negatives: 65.0000 - false_positives: 47.0000 - true_negatives: 997.0000 - true_positives: 283.0000 - val_loss: 1.4149 - val_Accuracy: 0.6364 - val_false_negatives: 33.0000 - val_false_positives: 28.0000 - val_true_negatives: 236.0000 - val_true_positives: 55.0000\n",
            "Epoch 96/200\n",
            "44/44 [==============================] - 1s 16ms/step - loss: 0.3478 - Accuracy: 0.8736 - false_negatives: 54.0000 - false_positives: 33.0000 - true_negatives: 1011.0000 - true_positives: 294.0000 - val_loss: 1.4569 - val_Accuracy: 0.6364 - val_false_negatives: 35.0000 - val_false_positives: 24.0000 - val_true_negatives: 240.0000 - val_true_positives: 53.0000\n",
            "Epoch 97/200\n",
            "44/44 [==============================] - 1s 17ms/step - loss: 0.3962 - Accuracy: 0.8420 - false_negatives: 63.0000 - false_positives: 47.0000 - true_negatives: 997.0000 - true_positives: 285.0000 - val_loss: 1.8727 - val_Accuracy: 0.6023 - val_false_negatives: 37.0000 - val_false_positives: 31.0000 - val_true_negatives: 233.0000 - val_true_positives: 51.0000\n",
            "Epoch 98/200\n",
            "44/44 [==============================] - 1s 23ms/step - loss: 0.4194 - Accuracy: 0.8621 - false_negatives: 59.0000 - false_positives: 35.0000 - true_negatives: 1009.0000 - true_positives: 289.0000 - val_loss: 1.6421 - val_Accuracy: 0.5795 - val_false_negatives: 37.0000 - val_false_positives: 31.0000 - val_true_negatives: 233.0000 - val_true_positives: 51.0000\n",
            "Epoch 99/200\n",
            "44/44 [==============================] - 1s 25ms/step - loss: 0.3861 - Accuracy: 0.8563 - false_negatives: 57.0000 - false_positives: 38.0000 - true_negatives: 1006.0000 - true_positives: 291.0000 - val_loss: 1.8131 - val_Accuracy: 0.5909 - val_false_negatives: 37.0000 - val_false_positives: 28.0000 - val_true_negatives: 236.0000 - val_true_positives: 51.0000\n",
            "Epoch 100/200\n",
            "44/44 [==============================] - 1s 26ms/step - loss: 0.3479 - Accuracy: 0.8563 - false_negatives: 58.0000 - false_positives: 39.0000 - true_negatives: 1005.0000 - true_positives: 290.0000 - val_loss: 1.5615 - val_Accuracy: 0.6477 - val_false_negatives: 31.0000 - val_false_positives: 28.0000 - val_true_negatives: 236.0000 - val_true_positives: 57.0000\n",
            "Epoch 101/200\n",
            "44/44 [==============================] - 1s 16ms/step - loss: 0.3721 - Accuracy: 0.8592 - false_negatives: 56.0000 - false_positives: 40.0000 - true_negatives: 1004.0000 - true_positives: 292.0000 - val_loss: 1.6363 - val_Accuracy: 0.6477 - val_false_negatives: 36.0000 - val_false_positives: 25.0000 - val_true_negatives: 239.0000 - val_true_positives: 52.0000\n",
            "Epoch 102/200\n",
            "44/44 [==============================] - 1s 16ms/step - loss: 0.3752 - Accuracy: 0.8391 - false_negatives: 63.0000 - false_positives: 44.0000 - true_negatives: 1000.0000 - true_positives: 285.0000 - val_loss: 1.6060 - val_Accuracy: 0.5909 - val_false_negatives: 37.0000 - val_false_positives: 26.0000 - val_true_negatives: 238.0000 - val_true_positives: 51.0000\n",
            "Epoch 103/200\n",
            "44/44 [==============================] - 1s 16ms/step - loss: 0.3613 - Accuracy: 0.8621 - false_negatives: 59.0000 - false_positives: 36.0000 - true_negatives: 1008.0000 - true_positives: 289.0000 - val_loss: 1.4979 - val_Accuracy: 0.6477 - val_false_negatives: 32.0000 - val_false_positives: 25.0000 - val_true_negatives: 239.0000 - val_true_positives: 56.0000\n",
            "Epoch 104/200\n",
            "44/44 [==============================] - 1s 16ms/step - loss: 0.3730 - Accuracy: 0.8506 - false_negatives: 55.0000 - false_positives: 44.0000 - true_negatives: 1000.0000 - true_positives: 293.0000 - val_loss: 1.3295 - val_Accuracy: 0.6477 - val_false_negatives: 35.0000 - val_false_positives: 21.0000 - val_true_negatives: 243.0000 - val_true_positives: 53.0000\n",
            "Epoch 105/200\n",
            "44/44 [==============================] - 1s 16ms/step - loss: 0.3230 - Accuracy: 0.8764 - false_negatives: 51.0000 - false_positives: 35.0000 - true_negatives: 1009.0000 - true_positives: 297.0000 - val_loss: 1.4686 - val_Accuracy: 0.6364 - val_false_negatives: 36.0000 - val_false_positives: 27.0000 - val_true_negatives: 237.0000 - val_true_positives: 52.0000\n",
            "Epoch 106/200\n",
            "44/44 [==============================] - 1s 16ms/step - loss: 0.3634 - Accuracy: 0.8736 - false_negatives: 51.0000 - false_positives: 38.0000 - true_negatives: 1006.0000 - true_positives: 297.0000 - val_loss: 1.4142 - val_Accuracy: 0.6477 - val_false_negatives: 34.0000 - val_false_positives: 25.0000 - val_true_negatives: 239.0000 - val_true_positives: 54.0000\n",
            "Epoch 107/200\n",
            "44/44 [==============================] - 1s 16ms/step - loss: 0.3154 - Accuracy: 0.8764 - false_negatives: 50.0000 - false_positives: 33.0000 - true_negatives: 1011.0000 - true_positives: 298.0000 - val_loss: 2.0505 - val_Accuracy: 0.5682 - val_false_negatives: 39.0000 - val_false_positives: 33.0000 - val_true_negatives: 231.0000 - val_true_positives: 49.0000\n",
            "Epoch 108/200\n",
            "44/44 [==============================] - 1s 16ms/step - loss: 0.3071 - Accuracy: 0.8707 - false_negatives: 55.0000 - false_positives: 34.0000 - true_negatives: 1010.0000 - true_positives: 293.0000 - val_loss: 1.7878 - val_Accuracy: 0.6023 - val_false_negatives: 36.0000 - val_false_positives: 27.0000 - val_true_negatives: 237.0000 - val_true_positives: 52.0000\n",
            "Epoch 109/200\n",
            "44/44 [==============================] - 1s 18ms/step - loss: 0.3549 - Accuracy: 0.8678 - false_negatives: 53.0000 - false_positives: 37.0000 - true_negatives: 1007.0000 - true_positives: 295.0000 - val_loss: 1.2216 - val_Accuracy: 0.6477 - val_false_negatives: 37.0000 - val_false_positives: 24.0000 - val_true_negatives: 240.0000 - val_true_positives: 51.0000\n",
            "Epoch 110/200\n",
            "44/44 [==============================] - 1s 16ms/step - loss: 0.2810 - Accuracy: 0.8879 - false_negatives: 46.0000 - false_positives: 34.0000 - true_negatives: 1010.0000 - true_positives: 302.0000 - val_loss: 1.7717 - val_Accuracy: 0.6477 - val_false_negatives: 34.0000 - val_false_positives: 28.0000 - val_true_negatives: 236.0000 - val_true_positives: 54.0000\n",
            "Epoch 111/200\n",
            "44/44 [==============================] - 1s 16ms/step - loss: 0.3653 - Accuracy: 0.8678 - false_negatives: 54.0000 - false_positives: 37.0000 - true_negatives: 1007.0000 - true_positives: 294.0000 - val_loss: 1.4656 - val_Accuracy: 0.5568 - val_false_negatives: 40.0000 - val_false_positives: 28.0000 - val_true_negatives: 236.0000 - val_true_positives: 48.0000\n",
            "Epoch 112/200\n",
            "44/44 [==============================] - 1s 17ms/step - loss: 0.3279 - Accuracy: 0.8678 - false_negatives: 52.0000 - false_positives: 37.0000 - true_negatives: 1007.0000 - true_positives: 296.0000 - val_loss: 1.3458 - val_Accuracy: 0.6136 - val_false_negatives: 38.0000 - val_false_positives: 24.0000 - val_true_negatives: 240.0000 - val_true_positives: 50.0000\n",
            "Epoch 113/200\n",
            "44/44 [==============================] - 1s 17ms/step - loss: 0.3640 - Accuracy: 0.8678 - false_negatives: 54.0000 - false_positives: 41.0000 - true_negatives: 1003.0000 - true_positives: 294.0000 - val_loss: 1.5716 - val_Accuracy: 0.6136 - val_false_negatives: 35.0000 - val_false_positives: 31.0000 - val_true_negatives: 233.0000 - val_true_positives: 53.0000\n",
            "Epoch 114/200\n",
            "44/44 [==============================] - 1s 17ms/step - loss: 0.3108 - Accuracy: 0.8621 - false_negatives: 64.0000 - false_positives: 35.0000 - true_negatives: 1009.0000 - true_positives: 284.0000 - val_loss: 1.6599 - val_Accuracy: 0.6250 - val_false_negatives: 33.0000 - val_false_positives: 27.0000 - val_true_negatives: 237.0000 - val_true_positives: 55.0000\n",
            "Epoch 115/200\n",
            "44/44 [==============================] - 1s 17ms/step - loss: 0.3352 - Accuracy: 0.8764 - false_negatives: 48.0000 - false_positives: 34.0000 - true_negatives: 1010.0000 - true_positives: 300.0000 - val_loss: 1.9363 - val_Accuracy: 0.6136 - val_false_negatives: 36.0000 - val_false_positives: 28.0000 - val_true_negatives: 236.0000 - val_true_positives: 52.0000\n",
            "Epoch 116/200\n",
            "44/44 [==============================] - 1s 16ms/step - loss: 0.3069 - Accuracy: 0.8937 - false_negatives: 45.0000 - false_positives: 33.0000 - true_negatives: 1011.0000 - true_positives: 303.0000 - val_loss: 2.0864 - val_Accuracy: 0.6250 - val_false_negatives: 37.0000 - val_false_positives: 30.0000 - val_true_negatives: 234.0000 - val_true_positives: 51.0000\n",
            "Epoch 117/200\n",
            "44/44 [==============================] - 1s 17ms/step - loss: 0.3116 - Accuracy: 0.8707 - false_negatives: 50.0000 - false_positives: 37.0000 - true_negatives: 1007.0000 - true_positives: 298.0000 - val_loss: 1.4864 - val_Accuracy: 0.6023 - val_false_negatives: 37.0000 - val_false_positives: 30.0000 - val_true_negatives: 234.0000 - val_true_positives: 51.0000\n",
            "Epoch 118/200\n",
            "44/44 [==============================] - 1s 16ms/step - loss: 0.2930 - Accuracy: 0.9080 - false_negatives: 42.0000 - false_positives: 26.0000 - true_negatives: 1018.0000 - true_positives: 306.0000 - val_loss: 1.6639 - val_Accuracy: 0.6364 - val_false_negatives: 33.0000 - val_false_positives: 28.0000 - val_true_negatives: 236.0000 - val_true_positives: 55.0000\n",
            "Epoch 119/200\n",
            "44/44 [==============================] - 1s 17ms/step - loss: 0.3149 - Accuracy: 0.8879 - false_negatives: 43.0000 - false_positives: 33.0000 - true_negatives: 1011.0000 - true_positives: 305.0000 - val_loss: 1.4420 - val_Accuracy: 0.6136 - val_false_negatives: 36.0000 - val_false_positives: 31.0000 - val_true_negatives: 233.0000 - val_true_positives: 52.0000\n",
            "Epoch 120/200\n",
            "44/44 [==============================] - 1s 17ms/step - loss: 0.3060 - Accuracy: 0.8851 - false_negatives: 45.0000 - false_positives: 31.0000 - true_negatives: 1013.0000 - true_positives: 303.0000 - val_loss: 1.7466 - val_Accuracy: 0.6477 - val_false_negatives: 33.0000 - val_false_positives: 28.0000 - val_true_negatives: 236.0000 - val_true_positives: 55.0000\n",
            "Epoch 121/200\n",
            "44/44 [==============================] - 1s 17ms/step - loss: 0.3163 - Accuracy: 0.8851 - false_negatives: 48.0000 - false_positives: 36.0000 - true_negatives: 1008.0000 - true_positives: 300.0000 - val_loss: 1.9302 - val_Accuracy: 0.5909 - val_false_negatives: 38.0000 - val_false_positives: 30.0000 - val_true_negatives: 234.0000 - val_true_positives: 50.0000\n",
            "Epoch 122/200\n",
            "44/44 [==============================] - 1s 16ms/step - loss: 0.2963 - Accuracy: 0.8793 - false_negatives: 50.0000 - false_positives: 37.0000 - true_negatives: 1007.0000 - true_positives: 298.0000 - val_loss: 1.7637 - val_Accuracy: 0.6023 - val_false_negatives: 37.0000 - val_false_positives: 30.0000 - val_true_negatives: 234.0000 - val_true_positives: 51.0000\n",
            "Epoch 123/200\n",
            "44/44 [==============================] - 1s 17ms/step - loss: 0.2413 - Accuracy: 0.9109 - false_negatives: 34.0000 - false_positives: 27.0000 - true_negatives: 1017.0000 - true_positives: 314.0000 - val_loss: 2.2544 - val_Accuracy: 0.5682 - val_false_negatives: 38.0000 - val_false_positives: 34.0000 - val_true_negatives: 230.0000 - val_true_positives: 50.0000\n",
            "Epoch 124/200\n",
            "44/44 [==============================] - 1s 16ms/step - loss: 0.3574 - Accuracy: 0.8822 - false_negatives: 48.0000 - false_positives: 38.0000 - true_negatives: 1006.0000 - true_positives: 300.0000 - val_loss: 1.3084 - val_Accuracy: 0.6136 - val_false_negatives: 39.0000 - val_false_positives: 28.0000 - val_true_negatives: 236.0000 - val_true_positives: 49.0000\n",
            "Epoch 125/200\n",
            "44/44 [==============================] - 1s 17ms/step - loss: 0.3183 - Accuracy: 0.9023 - false_negatives: 43.0000 - false_positives: 27.0000 - true_negatives: 1017.0000 - true_positives: 305.0000 - val_loss: 2.0616 - val_Accuracy: 0.5909 - val_false_negatives: 38.0000 - val_false_positives: 32.0000 - val_true_negatives: 232.0000 - val_true_positives: 50.0000\n",
            "Epoch 126/200\n",
            "44/44 [==============================] - 1s 17ms/step - loss: 0.3191 - Accuracy: 0.8707 - false_negatives: 47.0000 - false_positives: 37.0000 - true_negatives: 1007.0000 - true_positives: 301.0000 - val_loss: 1.7636 - val_Accuracy: 0.6136 - val_false_negatives: 36.0000 - val_false_positives: 33.0000 - val_true_negatives: 231.0000 - val_true_positives: 52.0000\n",
            "Epoch 127/200\n",
            "44/44 [==============================] - 1s 17ms/step - loss: 0.2783 - Accuracy: 0.8994 - false_negatives: 45.0000 - false_positives: 31.0000 - true_negatives: 1013.0000 - true_positives: 303.0000 - val_loss: 2.3461 - val_Accuracy: 0.5909 - val_false_negatives: 36.0000 - val_false_positives: 32.0000 - val_true_negatives: 232.0000 - val_true_positives: 52.0000\n",
            "Epoch 128/200\n",
            "44/44 [==============================] - 1s 17ms/step - loss: 0.3821 - Accuracy: 0.8621 - false_negatives: 56.0000 - false_positives: 35.0000 - true_negatives: 1009.0000 - true_positives: 292.0000 - val_loss: 1.6552 - val_Accuracy: 0.5909 - val_false_negatives: 38.0000 - val_false_positives: 32.0000 - val_true_negatives: 232.0000 - val_true_positives: 50.0000\n",
            "Epoch 129/200\n",
            "44/44 [==============================] - 1s 17ms/step - loss: 0.3336 - Accuracy: 0.8822 - false_negatives: 48.0000 - false_positives: 34.0000 - true_negatives: 1010.0000 - true_positives: 300.0000 - val_loss: 1.6894 - val_Accuracy: 0.5682 - val_false_negatives: 38.0000 - val_false_positives: 35.0000 - val_true_negatives: 229.0000 - val_true_positives: 50.0000\n",
            "Epoch 130/200\n",
            "44/44 [==============================] - 1s 17ms/step - loss: 0.3108 - Accuracy: 0.8908 - false_negatives: 45.0000 - false_positives: 34.0000 - true_negatives: 1010.0000 - true_positives: 303.0000 - val_loss: 2.5056 - val_Accuracy: 0.6250 - val_false_negatives: 37.0000 - val_false_positives: 32.0000 - val_true_negatives: 232.0000 - val_true_positives: 51.0000\n",
            "Epoch 131/200\n",
            "44/44 [==============================] - 1s 17ms/step - loss: 0.2993 - Accuracy: 0.8937 - false_negatives: 43.0000 - false_positives: 31.0000 - true_negatives: 1013.0000 - true_positives: 305.0000 - val_loss: 1.7572 - val_Accuracy: 0.6364 - val_false_negatives: 36.0000 - val_false_positives: 29.0000 - val_true_negatives: 235.0000 - val_true_positives: 52.0000\n",
            "Epoch 132/200\n",
            "44/44 [==============================] - 1s 17ms/step - loss: 0.2864 - Accuracy: 0.8822 - false_negatives: 45.0000 - false_positives: 36.0000 - true_negatives: 1008.0000 - true_positives: 303.0000 - val_loss: 2.9273 - val_Accuracy: 0.5795 - val_false_negatives: 37.0000 - val_false_positives: 34.0000 - val_true_negatives: 230.0000 - val_true_positives: 51.0000\n",
            "Epoch 133/200\n",
            "44/44 [==============================] - 1s 17ms/step - loss: 0.3572 - Accuracy: 0.8822 - false_negatives: 46.0000 - false_positives: 35.0000 - true_negatives: 1009.0000 - true_positives: 302.0000 - val_loss: 2.5614 - val_Accuracy: 0.6023 - val_false_negatives: 38.0000 - val_false_positives: 34.0000 - val_true_negatives: 230.0000 - val_true_positives: 50.0000\n",
            "Epoch 134/200\n",
            "44/44 [==============================] - 1s 17ms/step - loss: 0.2929 - Accuracy: 0.9109 - false_negatives: 38.0000 - false_positives: 26.0000 - true_negatives: 1018.0000 - true_positives: 310.0000 - val_loss: 2.0370 - val_Accuracy: 0.6023 - val_false_negatives: 37.0000 - val_false_positives: 32.0000 - val_true_negatives: 232.0000 - val_true_positives: 51.0000\n",
            "Epoch 135/200\n",
            "44/44 [==============================] - 1s 16ms/step - loss: 0.2923 - Accuracy: 0.8736 - false_negatives: 46.0000 - false_positives: 38.0000 - true_negatives: 1006.0000 - true_positives: 302.0000 - val_loss: 1.5459 - val_Accuracy: 0.6364 - val_false_negatives: 33.0000 - val_false_positives: 27.0000 - val_true_negatives: 237.0000 - val_true_positives: 55.0000\n",
            "Epoch 136/200\n",
            "44/44 [==============================] - 1s 16ms/step - loss: 0.2999 - Accuracy: 0.8793 - false_negatives: 48.0000 - false_positives: 35.0000 - true_negatives: 1009.0000 - true_positives: 300.0000 - val_loss: 1.7183 - val_Accuracy: 0.6023 - val_false_negatives: 35.0000 - val_false_positives: 35.0000 - val_true_negatives: 229.0000 - val_true_positives: 53.0000\n",
            "Epoch 137/200\n",
            "44/44 [==============================] - 1s 17ms/step - loss: 0.2817 - Accuracy: 0.9052 - false_negatives: 41.0000 - false_positives: 25.0000 - true_negatives: 1019.0000 - true_positives: 307.0000 - val_loss: 1.5279 - val_Accuracy: 0.6364 - val_false_negatives: 34.0000 - val_false_positives: 31.0000 - val_true_negatives: 233.0000 - val_true_positives: 54.0000\n",
            "Epoch 138/200\n",
            "44/44 [==============================] - 1s 16ms/step - loss: 0.2935 - Accuracy: 0.8937 - false_negatives: 43.0000 - false_positives: 31.0000 - true_negatives: 1013.0000 - true_positives: 305.0000 - val_loss: 1.5213 - val_Accuracy: 0.6023 - val_false_negatives: 35.0000 - val_false_positives: 32.0000 - val_true_negatives: 232.0000 - val_true_positives: 53.0000\n",
            "Epoch 139/200\n",
            "44/44 [==============================] - 1s 16ms/step - loss: 0.2632 - Accuracy: 0.8966 - false_negatives: 42.0000 - false_positives: 32.0000 - true_negatives: 1012.0000 - true_positives: 306.0000 - val_loss: 1.8726 - val_Accuracy: 0.6250 - val_false_negatives: 35.0000 - val_false_positives: 32.0000 - val_true_negatives: 232.0000 - val_true_positives: 53.0000\n",
            "Epoch 140/200\n",
            "44/44 [==============================] - 1s 16ms/step - loss: 0.2252 - Accuracy: 0.9224 - false_negatives: 30.0000 - false_positives: 20.0000 - true_negatives: 1024.0000 - true_positives: 318.0000 - val_loss: 1.7328 - val_Accuracy: 0.6023 - val_false_negatives: 37.0000 - val_false_positives: 32.0000 - val_true_negatives: 232.0000 - val_true_positives: 51.0000\n",
            "Epoch 141/200\n",
            "44/44 [==============================] - 1s 16ms/step - loss: 0.2146 - Accuracy: 0.9138 - false_negatives: 32.0000 - false_positives: 28.0000 - true_negatives: 1016.0000 - true_positives: 316.0000 - val_loss: 1.6202 - val_Accuracy: 0.5795 - val_false_negatives: 37.0000 - val_false_positives: 32.0000 - val_true_negatives: 232.0000 - val_true_positives: 51.0000\n",
            "Epoch 142/200\n",
            "44/44 [==============================] - 1s 16ms/step - loss: 0.1981 - Accuracy: 0.9339 - false_negatives: 29.0000 - false_positives: 19.0000 - true_negatives: 1025.0000 - true_positives: 319.0000 - val_loss: 1.8095 - val_Accuracy: 0.6023 - val_false_negatives: 37.0000 - val_false_positives: 32.0000 - val_true_negatives: 232.0000 - val_true_positives: 51.0000\n",
            "Epoch 143/200\n",
            "44/44 [==============================] - 1s 17ms/step - loss: 0.2289 - Accuracy: 0.9195 - false_negatives: 33.0000 - false_positives: 25.0000 - true_negatives: 1019.0000 - true_positives: 315.0000 - val_loss: 2.9461 - val_Accuracy: 0.5682 - val_false_negatives: 38.0000 - val_false_positives: 36.0000 - val_true_negatives: 228.0000 - val_true_positives: 50.0000\n",
            "Epoch 144/200\n",
            "44/44 [==============================] - 1s 17ms/step - loss: 0.2570 - Accuracy: 0.9109 - false_negatives: 38.0000 - false_positives: 30.0000 - true_negatives: 1014.0000 - true_positives: 310.0000 - val_loss: 1.4942 - val_Accuracy: 0.6364 - val_false_negatives: 34.0000 - val_false_positives: 29.0000 - val_true_negatives: 235.0000 - val_true_positives: 54.0000\n",
            "Epoch 145/200\n",
            "44/44 [==============================] - 1s 16ms/step - loss: 0.2547 - Accuracy: 0.9205 - false_negatives: 33.0000 - false_positives: 23.0000 - true_negatives: 1033.0000 - true_positives: 319.0000 - val_loss: 1.5378 - val_Accuracy: 0.5682 - val_false_negatives: 39.0000 - val_false_positives: 30.0000 - val_true_negatives: 234.0000 - val_true_positives: 49.0000\n",
            "Epoch 146/200\n",
            "44/44 [==============================] - 1s 16ms/step - loss: 0.2713 - Accuracy: 0.8994 - false_negatives: 39.0000 - false_positives: 30.0000 - true_negatives: 1014.0000 - true_positives: 309.0000 - val_loss: 2.0160 - val_Accuracy: 0.6250 - val_false_negatives: 35.0000 - val_false_positives: 29.0000 - val_true_negatives: 235.0000 - val_true_positives: 53.0000\n",
            "Epoch 147/200\n",
            "44/44 [==============================] - 1s 17ms/step - loss: 0.2327 - Accuracy: 0.9138 - false_negatives: 32.0000 - false_positives: 24.0000 - true_negatives: 1020.0000 - true_positives: 316.0000 - val_loss: 1.7054 - val_Accuracy: 0.6136 - val_false_negatives: 34.0000 - val_false_positives: 31.0000 - val_true_negatives: 233.0000 - val_true_positives: 54.0000\n",
            "Epoch 148/200\n",
            "44/44 [==============================] - 1s 17ms/step - loss: 0.2203 - Accuracy: 0.9310 - false_negatives: 26.0000 - false_positives: 20.0000 - true_negatives: 1024.0000 - true_positives: 322.0000 - val_loss: 1.7543 - val_Accuracy: 0.6136 - val_false_negatives: 34.0000 - val_false_positives: 33.0000 - val_true_negatives: 231.0000 - val_true_positives: 54.0000\n",
            "Epoch 149/200\n",
            "44/44 [==============================] - 1s 17ms/step - loss: 0.2158 - Accuracy: 0.9195 - false_negatives: 31.0000 - false_positives: 26.0000 - true_negatives: 1018.0000 - true_positives: 317.0000 - val_loss: 1.5222 - val_Accuracy: 0.5909 - val_false_negatives: 39.0000 - val_false_positives: 34.0000 - val_true_negatives: 230.0000 - val_true_positives: 49.0000\n",
            "Epoch 150/200\n",
            "44/44 [==============================] - 1s 16ms/step - loss: 0.2235 - Accuracy: 0.9205 - false_negatives: 31.0000 - false_positives: 27.0000 - true_negatives: 1029.0000 - true_positives: 321.0000 - val_loss: 1.6227 - val_Accuracy: 0.6250 - val_false_negatives: 34.0000 - val_false_positives: 33.0000 - val_true_negatives: 231.0000 - val_true_positives: 54.0000\n",
            "Epoch 151/200\n",
            "44/44 [==============================] - 1s 17ms/step - loss: 0.1987 - Accuracy: 0.9253 - false_negatives: 29.0000 - false_positives: 22.0000 - true_negatives: 1022.0000 - true_positives: 319.0000 - val_loss: 2.0450 - val_Accuracy: 0.6591 - val_false_negatives: 33.0000 - val_false_positives: 28.0000 - val_true_negatives: 236.0000 - val_true_positives: 55.0000\n",
            "Epoch 152/200\n",
            "44/44 [==============================] - 1s 16ms/step - loss: 0.2390 - Accuracy: 0.9195 - false_negatives: 29.0000 - false_positives: 22.0000 - true_negatives: 1022.0000 - true_positives: 319.0000 - val_loss: 2.8050 - val_Accuracy: 0.6023 - val_false_negatives: 36.0000 - val_false_positives: 32.0000 - val_true_negatives: 232.0000 - val_true_positives: 52.0000\n",
            "Epoch 153/200\n",
            "44/44 [==============================] - 1s 16ms/step - loss: 0.2909 - Accuracy: 0.8822 - false_negatives: 43.0000 - false_positives: 34.0000 - true_negatives: 1010.0000 - true_positives: 305.0000 - val_loss: 1.9190 - val_Accuracy: 0.6136 - val_false_negatives: 34.0000 - val_false_positives: 32.0000 - val_true_negatives: 232.0000 - val_true_positives: 54.0000\n",
            "Epoch 154/200\n",
            "44/44 [==============================] - 1s 17ms/step - loss: 0.3118 - Accuracy: 0.8764 - false_negatives: 46.0000 - false_positives: 38.0000 - true_negatives: 1006.0000 - true_positives: 302.0000 - val_loss: 2.0589 - val_Accuracy: 0.6136 - val_false_negatives: 35.0000 - val_false_positives: 33.0000 - val_true_negatives: 231.0000 - val_true_positives: 53.0000\n",
            "Epoch 155/200\n",
            "44/44 [==============================] - 1s 17ms/step - loss: 0.2011 - Accuracy: 0.9224 - false_negatives: 29.0000 - false_positives: 20.0000 - true_negatives: 1024.0000 - true_positives: 319.0000 - val_loss: 2.6826 - val_Accuracy: 0.6250 - val_false_negatives: 34.0000 - val_false_positives: 31.0000 - val_true_negatives: 233.0000 - val_true_positives: 54.0000\n",
            "Epoch 156/200\n",
            "44/44 [==============================] - 1s 16ms/step - loss: 0.2022 - Accuracy: 0.9176 - false_negatives: 32.0000 - false_positives: 27.0000 - true_negatives: 1029.0000 - true_positives: 320.0000 - val_loss: 1.8052 - val_Accuracy: 0.6477 - val_false_negatives: 32.0000 - val_false_positives: 28.0000 - val_true_negatives: 236.0000 - val_true_positives: 56.0000\n",
            "Epoch 157/200\n",
            "44/44 [==============================] - 1s 16ms/step - loss: 0.2635 - Accuracy: 0.8937 - false_negatives: 40.0000 - false_positives: 32.0000 - true_negatives: 1012.0000 - true_positives: 308.0000 - val_loss: 1.9125 - val_Accuracy: 0.6591 - val_false_negatives: 34.0000 - val_false_positives: 30.0000 - val_true_negatives: 234.0000 - val_true_positives: 54.0000\n",
            "Epoch 158/200\n",
            "44/44 [==============================] - 1s 17ms/step - loss: 0.2484 - Accuracy: 0.9138 - false_negatives: 36.0000 - false_positives: 28.0000 - true_negatives: 1016.0000 - true_positives: 312.0000 - val_loss: 1.9135 - val_Accuracy: 0.6136 - val_false_negatives: 35.0000 - val_false_positives: 32.0000 - val_true_negatives: 232.0000 - val_true_positives: 53.0000\n",
            "Epoch 159/200\n",
            "44/44 [==============================] - 1s 17ms/step - loss: 0.2428 - Accuracy: 0.9253 - false_negatives: 29.0000 - false_positives: 21.0000 - true_negatives: 1023.0000 - true_positives: 319.0000 - val_loss: 1.9485 - val_Accuracy: 0.6250 - val_false_negatives: 34.0000 - val_false_positives: 28.0000 - val_true_negatives: 236.0000 - val_true_positives: 54.0000\n",
            "Epoch 160/200\n",
            "44/44 [==============================] - 1s 17ms/step - loss: 0.2749 - Accuracy: 0.8966 - false_negatives: 37.0000 - false_positives: 32.0000 - true_negatives: 1012.0000 - true_positives: 311.0000 - val_loss: 1.8363 - val_Accuracy: 0.6023 - val_false_negatives: 36.0000 - val_false_positives: 32.0000 - val_true_negatives: 232.0000 - val_true_positives: 52.0000\n",
            "Epoch 161/200\n",
            "44/44 [==============================] - 1s 17ms/step - loss: 0.2169 - Accuracy: 0.9282 - false_negatives: 27.0000 - false_positives: 24.0000 - true_negatives: 1020.0000 - true_positives: 321.0000 - val_loss: 1.9244 - val_Accuracy: 0.6250 - val_false_negatives: 34.0000 - val_false_positives: 30.0000 - val_true_negatives: 234.0000 - val_true_positives: 54.0000\n",
            "Epoch 162/200\n",
            "44/44 [==============================] - 1s 17ms/step - loss: 0.2097 - Accuracy: 0.9282 - false_negatives: 25.0000 - false_positives: 20.0000 - true_negatives: 1024.0000 - true_positives: 323.0000 - val_loss: 2.1151 - val_Accuracy: 0.6136 - val_false_negatives: 34.0000 - val_false_positives: 30.0000 - val_true_negatives: 234.0000 - val_true_positives: 54.0000\n",
            "Epoch 163/200\n",
            "44/44 [==============================] - 1s 17ms/step - loss: 0.2253 - Accuracy: 0.9052 - false_negatives: 39.0000 - false_positives: 28.0000 - true_negatives: 1016.0000 - true_positives: 309.0000 - val_loss: 2.2373 - val_Accuracy: 0.6364 - val_false_negatives: 33.0000 - val_false_positives: 30.0000 - val_true_negatives: 234.0000 - val_true_positives: 55.0000\n",
            "Epoch 164/200\n",
            "44/44 [==============================] - 1s 17ms/step - loss: 0.2731 - Accuracy: 0.8966 - false_negatives: 38.0000 - false_positives: 31.0000 - true_negatives: 1013.0000 - true_positives: 310.0000 - val_loss: 1.7181 - val_Accuracy: 0.6136 - val_false_negatives: 35.0000 - val_false_positives: 31.0000 - val_true_negatives: 233.0000 - val_true_positives: 53.0000\n",
            "Epoch 165/200\n",
            "44/44 [==============================] - 1s 17ms/step - loss: 0.2182 - Accuracy: 0.9253 - false_negatives: 29.0000 - false_positives: 22.0000 - true_negatives: 1022.0000 - true_positives: 319.0000 - val_loss: 1.5954 - val_Accuracy: 0.6477 - val_false_negatives: 32.0000 - val_false_positives: 29.0000 - val_true_negatives: 235.0000 - val_true_positives: 56.0000\n",
            "Epoch 166/200\n",
            "44/44 [==============================] - 1s 17ms/step - loss: 0.2002 - Accuracy: 0.9253 - false_negatives: 27.0000 - false_positives: 21.0000 - true_negatives: 1023.0000 - true_positives: 321.0000 - val_loss: 2.1019 - val_Accuracy: 0.6250 - val_false_negatives: 34.0000 - val_false_positives: 27.0000 - val_true_negatives: 237.0000 - val_true_positives: 54.0000\n",
            "Epoch 167/200\n",
            "44/44 [==============================] - 1s 17ms/step - loss: 0.2153 - Accuracy: 0.9339 - false_negatives: 23.0000 - false_positives: 19.0000 - true_negatives: 1025.0000 - true_positives: 325.0000 - val_loss: 1.5423 - val_Accuracy: 0.6136 - val_false_negatives: 35.0000 - val_false_positives: 31.0000 - val_true_negatives: 233.0000 - val_true_positives: 53.0000\n",
            "Epoch 168/200\n",
            "44/44 [==============================] - 1s 17ms/step - loss: 0.2097 - Accuracy: 0.9195 - false_negatives: 29.0000 - false_positives: 24.0000 - true_negatives: 1020.0000 - true_positives: 319.0000 - val_loss: 1.7844 - val_Accuracy: 0.6364 - val_false_negatives: 34.0000 - val_false_positives: 30.0000 - val_true_negatives: 234.0000 - val_true_positives: 54.0000\n",
            "Epoch 169/200\n",
            "44/44 [==============================] - 1s 17ms/step - loss: 0.2158 - Accuracy: 0.9109 - false_negatives: 32.0000 - false_positives: 28.0000 - true_negatives: 1016.0000 - true_positives: 316.0000 - val_loss: 2.2764 - val_Accuracy: 0.5909 - val_false_negatives: 36.0000 - val_false_positives: 33.0000 - val_true_negatives: 231.0000 - val_true_positives: 52.0000\n",
            "Epoch 170/200\n",
            "44/44 [==============================] - 1s 18ms/step - loss: 0.1810 - Accuracy: 0.9483 - false_negatives: 22.0000 - false_positives: 17.0000 - true_negatives: 1027.0000 - true_positives: 326.0000 - val_loss: 2.2973 - val_Accuracy: 0.6023 - val_false_negatives: 36.0000 - val_false_positives: 33.0000 - val_true_negatives: 231.0000 - val_true_positives: 52.0000\n",
            "Epoch 171/200\n",
            "44/44 [==============================] - 1s 17ms/step - loss: 0.2020 - Accuracy: 0.9253 - false_negatives: 28.0000 - false_positives: 24.0000 - true_negatives: 1020.0000 - true_positives: 320.0000 - val_loss: 1.5502 - val_Accuracy: 0.6023 - val_false_negatives: 36.0000 - val_false_positives: 34.0000 - val_true_negatives: 230.0000 - val_true_positives: 52.0000\n",
            "Epoch 172/200\n",
            "44/44 [==============================] - 1s 17ms/step - loss: 0.2355 - Accuracy: 0.9023 - false_negatives: 38.0000 - false_positives: 29.0000 - true_negatives: 1015.0000 - true_positives: 310.0000 - val_loss: 2.0697 - val_Accuracy: 0.6364 - val_false_negatives: 35.0000 - val_false_positives: 30.0000 - val_true_negatives: 234.0000 - val_true_positives: 53.0000\n",
            "Epoch 173/200\n",
            "44/44 [==============================] - 1s 17ms/step - loss: 0.2039 - Accuracy: 0.9425 - false_negatives: 24.0000 - false_positives: 17.0000 - true_negatives: 1027.0000 - true_positives: 324.0000 - val_loss: 2.0646 - val_Accuracy: 0.6250 - val_false_negatives: 34.0000 - val_false_positives: 32.0000 - val_true_negatives: 232.0000 - val_true_positives: 54.0000\n",
            "Epoch 174/200\n",
            "44/44 [==============================] - 1s 17ms/step - loss: 0.1461 - Accuracy: 0.9511 - false_negatives: 18.0000 - false_positives: 13.0000 - true_negatives: 1031.0000 - true_positives: 330.0000 - val_loss: 1.9982 - val_Accuracy: 0.6250 - val_false_negatives: 37.0000 - val_false_positives: 30.0000 - val_true_negatives: 234.0000 - val_true_positives: 51.0000\n",
            "Epoch 175/200\n",
            "44/44 [==============================] - 1s 17ms/step - loss: 0.1838 - Accuracy: 0.9339 - false_negatives: 24.0000 - false_positives: 21.0000 - true_negatives: 1023.0000 - true_positives: 324.0000 - val_loss: 3.6389 - val_Accuracy: 0.5795 - val_false_negatives: 37.0000 - val_false_positives: 34.0000 - val_true_negatives: 230.0000 - val_true_positives: 51.0000\n",
            "Epoch 176/200\n",
            "44/44 [==============================] - 1s 17ms/step - loss: 0.1735 - Accuracy: 0.9425 - false_negatives: 22.0000 - false_positives: 18.0000 - true_negatives: 1026.0000 - true_positives: 326.0000 - val_loss: 2.4241 - val_Accuracy: 0.5909 - val_false_negatives: 37.0000 - val_false_positives: 34.0000 - val_true_negatives: 230.0000 - val_true_positives: 51.0000\n",
            "Epoch 177/200\n",
            "44/44 [==============================] - 1s 17ms/step - loss: 0.2636 - Accuracy: 0.9282 - false_negatives: 27.0000 - false_positives: 23.0000 - true_negatives: 1021.0000 - true_positives: 321.0000 - val_loss: 2.4724 - val_Accuracy: 0.6023 - val_false_negatives: 35.0000 - val_false_positives: 34.0000 - val_true_negatives: 230.0000 - val_true_positives: 53.0000\n",
            "Epoch 178/200\n",
            "44/44 [==============================] - 1s 17ms/step - loss: 0.2843 - Accuracy: 0.8994 - false_negatives: 39.0000 - false_positives: 32.0000 - true_negatives: 1012.0000 - true_positives: 309.0000 - val_loss: 2.6495 - val_Accuracy: 0.6023 - val_false_negatives: 35.0000 - val_false_positives: 29.0000 - val_true_negatives: 235.0000 - val_true_positives: 53.0000\n",
            "Epoch 179/200\n",
            "44/44 [==============================] - 1s 17ms/step - loss: 0.1895 - Accuracy: 0.9253 - false_negatives: 29.0000 - false_positives: 23.0000 - true_negatives: 1021.0000 - true_positives: 319.0000 - val_loss: 2.4435 - val_Accuracy: 0.6250 - val_false_negatives: 33.0000 - val_false_positives: 30.0000 - val_true_negatives: 234.0000 - val_true_positives: 55.0000\n",
            "Epoch 180/200\n",
            "44/44 [==============================] - 1s 17ms/step - loss: 0.1717 - Accuracy: 0.9483 - false_negatives: 19.0000 - false_positives: 17.0000 - true_negatives: 1027.0000 - true_positives: 329.0000 - val_loss: 2.2411 - val_Accuracy: 0.6023 - val_false_negatives: 35.0000 - val_false_positives: 32.0000 - val_true_negatives: 232.0000 - val_true_positives: 53.0000\n",
            "Epoch 181/200\n",
            "44/44 [==============================] - 1s 17ms/step - loss: 0.1906 - Accuracy: 0.9339 - false_negatives: 24.0000 - false_positives: 22.0000 - true_negatives: 1022.0000 - true_positives: 324.0000 - val_loss: 2.3762 - val_Accuracy: 0.6250 - val_false_negatives: 33.0000 - val_false_positives: 33.0000 - val_true_negatives: 231.0000 - val_true_positives: 55.0000\n",
            "Epoch 182/200\n",
            "44/44 [==============================] - 1s 17ms/step - loss: 0.2241 - Accuracy: 0.9080 - false_negatives: 32.0000 - false_positives: 27.0000 - true_negatives: 1017.0000 - true_positives: 316.0000 - val_loss: 1.8887 - val_Accuracy: 0.5455 - val_false_negatives: 40.0000 - val_false_positives: 38.0000 - val_true_negatives: 226.0000 - val_true_positives: 48.0000\n",
            "Epoch 183/200\n",
            "44/44 [==============================] - 1s 17ms/step - loss: 0.1973 - Accuracy: 0.9282 - false_negatives: 30.0000 - false_positives: 23.0000 - true_negatives: 1021.0000 - true_positives: 318.0000 - val_loss: 1.5664 - val_Accuracy: 0.6023 - val_false_negatives: 36.0000 - val_false_positives: 31.0000 - val_true_negatives: 233.0000 - val_true_positives: 52.0000\n",
            "Epoch 184/200\n",
            "44/44 [==============================] - 1s 17ms/step - loss: 0.1497 - Accuracy: 0.9598 - false_negatives: 16.0000 - false_positives: 11.0000 - true_negatives: 1033.0000 - true_positives: 332.0000 - val_loss: 3.0119 - val_Accuracy: 0.5795 - val_false_negatives: 37.0000 - val_false_positives: 33.0000 - val_true_negatives: 231.0000 - val_true_positives: 51.0000\n",
            "Epoch 185/200\n",
            "44/44 [==============================] - 1s 17ms/step - loss: 0.1596 - Accuracy: 0.9425 - false_negatives: 23.0000 - false_positives: 20.0000 - true_negatives: 1024.0000 - true_positives: 325.0000 - val_loss: 2.2409 - val_Accuracy: 0.6364 - val_false_negatives: 33.0000 - val_false_positives: 28.0000 - val_true_negatives: 236.0000 - val_true_positives: 55.0000\n",
            "Epoch 186/200\n",
            "44/44 [==============================] - 1s 18ms/step - loss: 0.1696 - Accuracy: 0.9425 - false_negatives: 21.0000 - false_positives: 19.0000 - true_negatives: 1025.0000 - true_positives: 327.0000 - val_loss: 1.8815 - val_Accuracy: 0.6364 - val_false_negatives: 33.0000 - val_false_positives: 28.0000 - val_true_negatives: 236.0000 - val_true_positives: 55.0000\n",
            "Epoch 187/200\n",
            "44/44 [==============================] - 1s 17ms/step - loss: 0.1941 - Accuracy: 0.9253 - false_negatives: 26.0000 - false_positives: 22.0000 - true_negatives: 1022.0000 - true_positives: 322.0000 - val_loss: 1.6552 - val_Accuracy: 0.6250 - val_false_negatives: 34.0000 - val_false_positives: 32.0000 - val_true_negatives: 232.0000 - val_true_positives: 54.0000\n",
            "Epoch 188/200\n",
            "44/44 [==============================] - 1s 18ms/step - loss: 0.2262 - Accuracy: 0.9195 - false_negatives: 31.0000 - false_positives: 26.0000 - true_negatives: 1018.0000 - true_positives: 317.0000 - val_loss: 2.3556 - val_Accuracy: 0.5909 - val_false_negatives: 37.0000 - val_false_positives: 34.0000 - val_true_negatives: 230.0000 - val_true_positives: 51.0000\n",
            "Epoch 189/200\n",
            "44/44 [==============================] - 1s 17ms/step - loss: 0.2246 - Accuracy: 0.9282 - false_negatives: 27.0000 - false_positives: 23.0000 - true_negatives: 1021.0000 - true_positives: 321.0000 - val_loss: 2.3012 - val_Accuracy: 0.5795 - val_false_negatives: 37.0000 - val_false_positives: 35.0000 - val_true_negatives: 229.0000 - val_true_positives: 51.0000\n",
            "Epoch 190/200\n",
            "44/44 [==============================] - 1s 18ms/step - loss: 0.1424 - Accuracy: 0.9454 - false_negatives: 21.0000 - false_positives: 15.0000 - true_negatives: 1029.0000 - true_positives: 327.0000 - val_loss: 2.0122 - val_Accuracy: 0.6136 - val_false_negatives: 34.0000 - val_false_positives: 34.0000 - val_true_negatives: 230.0000 - val_true_positives: 54.0000\n",
            "Epoch 191/200\n",
            "44/44 [==============================] - 1s 17ms/step - loss: 0.1491 - Accuracy: 0.9483 - false_negatives: 18.0000 - false_positives: 17.0000 - true_negatives: 1027.0000 - true_positives: 330.0000 - val_loss: 2.9302 - val_Accuracy: 0.6136 - val_false_negatives: 35.0000 - val_false_positives: 33.0000 - val_true_negatives: 231.0000 - val_true_positives: 53.0000\n",
            "Epoch 192/200\n",
            "44/44 [==============================] - 1s 17ms/step - loss: 0.1381 - Accuracy: 0.9540 - false_negatives: 17.0000 - false_positives: 15.0000 - true_negatives: 1029.0000 - true_positives: 331.0000 - val_loss: 2.3457 - val_Accuracy: 0.6591 - val_false_negatives: 31.0000 - val_false_positives: 28.0000 - val_true_negatives: 236.0000 - val_true_positives: 57.0000\n",
            "Epoch 193/200\n",
            "44/44 [==============================] - 1s 17ms/step - loss: 0.1419 - Accuracy: 0.9511 - false_negatives: 20.0000 - false_positives: 15.0000 - true_negatives: 1029.0000 - true_positives: 328.0000 - val_loss: 3.1113 - val_Accuracy: 0.6023 - val_false_negatives: 35.0000 - val_false_positives: 35.0000 - val_true_negatives: 229.0000 - val_true_positives: 53.0000\n",
            "Epoch 194/200\n",
            "44/44 [==============================] - 1s 17ms/step - loss: 0.2892 - Accuracy: 0.8994 - false_negatives: 36.0000 - false_positives: 34.0000 - true_negatives: 1010.0000 - true_positives: 312.0000 - val_loss: 2.2599 - val_Accuracy: 0.6023 - val_false_negatives: 35.0000 - val_false_positives: 35.0000 - val_true_negatives: 229.0000 - val_true_positives: 53.0000\n",
            "Epoch 195/200\n",
            "44/44 [==============================] - 1s 17ms/step - loss: 0.2544 - Accuracy: 0.8966 - false_negatives: 36.0000 - false_positives: 34.0000 - true_negatives: 1010.0000 - true_positives: 312.0000 - val_loss: 2.6930 - val_Accuracy: 0.6136 - val_false_negatives: 35.0000 - val_false_positives: 32.0000 - val_true_negatives: 232.0000 - val_true_positives: 53.0000\n",
            "Epoch 196/200\n",
            "44/44 [==============================] - 1s 17ms/step - loss: 0.2082 - Accuracy: 0.9224 - false_negatives: 31.0000 - false_positives: 24.0000 - true_negatives: 1020.0000 - true_positives: 317.0000 - val_loss: 2.3322 - val_Accuracy: 0.5909 - val_false_negatives: 37.0000 - val_false_positives: 32.0000 - val_true_negatives: 232.0000 - val_true_positives: 51.0000\n",
            "Epoch 197/200\n",
            "44/44 [==============================] - 1s 17ms/step - loss: 0.1225 - Accuracy: 0.9511 - false_negatives: 20.0000 - false_positives: 15.0000 - true_negatives: 1029.0000 - true_positives: 328.0000 - val_loss: 2.3184 - val_Accuracy: 0.6023 - val_false_negatives: 35.0000 - val_false_positives: 31.0000 - val_true_negatives: 233.0000 - val_true_positives: 53.0000\n",
            "Epoch 198/200\n",
            "44/44 [==============================] - 1s 18ms/step - loss: 0.1922 - Accuracy: 0.9483 - false_negatives: 21.0000 - false_positives: 15.0000 - true_negatives: 1029.0000 - true_positives: 327.0000 - val_loss: 2.8831 - val_Accuracy: 0.6023 - val_false_negatives: 35.0000 - val_false_positives: 32.0000 - val_true_negatives: 232.0000 - val_true_positives: 53.0000\n",
            "Epoch 199/200\n",
            "44/44 [==============================] - 1s 17ms/step - loss: 0.1215 - Accuracy: 0.9540 - false_negatives: 19.0000 - false_positives: 11.0000 - true_negatives: 1033.0000 - true_positives: 329.0000 - val_loss: 2.4104 - val_Accuracy: 0.6250 - val_false_negatives: 34.0000 - val_false_positives: 30.0000 - val_true_negatives: 234.0000 - val_true_positives: 54.0000\n",
            "Epoch 200/200\n",
            "44/44 [==============================] - 1s 17ms/step - loss: 0.1566 - Accuracy: 0.9511 - false_negatives: 18.0000 - false_positives: 15.0000 - true_negatives: 1029.0000 - true_positives: 330.0000 - val_loss: 3.0260 - val_Accuracy: 0.5909 - val_false_negatives: 36.0000 - val_false_positives: 34.0000 - val_true_negatives: 230.0000 - val_true_positives: 52.0000\n"
          ]
        }
      ]
    },
    {
      "cell_type": "markdown",
      "source": [
        "Plotting Traning Result"
      ],
      "metadata": {
        "id": "XZSFG8fXqz7c"
      }
    },
    {
      "cell_type": "code",
      "source": [
        "  #plotting\n",
        "  epochs = range(1, len(history.history['loss'])+1)\n",
        "  plt.title(f\"Grafik loss training iterasi {iterasi}\")\n",
        "  plt.plot(epochs, history.history['loss'], 'r', label='Training Loss')\n",
        "  plt.plot(epochs, history.history['val_loss'], 'b', label='Validation Loss')    \n",
        "  plt.xlabel(\"Epoch\")\n",
        "  plt.ylabel(\"Loss\")\n",
        "  plt.legend()\n",
        "  plt.show()\n"
      ],
      "metadata": {
        "id": "3dXbDrJpY1NK",
        "colab": {
          "base_uri": "https://localhost:8080/",
          "height": 295
        },
        "outputId": "9014fb4e-134a-4b27-adaa-fba7f33bb9d7"
      },
      "execution_count": 12,
      "outputs": [
        {
          "output_type": "display_data",
          "data": {
            "text/plain": [
              "<Figure size 432x288 with 1 Axes>"
            ],
            "image/png": "[encoded data removed]"
          },
          "metadata": {
            "needs_background": "light"
          }
        }
      ]
    },
    {
      "cell_type": "code",
      "source": [
        "  #plotting\n",
        "  epochs = range(1, len(history.history['loss'])+1)\n",
        "  plt.title(f\"Grafik Akurasi training iterasi {iterasi}\")\n",
        "  plt.plot(epochs, history.history['Accuracy'], 'r', label='Training Accuracy')\n",
        "  plt.plot(epochs, history.history['val_Accuracy'], 'b', label='Validation Accuracy')    \n",
        "  plt.xlabel(\"Epoch\")\n",
        "  plt.ylabel(\"Accuracy\")\n",
        "  plt.legend()\n",
        "  plt.show()"
      ],
      "metadata": {
        "id": "j3xigprPwlSX",
        "colab": {
          "base_uri": "https://localhost:8080/",
          "height": 295
        },
        "outputId": "340de702-350b-438d-c8c2-6a643ad30aab"
      },
      "execution_count": 13,
      "outputs": [
        {
          "output_type": "display_data",
          "data": {
            "text/plain": [
              "<Figure size 432x288 with 1 Axes>"
            ],
            "image/png": "[encoded data removed]"
          },
          "metadata": {
            "needs_background": "light"
          }
        }
      ]
    },
    {
      "cell_type": "code",
      "source": [
        "import matplotlib.pyplot as plt\n",
        "from sklearn.datasets import make_classification\n",
        "from numpy import mean\n",
        "from sklearn.metrics import confusion_matrix, ConfusionMatrixDisplay, accuracy_score, classification_report, recall_score\n",
        "\n",
        "validation = model.predict(np_image_list_validation)\n",
        "\n",
        "predicted_labels = []\n",
        "correct_labels = []\n",
        "for i in range (len(validation)):\n",
        "  predicted_labels.append(np.argmax(validation[i]))\n",
        "\n",
        "for i in range (len(image_labels_validation)):\n",
        "  correct_labels.append(np.argmax(image_labels_validation[i]))\n",
        "\n",
        "\n",
        "confusion_matrix = confusion_matrix(correct_labels, predicted_labels)\n",
        "disp = ConfusionMatrixDisplay(confusion_matrix=confusion_matrix)  \n",
        "disp.plot()\n",
        "plt.show()\n",
        "print('--------')\n",
        "FP = confusion_matrix.sum(axis=0) - np.diag(confusion_matrix)  \n",
        "FN = confusion_matrix.sum(axis=1) - np.diag(confusion_matrix)\n",
        "TP = np.diag(confusion_matrix)\n",
        "TN = confusion_matrix.sum() - (FP + FN + TP)\n",
        "\n",
        "# Sensitivity, hit rate, recall, or true positive rate\n",
        "TPR = TP/(TP+FN)\n",
        "# Specificity or true negative rate\n",
        "TNR = TN/(TN+FP) \n",
        "# Overall accuracy\n",
        "ACC = (TP+TN)/(TP+FP+FN+TN)\n",
        "\n",
        "print(TP)\n",
        "print(TN)\n",
        "print(FP)\n",
        "print(FN)\n",
        "print('--------')\n",
        "print(ACC)\n",
        "print(TPR)\n",
        "print(TNR)\n",
        "print('--------')\n",
        "\n",
        "TP = sum(TP)\n",
        "TN = sum(TN)\n",
        "FP = sum(FP)\n",
        "FN = sum(FN)\n",
        "\n",
        "# Sensitivity, hit rate, recall, or true positive rate\n",
        "TPR = TP/(TP+FN)\n",
        "# Specificity or true negative rate\n",
        "TNR = TN/(TN+FP) \n",
        "# Overall accuracy\n",
        "ACC = (TP+TN)/(TP+FP+FN+TN)\n",
        "\n",
        "print(TP)\n",
        "print(TN)\n",
        "print(FP)\n",
        "print(FN)\n",
        "print('--------')\n",
        "print(ACC)\n",
        "print(TPR)\n",
        "print(TNR)"
      ],
      "metadata": {
        "colab": {
          "base_uri": "https://localhost:8080/",
          "height": 591
        },
        "id": "y0RigLm76Rpg",
        "outputId": "6daecc4f-8bee-4f91-efa6-be300a382392"
      },
      "execution_count": 14,
      "outputs": [
        {
          "output_type": "display_data",
          "data": {
            "text/plain": [
              "<Figure size 432x288 with 2 Axes>"
            ],
            "image/png": "[encoded data removed]"
          },
          "metadata": {
            "needs_background": "light"
          }
        },
        {
          "output_type": "stream",
          "name": "stdout",
          "text": [
            "--------\n",
            "[ 3  7  4 38]\n",
            "[72 74 58 24]\n",
            "[ 6  1  5 24]\n",
            "[ 7  6 21  2]\n",
            "--------\n",
            "[0.85227273 0.92045455 0.70454545 0.70454545]\n",
            "[0.3        0.53846154 0.16       0.95      ]\n",
            "[0.92307692 0.98666667 0.92063492 0.5       ]\n",
            "--------\n",
            "52\n",
            "228\n",
            "36\n",
            "36\n",
            "--------\n",
            "0.7954545454545454\n",
            "0.5909090909090909\n",
            "0.8636363636363636\n"
          ]
        }
      ]
    },
    {
      "cell_type": "code",
      "source": [
        "import matplotlib.pyplot as plt\n",
        "from sklearn.datasets import make_classification\n",
        "from numpy import mean\n",
        "from sklearn.metrics import confusion_matrix, ConfusionMatrixDisplay, accuracy_score, classification_report, recall_score\n",
        "\n",
        "test = model.predict(np_image_list_test)\n",
        "\n",
        "predicted_labels = []\n",
        "correct_labels = []\n",
        "for i in range (len(test)):\n",
        "  predicted_labels.append(np.argmax(test[i]))\n",
        "\n",
        "for i in range (len(image_labels_test)):\n",
        "  correct_labels.append(np.argmax(image_labels_test[i]))\n",
        "\n",
        "\n",
        "confusion_matrix = confusion_matrix(correct_labels, predicted_labels)\n",
        "disp = ConfusionMatrixDisplay(confusion_matrix=confusion_matrix)  \n",
        "disp.plot()\n",
        "plt.show()\n",
        "print('--------')\n",
        "FP = confusion_matrix.sum(axis=0) - np.diag(confusion_matrix)  \n",
        "FN = confusion_matrix.sum(axis=1) - np.diag(confusion_matrix)\n",
        "TP = np.diag(confusion_matrix)\n",
        "TN = confusion_matrix.sum() - (FP + FN + TP)\n",
        "\n",
        "# Sensitivity, hit rate, recall, or true positive rate\n",
        "TPR = TP/(TP+FN)\n",
        "# Specificity or true negative rate\n",
        "TNR = TN/(TN+FP) \n",
        "# Overall accuracy\n",
        "ACC = (TP+TN)/(TP+FP+FN+TN)\n",
        "\n",
        "print(TP)\n",
        "print(TN)\n",
        "print(FP)\n",
        "print(FN)\n",
        "print('--------')\n",
        "print(ACC)\n",
        "print(TPR)\n",
        "print(TNR)\n",
        "print('--------')\n",
        "\n",
        "TP = sum(TP)\n",
        "TN = sum(TN)\n",
        "FP = sum(FP)\n",
        "FN = sum(FN)\n",
        "\n",
        "# Sensitivity, hit rate, recall, or true positive rate\n",
        "TPR = TP/(TP+FN)\n",
        "# Specificity or true negative rate\n",
        "TNR = TN/(TN+FP) \n",
        "# Overall accuracy\n",
        "ACC = (TP+TN)/(TP+FP+FN+TN)\n",
        "\n",
        "print(TP)\n",
        "print(TN)\n",
        "print(FP)\n",
        "print(FN)\n",
        "print('--------')\n",
        "print(ACC)\n",
        "print(TPR)\n",
        "print(TNR)"
      ],
      "metadata": {
        "colab": {
          "base_uri": "https://localhost:8080/",
          "height": 591
        },
        "id": "xufCN02P5v4A",
        "outputId": "94cbf6bb-aee5-4e2d-8ae9-b6207155f51f"
      },
      "execution_count": 15,
      "outputs": [
        {
          "output_type": "display_data",
          "data": {
            "text/plain": [
              "<Figure size 432x288 with 2 Axes>"
            ],
            "image/png": "[encoded data removed]"
          },
          "metadata": {
            "needs_background": "light"
          }
        },
        {
          "output_type": "stream",
          "name": "stdout",
          "text": [
            "--------\n",
            "[ 2  6  5 46]\n",
            "[84 91 78 26]\n",
            "[14  3  0 34]\n",
            "[10 10 27  4]\n",
            "--------\n",
            "[0.78181818 0.88181818 0.75454545 0.65454545]\n",
            "[0.16666667 0.375      0.15625    0.92      ]\n",
            "[0.85714286 0.96808511 1.         0.43333333]\n",
            "--------\n",
            "59\n",
            "279\n",
            "51\n",
            "51\n",
            "--------\n",
            "0.7681818181818182\n",
            "0.5363636363636364\n",
            "0.8454545454545455\n"
          ]
        }
      ]
    },
    {
      "cell_type": "markdown",
      "metadata": {
        "id": "bTgk1-sdzmgy"
      },
      "source": [
        "**Validating** Network"
      ]
    },
    {
      "cell_type": "code",
      "source": [
        "\n"
      ],
      "metadata": {
        "id": "d_NBE4KkWuhu"
      },
      "execution_count": 15,
      "outputs": []
    },
    {
      "cell_type": "markdown",
      "source": [
        "**Testing** Network"
      ],
      "metadata": {
        "id": "saJYjKqX9tRL"
      }
    },
    {
      "cell_type": "code",
      "source": [
        "\n"
      ],
      "metadata": {
        "id": "A7DR52hmTc75"
      },
      "execution_count": 15,
      "outputs": []
    },
    {
      "cell_type": "code",
      "source": [
        "test_img = cv2.imread('/content/Datasets/fold1/Test/apel_sehat/apel_sehat (1).jpg')\n",
        "\n",
        "plt.imshow(test_img)\n",
        "test_img = test_img / 255\n",
        "test_img = np.expand_dims(test_img, axis=0)\n",
        "pr=model.predict(test_img)\n",
        "\n",
        "print(pr)\n",
        "output = label_binarizer.inverse_transform(pr)\n",
        "print(output)"
      ],
      "metadata": {
        "colab": {
          "base_uri": "https://localhost:8080/",
          "height": 303
        },
        "id": "zkMI6CwJArvo",
        "outputId": "5862824b-7ae9-4bd9-d8e1-fd192ddf6c10"
      },
      "execution_count": 18,
      "outputs": [
        {
          "output_type": "stream",
          "name": "stdout",
          "text": [
            "[[1.1253666e-11 5.6705187e-12 1.9547477e-08 1.0000000e+00]]\n",
            "['apel_sehat']\n"
          ]
        },
        {
          "output_type": "display_data",
          "data": {
            "text/plain": [
              "<Figure size 432x288 with 1 Axes>"
            ],
            "image/png": "[encoded data removed]"
          },
          "metadata": {
            "needs_background": "light"
          }
        }
      ]
    },
    {
      "cell_type": "code",
      "source": [
        "# save the model to disk\n",
        "#print(\"[INFO] Saving model...\")\n",
        "#pickle.dump(model,open('cnn_model.pkl', 'wb'))\n",
        "#model.save('/content/fold1.h5')"
      ],
      "metadata": {
        "id": "Wr_b8qBuCAIS"
      },
      "execution_count": null,
      "outputs": []
    }
  ]
}