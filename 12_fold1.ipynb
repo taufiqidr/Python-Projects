{
  "nbformat": 4,
  "nbformat_minor": 0,
  "metadata": {
    "accelerator": "GPU",
    "colab": {
      "name": "Kodingan Skripsi 3",
      "provenance": [],
      "collapsed_sections": [],
      "include_colab_link": true
    },
    "kernelspec": {
      "display_name": "Python 3",
      "language": "python",
      "name": "python3"
    },
    "language_info": {
      "codemirror_mode": {
        "name": "ipython",
        "version": 3
      },
      "file_extension": ".py",
      "mimetype": "text/x-python",
      "name": "python",
      "nbconvert_exporter": "python",
      "pygments_lexer": "ipython3",
      "version": "3.6.6"
    }
  },
  "cells": [
    {
      "cell_type": "markdown",
      "metadata": {
        "id": "view-in-github",
        "colab_type": "text"
      },
      "source": [
        "<a href=\"https://colab.research.google.com/github/TaufiqIdrus/Python-Projects/blob/master/12_fold1.ipynb\" target=\"_parent\"><img src=\"https://colab.research.google.com/assets/colab-badge.svg\" alt=\"Open In Colab\"/></a>"
      ]
    },
    {
      "cell_type": "markdown",
      "metadata": {
        "id": "yJT_kQA2lITS"
      },
      "source": [
        "**Identifikasi Penyakit Pada Tanaman Apel menggunakan Convolutional Neural Network**"
      ]
    },
    {
      "cell_type": "code",
      "metadata": {
        "id": "xXeOaYTUzmgT"
      },
      "source": [
        "import numpy as np\n",
        "import pickle\n",
        "import os\n",
        "import cv2\n",
        "import tensorflow as tf\n",
        "import keras\n",
        "from os import listdir\n",
        "from sklearn.preprocessing import LabelBinarizer\n",
        "from keras.models import Sequential\n",
        "from keras.layers.convolutional import Conv2D\n",
        "from keras.layers.convolutional import MaxPooling2D\n",
        "from keras.layers.core import Activation, Flatten, Dropout, Dense\n",
        "from keras import backend as K\n",
        "from tensorflow.keras.optimizers import Adam\n",
        "from keras.preprocessing import image\n",
        "import matplotlib.pyplot as plt\n",
        "from sklearn.datasets import make_classification\n",
        "from numpy import mean\n"
      ],
      "execution_count": 1,
      "outputs": []
    },
    {
      "cell_type": "markdown",
      "metadata": {
        "id": "fp8C0d28lQok"
      },
      "source": [
        "Importing and Preparing Dataset"
      ]
    },
    {
      "cell_type": "code",
      "metadata": {
        "id": "_0xehllADlUs",
        "colab": {
          "base_uri": "https://localhost:8080/"
        },
        "outputId": "69c4ff23-d6da-4f33-8f8a-439b4c9adbce"
      },
      "source": [
        "!pip install pyunpack\n",
        "!pip install patool\n",
        "from pyunpack import Archive\n",
        "Archive('/content/fold1.rar').extractall('/content/Datasets/')\n",
        "iterasi = 1\n",
        "width=60\n",
        "height=60\n",
        "default_image_size = tuple((height, width))\n",
        "directory_root_train = '/content/Datasets/fold1/Train'\n",
        "directory_root_validation = '/content/Datasets/fold1/Validation'\n",
        "directory_root_test = '/content/Datasets/fold1/Test'\n",
        "image_size = 0\n",
        "depth=3"
      ],
      "execution_count": 2,
      "outputs": [
        {
          "output_type": "stream",
          "name": "stdout",
          "text": [
            "Looking in indexes: https://pypi.org/simple, https://us-python.pkg.dev/colab-wheels/public/simple/\n",
            "Collecting pyunpack\n",
            "  Downloading pyunpack-0.3-py2.py3-none-any.whl (4.1 kB)\n",
            "Collecting easyprocess\n",
            "  Downloading EasyProcess-1.1-py3-none-any.whl (8.7 kB)\n",
            "Collecting entrypoint2\n",
            "  Downloading entrypoint2-1.1-py2.py3-none-any.whl (9.9 kB)\n",
            "Installing collected packages: entrypoint2, easyprocess, pyunpack\n",
            "Successfully installed easyprocess-1.1 entrypoint2-1.1 pyunpack-0.3\n",
            "Looking in indexes: https://pypi.org/simple, https://us-python.pkg.dev/colab-wheels/public/simple/\n",
            "Collecting patool\n",
            "  Downloading patool-1.12-py2.py3-none-any.whl (77 kB)\n",
            "\u001b[K     |████████████████████████████████| 77 kB 6.2 MB/s \n",
            "\u001b[?25hInstalling collected packages: patool\n",
            "Successfully installed patool-1.12\n"
          ]
        }
      ]
    },
    {
      "cell_type": "code",
      "metadata": {
        "id": "KbAwJJTpzmge"
      },
      "source": [
        "def convert_image_to_array(image_dir):\n",
        "    try:\n",
        "        image = cv2.imread(image_dir)\n",
        "        if image is not None :\n",
        "            image = cv2.resize(image, default_image_size)   \n",
        "            return keras.preprocessing.image.img_to_array(image)\n",
        "        else :\n",
        "            return np.array([])\n",
        "    except Exception as e:\n",
        "        print(f\"Error : {e}\")\n",
        "        return None"
      ],
      "execution_count": 3,
      "outputs": []
    },
    {
      "cell_type": "markdown",
      "source": [
        "Converting **Training** Data to Array"
      ],
      "metadata": {
        "id": "bgXxUMO2cI_D"
      }
    },
    {
      "cell_type": "code",
      "metadata": {
        "id": "Erz6IjKXzmgg",
        "colab": {
          "base_uri": "https://localhost:8080/"
        },
        "outputId": "d85d1489-dc65-4bc3-d868-e112b77f1d94"
      },
      "source": [
        "image_list_train, label_list_train = [], []\n",
        "try:\n",
        "    print(\"[INFO] Loading images ...\")\n",
        "    root_dir = listdir(directory_root_train)\n",
        "\n",
        "    for plant_disease_folder in root_dir:\n",
        "        print(f\"[INFO] Processing {plant_disease_folder} ...\")\n",
        "        plant_disease_image_list = listdir(f\"{directory_root_train}/{plant_disease_folder}/\")\n",
        "      \n",
        "        for image in plant_disease_image_list:\n",
        "            image_directory = f\"{directory_root_train}/{plant_disease_folder}/{image}\"\n",
        "\n",
        "            if image_directory.endswith(\".jpg\") == True or image_directory.endswith(\".JPG\") == True:\n",
        "                image_list_train.append(convert_image_to_array(image_directory))\n",
        "                label_list_train.append(plant_disease_folder)\n",
        "    print(\"[INFO] Image loading completed\")\n",
        "\n",
        "except Exception as e:\n",
        "    print(f\"Error : {e}\")\n",
        "\n",
        "#image labeling\n",
        "image_size = len(image_list_train)\n",
        "label_binarizer = LabelBinarizer()\n",
        "image_labels_train = label_binarizer.fit_transform(label_list_train)\n",
        "pickle.dump(label_binarizer,open('label_transform_train.pkl', 'wb'))\n",
        "n_classes = len(label_binarizer.classes_)\n",
        "np_image_list_train = np.array(image_list_train, dtype=np.float16) / 255.0"
      ],
      "execution_count": 4,
      "outputs": [
        {
          "output_type": "stream",
          "name": "stdout",
          "text": [
            "[INFO] Loading images ...\n",
            "[INFO] Processing apel_sehat ...\n",
            "[INFO] Processing apel_bercak_daun ...\n",
            "[INFO] Processing apel_cacar_daun ...\n",
            "[INFO] Processing apel_busuk_buah ...\n",
            "[INFO] Image loading completed\n"
          ]
        }
      ]
    },
    {
      "cell_type": "markdown",
      "source": [
        "Converting **Validation** Data to Array"
      ],
      "metadata": {
        "id": "7eEMGiqRd_E4"
      }
    },
    {
      "cell_type": "code",
      "source": [
        "image_list_validation, label_list_validation = [], []\n",
        "try:\n",
        "    print(\"[INFO] Loading images ...\")\n",
        "    root_dir = listdir(directory_root_validation)\n",
        "\n",
        "    for plant_disease_folder in root_dir:\n",
        "        print(f\"[INFO] Processing {plant_disease_folder} ...\")\n",
        "        plant_disease_image_list = listdir(f\"{directory_root_validation}/{plant_disease_folder}/\")\n",
        "      \n",
        "        for image in plant_disease_image_list:\n",
        "            image_directory = f\"{directory_root_validation}/{plant_disease_folder}/{image}\"\n",
        "\n",
        "            if image_directory.endswith(\".jpg\") == True or image_directory.endswith(\".JPG\") == True:\n",
        "                image_list_validation.append(convert_image_to_array(image_directory))\n",
        "                label_list_validation.append(plant_disease_folder)\n",
        "    print(\"[INFO] Image loading completed\")\n",
        "\n",
        "except Exception as e:\n",
        "    print(f\"Error : {e}\")\n",
        "\n",
        "#image labeling\n",
        "image_size = len(image_list_validation)\n",
        "label_binarizer = LabelBinarizer()\n",
        "image_labels_validation = label_binarizer.fit_transform(label_list_validation)\n",
        "pickle.dump(label_binarizer,open('label_transform_validation.pkl', 'wb'))\n",
        "n_classes = len(label_binarizer.classes_)\n",
        "np_image_list_validation = np.array(image_list_validation, dtype=np.float16) / 255.0"
      ],
      "metadata": {
        "id": "wfHDdR0ZeEuU",
        "colab": {
          "base_uri": "https://localhost:8080/"
        },
        "outputId": "4f428013-ebae-418b-edf8-d5e947904dc5"
      },
      "execution_count": 5,
      "outputs": [
        {
          "output_type": "stream",
          "name": "stdout",
          "text": [
            "[INFO] Loading images ...\n",
            "[INFO] Processing apel_sehat ...\n",
            "[INFO] Processing apel_bercak_daun ...\n",
            "[INFO] Processing apel_cacar_daun ...\n",
            "[INFO] Processing apel_busuk_buah ...\n",
            "[INFO] Image loading completed\n"
          ]
        }
      ]
    },
    {
      "cell_type": "markdown",
      "source": [
        "Converting **Testing** Data to Array"
      ],
      "metadata": {
        "id": "brwWyZVncTdg"
      }
    },
    {
      "cell_type": "code",
      "metadata": {
        "id": "uNPby5UMcaWY",
        "colab": {
          "base_uri": "https://localhost:8080/"
        },
        "outputId": "70cca929-b64e-4fc7-e693-edb45f597bfc"
      },
      "source": [
        "image_list_test, label_list_test = [], []\n",
        "try:\n",
        "    print(\"[INFO] Loading images ...\")\n",
        "    root_dir = listdir(directory_root_test)\n",
        "\n",
        "    for plant_disease_folder in root_dir:\n",
        "        print(f\"[INFO] Processing {plant_disease_folder} ...\")\n",
        "        plant_disease_image_list = listdir(f\"{directory_root_test}/{plant_disease_folder}/\")\n",
        "      \n",
        "        for image in plant_disease_image_list:\n",
        "            image_directory = f\"{directory_root_test}/{plant_disease_folder}/{image}\"\n",
        "\n",
        "            if image_directory.endswith(\".jpg\") == True or image_directory.endswith(\".JPG\") == True:\n",
        "                image_list_test.append(convert_image_to_array(image_directory))\n",
        "                label_list_test.append(plant_disease_folder)\n",
        "    print(\"[INFO] Image loading completed\")\n",
        "\n",
        "except Exception as e:\n",
        "    print(f\"Error : {e}\")\n",
        "\n",
        "#image labeling\n",
        "image_size = len(image_list_test)\n",
        "label_binarizer = LabelBinarizer()\n",
        "image_labels_test = label_binarizer.fit_transform(label_list_test)\n",
        "pickle.dump(label_binarizer,open('label_transform_test.pkl', 'wb'))\n",
        "n_classes = len(label_binarizer.classes_)\n",
        "np_image_list_test = np.array(image_list_test, dtype=np.float16) / 255.0"
      ],
      "execution_count": 6,
      "outputs": [
        {
          "output_type": "stream",
          "name": "stdout",
          "text": [
            "[INFO] Loading images ...\n",
            "[INFO] Processing apel_sehat ...\n",
            "[INFO] Processing apel_bercak_daun ...\n",
            "[INFO] Processing apel_cacar_daun ...\n",
            "[INFO] Processing apel_busuk_buah ...\n",
            "[INFO] Image loading completed\n"
          ]
        }
      ]
    },
    {
      "cell_type": "markdown",
      "metadata": {
        "id": "jYBTFN0CnAi7"
      },
      "source": [
        "Data Augmenting Initialization"
      ]
    },
    {
      "cell_type": "code",
      "metadata": {
        "id": "TLMxMK2Tzmgr"
      },
      "source": [
        "aug = keras.preprocessing.image.ImageDataGenerator(\n",
        "    rotation_range=25, \n",
        "    width_shift_range=0.1,\n",
        "    height_shift_range=0.1, \n",
        "    shear_range=0.2, \n",
        "    zoom_range=0.2,\n",
        "    horizontal_flip=True, \n",
        "    fill_mode=\"nearest\")"
      ],
      "execution_count": 7,
      "outputs": []
    },
    {
      "cell_type": "markdown",
      "metadata": {
        "id": "H1BfRyYNnGv_"
      },
      "source": [
        "Creating CNN Model"
      ]
    },
    {
      "cell_type": "code",
      "metadata": {
        "id": "WmLX4wm8zmgs"
      },
      "source": [
        "model = keras.models.Sequential()\n",
        "inputShape = (height, width, depth)\n",
        "\n",
        "model.add(Conv2D(20, (5, 5), padding=\"same\",input_shape=inputShape))\n",
        "model.add(Activation(\"relu\"))\n",
        "\n",
        "model.add(MaxPooling2D(pool_size=(2, 2), strides=2))\n",
        "\n",
        "model.add(Conv2D(50, (5, 5), padding=\"same\"))\n",
        "model.add(Activation(\"relu\"))\n",
        "\n",
        "model.add(MaxPooling2D(pool_size=(2, 2),strides=2))\n",
        "\n",
        "model.add(Flatten())\n",
        "\n",
        "model.add(Dense(500))\n",
        "model.add(Activation(\"relu\"))\n",
        "\n",
        "model.add(Dense(4))\n",
        "model.add(Activation(\"softmax\"))"
      ],
      "execution_count": 8,
      "outputs": []
    },
    {
      "cell_type": "code",
      "source": [
        "#model.summary()"
      ],
      "metadata": {
        "id": "RQIgaph8hW06"
      },
      "execution_count": 9,
      "outputs": []
    },
    {
      "cell_type": "code",
      "source": [
        "#from PIL import Image\n",
        "#from keras.utils.vis_utils import plot_model\n",
        "#plot_model(model, to_file='cnn_model.png', show_shapes=True, show_layer_names=True)\n",
        "#display(Image.open('cnn_model.png'))"
      ],
      "metadata": {
        "id": "T05gPuu1GudW"
      },
      "execution_count": 10,
      "outputs": []
    },
    {
      "cell_type": "markdown",
      "metadata": {
        "id": "Zfsu3lVfnXFG"
      },
      "source": [
        "**Training** Network"
      ]
    },
    {
      "cell_type": "code",
      "metadata": {
        "id": "rvwKwe3Lzmgv",
        "colab": {
          "base_uri": "https://localhost:8080/"
        },
        "outputId": "3e0ce535-17ff-4093-b001-a31b421c76d0"
      },
      "source": [
        "EPOCHS = 200\n",
        "INIT_LR = 1e-3\n",
        "BS = 8\n",
        "\n",
        "with tf.device('/GPU:0'):\n",
        "  opt = Adam(learning_rate=INIT_LR, decay=INIT_LR / EPOCHS)\n",
        "  model.compile(loss=\"categorical_crossentropy\", optimizer=opt,metrics=[\"Accuracy\", \"FalseNegatives\", \"FalsePositives\", \"TrueNegatives\", \"TruePositives\"])\n",
        "  \n",
        "  history = model.fit(\n",
        "      aug.flow(np_image_list_train, image_labels_train, batch_size=BS),\n",
        "      validation_data=(np_image_list_validation, image_labels_validation),\n",
        "      steps_per_epoch=len(np_image_list_train) // BS,\n",
        "      epochs=EPOCHS, \n",
        "      verbose=1,\n",
        "      )\n"
      ],
      "execution_count": 11,
      "outputs": [
        {
          "output_type": "stream",
          "name": "stdout",
          "text": [
            "Epoch 1/200\n",
            "44/44 [==============================] - 17s 54ms/step - loss: 1.3484 - Accuracy: 0.4195 - false_negatives: 314.0000 - false_positives: 49.0000 - true_negatives: 995.0000 - true_positives: 34.0000 - val_loss: 1.2670 - val_Accuracy: 0.4545 - val_false_negatives: 88.0000 - val_false_positives: 0.0000e+00 - val_true_negatives: 264.0000 - val_true_positives: 0.0000e+00\n",
            "Epoch 2/200\n",
            "44/44 [==============================] - 1s 24ms/step - loss: 1.2499 - Accuracy: 0.4511 - false_negatives: 305.0000 - false_positives: 46.0000 - true_negatives: 998.0000 - true_positives: 43.0000 - val_loss: 1.2385 - val_Accuracy: 0.4545 - val_false_negatives: 49.0000 - val_false_positives: 35.0000 - val_true_negatives: 229.0000 - val_true_positives: 39.0000\n",
            "Epoch 3/200\n",
            "44/44 [==============================] - 1s 25ms/step - loss: 1.2145 - Accuracy: 0.4540 - false_negatives: 283.0000 - false_positives: 43.0000 - true_negatives: 1001.0000 - true_positives: 65.0000 - val_loss: 1.1974 - val_Accuracy: 0.4545 - val_false_negatives: 69.0000 - val_false_positives: 11.0000 - val_true_negatives: 253.0000 - val_true_positives: 19.0000\n",
            "Epoch 4/200\n",
            "44/44 [==============================] - 1s 25ms/step - loss: 1.1560 - Accuracy: 0.4799 - false_negatives: 251.0000 - false_positives: 31.0000 - true_negatives: 1013.0000 - true_positives: 97.0000 - val_loss: 1.1962 - val_Accuracy: 0.4545 - val_false_negatives: 66.0000 - val_false_positives: 15.0000 - val_true_negatives: 249.0000 - val_true_positives: 22.0000\n",
            "Epoch 5/200\n",
            "44/44 [==============================] - 1s 23ms/step - loss: 1.0799 - Accuracy: 0.5603 - false_negatives: 236.0000 - false_positives: 33.0000 - true_negatives: 1011.0000 - true_positives: 112.0000 - val_loss: 1.1702 - val_Accuracy: 0.4659 - val_false_negatives: 61.0000 - val_false_positives: 17.0000 - val_true_negatives: 247.0000 - val_true_positives: 27.0000\n",
            "Epoch 6/200\n",
            "44/44 [==============================] - 1s 26ms/step - loss: 0.9930 - Accuracy: 0.6149 - false_negatives: 213.0000 - false_positives: 61.0000 - true_negatives: 983.0000 - true_positives: 135.0000 - val_loss: 1.4198 - val_Accuracy: 0.4773 - val_false_negatives: 49.0000 - val_false_positives: 39.0000 - val_true_negatives: 225.0000 - val_true_positives: 39.0000\n",
            "Epoch 7/200\n",
            "44/44 [==============================] - 1s 29ms/step - loss: 0.9935 - Accuracy: 0.6006 - false_negatives: 218.0000 - false_positives: 44.0000 - true_negatives: 1000.0000 - true_positives: 130.0000 - val_loss: 1.3050 - val_Accuracy: 0.4773 - val_false_negatives: 51.0000 - val_false_positives: 27.0000 - val_true_negatives: 237.0000 - val_true_positives: 37.0000\n",
            "Epoch 8/200\n",
            "44/44 [==============================] - 1s 14ms/step - loss: 0.9042 - Accuracy: 0.6466 - false_negatives: 177.0000 - false_positives: 63.0000 - true_negatives: 981.0000 - true_positives: 171.0000 - val_loss: 1.4404 - val_Accuracy: 0.4773 - val_false_negatives: 50.0000 - val_false_positives: 27.0000 - val_true_negatives: 237.0000 - val_true_positives: 38.0000\n",
            "Epoch 9/200\n",
            "44/44 [==============================] - 1s 14ms/step - loss: 0.9162 - Accuracy: 0.6494 - false_negatives: 187.0000 - false_positives: 55.0000 - true_negatives: 989.0000 - true_positives: 161.0000 - val_loss: 1.4350 - val_Accuracy: 0.4773 - val_false_negatives: 50.0000 - val_false_positives: 28.0000 - val_true_negatives: 236.0000 - val_true_positives: 38.0000\n",
            "Epoch 10/200\n",
            "44/44 [==============================] - 1s 15ms/step - loss: 0.9019 - Accuracy: 0.6523 - false_negatives: 170.0000 - false_positives: 68.0000 - true_negatives: 976.0000 - true_positives: 178.0000 - val_loss: 1.3776 - val_Accuracy: 0.5000 - val_false_negatives: 54.0000 - val_false_positives: 35.0000 - val_true_negatives: 229.0000 - val_true_positives: 34.0000\n",
            "Epoch 11/200\n",
            "44/44 [==============================] - 1s 14ms/step - loss: 0.8497 - Accuracy: 0.6638 - false_negatives: 150.0000 - false_positives: 65.0000 - true_negatives: 979.0000 - true_positives: 198.0000 - val_loss: 1.2599 - val_Accuracy: 0.5227 - val_false_negatives: 52.0000 - val_false_positives: 32.0000 - val_true_negatives: 232.0000 - val_true_positives: 36.0000\n",
            "Epoch 12/200\n",
            "44/44 [==============================] - 1s 14ms/step - loss: 0.8597 - Accuracy: 0.6695 - false_negatives: 146.0000 - false_positives: 73.0000 - true_negatives: 971.0000 - true_positives: 202.0000 - val_loss: 1.2349 - val_Accuracy: 0.4432 - val_false_negatives: 66.0000 - val_false_positives: 18.0000 - val_true_negatives: 246.0000 - val_true_positives: 22.0000\n",
            "Epoch 13/200\n",
            "44/44 [==============================] - 1s 14ms/step - loss: 0.8836 - Accuracy: 0.6667 - false_negatives: 170.0000 - false_positives: 60.0000 - true_negatives: 984.0000 - true_positives: 178.0000 - val_loss: 1.2810 - val_Accuracy: 0.5114 - val_false_negatives: 53.0000 - val_false_positives: 27.0000 - val_true_negatives: 237.0000 - val_true_positives: 35.0000\n",
            "Epoch 14/200\n",
            "44/44 [==============================] - 1s 14ms/step - loss: 0.8509 - Accuracy: 0.6695 - false_negatives: 147.0000 - false_positives: 74.0000 - true_negatives: 970.0000 - true_positives: 201.0000 - val_loss: 1.3707 - val_Accuracy: 0.5000 - val_false_negatives: 51.0000 - val_false_positives: 31.0000 - val_true_negatives: 233.0000 - val_true_positives: 37.0000\n",
            "Epoch 15/200\n",
            "44/44 [==============================] - 1s 14ms/step - loss: 0.8356 - Accuracy: 0.6753 - false_negatives: 150.0000 - false_positives: 70.0000 - true_negatives: 974.0000 - true_positives: 198.0000 - val_loss: 1.5262 - val_Accuracy: 0.5000 - val_false_negatives: 47.0000 - val_false_positives: 40.0000 - val_true_negatives: 224.0000 - val_true_positives: 41.0000\n",
            "Epoch 16/200\n",
            "44/44 [==============================] - 1s 15ms/step - loss: 0.8453 - Accuracy: 0.6810 - false_negatives: 145.0000 - false_positives: 72.0000 - true_negatives: 972.0000 - true_positives: 203.0000 - val_loss: 1.3503 - val_Accuracy: 0.5114 - val_false_negatives: 50.0000 - val_false_positives: 36.0000 - val_true_negatives: 228.0000 - val_true_positives: 38.0000\n",
            "Epoch 17/200\n",
            "44/44 [==============================] - 1s 14ms/step - loss: 0.8488 - Accuracy: 0.6810 - false_negatives: 138.0000 - false_positives: 79.0000 - true_negatives: 965.0000 - true_positives: 210.0000 - val_loss: 1.3937 - val_Accuracy: 0.5000 - val_false_negatives: 49.0000 - val_false_positives: 33.0000 - val_true_negatives: 231.0000 - val_true_positives: 39.0000\n",
            "Epoch 18/200\n",
            "44/44 [==============================] - 1s 14ms/step - loss: 0.8139 - Accuracy: 0.7098 - false_negatives: 145.0000 - false_positives: 54.0000 - true_negatives: 990.0000 - true_positives: 203.0000 - val_loss: 1.2277 - val_Accuracy: 0.5000 - val_false_negatives: 53.0000 - val_false_positives: 36.0000 - val_true_negatives: 228.0000 - val_true_positives: 35.0000\n",
            "Epoch 19/200\n",
            "44/44 [==============================] - 1s 14ms/step - loss: 0.8361 - Accuracy: 0.7069 - false_negatives: 142.0000 - false_positives: 73.0000 - true_negatives: 971.0000 - true_positives: 206.0000 - val_loss: 1.4492 - val_Accuracy: 0.4886 - val_false_negatives: 47.0000 - val_false_positives: 29.0000 - val_true_negatives: 235.0000 - val_true_positives: 41.0000\n",
            "Epoch 20/200\n",
            "44/44 [==============================] - 1s 14ms/step - loss: 0.7859 - Accuracy: 0.7011 - false_negatives: 138.0000 - false_positives: 55.0000 - true_negatives: 989.0000 - true_positives: 210.0000 - val_loss: 1.2851 - val_Accuracy: 0.5455 - val_false_negatives: 46.0000 - val_false_positives: 36.0000 - val_true_negatives: 228.0000 - val_true_positives: 42.0000\n",
            "Epoch 21/200\n",
            "44/44 [==============================] - 1s 14ms/step - loss: 0.7980 - Accuracy: 0.7213 - false_negatives: 122.0000 - false_positives: 70.0000 - true_negatives: 974.0000 - true_positives: 226.0000 - val_loss: 1.4575 - val_Accuracy: 0.5000 - val_false_negatives: 48.0000 - val_false_positives: 34.0000 - val_true_negatives: 230.0000 - val_true_positives: 40.0000\n",
            "Epoch 22/200\n",
            "44/44 [==============================] - 1s 14ms/step - loss: 0.8443 - Accuracy: 0.6868 - false_negatives: 140.0000 - false_positives: 70.0000 - true_negatives: 974.0000 - true_positives: 208.0000 - val_loss: 1.6410 - val_Accuracy: 0.4545 - val_false_negatives: 49.0000 - val_false_positives: 37.0000 - val_true_negatives: 227.0000 - val_true_positives: 39.0000\n",
            "Epoch 23/200\n",
            "44/44 [==============================] - 1s 14ms/step - loss: 0.7836 - Accuracy: 0.6868 - false_negatives: 125.0000 - false_positives: 74.0000 - true_negatives: 970.0000 - true_positives: 223.0000 - val_loss: 1.3831 - val_Accuracy: 0.5227 - val_false_negatives: 48.0000 - val_false_positives: 35.0000 - val_true_negatives: 229.0000 - val_true_positives: 40.0000\n",
            "Epoch 24/200\n",
            "44/44 [==============================] - 1s 15ms/step - loss: 0.7733 - Accuracy: 0.7098 - false_negatives: 126.0000 - false_positives: 72.0000 - true_negatives: 972.0000 - true_positives: 222.0000 - val_loss: 1.2014 - val_Accuracy: 0.5341 - val_false_negatives: 53.0000 - val_false_positives: 31.0000 - val_true_negatives: 233.0000 - val_true_positives: 35.0000\n",
            "Epoch 25/200\n",
            "44/44 [==============================] - 1s 14ms/step - loss: 0.7539 - Accuracy: 0.7069 - false_negatives: 141.0000 - false_positives: 54.0000 - true_negatives: 990.0000 - true_positives: 207.0000 - val_loss: 1.2332 - val_Accuracy: 0.4886 - val_false_negatives: 50.0000 - val_false_positives: 34.0000 - val_true_negatives: 230.0000 - val_true_positives: 38.0000\n",
            "Epoch 26/200\n",
            "44/44 [==============================] - 1s 14ms/step - loss: 0.7557 - Accuracy: 0.7184 - false_negatives: 121.0000 - false_positives: 62.0000 - true_negatives: 982.0000 - true_positives: 227.0000 - val_loss: 1.2338 - val_Accuracy: 0.5227 - val_false_negatives: 46.0000 - val_false_positives: 34.0000 - val_true_negatives: 230.0000 - val_true_positives: 42.0000\n",
            "Epoch 27/200\n",
            "44/44 [==============================] - 1s 15ms/step - loss: 0.7618 - Accuracy: 0.7011 - false_negatives: 124.0000 - false_positives: 64.0000 - true_negatives: 980.0000 - true_positives: 224.0000 - val_loss: 1.2408 - val_Accuracy: 0.5455 - val_false_negatives: 48.0000 - val_false_positives: 30.0000 - val_true_negatives: 234.0000 - val_true_positives: 40.0000\n",
            "Epoch 28/200\n",
            "44/44 [==============================] - 1s 14ms/step - loss: 0.7471 - Accuracy: 0.7155 - false_negatives: 126.0000 - false_positives: 68.0000 - true_negatives: 976.0000 - true_positives: 222.0000 - val_loss: 1.3310 - val_Accuracy: 0.5341 - val_false_negatives: 45.0000 - val_false_positives: 36.0000 - val_true_negatives: 228.0000 - val_true_positives: 43.0000\n",
            "Epoch 29/200\n",
            "44/44 [==============================] - 1s 15ms/step - loss: 0.7534 - Accuracy: 0.7328 - false_negatives: 119.0000 - false_positives: 64.0000 - true_negatives: 980.0000 - true_positives: 229.0000 - val_loss: 1.5304 - val_Accuracy: 0.5000 - val_false_negatives: 48.0000 - val_false_positives: 33.0000 - val_true_negatives: 231.0000 - val_true_positives: 40.0000\n",
            "Epoch 30/200\n",
            "44/44 [==============================] - 1s 14ms/step - loss: 0.7443 - Accuracy: 0.7414 - false_negatives: 116.0000 - false_positives: 59.0000 - true_negatives: 985.0000 - true_positives: 232.0000 - val_loss: 1.2764 - val_Accuracy: 0.5227 - val_false_negatives: 51.0000 - val_false_positives: 26.0000 - val_true_negatives: 238.0000 - val_true_positives: 37.0000\n",
            "Epoch 31/200\n",
            "44/44 [==============================] - 1s 14ms/step - loss: 0.7180 - Accuracy: 0.7299 - false_negatives: 117.0000 - false_positives: 58.0000 - true_negatives: 986.0000 - true_positives: 231.0000 - val_loss: 1.5164 - val_Accuracy: 0.5000 - val_false_negatives: 47.0000 - val_false_positives: 31.0000 - val_true_negatives: 233.0000 - val_true_positives: 41.0000\n",
            "Epoch 32/200\n",
            "44/44 [==============================] - 1s 14ms/step - loss: 0.7289 - Accuracy: 0.7415 - false_negatives: 117.0000 - false_positives: 62.0000 - true_negatives: 994.0000 - true_positives: 235.0000 - val_loss: 1.2635 - val_Accuracy: 0.5341 - val_false_negatives: 46.0000 - val_false_positives: 31.0000 - val_true_negatives: 233.0000 - val_true_positives: 42.0000\n",
            "Epoch 33/200\n",
            "44/44 [==============================] - 1s 14ms/step - loss: 0.6874 - Accuracy: 0.7586 - false_negatives: 105.0000 - false_positives: 62.0000 - true_negatives: 982.0000 - true_positives: 243.0000 - val_loss: 1.1501 - val_Accuracy: 0.5795 - val_false_negatives: 49.0000 - val_false_positives: 29.0000 - val_true_negatives: 235.0000 - val_true_positives: 39.0000\n",
            "Epoch 34/200\n",
            "44/44 [==============================] - 1s 14ms/step - loss: 0.7319 - Accuracy: 0.7299 - false_negatives: 122.0000 - false_positives: 62.0000 - true_negatives: 982.0000 - true_positives: 226.0000 - val_loss: 1.4975 - val_Accuracy: 0.5227 - val_false_negatives: 45.0000 - val_false_positives: 33.0000 - val_true_negatives: 231.0000 - val_true_positives: 43.0000\n",
            "Epoch 35/200\n",
            "44/44 [==============================] - 1s 14ms/step - loss: 0.6819 - Accuracy: 0.7299 - false_negatives: 113.0000 - false_positives: 68.0000 - true_negatives: 976.0000 - true_positives: 235.0000 - val_loss: 1.6407 - val_Accuracy: 0.5114 - val_false_negatives: 45.0000 - val_false_positives: 39.0000 - val_true_negatives: 225.0000 - val_true_positives: 43.0000\n",
            "Epoch 36/200\n",
            "44/44 [==============================] - 1s 14ms/step - loss: 0.7281 - Accuracy: 0.7356 - false_negatives: 115.0000 - false_positives: 64.0000 - true_negatives: 980.0000 - true_positives: 233.0000 - val_loss: 1.2322 - val_Accuracy: 0.5795 - val_false_negatives: 45.0000 - val_false_positives: 32.0000 - val_true_negatives: 232.0000 - val_true_positives: 43.0000\n",
            "Epoch 37/200\n",
            "44/44 [==============================] - 1s 14ms/step - loss: 0.7035 - Accuracy: 0.7155 - false_negatives: 113.0000 - false_positives: 65.0000 - true_negatives: 979.0000 - true_positives: 235.0000 - val_loss: 1.2821 - val_Accuracy: 0.5568 - val_false_negatives: 44.0000 - val_false_positives: 30.0000 - val_true_negatives: 234.0000 - val_true_positives: 44.0000\n",
            "Epoch 38/200\n",
            "44/44 [==============================] - 1s 14ms/step - loss: 0.6152 - Accuracy: 0.7816 - false_negatives: 94.0000 - false_positives: 52.0000 - true_negatives: 992.0000 - true_positives: 254.0000 - val_loss: 1.4359 - val_Accuracy: 0.5568 - val_false_negatives: 45.0000 - val_false_positives: 28.0000 - val_true_negatives: 236.0000 - val_true_positives: 43.0000\n",
            "Epoch 39/200\n",
            "44/44 [==============================] - 1s 14ms/step - loss: 0.6067 - Accuracy: 0.7730 - false_negatives: 94.0000 - false_positives: 58.0000 - true_negatives: 986.0000 - true_positives: 254.0000 - val_loss: 1.2849 - val_Accuracy: 0.5568 - val_false_negatives: 43.0000 - val_false_positives: 34.0000 - val_true_negatives: 230.0000 - val_true_positives: 45.0000\n",
            "Epoch 40/200\n",
            "44/44 [==============================] - 1s 15ms/step - loss: 0.6551 - Accuracy: 0.7759 - false_negatives: 103.0000 - false_positives: 52.0000 - true_negatives: 992.0000 - true_positives: 245.0000 - val_loss: 1.3931 - val_Accuracy: 0.5455 - val_false_negatives: 44.0000 - val_false_positives: 28.0000 - val_true_negatives: 236.0000 - val_true_positives: 44.0000\n",
            "Epoch 41/200\n",
            "44/44 [==============================] - 1s 14ms/step - loss: 0.6401 - Accuracy: 0.7845 - false_negatives: 97.0000 - false_positives: 59.0000 - true_negatives: 985.0000 - true_positives: 251.0000 - val_loss: 1.7304 - val_Accuracy: 0.5341 - val_false_negatives: 45.0000 - val_false_positives: 34.0000 - val_true_negatives: 230.0000 - val_true_positives: 43.0000\n",
            "Epoch 42/200\n",
            "44/44 [==============================] - 1s 14ms/step - loss: 0.6226 - Accuracy: 0.8017 - false_negatives: 81.0000 - false_positives: 46.0000 - true_negatives: 998.0000 - true_positives: 267.0000 - val_loss: 1.3477 - val_Accuracy: 0.5568 - val_false_negatives: 42.0000 - val_false_positives: 30.0000 - val_true_negatives: 234.0000 - val_true_positives: 46.0000\n",
            "Epoch 43/200\n",
            "44/44 [==============================] - 1s 14ms/step - loss: 0.6544 - Accuracy: 0.7701 - false_negatives: 102.0000 - false_positives: 60.0000 - true_negatives: 984.0000 - true_positives: 246.0000 - val_loss: 1.1891 - val_Accuracy: 0.6023 - val_false_negatives: 41.0000 - val_false_positives: 31.0000 - val_true_negatives: 233.0000 - val_true_positives: 47.0000\n",
            "Epoch 44/200\n",
            "44/44 [==============================] - 1s 14ms/step - loss: 0.6095 - Accuracy: 0.7902 - false_negatives: 102.0000 - false_positives: 58.0000 - true_negatives: 986.0000 - true_positives: 246.0000 - val_loss: 1.2567 - val_Accuracy: 0.6136 - val_false_negatives: 40.0000 - val_false_positives: 30.0000 - val_true_negatives: 234.0000 - val_true_positives: 48.0000\n",
            "Epoch 45/200\n",
            "44/44 [==============================] - 1s 14ms/step - loss: 0.6187 - Accuracy: 0.7787 - false_negatives: 89.0000 - false_positives: 58.0000 - true_negatives: 986.0000 - true_positives: 259.0000 - val_loss: 1.2626 - val_Accuracy: 0.5909 - val_false_negatives: 39.0000 - val_false_positives: 33.0000 - val_true_negatives: 231.0000 - val_true_positives: 49.0000\n",
            "Epoch 46/200\n",
            "44/44 [==============================] - 1s 14ms/step - loss: 0.5997 - Accuracy: 0.8075 - false_negatives: 87.0000 - false_positives: 52.0000 - true_negatives: 992.0000 - true_positives: 261.0000 - val_loss: 1.3873 - val_Accuracy: 0.5341 - val_false_negatives: 45.0000 - val_false_positives: 31.0000 - val_true_negatives: 233.0000 - val_true_positives: 43.0000\n",
            "Epoch 47/200\n",
            "44/44 [==============================] - 1s 15ms/step - loss: 0.5889 - Accuracy: 0.7727 - false_negatives: 95.0000 - false_positives: 53.0000 - true_negatives: 1003.0000 - true_positives: 257.0000 - val_loss: 1.2849 - val_Accuracy: 0.5682 - val_false_negatives: 42.0000 - val_false_positives: 30.0000 - val_true_negatives: 234.0000 - val_true_positives: 46.0000\n",
            "Epoch 48/200\n",
            "44/44 [==============================] - 1s 14ms/step - loss: 0.5973 - Accuracy: 0.7471 - false_negatives: 101.0000 - false_positives: 67.0000 - true_negatives: 977.0000 - true_positives: 247.0000 - val_loss: 1.2500 - val_Accuracy: 0.5682 - val_false_negatives: 41.0000 - val_false_positives: 31.0000 - val_true_negatives: 233.0000 - val_true_positives: 47.0000\n",
            "Epoch 49/200\n",
            "44/44 [==============================] - 1s 14ms/step - loss: 0.5632 - Accuracy: 0.7989 - false_negatives: 86.0000 - false_positives: 48.0000 - true_negatives: 996.0000 - true_positives: 262.0000 - val_loss: 1.2397 - val_Accuracy: 0.5682 - val_false_negatives: 44.0000 - val_false_positives: 30.0000 - val_true_negatives: 234.0000 - val_true_positives: 44.0000\n",
            "Epoch 50/200\n",
            "44/44 [==============================] - 1s 14ms/step - loss: 0.5635 - Accuracy: 0.8103 - false_negatives: 81.0000 - false_positives: 55.0000 - true_negatives: 989.0000 - true_positives: 267.0000 - val_loss: 1.5323 - val_Accuracy: 0.5568 - val_false_negatives: 45.0000 - val_false_positives: 35.0000 - val_true_negatives: 229.0000 - val_true_positives: 43.0000\n",
            "Epoch 51/200\n",
            "44/44 [==============================] - 1s 14ms/step - loss: 0.5721 - Accuracy: 0.7845 - false_negatives: 91.0000 - false_positives: 52.0000 - true_negatives: 992.0000 - true_positives: 257.0000 - val_loss: 1.3562 - val_Accuracy: 0.5909 - val_false_negatives: 43.0000 - val_false_positives: 31.0000 - val_true_negatives: 233.0000 - val_true_positives: 45.0000\n",
            "Epoch 52/200\n",
            "44/44 [==============================] - 1s 15ms/step - loss: 0.5613 - Accuracy: 0.7701 - false_negatives: 88.0000 - false_positives: 58.0000 - true_negatives: 986.0000 - true_positives: 260.0000 - val_loss: 1.3126 - val_Accuracy: 0.5909 - val_false_negatives: 43.0000 - val_false_positives: 33.0000 - val_true_negatives: 231.0000 - val_true_positives: 45.0000\n",
            "Epoch 53/200\n",
            "44/44 [==============================] - 1s 14ms/step - loss: 0.5892 - Accuracy: 0.7730 - false_negatives: 103.0000 - false_positives: 55.0000 - true_negatives: 989.0000 - true_positives: 245.0000 - val_loss: 1.3198 - val_Accuracy: 0.5568 - val_false_negatives: 41.0000 - val_false_positives: 31.0000 - val_true_negatives: 233.0000 - val_true_positives: 47.0000\n",
            "Epoch 54/200\n",
            "44/44 [==============================] - 1s 14ms/step - loss: 0.5423 - Accuracy: 0.7989 - false_negatives: 84.0000 - false_positives: 56.0000 - true_negatives: 988.0000 - true_positives: 264.0000 - val_loss: 1.3106 - val_Accuracy: 0.5909 - val_false_negatives: 42.0000 - val_false_positives: 27.0000 - val_true_negatives: 237.0000 - val_true_positives: 46.0000\n",
            "Epoch 55/200\n",
            "44/44 [==============================] - 1s 15ms/step - loss: 0.5316 - Accuracy: 0.8103 - false_negatives: 79.0000 - false_positives: 47.0000 - true_negatives: 997.0000 - true_positives: 269.0000 - val_loss: 1.2077 - val_Accuracy: 0.5682 - val_false_negatives: 45.0000 - val_false_positives: 26.0000 - val_true_negatives: 238.0000 - val_true_positives: 43.0000\n",
            "Epoch 56/200\n",
            "44/44 [==============================] - 1s 14ms/step - loss: 0.5510 - Accuracy: 0.7931 - false_negatives: 86.0000 - false_positives: 49.0000 - true_negatives: 995.0000 - true_positives: 262.0000 - val_loss: 1.3049 - val_Accuracy: 0.5455 - val_false_negatives: 44.0000 - val_false_positives: 30.0000 - val_true_negatives: 234.0000 - val_true_positives: 44.0000\n",
            "Epoch 57/200\n",
            "44/44 [==============================] - 1s 14ms/step - loss: 0.5277 - Accuracy: 0.7902 - false_negatives: 85.0000 - false_positives: 58.0000 - true_negatives: 986.0000 - true_positives: 263.0000 - val_loss: 1.4841 - val_Accuracy: 0.5455 - val_false_negatives: 42.0000 - val_false_positives: 31.0000 - val_true_negatives: 233.0000 - val_true_positives: 46.0000\n",
            "Epoch 58/200\n",
            "44/44 [==============================] - 1s 14ms/step - loss: 0.5646 - Accuracy: 0.7701 - false_negatives: 94.0000 - false_positives: 58.0000 - true_negatives: 986.0000 - true_positives: 254.0000 - val_loss: 1.5770 - val_Accuracy: 0.5682 - val_false_negatives: 43.0000 - val_false_positives: 35.0000 - val_true_negatives: 229.0000 - val_true_positives: 45.0000\n",
            "Epoch 59/200\n",
            "44/44 [==============================] - 1s 14ms/step - loss: 0.6041 - Accuracy: 0.7701 - false_negatives: 96.0000 - false_positives: 58.0000 - true_negatives: 986.0000 - true_positives: 252.0000 - val_loss: 1.4792 - val_Accuracy: 0.5682 - val_false_negatives: 41.0000 - val_false_positives: 33.0000 - val_true_negatives: 231.0000 - val_true_positives: 47.0000\n",
            "Epoch 60/200\n",
            "44/44 [==============================] - 1s 14ms/step - loss: 0.5507 - Accuracy: 0.7960 - false_negatives: 86.0000 - false_positives: 52.0000 - true_negatives: 992.0000 - true_positives: 262.0000 - val_loss: 1.1866 - val_Accuracy: 0.5909 - val_false_negatives: 42.0000 - val_false_positives: 29.0000 - val_true_negatives: 235.0000 - val_true_positives: 46.0000\n",
            "Epoch 61/200\n",
            "44/44 [==============================] - 1s 15ms/step - loss: 0.5557 - Accuracy: 0.7902 - false_negatives: 84.0000 - false_positives: 56.0000 - true_negatives: 988.0000 - true_positives: 264.0000 - val_loss: 1.5104 - val_Accuracy: 0.5795 - val_false_negatives: 41.0000 - val_false_positives: 31.0000 - val_true_negatives: 233.0000 - val_true_positives: 47.0000\n",
            "Epoch 62/200\n",
            "44/44 [==============================] - 1s 14ms/step - loss: 0.5167 - Accuracy: 0.8017 - false_negatives: 81.0000 - false_positives: 52.0000 - true_negatives: 992.0000 - true_positives: 267.0000 - val_loss: 1.3672 - val_Accuracy: 0.5795 - val_false_negatives: 41.0000 - val_false_positives: 31.0000 - val_true_negatives: 233.0000 - val_true_positives: 47.0000\n",
            "Epoch 63/200\n",
            "44/44 [==============================] - 1s 15ms/step - loss: 0.5094 - Accuracy: 0.8161 - false_negatives: 77.0000 - false_positives: 48.0000 - true_negatives: 996.0000 - true_positives: 271.0000 - val_loss: 1.6413 - val_Accuracy: 0.5682 - val_false_negatives: 40.0000 - val_false_positives: 34.0000 - val_true_negatives: 230.0000 - val_true_positives: 48.0000\n",
            "Epoch 64/200\n",
            "44/44 [==============================] - 1s 14ms/step - loss: 0.5627 - Accuracy: 0.7759 - false_negatives: 94.0000 - false_positives: 55.0000 - true_negatives: 989.0000 - true_positives: 254.0000 - val_loss: 1.2760 - val_Accuracy: 0.5682 - val_false_negatives: 42.0000 - val_false_positives: 29.0000 - val_true_negatives: 235.0000 - val_true_positives: 46.0000\n",
            "Epoch 65/200\n",
            "44/44 [==============================] - 1s 14ms/step - loss: 0.5337 - Accuracy: 0.7931 - false_negatives: 83.0000 - false_positives: 50.0000 - true_negatives: 994.0000 - true_positives: 265.0000 - val_loss: 1.3952 - val_Accuracy: 0.5795 - val_false_negatives: 42.0000 - val_false_positives: 35.0000 - val_true_negatives: 229.0000 - val_true_positives: 46.0000\n",
            "Epoch 66/200\n",
            "44/44 [==============================] - 1s 14ms/step - loss: 0.5602 - Accuracy: 0.8132 - false_negatives: 76.0000 - false_positives: 50.0000 - true_negatives: 994.0000 - true_positives: 272.0000 - val_loss: 1.2772 - val_Accuracy: 0.5795 - val_false_negatives: 41.0000 - val_false_positives: 27.0000 - val_true_negatives: 237.0000 - val_true_positives: 47.0000\n",
            "Epoch 67/200\n",
            "44/44 [==============================] - 1s 14ms/step - loss: 0.5067 - Accuracy: 0.8305 - false_negatives: 74.0000 - false_positives: 45.0000 - true_negatives: 999.0000 - true_positives: 274.0000 - val_loss: 1.5333 - val_Accuracy: 0.5568 - val_false_negatives: 42.0000 - val_false_positives: 32.0000 - val_true_negatives: 232.0000 - val_true_positives: 46.0000\n",
            "Epoch 68/200\n",
            "44/44 [==============================] - 1s 15ms/step - loss: 0.4703 - Accuracy: 0.8161 - false_negatives: 79.0000 - false_positives: 44.0000 - true_negatives: 1000.0000 - true_positives: 269.0000 - val_loss: 1.4385 - val_Accuracy: 0.6023 - val_false_negatives: 41.0000 - val_false_positives: 29.0000 - val_true_negatives: 235.0000 - val_true_positives: 47.0000\n",
            "Epoch 69/200\n",
            "44/44 [==============================] - 1s 15ms/step - loss: 0.4984 - Accuracy: 0.7989 - false_negatives: 80.0000 - false_positives: 51.0000 - true_negatives: 993.0000 - true_positives: 268.0000 - val_loss: 1.4448 - val_Accuracy: 0.5682 - val_false_negatives: 42.0000 - val_false_positives: 31.0000 - val_true_negatives: 233.0000 - val_true_positives: 46.0000\n",
            "Epoch 70/200\n",
            "44/44 [==============================] - 1s 15ms/step - loss: 0.4597 - Accuracy: 0.8276 - false_negatives: 74.0000 - false_positives: 46.0000 - true_negatives: 998.0000 - true_positives: 274.0000 - val_loss: 1.3317 - val_Accuracy: 0.5909 - val_false_negatives: 41.0000 - val_false_positives: 23.0000 - val_true_negatives: 241.0000 - val_true_positives: 47.0000\n",
            "Epoch 71/200\n",
            "44/44 [==============================] - 1s 15ms/step - loss: 0.5016 - Accuracy: 0.8075 - false_negatives: 82.0000 - false_positives: 50.0000 - true_negatives: 994.0000 - true_positives: 266.0000 - val_loss: 1.4043 - val_Accuracy: 0.5795 - val_false_negatives: 43.0000 - val_false_positives: 31.0000 - val_true_negatives: 233.0000 - val_true_positives: 45.0000\n",
            "Epoch 72/200\n",
            "44/44 [==============================] - 1s 14ms/step - loss: 0.4505 - Accuracy: 0.8333 - false_negatives: 67.0000 - false_positives: 46.0000 - true_negatives: 998.0000 - true_positives: 281.0000 - val_loss: 1.8684 - val_Accuracy: 0.5568 - val_false_negatives: 40.0000 - val_false_positives: 33.0000 - val_true_negatives: 231.0000 - val_true_positives: 48.0000\n",
            "Epoch 73/200\n",
            "44/44 [==============================] - 1s 14ms/step - loss: 0.4795 - Accuracy: 0.8182 - false_negatives: 81.0000 - false_positives: 44.0000 - true_negatives: 1012.0000 - true_positives: 271.0000 - val_loss: 1.5632 - val_Accuracy: 0.5795 - val_false_negatives: 43.0000 - val_false_positives: 31.0000 - val_true_negatives: 233.0000 - val_true_positives: 45.0000\n",
            "Epoch 74/200\n",
            "44/44 [==============================] - 1s 14ms/step - loss: 0.4795 - Accuracy: 0.8046 - false_negatives: 82.0000 - false_positives: 50.0000 - true_negatives: 994.0000 - true_positives: 266.0000 - val_loss: 1.4085 - val_Accuracy: 0.5455 - val_false_negatives: 43.0000 - val_false_positives: 27.0000 - val_true_negatives: 237.0000 - val_true_positives: 45.0000\n",
            "Epoch 75/200\n",
            "44/44 [==============================] - 1s 15ms/step - loss: 0.4917 - Accuracy: 0.8305 - false_negatives: 73.0000 - false_positives: 44.0000 - true_negatives: 1000.0000 - true_positives: 275.0000 - val_loss: 1.9067 - val_Accuracy: 0.5682 - val_false_negatives: 41.0000 - val_false_positives: 33.0000 - val_true_negatives: 231.0000 - val_true_positives: 47.0000\n",
            "Epoch 76/200\n",
            "44/44 [==============================] - 1s 14ms/step - loss: 0.4866 - Accuracy: 0.8190 - false_negatives: 73.0000 - false_positives: 49.0000 - true_negatives: 995.0000 - true_positives: 275.0000 - val_loss: 1.7287 - val_Accuracy: 0.5682 - val_false_negatives: 43.0000 - val_false_positives: 32.0000 - val_true_negatives: 232.0000 - val_true_positives: 45.0000\n",
            "Epoch 77/200\n",
            "44/44 [==============================] - 1s 15ms/step - loss: 0.4716 - Accuracy: 0.8420 - false_negatives: 68.0000 - false_positives: 34.0000 - true_negatives: 1010.0000 - true_positives: 280.0000 - val_loss: 2.4444 - val_Accuracy: 0.5227 - val_false_negatives: 43.0000 - val_false_positives: 37.0000 - val_true_negatives: 227.0000 - val_true_positives: 45.0000\n",
            "Epoch 78/200\n",
            "44/44 [==============================] - 1s 15ms/step - loss: 0.4887 - Accuracy: 0.8103 - false_negatives: 74.0000 - false_positives: 47.0000 - true_negatives: 997.0000 - true_positives: 274.0000 - val_loss: 1.4360 - val_Accuracy: 0.6023 - val_false_negatives: 40.0000 - val_false_positives: 28.0000 - val_true_negatives: 236.0000 - val_true_positives: 48.0000\n",
            "Epoch 79/200\n",
            "44/44 [==============================] - 1s 15ms/step - loss: 0.4307 - Accuracy: 0.8362 - false_negatives: 68.0000 - false_positives: 40.0000 - true_negatives: 1004.0000 - true_positives: 280.0000 - val_loss: 1.5600 - val_Accuracy: 0.5341 - val_false_negatives: 44.0000 - val_false_positives: 29.0000 - val_true_negatives: 235.0000 - val_true_positives: 44.0000\n",
            "Epoch 80/200\n",
            "44/44 [==============================] - 1s 14ms/step - loss: 0.4173 - Accuracy: 0.8477 - false_negatives: 69.0000 - false_positives: 35.0000 - true_negatives: 1009.0000 - true_positives: 279.0000 - val_loss: 1.9850 - val_Accuracy: 0.5341 - val_false_negatives: 42.0000 - val_false_positives: 35.0000 - val_true_negatives: 229.0000 - val_true_positives: 46.0000\n",
            "Epoch 81/200\n",
            "44/44 [==============================] - 1s 15ms/step - loss: 0.4744 - Accuracy: 0.8276 - false_negatives: 66.0000 - false_positives: 44.0000 - true_negatives: 1000.0000 - true_positives: 282.0000 - val_loss: 1.7551 - val_Accuracy: 0.5568 - val_false_negatives: 43.0000 - val_false_positives: 36.0000 - val_true_negatives: 228.0000 - val_true_positives: 45.0000\n",
            "Epoch 82/200\n",
            "44/44 [==============================] - 1s 14ms/step - loss: 0.4759 - Accuracy: 0.8046 - false_negatives: 80.0000 - false_positives: 51.0000 - true_negatives: 993.0000 - true_positives: 268.0000 - val_loss: 1.5668 - val_Accuracy: 0.5455 - val_false_negatives: 43.0000 - val_false_positives: 28.0000 - val_true_negatives: 236.0000 - val_true_positives: 45.0000\n",
            "Epoch 83/200\n",
            "44/44 [==============================] - 1s 15ms/step - loss: 0.4372 - Accuracy: 0.8391 - false_negatives: 65.0000 - false_positives: 40.0000 - true_negatives: 1004.0000 - true_positives: 283.0000 - val_loss: 2.1335 - val_Accuracy: 0.5455 - val_false_negatives: 42.0000 - val_false_positives: 35.0000 - val_true_negatives: 229.0000 - val_true_positives: 46.0000\n",
            "Epoch 84/200\n",
            "44/44 [==============================] - 1s 15ms/step - loss: 0.4827 - Accuracy: 0.8276 - false_negatives: 73.0000 - false_positives: 46.0000 - true_negatives: 998.0000 - true_positives: 275.0000 - val_loss: 1.3507 - val_Accuracy: 0.6364 - val_false_negatives: 38.0000 - val_false_positives: 27.0000 - val_true_negatives: 237.0000 - val_true_positives: 50.0000\n",
            "Epoch 85/200\n",
            "44/44 [==============================] - 1s 15ms/step - loss: 0.4760 - Accuracy: 0.8333 - false_negatives: 72.0000 - false_positives: 42.0000 - true_negatives: 1002.0000 - true_positives: 276.0000 - val_loss: 1.2908 - val_Accuracy: 0.6023 - val_false_negatives: 39.0000 - val_false_positives: 27.0000 - val_true_negatives: 237.0000 - val_true_positives: 49.0000\n",
            "Epoch 86/200\n",
            "44/44 [==============================] - 1s 15ms/step - loss: 0.4553 - Accuracy: 0.8305 - false_negatives: 64.0000 - false_positives: 46.0000 - true_negatives: 998.0000 - true_positives: 284.0000 - val_loss: 1.3732 - val_Accuracy: 0.5909 - val_false_negatives: 43.0000 - val_false_positives: 31.0000 - val_true_negatives: 233.0000 - val_true_positives: 45.0000\n",
            "Epoch 87/200\n",
            "44/44 [==============================] - 1s 15ms/step - loss: 0.4144 - Accuracy: 0.8305 - false_negatives: 70.0000 - false_positives: 45.0000 - true_negatives: 999.0000 - true_positives: 278.0000 - val_loss: 1.4804 - val_Accuracy: 0.5682 - val_false_negatives: 42.0000 - val_false_positives: 31.0000 - val_true_negatives: 233.0000 - val_true_positives: 46.0000\n",
            "Epoch 88/200\n",
            "44/44 [==============================] - 1s 14ms/step - loss: 0.4341 - Accuracy: 0.8218 - false_negatives: 72.0000 - false_positives: 44.0000 - true_negatives: 1000.0000 - true_positives: 276.0000 - val_loss: 1.4448 - val_Accuracy: 0.5568 - val_false_negatives: 41.0000 - val_false_positives: 27.0000 - val_true_negatives: 237.0000 - val_true_positives: 47.0000\n",
            "Epoch 89/200\n",
            "44/44 [==============================] - 1s 16ms/step - loss: 0.4464 - Accuracy: 0.8305 - false_negatives: 70.0000 - false_positives: 43.0000 - true_negatives: 1001.0000 - true_positives: 278.0000 - val_loss: 1.4542 - val_Accuracy: 0.6591 - val_false_negatives: 36.0000 - val_false_positives: 28.0000 - val_true_negatives: 236.0000 - val_true_positives: 52.0000\n",
            "Epoch 90/200\n",
            "44/44 [==============================] - 1s 16ms/step - loss: 0.4488 - Accuracy: 0.8218 - false_negatives: 73.0000 - false_positives: 49.0000 - true_negatives: 995.0000 - true_positives: 275.0000 - val_loss: 1.7286 - val_Accuracy: 0.5682 - val_false_negatives: 39.0000 - val_false_positives: 34.0000 - val_true_negatives: 230.0000 - val_true_positives: 49.0000\n",
            "Epoch 91/200\n",
            "44/44 [==============================] - 1s 15ms/step - loss: 0.4183 - Accuracy: 0.8391 - false_negatives: 72.0000 - false_positives: 44.0000 - true_negatives: 1000.0000 - true_positives: 276.0000 - val_loss: 1.4895 - val_Accuracy: 0.6023 - val_false_negatives: 37.0000 - val_false_positives: 29.0000 - val_true_negatives: 235.0000 - val_true_positives: 51.0000\n",
            "Epoch 92/200\n",
            "44/44 [==============================] - 1s 21ms/step - loss: 0.4033 - Accuracy: 0.8420 - false_negatives: 68.0000 - false_positives: 44.0000 - true_negatives: 1000.0000 - true_positives: 280.0000 - val_loss: 2.0667 - val_Accuracy: 0.5455 - val_false_negatives: 41.0000 - val_false_positives: 32.0000 - val_true_negatives: 232.0000 - val_true_positives: 47.0000\n",
            "Epoch 93/200\n",
            "44/44 [==============================] - 1s 22ms/step - loss: 0.4448 - Accuracy: 0.8247 - false_negatives: 69.0000 - false_positives: 47.0000 - true_negatives: 997.0000 - true_positives: 279.0000 - val_loss: 1.8317 - val_Accuracy: 0.5568 - val_false_negatives: 41.0000 - val_false_positives: 36.0000 - val_true_negatives: 228.0000 - val_true_positives: 47.0000\n",
            "Epoch 94/200\n",
            "44/44 [==============================] - 1s 15ms/step - loss: 0.3776 - Accuracy: 0.8420 - false_negatives: 61.0000 - false_positives: 36.0000 - true_negatives: 1008.0000 - true_positives: 287.0000 - val_loss: 2.1044 - val_Accuracy: 0.5341 - val_false_negatives: 41.0000 - val_false_positives: 35.0000 - val_true_negatives: 229.0000 - val_true_positives: 47.0000\n",
            "Epoch 95/200\n",
            "44/44 [==============================] - 1s 14ms/step - loss: 0.4318 - Accuracy: 0.8678 - false_negatives: 55.0000 - false_positives: 34.0000 - true_negatives: 1010.0000 - true_positives: 293.0000 - val_loss: 2.1136 - val_Accuracy: 0.5341 - val_false_negatives: 42.0000 - val_false_positives: 33.0000 - val_true_negatives: 231.0000 - val_true_positives: 46.0000\n",
            "Epoch 96/200\n",
            "44/44 [==============================] - 1s 15ms/step - loss: 0.3849 - Accuracy: 0.8420 - false_negatives: 65.0000 - false_positives: 41.0000 - true_negatives: 1003.0000 - true_positives: 283.0000 - val_loss: 1.9718 - val_Accuracy: 0.6023 - val_false_negatives: 39.0000 - val_false_positives: 33.0000 - val_true_negatives: 231.0000 - val_true_positives: 49.0000\n",
            "Epoch 97/200\n",
            "44/44 [==============================] - 1s 15ms/step - loss: 0.3730 - Accuracy: 0.8448 - false_negatives: 63.0000 - false_positives: 43.0000 - true_negatives: 1001.0000 - true_positives: 285.0000 - val_loss: 1.9909 - val_Accuracy: 0.5341 - val_false_negatives: 43.0000 - val_false_positives: 33.0000 - val_true_negatives: 231.0000 - val_true_positives: 45.0000\n",
            "Epoch 98/200\n",
            "44/44 [==============================] - 1s 16ms/step - loss: 0.4133 - Accuracy: 0.8362 - false_negatives: 64.0000 - false_positives: 40.0000 - true_negatives: 1004.0000 - true_positives: 284.0000 - val_loss: 1.6347 - val_Accuracy: 0.5568 - val_false_negatives: 42.0000 - val_false_positives: 35.0000 - val_true_negatives: 229.0000 - val_true_positives: 46.0000\n",
            "Epoch 99/200\n",
            "44/44 [==============================] - 1s 17ms/step - loss: 0.3705 - Accuracy: 0.8563 - false_negatives: 59.0000 - false_positives: 43.0000 - true_negatives: 1001.0000 - true_positives: 289.0000 - val_loss: 1.7243 - val_Accuracy: 0.5568 - val_false_negatives: 42.0000 - val_false_positives: 31.0000 - val_true_negatives: 233.0000 - val_true_positives: 46.0000\n",
            "Epoch 100/200\n",
            "44/44 [==============================] - 1s 14ms/step - loss: 0.4298 - Accuracy: 0.8477 - false_negatives: 64.0000 - false_positives: 40.0000 - true_negatives: 1004.0000 - true_positives: 284.0000 - val_loss: 1.4915 - val_Accuracy: 0.5568 - val_false_negatives: 43.0000 - val_false_positives: 34.0000 - val_true_negatives: 230.0000 - val_true_positives: 45.0000\n",
            "Epoch 101/200\n",
            "44/44 [==============================] - 1s 15ms/step - loss: 0.3972 - Accuracy: 0.8420 - false_negatives: 66.0000 - false_positives: 44.0000 - true_negatives: 1000.0000 - true_positives: 282.0000 - val_loss: 1.6734 - val_Accuracy: 0.5341 - val_false_negatives: 42.0000 - val_false_positives: 36.0000 - val_true_negatives: 228.0000 - val_true_positives: 46.0000\n",
            "Epoch 102/200\n",
            "44/44 [==============================] - 1s 15ms/step - loss: 0.4098 - Accuracy: 0.8362 - false_negatives: 69.0000 - false_positives: 47.0000 - true_negatives: 997.0000 - true_positives: 279.0000 - val_loss: 1.6388 - val_Accuracy: 0.5455 - val_false_negatives: 43.0000 - val_false_positives: 32.0000 - val_true_negatives: 232.0000 - val_true_positives: 45.0000\n",
            "Epoch 103/200\n",
            "44/44 [==============================] - 1s 15ms/step - loss: 0.4158 - Accuracy: 0.8362 - false_negatives: 65.0000 - false_positives: 49.0000 - true_negatives: 995.0000 - true_positives: 283.0000 - val_loss: 1.5759 - val_Accuracy: 0.5568 - val_false_negatives: 45.0000 - val_false_positives: 28.0000 - val_true_negatives: 236.0000 - val_true_positives: 43.0000\n",
            "Epoch 104/200\n",
            "44/44 [==============================] - 1s 25ms/step - loss: 0.3557 - Accuracy: 0.8678 - false_negatives: 55.0000 - false_positives: 31.0000 - true_negatives: 1013.0000 - true_positives: 293.0000 - val_loss: 1.5605 - val_Accuracy: 0.6023 - val_false_negatives: 40.0000 - val_false_positives: 32.0000 - val_true_negatives: 232.0000 - val_true_positives: 48.0000\n",
            "Epoch 105/200\n",
            "44/44 [==============================] - 1s 24ms/step - loss: 0.3561 - Accuracy: 0.8736 - false_negatives: 54.0000 - false_positives: 38.0000 - true_negatives: 1006.0000 - true_positives: 294.0000 - val_loss: 1.6317 - val_Accuracy: 0.5909 - val_false_negatives: 41.0000 - val_false_positives: 27.0000 - val_true_negatives: 237.0000 - val_true_positives: 47.0000\n",
            "Epoch 106/200\n",
            "44/44 [==============================] - 1s 24ms/step - loss: 0.3424 - Accuracy: 0.8592 - false_negatives: 55.0000 - false_positives: 41.0000 - true_negatives: 1003.0000 - true_positives: 293.0000 - val_loss: 1.5820 - val_Accuracy: 0.5909 - val_false_negatives: 37.0000 - val_false_positives: 31.0000 - val_true_negatives: 233.0000 - val_true_positives: 51.0000\n",
            "Epoch 107/200\n",
            "44/44 [==============================] - 1s 16ms/step - loss: 0.4067 - Accuracy: 0.8477 - false_negatives: 60.0000 - false_positives: 43.0000 - true_negatives: 1001.0000 - true_positives: 288.0000 - val_loss: 1.8381 - val_Accuracy: 0.5909 - val_false_negatives: 41.0000 - val_false_positives: 28.0000 - val_true_negatives: 236.0000 - val_true_positives: 47.0000\n",
            "Epoch 108/200\n",
            "44/44 [==============================] - 1s 15ms/step - loss: 0.3896 - Accuracy: 0.8592 - false_negatives: 62.0000 - false_positives: 40.0000 - true_negatives: 1004.0000 - true_positives: 286.0000 - val_loss: 1.9002 - val_Accuracy: 0.5568 - val_false_negatives: 40.0000 - val_false_positives: 33.0000 - val_true_negatives: 231.0000 - val_true_positives: 48.0000\n",
            "Epoch 109/200\n",
            "44/44 [==============================] - 1s 15ms/step - loss: 0.3865 - Accuracy: 0.8506 - false_negatives: 60.0000 - false_positives: 40.0000 - true_negatives: 1004.0000 - true_positives: 288.0000 - val_loss: 2.1626 - val_Accuracy: 0.5455 - val_false_negatives: 41.0000 - val_false_positives: 36.0000 - val_true_negatives: 228.0000 - val_true_positives: 47.0000\n",
            "Epoch 110/200\n",
            "44/44 [==============================] - 1s 15ms/step - loss: 0.3588 - Accuracy: 0.8851 - false_negatives: 49.0000 - false_positives: 32.0000 - true_negatives: 1012.0000 - true_positives: 299.0000 - val_loss: 2.3723 - val_Accuracy: 0.5114 - val_false_negatives: 43.0000 - val_false_positives: 34.0000 - val_true_negatives: 230.0000 - val_true_positives: 45.0000\n",
            "Epoch 111/200\n",
            "44/44 [==============================] - 1s 15ms/step - loss: 0.3634 - Accuracy: 0.8649 - false_negatives: 52.0000 - false_positives: 40.0000 - true_negatives: 1004.0000 - true_positives: 296.0000 - val_loss: 1.5977 - val_Accuracy: 0.5795 - val_false_negatives: 39.0000 - val_false_positives: 33.0000 - val_true_negatives: 231.0000 - val_true_positives: 49.0000\n",
            "Epoch 112/200\n",
            "44/44 [==============================] - 1s 15ms/step - loss: 0.3904 - Accuracy: 0.8362 - false_negatives: 68.0000 - false_positives: 49.0000 - true_negatives: 995.0000 - true_positives: 280.0000 - val_loss: 2.3893 - val_Accuracy: 0.5455 - val_false_negatives: 42.0000 - val_false_positives: 34.0000 - val_true_negatives: 230.0000 - val_true_positives: 46.0000\n",
            "Epoch 113/200\n",
            "44/44 [==============================] - 1s 15ms/step - loss: 0.3548 - Accuracy: 0.8678 - false_negatives: 56.0000 - false_positives: 33.0000 - true_negatives: 1011.0000 - true_positives: 292.0000 - val_loss: 1.7100 - val_Accuracy: 0.5909 - val_false_negatives: 36.0000 - val_false_positives: 33.0000 - val_true_negatives: 231.0000 - val_true_positives: 52.0000\n",
            "Epoch 114/200\n",
            "44/44 [==============================] - 1s 15ms/step - loss: 0.3313 - Accuracy: 0.8707 - false_negatives: 52.0000 - false_positives: 36.0000 - true_negatives: 1008.0000 - true_positives: 296.0000 - val_loss: 1.8269 - val_Accuracy: 0.5682 - val_false_negatives: 40.0000 - val_false_positives: 34.0000 - val_true_negatives: 230.0000 - val_true_positives: 48.0000\n",
            "Epoch 115/200\n",
            "44/44 [==============================] - 1s 16ms/step - loss: 0.3928 - Accuracy: 0.8305 - false_negatives: 63.0000 - false_positives: 52.0000 - true_negatives: 992.0000 - true_positives: 285.0000 - val_loss: 1.5448 - val_Accuracy: 0.5455 - val_false_negatives: 48.0000 - val_false_positives: 28.0000 - val_true_negatives: 236.0000 - val_true_positives: 40.0000\n",
            "Epoch 116/200\n",
            "44/44 [==============================] - 1s 16ms/step - loss: 0.3609 - Accuracy: 0.8563 - false_negatives: 56.0000 - false_positives: 39.0000 - true_negatives: 1005.0000 - true_positives: 292.0000 - val_loss: 2.0347 - val_Accuracy: 0.5455 - val_false_negatives: 44.0000 - val_false_positives: 34.0000 - val_true_negatives: 230.0000 - val_true_positives: 44.0000\n",
            "Epoch 117/200\n",
            "44/44 [==============================] - 1s 15ms/step - loss: 0.3735 - Accuracy: 0.8621 - false_negatives: 55.0000 - false_positives: 36.0000 - true_negatives: 1008.0000 - true_positives: 293.0000 - val_loss: 1.4342 - val_Accuracy: 0.6477 - val_false_negatives: 39.0000 - val_false_positives: 28.0000 - val_true_negatives: 236.0000 - val_true_positives: 49.0000\n",
            "Epoch 118/200\n",
            "44/44 [==============================] - 1s 15ms/step - loss: 0.3268 - Accuracy: 0.8764 - false_negatives: 51.0000 - false_positives: 34.0000 - true_negatives: 1010.0000 - true_positives: 297.0000 - val_loss: 1.6042 - val_Accuracy: 0.6136 - val_false_negatives: 41.0000 - val_false_positives: 27.0000 - val_true_negatives: 237.0000 - val_true_positives: 47.0000\n",
            "Epoch 119/200\n",
            "44/44 [==============================] - 1s 15ms/step - loss: 0.3712 - Accuracy: 0.8506 - false_negatives: 57.0000 - false_positives: 42.0000 - true_negatives: 1002.0000 - true_positives: 291.0000 - val_loss: 1.5400 - val_Accuracy: 0.5682 - val_false_negatives: 39.0000 - val_false_positives: 32.0000 - val_true_negatives: 232.0000 - val_true_positives: 49.0000\n",
            "Epoch 120/200\n",
            "44/44 [==============================] - 1s 15ms/step - loss: 0.3526 - Accuracy: 0.8621 - false_negatives: 55.0000 - false_positives: 33.0000 - true_negatives: 1011.0000 - true_positives: 293.0000 - val_loss: 1.5847 - val_Accuracy: 0.6023 - val_false_negatives: 39.0000 - val_false_positives: 29.0000 - val_true_negatives: 235.0000 - val_true_positives: 49.0000\n",
            "Epoch 121/200\n",
            "44/44 [==============================] - 1s 15ms/step - loss: 0.3835 - Accuracy: 0.8563 - false_negatives: 58.0000 - false_positives: 43.0000 - true_negatives: 1001.0000 - true_positives: 290.0000 - val_loss: 1.9815 - val_Accuracy: 0.5568 - val_false_negatives: 42.0000 - val_false_positives: 31.0000 - val_true_negatives: 233.0000 - val_true_positives: 46.0000\n",
            "Epoch 122/200\n",
            "44/44 [==============================] - 1s 15ms/step - loss: 0.3196 - Accuracy: 0.8764 - false_negatives: 52.0000 - false_positives: 37.0000 - true_negatives: 1007.0000 - true_positives: 296.0000 - val_loss: 2.0600 - val_Accuracy: 0.5795 - val_false_negatives: 40.0000 - val_false_positives: 29.0000 - val_true_negatives: 235.0000 - val_true_positives: 48.0000\n",
            "Epoch 123/200\n",
            "44/44 [==============================] - 1s 15ms/step - loss: 0.3893 - Accuracy: 0.8563 - false_negatives: 57.0000 - false_positives: 41.0000 - true_negatives: 1003.0000 - true_positives: 291.0000 - val_loss: 1.9178 - val_Accuracy: 0.5455 - val_false_negatives: 42.0000 - val_false_positives: 33.0000 - val_true_negatives: 231.0000 - val_true_positives: 46.0000\n",
            "Epoch 124/200\n",
            "44/44 [==============================] - 1s 15ms/step - loss: 0.2963 - Accuracy: 0.8937 - false_negatives: 42.0000 - false_positives: 29.0000 - true_negatives: 1015.0000 - true_positives: 306.0000 - val_loss: 1.9485 - val_Accuracy: 0.6023 - val_false_negatives: 37.0000 - val_false_positives: 31.0000 - val_true_negatives: 233.0000 - val_true_positives: 51.0000\n",
            "Epoch 125/200\n",
            "44/44 [==============================] - 1s 15ms/step - loss: 0.2743 - Accuracy: 0.9109 - false_negatives: 39.0000 - false_positives: 26.0000 - true_negatives: 1018.0000 - true_positives: 309.0000 - val_loss: 1.7125 - val_Accuracy: 0.6023 - val_false_negatives: 39.0000 - val_false_positives: 31.0000 - val_true_negatives: 233.0000 - val_true_positives: 49.0000\n",
            "Epoch 126/200\n",
            "44/44 [==============================] - 1s 15ms/step - loss: 0.3241 - Accuracy: 0.8707 - false_negatives: 49.0000 - false_positives: 37.0000 - true_negatives: 1007.0000 - true_positives: 299.0000 - val_loss: 1.4486 - val_Accuracy: 0.6591 - val_false_negatives: 36.0000 - val_false_positives: 27.0000 - val_true_negatives: 237.0000 - val_true_positives: 52.0000\n",
            "Epoch 127/200\n",
            "44/44 [==============================] - 1s 16ms/step - loss: 0.3401 - Accuracy: 0.8678 - false_negatives: 50.0000 - false_positives: 38.0000 - true_negatives: 1006.0000 - true_positives: 298.0000 - val_loss: 1.7911 - val_Accuracy: 0.5227 - val_false_negatives: 43.0000 - val_false_positives: 37.0000 - val_true_negatives: 227.0000 - val_true_positives: 45.0000\n",
            "Epoch 128/200\n",
            "44/44 [==============================] - 1s 15ms/step - loss: 0.3138 - Accuracy: 0.8764 - false_negatives: 49.0000 - false_positives: 32.0000 - true_negatives: 1012.0000 - true_positives: 299.0000 - val_loss: 1.9190 - val_Accuracy: 0.6023 - val_false_negatives: 35.0000 - val_false_positives: 32.0000 - val_true_negatives: 232.0000 - val_true_positives: 53.0000\n",
            "Epoch 129/200\n",
            "44/44 [==============================] - 1s 16ms/step - loss: 0.3403 - Accuracy: 0.8793 - false_negatives: 50.0000 - false_positives: 34.0000 - true_negatives: 1010.0000 - true_positives: 298.0000 - val_loss: 1.5852 - val_Accuracy: 0.6364 - val_false_negatives: 40.0000 - val_false_positives: 26.0000 - val_true_negatives: 238.0000 - val_true_positives: 48.0000\n",
            "Epoch 130/200\n",
            "44/44 [==============================] - 1s 15ms/step - loss: 0.3088 - Accuracy: 0.8563 - false_negatives: 59.0000 - false_positives: 43.0000 - true_negatives: 1001.0000 - true_positives: 289.0000 - val_loss: 1.7857 - val_Accuracy: 0.5568 - val_false_negatives: 41.0000 - val_false_positives: 36.0000 - val_true_negatives: 228.0000 - val_true_positives: 47.0000\n",
            "Epoch 131/200\n",
            "44/44 [==============================] - 1s 15ms/step - loss: 0.3155 - Accuracy: 0.8851 - false_negatives: 42.0000 - false_positives: 33.0000 - true_negatives: 1011.0000 - true_positives: 306.0000 - val_loss: 2.2748 - val_Accuracy: 0.5455 - val_false_negatives: 41.0000 - val_false_positives: 35.0000 - val_true_negatives: 229.0000 - val_true_positives: 47.0000\n",
            "Epoch 132/200\n",
            "44/44 [==============================] - 1s 15ms/step - loss: 0.3656 - Accuracy: 0.8592 - false_negatives: 56.0000 - false_positives: 43.0000 - true_negatives: 1001.0000 - true_positives: 292.0000 - val_loss: 1.7722 - val_Accuracy: 0.5341 - val_false_negatives: 44.0000 - val_false_positives: 29.0000 - val_true_negatives: 235.0000 - val_true_positives: 44.0000\n",
            "Epoch 133/200\n",
            "44/44 [==============================] - 1s 16ms/step - loss: 0.2911 - Accuracy: 0.8908 - false_negatives: 46.0000 - false_positives: 30.0000 - true_negatives: 1014.0000 - true_positives: 302.0000 - val_loss: 1.8766 - val_Accuracy: 0.5795 - val_false_negatives: 42.0000 - val_false_positives: 33.0000 - val_true_negatives: 231.0000 - val_true_positives: 46.0000\n",
            "Epoch 134/200\n",
            "44/44 [==============================] - 1s 16ms/step - loss: 0.3094 - Accuracy: 0.8937 - false_negatives: 46.0000 - false_positives: 29.0000 - true_negatives: 1015.0000 - true_positives: 302.0000 - val_loss: 1.7962 - val_Accuracy: 0.6250 - val_false_negatives: 34.0000 - val_false_positives: 31.0000 - val_true_negatives: 233.0000 - val_true_positives: 54.0000\n",
            "Epoch 135/200\n",
            "44/44 [==============================] - 1s 15ms/step - loss: 0.3082 - Accuracy: 0.8793 - false_negatives: 50.0000 - false_positives: 33.0000 - true_negatives: 1011.0000 - true_positives: 298.0000 - val_loss: 2.0493 - val_Accuracy: 0.5795 - val_false_negatives: 38.0000 - val_false_positives: 36.0000 - val_true_negatives: 228.0000 - val_true_positives: 50.0000\n",
            "Epoch 136/200\n",
            "44/44 [==============================] - 1s 15ms/step - loss: 0.2768 - Accuracy: 0.8937 - false_negatives: 41.0000 - false_positives: 33.0000 - true_negatives: 1011.0000 - true_positives: 307.0000 - val_loss: 1.8273 - val_Accuracy: 0.5909 - val_false_negatives: 38.0000 - val_false_positives: 31.0000 - val_true_negatives: 233.0000 - val_true_positives: 50.0000\n",
            "Epoch 137/200\n",
            "44/44 [==============================] - 1s 15ms/step - loss: 0.2839 - Accuracy: 0.9109 - false_negatives: 40.0000 - false_positives: 29.0000 - true_negatives: 1015.0000 - true_positives: 308.0000 - val_loss: 1.9517 - val_Accuracy: 0.5568 - val_false_negatives: 43.0000 - val_false_positives: 28.0000 - val_true_negatives: 236.0000 - val_true_positives: 45.0000\n",
            "Epoch 138/200\n",
            "44/44 [==============================] - 1s 16ms/step - loss: 0.2722 - Accuracy: 0.8937 - false_negatives: 40.0000 - false_positives: 34.0000 - true_negatives: 1010.0000 - true_positives: 308.0000 - val_loss: 1.7240 - val_Accuracy: 0.5909 - val_false_negatives: 37.0000 - val_false_positives: 32.0000 - val_true_negatives: 232.0000 - val_true_positives: 51.0000\n",
            "Epoch 139/200\n",
            "44/44 [==============================] - 1s 15ms/step - loss: 0.2399 - Accuracy: 0.9080 - false_negatives: 38.0000 - false_positives: 27.0000 - true_negatives: 1017.0000 - true_positives: 310.0000 - val_loss: 2.0706 - val_Accuracy: 0.4886 - val_false_negatives: 47.0000 - val_false_positives: 37.0000 - val_true_negatives: 227.0000 - val_true_positives: 41.0000\n",
            "Epoch 140/200\n",
            "44/44 [==============================] - 1s 15ms/step - loss: 0.2720 - Accuracy: 0.9052 - false_negatives: 41.0000 - false_positives: 28.0000 - true_negatives: 1016.0000 - true_positives: 307.0000 - val_loss: 1.6775 - val_Accuracy: 0.6364 - val_false_negatives: 33.0000 - val_false_positives: 29.0000 - val_true_negatives: 235.0000 - val_true_positives: 55.0000\n",
            "Epoch 141/200\n",
            "44/44 [==============================] - 1s 15ms/step - loss: 0.2460 - Accuracy: 0.8994 - false_negatives: 40.0000 - false_positives: 28.0000 - true_negatives: 1016.0000 - true_positives: 308.0000 - val_loss: 1.9784 - val_Accuracy: 0.6023 - val_false_negatives: 37.0000 - val_false_positives: 31.0000 - val_true_negatives: 233.0000 - val_true_positives: 51.0000\n",
            "Epoch 142/200\n",
            "44/44 [==============================] - 1s 15ms/step - loss: 0.2959 - Accuracy: 0.8851 - false_negatives: 48.0000 - false_positives: 34.0000 - true_negatives: 1010.0000 - true_positives: 300.0000 - val_loss: 1.9570 - val_Accuracy: 0.5227 - val_false_negatives: 43.0000 - val_false_positives: 31.0000 - val_true_negatives: 233.0000 - val_true_positives: 45.0000\n",
            "Epoch 143/200\n",
            "44/44 [==============================] - 1s 15ms/step - loss: 0.2492 - Accuracy: 0.9023 - false_negatives: 40.0000 - false_positives: 26.0000 - true_negatives: 1018.0000 - true_positives: 308.0000 - val_loss: 1.9116 - val_Accuracy: 0.5455 - val_false_negatives: 43.0000 - val_false_positives: 35.0000 - val_true_negatives: 229.0000 - val_true_positives: 45.0000\n",
            "Epoch 144/200\n",
            "44/44 [==============================] - 1s 15ms/step - loss: 0.2884 - Accuracy: 0.8908 - false_negatives: 44.0000 - false_positives: 31.0000 - true_negatives: 1013.0000 - true_positives: 304.0000 - val_loss: 1.8561 - val_Accuracy: 0.5568 - val_false_negatives: 41.0000 - val_false_positives: 33.0000 - val_true_negatives: 231.0000 - val_true_positives: 47.0000\n",
            "Epoch 145/200\n",
            "44/44 [==============================] - 1s 15ms/step - loss: 0.3493 - Accuracy: 0.8678 - false_negatives: 50.0000 - false_positives: 41.0000 - true_negatives: 1003.0000 - true_positives: 298.0000 - val_loss: 2.0848 - val_Accuracy: 0.4659 - val_false_negatives: 50.0000 - val_false_positives: 39.0000 - val_true_negatives: 225.0000 - val_true_positives: 38.0000\n",
            "Epoch 146/200\n",
            "44/44 [==============================] - 1s 16ms/step - loss: 0.2757 - Accuracy: 0.8822 - false_negatives: 41.0000 - false_positives: 32.0000 - true_negatives: 1012.0000 - true_positives: 307.0000 - val_loss: 1.6502 - val_Accuracy: 0.6250 - val_false_negatives: 36.0000 - val_false_positives: 31.0000 - val_true_negatives: 233.0000 - val_true_positives: 52.0000\n",
            "Epoch 147/200\n",
            "44/44 [==============================] - 1s 15ms/step - loss: 0.3480 - Accuracy: 0.8678 - false_negatives: 54.0000 - false_positives: 37.0000 - true_negatives: 1007.0000 - true_positives: 294.0000 - val_loss: 1.8063 - val_Accuracy: 0.5455 - val_false_negatives: 42.0000 - val_false_positives: 36.0000 - val_true_negatives: 228.0000 - val_true_positives: 46.0000\n",
            "Epoch 148/200\n",
            "44/44 [==============================] - 1s 15ms/step - loss: 0.3067 - Accuracy: 0.8764 - false_negatives: 47.0000 - false_positives: 34.0000 - true_negatives: 1010.0000 - true_positives: 301.0000 - val_loss: 1.9501 - val_Accuracy: 0.5795 - val_false_negatives: 40.0000 - val_false_positives: 30.0000 - val_true_negatives: 234.0000 - val_true_positives: 48.0000\n",
            "Epoch 149/200\n",
            "44/44 [==============================] - 1s 16ms/step - loss: 0.2816 - Accuracy: 0.8707 - false_negatives: 47.0000 - false_positives: 38.0000 - true_negatives: 1006.0000 - true_positives: 301.0000 - val_loss: 2.1497 - val_Accuracy: 0.5341 - val_false_negatives: 45.0000 - val_false_positives: 39.0000 - val_true_negatives: 225.0000 - val_true_positives: 43.0000\n",
            "Epoch 150/200\n",
            "44/44 [==============================] - 1s 15ms/step - loss: 0.3166 - Accuracy: 0.8764 - false_negatives: 47.0000 - false_positives: 36.0000 - true_negatives: 1008.0000 - true_positives: 301.0000 - val_loss: 1.8783 - val_Accuracy: 0.5795 - val_false_negatives: 39.0000 - val_false_positives: 32.0000 - val_true_negatives: 232.0000 - val_true_positives: 49.0000\n",
            "Epoch 151/200\n",
            "44/44 [==============================] - 1s 15ms/step - loss: 0.2593 - Accuracy: 0.8966 - false_negatives: 40.0000 - false_positives: 32.0000 - true_negatives: 1012.0000 - true_positives: 308.0000 - val_loss: 2.2670 - val_Accuracy: 0.5682 - val_false_negatives: 42.0000 - val_false_positives: 34.0000 - val_true_negatives: 230.0000 - val_true_positives: 46.0000\n",
            "Epoch 152/200\n",
            "44/44 [==============================] - 1s 16ms/step - loss: 0.2318 - Accuracy: 0.9253 - false_negatives: 30.0000 - false_positives: 21.0000 - true_negatives: 1023.0000 - true_positives: 318.0000 - val_loss: 1.9057 - val_Accuracy: 0.5682 - val_false_negatives: 39.0000 - val_false_positives: 32.0000 - val_true_negatives: 232.0000 - val_true_positives: 49.0000\n",
            "Epoch 153/200\n",
            "44/44 [==============================] - 1s 15ms/step - loss: 0.2441 - Accuracy: 0.9138 - false_negatives: 34.0000 - false_positives: 24.0000 - true_negatives: 1020.0000 - true_positives: 314.0000 - val_loss: 2.0714 - val_Accuracy: 0.5341 - val_false_negatives: 43.0000 - val_false_positives: 33.0000 - val_true_negatives: 231.0000 - val_true_positives: 45.0000\n",
            "Epoch 154/200\n",
            "44/44 [==============================] - 1s 15ms/step - loss: 0.2705 - Accuracy: 0.9052 - false_negatives: 39.0000 - false_positives: 27.0000 - true_negatives: 1017.0000 - true_positives: 309.0000 - val_loss: 1.8813 - val_Accuracy: 0.6023 - val_false_negatives: 40.0000 - val_false_positives: 33.0000 - val_true_negatives: 231.0000 - val_true_positives: 48.0000\n",
            "Epoch 155/200\n",
            "44/44 [==============================] - 1s 16ms/step - loss: 0.2154 - Accuracy: 0.9195 - false_negatives: 29.0000 - false_positives: 24.0000 - true_negatives: 1020.0000 - true_positives: 319.0000 - val_loss: 1.8208 - val_Accuracy: 0.5909 - val_false_negatives: 39.0000 - val_false_positives: 34.0000 - val_true_negatives: 230.0000 - val_true_positives: 49.0000\n",
            "Epoch 156/200\n",
            "44/44 [==============================] - 1s 16ms/step - loss: 0.2863 - Accuracy: 0.8937 - false_negatives: 43.0000 - false_positives: 33.0000 - true_negatives: 1011.0000 - true_positives: 305.0000 - val_loss: 2.0725 - val_Accuracy: 0.5341 - val_false_negatives: 44.0000 - val_false_positives: 32.0000 - val_true_negatives: 232.0000 - val_true_positives: 44.0000\n",
            "Epoch 157/200\n",
            "44/44 [==============================] - 1s 15ms/step - loss: 0.3351 - Accuracy: 0.8707 - false_negatives: 48.0000 - false_positives: 36.0000 - true_negatives: 1008.0000 - true_positives: 300.0000 - val_loss: 2.1699 - val_Accuracy: 0.4659 - val_false_negatives: 50.0000 - val_false_positives: 40.0000 - val_true_negatives: 224.0000 - val_true_positives: 38.0000\n",
            "Epoch 158/200\n",
            "44/44 [==============================] - 1s 16ms/step - loss: 0.2601 - Accuracy: 0.9195 - false_negatives: 34.0000 - false_positives: 24.0000 - true_negatives: 1020.0000 - true_positives: 314.0000 - val_loss: 1.9048 - val_Accuracy: 0.4886 - val_false_negatives: 48.0000 - val_false_positives: 36.0000 - val_true_negatives: 228.0000 - val_true_positives: 40.0000\n",
            "Epoch 159/200\n",
            "44/44 [==============================] - 1s 15ms/step - loss: 0.2421 - Accuracy: 0.9138 - false_negatives: 34.0000 - false_positives: 27.0000 - true_negatives: 1017.0000 - true_positives: 314.0000 - val_loss: 2.0129 - val_Accuracy: 0.5682 - val_false_negatives: 39.0000 - val_false_positives: 34.0000 - val_true_negatives: 230.0000 - val_true_positives: 49.0000\n",
            "Epoch 160/200\n",
            "44/44 [==============================] - 1s 16ms/step - loss: 0.2564 - Accuracy: 0.9023 - false_negatives: 38.0000 - false_positives: 31.0000 - true_negatives: 1013.0000 - true_positives: 310.0000 - val_loss: 2.2685 - val_Accuracy: 0.5568 - val_false_negatives: 41.0000 - val_false_positives: 35.0000 - val_true_negatives: 229.0000 - val_true_positives: 47.0000\n",
            "Epoch 161/200\n",
            "44/44 [==============================] - 1s 15ms/step - loss: 0.2562 - Accuracy: 0.9052 - false_negatives: 36.0000 - false_positives: 24.0000 - true_negatives: 1020.0000 - true_positives: 312.0000 - val_loss: 2.3867 - val_Accuracy: 0.5000 - val_false_negatives: 44.0000 - val_false_positives: 41.0000 - val_true_negatives: 223.0000 - val_true_positives: 44.0000\n",
            "Epoch 162/200\n",
            "44/44 [==============================] - 1s 15ms/step - loss: 0.2424 - Accuracy: 0.8966 - false_negatives: 40.0000 - false_positives: 35.0000 - true_negatives: 1009.0000 - true_positives: 308.0000 - val_loss: 2.1655 - val_Accuracy: 0.5682 - val_false_negatives: 39.0000 - val_false_positives: 35.0000 - val_true_negatives: 229.0000 - val_true_positives: 49.0000\n",
            "Epoch 163/200\n",
            "44/44 [==============================] - 1s 15ms/step - loss: 0.1772 - Accuracy: 0.9339 - false_negatives: 26.0000 - false_positives: 18.0000 - true_negatives: 1026.0000 - true_positives: 322.0000 - val_loss: 2.5156 - val_Accuracy: 0.5455 - val_false_negatives: 40.0000 - val_false_positives: 38.0000 - val_true_negatives: 226.0000 - val_true_positives: 48.0000\n",
            "Epoch 164/200\n",
            "44/44 [==============================] - 1s 15ms/step - loss: 0.2577 - Accuracy: 0.9109 - false_negatives: 40.0000 - false_positives: 25.0000 - true_negatives: 1019.0000 - true_positives: 308.0000 - val_loss: 2.5024 - val_Accuracy: 0.5114 - val_false_negatives: 44.0000 - val_false_positives: 36.0000 - val_true_negatives: 228.0000 - val_true_positives: 44.0000\n",
            "Epoch 165/200\n",
            "44/44 [==============================] - 1s 16ms/step - loss: 0.2901 - Accuracy: 0.8764 - false_negatives: 44.0000 - false_positives: 37.0000 - true_negatives: 1007.0000 - true_positives: 304.0000 - val_loss: 2.4018 - val_Accuracy: 0.4886 - val_false_negatives: 46.0000 - val_false_positives: 39.0000 - val_true_negatives: 225.0000 - val_true_positives: 42.0000\n",
            "Epoch 166/200\n",
            "44/44 [==============================] - 1s 15ms/step - loss: 0.2589 - Accuracy: 0.8994 - false_negatives: 39.0000 - false_positives: 28.0000 - true_negatives: 1016.0000 - true_positives: 309.0000 - val_loss: 2.1463 - val_Accuracy: 0.5568 - val_false_negatives: 42.0000 - val_false_positives: 33.0000 - val_true_negatives: 231.0000 - val_true_positives: 46.0000\n",
            "Epoch 167/200\n",
            "44/44 [==============================] - 1s 15ms/step - loss: 0.2631 - Accuracy: 0.8851 - false_negatives: 44.0000 - false_positives: 32.0000 - true_negatives: 1012.0000 - true_positives: 304.0000 - val_loss: 1.8831 - val_Accuracy: 0.5682 - val_false_negatives: 38.0000 - val_false_positives: 33.0000 - val_true_negatives: 231.0000 - val_true_positives: 50.0000\n",
            "Epoch 168/200\n",
            "44/44 [==============================] - 1s 16ms/step - loss: 0.2425 - Accuracy: 0.8966 - false_negatives: 40.0000 - false_positives: 29.0000 - true_negatives: 1015.0000 - true_positives: 308.0000 - val_loss: 2.0028 - val_Accuracy: 0.6023 - val_false_negatives: 36.0000 - val_false_positives: 33.0000 - val_true_negatives: 231.0000 - val_true_positives: 52.0000\n",
            "Epoch 169/200\n",
            "44/44 [==============================] - 1s 16ms/step - loss: 0.2235 - Accuracy: 0.9224 - false_negatives: 33.0000 - false_positives: 24.0000 - true_negatives: 1020.0000 - true_positives: 315.0000 - val_loss: 1.7152 - val_Accuracy: 0.5341 - val_false_negatives: 44.0000 - val_false_positives: 35.0000 - val_true_negatives: 229.0000 - val_true_positives: 44.0000\n",
            "Epoch 170/200\n",
            "44/44 [==============================] - 1s 15ms/step - loss: 0.1969 - Accuracy: 0.9253 - false_negatives: 30.0000 - false_positives: 20.0000 - true_negatives: 1024.0000 - true_positives: 318.0000 - val_loss: 2.3270 - val_Accuracy: 0.5455 - val_false_negatives: 41.0000 - val_false_positives: 37.0000 - val_true_negatives: 227.0000 - val_true_positives: 47.0000\n",
            "Epoch 171/200\n",
            "44/44 [==============================] - 1s 15ms/step - loss: 0.2064 - Accuracy: 0.9195 - false_negatives: 31.0000 - false_positives: 26.0000 - true_negatives: 1018.0000 - true_positives: 317.0000 - val_loss: 2.5608 - val_Accuracy: 0.5455 - val_false_negatives: 44.0000 - val_false_positives: 36.0000 - val_true_negatives: 228.0000 - val_true_positives: 44.0000\n",
            "Epoch 172/200\n",
            "44/44 [==============================] - 1s 15ms/step - loss: 0.2517 - Accuracy: 0.9052 - false_negatives: 35.0000 - false_positives: 29.0000 - true_negatives: 1015.0000 - true_positives: 313.0000 - val_loss: 2.2653 - val_Accuracy: 0.5227 - val_false_negatives: 43.0000 - val_false_positives: 38.0000 - val_true_negatives: 226.0000 - val_true_positives: 45.0000\n",
            "Epoch 173/200\n",
            "44/44 [==============================] - 1s 15ms/step - loss: 0.2202 - Accuracy: 0.9195 - false_negatives: 32.0000 - false_positives: 24.0000 - true_negatives: 1020.0000 - true_positives: 316.0000 - val_loss: 2.0600 - val_Accuracy: 0.5795 - val_false_negatives: 39.0000 - val_false_positives: 34.0000 - val_true_negatives: 230.0000 - val_true_positives: 49.0000\n",
            "Epoch 174/200\n",
            "44/44 [==============================] - 1s 15ms/step - loss: 0.1974 - Accuracy: 0.9253 - false_negatives: 33.0000 - false_positives: 19.0000 - true_negatives: 1025.0000 - true_positives: 315.0000 - val_loss: 2.3453 - val_Accuracy: 0.5682 - val_false_negatives: 38.0000 - val_false_positives: 33.0000 - val_true_negatives: 231.0000 - val_true_positives: 50.0000\n",
            "Epoch 175/200\n",
            "44/44 [==============================] - 1s 16ms/step - loss: 0.2445 - Accuracy: 0.9006 - false_negatives: 35.0000 - false_positives: 30.0000 - true_negatives: 1026.0000 - true_positives: 317.0000 - val_loss: 2.1078 - val_Accuracy: 0.5795 - val_false_negatives: 38.0000 - val_false_positives: 34.0000 - val_true_negatives: 230.0000 - val_true_positives: 50.0000\n",
            "Epoch 176/200\n",
            "44/44 [==============================] - 1s 15ms/step - loss: 0.2055 - Accuracy: 0.9253 - false_negatives: 28.0000 - false_positives: 25.0000 - true_negatives: 1019.0000 - true_positives: 320.0000 - val_loss: 2.3545 - val_Accuracy: 0.5000 - val_false_negatives: 46.0000 - val_false_positives: 40.0000 - val_true_negatives: 224.0000 - val_true_positives: 42.0000\n",
            "Epoch 177/200\n",
            "44/44 [==============================] - 1s 16ms/step - loss: 0.1817 - Accuracy: 0.9253 - false_negatives: 28.0000 - false_positives: 24.0000 - true_negatives: 1020.0000 - true_positives: 320.0000 - val_loss: 1.9762 - val_Accuracy: 0.5114 - val_false_negatives: 45.0000 - val_false_positives: 37.0000 - val_true_negatives: 227.0000 - val_true_positives: 43.0000\n",
            "Epoch 178/200\n",
            "44/44 [==============================] - 1s 15ms/step - loss: 0.2091 - Accuracy: 0.9261 - false_negatives: 32.0000 - false_positives: 25.0000 - true_negatives: 1031.0000 - true_positives: 320.0000 - val_loss: 2.3455 - val_Accuracy: 0.5341 - val_false_negatives: 42.0000 - val_false_positives: 39.0000 - val_true_negatives: 225.0000 - val_true_positives: 46.0000\n",
            "Epoch 179/200\n",
            "44/44 [==============================] - 1s 16ms/step - loss: 0.2365 - Accuracy: 0.9167 - false_negatives: 33.0000 - false_positives: 26.0000 - true_negatives: 1018.0000 - true_positives: 315.0000 - val_loss: 2.4986 - val_Accuracy: 0.5682 - val_false_negatives: 39.0000 - val_false_positives: 34.0000 - val_true_negatives: 230.0000 - val_true_positives: 49.0000\n",
            "Epoch 180/200\n",
            "44/44 [==============================] - 1s 15ms/step - loss: 0.2135 - Accuracy: 0.9282 - false_negatives: 31.0000 - false_positives: 18.0000 - true_negatives: 1026.0000 - true_positives: 317.0000 - val_loss: 1.7898 - val_Accuracy: 0.6250 - val_false_negatives: 34.0000 - val_false_positives: 31.0000 - val_true_negatives: 233.0000 - val_true_positives: 54.0000\n",
            "Epoch 181/200\n",
            "44/44 [==============================] - 1s 16ms/step - loss: 0.2462 - Accuracy: 0.9062 - false_negatives: 37.0000 - false_positives: 25.0000 - true_negatives: 1031.0000 - true_positives: 315.0000 - val_loss: 2.3750 - val_Accuracy: 0.5568 - val_false_negatives: 39.0000 - val_false_positives: 35.0000 - val_true_negatives: 229.0000 - val_true_positives: 49.0000\n",
            "Epoch 182/200\n",
            "44/44 [==============================] - 1s 16ms/step - loss: 0.2000 - Accuracy: 0.9138 - false_negatives: 32.0000 - false_positives: 25.0000 - true_negatives: 1019.0000 - true_positives: 316.0000 - val_loss: 2.0705 - val_Accuracy: 0.5909 - val_false_negatives: 39.0000 - val_false_positives: 32.0000 - val_true_negatives: 232.0000 - val_true_positives: 49.0000\n",
            "Epoch 183/200\n",
            "44/44 [==============================] - 1s 15ms/step - loss: 0.2034 - Accuracy: 0.9339 - false_negatives: 27.0000 - false_positives: 21.0000 - true_negatives: 1023.0000 - true_positives: 321.0000 - val_loss: 2.2287 - val_Accuracy: 0.5909 - val_false_negatives: 40.0000 - val_false_positives: 32.0000 - val_true_negatives: 232.0000 - val_true_positives: 48.0000\n",
            "Epoch 184/200\n",
            "44/44 [==============================] - 1s 15ms/step - loss: 0.2439 - Accuracy: 0.9310 - false_negatives: 30.0000 - false_positives: 23.0000 - true_negatives: 1021.0000 - true_positives: 318.0000 - val_loss: 2.7411 - val_Accuracy: 0.5341 - val_false_negatives: 42.0000 - val_false_positives: 39.0000 - val_true_negatives: 225.0000 - val_true_positives: 46.0000\n",
            "Epoch 185/200\n",
            "44/44 [==============================] - 1s 17ms/step - loss: 0.1996 - Accuracy: 0.9167 - false_negatives: 32.0000 - false_positives: 24.0000 - true_negatives: 1020.0000 - true_positives: 316.0000 - val_loss: 2.4149 - val_Accuracy: 0.5682 - val_false_negatives: 42.0000 - val_false_positives: 34.0000 - val_true_negatives: 230.0000 - val_true_positives: 46.0000\n",
            "Epoch 186/200\n",
            "44/44 [==============================] - 1s 16ms/step - loss: 0.2279 - Accuracy: 0.9195 - false_negatives: 32.0000 - false_positives: 26.0000 - true_negatives: 1018.0000 - true_positives: 316.0000 - val_loss: 2.5034 - val_Accuracy: 0.5000 - val_false_negatives: 45.0000 - val_false_positives: 37.0000 - val_true_negatives: 227.0000 - val_true_positives: 43.0000\n",
            "Epoch 187/200\n",
            "44/44 [==============================] - 1s 16ms/step - loss: 0.2779 - Accuracy: 0.9052 - false_negatives: 35.0000 - false_positives: 28.0000 - true_negatives: 1016.0000 - true_positives: 313.0000 - val_loss: 2.2091 - val_Accuracy: 0.5568 - val_false_negatives: 41.0000 - val_false_positives: 35.0000 - val_true_negatives: 229.0000 - val_true_positives: 47.0000\n",
            "Epoch 188/200\n",
            "44/44 [==============================] - 1s 16ms/step - loss: 0.1857 - Accuracy: 0.9195 - false_negatives: 32.0000 - false_positives: 23.0000 - true_negatives: 1021.0000 - true_positives: 316.0000 - val_loss: 2.5011 - val_Accuracy: 0.5682 - val_false_negatives: 42.0000 - val_false_positives: 33.0000 - val_true_negatives: 231.0000 - val_true_positives: 46.0000\n",
            "Epoch 189/200\n",
            "44/44 [==============================] - 1s 16ms/step - loss: 0.1790 - Accuracy: 0.9368 - false_negatives: 24.0000 - false_positives: 19.0000 - true_negatives: 1025.0000 - true_positives: 324.0000 - val_loss: 2.0060 - val_Accuracy: 0.5682 - val_false_negatives: 40.0000 - val_false_positives: 33.0000 - val_true_negatives: 231.0000 - val_true_positives: 48.0000\n",
            "Epoch 190/200\n",
            "44/44 [==============================] - 1s 16ms/step - loss: 0.1737 - Accuracy: 0.9253 - false_negatives: 26.0000 - false_positives: 23.0000 - true_negatives: 1021.0000 - true_positives: 322.0000 - val_loss: 2.8737 - val_Accuracy: 0.5455 - val_false_negatives: 41.0000 - val_false_positives: 35.0000 - val_true_negatives: 229.0000 - val_true_positives: 47.0000\n",
            "Epoch 191/200\n",
            "44/44 [==============================] - 1s 16ms/step - loss: 0.3283 - Accuracy: 0.8678 - false_negatives: 48.0000 - false_positives: 42.0000 - true_negatives: 1002.0000 - true_positives: 300.0000 - val_loss: 2.2636 - val_Accuracy: 0.5114 - val_false_negatives: 44.0000 - val_false_positives: 38.0000 - val_true_negatives: 226.0000 - val_true_positives: 44.0000\n",
            "Epoch 192/200\n",
            "44/44 [==============================] - 1s 16ms/step - loss: 0.2174 - Accuracy: 0.9080 - false_negatives: 37.0000 - false_positives: 28.0000 - true_negatives: 1016.0000 - true_positives: 311.0000 - val_loss: 2.8717 - val_Accuracy: 0.5114 - val_false_negatives: 45.0000 - val_false_positives: 39.0000 - val_true_negatives: 225.0000 - val_true_positives: 43.0000\n",
            "Epoch 193/200\n",
            "44/44 [==============================] - 1s 15ms/step - loss: 0.2049 - Accuracy: 0.9310 - false_negatives: 30.0000 - false_positives: 22.0000 - true_negatives: 1022.0000 - true_positives: 318.0000 - val_loss: 2.3117 - val_Accuracy: 0.4432 - val_false_negatives: 52.0000 - val_false_positives: 45.0000 - val_true_negatives: 219.0000 - val_true_positives: 36.0000\n",
            "Epoch 194/200\n",
            "44/44 [==============================] - 1s 15ms/step - loss: 0.2151 - Accuracy: 0.9167 - false_negatives: 33.0000 - false_positives: 25.0000 - true_negatives: 1019.0000 - true_positives: 315.0000 - val_loss: 2.4065 - val_Accuracy: 0.5341 - val_false_negatives: 41.0000 - val_false_positives: 37.0000 - val_true_negatives: 227.0000 - val_true_positives: 47.0000\n",
            "Epoch 195/200\n",
            "44/44 [==============================] - 1s 16ms/step - loss: 0.2568 - Accuracy: 0.9195 - false_negatives: 30.0000 - false_positives: 22.0000 - true_negatives: 1022.0000 - true_positives: 318.0000 - val_loss: 2.0885 - val_Accuracy: 0.5341 - val_false_negatives: 44.0000 - val_false_positives: 36.0000 - val_true_negatives: 228.0000 - val_true_positives: 44.0000\n",
            "Epoch 196/200\n",
            "44/44 [==============================] - 1s 16ms/step - loss: 0.1557 - Accuracy: 0.9569 - false_negatives: 18.0000 - false_positives: 15.0000 - true_negatives: 1029.0000 - true_positives: 330.0000 - val_loss: 2.5012 - val_Accuracy: 0.5568 - val_false_negatives: 42.0000 - val_false_positives: 35.0000 - val_true_negatives: 229.0000 - val_true_positives: 46.0000\n",
            "Epoch 197/200\n",
            "44/44 [==============================] - 1s 16ms/step - loss: 0.1848 - Accuracy: 0.9368 - false_negatives: 30.0000 - false_positives: 18.0000 - true_negatives: 1026.0000 - true_positives: 318.0000 - val_loss: 2.2196 - val_Accuracy: 0.5114 - val_false_negatives: 45.0000 - val_false_positives: 41.0000 - val_true_negatives: 223.0000 - val_true_positives: 43.0000\n",
            "Epoch 198/200\n",
            "44/44 [==============================] - 1s 16ms/step - loss: 0.2221 - Accuracy: 0.9195 - false_negatives: 32.0000 - false_positives: 26.0000 - true_negatives: 1018.0000 - true_positives: 316.0000 - val_loss: 2.4044 - val_Accuracy: 0.5795 - val_false_negatives: 39.0000 - val_false_positives: 32.0000 - val_true_negatives: 232.0000 - val_true_positives: 49.0000\n",
            "Epoch 199/200\n",
            "44/44 [==============================] - 1s 16ms/step - loss: 0.1973 - Accuracy: 0.9167 - false_negatives: 33.0000 - false_positives: 27.0000 - true_negatives: 1017.0000 - true_positives: 315.0000 - val_loss: 2.2966 - val_Accuracy: 0.5114 - val_false_negatives: 44.0000 - val_false_positives: 41.0000 - val_true_negatives: 223.0000 - val_true_positives: 44.0000\n",
            "Epoch 200/200\n",
            "44/44 [==============================] - 1s 15ms/step - loss: 0.1670 - Accuracy: 0.9425 - false_negatives: 22.0000 - false_positives: 18.0000 - true_negatives: 1026.0000 - true_positives: 326.0000 - val_loss: 2.4263 - val_Accuracy: 0.5682 - val_false_negatives: 39.0000 - val_false_positives: 34.0000 - val_true_negatives: 230.0000 - val_true_positives: 49.0000\n"
          ]
        }
      ]
    },
    {
      "cell_type": "markdown",
      "source": [
        "Plotting Traning Result"
      ],
      "metadata": {
        "id": "XZSFG8fXqz7c"
      }
    },
    {
      "cell_type": "code",
      "source": [
        "  #plotting\n",
        "  epochs = range(1, len(history.history['loss'])+1)\n",
        "  plt.title(f\"Grafik loss training iterasi {iterasi}\")\n",
        "  plt.plot(epochs, history.history['loss'], 'r', label='Training Loss')\n",
        "  plt.plot(epochs, history.history['val_loss'], 'b', label='Validation Loss')    \n",
        "  plt.xlabel(\"Epoch\")\n",
        "  plt.ylabel(\"Loss\")\n",
        "  plt.legend()\n",
        "  plt.show()\n"
      ],
      "metadata": {
        "id": "3dXbDrJpY1NK",
        "colab": {
          "base_uri": "https://localhost:8080/",
          "height": 295
        },
        "outputId": "d6978602-cfcf-4a08-a219-a2e638c3e433"
      },
      "execution_count": 12,
      "outputs": [
        {
          "output_type": "display_data",
          "data": {
            "text/plain": [
              "<Figure size 432x288 with 1 Axes>"
            ],
            "image/png": "[encoded data removed]"
          },
          "metadata": {
            "needs_background": "light"
          }
        }
      ]
    },
    {
      "cell_type": "code",
      "source": [
        "  #plotting\n",
        "  epochs = range(1, len(history.history['loss'])+1)\n",
        "  plt.title(f\"Grafik Akurasi training iterasi {iterasi}\")\n",
        "  plt.plot(epochs, history.history['Accuracy'], 'r', label='Training Accuracy')\n",
        "  plt.plot(epochs, history.history['val_Accuracy'], 'b', label='Validation Accuracy')    \n",
        "  plt.xlabel(\"Epoch\")\n",
        "  plt.ylabel(\"Accuracy\")\n",
        "  plt.legend()\n",
        "  plt.show()"
      ],
      "metadata": {
        "id": "j3xigprPwlSX",
        "colab": {
          "base_uri": "https://localhost:8080/",
          "height": 295
        },
        "outputId": "a4feadb1-cd32-4da0-c012-b367eeffa504"
      },
      "execution_count": 13,
      "outputs": [
        {
          "output_type": "display_data",
          "data": {
            "text/plain": [
              "<Figure size 432x288 with 1 Axes>"
            ],
            "image/png": "[encoded data removed]"
          },
          "metadata": {
            "needs_background": "light"
          }
        }
      ]
    },
    {
      "cell_type": "code",
      "source": [
        "import matplotlib.pyplot as plt\n",
        "from sklearn.datasets import make_classification\n",
        "from numpy import mean\n",
        "from sklearn.metrics import confusion_matrix, ConfusionMatrixDisplay, accuracy_score, classification_report, recall_score\n",
        "\n",
        "validation = model.predict(np_image_list_validation)\n",
        "\n",
        "predicted_labels = []\n",
        "correct_labels = []\n",
        "for i in range (len(validation)):\n",
        "  predicted_labels.append(np.argmax(validation[i]))\n",
        "\n",
        "for i in range (len(image_labels_validation)):\n",
        "  correct_labels.append(np.argmax(image_labels_validation[i]))\n",
        "\n",
        "\n",
        "confusion_matrix = confusion_matrix(correct_labels, predicted_labels)\n",
        "disp = ConfusionMatrixDisplay(confusion_matrix=confusion_matrix)  \n",
        "disp.plot()\n",
        "plt.show()\n",
        "print('--------')\n",
        "FP = confusion_matrix.sum(axis=0) - np.diag(confusion_matrix)  \n",
        "FN = confusion_matrix.sum(axis=1) - np.diag(confusion_matrix)\n",
        "TP = np.diag(confusion_matrix)\n",
        "TN = confusion_matrix.sum() - (FP + FN + TP)\n",
        "\n",
        "# Sensitivity, hit rate, recall, or true positive rate\n",
        "TPR = TP/(TP+FN)\n",
        "# Specificity or true negative rate\n",
        "TNR = TN/(TN+FP) \n",
        "# Overall accuracy\n",
        "ACC = (TP+TN)/(TP+FP+FN+TN)\n",
        "\n",
        "print(TP)\n",
        "print(TN)\n",
        "print(FP)\n",
        "print(FN)\n",
        "print('--------')\n",
        "print(ACC)\n",
        "print(TPR)\n",
        "print(TNR)\n",
        "print('--------')\n",
        "\n",
        "TP = sum(TP)\n",
        "TN = sum(TN)\n",
        "FP = sum(FP)\n",
        "FN = sum(FN)\n",
        "\n",
        "# Sensitivity, hit rate, recall, or true positive rate\n",
        "TPR = TP/(TP+FN)\n",
        "# Specificity or true negative rate\n",
        "TNR = TN/(TN+FP) \n",
        "# Overall accuracy\n",
        "ACC = (TP+TN)/(TP+FP+FN+TN)\n",
        "\n",
        "print(TP)\n",
        "print(TN)\n",
        "print(FP)\n",
        "print(FN)\n",
        "print('--------')\n",
        "print(ACC)\n",
        "print(TPR)\n",
        "print(TNR)"
      ],
      "metadata": {
        "colab": {
          "base_uri": "https://localhost:8080/",
          "height": 591
        },
        "id": "y0RigLm76Rpg",
        "outputId": "f1931386-5b1b-48c6-c698-8f0a42ed1022"
      },
      "execution_count": 14,
      "outputs": [
        {
          "output_type": "display_data",
          "data": {
            "text/plain": [
              "<Figure size 432x288 with 2 Axes>"
            ],
            "image/png": "[encoded data removed]"
          },
          "metadata": {
            "needs_background": "light"
          }
        },
        {
          "output_type": "stream",
          "name": "stdout",
          "text": [
            "--------\n",
            "[ 2  4  8 36]\n",
            "[75 72 52 27]\n",
            "[ 3  3 11 21]\n",
            "[ 8  9 17  4]\n",
            "--------\n",
            "[0.875      0.86363636 0.68181818 0.71590909]\n",
            "[0.2        0.30769231 0.32       0.9       ]\n",
            "[0.96153846 0.96       0.82539683 0.5625    ]\n",
            "--------\n",
            "50\n",
            "226\n",
            "38\n",
            "38\n",
            "--------\n",
            "0.7840909090909091\n",
            "0.5681818181818182\n",
            "0.8560606060606061\n"
          ]
        }
      ]
    },
    {
      "cell_type": "code",
      "source": [
        "import matplotlib.pyplot as plt\n",
        "from sklearn.datasets import make_classification\n",
        "from numpy import mean\n",
        "from sklearn.metrics import confusion_matrix, ConfusionMatrixDisplay, accuracy_score, classification_report, recall_score\n",
        "\n",
        "test = model.predict(np_image_list_test)\n",
        "\n",
        "predicted_labels = []\n",
        "correct_labels = []\n",
        "for i in range (len(test)):\n",
        "  predicted_labels.append(np.argmax(test[i]))\n",
        "\n",
        "for i in range (len(image_labels_test)):\n",
        "  correct_labels.append(np.argmax(image_labels_test[i]))\n",
        "\n",
        "\n",
        "confusion_matrix = confusion_matrix(correct_labels, predicted_labels)\n",
        "disp = ConfusionMatrixDisplay(confusion_matrix=confusion_matrix)  \n",
        "disp.plot()\n",
        "plt.show()\n",
        "print('--------')\n",
        "FP = confusion_matrix.sum(axis=0) - np.diag(confusion_matrix)  \n",
        "FN = confusion_matrix.sum(axis=1) - np.diag(confusion_matrix)\n",
        "TP = np.diag(confusion_matrix)\n",
        "TN = confusion_matrix.sum() - (FP + FN + TP)\n",
        "\n",
        "# Sensitivity, hit rate, recall, or true positive rate\n",
        "TPR = TP/(TP+FN)\n",
        "# Specificity or true negative rate\n",
        "TNR = TN/(TN+FP) \n",
        "# Overall accuracy\n",
        "ACC = (TP+TN)/(TP+FP+FN+TN)\n",
        "\n",
        "print(TP)\n",
        "print(TN)\n",
        "print(FP)\n",
        "print(FN)\n",
        "print('--------')\n",
        "print(ACC)\n",
        "print(TPR)\n",
        "print(TNR)\n",
        "print('--------')\n",
        "\n",
        "TP = sum(TP)\n",
        "TN = sum(TN)\n",
        "FP = sum(FP)\n",
        "FN = sum(FN)\n",
        "\n",
        "# Sensitivity, hit rate, recall, or true positive rate\n",
        "TPR = TP/(TP+FN)\n",
        "# Specificity or true negative rate\n",
        "TNR = TN/(TN+FP) \n",
        "# Overall accuracy\n",
        "ACC = (TP+TN)/(TP+FP+FN+TN)\n",
        "\n",
        "print(TP)\n",
        "print(TN)\n",
        "print(FP)\n",
        "print(FN)\n",
        "print('--------')\n",
        "print(ACC)\n",
        "print(TPR)\n",
        "print(TNR)"
      ],
      "metadata": {
        "colab": {
          "base_uri": "https://localhost:8080/",
          "height": 591
        },
        "id": "xufCN02P5v4A",
        "outputId": "18847a3e-6754-4aab-d067-7df881f9eb1c"
      },
      "execution_count": 15,
      "outputs": [
        {
          "output_type": "display_data",
          "data": {
            "text/plain": [
              "<Figure size 432x288 with 2 Axes>"
            ],
            "image/png": "[encoded data removed]"
          },
          "metadata": {
            "needs_background": "light"
          }
        },
        {
          "output_type": "stream",
          "name": "stdout",
          "text": [
            "--------\n",
            "[ 1  7 10 44]\n",
            "[91 88 68 35]\n",
            "[ 7  6 10 25]\n",
            "[11  9 22  6]\n",
            "--------\n",
            "[0.83636364 0.86363636 0.70909091 0.71818182]\n",
            "[0.08333333 0.4375     0.3125     0.88      ]\n",
            "[0.92857143 0.93617021 0.87179487 0.58333333]\n",
            "--------\n",
            "62\n",
            "282\n",
            "48\n",
            "48\n",
            "--------\n",
            "0.7818181818181819\n",
            "0.5636363636363636\n",
            "0.8545454545454545\n"
          ]
        }
      ]
    },
    {
      "cell_type": "markdown",
      "metadata": {
        "id": "bTgk1-sdzmgy"
      },
      "source": [
        "**Validating** Network"
      ]
    },
    {
      "cell_type": "code",
      "source": [
        "\n"
      ],
      "metadata": {
        "id": "d_NBE4KkWuhu"
      },
      "execution_count": 15,
      "outputs": []
    },
    {
      "cell_type": "markdown",
      "source": [
        "**Testing** Network"
      ],
      "metadata": {
        "id": "saJYjKqX9tRL"
      }
    },
    {
      "cell_type": "code",
      "source": [
        "\n"
      ],
      "metadata": {
        "id": "A7DR52hmTc75"
      },
      "execution_count": 15,
      "outputs": []
    },
    {
      "cell_type": "code",
      "source": [
        "test_img = cv2.imread('/content/Datasets/fold1/Test/apel_sehat/apel_sehat (1).jpg')\n",
        "\n",
        "plt.imshow(test_img)\n",
        "test_img = test_img / 255\n",
        "test_img = np.expand_dims(test_img, axis=0)\n",
        "pr=model.predict(test_img)\n",
        "\n",
        "print(pr)\n",
        "output = label_binarizer.inverse_transform(pr)\n",
        "print(output)"
      ],
      "metadata": {
        "colab": {
          "base_uri": "https://localhost:8080/",
          "height": 303
        },
        "id": "zkMI6CwJArvo",
        "outputId": "3f9e3c3e-abe7-428a-f386-e093c084640f"
      },
      "execution_count": 16,
      "outputs": [
        {
          "output_type": "stream",
          "name": "stdout",
          "text": [
            "[[7.6987490e-05 3.2204439e-06 3.1201052e-03 9.9679971e-01]]\n",
            "['apel_sehat']\n"
          ]
        },
        {
          "output_type": "display_data",
          "data": {
            "text/plain": [
              "<Figure size 432x288 with 1 Axes>"
            ],
            "image/png": "[encoded data removed]"
          },
          "metadata": {
            "needs_background": "light"
          }
        }
      ]
    },
    {
      "cell_type": "code",
      "source": [
        "# save the model to disk\n",
        "#print(\"[INFO] Saving model...\")\n",
        "#pickle.dump(model,open('cnn_model.pkl', 'wb'))\n",
        "#model.save('/content/fold1.h5')"
      ],
      "metadata": {
        "id": "Wr_b8qBuCAIS"
      },
      "execution_count": 17,
      "outputs": []
    }
  ]
}