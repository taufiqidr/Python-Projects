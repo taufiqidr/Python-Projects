{
  "nbformat": 4,
  "nbformat_minor": 0,
  "metadata": {
    "accelerator": "GPU",
    "colab": {
      "name": "Kodingan Skripsi 5 (VGG16)",
      "provenance": [],
      "collapsed_sections": [],
      "include_colab_link": true
    },
    "kernelspec": {
      "display_name": "Python 3",
      "language": "python",
      "name": "python3"
    },
    "language_info": {
      "codemirror_mode": {
        "name": "ipython",
        "version": 3
      },
      "file_extension": ".py",
      "mimetype": "text/x-python",
      "name": "python",
      "nbconvert_exporter": "python",
      "pygments_lexer": "ipython3",
      "version": "3.6.6"
    }
  },
  "cells": [
    {
      "cell_type": "markdown",
      "metadata": {
        "id": "view-in-github",
        "colab_type": "text"
      },
      "source": [
        "<a href=\"https://colab.research.google.com/github/TaufiqIdrus/Python-Projects/blob/master/25_vgg16.ipynb\" target=\"_parent\"><img src=\"https://colab.research.google.com/assets/colab-badge.svg\" alt=\"Open In Colab\"/></a>"
      ]
    },
    {
      "cell_type": "markdown",
      "metadata": {
        "id": "yJT_kQA2lITS"
      },
      "source": [
        "**Identifikasi Penyakit Pada Tanaman Apel menggunakan Convolutional Neural Network**"
      ]
    },
    {
      "cell_type": "code",
      "metadata": {
        "id": "xXeOaYTUzmgT"
      },
      "source": [
        "import numpy as np\n",
        "import pickle\n",
        "import os\n",
        "import cv2\n",
        "import tensorflow as tf\n",
        "import keras\n",
        "from os import listdir\n",
        "from sklearn.preprocessing import LabelBinarizer\n",
        "from sklearn.model_selection import KFold\n",
        "from keras.models import Sequential\n",
        "from keras.layers.normalization import batch_normalization\n",
        "from keras.layers.convolutional import Conv2D\n",
        "from keras.layers.convolutional import MaxPooling2D\n",
        "from keras.layers.core import Activation, Flatten, Dropout, Dense\n",
        "from keras import backend as K\n",
        "from tensorflow.keras.optimizers import Adam\n",
        "from keras.preprocessing import image\n",
        "from sklearn.preprocessing import MultiLabelBinarizer\n",
        "from sklearn.model_selection import train_test_split\n",
        "import matplotlib.pyplot as plt\n",
        "from sklearn.datasets import make_classification\n",
        "from numpy import mean\n",
        "from sklearn.metrics import confusion_matrix, ConfusionMatrixDisplay, accuracy_score, classification_report, recall_score\n"
      ],
      "execution_count": 1,
      "outputs": []
    },
    {
      "cell_type": "markdown",
      "metadata": {
        "id": "fp8C0d28lQok"
      },
      "source": [
        "Importing and Preparing Dataset"
      ]
    },
    {
      "cell_type": "code",
      "metadata": {
        "id": "_0xehllADlUs",
        "colab": {
          "base_uri": "https://localhost:8080/"
        },
        "outputId": "ef152bd7-55cb-4466-ee7b-c0323a45e0e8"
      },
      "source": [
        "!pip install pyunpack\n",
        "!pip install patool\n",
        "from pyunpack import Archive\n",
        "Archive('/content/fold1.rar').extractall('/content/Datasets/')\n",
        "iterasi = 1\n",
        "width=60\n",
        "height=60\n",
        "default_image_size = tuple((height, width))\n",
        "directory_root_train = '/content/Datasets/fold1/Train'\n",
        "directory_root_validation = '/content/Datasets/fold1/Validation'\n",
        "directory_root_test = '/content/Datasets/fold1/Test'\n",
        "image_size = 0\n",
        "depth=3"
      ],
      "execution_count": 2,
      "outputs": [
        {
          "output_type": "stream",
          "name": "stdout",
          "text": [
            "Looking in indexes: https://pypi.org/simple, https://us-python.pkg.dev/colab-wheels/public/simple/\n",
            "Requirement already satisfied: pyunpack in /usr/local/lib/python3.7/dist-packages (0.3)\n",
            "Requirement already satisfied: easyprocess in /usr/local/lib/python3.7/dist-packages (from pyunpack) (1.1)\n",
            "Requirement already satisfied: entrypoint2 in /usr/local/lib/python3.7/dist-packages (from pyunpack) (1.1)\n",
            "Looking in indexes: https://pypi.org/simple, https://us-python.pkg.dev/colab-wheels/public/simple/\n",
            "Requirement already satisfied: patool in /usr/local/lib/python3.7/dist-packages (1.12)\n"
          ]
        }
      ]
    },
    {
      "cell_type": "code",
      "metadata": {
        "id": "KbAwJJTpzmge"
      },
      "source": [
        "def convert_image_to_array(image_dir):\n",
        "    try:\n",
        "        image = cv2.imread(image_dir)\n",
        "        if image is not None :\n",
        "            image = cv2.resize(image, default_image_size)   \n",
        "            return keras.preprocessing.image.img_to_array(image)\n",
        "        else :\n",
        "            return np.array([])\n",
        "    except Exception as e:\n",
        "        print(f\"Error : {e}\")\n",
        "        return None"
      ],
      "execution_count": 3,
      "outputs": []
    },
    {
      "cell_type": "markdown",
      "source": [
        "Converting **Training** Data to Array"
      ],
      "metadata": {
        "id": "bgXxUMO2cI_D"
      }
    },
    {
      "cell_type": "code",
      "metadata": {
        "id": "Erz6IjKXzmgg",
        "colab": {
          "base_uri": "https://localhost:8080/"
        },
        "outputId": "5c736aab-c214-4cd0-ac16-46ce29e4ab03"
      },
      "source": [
        "import numpy as np\n",
        "from os import listdir\n",
        "from sklearn.preprocessing import LabelBinarizer\n",
        "import pickle\n",
        "image_list_train, label_list_train = [], []\n",
        "try:\n",
        "    print(\"[INFO] Loading images ...\")\n",
        "    root_dir = listdir(directory_root_train)\n",
        "\n",
        "    for plant_disease_folder in root_dir:\n",
        "        print(f\"[INFO] Processing {plant_disease_folder} ...\")\n",
        "        plant_disease_image_list = listdir(f\"{directory_root_train}/{plant_disease_folder}/\")\n",
        "      \n",
        "        for image in plant_disease_image_list:\n",
        "            image_directory = f\"{directory_root_train}/{plant_disease_folder}/{image}\"\n",
        "\n",
        "            if image_directory.endswith(\".jpg\") == True or image_directory.endswith(\".JPG\") == True:\n",
        "                image_list_train.append(convert_image_to_array(image_directory))\n",
        "                label_list_train.append(plant_disease_folder)\n",
        "    print(\"[INFO] Image loading completed\")\n",
        "\n",
        "except Exception as e:\n",
        "    print(f\"Error : {e}\")\n",
        "\n",
        "#image labeling\n",
        "image_size = len(image_list_train)\n",
        "label_binarizer = LabelBinarizer()\n",
        "image_labels_train = label_binarizer.fit_transform(label_list_train)\n",
        "pickle.dump(label_binarizer,open('label_transform_train.pkl', 'wb'))\n",
        "n_classes = len(label_binarizer.classes_)\n",
        "np_image_list_train = np.array(image_list_train, dtype=np.float16) / 255.0"
      ],
      "execution_count": 4,
      "outputs": [
        {
          "output_type": "stream",
          "name": "stdout",
          "text": [
            "[INFO] Loading images ...\n",
            "[INFO] Processing apel_sehat ...\n",
            "[INFO] Processing apel_bercak_daun ...\n",
            "[INFO] Processing apel_cacar_daun ...\n",
            "[INFO] Processing apel_busuk_buah ...\n",
            "[INFO] Image loading completed\n"
          ]
        }
      ]
    },
    {
      "cell_type": "markdown",
      "source": [
        "Converting **Validation** Data to Array"
      ],
      "metadata": {
        "id": "7eEMGiqRd_E4"
      }
    },
    {
      "cell_type": "code",
      "source": [
        "image_list_validation, label_list_validation = [], []\n",
        "try:\n",
        "    print(\"[INFO] Loading images ...\")\n",
        "    root_dir = listdir(directory_root_validation)\n",
        "\n",
        "    for plant_disease_folder in root_dir:\n",
        "        print(f\"[INFO] Processing {plant_disease_folder} ...\")\n",
        "        plant_disease_image_list = listdir(f\"{directory_root_validation}/{plant_disease_folder}/\")\n",
        "      \n",
        "        for image in plant_disease_image_list:\n",
        "            image_directory = f\"{directory_root_validation}/{plant_disease_folder}/{image}\"\n",
        "\n",
        "            if image_directory.endswith(\".jpg\") == True or image_directory.endswith(\".JPG\") == True:\n",
        "                image_list_validation.append(convert_image_to_array(image_directory))\n",
        "                label_list_validation.append(plant_disease_folder)\n",
        "    print(\"[INFO] Image loading completed\")\n",
        "\n",
        "except Exception as e:\n",
        "    print(f\"Error : {e}\")\n",
        "\n",
        "#image labeling\n",
        "image_size = len(image_list_validation)\n",
        "label_binarizer = LabelBinarizer()\n",
        "image_labels_validation = label_binarizer.fit_transform(label_list_validation)\n",
        "pickle.dump(label_binarizer,open('label_transform_validation.pkl', 'wb'))\n",
        "n_classes = len(label_binarizer.classes_)\n",
        "np_image_list_validation = np.array(image_list_validation, dtype=np.float16) / 255.0"
      ],
      "metadata": {
        "id": "wfHDdR0ZeEuU",
        "colab": {
          "base_uri": "https://localhost:8080/"
        },
        "outputId": "e045efb1-b5de-4209-8017-f564c8c13eb0"
      },
      "execution_count": 5,
      "outputs": [
        {
          "output_type": "stream",
          "name": "stdout",
          "text": [
            "[INFO] Loading images ...\n",
            "[INFO] Processing apel_sehat ...\n",
            "[INFO] Processing apel_bercak_daun ...\n",
            "[INFO] Processing apel_cacar_daun ...\n",
            "[INFO] Processing apel_busuk_buah ...\n",
            "[INFO] Image loading completed\n"
          ]
        }
      ]
    },
    {
      "cell_type": "markdown",
      "source": [
        "Converting **Testing** Data to Array"
      ],
      "metadata": {
        "id": "brwWyZVncTdg"
      }
    },
    {
      "cell_type": "code",
      "metadata": {
        "id": "uNPby5UMcaWY",
        "colab": {
          "base_uri": "https://localhost:8080/"
        },
        "outputId": "afd365c6-47ff-4dea-8c8f-ef30535f75e0"
      },
      "source": [
        "image_list_test, label_list_test = [], []\n",
        "try:\n",
        "    print(\"[INFO] Loading images ...\")\n",
        "    root_dir = listdir(directory_root_test)\n",
        "\n",
        "    for plant_disease_folder in root_dir:\n",
        "        print(f\"[INFO] Processing {plant_disease_folder} ...\")\n",
        "        plant_disease_image_list = listdir(f\"{directory_root_test}/{plant_disease_folder}/\")\n",
        "      \n",
        "        for image in plant_disease_image_list:\n",
        "            image_directory = f\"{directory_root_test}/{plant_disease_folder}/{image}\"\n",
        "\n",
        "            if image_directory.endswith(\".jpg\") == True or image_directory.endswith(\".JPG\") == True:\n",
        "                image_list_test.append(convert_image_to_array(image_directory))\n",
        "                label_list_test.append(plant_disease_folder)\n",
        "    print(\"[INFO] Image loading completed\")\n",
        "\n",
        "except Exception as e:\n",
        "    print(f\"Error : {e}\")\n",
        "\n",
        "#image labeling\n",
        "image_size = len(image_list_test)\n",
        "label_binarizer = LabelBinarizer()\n",
        "image_labels_test = label_binarizer.fit_transform(label_list_test)\n",
        "pickle.dump(label_binarizer,open('label_transform_test.pkl', 'wb'))\n",
        "n_classes = len(label_binarizer.classes_)\n",
        "np_image_list_test = np.array(image_list_test, dtype=np.float16) / 255.0"
      ],
      "execution_count": 6,
      "outputs": [
        {
          "output_type": "stream",
          "name": "stdout",
          "text": [
            "[INFO] Loading images ...\n",
            "[INFO] Processing apel_sehat ...\n",
            "[INFO] Processing apel_bercak_daun ...\n",
            "[INFO] Processing apel_cacar_daun ...\n",
            "[INFO] Processing apel_busuk_buah ...\n",
            "[INFO] Image loading completed\n"
          ]
        }
      ]
    },
    {
      "cell_type": "markdown",
      "metadata": {
        "id": "jYBTFN0CnAi7"
      },
      "source": [
        "Data Augmenting Initialization"
      ]
    },
    {
      "cell_type": "code",
      "metadata": {
        "id": "TLMxMK2Tzmgr"
      },
      "source": [
        "aug = keras.preprocessing.image.ImageDataGenerator(\n",
        "    rotation_range=25, \n",
        "    width_shift_range=0.1,\n",
        "    height_shift_range=0.1, \n",
        "    shear_range=0.2, \n",
        "    zoom_range=0.2,\n",
        "    horizontal_flip=True, \n",
        "    fill_mode=\"nearest\")"
      ],
      "execution_count": 7,
      "outputs": []
    },
    {
      "cell_type": "markdown",
      "metadata": {
        "id": "H1BfRyYNnGv_"
      },
      "source": [
        "Creating CNN Model"
      ]
    },
    {
      "cell_type": "code",
      "source": [
        "from tensorflow.keras.layers import Input, Conv2D \n",
        "from tensorflow.keras.layers import MaxPool2D, Flatten, Dense, AveragePooling2D\n",
        "from tensorflow.keras import Model\n",
        "# input\n",
        "\n",
        "input = Input(shape =(60,60,3))\n",
        "# 1st Conv Block\n",
        "\n",
        "x = Conv2D (filters =64, kernel_size =3, padding ='same', activation='relu')(input)\n",
        "x = Conv2D (filters =64, kernel_size =3, padding ='same', activation='relu')(x)\n",
        "x = AveragePooling2D(pool_size =2, strides =2, padding ='same')(x)\n",
        "# 2nd Conv Block\n",
        "\n",
        "x = Conv2D (filters =128, kernel_size =3, padding ='same', activation='relu')(x)\n",
        "x = Conv2D (filters =128, kernel_size =3, padding ='same', activation='relu')(x)\n",
        "x = MaxPool2D(pool_size =2, strides =2, padding ='same')(x)\n",
        "# 3rd Conv block\n",
        "\n",
        "x = Conv2D (filters =256, kernel_size =3, padding ='same', activation='relu')(x)\n",
        "x = Conv2D (filters =256, kernel_size =3, padding ='same', activation='relu')(x)\n",
        "x = Conv2D (filters =256, kernel_size =3, padding ='same', activation='relu')(x)\n",
        "x = MaxPool2D(pool_size =2, strides =2, padding ='same')(x)\n",
        "# 4th Conv block\n",
        "\n",
        "x = Conv2D (filters =512, kernel_size =3, padding ='same', activation='relu')(x)\n",
        "x = Conv2D (filters =512, kernel_size =3, padding ='same', activation='relu')(x)\n",
        "x = Conv2D (filters =512, kernel_size =3, padding ='same', activation='relu')(x)\n",
        "x = MaxPool2D(pool_size =2, strides =2, padding ='same')(x)\n",
        "\n",
        "# 5th Conv block\n",
        "\n",
        "x = Conv2D (filters =512, kernel_size =3, padding ='same', activation='relu')(x)\n",
        "x = Conv2D (filters =512, kernel_size =3, padding ='same', activation='relu')(x)\n",
        "x = Conv2D (filters =512, kernel_size =3, padding ='same', activation='relu')(x)\n",
        "x = MaxPool2D(pool_size =2, strides =2, padding ='same')(x)\n",
        "# Fully connected layers\n",
        "\n",
        "x = Flatten()(x)\n",
        "x = Dense(units = 1024, activation ='relu')(x)\n",
        "output = Dense(units = 4, activation ='softmax')(x)\n",
        "# creating the model\n",
        "\n",
        "model = Model (inputs=input, outputs =output)"
      ],
      "metadata": {
        "id": "n3ba8ezfA9sp"
      },
      "execution_count": 8,
      "outputs": []
    },
    {
      "cell_type": "markdown",
      "metadata": {
        "id": "Zfsu3lVfnXFG"
      },
      "source": [
        "**Training** Network"
      ]
    },
    {
      "cell_type": "code",
      "source": [
        "history = None"
      ],
      "metadata": {
        "id": "_Q14CGsDVk8H"
      },
      "execution_count": 9,
      "outputs": []
    },
    {
      "cell_type": "code",
      "metadata": {
        "id": "rvwKwe3Lzmgv",
        "colab": {
          "base_uri": "https://localhost:8080/"
        },
        "outputId": "011c2d17-e999-4462-8d6f-e0e6b489c2d8"
      },
      "source": [
        "EPOCHS = 200\n",
        "INIT_LR = 1e-4\n",
        "BS = 8\n",
        "with tf.device('/GPU:0'):\n",
        "  opt = Adam(learning_rate=INIT_LR, decay=INIT_LR / EPOCHS)\n",
        "  model.compile(loss=\"categorical_crossentropy\", optimizer=opt,metrics=[\"Accuracy\", \"FalseNegatives\", \"FalsePositives\", \"TrueNegatives\", \"TruePositives\"])\n",
        "  \n",
        "  history = model.fit(\n",
        "      aug.flow(np_image_list_train, image_labels_train, batch_size=BS),\n",
        "      validation_data=(np_image_list_validation, image_labels_validation),\n",
        "      steps_per_epoch=len(np_image_list_train) // BS,\n",
        "      epochs=EPOCHS, \n",
        "      verbose=1,\n",
        "      )\n"
      ],
      "execution_count": 10,
      "outputs": [
        {
          "output_type": "stream",
          "name": "stdout",
          "text": [
            "Epoch 1/200\n",
            "44/44 [==============================] - 8s 78ms/step - loss: 1.3336 - Accuracy: 0.4483 - false_negatives: 346.0000 - false_positives: 9.0000 - true_negatives: 1035.0000 - true_positives: 2.0000 - val_loss: 1.2630 - val_Accuracy: 0.4545 - val_false_negatives: 51.0000 - val_false_positives: 38.0000 - val_true_negatives: 226.0000 - val_true_positives: 37.0000\n",
            "Epoch 2/200\n",
            "44/44 [==============================] - 2s 40ms/step - loss: 1.2700 - Accuracy: 0.3966 - false_negatives: 323.0000 - false_positives: 22.0000 - true_negatives: 1022.0000 - true_positives: 25.0000 - val_loss: 1.2123 - val_Accuracy: 0.4545 - val_false_negatives: 66.0000 - val_false_positives: 11.0000 - val_true_negatives: 253.0000 - val_true_positives: 22.0000\n",
            "Epoch 3/200\n",
            "44/44 [==============================] - 2s 39ms/step - loss: 1.2478 - Accuracy: 0.4483 - false_negatives: 296.0000 - false_positives: 16.0000 - true_negatives: 1028.0000 - true_positives: 52.0000 - val_loss: 1.2669 - val_Accuracy: 0.4545 - val_false_negatives: 88.0000 - val_false_positives: 0.0000e+00 - val_true_negatives: 264.0000 - val_true_positives: 0.0000e+00\n",
            "Epoch 4/200\n",
            "44/44 [==============================] - 2s 39ms/step - loss: 1.1711 - Accuracy: 0.4425 - false_negatives: 267.0000 - false_positives: 34.0000 - true_negatives: 1010.0000 - true_positives: 81.0000 - val_loss: 2.0498 - val_Accuracy: 0.4545 - val_false_negatives: 48.0000 - val_false_positives: 37.0000 - val_true_negatives: 227.0000 - val_true_positives: 40.0000\n",
            "Epoch 5/200\n",
            "44/44 [==============================] - 2s 41ms/step - loss: 1.2505 - Accuracy: 0.4511 - false_negatives: 306.0000 - false_positives: 16.0000 - true_negatives: 1028.0000 - true_positives: 42.0000 - val_loss: 1.2410 - val_Accuracy: 0.4545 - val_false_negatives: 86.0000 - val_false_positives: 0.0000e+00 - val_true_negatives: 264.0000 - val_true_positives: 2.0000\n",
            "Epoch 6/200\n",
            "44/44 [==============================] - 2s 43ms/step - loss: 1.1558 - Accuracy: 0.4799 - false_negatives: 260.0000 - false_positives: 32.0000 - true_negatives: 1012.0000 - true_positives: 88.0000 - val_loss: 1.2079 - val_Accuracy: 0.5000 - val_false_negatives: 80.0000 - val_false_positives: 2.0000 - val_true_negatives: 262.0000 - val_true_positives: 8.0000\n",
            "Epoch 7/200\n",
            "44/44 [==============================] - 2s 34ms/step - loss: 1.0728 - Accuracy: 0.6136 - false_negatives: 222.0000 - false_positives: 39.0000 - true_negatives: 1017.0000 - true_positives: 130.0000 - val_loss: 1.8627 - val_Accuracy: 0.4545 - val_false_negatives: 48.0000 - val_false_positives: 41.0000 - val_true_negatives: 223.0000 - val_true_positives: 40.0000\n",
            "Epoch 8/200\n",
            "44/44 [==============================] - 2s 34ms/step - loss: 0.9840 - Accuracy: 0.6178 - false_negatives: 188.0000 - false_positives: 67.0000 - true_negatives: 977.0000 - true_positives: 160.0000 - val_loss: 1.1882 - val_Accuracy: 0.5227 - val_false_negatives: 52.0000 - val_false_positives: 31.0000 - val_true_negatives: 233.0000 - val_true_positives: 36.0000\n",
            "Epoch 9/200\n",
            "44/44 [==============================] - 1s 34ms/step - loss: 0.9223 - Accuracy: 0.6437 - false_negatives: 183.0000 - false_positives: 58.0000 - true_negatives: 986.0000 - true_positives: 165.0000 - val_loss: 1.2580 - val_Accuracy: 0.4659 - val_false_negatives: 49.0000 - val_false_positives: 30.0000 - val_true_negatives: 234.0000 - val_true_positives: 39.0000\n",
            "Epoch 10/200\n",
            "44/44 [==============================] - 2s 34ms/step - loss: 0.9251 - Accuracy: 0.6278 - false_negatives: 191.0000 - false_positives: 57.0000 - true_negatives: 999.0000 - true_positives: 161.0000 - val_loss: 1.2342 - val_Accuracy: 0.4773 - val_false_negatives: 50.0000 - val_false_positives: 31.0000 - val_true_negatives: 233.0000 - val_true_positives: 38.0000\n",
            "Epoch 11/200\n",
            "44/44 [==============================] - 2s 34ms/step - loss: 0.9673 - Accuracy: 0.6408 - false_negatives: 164.0000 - false_positives: 94.0000 - true_negatives: 950.0000 - true_positives: 184.0000 - val_loss: 1.4250 - val_Accuracy: 0.4886 - val_false_negatives: 48.0000 - val_false_positives: 37.0000 - val_true_negatives: 227.0000 - val_true_positives: 40.0000\n",
            "Epoch 12/200\n",
            "44/44 [==============================] - 2s 34ms/step - loss: 0.8936 - Accuracy: 0.6609 - false_negatives: 167.0000 - false_positives: 66.0000 - true_negatives: 978.0000 - true_positives: 181.0000 - val_loss: 2.7484 - val_Accuracy: 0.4659 - val_false_negatives: 48.0000 - val_false_positives: 44.0000 - val_true_negatives: 220.0000 - val_true_positives: 40.0000\n",
            "Epoch 13/200\n",
            "44/44 [==============================] - 2s 34ms/step - loss: 0.9659 - Accuracy: 0.6552 - false_negatives: 151.0000 - false_positives: 93.0000 - true_negatives: 951.0000 - true_positives: 197.0000 - val_loss: 1.4868 - val_Accuracy: 0.4773 - val_false_negatives: 48.0000 - val_false_positives: 41.0000 - val_true_negatives: 223.0000 - val_true_positives: 40.0000\n",
            "Epoch 14/200\n",
            "44/44 [==============================] - 2s 34ms/step - loss: 0.9127 - Accuracy: 0.6466 - false_negatives: 140.0000 - false_positives: 89.0000 - true_negatives: 955.0000 - true_positives: 208.0000 - val_loss: 1.9432 - val_Accuracy: 0.4545 - val_false_negatives: 49.0000 - val_false_positives: 44.0000 - val_true_negatives: 220.0000 - val_true_positives: 39.0000\n",
            "Epoch 15/200\n",
            "44/44 [==============================] - 1s 34ms/step - loss: 0.8622 - Accuracy: 0.6839 - false_negatives: 137.0000 - false_positives: 85.0000 - true_negatives: 959.0000 - true_positives: 211.0000 - val_loss: 1.2253 - val_Accuracy: 0.5341 - val_false_negatives: 48.0000 - val_false_positives: 32.0000 - val_true_negatives: 232.0000 - val_true_positives: 40.0000\n",
            "Epoch 16/200\n",
            "44/44 [==============================] - 1s 33ms/step - loss: 0.8583 - Accuracy: 0.6724 - false_negatives: 146.0000 - false_positives: 83.0000 - true_negatives: 961.0000 - true_positives: 202.0000 - val_loss: 1.3446 - val_Accuracy: 0.5114 - val_false_negatives: 48.0000 - val_false_positives: 34.0000 - val_true_negatives: 230.0000 - val_true_positives: 40.0000\n",
            "Epoch 17/200\n",
            "44/44 [==============================] - 2s 34ms/step - loss: 0.8832 - Accuracy: 0.6552 - false_negatives: 163.0000 - false_positives: 76.0000 - true_negatives: 968.0000 - true_positives: 185.0000 - val_loss: 1.8893 - val_Accuracy: 0.4773 - val_false_negatives: 49.0000 - val_false_positives: 42.0000 - val_true_negatives: 222.0000 - val_true_positives: 39.0000\n",
            "Epoch 18/200\n",
            "44/44 [==============================] - 2s 34ms/step - loss: 0.9041 - Accuracy: 0.6580 - false_negatives: 164.0000 - false_positives: 79.0000 - true_negatives: 965.0000 - true_positives: 184.0000 - val_loss: 1.4039 - val_Accuracy: 0.4886 - val_false_negatives: 48.0000 - val_false_positives: 35.0000 - val_true_negatives: 229.0000 - val_true_positives: 40.0000\n",
            "Epoch 19/200\n",
            "44/44 [==============================] - 1s 34ms/step - loss: 0.8934 - Accuracy: 0.6724 - false_negatives: 134.0000 - false_positives: 87.0000 - true_negatives: 957.0000 - true_positives: 214.0000 - val_loss: 1.2106 - val_Accuracy: 0.5455 - val_false_negatives: 54.0000 - val_false_positives: 18.0000 - val_true_negatives: 246.0000 - val_true_positives: 34.0000\n",
            "Epoch 20/200\n",
            "44/44 [==============================] - 2s 34ms/step - loss: 0.8593 - Accuracy: 0.6552 - false_negatives: 152.0000 - false_positives: 68.0000 - true_negatives: 976.0000 - true_positives: 196.0000 - val_loss: 1.5386 - val_Accuracy: 0.4886 - val_false_negatives: 47.0000 - val_false_positives: 37.0000 - val_true_negatives: 227.0000 - val_true_positives: 41.0000\n",
            "Epoch 21/200\n",
            "44/44 [==============================] - 1s 33ms/step - loss: 0.8426 - Accuracy: 0.6667 - false_negatives: 145.0000 - false_positives: 81.0000 - true_negatives: 963.0000 - true_positives: 203.0000 - val_loss: 1.3316 - val_Accuracy: 0.4886 - val_false_negatives: 49.0000 - val_false_positives: 28.0000 - val_true_negatives: 236.0000 - val_true_positives: 39.0000\n",
            "Epoch 22/200\n",
            "44/44 [==============================] - 2s 34ms/step - loss: 0.8639 - Accuracy: 0.6667 - false_negatives: 138.0000 - false_positives: 85.0000 - true_negatives: 959.0000 - true_positives: 210.0000 - val_loss: 1.1782 - val_Accuracy: 0.4886 - val_false_negatives: 50.0000 - val_false_positives: 28.0000 - val_true_negatives: 236.0000 - val_true_positives: 38.0000\n",
            "Epoch 23/200\n",
            "44/44 [==============================] - 2s 35ms/step - loss: 0.8505 - Accuracy: 0.6954 - false_negatives: 137.0000 - false_positives: 74.0000 - true_negatives: 970.0000 - true_positives: 211.0000 - val_loss: 1.7594 - val_Accuracy: 0.4773 - val_false_negatives: 48.0000 - val_false_positives: 42.0000 - val_true_negatives: 222.0000 - val_true_positives: 40.0000\n",
            "Epoch 24/200\n",
            "44/44 [==============================] - 2s 34ms/step - loss: 0.8529 - Accuracy: 0.6695 - false_negatives: 136.0000 - false_positives: 81.0000 - true_negatives: 963.0000 - true_positives: 212.0000 - val_loss: 1.5057 - val_Accuracy: 0.4773 - val_false_negatives: 47.0000 - val_false_positives: 40.0000 - val_true_negatives: 224.0000 - val_true_positives: 41.0000\n",
            "Epoch 25/200\n",
            "44/44 [==============================] - 2s 34ms/step - loss: 0.8265 - Accuracy: 0.6695 - false_negatives: 127.0000 - false_positives: 74.0000 - true_negatives: 970.0000 - true_positives: 221.0000 - val_loss: 1.4535 - val_Accuracy: 0.5227 - val_false_negatives: 51.0000 - val_false_positives: 31.0000 - val_true_negatives: 233.0000 - val_true_positives: 37.0000\n",
            "Epoch 26/200\n",
            "44/44 [==============================] - 2s 34ms/step - loss: 0.7915 - Accuracy: 0.6810 - false_negatives: 125.0000 - false_positives: 69.0000 - true_negatives: 975.0000 - true_positives: 223.0000 - val_loss: 1.8350 - val_Accuracy: 0.4886 - val_false_negatives: 47.0000 - val_false_positives: 43.0000 - val_true_negatives: 221.0000 - val_true_positives: 41.0000\n",
            "Epoch 27/200\n",
            "44/44 [==============================] - 2s 34ms/step - loss: 0.7914 - Accuracy: 0.6695 - false_negatives: 158.0000 - false_positives: 60.0000 - true_negatives: 984.0000 - true_positives: 190.0000 - val_loss: 1.9842 - val_Accuracy: 0.4773 - val_false_negatives: 48.0000 - val_false_positives: 39.0000 - val_true_negatives: 225.0000 - val_true_positives: 40.0000\n",
            "Epoch 28/200\n",
            "44/44 [==============================] - 2s 34ms/step - loss: 0.8356 - Accuracy: 0.6782 - false_negatives: 143.0000 - false_positives: 71.0000 - true_negatives: 973.0000 - true_positives: 205.0000 - val_loss: 1.2518 - val_Accuracy: 0.5227 - val_false_negatives: 46.0000 - val_false_positives: 31.0000 - val_true_negatives: 233.0000 - val_true_positives: 42.0000\n",
            "Epoch 29/200\n",
            "44/44 [==============================] - 2s 34ms/step - loss: 0.8258 - Accuracy: 0.6839 - false_negatives: 131.0000 - false_positives: 80.0000 - true_negatives: 964.0000 - true_positives: 217.0000 - val_loss: 1.1350 - val_Accuracy: 0.5568 - val_false_negatives: 48.0000 - val_false_positives: 27.0000 - val_true_negatives: 237.0000 - val_true_positives: 40.0000\n",
            "Epoch 30/200\n",
            "44/44 [==============================] - 2s 34ms/step - loss: 0.8646 - Accuracy: 0.6782 - false_negatives: 144.0000 - false_positives: 75.0000 - true_negatives: 969.0000 - true_positives: 204.0000 - val_loss: 1.5688 - val_Accuracy: 0.4773 - val_false_negatives: 48.0000 - val_false_positives: 36.0000 - val_true_negatives: 228.0000 - val_true_positives: 40.0000\n",
            "Epoch 31/200\n",
            "44/44 [==============================] - 1s 34ms/step - loss: 0.8113 - Accuracy: 0.6810 - false_negatives: 133.0000 - false_positives: 73.0000 - true_negatives: 971.0000 - true_positives: 215.0000 - val_loss: 1.4052 - val_Accuracy: 0.5114 - val_false_negatives: 48.0000 - val_false_positives: 35.0000 - val_true_negatives: 229.0000 - val_true_positives: 40.0000\n",
            "Epoch 32/200\n",
            "44/44 [==============================] - 1s 33ms/step - loss: 0.7585 - Accuracy: 0.7011 - false_negatives: 132.0000 - false_positives: 64.0000 - true_negatives: 980.0000 - true_positives: 216.0000 - val_loss: 1.7756 - val_Accuracy: 0.5114 - val_false_negatives: 47.0000 - val_false_positives: 37.0000 - val_true_negatives: 227.0000 - val_true_positives: 41.0000\n",
            "Epoch 33/200\n",
            "44/44 [==============================] - 2s 34ms/step - loss: 0.8058 - Accuracy: 0.6839 - false_negatives: 143.0000 - false_positives: 63.0000 - true_negatives: 981.0000 - true_positives: 205.0000 - val_loss: 1.2412 - val_Accuracy: 0.5227 - val_false_negatives: 49.0000 - val_false_positives: 23.0000 - val_true_negatives: 241.0000 - val_true_positives: 39.0000\n",
            "Epoch 34/200\n",
            "44/44 [==============================] - 1s 34ms/step - loss: 0.7954 - Accuracy: 0.6782 - false_negatives: 147.0000 - false_positives: 60.0000 - true_negatives: 984.0000 - true_positives: 201.0000 - val_loss: 1.5736 - val_Accuracy: 0.5227 - val_false_negatives: 46.0000 - val_false_positives: 32.0000 - val_true_negatives: 232.0000 - val_true_positives: 42.0000\n",
            "Epoch 35/200\n",
            "44/44 [==============================] - 1s 34ms/step - loss: 0.7844 - Accuracy: 0.6954 - false_negatives: 132.0000 - false_positives: 71.0000 - true_negatives: 973.0000 - true_positives: 216.0000 - val_loss: 1.9267 - val_Accuracy: 0.4773 - val_false_negatives: 47.0000 - val_false_positives: 40.0000 - val_true_negatives: 224.0000 - val_true_positives: 41.0000\n",
            "Epoch 36/200\n",
            "44/44 [==============================] - 2s 34ms/step - loss: 0.7438 - Accuracy: 0.7069 - false_negatives: 126.0000 - false_positives: 66.0000 - true_negatives: 978.0000 - true_positives: 222.0000 - val_loss: 1.5938 - val_Accuracy: 0.5000 - val_false_negatives: 46.0000 - val_false_positives: 37.0000 - val_true_negatives: 227.0000 - val_true_positives: 42.0000\n",
            "Epoch 37/200\n",
            "44/44 [==============================] - 1s 33ms/step - loss: 0.8174 - Accuracy: 0.6782 - false_negatives: 139.0000 - false_positives: 66.0000 - true_negatives: 978.0000 - true_positives: 209.0000 - val_loss: 1.2577 - val_Accuracy: 0.5000 - val_false_negatives: 48.0000 - val_false_positives: 30.0000 - val_true_negatives: 234.0000 - val_true_positives: 40.0000\n",
            "Epoch 38/200\n",
            "44/44 [==============================] - 2s 34ms/step - loss: 0.7461 - Accuracy: 0.6897 - false_negatives: 126.0000 - false_positives: 70.0000 - true_negatives: 974.0000 - true_positives: 222.0000 - val_loss: 1.8907 - val_Accuracy: 0.4886 - val_false_negatives: 47.0000 - val_false_positives: 41.0000 - val_true_negatives: 223.0000 - val_true_positives: 41.0000\n",
            "Epoch 39/200\n",
            "44/44 [==============================] - 1s 33ms/step - loss: 0.8413 - Accuracy: 0.6724 - false_negatives: 149.0000 - false_positives: 61.0000 - true_negatives: 983.0000 - true_positives: 199.0000 - val_loss: 1.6782 - val_Accuracy: 0.4886 - val_false_negatives: 47.0000 - val_false_positives: 38.0000 - val_true_negatives: 226.0000 - val_true_positives: 41.0000\n",
            "Epoch 40/200\n",
            "44/44 [==============================] - 2s 34ms/step - loss: 0.7310 - Accuracy: 0.7098 - false_negatives: 140.0000 - false_positives: 53.0000 - true_negatives: 991.0000 - true_positives: 208.0000 - val_loss: 1.2779 - val_Accuracy: 0.5341 - val_false_negatives: 49.0000 - val_false_positives: 27.0000 - val_true_negatives: 237.0000 - val_true_positives: 39.0000\n",
            "Epoch 41/200\n",
            "44/44 [==============================] - 2s 34ms/step - loss: 0.7651 - Accuracy: 0.6897 - false_negatives: 133.0000 - false_positives: 63.0000 - true_negatives: 981.0000 - true_positives: 215.0000 - val_loss: 1.1323 - val_Accuracy: 0.5682 - val_false_negatives: 48.0000 - val_false_positives: 25.0000 - val_true_negatives: 239.0000 - val_true_positives: 40.0000\n",
            "Epoch 42/200\n",
            "44/44 [==============================] - 2s 34ms/step - loss: 0.7138 - Accuracy: 0.7011 - false_negatives: 128.0000 - false_positives: 58.0000 - true_negatives: 986.0000 - true_positives: 220.0000 - val_loss: 1.6851 - val_Accuracy: 0.5227 - val_false_negatives: 48.0000 - val_false_positives: 36.0000 - val_true_negatives: 228.0000 - val_true_positives: 40.0000\n",
            "Epoch 43/200\n",
            "44/44 [==============================] - 1s 34ms/step - loss: 0.7555 - Accuracy: 0.6897 - false_negatives: 131.0000 - false_positives: 68.0000 - true_negatives: 976.0000 - true_positives: 217.0000 - val_loss: 1.9440 - val_Accuracy: 0.5000 - val_false_negatives: 47.0000 - val_false_positives: 39.0000 - val_true_negatives: 225.0000 - val_true_positives: 41.0000\n",
            "Epoch 44/200\n",
            "44/44 [==============================] - 1s 34ms/step - loss: 0.7749 - Accuracy: 0.6868 - false_negatives: 128.0000 - false_positives: 63.0000 - true_negatives: 981.0000 - true_positives: 220.0000 - val_loss: 1.6675 - val_Accuracy: 0.4886 - val_false_negatives: 47.0000 - val_false_positives: 36.0000 - val_true_negatives: 228.0000 - val_true_positives: 41.0000\n",
            "Epoch 45/200\n",
            "44/44 [==============================] - 2s 34ms/step - loss: 0.7554 - Accuracy: 0.6925 - false_negatives: 145.0000 - false_positives: 57.0000 - true_negatives: 987.0000 - true_positives: 203.0000 - val_loss: 1.6356 - val_Accuracy: 0.5455 - val_false_negatives: 47.0000 - val_false_positives: 30.0000 - val_true_negatives: 234.0000 - val_true_positives: 41.0000\n",
            "Epoch 46/200\n",
            "44/44 [==============================] - 1s 34ms/step - loss: 0.7087 - Accuracy: 0.7184 - false_negatives: 131.0000 - false_positives: 47.0000 - true_negatives: 997.0000 - true_positives: 217.0000 - val_loss: 2.0098 - val_Accuracy: 0.5341 - val_false_negatives: 46.0000 - val_false_positives: 31.0000 - val_true_negatives: 233.0000 - val_true_positives: 42.0000\n",
            "Epoch 47/200\n",
            "44/44 [==============================] - 2s 35ms/step - loss: 0.6864 - Accuracy: 0.7299 - false_negatives: 127.0000 - false_positives: 51.0000 - true_negatives: 993.0000 - true_positives: 221.0000 - val_loss: 1.1781 - val_Accuracy: 0.6023 - val_false_negatives: 45.0000 - val_false_positives: 22.0000 - val_true_negatives: 242.0000 - val_true_positives: 43.0000\n",
            "Epoch 48/200\n",
            "44/44 [==============================] - 2s 34ms/step - loss: 0.6901 - Accuracy: 0.7241 - false_negatives: 120.0000 - false_positives: 51.0000 - true_negatives: 993.0000 - true_positives: 228.0000 - val_loss: 1.0154 - val_Accuracy: 0.6250 - val_false_negatives: 43.0000 - val_false_positives: 17.0000 - val_true_negatives: 247.0000 - val_true_positives: 45.0000\n",
            "Epoch 49/200\n",
            "44/44 [==============================] - 1s 34ms/step - loss: 0.7226 - Accuracy: 0.7270 - false_negatives: 123.0000 - false_positives: 56.0000 - true_negatives: 988.0000 - true_positives: 225.0000 - val_loss: 1.8820 - val_Accuracy: 0.5455 - val_false_negatives: 44.0000 - val_false_positives: 33.0000 - val_true_negatives: 231.0000 - val_true_positives: 44.0000\n",
            "Epoch 50/200\n",
            "44/44 [==============================] - 1s 34ms/step - loss: 0.6548 - Accuracy: 0.7471 - false_negatives: 108.0000 - false_positives: 56.0000 - true_negatives: 988.0000 - true_positives: 240.0000 - val_loss: 1.7798 - val_Accuracy: 0.5568 - val_false_negatives: 43.0000 - val_false_positives: 30.0000 - val_true_negatives: 234.0000 - val_true_positives: 45.0000\n",
            "Epoch 51/200\n",
            "44/44 [==============================] - 1s 33ms/step - loss: 0.6645 - Accuracy: 0.7443 - false_negatives: 117.0000 - false_positives: 47.0000 - true_negatives: 997.0000 - true_positives: 231.0000 - val_loss: 1.3712 - val_Accuracy: 0.5909 - val_false_negatives: 46.0000 - val_false_positives: 24.0000 - val_true_negatives: 240.0000 - val_true_positives: 42.0000\n",
            "Epoch 52/200\n",
            "44/44 [==============================] - 2s 37ms/step - loss: 0.6531 - Accuracy: 0.7328 - false_negatives: 118.0000 - false_positives: 43.0000 - true_negatives: 1001.0000 - true_positives: 230.0000 - val_loss: 1.4551 - val_Accuracy: 0.5114 - val_false_negatives: 47.0000 - val_false_positives: 30.0000 - val_true_negatives: 234.0000 - val_true_positives: 41.0000\n",
            "Epoch 53/200\n",
            "44/44 [==============================] - 2s 39ms/step - loss: 0.6387 - Accuracy: 0.7241 - false_negatives: 124.0000 - false_positives: 46.0000 - true_negatives: 998.0000 - true_positives: 224.0000 - val_loss: 1.6285 - val_Accuracy: 0.5909 - val_false_negatives: 46.0000 - val_false_positives: 25.0000 - val_true_negatives: 239.0000 - val_true_positives: 42.0000\n",
            "Epoch 54/200\n",
            "44/44 [==============================] - 2s 35ms/step - loss: 0.6163 - Accuracy: 0.7644 - false_negatives: 109.0000 - false_positives: 55.0000 - true_negatives: 989.0000 - true_positives: 239.0000 - val_loss: 1.6843 - val_Accuracy: 0.5455 - val_false_negatives: 43.0000 - val_false_positives: 28.0000 - val_true_negatives: 236.0000 - val_true_positives: 45.0000\n",
            "Epoch 55/200\n",
            "44/44 [==============================] - 1s 34ms/step - loss: 0.6443 - Accuracy: 0.7155 - false_negatives: 127.0000 - false_positives: 50.0000 - true_negatives: 994.0000 - true_positives: 221.0000 - val_loss: 2.0942 - val_Accuracy: 0.5455 - val_false_negatives: 45.0000 - val_false_positives: 32.0000 - val_true_negatives: 232.0000 - val_true_positives: 43.0000\n",
            "Epoch 56/200\n",
            "44/44 [==============================] - 2s 35ms/step - loss: 0.6295 - Accuracy: 0.7500 - false_negatives: 118.0000 - false_positives: 46.0000 - true_negatives: 998.0000 - true_positives: 230.0000 - val_loss: 1.3576 - val_Accuracy: 0.5795 - val_false_negatives: 44.0000 - val_false_positives: 24.0000 - val_true_negatives: 240.0000 - val_true_positives: 44.0000\n",
            "Epoch 57/200\n",
            "44/44 [==============================] - 2s 35ms/step - loss: 0.6959 - Accuracy: 0.7069 - false_negatives: 127.0000 - false_positives: 59.0000 - true_negatives: 985.0000 - true_positives: 221.0000 - val_loss: 1.5837 - val_Accuracy: 0.5568 - val_false_negatives: 45.0000 - val_false_positives: 26.0000 - val_true_negatives: 238.0000 - val_true_positives: 43.0000\n",
            "Epoch 58/200\n",
            "44/44 [==============================] - 2s 34ms/step - loss: 0.6461 - Accuracy: 0.7184 - false_negatives: 125.0000 - false_positives: 51.0000 - true_negatives: 993.0000 - true_positives: 223.0000 - val_loss: 1.3854 - val_Accuracy: 0.5909 - val_false_negatives: 44.0000 - val_false_positives: 22.0000 - val_true_negatives: 242.0000 - val_true_positives: 44.0000\n",
            "Epoch 59/200\n",
            "44/44 [==============================] - 2s 34ms/step - loss: 0.6397 - Accuracy: 0.7414 - false_negatives: 116.0000 - false_positives: 46.0000 - true_negatives: 998.0000 - true_positives: 232.0000 - val_loss: 1.0611 - val_Accuracy: 0.6364 - val_false_negatives: 47.0000 - val_false_positives: 20.0000 - val_true_negatives: 244.0000 - val_true_positives: 41.0000\n",
            "Epoch 60/200\n",
            "44/44 [==============================] - 2s 34ms/step - loss: 0.6309 - Accuracy: 0.7385 - false_negatives: 115.0000 - false_positives: 50.0000 - true_negatives: 994.0000 - true_positives: 233.0000 - val_loss: 1.2866 - val_Accuracy: 0.5568 - val_false_negatives: 44.0000 - val_false_positives: 24.0000 - val_true_negatives: 240.0000 - val_true_positives: 44.0000\n",
            "Epoch 61/200\n",
            "44/44 [==============================] - 2s 34ms/step - loss: 0.5974 - Accuracy: 0.7644 - false_negatives: 110.0000 - false_positives: 53.0000 - true_negatives: 991.0000 - true_positives: 238.0000 - val_loss: 1.4900 - val_Accuracy: 0.5568 - val_false_negatives: 43.0000 - val_false_positives: 24.0000 - val_true_negatives: 240.0000 - val_true_positives: 45.0000\n",
            "Epoch 62/200\n",
            "44/44 [==============================] - 1s 33ms/step - loss: 0.5985 - Accuracy: 0.7529 - false_negatives: 110.0000 - false_positives: 38.0000 - true_negatives: 1006.0000 - true_positives: 238.0000 - val_loss: 1.6881 - val_Accuracy: 0.5227 - val_false_negatives: 43.0000 - val_false_positives: 28.0000 - val_true_negatives: 236.0000 - val_true_positives: 45.0000\n",
            "Epoch 63/200\n",
            "44/44 [==============================] - 2s 35ms/step - loss: 0.6093 - Accuracy: 0.7701 - false_negatives: 108.0000 - false_positives: 46.0000 - true_negatives: 998.0000 - true_positives: 240.0000 - val_loss: 1.3944 - val_Accuracy: 0.5455 - val_false_negatives: 42.0000 - val_false_positives: 26.0000 - val_true_negatives: 238.0000 - val_true_positives: 46.0000\n",
            "Epoch 64/200\n",
            "44/44 [==============================] - 2s 34ms/step - loss: 0.5757 - Accuracy: 0.7730 - false_negatives: 107.0000 - false_positives: 47.0000 - true_negatives: 997.0000 - true_positives: 241.0000 - val_loss: 1.3746 - val_Accuracy: 0.5568 - val_false_negatives: 42.0000 - val_false_positives: 27.0000 - val_true_negatives: 237.0000 - val_true_positives: 46.0000\n",
            "Epoch 65/200\n",
            "44/44 [==============================] - 1s 33ms/step - loss: 0.5512 - Accuracy: 0.7644 - false_negatives: 105.0000 - false_positives: 45.0000 - true_negatives: 999.0000 - true_positives: 243.0000 - val_loss: 1.2391 - val_Accuracy: 0.5568 - val_false_negatives: 43.0000 - val_false_positives: 24.0000 - val_true_negatives: 240.0000 - val_true_positives: 45.0000\n",
            "Epoch 66/200\n",
            "44/44 [==============================] - 2s 35ms/step - loss: 0.5700 - Accuracy: 0.7586 - false_negatives: 114.0000 - false_positives: 43.0000 - true_negatives: 1001.0000 - true_positives: 234.0000 - val_loss: 1.1954 - val_Accuracy: 0.5568 - val_false_negatives: 47.0000 - val_false_positives: 17.0000 - val_true_negatives: 247.0000 - val_true_positives: 41.0000\n",
            "Epoch 67/200\n",
            "44/44 [==============================] - 2s 34ms/step - loss: 0.5900 - Accuracy: 0.7701 - false_negatives: 115.0000 - false_positives: 42.0000 - true_negatives: 1002.0000 - true_positives: 233.0000 - val_loss: 2.1751 - val_Accuracy: 0.5568 - val_false_negatives: 44.0000 - val_false_positives: 26.0000 - val_true_negatives: 238.0000 - val_true_positives: 44.0000\n",
            "Epoch 68/200\n",
            "44/44 [==============================] - 2s 34ms/step - loss: 0.6899 - Accuracy: 0.7241 - false_negatives: 125.0000 - false_positives: 54.0000 - true_negatives: 990.0000 - true_positives: 223.0000 - val_loss: 1.0613 - val_Accuracy: 0.5568 - val_false_negatives: 47.0000 - val_false_positives: 19.0000 - val_true_negatives: 245.0000 - val_true_positives: 41.0000\n",
            "Epoch 69/200\n",
            "44/44 [==============================] - 1s 34ms/step - loss: 0.5492 - Accuracy: 0.7931 - false_negatives: 107.0000 - false_positives: 37.0000 - true_negatives: 1007.0000 - true_positives: 241.0000 - val_loss: 1.7338 - val_Accuracy: 0.5568 - val_false_negatives: 44.0000 - val_false_positives: 30.0000 - val_true_negatives: 234.0000 - val_true_positives: 44.0000\n",
            "Epoch 70/200\n",
            "44/44 [==============================] - 2s 35ms/step - loss: 0.5657 - Accuracy: 0.7644 - false_negatives: 107.0000 - false_positives: 48.0000 - true_negatives: 996.0000 - true_positives: 241.0000 - val_loss: 1.8479 - val_Accuracy: 0.5682 - val_false_negatives: 42.0000 - val_false_positives: 26.0000 - val_true_negatives: 238.0000 - val_true_positives: 46.0000\n",
            "Epoch 71/200\n",
            "44/44 [==============================] - 2s 34ms/step - loss: 0.5277 - Accuracy: 0.7874 - false_negatives: 98.0000 - false_positives: 42.0000 - true_negatives: 1002.0000 - true_positives: 250.0000 - val_loss: 1.2807 - val_Accuracy: 0.5909 - val_false_negatives: 42.0000 - val_false_positives: 27.0000 - val_true_negatives: 237.0000 - val_true_positives: 46.0000\n",
            "Epoch 72/200\n",
            "44/44 [==============================] - 2s 35ms/step - loss: 0.5679 - Accuracy: 0.7874 - false_negatives: 102.0000 - false_positives: 36.0000 - true_negatives: 1008.0000 - true_positives: 246.0000 - val_loss: 1.2351 - val_Accuracy: 0.6136 - val_false_negatives: 38.0000 - val_false_positives: 27.0000 - val_true_negatives: 237.0000 - val_true_positives: 50.0000\n",
            "Epoch 73/200\n",
            "44/44 [==============================] - 2s 34ms/step - loss: 0.6416 - Accuracy: 0.7902 - false_negatives: 100.0000 - false_positives: 51.0000 - true_negatives: 993.0000 - true_positives: 248.0000 - val_loss: 1.4754 - val_Accuracy: 0.5341 - val_false_negatives: 45.0000 - val_false_positives: 30.0000 - val_true_negatives: 234.0000 - val_true_positives: 43.0000\n",
            "Epoch 74/200\n",
            "44/44 [==============================] - 2s 35ms/step - loss: 0.5520 - Accuracy: 0.7759 - false_negatives: 96.0000 - false_positives: 52.0000 - true_negatives: 992.0000 - true_positives: 252.0000 - val_loss: 1.1879 - val_Accuracy: 0.5568 - val_false_negatives: 44.0000 - val_false_positives: 25.0000 - val_true_negatives: 239.0000 - val_true_positives: 44.0000\n",
            "Epoch 75/200\n",
            "44/44 [==============================] - 1s 33ms/step - loss: 0.5317 - Accuracy: 0.7787 - false_negatives: 98.0000 - false_positives: 44.0000 - true_negatives: 1000.0000 - true_positives: 250.0000 - val_loss: 1.2859 - val_Accuracy: 0.5795 - val_false_negatives: 43.0000 - val_false_positives: 26.0000 - val_true_negatives: 238.0000 - val_true_positives: 45.0000\n",
            "Epoch 76/200\n",
            "44/44 [==============================] - 2s 34ms/step - loss: 0.5471 - Accuracy: 0.7845 - false_negatives: 97.0000 - false_positives: 44.0000 - true_negatives: 1000.0000 - true_positives: 251.0000 - val_loss: 2.0495 - val_Accuracy: 0.5341 - val_false_negatives: 44.0000 - val_false_positives: 37.0000 - val_true_negatives: 227.0000 - val_true_positives: 44.0000\n",
            "Epoch 77/200\n",
            "44/44 [==============================] - 2s 34ms/step - loss: 0.5501 - Accuracy: 0.7816 - false_negatives: 99.0000 - false_positives: 44.0000 - true_negatives: 1000.0000 - true_positives: 249.0000 - val_loss: 1.0913 - val_Accuracy: 0.5909 - val_false_negatives: 46.0000 - val_false_positives: 21.0000 - val_true_negatives: 243.0000 - val_true_positives: 42.0000\n",
            "Epoch 78/200\n",
            "44/44 [==============================] - 2s 34ms/step - loss: 0.6007 - Accuracy: 0.7672 - false_negatives: 105.0000 - false_positives: 52.0000 - true_negatives: 992.0000 - true_positives: 243.0000 - val_loss: 1.0566 - val_Accuracy: 0.5455 - val_false_negatives: 52.0000 - val_false_positives: 24.0000 - val_true_negatives: 240.0000 - val_true_positives: 36.0000\n",
            "Epoch 79/200\n",
            "44/44 [==============================] - 1s 34ms/step - loss: 0.5024 - Accuracy: 0.8161 - false_negatives: 89.0000 - false_positives: 37.0000 - true_negatives: 1007.0000 - true_positives: 259.0000 - val_loss: 1.6208 - val_Accuracy: 0.5795 - val_false_negatives: 40.0000 - val_false_positives: 32.0000 - val_true_negatives: 232.0000 - val_true_positives: 48.0000\n",
            "Epoch 80/200\n",
            "44/44 [==============================] - 2s 35ms/step - loss: 0.4821 - Accuracy: 0.7989 - false_negatives: 83.0000 - false_positives: 46.0000 - true_negatives: 998.0000 - true_positives: 265.0000 - val_loss: 1.9481 - val_Accuracy: 0.6023 - val_false_negatives: 38.0000 - val_false_positives: 30.0000 - val_true_negatives: 234.0000 - val_true_positives: 50.0000\n",
            "Epoch 81/200\n",
            "44/44 [==============================] - 2s 35ms/step - loss: 0.4962 - Accuracy: 0.8276 - false_negatives: 85.0000 - false_positives: 41.0000 - true_negatives: 1003.0000 - true_positives: 263.0000 - val_loss: 2.6337 - val_Accuracy: 0.5568 - val_false_negatives: 42.0000 - val_false_positives: 34.0000 - val_true_negatives: 230.0000 - val_true_positives: 46.0000\n",
            "Epoch 82/200\n",
            "44/44 [==============================] - 2s 35ms/step - loss: 0.4915 - Accuracy: 0.8046 - false_negatives: 80.0000 - false_positives: 47.0000 - true_negatives: 997.0000 - true_positives: 268.0000 - val_loss: 1.3224 - val_Accuracy: 0.6023 - val_false_negatives: 41.0000 - val_false_positives: 31.0000 - val_true_negatives: 233.0000 - val_true_positives: 47.0000\n",
            "Epoch 83/200\n",
            "44/44 [==============================] - 2s 35ms/step - loss: 0.5320 - Accuracy: 0.7989 - false_negatives: 88.0000 - false_positives: 49.0000 - true_negatives: 995.0000 - true_positives: 260.0000 - val_loss: 1.2350 - val_Accuracy: 0.5795 - val_false_negatives: 41.0000 - val_false_positives: 26.0000 - val_true_negatives: 238.0000 - val_true_positives: 47.0000\n",
            "Epoch 84/200\n",
            "44/44 [==============================] - 2s 35ms/step - loss: 0.4589 - Accuracy: 0.8362 - false_negatives: 71.0000 - false_positives: 41.0000 - true_negatives: 1003.0000 - true_positives: 277.0000 - val_loss: 1.5917 - val_Accuracy: 0.5795 - val_false_negatives: 40.0000 - val_false_positives: 33.0000 - val_true_negatives: 231.0000 - val_true_positives: 48.0000\n",
            "Epoch 85/200\n",
            "44/44 [==============================] - 2s 35ms/step - loss: 0.4818 - Accuracy: 0.8161 - false_negatives: 75.0000 - false_positives: 44.0000 - true_negatives: 1000.0000 - true_positives: 273.0000 - val_loss: 2.3380 - val_Accuracy: 0.5909 - val_false_negatives: 38.0000 - val_false_positives: 31.0000 - val_true_negatives: 233.0000 - val_true_positives: 50.0000\n",
            "Epoch 86/200\n",
            "44/44 [==============================] - 2s 37ms/step - loss: 0.5824 - Accuracy: 0.7989 - false_negatives: 88.0000 - false_positives: 45.0000 - true_negatives: 999.0000 - true_positives: 260.0000 - val_loss: 1.8390 - val_Accuracy: 0.5568 - val_false_negatives: 42.0000 - val_false_positives: 32.0000 - val_true_negatives: 232.0000 - val_true_positives: 46.0000\n",
            "Epoch 87/200\n",
            "44/44 [==============================] - 2s 34ms/step - loss: 0.4907 - Accuracy: 0.8305 - false_negatives: 70.0000 - false_positives: 43.0000 - true_negatives: 1001.0000 - true_positives: 278.0000 - val_loss: 1.3954 - val_Accuracy: 0.5455 - val_false_negatives: 43.0000 - val_false_positives: 32.0000 - val_true_negatives: 232.0000 - val_true_positives: 45.0000\n",
            "Epoch 88/200\n",
            "44/44 [==============================] - 2s 34ms/step - loss: 0.4914 - Accuracy: 0.8362 - false_negatives: 81.0000 - false_positives: 40.0000 - true_negatives: 1004.0000 - true_positives: 267.0000 - val_loss: 1.3478 - val_Accuracy: 0.5909 - val_false_negatives: 39.0000 - val_false_positives: 28.0000 - val_true_negatives: 236.0000 - val_true_positives: 49.0000\n",
            "Epoch 89/200\n",
            "44/44 [==============================] - 2s 35ms/step - loss: 0.3654 - Accuracy: 0.8621 - false_negatives: 62.0000 - false_positives: 33.0000 - true_negatives: 1011.0000 - true_positives: 286.0000 - val_loss: 1.7905 - val_Accuracy: 0.5682 - val_false_negatives: 39.0000 - val_false_positives: 33.0000 - val_true_negatives: 231.0000 - val_true_positives: 49.0000\n",
            "Epoch 90/200\n",
            "44/44 [==============================] - 1s 33ms/step - loss: 0.4772 - Accuracy: 0.8247 - false_negatives: 73.0000 - false_positives: 43.0000 - true_negatives: 1001.0000 - true_positives: 275.0000 - val_loss: 1.3282 - val_Accuracy: 0.6364 - val_false_negatives: 36.0000 - val_false_positives: 26.0000 - val_true_negatives: 238.0000 - val_true_positives: 52.0000\n",
            "Epoch 91/200\n",
            "44/44 [==============================] - 2s 35ms/step - loss: 0.4497 - Accuracy: 0.8391 - false_negatives: 68.0000 - false_positives: 44.0000 - true_negatives: 1000.0000 - true_positives: 280.0000 - val_loss: 1.6543 - val_Accuracy: 0.6136 - val_false_negatives: 39.0000 - val_false_positives: 31.0000 - val_true_negatives: 233.0000 - val_true_positives: 49.0000\n",
            "Epoch 92/200\n",
            "44/44 [==============================] - 2s 34ms/step - loss: 0.3745 - Accuracy: 0.8621 - false_negatives: 64.0000 - false_positives: 31.0000 - true_negatives: 1013.0000 - true_positives: 284.0000 - val_loss: 1.4002 - val_Accuracy: 0.5909 - val_false_negatives: 41.0000 - val_false_positives: 29.0000 - val_true_negatives: 235.0000 - val_true_positives: 47.0000\n",
            "Epoch 93/200\n",
            "44/44 [==============================] - 2s 34ms/step - loss: 0.3988 - Accuracy: 0.8592 - false_negatives: 66.0000 - false_positives: 30.0000 - true_negatives: 1014.0000 - true_positives: 282.0000 - val_loss: 1.8678 - val_Accuracy: 0.5909 - val_false_negatives: 40.0000 - val_false_positives: 31.0000 - val_true_negatives: 233.0000 - val_true_positives: 48.0000\n",
            "Epoch 94/200\n",
            "44/44 [==============================] - 2s 34ms/step - loss: 0.4306 - Accuracy: 0.8506 - false_negatives: 65.0000 - false_positives: 36.0000 - true_negatives: 1008.0000 - true_positives: 283.0000 - val_loss: 1.5613 - val_Accuracy: 0.5795 - val_false_negatives: 40.0000 - val_false_positives: 26.0000 - val_true_negatives: 238.0000 - val_true_positives: 48.0000\n",
            "Epoch 95/200\n",
            "44/44 [==============================] - 2s 34ms/step - loss: 0.4513 - Accuracy: 0.8333 - false_negatives: 74.0000 - false_positives: 41.0000 - true_negatives: 1003.0000 - true_positives: 274.0000 - val_loss: 2.0867 - val_Accuracy: 0.5682 - val_false_negatives: 39.0000 - val_false_positives: 35.0000 - val_true_negatives: 229.0000 - val_true_positives: 49.0000\n",
            "Epoch 96/200\n",
            "44/44 [==============================] - 2s 34ms/step - loss: 0.5234 - Accuracy: 0.7931 - false_negatives: 84.0000 - false_positives: 45.0000 - true_negatives: 999.0000 - true_positives: 264.0000 - val_loss: 1.5653 - val_Accuracy: 0.5795 - val_false_negatives: 39.0000 - val_false_positives: 30.0000 - val_true_negatives: 234.0000 - val_true_positives: 49.0000\n",
            "Epoch 97/200\n",
            "44/44 [==============================] - 2s 34ms/step - loss: 0.3973 - Accuracy: 0.8534 - false_negatives: 60.0000 - false_positives: 40.0000 - true_negatives: 1004.0000 - true_positives: 288.0000 - val_loss: 1.4943 - val_Accuracy: 0.6023 - val_false_negatives: 42.0000 - val_false_positives: 28.0000 - val_true_negatives: 236.0000 - val_true_positives: 46.0000\n",
            "Epoch 98/200\n",
            "44/44 [==============================] - 2s 34ms/step - loss: 0.4574 - Accuracy: 0.8161 - false_negatives: 77.0000 - false_positives: 46.0000 - true_negatives: 998.0000 - true_positives: 271.0000 - val_loss: 1.3430 - val_Accuracy: 0.6250 - val_false_negatives: 37.0000 - val_false_positives: 26.0000 - val_true_negatives: 238.0000 - val_true_positives: 51.0000\n",
            "Epoch 99/200\n",
            "44/44 [==============================] - 2s 35ms/step - loss: 0.4937 - Accuracy: 0.8276 - false_negatives: 74.0000 - false_positives: 43.0000 - true_negatives: 1001.0000 - true_positives: 274.0000 - val_loss: 1.6599 - val_Accuracy: 0.6023 - val_false_negatives: 39.0000 - val_false_positives: 29.0000 - val_true_negatives: 235.0000 - val_true_positives: 49.0000\n",
            "Epoch 100/200\n",
            "44/44 [==============================] - 2s 35ms/step - loss: 0.3636 - Accuracy: 0.8621 - false_negatives: 61.0000 - false_positives: 34.0000 - true_negatives: 1010.0000 - true_positives: 287.0000 - val_loss: 1.6997 - val_Accuracy: 0.6136 - val_false_negatives: 38.0000 - val_false_positives: 26.0000 - val_true_negatives: 238.0000 - val_true_positives: 50.0000\n",
            "Epoch 101/200\n",
            "44/44 [==============================] - 2s 34ms/step - loss: 0.3496 - Accuracy: 0.8649 - false_negatives: 61.0000 - false_positives: 28.0000 - true_negatives: 1016.0000 - true_positives: 287.0000 - val_loss: 1.5096 - val_Accuracy: 0.6136 - val_false_negatives: 39.0000 - val_false_positives: 28.0000 - val_true_negatives: 236.0000 - val_true_positives: 49.0000\n",
            "Epoch 102/200\n",
            "44/44 [==============================] - 2s 35ms/step - loss: 0.4123 - Accuracy: 0.8534 - false_negatives: 61.0000 - false_positives: 38.0000 - true_negatives: 1006.0000 - true_positives: 287.0000 - val_loss: 1.2692 - val_Accuracy: 0.6364 - val_false_negatives: 39.0000 - val_false_positives: 21.0000 - val_true_negatives: 243.0000 - val_true_positives: 49.0000\n",
            "Epoch 103/200\n",
            "44/44 [==============================] - 2s 36ms/step - loss: 0.3260 - Accuracy: 0.8707 - false_negatives: 59.0000 - false_positives: 32.0000 - true_negatives: 1012.0000 - true_positives: 289.0000 - val_loss: 1.4597 - val_Accuracy: 0.6818 - val_false_negatives: 35.0000 - val_false_positives: 25.0000 - val_true_negatives: 239.0000 - val_true_positives: 53.0000\n",
            "Epoch 104/200\n",
            "44/44 [==============================] - 2s 35ms/step - loss: 0.4502 - Accuracy: 0.8534 - false_negatives: 64.0000 - false_positives: 39.0000 - true_negatives: 1005.0000 - true_positives: 284.0000 - val_loss: 2.3246 - val_Accuracy: 0.6136 - val_false_negatives: 36.0000 - val_false_positives: 30.0000 - val_true_negatives: 234.0000 - val_true_positives: 52.0000\n",
            "Epoch 105/200\n",
            "44/44 [==============================] - 2s 35ms/step - loss: 0.3465 - Accuracy: 0.8736 - false_negatives: 55.0000 - false_positives: 37.0000 - true_negatives: 1007.0000 - true_positives: 293.0000 - val_loss: 1.7821 - val_Accuracy: 0.6591 - val_false_negatives: 35.0000 - val_false_positives: 26.0000 - val_true_negatives: 238.0000 - val_true_positives: 53.0000\n",
            "Epoch 106/200\n",
            "44/44 [==============================] - 2s 34ms/step - loss: 0.3313 - Accuracy: 0.8707 - false_negatives: 51.0000 - false_positives: 36.0000 - true_negatives: 1008.0000 - true_positives: 297.0000 - val_loss: 2.2507 - val_Accuracy: 0.6023 - val_false_negatives: 38.0000 - val_false_positives: 31.0000 - val_true_negatives: 233.0000 - val_true_positives: 50.0000\n",
            "Epoch 107/200\n",
            "44/44 [==============================] - 2s 34ms/step - loss: 0.3514 - Accuracy: 0.8707 - false_negatives: 54.0000 - false_positives: 34.0000 - true_negatives: 1010.0000 - true_positives: 294.0000 - val_loss: 1.3894 - val_Accuracy: 0.5795 - val_false_negatives: 42.0000 - val_false_positives: 23.0000 - val_true_negatives: 241.0000 - val_true_positives: 46.0000\n",
            "Epoch 108/200\n",
            "44/44 [==============================] - 2s 35ms/step - loss: 0.3926 - Accuracy: 0.8592 - false_negatives: 62.0000 - false_positives: 31.0000 - true_negatives: 1013.0000 - true_positives: 286.0000 - val_loss: 1.3555 - val_Accuracy: 0.6136 - val_false_negatives: 36.0000 - val_false_positives: 23.0000 - val_true_negatives: 241.0000 - val_true_positives: 52.0000\n",
            "Epoch 109/200\n",
            "44/44 [==============================] - 2s 36ms/step - loss: 0.3389 - Accuracy: 0.8621 - false_negatives: 56.0000 - false_positives: 33.0000 - true_negatives: 1011.0000 - true_positives: 292.0000 - val_loss: 1.3529 - val_Accuracy: 0.6250 - val_false_negatives: 37.0000 - val_false_positives: 26.0000 - val_true_negatives: 238.0000 - val_true_positives: 51.0000\n",
            "Epoch 110/200\n",
            "44/44 [==============================] - 2s 35ms/step - loss: 0.3579 - Accuracy: 0.8793 - false_negatives: 52.0000 - false_positives: 30.0000 - true_negatives: 1014.0000 - true_positives: 296.0000 - val_loss: 1.9628 - val_Accuracy: 0.6477 - val_false_negatives: 35.0000 - val_false_positives: 24.0000 - val_true_negatives: 240.0000 - val_true_positives: 53.0000\n",
            "Epoch 111/200\n",
            "44/44 [==============================] - 2s 35ms/step - loss: 0.3038 - Accuracy: 0.8937 - false_negatives: 46.0000 - false_positives: 28.0000 - true_negatives: 1016.0000 - true_positives: 302.0000 - val_loss: 1.9544 - val_Accuracy: 0.6477 - val_false_negatives: 36.0000 - val_false_positives: 23.0000 - val_true_negatives: 241.0000 - val_true_positives: 52.0000\n",
            "Epoch 112/200\n",
            "44/44 [==============================] - 2s 35ms/step - loss: 0.3661 - Accuracy: 0.8736 - false_negatives: 51.0000 - false_positives: 34.0000 - true_negatives: 1010.0000 - true_positives: 297.0000 - val_loss: 3.4170 - val_Accuracy: 0.6136 - val_false_negatives: 38.0000 - val_false_positives: 31.0000 - val_true_negatives: 233.0000 - val_true_positives: 50.0000\n",
            "Epoch 113/200\n",
            "44/44 [==============================] - 2s 35ms/step - loss: 0.4411 - Accuracy: 0.8506 - false_negatives: 62.0000 - false_positives: 43.0000 - true_negatives: 1001.0000 - true_positives: 286.0000 - val_loss: 1.3239 - val_Accuracy: 0.6250 - val_false_negatives: 38.0000 - val_false_positives: 25.0000 - val_true_negatives: 239.0000 - val_true_positives: 50.0000\n",
            "Epoch 114/200\n",
            "44/44 [==============================] - 2s 34ms/step - loss: 0.3447 - Accuracy: 0.8707 - false_negatives: 52.0000 - false_positives: 34.0000 - true_negatives: 1010.0000 - true_positives: 296.0000 - val_loss: 1.5864 - val_Accuracy: 0.6250 - val_false_negatives: 39.0000 - val_false_positives: 26.0000 - val_true_negatives: 238.0000 - val_true_positives: 49.0000\n",
            "Epoch 115/200\n",
            "44/44 [==============================] - 2s 35ms/step - loss: 0.3423 - Accuracy: 0.8736 - false_negatives: 48.0000 - false_positives: 35.0000 - true_negatives: 1009.0000 - true_positives: 300.0000 - val_loss: 1.4668 - val_Accuracy: 0.6591 - val_false_negatives: 34.0000 - val_false_positives: 22.0000 - val_true_negatives: 242.0000 - val_true_positives: 54.0000\n",
            "Epoch 116/200\n",
            "44/44 [==============================] - 2s 35ms/step - loss: 0.3240 - Accuracy: 0.8966 - false_negatives: 50.0000 - false_positives: 27.0000 - true_negatives: 1017.0000 - true_positives: 298.0000 - val_loss: 1.5712 - val_Accuracy: 0.6250 - val_false_negatives: 33.0000 - val_false_positives: 27.0000 - val_true_negatives: 237.0000 - val_true_positives: 55.0000\n",
            "Epoch 117/200\n",
            "44/44 [==============================] - 2s 35ms/step - loss: 0.3276 - Accuracy: 0.8793 - false_negatives: 48.0000 - false_positives: 32.0000 - true_negatives: 1012.0000 - true_positives: 300.0000 - val_loss: 3.6260 - val_Accuracy: 0.6023 - val_false_negatives: 39.0000 - val_false_positives: 31.0000 - val_true_negatives: 233.0000 - val_true_positives: 49.0000\n",
            "Epoch 118/200\n",
            "44/44 [==============================] - 2s 35ms/step - loss: 0.2887 - Accuracy: 0.8908 - false_negatives: 42.0000 - false_positives: 23.0000 - true_negatives: 1021.0000 - true_positives: 306.0000 - val_loss: 1.7996 - val_Accuracy: 0.6477 - val_false_negatives: 36.0000 - val_false_positives: 28.0000 - val_true_negatives: 236.0000 - val_true_positives: 52.0000\n",
            "Epoch 119/200\n",
            "44/44 [==============================] - 2s 35ms/step - loss: 0.2452 - Accuracy: 0.9138 - false_negatives: 38.0000 - false_positives: 21.0000 - true_negatives: 1023.0000 - true_positives: 310.0000 - val_loss: 1.8408 - val_Accuracy: 0.6136 - val_false_negatives: 39.0000 - val_false_positives: 25.0000 - val_true_negatives: 239.0000 - val_true_positives: 49.0000\n",
            "Epoch 120/200\n",
            "44/44 [==============================] - 2s 35ms/step - loss: 0.3001 - Accuracy: 0.8908 - false_negatives: 45.0000 - false_positives: 27.0000 - true_negatives: 1017.0000 - true_positives: 303.0000 - val_loss: 2.6058 - val_Accuracy: 0.6250 - val_false_negatives: 36.0000 - val_false_positives: 29.0000 - val_true_negatives: 235.0000 - val_true_positives: 52.0000\n",
            "Epoch 121/200\n",
            "44/44 [==============================] - 2s 35ms/step - loss: 0.3181 - Accuracy: 0.8822 - false_negatives: 57.0000 - false_positives: 30.0000 - true_negatives: 1014.0000 - true_positives: 291.0000 - val_loss: 3.9204 - val_Accuracy: 0.6250 - val_false_negatives: 34.0000 - val_false_positives: 29.0000 - val_true_negatives: 235.0000 - val_true_positives: 54.0000\n",
            "Epoch 122/200\n",
            "44/44 [==============================] - 2s 36ms/step - loss: 0.3212 - Accuracy: 0.8764 - false_negatives: 48.0000 - false_positives: 27.0000 - true_negatives: 1017.0000 - true_positives: 300.0000 - val_loss: 1.7067 - val_Accuracy: 0.6250 - val_false_negatives: 34.0000 - val_false_positives: 26.0000 - val_true_negatives: 238.0000 - val_true_positives: 54.0000\n",
            "Epoch 123/200\n",
            "44/44 [==============================] - 2s 35ms/step - loss: 0.3934 - Accuracy: 0.8678 - false_negatives: 56.0000 - false_positives: 30.0000 - true_negatives: 1014.0000 - true_positives: 292.0000 - val_loss: 1.5304 - val_Accuracy: 0.6818 - val_false_negatives: 30.0000 - val_false_positives: 26.0000 - val_true_negatives: 238.0000 - val_true_positives: 58.0000\n",
            "Epoch 124/200\n",
            "44/44 [==============================] - 2s 35ms/step - loss: 0.3825 - Accuracy: 0.8477 - false_negatives: 62.0000 - false_positives: 37.0000 - true_negatives: 1007.0000 - true_positives: 286.0000 - val_loss: 1.6940 - val_Accuracy: 0.5909 - val_false_negatives: 37.0000 - val_false_positives: 29.0000 - val_true_negatives: 235.0000 - val_true_positives: 51.0000\n",
            "Epoch 125/200\n",
            "44/44 [==============================] - 2s 35ms/step - loss: 0.3171 - Accuracy: 0.8707 - false_negatives: 58.0000 - false_positives: 27.0000 - true_negatives: 1017.0000 - true_positives: 290.0000 - val_loss: 1.7236 - val_Accuracy: 0.6477 - val_false_negatives: 33.0000 - val_false_positives: 30.0000 - val_true_negatives: 234.0000 - val_true_positives: 55.0000\n",
            "Epoch 126/200\n",
            "44/44 [==============================] - 2s 35ms/step - loss: 0.2616 - Accuracy: 0.9023 - false_negatives: 43.0000 - false_positives: 23.0000 - true_negatives: 1021.0000 - true_positives: 305.0000 - val_loss: 2.9504 - val_Accuracy: 0.6477 - val_false_negatives: 33.0000 - val_false_positives: 31.0000 - val_true_negatives: 233.0000 - val_true_positives: 55.0000\n",
            "Epoch 127/200\n",
            "44/44 [==============================] - 2s 35ms/step - loss: 0.2907 - Accuracy: 0.8822 - false_negatives: 48.0000 - false_positives: 34.0000 - true_negatives: 1010.0000 - true_positives: 300.0000 - val_loss: 2.0187 - val_Accuracy: 0.6591 - val_false_negatives: 32.0000 - val_false_positives: 28.0000 - val_true_negatives: 236.0000 - val_true_positives: 56.0000\n",
            "Epoch 128/200\n",
            "44/44 [==============================] - 2s 35ms/step - loss: 0.2795 - Accuracy: 0.9080 - false_negatives: 47.0000 - false_positives: 24.0000 - true_negatives: 1020.0000 - true_positives: 301.0000 - val_loss: 1.8681 - val_Accuracy: 0.6477 - val_false_negatives: 35.0000 - val_false_positives: 28.0000 - val_true_negatives: 236.0000 - val_true_positives: 53.0000\n",
            "Epoch 129/200\n",
            "44/44 [==============================] - 2s 35ms/step - loss: 0.2312 - Accuracy: 0.8994 - false_negatives: 39.0000 - false_positives: 22.0000 - true_negatives: 1022.0000 - true_positives: 309.0000 - val_loss: 2.3522 - val_Accuracy: 0.6136 - val_false_negatives: 36.0000 - val_false_positives: 30.0000 - val_true_negatives: 234.0000 - val_true_positives: 52.0000\n",
            "Epoch 130/200\n",
            "44/44 [==============================] - 2s 35ms/step - loss: 0.3394 - Accuracy: 0.8563 - false_negatives: 58.0000 - false_positives: 29.0000 - true_negatives: 1015.0000 - true_positives: 290.0000 - val_loss: 2.3514 - val_Accuracy: 0.6364 - val_false_negatives: 34.0000 - val_false_positives: 28.0000 - val_true_negatives: 236.0000 - val_true_positives: 54.0000\n",
            "Epoch 131/200\n",
            "44/44 [==============================] - 2s 35ms/step - loss: 0.2198 - Accuracy: 0.9167 - false_negatives: 36.0000 - false_positives: 20.0000 - true_negatives: 1024.0000 - true_positives: 312.0000 - val_loss: 2.0125 - val_Accuracy: 0.6477 - val_false_negatives: 34.0000 - val_false_positives: 28.0000 - val_true_negatives: 236.0000 - val_true_positives: 54.0000\n",
            "Epoch 132/200\n",
            "44/44 [==============================] - 2s 35ms/step - loss: 0.1906 - Accuracy: 0.9310 - false_negatives: 28.0000 - false_positives: 18.0000 - true_negatives: 1026.0000 - true_positives: 320.0000 - val_loss: 2.8143 - val_Accuracy: 0.6250 - val_false_negatives: 35.0000 - val_false_positives: 29.0000 - val_true_negatives: 235.0000 - val_true_positives: 53.0000\n",
            "Epoch 133/200\n",
            "44/44 [==============================] - 2s 35ms/step - loss: 0.2561 - Accuracy: 0.9023 - false_negatives: 36.0000 - false_positives: 23.0000 - true_negatives: 1021.0000 - true_positives: 312.0000 - val_loss: 1.9677 - val_Accuracy: 0.6477 - val_false_negatives: 32.0000 - val_false_positives: 22.0000 - val_true_negatives: 242.0000 - val_true_positives: 56.0000\n",
            "Epoch 134/200\n",
            "44/44 [==============================] - 2s 36ms/step - loss: 0.1989 - Accuracy: 0.9167 - false_negatives: 34.0000 - false_positives: 21.0000 - true_negatives: 1023.0000 - true_positives: 314.0000 - val_loss: 2.3087 - val_Accuracy: 0.6250 - val_false_negatives: 33.0000 - val_false_positives: 29.0000 - val_true_negatives: 235.0000 - val_true_positives: 55.0000\n",
            "Epoch 135/200\n",
            "44/44 [==============================] - 2s 34ms/step - loss: 0.2874 - Accuracy: 0.9109 - false_negatives: 35.0000 - false_positives: 27.0000 - true_negatives: 1017.0000 - true_positives: 313.0000 - val_loss: 2.5528 - val_Accuracy: 0.6364 - val_false_negatives: 34.0000 - val_false_positives: 28.0000 - val_true_negatives: 236.0000 - val_true_positives: 54.0000\n",
            "Epoch 136/200\n",
            "44/44 [==============================] - 2s 35ms/step - loss: 0.3370 - Accuracy: 0.8908 - false_negatives: 48.0000 - false_positives: 29.0000 - true_negatives: 1015.0000 - true_positives: 300.0000 - val_loss: 1.5503 - val_Accuracy: 0.6591 - val_false_negatives: 33.0000 - val_false_positives: 30.0000 - val_true_negatives: 234.0000 - val_true_positives: 55.0000\n",
            "Epoch 137/200\n",
            "44/44 [==============================] - 2s 36ms/step - loss: 0.2573 - Accuracy: 0.8908 - false_negatives: 42.0000 - false_positives: 30.0000 - true_negatives: 1014.0000 - true_positives: 306.0000 - val_loss: 2.0401 - val_Accuracy: 0.6364 - val_false_negatives: 34.0000 - val_false_positives: 28.0000 - val_true_negatives: 236.0000 - val_true_positives: 54.0000\n",
            "Epoch 138/200\n",
            "44/44 [==============================] - 2s 35ms/step - loss: 0.3814 - Accuracy: 0.8736 - false_negatives: 49.0000 - false_positives: 26.0000 - true_negatives: 1018.0000 - true_positives: 299.0000 - val_loss: 1.0869 - val_Accuracy: 0.6364 - val_false_negatives: 34.0000 - val_false_positives: 24.0000 - val_true_negatives: 240.0000 - val_true_positives: 54.0000\n",
            "Epoch 139/200\n",
            "44/44 [==============================] - 2s 35ms/step - loss: 0.2567 - Accuracy: 0.9023 - false_negatives: 43.0000 - false_positives: 22.0000 - true_negatives: 1022.0000 - true_positives: 305.0000 - val_loss: 2.0584 - val_Accuracy: 0.6136 - val_false_negatives: 35.0000 - val_false_positives: 33.0000 - val_true_negatives: 231.0000 - val_true_positives: 53.0000\n",
            "Epoch 140/200\n",
            "44/44 [==============================] - 2s 35ms/step - loss: 0.2498 - Accuracy: 0.8966 - false_negatives: 42.0000 - false_positives: 23.0000 - true_negatives: 1021.0000 - true_positives: 306.0000 - val_loss: 1.7937 - val_Accuracy: 0.5682 - val_false_negatives: 38.0000 - val_false_positives: 30.0000 - val_true_negatives: 234.0000 - val_true_positives: 50.0000\n",
            "Epoch 141/200\n",
            "44/44 [==============================] - 2s 36ms/step - loss: 0.2267 - Accuracy: 0.9167 - false_negatives: 38.0000 - false_positives: 22.0000 - true_negatives: 1022.0000 - true_positives: 310.0000 - val_loss: 2.4211 - val_Accuracy: 0.6364 - val_false_negatives: 34.0000 - val_false_positives: 31.0000 - val_true_negatives: 233.0000 - val_true_positives: 54.0000\n",
            "Epoch 142/200\n",
            "44/44 [==============================] - 2s 34ms/step - loss: 0.2101 - Accuracy: 0.9454 - false_negatives: 23.0000 - false_positives: 16.0000 - true_negatives: 1028.0000 - true_positives: 325.0000 - val_loss: 2.8705 - val_Accuracy: 0.6477 - val_false_negatives: 31.0000 - val_false_positives: 30.0000 - val_true_negatives: 234.0000 - val_true_positives: 57.0000\n",
            "Epoch 143/200\n",
            "44/44 [==============================] - 2s 34ms/step - loss: 0.2652 - Accuracy: 0.9052 - false_negatives: 40.0000 - false_positives: 22.0000 - true_negatives: 1022.0000 - true_positives: 308.0000 - val_loss: 1.5364 - val_Accuracy: 0.6591 - val_false_negatives: 35.0000 - val_false_positives: 26.0000 - val_true_negatives: 238.0000 - val_true_positives: 53.0000\n",
            "Epoch 144/200\n",
            "44/44 [==============================] - 2s 36ms/step - loss: 0.1735 - Accuracy: 0.9310 - false_negatives: 26.0000 - false_positives: 17.0000 - true_negatives: 1027.0000 - true_positives: 322.0000 - val_loss: 2.2065 - val_Accuracy: 0.6818 - val_false_negatives: 29.0000 - val_false_positives: 26.0000 - val_true_negatives: 238.0000 - val_true_positives: 59.0000\n",
            "Epoch 145/200\n",
            "44/44 [==============================] - 2s 35ms/step - loss: 0.3320 - Accuracy: 0.8793 - false_negatives: 47.0000 - false_positives: 31.0000 - true_negatives: 1013.0000 - true_positives: 301.0000 - val_loss: 1.4636 - val_Accuracy: 0.5909 - val_false_negatives: 37.0000 - val_false_positives: 24.0000 - val_true_negatives: 240.0000 - val_true_positives: 51.0000\n",
            "Epoch 146/200\n",
            "44/44 [==============================] - 2s 35ms/step - loss: 0.2552 - Accuracy: 0.9224 - false_negatives: 36.0000 - false_positives: 21.0000 - true_negatives: 1023.0000 - true_positives: 312.0000 - val_loss: 2.1234 - val_Accuracy: 0.6136 - val_false_negatives: 35.0000 - val_false_positives: 29.0000 - val_true_negatives: 235.0000 - val_true_positives: 53.0000\n",
            "Epoch 147/200\n",
            "44/44 [==============================] - 2s 35ms/step - loss: 0.3261 - Accuracy: 0.8851 - false_negatives: 51.0000 - false_positives: 26.0000 - true_negatives: 1018.0000 - true_positives: 297.0000 - val_loss: 1.2429 - val_Accuracy: 0.6477 - val_false_negatives: 33.0000 - val_false_positives: 23.0000 - val_true_negatives: 241.0000 - val_true_positives: 55.0000\n",
            "Epoch 148/200\n",
            "44/44 [==============================] - 2s 35ms/step - loss: 0.2748 - Accuracy: 0.9023 - false_negatives: 40.0000 - false_positives: 23.0000 - true_negatives: 1021.0000 - true_positives: 308.0000 - val_loss: 2.3179 - val_Accuracy: 0.6250 - val_false_negatives: 35.0000 - val_false_positives: 29.0000 - val_true_negatives: 235.0000 - val_true_positives: 53.0000\n",
            "Epoch 149/200\n",
            "44/44 [==============================] - 2s 35ms/step - loss: 0.1948 - Accuracy: 0.9167 - false_negatives: 32.0000 - false_positives: 23.0000 - true_negatives: 1021.0000 - true_positives: 316.0000 - val_loss: 2.9561 - val_Accuracy: 0.6023 - val_false_negatives: 36.0000 - val_false_positives: 33.0000 - val_true_negatives: 231.0000 - val_true_positives: 52.0000\n",
            "Epoch 150/200\n",
            "44/44 [==============================] - 2s 35ms/step - loss: 0.1916 - Accuracy: 0.9290 - false_negatives: 29.0000 - false_positives: 20.0000 - true_negatives: 1036.0000 - true_positives: 323.0000 - val_loss: 1.4030 - val_Accuracy: 0.6364 - val_false_negatives: 33.0000 - val_false_positives: 28.0000 - val_true_negatives: 236.0000 - val_true_positives: 55.0000\n",
            "Epoch 151/200\n",
            "44/44 [==============================] - 2s 35ms/step - loss: 0.2103 - Accuracy: 0.9224 - false_negatives: 35.0000 - false_positives: 17.0000 - true_negatives: 1027.0000 - true_positives: 313.0000 - val_loss: 2.3907 - val_Accuracy: 0.6364 - val_false_negatives: 34.0000 - val_false_positives: 28.0000 - val_true_negatives: 236.0000 - val_true_positives: 54.0000\n",
            "Epoch 152/200\n",
            "44/44 [==============================] - 2s 35ms/step - loss: 0.2543 - Accuracy: 0.9109 - false_negatives: 37.0000 - false_positives: 27.0000 - true_negatives: 1017.0000 - true_positives: 311.0000 - val_loss: 1.8088 - val_Accuracy: 0.6364 - val_false_negatives: 34.0000 - val_false_positives: 27.0000 - val_true_negatives: 237.0000 - val_true_positives: 54.0000\n",
            "Epoch 153/200\n",
            "44/44 [==============================] - 2s 35ms/step - loss: 0.1714 - Accuracy: 0.9282 - false_negatives: 29.0000 - false_positives: 16.0000 - true_negatives: 1028.0000 - true_positives: 319.0000 - val_loss: 2.3995 - val_Accuracy: 0.6136 - val_false_negatives: 35.0000 - val_false_positives: 30.0000 - val_true_negatives: 234.0000 - val_true_positives: 53.0000\n",
            "Epoch 154/200\n",
            "44/44 [==============================] - 2s 36ms/step - loss: 0.1717 - Accuracy: 0.9397 - false_negatives: 25.0000 - false_positives: 15.0000 - true_negatives: 1029.0000 - true_positives: 323.0000 - val_loss: 2.8238 - val_Accuracy: 0.6477 - val_false_negatives: 31.0000 - val_false_positives: 28.0000 - val_true_negatives: 236.0000 - val_true_positives: 57.0000\n",
            "Epoch 155/200\n",
            "44/44 [==============================] - 2s 36ms/step - loss: 0.3226 - Accuracy: 0.9023 - false_negatives: 39.0000 - false_positives: 30.0000 - true_negatives: 1014.0000 - true_positives: 309.0000 - val_loss: 1.4932 - val_Accuracy: 0.6364 - val_false_negatives: 35.0000 - val_false_positives: 28.0000 - val_true_negatives: 236.0000 - val_true_positives: 53.0000\n",
            "Epoch 156/200\n",
            "44/44 [==============================] - 2s 35ms/step - loss: 0.1880 - Accuracy: 0.9368 - false_negatives: 26.0000 - false_positives: 17.0000 - true_negatives: 1027.0000 - true_positives: 322.0000 - val_loss: 1.9797 - val_Accuracy: 0.6364 - val_false_negatives: 35.0000 - val_false_positives: 29.0000 - val_true_negatives: 235.0000 - val_true_positives: 53.0000\n",
            "Epoch 157/200\n",
            "44/44 [==============================] - 2s 36ms/step - loss: 0.2154 - Accuracy: 0.9138 - false_negatives: 32.0000 - false_positives: 24.0000 - true_negatives: 1020.0000 - true_positives: 316.0000 - val_loss: 2.9645 - val_Accuracy: 0.5909 - val_false_negatives: 37.0000 - val_false_positives: 33.0000 - val_true_negatives: 231.0000 - val_true_positives: 51.0000\n",
            "Epoch 158/200\n",
            "44/44 [==============================] - 2s 36ms/step - loss: 0.1484 - Accuracy: 0.9511 - false_negatives: 20.0000 - false_positives: 15.0000 - true_negatives: 1029.0000 - true_positives: 328.0000 - val_loss: 2.3673 - val_Accuracy: 0.6136 - val_false_negatives: 35.0000 - val_false_positives: 31.0000 - val_true_negatives: 233.0000 - val_true_positives: 53.0000\n",
            "Epoch 159/200\n",
            "44/44 [==============================] - 2s 35ms/step - loss: 0.2891 - Accuracy: 0.8908 - false_negatives: 44.0000 - false_positives: 33.0000 - true_negatives: 1011.0000 - true_positives: 304.0000 - val_loss: 1.5203 - val_Accuracy: 0.6250 - val_false_negatives: 35.0000 - val_false_positives: 31.0000 - val_true_negatives: 233.0000 - val_true_positives: 53.0000\n",
            "Epoch 160/200\n",
            "44/44 [==============================] - 2s 35ms/step - loss: 0.2280 - Accuracy: 0.9080 - false_negatives: 38.0000 - false_positives: 25.0000 - true_negatives: 1019.0000 - true_positives: 310.0000 - val_loss: 2.1120 - val_Accuracy: 0.6477 - val_false_negatives: 33.0000 - val_false_positives: 28.0000 - val_true_negatives: 236.0000 - val_true_positives: 55.0000\n",
            "Epoch 161/200\n",
            "44/44 [==============================] - 2s 35ms/step - loss: 0.1598 - Accuracy: 0.9569 - false_negatives: 17.0000 - false_positives: 13.0000 - true_negatives: 1031.0000 - true_positives: 331.0000 - val_loss: 2.1752 - val_Accuracy: 0.6477 - val_false_negatives: 32.0000 - val_false_positives: 29.0000 - val_true_negatives: 235.0000 - val_true_positives: 56.0000\n",
            "Epoch 162/200\n",
            "44/44 [==============================] - 2s 35ms/step - loss: 0.1783 - Accuracy: 0.9368 - false_negatives: 24.0000 - false_positives: 21.0000 - true_negatives: 1023.0000 - true_positives: 324.0000 - val_loss: 3.8726 - val_Accuracy: 0.5568 - val_false_negatives: 40.0000 - val_false_positives: 39.0000 - val_true_negatives: 225.0000 - val_true_positives: 48.0000\n",
            "Epoch 163/200\n",
            "44/44 [==============================] - 2s 35ms/step - loss: 0.2528 - Accuracy: 0.9052 - false_negatives: 37.0000 - false_positives: 21.0000 - true_negatives: 1023.0000 - true_positives: 311.0000 - val_loss: 1.6275 - val_Accuracy: 0.6250 - val_false_negatives: 37.0000 - val_false_positives: 30.0000 - val_true_negatives: 234.0000 - val_true_positives: 51.0000\n",
            "Epoch 164/200\n",
            "44/44 [==============================] - 2s 35ms/step - loss: 0.2002 - Accuracy: 0.9339 - false_negatives: 23.0000 - false_positives: 21.0000 - true_negatives: 1023.0000 - true_positives: 325.0000 - val_loss: 1.5338 - val_Accuracy: 0.6705 - val_false_negatives: 31.0000 - val_false_positives: 27.0000 - val_true_negatives: 237.0000 - val_true_positives: 57.0000\n",
            "Epoch 165/200\n",
            "44/44 [==============================] - 2s 35ms/step - loss: 0.1199 - Accuracy: 0.9655 - false_negatives: 15.0000 - false_positives: 10.0000 - true_negatives: 1034.0000 - true_positives: 333.0000 - val_loss: 1.8656 - val_Accuracy: 0.6364 - val_false_negatives: 33.0000 - val_false_positives: 28.0000 - val_true_negatives: 236.0000 - val_true_positives: 55.0000\n",
            "Epoch 166/200\n",
            "44/44 [==============================] - 2s 36ms/step - loss: 0.1349 - Accuracy: 0.9598 - false_negatives: 17.0000 - false_positives: 11.0000 - true_negatives: 1033.0000 - true_positives: 331.0000 - val_loss: 2.7507 - val_Accuracy: 0.6705 - val_false_negatives: 29.0000 - val_false_positives: 29.0000 - val_true_negatives: 235.0000 - val_true_positives: 59.0000\n",
            "Epoch 167/200\n",
            "44/44 [==============================] - 2s 35ms/step - loss: 0.1677 - Accuracy: 0.9397 - false_negatives: 23.0000 - false_positives: 19.0000 - true_negatives: 1025.0000 - true_positives: 325.0000 - val_loss: 2.9687 - val_Accuracy: 0.6364 - val_false_negatives: 33.0000 - val_false_positives: 30.0000 - val_true_negatives: 234.0000 - val_true_positives: 55.0000\n",
            "Epoch 168/200\n",
            "44/44 [==============================] - 2s 36ms/step - loss: 0.3546 - Accuracy: 0.8835 - false_negatives: 43.0000 - false_positives: 34.0000 - true_negatives: 1022.0000 - true_positives: 309.0000 - val_loss: 2.0756 - val_Accuracy: 0.6591 - val_false_negatives: 31.0000 - val_false_positives: 23.0000 - val_true_negatives: 241.0000 - val_true_positives: 57.0000\n",
            "Epoch 169/200\n",
            "44/44 [==============================] - 2s 35ms/step - loss: 0.2255 - Accuracy: 0.9195 - false_negatives: 35.0000 - false_positives: 25.0000 - true_negatives: 1019.0000 - true_positives: 313.0000 - val_loss: 2.4504 - val_Accuracy: 0.6250 - val_false_negatives: 35.0000 - val_false_positives: 31.0000 - val_true_negatives: 233.0000 - val_true_positives: 53.0000\n",
            "Epoch 170/200\n",
            "44/44 [==============================] - 2s 36ms/step - loss: 0.1484 - Accuracy: 0.9569 - false_negatives: 21.0000 - false_positives: 11.0000 - true_negatives: 1033.0000 - true_positives: 327.0000 - val_loss: 3.2116 - val_Accuracy: 0.6364 - val_false_negatives: 32.0000 - val_false_positives: 32.0000 - val_true_negatives: 232.0000 - val_true_positives: 56.0000\n",
            "Epoch 171/200\n",
            "44/44 [==============================] - 2s 35ms/step - loss: 0.1769 - Accuracy: 0.9483 - false_negatives: 21.0000 - false_positives: 16.0000 - true_negatives: 1028.0000 - true_positives: 327.0000 - val_loss: 1.8202 - val_Accuracy: 0.6477 - val_false_negatives: 33.0000 - val_false_positives: 29.0000 - val_true_negatives: 235.0000 - val_true_positives: 55.0000\n",
            "Epoch 172/200\n",
            "44/44 [==============================] - 2s 35ms/step - loss: 0.1736 - Accuracy: 0.9397 - false_negatives: 24.0000 - false_positives: 20.0000 - true_negatives: 1024.0000 - true_positives: 324.0000 - val_loss: 3.0256 - val_Accuracy: 0.6023 - val_false_negatives: 36.0000 - val_false_positives: 33.0000 - val_true_negatives: 231.0000 - val_true_positives: 52.0000\n",
            "Epoch 173/200\n",
            "44/44 [==============================] - 2s 34ms/step - loss: 0.2037 - Accuracy: 0.9339 - false_negatives: 29.0000 - false_positives: 20.0000 - true_negatives: 1024.0000 - true_positives: 319.0000 - val_loss: 2.2023 - val_Accuracy: 0.6818 - val_false_negatives: 30.0000 - val_false_positives: 24.0000 - val_true_negatives: 240.0000 - val_true_positives: 58.0000\n",
            "Epoch 174/200\n",
            "44/44 [==============================] - 2s 36ms/step - loss: 0.1489 - Accuracy: 0.9540 - false_negatives: 19.0000 - false_positives: 14.0000 - true_negatives: 1030.0000 - true_positives: 329.0000 - val_loss: 2.3994 - val_Accuracy: 0.6591 - val_false_negatives: 30.0000 - val_false_positives: 29.0000 - val_true_negatives: 235.0000 - val_true_positives: 58.0000\n",
            "Epoch 175/200\n",
            "44/44 [==============================] - 2s 35ms/step - loss: 0.1870 - Accuracy: 0.9375 - false_negatives: 23.0000 - false_positives: 19.0000 - true_negatives: 1037.0000 - true_positives: 329.0000 - val_loss: 2.1657 - val_Accuracy: 0.5682 - val_false_negatives: 39.0000 - val_false_positives: 32.0000 - val_true_negatives: 232.0000 - val_true_positives: 49.0000\n",
            "Epoch 176/200\n",
            "44/44 [==============================] - 2s 36ms/step - loss: 0.1279 - Accuracy: 0.9626 - false_negatives: 14.0000 - false_positives: 11.0000 - true_negatives: 1033.0000 - true_positives: 334.0000 - val_loss: 3.8763 - val_Accuracy: 0.6250 - val_false_negatives: 33.0000 - val_false_positives: 31.0000 - val_true_negatives: 233.0000 - val_true_positives: 55.0000\n",
            "Epoch 177/200\n",
            "44/44 [==============================] - 2s 36ms/step - loss: 0.1704 - Accuracy: 0.9540 - false_negatives: 20.0000 - false_positives: 16.0000 - true_negatives: 1028.0000 - true_positives: 328.0000 - val_loss: 3.3405 - val_Accuracy: 0.6136 - val_false_negatives: 35.0000 - val_false_positives: 34.0000 - val_true_negatives: 230.0000 - val_true_positives: 53.0000\n",
            "Epoch 178/200\n",
            "44/44 [==============================] - 2s 35ms/step - loss: 0.1774 - Accuracy: 0.9425 - false_negatives: 27.0000 - false_positives: 18.0000 - true_negatives: 1026.0000 - true_positives: 321.0000 - val_loss: 2.7481 - val_Accuracy: 0.6250 - val_false_negatives: 34.0000 - val_false_positives: 30.0000 - val_true_negatives: 234.0000 - val_true_positives: 54.0000\n",
            "Epoch 179/200\n",
            "44/44 [==============================] - 2s 35ms/step - loss: 0.4069 - Accuracy: 0.8563 - false_negatives: 50.0000 - false_positives: 40.0000 - true_negatives: 1004.0000 - true_positives: 298.0000 - val_loss: 1.1654 - val_Accuracy: 0.5455 - val_false_negatives: 50.0000 - val_false_positives: 22.0000 - val_true_negatives: 242.0000 - val_true_positives: 38.0000\n",
            "Epoch 180/200\n",
            "44/44 [==============================] - 2s 36ms/step - loss: 0.3619 - Accuracy: 0.8937 - false_negatives: 47.0000 - false_positives: 26.0000 - true_negatives: 1018.0000 - true_positives: 301.0000 - val_loss: 2.0949 - val_Accuracy: 0.5682 - val_false_negatives: 39.0000 - val_false_positives: 32.0000 - val_true_negatives: 232.0000 - val_true_positives: 49.0000\n",
            "Epoch 181/200\n",
            "44/44 [==============================] - 2s 35ms/step - loss: 0.2276 - Accuracy: 0.9052 - false_negatives: 38.0000 - false_positives: 22.0000 - true_negatives: 1022.0000 - true_positives: 310.0000 - val_loss: 1.7807 - val_Accuracy: 0.6250 - val_false_negatives: 35.0000 - val_false_positives: 29.0000 - val_true_negatives: 235.0000 - val_true_positives: 53.0000\n",
            "Epoch 182/200\n",
            "44/44 [==============================] - 2s 36ms/step - loss: 0.1596 - Accuracy: 0.9397 - false_negatives: 21.0000 - false_positives: 15.0000 - true_negatives: 1029.0000 - true_positives: 327.0000 - val_loss: 2.6580 - val_Accuracy: 0.6364 - val_false_negatives: 32.0000 - val_false_positives: 30.0000 - val_true_negatives: 234.0000 - val_true_positives: 56.0000\n",
            "Epoch 183/200\n",
            "44/44 [==============================] - 2s 36ms/step - loss: 0.0913 - Accuracy: 0.9713 - false_negatives: 10.0000 - false_positives: 9.0000 - true_negatives: 1035.0000 - true_positives: 338.0000 - val_loss: 3.3287 - val_Accuracy: 0.6250 - val_false_negatives: 33.0000 - val_false_positives: 29.0000 - val_true_negatives: 235.0000 - val_true_positives: 55.0000\n",
            "Epoch 184/200\n",
            "44/44 [==============================] - 2s 36ms/step - loss: 0.2599 - Accuracy: 0.9167 - false_negatives: 29.0000 - false_positives: 23.0000 - true_negatives: 1021.0000 - true_positives: 319.0000 - val_loss: 1.8831 - val_Accuracy: 0.5795 - val_false_negatives: 38.0000 - val_false_positives: 34.0000 - val_true_negatives: 230.0000 - val_true_positives: 50.0000\n",
            "Epoch 185/200\n",
            "44/44 [==============================] - 2s 35ms/step - loss: 0.1337 - Accuracy: 0.9511 - false_negatives: 17.0000 - false_positives: 15.0000 - true_negatives: 1029.0000 - true_positives: 331.0000 - val_loss: 2.4983 - val_Accuracy: 0.6364 - val_false_negatives: 36.0000 - val_false_positives: 29.0000 - val_true_negatives: 235.0000 - val_true_positives: 52.0000\n",
            "Epoch 186/200\n",
            "44/44 [==============================] - 2s 35ms/step - loss: 0.0776 - Accuracy: 0.9741 - false_negatives: 11.0000 - false_positives: 6.0000 - true_negatives: 1038.0000 - true_positives: 337.0000 - val_loss: 3.0700 - val_Accuracy: 0.6023 - val_false_negatives: 36.0000 - val_false_positives: 33.0000 - val_true_negatives: 231.0000 - val_true_positives: 52.0000\n",
            "Epoch 187/200\n",
            "44/44 [==============================] - 2s 36ms/step - loss: 0.1182 - Accuracy: 0.9598 - false_negatives: 14.0000 - false_positives: 13.0000 - true_negatives: 1031.0000 - true_positives: 334.0000 - val_loss: 4.2984 - val_Accuracy: 0.5909 - val_false_negatives: 38.0000 - val_false_positives: 36.0000 - val_true_negatives: 228.0000 - val_true_positives: 50.0000\n",
            "Epoch 188/200\n",
            "44/44 [==============================] - 2s 35ms/step - loss: 0.1333 - Accuracy: 0.9425 - false_negatives: 21.0000 - false_positives: 17.0000 - true_negatives: 1027.0000 - true_positives: 327.0000 - val_loss: 2.8406 - val_Accuracy: 0.5795 - val_false_negatives: 37.0000 - val_false_positives: 36.0000 - val_true_negatives: 228.0000 - val_true_positives: 51.0000\n",
            "Epoch 189/200\n",
            "44/44 [==============================] - 2s 35ms/step - loss: 0.1320 - Accuracy: 0.9454 - false_negatives: 19.0000 - false_positives: 15.0000 - true_negatives: 1029.0000 - true_positives: 329.0000 - val_loss: 3.7877 - val_Accuracy: 0.6250 - val_false_negatives: 34.0000 - val_false_positives: 30.0000 - val_true_negatives: 234.0000 - val_true_positives: 54.0000\n",
            "Epoch 190/200\n",
            "44/44 [==============================] - 2s 35ms/step - loss: 0.0960 - Accuracy: 0.9713 - false_negatives: 10.0000 - false_positives: 7.0000 - true_negatives: 1037.0000 - true_positives: 338.0000 - val_loss: 5.9352 - val_Accuracy: 0.6136 - val_false_negatives: 35.0000 - val_false_positives: 33.0000 - val_true_negatives: 231.0000 - val_true_positives: 53.0000\n",
            "Epoch 191/200\n",
            "44/44 [==============================] - 2s 35ms/step - loss: 0.1555 - Accuracy: 0.9626 - false_negatives: 17.0000 - false_positives: 12.0000 - true_negatives: 1032.0000 - true_positives: 331.0000 - val_loss: 2.2698 - val_Accuracy: 0.6023 - val_false_negatives: 35.0000 - val_false_positives: 32.0000 - val_true_negatives: 232.0000 - val_true_positives: 53.0000\n",
            "Epoch 192/200\n",
            "44/44 [==============================] - 2s 35ms/step - loss: 0.2457 - Accuracy: 0.9109 - false_negatives: 35.0000 - false_positives: 24.0000 - true_negatives: 1020.0000 - true_positives: 313.0000 - val_loss: 2.5768 - val_Accuracy: 0.5682 - val_false_negatives: 38.0000 - val_false_positives: 36.0000 - val_true_negatives: 228.0000 - val_true_positives: 50.0000\n",
            "Epoch 193/200\n",
            "44/44 [==============================] - 2s 34ms/step - loss: 0.1688 - Accuracy: 0.9483 - false_negatives: 18.0000 - false_positives: 16.0000 - true_negatives: 1028.0000 - true_positives: 330.0000 - val_loss: 2.2785 - val_Accuracy: 0.6023 - val_false_negatives: 37.0000 - val_false_positives: 34.0000 - val_true_negatives: 230.0000 - val_true_positives: 51.0000\n",
            "Epoch 194/200\n",
            "44/44 [==============================] - 2s 36ms/step - loss: 0.1334 - Accuracy: 0.9569 - false_negatives: 17.0000 - false_positives: 13.0000 - true_negatives: 1031.0000 - true_positives: 331.0000 - val_loss: 2.3753 - val_Accuracy: 0.6250 - val_false_negatives: 34.0000 - val_false_positives: 31.0000 - val_true_negatives: 233.0000 - val_true_positives: 54.0000\n",
            "Epoch 195/200\n",
            "44/44 [==============================] - 2s 36ms/step - loss: 0.1451 - Accuracy: 0.9569 - false_negatives: 16.0000 - false_positives: 15.0000 - true_negatives: 1029.0000 - true_positives: 332.0000 - val_loss: 2.2417 - val_Accuracy: 0.6477 - val_false_negatives: 32.0000 - val_false_positives: 31.0000 - val_true_negatives: 233.0000 - val_true_positives: 56.0000\n",
            "Epoch 196/200\n",
            "44/44 [==============================] - 2s 35ms/step - loss: 0.1300 - Accuracy: 0.9655 - false_negatives: 12.0000 - false_positives: 12.0000 - true_negatives: 1032.0000 - true_positives: 336.0000 - val_loss: 1.8996 - val_Accuracy: 0.5682 - val_false_negatives: 38.0000 - val_false_positives: 37.0000 - val_true_negatives: 227.0000 - val_true_positives: 50.0000\n",
            "Epoch 197/200\n",
            "44/44 [==============================] - 2s 35ms/step - loss: 0.1470 - Accuracy: 0.9511 - false_negatives: 21.0000 - false_positives: 13.0000 - true_negatives: 1031.0000 - true_positives: 327.0000 - val_loss: 2.0711 - val_Accuracy: 0.6477 - val_false_negatives: 31.0000 - val_false_positives: 29.0000 - val_true_negatives: 235.0000 - val_true_positives: 57.0000\n",
            "Epoch 198/200\n",
            "44/44 [==============================] - 2s 36ms/step - loss: 0.1375 - Accuracy: 0.9540 - false_negatives: 18.0000 - false_positives: 15.0000 - true_negatives: 1029.0000 - true_positives: 330.0000 - val_loss: 3.3307 - val_Accuracy: 0.6136 - val_false_negatives: 35.0000 - val_false_positives: 33.0000 - val_true_negatives: 231.0000 - val_true_positives: 53.0000\n",
            "Epoch 199/200\n",
            "44/44 [==============================] - 2s 35ms/step - loss: 0.1079 - Accuracy: 0.9684 - false_negatives: 14.0000 - false_positives: 11.0000 - true_negatives: 1033.0000 - true_positives: 334.0000 - val_loss: 2.2430 - val_Accuracy: 0.6477 - val_false_negatives: 31.0000 - val_false_positives: 29.0000 - val_true_negatives: 235.0000 - val_true_positives: 57.0000\n",
            "Epoch 200/200\n",
            "44/44 [==============================] - 2s 36ms/step - loss: 0.0939 - Accuracy: 0.9713 - false_negatives: 11.0000 - false_positives: 6.0000 - true_negatives: 1038.0000 - true_positives: 337.0000 - val_loss: 2.2569 - val_Accuracy: 0.6364 - val_false_negatives: 33.0000 - val_false_positives: 31.0000 - val_true_negatives: 233.0000 - val_true_positives: 55.0000\n"
          ]
        }
      ]
    },
    {
      "cell_type": "markdown",
      "source": [
        "Plotting Traning Result"
      ],
      "metadata": {
        "id": "XZSFG8fXqz7c"
      }
    },
    {
      "cell_type": "code",
      "source": [
        "  #plotting\n",
        "  epochs = range(1, len(history.history['loss'])+1)\n",
        "  #plt.title(f\"Grafik loss training iterasi {iterasi}\")\n",
        "  plt.title(f\"Grafik loss training VGG16\")\n",
        "  plt.plot(epochs, history.history['loss'], 'r', label='Training Loss')\n",
        "  plt.plot(epochs, history.history['val_loss'], 'b', label='Validation Loss')    \n",
        "  plt.xlabel(\"Epoch\")\n",
        "  plt.ylabel(\"Loss\")\n",
        "  plt.legend()\n",
        "  plt.show()\n"
      ],
      "metadata": {
        "id": "3dXbDrJpY1NK",
        "colab": {
          "base_uri": "https://localhost:8080/",
          "height": 295
        },
        "outputId": "ad80c53a-4296-46ce-8d05-69c4cb7c969e"
      },
      "execution_count": 11,
      "outputs": [
        {
          "output_type": "display_data",
          "data": {
            "text/plain": [
              "<Figure size 432x288 with 1 Axes>"
            ],
            "image/png": "[encoded data removed]"
          },
          "metadata": {
            "needs_background": "light"
          }
        }
      ]
    },
    {
      "cell_type": "code",
      "source": [
        "  #plotting\n",
        "  epochs = range(1, len(history.history['loss'])+1)\n",
        "  #plt.title(f\"Grafik Akurasi training iterasi {iterasi}\")\n",
        "  plt.title(f\"Grafik Akurasi training VGG16\")\n",
        "  plt.plot(epochs, history.history['Accuracy'], 'r', label='Training Accuracy')\n",
        "  plt.plot(epochs, history.history['val_Accuracy'], 'b', label='Validation Accuracy')    \n",
        "  plt.xlabel(\"Epoch\")\n",
        "  plt.ylabel(\"Accuracy\")\n",
        "  plt.legend()\n",
        "  plt.show()"
      ],
      "metadata": {
        "id": "j3xigprPwlSX",
        "colab": {
          "base_uri": "https://localhost:8080/",
          "height": 295
        },
        "outputId": "302b1c35-76a1-4c24-d1b9-f72d05bd136f"
      },
      "execution_count": 12,
      "outputs": [
        {
          "output_type": "display_data",
          "data": {
            "text/plain": [
              "<Figure size 432x288 with 1 Axes>"
            ],
            "image/png": "[encoded data removed]"
          },
          "metadata": {
            "needs_background": "light"
          }
        }
      ]
    },
    {
      "cell_type": "markdown",
      "metadata": {
        "id": "bTgk1-sdzmgy"
      },
      "source": [
        "**Validating** Network"
      ]
    },
    {
      "cell_type": "code",
      "source": [
        "import matplotlib.pyplot as plt\n",
        "from sklearn.datasets import make_classification\n",
        "from numpy import mean\n",
        "from sklearn.metrics import confusion_matrix, ConfusionMatrixDisplay, accuracy_score, classification_report, recall_score\n",
        "\n",
        "validation = model.predict(np_image_list_validation)\n",
        "\n",
        "predicted_labels = []\n",
        "correct_labels = []\n",
        "for i in range (len(validation)):\n",
        "  predicted_labels.append(np.argmax(validation[i]))\n",
        "\n",
        "for i in range (len(image_labels_validation)):\n",
        "  correct_labels.append(np.argmax(image_labels_validation[i]))\n",
        "\n",
        "\n",
        "confusion_matrix = confusion_matrix(correct_labels, predicted_labels)\n",
        "disp = ConfusionMatrixDisplay(confusion_matrix=confusion_matrix)  \n",
        "disp.plot()\n",
        "plt.show()\n",
        "print('--------')\n",
        "FP = confusion_matrix.sum(axis=0) - np.diag(confusion_matrix)  \n",
        "FN = confusion_matrix.sum(axis=1) - np.diag(confusion_matrix)\n",
        "TP = np.diag(confusion_matrix)\n",
        "TN = confusion_matrix.sum() - (FP + FN + TP)\n",
        "\n",
        "# Sensitivity, hit rate, recall, or true positive rate\n",
        "TPR = TP/(TP+FN)\n",
        "# Specificity or true negative rate\n",
        "TNR = TN/(TN+FP) \n",
        "# Overall accuracy\n",
        "ACC = (TP+TN)/(TP+FP+FN+TN)\n",
        "\n",
        "print(TP)\n",
        "print(TN)\n",
        "print(FP)\n",
        "print(FN)\n",
        "print('--------')\n",
        "print(ACC)\n",
        "print(TPR)\n",
        "print(TNR)\n",
        "print('--------')\n",
        "\n",
        "TP = sum(TP)\n",
        "TN = sum(TN)\n",
        "FP = sum(FP)\n",
        "FN = sum(FN)\n",
        "\n",
        "# Sensitivity, hit rate, recall, or true positive rate\n",
        "TPR = TP/(TP+FN)\n",
        "# Specificity or true negative rate\n",
        "TNR = TN/(TN+FP) \n",
        "# Overall accuracy\n",
        "ACC = (TP+TN)/(TP+FP+FN+TN)\n",
        "\n",
        "print(TP)\n",
        "print(TN)\n",
        "print(FP)\n",
        "print(FN)\n",
        "print('--------')\n",
        "print(ACC)\n",
        "print(TPR)\n",
        "print(TNR)"
      ],
      "metadata": {
        "id": "z9NBaYvZ61d7",
        "colab": {
          "base_uri": "https://localhost:8080/",
          "height": 591
        },
        "outputId": "32340db5-9c10-4a72-93a0-9a867df7a191"
      },
      "execution_count": 14,
      "outputs": [
        {
          "output_type": "display_data",
          "data": {
            "text/plain": [
              "<Figure size 432x288 with 2 Axes>"
            ],
            "image/png": "[encoded data removed]"
          },
          "metadata": {
            "needs_background": "light"
          }
        },
        {
          "output_type": "stream",
          "name": "stdout",
          "text": [
            "--------\n",
            "[ 2  6 10 38]\n",
            "[71 72 56 33]\n",
            "[ 7  3  7 15]\n",
            "[ 8  7 15  2]\n",
            "--------\n",
            "[0.82954545 0.88636364 0.75       0.80681818]\n",
            "[0.2        0.46153846 0.4        0.95      ]\n",
            "[0.91025641 0.96       0.88888889 0.6875    ]\n",
            "--------\n",
            "56\n",
            "232\n",
            "32\n",
            "32\n",
            "--------\n",
            "0.8181818181818182\n",
            "0.6363636363636364\n",
            "0.8787878787878788\n"
          ]
        }
      ]
    },
    {
      "cell_type": "markdown",
      "source": [
        "**Testing** Network"
      ],
      "metadata": {
        "id": "saJYjKqX9tRL"
      }
    },
    {
      "cell_type": "code",
      "source": [
        "import matplotlib.pyplot as plt\n",
        "from sklearn.datasets import make_classification\n",
        "from numpy import mean\n",
        "from sklearn.metrics import confusion_matrix, ConfusionMatrixDisplay, accuracy_score, classification_report, recall_score\n",
        "\n",
        "test = model.predict(np_image_list_test)\n",
        "\n",
        "predicted_labels = []\n",
        "correct_labels = []\n",
        "for i in range (len(test)):\n",
        "  predicted_labels.append(np.argmax(test[i]))\n",
        "\n",
        "for i in range (len(image_labels_test)):\n",
        "  correct_labels.append(np.argmax(image_labels_test[i]))\n",
        "\n",
        "\n",
        "confusion_matrix = confusion_matrix(correct_labels, predicted_labels)\n",
        "disp = ConfusionMatrixDisplay(confusion_matrix=confusion_matrix)  \n",
        "disp.plot()\n",
        "plt.show()\n",
        "print('--------')\n",
        "FP = confusion_matrix.sum(axis=0) - np.diag(confusion_matrix)  \n",
        "FN = confusion_matrix.sum(axis=1) - np.diag(confusion_matrix)\n",
        "TP = np.diag(confusion_matrix)\n",
        "TN = confusion_matrix.sum() - (FP + FN + TP)\n",
        "\n",
        "# Sensitivity, hit rate, recall, or true positive rate\n",
        "TPR = TP/(TP+FN)\n",
        "# Specificity or true negative rate\n",
        "TNR = TN/(TN+FP) \n",
        "# Overall accuracy\n",
        "ACC = (TP+TN)/(TP+FP+FN+TN)\n",
        "\n",
        "print(TP)\n",
        "print(TN)\n",
        "print(FP)\n",
        "print(FN)\n",
        "print('--------')\n",
        "print(ACC)\n",
        "print(TPR)\n",
        "print(TNR)\n",
        "print('--------')\n",
        "\n",
        "TP = sum(TP)\n",
        "TN = sum(TN)\n",
        "FP = sum(FP)\n",
        "FN = sum(FN)\n",
        "\n",
        "# Sensitivity, hit rate, recall, or true positive rate\n",
        "TPR = TP/(TP+FN)\n",
        "# Specificity or true negative rate\n",
        "TNR = TN/(TN+FP) \n",
        "# Overall accuracy\n",
        "ACC = (TP+TN)/(TP+FP+FN+TN)\n",
        "\n",
        "print(TP)\n",
        "print(TN)\n",
        "print(FP)\n",
        "print(FN)\n",
        "print('--------')\n",
        "print(ACC)\n",
        "print(TPR)\n",
        "print(TNR)"
      ],
      "metadata": {
        "id": "3a1AYdsF4FoY",
        "colab": {
          "base_uri": "https://localhost:8080/",
          "height": 595
        },
        "outputId": "f9f8aa42-9830-48cb-b979-674685925ea8"
      },
      "execution_count": 15,
      "outputs": [
        {
          "output_type": "display_data",
          "data": {
            "text/plain": [
              "<Figure size 432x288 with 2 Axes>"
            ],
            "image/png": "[encoded data removed]"
          },
          "metadata": {
            "needs_background": "light"
          }
        },
        {
          "output_type": "stream",
          "name": "stdout",
          "text": [
            "--------\n",
            "[ 2  7 10 40]\n",
            "[87 86 68 38]\n",
            "[11  8 10 22]\n",
            "[10  9 22 10]\n",
            "--------\n",
            "[0.80909091 0.84545455 0.70909091 0.70909091]\n",
            "[0.16666667 0.4375     0.3125     0.8       ]\n",
            "[0.8877551  0.91489362 0.87179487 0.63333333]\n",
            "--------\n",
            "59\n",
            "279\n",
            "51\n",
            "51\n",
            "--------\n",
            "0.7681818181818182\n",
            "0.5363636363636364\n",
            "0.8454545454545455\n"
          ]
        }
      ]
    },
    {
      "cell_type": "code",
      "metadata": {
        "id": "AKd6Tu7mzmg2"
      },
      "source": [
        "# save the model to disk\n",
        "#print(\"[INFO] Saving model...\")\n",
        "# pickle.dump(model,open('cnn_model.pkl', 'wb'))\n",
        "#model.save('/content/vgg16.h5')    "
      ],
      "execution_count": null,
      "outputs": []
    },
    {
      "cell_type": "code",
      "metadata": {
        "id": "O6iIKa7Jzmg7"
      },
      "source": [
        "#test_img = cv2.imread('/content/datasets/Apple/Apple___Black_rot/0139bc6d-391c-4fd1-bcae-cc74dabfddd7___JR_FrgE.S 2734.JPG')\n",
        "\n",
        "#plt.imshow(test_img)\n",
        "#test_img = test_img / 255\n",
        "#test_img = np.expand_dims(test_img, axis=0)\n",
        "#pr=model.predict(test_img)\n",
        "\n",
        "#print(pr)\n",
        "#output = label_binarizer.inverse_transform(pr)\n",
        "#print(output)\n"
      ],
      "execution_count": null,
      "outputs": []
    }
  ]
}