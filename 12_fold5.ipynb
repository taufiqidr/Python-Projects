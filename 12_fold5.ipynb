{
  "nbformat": 4,
  "nbformat_minor": 0,
  "metadata": {
    "accelerator": "GPU",
    "colab": {
      "name": "Kodingan Skripsi 3",
      "provenance": [],
      "collapsed_sections": [],
      "include_colab_link": true
    },
    "kernelspec": {
      "display_name": "Python 3",
      "language": "python",
      "name": "python3"
    },
    "language_info": {
      "codemirror_mode": {
        "name": "ipython",
        "version": 3
      },
      "file_extension": ".py",
      "mimetype": "text/x-python",
      "name": "python",
      "nbconvert_exporter": "python",
      "pygments_lexer": "ipython3",
      "version": "3.6.6"
    }
  },
  "cells": [
    {
      "cell_type": "markdown",
      "metadata": {
        "id": "view-in-github",
        "colab_type": "text"
      },
      "source": [
        "<a href=\"https://colab.research.google.com/github/TaufiqIdrus/Python-Projects/blob/master/12_fold5.ipynb\" target=\"_parent\"><img src=\"https://colab.research.google.com/assets/colab-badge.svg\" alt=\"Open In Colab\"/></a>"
      ]
    },
    {
      "cell_type": "markdown",
      "metadata": {
        "id": "yJT_kQA2lITS"
      },
      "source": [
        "**Identifikasi Penyakit Pada Tanaman Apel menggunakan Convolutional Neural Network**"
      ]
    },
    {
      "cell_type": "code",
      "metadata": {
        "id": "xXeOaYTUzmgT"
      },
      "source": [
        "import numpy as np\n",
        "import pickle\n",
        "import os\n",
        "import cv2\n",
        "import tensorflow as tf\n",
        "import keras\n",
        "from os import listdir\n",
        "from sklearn.preprocessing import LabelBinarizer\n",
        "from keras.models import Sequential\n",
        "from keras.layers.convolutional import Conv2D\n",
        "from keras.layers.convolutional import MaxPooling2D\n",
        "from keras.layers.core import Activation, Flatten, Dropout, Dense\n",
        "from keras import backend as K\n",
        "from tensorflow.keras.optimizers import Adam\n",
        "from keras.preprocessing import image\n",
        "import matplotlib.pyplot as plt\n",
        "from sklearn.datasets import make_classification\n",
        "from numpy import mean\n"
      ],
      "execution_count": 1,
      "outputs": []
    },
    {
      "cell_type": "markdown",
      "metadata": {
        "id": "fp8C0d28lQok"
      },
      "source": [
        "Importing and Preparing Dataset"
      ]
    },
    {
      "cell_type": "code",
      "metadata": {
        "id": "_0xehllADlUs",
        "colab": {
          "base_uri": "https://localhost:8080/"
        },
        "outputId": "6c2c2ea8-cc2c-474d-c1d2-51001e6210eb"
      },
      "source": [
        "!pip install pyunpack\n",
        "!pip install patool\n",
        "from pyunpack import Archive\n",
        "Archive('/content/fold5.rar').extractall('/content/Datasets/')\n",
        "iterasi = 5\n",
        "width=60\n",
        "height=60\n",
        "default_image_size = tuple((height, width))\n",
        "directory_root_train = '/content/Datasets/fold5/Train'\n",
        "directory_root_validation = '/content/Datasets/fold5/Validation'\n",
        "directory_root_test = '/content/Datasets/fold5/Test'\n",
        "image_size = 0\n",
        "depth=3"
      ],
      "execution_count": 2,
      "outputs": [
        {
          "output_type": "stream",
          "name": "stdout",
          "text": [
            "Looking in indexes: https://pypi.org/simple, https://us-python.pkg.dev/colab-wheels/public/simple/\n",
            "Collecting pyunpack\n",
            "  Downloading pyunpack-0.3-py2.py3-none-any.whl (4.1 kB)\n",
            "Collecting entrypoint2\n",
            "  Downloading entrypoint2-1.1-py2.py3-none-any.whl (9.9 kB)\n",
            "Collecting easyprocess\n",
            "  Downloading EasyProcess-1.1-py3-none-any.whl (8.7 kB)\n",
            "Installing collected packages: entrypoint2, easyprocess, pyunpack\n",
            "Successfully installed easyprocess-1.1 entrypoint2-1.1 pyunpack-0.3\n",
            "Looking in indexes: https://pypi.org/simple, https://us-python.pkg.dev/colab-wheels/public/simple/\n",
            "Collecting patool\n",
            "  Downloading patool-1.12-py2.py3-none-any.whl (77 kB)\n",
            "\u001b[K     |████████████████████████████████| 77 kB 7.2 MB/s \n",
            "\u001b[?25hInstalling collected packages: patool\n",
            "Successfully installed patool-1.12\n"
          ]
        }
      ]
    },
    {
      "cell_type": "code",
      "metadata": {
        "id": "KbAwJJTpzmge"
      },
      "source": [
        "def convert_image_to_array(image_dir):\n",
        "    try:\n",
        "        image = cv2.imread(image_dir)\n",
        "        if image is not None :\n",
        "            image = cv2.resize(image, default_image_size)   \n",
        "            return keras.preprocessing.image.img_to_array(image)\n",
        "        else :\n",
        "            return np.array([])\n",
        "    except Exception as e:\n",
        "        print(f\"Error : {e}\")\n",
        "        return None"
      ],
      "execution_count": 3,
      "outputs": []
    },
    {
      "cell_type": "markdown",
      "source": [
        "Converting **Training** Data to Array"
      ],
      "metadata": {
        "id": "bgXxUMO2cI_D"
      }
    },
    {
      "cell_type": "code",
      "metadata": {
        "id": "Erz6IjKXzmgg",
        "colab": {
          "base_uri": "https://localhost:8080/"
        },
        "outputId": "56c5c838-5578-49be-adad-806e8176ff2e"
      },
      "source": [
        "image_list_train, label_list_train = [], []\n",
        "try:\n",
        "    print(\"[INFO] Loading images ...\")\n",
        "    root_dir = listdir(directory_root_train)\n",
        "\n",
        "    for plant_disease_folder in root_dir:\n",
        "        print(f\"[INFO] Processing {plant_disease_folder} ...\")\n",
        "        plant_disease_image_list = listdir(f\"{directory_root_train}/{plant_disease_folder}/\")\n",
        "      \n",
        "        for image in plant_disease_image_list:\n",
        "            image_directory = f\"{directory_root_train}/{plant_disease_folder}/{image}\"\n",
        "\n",
        "            if image_directory.endswith(\".jpg\") == True or image_directory.endswith(\".JPG\") == True:\n",
        "                image_list_train.append(convert_image_to_array(image_directory))\n",
        "                label_list_train.append(plant_disease_folder)\n",
        "    print(\"[INFO] Image loading completed\")\n",
        "\n",
        "except Exception as e:\n",
        "    print(f\"Error : {e}\")\n",
        "\n",
        "#image labeling\n",
        "image_size = len(image_list_train)\n",
        "label_binarizer = LabelBinarizer()\n",
        "image_labels_train = label_binarizer.fit_transform(label_list_train)\n",
        "pickle.dump(label_binarizer,open('label_transform_train.pkl', 'wb'))\n",
        "n_classes = len(label_binarizer.classes_)\n",
        "np_image_list_train = np.array(image_list_train, dtype=np.float16) / 255.0"
      ],
      "execution_count": 4,
      "outputs": [
        {
          "output_type": "stream",
          "name": "stdout",
          "text": [
            "[INFO] Loading images ...\n",
            "[INFO] Processing apel_sehat ...\n",
            "[INFO] Processing apel_bercak_daun ...\n",
            "[INFO] Processing apel_cacar_daun ...\n",
            "[INFO] Processing apel_busuk_buah ...\n",
            "[INFO] Image loading completed\n"
          ]
        }
      ]
    },
    {
      "cell_type": "markdown",
      "source": [
        "Converting **Validation** Data to Array"
      ],
      "metadata": {
        "id": "7eEMGiqRd_E4"
      }
    },
    {
      "cell_type": "code",
      "source": [
        "image_list_validation, label_list_validation = [], []\n",
        "try:\n",
        "    print(\"[INFO] Loading images ...\")\n",
        "    root_dir = listdir(directory_root_validation)\n",
        "\n",
        "    for plant_disease_folder in root_dir:\n",
        "        print(f\"[INFO] Processing {plant_disease_folder} ...\")\n",
        "        plant_disease_image_list = listdir(f\"{directory_root_validation}/{plant_disease_folder}/\")\n",
        "      \n",
        "        for image in plant_disease_image_list:\n",
        "            image_directory = f\"{directory_root_validation}/{plant_disease_folder}/{image}\"\n",
        "\n",
        "            if image_directory.endswith(\".jpg\") == True or image_directory.endswith(\".JPG\") == True:\n",
        "                image_list_validation.append(convert_image_to_array(image_directory))\n",
        "                label_list_validation.append(plant_disease_folder)\n",
        "    print(\"[INFO] Image loading completed\")\n",
        "\n",
        "except Exception as e:\n",
        "    print(f\"Error : {e}\")\n",
        "\n",
        "#image labeling\n",
        "image_size = len(image_list_validation)\n",
        "label_binarizer = LabelBinarizer()\n",
        "image_labels_validation = label_binarizer.fit_transform(label_list_validation)\n",
        "pickle.dump(label_binarizer,open('label_transform_validation.pkl', 'wb'))\n",
        "n_classes = len(label_binarizer.classes_)\n",
        "np_image_list_validation = np.array(image_list_validation, dtype=np.float16) / 255.0"
      ],
      "metadata": {
        "id": "wfHDdR0ZeEuU",
        "colab": {
          "base_uri": "https://localhost:8080/"
        },
        "outputId": "7f8020ba-8400-417a-94b5-ee240275c453"
      },
      "execution_count": 5,
      "outputs": [
        {
          "output_type": "stream",
          "name": "stdout",
          "text": [
            "[INFO] Loading images ...\n",
            "[INFO] Processing apel_sehat ...\n",
            "[INFO] Processing apel_bercak_daun ...\n",
            "[INFO] Processing apel_cacar_daun ...\n",
            "[INFO] Processing apel_busuk_buah ...\n",
            "[INFO] Image loading completed\n"
          ]
        }
      ]
    },
    {
      "cell_type": "markdown",
      "source": [
        "Converting **Testing** Data to Array"
      ],
      "metadata": {
        "id": "brwWyZVncTdg"
      }
    },
    {
      "cell_type": "code",
      "metadata": {
        "id": "uNPby5UMcaWY",
        "colab": {
          "base_uri": "https://localhost:8080/"
        },
        "outputId": "8717365c-9999-4d2d-e590-d31a4ed4246c"
      },
      "source": [
        "image_list_test, label_list_test = [], []\n",
        "try:\n",
        "    print(\"[INFO] Loading images ...\")\n",
        "    root_dir = listdir(directory_root_test)\n",
        "\n",
        "    for plant_disease_folder in root_dir:\n",
        "        print(f\"[INFO] Processing {plant_disease_folder} ...\")\n",
        "        plant_disease_image_list = listdir(f\"{directory_root_test}/{plant_disease_folder}/\")\n",
        "      \n",
        "        for image in plant_disease_image_list:\n",
        "            image_directory = f\"{directory_root_test}/{plant_disease_folder}/{image}\"\n",
        "\n",
        "            if image_directory.endswith(\".jpg\") == True or image_directory.endswith(\".JPG\") == True:\n",
        "                image_list_test.append(convert_image_to_array(image_directory))\n",
        "                label_list_test.append(plant_disease_folder)\n",
        "    print(\"[INFO] Image loading completed\")\n",
        "\n",
        "except Exception as e:\n",
        "    print(f\"Error : {e}\")\n",
        "\n",
        "#image labeling\n",
        "image_size = len(image_list_test)\n",
        "label_binarizer = LabelBinarizer()\n",
        "image_labels_test = label_binarizer.fit_transform(label_list_test)\n",
        "pickle.dump(label_binarizer,open('label_transform_test.pkl', 'wb'))\n",
        "n_classes = len(label_binarizer.classes_)\n",
        "np_image_list_test = np.array(image_list_test, dtype=np.float16) / 255.0"
      ],
      "execution_count": 6,
      "outputs": [
        {
          "output_type": "stream",
          "name": "stdout",
          "text": [
            "[INFO] Loading images ...\n",
            "[INFO] Processing apel_sehat ...\n",
            "[INFO] Processing apel_bercak_daun ...\n",
            "[INFO] Processing apel_cacar_daun ...\n",
            "[INFO] Processing apel_busuk_buah ...\n",
            "[INFO] Image loading completed\n"
          ]
        }
      ]
    },
    {
      "cell_type": "markdown",
      "metadata": {
        "id": "jYBTFN0CnAi7"
      },
      "source": [
        "Data Augmenting Initialization"
      ]
    },
    {
      "cell_type": "code",
      "metadata": {
        "id": "TLMxMK2Tzmgr"
      },
      "source": [
        "aug = keras.preprocessing.image.ImageDataGenerator(\n",
        "    rotation_range=25, \n",
        "    width_shift_range=0.1,\n",
        "    height_shift_range=0.1, \n",
        "    shear_range=0.2, \n",
        "    zoom_range=0.2,\n",
        "    horizontal_flip=True, \n",
        "    fill_mode=\"nearest\")"
      ],
      "execution_count": 7,
      "outputs": []
    },
    {
      "cell_type": "markdown",
      "metadata": {
        "id": "H1BfRyYNnGv_"
      },
      "source": [
        "Creating CNN Model"
      ]
    },
    {
      "cell_type": "code",
      "metadata": {
        "id": "WmLX4wm8zmgs"
      },
      "source": [
        "model = keras.models.Sequential()\n",
        "inputShape = (height, width, depth)\n",
        "\n",
        "model.add(Conv2D(20, (5, 5), padding=\"same\",input_shape=inputShape))\n",
        "model.add(Activation(\"relu\"))\n",
        "\n",
        "model.add(MaxPooling2D(pool_size=(2, 2), strides=2))\n",
        "\n",
        "model.add(Conv2D(50, (5, 5), padding=\"same\"))\n",
        "model.add(Activation(\"relu\"))\n",
        "\n",
        "model.add(MaxPooling2D(pool_size=(2, 2),strides=2))\n",
        "\n",
        "model.add(Flatten())\n",
        "\n",
        "model.add(Dense(500))\n",
        "model.add(Activation(\"relu\"))\n",
        "\n",
        "model.add(Dense(4))\n",
        "model.add(Activation(\"softmax\"))"
      ],
      "execution_count": 8,
      "outputs": []
    },
    {
      "cell_type": "code",
      "source": [
        "#model.summary()"
      ],
      "metadata": {
        "id": "RQIgaph8hW06"
      },
      "execution_count": 9,
      "outputs": []
    },
    {
      "cell_type": "code",
      "source": [
        "#from PIL import Image\n",
        "#from keras.utils.vis_utils import plot_model\n",
        "#plot_model(model, to_file='cnn_model.png', show_shapes=True, show_layer_names=True)\n",
        "#display(Image.open('cnn_model.png'))"
      ],
      "metadata": {
        "id": "T05gPuu1GudW"
      },
      "execution_count": 10,
      "outputs": []
    },
    {
      "cell_type": "markdown",
      "metadata": {
        "id": "Zfsu3lVfnXFG"
      },
      "source": [
        "**Training** Network"
      ]
    },
    {
      "cell_type": "code",
      "metadata": {
        "id": "rvwKwe3Lzmgv",
        "colab": {
          "base_uri": "https://localhost:8080/"
        },
        "outputId": "efc39c5a-a74d-41a4-a404-f3e834ef6f3f"
      },
      "source": [
        "EPOCHS = 200\n",
        "INIT_LR = 1e-3\n",
        "BS = 8\n",
        "\n",
        "with tf.device('/GPU:0'):\n",
        "  opt = Adam(learning_rate=INIT_LR, decay=INIT_LR / EPOCHS)\n",
        "  model.compile(loss=\"categorical_crossentropy\", optimizer=opt,metrics=[\"Accuracy\", \"FalseNegatives\", \"FalsePositives\", \"TrueNegatives\", \"TruePositives\"])\n",
        "  \n",
        "  history = model.fit(\n",
        "      aug.flow(np_image_list_train, image_labels_train, batch_size=BS),\n",
        "      validation_data=(np_image_list_validation, image_labels_validation),\n",
        "      steps_per_epoch=len(np_image_list_train) // BS,\n",
        "      epochs=EPOCHS, \n",
        "      verbose=1,\n",
        "      )\n"
      ],
      "execution_count": 11,
      "outputs": [
        {
          "output_type": "stream",
          "name": "stdout",
          "text": [
            "Epoch 1/200\n",
            "44/44 [==============================] - 17s 47ms/step - loss: 1.3350 - Accuracy: 0.4318 - false_negatives: 319.0000 - false_positives: 31.0000 - true_negatives: 1025.0000 - true_positives: 33.0000 - val_loss: 1.2759 - val_Accuracy: 0.4348 - val_false_negatives: 57.0000 - val_false_positives: 44.0000 - val_true_negatives: 232.0000 - val_true_positives: 35.0000\n",
            "Epoch 2/200\n",
            "44/44 [==============================] - 1s 14ms/step - loss: 1.1272 - Accuracy: 0.4886 - false_negatives: 245.0000 - false_positives: 46.0000 - true_negatives: 1010.0000 - true_positives: 107.0000 - val_loss: 1.2763 - val_Accuracy: 0.4022 - val_false_negatives: 65.0000 - val_false_positives: 19.0000 - val_true_negatives: 257.0000 - val_true_positives: 27.0000\n",
            "Epoch 3/200\n",
            "44/44 [==============================] - 1s 14ms/step - loss: 1.1003 - Accuracy: 0.5568 - false_negatives: 234.0000 - false_positives: 56.0000 - true_negatives: 1000.0000 - true_positives: 118.0000 - val_loss: 1.3086 - val_Accuracy: 0.5109 - val_false_negatives: 69.0000 - val_false_positives: 12.0000 - val_true_negatives: 264.0000 - val_true_positives: 23.0000\n",
            "Epoch 4/200\n",
            "44/44 [==============================] - 1s 14ms/step - loss: 0.9664 - Accuracy: 0.6165 - false_negatives: 207.0000 - false_positives: 44.0000 - true_negatives: 1012.0000 - true_positives: 145.0000 - val_loss: 1.3750 - val_Accuracy: 0.5435 - val_false_negatives: 46.0000 - val_false_positives: 33.0000 - val_true_negatives: 243.0000 - val_true_positives: 46.0000\n",
            "Epoch 5/200\n",
            "44/44 [==============================] - 1s 14ms/step - loss: 0.9375 - Accuracy: 0.6534 - false_negatives: 209.0000 - false_positives: 44.0000 - true_negatives: 1012.0000 - true_positives: 143.0000 - val_loss: 1.3215 - val_Accuracy: 0.6087 - val_false_negatives: 41.0000 - val_false_positives: 29.0000 - val_true_negatives: 247.0000 - val_true_positives: 51.0000\n",
            "Epoch 6/200\n",
            "44/44 [==============================] - 1s 14ms/step - loss: 0.9640 - Accuracy: 0.6165 - false_negatives: 192.0000 - false_positives: 60.0000 - true_negatives: 996.0000 - true_positives: 160.0000 - val_loss: 1.2935 - val_Accuracy: 0.6304 - val_false_negatives: 54.0000 - val_false_positives: 14.0000 - val_true_negatives: 262.0000 - val_true_positives: 38.0000\n",
            "Epoch 7/200\n",
            "44/44 [==============================] - 1s 14ms/step - loss: 0.9105 - Accuracy: 0.6619 - false_negatives: 183.0000 - false_positives: 58.0000 - true_negatives: 998.0000 - true_positives: 169.0000 - val_loss: 1.3037 - val_Accuracy: 0.5109 - val_false_negatives: 61.0000 - val_false_positives: 18.0000 - val_true_negatives: 258.0000 - val_true_positives: 31.0000\n",
            "Epoch 8/200\n",
            "44/44 [==============================] - 1s 14ms/step - loss: 0.8522 - Accuracy: 0.6847 - false_negatives: 158.0000 - false_positives: 52.0000 - true_negatives: 1004.0000 - true_positives: 194.0000 - val_loss: 1.4678 - val_Accuracy: 0.5870 - val_false_negatives: 49.0000 - val_false_positives: 16.0000 - val_true_negatives: 260.0000 - val_true_positives: 43.0000\n",
            "Epoch 9/200\n",
            "44/44 [==============================] - 1s 14ms/step - loss: 0.9379 - Accuracy: 0.6534 - false_negatives: 188.0000 - false_positives: 62.0000 - true_negatives: 994.0000 - true_positives: 164.0000 - val_loss: 1.2653 - val_Accuracy: 0.6196 - val_false_negatives: 54.0000 - val_false_positives: 17.0000 - val_true_negatives: 259.0000 - val_true_positives: 38.0000\n",
            "Epoch 10/200\n",
            "44/44 [==============================] - 1s 15ms/step - loss: 0.8437 - Accuracy: 0.6818 - false_negatives: 145.0000 - false_positives: 61.0000 - true_negatives: 995.0000 - true_positives: 207.0000 - val_loss: 1.2012 - val_Accuracy: 0.6739 - val_false_negatives: 49.0000 - val_false_positives: 14.0000 - val_true_negatives: 262.0000 - val_true_positives: 43.0000\n",
            "Epoch 11/200\n",
            "44/44 [==============================] - 1s 14ms/step - loss: 0.8223 - Accuracy: 0.6648 - false_negatives: 147.0000 - false_positives: 68.0000 - true_negatives: 988.0000 - true_positives: 205.0000 - val_loss: 1.1686 - val_Accuracy: 0.5761 - val_false_negatives: 45.0000 - val_false_positives: 21.0000 - val_true_negatives: 255.0000 - val_true_positives: 47.0000\n",
            "Epoch 12/200\n",
            "44/44 [==============================] - 1s 14ms/step - loss: 0.7635 - Accuracy: 0.7074 - false_negatives: 138.0000 - false_positives: 69.0000 - true_negatives: 987.0000 - true_positives: 214.0000 - val_loss: 1.3902 - val_Accuracy: 0.6196 - val_false_negatives: 38.0000 - val_false_positives: 27.0000 - val_true_negatives: 249.0000 - val_true_positives: 54.0000\n",
            "Epoch 13/200\n",
            "44/44 [==============================] - 1s 14ms/step - loss: 0.7593 - Accuracy: 0.7131 - false_negatives: 120.0000 - false_positives: 74.0000 - true_negatives: 982.0000 - true_positives: 232.0000 - val_loss: 1.1363 - val_Accuracy: 0.6087 - val_false_negatives: 40.0000 - val_false_positives: 28.0000 - val_true_negatives: 248.0000 - val_true_positives: 52.0000\n",
            "Epoch 14/200\n",
            "44/44 [==============================] - 1s 14ms/step - loss: 0.7488 - Accuracy: 0.7330 - false_negatives: 116.0000 - false_positives: 67.0000 - true_negatives: 989.0000 - true_positives: 236.0000 - val_loss: 1.4229 - val_Accuracy: 0.5109 - val_false_negatives: 50.0000 - val_false_positives: 34.0000 - val_true_negatives: 242.0000 - val_true_positives: 42.0000\n",
            "Epoch 15/200\n",
            "44/44 [==============================] - 1s 14ms/step - loss: 0.8060 - Accuracy: 0.6960 - false_negatives: 136.0000 - false_positives: 79.0000 - true_negatives: 977.0000 - true_positives: 216.0000 - val_loss: 1.3459 - val_Accuracy: 0.5870 - val_false_negatives: 42.0000 - val_false_positives: 24.0000 - val_true_negatives: 252.0000 - val_true_positives: 50.0000\n",
            "Epoch 16/200\n",
            "44/44 [==============================] - 1s 15ms/step - loss: 0.7941 - Accuracy: 0.6903 - false_negatives: 138.0000 - false_positives: 72.0000 - true_negatives: 984.0000 - true_positives: 214.0000 - val_loss: 1.1741 - val_Accuracy: 0.6196 - val_false_negatives: 43.0000 - val_false_positives: 23.0000 - val_true_negatives: 253.0000 - val_true_positives: 49.0000\n",
            "Epoch 17/200\n",
            "44/44 [==============================] - 1s 14ms/step - loss: 0.7567 - Accuracy: 0.7074 - false_negatives: 125.0000 - false_positives: 67.0000 - true_negatives: 989.0000 - true_positives: 227.0000 - val_loss: 1.2564 - val_Accuracy: 0.6413 - val_false_negatives: 36.0000 - val_false_positives: 25.0000 - val_true_negatives: 251.0000 - val_true_positives: 56.0000\n",
            "Epoch 18/200\n",
            "44/44 [==============================] - 1s 14ms/step - loss: 0.7936 - Accuracy: 0.7045 - false_negatives: 125.0000 - false_positives: 76.0000 - true_negatives: 980.0000 - true_positives: 227.0000 - val_loss: 1.1978 - val_Accuracy: 0.6196 - val_false_negatives: 44.0000 - val_false_positives: 25.0000 - val_true_negatives: 251.0000 - val_true_positives: 48.0000\n",
            "Epoch 19/200\n",
            "44/44 [==============================] - 1s 15ms/step - loss: 0.7180 - Accuracy: 0.7443 - false_negatives: 114.0000 - false_positives: 62.0000 - true_negatives: 994.0000 - true_positives: 238.0000 - val_loss: 1.2994 - val_Accuracy: 0.5870 - val_false_negatives: 46.0000 - val_false_positives: 33.0000 - val_true_negatives: 243.0000 - val_true_positives: 46.0000\n",
            "Epoch 20/200\n",
            "44/44 [==============================] - 1s 14ms/step - loss: 0.7326 - Accuracy: 0.7074 - false_negatives: 126.0000 - false_positives: 72.0000 - true_negatives: 984.0000 - true_positives: 226.0000 - val_loss: 1.2193 - val_Accuracy: 0.6196 - val_false_negatives: 43.0000 - val_false_positives: 31.0000 - val_true_negatives: 245.0000 - val_true_positives: 49.0000\n",
            "Epoch 21/200\n",
            "44/44 [==============================] - 1s 14ms/step - loss: 0.7565 - Accuracy: 0.6847 - false_negatives: 118.0000 - false_positives: 89.0000 - true_negatives: 967.0000 - true_positives: 234.0000 - val_loss: 1.2655 - val_Accuracy: 0.6087 - val_false_negatives: 50.0000 - val_false_positives: 23.0000 - val_true_negatives: 253.0000 - val_true_positives: 42.0000\n",
            "Epoch 22/200\n",
            "44/44 [==============================] - 1s 14ms/step - loss: 0.7234 - Accuracy: 0.7472 - false_negatives: 125.0000 - false_positives: 61.0000 - true_negatives: 995.0000 - true_positives: 227.0000 - val_loss: 1.1937 - val_Accuracy: 0.5870 - val_false_negatives: 41.0000 - val_false_positives: 34.0000 - val_true_negatives: 242.0000 - val_true_positives: 51.0000\n",
            "Epoch 23/200\n",
            "44/44 [==============================] - 1s 14ms/step - loss: 0.6970 - Accuracy: 0.7557 - false_negatives: 113.0000 - false_positives: 67.0000 - true_negatives: 989.0000 - true_positives: 239.0000 - val_loss: 1.1895 - val_Accuracy: 0.6087 - val_false_negatives: 40.0000 - val_false_positives: 30.0000 - val_true_negatives: 246.0000 - val_true_positives: 52.0000\n",
            "Epoch 24/200\n",
            "44/44 [==============================] - 1s 14ms/step - loss: 0.6601 - Accuracy: 0.7642 - false_negatives: 102.0000 - false_positives: 60.0000 - true_negatives: 996.0000 - true_positives: 250.0000 - val_loss: 1.0642 - val_Accuracy: 0.6522 - val_false_negatives: 35.0000 - val_false_positives: 30.0000 - val_true_negatives: 246.0000 - val_true_positives: 57.0000\n",
            "Epoch 25/200\n",
            "44/44 [==============================] - 1s 14ms/step - loss: 0.6912 - Accuracy: 0.7642 - false_negatives: 106.0000 - false_positives: 64.0000 - true_negatives: 992.0000 - true_positives: 246.0000 - val_loss: 1.0657 - val_Accuracy: 0.6739 - val_false_negatives: 39.0000 - val_false_positives: 22.0000 - val_true_negatives: 254.0000 - val_true_positives: 53.0000\n",
            "Epoch 26/200\n",
            "44/44 [==============================] - 1s 14ms/step - loss: 0.7180 - Accuracy: 0.7528 - false_negatives: 113.0000 - false_positives: 61.0000 - true_negatives: 995.0000 - true_positives: 239.0000 - val_loss: 1.1749 - val_Accuracy: 0.5978 - val_false_negatives: 41.0000 - val_false_positives: 33.0000 - val_true_negatives: 243.0000 - val_true_positives: 51.0000\n",
            "Epoch 27/200\n",
            "44/44 [==============================] - 1s 14ms/step - loss: 0.6878 - Accuracy: 0.7500 - false_negatives: 112.0000 - false_positives: 67.0000 - true_negatives: 989.0000 - true_positives: 240.0000 - val_loss: 1.1333 - val_Accuracy: 0.6739 - val_false_negatives: 38.0000 - val_false_positives: 22.0000 - val_true_negatives: 254.0000 - val_true_positives: 54.0000\n",
            "Epoch 28/200\n",
            "44/44 [==============================] - 1s 14ms/step - loss: 0.7579 - Accuracy: 0.6989 - false_negatives: 123.0000 - false_positives: 77.0000 - true_negatives: 979.0000 - true_positives: 229.0000 - val_loss: 1.2556 - val_Accuracy: 0.6087 - val_false_negatives: 42.0000 - val_false_positives: 22.0000 - val_true_negatives: 254.0000 - val_true_positives: 50.0000\n",
            "Epoch 29/200\n",
            "44/44 [==============================] - 1s 14ms/step - loss: 0.7069 - Accuracy: 0.7443 - false_negatives: 127.0000 - false_positives: 62.0000 - true_negatives: 994.0000 - true_positives: 225.0000 - val_loss: 1.2648 - val_Accuracy: 0.5652 - val_false_negatives: 43.0000 - val_false_positives: 35.0000 - val_true_negatives: 241.0000 - val_true_positives: 49.0000\n",
            "Epoch 30/200\n",
            "44/44 [==============================] - 1s 14ms/step - loss: 0.6236 - Accuracy: 0.7614 - false_negatives: 101.0000 - false_positives: 58.0000 - true_negatives: 998.0000 - true_positives: 251.0000 - val_loss: 1.3588 - val_Accuracy: 0.6196 - val_false_negatives: 39.0000 - val_false_positives: 28.0000 - val_true_negatives: 248.0000 - val_true_positives: 53.0000\n",
            "Epoch 31/200\n",
            "44/44 [==============================] - 1s 14ms/step - loss: 0.6544 - Accuracy: 0.7756 - false_negatives: 104.0000 - false_positives: 57.0000 - true_negatives: 999.0000 - true_positives: 248.0000 - val_loss: 1.2027 - val_Accuracy: 0.6304 - val_false_negatives: 37.0000 - val_false_positives: 29.0000 - val_true_negatives: 247.0000 - val_true_positives: 55.0000\n",
            "Epoch 32/200\n",
            "44/44 [==============================] - 1s 14ms/step - loss: 0.6131 - Accuracy: 0.7955 - false_negatives: 91.0000 - false_positives: 59.0000 - true_negatives: 997.0000 - true_positives: 261.0000 - val_loss: 1.2755 - val_Accuracy: 0.6304 - val_false_negatives: 39.0000 - val_false_positives: 30.0000 - val_true_negatives: 246.0000 - val_true_positives: 53.0000\n",
            "Epoch 33/200\n",
            "44/44 [==============================] - 1s 14ms/step - loss: 0.6118 - Accuracy: 0.7642 - false_negatives: 99.0000 - false_positives: 59.0000 - true_negatives: 997.0000 - true_positives: 253.0000 - val_loss: 1.3725 - val_Accuracy: 0.5652 - val_false_negatives: 42.0000 - val_false_positives: 32.0000 - val_true_negatives: 244.0000 - val_true_positives: 50.0000\n",
            "Epoch 34/200\n",
            "44/44 [==============================] - 1s 15ms/step - loss: 0.6686 - Accuracy: 0.7443 - false_negatives: 104.0000 - false_positives: 67.0000 - true_negatives: 989.0000 - true_positives: 248.0000 - val_loss: 1.3142 - val_Accuracy: 0.5543 - val_false_negatives: 43.0000 - val_false_positives: 36.0000 - val_true_negatives: 240.0000 - val_true_positives: 49.0000\n",
            "Epoch 35/200\n",
            "44/44 [==============================] - 1s 14ms/step - loss: 0.6253 - Accuracy: 0.7756 - false_negatives: 93.0000 - false_positives: 64.0000 - true_negatives: 992.0000 - true_positives: 259.0000 - val_loss: 1.4097 - val_Accuracy: 0.5870 - val_false_negatives: 42.0000 - val_false_positives: 35.0000 - val_true_negatives: 241.0000 - val_true_positives: 50.0000\n",
            "Epoch 36/200\n",
            "44/44 [==============================] - 1s 14ms/step - loss: 0.6163 - Accuracy: 0.7869 - false_negatives: 93.0000 - false_positives: 61.0000 - true_negatives: 995.0000 - true_positives: 259.0000 - val_loss: 1.2923 - val_Accuracy: 0.5978 - val_false_negatives: 39.0000 - val_false_positives: 31.0000 - val_true_negatives: 245.0000 - val_true_positives: 53.0000\n",
            "Epoch 37/200\n",
            "44/44 [==============================] - 1s 14ms/step - loss: 0.5956 - Accuracy: 0.7614 - false_negatives: 99.0000 - false_positives: 56.0000 - true_negatives: 1000.0000 - true_positives: 253.0000 - val_loss: 1.3321 - val_Accuracy: 0.5870 - val_false_negatives: 41.0000 - val_false_positives: 35.0000 - val_true_negatives: 241.0000 - val_true_positives: 51.0000\n",
            "Epoch 38/200\n",
            "44/44 [==============================] - 1s 15ms/step - loss: 0.5688 - Accuracy: 0.7983 - false_negatives: 87.0000 - false_positives: 53.0000 - true_negatives: 1003.0000 - true_positives: 265.0000 - val_loss: 1.6029 - val_Accuracy: 0.5870 - val_false_negatives: 40.0000 - val_false_positives: 31.0000 - val_true_negatives: 245.0000 - val_true_positives: 52.0000\n",
            "Epoch 39/200\n",
            "44/44 [==============================] - 1s 14ms/step - loss: 0.5951 - Accuracy: 0.7642 - false_negatives: 100.0000 - false_positives: 63.0000 - true_negatives: 993.0000 - true_positives: 252.0000 - val_loss: 1.5064 - val_Accuracy: 0.6087 - val_false_negatives: 37.0000 - val_false_positives: 32.0000 - val_true_negatives: 244.0000 - val_true_positives: 55.0000\n",
            "Epoch 40/200\n",
            "44/44 [==============================] - 1s 14ms/step - loss: 0.6139 - Accuracy: 0.7812 - false_negatives: 94.0000 - false_positives: 56.0000 - true_negatives: 1000.0000 - true_positives: 258.0000 - val_loss: 1.3274 - val_Accuracy: 0.6196 - val_false_negatives: 38.0000 - val_false_positives: 33.0000 - val_true_negatives: 243.0000 - val_true_positives: 54.0000\n",
            "Epoch 41/200\n",
            "44/44 [==============================] - 1s 15ms/step - loss: 0.6243 - Accuracy: 0.7670 - false_negatives: 102.0000 - false_positives: 62.0000 - true_negatives: 994.0000 - true_positives: 250.0000 - val_loss: 1.1295 - val_Accuracy: 0.6196 - val_false_negatives: 36.0000 - val_false_positives: 32.0000 - val_true_negatives: 244.0000 - val_true_positives: 56.0000\n",
            "Epoch 42/200\n",
            "44/44 [==============================] - 1s 14ms/step - loss: 0.5725 - Accuracy: 0.7926 - false_negatives: 83.0000 - false_positives: 57.0000 - true_negatives: 999.0000 - true_positives: 269.0000 - val_loss: 1.3416 - val_Accuracy: 0.5978 - val_false_negatives: 40.0000 - val_false_positives: 34.0000 - val_true_negatives: 242.0000 - val_true_positives: 52.0000\n",
            "Epoch 43/200\n",
            "44/44 [==============================] - 1s 14ms/step - loss: 0.5439 - Accuracy: 0.8239 - false_negatives: 78.0000 - false_positives: 54.0000 - true_negatives: 1002.0000 - true_positives: 274.0000 - val_loss: 1.1544 - val_Accuracy: 0.5870 - val_false_negatives: 42.0000 - val_false_positives: 33.0000 - val_true_negatives: 243.0000 - val_true_positives: 50.0000\n",
            "Epoch 44/200\n",
            "44/44 [==============================] - 1s 14ms/step - loss: 0.5529 - Accuracy: 0.7756 - false_negatives: 91.0000 - false_positives: 52.0000 - true_negatives: 1004.0000 - true_positives: 261.0000 - val_loss: 1.3665 - val_Accuracy: 0.5761 - val_false_negatives: 41.0000 - val_false_positives: 35.0000 - val_true_negatives: 241.0000 - val_true_positives: 51.0000\n",
            "Epoch 45/200\n",
            "44/44 [==============================] - 1s 14ms/step - loss: 0.5861 - Accuracy: 0.7898 - false_negatives: 94.0000 - false_positives: 59.0000 - true_negatives: 997.0000 - true_positives: 258.0000 - val_loss: 1.3588 - val_Accuracy: 0.6304 - val_false_negatives: 37.0000 - val_false_positives: 33.0000 - val_true_negatives: 243.0000 - val_true_positives: 55.0000\n",
            "Epoch 46/200\n",
            "44/44 [==============================] - 1s 14ms/step - loss: 0.5401 - Accuracy: 0.8097 - false_negatives: 82.0000 - false_positives: 58.0000 - true_negatives: 998.0000 - true_positives: 270.0000 - val_loss: 1.1878 - val_Accuracy: 0.6522 - val_false_negatives: 34.0000 - val_false_positives: 31.0000 - val_true_negatives: 245.0000 - val_true_positives: 58.0000\n",
            "Epoch 47/200\n",
            "44/44 [==============================] - 1s 14ms/step - loss: 0.5959 - Accuracy: 0.7670 - false_negatives: 89.0000 - false_positives: 61.0000 - true_negatives: 995.0000 - true_positives: 263.0000 - val_loss: 1.4577 - val_Accuracy: 0.5870 - val_false_negatives: 40.0000 - val_false_positives: 34.0000 - val_true_negatives: 242.0000 - val_true_positives: 52.0000\n",
            "Epoch 48/200\n",
            "44/44 [==============================] - 1s 14ms/step - loss: 0.5703 - Accuracy: 0.7983 - false_negatives: 84.0000 - false_positives: 59.0000 - true_negatives: 997.0000 - true_positives: 268.0000 - val_loss: 1.8576 - val_Accuracy: 0.5109 - val_false_negatives: 47.0000 - val_false_positives: 43.0000 - val_true_negatives: 233.0000 - val_true_positives: 45.0000\n",
            "Epoch 49/200\n",
            "44/44 [==============================] - 1s 14ms/step - loss: 0.5518 - Accuracy: 0.7898 - false_negatives: 92.0000 - false_positives: 64.0000 - true_negatives: 992.0000 - true_positives: 260.0000 - val_loss: 1.4427 - val_Accuracy: 0.6087 - val_false_negatives: 37.0000 - val_false_positives: 32.0000 - val_true_negatives: 244.0000 - val_true_positives: 55.0000\n",
            "Epoch 50/200\n",
            "44/44 [==============================] - 1s 14ms/step - loss: 0.5416 - Accuracy: 0.7869 - false_negatives: 84.0000 - false_positives: 54.0000 - true_negatives: 1002.0000 - true_positives: 268.0000 - val_loss: 1.4028 - val_Accuracy: 0.5978 - val_false_negatives: 39.0000 - val_false_positives: 32.0000 - val_true_negatives: 244.0000 - val_true_positives: 53.0000\n",
            "Epoch 51/200\n",
            "44/44 [==============================] - 1s 14ms/step - loss: 0.5723 - Accuracy: 0.7784 - false_negatives: 92.0000 - false_positives: 61.0000 - true_negatives: 995.0000 - true_positives: 260.0000 - val_loss: 1.6903 - val_Accuracy: 0.6087 - val_false_negatives: 37.0000 - val_false_positives: 34.0000 - val_true_negatives: 242.0000 - val_true_positives: 55.0000\n",
            "Epoch 52/200\n",
            "44/44 [==============================] - 1s 14ms/step - loss: 0.5441 - Accuracy: 0.7756 - false_negatives: 88.0000 - false_positives: 60.0000 - true_negatives: 996.0000 - true_positives: 264.0000 - val_loss: 1.4975 - val_Accuracy: 0.5870 - val_false_negatives: 38.0000 - val_false_positives: 35.0000 - val_true_negatives: 241.0000 - val_true_positives: 54.0000\n",
            "Epoch 53/200\n",
            "44/44 [==============================] - 1s 15ms/step - loss: 0.5251 - Accuracy: 0.8068 - false_negatives: 83.0000 - false_positives: 56.0000 - true_negatives: 1000.0000 - true_positives: 269.0000 - val_loss: 1.6291 - val_Accuracy: 0.5978 - val_false_negatives: 40.0000 - val_false_positives: 33.0000 - val_true_negatives: 243.0000 - val_true_positives: 52.0000\n",
            "Epoch 54/200\n",
            "44/44 [==============================] - 1s 15ms/step - loss: 0.5387 - Accuracy: 0.7955 - false_negatives: 82.0000 - false_positives: 63.0000 - true_negatives: 993.0000 - true_positives: 270.0000 - val_loss: 1.8120 - val_Accuracy: 0.5870 - val_false_negatives: 38.0000 - val_false_positives: 35.0000 - val_true_negatives: 241.0000 - val_true_positives: 54.0000\n",
            "Epoch 55/200\n",
            "44/44 [==============================] - 1s 14ms/step - loss: 0.5563 - Accuracy: 0.8040 - false_negatives: 80.0000 - false_positives: 55.0000 - true_negatives: 1001.0000 - true_positives: 272.0000 - val_loss: 1.5529 - val_Accuracy: 0.5217 - val_false_negatives: 47.0000 - val_false_positives: 38.0000 - val_true_negatives: 238.0000 - val_true_positives: 45.0000\n",
            "Epoch 56/200\n",
            "44/44 [==============================] - 1s 15ms/step - loss: 0.5210 - Accuracy: 0.8210 - false_negatives: 75.0000 - false_positives: 50.0000 - true_negatives: 1006.0000 - true_positives: 277.0000 - val_loss: 1.1371 - val_Accuracy: 0.6413 - val_false_negatives: 34.0000 - val_false_positives: 31.0000 - val_true_negatives: 245.0000 - val_true_positives: 58.0000\n",
            "Epoch 57/200\n",
            "44/44 [==============================] - 1s 15ms/step - loss: 0.5220 - Accuracy: 0.8068 - false_negatives: 80.0000 - false_positives: 50.0000 - true_negatives: 1006.0000 - true_positives: 272.0000 - val_loss: 1.2731 - val_Accuracy: 0.5761 - val_false_negatives: 39.0000 - val_false_positives: 36.0000 - val_true_negatives: 240.0000 - val_true_positives: 53.0000\n",
            "Epoch 58/200\n",
            "44/44 [==============================] - 1s 14ms/step - loss: 0.5143 - Accuracy: 0.7983 - false_negatives: 83.0000 - false_positives: 56.0000 - true_negatives: 1000.0000 - true_positives: 269.0000 - val_loss: 1.2563 - val_Accuracy: 0.6848 - val_false_negatives: 30.0000 - val_false_positives: 28.0000 - val_true_negatives: 248.0000 - val_true_positives: 62.0000\n",
            "Epoch 59/200\n",
            "44/44 [==============================] - 1s 14ms/step - loss: 0.4981 - Accuracy: 0.8040 - false_negatives: 75.0000 - false_positives: 57.0000 - true_negatives: 999.0000 - true_positives: 277.0000 - val_loss: 1.8102 - val_Accuracy: 0.5870 - val_false_negatives: 39.0000 - val_false_positives: 38.0000 - val_true_negatives: 238.0000 - val_true_positives: 53.0000\n",
            "Epoch 60/200\n",
            "44/44 [==============================] - 1s 15ms/step - loss: 0.6233 - Accuracy: 0.7500 - false_negatives: 106.0000 - false_positives: 64.0000 - true_negatives: 992.0000 - true_positives: 246.0000 - val_loss: 1.4159 - val_Accuracy: 0.5652 - val_false_negatives: 41.0000 - val_false_positives: 36.0000 - val_true_negatives: 240.0000 - val_true_positives: 51.0000\n",
            "Epoch 61/200\n",
            "44/44 [==============================] - 1s 14ms/step - loss: 0.5480 - Accuracy: 0.7926 - false_negatives: 84.0000 - false_positives: 56.0000 - true_negatives: 1000.0000 - true_positives: 268.0000 - val_loss: 1.4296 - val_Accuracy: 0.5761 - val_false_negatives: 42.0000 - val_false_positives: 38.0000 - val_true_negatives: 238.0000 - val_true_positives: 50.0000\n",
            "Epoch 62/200\n",
            "44/44 [==============================] - 1s 15ms/step - loss: 0.5171 - Accuracy: 0.8040 - false_negatives: 78.0000 - false_positives: 58.0000 - true_negatives: 998.0000 - true_positives: 274.0000 - val_loss: 1.2610 - val_Accuracy: 0.5326 - val_false_negatives: 46.0000 - val_false_positives: 36.0000 - val_true_negatives: 240.0000 - val_true_positives: 46.0000\n",
            "Epoch 63/200\n",
            "44/44 [==============================] - 1s 15ms/step - loss: 0.4932 - Accuracy: 0.8239 - false_negatives: 70.0000 - false_positives: 49.0000 - true_negatives: 1007.0000 - true_positives: 282.0000 - val_loss: 1.3123 - val_Accuracy: 0.6630 - val_false_negatives: 33.0000 - val_false_positives: 30.0000 - val_true_negatives: 246.0000 - val_true_positives: 59.0000\n",
            "Epoch 64/200\n",
            "44/44 [==============================] - 1s 14ms/step - loss: 0.5336 - Accuracy: 0.8040 - false_negatives: 81.0000 - false_positives: 61.0000 - true_negatives: 995.0000 - true_positives: 271.0000 - val_loss: 1.5300 - val_Accuracy: 0.5978 - val_false_negatives: 37.0000 - val_false_positives: 35.0000 - val_true_negatives: 241.0000 - val_true_positives: 55.0000\n",
            "Epoch 65/200\n",
            "44/44 [==============================] - 1s 14ms/step - loss: 0.5015 - Accuracy: 0.8182 - false_negatives: 82.0000 - false_positives: 52.0000 - true_negatives: 1004.0000 - true_positives: 270.0000 - val_loss: 1.4789 - val_Accuracy: 0.6087 - val_false_negatives: 36.0000 - val_false_positives: 36.0000 - val_true_negatives: 240.0000 - val_true_positives: 56.0000\n",
            "Epoch 66/200\n",
            "44/44 [==============================] - 1s 15ms/step - loss: 0.4849 - Accuracy: 0.8210 - false_negatives: 71.0000 - false_positives: 49.0000 - true_negatives: 1007.0000 - true_positives: 281.0000 - val_loss: 1.1326 - val_Accuracy: 0.7065 - val_false_negatives: 29.0000 - val_false_positives: 25.0000 - val_true_negatives: 251.0000 - val_true_positives: 63.0000\n",
            "Epoch 67/200\n",
            "44/44 [==============================] - 1s 14ms/step - loss: 0.4993 - Accuracy: 0.8267 - false_negatives: 76.0000 - false_positives: 50.0000 - true_negatives: 1006.0000 - true_positives: 276.0000 - val_loss: 1.5362 - val_Accuracy: 0.5109 - val_false_negatives: 47.0000 - val_false_positives: 41.0000 - val_true_negatives: 235.0000 - val_true_positives: 45.0000\n",
            "Epoch 68/200\n",
            "44/44 [==============================] - 1s 14ms/step - loss: 0.5706 - Accuracy: 0.7955 - false_negatives: 84.0000 - false_positives: 62.0000 - true_negatives: 994.0000 - true_positives: 268.0000 - val_loss: 1.3069 - val_Accuracy: 0.5870 - val_false_negatives: 40.0000 - val_false_positives: 35.0000 - val_true_negatives: 241.0000 - val_true_positives: 52.0000\n",
            "Epoch 69/200\n",
            "44/44 [==============================] - 1s 15ms/step - loss: 0.4411 - Accuracy: 0.8409 - false_negatives: 69.0000 - false_positives: 48.0000 - true_negatives: 1008.0000 - true_positives: 283.0000 - val_loss: 1.7399 - val_Accuracy: 0.5870 - val_false_negatives: 39.0000 - val_false_positives: 36.0000 - val_true_negatives: 240.0000 - val_true_positives: 53.0000\n",
            "Epoch 70/200\n",
            "44/44 [==============================] - 1s 14ms/step - loss: 0.4877 - Accuracy: 0.8210 - false_negatives: 72.0000 - false_positives: 52.0000 - true_negatives: 1004.0000 - true_positives: 280.0000 - val_loss: 1.5809 - val_Accuracy: 0.5543 - val_false_negatives: 44.0000 - val_false_positives: 41.0000 - val_true_negatives: 235.0000 - val_true_positives: 48.0000\n",
            "Epoch 71/200\n",
            "44/44 [==============================] - 1s 14ms/step - loss: 0.5048 - Accuracy: 0.8097 - false_negatives: 78.0000 - false_positives: 55.0000 - true_negatives: 1001.0000 - true_positives: 274.0000 - val_loss: 1.5457 - val_Accuracy: 0.5543 - val_false_negatives: 42.0000 - val_false_positives: 36.0000 - val_true_negatives: 240.0000 - val_true_positives: 50.0000\n",
            "Epoch 72/200\n",
            "44/44 [==============================] - 1s 15ms/step - loss: 0.4220 - Accuracy: 0.8381 - false_negatives: 64.0000 - false_positives: 45.0000 - true_negatives: 1011.0000 - true_positives: 288.0000 - val_loss: 1.7017 - val_Accuracy: 0.5652 - val_false_negatives: 40.0000 - val_false_positives: 39.0000 - val_true_negatives: 237.0000 - val_true_positives: 52.0000\n",
            "Epoch 73/200\n",
            "44/44 [==============================] - 1s 15ms/step - loss: 0.5318 - Accuracy: 0.8040 - false_negatives: 79.0000 - false_positives: 57.0000 - true_negatives: 999.0000 - true_positives: 273.0000 - val_loss: 1.3309 - val_Accuracy: 0.6522 - val_false_negatives: 36.0000 - val_false_positives: 28.0000 - val_true_negatives: 248.0000 - val_true_positives: 56.0000\n",
            "Epoch 74/200\n",
            "44/44 [==============================] - 1s 14ms/step - loss: 0.4965 - Accuracy: 0.8381 - false_negatives: 71.0000 - false_positives: 48.0000 - true_negatives: 1008.0000 - true_positives: 281.0000 - val_loss: 2.0083 - val_Accuracy: 0.5326 - val_false_negatives: 45.0000 - val_false_positives: 42.0000 - val_true_negatives: 234.0000 - val_true_positives: 47.0000\n",
            "Epoch 75/200\n",
            "44/44 [==============================] - 1s 14ms/step - loss: 0.5386 - Accuracy: 0.7983 - false_negatives: 83.0000 - false_positives: 59.0000 - true_negatives: 997.0000 - true_positives: 269.0000 - val_loss: 1.4883 - val_Accuracy: 0.5435 - val_false_negatives: 42.0000 - val_false_positives: 39.0000 - val_true_negatives: 237.0000 - val_true_positives: 50.0000\n",
            "Epoch 76/200\n",
            "44/44 [==============================] - 1s 15ms/step - loss: 0.4669 - Accuracy: 0.8267 - false_negatives: 73.0000 - false_positives: 43.0000 - true_negatives: 1013.0000 - true_positives: 279.0000 - val_loss: 1.5706 - val_Accuracy: 0.5761 - val_false_negatives: 41.0000 - val_false_positives: 36.0000 - val_true_negatives: 240.0000 - val_true_positives: 51.0000\n",
            "Epoch 77/200\n",
            "44/44 [==============================] - 1s 15ms/step - loss: 0.4862 - Accuracy: 0.8210 - false_negatives: 74.0000 - false_positives: 56.0000 - true_negatives: 1000.0000 - true_positives: 278.0000 - val_loss: 1.4091 - val_Accuracy: 0.5761 - val_false_negatives: 44.0000 - val_false_positives: 37.0000 - val_true_negatives: 239.0000 - val_true_positives: 48.0000\n",
            "Epoch 78/200\n",
            "44/44 [==============================] - 1s 15ms/step - loss: 0.5065 - Accuracy: 0.8153 - false_negatives: 79.0000 - false_positives: 52.0000 - true_negatives: 1004.0000 - true_positives: 273.0000 - val_loss: 1.2952 - val_Accuracy: 0.6087 - val_false_negatives: 37.0000 - val_false_positives: 32.0000 - val_true_negatives: 244.0000 - val_true_positives: 55.0000\n",
            "Epoch 79/200\n",
            "44/44 [==============================] - 1s 15ms/step - loss: 0.4242 - Accuracy: 0.8580 - false_negatives: 55.0000 - false_positives: 45.0000 - true_negatives: 1011.0000 - true_positives: 297.0000 - val_loss: 1.5618 - val_Accuracy: 0.5870 - val_false_negatives: 38.0000 - val_false_positives: 37.0000 - val_true_negatives: 239.0000 - val_true_positives: 54.0000\n",
            "Epoch 80/200\n",
            "44/44 [==============================] - 1s 14ms/step - loss: 0.5120 - Accuracy: 0.8040 - false_negatives: 75.0000 - false_positives: 57.0000 - true_negatives: 999.0000 - true_positives: 277.0000 - val_loss: 1.3962 - val_Accuracy: 0.6413 - val_false_negatives: 35.0000 - val_false_positives: 31.0000 - val_true_negatives: 245.0000 - val_true_positives: 57.0000\n",
            "Epoch 81/200\n",
            "44/44 [==============================] - 1s 14ms/step - loss: 0.4549 - Accuracy: 0.8352 - false_negatives: 71.0000 - false_positives: 41.0000 - true_negatives: 1015.0000 - true_positives: 281.0000 - val_loss: 1.3690 - val_Accuracy: 0.6087 - val_false_negatives: 37.0000 - val_false_positives: 33.0000 - val_true_negatives: 243.0000 - val_true_positives: 55.0000\n",
            "Epoch 82/200\n",
            "44/44 [==============================] - 1s 15ms/step - loss: 0.4386 - Accuracy: 0.8352 - false_negatives: 62.0000 - false_positives: 47.0000 - true_negatives: 1009.0000 - true_positives: 290.0000 - val_loss: 1.5961 - val_Accuracy: 0.5870 - val_false_negatives: 39.0000 - val_false_positives: 37.0000 - val_true_negatives: 239.0000 - val_true_positives: 53.0000\n",
            "Epoch 83/200\n",
            "44/44 [==============================] - 1s 15ms/step - loss: 0.4718 - Accuracy: 0.8068 - false_negatives: 74.0000 - false_positives: 57.0000 - true_negatives: 999.0000 - true_positives: 278.0000 - val_loss: 1.2593 - val_Accuracy: 0.6196 - val_false_negatives: 36.0000 - val_false_positives: 32.0000 - val_true_negatives: 244.0000 - val_true_positives: 56.0000\n",
            "Epoch 84/200\n",
            "44/44 [==============================] - 1s 15ms/step - loss: 0.4083 - Accuracy: 0.8466 - false_negatives: 62.0000 - false_positives: 42.0000 - true_negatives: 1014.0000 - true_positives: 290.0000 - val_loss: 1.3349 - val_Accuracy: 0.6739 - val_false_negatives: 32.0000 - val_false_positives: 30.0000 - val_true_negatives: 246.0000 - val_true_positives: 60.0000\n",
            "Epoch 85/200\n",
            "44/44 [==============================] - 1s 15ms/step - loss: 0.4359 - Accuracy: 0.8580 - false_negatives: 61.0000 - false_positives: 41.0000 - true_negatives: 1015.0000 - true_positives: 291.0000 - val_loss: 1.3055 - val_Accuracy: 0.6413 - val_false_negatives: 34.0000 - val_false_positives: 32.0000 - val_true_negatives: 244.0000 - val_true_positives: 58.0000\n",
            "Epoch 86/200\n",
            "44/44 [==============================] - 1s 19ms/step - loss: 0.4754 - Accuracy: 0.8267 - false_negatives: 75.0000 - false_positives: 55.0000 - true_negatives: 1001.0000 - true_positives: 277.0000 - val_loss: 1.2488 - val_Accuracy: 0.6522 - val_false_negatives: 34.0000 - val_false_positives: 30.0000 - val_true_negatives: 246.0000 - val_true_positives: 58.0000\n",
            "Epoch 87/200\n",
            "44/44 [==============================] - 1s 22ms/step - loss: 0.4734 - Accuracy: 0.8295 - false_negatives: 68.0000 - false_positives: 49.0000 - true_negatives: 1007.0000 - true_positives: 284.0000 - val_loss: 1.4889 - val_Accuracy: 0.6413 - val_false_negatives: 35.0000 - val_false_positives: 32.0000 - val_true_negatives: 244.0000 - val_true_positives: 57.0000\n",
            "Epoch 88/200\n",
            "44/44 [==============================] - 1s 15ms/step - loss: 0.4538 - Accuracy: 0.8210 - false_negatives: 71.0000 - false_positives: 47.0000 - true_negatives: 1009.0000 - true_positives: 281.0000 - val_loss: 1.5491 - val_Accuracy: 0.6087 - val_false_negatives: 37.0000 - val_false_positives: 31.0000 - val_true_negatives: 245.0000 - val_true_positives: 55.0000\n",
            "Epoch 89/200\n",
            "44/44 [==============================] - 1s 15ms/step - loss: 0.4746 - Accuracy: 0.8210 - false_negatives: 72.0000 - false_positives: 49.0000 - true_negatives: 1007.0000 - true_positives: 280.0000 - val_loss: 1.4214 - val_Accuracy: 0.6413 - val_false_negatives: 33.0000 - val_false_positives: 32.0000 - val_true_negatives: 244.0000 - val_true_positives: 59.0000\n",
            "Epoch 90/200\n",
            "44/44 [==============================] - 1s 14ms/step - loss: 0.4088 - Accuracy: 0.8438 - false_negatives: 65.0000 - false_positives: 47.0000 - true_negatives: 1009.0000 - true_positives: 287.0000 - val_loss: 1.3197 - val_Accuracy: 0.6630 - val_false_negatives: 31.0000 - val_false_positives: 31.0000 - val_true_negatives: 245.0000 - val_true_positives: 61.0000\n",
            "Epoch 91/200\n",
            "44/44 [==============================] - 1s 15ms/step - loss: 0.4336 - Accuracy: 0.8438 - false_negatives: 59.0000 - false_positives: 47.0000 - true_negatives: 1009.0000 - true_positives: 293.0000 - val_loss: 1.4811 - val_Accuracy: 0.6087 - val_false_negatives: 39.0000 - val_false_positives: 36.0000 - val_true_negatives: 240.0000 - val_true_positives: 53.0000\n",
            "Epoch 92/200\n",
            "44/44 [==============================] - 1s 18ms/step - loss: 0.3955 - Accuracy: 0.8381 - false_negatives: 62.0000 - false_positives: 46.0000 - true_negatives: 1010.0000 - true_positives: 290.0000 - val_loss: 1.5682 - val_Accuracy: 0.5761 - val_false_negatives: 39.0000 - val_false_positives: 37.0000 - val_true_negatives: 239.0000 - val_true_positives: 53.0000\n",
            "Epoch 93/200\n",
            "44/44 [==============================] - 1s 21ms/step - loss: 0.3662 - Accuracy: 0.8636 - false_negatives: 53.0000 - false_positives: 40.0000 - true_negatives: 1016.0000 - true_positives: 299.0000 - val_loss: 1.6216 - val_Accuracy: 0.5870 - val_false_negatives: 40.0000 - val_false_positives: 36.0000 - val_true_negatives: 240.0000 - val_true_positives: 52.0000\n",
            "Epoch 94/200\n",
            "44/44 [==============================] - 1s 18ms/step - loss: 0.4040 - Accuracy: 0.8693 - false_negatives: 52.0000 - false_positives: 37.0000 - true_negatives: 1019.0000 - true_positives: 300.0000 - val_loss: 1.8005 - val_Accuracy: 0.5761 - val_false_negatives: 39.0000 - val_false_positives: 38.0000 - val_true_negatives: 238.0000 - val_true_positives: 53.0000\n",
            "Epoch 95/200\n",
            "44/44 [==============================] - 1s 16ms/step - loss: 0.4025 - Accuracy: 0.8580 - false_negatives: 56.0000 - false_positives: 42.0000 - true_negatives: 1014.0000 - true_positives: 296.0000 - val_loss: 1.3188 - val_Accuracy: 0.6522 - val_false_negatives: 32.0000 - val_false_positives: 31.0000 - val_true_negatives: 245.0000 - val_true_positives: 60.0000\n",
            "Epoch 96/200\n",
            "44/44 [==============================] - 1s 14ms/step - loss: 0.3837 - Accuracy: 0.8580 - false_negatives: 54.0000 - false_positives: 45.0000 - true_negatives: 1011.0000 - true_positives: 298.0000 - val_loss: 1.2143 - val_Accuracy: 0.6522 - val_false_negatives: 32.0000 - val_false_positives: 30.0000 - val_true_negatives: 246.0000 - val_true_positives: 60.0000\n",
            "Epoch 97/200\n",
            "44/44 [==============================] - 1s 15ms/step - loss: 0.4242 - Accuracy: 0.8466 - false_negatives: 59.0000 - false_positives: 45.0000 - true_negatives: 1011.0000 - true_positives: 293.0000 - val_loss: 1.5913 - val_Accuracy: 0.5978 - val_false_negatives: 39.0000 - val_false_positives: 36.0000 - val_true_negatives: 240.0000 - val_true_positives: 53.0000\n",
            "Epoch 98/200\n",
            "44/44 [==============================] - 1s 15ms/step - loss: 0.4436 - Accuracy: 0.8210 - false_negatives: 67.0000 - false_positives: 49.0000 - true_negatives: 1007.0000 - true_positives: 285.0000 - val_loss: 1.4228 - val_Accuracy: 0.6087 - val_false_negatives: 36.0000 - val_false_positives: 35.0000 - val_true_negatives: 241.0000 - val_true_positives: 56.0000\n",
            "Epoch 99/200\n",
            "44/44 [==============================] - 1s 15ms/step - loss: 0.3987 - Accuracy: 0.8722 - false_negatives: 52.0000 - false_positives: 42.0000 - true_negatives: 1014.0000 - true_positives: 300.0000 - val_loss: 1.2751 - val_Accuracy: 0.6196 - val_false_negatives: 38.0000 - val_false_positives: 33.0000 - val_true_negatives: 243.0000 - val_true_positives: 54.0000\n",
            "Epoch 100/200\n",
            "44/44 [==============================] - 1s 15ms/step - loss: 0.4274 - Accuracy: 0.8324 - false_negatives: 67.0000 - false_positives: 53.0000 - true_negatives: 1003.0000 - true_positives: 285.0000 - val_loss: 1.6350 - val_Accuracy: 0.5978 - val_false_negatives: 37.0000 - val_false_positives: 36.0000 - val_true_negatives: 240.0000 - val_true_positives: 55.0000\n",
            "Epoch 101/200\n",
            "44/44 [==============================] - 1s 16ms/step - loss: 0.3778 - Accuracy: 0.8523 - false_negatives: 63.0000 - false_positives: 39.0000 - true_negatives: 1017.0000 - true_positives: 289.0000 - val_loss: 1.3685 - val_Accuracy: 0.6196 - val_false_negatives: 35.0000 - val_false_positives: 35.0000 - val_true_negatives: 241.0000 - val_true_positives: 57.0000\n",
            "Epoch 102/200\n",
            "44/44 [==============================] - 1s 15ms/step - loss: 0.4094 - Accuracy: 0.8722 - false_negatives: 52.0000 - false_positives: 38.0000 - true_negatives: 1018.0000 - true_positives: 300.0000 - val_loss: 1.3700 - val_Accuracy: 0.6413 - val_false_negatives: 34.0000 - val_false_positives: 31.0000 - val_true_negatives: 245.0000 - val_true_positives: 58.0000\n",
            "Epoch 103/200\n",
            "44/44 [==============================] - 1s 15ms/step - loss: 0.3572 - Accuracy: 0.8580 - false_negatives: 55.0000 - false_positives: 42.0000 - true_negatives: 1014.0000 - true_positives: 297.0000 - val_loss: 1.6392 - val_Accuracy: 0.5870 - val_false_negatives: 38.0000 - val_false_positives: 38.0000 - val_true_negatives: 238.0000 - val_true_positives: 54.0000\n",
            "Epoch 104/200\n",
            "44/44 [==============================] - 1s 15ms/step - loss: 0.3454 - Accuracy: 0.8778 - false_negatives: 51.0000 - false_positives: 37.0000 - true_negatives: 1019.0000 - true_positives: 301.0000 - val_loss: 2.2201 - val_Accuracy: 0.5543 - val_false_negatives: 41.0000 - val_false_positives: 40.0000 - val_true_negatives: 236.0000 - val_true_positives: 51.0000\n",
            "Epoch 105/200\n",
            "44/44 [==============================] - 1s 16ms/step - loss: 0.4306 - Accuracy: 0.8381 - false_negatives: 60.0000 - false_positives: 45.0000 - true_negatives: 1011.0000 - true_positives: 292.0000 - val_loss: 1.1704 - val_Accuracy: 0.6957 - val_false_negatives: 29.0000 - val_false_positives: 26.0000 - val_true_negatives: 250.0000 - val_true_positives: 63.0000\n",
            "Epoch 106/200\n",
            "44/44 [==============================] - 1s 15ms/step - loss: 0.3818 - Accuracy: 0.8494 - false_negatives: 62.0000 - false_positives: 42.0000 - true_negatives: 1014.0000 - true_positives: 290.0000 - val_loss: 1.5003 - val_Accuracy: 0.6304 - val_false_negatives: 35.0000 - val_false_positives: 33.0000 - val_true_negatives: 243.0000 - val_true_positives: 57.0000\n",
            "Epoch 107/200\n",
            "44/44 [==============================] - 1s 15ms/step - loss: 0.4038 - Accuracy: 0.8608 - false_negatives: 57.0000 - false_positives: 45.0000 - true_negatives: 1011.0000 - true_positives: 295.0000 - val_loss: 1.3743 - val_Accuracy: 0.6304 - val_false_negatives: 36.0000 - val_false_positives: 30.0000 - val_true_negatives: 246.0000 - val_true_positives: 56.0000\n",
            "Epoch 108/200\n",
            "44/44 [==============================] - 1s 15ms/step - loss: 0.4239 - Accuracy: 0.8466 - false_negatives: 63.0000 - false_positives: 48.0000 - true_negatives: 1008.0000 - true_positives: 289.0000 - val_loss: 1.6610 - val_Accuracy: 0.5652 - val_false_negatives: 41.0000 - val_false_positives: 37.0000 - val_true_negatives: 239.0000 - val_true_positives: 51.0000\n",
            "Epoch 109/200\n",
            "44/44 [==============================] - 1s 15ms/step - loss: 0.3918 - Accuracy: 0.8523 - false_negatives: 59.0000 - false_positives: 44.0000 - true_negatives: 1012.0000 - true_positives: 293.0000 - val_loss: 1.3634 - val_Accuracy: 0.6413 - val_false_negatives: 34.0000 - val_false_positives: 32.0000 - val_true_negatives: 244.0000 - val_true_positives: 58.0000\n",
            "Epoch 110/200\n",
            "44/44 [==============================] - 1s 15ms/step - loss: 0.3673 - Accuracy: 0.8551 - false_negatives: 58.0000 - false_positives: 42.0000 - true_negatives: 1014.0000 - true_positives: 294.0000 - val_loss: 1.5154 - val_Accuracy: 0.6087 - val_false_negatives: 37.0000 - val_false_positives: 36.0000 - val_true_negatives: 240.0000 - val_true_positives: 55.0000\n",
            "Epoch 111/200\n",
            "44/44 [==============================] - 1s 15ms/step - loss: 0.3756 - Accuracy: 0.8551 - false_negatives: 58.0000 - false_positives: 45.0000 - true_negatives: 1011.0000 - true_positives: 294.0000 - val_loss: 1.2868 - val_Accuracy: 0.6739 - val_false_negatives: 30.0000 - val_false_positives: 30.0000 - val_true_negatives: 246.0000 - val_true_positives: 62.0000\n",
            "Epoch 112/200\n",
            "44/44 [==============================] - 1s 15ms/step - loss: 0.3833 - Accuracy: 0.8494 - false_negatives: 60.0000 - false_positives: 48.0000 - true_negatives: 1008.0000 - true_positives: 292.0000 - val_loss: 1.7331 - val_Accuracy: 0.6087 - val_false_negatives: 38.0000 - val_false_positives: 36.0000 - val_true_negatives: 240.0000 - val_true_positives: 54.0000\n",
            "Epoch 113/200\n",
            "44/44 [==============================] - 1s 15ms/step - loss: 0.3559 - Accuracy: 0.8864 - false_negatives: 46.0000 - false_positives: 36.0000 - true_negatives: 1020.0000 - true_positives: 306.0000 - val_loss: 2.3721 - val_Accuracy: 0.5870 - val_false_negatives: 39.0000 - val_false_positives: 37.0000 - val_true_negatives: 239.0000 - val_true_positives: 53.0000\n",
            "Epoch 114/200\n",
            "44/44 [==============================] - 1s 15ms/step - loss: 0.3515 - Accuracy: 0.8722 - false_negatives: 51.0000 - false_positives: 37.0000 - true_negatives: 1019.0000 - true_positives: 301.0000 - val_loss: 1.5751 - val_Accuracy: 0.6413 - val_false_negatives: 34.0000 - val_false_positives: 29.0000 - val_true_negatives: 247.0000 - val_true_positives: 58.0000\n",
            "Epoch 115/200\n",
            "44/44 [==============================] - 1s 15ms/step - loss: 0.3899 - Accuracy: 0.8466 - false_negatives: 61.0000 - false_positives: 45.0000 - true_negatives: 1011.0000 - true_positives: 291.0000 - val_loss: 1.5687 - val_Accuracy: 0.6304 - val_false_negatives: 36.0000 - val_false_positives: 31.0000 - val_true_negatives: 245.0000 - val_true_positives: 56.0000\n",
            "Epoch 116/200\n",
            "44/44 [==============================] - 1s 15ms/step - loss: 0.3115 - Accuracy: 0.8864 - false_negatives: 45.0000 - false_positives: 35.0000 - true_negatives: 1021.0000 - true_positives: 307.0000 - val_loss: 1.7858 - val_Accuracy: 0.6848 - val_false_negatives: 29.0000 - val_false_positives: 28.0000 - val_true_negatives: 248.0000 - val_true_positives: 63.0000\n",
            "Epoch 117/200\n",
            "44/44 [==============================] - 1s 15ms/step - loss: 0.4062 - Accuracy: 0.8580 - false_negatives: 55.0000 - false_positives: 43.0000 - true_negatives: 1013.0000 - true_positives: 297.0000 - val_loss: 1.5819 - val_Accuracy: 0.6087 - val_false_negatives: 39.0000 - val_false_positives: 32.0000 - val_true_negatives: 244.0000 - val_true_positives: 53.0000\n",
            "Epoch 118/200\n",
            "44/44 [==============================] - 1s 15ms/step - loss: 0.3459 - Accuracy: 0.8722 - false_negatives: 54.0000 - false_positives: 36.0000 - true_negatives: 1020.0000 - true_positives: 298.0000 - val_loss: 1.6145 - val_Accuracy: 0.6087 - val_false_negatives: 36.0000 - val_false_positives: 33.0000 - val_true_negatives: 243.0000 - val_true_positives: 56.0000\n",
            "Epoch 119/200\n",
            "44/44 [==============================] - 1s 15ms/step - loss: 0.2944 - Accuracy: 0.8864 - false_negatives: 47.0000 - false_positives: 34.0000 - true_negatives: 1022.0000 - true_positives: 305.0000 - val_loss: 2.4624 - val_Accuracy: 0.6087 - val_false_negatives: 37.0000 - val_false_positives: 35.0000 - val_true_negatives: 241.0000 - val_true_positives: 55.0000\n",
            "Epoch 120/200\n",
            "44/44 [==============================] - 1s 16ms/step - loss: 0.3575 - Accuracy: 0.8665 - false_negatives: 49.0000 - false_positives: 41.0000 - true_negatives: 1015.0000 - true_positives: 303.0000 - val_loss: 1.6864 - val_Accuracy: 0.5978 - val_false_negatives: 38.0000 - val_false_positives: 36.0000 - val_true_negatives: 240.0000 - val_true_positives: 54.0000\n",
            "Epoch 121/200\n",
            "44/44 [==============================] - 1s 15ms/step - loss: 0.3406 - Accuracy: 0.8835 - false_negatives: 49.0000 - false_positives: 36.0000 - true_negatives: 1020.0000 - true_positives: 303.0000 - val_loss: 1.7392 - val_Accuracy: 0.6304 - val_false_negatives: 34.0000 - val_false_positives: 33.0000 - val_true_negatives: 243.0000 - val_true_positives: 58.0000\n",
            "Epoch 122/200\n",
            "44/44 [==============================] - 1s 15ms/step - loss: 0.3298 - Accuracy: 0.8608 - false_negatives: 55.0000 - false_positives: 43.0000 - true_negatives: 1013.0000 - true_positives: 297.0000 - val_loss: 1.7873 - val_Accuracy: 0.5978 - val_false_negatives: 37.0000 - val_false_positives: 37.0000 - val_true_negatives: 239.0000 - val_true_positives: 55.0000\n",
            "Epoch 123/200\n",
            "44/44 [==============================] - 1s 15ms/step - loss: 0.3398 - Accuracy: 0.8523 - false_negatives: 59.0000 - false_positives: 44.0000 - true_negatives: 1012.0000 - true_positives: 293.0000 - val_loss: 1.5856 - val_Accuracy: 0.6087 - val_false_negatives: 36.0000 - val_false_positives: 34.0000 - val_true_negatives: 242.0000 - val_true_positives: 56.0000\n",
            "Epoch 124/200\n",
            "44/44 [==============================] - 1s 16ms/step - loss: 0.3899 - Accuracy: 0.8466 - false_negatives: 59.0000 - false_positives: 45.0000 - true_negatives: 1011.0000 - true_positives: 293.0000 - val_loss: 1.5900 - val_Accuracy: 0.6087 - val_false_negatives: 36.0000 - val_false_positives: 34.0000 - val_true_negatives: 242.0000 - val_true_positives: 56.0000\n",
            "Epoch 125/200\n",
            "44/44 [==============================] - 1s 15ms/step - loss: 0.3491 - Accuracy: 0.8494 - false_negatives: 62.0000 - false_positives: 44.0000 - true_negatives: 1012.0000 - true_positives: 290.0000 - val_loss: 1.7399 - val_Accuracy: 0.5978 - val_false_negatives: 41.0000 - val_false_positives: 34.0000 - val_true_negatives: 242.0000 - val_true_positives: 51.0000\n",
            "Epoch 126/200\n",
            "44/44 [==============================] - 1s 15ms/step - loss: 0.3005 - Accuracy: 0.8750 - false_negatives: 47.0000 - false_positives: 32.0000 - true_negatives: 1024.0000 - true_positives: 305.0000 - val_loss: 1.6276 - val_Accuracy: 0.6196 - val_false_negatives: 36.0000 - val_false_positives: 32.0000 - val_true_negatives: 244.0000 - val_true_positives: 56.0000\n",
            "Epoch 127/200\n",
            "44/44 [==============================] - 1s 16ms/step - loss: 0.2450 - Accuracy: 0.9091 - false_negatives: 38.0000 - false_positives: 28.0000 - true_negatives: 1028.0000 - true_positives: 314.0000 - val_loss: 1.5615 - val_Accuracy: 0.6304 - val_false_negatives: 35.0000 - val_false_positives: 32.0000 - val_true_negatives: 244.0000 - val_true_positives: 57.0000\n",
            "Epoch 128/200\n",
            "44/44 [==============================] - 1s 15ms/step - loss: 0.3599 - Accuracy: 0.8438 - false_negatives: 57.0000 - false_positives: 51.0000 - true_negatives: 1005.0000 - true_positives: 295.0000 - val_loss: 2.4504 - val_Accuracy: 0.5761 - val_false_negatives: 39.0000 - val_false_positives: 36.0000 - val_true_negatives: 240.0000 - val_true_positives: 53.0000\n",
            "Epoch 129/200\n",
            "44/44 [==============================] - 1s 15ms/step - loss: 0.3654 - Accuracy: 0.8523 - false_negatives: 56.0000 - false_positives: 41.0000 - true_negatives: 1015.0000 - true_positives: 296.0000 - val_loss: 1.9788 - val_Accuracy: 0.5978 - val_false_negatives: 37.0000 - val_false_positives: 35.0000 - val_true_negatives: 241.0000 - val_true_positives: 55.0000\n",
            "Epoch 130/200\n",
            "44/44 [==============================] - 1s 15ms/step - loss: 0.2981 - Accuracy: 0.8920 - false_negatives: 47.0000 - false_positives: 32.0000 - true_negatives: 1024.0000 - true_positives: 305.0000 - val_loss: 2.8440 - val_Accuracy: 0.5761 - val_false_negatives: 39.0000 - val_false_positives: 38.0000 - val_true_negatives: 238.0000 - val_true_positives: 53.0000\n",
            "Epoch 131/200\n",
            "44/44 [==============================] - 1s 15ms/step - loss: 0.3375 - Accuracy: 0.8807 - false_negatives: 47.0000 - false_positives: 41.0000 - true_negatives: 1015.0000 - true_positives: 305.0000 - val_loss: 1.6605 - val_Accuracy: 0.6630 - val_false_negatives: 32.0000 - val_false_positives: 29.0000 - val_true_negatives: 247.0000 - val_true_positives: 60.0000\n",
            "Epoch 132/200\n",
            "44/44 [==============================] - 1s 15ms/step - loss: 0.3185 - Accuracy: 0.8722 - false_negatives: 51.0000 - false_positives: 39.0000 - true_negatives: 1017.0000 - true_positives: 301.0000 - val_loss: 1.9187 - val_Accuracy: 0.6522 - val_false_negatives: 32.0000 - val_false_positives: 30.0000 - val_true_negatives: 246.0000 - val_true_positives: 60.0000\n",
            "Epoch 133/200\n",
            "44/44 [==============================] - 1s 15ms/step - loss: 0.3083 - Accuracy: 0.8636 - false_negatives: 56.0000 - false_positives: 35.0000 - true_negatives: 1021.0000 - true_positives: 296.0000 - val_loss: 2.1132 - val_Accuracy: 0.6087 - val_false_negatives: 36.0000 - val_false_positives: 34.0000 - val_true_negatives: 242.0000 - val_true_positives: 56.0000\n",
            "Epoch 134/200\n",
            "44/44 [==============================] - 1s 16ms/step - loss: 0.2558 - Accuracy: 0.8949 - false_negatives: 41.0000 - false_positives: 30.0000 - true_negatives: 1026.0000 - true_positives: 311.0000 - val_loss: 2.2335 - val_Accuracy: 0.6304 - val_false_negatives: 34.0000 - val_false_positives: 33.0000 - val_true_negatives: 243.0000 - val_true_positives: 58.0000\n",
            "Epoch 135/200\n",
            "44/44 [==============================] - 1s 15ms/step - loss: 0.3185 - Accuracy: 0.8693 - false_negatives: 50.0000 - false_positives: 42.0000 - true_negatives: 1014.0000 - true_positives: 302.0000 - val_loss: 2.1736 - val_Accuracy: 0.6196 - val_false_negatives: 36.0000 - val_false_positives: 33.0000 - val_true_negatives: 243.0000 - val_true_positives: 56.0000\n",
            "Epoch 136/200\n",
            "44/44 [==============================] - 1s 15ms/step - loss: 0.3273 - Accuracy: 0.8807 - false_negatives: 48.0000 - false_positives: 34.0000 - true_negatives: 1022.0000 - true_positives: 304.0000 - val_loss: 1.7269 - val_Accuracy: 0.6304 - val_false_negatives: 34.0000 - val_false_positives: 30.0000 - val_true_negatives: 246.0000 - val_true_positives: 58.0000\n",
            "Epoch 137/200\n",
            "44/44 [==============================] - 1s 15ms/step - loss: 0.2536 - Accuracy: 0.8949 - false_negatives: 41.0000 - false_positives: 31.0000 - true_negatives: 1025.0000 - true_positives: 311.0000 - val_loss: 1.7637 - val_Accuracy: 0.6739 - val_false_negatives: 31.0000 - val_false_positives: 30.0000 - val_true_negatives: 246.0000 - val_true_positives: 61.0000\n",
            "Epoch 138/200\n",
            "44/44 [==============================] - 1s 15ms/step - loss: 0.3123 - Accuracy: 0.8722 - false_negatives: 47.0000 - false_positives: 40.0000 - true_negatives: 1016.0000 - true_positives: 305.0000 - val_loss: 2.2492 - val_Accuracy: 0.6087 - val_false_negatives: 36.0000 - val_false_positives: 34.0000 - val_true_negatives: 242.0000 - val_true_positives: 56.0000\n",
            "Epoch 139/200\n",
            "44/44 [==============================] - 1s 15ms/step - loss: 0.2854 - Accuracy: 0.8864 - false_negatives: 43.0000 - false_positives: 35.0000 - true_negatives: 1021.0000 - true_positives: 309.0000 - val_loss: 2.1364 - val_Accuracy: 0.5761 - val_false_negatives: 39.0000 - val_false_positives: 39.0000 - val_true_negatives: 237.0000 - val_true_positives: 53.0000\n",
            "Epoch 140/200\n",
            "44/44 [==============================] - 1s 15ms/step - loss: 0.2995 - Accuracy: 0.8835 - false_negatives: 43.0000 - false_positives: 36.0000 - true_negatives: 1020.0000 - true_positives: 309.0000 - val_loss: 2.2234 - val_Accuracy: 0.5761 - val_false_negatives: 40.0000 - val_false_positives: 37.0000 - val_true_negatives: 239.0000 - val_true_positives: 52.0000\n",
            "Epoch 141/200\n",
            "44/44 [==============================] - 1s 15ms/step - loss: 0.2466 - Accuracy: 0.9006 - false_negatives: 40.0000 - false_positives: 32.0000 - true_negatives: 1024.0000 - true_positives: 312.0000 - val_loss: 1.7860 - val_Accuracy: 0.6304 - val_false_negatives: 35.0000 - val_false_positives: 32.0000 - val_true_negatives: 244.0000 - val_true_positives: 57.0000\n",
            "Epoch 142/200\n",
            "44/44 [==============================] - 1s 15ms/step - loss: 0.2957 - Accuracy: 0.9006 - false_negatives: 43.0000 - false_positives: 33.0000 - true_negatives: 1023.0000 - true_positives: 309.0000 - val_loss: 1.8655 - val_Accuracy: 0.5870 - val_false_negatives: 38.0000 - val_false_positives: 37.0000 - val_true_negatives: 239.0000 - val_true_positives: 54.0000\n",
            "Epoch 143/200\n",
            "44/44 [==============================] - 1s 16ms/step - loss: 0.2591 - Accuracy: 0.8892 - false_negatives: 43.0000 - false_positives: 35.0000 - true_negatives: 1021.0000 - true_positives: 309.0000 - val_loss: 1.6104 - val_Accuracy: 0.6522 - val_false_negatives: 32.0000 - val_false_positives: 31.0000 - val_true_negatives: 245.0000 - val_true_positives: 60.0000\n",
            "Epoch 144/200\n",
            "44/44 [==============================] - 1s 15ms/step - loss: 0.3087 - Accuracy: 0.8977 - false_negatives: 41.0000 - false_positives: 33.0000 - true_negatives: 1023.0000 - true_positives: 311.0000 - val_loss: 2.3438 - val_Accuracy: 0.5652 - val_false_negatives: 40.0000 - val_false_positives: 39.0000 - val_true_negatives: 237.0000 - val_true_positives: 52.0000\n",
            "Epoch 145/200\n",
            "44/44 [==============================] - 1s 15ms/step - loss: 0.2853 - Accuracy: 0.8807 - false_negatives: 49.0000 - false_positives: 39.0000 - true_negatives: 1017.0000 - true_positives: 303.0000 - val_loss: 1.9256 - val_Accuracy: 0.6739 - val_false_negatives: 31.0000 - val_false_positives: 28.0000 - val_true_negatives: 248.0000 - val_true_positives: 61.0000\n",
            "Epoch 146/200\n",
            "44/44 [==============================] - 1s 15ms/step - loss: 0.2310 - Accuracy: 0.9148 - false_negatives: 34.0000 - false_positives: 28.0000 - true_negatives: 1028.0000 - true_positives: 318.0000 - val_loss: 2.7775 - val_Accuracy: 0.5978 - val_false_negatives: 37.0000 - val_false_positives: 37.0000 - val_true_negatives: 239.0000 - val_true_positives: 55.0000\n",
            "Epoch 147/200\n",
            "44/44 [==============================] - 1s 15ms/step - loss: 0.2943 - Accuracy: 0.8920 - false_negatives: 45.0000 - false_positives: 33.0000 - true_negatives: 1023.0000 - true_positives: 307.0000 - val_loss: 2.3423 - val_Accuracy: 0.6087 - val_false_negatives: 37.0000 - val_false_positives: 34.0000 - val_true_negatives: 242.0000 - val_true_positives: 55.0000\n",
            "Epoch 148/200\n",
            "44/44 [==============================] - 1s 15ms/step - loss: 0.2690 - Accuracy: 0.8722 - false_negatives: 47.0000 - false_positives: 40.0000 - true_negatives: 1016.0000 - true_positives: 305.0000 - val_loss: 2.0331 - val_Accuracy: 0.5978 - val_false_negatives: 37.0000 - val_false_positives: 36.0000 - val_true_negatives: 240.0000 - val_true_positives: 55.0000\n",
            "Epoch 149/200\n",
            "44/44 [==============================] - 1s 15ms/step - loss: 0.2655 - Accuracy: 0.8977 - false_negatives: 37.0000 - false_positives: 34.0000 - true_negatives: 1022.0000 - true_positives: 315.0000 - val_loss: 2.9231 - val_Accuracy: 0.5652 - val_false_negatives: 40.0000 - val_false_positives: 38.0000 - val_true_negatives: 238.0000 - val_true_positives: 52.0000\n",
            "Epoch 150/200\n",
            "44/44 [==============================] - 1s 15ms/step - loss: 0.2196 - Accuracy: 0.9148 - false_negatives: 31.0000 - false_positives: 28.0000 - true_negatives: 1028.0000 - true_positives: 321.0000 - val_loss: 2.6426 - val_Accuracy: 0.5652 - val_false_negatives: 40.0000 - val_false_positives: 40.0000 - val_true_negatives: 236.0000 - val_true_positives: 52.0000\n",
            "Epoch 151/200\n",
            "44/44 [==============================] - 1s 16ms/step - loss: 0.2680 - Accuracy: 0.9062 - false_negatives: 37.0000 - false_positives: 28.0000 - true_negatives: 1028.0000 - true_positives: 315.0000 - val_loss: 2.1970 - val_Accuracy: 0.5870 - val_false_negatives: 38.0000 - val_false_positives: 38.0000 - val_true_negatives: 238.0000 - val_true_positives: 54.0000\n",
            "Epoch 152/200\n",
            "44/44 [==============================] - 1s 15ms/step - loss: 0.2238 - Accuracy: 0.9062 - false_negatives: 33.0000 - false_positives: 28.0000 - true_negatives: 1028.0000 - true_positives: 319.0000 - val_loss: 1.5294 - val_Accuracy: 0.6739 - val_false_negatives: 30.0000 - val_false_positives: 28.0000 - val_true_negatives: 248.0000 - val_true_positives: 62.0000\n",
            "Epoch 153/200\n",
            "44/44 [==============================] - 1s 15ms/step - loss: 0.2800 - Accuracy: 0.8920 - false_negatives: 43.0000 - false_positives: 35.0000 - true_negatives: 1021.0000 - true_positives: 309.0000 - val_loss: 3.3785 - val_Accuracy: 0.5870 - val_false_negatives: 39.0000 - val_false_positives: 35.0000 - val_true_negatives: 241.0000 - val_true_positives: 53.0000\n",
            "Epoch 154/200\n",
            "44/44 [==============================] - 1s 16ms/step - loss: 0.2555 - Accuracy: 0.9148 - false_negatives: 33.0000 - false_positives: 27.0000 - true_negatives: 1029.0000 - true_positives: 319.0000 - val_loss: 2.0658 - val_Accuracy: 0.6413 - val_false_negatives: 34.0000 - val_false_positives: 32.0000 - val_true_negatives: 244.0000 - val_true_positives: 58.0000\n",
            "Epoch 155/200\n",
            "44/44 [==============================] - 1s 16ms/step - loss: 0.2797 - Accuracy: 0.8977 - false_negatives: 43.0000 - false_positives: 34.0000 - true_negatives: 1022.0000 - true_positives: 309.0000 - val_loss: 2.7818 - val_Accuracy: 0.6087 - val_false_negatives: 36.0000 - val_false_positives: 35.0000 - val_true_negatives: 241.0000 - val_true_positives: 56.0000\n",
            "Epoch 156/200\n",
            "44/44 [==============================] - 1s 15ms/step - loss: 0.2497 - Accuracy: 0.8864 - false_negatives: 45.0000 - false_positives: 36.0000 - true_negatives: 1020.0000 - true_positives: 307.0000 - val_loss: 1.9619 - val_Accuracy: 0.6630 - val_false_negatives: 31.0000 - val_false_positives: 31.0000 - val_true_negatives: 245.0000 - val_true_positives: 61.0000\n",
            "Epoch 157/200\n",
            "44/44 [==============================] - 1s 16ms/step - loss: 0.2468 - Accuracy: 0.9006 - false_negatives: 36.0000 - false_positives: 30.0000 - true_negatives: 1026.0000 - true_positives: 316.0000 - val_loss: 2.2558 - val_Accuracy: 0.6196 - val_false_negatives: 35.0000 - val_false_positives: 35.0000 - val_true_negatives: 241.0000 - val_true_positives: 57.0000\n",
            "Epoch 158/200\n",
            "44/44 [==============================] - 1s 15ms/step - loss: 0.2844 - Accuracy: 0.8892 - false_negatives: 40.0000 - false_positives: 36.0000 - true_negatives: 1020.0000 - true_positives: 312.0000 - val_loss: 2.8052 - val_Accuracy: 0.5761 - val_false_negatives: 41.0000 - val_false_positives: 38.0000 - val_true_negatives: 238.0000 - val_true_positives: 51.0000\n",
            "Epoch 159/200\n",
            "44/44 [==============================] - 1s 15ms/step - loss: 0.2530 - Accuracy: 0.9091 - false_negatives: 35.0000 - false_positives: 32.0000 - true_negatives: 1024.0000 - true_positives: 317.0000 - val_loss: 1.6773 - val_Accuracy: 0.6739 - val_false_negatives: 30.0000 - val_false_positives: 30.0000 - val_true_negatives: 246.0000 - val_true_positives: 62.0000\n",
            "Epoch 160/200\n",
            "44/44 [==============================] - 1s 15ms/step - loss: 0.2677 - Accuracy: 0.8864 - false_negatives: 42.0000 - false_positives: 37.0000 - true_negatives: 1019.0000 - true_positives: 310.0000 - val_loss: 2.3396 - val_Accuracy: 0.6087 - val_false_negatives: 36.0000 - val_false_positives: 35.0000 - val_true_negatives: 241.0000 - val_true_positives: 56.0000\n",
            "Epoch 161/200\n",
            "44/44 [==============================] - 1s 15ms/step - loss: 0.2250 - Accuracy: 0.9091 - false_negatives: 36.0000 - false_positives: 30.0000 - true_negatives: 1026.0000 - true_positives: 316.0000 - val_loss: 1.9688 - val_Accuracy: 0.6087 - val_false_negatives: 37.0000 - val_false_positives: 36.0000 - val_true_negatives: 240.0000 - val_true_positives: 55.0000\n",
            "Epoch 162/200\n",
            "44/44 [==============================] - 1s 16ms/step - loss: 0.2273 - Accuracy: 0.9119 - false_negatives: 35.0000 - false_positives: 29.0000 - true_negatives: 1027.0000 - true_positives: 317.0000 - val_loss: 2.1657 - val_Accuracy: 0.5978 - val_false_negatives: 37.0000 - val_false_positives: 37.0000 - val_true_negatives: 239.0000 - val_true_positives: 55.0000\n",
            "Epoch 163/200\n",
            "44/44 [==============================] - 1s 15ms/step - loss: 0.2047 - Accuracy: 0.9233 - false_negatives: 30.0000 - false_positives: 23.0000 - true_negatives: 1033.0000 - true_positives: 322.0000 - val_loss: 2.4870 - val_Accuracy: 0.6087 - val_false_negatives: 36.0000 - val_false_positives: 36.0000 - val_true_negatives: 240.0000 - val_true_positives: 56.0000\n",
            "Epoch 164/200\n",
            "44/44 [==============================] - 1s 15ms/step - loss: 0.2413 - Accuracy: 0.9176 - false_negatives: 30.0000 - false_positives: 27.0000 - true_negatives: 1029.0000 - true_positives: 322.0000 - val_loss: 2.3587 - val_Accuracy: 0.5543 - val_false_negatives: 43.0000 - val_false_positives: 39.0000 - val_true_negatives: 237.0000 - val_true_positives: 49.0000\n",
            "Epoch 165/200\n",
            "44/44 [==============================] - 1s 15ms/step - loss: 0.2412 - Accuracy: 0.9318 - false_negatives: 27.0000 - false_positives: 22.0000 - true_negatives: 1034.0000 - true_positives: 325.0000 - val_loss: 2.8992 - val_Accuracy: 0.5761 - val_false_negatives: 39.0000 - val_false_positives: 39.0000 - val_true_negatives: 237.0000 - val_true_positives: 53.0000\n",
            "Epoch 166/200\n",
            "44/44 [==============================] - 1s 15ms/step - loss: 0.2858 - Accuracy: 0.8949 - false_negatives: 38.0000 - false_positives: 31.0000 - true_negatives: 1025.0000 - true_positives: 314.0000 - val_loss: 2.1945 - val_Accuracy: 0.5652 - val_false_negatives: 42.0000 - val_false_positives: 38.0000 - val_true_negatives: 238.0000 - val_true_positives: 50.0000\n",
            "Epoch 167/200\n",
            "44/44 [==============================] - 1s 15ms/step - loss: 0.2681 - Accuracy: 0.9034 - false_negatives: 37.0000 - false_positives: 31.0000 - true_negatives: 1025.0000 - true_positives: 315.0000 - val_loss: 2.1404 - val_Accuracy: 0.6196 - val_false_negatives: 35.0000 - val_false_positives: 34.0000 - val_true_negatives: 242.0000 - val_true_positives: 57.0000\n",
            "Epoch 168/200\n",
            "44/44 [==============================] - 1s 15ms/step - loss: 0.2296 - Accuracy: 0.9205 - false_negatives: 31.0000 - false_positives: 26.0000 - true_negatives: 1030.0000 - true_positives: 321.0000 - val_loss: 2.7564 - val_Accuracy: 0.5652 - val_false_negatives: 40.0000 - val_false_positives: 40.0000 - val_true_negatives: 236.0000 - val_true_positives: 52.0000\n",
            "Epoch 169/200\n",
            "44/44 [==============================] - 1s 15ms/step - loss: 0.2933 - Accuracy: 0.8920 - false_negatives: 42.0000 - false_positives: 32.0000 - true_negatives: 1024.0000 - true_positives: 310.0000 - val_loss: 2.1338 - val_Accuracy: 0.6087 - val_false_negatives: 36.0000 - val_false_positives: 34.0000 - val_true_negatives: 242.0000 - val_true_positives: 56.0000\n",
            "Epoch 170/200\n",
            "44/44 [==============================] - 1s 15ms/step - loss: 0.2559 - Accuracy: 0.9034 - false_negatives: 41.0000 - false_positives: 30.0000 - true_negatives: 1026.0000 - true_positives: 311.0000 - val_loss: 1.8566 - val_Accuracy: 0.6304 - val_false_negatives: 35.0000 - val_false_positives: 33.0000 - val_true_negatives: 243.0000 - val_true_positives: 57.0000\n",
            "Epoch 171/200\n",
            "44/44 [==============================] - 1s 15ms/step - loss: 0.2410 - Accuracy: 0.9205 - false_negatives: 30.0000 - false_positives: 26.0000 - true_negatives: 1030.0000 - true_positives: 322.0000 - val_loss: 2.2263 - val_Accuracy: 0.6087 - val_false_negatives: 37.0000 - val_false_positives: 35.0000 - val_true_negatives: 241.0000 - val_true_positives: 55.0000\n",
            "Epoch 172/200\n",
            "44/44 [==============================] - 1s 15ms/step - loss: 0.2502 - Accuracy: 0.9091 - false_negatives: 34.0000 - false_positives: 27.0000 - true_negatives: 1029.0000 - true_positives: 318.0000 - val_loss: 2.0523 - val_Accuracy: 0.6087 - val_false_negatives: 36.0000 - val_false_positives: 35.0000 - val_true_negatives: 241.0000 - val_true_positives: 56.0000\n",
            "Epoch 173/200\n",
            "44/44 [==============================] - 1s 15ms/step - loss: 0.2178 - Accuracy: 0.9347 - false_negatives: 25.0000 - false_positives: 21.0000 - true_negatives: 1035.0000 - true_positives: 327.0000 - val_loss: 2.4083 - val_Accuracy: 0.5978 - val_false_negatives: 38.0000 - val_false_positives: 34.0000 - val_true_negatives: 242.0000 - val_true_positives: 54.0000\n",
            "Epoch 174/200\n",
            "44/44 [==============================] - 1s 15ms/step - loss: 0.2565 - Accuracy: 0.9034 - false_negatives: 36.0000 - false_positives: 27.0000 - true_negatives: 1029.0000 - true_positives: 316.0000 - val_loss: 1.9828 - val_Accuracy: 0.6087 - val_false_negatives: 36.0000 - val_false_positives: 34.0000 - val_true_negatives: 242.0000 - val_true_positives: 56.0000\n",
            "Epoch 175/200\n",
            "44/44 [==============================] - 1s 15ms/step - loss: 0.2489 - Accuracy: 0.8977 - false_negatives: 40.0000 - false_positives: 36.0000 - true_negatives: 1020.0000 - true_positives: 312.0000 - val_loss: 2.3553 - val_Accuracy: 0.6196 - val_false_negatives: 35.0000 - val_false_positives: 34.0000 - val_true_negatives: 242.0000 - val_true_positives: 57.0000\n",
            "Epoch 176/200\n",
            "44/44 [==============================] - 1s 16ms/step - loss: 0.2301 - Accuracy: 0.9233 - false_negatives: 33.0000 - false_positives: 25.0000 - true_negatives: 1031.0000 - true_positives: 319.0000 - val_loss: 2.6018 - val_Accuracy: 0.5978 - val_false_negatives: 38.0000 - val_false_positives: 37.0000 - val_true_negatives: 239.0000 - val_true_positives: 54.0000\n",
            "Epoch 177/200\n",
            "44/44 [==============================] - 1s 15ms/step - loss: 0.2738 - Accuracy: 0.9119 - false_negatives: 36.0000 - false_positives: 26.0000 - true_negatives: 1030.0000 - true_positives: 316.0000 - val_loss: 2.7724 - val_Accuracy: 0.6196 - val_false_negatives: 36.0000 - val_false_positives: 35.0000 - val_true_negatives: 241.0000 - val_true_positives: 56.0000\n",
            "Epoch 178/200\n",
            "44/44 [==============================] - 1s 16ms/step - loss: 0.2649 - Accuracy: 0.9119 - false_negatives: 32.0000 - false_positives: 30.0000 - true_negatives: 1026.0000 - true_positives: 320.0000 - val_loss: 1.6728 - val_Accuracy: 0.6522 - val_false_negatives: 32.0000 - val_false_positives: 32.0000 - val_true_negatives: 244.0000 - val_true_positives: 60.0000\n",
            "Epoch 179/200\n",
            "44/44 [==============================] - 1s 15ms/step - loss: 0.1887 - Accuracy: 0.9290 - false_negatives: 28.0000 - false_positives: 25.0000 - true_negatives: 1031.0000 - true_positives: 324.0000 - val_loss: 2.1560 - val_Accuracy: 0.6413 - val_false_negatives: 33.0000 - val_false_positives: 33.0000 - val_true_negatives: 243.0000 - val_true_positives: 59.0000\n",
            "Epoch 180/200\n",
            "44/44 [==============================] - 1s 16ms/step - loss: 0.2541 - Accuracy: 0.9119 - false_negatives: 32.0000 - false_positives: 28.0000 - true_negatives: 1028.0000 - true_positives: 320.0000 - val_loss: 2.3157 - val_Accuracy: 0.5652 - val_false_negatives: 42.0000 - val_false_positives: 37.0000 - val_true_negatives: 239.0000 - val_true_positives: 50.0000\n",
            "Epoch 181/200\n",
            "44/44 [==============================] - 1s 15ms/step - loss: 0.1949 - Accuracy: 0.9176 - false_negatives: 29.0000 - false_positives: 24.0000 - true_negatives: 1032.0000 - true_positives: 323.0000 - val_loss: 2.5648 - val_Accuracy: 0.5326 - val_false_negatives: 43.0000 - val_false_positives: 42.0000 - val_true_negatives: 234.0000 - val_true_positives: 49.0000\n",
            "Epoch 182/200\n",
            "44/44 [==============================] - 1s 15ms/step - loss: 0.2281 - Accuracy: 0.9347 - false_negatives: 24.0000 - false_positives: 21.0000 - true_negatives: 1035.0000 - true_positives: 328.0000 - val_loss: 1.8386 - val_Accuracy: 0.6413 - val_false_negatives: 33.0000 - val_false_positives: 33.0000 - val_true_negatives: 243.0000 - val_true_positives: 59.0000\n",
            "Epoch 183/200\n",
            "44/44 [==============================] - 1s 15ms/step - loss: 0.1924 - Accuracy: 0.9233 - false_negatives: 32.0000 - false_positives: 23.0000 - true_negatives: 1033.0000 - true_positives: 320.0000 - val_loss: 2.4015 - val_Accuracy: 0.5978 - val_false_negatives: 37.0000 - val_false_positives: 36.0000 - val_true_negatives: 240.0000 - val_true_positives: 55.0000\n",
            "Epoch 184/200\n",
            "44/44 [==============================] - 1s 16ms/step - loss: 0.2415 - Accuracy: 0.9062 - false_negatives: 33.0000 - false_positives: 29.0000 - true_negatives: 1027.0000 - true_positives: 319.0000 - val_loss: 1.9767 - val_Accuracy: 0.6196 - val_false_negatives: 36.0000 - val_false_positives: 35.0000 - val_true_negatives: 241.0000 - val_true_positives: 56.0000\n",
            "Epoch 185/200\n",
            "44/44 [==============================] - 1s 15ms/step - loss: 0.2144 - Accuracy: 0.9347 - false_negatives: 24.0000 - false_positives: 23.0000 - true_negatives: 1033.0000 - true_positives: 328.0000 - val_loss: 2.3503 - val_Accuracy: 0.5978 - val_false_negatives: 38.0000 - val_false_positives: 36.0000 - val_true_negatives: 240.0000 - val_true_positives: 54.0000\n",
            "Epoch 186/200\n",
            "44/44 [==============================] - 1s 15ms/step - loss: 0.2797 - Accuracy: 0.9006 - false_negatives: 38.0000 - false_positives: 32.0000 - true_negatives: 1024.0000 - true_positives: 314.0000 - val_loss: 1.9753 - val_Accuracy: 0.6522 - val_false_negatives: 32.0000 - val_false_positives: 31.0000 - val_true_negatives: 245.0000 - val_true_positives: 60.0000\n",
            "Epoch 187/200\n",
            "44/44 [==============================] - 1s 16ms/step - loss: 0.2586 - Accuracy: 0.8977 - false_negatives: 37.0000 - false_positives: 29.0000 - true_negatives: 1027.0000 - true_positives: 315.0000 - val_loss: 2.5293 - val_Accuracy: 0.5761 - val_false_negatives: 39.0000 - val_false_positives: 37.0000 - val_true_negatives: 239.0000 - val_true_positives: 53.0000\n",
            "Epoch 188/200\n",
            "44/44 [==============================] - 1s 16ms/step - loss: 0.1713 - Accuracy: 0.9318 - false_negatives: 24.0000 - false_positives: 21.0000 - true_negatives: 1035.0000 - true_positives: 328.0000 - val_loss: 2.4041 - val_Accuracy: 0.6087 - val_false_negatives: 37.0000 - val_false_positives: 35.0000 - val_true_negatives: 241.0000 - val_true_positives: 55.0000\n",
            "Epoch 189/200\n",
            "44/44 [==============================] - 1s 16ms/step - loss: 0.1668 - Accuracy: 0.9432 - false_negatives: 22.0000 - false_positives: 19.0000 - true_negatives: 1037.0000 - true_positives: 330.0000 - val_loss: 2.5942 - val_Accuracy: 0.6087 - val_false_negatives: 37.0000 - val_false_positives: 36.0000 - val_true_negatives: 240.0000 - val_true_positives: 55.0000\n",
            "Epoch 190/200\n",
            "44/44 [==============================] - 1s 16ms/step - loss: 0.1343 - Accuracy: 0.9659 - false_negatives: 14.0000 - false_positives: 12.0000 - true_negatives: 1044.0000 - true_positives: 338.0000 - val_loss: 2.6702 - val_Accuracy: 0.6304 - val_false_negatives: 34.0000 - val_false_positives: 31.0000 - val_true_negatives: 245.0000 - val_true_positives: 58.0000\n",
            "Epoch 191/200\n",
            "44/44 [==============================] - 1s 15ms/step - loss: 0.1412 - Accuracy: 0.9602 - false_negatives: 15.0000 - false_positives: 14.0000 - true_negatives: 1042.0000 - true_positives: 337.0000 - val_loss: 2.3968 - val_Accuracy: 0.6413 - val_false_negatives: 33.0000 - val_false_positives: 32.0000 - val_true_negatives: 244.0000 - val_true_positives: 59.0000\n",
            "Epoch 192/200\n",
            "44/44 [==============================] - 1s 16ms/step - loss: 0.2116 - Accuracy: 0.9148 - false_negatives: 34.0000 - false_positives: 28.0000 - true_negatives: 1028.0000 - true_positives: 318.0000 - val_loss: 3.6010 - val_Accuracy: 0.6087 - val_false_negatives: 36.0000 - val_false_positives: 35.0000 - val_true_negatives: 241.0000 - val_true_positives: 56.0000\n",
            "Epoch 193/200\n",
            "44/44 [==============================] - 1s 16ms/step - loss: 0.1793 - Accuracy: 0.9432 - false_negatives: 21.0000 - false_positives: 18.0000 - true_negatives: 1038.0000 - true_positives: 331.0000 - val_loss: 2.8404 - val_Accuracy: 0.5978 - val_false_negatives: 37.0000 - val_false_positives: 37.0000 - val_true_negatives: 239.0000 - val_true_positives: 55.0000\n",
            "Epoch 194/200\n",
            "44/44 [==============================] - 1s 16ms/step - loss: 0.1611 - Accuracy: 0.9432 - false_negatives: 22.0000 - false_positives: 17.0000 - true_negatives: 1039.0000 - true_positives: 330.0000 - val_loss: 2.2320 - val_Accuracy: 0.6522 - val_false_negatives: 32.0000 - val_false_positives: 30.0000 - val_true_negatives: 246.0000 - val_true_positives: 60.0000\n",
            "Epoch 195/200\n",
            "44/44 [==============================] - 1s 16ms/step - loss: 0.2296 - Accuracy: 0.9233 - false_negatives: 30.0000 - false_positives: 23.0000 - true_negatives: 1033.0000 - true_positives: 322.0000 - val_loss: 2.6472 - val_Accuracy: 0.6087 - val_false_negatives: 40.0000 - val_false_positives: 35.0000 - val_true_negatives: 241.0000 - val_true_positives: 52.0000\n",
            "Epoch 196/200\n",
            "44/44 [==============================] - 1s 15ms/step - loss: 0.2663 - Accuracy: 0.9119 - false_negatives: 36.0000 - false_positives: 29.0000 - true_negatives: 1027.0000 - true_positives: 316.0000 - val_loss: 2.8051 - val_Accuracy: 0.6196 - val_false_negatives: 35.0000 - val_false_positives: 33.0000 - val_true_negatives: 243.0000 - val_true_positives: 57.0000\n",
            "Epoch 197/200\n",
            "44/44 [==============================] - 1s 16ms/step - loss: 0.1599 - Accuracy: 0.9375 - false_negatives: 24.0000 - false_positives: 20.0000 - true_negatives: 1036.0000 - true_positives: 328.0000 - val_loss: 2.4569 - val_Accuracy: 0.5761 - val_false_negatives: 39.0000 - val_false_positives: 37.0000 - val_true_negatives: 239.0000 - val_true_positives: 53.0000\n",
            "Epoch 198/200\n",
            "44/44 [==============================] - 1s 16ms/step - loss: 0.2029 - Accuracy: 0.9148 - false_negatives: 30.0000 - false_positives: 26.0000 - true_negatives: 1030.0000 - true_positives: 322.0000 - val_loss: 2.4021 - val_Accuracy: 0.6522 - val_false_negatives: 32.0000 - val_false_positives: 31.0000 - val_true_negatives: 245.0000 - val_true_positives: 60.0000\n",
            "Epoch 199/200\n",
            "44/44 [==============================] - 1s 16ms/step - loss: 0.1589 - Accuracy: 0.9489 - false_negatives: 23.0000 - false_positives: 16.0000 - true_negatives: 1040.0000 - true_positives: 329.0000 - val_loss: 3.2008 - val_Accuracy: 0.6196 - val_false_negatives: 37.0000 - val_false_positives: 32.0000 - val_true_negatives: 244.0000 - val_true_positives: 55.0000\n",
            "Epoch 200/200\n",
            "44/44 [==============================] - 1s 16ms/step - loss: 0.1721 - Accuracy: 0.9347 - false_negatives: 25.0000 - false_positives: 22.0000 - true_negatives: 1034.0000 - true_positives: 327.0000 - val_loss: 3.4871 - val_Accuracy: 0.5978 - val_false_negatives: 38.0000 - val_false_positives: 36.0000 - val_true_negatives: 240.0000 - val_true_positives: 54.0000\n"
          ]
        }
      ]
    },
    {
      "cell_type": "markdown",
      "source": [
        "Plotting Traning Result"
      ],
      "metadata": {
        "id": "XZSFG8fXqz7c"
      }
    },
    {
      "cell_type": "code",
      "source": [
        "  #plotting\n",
        "  epochs = range(1, len(history.history['loss'])+1)\n",
        "  plt.title(f\"Grafik loss training iterasi {iterasi}\")\n",
        "  plt.plot(epochs, history.history['loss'], 'r', label='Training Loss')\n",
        "  plt.plot(epochs, history.history['val_loss'], 'b', label='Validation Loss')    \n",
        "  plt.xlabel(\"Epoch\")\n",
        "  plt.ylabel(\"Loss\")\n",
        "  plt.legend()\n",
        "  plt.show()\n"
      ],
      "metadata": {
        "id": "3dXbDrJpY1NK",
        "colab": {
          "base_uri": "https://localhost:8080/",
          "height": 295
        },
        "outputId": "6a906e8a-98fd-4d91-e729-c7f571fd2b31"
      },
      "execution_count": 12,
      "outputs": [
        {
          "output_type": "display_data",
          "data": {
            "text/plain": [
              "<Figure size 432x288 with 1 Axes>"
            ],
            "image/png": "[encoded data removed]"
          },
          "metadata": {
            "needs_background": "light"
          }
        }
      ]
    },
    {
      "cell_type": "code",
      "source": [
        "  #plotting\n",
        "  epochs = range(1, len(history.history['loss'])+1)\n",
        "  plt.title(f\"Grafik Akurasi training iterasi {iterasi}\")\n",
        "  plt.plot(epochs, history.history['Accuracy'], 'r', label='Training Accuracy')\n",
        "  plt.plot(epochs, history.history['val_Accuracy'], 'b', label='Validation Accuracy')    \n",
        "  plt.xlabel(\"Epoch\")\n",
        "  plt.ylabel(\"Accuracy\")\n",
        "  plt.legend()\n",
        "  plt.show()"
      ],
      "metadata": {
        "id": "j3xigprPwlSX",
        "colab": {
          "base_uri": "https://localhost:8080/",
          "height": 295
        },
        "outputId": "c283fc54-95aa-4b37-c61d-def0a67e5fed"
      },
      "execution_count": 13,
      "outputs": [
        {
          "output_type": "display_data",
          "data": {
            "text/plain": [
              "<Figure size 432x288 with 1 Axes>"
            ],
            "image/png": "[encoded data removed]"
          },
          "metadata": {
            "needs_background": "light"
          }
        }
      ]
    },
    {
      "cell_type": "code",
      "source": [
        "import matplotlib.pyplot as plt\n",
        "from sklearn.datasets import make_classification\n",
        "from numpy import mean\n",
        "from sklearn.metrics import confusion_matrix, ConfusionMatrixDisplay, accuracy_score, classification_report, recall_score\n",
        "\n",
        "validation = model.predict(np_image_list_validation)\n",
        "\n",
        "predicted_labels = []\n",
        "correct_labels = []\n",
        "for i in range (len(validation)):\n",
        "  predicted_labels.append(np.argmax(validation[i]))\n",
        "\n",
        "for i in range (len(image_labels_validation)):\n",
        "  correct_labels.append(np.argmax(image_labels_validation[i]))\n",
        "\n",
        "\n",
        "confusion_matrix = confusion_matrix(correct_labels, predicted_labels)\n",
        "disp = ConfusionMatrixDisplay(confusion_matrix=confusion_matrix)  \n",
        "disp.plot()\n",
        "plt.show()\n",
        "print('--------')\n",
        "FP = confusion_matrix.sum(axis=0) - np.diag(confusion_matrix)  \n",
        "FN = confusion_matrix.sum(axis=1) - np.diag(confusion_matrix)\n",
        "TP = np.diag(confusion_matrix)\n",
        "TN = confusion_matrix.sum() - (FP + FN + TP)\n",
        "\n",
        "# Sensitivity, hit rate, recall, or true positive rate\n",
        "TPR = TP/(TP+FN)\n",
        "# Specificity or true negative rate\n",
        "TNR = TN/(TN+FP) \n",
        "# Overall accuracy\n",
        "ACC = (TP+TN)/(TP+FP+FN+TN)\n",
        "\n",
        "print(TP)\n",
        "print(TN)\n",
        "print(FP)\n",
        "print(FN)\n",
        "print('--------')\n",
        "print(ACC)\n",
        "print(TPR)\n",
        "print(TNR)\n",
        "print('--------')\n",
        "\n",
        "TP = sum(TP)\n",
        "TN = sum(TN)\n",
        "FP = sum(FP)\n",
        "FN = sum(FN)\n",
        "\n",
        "# Sensitivity, hit rate, recall, or true positive rate\n",
        "TPR = TP/(TP+FN)\n",
        "# Specificity or true negative rate\n",
        "TNR = TN/(TN+FP) \n",
        "# Overall accuracy\n",
        "ACC = (TP+TN)/(TP+FP+FN+TN)\n",
        "\n",
        "print(TP)\n",
        "print(TN)\n",
        "print(FP)\n",
        "print(FN)\n",
        "print('--------')\n",
        "print(ACC)\n",
        "print(TPR)\n",
        "print(TNR)"
      ],
      "metadata": {
        "colab": {
          "base_uri": "https://localhost:8080/",
          "height": 591
        },
        "id": "y0RigLm76Rpg",
        "outputId": "9387dc67-3a42-4723-870a-ff46ddced109"
      },
      "execution_count": 14,
      "outputs": [
        {
          "output_type": "display_data",
          "data": {
            "text/plain": [
              "<Figure size 432x288 with 2 Axes>"
            ],
            "image/png": "[encoded data removed]"
          },
          "metadata": {
            "needs_background": "light"
          }
        },
        {
          "output_type": "stream",
          "name": "stdout",
          "text": [
            "--------\n",
            "[ 2  8 24 21]\n",
            "[65 73 57 44]\n",
            "[17  5  7  8]\n",
            "[ 8  6  4 19]\n",
            "--------\n",
            "[0.72826087 0.88043478 0.88043478 0.70652174]\n",
            "[0.2        0.57142857 0.85714286 0.525     ]\n",
            "[0.79268293 0.93589744 0.890625   0.84615385]\n",
            "--------\n",
            "55\n",
            "239\n",
            "37\n",
            "37\n",
            "--------\n",
            "0.7989130434782609\n",
            "0.5978260869565217\n",
            "0.8659420289855072\n"
          ]
        }
      ]
    },
    {
      "cell_type": "code",
      "source": [
        "import matplotlib.pyplot as plt\n",
        "from sklearn.datasets import make_classification\n",
        "from numpy import mean\n",
        "from sklearn.metrics import confusion_matrix, ConfusionMatrixDisplay, accuracy_score, classification_report, recall_score\n",
        "\n",
        "test = model.predict(np_image_list_test)\n",
        "\n",
        "predicted_labels = []\n",
        "correct_labels = []\n",
        "for i in range (len(test)):\n",
        "  predicted_labels.append(np.argmax(test[i]))\n",
        "\n",
        "for i in range (len(image_labels_test)):\n",
        "  correct_labels.append(np.argmax(image_labels_test[i]))\n",
        "\n",
        "\n",
        "confusion_matrix = confusion_matrix(correct_labels, predicted_labels)\n",
        "disp = ConfusionMatrixDisplay(confusion_matrix=confusion_matrix)  \n",
        "disp.plot()\n",
        "plt.show()\n",
        "print('--------')\n",
        "FP = confusion_matrix.sum(axis=0) - np.diag(confusion_matrix)  \n",
        "FN = confusion_matrix.sum(axis=1) - np.diag(confusion_matrix)\n",
        "TP = np.diag(confusion_matrix)\n",
        "TN = confusion_matrix.sum() - (FP + FN + TP)\n",
        "\n",
        "# Sensitivity, hit rate, recall, or true positive rate\n",
        "TPR = TP/(TP+FN)\n",
        "# Specificity or true negative rate\n",
        "TNR = TN/(TN+FP) \n",
        "# Overall accuracy\n",
        "ACC = (TP+TN)/(TP+FP+FN+TN)\n",
        "\n",
        "print(TP)\n",
        "print(TN)\n",
        "print(FP)\n",
        "print(FN)\n",
        "print('--------')\n",
        "print(ACC)\n",
        "print(TPR)\n",
        "print(TNR)\n",
        "print('--------')\n",
        "\n",
        "TP = sum(TP)\n",
        "TN = sum(TN)\n",
        "FP = sum(FP)\n",
        "FN = sum(FN)\n",
        "\n",
        "# Sensitivity, hit rate, recall, or true positive rate\n",
        "TPR = TP/(TP+FN)\n",
        "# Specificity or true negative rate\n",
        "TNR = TN/(TN+FP) \n",
        "# Overall accuracy\n",
        "ACC = (TP+TN)/(TP+FP+FN+TN)\n",
        "\n",
        "print(TP)\n",
        "print(TN)\n",
        "print(FP)\n",
        "print(FN)\n",
        "print('--------')\n",
        "print(ACC)\n",
        "print(TPR)\n",
        "print(TNR)"
      ],
      "metadata": {
        "colab": {
          "base_uri": "https://localhost:8080/",
          "height": 591
        },
        "id": "xufCN02P5v4A",
        "outputId": "21db8721-abb6-4210-9afe-32c14d968d3a"
      },
      "execution_count": 15,
      "outputs": [
        {
          "output_type": "display_data",
          "data": {
            "text/plain": [
              "<Figure size 432x288 with 2 Axes>"
            ],
            "image/png": "[encoded data removed]"
          },
          "metadata": {
            "needs_background": "light"
          }
        },
        {
          "output_type": "stream",
          "name": "stdout",
          "text": [
            "--------\n",
            "[ 2  6 11 36]\n",
            "[89 81 66 39]\n",
            "[ 9 13 12 21]\n",
            "[10 10 21 14]\n",
            "--------\n",
            "[0.82727273 0.79090909 0.7        0.68181818]\n",
            "[0.16666667 0.375      0.34375    0.72      ]\n",
            "[0.90816327 0.86170213 0.84615385 0.65      ]\n",
            "--------\n",
            "55\n",
            "275\n",
            "55\n",
            "55\n",
            "--------\n",
            "0.75\n",
            "0.5\n",
            "0.8333333333333334\n"
          ]
        }
      ]
    },
    {
      "cell_type": "markdown",
      "metadata": {
        "id": "bTgk1-sdzmgy"
      },
      "source": [
        "**Validating** Network"
      ]
    },
    {
      "cell_type": "code",
      "source": [
        "\n"
      ],
      "metadata": {
        "id": "d_NBE4KkWuhu"
      },
      "execution_count": 15,
      "outputs": []
    },
    {
      "cell_type": "markdown",
      "source": [
        "**Testing** Network"
      ],
      "metadata": {
        "id": "saJYjKqX9tRL"
      }
    },
    {
      "cell_type": "code",
      "source": [
        "\n"
      ],
      "metadata": {
        "id": "A7DR52hmTc75"
      },
      "execution_count": 15,
      "outputs": []
    },
    {
      "cell_type": "code",
      "source": [
        "test_img = cv2.imread('/content/Datasets/fold5/Test/apel_sehat/apel_sehat (1).jpg')\n",
        "\n",
        "plt.imshow(test_img)\n",
        "test_img = test_img / 255\n",
        "test_img = np.expand_dims(test_img, axis=0)\n",
        "pr=model.predict(test_img)\n",
        "\n",
        "print(pr)\n",
        "output = label_binarizer.inverse_transform(pr)\n",
        "print(output)"
      ],
      "metadata": {
        "colab": {
          "base_uri": "https://localhost:8080/",
          "height": 303
        },
        "id": "zkMI6CwJArvo",
        "outputId": "915ba3ae-bd58-4a77-c768-cd857064235f"
      },
      "execution_count": 16,
      "outputs": [
        {
          "output_type": "stream",
          "name": "stdout",
          "text": [
            "[[2.0304303e-07 8.4348658e-06 2.2411507e-02 9.7757989e-01]]\n",
            "['apel_sehat']\n"
          ]
        },
        {
          "output_type": "display_data",
          "data": {
            "text/plain": [
              "<Figure size 432x288 with 1 Axes>"
            ],
            "image/png": "[encoded data removed]"
          },
          "metadata": {
            "needs_background": "light"
          }
        }
      ]
    },
    {
      "cell_type": "code",
      "source": [
        "# save the model to disk\n",
        "#print(\"[INFO] Saving model...\")\n",
        "#pickle.dump(model,open('cnn_model.pkl', 'wb'))\n",
        "#model.save('/content/fold1.h5')"
      ],
      "metadata": {
        "id": "Wr_b8qBuCAIS"
      },
      "execution_count": 17,
      "outputs": []
    }
  ]
}