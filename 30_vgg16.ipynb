{
  "nbformat": 4,
  "nbformat_minor": 0,
  "metadata": {
    "accelerator": "GPU",
    "colab": {
      "name": "Kodingan Skripsi 5 (VGG16)",
      "provenance": [],
      "collapsed_sections": [],
      "include_colab_link": true
    },
    "kernelspec": {
      "display_name": "Python 3",
      "language": "python",
      "name": "python3"
    },
    "language_info": {
      "codemirror_mode": {
        "name": "ipython",
        "version": 3
      },
      "file_extension": ".py",
      "mimetype": "text/x-python",
      "name": "python",
      "nbconvert_exporter": "python",
      "pygments_lexer": "ipython3",
      "version": "3.6.6"
    }
  },
  "cells": [
    {
      "cell_type": "markdown",
      "metadata": {
        "id": "view-in-github",
        "colab_type": "text"
      },
      "source": [
        "<a href=\"https://colab.research.google.com/github/TaufiqIdrus/Python-Projects/blob/master/30_vgg16.ipynb\" target=\"_parent\"><img src=\"https://colab.research.google.com/assets/colab-badge.svg\" alt=\"Open In Colab\"/></a>"
      ]
    },
    {
      "cell_type": "markdown",
      "metadata": {
        "id": "yJT_kQA2lITS"
      },
      "source": [
        "**Identifikasi Penyakit Pada Tanaman Apel menggunakan Convolutional Neural Network**"
      ]
    },
    {
      "cell_type": "code",
      "metadata": {
        "id": "xXeOaYTUzmgT"
      },
      "source": [
        "import numpy as np\n",
        "import pickle\n",
        "import os\n",
        "import cv2\n",
        "import tensorflow as tf\n",
        "import keras\n",
        "from os import listdir\n",
        "from sklearn.preprocessing import LabelBinarizer\n",
        "from sklearn.model_selection import KFold\n",
        "from keras.models import Sequential\n",
        "from keras.layers.normalization import batch_normalization\n",
        "from keras.layers.convolutional import Conv2D\n",
        "from keras.layers.convolutional import MaxPooling2D\n",
        "from keras.layers.core import Activation, Flatten, Dropout, Dense\n",
        "from keras import backend as K\n",
        "from tensorflow.keras.optimizers import Adam\n",
        "from keras.preprocessing import image\n",
        "from sklearn.preprocessing import MultiLabelBinarizer\n",
        "from sklearn.model_selection import train_test_split\n",
        "import matplotlib.pyplot as plt\n",
        "from sklearn.datasets import make_classification\n",
        "from numpy import mean\n",
        "from sklearn.metrics import confusion_matrix, ConfusionMatrixDisplay, accuracy_score, classification_report, recall_score\n"
      ],
      "execution_count": 1,
      "outputs": []
    },
    {
      "cell_type": "markdown",
      "metadata": {
        "id": "fp8C0d28lQok"
      },
      "source": [
        "Importing and Preparing Dataset"
      ]
    },
    {
      "cell_type": "code",
      "metadata": {
        "id": "_0xehllADlUs",
        "colab": {
          "base_uri": "https://localhost:8080/"
        },
        "outputId": "0f88a31a-9ea4-4d75-f4eb-aec3613a57a6"
      },
      "source": [
        "!pip install pyunpack\n",
        "!pip install patool\n",
        "from pyunpack import Archive\n",
        "Archive('/content/fold1.rar').extractall('/content/Datasets/')\n",
        "iterasi = 1\n",
        "width=60\n",
        "height=60\n",
        "default_image_size = tuple((height, width))\n",
        "directory_root_train = '/content/Datasets/fold1/Train'\n",
        "directory_root_validation = '/content/Datasets/fold1/Validation'\n",
        "directory_root_test = '/content/Datasets/fold1/Test'\n",
        "image_size = 0\n",
        "depth=3"
      ],
      "execution_count": 2,
      "outputs": [
        {
          "output_type": "stream",
          "name": "stdout",
          "text": [
            "Looking in indexes: https://pypi.org/simple, https://us-python.pkg.dev/colab-wheels/public/simple/\n",
            "Collecting pyunpack\n",
            "  Downloading pyunpack-0.3-py2.py3-none-any.whl (4.1 kB)\n",
            "Collecting easyprocess\n",
            "  Downloading EasyProcess-1.1-py3-none-any.whl (8.7 kB)\n",
            "Collecting entrypoint2\n",
            "  Downloading entrypoint2-1.1-py2.py3-none-any.whl (9.9 kB)\n",
            "Installing collected packages: entrypoint2, easyprocess, pyunpack\n",
            "Successfully installed easyprocess-1.1 entrypoint2-1.1 pyunpack-0.3\n",
            "Looking in indexes: https://pypi.org/simple, https://us-python.pkg.dev/colab-wheels/public/simple/\n",
            "Collecting patool\n",
            "  Downloading patool-1.12-py2.py3-none-any.whl (77 kB)\n",
            "\u001b[K     |████████████████████████████████| 77 kB 4.4 MB/s \n",
            "\u001b[?25hInstalling collected packages: patool\n",
            "Successfully installed patool-1.12\n"
          ]
        }
      ]
    },
    {
      "cell_type": "code",
      "metadata": {
        "id": "KbAwJJTpzmge"
      },
      "source": [
        "def convert_image_to_array(image_dir):\n",
        "    try:\n",
        "        image = cv2.imread(image_dir)\n",
        "        if image is not None :\n",
        "            image = cv2.resize(image, default_image_size)   \n",
        "            return keras.preprocessing.image.img_to_array(image)\n",
        "        else :\n",
        "            return np.array([])\n",
        "    except Exception as e:\n",
        "        print(f\"Error : {e}\")\n",
        "        return None"
      ],
      "execution_count": 3,
      "outputs": []
    },
    {
      "cell_type": "markdown",
      "source": [
        "Converting **Training** Data to Array"
      ],
      "metadata": {
        "id": "bgXxUMO2cI_D"
      }
    },
    {
      "cell_type": "code",
      "metadata": {
        "id": "Erz6IjKXzmgg",
        "colab": {
          "base_uri": "https://localhost:8080/"
        },
        "outputId": "cd852b20-7003-40e0-99f2-58908ed22c3d"
      },
      "source": [
        "import numpy as np\n",
        "from os import listdir\n",
        "from sklearn.preprocessing import LabelBinarizer\n",
        "import pickle\n",
        "image_list_train, label_list_train = [], []\n",
        "try:\n",
        "    print(\"[INFO] Loading images ...\")\n",
        "    root_dir = listdir(directory_root_train)\n",
        "\n",
        "    for plant_disease_folder in root_dir:\n",
        "        print(f\"[INFO] Processing {plant_disease_folder} ...\")\n",
        "        plant_disease_image_list = listdir(f\"{directory_root_train}/{plant_disease_folder}/\")\n",
        "      \n",
        "        for image in plant_disease_image_list:\n",
        "            image_directory = f\"{directory_root_train}/{plant_disease_folder}/{image}\"\n",
        "\n",
        "            if image_directory.endswith(\".jpg\") == True or image_directory.endswith(\".JPG\") == True:\n",
        "                image_list_train.append(convert_image_to_array(image_directory))\n",
        "                label_list_train.append(plant_disease_folder)\n",
        "    print(\"[INFO] Image loading completed\")\n",
        "\n",
        "except Exception as e:\n",
        "    print(f\"Error : {e}\")\n",
        "\n",
        "#image labeling\n",
        "image_size = len(image_list_train)\n",
        "label_binarizer = LabelBinarizer()\n",
        "image_labels_train = label_binarizer.fit_transform(label_list_train)\n",
        "pickle.dump(label_binarizer,open('label_transform_train.pkl', 'wb'))\n",
        "n_classes = len(label_binarizer.classes_)\n",
        "np_image_list_train = np.array(image_list_train, dtype=np.float16) / 255.0"
      ],
      "execution_count": 4,
      "outputs": [
        {
          "output_type": "stream",
          "name": "stdout",
          "text": [
            "[INFO] Loading images ...\n",
            "[INFO] Processing apel_sehat ...\n",
            "[INFO] Processing apel_busuk_buah ...\n",
            "[INFO] Processing apel_bercak_daun ...\n",
            "[INFO] Processing apel_cacar_daun ...\n",
            "[INFO] Image loading completed\n"
          ]
        }
      ]
    },
    {
      "cell_type": "markdown",
      "source": [
        "Converting **Validation** Data to Array"
      ],
      "metadata": {
        "id": "7eEMGiqRd_E4"
      }
    },
    {
      "cell_type": "code",
      "source": [
        "image_list_validation, label_list_validation = [], []\n",
        "try:\n",
        "    print(\"[INFO] Loading images ...\")\n",
        "    root_dir = listdir(directory_root_validation)\n",
        "\n",
        "    for plant_disease_folder in root_dir:\n",
        "        print(f\"[INFO] Processing {plant_disease_folder} ...\")\n",
        "        plant_disease_image_list = listdir(f\"{directory_root_validation}/{plant_disease_folder}/\")\n",
        "      \n",
        "        for image in plant_disease_image_list:\n",
        "            image_directory = f\"{directory_root_validation}/{plant_disease_folder}/{image}\"\n",
        "\n",
        "            if image_directory.endswith(\".jpg\") == True or image_directory.endswith(\".JPG\") == True:\n",
        "                image_list_validation.append(convert_image_to_array(image_directory))\n",
        "                label_list_validation.append(plant_disease_folder)\n",
        "    print(\"[INFO] Image loading completed\")\n",
        "\n",
        "except Exception as e:\n",
        "    print(f\"Error : {e}\")\n",
        "\n",
        "#image labeling\n",
        "image_size = len(image_list_validation)\n",
        "label_binarizer = LabelBinarizer()\n",
        "image_labels_validation = label_binarizer.fit_transform(label_list_validation)\n",
        "pickle.dump(label_binarizer,open('label_transform_validation.pkl', 'wb'))\n",
        "n_classes = len(label_binarizer.classes_)\n",
        "np_image_list_validation = np.array(image_list_validation, dtype=np.float16) / 255.0"
      ],
      "metadata": {
        "id": "wfHDdR0ZeEuU",
        "colab": {
          "base_uri": "https://localhost:8080/"
        },
        "outputId": "1c194670-cf3e-4b3c-9937-7292c9f73cc4"
      },
      "execution_count": 5,
      "outputs": [
        {
          "output_type": "stream",
          "name": "stdout",
          "text": [
            "[INFO] Loading images ...\n",
            "[INFO] Processing apel_sehat ...\n",
            "[INFO] Processing apel_busuk_buah ...\n",
            "[INFO] Processing apel_bercak_daun ...\n",
            "[INFO] Processing apel_cacar_daun ...\n",
            "[INFO] Image loading completed\n"
          ]
        }
      ]
    },
    {
      "cell_type": "markdown",
      "source": [
        "Converting **Testing** Data to Array"
      ],
      "metadata": {
        "id": "brwWyZVncTdg"
      }
    },
    {
      "cell_type": "code",
      "metadata": {
        "id": "uNPby5UMcaWY",
        "colab": {
          "base_uri": "https://localhost:8080/"
        },
        "outputId": "de2dffa0-162f-4f9c-e720-8567b1df24b2"
      },
      "source": [
        "image_list_test, label_list_test = [], []\n",
        "try:\n",
        "    print(\"[INFO] Loading images ...\")\n",
        "    root_dir = listdir(directory_root_test)\n",
        "\n",
        "    for plant_disease_folder in root_dir:\n",
        "        print(f\"[INFO] Processing {plant_disease_folder} ...\")\n",
        "        plant_disease_image_list = listdir(f\"{directory_root_test}/{plant_disease_folder}/\")\n",
        "      \n",
        "        for image in plant_disease_image_list:\n",
        "            image_directory = f\"{directory_root_test}/{plant_disease_folder}/{image}\"\n",
        "\n",
        "            if image_directory.endswith(\".jpg\") == True or image_directory.endswith(\".JPG\") == True:\n",
        "                image_list_test.append(convert_image_to_array(image_directory))\n",
        "                label_list_test.append(plant_disease_folder)\n",
        "    print(\"[INFO] Image loading completed\")\n",
        "\n",
        "except Exception as e:\n",
        "    print(f\"Error : {e}\")\n",
        "\n",
        "#image labeling\n",
        "image_size = len(image_list_test)\n",
        "label_binarizer = LabelBinarizer()\n",
        "image_labels_test = label_binarizer.fit_transform(label_list_test)\n",
        "pickle.dump(label_binarizer,open('label_transform_test.pkl', 'wb'))\n",
        "n_classes = len(label_binarizer.classes_)\n",
        "np_image_list_test = np.array(image_list_test, dtype=np.float16) / 255.0"
      ],
      "execution_count": 6,
      "outputs": [
        {
          "output_type": "stream",
          "name": "stdout",
          "text": [
            "[INFO] Loading images ...\n",
            "[INFO] Processing apel_sehat ...\n",
            "[INFO] Processing apel_busuk_buah ...\n",
            "[INFO] Processing apel_bercak_daun ...\n",
            "[INFO] Processing apel_cacar_daun ...\n",
            "[INFO] Image loading completed\n"
          ]
        }
      ]
    },
    {
      "cell_type": "markdown",
      "metadata": {
        "id": "jYBTFN0CnAi7"
      },
      "source": [
        "Data Augmenting Initialization"
      ]
    },
    {
      "cell_type": "code",
      "metadata": {
        "id": "TLMxMK2Tzmgr"
      },
      "source": [
        "aug = keras.preprocessing.image.ImageDataGenerator(\n",
        "    rotation_range=25, \n",
        "    width_shift_range=0.1,\n",
        "    height_shift_range=0.1, \n",
        "    shear_range=0.2, \n",
        "    zoom_range=0.2,\n",
        "    horizontal_flip=True, \n",
        "    fill_mode=\"nearest\")"
      ],
      "execution_count": 7,
      "outputs": []
    },
    {
      "cell_type": "markdown",
      "metadata": {
        "id": "H1BfRyYNnGv_"
      },
      "source": [
        "Creating CNN Model"
      ]
    },
    {
      "cell_type": "code",
      "source": [
        "from tensorflow.keras.layers import Input, Conv2D \n",
        "from tensorflow.keras.layers import MaxPool2D, Flatten, Dense, AveragePooling2D\n",
        "from tensorflow.keras import Model\n",
        "# input\n",
        "\n",
        "input = Input(shape =(60,60,3))\n",
        "# 1st Conv Block\n",
        "\n",
        "x = Conv2D (filters =64, kernel_size =3, padding ='same', activation='relu')(input)\n",
        "x = Conv2D (filters =64, kernel_size =3, padding ='same', activation='relu')(x)\n",
        "x = AveragePooling2D(pool_size =2, strides =2, padding ='same')(x)\n",
        "# 2nd Conv Block\n",
        "\n",
        "x = Conv2D (filters =128, kernel_size =3, padding ='same', activation='relu')(x)\n",
        "x = Conv2D (filters =128, kernel_size =3, padding ='same', activation='relu')(x)\n",
        "x = MaxPool2D(pool_size =2, strides =2, padding ='same')(x)\n",
        "# 3rd Conv block\n",
        "\n",
        "x = Conv2D (filters =256, kernel_size =3, padding ='same', activation='relu')(x)\n",
        "x = Conv2D (filters =256, kernel_size =3, padding ='same', activation='relu')(x)\n",
        "x = Conv2D (filters =256, kernel_size =3, padding ='same', activation='relu')(x)\n",
        "x = MaxPool2D(pool_size =2, strides =2, padding ='same')(x)\n",
        "# 4th Conv block\n",
        "\n",
        "x = Conv2D (filters =512, kernel_size =3, padding ='same', activation='relu')(x)\n",
        "x = Conv2D (filters =512, kernel_size =3, padding ='same', activation='relu')(x)\n",
        "x = Conv2D (filters =512, kernel_size =3, padding ='same', activation='relu')(x)\n",
        "x = MaxPool2D(pool_size =2, strides =2, padding ='same')(x)\n",
        "\n",
        "# 5th Conv block\n",
        "\n",
        "x = Conv2D (filters =512, kernel_size =3, padding ='same', activation='relu')(x)\n",
        "x = Conv2D (filters =512, kernel_size =3, padding ='same', activation='relu')(x)\n",
        "x = Conv2D (filters =512, kernel_size =3, padding ='same', activation='relu')(x)\n",
        "x = MaxPool2D(pool_size =2, strides =2, padding ='same')(x)\n",
        "# Fully connected layers\n",
        "\n",
        "x = Flatten()(x)\n",
        "x = Dense(units = 1024, activation ='relu')(x)\n",
        "output = Dense(units = 4, activation ='softmax')(x)\n",
        "# creating the model\n",
        "\n",
        "model = Model (inputs=input, outputs =output)"
      ],
      "metadata": {
        "id": "n3ba8ezfA9sp"
      },
      "execution_count": 8,
      "outputs": []
    },
    {
      "cell_type": "markdown",
      "metadata": {
        "id": "Zfsu3lVfnXFG"
      },
      "source": [
        "**Training** Network"
      ]
    },
    {
      "cell_type": "code",
      "source": [
        "history = None"
      ],
      "metadata": {
        "id": "_Q14CGsDVk8H"
      },
      "execution_count": 9,
      "outputs": []
    },
    {
      "cell_type": "code",
      "metadata": {
        "id": "rvwKwe3Lzmgv",
        "colab": {
          "base_uri": "https://localhost:8080/"
        },
        "outputId": "013f1be0-6822-4ae8-f79e-18bdf169fc3d"
      },
      "source": [
        "EPOCHS = 200\n",
        "INIT_LR = 1e-4\n",
        "BS = 8\n",
        "with tf.device('/GPU:0'):\n",
        "  opt = Adam(learning_rate=INIT_LR, decay=INIT_LR / EPOCHS)\n",
        "  model.compile(loss=\"categorical_crossentropy\", optimizer=opt,metrics=[\"Accuracy\", \"FalseNegatives\", \"FalsePositives\", \"TrueNegatives\", \"TruePositives\"])\n",
        "  \n",
        "  history = model.fit(\n",
        "      aug.flow(np_image_list_train, image_labels_train, batch_size=BS),\n",
        "      validation_data=(np_image_list_validation, image_labels_validation),\n",
        "      steps_per_epoch=len(np_image_list_train) // BS,\n",
        "      epochs=EPOCHS, \n",
        "      verbose=1,\n",
        "      )\n"
      ],
      "execution_count": 10,
      "outputs": [
        {
          "output_type": "stream",
          "name": "stdout",
          "text": [
            "Epoch 1/200\n",
            "44/44 [==============================] - 21s 74ms/step - loss: 1.2939 - Accuracy: 0.4023 - false_negatives: 336.0000 - false_positives: 25.0000 - true_negatives: 1019.0000 - true_positives: 12.0000 - val_loss: 1.2874 - val_Accuracy: 0.4545 - val_false_negatives: 88.0000 - val_false_positives: 0.0000e+00 - val_true_negatives: 264.0000 - val_true_positives: 0.0000e+00\n",
            "Epoch 2/200\n",
            "44/44 [==============================] - 1s 32ms/step - loss: 1.2739 - Accuracy: 0.4483 - false_negatives: 322.0000 - false_positives: 45.0000 - true_negatives: 999.0000 - true_positives: 26.0000 - val_loss: 1.2672 - val_Accuracy: 0.4545 - val_false_negatives: 88.0000 - val_false_positives: 0.0000e+00 - val_true_negatives: 264.0000 - val_true_positives: 0.0000e+00\n",
            "Epoch 3/200\n",
            "44/44 [==============================] - 1s 32ms/step - loss: 1.2664 - Accuracy: 0.4569 - false_negatives: 328.0000 - false_positives: 34.0000 - true_negatives: 1010.0000 - true_positives: 20.0000 - val_loss: 1.2425 - val_Accuracy: 0.4545 - val_false_negatives: 88.0000 - val_false_positives: 0.0000e+00 - val_true_negatives: 264.0000 - val_true_positives: 0.0000e+00\n",
            "Epoch 4/200\n",
            "44/44 [==============================] - 1s 33ms/step - loss: 1.2899 - Accuracy: 0.4454 - false_negatives: 344.0000 - false_positives: 5.0000 - true_negatives: 1039.0000 - true_positives: 4.0000 - val_loss: 1.2832 - val_Accuracy: 0.4545 - val_false_negatives: 88.0000 - val_false_positives: 0.0000e+00 - val_true_negatives: 264.0000 - val_true_positives: 0.0000e+00\n",
            "Epoch 5/200\n",
            "44/44 [==============================] - 1s 32ms/step - loss: 1.2608 - Accuracy: 0.4483 - false_negatives: 320.0000 - false_positives: 36.0000 - true_negatives: 1008.0000 - true_positives: 28.0000 - val_loss: 1.2338 - val_Accuracy: 0.4545 - val_false_negatives: 74.0000 - val_false_positives: 8.0000 - val_true_negatives: 256.0000 - val_true_positives: 14.0000\n",
            "Epoch 6/200\n",
            "44/44 [==============================] - 1s 32ms/step - loss: 1.2341 - Accuracy: 0.4483 - false_negatives: 282.0000 - false_positives: 22.0000 - true_negatives: 1022.0000 - true_positives: 66.0000 - val_loss: 1.3120 - val_Accuracy: 0.4545 - val_false_negatives: 88.0000 - val_false_positives: 0.0000e+00 - val_true_negatives: 264.0000 - val_true_positives: 0.0000e+00\n",
            "Epoch 7/200\n",
            "44/44 [==============================] - 1s 32ms/step - loss: 1.2635 - Accuracy: 0.4569 - false_negatives: 320.0000 - false_positives: 26.0000 - true_negatives: 1018.0000 - true_positives: 28.0000 - val_loss: 1.2534 - val_Accuracy: 0.4545 - val_false_negatives: 88.0000 - val_false_positives: 0.0000e+00 - val_true_negatives: 264.0000 - val_true_positives: 0.0000e+00\n",
            "Epoch 8/200\n",
            "44/44 [==============================] - 1s 33ms/step - loss: 1.2242 - Accuracy: 0.4489 - false_negatives: 299.0000 - false_positives: 30.0000 - true_negatives: 1026.0000 - true_positives: 53.0000 - val_loss: 1.2376 - val_Accuracy: 0.4545 - val_false_negatives: 84.0000 - val_false_positives: 1.0000 - val_true_negatives: 263.0000 - val_true_positives: 4.0000\n",
            "Epoch 9/200\n",
            "44/44 [==============================] - 1s 33ms/step - loss: 1.1310 - Accuracy: 0.4713 - false_negatives: 254.0000 - false_positives: 26.0000 - true_negatives: 1018.0000 - true_positives: 94.0000 - val_loss: 1.2898 - val_Accuracy: 0.4545 - val_false_negatives: 54.0000 - val_false_positives: 26.0000 - val_true_negatives: 238.0000 - val_true_positives: 34.0000\n",
            "Epoch 10/200\n",
            "44/44 [==============================] - 2s 36ms/step - loss: 1.0145 - Accuracy: 0.6264 - false_negatives: 200.0000 - false_positives: 50.0000 - true_negatives: 994.0000 - true_positives: 148.0000 - val_loss: 1.4712 - val_Accuracy: 0.4659 - val_false_negatives: 49.0000 - val_false_positives: 40.0000 - val_true_negatives: 224.0000 - val_true_positives: 39.0000\n",
            "Epoch 11/200\n",
            "44/44 [==============================] - 1s 33ms/step - loss: 0.9713 - Accuracy: 0.6034 - false_negatives: 190.0000 - false_positives: 72.0000 - true_negatives: 972.0000 - true_positives: 158.0000 - val_loss: 1.3547 - val_Accuracy: 0.4659 - val_false_negatives: 48.0000 - val_false_positives: 37.0000 - val_true_negatives: 227.0000 - val_true_positives: 40.0000\n",
            "Epoch 12/200\n",
            "44/44 [==============================] - 1s 33ms/step - loss: 0.9898 - Accuracy: 0.6437 - false_negatives: 188.0000 - false_positives: 71.0000 - true_negatives: 973.0000 - true_positives: 160.0000 - val_loss: 1.2664 - val_Accuracy: 0.4659 - val_false_negatives: 50.0000 - val_false_positives: 29.0000 - val_true_negatives: 235.0000 - val_true_positives: 38.0000\n",
            "Epoch 13/200\n",
            "44/44 [==============================] - 1s 33ms/step - loss: 0.8976 - Accuracy: 0.6523 - false_negatives: 172.0000 - false_positives: 66.0000 - true_negatives: 978.0000 - true_positives: 176.0000 - val_loss: 1.7831 - val_Accuracy: 0.4659 - val_false_negatives: 49.0000 - val_false_positives: 31.0000 - val_true_negatives: 233.0000 - val_true_positives: 39.0000\n",
            "Epoch 14/200\n",
            "44/44 [==============================] - 1s 32ms/step - loss: 0.9600 - Accuracy: 0.6466 - false_negatives: 187.0000 - false_positives: 72.0000 - true_negatives: 972.0000 - true_positives: 161.0000 - val_loss: 1.2815 - val_Accuracy: 0.4886 - val_false_negatives: 59.0000 - val_false_positives: 30.0000 - val_true_negatives: 234.0000 - val_true_positives: 29.0000\n",
            "Epoch 15/200\n",
            "44/44 [==============================] - 1s 33ms/step - loss: 0.9528 - Accuracy: 0.6379 - false_negatives: 158.0000 - false_positives: 78.0000 - true_negatives: 966.0000 - true_positives: 190.0000 - val_loss: 1.5135 - val_Accuracy: 0.4659 - val_false_negatives: 50.0000 - val_false_positives: 32.0000 - val_true_negatives: 232.0000 - val_true_positives: 38.0000\n",
            "Epoch 16/200\n",
            "44/44 [==============================] - 1s 33ms/step - loss: 0.8844 - Accuracy: 0.6753 - false_negatives: 186.0000 - false_positives: 44.0000 - true_negatives: 1000.0000 - true_positives: 162.0000 - val_loss: 1.3600 - val_Accuracy: 0.4886 - val_false_negatives: 48.0000 - val_false_positives: 39.0000 - val_true_negatives: 225.0000 - val_true_positives: 40.0000\n",
            "Epoch 17/200\n",
            "44/44 [==============================] - 1s 33ms/step - loss: 0.8684 - Accuracy: 0.6638 - false_negatives: 133.0000 - false_positives: 90.0000 - true_negatives: 954.0000 - true_positives: 215.0000 - val_loss: 1.3091 - val_Accuracy: 0.4659 - val_false_negatives: 50.0000 - val_false_positives: 38.0000 - val_true_negatives: 226.0000 - val_true_positives: 38.0000\n",
            "Epoch 18/200\n",
            "44/44 [==============================] - 1s 33ms/step - loss: 0.8832 - Accuracy: 0.6609 - false_negatives: 138.0000 - false_positives: 89.0000 - true_negatives: 955.0000 - true_positives: 210.0000 - val_loss: 1.2683 - val_Accuracy: 0.5455 - val_false_negatives: 54.0000 - val_false_positives: 35.0000 - val_true_negatives: 229.0000 - val_true_positives: 34.0000\n",
            "Epoch 19/200\n",
            "44/44 [==============================] - 1s 33ms/step - loss: 0.8374 - Accuracy: 0.6868 - false_negatives: 135.0000 - false_positives: 72.0000 - true_negatives: 972.0000 - true_positives: 213.0000 - val_loss: 1.2791 - val_Accuracy: 0.4886 - val_false_negatives: 52.0000 - val_false_positives: 32.0000 - val_true_negatives: 232.0000 - val_true_positives: 36.0000\n",
            "Epoch 20/200\n",
            "44/44 [==============================] - 1s 32ms/step - loss: 0.8722 - Accuracy: 0.6667 - false_negatives: 128.0000 - false_positives: 86.0000 - true_negatives: 958.0000 - true_positives: 220.0000 - val_loss: 1.2090 - val_Accuracy: 0.5000 - val_false_negatives: 52.0000 - val_false_positives: 32.0000 - val_true_negatives: 232.0000 - val_true_positives: 36.0000\n",
            "Epoch 21/200\n",
            "44/44 [==============================] - 1s 33ms/step - loss: 0.8750 - Accuracy: 0.6638 - false_negatives: 134.0000 - false_positives: 80.0000 - true_negatives: 964.0000 - true_positives: 214.0000 - val_loss: 1.2839 - val_Accuracy: 0.5341 - val_false_negatives: 51.0000 - val_false_positives: 36.0000 - val_true_negatives: 228.0000 - val_true_positives: 37.0000\n",
            "Epoch 22/200\n",
            "44/44 [==============================] - 1s 32ms/step - loss: 0.9005 - Accuracy: 0.6810 - false_negatives: 143.0000 - false_positives: 84.0000 - true_negatives: 960.0000 - true_positives: 205.0000 - val_loss: 1.3336 - val_Accuracy: 0.4659 - val_false_negatives: 52.0000 - val_false_positives: 36.0000 - val_true_negatives: 228.0000 - val_true_positives: 36.0000\n",
            "Epoch 23/200\n",
            "44/44 [==============================] - 1s 32ms/step - loss: 0.8939 - Accuracy: 0.6753 - false_negatives: 131.0000 - false_positives: 85.0000 - true_negatives: 959.0000 - true_positives: 217.0000 - val_loss: 1.3884 - val_Accuracy: 0.4773 - val_false_negatives: 50.0000 - val_false_positives: 39.0000 - val_true_negatives: 225.0000 - val_true_positives: 38.0000\n",
            "Epoch 24/200\n",
            "44/44 [==============================] - 1s 33ms/step - loss: 0.8501 - Accuracy: 0.6897 - false_negatives: 128.0000 - false_positives: 87.0000 - true_negatives: 957.0000 - true_positives: 220.0000 - val_loss: 1.5271 - val_Accuracy: 0.5000 - val_false_negatives: 48.0000 - val_false_positives: 38.0000 - val_true_negatives: 226.0000 - val_true_positives: 40.0000\n",
            "Epoch 25/200\n",
            "44/44 [==============================] - 1s 33ms/step - loss: 0.8291 - Accuracy: 0.6897 - false_negatives: 122.0000 - false_positives: 81.0000 - true_negatives: 963.0000 - true_positives: 226.0000 - val_loss: 1.4088 - val_Accuracy: 0.5000 - val_false_negatives: 50.0000 - val_false_positives: 35.0000 - val_true_negatives: 229.0000 - val_true_positives: 38.0000\n",
            "Epoch 26/200\n",
            "44/44 [==============================] - 1s 32ms/step - loss: 0.8055 - Accuracy: 0.6782 - false_negatives: 130.0000 - false_positives: 69.0000 - true_negatives: 975.0000 - true_positives: 218.0000 - val_loss: 1.5251 - val_Accuracy: 0.4659 - val_false_negatives: 47.0000 - val_false_positives: 43.0000 - val_true_negatives: 221.0000 - val_true_positives: 41.0000\n",
            "Epoch 27/200\n",
            "44/44 [==============================] - 1s 33ms/step - loss: 0.8010 - Accuracy: 0.6868 - false_negatives: 124.0000 - false_positives: 82.0000 - true_negatives: 962.0000 - true_positives: 224.0000 - val_loss: 1.3362 - val_Accuracy: 0.5114 - val_false_negatives: 50.0000 - val_false_positives: 32.0000 - val_true_negatives: 232.0000 - val_true_positives: 38.0000\n",
            "Epoch 28/200\n",
            "44/44 [==============================] - 1s 33ms/step - loss: 0.8012 - Accuracy: 0.6753 - false_negatives: 128.0000 - false_positives: 79.0000 - true_negatives: 965.0000 - true_positives: 220.0000 - val_loss: 1.2767 - val_Accuracy: 0.5455 - val_false_negatives: 50.0000 - val_false_positives: 30.0000 - val_true_negatives: 234.0000 - val_true_positives: 38.0000\n",
            "Epoch 29/200\n",
            "44/44 [==============================] - 1s 33ms/step - loss: 0.8248 - Accuracy: 0.6868 - false_negatives: 146.0000 - false_positives: 64.0000 - true_negatives: 980.0000 - true_positives: 202.0000 - val_loss: 1.4978 - val_Accuracy: 0.4886 - val_false_negatives: 49.0000 - val_false_positives: 34.0000 - val_true_negatives: 230.0000 - val_true_positives: 39.0000\n",
            "Epoch 30/200\n",
            "44/44 [==============================] - 1s 33ms/step - loss: 0.7764 - Accuracy: 0.6983 - false_negatives: 127.0000 - false_positives: 61.0000 - true_negatives: 983.0000 - true_positives: 221.0000 - val_loss: 1.4329 - val_Accuracy: 0.4773 - val_false_negatives: 48.0000 - val_false_positives: 36.0000 - val_true_negatives: 228.0000 - val_true_positives: 40.0000\n",
            "Epoch 31/200\n",
            "44/44 [==============================] - 1s 33ms/step - loss: 0.7516 - Accuracy: 0.7098 - false_negatives: 133.0000 - false_positives: 66.0000 - true_negatives: 978.0000 - true_positives: 215.0000 - val_loss: 1.3759 - val_Accuracy: 0.5114 - val_false_negatives: 50.0000 - val_false_positives: 28.0000 - val_true_negatives: 236.0000 - val_true_positives: 38.0000\n",
            "Epoch 32/200\n",
            "44/44 [==============================] - 1s 33ms/step - loss: 0.7839 - Accuracy: 0.7011 - false_negatives: 119.0000 - false_positives: 73.0000 - true_negatives: 971.0000 - true_positives: 229.0000 - val_loss: 1.3305 - val_Accuracy: 0.5114 - val_false_negatives: 48.0000 - val_false_positives: 32.0000 - val_true_negatives: 232.0000 - val_true_positives: 40.0000\n",
            "Epoch 33/200\n",
            "44/44 [==============================] - 1s 33ms/step - loss: 0.8173 - Accuracy: 0.6839 - false_negatives: 127.0000 - false_positives: 69.0000 - true_negatives: 975.0000 - true_positives: 221.0000 - val_loss: 2.2206 - val_Accuracy: 0.4659 - val_false_negatives: 50.0000 - val_false_positives: 41.0000 - val_true_negatives: 223.0000 - val_true_positives: 38.0000\n",
            "Epoch 34/200\n",
            "44/44 [==============================] - 1s 32ms/step - loss: 0.7726 - Accuracy: 0.7040 - false_negatives: 122.0000 - false_positives: 78.0000 - true_negatives: 966.0000 - true_positives: 226.0000 - val_loss: 1.5292 - val_Accuracy: 0.5455 - val_false_negatives: 48.0000 - val_false_positives: 36.0000 - val_true_negatives: 228.0000 - val_true_positives: 40.0000\n",
            "Epoch 35/200\n",
            "44/44 [==============================] - 1s 33ms/step - loss: 0.7745 - Accuracy: 0.6925 - false_negatives: 124.0000 - false_positives: 68.0000 - true_negatives: 976.0000 - true_positives: 224.0000 - val_loss: 1.3333 - val_Accuracy: 0.5568 - val_false_negatives: 51.0000 - val_false_positives: 32.0000 - val_true_negatives: 232.0000 - val_true_positives: 37.0000\n",
            "Epoch 36/200\n",
            "44/44 [==============================] - 1s 33ms/step - loss: 0.7251 - Accuracy: 0.7270 - false_negatives: 113.0000 - false_positives: 71.0000 - true_negatives: 973.0000 - true_positives: 235.0000 - val_loss: 1.2815 - val_Accuracy: 0.5455 - val_false_negatives: 49.0000 - val_false_positives: 33.0000 - val_true_negatives: 231.0000 - val_true_positives: 39.0000\n",
            "Epoch 37/200\n",
            "44/44 [==============================] - 1s 33ms/step - loss: 0.7390 - Accuracy: 0.7126 - false_negatives: 121.0000 - false_positives: 68.0000 - true_negatives: 976.0000 - true_positives: 227.0000 - val_loss: 1.8770 - val_Accuracy: 0.4773 - val_false_negatives: 47.0000 - val_false_positives: 35.0000 - val_true_negatives: 229.0000 - val_true_positives: 41.0000\n",
            "Epoch 38/200\n",
            "44/44 [==============================] - 1s 33ms/step - loss: 0.7554 - Accuracy: 0.6897 - false_negatives: 128.0000 - false_positives: 59.0000 - true_negatives: 985.0000 - true_positives: 220.0000 - val_loss: 1.3198 - val_Accuracy: 0.5682 - val_false_negatives: 48.0000 - val_false_positives: 32.0000 - val_true_negatives: 232.0000 - val_true_positives: 40.0000\n",
            "Epoch 39/200\n",
            "44/44 [==============================] - 2s 43ms/step - loss: 0.7184 - Accuracy: 0.7155 - false_negatives: 120.0000 - false_positives: 64.0000 - true_negatives: 980.0000 - true_positives: 228.0000 - val_loss: 1.3495 - val_Accuracy: 0.5000 - val_false_negatives: 49.0000 - val_false_positives: 31.0000 - val_true_negatives: 233.0000 - val_true_positives: 39.0000\n",
            "Epoch 40/200\n",
            "44/44 [==============================] - 2s 34ms/step - loss: 0.6980 - Accuracy: 0.7069 - false_negatives: 121.0000 - false_positives: 59.0000 - true_negatives: 985.0000 - true_positives: 227.0000 - val_loss: 1.6180 - val_Accuracy: 0.5000 - val_false_negatives: 48.0000 - val_false_positives: 35.0000 - val_true_negatives: 229.0000 - val_true_positives: 40.0000\n",
            "Epoch 41/200\n",
            "44/44 [==============================] - 1s 33ms/step - loss: 0.7292 - Accuracy: 0.7011 - false_negatives: 121.0000 - false_positives: 64.0000 - true_negatives: 980.0000 - true_positives: 227.0000 - val_loss: 1.5292 - val_Accuracy: 0.5341 - val_false_negatives: 47.0000 - val_false_positives: 34.0000 - val_true_negatives: 230.0000 - val_true_positives: 41.0000\n",
            "Epoch 42/200\n",
            "44/44 [==============================] - 1s 33ms/step - loss: 0.7575 - Accuracy: 0.6954 - false_negatives: 123.0000 - false_positives: 65.0000 - true_negatives: 979.0000 - true_positives: 225.0000 - val_loss: 1.6325 - val_Accuracy: 0.5000 - val_false_negatives: 48.0000 - val_false_positives: 33.0000 - val_true_negatives: 231.0000 - val_true_positives: 40.0000\n",
            "Epoch 43/200\n",
            "44/44 [==============================] - 1s 33ms/step - loss: 0.7115 - Accuracy: 0.7155 - false_negatives: 122.0000 - false_positives: 61.0000 - true_negatives: 983.0000 - true_positives: 226.0000 - val_loss: 1.9389 - val_Accuracy: 0.4886 - val_false_negatives: 48.0000 - val_false_positives: 38.0000 - val_true_negatives: 226.0000 - val_true_positives: 40.0000\n",
            "Epoch 44/200\n",
            "44/44 [==============================] - 1s 33ms/step - loss: 0.7205 - Accuracy: 0.7328 - false_negatives: 115.0000 - false_positives: 64.0000 - true_negatives: 980.0000 - true_positives: 233.0000 - val_loss: 1.5287 - val_Accuracy: 0.5341 - val_false_negatives: 47.0000 - val_false_positives: 26.0000 - val_true_negatives: 238.0000 - val_true_positives: 41.0000\n",
            "Epoch 45/200\n",
            "44/44 [==============================] - 1s 34ms/step - loss: 0.7315 - Accuracy: 0.6954 - false_negatives: 127.0000 - false_positives: 66.0000 - true_negatives: 978.0000 - true_positives: 221.0000 - val_loss: 1.3285 - val_Accuracy: 0.5455 - val_false_negatives: 46.0000 - val_false_positives: 30.0000 - val_true_negatives: 234.0000 - val_true_positives: 42.0000\n",
            "Epoch 46/200\n",
            "44/44 [==============================] - 1s 33ms/step - loss: 0.7604 - Accuracy: 0.7299 - false_negatives: 126.0000 - false_positives: 53.0000 - true_negatives: 991.0000 - true_positives: 222.0000 - val_loss: 1.3690 - val_Accuracy: 0.5114 - val_false_negatives: 47.0000 - val_false_positives: 33.0000 - val_true_negatives: 231.0000 - val_true_positives: 41.0000\n",
            "Epoch 47/200\n",
            "44/44 [==============================] - 2s 34ms/step - loss: 0.7031 - Accuracy: 0.7328 - false_negatives: 120.0000 - false_positives: 62.0000 - true_negatives: 982.0000 - true_positives: 228.0000 - val_loss: 1.1684 - val_Accuracy: 0.5682 - val_false_negatives: 46.0000 - val_false_positives: 24.0000 - val_true_negatives: 240.0000 - val_true_positives: 42.0000\n",
            "Epoch 48/200\n",
            "44/44 [==============================] - 1s 34ms/step - loss: 0.6509 - Accuracy: 0.7414 - false_negatives: 107.0000 - false_positives: 59.0000 - true_negatives: 985.0000 - true_positives: 241.0000 - val_loss: 1.7737 - val_Accuracy: 0.5114 - val_false_negatives: 46.0000 - val_false_positives: 31.0000 - val_true_negatives: 233.0000 - val_true_positives: 42.0000\n",
            "Epoch 49/200\n",
            "44/44 [==============================] - 2s 34ms/step - loss: 0.6978 - Accuracy: 0.7328 - false_negatives: 125.0000 - false_positives: 54.0000 - true_negatives: 990.0000 - true_positives: 223.0000 - val_loss: 1.6323 - val_Accuracy: 0.5227 - val_false_negatives: 43.0000 - val_false_positives: 35.0000 - val_true_negatives: 229.0000 - val_true_positives: 45.0000\n",
            "Epoch 50/200\n",
            "44/44 [==============================] - 1s 33ms/step - loss: 0.6431 - Accuracy: 0.7586 - false_negatives: 103.0000 - false_positives: 62.0000 - true_negatives: 982.0000 - true_positives: 245.0000 - val_loss: 1.5920 - val_Accuracy: 0.5455 - val_false_negatives: 44.0000 - val_false_positives: 26.0000 - val_true_negatives: 238.0000 - val_true_positives: 44.0000\n",
            "Epoch 51/200\n",
            "44/44 [==============================] - 1s 34ms/step - loss: 0.6837 - Accuracy: 0.7299 - false_negatives: 123.0000 - false_positives: 58.0000 - true_negatives: 986.0000 - true_positives: 225.0000 - val_loss: 1.4869 - val_Accuracy: 0.5341 - val_false_negatives: 48.0000 - val_false_positives: 30.0000 - val_true_negatives: 234.0000 - val_true_positives: 40.0000\n",
            "Epoch 52/200\n",
            "44/44 [==============================] - 1s 33ms/step - loss: 0.6319 - Accuracy: 0.7471 - false_negatives: 107.0000 - false_positives: 53.0000 - true_negatives: 991.0000 - true_positives: 241.0000 - val_loss: 1.1549 - val_Accuracy: 0.5909 - val_false_negatives: 48.0000 - val_false_positives: 19.0000 - val_true_negatives: 245.0000 - val_true_positives: 40.0000\n",
            "Epoch 53/200\n",
            "44/44 [==============================] - 1s 33ms/step - loss: 0.6251 - Accuracy: 0.7557 - false_negatives: 107.0000 - false_positives: 51.0000 - true_negatives: 993.0000 - true_positives: 241.0000 - val_loss: 1.5162 - val_Accuracy: 0.5341 - val_false_negatives: 43.0000 - val_false_positives: 29.0000 - val_true_negatives: 235.0000 - val_true_positives: 45.0000\n",
            "Epoch 54/200\n",
            "44/44 [==============================] - 1s 33ms/step - loss: 0.5832 - Accuracy: 0.7759 - false_negatives: 100.0000 - false_positives: 53.0000 - true_negatives: 991.0000 - true_positives: 248.0000 - val_loss: 1.6256 - val_Accuracy: 0.5455 - val_false_negatives: 42.0000 - val_false_positives: 29.0000 - val_true_negatives: 235.0000 - val_true_positives: 46.0000\n",
            "Epoch 55/200\n",
            "44/44 [==============================] - 1s 34ms/step - loss: 0.6192 - Accuracy: 0.7557 - false_negatives: 109.0000 - false_positives: 57.0000 - true_negatives: 987.0000 - true_positives: 239.0000 - val_loss: 1.2425 - val_Accuracy: 0.5682 - val_false_negatives: 46.0000 - val_false_positives: 22.0000 - val_true_negatives: 242.0000 - val_true_positives: 42.0000\n",
            "Epoch 56/200\n",
            "44/44 [==============================] - 1s 34ms/step - loss: 0.5796 - Accuracy: 0.7615 - false_negatives: 98.0000 - false_positives: 61.0000 - true_negatives: 983.0000 - true_positives: 250.0000 - val_loss: 1.4788 - val_Accuracy: 0.5455 - val_false_negatives: 41.0000 - val_false_positives: 32.0000 - val_true_negatives: 232.0000 - val_true_positives: 47.0000\n",
            "Epoch 57/200\n",
            "44/44 [==============================] - 1s 34ms/step - loss: 0.6116 - Accuracy: 0.7557 - false_negatives: 108.0000 - false_positives: 55.0000 - true_negatives: 989.0000 - true_positives: 240.0000 - val_loss: 1.9370 - val_Accuracy: 0.5341 - val_false_negatives: 44.0000 - val_false_positives: 27.0000 - val_true_negatives: 237.0000 - val_true_positives: 44.0000\n",
            "Epoch 58/200\n",
            "44/44 [==============================] - 1s 33ms/step - loss: 0.6632 - Accuracy: 0.7385 - false_negatives: 116.0000 - false_positives: 53.0000 - true_negatives: 991.0000 - true_positives: 232.0000 - val_loss: 1.6136 - val_Accuracy: 0.5682 - val_false_negatives: 41.0000 - val_false_positives: 30.0000 - val_true_negatives: 234.0000 - val_true_positives: 47.0000\n",
            "Epoch 59/200\n",
            "44/44 [==============================] - 1s 33ms/step - loss: 0.5947 - Accuracy: 0.7902 - false_negatives: 102.0000 - false_positives: 48.0000 - true_negatives: 996.0000 - true_positives: 246.0000 - val_loss: 2.3063 - val_Accuracy: 0.5341 - val_false_negatives: 41.0000 - val_false_positives: 34.0000 - val_true_negatives: 230.0000 - val_true_positives: 47.0000\n",
            "Epoch 60/200\n",
            "44/44 [==============================] - 1s 33ms/step - loss: 0.5887 - Accuracy: 0.7816 - false_negatives: 92.0000 - false_positives: 50.0000 - true_negatives: 994.0000 - true_positives: 256.0000 - val_loss: 1.3190 - val_Accuracy: 0.5909 - val_false_negatives: 42.0000 - val_false_positives: 28.0000 - val_true_negatives: 236.0000 - val_true_positives: 46.0000\n",
            "Epoch 61/200\n",
            "44/44 [==============================] - 2s 34ms/step - loss: 0.5799 - Accuracy: 0.7759 - false_negatives: 98.0000 - false_positives: 48.0000 - true_negatives: 996.0000 - true_positives: 250.0000 - val_loss: 1.5761 - val_Accuracy: 0.5227 - val_false_negatives: 45.0000 - val_false_positives: 31.0000 - val_true_negatives: 233.0000 - val_true_positives: 43.0000\n",
            "Epoch 62/200\n",
            "44/44 [==============================] - 2s 35ms/step - loss: 0.6456 - Accuracy: 0.7529 - false_negatives: 110.0000 - false_positives: 57.0000 - true_negatives: 987.0000 - true_positives: 238.0000 - val_loss: 1.2288 - val_Accuracy: 0.5455 - val_false_negatives: 43.0000 - val_false_positives: 28.0000 - val_true_negatives: 236.0000 - val_true_positives: 45.0000\n",
            "Epoch 63/200\n",
            "44/44 [==============================] - 1s 34ms/step - loss: 0.5514 - Accuracy: 0.7960 - false_negatives: 86.0000 - false_positives: 56.0000 - true_negatives: 988.0000 - true_positives: 262.0000 - val_loss: 1.3656 - val_Accuracy: 0.5568 - val_false_negatives: 42.0000 - val_false_positives: 30.0000 - val_true_negatives: 234.0000 - val_true_positives: 46.0000\n",
            "Epoch 64/200\n",
            "44/44 [==============================] - 1s 33ms/step - loss: 0.5415 - Accuracy: 0.7989 - false_negatives: 93.0000 - false_positives: 51.0000 - true_negatives: 993.0000 - true_positives: 255.0000 - val_loss: 1.7319 - val_Accuracy: 0.5682 - val_false_negatives: 40.0000 - val_false_positives: 34.0000 - val_true_negatives: 230.0000 - val_true_positives: 48.0000\n",
            "Epoch 65/200\n",
            "44/44 [==============================] - 1s 34ms/step - loss: 0.5289 - Accuracy: 0.8075 - false_negatives: 81.0000 - false_positives: 47.0000 - true_negatives: 997.0000 - true_positives: 267.0000 - val_loss: 1.5572 - val_Accuracy: 0.5568 - val_false_negatives: 40.0000 - val_false_positives: 32.0000 - val_true_negatives: 232.0000 - val_true_positives: 48.0000\n",
            "Epoch 66/200\n",
            "44/44 [==============================] - 1s 33ms/step - loss: 0.5611 - Accuracy: 0.7960 - false_negatives: 84.0000 - false_positives: 57.0000 - true_negatives: 987.0000 - true_positives: 264.0000 - val_loss: 1.1978 - val_Accuracy: 0.6023 - val_false_negatives: 43.0000 - val_false_positives: 27.0000 - val_true_negatives: 237.0000 - val_true_positives: 45.0000\n",
            "Epoch 67/200\n",
            "44/44 [==============================] - 1s 34ms/step - loss: 0.5832 - Accuracy: 0.7845 - false_negatives: 89.0000 - false_positives: 63.0000 - true_negatives: 981.0000 - true_positives: 259.0000 - val_loss: 1.3016 - val_Accuracy: 0.5909 - val_false_negatives: 45.0000 - val_false_positives: 26.0000 - val_true_negatives: 238.0000 - val_true_positives: 43.0000\n",
            "Epoch 68/200\n",
            "44/44 [==============================] - 1s 33ms/step - loss: 0.5305 - Accuracy: 0.7931 - false_negatives: 95.0000 - false_positives: 41.0000 - true_negatives: 1003.0000 - true_positives: 253.0000 - val_loss: 1.6495 - val_Accuracy: 0.5682 - val_false_negatives: 38.0000 - val_false_positives: 33.0000 - val_true_negatives: 231.0000 - val_true_positives: 50.0000\n",
            "Epoch 69/200\n",
            "44/44 [==============================] - 2s 34ms/step - loss: 0.5403 - Accuracy: 0.7931 - false_negatives: 83.0000 - false_positives: 57.0000 - true_negatives: 987.0000 - true_positives: 265.0000 - val_loss: 1.3304 - val_Accuracy: 0.5568 - val_false_negatives: 41.0000 - val_false_positives: 27.0000 - val_true_negatives: 237.0000 - val_true_positives: 47.0000\n",
            "Epoch 70/200\n",
            "44/44 [==============================] - 1s 33ms/step - loss: 0.4952 - Accuracy: 0.8190 - false_negatives: 72.0000 - false_positives: 48.0000 - true_negatives: 996.0000 - true_positives: 276.0000 - val_loss: 2.0772 - val_Accuracy: 0.5682 - val_false_negatives: 41.0000 - val_false_positives: 34.0000 - val_true_negatives: 230.0000 - val_true_positives: 47.0000\n",
            "Epoch 71/200\n",
            "44/44 [==============================] - 1s 33ms/step - loss: 0.5282 - Accuracy: 0.7902 - false_negatives: 83.0000 - false_positives: 57.0000 - true_negatives: 987.0000 - true_positives: 265.0000 - val_loss: 1.4192 - val_Accuracy: 0.6023 - val_false_negatives: 40.0000 - val_false_positives: 27.0000 - val_true_negatives: 237.0000 - val_true_positives: 48.0000\n",
            "Epoch 72/200\n",
            "44/44 [==============================] - 1s 33ms/step - loss: 0.4882 - Accuracy: 0.8103 - false_negatives: 73.0000 - false_positives: 53.0000 - true_negatives: 991.0000 - true_positives: 275.0000 - val_loss: 1.5531 - val_Accuracy: 0.5795 - val_false_negatives: 40.0000 - val_false_positives: 30.0000 - val_true_negatives: 234.0000 - val_true_positives: 48.0000\n",
            "Epoch 73/200\n",
            "44/44 [==============================] - 1s 33ms/step - loss: 0.4479 - Accuracy: 0.8448 - false_negatives: 63.0000 - false_positives: 41.0000 - true_negatives: 1003.0000 - true_positives: 285.0000 - val_loss: 1.8389 - val_Accuracy: 0.5909 - val_false_negatives: 36.0000 - val_false_positives: 33.0000 - val_true_negatives: 231.0000 - val_true_positives: 52.0000\n",
            "Epoch 74/200\n",
            "44/44 [==============================] - 1s 32ms/step - loss: 0.4929 - Accuracy: 0.8218 - false_negatives: 78.0000 - false_positives: 48.0000 - true_negatives: 996.0000 - true_positives: 270.0000 - val_loss: 1.9399 - val_Accuracy: 0.5795 - val_false_negatives: 39.0000 - val_false_positives: 31.0000 - val_true_negatives: 233.0000 - val_true_positives: 49.0000\n",
            "Epoch 75/200\n",
            "44/44 [==============================] - 2s 34ms/step - loss: 0.4998 - Accuracy: 0.8017 - false_negatives: 82.0000 - false_positives: 46.0000 - true_negatives: 998.0000 - true_positives: 266.0000 - val_loss: 2.4440 - val_Accuracy: 0.5682 - val_false_negatives: 39.0000 - val_false_positives: 35.0000 - val_true_negatives: 229.0000 - val_true_positives: 49.0000\n",
            "Epoch 76/200\n",
            "44/44 [==============================] - 1s 33ms/step - loss: 0.4472 - Accuracy: 0.8621 - false_negatives: 56.0000 - false_positives: 39.0000 - true_negatives: 1005.0000 - true_positives: 292.0000 - val_loss: 1.8277 - val_Accuracy: 0.5909 - val_false_negatives: 37.0000 - val_false_positives: 32.0000 - val_true_negatives: 232.0000 - val_true_positives: 51.0000\n",
            "Epoch 77/200\n",
            "44/44 [==============================] - 1s 33ms/step - loss: 0.5056 - Accuracy: 0.8305 - false_negatives: 68.0000 - false_positives: 45.0000 - true_negatives: 999.0000 - true_positives: 280.0000 - val_loss: 1.8186 - val_Accuracy: 0.5682 - val_false_negatives: 41.0000 - val_false_positives: 33.0000 - val_true_negatives: 231.0000 - val_true_positives: 47.0000\n",
            "Epoch 78/200\n",
            "44/44 [==============================] - 1s 33ms/step - loss: 0.5066 - Accuracy: 0.8132 - false_negatives: 77.0000 - false_positives: 49.0000 - true_negatives: 995.0000 - true_positives: 271.0000 - val_loss: 2.1823 - val_Accuracy: 0.5568 - val_false_negatives: 40.0000 - val_false_positives: 36.0000 - val_true_negatives: 228.0000 - val_true_positives: 48.0000\n",
            "Epoch 79/200\n",
            "44/44 [==============================] - 1s 33ms/step - loss: 0.4868 - Accuracy: 0.7955 - false_negatives: 77.0000 - false_positives: 54.0000 - true_negatives: 1002.0000 - true_positives: 275.0000 - val_loss: 1.5630 - val_Accuracy: 0.5909 - val_false_negatives: 37.0000 - val_false_positives: 32.0000 - val_true_negatives: 232.0000 - val_true_positives: 51.0000\n",
            "Epoch 80/200\n",
            "44/44 [==============================] - 2s 34ms/step - loss: 0.4351 - Accuracy: 0.8305 - false_negatives: 65.0000 - false_positives: 44.0000 - true_negatives: 1000.0000 - true_positives: 283.0000 - val_loss: 1.4117 - val_Accuracy: 0.5795 - val_false_negatives: 39.0000 - val_false_positives: 29.0000 - val_true_negatives: 235.0000 - val_true_positives: 49.0000\n",
            "Epoch 81/200\n",
            "44/44 [==============================] - 1s 33ms/step - loss: 0.4457 - Accuracy: 0.8333 - false_negatives: 71.0000 - false_positives: 43.0000 - true_negatives: 1001.0000 - true_positives: 277.0000 - val_loss: 1.5498 - val_Accuracy: 0.5795 - val_false_negatives: 40.0000 - val_false_positives: 32.0000 - val_true_negatives: 232.0000 - val_true_positives: 48.0000\n",
            "Epoch 82/200\n",
            "44/44 [==============================] - 1s 34ms/step - loss: 0.5482 - Accuracy: 0.7874 - false_negatives: 87.0000 - false_positives: 55.0000 - true_negatives: 989.0000 - true_positives: 261.0000 - val_loss: 1.8227 - val_Accuracy: 0.5455 - val_false_negatives: 42.0000 - val_false_positives: 34.0000 - val_true_negatives: 230.0000 - val_true_positives: 46.0000\n",
            "Epoch 83/200\n",
            "44/44 [==============================] - 1s 34ms/step - loss: 0.4570 - Accuracy: 0.8276 - false_negatives: 68.0000 - false_positives: 43.0000 - true_negatives: 1001.0000 - true_positives: 280.0000 - val_loss: 1.7787 - val_Accuracy: 0.5909 - val_false_negatives: 37.0000 - val_false_positives: 33.0000 - val_true_negatives: 231.0000 - val_true_positives: 51.0000\n",
            "Epoch 84/200\n",
            "44/44 [==============================] - 2s 34ms/step - loss: 0.4516 - Accuracy: 0.8132 - false_negatives: 71.0000 - false_positives: 43.0000 - true_negatives: 1001.0000 - true_positives: 277.0000 - val_loss: 1.9907 - val_Accuracy: 0.5909 - val_false_negatives: 39.0000 - val_false_positives: 33.0000 - val_true_negatives: 231.0000 - val_true_positives: 49.0000\n",
            "Epoch 85/200\n",
            "44/44 [==============================] - 1s 33ms/step - loss: 0.4452 - Accuracy: 0.8075 - false_negatives: 70.0000 - false_positives: 55.0000 - true_negatives: 989.0000 - true_positives: 278.0000 - val_loss: 1.7017 - val_Accuracy: 0.5455 - val_false_negatives: 41.0000 - val_false_positives: 35.0000 - val_true_negatives: 229.0000 - val_true_positives: 47.0000\n",
            "Epoch 86/200\n",
            "44/44 [==============================] - 1s 33ms/step - loss: 0.3917 - Accuracy: 0.8448 - false_negatives: 65.0000 - false_positives: 37.0000 - true_negatives: 1007.0000 - true_positives: 283.0000 - val_loss: 3.4868 - val_Accuracy: 0.5568 - val_false_negatives: 43.0000 - val_false_positives: 34.0000 - val_true_negatives: 230.0000 - val_true_positives: 45.0000\n",
            "Epoch 87/200\n",
            "44/44 [==============================] - 1s 33ms/step - loss: 0.3949 - Accuracy: 0.8477 - false_negatives: 65.0000 - false_positives: 42.0000 - true_negatives: 1002.0000 - true_positives: 283.0000 - val_loss: 2.9901 - val_Accuracy: 0.5909 - val_false_negatives: 37.0000 - val_false_positives: 35.0000 - val_true_negatives: 229.0000 - val_true_positives: 51.0000\n",
            "Epoch 88/200\n",
            "44/44 [==============================] - 1s 33ms/step - loss: 0.4014 - Accuracy: 0.8592 - false_negatives: 59.0000 - false_positives: 40.0000 - true_negatives: 1004.0000 - true_positives: 289.0000 - val_loss: 3.1165 - val_Accuracy: 0.5568 - val_false_negatives: 41.0000 - val_false_positives: 34.0000 - val_true_negatives: 230.0000 - val_true_positives: 47.0000\n",
            "Epoch 89/200\n",
            "44/44 [==============================] - 1s 34ms/step - loss: 0.4551 - Accuracy: 0.8276 - false_negatives: 65.0000 - false_positives: 44.0000 - true_negatives: 1000.0000 - true_positives: 283.0000 - val_loss: 1.8007 - val_Accuracy: 0.5795 - val_false_negatives: 39.0000 - val_false_positives: 31.0000 - val_true_negatives: 233.0000 - val_true_positives: 49.0000\n",
            "Epoch 90/200\n",
            "44/44 [==============================] - 1s 33ms/step - loss: 0.3530 - Accuracy: 0.8534 - false_negatives: 62.0000 - false_positives: 46.0000 - true_negatives: 998.0000 - true_positives: 286.0000 - val_loss: 2.0477 - val_Accuracy: 0.5455 - val_false_negatives: 43.0000 - val_false_positives: 35.0000 - val_true_negatives: 229.0000 - val_true_positives: 45.0000\n",
            "Epoch 91/200\n",
            "44/44 [==============================] - 1s 34ms/step - loss: 0.4145 - Accuracy: 0.8477 - false_negatives: 58.0000 - false_positives: 37.0000 - true_negatives: 1007.0000 - true_positives: 290.0000 - val_loss: 2.0681 - val_Accuracy: 0.5795 - val_false_negatives: 38.0000 - val_false_positives: 31.0000 - val_true_negatives: 233.0000 - val_true_positives: 50.0000\n",
            "Epoch 92/200\n",
            "44/44 [==============================] - 2s 34ms/step - loss: 0.4452 - Accuracy: 0.8448 - false_negatives: 67.0000 - false_positives: 43.0000 - true_negatives: 1001.0000 - true_positives: 281.0000 - val_loss: 2.5076 - val_Accuracy: 0.5455 - val_false_negatives: 40.0000 - val_false_positives: 35.0000 - val_true_negatives: 229.0000 - val_true_positives: 48.0000\n",
            "Epoch 93/200\n",
            "44/44 [==============================] - 1s 34ms/step - loss: 0.3611 - Accuracy: 0.8563 - false_negatives: 59.0000 - false_positives: 42.0000 - true_negatives: 1002.0000 - true_positives: 289.0000 - val_loss: 2.0812 - val_Accuracy: 0.5795 - val_false_negatives: 37.0000 - val_false_positives: 32.0000 - val_true_negatives: 232.0000 - val_true_positives: 51.0000\n",
            "Epoch 94/200\n",
            "44/44 [==============================] - 1s 33ms/step - loss: 0.2998 - Accuracy: 0.8563 - false_negatives: 53.0000 - false_positives: 43.0000 - true_negatives: 1001.0000 - true_positives: 295.0000 - val_loss: 2.1499 - val_Accuracy: 0.5455 - val_false_negatives: 41.0000 - val_false_positives: 37.0000 - val_true_negatives: 227.0000 - val_true_positives: 47.0000\n",
            "Epoch 95/200\n",
            "44/44 [==============================] - 2s 34ms/step - loss: 0.3645 - Accuracy: 0.8649 - false_negatives: 63.0000 - false_positives: 36.0000 - true_negatives: 1008.0000 - true_positives: 285.0000 - val_loss: 1.7198 - val_Accuracy: 0.5455 - val_false_negatives: 43.0000 - val_false_positives: 33.0000 - val_true_negatives: 231.0000 - val_true_positives: 45.0000\n",
            "Epoch 96/200\n",
            "44/44 [==============================] - 1s 34ms/step - loss: 0.3562 - Accuracy: 0.8764 - false_negatives: 54.0000 - false_positives: 32.0000 - true_negatives: 1012.0000 - true_positives: 294.0000 - val_loss: 2.1027 - val_Accuracy: 0.5682 - val_false_negatives: 40.0000 - val_false_positives: 36.0000 - val_true_negatives: 228.0000 - val_true_positives: 48.0000\n",
            "Epoch 97/200\n",
            "44/44 [==============================] - 2s 34ms/step - loss: 0.3571 - Accuracy: 0.8764 - false_negatives: 50.0000 - false_positives: 31.0000 - true_negatives: 1013.0000 - true_positives: 298.0000 - val_loss: 1.9685 - val_Accuracy: 0.5341 - val_false_negatives: 41.0000 - val_false_positives: 36.0000 - val_true_negatives: 228.0000 - val_true_positives: 47.0000\n",
            "Epoch 98/200\n",
            "44/44 [==============================] - 2s 34ms/step - loss: 0.3916 - Accuracy: 0.8678 - false_negatives: 55.0000 - false_positives: 38.0000 - true_negatives: 1006.0000 - true_positives: 293.0000 - val_loss: 1.5010 - val_Accuracy: 0.5909 - val_false_negatives: 39.0000 - val_false_positives: 29.0000 - val_true_negatives: 235.0000 - val_true_positives: 49.0000\n",
            "Epoch 99/200\n",
            "44/44 [==============================] - 2s 34ms/step - loss: 0.3693 - Accuracy: 0.8736 - false_negatives: 51.0000 - false_positives: 31.0000 - true_negatives: 1013.0000 - true_positives: 297.0000 - val_loss: 2.2976 - val_Accuracy: 0.5114 - val_false_negatives: 44.0000 - val_false_positives: 35.0000 - val_true_negatives: 229.0000 - val_true_positives: 44.0000\n",
            "Epoch 100/200\n",
            "44/44 [==============================] - 2s 35ms/step - loss: 0.4040 - Accuracy: 0.8420 - false_negatives: 64.0000 - false_positives: 43.0000 - true_negatives: 1001.0000 - true_positives: 284.0000 - val_loss: 2.0641 - val_Accuracy: 0.5795 - val_false_negatives: 38.0000 - val_false_positives: 32.0000 - val_true_negatives: 232.0000 - val_true_positives: 50.0000\n",
            "Epoch 101/200\n",
            "44/44 [==============================] - 1s 34ms/step - loss: 0.3763 - Accuracy: 0.8534 - false_negatives: 66.0000 - false_positives: 36.0000 - true_negatives: 1008.0000 - true_positives: 282.0000 - val_loss: 2.0101 - val_Accuracy: 0.5795 - val_false_negatives: 38.0000 - val_false_positives: 35.0000 - val_true_negatives: 229.0000 - val_true_positives: 50.0000\n",
            "Epoch 102/200\n",
            "44/44 [==============================] - 2s 34ms/step - loss: 0.3806 - Accuracy: 0.8649 - false_negatives: 54.0000 - false_positives: 37.0000 - true_negatives: 1007.0000 - true_positives: 294.0000 - val_loss: 2.3604 - val_Accuracy: 0.5909 - val_false_negatives: 38.0000 - val_false_positives: 34.0000 - val_true_negatives: 230.0000 - val_true_positives: 50.0000\n",
            "Epoch 103/200\n",
            "44/44 [==============================] - 2s 35ms/step - loss: 0.2888 - Accuracy: 0.8851 - false_negatives: 47.0000 - false_positives: 28.0000 - true_negatives: 1016.0000 - true_positives: 301.0000 - val_loss: 2.5513 - val_Accuracy: 0.6136 - val_false_negatives: 35.0000 - val_false_positives: 32.0000 - val_true_negatives: 232.0000 - val_true_positives: 53.0000\n",
            "Epoch 104/200\n",
            "44/44 [==============================] - 1s 34ms/step - loss: 0.3742 - Accuracy: 0.8448 - false_negatives: 60.0000 - false_positives: 42.0000 - true_negatives: 1002.0000 - true_positives: 288.0000 - val_loss: 2.0906 - val_Accuracy: 0.5568 - val_false_negatives: 41.0000 - val_false_positives: 34.0000 - val_true_negatives: 230.0000 - val_true_positives: 47.0000\n",
            "Epoch 105/200\n",
            "44/44 [==============================] - 1s 33ms/step - loss: 0.3061 - Accuracy: 0.8764 - false_negatives: 56.0000 - false_positives: 33.0000 - true_negatives: 1011.0000 - true_positives: 292.0000 - val_loss: 2.4037 - val_Accuracy: 0.5455 - val_false_negatives: 41.0000 - val_false_positives: 37.0000 - val_true_negatives: 227.0000 - val_true_positives: 47.0000\n",
            "Epoch 106/200\n",
            "44/44 [==============================] - 1s 34ms/step - loss: 0.3212 - Accuracy: 0.8937 - false_negatives: 43.0000 - false_positives: 33.0000 - true_negatives: 1011.0000 - true_positives: 305.0000 - val_loss: 2.1817 - val_Accuracy: 0.6136 - val_false_negatives: 36.0000 - val_false_positives: 31.0000 - val_true_negatives: 233.0000 - val_true_positives: 52.0000\n",
            "Epoch 107/200\n",
            "44/44 [==============================] - 2s 34ms/step - loss: 0.3911 - Accuracy: 0.8678 - false_negatives: 58.0000 - false_positives: 35.0000 - true_negatives: 1009.0000 - true_positives: 290.0000 - val_loss: 2.3092 - val_Accuracy: 0.6136 - val_false_negatives: 37.0000 - val_false_positives: 32.0000 - val_true_negatives: 232.0000 - val_true_positives: 51.0000\n",
            "Epoch 108/200\n",
            "44/44 [==============================] - 1s 33ms/step - loss: 0.3777 - Accuracy: 0.8534 - false_negatives: 56.0000 - false_positives: 39.0000 - true_negatives: 1005.0000 - true_positives: 292.0000 - val_loss: 2.4573 - val_Accuracy: 0.5568 - val_false_negatives: 41.0000 - val_false_positives: 34.0000 - val_true_negatives: 230.0000 - val_true_positives: 47.0000\n",
            "Epoch 109/200\n",
            "44/44 [==============================] - 2s 34ms/step - loss: 0.3144 - Accuracy: 0.8822 - false_negatives: 45.0000 - false_positives: 37.0000 - true_negatives: 1007.0000 - true_positives: 303.0000 - val_loss: 2.7730 - val_Accuracy: 0.5682 - val_false_negatives: 39.0000 - val_false_positives: 36.0000 - val_true_negatives: 228.0000 - val_true_positives: 49.0000\n",
            "Epoch 110/200\n",
            "44/44 [==============================] - 2s 34ms/step - loss: 0.4270 - Accuracy: 0.8506 - false_negatives: 65.0000 - false_positives: 34.0000 - true_negatives: 1010.0000 - true_positives: 283.0000 - val_loss: 2.4536 - val_Accuracy: 0.5568 - val_false_negatives: 41.0000 - val_false_positives: 37.0000 - val_true_negatives: 227.0000 - val_true_positives: 47.0000\n",
            "Epoch 111/200\n",
            "44/44 [==============================] - 2s 34ms/step - loss: 0.2931 - Accuracy: 0.8937 - false_negatives: 41.0000 - false_positives: 29.0000 - true_negatives: 1015.0000 - true_positives: 307.0000 - val_loss: 3.0873 - val_Accuracy: 0.5568 - val_false_negatives: 41.0000 - val_false_positives: 37.0000 - val_true_negatives: 227.0000 - val_true_positives: 47.0000\n",
            "Epoch 112/200\n",
            "44/44 [==============================] - 2s 34ms/step - loss: 0.3685 - Accuracy: 0.8822 - false_negatives: 48.0000 - false_positives: 35.0000 - true_negatives: 1009.0000 - true_positives: 300.0000 - val_loss: 1.9000 - val_Accuracy: 0.5682 - val_false_negatives: 40.0000 - val_false_positives: 32.0000 - val_true_negatives: 232.0000 - val_true_positives: 48.0000\n",
            "Epoch 113/200\n",
            "44/44 [==============================] - 2s 34ms/step - loss: 0.2692 - Accuracy: 0.8937 - false_negatives: 37.0000 - false_positives: 33.0000 - true_negatives: 1011.0000 - true_positives: 311.0000 - val_loss: 1.8824 - val_Accuracy: 0.5909 - val_false_negatives: 38.0000 - val_false_positives: 34.0000 - val_true_negatives: 230.0000 - val_true_positives: 50.0000\n",
            "Epoch 114/200\n",
            "44/44 [==============================] - 1s 33ms/step - loss: 0.2616 - Accuracy: 0.8994 - false_negatives: 41.0000 - false_positives: 28.0000 - true_negatives: 1016.0000 - true_positives: 307.0000 - val_loss: 2.2844 - val_Accuracy: 0.5682 - val_false_negatives: 39.0000 - val_false_positives: 37.0000 - val_true_negatives: 227.0000 - val_true_positives: 49.0000\n",
            "Epoch 115/200\n",
            "44/44 [==============================] - 2s 34ms/step - loss: 0.2928 - Accuracy: 0.8879 - false_negatives: 44.0000 - false_positives: 33.0000 - true_negatives: 1011.0000 - true_positives: 304.0000 - val_loss: 2.8792 - val_Accuracy: 0.5000 - val_false_negatives: 44.0000 - val_false_positives: 44.0000 - val_true_negatives: 220.0000 - val_true_positives: 44.0000\n",
            "Epoch 116/200\n",
            "44/44 [==============================] - 1s 33ms/step - loss: 0.3362 - Accuracy: 0.8937 - false_negatives: 48.0000 - false_positives: 34.0000 - true_negatives: 1010.0000 - true_positives: 300.0000 - val_loss: 2.0635 - val_Accuracy: 0.5568 - val_false_negatives: 40.0000 - val_false_positives: 34.0000 - val_true_negatives: 230.0000 - val_true_positives: 48.0000\n",
            "Epoch 117/200\n",
            "44/44 [==============================] - 2s 34ms/step - loss: 0.2531 - Accuracy: 0.9023 - false_negatives: 35.0000 - false_positives: 28.0000 - true_negatives: 1016.0000 - true_positives: 313.0000 - val_loss: 2.5292 - val_Accuracy: 0.5568 - val_false_negatives: 39.0000 - val_false_positives: 38.0000 - val_true_negatives: 226.0000 - val_true_positives: 49.0000\n",
            "Epoch 118/200\n",
            "44/44 [==============================] - 2s 34ms/step - loss: 0.2812 - Accuracy: 0.8879 - false_negatives: 44.0000 - false_positives: 31.0000 - true_negatives: 1013.0000 - true_positives: 304.0000 - val_loss: 2.7148 - val_Accuracy: 0.5455 - val_false_negatives: 41.0000 - val_false_positives: 39.0000 - val_true_negatives: 225.0000 - val_true_positives: 47.0000\n",
            "Epoch 119/200\n",
            "44/44 [==============================] - 2s 34ms/step - loss: 0.2211 - Accuracy: 0.9310 - false_negatives: 29.0000 - false_positives: 21.0000 - true_negatives: 1023.0000 - true_positives: 319.0000 - val_loss: 2.3829 - val_Accuracy: 0.5795 - val_false_negatives: 38.0000 - val_false_positives: 35.0000 - val_true_negatives: 229.0000 - val_true_positives: 50.0000\n",
            "Epoch 120/200\n",
            "44/44 [==============================] - 2s 34ms/step - loss: 0.2746 - Accuracy: 0.8908 - false_negatives: 42.0000 - false_positives: 31.0000 - true_negatives: 1013.0000 - true_positives: 306.0000 - val_loss: 3.3766 - val_Accuracy: 0.5568 - val_false_negatives: 39.0000 - val_false_positives: 37.0000 - val_true_negatives: 227.0000 - val_true_positives: 49.0000\n",
            "Epoch 121/200\n",
            "44/44 [==============================] - 1s 33ms/step - loss: 0.1910 - Accuracy: 0.9397 - false_negatives: 24.0000 - false_positives: 19.0000 - true_negatives: 1025.0000 - true_positives: 324.0000 - val_loss: 3.7225 - val_Accuracy: 0.5909 - val_false_negatives: 36.0000 - val_false_positives: 34.0000 - val_true_negatives: 230.0000 - val_true_positives: 52.0000\n",
            "Epoch 122/200\n",
            "44/44 [==============================] - 1s 33ms/step - loss: 0.2427 - Accuracy: 0.9195 - false_negatives: 28.0000 - false_positives: 26.0000 - true_negatives: 1018.0000 - true_positives: 320.0000 - val_loss: 2.2110 - val_Accuracy: 0.5568 - val_false_negatives: 39.0000 - val_false_positives: 33.0000 - val_true_negatives: 231.0000 - val_true_positives: 49.0000\n",
            "Epoch 123/200\n",
            "44/44 [==============================] - 2s 35ms/step - loss: 0.1876 - Accuracy: 0.9282 - false_negatives: 27.0000 - false_positives: 22.0000 - true_negatives: 1022.0000 - true_positives: 321.0000 - val_loss: 2.9826 - val_Accuracy: 0.5455 - val_false_negatives: 40.0000 - val_false_positives: 39.0000 - val_true_negatives: 225.0000 - val_true_positives: 48.0000\n",
            "Epoch 124/200\n",
            "44/44 [==============================] - 1s 34ms/step - loss: 0.2335 - Accuracy: 0.9310 - false_negatives: 28.0000 - false_positives: 21.0000 - true_negatives: 1023.0000 - true_positives: 320.0000 - val_loss: 3.0888 - val_Accuracy: 0.5682 - val_false_negatives: 38.0000 - val_false_positives: 36.0000 - val_true_negatives: 228.0000 - val_true_positives: 50.0000\n",
            "Epoch 125/200\n",
            "44/44 [==============================] - 2s 34ms/step - loss: 0.3452 - Accuracy: 0.9195 - false_negatives: 32.0000 - false_positives: 26.0000 - true_negatives: 1018.0000 - true_positives: 316.0000 - val_loss: 1.8847 - val_Accuracy: 0.6136 - val_false_negatives: 35.0000 - val_false_positives: 31.0000 - val_true_negatives: 233.0000 - val_true_positives: 53.0000\n",
            "Epoch 126/200\n",
            "44/44 [==============================] - 2s 34ms/step - loss: 0.2864 - Accuracy: 0.8908 - false_negatives: 42.0000 - false_positives: 32.0000 - true_negatives: 1012.0000 - true_positives: 306.0000 - val_loss: 2.1107 - val_Accuracy: 0.5909 - val_false_negatives: 40.0000 - val_false_positives: 33.0000 - val_true_negatives: 231.0000 - val_true_positives: 48.0000\n",
            "Epoch 127/200\n",
            "44/44 [==============================] - 2s 35ms/step - loss: 0.2409 - Accuracy: 0.9052 - false_negatives: 36.0000 - false_positives: 26.0000 - true_negatives: 1018.0000 - true_positives: 312.0000 - val_loss: 2.6136 - val_Accuracy: 0.5795 - val_false_negatives: 37.0000 - val_false_positives: 34.0000 - val_true_negatives: 230.0000 - val_true_positives: 51.0000\n",
            "Epoch 128/200\n",
            "44/44 [==============================] - 2s 34ms/step - loss: 0.2309 - Accuracy: 0.9253 - false_negatives: 29.0000 - false_positives: 20.0000 - true_negatives: 1024.0000 - true_positives: 319.0000 - val_loss: 2.6968 - val_Accuracy: 0.5455 - val_false_negatives: 40.0000 - val_false_positives: 37.0000 - val_true_negatives: 227.0000 - val_true_positives: 48.0000\n",
            "Epoch 129/200\n",
            "44/44 [==============================] - 1s 34ms/step - loss: 0.2619 - Accuracy: 0.9109 - false_negatives: 31.0000 - false_positives: 27.0000 - true_negatives: 1017.0000 - true_positives: 317.0000 - val_loss: 2.9001 - val_Accuracy: 0.5795 - val_false_negatives: 38.0000 - val_false_positives: 35.0000 - val_true_negatives: 229.0000 - val_true_positives: 50.0000\n",
            "Epoch 130/200\n",
            "44/44 [==============================] - 2s 34ms/step - loss: 0.3028 - Accuracy: 0.8707 - false_negatives: 47.0000 - false_positives: 37.0000 - true_negatives: 1007.0000 - true_positives: 301.0000 - val_loss: 1.7363 - val_Accuracy: 0.6023 - val_false_negatives: 37.0000 - val_false_positives: 31.0000 - val_true_negatives: 233.0000 - val_true_positives: 51.0000\n",
            "Epoch 131/200\n",
            "44/44 [==============================] - 2s 34ms/step - loss: 0.2512 - Accuracy: 0.9080 - false_negatives: 33.0000 - false_positives: 28.0000 - true_negatives: 1016.0000 - true_positives: 315.0000 - val_loss: 1.8378 - val_Accuracy: 0.5909 - val_false_negatives: 36.0000 - val_false_positives: 34.0000 - val_true_negatives: 230.0000 - val_true_positives: 52.0000\n",
            "Epoch 132/200\n",
            "44/44 [==============================] - 2s 35ms/step - loss: 0.2173 - Accuracy: 0.9282 - false_negatives: 26.0000 - false_positives: 20.0000 - true_negatives: 1024.0000 - true_positives: 322.0000 - val_loss: 2.5142 - val_Accuracy: 0.5795 - val_false_negatives: 37.0000 - val_false_positives: 34.0000 - val_true_negatives: 230.0000 - val_true_positives: 51.0000\n",
            "Epoch 133/200\n",
            "44/44 [==============================] - 2s 34ms/step - loss: 0.1865 - Accuracy: 0.9253 - false_negatives: 28.0000 - false_positives: 25.0000 - true_negatives: 1019.0000 - true_positives: 320.0000 - val_loss: 2.7317 - val_Accuracy: 0.5227 - val_false_negatives: 43.0000 - val_false_positives: 38.0000 - val_true_negatives: 226.0000 - val_true_positives: 45.0000\n",
            "Epoch 134/200\n",
            "44/44 [==============================] - 1s 33ms/step - loss: 0.1473 - Accuracy: 0.9511 - false_negatives: 20.0000 - false_positives: 15.0000 - true_negatives: 1029.0000 - true_positives: 328.0000 - val_loss: 4.0426 - val_Accuracy: 0.5682 - val_false_negatives: 39.0000 - val_false_positives: 38.0000 - val_true_negatives: 226.0000 - val_true_positives: 49.0000\n",
            "Epoch 135/200\n",
            "44/44 [==============================] - 1s 33ms/step - loss: 0.2327 - Accuracy: 0.9195 - false_negatives: 29.0000 - false_positives: 28.0000 - true_negatives: 1016.0000 - true_positives: 319.0000 - val_loss: 2.1097 - val_Accuracy: 0.5909 - val_false_negatives: 38.0000 - val_false_positives: 33.0000 - val_true_negatives: 231.0000 - val_true_positives: 50.0000\n",
            "Epoch 136/200\n",
            "44/44 [==============================] - 2s 35ms/step - loss: 0.2331 - Accuracy: 0.9119 - false_negatives: 34.0000 - false_positives: 25.0000 - true_negatives: 1031.0000 - true_positives: 318.0000 - val_loss: 2.1900 - val_Accuracy: 0.5909 - val_false_negatives: 36.0000 - val_false_positives: 34.0000 - val_true_negatives: 230.0000 - val_true_positives: 52.0000\n",
            "Epoch 137/200\n",
            "44/44 [==============================] - 2s 35ms/step - loss: 0.2043 - Accuracy: 0.9224 - false_negatives: 31.0000 - false_positives: 23.0000 - true_negatives: 1021.0000 - true_positives: 317.0000 - val_loss: 3.0240 - val_Accuracy: 0.5795 - val_false_negatives: 38.0000 - val_false_positives: 36.0000 - val_true_negatives: 228.0000 - val_true_positives: 50.0000\n",
            "Epoch 138/200\n",
            "44/44 [==============================] - 2s 34ms/step - loss: 0.3422 - Accuracy: 0.8879 - false_negatives: 45.0000 - false_positives: 34.0000 - true_negatives: 1010.0000 - true_positives: 303.0000 - val_loss: 2.8635 - val_Accuracy: 0.5682 - val_false_negatives: 39.0000 - val_false_positives: 35.0000 - val_true_negatives: 229.0000 - val_true_positives: 49.0000\n",
            "Epoch 139/200\n",
            "44/44 [==============================] - 2s 35ms/step - loss: 0.2151 - Accuracy: 0.9138 - false_negatives: 31.0000 - false_positives: 24.0000 - true_negatives: 1020.0000 - true_positives: 317.0000 - val_loss: 3.2369 - val_Accuracy: 0.5795 - val_false_negatives: 37.0000 - val_false_positives: 35.0000 - val_true_negatives: 229.0000 - val_true_positives: 51.0000\n",
            "Epoch 140/200\n",
            "44/44 [==============================] - 2s 35ms/step - loss: 0.2100 - Accuracy: 0.9282 - false_negatives: 26.0000 - false_positives: 21.0000 - true_negatives: 1023.0000 - true_positives: 322.0000 - val_loss: 2.4874 - val_Accuracy: 0.5909 - val_false_negatives: 36.0000 - val_false_positives: 36.0000 - val_true_negatives: 228.0000 - val_true_positives: 52.0000\n",
            "Epoch 141/200\n",
            "44/44 [==============================] - 2s 34ms/step - loss: 0.1422 - Accuracy: 0.9684 - false_negatives: 14.0000 - false_positives: 10.0000 - true_negatives: 1034.0000 - true_positives: 334.0000 - val_loss: 3.3807 - val_Accuracy: 0.5909 - val_false_negatives: 36.0000 - val_false_positives: 36.0000 - val_true_negatives: 228.0000 - val_true_positives: 52.0000\n",
            "Epoch 142/200\n",
            "44/44 [==============================] - 2s 35ms/step - loss: 0.1566 - Accuracy: 0.9511 - false_negatives: 18.0000 - false_positives: 15.0000 - true_negatives: 1029.0000 - true_positives: 330.0000 - val_loss: 3.1950 - val_Accuracy: 0.5568 - val_false_negatives: 39.0000 - val_false_positives: 35.0000 - val_true_negatives: 229.0000 - val_true_positives: 49.0000\n",
            "Epoch 143/200\n",
            "44/44 [==============================] - 2s 34ms/step - loss: 0.1759 - Accuracy: 0.9397 - false_negatives: 22.0000 - false_positives: 19.0000 - true_negatives: 1025.0000 - true_positives: 326.0000 - val_loss: 3.0273 - val_Accuracy: 0.5909 - val_false_negatives: 37.0000 - val_false_positives: 35.0000 - val_true_negatives: 229.0000 - val_true_positives: 51.0000\n",
            "Epoch 144/200\n",
            "44/44 [==============================] - 2s 34ms/step - loss: 0.2009 - Accuracy: 0.9195 - false_negatives: 29.0000 - false_positives: 22.0000 - true_negatives: 1022.0000 - true_positives: 319.0000 - val_loss: 3.8915 - val_Accuracy: 0.6364 - val_false_negatives: 32.0000 - val_false_positives: 31.0000 - val_true_negatives: 233.0000 - val_true_positives: 56.0000\n",
            "Epoch 145/200\n",
            "44/44 [==============================] - 2s 34ms/step - loss: 0.2514 - Accuracy: 0.9080 - false_negatives: 36.0000 - false_positives: 27.0000 - true_negatives: 1017.0000 - true_positives: 312.0000 - val_loss: 2.7682 - val_Accuracy: 0.5795 - val_false_negatives: 38.0000 - val_false_positives: 36.0000 - val_true_negatives: 228.0000 - val_true_positives: 50.0000\n",
            "Epoch 146/200\n",
            "44/44 [==============================] - 2s 36ms/step - loss: 0.1225 - Accuracy: 0.9598 - false_negatives: 16.0000 - false_positives: 10.0000 - true_negatives: 1034.0000 - true_positives: 332.0000 - val_loss: 4.6002 - val_Accuracy: 0.5568 - val_false_negatives: 39.0000 - val_false_positives: 38.0000 - val_true_negatives: 226.0000 - val_true_positives: 49.0000\n",
            "Epoch 147/200\n",
            "44/44 [==============================] - 2s 35ms/step - loss: 0.2333 - Accuracy: 0.9195 - false_negatives: 29.0000 - false_positives: 23.0000 - true_negatives: 1021.0000 - true_positives: 319.0000 - val_loss: 2.7057 - val_Accuracy: 0.5568 - val_false_negatives: 39.0000 - val_false_positives: 37.0000 - val_true_negatives: 227.0000 - val_true_positives: 49.0000\n",
            "Epoch 148/200\n",
            "44/44 [==============================] - 2s 35ms/step - loss: 0.2137 - Accuracy: 0.9339 - false_negatives: 26.0000 - false_positives: 19.0000 - true_negatives: 1025.0000 - true_positives: 322.0000 - val_loss: 3.7272 - val_Accuracy: 0.5341 - val_false_negatives: 41.0000 - val_false_positives: 38.0000 - val_true_negatives: 226.0000 - val_true_positives: 47.0000\n",
            "Epoch 149/200\n",
            "44/44 [==============================] - 2s 35ms/step - loss: 0.1397 - Accuracy: 0.9454 - false_negatives: 20.0000 - false_positives: 18.0000 - true_negatives: 1026.0000 - true_positives: 328.0000 - val_loss: 5.0213 - val_Accuracy: 0.5341 - val_false_negatives: 41.0000 - val_false_positives: 41.0000 - val_true_negatives: 223.0000 - val_true_positives: 47.0000\n",
            "Epoch 150/200\n",
            "44/44 [==============================] - 2s 35ms/step - loss: 0.2468 - Accuracy: 0.9176 - false_negatives: 32.0000 - false_positives: 26.0000 - true_negatives: 1030.0000 - true_positives: 320.0000 - val_loss: 2.2748 - val_Accuracy: 0.5795 - val_false_negatives: 37.0000 - val_false_positives: 31.0000 - val_true_negatives: 233.0000 - val_true_positives: 51.0000\n",
            "Epoch 151/200\n",
            "44/44 [==============================] - 2s 36ms/step - loss: 0.1478 - Accuracy: 0.9545 - false_negatives: 19.0000 - false_positives: 14.0000 - true_negatives: 1042.0000 - true_positives: 333.0000 - val_loss: 2.6887 - val_Accuracy: 0.5682 - val_false_negatives: 39.0000 - val_false_positives: 37.0000 - val_true_negatives: 227.0000 - val_true_positives: 49.0000\n",
            "Epoch 152/200\n",
            "44/44 [==============================] - 2s 36ms/step - loss: 0.2004 - Accuracy: 0.9195 - false_negatives: 29.0000 - false_positives: 26.0000 - true_negatives: 1018.0000 - true_positives: 319.0000 - val_loss: 2.7417 - val_Accuracy: 0.5909 - val_false_negatives: 37.0000 - val_false_positives: 34.0000 - val_true_negatives: 230.0000 - val_true_positives: 51.0000\n",
            "Epoch 153/200\n",
            "44/44 [==============================] - 2s 34ms/step - loss: 0.1515 - Accuracy: 0.9569 - false_negatives: 16.0000 - false_positives: 15.0000 - true_negatives: 1029.0000 - true_positives: 332.0000 - val_loss: 2.7306 - val_Accuracy: 0.5795 - val_false_negatives: 37.0000 - val_false_positives: 35.0000 - val_true_negatives: 229.0000 - val_true_positives: 51.0000\n",
            "Epoch 154/200\n",
            "44/44 [==============================] - 2s 35ms/step - loss: 0.1428 - Accuracy: 0.9425 - false_negatives: 20.0000 - false_positives: 19.0000 - true_negatives: 1025.0000 - true_positives: 328.0000 - val_loss: 3.8959 - val_Accuracy: 0.5682 - val_false_negatives: 38.0000 - val_false_positives: 37.0000 - val_true_negatives: 227.0000 - val_true_positives: 50.0000\n",
            "Epoch 155/200\n",
            "44/44 [==============================] - 2s 35ms/step - loss: 0.1534 - Accuracy: 0.9483 - false_negatives: 19.0000 - false_positives: 16.0000 - true_negatives: 1028.0000 - true_positives: 329.0000 - val_loss: 2.5292 - val_Accuracy: 0.5682 - val_false_negatives: 40.0000 - val_false_positives: 37.0000 - val_true_negatives: 227.0000 - val_true_positives: 48.0000\n",
            "Epoch 156/200\n",
            "44/44 [==============================] - 2s 35ms/step - loss: 0.2323 - Accuracy: 0.9282 - false_negatives: 27.0000 - false_positives: 23.0000 - true_negatives: 1021.0000 - true_positives: 321.0000 - val_loss: 3.0570 - val_Accuracy: 0.5909 - val_false_negatives: 36.0000 - val_false_positives: 32.0000 - val_true_negatives: 232.0000 - val_true_positives: 52.0000\n",
            "Epoch 157/200\n",
            "44/44 [==============================] - 2s 34ms/step - loss: 0.1974 - Accuracy: 0.9368 - false_negatives: 25.0000 - false_positives: 19.0000 - true_negatives: 1025.0000 - true_positives: 323.0000 - val_loss: 3.0561 - val_Accuracy: 0.5909 - val_false_negatives: 38.0000 - val_false_positives: 35.0000 - val_true_negatives: 229.0000 - val_true_positives: 50.0000\n",
            "Epoch 158/200\n",
            "44/44 [==============================] - 2s 34ms/step - loss: 0.1225 - Accuracy: 0.9655 - false_negatives: 13.0000 - false_positives: 9.0000 - true_negatives: 1035.0000 - true_positives: 335.0000 - val_loss: 3.7461 - val_Accuracy: 0.5568 - val_false_negatives: 39.0000 - val_false_positives: 38.0000 - val_true_negatives: 226.0000 - val_true_positives: 49.0000\n",
            "Epoch 159/200\n",
            "44/44 [==============================] - 2s 35ms/step - loss: 0.1168 - Accuracy: 0.9598 - false_negatives: 16.0000 - false_positives: 11.0000 - true_negatives: 1033.0000 - true_positives: 332.0000 - val_loss: 3.5057 - val_Accuracy: 0.5795 - val_false_negatives: 38.0000 - val_false_positives: 36.0000 - val_true_negatives: 228.0000 - val_true_positives: 50.0000\n",
            "Epoch 160/200\n",
            "44/44 [==============================] - 2s 35ms/step - loss: 0.1232 - Accuracy: 0.9598 - false_negatives: 14.0000 - false_positives: 13.0000 - true_negatives: 1031.0000 - true_positives: 334.0000 - val_loss: 2.9804 - val_Accuracy: 0.5795 - val_false_negatives: 39.0000 - val_false_positives: 36.0000 - val_true_negatives: 228.0000 - val_true_positives: 49.0000\n",
            "Epoch 161/200\n",
            "44/44 [==============================] - 2s 34ms/step - loss: 0.1267 - Accuracy: 0.9569 - false_negatives: 17.0000 - false_positives: 14.0000 - true_negatives: 1030.0000 - true_positives: 331.0000 - val_loss: 3.0894 - val_Accuracy: 0.5455 - val_false_negatives: 40.0000 - val_false_positives: 37.0000 - val_true_negatives: 227.0000 - val_true_positives: 48.0000\n",
            "Epoch 162/200\n",
            "44/44 [==============================] - 2s 35ms/step - loss: 0.1682 - Accuracy: 0.9511 - false_negatives: 18.0000 - false_positives: 15.0000 - true_negatives: 1029.0000 - true_positives: 330.0000 - val_loss: 3.3972 - val_Accuracy: 0.5455 - val_false_negatives: 40.0000 - val_false_positives: 38.0000 - val_true_negatives: 226.0000 - val_true_positives: 48.0000\n",
            "Epoch 163/200\n",
            "44/44 [==============================] - 2s 35ms/step - loss: 0.1579 - Accuracy: 0.9489 - false_negatives: 21.0000 - false_positives: 17.0000 - true_negatives: 1039.0000 - true_positives: 331.0000 - val_loss: 3.1644 - val_Accuracy: 0.5568 - val_false_negatives: 39.0000 - val_false_positives: 37.0000 - val_true_negatives: 227.0000 - val_true_positives: 49.0000\n",
            "Epoch 164/200\n",
            "44/44 [==============================] - 2s 35ms/step - loss: 0.1597 - Accuracy: 0.9454 - false_negatives: 21.0000 - false_positives: 16.0000 - true_negatives: 1028.0000 - true_positives: 327.0000 - val_loss: 2.5073 - val_Accuracy: 0.5568 - val_false_negatives: 40.0000 - val_false_positives: 37.0000 - val_true_negatives: 227.0000 - val_true_positives: 48.0000\n",
            "Epoch 165/200\n",
            "44/44 [==============================] - 2s 35ms/step - loss: 0.0864 - Accuracy: 0.9741 - false_negatives: 9.0000 - false_positives: 9.0000 - true_negatives: 1035.0000 - true_positives: 339.0000 - val_loss: 3.7110 - val_Accuracy: 0.5795 - val_false_negatives: 37.0000 - val_false_positives: 36.0000 - val_true_negatives: 228.0000 - val_true_positives: 51.0000\n",
            "Epoch 166/200\n",
            "44/44 [==============================] - 2s 36ms/step - loss: 0.1734 - Accuracy: 0.9483 - false_negatives: 20.0000 - false_positives: 18.0000 - true_negatives: 1026.0000 - true_positives: 328.0000 - val_loss: 3.3474 - val_Accuracy: 0.5568 - val_false_negatives: 39.0000 - val_false_positives: 38.0000 - val_true_negatives: 226.0000 - val_true_positives: 49.0000\n",
            "Epoch 167/200\n",
            "44/44 [==============================] - 1s 34ms/step - loss: 0.1635 - Accuracy: 0.9310 - false_negatives: 25.0000 - false_positives: 18.0000 - true_negatives: 1026.0000 - true_positives: 323.0000 - val_loss: 6.2962 - val_Accuracy: 0.5682 - val_false_negatives: 38.0000 - val_false_positives: 35.0000 - val_true_negatives: 229.0000 - val_true_positives: 50.0000\n",
            "Epoch 168/200\n",
            "44/44 [==============================] - 2s 34ms/step - loss: 0.4496 - Accuracy: 0.8506 - false_negatives: 56.0000 - false_positives: 44.0000 - true_negatives: 1000.0000 - true_positives: 292.0000 - val_loss: 2.1099 - val_Accuracy: 0.5341 - val_false_negatives: 43.0000 - val_false_positives: 36.0000 - val_true_negatives: 228.0000 - val_true_positives: 45.0000\n",
            "Epoch 169/200\n",
            "44/44 [==============================] - 2s 35ms/step - loss: 0.3823 - Accuracy: 0.9023 - false_negatives: 42.0000 - false_positives: 27.0000 - true_negatives: 1017.0000 - true_positives: 306.0000 - val_loss: 1.9054 - val_Accuracy: 0.5568 - val_false_negatives: 39.0000 - val_false_positives: 36.0000 - val_true_negatives: 228.0000 - val_true_positives: 49.0000\n",
            "Epoch 170/200\n",
            "44/44 [==============================] - 2s 35ms/step - loss: 0.2212 - Accuracy: 0.9310 - false_negatives: 28.0000 - false_positives: 19.0000 - true_negatives: 1025.0000 - true_positives: 320.0000 - val_loss: 2.1486 - val_Accuracy: 0.5682 - val_false_negatives: 39.0000 - val_false_positives: 33.0000 - val_true_negatives: 231.0000 - val_true_positives: 49.0000\n",
            "Epoch 171/200\n",
            "44/44 [==============================] - 2s 34ms/step - loss: 0.1660 - Accuracy: 0.9511 - false_negatives: 19.0000 - false_positives: 17.0000 - true_negatives: 1027.0000 - true_positives: 329.0000 - val_loss: 2.0171 - val_Accuracy: 0.5682 - val_false_negatives: 40.0000 - val_false_positives: 36.0000 - val_true_negatives: 228.0000 - val_true_positives: 48.0000\n",
            "Epoch 172/200\n",
            "44/44 [==============================] - 1s 33ms/step - loss: 0.1177 - Accuracy: 0.9626 - false_negatives: 15.0000 - false_positives: 13.0000 - true_negatives: 1031.0000 - true_positives: 333.0000 - val_loss: 2.4266 - val_Accuracy: 0.5568 - val_false_negatives: 41.0000 - val_false_positives: 37.0000 - val_true_negatives: 227.0000 - val_true_positives: 47.0000\n",
            "Epoch 173/200\n",
            "44/44 [==============================] - 2s 35ms/step - loss: 0.0931 - Accuracy: 0.9626 - false_negatives: 14.0000 - false_positives: 12.0000 - true_negatives: 1032.0000 - true_positives: 334.0000 - val_loss: 2.8404 - val_Accuracy: 0.5341 - val_false_negatives: 41.0000 - val_false_positives: 39.0000 - val_true_negatives: 225.0000 - val_true_positives: 47.0000\n",
            "Epoch 174/200\n",
            "44/44 [==============================] - 2s 34ms/step - loss: 0.1492 - Accuracy: 0.9483 - false_negatives: 19.0000 - false_positives: 17.0000 - true_negatives: 1027.0000 - true_positives: 329.0000 - val_loss: 1.9805 - val_Accuracy: 0.5682 - val_false_negatives: 38.0000 - val_false_positives: 36.0000 - val_true_negatives: 228.0000 - val_true_positives: 50.0000\n",
            "Epoch 175/200\n",
            "44/44 [==============================] - 2s 35ms/step - loss: 0.1058 - Accuracy: 0.9713 - false_negatives: 11.0000 - false_positives: 9.0000 - true_negatives: 1035.0000 - true_positives: 337.0000 - val_loss: 2.9227 - val_Accuracy: 0.5795 - val_false_negatives: 38.0000 - val_false_positives: 37.0000 - val_true_negatives: 227.0000 - val_true_positives: 50.0000\n",
            "Epoch 176/200\n",
            "44/44 [==============================] - 2s 35ms/step - loss: 0.0512 - Accuracy: 0.9885 - false_negatives: 4.0000 - false_positives: 4.0000 - true_negatives: 1040.0000 - true_positives: 344.0000 - val_loss: 3.1571 - val_Accuracy: 0.5341 - val_false_negatives: 41.0000 - val_false_positives: 40.0000 - val_true_negatives: 224.0000 - val_true_positives: 47.0000\n",
            "Epoch 177/200\n",
            "44/44 [==============================] - 2s 35ms/step - loss: 0.1681 - Accuracy: 0.9511 - false_negatives: 17.0000 - false_positives: 15.0000 - true_negatives: 1029.0000 - true_positives: 331.0000 - val_loss: 2.5857 - val_Accuracy: 0.5909 - val_false_negatives: 37.0000 - val_false_positives: 36.0000 - val_true_negatives: 228.0000 - val_true_positives: 51.0000\n",
            "Epoch 178/200\n",
            "44/44 [==============================] - 2s 34ms/step - loss: 0.1132 - Accuracy: 0.9626 - false_negatives: 14.0000 - false_positives: 10.0000 - true_negatives: 1034.0000 - true_positives: 334.0000 - val_loss: 3.9351 - val_Accuracy: 0.5341 - val_false_negatives: 42.0000 - val_false_positives: 40.0000 - val_true_negatives: 224.0000 - val_true_positives: 46.0000\n",
            "Epoch 179/200\n",
            "44/44 [==============================] - 2s 35ms/step - loss: 0.1422 - Accuracy: 0.9483 - false_negatives: 19.0000 - false_positives: 15.0000 - true_negatives: 1029.0000 - true_positives: 329.0000 - val_loss: 3.2362 - val_Accuracy: 0.5682 - val_false_negatives: 39.0000 - val_false_positives: 38.0000 - val_true_negatives: 226.0000 - val_true_positives: 49.0000\n",
            "Epoch 180/200\n",
            "44/44 [==============================] - 2s 34ms/step - loss: 0.1882 - Accuracy: 0.9425 - false_negatives: 22.0000 - false_positives: 13.0000 - true_negatives: 1031.0000 - true_positives: 326.0000 - val_loss: 2.3003 - val_Accuracy: 0.5795 - val_false_negatives: 37.0000 - val_false_positives: 35.0000 - val_true_negatives: 229.0000 - val_true_positives: 51.0000\n",
            "Epoch 181/200\n",
            "44/44 [==============================] - 2s 35ms/step - loss: 0.1352 - Accuracy: 0.9626 - false_negatives: 15.0000 - false_positives: 11.0000 - true_negatives: 1033.0000 - true_positives: 333.0000 - val_loss: 2.7348 - val_Accuracy: 0.5795 - val_false_negatives: 37.0000 - val_false_positives: 35.0000 - val_true_negatives: 229.0000 - val_true_positives: 51.0000\n",
            "Epoch 182/200\n",
            "44/44 [==============================] - 2s 35ms/step - loss: 0.1116 - Accuracy: 0.9626 - false_negatives: 14.0000 - false_positives: 10.0000 - true_negatives: 1034.0000 - true_positives: 334.0000 - val_loss: 2.5689 - val_Accuracy: 0.5682 - val_false_negatives: 38.0000 - val_false_positives: 37.0000 - val_true_negatives: 227.0000 - val_true_positives: 50.0000\n",
            "Epoch 183/200\n",
            "44/44 [==============================] - 2s 35ms/step - loss: 0.1130 - Accuracy: 0.9655 - false_negatives: 13.0000 - false_positives: 10.0000 - true_negatives: 1034.0000 - true_positives: 335.0000 - val_loss: 3.2793 - val_Accuracy: 0.5682 - val_false_negatives: 38.0000 - val_false_positives: 32.0000 - val_true_negatives: 232.0000 - val_true_positives: 50.0000\n",
            "Epoch 184/200\n",
            "44/44 [==============================] - 2s 35ms/step - loss: 0.1139 - Accuracy: 0.9598 - false_negatives: 15.0000 - false_positives: 13.0000 - true_negatives: 1031.0000 - true_positives: 333.0000 - val_loss: 3.1612 - val_Accuracy: 0.5795 - val_false_negatives: 38.0000 - val_false_positives: 36.0000 - val_true_negatives: 228.0000 - val_true_positives: 50.0000\n",
            "Epoch 185/200\n",
            "44/44 [==============================] - 2s 35ms/step - loss: 0.0917 - Accuracy: 0.9741 - false_negatives: 11.0000 - false_positives: 9.0000 - true_negatives: 1035.0000 - true_positives: 337.0000 - val_loss: 2.8974 - val_Accuracy: 0.5909 - val_false_negatives: 36.0000 - val_false_positives: 33.0000 - val_true_negatives: 231.0000 - val_true_positives: 52.0000\n",
            "Epoch 186/200\n",
            "44/44 [==============================] - 2s 34ms/step - loss: 0.1021 - Accuracy: 0.9684 - false_negatives: 12.0000 - false_positives: 10.0000 - true_negatives: 1034.0000 - true_positives: 336.0000 - val_loss: 3.5241 - val_Accuracy: 0.5568 - val_false_negatives: 40.0000 - val_false_positives: 38.0000 - val_true_negatives: 226.0000 - val_true_positives: 48.0000\n",
            "Epoch 187/200\n",
            "44/44 [==============================] - 2s 35ms/step - loss: 0.1694 - Accuracy: 0.9432 - false_negatives: 21.0000 - false_positives: 18.0000 - true_negatives: 1038.0000 - true_positives: 331.0000 - val_loss: 2.7991 - val_Accuracy: 0.5455 - val_false_negatives: 40.0000 - val_false_positives: 38.0000 - val_true_negatives: 226.0000 - val_true_positives: 48.0000\n",
            "Epoch 188/200\n",
            "44/44 [==============================] - 2s 34ms/step - loss: 0.0607 - Accuracy: 0.9828 - false_negatives: 6.0000 - false_positives: 6.0000 - true_negatives: 1038.0000 - true_positives: 342.0000 - val_loss: 3.7458 - val_Accuracy: 0.5568 - val_false_negatives: 39.0000 - val_false_positives: 39.0000 - val_true_negatives: 225.0000 - val_true_positives: 49.0000\n",
            "Epoch 189/200\n",
            "44/44 [==============================] - 2s 35ms/step - loss: 0.0539 - Accuracy: 0.9828 - false_negatives: 6.0000 - false_positives: 5.0000 - true_negatives: 1039.0000 - true_positives: 342.0000 - val_loss: 3.2688 - val_Accuracy: 0.5568 - val_false_negatives: 39.0000 - val_false_positives: 38.0000 - val_true_negatives: 226.0000 - val_true_positives: 49.0000\n",
            "Epoch 190/200\n",
            "44/44 [==============================] - 2s 36ms/step - loss: 0.0930 - Accuracy: 0.9684 - false_negatives: 11.0000 - false_positives: 11.0000 - true_negatives: 1033.0000 - true_positives: 337.0000 - val_loss: 3.4725 - val_Accuracy: 0.5682 - val_false_negatives: 39.0000 - val_false_positives: 38.0000 - val_true_negatives: 226.0000 - val_true_positives: 49.0000\n",
            "Epoch 191/200\n",
            "44/44 [==============================] - 1s 34ms/step - loss: 0.1380 - Accuracy: 0.9454 - false_negatives: 20.0000 - false_positives: 16.0000 - true_negatives: 1028.0000 - true_positives: 328.0000 - val_loss: 2.3271 - val_Accuracy: 0.5909 - val_false_negatives: 37.0000 - val_false_positives: 35.0000 - val_true_negatives: 229.0000 - val_true_positives: 51.0000\n",
            "Epoch 192/200\n",
            "44/44 [==============================] - 2s 34ms/step - loss: 0.0987 - Accuracy: 0.9511 - false_negatives: 17.0000 - false_positives: 13.0000 - true_negatives: 1031.0000 - true_positives: 331.0000 - val_loss: 3.6897 - val_Accuracy: 0.5341 - val_false_negatives: 41.0000 - val_false_positives: 38.0000 - val_true_negatives: 226.0000 - val_true_positives: 47.0000\n",
            "Epoch 193/200\n",
            "44/44 [==============================] - 2s 35ms/step - loss: 0.1051 - Accuracy: 0.9598 - false_negatives: 15.0000 - false_positives: 12.0000 - true_negatives: 1032.0000 - true_positives: 333.0000 - val_loss: 3.0648 - val_Accuracy: 0.5795 - val_false_negatives: 37.0000 - val_false_positives: 36.0000 - val_true_negatives: 228.0000 - val_true_positives: 51.0000\n",
            "Epoch 194/200\n",
            "44/44 [==============================] - 2s 35ms/step - loss: 0.0584 - Accuracy: 0.9770 - false_negatives: 8.0000 - false_positives: 5.0000 - true_negatives: 1039.0000 - true_positives: 340.0000 - val_loss: 3.8836 - val_Accuracy: 0.5568 - val_false_negatives: 39.0000 - val_false_positives: 38.0000 - val_true_negatives: 226.0000 - val_true_positives: 49.0000\n",
            "Epoch 195/200\n",
            "44/44 [==============================] - 2s 34ms/step - loss: 0.1359 - Accuracy: 0.9511 - false_negatives: 20.0000 - false_positives: 13.0000 - true_negatives: 1031.0000 - true_positives: 328.0000 - val_loss: 3.5777 - val_Accuracy: 0.5568 - val_false_negatives: 40.0000 - val_false_positives: 36.0000 - val_true_negatives: 228.0000 - val_true_positives: 48.0000\n",
            "Epoch 196/200\n",
            "44/44 [==============================] - 2s 34ms/step - loss: 0.1437 - Accuracy: 0.9511 - false_negatives: 19.0000 - false_positives: 15.0000 - true_negatives: 1029.0000 - true_positives: 329.0000 - val_loss: 3.4174 - val_Accuracy: 0.5909 - val_false_negatives: 38.0000 - val_false_positives: 34.0000 - val_true_negatives: 230.0000 - val_true_positives: 50.0000\n",
            "Epoch 197/200\n",
            "44/44 [==============================] - 2s 35ms/step - loss: 0.1210 - Accuracy: 0.9540 - false_negatives: 18.0000 - false_positives: 15.0000 - true_negatives: 1029.0000 - true_positives: 330.0000 - val_loss: 4.1357 - val_Accuracy: 0.5795 - val_false_negatives: 37.0000 - val_false_positives: 35.0000 - val_true_negatives: 229.0000 - val_true_positives: 51.0000\n",
            "Epoch 198/200\n",
            "44/44 [==============================] - 2s 35ms/step - loss: 0.1433 - Accuracy: 0.9598 - false_negatives: 17.0000 - false_positives: 11.0000 - true_negatives: 1033.0000 - true_positives: 331.0000 - val_loss: 3.8520 - val_Accuracy: 0.5568 - val_false_negatives: 41.0000 - val_false_positives: 39.0000 - val_true_negatives: 225.0000 - val_true_positives: 47.0000\n",
            "Epoch 199/200\n",
            "44/44 [==============================] - 2s 35ms/step - loss: 0.1005 - Accuracy: 0.9713 - false_negatives: 11.0000 - false_positives: 10.0000 - true_negatives: 1034.0000 - true_positives: 337.0000 - val_loss: 2.7147 - val_Accuracy: 0.6023 - val_false_negatives: 35.0000 - val_false_positives: 33.0000 - val_true_negatives: 231.0000 - val_true_positives: 53.0000\n",
            "Epoch 200/200\n",
            "44/44 [==============================] - 2s 35ms/step - loss: 0.0777 - Accuracy: 0.9713 - false_negatives: 10.0000 - false_positives: 9.0000 - true_negatives: 1035.0000 - true_positives: 338.0000 - val_loss: 5.1199 - val_Accuracy: 0.5909 - val_false_negatives: 36.0000 - val_false_positives: 36.0000 - val_true_negatives: 228.0000 - val_true_positives: 52.0000\n"
          ]
        }
      ]
    },
    {
      "cell_type": "markdown",
      "source": [
        "Plotting Traning Result"
      ],
      "metadata": {
        "id": "XZSFG8fXqz7c"
      }
    },
    {
      "cell_type": "code",
      "source": [
        "  #plotting\n",
        "  epochs = range(1, len(history.history['loss'])+1)\n",
        "  #plt.title(f\"Grafik loss training iterasi {iterasi}\")\n",
        "  plt.title(f\"Grafik loss training VGG16\")\n",
        "  plt.plot(epochs, history.history['loss'], 'r', label='Training Loss')\n",
        "  plt.plot(epochs, history.history['val_loss'], 'b', label='Validation Loss')    \n",
        "  plt.xlabel(\"Epoch\")\n",
        "  plt.ylabel(\"Loss\")\n",
        "  plt.legend()\n",
        "  plt.show()\n"
      ],
      "metadata": {
        "id": "3dXbDrJpY1NK",
        "colab": {
          "base_uri": "https://localhost:8080/",
          "height": 295
        },
        "outputId": "1f298704-b6c2-4b38-d626-f050a437f9c4"
      },
      "execution_count": 11,
      "outputs": [
        {
          "output_type": "display_data",
          "data": {
            "text/plain": [
              "<Figure size 432x288 with 1 Axes>"
            ],
            "image/png": "[encoded data removed]"
          },
          "metadata": {
            "needs_background": "light"
          }
        }
      ]
    },
    {
      "cell_type": "code",
      "source": [
        "  #plotting\n",
        "  epochs = range(1, len(history.history['loss'])+1)\n",
        "  #plt.title(f\"Grafik Akurasi training iterasi {iterasi}\")\n",
        "  plt.title(f\"Grafik Akurasi training VGG16\")\n",
        "  plt.plot(epochs, history.history['Accuracy'], 'r', label='Training Accuracy')\n",
        "  plt.plot(epochs, history.history['val_Accuracy'], 'b', label='Validation Accuracy')    \n",
        "  plt.xlabel(\"Epoch\")\n",
        "  plt.ylabel(\"Accuracy\")\n",
        "  plt.legend()\n",
        "  plt.show()"
      ],
      "metadata": {
        "id": "j3xigprPwlSX",
        "colab": {
          "base_uri": "https://localhost:8080/",
          "height": 295
        },
        "outputId": "3d4c3148-de9f-41b4-d894-1b667ff88b0c"
      },
      "execution_count": 12,
      "outputs": [
        {
          "output_type": "display_data",
          "data": {
            "text/plain": [
              "<Figure size 432x288 with 1 Axes>"
            ],
            "image/png": "[encoded data removed]"
          },
          "metadata": {
            "needs_background": "light"
          }
        }
      ]
    },
    {
      "cell_type": "markdown",
      "metadata": {
        "id": "bTgk1-sdzmgy"
      },
      "source": [
        "**Validating** Network"
      ]
    },
    {
      "cell_type": "code",
      "source": [
        "import matplotlib.pyplot as plt\n",
        "from sklearn.datasets import make_classification\n",
        "from numpy import mean\n",
        "from sklearn.metrics import confusion_matrix, ConfusionMatrixDisplay, accuracy_score, classification_report, recall_score\n",
        "\n",
        "validation = model.predict(np_image_list_validation)\n",
        "\n",
        "predicted_labels = []\n",
        "correct_labels = []\n",
        "for i in range (len(validation)):\n",
        "  predicted_labels.append(np.argmax(validation[i]))\n",
        "\n",
        "for i in range (len(image_labels_validation)):\n",
        "  correct_labels.append(np.argmax(image_labels_validation[i]))\n",
        "\n",
        "\n",
        "confusion_matrix = confusion_matrix(correct_labels, predicted_labels)\n",
        "disp = ConfusionMatrixDisplay(confusion_matrix=confusion_matrix)  \n",
        "disp.plot()\n",
        "plt.show()\n",
        "print('--------')\n",
        "FP = confusion_matrix.sum(axis=0) - np.diag(confusion_matrix)  \n",
        "FN = confusion_matrix.sum(axis=1) - np.diag(confusion_matrix)\n",
        "TP = np.diag(confusion_matrix)\n",
        "TN = confusion_matrix.sum() - (FP + FN + TP)\n",
        "\n",
        "# Sensitivity, hit rate, recall, or true positive rate\n",
        "TPR = TP/(TP+FN)\n",
        "# Specificity or true negative rate\n",
        "TNR = TN/(TN+FP) \n",
        "# Overall accuracy\n",
        "ACC = (TP+TN)/(TP+FP+FN+TN)\n",
        "\n",
        "print(TP)\n",
        "print(TN)\n",
        "print(FP)\n",
        "print(FN)\n",
        "print('--------')\n",
        "print(ACC)\n",
        "print(TPR)\n",
        "print(TNR)\n",
        "print('--------')\n",
        "\n",
        "TP = sum(TP)\n",
        "TN = sum(TN)\n",
        "FP = sum(FP)\n",
        "FN = sum(FN)\n",
        "\n",
        "# Sensitivity, hit rate, recall, or true positive rate\n",
        "TPR = TP/(TP+FN)\n",
        "# Specificity or true negative rate\n",
        "TNR = TN/(TN+FP) \n",
        "# Overall accuracy\n",
        "ACC = (TP+TN)/(TP+FP+FN+TN)\n",
        "\n",
        "print(TP)\n",
        "print(TN)\n",
        "print(FP)\n",
        "print(FN)\n",
        "print('--------')\n",
        "print(ACC)\n",
        "print(TPR)\n",
        "print(TNR)"
      ],
      "metadata": {
        "id": "z9NBaYvZ61d7",
        "colab": {
          "base_uri": "https://localhost:8080/",
          "height": 591
        },
        "outputId": "68597920-dd3a-4875-deea-412bf702738b"
      },
      "execution_count": 13,
      "outputs": [
        {
          "output_type": "display_data",
          "data": {
            "text/plain": [
              "<Figure size 432x288 with 2 Axes>"
            ],
            "image/png": "[encoded data removed]"
          },
          "metadata": {
            "needs_background": "light"
          }
        },
        {
          "output_type": "stream",
          "name": "stdout",
          "text": [
            "--------\n",
            "[ 3  5  7 37]\n",
            "[70 70 58 30]\n",
            "[ 8  5  5 18]\n",
            "[ 7  8 18  3]\n",
            "--------\n",
            "[0.82954545 0.85227273 0.73863636 0.76136364]\n",
            "[0.3        0.38461538 0.28       0.925     ]\n",
            "[0.8974359  0.93333333 0.92063492 0.625     ]\n",
            "--------\n",
            "52\n",
            "228\n",
            "36\n",
            "36\n",
            "--------\n",
            "0.7954545454545454\n",
            "0.5909090909090909\n",
            "0.8636363636363636\n"
          ]
        }
      ]
    },
    {
      "cell_type": "markdown",
      "source": [
        "**Testing** Network"
      ],
      "metadata": {
        "id": "saJYjKqX9tRL"
      }
    },
    {
      "cell_type": "code",
      "source": [
        "import matplotlib.pyplot as plt\n",
        "from sklearn.datasets import make_classification\n",
        "from numpy import mean\n",
        "from sklearn.metrics import confusion_matrix, ConfusionMatrixDisplay, accuracy_score, classification_report, recall_score\n",
        "\n",
        "test = model.predict(np_image_list_test)\n",
        "\n",
        "predicted_labels = []\n",
        "correct_labels = []\n",
        "for i in range (len(test)):\n",
        "  predicted_labels.append(np.argmax(test[i]))\n",
        "\n",
        "for i in range (len(image_labels_test)):\n",
        "  correct_labels.append(np.argmax(image_labels_test[i]))\n",
        "\n",
        "\n",
        "confusion_matrix = confusion_matrix(correct_labels, predicted_labels)\n",
        "disp = ConfusionMatrixDisplay(confusion_matrix=confusion_matrix)  \n",
        "disp.plot()\n",
        "plt.show()\n",
        "print('--------')\n",
        "FP = confusion_matrix.sum(axis=0) - np.diag(confusion_matrix)  \n",
        "FN = confusion_matrix.sum(axis=1) - np.diag(confusion_matrix)\n",
        "TP = np.diag(confusion_matrix)\n",
        "TN = confusion_matrix.sum() - (FP + FN + TP)\n",
        "\n",
        "# Sensitivity, hit rate, recall, or true positive rate\n",
        "TPR = TP/(TP+FN)\n",
        "# Specificity or true negative rate\n",
        "TNR = TN/(TN+FP) \n",
        "# Overall accuracy\n",
        "ACC = (TP+TN)/(TP+FP+FN+TN)\n",
        "\n",
        "print(TP)\n",
        "print(TN)\n",
        "print(FP)\n",
        "print(FN)\n",
        "print('--------')\n",
        "print(ACC)\n",
        "print(TPR)\n",
        "print(TNR)\n",
        "print('--------')\n",
        "\n",
        "TP = sum(TP)\n",
        "TN = sum(TN)\n",
        "FP = sum(FP)\n",
        "FN = sum(FN)\n",
        "\n",
        "# Sensitivity, hit rate, recall, or true positive rate\n",
        "TPR = TP/(TP+FN)\n",
        "# Specificity or true negative rate\n",
        "TNR = TN/(TN+FP) \n",
        "# Overall accuracy\n",
        "ACC = (TP+TN)/(TP+FP+FN+TN)\n",
        "\n",
        "print(TP)\n",
        "print(TN)\n",
        "print(FP)\n",
        "print(FN)\n",
        "print('--------')\n",
        "print(ACC)\n",
        "print(TPR)\n",
        "print(TNR)"
      ],
      "metadata": {
        "id": "3a1AYdsF4FoY",
        "colab": {
          "base_uri": "https://localhost:8080/",
          "height": 595
        },
        "outputId": "aff3cfb0-2e9d-4754-d288-0114c73cead9"
      },
      "execution_count": 14,
      "outputs": [
        {
          "output_type": "display_data",
          "data": {
            "text/plain": [
              "<Figure size 432x288 with 2 Axes>"
            ],
            "image/png": "[encoded data removed]"
          },
          "metadata": {
            "needs_background": "light"
          }
        },
        {
          "output_type": "stream",
          "name": "stdout",
          "text": [
            "--------\n",
            "[ 3  7 10 45]\n",
            "[88 87 73 37]\n",
            "[10  7  5 23]\n",
            "[ 9  9 22  5]\n",
            "--------\n",
            "[0.82727273 0.85454545 0.75454545 0.74545455]\n",
            "[0.25   0.4375 0.3125 0.9   ]\n",
            "[0.89795918 0.92553191 0.93589744 0.61666667]\n",
            "--------\n",
            "65\n",
            "285\n",
            "45\n",
            "45\n",
            "--------\n",
            "0.7954545454545454\n",
            "0.5909090909090909\n",
            "0.8636363636363636\n"
          ]
        }
      ]
    },
    {
      "cell_type": "code",
      "metadata": {
        "id": "AKd6Tu7mzmg2"
      },
      "source": [
        "# save the model to disk\n",
        "#print(\"[INFO] Saving model...\")\n",
        "# pickle.dump(model,open('cnn_model.pkl', 'wb'))\n",
        "#model.save('/content/vgg16.h5')    "
      ],
      "execution_count": 15,
      "outputs": []
    },
    {
      "cell_type": "code",
      "metadata": {
        "id": "O6iIKa7Jzmg7"
      },
      "source": [
        "#test_img = cv2.imread('/content/datasets/Apple/Apple___Black_rot/0139bc6d-391c-4fd1-bcae-cc74dabfddd7___JR_FrgE.S 2734.JPG')\n",
        "\n",
        "#plt.imshow(test_img)\n",
        "#test_img = test_img / 255\n",
        "#test_img = np.expand_dims(test_img, axis=0)\n",
        "#pr=model.predict(test_img)\n",
        "\n",
        "#print(pr)\n",
        "#output = label_binarizer.inverse_transform(pr)\n",
        "#print(output)\n"
      ],
      "execution_count": 16,
      "outputs": []
    }
  ]
}