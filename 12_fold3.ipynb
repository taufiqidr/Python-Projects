{
  "nbformat": 4,
  "nbformat_minor": 0,
  "metadata": {
    "accelerator": "GPU",
    "colab": {
      "name": "Kodingan Skripsi 3",
      "provenance": [],
      "collapsed_sections": [],
      "include_colab_link": true
    },
    "kernelspec": {
      "display_name": "Python 3",
      "language": "python",
      "name": "python3"
    },
    "language_info": {
      "codemirror_mode": {
        "name": "ipython",
        "version": 3
      },
      "file_extension": ".py",
      "mimetype": "text/x-python",
      "name": "python",
      "nbconvert_exporter": "python",
      "pygments_lexer": "ipython3",
      "version": "3.6.6"
    }
  },
  "cells": [
    {
      "cell_type": "markdown",
      "metadata": {
        "id": "view-in-github",
        "colab_type": "text"
      },
      "source": [
        "<a href=\"https://colab.research.google.com/github/TaufiqIdrus/Python-Projects/blob/master/12_fold3.ipynb\" target=\"_parent\"><img src=\"https://colab.research.google.com/assets/colab-badge.svg\" alt=\"Open In Colab\"/></a>"
      ]
    },
    {
      "cell_type": "markdown",
      "metadata": {
        "id": "yJT_kQA2lITS"
      },
      "source": [
        "**Identifikasi Penyakit Pada Tanaman Apel menggunakan Convolutional Neural Network**"
      ]
    },
    {
      "cell_type": "code",
      "metadata": {
        "id": "xXeOaYTUzmgT"
      },
      "source": [
        "import numpy as np\n",
        "import pickle\n",
        "import os\n",
        "import cv2\n",
        "import tensorflow as tf\n",
        "import keras\n",
        "from os import listdir\n",
        "from sklearn.preprocessing import LabelBinarizer\n",
        "from keras.models import Sequential\n",
        "from keras.layers.convolutional import Conv2D\n",
        "from keras.layers.convolutional import MaxPooling2D\n",
        "from keras.layers.core import Activation, Flatten, Dropout, Dense\n",
        "from keras import backend as K\n",
        "from tensorflow.keras.optimizers import Adam\n",
        "from keras.preprocessing import image\n",
        "import matplotlib.pyplot as plt\n",
        "from sklearn.datasets import make_classification\n",
        "from numpy import mean\n"
      ],
      "execution_count": 1,
      "outputs": []
    },
    {
      "cell_type": "markdown",
      "metadata": {
        "id": "fp8C0d28lQok"
      },
      "source": [
        "Importing and Preparing Dataset"
      ]
    },
    {
      "cell_type": "code",
      "metadata": {
        "id": "_0xehllADlUs",
        "colab": {
          "base_uri": "https://localhost:8080/"
        },
        "outputId": "b9ca904f-caab-423b-ee71-5b44c522353d"
      },
      "source": [
        "!pip install pyunpack\n",
        "!pip install patool\n",
        "from pyunpack import Archive\n",
        "Archive('/content/fold3.rar').extractall('/content/Datasets/')\n",
        "iterasi = 3\n",
        "width=60\n",
        "height=60\n",
        "default_image_size = tuple((height, width))\n",
        "directory_root_train = '/content/Datasets/fold3/Train'\n",
        "directory_root_validation = '/content/Datasets/fold3/Validation'\n",
        "directory_root_test = '/content/Datasets/fold3/Test'\n",
        "image_size = 0\n",
        "depth=3"
      ],
      "execution_count": 2,
      "outputs": [
        {
          "output_type": "stream",
          "name": "stdout",
          "text": [
            "Looking in indexes: https://pypi.org/simple, https://us-python.pkg.dev/colab-wheels/public/simple/\n",
            "Collecting pyunpack\n",
            "  Downloading pyunpack-0.3-py2.py3-none-any.whl (4.1 kB)\n",
            "Collecting easyprocess\n",
            "  Downloading EasyProcess-1.1-py3-none-any.whl (8.7 kB)\n",
            "Collecting entrypoint2\n",
            "  Downloading entrypoint2-1.1-py2.py3-none-any.whl (9.9 kB)\n",
            "Installing collected packages: entrypoint2, easyprocess, pyunpack\n",
            "Successfully installed easyprocess-1.1 entrypoint2-1.1 pyunpack-0.3\n",
            "Looking in indexes: https://pypi.org/simple, https://us-python.pkg.dev/colab-wheels/public/simple/\n",
            "Collecting patool\n",
            "  Downloading patool-1.12-py2.py3-none-any.whl (77 kB)\n",
            "\u001b[K     |████████████████████████████████| 77 kB 4.8 MB/s \n",
            "\u001b[?25hInstalling collected packages: patool\n",
            "Successfully installed patool-1.12\n"
          ]
        }
      ]
    },
    {
      "cell_type": "code",
      "metadata": {
        "id": "KbAwJJTpzmge"
      },
      "source": [
        "def convert_image_to_array(image_dir):\n",
        "    try:\n",
        "        image = cv2.imread(image_dir)\n",
        "        if image is not None :\n",
        "            image = cv2.resize(image, default_image_size)   \n",
        "            return keras.preprocessing.image.img_to_array(image)\n",
        "        else :\n",
        "            return np.array([])\n",
        "    except Exception as e:\n",
        "        print(f\"Error : {e}\")\n",
        "        return None"
      ],
      "execution_count": 3,
      "outputs": []
    },
    {
      "cell_type": "markdown",
      "source": [
        "Converting **Training** Data to Array"
      ],
      "metadata": {
        "id": "bgXxUMO2cI_D"
      }
    },
    {
      "cell_type": "code",
      "metadata": {
        "id": "Erz6IjKXzmgg",
        "colab": {
          "base_uri": "https://localhost:8080/"
        },
        "outputId": "b776a278-dd21-4989-8e55-04299e4069de"
      },
      "source": [
        "image_list_train, label_list_train = [], []\n",
        "try:\n",
        "    print(\"[INFO] Loading images ...\")\n",
        "    root_dir = listdir(directory_root_train)\n",
        "\n",
        "    for plant_disease_folder in root_dir:\n",
        "        print(f\"[INFO] Processing {plant_disease_folder} ...\")\n",
        "        plant_disease_image_list = listdir(f\"{directory_root_train}/{plant_disease_folder}/\")\n",
        "      \n",
        "        for image in plant_disease_image_list:\n",
        "            image_directory = f\"{directory_root_train}/{plant_disease_folder}/{image}\"\n",
        "\n",
        "            if image_directory.endswith(\".jpg\") == True or image_directory.endswith(\".JPG\") == True:\n",
        "                image_list_train.append(convert_image_to_array(image_directory))\n",
        "                label_list_train.append(plant_disease_folder)\n",
        "    print(\"[INFO] Image loading completed\")\n",
        "\n",
        "except Exception as e:\n",
        "    print(f\"Error : {e}\")\n",
        "\n",
        "#image labeling\n",
        "image_size = len(image_list_train)\n",
        "label_binarizer = LabelBinarizer()\n",
        "image_labels_train = label_binarizer.fit_transform(label_list_train)\n",
        "pickle.dump(label_binarizer,open('label_transform_train.pkl', 'wb'))\n",
        "n_classes = len(label_binarizer.classes_)\n",
        "np_image_list_train = np.array(image_list_train, dtype=np.float16) / 255.0"
      ],
      "execution_count": 4,
      "outputs": [
        {
          "output_type": "stream",
          "name": "stdout",
          "text": [
            "[INFO] Loading images ...\n",
            "[INFO] Processing apel_sehat ...\n",
            "[INFO] Processing apel_bercak_daun ...\n",
            "[INFO] Processing apel_cacar_daun ...\n",
            "[INFO] Processing apel_busuk_buah ...\n",
            "[INFO] Image loading completed\n"
          ]
        }
      ]
    },
    {
      "cell_type": "markdown",
      "source": [
        "Converting **Validation** Data to Array"
      ],
      "metadata": {
        "id": "7eEMGiqRd_E4"
      }
    },
    {
      "cell_type": "code",
      "source": [
        "image_list_validation, label_list_validation = [], []\n",
        "try:\n",
        "    print(\"[INFO] Loading images ...\")\n",
        "    root_dir = listdir(directory_root_validation)\n",
        "\n",
        "    for plant_disease_folder in root_dir:\n",
        "        print(f\"[INFO] Processing {plant_disease_folder} ...\")\n",
        "        plant_disease_image_list = listdir(f\"{directory_root_validation}/{plant_disease_folder}/\")\n",
        "      \n",
        "        for image in plant_disease_image_list:\n",
        "            image_directory = f\"{directory_root_validation}/{plant_disease_folder}/{image}\"\n",
        "\n",
        "            if image_directory.endswith(\".jpg\") == True or image_directory.endswith(\".JPG\") == True:\n",
        "                image_list_validation.append(convert_image_to_array(image_directory))\n",
        "                label_list_validation.append(plant_disease_folder)\n",
        "    print(\"[INFO] Image loading completed\")\n",
        "\n",
        "except Exception as e:\n",
        "    print(f\"Error : {e}\")\n",
        "\n",
        "#image labeling\n",
        "image_size = len(image_list_validation)\n",
        "label_binarizer = LabelBinarizer()\n",
        "image_labels_validation = label_binarizer.fit_transform(label_list_validation)\n",
        "pickle.dump(label_binarizer,open('label_transform_validation.pkl', 'wb'))\n",
        "n_classes = len(label_binarizer.classes_)\n",
        "np_image_list_validation = np.array(image_list_validation, dtype=np.float16) / 255.0"
      ],
      "metadata": {
        "id": "wfHDdR0ZeEuU",
        "colab": {
          "base_uri": "https://localhost:8080/"
        },
        "outputId": "ecd7913e-9038-4be7-fb77-cddda56586ca"
      },
      "execution_count": 5,
      "outputs": [
        {
          "output_type": "stream",
          "name": "stdout",
          "text": [
            "[INFO] Loading images ...\n",
            "[INFO] Processing apel_sehat ...\n",
            "[INFO] Processing apel_bercak_daun ...\n",
            "[INFO] Processing apel_cacar_daun ...\n",
            "[INFO] Processing apel_busuk_buah ...\n",
            "[INFO] Image loading completed\n"
          ]
        }
      ]
    },
    {
      "cell_type": "markdown",
      "source": [
        "Converting **Testing** Data to Array"
      ],
      "metadata": {
        "id": "brwWyZVncTdg"
      }
    },
    {
      "cell_type": "code",
      "metadata": {
        "id": "uNPby5UMcaWY",
        "colab": {
          "base_uri": "https://localhost:8080/"
        },
        "outputId": "488570e1-76bf-4a96-c6ab-dc7851870dd9"
      },
      "source": [
        "image_list_test, label_list_test = [], []\n",
        "try:\n",
        "    print(\"[INFO] Loading images ...\")\n",
        "    root_dir = listdir(directory_root_test)\n",
        "\n",
        "    for plant_disease_folder in root_dir:\n",
        "        print(f\"[INFO] Processing {plant_disease_folder} ...\")\n",
        "        plant_disease_image_list = listdir(f\"{directory_root_test}/{plant_disease_folder}/\")\n",
        "      \n",
        "        for image in plant_disease_image_list:\n",
        "            image_directory = f\"{directory_root_test}/{plant_disease_folder}/{image}\"\n",
        "\n",
        "            if image_directory.endswith(\".jpg\") == True or image_directory.endswith(\".JPG\") == True:\n",
        "                image_list_test.append(convert_image_to_array(image_directory))\n",
        "                label_list_test.append(plant_disease_folder)\n",
        "    print(\"[INFO] Image loading completed\")\n",
        "\n",
        "except Exception as e:\n",
        "    print(f\"Error : {e}\")\n",
        "\n",
        "#image labeling\n",
        "image_size = len(image_list_test)\n",
        "label_binarizer = LabelBinarizer()\n",
        "image_labels_test = label_binarizer.fit_transform(label_list_test)\n",
        "pickle.dump(label_binarizer,open('label_transform_test.pkl', 'wb'))\n",
        "n_classes = len(label_binarizer.classes_)\n",
        "np_image_list_test = np.array(image_list_test, dtype=np.float16) / 255.0"
      ],
      "execution_count": 6,
      "outputs": [
        {
          "output_type": "stream",
          "name": "stdout",
          "text": [
            "[INFO] Loading images ...\n",
            "[INFO] Processing apel_sehat ...\n",
            "[INFO] Processing apel_bercak_daun ...\n",
            "[INFO] Processing apel_cacar_daun ...\n",
            "[INFO] Processing apel_busuk_buah ...\n",
            "[INFO] Image loading completed\n"
          ]
        }
      ]
    },
    {
      "cell_type": "markdown",
      "metadata": {
        "id": "jYBTFN0CnAi7"
      },
      "source": [
        "Data Augmenting Initialization"
      ]
    },
    {
      "cell_type": "code",
      "metadata": {
        "id": "TLMxMK2Tzmgr"
      },
      "source": [
        "aug = keras.preprocessing.image.ImageDataGenerator(\n",
        "    rotation_range=25, \n",
        "    width_shift_range=0.1,\n",
        "    height_shift_range=0.1, \n",
        "    shear_range=0.2, \n",
        "    zoom_range=0.2,\n",
        "    horizontal_flip=True, \n",
        "    fill_mode=\"nearest\")"
      ],
      "execution_count": 7,
      "outputs": []
    },
    {
      "cell_type": "markdown",
      "metadata": {
        "id": "H1BfRyYNnGv_"
      },
      "source": [
        "Creating CNN Model"
      ]
    },
    {
      "cell_type": "code",
      "metadata": {
        "id": "WmLX4wm8zmgs"
      },
      "source": [
        "model = keras.models.Sequential()\n",
        "inputShape = (height, width, depth)\n",
        "\n",
        "model.add(Conv2D(20, (5, 5), padding=\"same\",input_shape=inputShape))\n",
        "model.add(Activation(\"relu\"))\n",
        "\n",
        "model.add(MaxPooling2D(pool_size=(2, 2), strides=2))\n",
        "\n",
        "model.add(Conv2D(50, (5, 5), padding=\"same\"))\n",
        "model.add(Activation(\"relu\"))\n",
        "\n",
        "model.add(MaxPooling2D(pool_size=(2, 2),strides=2))\n",
        "\n",
        "model.add(Flatten())\n",
        "\n",
        "model.add(Dense(500))\n",
        "model.add(Activation(\"relu\"))\n",
        "\n",
        "model.add(Dense(4))\n",
        "model.add(Activation(\"softmax\"))"
      ],
      "execution_count": 8,
      "outputs": []
    },
    {
      "cell_type": "code",
      "source": [
        "#model.summary()"
      ],
      "metadata": {
        "id": "RQIgaph8hW06"
      },
      "execution_count": 9,
      "outputs": []
    },
    {
      "cell_type": "code",
      "source": [
        "#from PIL import Image\n",
        "#from keras.utils.vis_utils import plot_model\n",
        "#plot_model(model, to_file='cnn_model.png', show_shapes=True, show_layer_names=True)\n",
        "#display(Image.open('cnn_model.png'))"
      ],
      "metadata": {
        "id": "T05gPuu1GudW"
      },
      "execution_count": 10,
      "outputs": []
    },
    {
      "cell_type": "markdown",
      "metadata": {
        "id": "Zfsu3lVfnXFG"
      },
      "source": [
        "**Training** Network"
      ]
    },
    {
      "cell_type": "code",
      "metadata": {
        "id": "rvwKwe3Lzmgv",
        "colab": {
          "base_uri": "https://localhost:8080/"
        },
        "outputId": "ee05ae36-fef8-4aff-eeb3-e4074cc67862"
      },
      "source": [
        "EPOCHS = 200\n",
        "INIT_LR = 1e-3\n",
        "BS = 8\n",
        "\n",
        "with tf.device('/GPU:0'):\n",
        "  opt = Adam(learning_rate=INIT_LR, decay=INIT_LR / EPOCHS)\n",
        "  model.compile(loss=\"categorical_crossentropy\", optimizer=opt,metrics=[\"Accuracy\", \"FalseNegatives\", \"FalsePositives\", \"TrueNegatives\", \"TruePositives\"])\n",
        "  \n",
        "  history = model.fit(\n",
        "      aug.flow(np_image_list_train, image_labels_train, batch_size=BS),\n",
        "      validation_data=(np_image_list_validation, image_labels_validation),\n",
        "      steps_per_epoch=len(np_image_list_train) // BS,\n",
        "      epochs=EPOCHS, \n",
        "      verbose=1,\n",
        "      )\n"
      ],
      "execution_count": 11,
      "outputs": [
        {
          "output_type": "stream",
          "name": "stdout",
          "text": [
            "Epoch 1/200\n",
            "44/44 [==============================] - 18s 58ms/step - loss: 1.4141 - Accuracy: 0.4282 - false_negatives: 339.0000 - false_positives: 23.0000 - true_negatives: 1021.0000 - true_positives: 9.0000 - val_loss: 1.2503 - val_Accuracy: 0.4545 - val_false_negatives: 88.0000 - val_false_positives: 0.0000e+00 - val_true_negatives: 264.0000 - val_true_positives: 0.0000e+00\n",
            "Epoch 2/200\n",
            "44/44 [==============================] - 1s 15ms/step - loss: 1.2562 - Accuracy: 0.4569 - false_negatives: 316.0000 - false_positives: 37.0000 - true_negatives: 1007.0000 - true_positives: 32.0000 - val_loss: 1.1543 - val_Accuracy: 0.4545 - val_false_negatives: 76.0000 - val_false_positives: 1.0000 - val_true_negatives: 263.0000 - val_true_positives: 12.0000\n",
            "Epoch 3/200\n",
            "44/44 [==============================] - 1s 16ms/step - loss: 1.1821 - Accuracy: 0.4684 - false_negatives: 261.0000 - false_positives: 34.0000 - true_negatives: 1010.0000 - true_positives: 87.0000 - val_loss: 1.0425 - val_Accuracy: 0.5682 - val_false_negatives: 49.0000 - val_false_positives: 11.0000 - val_true_negatives: 253.0000 - val_true_positives: 39.0000\n",
            "Epoch 4/200\n",
            "44/44 [==============================] - 1s 16ms/step - loss: 1.1257 - Accuracy: 0.5718 - false_negatives: 247.0000 - false_positives: 46.0000 - true_negatives: 998.0000 - true_positives: 101.0000 - val_loss: 1.0014 - val_Accuracy: 0.5341 - val_false_negatives: 48.0000 - val_false_positives: 17.0000 - val_true_negatives: 247.0000 - val_true_positives: 40.0000\n",
            "Epoch 5/200\n",
            "44/44 [==============================] - 1s 16ms/step - loss: 1.0889 - Accuracy: 0.5603 - false_negatives: 233.0000 - false_positives: 44.0000 - true_negatives: 1000.0000 - true_positives: 115.0000 - val_loss: 0.8730 - val_Accuracy: 0.7045 - val_false_negatives: 48.0000 - val_false_positives: 8.0000 - val_true_negatives: 256.0000 - val_true_positives: 40.0000\n",
            "Epoch 6/200\n",
            "44/44 [==============================] - 1s 16ms/step - loss: 1.0583 - Accuracy: 0.6092 - false_negatives: 237.0000 - false_positives: 43.0000 - true_negatives: 1001.0000 - true_positives: 111.0000 - val_loss: 0.7861 - val_Accuracy: 0.7159 - val_false_negatives: 34.0000 - val_false_positives: 16.0000 - val_true_negatives: 248.0000 - val_true_positives: 54.0000\n",
            "Epoch 7/200\n",
            "44/44 [==============================] - 1s 16ms/step - loss: 1.0056 - Accuracy: 0.6207 - false_negatives: 223.0000 - false_positives: 46.0000 - true_negatives: 998.0000 - true_positives: 125.0000 - val_loss: 0.7537 - val_Accuracy: 0.7159 - val_false_negatives: 39.0000 - val_false_positives: 17.0000 - val_true_negatives: 247.0000 - val_true_positives: 49.0000\n",
            "Epoch 8/200\n",
            "44/44 [==============================] - 1s 15ms/step - loss: 1.0212 - Accuracy: 0.5776 - false_negatives: 214.0000 - false_positives: 42.0000 - true_negatives: 1002.0000 - true_positives: 134.0000 - val_loss: 0.7042 - val_Accuracy: 0.8068 - val_false_negatives: 45.0000 - val_false_positives: 4.0000 - val_true_negatives: 260.0000 - val_true_positives: 43.0000\n",
            "Epoch 9/200\n",
            "44/44 [==============================] - 1s 16ms/step - loss: 1.0858 - Accuracy: 0.5776 - false_negatives: 229.0000 - false_positives: 54.0000 - true_negatives: 990.0000 - true_positives: 119.0000 - val_loss: 0.7998 - val_Accuracy: 0.7500 - val_false_negatives: 48.0000 - val_false_positives: 5.0000 - val_true_negatives: 259.0000 - val_true_positives: 40.0000\n",
            "Epoch 10/200\n",
            "44/44 [==============================] - 1s 16ms/step - loss: 1.0415 - Accuracy: 0.6178 - false_negatives: 225.0000 - false_positives: 46.0000 - true_negatives: 998.0000 - true_positives: 123.0000 - val_loss: 0.8087 - val_Accuracy: 0.7159 - val_false_negatives: 48.0000 - val_false_positives: 6.0000 - val_true_negatives: 258.0000 - val_true_positives: 40.0000\n",
            "Epoch 11/200\n",
            "44/44 [==============================] - 1s 16ms/step - loss: 1.0614 - Accuracy: 0.5891 - false_negatives: 236.0000 - false_positives: 43.0000 - true_negatives: 1001.0000 - true_positives: 112.0000 - val_loss: 0.7543 - val_Accuracy: 0.7159 - val_false_negatives: 47.0000 - val_false_positives: 10.0000 - val_true_negatives: 254.0000 - val_true_positives: 41.0000\n",
            "Epoch 12/200\n",
            "44/44 [==============================] - 1s 16ms/step - loss: 1.0329 - Accuracy: 0.5920 - false_negatives: 228.0000 - false_positives: 38.0000 - true_negatives: 1006.0000 - true_positives: 120.0000 - val_loss: 0.6530 - val_Accuracy: 0.8068 - val_false_negatives: 40.0000 - val_false_positives: 6.0000 - val_true_negatives: 258.0000 - val_true_positives: 48.0000\n",
            "Epoch 13/200\n",
            "44/44 [==============================] - 1s 16ms/step - loss: 0.9827 - Accuracy: 0.6121 - false_negatives: 187.0000 - false_positives: 65.0000 - true_negatives: 979.0000 - true_positives: 161.0000 - val_loss: 0.9378 - val_Accuracy: 0.6818 - val_false_negatives: 43.0000 - val_false_positives: 21.0000 - val_true_negatives: 243.0000 - val_true_positives: 45.0000\n",
            "Epoch 14/200\n",
            "44/44 [==============================] - 1s 16ms/step - loss: 0.9889 - Accuracy: 0.5833 - false_negatives: 200.0000 - false_positives: 59.0000 - true_negatives: 985.0000 - true_positives: 148.0000 - val_loss: 0.6427 - val_Accuracy: 0.7045 - val_false_negatives: 42.0000 - val_false_positives: 9.0000 - val_true_negatives: 255.0000 - val_true_positives: 46.0000\n",
            "Epoch 15/200\n",
            "44/44 [==============================] - 1s 16ms/step - loss: 0.9780 - Accuracy: 0.6034 - false_negatives: 202.0000 - false_positives: 52.0000 - true_negatives: 992.0000 - true_positives: 146.0000 - val_loss: 0.7512 - val_Accuracy: 0.7955 - val_false_negatives: 44.0000 - val_false_positives: 4.0000 - val_true_negatives: 260.0000 - val_true_positives: 44.0000\n",
            "Epoch 16/200\n",
            "44/44 [==============================] - 1s 15ms/step - loss: 0.9576 - Accuracy: 0.6178 - false_negatives: 203.0000 - false_positives: 53.0000 - true_negatives: 991.0000 - true_positives: 145.0000 - val_loss: 0.6441 - val_Accuracy: 0.7841 - val_false_negatives: 30.0000 - val_false_positives: 10.0000 - val_true_negatives: 254.0000 - val_true_positives: 58.0000\n",
            "Epoch 17/200\n",
            "44/44 [==============================] - 1s 15ms/step - loss: 0.9791 - Accuracy: 0.6178 - false_negatives: 202.0000 - false_positives: 56.0000 - true_negatives: 988.0000 - true_positives: 146.0000 - val_loss: 0.6369 - val_Accuracy: 0.7614 - val_false_negatives: 28.0000 - val_false_positives: 10.0000 - val_true_negatives: 254.0000 - val_true_positives: 60.0000\n",
            "Epoch 18/200\n",
            "44/44 [==============================] - 1s 16ms/step - loss: 0.9314 - Accuracy: 0.6236 - false_negatives: 182.0000 - false_positives: 59.0000 - true_negatives: 985.0000 - true_positives: 166.0000 - val_loss: 0.5885 - val_Accuracy: 0.7159 - val_false_negatives: 36.0000 - val_false_positives: 14.0000 - val_true_negatives: 250.0000 - val_true_positives: 52.0000\n",
            "Epoch 19/200\n",
            "44/44 [==============================] - 1s 16ms/step - loss: 0.9330 - Accuracy: 0.6092 - false_negatives: 168.0000 - false_positives: 75.0000 - true_negatives: 969.0000 - true_positives: 180.0000 - val_loss: 0.6356 - val_Accuracy: 0.7955 - val_false_negatives: 27.0000 - val_false_positives: 12.0000 - val_true_negatives: 252.0000 - val_true_positives: 61.0000\n",
            "Epoch 20/200\n",
            "44/44 [==============================] - 1s 16ms/step - loss: 0.9342 - Accuracy: 0.6351 - false_negatives: 185.0000 - false_positives: 57.0000 - true_negatives: 987.0000 - true_positives: 163.0000 - val_loss: 0.6145 - val_Accuracy: 0.7955 - val_false_negatives: 28.0000 - val_false_positives: 14.0000 - val_true_negatives: 250.0000 - val_true_positives: 60.0000\n",
            "Epoch 21/200\n",
            "44/44 [==============================] - 1s 16ms/step - loss: 0.8656 - Accuracy: 0.6609 - false_negatives: 147.0000 - false_positives: 73.0000 - true_negatives: 971.0000 - true_positives: 201.0000 - val_loss: 0.4794 - val_Accuracy: 0.8523 - val_false_negatives: 18.0000 - val_false_positives: 10.0000 - val_true_negatives: 254.0000 - val_true_positives: 70.0000\n",
            "Epoch 22/200\n",
            "44/44 [==============================] - 1s 16ms/step - loss: 0.9176 - Accuracy: 0.6178 - false_negatives: 171.0000 - false_positives: 75.0000 - true_negatives: 969.0000 - true_positives: 177.0000 - val_loss: 0.5684 - val_Accuracy: 0.7955 - val_false_negatives: 32.0000 - val_false_positives: 16.0000 - val_true_negatives: 248.0000 - val_true_positives: 56.0000\n",
            "Epoch 23/200\n",
            "44/44 [==============================] - 1s 15ms/step - loss: 0.9050 - Accuracy: 0.6552 - false_negatives: 158.0000 - false_positives: 74.0000 - true_negatives: 970.0000 - true_positives: 190.0000 - val_loss: 0.4322 - val_Accuracy: 0.8295 - val_false_negatives: 16.0000 - val_false_positives: 10.0000 - val_true_negatives: 254.0000 - val_true_positives: 72.0000\n",
            "Epoch 24/200\n",
            "44/44 [==============================] - 1s 16ms/step - loss: 0.8895 - Accuracy: 0.6552 - false_negatives: 153.0000 - false_positives: 71.0000 - true_negatives: 973.0000 - true_positives: 195.0000 - val_loss: 0.6158 - val_Accuracy: 0.7273 - val_false_negatives: 29.0000 - val_false_positives: 9.0000 - val_true_negatives: 255.0000 - val_true_positives: 59.0000\n",
            "Epoch 25/200\n",
            "44/44 [==============================] - 1s 16ms/step - loss: 0.8155 - Accuracy: 0.7069 - false_negatives: 141.0000 - false_positives: 62.0000 - true_negatives: 982.0000 - true_positives: 207.0000 - val_loss: 0.4915 - val_Accuracy: 0.8409 - val_false_negatives: 19.0000 - val_false_positives: 9.0000 - val_true_negatives: 255.0000 - val_true_positives: 69.0000\n",
            "Epoch 26/200\n",
            "44/44 [==============================] - 1s 16ms/step - loss: 0.8077 - Accuracy: 0.6724 - false_negatives: 138.0000 - false_positives: 81.0000 - true_negatives: 963.0000 - true_positives: 210.0000 - val_loss: 0.5463 - val_Accuracy: 0.8182 - val_false_negatives: 25.0000 - val_false_positives: 10.0000 - val_true_negatives: 254.0000 - val_true_positives: 63.0000\n",
            "Epoch 27/200\n",
            "44/44 [==============================] - 1s 16ms/step - loss: 0.8395 - Accuracy: 0.6609 - false_negatives: 147.0000 - false_positives: 77.0000 - true_negatives: 967.0000 - true_positives: 201.0000 - val_loss: 0.3986 - val_Accuracy: 0.8409 - val_false_negatives: 17.0000 - val_false_positives: 12.0000 - val_true_negatives: 252.0000 - val_true_positives: 71.0000\n",
            "Epoch 28/200\n",
            "44/44 [==============================] - 1s 16ms/step - loss: 0.8102 - Accuracy: 0.6983 - false_negatives: 129.0000 - false_positives: 71.0000 - true_negatives: 973.0000 - true_positives: 219.0000 - val_loss: 0.4610 - val_Accuracy: 0.8295 - val_false_negatives: 18.0000 - val_false_positives: 9.0000 - val_true_negatives: 255.0000 - val_true_positives: 70.0000\n",
            "Epoch 29/200\n",
            "44/44 [==============================] - 1s 16ms/step - loss: 0.7407 - Accuracy: 0.7241 - false_negatives: 121.0000 - false_positives: 59.0000 - true_negatives: 985.0000 - true_positives: 227.0000 - val_loss: 0.5028 - val_Accuracy: 0.8182 - val_false_negatives: 26.0000 - val_false_positives: 10.0000 - val_true_negatives: 254.0000 - val_true_positives: 62.0000\n",
            "Epoch 30/200\n",
            "44/44 [==============================] - 1s 15ms/step - loss: 0.7829 - Accuracy: 0.6810 - false_negatives: 135.0000 - false_positives: 66.0000 - true_negatives: 978.0000 - true_positives: 213.0000 - val_loss: 0.4385 - val_Accuracy: 0.8864 - val_false_negatives: 14.0000 - val_false_positives: 8.0000 - val_true_negatives: 256.0000 - val_true_positives: 74.0000\n",
            "Epoch 31/200\n",
            "44/44 [==============================] - 1s 16ms/step - loss: 0.7622 - Accuracy: 0.6897 - false_negatives: 140.0000 - false_positives: 65.0000 - true_negatives: 979.0000 - true_positives: 208.0000 - val_loss: 0.4722 - val_Accuracy: 0.8295 - val_false_negatives: 15.0000 - val_false_positives: 11.0000 - val_true_negatives: 253.0000 - val_true_positives: 73.0000\n",
            "Epoch 32/200\n",
            "44/44 [==============================] - 1s 16ms/step - loss: 0.7663 - Accuracy: 0.7241 - false_negatives: 122.0000 - false_positives: 71.0000 - true_negatives: 973.0000 - true_positives: 226.0000 - val_loss: 0.4399 - val_Accuracy: 0.8636 - val_false_negatives: 18.0000 - val_false_positives: 8.0000 - val_true_negatives: 256.0000 - val_true_positives: 70.0000\n",
            "Epoch 33/200\n",
            "44/44 [==============================] - 1s 17ms/step - loss: 0.7703 - Accuracy: 0.7069 - false_negatives: 140.0000 - false_positives: 50.0000 - true_negatives: 994.0000 - true_positives: 208.0000 - val_loss: 0.3599 - val_Accuracy: 0.8636 - val_false_negatives: 16.0000 - val_false_positives: 11.0000 - val_true_negatives: 253.0000 - val_true_positives: 72.0000\n",
            "Epoch 34/200\n",
            "44/44 [==============================] - 1s 17ms/step - loss: 0.7854 - Accuracy: 0.6782 - false_negatives: 137.0000 - false_positives: 64.0000 - true_negatives: 980.0000 - true_positives: 211.0000 - val_loss: 0.4453 - val_Accuracy: 0.8864 - val_false_negatives: 19.0000 - val_false_positives: 5.0000 - val_true_negatives: 259.0000 - val_true_positives: 69.0000\n",
            "Epoch 35/200\n",
            "44/44 [==============================] - 1s 16ms/step - loss: 0.7411 - Accuracy: 0.7213 - false_negatives: 124.0000 - false_positives: 72.0000 - true_negatives: 972.0000 - true_positives: 224.0000 - val_loss: 0.4792 - val_Accuracy: 0.8295 - val_false_negatives: 23.0000 - val_false_positives: 9.0000 - val_true_negatives: 255.0000 - val_true_positives: 65.0000\n",
            "Epoch 36/200\n",
            "44/44 [==============================] - 1s 16ms/step - loss: 0.7156 - Accuracy: 0.7414 - false_negatives: 116.0000 - false_positives: 69.0000 - true_negatives: 975.0000 - true_positives: 232.0000 - val_loss: 0.4069 - val_Accuracy: 0.8750 - val_false_negatives: 14.0000 - val_false_positives: 7.0000 - val_true_negatives: 257.0000 - val_true_positives: 74.0000\n",
            "Epoch 37/200\n",
            "44/44 [==============================] - 1s 16ms/step - loss: 0.7936 - Accuracy: 0.6868 - false_negatives: 134.0000 - false_positives: 75.0000 - true_negatives: 969.0000 - true_positives: 214.0000 - val_loss: 0.4768 - val_Accuracy: 0.8295 - val_false_negatives: 21.0000 - val_false_positives: 8.0000 - val_true_negatives: 256.0000 - val_true_positives: 67.0000\n",
            "Epoch 38/200\n",
            "44/44 [==============================] - 1s 16ms/step - loss: 0.7528 - Accuracy: 0.7011 - false_negatives: 132.0000 - false_positives: 70.0000 - true_negatives: 974.0000 - true_positives: 216.0000 - val_loss: 0.3804 - val_Accuracy: 0.8636 - val_false_negatives: 16.0000 - val_false_positives: 10.0000 - val_true_negatives: 254.0000 - val_true_positives: 72.0000\n",
            "Epoch 39/200\n",
            "44/44 [==============================] - 1s 15ms/step - loss: 0.7668 - Accuracy: 0.7098 - false_negatives: 132.0000 - false_positives: 67.0000 - true_negatives: 977.0000 - true_positives: 216.0000 - val_loss: 0.4761 - val_Accuracy: 0.8523 - val_false_negatives: 16.0000 - val_false_positives: 8.0000 - val_true_negatives: 256.0000 - val_true_positives: 72.0000\n",
            "Epoch 40/200\n",
            "44/44 [==============================] - 1s 16ms/step - loss: 0.6948 - Accuracy: 0.7385 - false_negatives: 117.0000 - false_positives: 55.0000 - true_negatives: 989.0000 - true_positives: 231.0000 - val_loss: 0.4148 - val_Accuracy: 0.8750 - val_false_negatives: 15.0000 - val_false_positives: 7.0000 - val_true_negatives: 257.0000 - val_true_positives: 73.0000\n",
            "Epoch 41/200\n",
            "44/44 [==============================] - 1s 16ms/step - loss: 0.6904 - Accuracy: 0.7385 - false_negatives: 112.0000 - false_positives: 57.0000 - true_negatives: 987.0000 - true_positives: 236.0000 - val_loss: 0.3971 - val_Accuracy: 0.8636 - val_false_negatives: 15.0000 - val_false_positives: 8.0000 - val_true_negatives: 256.0000 - val_true_positives: 73.0000\n",
            "Epoch 42/200\n",
            "44/44 [==============================] - 1s 16ms/step - loss: 0.7009 - Accuracy: 0.7155 - false_negatives: 122.0000 - false_positives: 60.0000 - true_negatives: 984.0000 - true_positives: 226.0000 - val_loss: 0.3425 - val_Accuracy: 0.8523 - val_false_negatives: 17.0000 - val_false_positives: 8.0000 - val_true_negatives: 256.0000 - val_true_positives: 71.0000\n",
            "Epoch 43/200\n",
            "44/44 [==============================] - 1s 16ms/step - loss: 0.7059 - Accuracy: 0.6954 - false_negatives: 125.0000 - false_positives: 76.0000 - true_negatives: 968.0000 - true_positives: 223.0000 - val_loss: 0.4762 - val_Accuracy: 0.8182 - val_false_negatives: 22.0000 - val_false_positives: 8.0000 - val_true_negatives: 256.0000 - val_true_positives: 66.0000\n",
            "Epoch 44/200\n",
            "44/44 [==============================] - 1s 16ms/step - loss: 0.7058 - Accuracy: 0.7270 - false_negatives: 126.0000 - false_positives: 65.0000 - true_negatives: 979.0000 - true_positives: 222.0000 - val_loss: 0.3907 - val_Accuracy: 0.8523 - val_false_negatives: 15.0000 - val_false_positives: 11.0000 - val_true_negatives: 253.0000 - val_true_positives: 73.0000\n",
            "Epoch 45/200\n",
            "44/44 [==============================] - 1s 16ms/step - loss: 0.6922 - Accuracy: 0.7213 - false_negatives: 116.0000 - false_positives: 62.0000 - true_negatives: 982.0000 - true_positives: 232.0000 - val_loss: 0.3430 - val_Accuracy: 0.8750 - val_false_negatives: 13.0000 - val_false_positives: 9.0000 - val_true_negatives: 255.0000 - val_true_positives: 75.0000\n",
            "Epoch 46/200\n",
            "44/44 [==============================] - 1s 17ms/step - loss: 0.6598 - Accuracy: 0.7443 - false_negatives: 111.0000 - false_positives: 63.0000 - true_negatives: 981.0000 - true_positives: 237.0000 - val_loss: 0.4003 - val_Accuracy: 0.8409 - val_false_negatives: 16.0000 - val_false_positives: 9.0000 - val_true_negatives: 255.0000 - val_true_positives: 72.0000\n",
            "Epoch 47/200\n",
            "44/44 [==============================] - 1s 16ms/step - loss: 0.6386 - Accuracy: 0.7443 - false_negatives: 101.0000 - false_positives: 56.0000 - true_negatives: 988.0000 - true_positives: 247.0000 - val_loss: 0.4663 - val_Accuracy: 0.8409 - val_false_negatives: 17.0000 - val_false_positives: 11.0000 - val_true_negatives: 253.0000 - val_true_positives: 71.0000\n",
            "Epoch 48/200\n",
            "44/44 [==============================] - 1s 17ms/step - loss: 0.6460 - Accuracy: 0.7701 - false_negatives: 99.0000 - false_positives: 63.0000 - true_negatives: 981.0000 - true_positives: 249.0000 - val_loss: 0.3602 - val_Accuracy: 0.8750 - val_false_negatives: 12.0000 - val_false_positives: 9.0000 - val_true_negatives: 255.0000 - val_true_positives: 76.0000\n",
            "Epoch 49/200\n",
            "44/44 [==============================] - 1s 16ms/step - loss: 0.6694 - Accuracy: 0.7471 - false_negatives: 108.0000 - false_positives: 61.0000 - true_negatives: 983.0000 - true_positives: 240.0000 - val_loss: 0.4423 - val_Accuracy: 0.8636 - val_false_negatives: 14.0000 - val_false_positives: 7.0000 - val_true_negatives: 257.0000 - val_true_positives: 74.0000\n",
            "Epoch 50/200\n",
            "44/44 [==============================] - 1s 16ms/step - loss: 0.6997 - Accuracy: 0.7213 - false_negatives: 116.0000 - false_positives: 62.0000 - true_negatives: 982.0000 - true_positives: 232.0000 - val_loss: 0.4691 - val_Accuracy: 0.8523 - val_false_negatives: 18.0000 - val_false_positives: 8.0000 - val_true_negatives: 256.0000 - val_true_positives: 70.0000\n",
            "Epoch 51/200\n",
            "44/44 [==============================] - 1s 16ms/step - loss: 0.6458 - Accuracy: 0.7414 - false_negatives: 115.0000 - false_positives: 63.0000 - true_negatives: 981.0000 - true_positives: 233.0000 - val_loss: 0.3215 - val_Accuracy: 0.8636 - val_false_negatives: 14.0000 - val_false_positives: 11.0000 - val_true_negatives: 253.0000 - val_true_positives: 74.0000\n",
            "Epoch 52/200\n",
            "44/44 [==============================] - 1s 16ms/step - loss: 0.6052 - Accuracy: 0.7845 - false_negatives: 97.0000 - false_positives: 54.0000 - true_negatives: 990.0000 - true_positives: 251.0000 - val_loss: 0.3669 - val_Accuracy: 0.8750 - val_false_negatives: 14.0000 - val_false_positives: 7.0000 - val_true_negatives: 257.0000 - val_true_positives: 74.0000\n",
            "Epoch 53/200\n",
            "44/44 [==============================] - 1s 16ms/step - loss: 0.6104 - Accuracy: 0.7557 - false_negatives: 97.0000 - false_positives: 58.0000 - true_negatives: 986.0000 - true_positives: 251.0000 - val_loss: 0.2933 - val_Accuracy: 0.8864 - val_false_negatives: 15.0000 - val_false_positives: 7.0000 - val_true_negatives: 257.0000 - val_true_positives: 73.0000\n",
            "Epoch 54/200\n",
            "44/44 [==============================] - 1s 16ms/step - loss: 0.6026 - Accuracy: 0.7672 - false_negatives: 98.0000 - false_positives: 53.0000 - true_negatives: 991.0000 - true_positives: 250.0000 - val_loss: 0.3672 - val_Accuracy: 0.8523 - val_false_negatives: 13.0000 - val_false_positives: 8.0000 - val_true_negatives: 256.0000 - val_true_positives: 75.0000\n",
            "Epoch 55/200\n",
            "44/44 [==============================] - 1s 16ms/step - loss: 0.6670 - Accuracy: 0.7759 - false_negatives: 102.0000 - false_positives: 62.0000 - true_negatives: 982.0000 - true_positives: 246.0000 - val_loss: 0.4043 - val_Accuracy: 0.8636 - val_false_negatives: 15.0000 - val_false_positives: 8.0000 - val_true_negatives: 256.0000 - val_true_positives: 73.0000\n",
            "Epoch 56/200\n",
            "44/44 [==============================] - 1s 16ms/step - loss: 0.6391 - Accuracy: 0.7615 - false_negatives: 100.0000 - false_positives: 58.0000 - true_negatives: 986.0000 - true_positives: 248.0000 - val_loss: 0.4015 - val_Accuracy: 0.8409 - val_false_negatives: 16.0000 - val_false_positives: 9.0000 - val_true_negatives: 255.0000 - val_true_positives: 72.0000\n",
            "Epoch 57/200\n",
            "44/44 [==============================] - 1s 16ms/step - loss: 0.6011 - Accuracy: 0.7586 - false_negatives: 93.0000 - false_positives: 63.0000 - true_negatives: 981.0000 - true_positives: 255.0000 - val_loss: 0.4838 - val_Accuracy: 0.8295 - val_false_negatives: 20.0000 - val_false_positives: 13.0000 - val_true_negatives: 251.0000 - val_true_positives: 68.0000\n",
            "Epoch 58/200\n",
            "44/44 [==============================] - 1s 16ms/step - loss: 0.6508 - Accuracy: 0.7615 - false_negatives: 102.0000 - false_positives: 57.0000 - true_negatives: 987.0000 - true_positives: 246.0000 - val_loss: 0.4413 - val_Accuracy: 0.7955 - val_false_negatives: 19.0000 - val_false_positives: 14.0000 - val_true_negatives: 250.0000 - val_true_positives: 69.0000\n",
            "Epoch 59/200\n",
            "44/44 [==============================] - 1s 16ms/step - loss: 0.6599 - Accuracy: 0.7500 - false_negatives: 102.0000 - false_positives: 60.0000 - true_negatives: 984.0000 - true_positives: 246.0000 - val_loss: 0.4890 - val_Accuracy: 0.8409 - val_false_negatives: 18.0000 - val_false_positives: 8.0000 - val_true_negatives: 256.0000 - val_true_positives: 70.0000\n",
            "Epoch 60/200\n",
            "44/44 [==============================] - 1s 16ms/step - loss: 0.5990 - Accuracy: 0.7672 - false_negatives: 92.0000 - false_positives: 56.0000 - true_negatives: 988.0000 - true_positives: 256.0000 - val_loss: 0.5998 - val_Accuracy: 0.7955 - val_false_negatives: 20.0000 - val_false_positives: 15.0000 - val_true_negatives: 249.0000 - val_true_positives: 68.0000\n",
            "Epoch 61/200\n",
            "44/44 [==============================] - 1s 16ms/step - loss: 0.6179 - Accuracy: 0.7644 - false_negatives: 99.0000 - false_positives: 57.0000 - true_negatives: 987.0000 - true_positives: 249.0000 - val_loss: 0.3620 - val_Accuracy: 0.8750 - val_false_negatives: 14.0000 - val_false_positives: 8.0000 - val_true_negatives: 256.0000 - val_true_positives: 74.0000\n",
            "Epoch 62/200\n",
            "44/44 [==============================] - 1s 16ms/step - loss: 0.6084 - Accuracy: 0.7816 - false_negatives: 92.0000 - false_positives: 56.0000 - true_negatives: 988.0000 - true_positives: 256.0000 - val_loss: 0.3957 - val_Accuracy: 0.8636 - val_false_negatives: 15.0000 - val_false_positives: 8.0000 - val_true_negatives: 256.0000 - val_true_positives: 73.0000\n",
            "Epoch 63/200\n",
            "44/44 [==============================] - 1s 16ms/step - loss: 0.5764 - Accuracy: 0.7931 - false_negatives: 95.0000 - false_positives: 54.0000 - true_negatives: 990.0000 - true_positives: 253.0000 - val_loss: 0.4451 - val_Accuracy: 0.8636 - val_false_negatives: 16.0000 - val_false_positives: 9.0000 - val_true_negatives: 255.0000 - val_true_positives: 72.0000\n",
            "Epoch 64/200\n",
            "44/44 [==============================] - 1s 16ms/step - loss: 0.6836 - Accuracy: 0.7356 - false_negatives: 112.0000 - false_positives: 69.0000 - true_negatives: 975.0000 - true_positives: 236.0000 - val_loss: 0.4915 - val_Accuracy: 0.8864 - val_false_negatives: 17.0000 - val_false_positives: 9.0000 - val_true_negatives: 255.0000 - val_true_positives: 71.0000\n",
            "Epoch 65/200\n",
            "44/44 [==============================] - 1s 16ms/step - loss: 0.5739 - Accuracy: 0.7672 - false_negatives: 97.0000 - false_positives: 55.0000 - true_negatives: 989.0000 - true_positives: 251.0000 - val_loss: 0.5095 - val_Accuracy: 0.8182 - val_false_negatives: 22.0000 - val_false_positives: 11.0000 - val_true_negatives: 253.0000 - val_true_positives: 66.0000\n",
            "Epoch 66/200\n",
            "44/44 [==============================] - 1s 16ms/step - loss: 0.5420 - Accuracy: 0.7931 - false_negatives: 92.0000 - false_positives: 54.0000 - true_negatives: 990.0000 - true_positives: 256.0000 - val_loss: 0.3823 - val_Accuracy: 0.8523 - val_false_negatives: 13.0000 - val_false_positives: 8.0000 - val_true_negatives: 256.0000 - val_true_positives: 75.0000\n",
            "Epoch 67/200\n",
            "44/44 [==============================] - 1s 16ms/step - loss: 0.6254 - Accuracy: 0.7730 - false_negatives: 97.0000 - false_positives: 56.0000 - true_negatives: 988.0000 - true_positives: 251.0000 - val_loss: 0.4978 - val_Accuracy: 0.7955 - val_false_negatives: 22.0000 - val_false_positives: 13.0000 - val_true_negatives: 251.0000 - val_true_positives: 66.0000\n",
            "Epoch 68/200\n",
            "44/44 [==============================] - 1s 16ms/step - loss: 0.5622 - Accuracy: 0.7845 - false_negatives: 95.0000 - false_positives: 58.0000 - true_negatives: 986.0000 - true_positives: 253.0000 - val_loss: 0.4162 - val_Accuracy: 0.8409 - val_false_negatives: 15.0000 - val_false_positives: 11.0000 - val_true_negatives: 253.0000 - val_true_positives: 73.0000\n",
            "Epoch 69/200\n",
            "44/44 [==============================] - 1s 16ms/step - loss: 0.6504 - Accuracy: 0.7471 - false_negatives: 102.0000 - false_positives: 62.0000 - true_negatives: 982.0000 - true_positives: 246.0000 - val_loss: 0.5263 - val_Accuracy: 0.8523 - val_false_negatives: 19.0000 - val_false_positives: 10.0000 - val_true_negatives: 254.0000 - val_true_positives: 69.0000\n",
            "Epoch 70/200\n",
            "44/44 [==============================] - 1s 16ms/step - loss: 0.5581 - Accuracy: 0.8190 - false_negatives: 85.0000 - false_positives: 41.0000 - true_negatives: 1003.0000 - true_positives: 263.0000 - val_loss: 0.4323 - val_Accuracy: 0.8636 - val_false_negatives: 15.0000 - val_false_positives: 7.0000 - val_true_negatives: 257.0000 - val_true_positives: 73.0000\n",
            "Epoch 71/200\n",
            "44/44 [==============================] - 1s 16ms/step - loss: 0.5846 - Accuracy: 0.7989 - false_negatives: 89.0000 - false_positives: 48.0000 - true_negatives: 996.0000 - true_positives: 259.0000 - val_loss: 0.4521 - val_Accuracy: 0.8295 - val_false_negatives: 22.0000 - val_false_positives: 14.0000 - val_true_negatives: 250.0000 - val_true_positives: 66.0000\n",
            "Epoch 72/200\n",
            "44/44 [==============================] - 1s 16ms/step - loss: 0.5362 - Accuracy: 0.7931 - false_negatives: 90.0000 - false_positives: 50.0000 - true_negatives: 994.0000 - true_positives: 258.0000 - val_loss: 0.4936 - val_Accuracy: 0.7841 - val_false_negatives: 21.0000 - val_false_positives: 17.0000 - val_true_negatives: 247.0000 - val_true_positives: 67.0000\n",
            "Epoch 73/200\n",
            "44/44 [==============================] - 1s 16ms/step - loss: 0.5730 - Accuracy: 0.7845 - false_negatives: 87.0000 - false_positives: 55.0000 - true_negatives: 989.0000 - true_positives: 261.0000 - val_loss: 0.3883 - val_Accuracy: 0.8636 - val_false_negatives: 13.0000 - val_false_positives: 10.0000 - val_true_negatives: 254.0000 - val_true_positives: 75.0000\n",
            "Epoch 74/200\n",
            "44/44 [==============================] - 1s 16ms/step - loss: 0.5281 - Accuracy: 0.8046 - false_negatives: 88.0000 - false_positives: 51.0000 - true_negatives: 993.0000 - true_positives: 260.0000 - val_loss: 0.4391 - val_Accuracy: 0.8182 - val_false_negatives: 16.0000 - val_false_positives: 11.0000 - val_true_negatives: 253.0000 - val_true_positives: 72.0000\n",
            "Epoch 75/200\n",
            "44/44 [==============================] - 1s 16ms/step - loss: 0.5259 - Accuracy: 0.8046 - false_negatives: 84.0000 - false_positives: 47.0000 - true_negatives: 997.0000 - true_positives: 264.0000 - val_loss: 0.4368 - val_Accuracy: 0.8295 - val_false_negatives: 15.0000 - val_false_positives: 13.0000 - val_true_negatives: 251.0000 - val_true_positives: 73.0000\n",
            "Epoch 76/200\n",
            "44/44 [==============================] - 1s 17ms/step - loss: 0.5100 - Accuracy: 0.8046 - false_negatives: 82.0000 - false_positives: 51.0000 - true_negatives: 993.0000 - true_positives: 266.0000 - val_loss: 0.4774 - val_Accuracy: 0.8182 - val_false_negatives: 19.0000 - val_false_positives: 13.0000 - val_true_negatives: 251.0000 - val_true_positives: 69.0000\n",
            "Epoch 77/200\n",
            "44/44 [==============================] - 1s 16ms/step - loss: 0.5286 - Accuracy: 0.7989 - false_negatives: 89.0000 - false_positives: 49.0000 - true_negatives: 995.0000 - true_positives: 259.0000 - val_loss: 0.3194 - val_Accuracy: 0.8750 - val_false_negatives: 11.0000 - val_false_positives: 10.0000 - val_true_negatives: 254.0000 - val_true_positives: 77.0000\n",
            "Epoch 78/200\n",
            "44/44 [==============================] - 1s 16ms/step - loss: 0.5660 - Accuracy: 0.8017 - false_negatives: 86.0000 - false_positives: 56.0000 - true_negatives: 988.0000 - true_positives: 262.0000 - val_loss: 0.4732 - val_Accuracy: 0.8295 - val_false_negatives: 17.0000 - val_false_positives: 13.0000 - val_true_negatives: 251.0000 - val_true_positives: 71.0000\n",
            "Epoch 79/200\n",
            "44/44 [==============================] - 1s 17ms/step - loss: 0.5484 - Accuracy: 0.7902 - false_negatives: 87.0000 - false_positives: 49.0000 - true_negatives: 995.0000 - true_positives: 261.0000 - val_loss: 0.5518 - val_Accuracy: 0.7727 - val_false_negatives: 23.0000 - val_false_positives: 16.0000 - val_true_negatives: 248.0000 - val_true_positives: 65.0000\n",
            "Epoch 80/200\n",
            "44/44 [==============================] - 1s 16ms/step - loss: 0.5393 - Accuracy: 0.7845 - false_negatives: 87.0000 - false_positives: 55.0000 - true_negatives: 989.0000 - true_positives: 261.0000 - val_loss: 0.3836 - val_Accuracy: 0.8409 - val_false_negatives: 16.0000 - val_false_positives: 12.0000 - val_true_negatives: 252.0000 - val_true_positives: 72.0000\n",
            "Epoch 81/200\n",
            "44/44 [==============================] - 1s 16ms/step - loss: 0.5600 - Accuracy: 0.7730 - false_negatives: 96.0000 - false_positives: 61.0000 - true_negatives: 983.0000 - true_positives: 252.0000 - val_loss: 0.4543 - val_Accuracy: 0.8523 - val_false_negatives: 20.0000 - val_false_positives: 10.0000 - val_true_negatives: 254.0000 - val_true_positives: 68.0000\n",
            "Epoch 82/200\n",
            "44/44 [==============================] - 1s 16ms/step - loss: 0.5218 - Accuracy: 0.8046 - false_negatives: 78.0000 - false_positives: 52.0000 - true_negatives: 992.0000 - true_positives: 270.0000 - val_loss: 0.4288 - val_Accuracy: 0.8523 - val_false_negatives: 13.0000 - val_false_positives: 11.0000 - val_true_negatives: 253.0000 - val_true_positives: 75.0000\n",
            "Epoch 83/200\n",
            "44/44 [==============================] - 1s 16ms/step - loss: 0.5286 - Accuracy: 0.8017 - false_negatives: 79.0000 - false_positives: 49.0000 - true_negatives: 995.0000 - true_positives: 269.0000 - val_loss: 0.4178 - val_Accuracy: 0.8864 - val_false_negatives: 11.0000 - val_false_positives: 6.0000 - val_true_negatives: 258.0000 - val_true_positives: 77.0000\n",
            "Epoch 84/200\n",
            "44/44 [==============================] - 1s 16ms/step - loss: 0.4943 - Accuracy: 0.8132 - false_negatives: 82.0000 - false_positives: 52.0000 - true_negatives: 992.0000 - true_positives: 266.0000 - val_loss: 0.4318 - val_Accuracy: 0.8750 - val_false_negatives: 12.0000 - val_false_positives: 9.0000 - val_true_negatives: 255.0000 - val_true_positives: 76.0000\n",
            "Epoch 85/200\n",
            "44/44 [==============================] - 1s 16ms/step - loss: 0.5472 - Accuracy: 0.8075 - false_negatives: 78.0000 - false_positives: 55.0000 - true_negatives: 989.0000 - true_positives: 270.0000 - val_loss: 0.3688 - val_Accuracy: 0.8864 - val_false_negatives: 12.0000 - val_false_positives: 7.0000 - val_true_negatives: 257.0000 - val_true_positives: 76.0000\n",
            "Epoch 86/200\n",
            "44/44 [==============================] - 1s 17ms/step - loss: 0.4828 - Accuracy: 0.8276 - false_negatives: 72.0000 - false_positives: 42.0000 - true_negatives: 1002.0000 - true_positives: 276.0000 - val_loss: 0.4471 - val_Accuracy: 0.8409 - val_false_negatives: 16.0000 - val_false_positives: 12.0000 - val_true_negatives: 252.0000 - val_true_positives: 72.0000\n",
            "Epoch 87/200\n",
            "44/44 [==============================] - 1s 17ms/step - loss: 0.5350 - Accuracy: 0.8017 - false_negatives: 83.0000 - false_positives: 49.0000 - true_negatives: 995.0000 - true_positives: 265.0000 - val_loss: 0.4492 - val_Accuracy: 0.8295 - val_false_negatives: 17.0000 - val_false_positives: 14.0000 - val_true_negatives: 250.0000 - val_true_positives: 71.0000\n",
            "Epoch 88/200\n",
            "44/44 [==============================] - 1s 18ms/step - loss: 0.5260 - Accuracy: 0.8103 - false_negatives: 78.0000 - false_positives: 50.0000 - true_negatives: 994.0000 - true_positives: 270.0000 - val_loss: 0.4440 - val_Accuracy: 0.8409 - val_false_negatives: 21.0000 - val_false_positives: 11.0000 - val_true_negatives: 253.0000 - val_true_positives: 67.0000\n",
            "Epoch 89/200\n",
            "44/44 [==============================] - 1s 17ms/step - loss: 0.4916 - Accuracy: 0.8333 - false_negatives: 81.0000 - false_positives: 45.0000 - true_negatives: 999.0000 - true_positives: 267.0000 - val_loss: 0.3785 - val_Accuracy: 0.8409 - val_false_negatives: 15.0000 - val_false_positives: 11.0000 - val_true_negatives: 253.0000 - val_true_positives: 73.0000\n",
            "Epoch 90/200\n",
            "44/44 [==============================] - 1s 16ms/step - loss: 0.4742 - Accuracy: 0.8218 - false_negatives: 71.0000 - false_positives: 57.0000 - true_negatives: 987.0000 - true_positives: 277.0000 - val_loss: 0.4618 - val_Accuracy: 0.8523 - val_false_negatives: 14.0000 - val_false_positives: 9.0000 - val_true_negatives: 255.0000 - val_true_positives: 74.0000\n",
            "Epoch 91/200\n",
            "44/44 [==============================] - 1s 17ms/step - loss: 0.5225 - Accuracy: 0.8075 - false_negatives: 79.0000 - false_positives: 53.0000 - true_negatives: 991.0000 - true_positives: 269.0000 - val_loss: 0.5347 - val_Accuracy: 0.8068 - val_false_negatives: 19.0000 - val_false_positives: 10.0000 - val_true_negatives: 254.0000 - val_true_positives: 69.0000\n",
            "Epoch 92/200\n",
            "44/44 [==============================] - 1s 16ms/step - loss: 0.5151 - Accuracy: 0.8046 - false_negatives: 78.0000 - false_positives: 52.0000 - true_negatives: 992.0000 - true_positives: 270.0000 - val_loss: 0.4481 - val_Accuracy: 0.8409 - val_false_negatives: 16.0000 - val_false_positives: 11.0000 - val_true_negatives: 253.0000 - val_true_positives: 72.0000\n",
            "Epoch 93/200\n",
            "44/44 [==============================] - 1s 18ms/step - loss: 0.4479 - Accuracy: 0.8333 - false_negatives: 72.0000 - false_positives: 44.0000 - true_negatives: 1000.0000 - true_positives: 276.0000 - val_loss: 0.5064 - val_Accuracy: 0.8636 - val_false_negatives: 14.0000 - val_false_positives: 10.0000 - val_true_negatives: 254.0000 - val_true_positives: 74.0000\n",
            "Epoch 94/200\n",
            "44/44 [==============================] - 1s 17ms/step - loss: 0.4705 - Accuracy: 0.8247 - false_negatives: 75.0000 - false_positives: 49.0000 - true_negatives: 995.0000 - true_positives: 273.0000 - val_loss: 0.4217 - val_Accuracy: 0.8636 - val_false_negatives: 12.0000 - val_false_positives: 10.0000 - val_true_negatives: 254.0000 - val_true_positives: 76.0000\n",
            "Epoch 95/200\n",
            "44/44 [==============================] - 1s 26ms/step - loss: 0.5180 - Accuracy: 0.7989 - false_negatives: 82.0000 - false_positives: 55.0000 - true_negatives: 989.0000 - true_positives: 266.0000 - val_loss: 0.6251 - val_Accuracy: 0.8068 - val_false_negatives: 19.0000 - val_false_positives: 12.0000 - val_true_negatives: 252.0000 - val_true_positives: 69.0000\n",
            "Epoch 96/200\n",
            "44/44 [==============================] - 1s 26ms/step - loss: 0.4531 - Accuracy: 0.8276 - false_negatives: 69.0000 - false_positives: 41.0000 - true_negatives: 1003.0000 - true_positives: 279.0000 - val_loss: 0.5858 - val_Accuracy: 0.7841 - val_false_negatives: 25.0000 - val_false_positives: 17.0000 - val_true_negatives: 247.0000 - val_true_positives: 63.0000\n",
            "Epoch 97/200\n",
            "44/44 [==============================] - 1s 24ms/step - loss: 0.5088 - Accuracy: 0.8046 - false_negatives: 76.0000 - false_positives: 53.0000 - true_negatives: 991.0000 - true_positives: 272.0000 - val_loss: 0.5068 - val_Accuracy: 0.8295 - val_false_negatives: 15.0000 - val_false_positives: 13.0000 - val_true_negatives: 251.0000 - val_true_positives: 73.0000\n",
            "Epoch 98/200\n",
            "44/44 [==============================] - 1s 16ms/step - loss: 0.5388 - Accuracy: 0.8075 - false_negatives: 84.0000 - false_positives: 54.0000 - true_negatives: 990.0000 - true_positives: 264.0000 - val_loss: 0.4536 - val_Accuracy: 0.8409 - val_false_negatives: 17.0000 - val_false_positives: 13.0000 - val_true_negatives: 251.0000 - val_true_positives: 71.0000\n",
            "Epoch 99/200\n",
            "44/44 [==============================] - 1s 16ms/step - loss: 0.4642 - Accuracy: 0.8103 - false_negatives: 76.0000 - false_positives: 49.0000 - true_negatives: 995.0000 - true_positives: 272.0000 - val_loss: 0.4690 - val_Accuracy: 0.8636 - val_false_negatives: 13.0000 - val_false_positives: 11.0000 - val_true_negatives: 253.0000 - val_true_positives: 75.0000\n",
            "Epoch 100/200\n",
            "44/44 [==============================] - 1s 16ms/step - loss: 0.4257 - Accuracy: 0.8333 - false_negatives: 70.0000 - false_positives: 42.0000 - true_negatives: 1002.0000 - true_positives: 278.0000 - val_loss: 0.3953 - val_Accuracy: 0.8750 - val_false_negatives: 13.0000 - val_false_positives: 7.0000 - val_true_negatives: 257.0000 - val_true_positives: 75.0000\n",
            "Epoch 101/200\n",
            "44/44 [==============================] - 1s 17ms/step - loss: 0.4544 - Accuracy: 0.8190 - false_negatives: 72.0000 - false_positives: 42.0000 - true_negatives: 1002.0000 - true_positives: 276.0000 - val_loss: 0.4819 - val_Accuracy: 0.8523 - val_false_negatives: 15.0000 - val_false_positives: 8.0000 - val_true_negatives: 256.0000 - val_true_positives: 73.0000\n",
            "Epoch 102/200\n",
            "44/44 [==============================] - 1s 16ms/step - loss: 0.4293 - Accuracy: 0.8218 - false_negatives: 70.0000 - false_positives: 45.0000 - true_negatives: 999.0000 - true_positives: 278.0000 - val_loss: 0.5366 - val_Accuracy: 0.8409 - val_false_negatives: 16.0000 - val_false_positives: 10.0000 - val_true_negatives: 254.0000 - val_true_positives: 72.0000\n",
            "Epoch 103/200\n",
            "44/44 [==============================] - 1s 16ms/step - loss: 0.4255 - Accuracy: 0.8420 - false_negatives: 63.0000 - false_positives: 46.0000 - true_negatives: 998.0000 - true_positives: 285.0000 - val_loss: 0.3785 - val_Accuracy: 0.8636 - val_false_negatives: 13.0000 - val_false_positives: 12.0000 - val_true_negatives: 252.0000 - val_true_positives: 75.0000\n",
            "Epoch 104/200\n",
            "44/44 [==============================] - 1s 16ms/step - loss: 0.4226 - Accuracy: 0.8305 - false_negatives: 69.0000 - false_positives: 40.0000 - true_negatives: 1004.0000 - true_positives: 279.0000 - val_loss: 0.4270 - val_Accuracy: 0.8636 - val_false_negatives: 15.0000 - val_false_positives: 10.0000 - val_true_negatives: 254.0000 - val_true_positives: 73.0000\n",
            "Epoch 105/200\n",
            "44/44 [==============================] - 1s 17ms/step - loss: 0.4253 - Accuracy: 0.8305 - false_negatives: 70.0000 - false_positives: 47.0000 - true_negatives: 997.0000 - true_positives: 278.0000 - val_loss: 0.3708 - val_Accuracy: 0.8750 - val_false_negatives: 17.0000 - val_false_positives: 9.0000 - val_true_negatives: 255.0000 - val_true_positives: 71.0000\n",
            "Epoch 106/200\n",
            "44/44 [==============================] - 1s 16ms/step - loss: 0.5111 - Accuracy: 0.7989 - false_negatives: 80.0000 - false_positives: 51.0000 - true_negatives: 993.0000 - true_positives: 268.0000 - val_loss: 0.3968 - val_Accuracy: 0.8523 - val_false_negatives: 15.0000 - val_false_positives: 13.0000 - val_true_negatives: 251.0000 - val_true_positives: 73.0000\n",
            "Epoch 107/200\n",
            "44/44 [==============================] - 1s 17ms/step - loss: 0.5037 - Accuracy: 0.8161 - false_negatives: 80.0000 - false_positives: 51.0000 - true_negatives: 993.0000 - true_positives: 268.0000 - val_loss: 0.5188 - val_Accuracy: 0.7386 - val_false_negatives: 25.0000 - val_false_positives: 16.0000 - val_true_negatives: 248.0000 - val_true_positives: 63.0000\n",
            "Epoch 108/200\n",
            "44/44 [==============================] - 1s 17ms/step - loss: 0.4319 - Accuracy: 0.8333 - false_negatives: 73.0000 - false_positives: 39.0000 - true_negatives: 1005.0000 - true_positives: 275.0000 - val_loss: 0.3683 - val_Accuracy: 0.8295 - val_false_negatives: 16.0000 - val_false_positives: 11.0000 - val_true_negatives: 253.0000 - val_true_positives: 72.0000\n",
            "Epoch 109/200\n",
            "44/44 [==============================] - 1s 18ms/step - loss: 0.3864 - Accuracy: 0.8506 - false_negatives: 60.0000 - false_positives: 39.0000 - true_negatives: 1005.0000 - true_positives: 288.0000 - val_loss: 0.4375 - val_Accuracy: 0.8636 - val_false_negatives: 15.0000 - val_false_positives: 10.0000 - val_true_negatives: 254.0000 - val_true_positives: 73.0000\n",
            "Epoch 110/200\n",
            "44/44 [==============================] - 1s 17ms/step - loss: 0.4629 - Accuracy: 0.8333 - false_negatives: 72.0000 - false_positives: 48.0000 - true_negatives: 996.0000 - true_positives: 276.0000 - val_loss: 0.4594 - val_Accuracy: 0.8295 - val_false_negatives: 16.0000 - val_false_positives: 13.0000 - val_true_negatives: 251.0000 - val_true_positives: 72.0000\n",
            "Epoch 111/200\n",
            "44/44 [==============================] - 1s 17ms/step - loss: 0.4491 - Accuracy: 0.8391 - false_negatives: 67.0000 - false_positives: 45.0000 - true_negatives: 999.0000 - true_positives: 281.0000 - val_loss: 0.3737 - val_Accuracy: 0.8409 - val_false_negatives: 16.0000 - val_false_positives: 14.0000 - val_true_negatives: 250.0000 - val_true_positives: 72.0000\n",
            "Epoch 112/200\n",
            "44/44 [==============================] - 1s 17ms/step - loss: 0.3830 - Accuracy: 0.8736 - false_negatives: 62.0000 - false_positives: 31.0000 - true_negatives: 1013.0000 - true_positives: 286.0000 - val_loss: 0.3878 - val_Accuracy: 0.8523 - val_false_negatives: 13.0000 - val_false_positives: 11.0000 - val_true_negatives: 253.0000 - val_true_positives: 75.0000\n",
            "Epoch 113/200\n",
            "44/44 [==============================] - 1s 18ms/step - loss: 0.4830 - Accuracy: 0.8132 - false_negatives: 72.0000 - false_positives: 46.0000 - true_negatives: 998.0000 - true_positives: 276.0000 - val_loss: 0.5016 - val_Accuracy: 0.8295 - val_false_negatives: 21.0000 - val_false_positives: 9.0000 - val_true_negatives: 255.0000 - val_true_positives: 67.0000\n",
            "Epoch 114/200\n",
            "44/44 [==============================] - 1s 18ms/step - loss: 0.4146 - Accuracy: 0.8362 - false_negatives: 64.0000 - false_positives: 47.0000 - true_negatives: 997.0000 - true_positives: 284.0000 - val_loss: 0.4313 - val_Accuracy: 0.8409 - val_false_negatives: 14.0000 - val_false_positives: 14.0000 - val_true_negatives: 250.0000 - val_true_positives: 74.0000\n",
            "Epoch 115/200\n",
            "44/44 [==============================] - 1s 17ms/step - loss: 0.4340 - Accuracy: 0.8276 - false_negatives: 69.0000 - false_positives: 49.0000 - true_negatives: 995.0000 - true_positives: 279.0000 - val_loss: 0.5452 - val_Accuracy: 0.7955 - val_false_negatives: 19.0000 - val_false_positives: 18.0000 - val_true_negatives: 246.0000 - val_true_positives: 69.0000\n",
            "Epoch 116/200\n",
            "44/44 [==============================] - 1s 18ms/step - loss: 0.4079 - Accuracy: 0.8563 - false_negatives: 68.0000 - false_positives: 37.0000 - true_negatives: 1007.0000 - true_positives: 280.0000 - val_loss: 0.5458 - val_Accuracy: 0.7614 - val_false_negatives: 22.0000 - val_false_positives: 16.0000 - val_true_negatives: 248.0000 - val_true_positives: 66.0000\n",
            "Epoch 117/200\n",
            "44/44 [==============================] - 1s 18ms/step - loss: 0.3875 - Accuracy: 0.8621 - false_negatives: 64.0000 - false_positives: 39.0000 - true_negatives: 1005.0000 - true_positives: 284.0000 - val_loss: 0.4343 - val_Accuracy: 0.8523 - val_false_negatives: 13.0000 - val_false_positives: 13.0000 - val_true_negatives: 251.0000 - val_true_positives: 75.0000\n",
            "Epoch 118/200\n",
            "44/44 [==============================] - 1s 18ms/step - loss: 0.3563 - Accuracy: 0.8621 - false_negatives: 58.0000 - false_positives: 40.0000 - true_negatives: 1004.0000 - true_positives: 290.0000 - val_loss: 0.4918 - val_Accuracy: 0.8295 - val_false_negatives: 16.0000 - val_false_positives: 12.0000 - val_true_negatives: 252.0000 - val_true_positives: 72.0000\n",
            "Epoch 119/200\n",
            "44/44 [==============================] - 1s 17ms/step - loss: 0.3682 - Accuracy: 0.8592 - false_negatives: 59.0000 - false_positives: 37.0000 - true_negatives: 1007.0000 - true_positives: 289.0000 - val_loss: 0.5073 - val_Accuracy: 0.8409 - val_false_negatives: 14.0000 - val_false_positives: 13.0000 - val_true_negatives: 251.0000 - val_true_positives: 74.0000\n",
            "Epoch 120/200\n",
            "44/44 [==============================] - 1s 19ms/step - loss: 0.3769 - Accuracy: 0.8707 - false_negatives: 58.0000 - false_positives: 34.0000 - true_negatives: 1010.0000 - true_positives: 290.0000 - val_loss: 0.5535 - val_Accuracy: 0.8182 - val_false_negatives: 16.0000 - val_false_positives: 14.0000 - val_true_negatives: 250.0000 - val_true_positives: 72.0000\n",
            "Epoch 121/200\n",
            "44/44 [==============================] - 1s 18ms/step - loss: 0.4046 - Accuracy: 0.8563 - false_negatives: 63.0000 - false_positives: 34.0000 - true_negatives: 1010.0000 - true_positives: 285.0000 - val_loss: 0.5243 - val_Accuracy: 0.8295 - val_false_negatives: 18.0000 - val_false_positives: 14.0000 - val_true_negatives: 250.0000 - val_true_positives: 70.0000\n",
            "Epoch 122/200\n",
            "44/44 [==============================] - 1s 18ms/step - loss: 0.3586 - Accuracy: 0.8822 - false_negatives: 52.0000 - false_positives: 35.0000 - true_negatives: 1009.0000 - true_positives: 296.0000 - val_loss: 0.4602 - val_Accuracy: 0.8295 - val_false_negatives: 15.0000 - val_false_positives: 15.0000 - val_true_negatives: 249.0000 - val_true_positives: 73.0000\n",
            "Epoch 123/200\n",
            "44/44 [==============================] - 1s 17ms/step - loss: 0.3660 - Accuracy: 0.8506 - false_negatives: 56.0000 - false_positives: 44.0000 - true_negatives: 1000.0000 - true_positives: 292.0000 - val_loss: 0.5552 - val_Accuracy: 0.8068 - val_false_negatives: 18.0000 - val_false_positives: 13.0000 - val_true_negatives: 251.0000 - val_true_positives: 70.0000\n",
            "Epoch 124/200\n",
            "44/44 [==============================] - 1s 18ms/step - loss: 0.3674 - Accuracy: 0.8506 - false_negatives: 58.0000 - false_positives: 41.0000 - true_negatives: 1003.0000 - true_positives: 290.0000 - val_loss: 0.4689 - val_Accuracy: 0.8295 - val_false_negatives: 15.0000 - val_false_positives: 14.0000 - val_true_negatives: 250.0000 - val_true_positives: 73.0000\n",
            "Epoch 125/200\n",
            "44/44 [==============================] - 1s 18ms/step - loss: 0.4361 - Accuracy: 0.8362 - false_negatives: 72.0000 - false_positives: 45.0000 - true_negatives: 999.0000 - true_positives: 276.0000 - val_loss: 0.3995 - val_Accuracy: 0.8636 - val_false_negatives: 12.0000 - val_false_positives: 11.0000 - val_true_negatives: 253.0000 - val_true_positives: 76.0000\n",
            "Epoch 126/200\n",
            "44/44 [==============================] - 1s 18ms/step - loss: 0.3786 - Accuracy: 0.8534 - false_negatives: 60.0000 - false_positives: 36.0000 - true_negatives: 1008.0000 - true_positives: 288.0000 - val_loss: 0.4520 - val_Accuracy: 0.8523 - val_false_negatives: 16.0000 - val_false_positives: 13.0000 - val_true_negatives: 251.0000 - val_true_positives: 72.0000\n",
            "Epoch 127/200\n",
            "44/44 [==============================] - 1s 18ms/step - loss: 0.3530 - Accuracy: 0.8477 - false_negatives: 63.0000 - false_positives: 42.0000 - true_negatives: 1002.0000 - true_positives: 285.0000 - val_loss: 0.5345 - val_Accuracy: 0.8182 - val_false_negatives: 16.0000 - val_false_positives: 13.0000 - val_true_negatives: 251.0000 - val_true_positives: 72.0000\n",
            "Epoch 128/200\n",
            "44/44 [==============================] - 1s 18ms/step - loss: 0.3407 - Accuracy: 0.8678 - false_negatives: 56.0000 - false_positives: 38.0000 - true_negatives: 1006.0000 - true_positives: 292.0000 - val_loss: 0.5887 - val_Accuracy: 0.7841 - val_false_negatives: 20.0000 - val_false_positives: 18.0000 - val_true_negatives: 246.0000 - val_true_positives: 68.0000\n",
            "Epoch 129/200\n",
            "44/44 [==============================] - 1s 18ms/step - loss: 0.3524 - Accuracy: 0.8707 - false_negatives: 52.0000 - false_positives: 37.0000 - true_negatives: 1007.0000 - true_positives: 296.0000 - val_loss: 0.5348 - val_Accuracy: 0.8182 - val_false_negatives: 17.0000 - val_false_positives: 13.0000 - val_true_negatives: 251.0000 - val_true_positives: 71.0000\n",
            "Epoch 130/200\n",
            "44/44 [==============================] - 1s 17ms/step - loss: 0.3699 - Accuracy: 0.8563 - false_negatives: 57.0000 - false_positives: 37.0000 - true_negatives: 1007.0000 - true_positives: 291.0000 - val_loss: 0.4806 - val_Accuracy: 0.8182 - val_false_negatives: 17.0000 - val_false_positives: 13.0000 - val_true_negatives: 251.0000 - val_true_positives: 71.0000\n",
            "Epoch 131/200\n",
            "44/44 [==============================] - 1s 18ms/step - loss: 0.3207 - Accuracy: 0.8707 - false_negatives: 53.0000 - false_positives: 33.0000 - true_negatives: 1011.0000 - true_positives: 295.0000 - val_loss: 0.4731 - val_Accuracy: 0.8068 - val_false_negatives: 17.0000 - val_false_positives: 15.0000 - val_true_negatives: 249.0000 - val_true_positives: 71.0000\n",
            "Epoch 132/200\n",
            "44/44 [==============================] - 1s 18ms/step - loss: 0.3199 - Accuracy: 0.8793 - false_negatives: 51.0000 - false_positives: 33.0000 - true_negatives: 1011.0000 - true_positives: 297.0000 - val_loss: 0.5341 - val_Accuracy: 0.7955 - val_false_negatives: 18.0000 - val_false_positives: 15.0000 - val_true_negatives: 249.0000 - val_true_positives: 70.0000\n",
            "Epoch 133/200\n",
            "44/44 [==============================] - 1s 18ms/step - loss: 0.3677 - Accuracy: 0.8420 - false_negatives: 59.0000 - false_positives: 47.0000 - true_negatives: 997.0000 - true_positives: 289.0000 - val_loss: 0.5732 - val_Accuracy: 0.8409 - val_false_negatives: 14.0000 - val_false_positives: 12.0000 - val_true_negatives: 252.0000 - val_true_positives: 74.0000\n",
            "Epoch 134/200\n",
            "44/44 [==============================] - 1s 17ms/step - loss: 0.4283 - Accuracy: 0.8362 - false_negatives: 70.0000 - false_positives: 45.0000 - true_negatives: 999.0000 - true_positives: 278.0000 - val_loss: 0.5041 - val_Accuracy: 0.8295 - val_false_negatives: 15.0000 - val_false_positives: 13.0000 - val_true_negatives: 251.0000 - val_true_positives: 73.0000\n",
            "Epoch 135/200\n",
            "44/44 [==============================] - 1s 18ms/step - loss: 0.3642 - Accuracy: 0.8707 - false_negatives: 50.0000 - false_positives: 36.0000 - true_negatives: 1008.0000 - true_positives: 298.0000 - val_loss: 0.4547 - val_Accuracy: 0.8182 - val_false_negatives: 18.0000 - val_false_positives: 15.0000 - val_true_negatives: 249.0000 - val_true_positives: 70.0000\n",
            "Epoch 136/200\n",
            "44/44 [==============================] - 1s 18ms/step - loss: 0.3461 - Accuracy: 0.8707 - false_negatives: 53.0000 - false_positives: 34.0000 - true_negatives: 1010.0000 - true_positives: 295.0000 - val_loss: 0.5626 - val_Accuracy: 0.8068 - val_false_negatives: 17.0000 - val_false_positives: 16.0000 - val_true_negatives: 248.0000 - val_true_positives: 71.0000\n",
            "Epoch 137/200\n",
            "44/44 [==============================] - 1s 18ms/step - loss: 0.3290 - Accuracy: 0.8678 - false_negatives: 57.0000 - false_positives: 35.0000 - true_negatives: 1009.0000 - true_positives: 291.0000 - val_loss: 0.6117 - val_Accuracy: 0.7500 - val_false_negatives: 23.0000 - val_false_positives: 19.0000 - val_true_negatives: 245.0000 - val_true_positives: 65.0000\n",
            "Epoch 138/200\n",
            "44/44 [==============================] - 1s 18ms/step - loss: 0.3510 - Accuracy: 0.8592 - false_negatives: 58.0000 - false_positives: 38.0000 - true_negatives: 1006.0000 - true_positives: 290.0000 - val_loss: 0.5302 - val_Accuracy: 0.8182 - val_false_negatives: 16.0000 - val_false_positives: 13.0000 - val_true_negatives: 251.0000 - val_true_positives: 72.0000\n",
            "Epoch 139/200\n",
            "44/44 [==============================] - 1s 19ms/step - loss: 0.3198 - Accuracy: 0.8851 - false_negatives: 49.0000 - false_positives: 29.0000 - true_negatives: 1015.0000 - true_positives: 299.0000 - val_loss: 0.5278 - val_Accuracy: 0.8295 - val_false_negatives: 18.0000 - val_false_positives: 15.0000 - val_true_negatives: 249.0000 - val_true_positives: 70.0000\n",
            "Epoch 140/200\n",
            "44/44 [==============================] - 1s 18ms/step - loss: 0.3314 - Accuracy: 0.8793 - false_negatives: 49.0000 - false_positives: 38.0000 - true_negatives: 1006.0000 - true_positives: 299.0000 - val_loss: 0.6436 - val_Accuracy: 0.8182 - val_false_negatives: 19.0000 - val_false_positives: 15.0000 - val_true_negatives: 249.0000 - val_true_positives: 69.0000\n",
            "Epoch 141/200\n",
            "44/44 [==============================] - 1s 18ms/step - loss: 0.3203 - Accuracy: 0.8879 - false_negatives: 44.0000 - false_positives: 29.0000 - true_negatives: 1015.0000 - true_positives: 304.0000 - val_loss: 0.4650 - val_Accuracy: 0.8068 - val_false_negatives: 18.0000 - val_false_positives: 16.0000 - val_true_negatives: 248.0000 - val_true_positives: 70.0000\n",
            "Epoch 142/200\n",
            "44/44 [==============================] - 1s 19ms/step - loss: 0.2630 - Accuracy: 0.9052 - false_negatives: 38.0000 - false_positives: 30.0000 - true_negatives: 1014.0000 - true_positives: 310.0000 - val_loss: 0.4423 - val_Accuracy: 0.8409 - val_false_negatives: 16.0000 - val_false_positives: 12.0000 - val_true_negatives: 252.0000 - val_true_positives: 72.0000\n",
            "Epoch 143/200\n",
            "44/44 [==============================] - 1s 17ms/step - loss: 0.2820 - Accuracy: 0.8966 - false_negatives: 43.0000 - false_positives: 26.0000 - true_negatives: 1018.0000 - true_positives: 305.0000 - val_loss: 0.6441 - val_Accuracy: 0.7841 - val_false_negatives: 19.0000 - val_false_positives: 17.0000 - val_true_negatives: 247.0000 - val_true_positives: 69.0000\n",
            "Epoch 144/200\n",
            "44/44 [==============================] - 1s 17ms/step - loss: 0.2789 - Accuracy: 0.9109 - false_negatives: 40.0000 - false_positives: 25.0000 - true_negatives: 1019.0000 - true_positives: 308.0000 - val_loss: 0.5670 - val_Accuracy: 0.8068 - val_false_negatives: 18.0000 - val_false_positives: 16.0000 - val_true_negatives: 248.0000 - val_true_positives: 70.0000\n",
            "Epoch 145/200\n",
            "44/44 [==============================] - 1s 18ms/step - loss: 0.3484 - Accuracy: 0.8649 - false_negatives: 53.0000 - false_positives: 35.0000 - true_negatives: 1009.0000 - true_positives: 295.0000 - val_loss: 0.5577 - val_Accuracy: 0.8409 - val_false_negatives: 15.0000 - val_false_positives: 13.0000 - val_true_negatives: 251.0000 - val_true_positives: 73.0000\n",
            "Epoch 146/200\n",
            "44/44 [==============================] - 1s 18ms/step - loss: 0.2634 - Accuracy: 0.9023 - false_negatives: 42.0000 - false_positives: 25.0000 - true_negatives: 1019.0000 - true_positives: 306.0000 - val_loss: 0.5428 - val_Accuracy: 0.8409 - val_false_negatives: 14.0000 - val_false_positives: 14.0000 - val_true_negatives: 250.0000 - val_true_positives: 74.0000\n",
            "Epoch 147/200\n",
            "44/44 [==============================] - 1s 17ms/step - loss: 0.3238 - Accuracy: 0.8879 - false_negatives: 46.0000 - false_positives: 33.0000 - true_negatives: 1011.0000 - true_positives: 302.0000 - val_loss: 0.5898 - val_Accuracy: 0.8068 - val_false_negatives: 17.0000 - val_false_positives: 15.0000 - val_true_negatives: 249.0000 - val_true_positives: 71.0000\n",
            "Epoch 148/200\n",
            "44/44 [==============================] - 1s 20ms/step - loss: 0.3590 - Accuracy: 0.8649 - false_negatives: 60.0000 - false_positives: 37.0000 - true_negatives: 1007.0000 - true_positives: 288.0000 - val_loss: 0.5034 - val_Accuracy: 0.8295 - val_false_negatives: 17.0000 - val_false_positives: 13.0000 - val_true_negatives: 251.0000 - val_true_positives: 71.0000\n",
            "Epoch 149/200\n",
            "44/44 [==============================] - 1s 19ms/step - loss: 0.3444 - Accuracy: 0.8822 - false_negatives: 56.0000 - false_positives: 33.0000 - true_negatives: 1011.0000 - true_positives: 292.0000 - val_loss: 0.5152 - val_Accuracy: 0.8182 - val_false_negatives: 16.0000 - val_false_positives: 15.0000 - val_true_negatives: 249.0000 - val_true_positives: 72.0000\n",
            "Epoch 150/200\n",
            "44/44 [==============================] - 1s 18ms/step - loss: 0.3799 - Accuracy: 0.8563 - false_negatives: 55.0000 - false_positives: 39.0000 - true_negatives: 1005.0000 - true_positives: 293.0000 - val_loss: 0.5271 - val_Accuracy: 0.8068 - val_false_negatives: 19.0000 - val_false_positives: 16.0000 - val_true_negatives: 248.0000 - val_true_positives: 69.0000\n",
            "Epoch 151/200\n",
            "44/44 [==============================] - 1s 17ms/step - loss: 0.3420 - Accuracy: 0.8736 - false_negatives: 52.0000 - false_positives: 32.0000 - true_negatives: 1012.0000 - true_positives: 296.0000 - val_loss: 0.4647 - val_Accuracy: 0.8295 - val_false_negatives: 17.0000 - val_false_positives: 14.0000 - val_true_negatives: 250.0000 - val_true_positives: 71.0000\n",
            "Epoch 152/200\n",
            "44/44 [==============================] - 1s 18ms/step - loss: 0.2918 - Accuracy: 0.8764 - false_negatives: 50.0000 - false_positives: 33.0000 - true_negatives: 1011.0000 - true_positives: 298.0000 - val_loss: 0.5355 - val_Accuracy: 0.8523 - val_false_negatives: 13.0000 - val_false_positives: 13.0000 - val_true_negatives: 251.0000 - val_true_positives: 75.0000\n",
            "Epoch 153/200\n",
            "44/44 [==============================] - 1s 19ms/step - loss: 0.3821 - Accuracy: 0.8420 - false_negatives: 62.0000 - false_positives: 44.0000 - true_negatives: 1000.0000 - true_positives: 286.0000 - val_loss: 0.4803 - val_Accuracy: 0.8523 - val_false_negatives: 16.0000 - val_false_positives: 12.0000 - val_true_negatives: 252.0000 - val_true_positives: 72.0000\n",
            "Epoch 154/200\n",
            "44/44 [==============================] - 1s 18ms/step - loss: 0.2944 - Accuracy: 0.8793 - false_negatives: 45.0000 - false_positives: 32.0000 - true_negatives: 1012.0000 - true_positives: 303.0000 - val_loss: 0.4558 - val_Accuracy: 0.8068 - val_false_negatives: 17.0000 - val_false_positives: 16.0000 - val_true_negatives: 248.0000 - val_true_positives: 71.0000\n",
            "Epoch 155/200\n",
            "44/44 [==============================] - 1s 18ms/step - loss: 0.3043 - Accuracy: 0.8879 - false_negatives: 44.0000 - false_positives: 28.0000 - true_negatives: 1016.0000 - true_positives: 304.0000 - val_loss: 0.4089 - val_Accuracy: 0.8182 - val_false_negatives: 18.0000 - val_false_positives: 16.0000 - val_true_negatives: 248.0000 - val_true_positives: 70.0000\n",
            "Epoch 156/200\n",
            "44/44 [==============================] - 1s 18ms/step - loss: 0.3411 - Accuracy: 0.8764 - false_negatives: 46.0000 - false_positives: 36.0000 - true_negatives: 1008.0000 - true_positives: 302.0000 - val_loss: 0.4915 - val_Accuracy: 0.8182 - val_false_negatives: 16.0000 - val_false_positives: 12.0000 - val_true_negatives: 252.0000 - val_true_positives: 72.0000\n",
            "Epoch 157/200\n",
            "44/44 [==============================] - 1s 18ms/step - loss: 0.2948 - Accuracy: 0.9080 - false_negatives: 46.0000 - false_positives: 28.0000 - true_negatives: 1016.0000 - true_positives: 302.0000 - val_loss: 0.5492 - val_Accuracy: 0.8068 - val_false_negatives: 17.0000 - val_false_positives: 17.0000 - val_true_negatives: 247.0000 - val_true_positives: 71.0000\n",
            "Epoch 158/200\n",
            "44/44 [==============================] - 1s 18ms/step - loss: 0.2772 - Accuracy: 0.8851 - false_negatives: 45.0000 - false_positives: 38.0000 - true_negatives: 1006.0000 - true_positives: 303.0000 - val_loss: 0.5493 - val_Accuracy: 0.8068 - val_false_negatives: 17.0000 - val_false_positives: 16.0000 - val_true_negatives: 248.0000 - val_true_positives: 71.0000\n",
            "Epoch 159/200\n",
            "44/44 [==============================] - 1s 18ms/step - loss: 0.2470 - Accuracy: 0.9339 - false_negatives: 34.0000 - false_positives: 19.0000 - true_negatives: 1025.0000 - true_positives: 314.0000 - val_loss: 0.5029 - val_Accuracy: 0.7955 - val_false_negatives: 19.0000 - val_false_positives: 17.0000 - val_true_negatives: 247.0000 - val_true_positives: 69.0000\n",
            "Epoch 160/200\n",
            "44/44 [==============================] - 1s 18ms/step - loss: 0.2835 - Accuracy: 0.8908 - false_negatives: 46.0000 - false_positives: 31.0000 - true_negatives: 1013.0000 - true_positives: 302.0000 - val_loss: 0.6035 - val_Accuracy: 0.8182 - val_false_negatives: 16.0000 - val_false_positives: 16.0000 - val_true_negatives: 248.0000 - val_true_positives: 72.0000\n",
            "Epoch 161/200\n",
            "44/44 [==============================] - 1s 18ms/step - loss: 0.2381 - Accuracy: 0.9253 - false_negatives: 33.0000 - false_positives: 23.0000 - true_negatives: 1021.0000 - true_positives: 315.0000 - val_loss: 0.6263 - val_Accuracy: 0.8182 - val_false_negatives: 17.0000 - val_false_positives: 15.0000 - val_true_negatives: 249.0000 - val_true_positives: 71.0000\n",
            "Epoch 162/200\n",
            "44/44 [==============================] - 1s 19ms/step - loss: 0.2885 - Accuracy: 0.8793 - false_negatives: 44.0000 - false_positives: 33.0000 - true_negatives: 1011.0000 - true_positives: 304.0000 - val_loss: 0.6070 - val_Accuracy: 0.7841 - val_false_negatives: 21.0000 - val_false_positives: 17.0000 - val_true_negatives: 247.0000 - val_true_positives: 67.0000\n",
            "Epoch 163/200\n",
            "44/44 [==============================] - 1s 19ms/step - loss: 0.2387 - Accuracy: 0.9195 - false_negatives: 33.0000 - false_positives: 25.0000 - true_negatives: 1019.0000 - true_positives: 315.0000 - val_loss: 0.7587 - val_Accuracy: 0.8068 - val_false_negatives: 17.0000 - val_false_positives: 17.0000 - val_true_negatives: 247.0000 - val_true_positives: 71.0000\n",
            "Epoch 164/200\n",
            "44/44 [==============================] - 1s 18ms/step - loss: 0.2787 - Accuracy: 0.8937 - false_negatives: 37.0000 - false_positives: 31.0000 - true_negatives: 1013.0000 - true_positives: 311.0000 - val_loss: 0.8618 - val_Accuracy: 0.7955 - val_false_negatives: 18.0000 - val_false_positives: 16.0000 - val_true_negatives: 248.0000 - val_true_positives: 70.0000\n",
            "Epoch 165/200\n",
            "44/44 [==============================] - 1s 18ms/step - loss: 0.2718 - Accuracy: 0.8908 - false_negatives: 42.0000 - false_positives: 32.0000 - true_negatives: 1012.0000 - true_positives: 306.0000 - val_loss: 0.5360 - val_Accuracy: 0.8295 - val_false_negatives: 16.0000 - val_false_positives: 14.0000 - val_true_negatives: 250.0000 - val_true_positives: 72.0000\n",
            "Epoch 166/200\n",
            "44/44 [==============================] - 1s 18ms/step - loss: 0.2579 - Accuracy: 0.9119 - false_negatives: 38.0000 - false_positives: 27.0000 - true_negatives: 1029.0000 - true_positives: 314.0000 - val_loss: 0.4723 - val_Accuracy: 0.8750 - val_false_negatives: 12.0000 - val_false_positives: 11.0000 - val_true_negatives: 253.0000 - val_true_positives: 76.0000\n",
            "Epoch 167/200\n",
            "44/44 [==============================] - 1s 18ms/step - loss: 0.3378 - Accuracy: 0.9052 - false_negatives: 41.0000 - false_positives: 28.0000 - true_negatives: 1016.0000 - true_positives: 307.0000 - val_loss: 0.6358 - val_Accuracy: 0.8523 - val_false_negatives: 14.0000 - val_false_positives: 12.0000 - val_true_negatives: 252.0000 - val_true_positives: 74.0000\n",
            "Epoch 168/200\n",
            "44/44 [==============================] - 1s 18ms/step - loss: 0.3018 - Accuracy: 0.8937 - false_negatives: 44.0000 - false_positives: 32.0000 - true_negatives: 1012.0000 - true_positives: 304.0000 - val_loss: 0.5047 - val_Accuracy: 0.8409 - val_false_negatives: 15.0000 - val_false_positives: 14.0000 - val_true_negatives: 250.0000 - val_true_positives: 73.0000\n",
            "Epoch 169/200\n",
            "44/44 [==============================] - 1s 19ms/step - loss: 0.2438 - Accuracy: 0.9167 - false_negatives: 38.0000 - false_positives: 25.0000 - true_negatives: 1019.0000 - true_positives: 310.0000 - val_loss: 0.5355 - val_Accuracy: 0.8523 - val_false_negatives: 15.0000 - val_false_positives: 12.0000 - val_true_negatives: 252.0000 - val_true_positives: 73.0000\n",
            "Epoch 170/200\n",
            "44/44 [==============================] - 1s 19ms/step - loss: 0.3062 - Accuracy: 0.8879 - false_negatives: 47.0000 - false_positives: 33.0000 - true_negatives: 1011.0000 - true_positives: 301.0000 - val_loss: 0.5492 - val_Accuracy: 0.8182 - val_false_negatives: 17.0000 - val_false_positives: 15.0000 - val_true_negatives: 249.0000 - val_true_positives: 71.0000\n",
            "Epoch 171/200\n",
            "44/44 [==============================] - 1s 19ms/step - loss: 0.2850 - Accuracy: 0.9109 - false_negatives: 42.0000 - false_positives: 26.0000 - true_negatives: 1018.0000 - true_positives: 306.0000 - val_loss: 0.6033 - val_Accuracy: 0.7955 - val_false_negatives: 18.0000 - val_false_positives: 17.0000 - val_true_negatives: 247.0000 - val_true_positives: 70.0000\n",
            "Epoch 172/200\n",
            "44/44 [==============================] - 1s 18ms/step - loss: 0.3851 - Accuracy: 0.8649 - false_negatives: 51.0000 - false_positives: 44.0000 - true_negatives: 1000.0000 - true_positives: 297.0000 - val_loss: 0.6780 - val_Accuracy: 0.8636 - val_false_negatives: 14.0000 - val_false_positives: 12.0000 - val_true_negatives: 252.0000 - val_true_positives: 74.0000\n",
            "Epoch 173/200\n",
            "44/44 [==============================] - 1s 19ms/step - loss: 0.3106 - Accuracy: 0.8764 - false_negatives: 50.0000 - false_positives: 37.0000 - true_negatives: 1007.0000 - true_positives: 298.0000 - val_loss: 0.7293 - val_Accuracy: 0.7727 - val_false_negatives: 21.0000 - val_false_positives: 17.0000 - val_true_negatives: 247.0000 - val_true_positives: 67.0000\n",
            "Epoch 174/200\n",
            "44/44 [==============================] - 1s 19ms/step - loss: 0.2112 - Accuracy: 0.9167 - false_negatives: 36.0000 - false_positives: 23.0000 - true_negatives: 1021.0000 - true_positives: 312.0000 - val_loss: 0.6251 - val_Accuracy: 0.7727 - val_false_negatives: 20.0000 - val_false_positives: 18.0000 - val_true_negatives: 246.0000 - val_true_positives: 68.0000\n",
            "Epoch 175/200\n",
            "44/44 [==============================] - 1s 19ms/step - loss: 0.2500 - Accuracy: 0.9167 - false_negatives: 31.0000 - false_positives: 23.0000 - true_negatives: 1021.0000 - true_positives: 317.0000 - val_loss: 0.5591 - val_Accuracy: 0.8068 - val_false_negatives: 18.0000 - val_false_positives: 17.0000 - val_true_negatives: 247.0000 - val_true_positives: 70.0000\n",
            "Epoch 176/200\n",
            "44/44 [==============================] - 1s 18ms/step - loss: 0.2470 - Accuracy: 0.9023 - false_negatives: 38.0000 - false_positives: 27.0000 - true_negatives: 1017.0000 - true_positives: 310.0000 - val_loss: 0.5252 - val_Accuracy: 0.7955 - val_false_negatives: 18.0000 - val_false_positives: 17.0000 - val_true_negatives: 247.0000 - val_true_positives: 70.0000\n",
            "Epoch 177/200\n",
            "44/44 [==============================] - 1s 19ms/step - loss: 0.2717 - Accuracy: 0.9023 - false_negatives: 43.0000 - false_positives: 29.0000 - true_negatives: 1015.0000 - true_positives: 305.0000 - val_loss: 0.6072 - val_Accuracy: 0.8182 - val_false_negatives: 16.0000 - val_false_positives: 15.0000 - val_true_negatives: 249.0000 - val_true_positives: 72.0000\n",
            "Epoch 178/200\n",
            "44/44 [==============================] - 1s 20ms/step - loss: 0.2321 - Accuracy: 0.9253 - false_negatives: 31.0000 - false_positives: 24.0000 - true_negatives: 1020.0000 - true_positives: 317.0000 - val_loss: 0.5555 - val_Accuracy: 0.8182 - val_false_negatives: 16.0000 - val_false_positives: 16.0000 - val_true_negatives: 248.0000 - val_true_positives: 72.0000\n",
            "Epoch 179/200\n",
            "44/44 [==============================] - 1s 19ms/step - loss: 0.2018 - Accuracy: 0.9253 - false_negatives: 28.0000 - false_positives: 23.0000 - true_negatives: 1021.0000 - true_positives: 320.0000 - val_loss: 0.6308 - val_Accuracy: 0.7727 - val_false_negatives: 20.0000 - val_false_positives: 19.0000 - val_true_negatives: 245.0000 - val_true_positives: 68.0000\n",
            "Epoch 180/200\n",
            "44/44 [==============================] - 1s 18ms/step - loss: 0.2735 - Accuracy: 0.8879 - false_negatives: 43.0000 - false_positives: 33.0000 - true_negatives: 1011.0000 - true_positives: 305.0000 - val_loss: 0.6441 - val_Accuracy: 0.8295 - val_false_negatives: 16.0000 - val_false_positives: 13.0000 - val_true_negatives: 251.0000 - val_true_positives: 72.0000\n",
            "Epoch 181/200\n",
            "44/44 [==============================] - 1s 19ms/step - loss: 0.3179 - Accuracy: 0.8793 - false_negatives: 48.0000 - false_positives: 37.0000 - true_negatives: 1007.0000 - true_positives: 300.0000 - val_loss: 0.5372 - val_Accuracy: 0.8182 - val_false_negatives: 16.0000 - val_false_positives: 13.0000 - val_true_negatives: 251.0000 - val_true_positives: 72.0000\n",
            "Epoch 182/200\n",
            "44/44 [==============================] - 1s 19ms/step - loss: 0.2739 - Accuracy: 0.9023 - false_negatives: 41.0000 - false_positives: 28.0000 - true_negatives: 1016.0000 - true_positives: 307.0000 - val_loss: 0.5550 - val_Accuracy: 0.8409 - val_false_negatives: 16.0000 - val_false_positives: 13.0000 - val_true_negatives: 251.0000 - val_true_positives: 72.0000\n",
            "Epoch 183/200\n",
            "44/44 [==============================] - 1s 18ms/step - loss: 0.1813 - Accuracy: 0.9368 - false_negatives: 28.0000 - false_positives: 21.0000 - true_negatives: 1023.0000 - true_positives: 320.0000 - val_loss: 0.5799 - val_Accuracy: 0.8182 - val_false_negatives: 16.0000 - val_false_positives: 16.0000 - val_true_negatives: 248.0000 - val_true_positives: 72.0000\n",
            "Epoch 184/200\n",
            "44/44 [==============================] - 1s 19ms/step - loss: 0.1625 - Accuracy: 0.9540 - false_negatives: 20.0000 - false_positives: 13.0000 - true_negatives: 1031.0000 - true_positives: 328.0000 - val_loss: 0.6540 - val_Accuracy: 0.7727 - val_false_negatives: 22.0000 - val_false_positives: 17.0000 - val_true_negatives: 247.0000 - val_true_positives: 66.0000\n",
            "Epoch 185/200\n",
            "44/44 [==============================] - 1s 18ms/step - loss: 0.2254 - Accuracy: 0.9195 - false_negatives: 35.0000 - false_positives: 23.0000 - true_negatives: 1021.0000 - true_positives: 313.0000 - val_loss: 0.7075 - val_Accuracy: 0.7841 - val_false_negatives: 19.0000 - val_false_positives: 16.0000 - val_true_negatives: 248.0000 - val_true_positives: 69.0000\n",
            "Epoch 186/200\n",
            "44/44 [==============================] - 1s 19ms/step - loss: 0.2740 - Accuracy: 0.8966 - false_negatives: 39.0000 - false_positives: 30.0000 - true_negatives: 1014.0000 - true_positives: 309.0000 - val_loss: 0.8082 - val_Accuracy: 0.7955 - val_false_negatives: 18.0000 - val_false_positives: 15.0000 - val_true_negatives: 249.0000 - val_true_positives: 70.0000\n",
            "Epoch 187/200\n",
            "44/44 [==============================] - 1s 20ms/step - loss: 0.2288 - Accuracy: 0.9195 - false_negatives: 31.0000 - false_positives: 24.0000 - true_negatives: 1020.0000 - true_positives: 317.0000 - val_loss: 0.7690 - val_Accuracy: 0.8295 - val_false_negatives: 16.0000 - val_false_positives: 15.0000 - val_true_negatives: 249.0000 - val_true_positives: 72.0000\n",
            "Epoch 188/200\n",
            "44/44 [==============================] - 1s 19ms/step - loss: 0.2562 - Accuracy: 0.8966 - false_negatives: 37.0000 - false_positives: 31.0000 - true_negatives: 1013.0000 - true_positives: 311.0000 - val_loss: 0.6543 - val_Accuracy: 0.8295 - val_false_negatives: 16.0000 - val_false_positives: 15.0000 - val_true_negatives: 249.0000 - val_true_positives: 72.0000\n",
            "Epoch 189/200\n",
            "44/44 [==============================] - 1s 19ms/step - loss: 0.2390 - Accuracy: 0.9109 - false_negatives: 35.0000 - false_positives: 27.0000 - true_negatives: 1017.0000 - true_positives: 313.0000 - val_loss: 0.7265 - val_Accuracy: 0.7841 - val_false_negatives: 20.0000 - val_false_positives: 17.0000 - val_true_negatives: 247.0000 - val_true_positives: 68.0000\n",
            "Epoch 190/200\n",
            "44/44 [==============================] - 1s 20ms/step - loss: 0.2284 - Accuracy: 0.9339 - false_negatives: 26.0000 - false_positives: 20.0000 - true_negatives: 1024.0000 - true_positives: 322.0000 - val_loss: 0.6971 - val_Accuracy: 0.7841 - val_false_negatives: 19.0000 - val_false_positives: 18.0000 - val_true_negatives: 246.0000 - val_true_positives: 69.0000\n",
            "Epoch 191/200\n",
            "44/44 [==============================] - 1s 19ms/step - loss: 0.2350 - Accuracy: 0.9080 - false_negatives: 34.0000 - false_positives: 29.0000 - true_negatives: 1015.0000 - true_positives: 314.0000 - val_loss: 0.5839 - val_Accuracy: 0.8295 - val_false_negatives: 15.0000 - val_false_positives: 15.0000 - val_true_negatives: 249.0000 - val_true_positives: 73.0000\n",
            "Epoch 192/200\n",
            "44/44 [==============================] - 1s 19ms/step - loss: 0.1804 - Accuracy: 0.9339 - false_negatives: 25.0000 - false_positives: 20.0000 - true_negatives: 1024.0000 - true_positives: 323.0000 - val_loss: 0.6335 - val_Accuracy: 0.8182 - val_false_negatives: 16.0000 - val_false_positives: 15.0000 - val_true_negatives: 249.0000 - val_true_positives: 72.0000\n",
            "Epoch 193/200\n",
            "44/44 [==============================] - 1s 19ms/step - loss: 0.1858 - Accuracy: 0.9167 - false_negatives: 30.0000 - false_positives: 26.0000 - true_negatives: 1018.0000 - true_positives: 318.0000 - val_loss: 0.7805 - val_Accuracy: 0.7841 - val_false_negatives: 21.0000 - val_false_positives: 18.0000 - val_true_negatives: 246.0000 - val_true_positives: 67.0000\n",
            "Epoch 194/200\n",
            "44/44 [==============================] - 1s 19ms/step - loss: 0.2023 - Accuracy: 0.9282 - false_negatives: 28.0000 - false_positives: 22.0000 - true_negatives: 1022.0000 - true_positives: 320.0000 - val_loss: 0.9342 - val_Accuracy: 0.8409 - val_false_negatives: 16.0000 - val_false_positives: 14.0000 - val_true_negatives: 250.0000 - val_true_positives: 72.0000\n",
            "Epoch 195/200\n",
            "44/44 [==============================] - 1s 19ms/step - loss: 0.2122 - Accuracy: 0.9339 - false_negatives: 25.0000 - false_positives: 22.0000 - true_negatives: 1022.0000 - true_positives: 323.0000 - val_loss: 0.7567 - val_Accuracy: 0.8295 - val_false_negatives: 16.0000 - val_false_positives: 15.0000 - val_true_negatives: 249.0000 - val_true_positives: 72.0000\n",
            "Epoch 196/200\n",
            "44/44 [==============================] - 1s 19ms/step - loss: 0.1576 - Accuracy: 0.9368 - false_negatives: 23.0000 - false_positives: 19.0000 - true_negatives: 1025.0000 - true_positives: 325.0000 - val_loss: 0.7592 - val_Accuracy: 0.7955 - val_false_negatives: 18.0000 - val_false_positives: 18.0000 - val_true_negatives: 246.0000 - val_true_positives: 70.0000\n",
            "Epoch 197/200\n",
            "44/44 [==============================] - 1s 19ms/step - loss: 0.2391 - Accuracy: 0.9195 - false_negatives: 32.0000 - false_positives: 23.0000 - true_negatives: 1021.0000 - true_positives: 316.0000 - val_loss: 1.0867 - val_Accuracy: 0.7955 - val_false_negatives: 19.0000 - val_false_positives: 18.0000 - val_true_negatives: 246.0000 - val_true_positives: 69.0000\n",
            "Epoch 198/200\n",
            "44/44 [==============================] - 1s 19ms/step - loss: 0.3805 - Accuracy: 0.8822 - false_negatives: 46.0000 - false_positives: 36.0000 - true_negatives: 1008.0000 - true_positives: 302.0000 - val_loss: 0.6835 - val_Accuracy: 0.8068 - val_false_negatives: 17.0000 - val_false_positives: 17.0000 - val_true_negatives: 247.0000 - val_true_positives: 71.0000\n",
            "Epoch 199/200\n",
            "44/44 [==============================] - 1s 19ms/step - loss: 0.2562 - Accuracy: 0.9052 - false_negatives: 40.0000 - false_positives: 28.0000 - true_negatives: 1016.0000 - true_positives: 308.0000 - val_loss: 0.6826 - val_Accuracy: 0.7727 - val_false_negatives: 20.0000 - val_false_positives: 18.0000 - val_true_negatives: 246.0000 - val_true_positives: 68.0000\n",
            "Epoch 200/200\n",
            "44/44 [==============================] - 1s 20ms/step - loss: 0.2164 - Accuracy: 0.9282 - false_negatives: 31.0000 - false_positives: 21.0000 - true_negatives: 1023.0000 - true_positives: 317.0000 - val_loss: 0.7113 - val_Accuracy: 0.7500 - val_false_negatives: 22.0000 - val_false_positives: 20.0000 - val_true_negatives: 244.0000 - val_true_positives: 66.0000\n"
          ]
        }
      ]
    },
    {
      "cell_type": "markdown",
      "source": [
        "Plotting Traning Result"
      ],
      "metadata": {
        "id": "XZSFG8fXqz7c"
      }
    },
    {
      "cell_type": "code",
      "source": [
        "  #plotting\n",
        "  epochs = range(1, len(history.history['loss'])+1)\n",
        "  plt.title(f\"Grafik loss training iterasi {iterasi}\")\n",
        "  plt.plot(epochs, history.history['loss'], 'r', label='Training Loss')\n",
        "  plt.plot(epochs, history.history['val_loss'], 'b', label='Validation Loss')    \n",
        "  plt.xlabel(\"Epoch\")\n",
        "  plt.ylabel(\"Loss\")\n",
        "  plt.legend()\n",
        "  plt.show()\n"
      ],
      "metadata": {
        "id": "3dXbDrJpY1NK",
        "colab": {
          "base_uri": "https://localhost:8080/",
          "height": 295
        },
        "outputId": "20868d8e-e68e-4432-958c-25eeb8b216e6"
      },
      "execution_count": 12,
      "outputs": [
        {
          "output_type": "display_data",
          "data": {
            "text/plain": [
              "<Figure size 432x288 with 1 Axes>"
            ],
            "image/png": "[encoded data removed]"
          },
          "metadata": {
            "needs_background": "light"
          }
        }
      ]
    },
    {
      "cell_type": "code",
      "source": [
        "  #plotting\n",
        "  epochs = range(1, len(history.history['loss'])+1)\n",
        "  plt.title(f\"Grafik Akurasi training iterasi {iterasi}\")\n",
        "  plt.plot(epochs, history.history['Accuracy'], 'r', label='Training Accuracy')\n",
        "  plt.plot(epochs, history.history['val_Accuracy'], 'b', label='Validation Accuracy')    \n",
        "  plt.xlabel(\"Epoch\")\n",
        "  plt.ylabel(\"Accuracy\")\n",
        "  plt.legend()\n",
        "  plt.show()"
      ],
      "metadata": {
        "id": "j3xigprPwlSX",
        "colab": {
          "base_uri": "https://localhost:8080/",
          "height": 295
        },
        "outputId": "581d9120-47ae-4a73-9210-1e26380f2fa7"
      },
      "execution_count": 13,
      "outputs": [
        {
          "output_type": "display_data",
          "data": {
            "text/plain": [
              "<Figure size 432x288 with 1 Axes>"
            ],
            "image/png": "[encoded data removed]"
          },
          "metadata": {
            "needs_background": "light"
          }
        }
      ]
    },
    {
      "cell_type": "code",
      "source": [
        "import matplotlib.pyplot as plt\n",
        "from sklearn.datasets import make_classification\n",
        "from numpy import mean\n",
        "from sklearn.metrics import confusion_matrix, ConfusionMatrixDisplay, accuracy_score, classification_report, recall_score\n",
        "\n",
        "validation = model.predict(np_image_list_validation)\n",
        "\n",
        "predicted_labels = []\n",
        "correct_labels = []\n",
        "for i in range (len(validation)):\n",
        "  predicted_labels.append(np.argmax(validation[i]))\n",
        "\n",
        "for i in range (len(image_labels_validation)):\n",
        "  correct_labels.append(np.argmax(image_labels_validation[i]))\n",
        "\n",
        "\n",
        "confusion_matrix = confusion_matrix(correct_labels, predicted_labels)\n",
        "disp = ConfusionMatrixDisplay(confusion_matrix=confusion_matrix)  \n",
        "disp.plot()\n",
        "plt.show()\n",
        "print('--------')\n",
        "FP = confusion_matrix.sum(axis=0) - np.diag(confusion_matrix)  \n",
        "FN = confusion_matrix.sum(axis=1) - np.diag(confusion_matrix)\n",
        "TP = np.diag(confusion_matrix)\n",
        "TN = confusion_matrix.sum() - (FP + FN + TP)\n",
        "\n",
        "# Sensitivity, hit rate, recall, or true positive rate\n",
        "TPR = TP/(TP+FN)\n",
        "# Specificity or true negative rate\n",
        "TNR = TN/(TN+FP) \n",
        "# Overall accuracy\n",
        "ACC = (TP+TN)/(TP+FP+FN+TN)\n",
        "\n",
        "print(TP)\n",
        "print(TN)\n",
        "print(FP)\n",
        "print(FN)\n",
        "print('--------')\n",
        "print(ACC)\n",
        "print(TPR)\n",
        "print(TNR)\n",
        "print('--------')\n",
        "\n",
        "TP = sum(TP)\n",
        "TN = sum(TN)\n",
        "FP = sum(FP)\n",
        "FN = sum(FN)\n",
        "\n",
        "# Sensitivity, hit rate, recall, or true positive rate\n",
        "TPR = TP/(TP+FN)\n",
        "# Specificity or true negative rate\n",
        "TNR = TN/(TN+FP) \n",
        "# Overall accuracy\n",
        "ACC = (TP+TN)/(TP+FP+FN+TN)\n",
        "\n",
        "print(TP)\n",
        "print(TN)\n",
        "print(FP)\n",
        "print(FN)\n",
        "print('--------')\n",
        "print(ACC)\n",
        "print(TPR)\n",
        "print(TNR)"
      ],
      "metadata": {
        "colab": {
          "base_uri": "https://localhost:8080/",
          "height": 591
        },
        "id": "y0RigLm76Rpg",
        "outputId": "be9b7278-6e61-4621-e87a-84b6b26c8d4a"
      },
      "execution_count": 14,
      "outputs": [
        {
          "output_type": "display_data",
          "data": {
            "text/plain": [
              "<Figure size 432x288 with 2 Axes>"
            ],
            "image/png": "[encoded data removed]"
          },
          "metadata": {
            "needs_background": "light"
          }
        },
        {
          "output_type": "stream",
          "name": "stdout",
          "text": [
            "--------\n",
            "[ 5  8 19 34]\n",
            "[70 72 56 44]\n",
            "[8 3 7 4]\n",
            "[5 5 6 6]\n",
            "--------\n",
            "[0.85227273 0.90909091 0.85227273 0.88636364]\n",
            "[0.5        0.61538462 0.76       0.85      ]\n",
            "[0.8974359  0.96       0.88888889 0.91666667]\n",
            "--------\n",
            "66\n",
            "242\n",
            "22\n",
            "22\n",
            "--------\n",
            "0.875\n",
            "0.75\n",
            "0.9166666666666666\n"
          ]
        }
      ]
    },
    {
      "cell_type": "code",
      "source": [
        "import matplotlib.pyplot as plt\n",
        "from sklearn.datasets import make_classification\n",
        "from numpy import mean\n",
        "from sklearn.metrics import confusion_matrix, ConfusionMatrixDisplay, accuracy_score, classification_report, recall_score\n",
        "\n",
        "test = model.predict(np_image_list_test)\n",
        "\n",
        "predicted_labels = []\n",
        "correct_labels = []\n",
        "for i in range (len(test)):\n",
        "  predicted_labels.append(np.argmax(test[i]))\n",
        "\n",
        "for i in range (len(image_labels_test)):\n",
        "  correct_labels.append(np.argmax(image_labels_test[i]))\n",
        "\n",
        "\n",
        "confusion_matrix = confusion_matrix(correct_labels, predicted_labels)\n",
        "disp = ConfusionMatrixDisplay(confusion_matrix=confusion_matrix)  \n",
        "disp.plot()\n",
        "plt.show()\n",
        "print('--------')\n",
        "FP = confusion_matrix.sum(axis=0) - np.diag(confusion_matrix)  \n",
        "FN = confusion_matrix.sum(axis=1) - np.diag(confusion_matrix)\n",
        "TP = np.diag(confusion_matrix)\n",
        "TN = confusion_matrix.sum() - (FP + FN + TP)\n",
        "\n",
        "# Sensitivity, hit rate, recall, or true positive rate\n",
        "TPR = TP/(TP+FN)\n",
        "# Specificity or true negative rate\n",
        "TNR = TN/(TN+FP) \n",
        "# Overall accuracy\n",
        "ACC = (TP+TN)/(TP+FP+FN+TN)\n",
        "\n",
        "print(TP)\n",
        "print(TN)\n",
        "print(FP)\n",
        "print(FN)\n",
        "print('--------')\n",
        "print(ACC)\n",
        "print(TPR)\n",
        "print(TNR)\n",
        "print('--------')\n",
        "\n",
        "TP = sum(TP)\n",
        "TN = sum(TN)\n",
        "FP = sum(FP)\n",
        "FN = sum(FN)\n",
        "\n",
        "# Sensitivity, hit rate, recall, or true positive rate\n",
        "TPR = TP/(TP+FN)\n",
        "# Specificity or true negative rate\n",
        "TNR = TN/(TN+FP) \n",
        "# Overall accuracy\n",
        "ACC = (TP+TN)/(TP+FP+FN+TN)\n",
        "\n",
        "print(TP)\n",
        "print(TN)\n",
        "print(FP)\n",
        "print(FN)\n",
        "print('--------')\n",
        "print(ACC)\n",
        "print(TPR)\n",
        "print(TNR)"
      ],
      "metadata": {
        "colab": {
          "base_uri": "https://localhost:8080/",
          "height": 591
        },
        "id": "xufCN02P5v4A",
        "outputId": "a5458bdd-9a1b-49cf-c46f-e60ec6cb56d2"
      },
      "execution_count": 15,
      "outputs": [
        {
          "output_type": "display_data",
          "data": {
            "text/plain": [
              "<Figure size 432x288 with 2 Axes>"
            ],
            "image/png": "[encoded data removed]"
          },
          "metadata": {
            "needs_background": "light"
          }
        },
        {
          "output_type": "stream",
          "name": "stdout",
          "text": [
            "--------\n",
            "[ 1  9 12 28]\n",
            "[79 85 60 46]\n",
            "[19  9 18 14]\n",
            "[11  7 20 22]\n",
            "--------\n",
            "[0.72727273 0.85454545 0.65454545 0.67272727]\n",
            "[0.08333333 0.5625     0.375      0.56      ]\n",
            "[0.80612245 0.90425532 0.76923077 0.76666667]\n",
            "--------\n",
            "50\n",
            "270\n",
            "60\n",
            "60\n",
            "--------\n",
            "0.7272727272727273\n",
            "0.45454545454545453\n",
            "0.8181818181818182\n"
          ]
        }
      ]
    },
    {
      "cell_type": "markdown",
      "metadata": {
        "id": "bTgk1-sdzmgy"
      },
      "source": [
        "**Validating** Network"
      ]
    },
    {
      "cell_type": "code",
      "source": [
        "\n"
      ],
      "metadata": {
        "id": "d_NBE4KkWuhu"
      },
      "execution_count": 15,
      "outputs": []
    },
    {
      "cell_type": "markdown",
      "source": [
        "**Testing** Network"
      ],
      "metadata": {
        "id": "saJYjKqX9tRL"
      }
    },
    {
      "cell_type": "code",
      "source": [
        "\n"
      ],
      "metadata": {
        "id": "A7DR52hmTc75"
      },
      "execution_count": 15,
      "outputs": []
    },
    {
      "cell_type": "code",
      "source": [
        "test_img = cv2.imread('/content/Datasets/fold3/Test/apel_sehat/apel_sehat (1).jpg')\n",
        "\n",
        "plt.imshow(test_img)\n",
        "test_img = test_img / 255\n",
        "test_img = np.expand_dims(test_img, axis=0)\n",
        "pr=model.predict(test_img)\n",
        "\n",
        "print(pr)\n",
        "output = label_binarizer.inverse_transform(pr)\n",
        "print(output)"
      ],
      "metadata": {
        "colab": {
          "base_uri": "https://localhost:8080/",
          "height": 303
        },
        "id": "zkMI6CwJArvo",
        "outputId": "e4f36ff2-dfc5-4a29-f091-f59dffba63fd"
      },
      "execution_count": 16,
      "outputs": [
        {
          "output_type": "stream",
          "name": "stdout",
          "text": [
            "[[2.7522519e-03 6.4626838e-05 1.0931615e-01 8.8786697e-01]]\n",
            "['apel_sehat']\n"
          ]
        },
        {
          "output_type": "display_data",
          "data": {
            "text/plain": [
              "<Figure size 432x288 with 1 Axes>"
            ],
            "image/png": "[encoded data removed]"
          },
          "metadata": {
            "needs_background": "light"
          }
        }
      ]
    },
    {
      "cell_type": "code",
      "source": [
        "# save the model to disk\n",
        "#print(\"[INFO] Saving model...\")\n",
        "#pickle.dump(model,open('cnn_model.pkl', 'wb'))\n",
        "#model.save('/content/fold1.h5')"
      ],
      "metadata": {
        "id": "Wr_b8qBuCAIS"
      },
      "execution_count": 17,
      "outputs": []
    }
  ]
}