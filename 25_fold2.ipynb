{
  "nbformat": 4,
  "nbformat_minor": 0,
  "metadata": {
    "accelerator": "GPU",
    "colab": {
      "name": "Kodingan Skripsi 3",
      "provenance": [],
      "collapsed_sections": [],
      "include_colab_link": true
    },
    "kernelspec": {
      "display_name": "Python 3",
      "language": "python",
      "name": "python3"
    },
    "language_info": {
      "codemirror_mode": {
        "name": "ipython",
        "version": 3
      },
      "file_extension": ".py",
      "mimetype": "text/x-python",
      "name": "python",
      "nbconvert_exporter": "python",
      "pygments_lexer": "ipython3",
      "version": "3.6.6"
    }
  },
  "cells": [
    {
      "cell_type": "markdown",
      "metadata": {
        "id": "view-in-github",
        "colab_type": "text"
      },
      "source": [
        "<a href=\"https://colab.research.google.com/github/TaufiqIdrus/Python-Projects/blob/master/25_fold2.ipynb\" target=\"_parent\"><img src=\"https://colab.research.google.com/assets/colab-badge.svg\" alt=\"Open In Colab\"/></a>"
      ]
    },
    {
      "cell_type": "markdown",
      "metadata": {
        "id": "yJT_kQA2lITS"
      },
      "source": [
        "**Identifikasi Penyakit Pada Tanaman Apel menggunakan Convolutional Neural Network**"
      ]
    },
    {
      "cell_type": "code",
      "metadata": {
        "id": "xXeOaYTUzmgT"
      },
      "source": [
        "import numpy as np\n",
        "import pickle\n",
        "import os\n",
        "import cv2\n",
        "import tensorflow as tf\n",
        "import keras\n",
        "from os import listdir\n",
        "from sklearn.preprocessing import LabelBinarizer\n",
        "from keras.models import Sequential\n",
        "from keras.layers.convolutional import Conv2D\n",
        "from keras.layers.convolutional import MaxPooling2D\n",
        "from keras.layers.core import Activation, Flatten, Dropout, Dense\n",
        "from keras import backend as K\n",
        "from tensorflow.keras.optimizers import Adam\n",
        "from keras.preprocessing import image\n",
        "import matplotlib.pyplot as plt\n",
        "from sklearn.datasets import make_classification\n",
        "from numpy import mean\n"
      ],
      "execution_count": 1,
      "outputs": []
    },
    {
      "cell_type": "markdown",
      "metadata": {
        "id": "fp8C0d28lQok"
      },
      "source": [
        "Importing and Preparing Dataset"
      ]
    },
    {
      "cell_type": "code",
      "metadata": {
        "id": "_0xehllADlUs",
        "colab": {
          "base_uri": "https://localhost:8080/"
        },
        "outputId": "06ad8006-8471-4171-9785-a0adc7e69000"
      },
      "source": [
        "!pip install pyunpack\n",
        "!pip install patool\n",
        "from pyunpack import Archive\n",
        "Archive('/content/fold2.rar').extractall('/content/Datasets/')\n",
        "iterasi = 2\n",
        "width=60\n",
        "height=60\n",
        "default_image_size = tuple((height, width))\n",
        "directory_root_train = '/content/Datasets/fold2/Train'\n",
        "directory_root_validation = '/content/Datasets/fold2/Validation'\n",
        "directory_root_test = '/content/Datasets/fold2/Test'\n",
        "image_size = 0\n",
        "depth=3"
      ],
      "execution_count": 2,
      "outputs": [
        {
          "output_type": "stream",
          "name": "stdout",
          "text": [
            "Looking in indexes: https://pypi.org/simple, https://us-python.pkg.dev/colab-wheels/public/simple/\n",
            "Collecting pyunpack\n",
            "  Downloading pyunpack-0.3-py2.py3-none-any.whl (4.1 kB)\n",
            "Collecting entrypoint2\n",
            "  Downloading entrypoint2-1.1-py2.py3-none-any.whl (9.9 kB)\n",
            "Collecting easyprocess\n",
            "  Downloading EasyProcess-1.1-py3-none-any.whl (8.7 kB)\n",
            "Installing collected packages: entrypoint2, easyprocess, pyunpack\n",
            "Successfully installed easyprocess-1.1 entrypoint2-1.1 pyunpack-0.3\n",
            "Looking in indexes: https://pypi.org/simple, https://us-python.pkg.dev/colab-wheels/public/simple/\n",
            "Collecting patool\n",
            "  Downloading patool-1.12-py2.py3-none-any.whl (77 kB)\n",
            "\u001b[K     |████████████████████████████████| 77 kB 7.0 MB/s \n",
            "\u001b[?25hInstalling collected packages: patool\n",
            "Successfully installed patool-1.12\n"
          ]
        }
      ]
    },
    {
      "cell_type": "code",
      "metadata": {
        "id": "KbAwJJTpzmge"
      },
      "source": [
        "def convert_image_to_array(image_dir):\n",
        "    try:\n",
        "        image = cv2.imread(image_dir)\n",
        "        if image is not None :\n",
        "            image = cv2.resize(image, default_image_size)   \n",
        "            return keras.preprocessing.image.img_to_array(image)\n",
        "        else :\n",
        "            return np.array([])\n",
        "    except Exception as e:\n",
        "        print(f\"Error : {e}\")\n",
        "        return None"
      ],
      "execution_count": 3,
      "outputs": []
    },
    {
      "cell_type": "markdown",
      "source": [
        "Converting **Training** Data to Array"
      ],
      "metadata": {
        "id": "bgXxUMO2cI_D"
      }
    },
    {
      "cell_type": "code",
      "metadata": {
        "id": "Erz6IjKXzmgg",
        "colab": {
          "base_uri": "https://localhost:8080/"
        },
        "outputId": "d58bf5e2-3f0b-4854-874c-3ab5d2396f33"
      },
      "source": [
        "image_list_train, label_list_train = [], []\n",
        "try:\n",
        "    print(\"[INFO] Loading images ...\")\n",
        "    root_dir = listdir(directory_root_train)\n",
        "\n",
        "    for plant_disease_folder in root_dir:\n",
        "        print(f\"[INFO] Processing {plant_disease_folder} ...\")\n",
        "        plant_disease_image_list = listdir(f\"{directory_root_train}/{plant_disease_folder}/\")\n",
        "      \n",
        "        for image in plant_disease_image_list:\n",
        "            image_directory = f\"{directory_root_train}/{plant_disease_folder}/{image}\"\n",
        "\n",
        "            if image_directory.endswith(\".jpg\") == True or image_directory.endswith(\".JPG\") == True:\n",
        "                image_list_train.append(convert_image_to_array(image_directory))\n",
        "                label_list_train.append(plant_disease_folder)\n",
        "    print(\"[INFO] Image loading completed\")\n",
        "\n",
        "except Exception as e:\n",
        "    print(f\"Error : {e}\")\n",
        "\n",
        "#image labeling\n",
        "image_size = len(image_list_train)\n",
        "label_binarizer = LabelBinarizer()\n",
        "image_labels_train = label_binarizer.fit_transform(label_list_train)\n",
        "pickle.dump(label_binarizer,open('label_transform_train.pkl', 'wb'))\n",
        "n_classes = len(label_binarizer.classes_)\n",
        "np_image_list_train = np.array(image_list_train, dtype=np.float16) / 255.0"
      ],
      "execution_count": 4,
      "outputs": [
        {
          "output_type": "stream",
          "name": "stdout",
          "text": [
            "[INFO] Loading images ...\n",
            "[INFO] Processing apel_sehat ...\n",
            "[INFO] Processing apel_bercak_daun ...\n",
            "[INFO] Processing apel_cacar_daun ...\n",
            "[INFO] Processing apel_busuk_buah ...\n",
            "[INFO] Image loading completed\n"
          ]
        }
      ]
    },
    {
      "cell_type": "markdown",
      "source": [
        "Converting **Validation** Data to Array"
      ],
      "metadata": {
        "id": "7eEMGiqRd_E4"
      }
    },
    {
      "cell_type": "code",
      "source": [
        "image_list_validation, label_list_validation = [], []\n",
        "try:\n",
        "    print(\"[INFO] Loading images ...\")\n",
        "    root_dir = listdir(directory_root_validation)\n",
        "\n",
        "    for plant_disease_folder in root_dir:\n",
        "        print(f\"[INFO] Processing {plant_disease_folder} ...\")\n",
        "        plant_disease_image_list = listdir(f\"{directory_root_validation}/{plant_disease_folder}/\")\n",
        "      \n",
        "        for image in plant_disease_image_list:\n",
        "            image_directory = f\"{directory_root_validation}/{plant_disease_folder}/{image}\"\n",
        "\n",
        "            if image_directory.endswith(\".jpg\") == True or image_directory.endswith(\".JPG\") == True:\n",
        "                image_list_validation.append(convert_image_to_array(image_directory))\n",
        "                label_list_validation.append(plant_disease_folder)\n",
        "    print(\"[INFO] Image loading completed\")\n",
        "\n",
        "except Exception as e:\n",
        "    print(f\"Error : {e}\")\n",
        "\n",
        "#image labeling\n",
        "image_size = len(image_list_validation)\n",
        "label_binarizer = LabelBinarizer()\n",
        "image_labels_validation = label_binarizer.fit_transform(label_list_validation)\n",
        "pickle.dump(label_binarizer,open('label_transform_validation.pkl', 'wb'))\n",
        "n_classes = len(label_binarizer.classes_)\n",
        "np_image_list_validation = np.array(image_list_validation, dtype=np.float16) / 255.0"
      ],
      "metadata": {
        "id": "wfHDdR0ZeEuU",
        "colab": {
          "base_uri": "https://localhost:8080/"
        },
        "outputId": "0a922548-315b-4d43-dd65-4066af64e305"
      },
      "execution_count": 5,
      "outputs": [
        {
          "output_type": "stream",
          "name": "stdout",
          "text": [
            "[INFO] Loading images ...\n",
            "[INFO] Processing apel_sehat ...\n",
            "[INFO] Processing apel_bercak_daun ...\n",
            "[INFO] Processing apel_cacar_daun ...\n",
            "[INFO] Processing apel_busuk_buah ...\n",
            "[INFO] Image loading completed\n"
          ]
        }
      ]
    },
    {
      "cell_type": "markdown",
      "source": [
        "Converting **Testing** Data to Array"
      ],
      "metadata": {
        "id": "brwWyZVncTdg"
      }
    },
    {
      "cell_type": "code",
      "metadata": {
        "id": "uNPby5UMcaWY",
        "colab": {
          "base_uri": "https://localhost:8080/"
        },
        "outputId": "b24df1a9-e4db-418a-9d84-ba56be8c0296"
      },
      "source": [
        "image_list_test, label_list_test = [], []\n",
        "try:\n",
        "    print(\"[INFO] Loading images ...\")\n",
        "    root_dir = listdir(directory_root_test)\n",
        "\n",
        "    for plant_disease_folder in root_dir:\n",
        "        print(f\"[INFO] Processing {plant_disease_folder} ...\")\n",
        "        plant_disease_image_list = listdir(f\"{directory_root_test}/{plant_disease_folder}/\")\n",
        "      \n",
        "        for image in plant_disease_image_list:\n",
        "            image_directory = f\"{directory_root_test}/{plant_disease_folder}/{image}\"\n",
        "\n",
        "            if image_directory.endswith(\".jpg\") == True or image_directory.endswith(\".JPG\") == True:\n",
        "                image_list_test.append(convert_image_to_array(image_directory))\n",
        "                label_list_test.append(plant_disease_folder)\n",
        "    print(\"[INFO] Image loading completed\")\n",
        "\n",
        "except Exception as e:\n",
        "    print(f\"Error : {e}\")\n",
        "\n",
        "#image labeling\n",
        "image_size = len(image_list_test)\n",
        "label_binarizer = LabelBinarizer()\n",
        "image_labels_test = label_binarizer.fit_transform(label_list_test)\n",
        "pickle.dump(label_binarizer,open('label_transform_test.pkl', 'wb'))\n",
        "n_classes = len(label_binarizer.classes_)\n",
        "np_image_list_test = np.array(image_list_test, dtype=np.float16) / 255.0"
      ],
      "execution_count": 6,
      "outputs": [
        {
          "output_type": "stream",
          "name": "stdout",
          "text": [
            "[INFO] Loading images ...\n",
            "[INFO] Processing apel_sehat ...\n",
            "[INFO] Processing apel_bercak_daun ...\n",
            "[INFO] Processing apel_cacar_daun ...\n",
            "[INFO] Processing apel_busuk_buah ...\n",
            "[INFO] Image loading completed\n"
          ]
        }
      ]
    },
    {
      "cell_type": "markdown",
      "metadata": {
        "id": "jYBTFN0CnAi7"
      },
      "source": [
        "Data Augmenting Initialization"
      ]
    },
    {
      "cell_type": "code",
      "metadata": {
        "id": "TLMxMK2Tzmgr"
      },
      "source": [
        "aug = keras.preprocessing.image.ImageDataGenerator(\n",
        "    rotation_range=25, \n",
        "    width_shift_range=0.1,\n",
        "    height_shift_range=0.1, \n",
        "    shear_range=0.2, \n",
        "    zoom_range=0.2,\n",
        "    horizontal_flip=True, \n",
        "    fill_mode=\"nearest\")"
      ],
      "execution_count": 7,
      "outputs": []
    },
    {
      "cell_type": "markdown",
      "metadata": {
        "id": "H1BfRyYNnGv_"
      },
      "source": [
        "Creating CNN Model"
      ]
    },
    {
      "cell_type": "code",
      "metadata": {
        "id": "WmLX4wm8zmgs"
      },
      "source": [
        "model = keras.models.Sequential()\n",
        "inputShape = (height, width, depth)\n",
        "\n",
        "model.add(Conv2D(20, (5, 5), padding=\"same\",input_shape=inputShape))\n",
        "model.add(Activation(\"relu\"))\n",
        "\n",
        "model.add(MaxPooling2D(pool_size=(2, 2), strides=2))\n",
        "\n",
        "model.add(Conv2D(50, (5, 5), padding=\"same\"))\n",
        "model.add(Activation(\"relu\"))\n",
        "\n",
        "model.add(MaxPooling2D(pool_size=(2, 2),strides=2))\n",
        "\n",
        "model.add(Flatten())\n",
        "\n",
        "model.add(Dense(500))\n",
        "model.add(Activation(\"relu\"))\n",
        "\n",
        "model.add(Dense(4))\n",
        "model.add(Activation(\"softmax\"))"
      ],
      "execution_count": 8,
      "outputs": []
    },
    {
      "cell_type": "code",
      "source": [
        "#model.summary()"
      ],
      "metadata": {
        "id": "RQIgaph8hW06"
      },
      "execution_count": 9,
      "outputs": []
    },
    {
      "cell_type": "code",
      "source": [
        "#from PIL import Image\n",
        "#from keras.utils.vis_utils import plot_model\n",
        "#plot_model(model, to_file='cnn_model.png', show_shapes=True, show_layer_names=True)\n",
        "#display(Image.open('cnn_model.png'))"
      ],
      "metadata": {
        "id": "T05gPuu1GudW"
      },
      "execution_count": 10,
      "outputs": []
    },
    {
      "cell_type": "markdown",
      "metadata": {
        "id": "Zfsu3lVfnXFG"
      },
      "source": [
        "**Training** Network"
      ]
    },
    {
      "cell_type": "code",
      "metadata": {
        "id": "rvwKwe3Lzmgv",
        "colab": {
          "base_uri": "https://localhost:8080/"
        },
        "outputId": "be2a1512-6279-4d85-fd8b-c1c2fe743aac"
      },
      "source": [
        "EPOCHS = 200\n",
        "INIT_LR = 1e-3\n",
        "BS = 8\n",
        "\n",
        "with tf.device('/GPU:0'):\n",
        "  opt = Adam(learning_rate=INIT_LR, decay=INIT_LR / EPOCHS)\n",
        "  model.compile(loss=\"categorical_crossentropy\", optimizer=opt,metrics=[\"Accuracy\", \"FalseNegatives\", \"FalsePositives\", \"TrueNegatives\", \"TruePositives\"])\n",
        "  \n",
        "  history = model.fit(\n",
        "      aug.flow(np_image_list_train, image_labels_train, batch_size=BS),\n",
        "      validation_data=(np_image_list_validation, image_labels_validation),\n",
        "      steps_per_epoch=len(np_image_list_train) // BS,\n",
        "      epochs=EPOCHS, \n",
        "      verbose=1,\n",
        "      )\n"
      ],
      "execution_count": 11,
      "outputs": [
        {
          "output_type": "stream",
          "name": "stdout",
          "text": [
            "Epoch 1/200\n",
            "44/44 [==============================] - 17s 50ms/step - loss: 1.4630 - Accuracy: 0.3822 - false_negatives: 324.0000 - false_positives: 44.0000 - true_negatives: 1000.0000 - true_positives: 24.0000 - val_loss: 1.2521 - val_Accuracy: 0.4545 - val_false_negatives: 88.0000 - val_false_positives: 0.0000e+00 - val_true_negatives: 264.0000 - val_true_positives: 0.0000e+00\n",
            "Epoch 2/200\n",
            "44/44 [==============================] - 1s 13ms/step - loss: 1.1916 - Accuracy: 0.4770 - false_negatives: 283.0000 - false_positives: 43.0000 - true_negatives: 1001.0000 - true_positives: 65.0000 - val_loss: 1.0993 - val_Accuracy: 0.5568 - val_false_negatives: 50.0000 - val_false_positives: 18.0000 - val_true_negatives: 246.0000 - val_true_positives: 38.0000\n",
            "Epoch 3/200\n",
            "44/44 [==============================] - 1s 14ms/step - loss: 0.9987 - Accuracy: 0.5948 - false_negatives: 203.0000 - false_positives: 60.0000 - true_negatives: 984.0000 - true_positives: 145.0000 - val_loss: 0.9747 - val_Accuracy: 0.6023 - val_false_negatives: 51.0000 - val_false_positives: 11.0000 - val_true_negatives: 253.0000 - val_true_positives: 37.0000\n",
            "Epoch 4/200\n",
            "44/44 [==============================] - 1s 14ms/step - loss: 1.0006 - Accuracy: 0.6034 - false_negatives: 192.0000 - false_positives: 59.0000 - true_negatives: 985.0000 - true_positives: 156.0000 - val_loss: 1.0275 - val_Accuracy: 0.5795 - val_false_negatives: 39.0000 - val_false_positives: 34.0000 - val_true_negatives: 230.0000 - val_true_positives: 49.0000\n",
            "Epoch 5/200\n",
            "44/44 [==============================] - 1s 14ms/step - loss: 0.9506 - Accuracy: 0.6408 - false_negatives: 192.0000 - false_positives: 53.0000 - true_negatives: 991.0000 - true_positives: 156.0000 - val_loss: 0.9289 - val_Accuracy: 0.6591 - val_false_negatives: 45.0000 - val_false_positives: 12.0000 - val_true_negatives: 252.0000 - val_true_positives: 43.0000\n",
            "Epoch 6/200\n",
            "44/44 [==============================] - 1s 14ms/step - loss: 0.9547 - Accuracy: 0.6437 - false_negatives: 190.0000 - false_positives: 49.0000 - true_negatives: 995.0000 - true_positives: 158.0000 - val_loss: 1.0407 - val_Accuracy: 0.6364 - val_false_negatives: 39.0000 - val_false_positives: 21.0000 - val_true_negatives: 243.0000 - val_true_positives: 49.0000\n",
            "Epoch 7/200\n",
            "44/44 [==============================] - 1s 14ms/step - loss: 0.9176 - Accuracy: 0.6466 - false_negatives: 175.0000 - false_positives: 71.0000 - true_negatives: 973.0000 - true_positives: 173.0000 - val_loss: 0.9130 - val_Accuracy: 0.6932 - val_false_negatives: 49.0000 - val_false_positives: 10.0000 - val_true_negatives: 254.0000 - val_true_positives: 39.0000\n",
            "Epoch 8/200\n",
            "44/44 [==============================] - 1s 14ms/step - loss: 0.8723 - Accuracy: 0.6638 - false_negatives: 166.0000 - false_positives: 63.0000 - true_negatives: 981.0000 - true_positives: 182.0000 - val_loss: 0.9546 - val_Accuracy: 0.6818 - val_false_negatives: 48.0000 - val_false_positives: 8.0000 - val_true_negatives: 256.0000 - val_true_positives: 40.0000\n",
            "Epoch 9/200\n",
            "44/44 [==============================] - 1s 14ms/step - loss: 0.8730 - Accuracy: 0.6466 - false_negatives: 167.0000 - false_positives: 62.0000 - true_negatives: 982.0000 - true_positives: 181.0000 - val_loss: 0.9697 - val_Accuracy: 0.6477 - val_false_negatives: 36.0000 - val_false_positives: 21.0000 - val_true_negatives: 243.0000 - val_true_positives: 52.0000\n",
            "Epoch 10/200\n",
            "44/44 [==============================] - 1s 14ms/step - loss: 0.8448 - Accuracy: 0.6897 - false_negatives: 160.0000 - false_positives: 58.0000 - true_negatives: 986.0000 - true_positives: 188.0000 - val_loss: 1.0965 - val_Accuracy: 0.6364 - val_false_negatives: 36.0000 - val_false_positives: 26.0000 - val_true_negatives: 238.0000 - val_true_positives: 52.0000\n",
            "Epoch 11/200\n",
            "44/44 [==============================] - 1s 14ms/step - loss: 0.8327 - Accuracy: 0.6782 - false_negatives: 142.0000 - false_positives: 81.0000 - true_negatives: 963.0000 - true_positives: 206.0000 - val_loss: 0.9430 - val_Accuracy: 0.6932 - val_false_negatives: 33.0000 - val_false_positives: 21.0000 - val_true_negatives: 243.0000 - val_true_positives: 55.0000\n",
            "Epoch 12/200\n",
            "44/44 [==============================] - 1s 14ms/step - loss: 0.8740 - Accuracy: 0.6724 - false_negatives: 162.0000 - false_positives: 68.0000 - true_negatives: 976.0000 - true_positives: 186.0000 - val_loss: 0.9711 - val_Accuracy: 0.6250 - val_false_negatives: 41.0000 - val_false_positives: 18.0000 - val_true_negatives: 246.0000 - val_true_positives: 47.0000\n",
            "Epoch 13/200\n",
            "44/44 [==============================] - 1s 14ms/step - loss: 0.8183 - Accuracy: 0.6868 - false_negatives: 142.0000 - false_positives: 66.0000 - true_negatives: 978.0000 - true_positives: 206.0000 - val_loss: 0.8770 - val_Accuracy: 0.7159 - val_false_negatives: 34.0000 - val_false_positives: 18.0000 - val_true_negatives: 246.0000 - val_true_positives: 54.0000\n",
            "Epoch 14/200\n",
            "44/44 [==============================] - 1s 14ms/step - loss: 0.8275 - Accuracy: 0.6868 - false_negatives: 134.0000 - false_positives: 76.0000 - true_negatives: 968.0000 - true_positives: 214.0000 - val_loss: 0.9711 - val_Accuracy: 0.6364 - val_false_negatives: 37.0000 - val_false_positives: 21.0000 - val_true_negatives: 243.0000 - val_true_positives: 51.0000\n",
            "Epoch 15/200\n",
            "44/44 [==============================] - 1s 14ms/step - loss: 0.8234 - Accuracy: 0.6810 - false_negatives: 143.0000 - false_positives: 75.0000 - true_negatives: 969.0000 - true_positives: 205.0000 - val_loss: 0.8646 - val_Accuracy: 0.7045 - val_false_negatives: 38.0000 - val_false_positives: 15.0000 - val_true_negatives: 249.0000 - val_true_positives: 50.0000\n",
            "Epoch 16/200\n",
            "44/44 [==============================] - 1s 14ms/step - loss: 0.8188 - Accuracy: 0.6839 - false_negatives: 147.0000 - false_positives: 59.0000 - true_negatives: 985.0000 - true_positives: 201.0000 - val_loss: 1.2285 - val_Accuracy: 0.5909 - val_false_negatives: 41.0000 - val_false_positives: 27.0000 - val_true_negatives: 237.0000 - val_true_positives: 47.0000\n",
            "Epoch 17/200\n",
            "44/44 [==============================] - 1s 14ms/step - loss: 0.7880 - Accuracy: 0.6753 - false_negatives: 138.0000 - false_positives: 56.0000 - true_negatives: 988.0000 - true_positives: 210.0000 - val_loss: 0.8775 - val_Accuracy: 0.7159 - val_false_negatives: 33.0000 - val_false_positives: 20.0000 - val_true_negatives: 244.0000 - val_true_positives: 55.0000\n",
            "Epoch 18/200\n",
            "44/44 [==============================] - 1s 14ms/step - loss: 0.7500 - Accuracy: 0.7069 - false_negatives: 127.0000 - false_positives: 55.0000 - true_negatives: 989.0000 - true_positives: 221.0000 - val_loss: 0.8696 - val_Accuracy: 0.7159 - val_false_negatives: 26.0000 - val_false_positives: 21.0000 - val_true_negatives: 243.0000 - val_true_positives: 62.0000\n",
            "Epoch 19/200\n",
            "44/44 [==============================] - 1s 14ms/step - loss: 0.7314 - Accuracy: 0.7385 - false_negatives: 121.0000 - false_positives: 61.0000 - true_negatives: 983.0000 - true_positives: 227.0000 - val_loss: 0.8695 - val_Accuracy: 0.6818 - val_false_negatives: 37.0000 - val_false_positives: 18.0000 - val_true_negatives: 246.0000 - val_true_positives: 51.0000\n",
            "Epoch 20/200\n",
            "44/44 [==============================] - 1s 14ms/step - loss: 0.6695 - Accuracy: 0.7443 - false_negatives: 112.0000 - false_positives: 61.0000 - true_negatives: 983.0000 - true_positives: 236.0000 - val_loss: 0.8172 - val_Accuracy: 0.7045 - val_false_negatives: 33.0000 - val_false_positives: 18.0000 - val_true_negatives: 246.0000 - val_true_positives: 55.0000\n",
            "Epoch 21/200\n",
            "44/44 [==============================] - 1s 14ms/step - loss: 0.7408 - Accuracy: 0.7155 - false_negatives: 121.0000 - false_positives: 71.0000 - true_negatives: 973.0000 - true_positives: 227.0000 - val_loss: 0.8232 - val_Accuracy: 0.7273 - val_false_negatives: 33.0000 - val_false_positives: 15.0000 - val_true_negatives: 249.0000 - val_true_positives: 55.0000\n",
            "Epoch 22/200\n",
            "44/44 [==============================] - 1s 14ms/step - loss: 0.7500 - Accuracy: 0.7069 - false_negatives: 135.0000 - false_positives: 63.0000 - true_negatives: 981.0000 - true_positives: 213.0000 - val_loss: 1.1198 - val_Accuracy: 0.6364 - val_false_negatives: 37.0000 - val_false_positives: 26.0000 - val_true_negatives: 238.0000 - val_true_positives: 51.0000\n",
            "Epoch 23/200\n",
            "44/44 [==============================] - 1s 14ms/step - loss: 0.6949 - Accuracy: 0.7385 - false_negatives: 116.0000 - false_positives: 60.0000 - true_negatives: 984.0000 - true_positives: 232.0000 - val_loss: 0.8837 - val_Accuracy: 0.7159 - val_false_negatives: 27.0000 - val_false_positives: 22.0000 - val_true_negatives: 242.0000 - val_true_positives: 61.0000\n",
            "Epoch 24/200\n",
            "44/44 [==============================] - 1s 14ms/step - loss: 0.6666 - Accuracy: 0.7213 - false_negatives: 123.0000 - false_positives: 57.0000 - true_negatives: 987.0000 - true_positives: 225.0000 - val_loss: 1.1116 - val_Accuracy: 0.7273 - val_false_negatives: 26.0000 - val_false_positives: 23.0000 - val_true_negatives: 241.0000 - val_true_positives: 62.0000\n",
            "Epoch 25/200\n",
            "44/44 [==============================] - 1s 14ms/step - loss: 0.6898 - Accuracy: 0.7557 - false_negatives: 109.0000 - false_positives: 66.0000 - true_negatives: 978.0000 - true_positives: 239.0000 - val_loss: 0.7835 - val_Accuracy: 0.7159 - val_false_negatives: 32.0000 - val_false_positives: 14.0000 - val_true_negatives: 250.0000 - val_true_positives: 56.0000\n",
            "Epoch 26/200\n",
            "44/44 [==============================] - 1s 14ms/step - loss: 0.6328 - Accuracy: 0.7471 - false_negatives: 106.0000 - false_positives: 61.0000 - true_negatives: 983.0000 - true_positives: 242.0000 - val_loss: 0.8290 - val_Accuracy: 0.7500 - val_false_negatives: 26.0000 - val_false_positives: 19.0000 - val_true_negatives: 245.0000 - val_true_positives: 62.0000\n",
            "Epoch 27/200\n",
            "44/44 [==============================] - 1s 14ms/step - loss: 0.7312 - Accuracy: 0.7213 - false_negatives: 130.0000 - false_positives: 62.0000 - true_negatives: 982.0000 - true_positives: 218.0000 - val_loss: 0.8357 - val_Accuracy: 0.7045 - val_false_negatives: 30.0000 - val_false_positives: 16.0000 - val_true_negatives: 248.0000 - val_true_positives: 58.0000\n",
            "Epoch 28/200\n",
            "44/44 [==============================] - 1s 14ms/step - loss: 0.6652 - Accuracy: 0.7443 - false_negatives: 109.0000 - false_positives: 66.0000 - true_negatives: 978.0000 - true_positives: 239.0000 - val_loss: 0.8442 - val_Accuracy: 0.7386 - val_false_negatives: 27.0000 - val_false_positives: 17.0000 - val_true_negatives: 247.0000 - val_true_positives: 61.0000\n",
            "Epoch 29/200\n",
            "44/44 [==============================] - 1s 14ms/step - loss: 0.6926 - Accuracy: 0.7299 - false_negatives: 118.0000 - false_positives: 59.0000 - true_negatives: 985.0000 - true_positives: 230.0000 - val_loss: 0.9620 - val_Accuracy: 0.6591 - val_false_negatives: 37.0000 - val_false_positives: 25.0000 - val_true_negatives: 239.0000 - val_true_positives: 51.0000\n",
            "Epoch 30/200\n",
            "44/44 [==============================] - 1s 15ms/step - loss: 0.6666 - Accuracy: 0.7615 - false_negatives: 106.0000 - false_positives: 63.0000 - true_negatives: 981.0000 - true_positives: 242.0000 - val_loss: 0.8414 - val_Accuracy: 0.6932 - val_false_negatives: 36.0000 - val_false_positives: 15.0000 - val_true_negatives: 249.0000 - val_true_positives: 52.0000\n",
            "Epoch 31/200\n",
            "44/44 [==============================] - 1s 14ms/step - loss: 0.6073 - Accuracy: 0.7816 - false_negatives: 90.0000 - false_positives: 60.0000 - true_negatives: 984.0000 - true_positives: 258.0000 - val_loss: 1.0546 - val_Accuracy: 0.6818 - val_false_negatives: 33.0000 - val_false_positives: 22.0000 - val_true_negatives: 242.0000 - val_true_positives: 55.0000\n",
            "Epoch 32/200\n",
            "44/44 [==============================] - 1s 14ms/step - loss: 0.6204 - Accuracy: 0.7557 - false_negatives: 96.0000 - false_positives: 54.0000 - true_negatives: 990.0000 - true_positives: 252.0000 - val_loss: 0.7947 - val_Accuracy: 0.7386 - val_false_negatives: 29.0000 - val_false_positives: 14.0000 - val_true_negatives: 250.0000 - val_true_positives: 59.0000\n",
            "Epoch 33/200\n",
            "44/44 [==============================] - 1s 14ms/step - loss: 0.6351 - Accuracy: 0.7787 - false_negatives: 102.0000 - false_positives: 51.0000 - true_negatives: 993.0000 - true_positives: 246.0000 - val_loss: 0.8447 - val_Accuracy: 0.7500 - val_false_negatives: 46.0000 - val_false_positives: 5.0000 - val_true_negatives: 259.0000 - val_true_positives: 42.0000\n",
            "Epoch 34/200\n",
            "44/44 [==============================] - 1s 14ms/step - loss: 0.6710 - Accuracy: 0.7471 - false_negatives: 112.0000 - false_positives: 62.0000 - true_negatives: 982.0000 - true_positives: 236.0000 - val_loss: 0.9312 - val_Accuracy: 0.6591 - val_false_negatives: 34.0000 - val_false_positives: 19.0000 - val_true_negatives: 245.0000 - val_true_positives: 54.0000\n",
            "Epoch 35/200\n",
            "44/44 [==============================] - 1s 14ms/step - loss: 0.5898 - Accuracy: 0.7759 - false_negatives: 95.0000 - false_positives: 61.0000 - true_negatives: 983.0000 - true_positives: 253.0000 - val_loss: 0.9629 - val_Accuracy: 0.6591 - val_false_negatives: 36.0000 - val_false_positives: 18.0000 - val_true_negatives: 246.0000 - val_true_positives: 52.0000\n",
            "Epoch 36/200\n",
            "44/44 [==============================] - 1s 14ms/step - loss: 0.6283 - Accuracy: 0.7787 - false_negatives: 93.0000 - false_positives: 63.0000 - true_negatives: 981.0000 - true_positives: 255.0000 - val_loss: 0.8865 - val_Accuracy: 0.6932 - val_false_negatives: 34.0000 - val_false_positives: 18.0000 - val_true_negatives: 246.0000 - val_true_positives: 54.0000\n",
            "Epoch 37/200\n",
            "44/44 [==============================] - 1s 14ms/step - loss: 0.6163 - Accuracy: 0.7759 - false_negatives: 94.0000 - false_positives: 53.0000 - true_negatives: 991.0000 - true_positives: 254.0000 - val_loss: 0.8880 - val_Accuracy: 0.6932 - val_false_negatives: 31.0000 - val_false_positives: 19.0000 - val_true_negatives: 245.0000 - val_true_positives: 57.0000\n",
            "Epoch 38/200\n",
            "44/44 [==============================] - 1s 14ms/step - loss: 0.6199 - Accuracy: 0.7845 - false_negatives: 94.0000 - false_positives: 53.0000 - true_negatives: 991.0000 - true_positives: 254.0000 - val_loss: 0.7948 - val_Accuracy: 0.7159 - val_false_negatives: 26.0000 - val_false_positives: 17.0000 - val_true_negatives: 247.0000 - val_true_positives: 62.0000\n",
            "Epoch 39/200\n",
            "44/44 [==============================] - 1s 14ms/step - loss: 0.5612 - Accuracy: 0.7730 - false_negatives: 96.0000 - false_positives: 61.0000 - true_negatives: 983.0000 - true_positives: 252.0000 - val_loss: 0.8407 - val_Accuracy: 0.7841 - val_false_negatives: 23.0000 - val_false_positives: 13.0000 - val_true_negatives: 251.0000 - val_true_positives: 65.0000\n",
            "Epoch 40/200\n",
            "44/44 [==============================] - 1s 14ms/step - loss: 0.5551 - Accuracy: 0.7845 - false_negatives: 87.0000 - false_positives: 63.0000 - true_negatives: 981.0000 - true_positives: 261.0000 - val_loss: 0.9573 - val_Accuracy: 0.6932 - val_false_negatives: 28.0000 - val_false_positives: 20.0000 - val_true_negatives: 244.0000 - val_true_positives: 60.0000\n",
            "Epoch 41/200\n",
            "44/44 [==============================] - 1s 14ms/step - loss: 0.5577 - Accuracy: 0.7931 - false_negatives: 87.0000 - false_positives: 55.0000 - true_negatives: 989.0000 - true_positives: 261.0000 - val_loss: 0.9680 - val_Accuracy: 0.7273 - val_false_negatives: 25.0000 - val_false_positives: 23.0000 - val_true_negatives: 241.0000 - val_true_positives: 63.0000\n",
            "Epoch 42/200\n",
            "44/44 [==============================] - 1s 14ms/step - loss: 0.5562 - Accuracy: 0.7845 - false_negatives: 87.0000 - false_positives: 53.0000 - true_negatives: 991.0000 - true_positives: 261.0000 - val_loss: 1.0268 - val_Accuracy: 0.7273 - val_false_negatives: 26.0000 - val_false_positives: 20.0000 - val_true_negatives: 244.0000 - val_true_positives: 62.0000\n",
            "Epoch 43/200\n",
            "44/44 [==============================] - 1s 14ms/step - loss: 0.5615 - Accuracy: 0.7845 - false_negatives: 91.0000 - false_positives: 57.0000 - true_negatives: 987.0000 - true_positives: 257.0000 - val_loss: 0.8568 - val_Accuracy: 0.7159 - val_false_negatives: 29.0000 - val_false_positives: 18.0000 - val_true_negatives: 246.0000 - val_true_positives: 59.0000\n",
            "Epoch 44/200\n",
            "44/44 [==============================] - 1s 14ms/step - loss: 0.4886 - Accuracy: 0.8305 - false_negatives: 75.0000 - false_positives: 46.0000 - true_negatives: 998.0000 - true_positives: 273.0000 - val_loss: 0.8500 - val_Accuracy: 0.7273 - val_false_negatives: 27.0000 - val_false_positives: 18.0000 - val_true_negatives: 246.0000 - val_true_positives: 61.0000\n",
            "Epoch 45/200\n",
            "44/44 [==============================] - 1s 14ms/step - loss: 0.5303 - Accuracy: 0.8046 - false_negatives: 79.0000 - false_positives: 47.0000 - true_negatives: 997.0000 - true_positives: 269.0000 - val_loss: 0.8858 - val_Accuracy: 0.7500 - val_false_negatives: 27.0000 - val_false_positives: 16.0000 - val_true_negatives: 248.0000 - val_true_positives: 61.0000\n",
            "Epoch 46/200\n",
            "44/44 [==============================] - 1s 14ms/step - loss: 0.5385 - Accuracy: 0.8017 - false_negatives: 78.0000 - false_positives: 58.0000 - true_negatives: 986.0000 - true_positives: 270.0000 - val_loss: 0.9003 - val_Accuracy: 0.7045 - val_false_negatives: 30.0000 - val_false_positives: 19.0000 - val_true_negatives: 245.0000 - val_true_positives: 58.0000\n",
            "Epoch 47/200\n",
            "44/44 [==============================] - 1s 14ms/step - loss: 0.5272 - Accuracy: 0.7989 - false_negatives: 81.0000 - false_positives: 50.0000 - true_negatives: 994.0000 - true_positives: 267.0000 - val_loss: 0.8207 - val_Accuracy: 0.7159 - val_false_negatives: 28.0000 - val_false_positives: 16.0000 - val_true_negatives: 248.0000 - val_true_positives: 60.0000\n",
            "Epoch 48/200\n",
            "44/44 [==============================] - 1s 14ms/step - loss: 0.5724 - Accuracy: 0.7902 - false_negatives: 100.0000 - false_positives: 49.0000 - true_negatives: 995.0000 - true_positives: 248.0000 - val_loss: 0.8385 - val_Accuracy: 0.7273 - val_false_negatives: 28.0000 - val_false_positives: 15.0000 - val_true_negatives: 249.0000 - val_true_positives: 60.0000\n",
            "Epoch 49/200\n",
            "44/44 [==============================] - 1s 14ms/step - loss: 0.5518 - Accuracy: 0.8017 - false_negatives: 88.0000 - false_positives: 47.0000 - true_negatives: 997.0000 - true_positives: 260.0000 - val_loss: 1.0562 - val_Accuracy: 0.5909 - val_false_negatives: 40.0000 - val_false_positives: 21.0000 - val_true_negatives: 243.0000 - val_true_positives: 48.0000\n",
            "Epoch 50/200\n",
            "44/44 [==============================] - 1s 14ms/step - loss: 0.5718 - Accuracy: 0.7730 - false_negatives: 94.0000 - false_positives: 64.0000 - true_negatives: 980.0000 - true_positives: 254.0000 - val_loss: 0.9448 - val_Accuracy: 0.7273 - val_false_negatives: 29.0000 - val_false_positives: 17.0000 - val_true_negatives: 247.0000 - val_true_positives: 59.0000\n",
            "Epoch 51/200\n",
            "44/44 [==============================] - 1s 14ms/step - loss: 0.5395 - Accuracy: 0.7845 - false_negatives: 92.0000 - false_positives: 56.0000 - true_negatives: 988.0000 - true_positives: 256.0000 - val_loss: 1.0499 - val_Accuracy: 0.5909 - val_false_negatives: 42.0000 - val_false_positives: 18.0000 - val_true_negatives: 246.0000 - val_true_positives: 46.0000\n",
            "Epoch 52/200\n",
            "44/44 [==============================] - 1s 14ms/step - loss: 0.6471 - Accuracy: 0.7385 - false_negatives: 116.0000 - false_positives: 59.0000 - true_negatives: 985.0000 - true_positives: 232.0000 - val_loss: 0.9249 - val_Accuracy: 0.6705 - val_false_negatives: 30.0000 - val_false_positives: 23.0000 - val_true_negatives: 241.0000 - val_true_positives: 58.0000\n",
            "Epoch 53/200\n",
            "44/44 [==============================] - 1s 14ms/step - loss: 0.4835 - Accuracy: 0.8075 - false_negatives: 81.0000 - false_positives: 48.0000 - true_negatives: 996.0000 - true_positives: 267.0000 - val_loss: 1.0287 - val_Accuracy: 0.7045 - val_false_negatives: 31.0000 - val_false_positives: 18.0000 - val_true_negatives: 246.0000 - val_true_positives: 57.0000\n",
            "Epoch 54/200\n",
            "44/44 [==============================] - 1s 14ms/step - loss: 0.5367 - Accuracy: 0.8017 - false_negatives: 84.0000 - false_positives: 54.0000 - true_negatives: 990.0000 - true_positives: 264.0000 - val_loss: 0.9032 - val_Accuracy: 0.6932 - val_false_negatives: 30.0000 - val_false_positives: 20.0000 - val_true_negatives: 244.0000 - val_true_positives: 58.0000\n",
            "Epoch 55/200\n",
            "44/44 [==============================] - 1s 14ms/step - loss: 0.5452 - Accuracy: 0.7902 - false_negatives: 83.0000 - false_positives: 58.0000 - true_negatives: 986.0000 - true_positives: 265.0000 - val_loss: 0.9358 - val_Accuracy: 0.6705 - val_false_negatives: 33.0000 - val_false_positives: 22.0000 - val_true_negatives: 242.0000 - val_true_positives: 55.0000\n",
            "Epoch 56/200\n",
            "44/44 [==============================] - 1s 14ms/step - loss: 0.4857 - Accuracy: 0.7960 - false_negatives: 81.0000 - false_positives: 56.0000 - true_negatives: 988.0000 - true_positives: 267.0000 - val_loss: 0.9160 - val_Accuracy: 0.6932 - val_false_negatives: 34.0000 - val_false_positives: 17.0000 - val_true_negatives: 247.0000 - val_true_positives: 54.0000\n",
            "Epoch 57/200\n",
            "44/44 [==============================] - 1s 14ms/step - loss: 0.4763 - Accuracy: 0.8305 - false_negatives: 70.0000 - false_positives: 46.0000 - true_negatives: 998.0000 - true_positives: 278.0000 - val_loss: 0.9506 - val_Accuracy: 0.6705 - val_false_negatives: 33.0000 - val_false_positives: 19.0000 - val_true_negatives: 245.0000 - val_true_positives: 55.0000\n",
            "Epoch 58/200\n",
            "44/44 [==============================] - 1s 14ms/step - loss: 0.5017 - Accuracy: 0.8046 - false_negatives: 81.0000 - false_positives: 53.0000 - true_negatives: 991.0000 - true_positives: 267.0000 - val_loss: 0.9698 - val_Accuracy: 0.7045 - val_false_negatives: 31.0000 - val_false_positives: 21.0000 - val_true_negatives: 243.0000 - val_true_positives: 57.0000\n",
            "Epoch 59/200\n",
            "44/44 [==============================] - 1s 14ms/step - loss: 0.4853 - Accuracy: 0.8075 - false_negatives: 77.0000 - false_positives: 55.0000 - true_negatives: 989.0000 - true_positives: 271.0000 - val_loss: 1.0779 - val_Accuracy: 0.7159 - val_false_negatives: 27.0000 - val_false_positives: 18.0000 - val_true_negatives: 246.0000 - val_true_positives: 61.0000\n",
            "Epoch 60/200\n",
            "44/44 [==============================] - 1s 14ms/step - loss: 0.4791 - Accuracy: 0.8247 - false_negatives: 74.0000 - false_positives: 50.0000 - true_negatives: 994.0000 - true_positives: 274.0000 - val_loss: 1.0311 - val_Accuracy: 0.7273 - val_false_negatives: 25.0000 - val_false_positives: 20.0000 - val_true_negatives: 244.0000 - val_true_positives: 63.0000\n",
            "Epoch 61/200\n",
            "44/44 [==============================] - 1s 14ms/step - loss: 0.5448 - Accuracy: 0.7902 - false_negatives: 88.0000 - false_positives: 55.0000 - true_negatives: 989.0000 - true_positives: 260.0000 - val_loss: 0.9296 - val_Accuracy: 0.6591 - val_false_negatives: 30.0000 - val_false_positives: 19.0000 - val_true_negatives: 245.0000 - val_true_positives: 58.0000\n",
            "Epoch 62/200\n",
            "44/44 [==============================] - 1s 14ms/step - loss: 0.4979 - Accuracy: 0.8190 - false_negatives: 73.0000 - false_positives: 47.0000 - true_negatives: 997.0000 - true_positives: 275.0000 - val_loss: 0.9614 - val_Accuracy: 0.6932 - val_false_negatives: 29.0000 - val_false_positives: 17.0000 - val_true_negatives: 247.0000 - val_true_positives: 59.0000\n",
            "Epoch 63/200\n",
            "44/44 [==============================] - 1s 16ms/step - loss: 0.4371 - Accuracy: 0.8391 - false_negatives: 66.0000 - false_positives: 43.0000 - true_negatives: 1001.0000 - true_positives: 282.0000 - val_loss: 0.9226 - val_Accuracy: 0.7386 - val_false_negatives: 28.0000 - val_false_positives: 15.0000 - val_true_negatives: 249.0000 - val_true_positives: 60.0000\n",
            "Epoch 64/200\n",
            "44/44 [==============================] - 1s 14ms/step - loss: 0.4797 - Accuracy: 0.8161 - false_negatives: 75.0000 - false_positives: 44.0000 - true_negatives: 1000.0000 - true_positives: 273.0000 - val_loss: 0.9657 - val_Accuracy: 0.7159 - val_false_negatives: 29.0000 - val_false_positives: 16.0000 - val_true_negatives: 248.0000 - val_true_positives: 59.0000\n",
            "Epoch 65/200\n",
            "44/44 [==============================] - 1s 14ms/step - loss: 0.4665 - Accuracy: 0.8218 - false_negatives: 68.0000 - false_positives: 50.0000 - true_negatives: 994.0000 - true_positives: 280.0000 - val_loss: 1.0269 - val_Accuracy: 0.7159 - val_false_negatives: 29.0000 - val_false_positives: 18.0000 - val_true_negatives: 246.0000 - val_true_positives: 59.0000\n",
            "Epoch 66/200\n",
            "44/44 [==============================] - 1s 14ms/step - loss: 0.4616 - Accuracy: 0.8305 - false_negatives: 76.0000 - false_positives: 49.0000 - true_negatives: 995.0000 - true_positives: 272.0000 - val_loss: 1.0507 - val_Accuracy: 0.7045 - val_false_negatives: 28.0000 - val_false_positives: 19.0000 - val_true_negatives: 245.0000 - val_true_positives: 60.0000\n",
            "Epoch 67/200\n",
            "44/44 [==============================] - 1s 14ms/step - loss: 0.4643 - Accuracy: 0.8362 - false_negatives: 78.0000 - false_positives: 49.0000 - true_negatives: 995.0000 - true_positives: 270.0000 - val_loss: 1.2948 - val_Accuracy: 0.7045 - val_false_negatives: 27.0000 - val_false_positives: 24.0000 - val_true_negatives: 240.0000 - val_true_positives: 61.0000\n",
            "Epoch 68/200\n",
            "44/44 [==============================] - 1s 14ms/step - loss: 0.4561 - Accuracy: 0.8305 - false_negatives: 72.0000 - false_positives: 47.0000 - true_negatives: 997.0000 - true_positives: 276.0000 - val_loss: 1.1065 - val_Accuracy: 0.6705 - val_false_negatives: 33.0000 - val_false_positives: 19.0000 - val_true_negatives: 245.0000 - val_true_positives: 55.0000\n",
            "Epoch 69/200\n",
            "44/44 [==============================] - 1s 14ms/step - loss: 0.4758 - Accuracy: 0.8333 - false_negatives: 74.0000 - false_positives: 47.0000 - true_negatives: 997.0000 - true_positives: 274.0000 - val_loss: 0.9573 - val_Accuracy: 0.7273 - val_false_negatives: 24.0000 - val_false_positives: 17.0000 - val_true_negatives: 247.0000 - val_true_positives: 64.0000\n",
            "Epoch 70/200\n",
            "44/44 [==============================] - 1s 14ms/step - loss: 0.4466 - Accuracy: 0.8132 - false_negatives: 78.0000 - false_positives: 50.0000 - true_negatives: 994.0000 - true_positives: 270.0000 - val_loss: 1.1179 - val_Accuracy: 0.6591 - val_false_negatives: 37.0000 - val_false_positives: 25.0000 - val_true_negatives: 239.0000 - val_true_positives: 51.0000\n",
            "Epoch 71/200\n",
            "44/44 [==============================] - 1s 15ms/step - loss: 0.4665 - Accuracy: 0.8247 - false_negatives: 76.0000 - false_positives: 53.0000 - true_negatives: 991.0000 - true_positives: 272.0000 - val_loss: 1.1931 - val_Accuracy: 0.7045 - val_false_negatives: 29.0000 - val_false_positives: 18.0000 - val_true_negatives: 246.0000 - val_true_positives: 59.0000\n",
            "Epoch 72/200\n",
            "44/44 [==============================] - 1s 14ms/step - loss: 0.5059 - Accuracy: 0.8190 - false_negatives: 76.0000 - false_positives: 53.0000 - true_negatives: 991.0000 - true_positives: 272.0000 - val_loss: 1.1472 - val_Accuracy: 0.6818 - val_false_negatives: 30.0000 - val_false_positives: 27.0000 - val_true_negatives: 237.0000 - val_true_positives: 58.0000\n",
            "Epoch 73/200\n",
            "44/44 [==============================] - 1s 14ms/step - loss: 0.5017 - Accuracy: 0.7902 - false_negatives: 85.0000 - false_positives: 55.0000 - true_negatives: 989.0000 - true_positives: 263.0000 - val_loss: 1.0695 - val_Accuracy: 0.6818 - val_false_negatives: 34.0000 - val_false_positives: 18.0000 - val_true_negatives: 246.0000 - val_true_positives: 54.0000\n",
            "Epoch 74/200\n",
            "44/44 [==============================] - 1s 15ms/step - loss: 0.5475 - Accuracy: 0.7960 - false_negatives: 91.0000 - false_positives: 46.0000 - true_negatives: 998.0000 - true_positives: 257.0000 - val_loss: 0.9775 - val_Accuracy: 0.7386 - val_false_negatives: 27.0000 - val_false_positives: 18.0000 - val_true_negatives: 246.0000 - val_true_positives: 61.0000\n",
            "Epoch 75/200\n",
            "44/44 [==============================] - 1s 15ms/step - loss: 0.5091 - Accuracy: 0.8132 - false_negatives: 80.0000 - false_positives: 53.0000 - true_negatives: 991.0000 - true_positives: 268.0000 - val_loss: 0.9838 - val_Accuracy: 0.7500 - val_false_negatives: 30.0000 - val_false_positives: 14.0000 - val_true_negatives: 250.0000 - val_true_positives: 58.0000\n",
            "Epoch 76/200\n",
            "44/44 [==============================] - 1s 15ms/step - loss: 0.4553 - Accuracy: 0.8218 - false_negatives: 79.0000 - false_positives: 51.0000 - true_negatives: 993.0000 - true_positives: 269.0000 - val_loss: 1.1365 - val_Accuracy: 0.7045 - val_false_negatives: 27.0000 - val_false_positives: 17.0000 - val_true_negatives: 247.0000 - val_true_positives: 61.0000\n",
            "Epoch 77/200\n",
            "44/44 [==============================] - 1s 15ms/step - loss: 0.4339 - Accuracy: 0.8420 - false_negatives: 61.0000 - false_positives: 43.0000 - true_negatives: 1001.0000 - true_positives: 287.0000 - val_loss: 1.0824 - val_Accuracy: 0.7159 - val_false_negatives: 28.0000 - val_false_positives: 19.0000 - val_true_negatives: 245.0000 - val_true_positives: 60.0000\n",
            "Epoch 78/200\n",
            "44/44 [==============================] - 1s 14ms/step - loss: 0.4475 - Accuracy: 0.8247 - false_negatives: 79.0000 - false_positives: 45.0000 - true_negatives: 999.0000 - true_positives: 269.0000 - val_loss: 1.1440 - val_Accuracy: 0.7045 - val_false_negatives: 29.0000 - val_false_positives: 17.0000 - val_true_negatives: 247.0000 - val_true_positives: 59.0000\n",
            "Epoch 79/200\n",
            "44/44 [==============================] - 1s 25ms/step - loss: 0.4543 - Accuracy: 0.8477 - false_negatives: 66.0000 - false_positives: 43.0000 - true_negatives: 1001.0000 - true_positives: 282.0000 - val_loss: 1.0451 - val_Accuracy: 0.6932 - val_false_negatives: 31.0000 - val_false_positives: 21.0000 - val_true_negatives: 243.0000 - val_true_positives: 57.0000\n",
            "Epoch 80/200\n",
            "44/44 [==============================] - 1s 23ms/step - loss: 0.4048 - Accuracy: 0.8305 - false_negatives: 71.0000 - false_positives: 45.0000 - true_negatives: 999.0000 - true_positives: 277.0000 - val_loss: 0.9492 - val_Accuracy: 0.7614 - val_false_negatives: 24.0000 - val_false_positives: 18.0000 - val_true_negatives: 246.0000 - val_true_positives: 64.0000\n",
            "Epoch 81/200\n",
            "44/44 [==============================] - 1s 15ms/step - loss: 0.4312 - Accuracy: 0.8305 - false_negatives: 77.0000 - false_positives: 50.0000 - true_negatives: 994.0000 - true_positives: 271.0000 - val_loss: 1.0659 - val_Accuracy: 0.7159 - val_false_negatives: 29.0000 - val_false_positives: 16.0000 - val_true_negatives: 248.0000 - val_true_positives: 59.0000\n",
            "Epoch 82/200\n",
            "44/44 [==============================] - 1s 15ms/step - loss: 0.5305 - Accuracy: 0.8017 - false_negatives: 84.0000 - false_positives: 60.0000 - true_negatives: 984.0000 - true_positives: 264.0000 - val_loss: 1.0058 - val_Accuracy: 0.7045 - val_false_negatives: 29.0000 - val_false_positives: 15.0000 - val_true_negatives: 249.0000 - val_true_positives: 59.0000\n",
            "Epoch 83/200\n",
            "44/44 [==============================] - 1s 14ms/step - loss: 0.4637 - Accuracy: 0.8362 - false_negatives: 75.0000 - false_positives: 43.0000 - true_negatives: 1001.0000 - true_positives: 273.0000 - val_loss: 1.0643 - val_Accuracy: 0.6932 - val_false_negatives: 32.0000 - val_false_positives: 19.0000 - val_true_negatives: 245.0000 - val_true_positives: 56.0000\n",
            "Epoch 84/200\n",
            "44/44 [==============================] - 1s 14ms/step - loss: 0.4363 - Accuracy: 0.8333 - false_negatives: 72.0000 - false_positives: 44.0000 - true_negatives: 1000.0000 - true_positives: 276.0000 - val_loss: 1.0732 - val_Accuracy: 0.6591 - val_false_negatives: 32.0000 - val_false_positives: 21.0000 - val_true_negatives: 243.0000 - val_true_positives: 56.0000\n",
            "Epoch 85/200\n",
            "44/44 [==============================] - 1s 14ms/step - loss: 0.3804 - Accuracy: 0.8506 - false_negatives: 63.0000 - false_positives: 38.0000 - true_negatives: 1006.0000 - true_positives: 285.0000 - val_loss: 1.1918 - val_Accuracy: 0.7386 - val_false_negatives: 28.0000 - val_false_positives: 21.0000 - val_true_negatives: 243.0000 - val_true_positives: 60.0000\n",
            "Epoch 86/200\n",
            "44/44 [==============================] - 1s 14ms/step - loss: 0.3730 - Accuracy: 0.8678 - false_negatives: 55.0000 - false_positives: 42.0000 - true_negatives: 1002.0000 - true_positives: 293.0000 - val_loss: 1.4078 - val_Accuracy: 0.5909 - val_false_negatives: 40.0000 - val_false_positives: 33.0000 - val_true_negatives: 231.0000 - val_true_positives: 48.0000\n",
            "Epoch 87/200\n",
            "44/44 [==============================] - 1s 14ms/step - loss: 0.4139 - Accuracy: 0.8305 - false_negatives: 64.0000 - false_positives: 54.0000 - true_negatives: 990.0000 - true_positives: 284.0000 - val_loss: 1.2825 - val_Accuracy: 0.6705 - val_false_negatives: 34.0000 - val_false_positives: 24.0000 - val_true_negatives: 240.0000 - val_true_positives: 54.0000\n",
            "Epoch 88/200\n",
            "44/44 [==============================] - 1s 14ms/step - loss: 0.4072 - Accuracy: 0.8362 - false_negatives: 69.0000 - false_positives: 49.0000 - true_negatives: 995.0000 - true_positives: 279.0000 - val_loss: 1.2395 - val_Accuracy: 0.6591 - val_false_negatives: 36.0000 - val_false_positives: 24.0000 - val_true_negatives: 240.0000 - val_true_positives: 52.0000\n",
            "Epoch 89/200\n",
            "44/44 [==============================] - 1s 14ms/step - loss: 0.4382 - Accuracy: 0.8218 - false_negatives: 75.0000 - false_positives: 46.0000 - true_negatives: 998.0000 - true_positives: 273.0000 - val_loss: 1.2604 - val_Accuracy: 0.6932 - val_false_negatives: 29.0000 - val_false_positives: 22.0000 - val_true_negatives: 242.0000 - val_true_positives: 59.0000\n",
            "Epoch 90/200\n",
            "44/44 [==============================] - 1s 14ms/step - loss: 0.3557 - Accuracy: 0.8764 - false_negatives: 51.0000 - false_positives: 35.0000 - true_negatives: 1009.0000 - true_positives: 297.0000 - val_loss: 1.3005 - val_Accuracy: 0.6818 - val_false_negatives: 29.0000 - val_false_positives: 26.0000 - val_true_negatives: 238.0000 - val_true_positives: 59.0000\n",
            "Epoch 91/200\n",
            "44/44 [==============================] - 1s 14ms/step - loss: 0.4356 - Accuracy: 0.8161 - false_negatives: 71.0000 - false_positives: 57.0000 - true_negatives: 987.0000 - true_positives: 277.0000 - val_loss: 1.1154 - val_Accuracy: 0.7159 - val_false_negatives: 29.0000 - val_false_positives: 18.0000 - val_true_negatives: 246.0000 - val_true_positives: 59.0000\n",
            "Epoch 92/200\n",
            "44/44 [==============================] - 1s 15ms/step - loss: 0.3969 - Accuracy: 0.8190 - false_negatives: 70.0000 - false_positives: 48.0000 - true_negatives: 996.0000 - true_positives: 278.0000 - val_loss: 1.1040 - val_Accuracy: 0.6364 - val_false_negatives: 35.0000 - val_false_positives: 25.0000 - val_true_negatives: 239.0000 - val_true_positives: 53.0000\n",
            "Epoch 93/200\n",
            "44/44 [==============================] - 1s 14ms/step - loss: 0.3752 - Accuracy: 0.8523 - false_negatives: 63.0000 - false_positives: 42.0000 - true_negatives: 1014.0000 - true_positives: 289.0000 - val_loss: 1.3011 - val_Accuracy: 0.7273 - val_false_negatives: 26.0000 - val_false_positives: 20.0000 - val_true_negatives: 244.0000 - val_true_positives: 62.0000\n",
            "Epoch 94/200\n",
            "44/44 [==============================] - 1s 16ms/step - loss: 0.3801 - Accuracy: 0.8506 - false_negatives: 58.0000 - false_positives: 44.0000 - true_negatives: 1000.0000 - true_positives: 290.0000 - val_loss: 1.3064 - val_Accuracy: 0.7045 - val_false_negatives: 28.0000 - val_false_positives: 21.0000 - val_true_negatives: 243.0000 - val_true_positives: 60.0000\n",
            "Epoch 95/200\n",
            "44/44 [==============================] - 1s 14ms/step - loss: 0.4332 - Accuracy: 0.8305 - false_negatives: 62.0000 - false_positives: 51.0000 - true_negatives: 993.0000 - true_positives: 286.0000 - val_loss: 1.0657 - val_Accuracy: 0.6818 - val_false_negatives: 30.0000 - val_false_positives: 19.0000 - val_true_negatives: 245.0000 - val_true_positives: 58.0000\n",
            "Epoch 96/200\n",
            "44/44 [==============================] - 1s 14ms/step - loss: 0.4221 - Accuracy: 0.8333 - false_negatives: 73.0000 - false_positives: 45.0000 - true_negatives: 999.0000 - true_positives: 275.0000 - val_loss: 1.3206 - val_Accuracy: 0.7159 - val_false_negatives: 27.0000 - val_false_positives: 22.0000 - val_true_negatives: 242.0000 - val_true_positives: 61.0000\n",
            "Epoch 97/200\n",
            "44/44 [==============================] - 1s 14ms/step - loss: 0.3613 - Accuracy: 0.8477 - false_negatives: 58.0000 - false_positives: 47.0000 - true_negatives: 997.0000 - true_positives: 290.0000 - val_loss: 1.2422 - val_Accuracy: 0.6591 - val_false_negatives: 34.0000 - val_false_positives: 27.0000 - val_true_negatives: 237.0000 - val_true_positives: 54.0000\n",
            "Epoch 98/200\n",
            "44/44 [==============================] - 1s 15ms/step - loss: 0.4458 - Accuracy: 0.8391 - false_negatives: 67.0000 - false_positives: 44.0000 - true_negatives: 1000.0000 - true_positives: 281.0000 - val_loss: 1.1460 - val_Accuracy: 0.7045 - val_false_negatives: 30.0000 - val_false_positives: 20.0000 - val_true_negatives: 244.0000 - val_true_positives: 58.0000\n",
            "Epoch 99/200\n",
            "44/44 [==============================] - 1s 14ms/step - loss: 0.3329 - Accuracy: 0.8592 - false_negatives: 56.0000 - false_positives: 37.0000 - true_negatives: 1007.0000 - true_positives: 292.0000 - val_loss: 1.4947 - val_Accuracy: 0.7159 - val_false_negatives: 25.0000 - val_false_positives: 21.0000 - val_true_negatives: 243.0000 - val_true_positives: 63.0000\n",
            "Epoch 100/200\n",
            "44/44 [==============================] - 1s 14ms/step - loss: 0.3591 - Accuracy: 0.8563 - false_negatives: 58.0000 - false_positives: 41.0000 - true_negatives: 1003.0000 - true_positives: 290.0000 - val_loss: 1.3077 - val_Accuracy: 0.7159 - val_false_negatives: 26.0000 - val_false_positives: 20.0000 - val_true_negatives: 244.0000 - val_true_positives: 62.0000\n",
            "Epoch 101/200\n",
            "44/44 [==============================] - 1s 15ms/step - loss: 0.3633 - Accuracy: 0.8649 - false_negatives: 53.0000 - false_positives: 38.0000 - true_negatives: 1006.0000 - true_positives: 295.0000 - val_loss: 1.0988 - val_Accuracy: 0.7273 - val_false_negatives: 28.0000 - val_false_positives: 18.0000 - val_true_negatives: 246.0000 - val_true_positives: 60.0000\n",
            "Epoch 102/200\n",
            "44/44 [==============================] - 1s 14ms/step - loss: 0.3260 - Accuracy: 0.8534 - false_negatives: 53.0000 - false_positives: 39.0000 - true_negatives: 1005.0000 - true_positives: 295.0000 - val_loss: 1.2676 - val_Accuracy: 0.7045 - val_false_negatives: 28.0000 - val_false_positives: 24.0000 - val_true_negatives: 240.0000 - val_true_positives: 60.0000\n",
            "Epoch 103/200\n",
            "44/44 [==============================] - 1s 14ms/step - loss: 0.3796 - Accuracy: 0.8592 - false_negatives: 57.0000 - false_positives: 41.0000 - true_negatives: 1003.0000 - true_positives: 291.0000 - val_loss: 1.3077 - val_Accuracy: 0.7159 - val_false_negatives: 27.0000 - val_false_positives: 19.0000 - val_true_negatives: 245.0000 - val_true_positives: 61.0000\n",
            "Epoch 104/200\n",
            "44/44 [==============================] - 1s 15ms/step - loss: 0.3968 - Accuracy: 0.8621 - false_negatives: 54.0000 - false_positives: 39.0000 - true_negatives: 1005.0000 - true_positives: 294.0000 - val_loss: 1.1852 - val_Accuracy: 0.7045 - val_false_negatives: 26.0000 - val_false_positives: 23.0000 - val_true_negatives: 241.0000 - val_true_positives: 62.0000\n",
            "Epoch 105/200\n",
            "44/44 [==============================] - 1s 15ms/step - loss: 0.3138 - Accuracy: 0.8764 - false_negatives: 52.0000 - false_positives: 32.0000 - true_negatives: 1012.0000 - true_positives: 296.0000 - val_loss: 1.2765 - val_Accuracy: 0.6932 - val_false_negatives: 28.0000 - val_false_positives: 24.0000 - val_true_negatives: 240.0000 - val_true_positives: 60.0000\n",
            "Epoch 106/200\n",
            "44/44 [==============================] - 1s 15ms/step - loss: 0.3527 - Accuracy: 0.8736 - false_negatives: 52.0000 - false_positives: 35.0000 - true_negatives: 1009.0000 - true_positives: 296.0000 - val_loss: 0.9218 - val_Accuracy: 0.7273 - val_false_negatives: 27.0000 - val_false_positives: 19.0000 - val_true_negatives: 245.0000 - val_true_positives: 61.0000\n",
            "Epoch 107/200\n",
            "44/44 [==============================] - 1s 15ms/step - loss: 0.4372 - Accuracy: 0.8247 - false_negatives: 73.0000 - false_positives: 43.0000 - true_negatives: 1001.0000 - true_positives: 275.0000 - val_loss: 0.8709 - val_Accuracy: 0.7386 - val_false_negatives: 28.0000 - val_false_positives: 13.0000 - val_true_negatives: 251.0000 - val_true_positives: 60.0000\n",
            "Epoch 108/200\n",
            "44/44 [==============================] - 1s 15ms/step - loss: 0.3826 - Accuracy: 0.8381 - false_negatives: 70.0000 - false_positives: 44.0000 - true_negatives: 1012.0000 - true_positives: 282.0000 - val_loss: 1.1795 - val_Accuracy: 0.7159 - val_false_negatives: 28.0000 - val_false_positives: 21.0000 - val_true_negatives: 243.0000 - val_true_positives: 60.0000\n",
            "Epoch 109/200\n",
            "44/44 [==============================] - 1s 14ms/step - loss: 0.3244 - Accuracy: 0.8822 - false_negatives: 48.0000 - false_positives: 34.0000 - true_negatives: 1010.0000 - true_positives: 300.0000 - val_loss: 1.1372 - val_Accuracy: 0.7500 - val_false_negatives: 24.0000 - val_false_positives: 17.0000 - val_true_negatives: 247.0000 - val_true_positives: 64.0000\n",
            "Epoch 110/200\n",
            "44/44 [==============================] - 1s 15ms/step - loss: 0.3787 - Accuracy: 0.8621 - false_negatives: 58.0000 - false_positives: 37.0000 - true_negatives: 1007.0000 - true_positives: 290.0000 - val_loss: 1.2034 - val_Accuracy: 0.7273 - val_false_negatives: 26.0000 - val_false_positives: 20.0000 - val_true_negatives: 244.0000 - val_true_positives: 62.0000\n",
            "Epoch 111/200\n",
            "44/44 [==============================] - 1s 15ms/step - loss: 0.3670 - Accuracy: 0.8649 - false_negatives: 54.0000 - false_positives: 38.0000 - true_negatives: 1006.0000 - true_positives: 294.0000 - val_loss: 1.2241 - val_Accuracy: 0.6932 - val_false_negatives: 28.0000 - val_false_positives: 20.0000 - val_true_negatives: 244.0000 - val_true_positives: 60.0000\n",
            "Epoch 112/200\n",
            "44/44 [==============================] - 1s 15ms/step - loss: 0.3045 - Accuracy: 0.8822 - false_negatives: 44.0000 - false_positives: 34.0000 - true_negatives: 1010.0000 - true_positives: 304.0000 - val_loss: 1.0239 - val_Accuracy: 0.6932 - val_false_negatives: 31.0000 - val_false_positives: 20.0000 - val_true_negatives: 244.0000 - val_true_positives: 57.0000\n",
            "Epoch 113/200\n",
            "44/44 [==============================] - 1s 14ms/step - loss: 0.3589 - Accuracy: 0.8420 - false_negatives: 57.0000 - false_positives: 47.0000 - true_negatives: 997.0000 - true_positives: 291.0000 - val_loss: 1.1771 - val_Accuracy: 0.6591 - val_false_negatives: 34.0000 - val_false_positives: 26.0000 - val_true_negatives: 238.0000 - val_true_positives: 54.0000\n",
            "Epoch 114/200\n",
            "44/44 [==============================] - 1s 15ms/step - loss: 0.3574 - Accuracy: 0.8592 - false_negatives: 54.0000 - false_positives: 38.0000 - true_negatives: 1006.0000 - true_positives: 294.0000 - val_loss: 1.1811 - val_Accuracy: 0.7159 - val_false_negatives: 27.0000 - val_false_positives: 19.0000 - val_true_negatives: 245.0000 - val_true_positives: 61.0000\n",
            "Epoch 115/200\n",
            "44/44 [==============================] - 1s 15ms/step - loss: 0.3460 - Accuracy: 0.8851 - false_negatives: 52.0000 - false_positives: 35.0000 - true_negatives: 1009.0000 - true_positives: 296.0000 - val_loss: 1.3895 - val_Accuracy: 0.6932 - val_false_negatives: 29.0000 - val_false_positives: 23.0000 - val_true_negatives: 241.0000 - val_true_positives: 59.0000\n",
            "Epoch 116/200\n",
            "44/44 [==============================] - 1s 15ms/step - loss: 0.3177 - Accuracy: 0.8937 - false_negatives: 42.0000 - false_positives: 30.0000 - true_negatives: 1014.0000 - true_positives: 306.0000 - val_loss: 1.3300 - val_Accuracy: 0.7159 - val_false_negatives: 26.0000 - val_false_positives: 21.0000 - val_true_negatives: 243.0000 - val_true_positives: 62.0000\n",
            "Epoch 117/200\n",
            "44/44 [==============================] - 1s 20ms/step - loss: 0.3008 - Accuracy: 0.8822 - false_negatives: 48.0000 - false_positives: 37.0000 - true_negatives: 1007.0000 - true_positives: 300.0000 - val_loss: 1.2924 - val_Accuracy: 0.7500 - val_false_negatives: 23.0000 - val_false_positives: 21.0000 - val_true_negatives: 243.0000 - val_true_positives: 65.0000\n",
            "Epoch 118/200\n",
            "44/44 [==============================] - 1s 24ms/step - loss: 0.3081 - Accuracy: 0.8908 - false_negatives: 43.0000 - false_positives: 30.0000 - true_negatives: 1014.0000 - true_positives: 305.0000 - val_loss: 1.5226 - val_Accuracy: 0.7159 - val_false_negatives: 26.0000 - val_false_positives: 21.0000 - val_true_negatives: 243.0000 - val_true_positives: 62.0000\n",
            "Epoch 119/200\n",
            "44/44 [==============================] - 1s 29ms/step - loss: 0.2768 - Accuracy: 0.8966 - false_negatives: 44.0000 - false_positives: 29.0000 - true_negatives: 1015.0000 - true_positives: 304.0000 - val_loss: 1.3318 - val_Accuracy: 0.7273 - val_false_negatives: 26.0000 - val_false_positives: 18.0000 - val_true_negatives: 246.0000 - val_true_positives: 62.0000\n",
            "Epoch 120/200\n",
            "44/44 [==============================] - 1s 33ms/step - loss: 0.3203 - Accuracy: 0.8678 - false_negatives: 52.0000 - false_positives: 40.0000 - true_negatives: 1004.0000 - true_positives: 296.0000 - val_loss: 1.3922 - val_Accuracy: 0.7159 - val_false_negatives: 27.0000 - val_false_positives: 24.0000 - val_true_negatives: 240.0000 - val_true_positives: 61.0000\n",
            "Epoch 121/200\n",
            "44/44 [==============================] - 1s 25ms/step - loss: 0.3669 - Accuracy: 0.8563 - false_negatives: 54.0000 - false_positives: 42.0000 - true_negatives: 1002.0000 - true_positives: 294.0000 - val_loss: 1.3133 - val_Accuracy: 0.6591 - val_false_negatives: 30.0000 - val_false_positives: 27.0000 - val_true_negatives: 237.0000 - val_true_positives: 58.0000\n",
            "Epoch 122/200\n",
            "44/44 [==============================] - 1s 27ms/step - loss: 0.2783 - Accuracy: 0.8879 - false_negatives: 41.0000 - false_positives: 36.0000 - true_negatives: 1008.0000 - true_positives: 307.0000 - val_loss: 1.3608 - val_Accuracy: 0.7273 - val_false_negatives: 25.0000 - val_false_positives: 22.0000 - val_true_negatives: 242.0000 - val_true_positives: 63.0000\n",
            "Epoch 123/200\n",
            "44/44 [==============================] - 1s 32ms/step - loss: 0.2630 - Accuracy: 0.8937 - false_negatives: 43.0000 - false_positives: 33.0000 - true_negatives: 1011.0000 - true_positives: 305.0000 - val_loss: 1.4150 - val_Accuracy: 0.6818 - val_false_negatives: 30.0000 - val_false_positives: 25.0000 - val_true_negatives: 239.0000 - val_true_positives: 58.0000\n",
            "Epoch 124/200\n",
            "44/44 [==============================] - 1s 28ms/step - loss: 0.3106 - Accuracy: 0.8879 - false_negatives: 48.0000 - false_positives: 33.0000 - true_negatives: 1011.0000 - true_positives: 300.0000 - val_loss: 1.5043 - val_Accuracy: 0.6705 - val_false_negatives: 30.0000 - val_false_positives: 25.0000 - val_true_negatives: 239.0000 - val_true_positives: 58.0000\n",
            "Epoch 125/200\n",
            "44/44 [==============================] - 1s 15ms/step - loss: 0.3151 - Accuracy: 0.8506 - false_negatives: 57.0000 - false_positives: 41.0000 - true_negatives: 1003.0000 - true_positives: 291.0000 - val_loss: 1.5607 - val_Accuracy: 0.7500 - val_false_negatives: 24.0000 - val_false_positives: 20.0000 - val_true_negatives: 244.0000 - val_true_positives: 64.0000\n",
            "Epoch 126/200\n",
            "44/44 [==============================] - 1s 15ms/step - loss: 0.3216 - Accuracy: 0.8678 - false_negatives: 53.0000 - false_positives: 40.0000 - true_negatives: 1004.0000 - true_positives: 295.0000 - val_loss: 1.6383 - val_Accuracy: 0.7273 - val_false_negatives: 24.0000 - val_false_positives: 20.0000 - val_true_negatives: 244.0000 - val_true_positives: 64.0000\n",
            "Epoch 127/200\n",
            "44/44 [==============================] - 1s 15ms/step - loss: 0.3337 - Accuracy: 0.8506 - false_negatives: 57.0000 - false_positives: 41.0000 - true_negatives: 1003.0000 - true_positives: 291.0000 - val_loss: 1.3697 - val_Accuracy: 0.7045 - val_false_negatives: 29.0000 - val_false_positives: 23.0000 - val_true_negatives: 241.0000 - val_true_positives: 59.0000\n",
            "Epoch 128/200\n",
            "44/44 [==============================] - 1s 15ms/step - loss: 0.3228 - Accuracy: 0.8621 - false_negatives: 55.0000 - false_positives: 42.0000 - true_negatives: 1002.0000 - true_positives: 293.0000 - val_loss: 1.3653 - val_Accuracy: 0.7386 - val_false_negatives: 24.0000 - val_false_positives: 22.0000 - val_true_negatives: 242.0000 - val_true_positives: 64.0000\n",
            "Epoch 129/200\n",
            "44/44 [==============================] - 1s 15ms/step - loss: 0.3141 - Accuracy: 0.8592 - false_negatives: 56.0000 - false_positives: 38.0000 - true_negatives: 1006.0000 - true_positives: 292.0000 - val_loss: 1.3751 - val_Accuracy: 0.7273 - val_false_negatives: 25.0000 - val_false_positives: 19.0000 - val_true_negatives: 245.0000 - val_true_positives: 63.0000\n",
            "Epoch 130/200\n",
            "44/44 [==============================] - 1s 14ms/step - loss: 0.3343 - Accuracy: 0.8563 - false_negatives: 55.0000 - false_positives: 39.0000 - true_negatives: 1005.0000 - true_positives: 293.0000 - val_loss: 1.2818 - val_Accuracy: 0.7386 - val_false_negatives: 25.0000 - val_false_positives: 19.0000 - val_true_negatives: 245.0000 - val_true_positives: 63.0000\n",
            "Epoch 131/200\n",
            "44/44 [==============================] - 1s 15ms/step - loss: 0.3133 - Accuracy: 0.8879 - false_negatives: 47.0000 - false_positives: 32.0000 - true_negatives: 1012.0000 - true_positives: 301.0000 - val_loss: 1.7293 - val_Accuracy: 0.6818 - val_false_negatives: 28.0000 - val_false_positives: 24.0000 - val_true_negatives: 240.0000 - val_true_positives: 60.0000\n",
            "Epoch 132/200\n",
            "44/44 [==============================] - 1s 15ms/step - loss: 0.3087 - Accuracy: 0.8908 - false_negatives: 43.0000 - false_positives: 35.0000 - true_negatives: 1009.0000 - true_positives: 305.0000 - val_loss: 1.4103 - val_Accuracy: 0.7273 - val_false_negatives: 27.0000 - val_false_positives: 21.0000 - val_true_negatives: 243.0000 - val_true_positives: 61.0000\n",
            "Epoch 133/200\n",
            "44/44 [==============================] - 1s 15ms/step - loss: 0.2919 - Accuracy: 0.8879 - false_negatives: 44.0000 - false_positives: 34.0000 - true_negatives: 1010.0000 - true_positives: 304.0000 - val_loss: 1.6848 - val_Accuracy: 0.7614 - val_false_negatives: 23.0000 - val_false_positives: 21.0000 - val_true_negatives: 243.0000 - val_true_positives: 65.0000\n",
            "Epoch 134/200\n",
            "44/44 [==============================] - 1s 15ms/step - loss: 0.3285 - Accuracy: 0.8822 - false_negatives: 47.0000 - false_positives: 33.0000 - true_negatives: 1011.0000 - true_positives: 301.0000 - val_loss: 1.7614 - val_Accuracy: 0.6932 - val_false_negatives: 30.0000 - val_false_positives: 25.0000 - val_true_negatives: 239.0000 - val_true_positives: 58.0000\n",
            "Epoch 135/200\n",
            "44/44 [==============================] - 1s 15ms/step - loss: 0.2530 - Accuracy: 0.8994 - false_negatives: 41.0000 - false_positives: 28.0000 - true_negatives: 1016.0000 - true_positives: 307.0000 - val_loss: 2.0595 - val_Accuracy: 0.7159 - val_false_negatives: 26.0000 - val_false_positives: 24.0000 - val_true_negatives: 240.0000 - val_true_positives: 62.0000\n",
            "Epoch 136/200\n",
            "44/44 [==============================] - 1s 15ms/step - loss: 0.3151 - Accuracy: 0.8822 - false_negatives: 43.0000 - false_positives: 33.0000 - true_negatives: 1011.0000 - true_positives: 305.0000 - val_loss: 1.5623 - val_Accuracy: 0.6591 - val_false_negatives: 31.0000 - val_false_positives: 25.0000 - val_true_negatives: 239.0000 - val_true_positives: 57.0000\n",
            "Epoch 137/200\n",
            "44/44 [==============================] - 1s 15ms/step - loss: 0.3173 - Accuracy: 0.8736 - false_negatives: 47.0000 - false_positives: 38.0000 - true_negatives: 1006.0000 - true_positives: 301.0000 - val_loss: 1.6215 - val_Accuracy: 0.6136 - val_false_negatives: 34.0000 - val_false_positives: 30.0000 - val_true_negatives: 234.0000 - val_true_positives: 54.0000\n",
            "Epoch 138/200\n",
            "44/44 [==============================] - 1s 15ms/step - loss: 0.2265 - Accuracy: 0.9052 - false_negatives: 39.0000 - false_positives: 30.0000 - true_negatives: 1014.0000 - true_positives: 309.0000 - val_loss: 1.7582 - val_Accuracy: 0.6932 - val_false_negatives: 28.0000 - val_false_positives: 27.0000 - val_true_negatives: 237.0000 - val_true_positives: 60.0000\n",
            "Epoch 139/200\n",
            "44/44 [==============================] - 1s 15ms/step - loss: 0.3000 - Accuracy: 0.8750 - false_negatives: 49.0000 - false_positives: 39.0000 - true_negatives: 1017.0000 - true_positives: 303.0000 - val_loss: 1.7501 - val_Accuracy: 0.7273 - val_false_negatives: 27.0000 - val_false_positives: 21.0000 - val_true_negatives: 243.0000 - val_true_positives: 61.0000\n",
            "Epoch 140/200\n",
            "44/44 [==============================] - 1s 15ms/step - loss: 0.2493 - Accuracy: 0.9138 - false_negatives: 35.0000 - false_positives: 24.0000 - true_negatives: 1020.0000 - true_positives: 313.0000 - val_loss: 1.6986 - val_Accuracy: 0.7159 - val_false_negatives: 26.0000 - val_false_positives: 23.0000 - val_true_negatives: 241.0000 - val_true_positives: 62.0000\n",
            "Epoch 141/200\n",
            "44/44 [==============================] - 1s 15ms/step - loss: 0.2672 - Accuracy: 0.8937 - false_negatives: 40.0000 - false_positives: 29.0000 - true_negatives: 1015.0000 - true_positives: 308.0000 - val_loss: 1.8338 - val_Accuracy: 0.7500 - val_false_negatives: 24.0000 - val_false_positives: 21.0000 - val_true_negatives: 243.0000 - val_true_positives: 64.0000\n",
            "Epoch 142/200\n",
            "44/44 [==============================] - 1s 15ms/step - loss: 0.2587 - Accuracy: 0.8966 - false_negatives: 43.0000 - false_positives: 33.0000 - true_negatives: 1011.0000 - true_positives: 305.0000 - val_loss: 1.8490 - val_Accuracy: 0.6932 - val_false_negatives: 29.0000 - val_false_positives: 25.0000 - val_true_negatives: 239.0000 - val_true_positives: 59.0000\n",
            "Epoch 143/200\n",
            "44/44 [==============================] - 1s 15ms/step - loss: 0.3402 - Accuracy: 0.8736 - false_negatives: 51.0000 - false_positives: 38.0000 - true_negatives: 1006.0000 - true_positives: 297.0000 - val_loss: 1.7779 - val_Accuracy: 0.7386 - val_false_negatives: 27.0000 - val_false_positives: 21.0000 - val_true_negatives: 243.0000 - val_true_positives: 61.0000\n",
            "Epoch 144/200\n",
            "44/44 [==============================] - 1s 15ms/step - loss: 0.2207 - Accuracy: 0.9138 - false_negatives: 33.0000 - false_positives: 24.0000 - true_negatives: 1020.0000 - true_positives: 315.0000 - val_loss: 1.7565 - val_Accuracy: 0.7273 - val_false_negatives: 27.0000 - val_false_positives: 21.0000 - val_true_negatives: 243.0000 - val_true_positives: 61.0000\n",
            "Epoch 145/200\n",
            "44/44 [==============================] - 1s 15ms/step - loss: 0.2030 - Accuracy: 0.9138 - false_negatives: 31.0000 - false_positives: 22.0000 - true_negatives: 1022.0000 - true_positives: 317.0000 - val_loss: 1.4101 - val_Accuracy: 0.7386 - val_false_negatives: 24.0000 - val_false_positives: 20.0000 - val_true_negatives: 244.0000 - val_true_positives: 64.0000\n",
            "Epoch 146/200\n",
            "44/44 [==============================] - 1s 15ms/step - loss: 0.2527 - Accuracy: 0.8994 - false_negatives: 38.0000 - false_positives: 33.0000 - true_negatives: 1011.0000 - true_positives: 310.0000 - val_loss: 1.4974 - val_Accuracy: 0.6932 - val_false_negatives: 29.0000 - val_false_positives: 24.0000 - val_true_negatives: 240.0000 - val_true_positives: 59.0000\n",
            "Epoch 147/200\n",
            "44/44 [==============================] - 1s 15ms/step - loss: 0.2141 - Accuracy: 0.9205 - false_negatives: 32.0000 - false_positives: 23.0000 - true_negatives: 1033.0000 - true_positives: 320.0000 - val_loss: 2.0600 - val_Accuracy: 0.6932 - val_false_negatives: 27.0000 - val_false_positives: 27.0000 - val_true_negatives: 237.0000 - val_true_positives: 61.0000\n",
            "Epoch 148/200\n",
            "44/44 [==============================] - 1s 15ms/step - loss: 0.2287 - Accuracy: 0.9080 - false_negatives: 35.0000 - false_positives: 25.0000 - true_negatives: 1019.0000 - true_positives: 313.0000 - val_loss: 1.9248 - val_Accuracy: 0.7045 - val_false_negatives: 29.0000 - val_false_positives: 23.0000 - val_true_negatives: 241.0000 - val_true_positives: 59.0000\n",
            "Epoch 149/200\n",
            "44/44 [==============================] - 1s 15ms/step - loss: 0.2994 - Accuracy: 0.8851 - false_negatives: 45.0000 - false_positives: 36.0000 - true_negatives: 1008.0000 - true_positives: 303.0000 - val_loss: 1.5856 - val_Accuracy: 0.7614 - val_false_negatives: 23.0000 - val_false_positives: 20.0000 - val_true_negatives: 244.0000 - val_true_positives: 65.0000\n",
            "Epoch 150/200\n",
            "44/44 [==============================] - 1s 15ms/step - loss: 0.1774 - Accuracy: 0.9460 - false_negatives: 27.0000 - false_positives: 16.0000 - true_negatives: 1040.0000 - true_positives: 325.0000 - val_loss: 1.7585 - val_Accuracy: 0.6705 - val_false_negatives: 31.0000 - val_false_positives: 27.0000 - val_true_negatives: 237.0000 - val_true_positives: 57.0000\n",
            "Epoch 151/200\n",
            "44/44 [==============================] - 1s 15ms/step - loss: 0.2997 - Accuracy: 0.8879 - false_negatives: 43.0000 - false_positives: 35.0000 - true_negatives: 1009.0000 - true_positives: 305.0000 - val_loss: 1.6078 - val_Accuracy: 0.7273 - val_false_negatives: 25.0000 - val_false_positives: 23.0000 - val_true_negatives: 241.0000 - val_true_positives: 63.0000\n",
            "Epoch 152/200\n",
            "44/44 [==============================] - 1s 15ms/step - loss: 0.2652 - Accuracy: 0.9080 - false_negatives: 34.0000 - false_positives: 27.0000 - true_negatives: 1017.0000 - true_positives: 314.0000 - val_loss: 1.5104 - val_Accuracy: 0.6932 - val_false_negatives: 28.0000 - val_false_positives: 24.0000 - val_true_negatives: 240.0000 - val_true_positives: 60.0000\n",
            "Epoch 153/200\n",
            "44/44 [==============================] - 1s 15ms/step - loss: 0.2204 - Accuracy: 0.9109 - false_negatives: 36.0000 - false_positives: 29.0000 - true_negatives: 1015.0000 - true_positives: 312.0000 - val_loss: 1.8641 - val_Accuracy: 0.7273 - val_false_negatives: 25.0000 - val_false_positives: 23.0000 - val_true_negatives: 241.0000 - val_true_positives: 63.0000\n",
            "Epoch 154/200\n",
            "44/44 [==============================] - 1s 17ms/step - loss: 0.2358 - Accuracy: 0.9253 - false_negatives: 31.0000 - false_positives: 20.0000 - true_negatives: 1024.0000 - true_positives: 317.0000 - val_loss: 1.7729 - val_Accuracy: 0.7159 - val_false_negatives: 25.0000 - val_false_positives: 22.0000 - val_true_negatives: 242.0000 - val_true_positives: 63.0000\n",
            "Epoch 155/200\n",
            "44/44 [==============================] - 1s 15ms/step - loss: 0.2121 - Accuracy: 0.9282 - false_negatives: 28.0000 - false_positives: 24.0000 - true_negatives: 1020.0000 - true_positives: 320.0000 - val_loss: 1.7908 - val_Accuracy: 0.7159 - val_false_negatives: 26.0000 - val_false_positives: 22.0000 - val_true_negatives: 242.0000 - val_true_positives: 62.0000\n",
            "Epoch 156/200\n",
            "44/44 [==============================] - 1s 15ms/step - loss: 0.2272 - Accuracy: 0.9167 - false_negatives: 36.0000 - false_positives: 24.0000 - true_negatives: 1020.0000 - true_positives: 312.0000 - val_loss: 1.7171 - val_Accuracy: 0.6932 - val_false_negatives: 29.0000 - val_false_positives: 23.0000 - val_true_negatives: 241.0000 - val_true_positives: 59.0000\n",
            "Epoch 157/200\n",
            "44/44 [==============================] - 1s 15ms/step - loss: 0.2262 - Accuracy: 0.9224 - false_negatives: 33.0000 - false_positives: 25.0000 - true_negatives: 1019.0000 - true_positives: 315.0000 - val_loss: 1.3875 - val_Accuracy: 0.6818 - val_false_negatives: 29.0000 - val_false_positives: 26.0000 - val_true_negatives: 238.0000 - val_true_positives: 59.0000\n",
            "Epoch 158/200\n",
            "44/44 [==============================] - 1s 16ms/step - loss: 0.2036 - Accuracy: 0.9425 - false_negatives: 24.0000 - false_positives: 18.0000 - true_negatives: 1026.0000 - true_positives: 324.0000 - val_loss: 1.6512 - val_Accuracy: 0.7386 - val_false_negatives: 23.0000 - val_false_positives: 22.0000 - val_true_negatives: 242.0000 - val_true_positives: 65.0000\n",
            "Epoch 159/200\n",
            "44/44 [==============================] - 1s 15ms/step - loss: 0.1849 - Accuracy: 0.9195 - false_negatives: 31.0000 - false_positives: 26.0000 - true_negatives: 1018.0000 - true_positives: 317.0000 - val_loss: 1.9504 - val_Accuracy: 0.7273 - val_false_negatives: 25.0000 - val_false_positives: 22.0000 - val_true_negatives: 242.0000 - val_true_positives: 63.0000\n",
            "Epoch 160/200\n",
            "44/44 [==============================] - 1s 15ms/step - loss: 0.2112 - Accuracy: 0.9080 - false_negatives: 34.0000 - false_positives: 27.0000 - true_negatives: 1017.0000 - true_positives: 314.0000 - val_loss: 1.8417 - val_Accuracy: 0.7159 - val_false_negatives: 28.0000 - val_false_positives: 23.0000 - val_true_negatives: 241.0000 - val_true_positives: 60.0000\n",
            "Epoch 161/200\n",
            "44/44 [==============================] - 1s 15ms/step - loss: 0.2104 - Accuracy: 0.9282 - false_negatives: 31.0000 - false_positives: 19.0000 - true_negatives: 1025.0000 - true_positives: 317.0000 - val_loss: 1.5469 - val_Accuracy: 0.6932 - val_false_negatives: 27.0000 - val_false_positives: 24.0000 - val_true_negatives: 240.0000 - val_true_positives: 61.0000\n",
            "Epoch 162/200\n",
            "44/44 [==============================] - 1s 15ms/step - loss: 0.2029 - Accuracy: 0.9310 - false_negatives: 25.0000 - false_positives: 23.0000 - true_negatives: 1021.0000 - true_positives: 323.0000 - val_loss: 1.8332 - val_Accuracy: 0.7386 - val_false_negatives: 24.0000 - val_false_positives: 22.0000 - val_true_negatives: 242.0000 - val_true_positives: 64.0000\n",
            "Epoch 163/200\n",
            "44/44 [==============================] - 1s 15ms/step - loss: 0.2233 - Accuracy: 0.9080 - false_negatives: 37.0000 - false_positives: 31.0000 - true_negatives: 1013.0000 - true_positives: 311.0000 - val_loss: 1.8431 - val_Accuracy: 0.6818 - val_false_negatives: 28.0000 - val_false_positives: 27.0000 - val_true_negatives: 237.0000 - val_true_positives: 60.0000\n",
            "Epoch 164/200\n",
            "44/44 [==============================] - 1s 16ms/step - loss: 0.2334 - Accuracy: 0.8966 - false_negatives: 38.0000 - false_positives: 32.0000 - true_negatives: 1012.0000 - true_positives: 310.0000 - val_loss: 1.4158 - val_Accuracy: 0.7614 - val_false_negatives: 23.0000 - val_false_positives: 19.0000 - val_true_negatives: 245.0000 - val_true_positives: 65.0000\n",
            "Epoch 165/200\n",
            "44/44 [==============================] - 1s 15ms/step - loss: 0.2042 - Accuracy: 0.9224 - false_negatives: 35.0000 - false_positives: 22.0000 - true_negatives: 1022.0000 - true_positives: 313.0000 - val_loss: 1.5744 - val_Accuracy: 0.7045 - val_false_negatives: 30.0000 - val_false_positives: 24.0000 - val_true_negatives: 240.0000 - val_true_positives: 58.0000\n",
            "Epoch 166/200\n",
            "44/44 [==============================] - 1s 15ms/step - loss: 0.1948 - Accuracy: 0.9339 - false_negatives: 25.0000 - false_positives: 22.0000 - true_negatives: 1022.0000 - true_positives: 323.0000 - val_loss: 1.7969 - val_Accuracy: 0.7045 - val_false_negatives: 28.0000 - val_false_positives: 24.0000 - val_true_negatives: 240.0000 - val_true_positives: 60.0000\n",
            "Epoch 167/200\n",
            "44/44 [==============================] - 1s 16ms/step - loss: 0.2712 - Accuracy: 0.9109 - false_negatives: 33.0000 - false_positives: 28.0000 - true_negatives: 1016.0000 - true_positives: 315.0000 - val_loss: 1.7887 - val_Accuracy: 0.7386 - val_false_negatives: 24.0000 - val_false_positives: 22.0000 - val_true_negatives: 242.0000 - val_true_positives: 64.0000\n",
            "Epoch 168/200\n",
            "44/44 [==============================] - 1s 15ms/step - loss: 0.3002 - Accuracy: 0.8908 - false_negatives: 41.0000 - false_positives: 34.0000 - true_negatives: 1010.0000 - true_positives: 307.0000 - val_loss: 1.9693 - val_Accuracy: 0.6136 - val_false_negatives: 35.0000 - val_false_positives: 32.0000 - val_true_negatives: 232.0000 - val_true_positives: 53.0000\n",
            "Epoch 169/200\n",
            "44/44 [==============================] - 1s 15ms/step - loss: 0.2618 - Accuracy: 0.8851 - false_negatives: 45.0000 - false_positives: 34.0000 - true_negatives: 1010.0000 - true_positives: 303.0000 - val_loss: 1.5163 - val_Accuracy: 0.6477 - val_false_negatives: 33.0000 - val_false_positives: 28.0000 - val_true_negatives: 236.0000 - val_true_positives: 55.0000\n",
            "Epoch 170/200\n",
            "44/44 [==============================] - 1s 15ms/step - loss: 0.2225 - Accuracy: 0.9109 - false_negatives: 32.0000 - false_positives: 28.0000 - true_negatives: 1016.0000 - true_positives: 316.0000 - val_loss: 1.8806 - val_Accuracy: 0.6705 - val_false_negatives: 29.0000 - val_false_positives: 26.0000 - val_true_negatives: 238.0000 - val_true_positives: 59.0000\n",
            "Epoch 171/200\n",
            "44/44 [==============================] - 1s 15ms/step - loss: 0.1800 - Accuracy: 0.9253 - false_negatives: 30.0000 - false_positives: 23.0000 - true_negatives: 1021.0000 - true_positives: 318.0000 - val_loss: 1.8043 - val_Accuracy: 0.7500 - val_false_negatives: 22.0000 - val_false_positives: 19.0000 - val_true_negatives: 245.0000 - val_true_positives: 66.0000\n",
            "Epoch 172/200\n",
            "44/44 [==============================] - 1s 15ms/step - loss: 0.1964 - Accuracy: 0.9224 - false_negatives: 31.0000 - false_positives: 25.0000 - true_negatives: 1019.0000 - true_positives: 317.0000 - val_loss: 1.7532 - val_Accuracy: 0.6932 - val_false_negatives: 27.0000 - val_false_positives: 25.0000 - val_true_negatives: 239.0000 - val_true_positives: 61.0000\n",
            "Epoch 173/200\n",
            "44/44 [==============================] - 1s 15ms/step - loss: 0.2012 - Accuracy: 0.9253 - false_negatives: 29.0000 - false_positives: 24.0000 - true_negatives: 1020.0000 - true_positives: 319.0000 - val_loss: 1.5003 - val_Accuracy: 0.7159 - val_false_negatives: 26.0000 - val_false_positives: 23.0000 - val_true_negatives: 241.0000 - val_true_positives: 62.0000\n",
            "Epoch 174/200\n",
            "44/44 [==============================] - 1s 15ms/step - loss: 0.2376 - Accuracy: 0.9224 - false_negatives: 32.0000 - false_positives: 24.0000 - true_negatives: 1020.0000 - true_positives: 316.0000 - val_loss: 2.0918 - val_Accuracy: 0.7045 - val_false_negatives: 26.0000 - val_false_positives: 25.0000 - val_true_negatives: 239.0000 - val_true_positives: 62.0000\n",
            "Epoch 175/200\n",
            "44/44 [==============================] - 1s 15ms/step - loss: 0.1924 - Accuracy: 0.9368 - false_negatives: 25.0000 - false_positives: 22.0000 - true_negatives: 1022.0000 - true_positives: 323.0000 - val_loss: 1.7981 - val_Accuracy: 0.6818 - val_false_negatives: 29.0000 - val_false_positives: 25.0000 - val_true_negatives: 239.0000 - val_true_positives: 59.0000\n",
            "Epoch 176/200\n",
            "44/44 [==============================] - 1s 15ms/step - loss: 0.2327 - Accuracy: 0.9138 - false_negatives: 34.0000 - false_positives: 28.0000 - true_negatives: 1016.0000 - true_positives: 314.0000 - val_loss: 1.5680 - val_Accuracy: 0.7273 - val_false_negatives: 25.0000 - val_false_positives: 22.0000 - val_true_negatives: 242.0000 - val_true_positives: 63.0000\n",
            "Epoch 177/200\n",
            "44/44 [==============================] - 1s 15ms/step - loss: 0.2100 - Accuracy: 0.9167 - false_negatives: 30.0000 - false_positives: 25.0000 - true_negatives: 1019.0000 - true_positives: 318.0000 - val_loss: 2.0085 - val_Accuracy: 0.6932 - val_false_negatives: 27.0000 - val_false_positives: 26.0000 - val_true_negatives: 238.0000 - val_true_positives: 61.0000\n",
            "Epoch 178/200\n",
            "44/44 [==============================] - 1s 15ms/step - loss: 0.1782 - Accuracy: 0.9195 - false_negatives: 29.0000 - false_positives: 25.0000 - true_negatives: 1019.0000 - true_positives: 319.0000 - val_loss: 1.7167 - val_Accuracy: 0.7159 - val_false_negatives: 27.0000 - val_false_positives: 23.0000 - val_true_negatives: 241.0000 - val_true_positives: 61.0000\n",
            "Epoch 179/200\n",
            "44/44 [==============================] - 1s 15ms/step - loss: 0.1637 - Accuracy: 0.9454 - false_negatives: 26.0000 - false_positives: 17.0000 - true_negatives: 1027.0000 - true_positives: 322.0000 - val_loss: 1.3968 - val_Accuracy: 0.7159 - val_false_negatives: 26.0000 - val_false_positives: 23.0000 - val_true_negatives: 241.0000 - val_true_positives: 62.0000\n",
            "Epoch 180/200\n",
            "44/44 [==============================] - 1s 15ms/step - loss: 0.2014 - Accuracy: 0.9253 - false_negatives: 28.0000 - false_positives: 24.0000 - true_negatives: 1020.0000 - true_positives: 320.0000 - val_loss: 1.6287 - val_Accuracy: 0.7159 - val_false_negatives: 25.0000 - val_false_positives: 23.0000 - val_true_negatives: 241.0000 - val_true_positives: 63.0000\n",
            "Epoch 181/200\n",
            "44/44 [==============================] - 1s 16ms/step - loss: 0.2059 - Accuracy: 0.9138 - false_negatives: 32.0000 - false_positives: 26.0000 - true_negatives: 1018.0000 - true_positives: 316.0000 - val_loss: 1.3259 - val_Accuracy: 0.6932 - val_false_negatives: 28.0000 - val_false_positives: 25.0000 - val_true_negatives: 239.0000 - val_true_positives: 60.0000\n",
            "Epoch 182/200\n",
            "44/44 [==============================] - 1s 16ms/step - loss: 0.1794 - Accuracy: 0.9368 - false_negatives: 28.0000 - false_positives: 19.0000 - true_negatives: 1025.0000 - true_positives: 320.0000 - val_loss: 2.4149 - val_Accuracy: 0.6591 - val_false_negatives: 31.0000 - val_false_positives: 29.0000 - val_true_negatives: 235.0000 - val_true_positives: 57.0000\n",
            "Epoch 183/200\n",
            "44/44 [==============================] - 1s 17ms/step - loss: 0.1780 - Accuracy: 0.9397 - false_negatives: 23.0000 - false_positives: 19.0000 - true_negatives: 1025.0000 - true_positives: 325.0000 - val_loss: 2.1346 - val_Accuracy: 0.7273 - val_false_negatives: 25.0000 - val_false_positives: 24.0000 - val_true_negatives: 240.0000 - val_true_positives: 63.0000\n",
            "Epoch 184/200\n",
            "44/44 [==============================] - 1s 16ms/step - loss: 0.1528 - Accuracy: 0.9454 - false_negatives: 22.0000 - false_positives: 17.0000 - true_negatives: 1027.0000 - true_positives: 326.0000 - val_loss: 1.7278 - val_Accuracy: 0.7614 - val_false_negatives: 22.0000 - val_false_positives: 20.0000 - val_true_negatives: 244.0000 - val_true_positives: 66.0000\n",
            "Epoch 185/200\n",
            "44/44 [==============================] - 1s 15ms/step - loss: 0.2062 - Accuracy: 0.9310 - false_negatives: 25.0000 - false_positives: 21.0000 - true_negatives: 1023.0000 - true_positives: 323.0000 - val_loss: 2.1028 - val_Accuracy: 0.7159 - val_false_negatives: 27.0000 - val_false_positives: 24.0000 - val_true_negatives: 240.0000 - val_true_positives: 61.0000\n",
            "Epoch 186/200\n",
            "44/44 [==============================] - 1s 16ms/step - loss: 0.1727 - Accuracy: 0.9397 - false_negatives: 22.0000 - false_positives: 17.0000 - true_negatives: 1027.0000 - true_positives: 326.0000 - val_loss: 1.7432 - val_Accuracy: 0.6818 - val_false_negatives: 30.0000 - val_false_positives: 25.0000 - val_true_negatives: 239.0000 - val_true_positives: 58.0000\n",
            "Epoch 187/200\n",
            "44/44 [==============================] - 1s 15ms/step - loss: 0.1959 - Accuracy: 0.9167 - false_negatives: 33.0000 - false_positives: 26.0000 - true_negatives: 1018.0000 - true_positives: 315.0000 - val_loss: 1.8962 - val_Accuracy: 0.7273 - val_false_negatives: 24.0000 - val_false_positives: 20.0000 - val_true_negatives: 244.0000 - val_true_positives: 64.0000\n",
            "Epoch 188/200\n",
            "44/44 [==============================] - 1s 16ms/step - loss: 0.2839 - Accuracy: 0.8822 - false_negatives: 44.0000 - false_positives: 33.0000 - true_negatives: 1011.0000 - true_positives: 304.0000 - val_loss: 1.2120 - val_Accuracy: 0.7841 - val_false_negatives: 21.0000 - val_false_positives: 18.0000 - val_true_negatives: 246.0000 - val_true_positives: 67.0000\n",
            "Epoch 189/200\n",
            "44/44 [==============================] - 1s 15ms/step - loss: 0.2357 - Accuracy: 0.9091 - false_negatives: 34.0000 - false_positives: 28.0000 - true_negatives: 1028.0000 - true_positives: 318.0000 - val_loss: 1.5275 - val_Accuracy: 0.7727 - val_false_negatives: 21.0000 - val_false_positives: 20.0000 - val_true_negatives: 244.0000 - val_true_positives: 67.0000\n",
            "Epoch 190/200\n",
            "44/44 [==============================] - 1s 15ms/step - loss: 0.2170 - Accuracy: 0.9167 - false_negatives: 30.0000 - false_positives: 25.0000 - true_negatives: 1019.0000 - true_positives: 318.0000 - val_loss: 2.2432 - val_Accuracy: 0.7273 - val_false_negatives: 24.0000 - val_false_positives: 21.0000 - val_true_negatives: 243.0000 - val_true_positives: 64.0000\n",
            "Epoch 191/200\n",
            "44/44 [==============================] - 1s 15ms/step - loss: 0.1885 - Accuracy: 0.9483 - false_negatives: 20.0000 - false_positives: 15.0000 - true_negatives: 1029.0000 - true_positives: 328.0000 - val_loss: 1.8488 - val_Accuracy: 0.6818 - val_false_negatives: 29.0000 - val_false_positives: 27.0000 - val_true_negatives: 237.0000 - val_true_positives: 59.0000\n",
            "Epoch 192/200\n",
            "44/44 [==============================] - 1s 16ms/step - loss: 0.1402 - Accuracy: 0.9540 - false_negatives: 19.0000 - false_positives: 13.0000 - true_negatives: 1031.0000 - true_positives: 329.0000 - val_loss: 1.7558 - val_Accuracy: 0.7386 - val_false_negatives: 27.0000 - val_false_positives: 21.0000 - val_true_negatives: 243.0000 - val_true_positives: 61.0000\n",
            "Epoch 193/200\n",
            "44/44 [==============================] - 1s 15ms/step - loss: 0.1413 - Accuracy: 0.9569 - false_negatives: 17.0000 - false_positives: 15.0000 - true_negatives: 1029.0000 - true_positives: 331.0000 - val_loss: 1.6830 - val_Accuracy: 0.6818 - val_false_negatives: 28.0000 - val_false_positives: 27.0000 - val_true_negatives: 237.0000 - val_true_positives: 60.0000\n",
            "Epoch 194/200\n",
            "44/44 [==============================] - 1s 15ms/step - loss: 0.1516 - Accuracy: 0.9540 - false_negatives: 21.0000 - false_positives: 14.0000 - true_negatives: 1030.0000 - true_positives: 327.0000 - val_loss: 2.2805 - val_Accuracy: 0.7159 - val_false_negatives: 26.0000 - val_false_positives: 24.0000 - val_true_negatives: 240.0000 - val_true_positives: 62.0000\n",
            "Epoch 195/200\n",
            "44/44 [==============================] - 1s 15ms/step - loss: 0.1763 - Accuracy: 0.9282 - false_negatives: 26.0000 - false_positives: 22.0000 - true_negatives: 1022.0000 - true_positives: 322.0000 - val_loss: 2.5843 - val_Accuracy: 0.7045 - val_false_negatives: 27.0000 - val_false_positives: 25.0000 - val_true_negatives: 239.0000 - val_true_positives: 61.0000\n",
            "Epoch 196/200\n",
            "44/44 [==============================] - 1s 15ms/step - loss: 0.1524 - Accuracy: 0.9483 - false_negatives: 21.0000 - false_positives: 17.0000 - true_negatives: 1027.0000 - true_positives: 327.0000 - val_loss: 1.9303 - val_Accuracy: 0.6932 - val_false_negatives: 27.0000 - val_false_positives: 26.0000 - val_true_negatives: 238.0000 - val_true_positives: 61.0000\n",
            "Epoch 197/200\n",
            "44/44 [==============================] - 1s 15ms/step - loss: 0.2197 - Accuracy: 0.9080 - false_negatives: 34.0000 - false_positives: 28.0000 - true_negatives: 1016.0000 - true_positives: 314.0000 - val_loss: 1.6885 - val_Accuracy: 0.6932 - val_false_negatives: 27.0000 - val_false_positives: 24.0000 - val_true_negatives: 240.0000 - val_true_positives: 61.0000\n",
            "Epoch 198/200\n",
            "44/44 [==============================] - 1s 16ms/step - loss: 0.1111 - Accuracy: 0.9626 - false_negatives: 17.0000 - false_positives: 12.0000 - true_negatives: 1032.0000 - true_positives: 331.0000 - val_loss: 1.9349 - val_Accuracy: 0.7500 - val_false_negatives: 24.0000 - val_false_positives: 21.0000 - val_true_negatives: 243.0000 - val_true_positives: 64.0000\n",
            "Epoch 199/200\n",
            "44/44 [==============================] - 1s 16ms/step - loss: 0.1445 - Accuracy: 0.9483 - false_negatives: 20.0000 - false_positives: 17.0000 - true_negatives: 1027.0000 - true_positives: 328.0000 - val_loss: 1.8013 - val_Accuracy: 0.6364 - val_false_negatives: 33.0000 - val_false_positives: 30.0000 - val_true_negatives: 234.0000 - val_true_positives: 55.0000\n",
            "Epoch 200/200\n",
            "44/44 [==============================] - 1s 16ms/step - loss: 0.1842 - Accuracy: 0.9368 - false_negatives: 23.0000 - false_positives: 21.0000 - true_negatives: 1023.0000 - true_positives: 325.0000 - val_loss: 1.8627 - val_Accuracy: 0.6591 - val_false_negatives: 30.0000 - val_false_positives: 28.0000 - val_true_negatives: 236.0000 - val_true_positives: 58.0000\n"
          ]
        }
      ]
    },
    {
      "cell_type": "markdown",
      "source": [
        "Plotting Traning Result"
      ],
      "metadata": {
        "id": "XZSFG8fXqz7c"
      }
    },
    {
      "cell_type": "code",
      "source": [
        "  #plotting\n",
        "  epochs = range(1, len(history.history['loss'])+1)\n",
        "  plt.title(f\"Grafik loss training iterasi {iterasi}\")\n",
        "  plt.plot(epochs, history.history['loss'], 'r', label='Training Loss')\n",
        "  plt.plot(epochs, history.history['val_loss'], 'b', label='Validation Loss')    \n",
        "  plt.xlabel(\"Epoch\")\n",
        "  plt.ylabel(\"Loss\")\n",
        "  plt.legend()\n",
        "  plt.show()\n"
      ],
      "metadata": {
        "id": "3dXbDrJpY1NK",
        "colab": {
          "base_uri": "https://localhost:8080/",
          "height": 295
        },
        "outputId": "83329283-26ed-4df0-9c69-40d14057f7ff"
      },
      "execution_count": 12,
      "outputs": [
        {
          "output_type": "display_data",
          "data": {
            "text/plain": [
              "<Figure size 432x288 with 1 Axes>"
            ],
            "image/png": "[encoded data removed]"
          },
          "metadata": {
            "needs_background": "light"
          }
        }
      ]
    },
    {
      "cell_type": "code",
      "source": [
        "  #plotting\n",
        "  epochs = range(1, len(history.history['loss'])+1)\n",
        "  plt.title(f\"Grafik Akurasi training iterasi {iterasi}\")\n",
        "  plt.plot(epochs, history.history['Accuracy'], 'r', label='Training Accuracy')\n",
        "  plt.plot(epochs, history.history['val_Accuracy'], 'b', label='Validation Accuracy')    \n",
        "  plt.xlabel(\"Epoch\")\n",
        "  plt.ylabel(\"Accuracy\")\n",
        "  plt.legend()\n",
        "  plt.show()"
      ],
      "metadata": {
        "id": "j3xigprPwlSX",
        "colab": {
          "base_uri": "https://localhost:8080/",
          "height": 295
        },
        "outputId": "5f96a230-ff6a-41d0-ffad-2256add5a761"
      },
      "execution_count": 13,
      "outputs": [
        {
          "output_type": "display_data",
          "data": {
            "text/plain": [
              "<Figure size 432x288 with 1 Axes>"
            ],
            "image/png": "[encoded data removed]"
          },
          "metadata": {
            "needs_background": "light"
          }
        }
      ]
    },
    {
      "cell_type": "code",
      "source": [
        "import matplotlib.pyplot as plt\n",
        "from sklearn.datasets import make_classification\n",
        "from numpy import mean\n",
        "from sklearn.metrics import confusion_matrix, ConfusionMatrixDisplay, accuracy_score, classification_report, recall_score\n",
        "\n",
        "validation = model.predict(np_image_list_validation)\n",
        "\n",
        "predicted_labels = []\n",
        "correct_labels = []\n",
        "for i in range (len(validation)):\n",
        "  predicted_labels.append(np.argmax(validation[i]))\n",
        "\n",
        "for i in range (len(image_labels_validation)):\n",
        "  correct_labels.append(np.argmax(image_labels_validation[i]))\n",
        "\n",
        "\n",
        "confusion_matrix = confusion_matrix(correct_labels, predicted_labels)\n",
        "disp = ConfusionMatrixDisplay(confusion_matrix=confusion_matrix)  \n",
        "disp.plot()\n",
        "plt.show()\n",
        "print('--------')\n",
        "FP = confusion_matrix.sum(axis=0) - np.diag(confusion_matrix)  \n",
        "FN = confusion_matrix.sum(axis=1) - np.diag(confusion_matrix)\n",
        "TP = np.diag(confusion_matrix)\n",
        "TN = confusion_matrix.sum() - (FP + FN + TP)\n",
        "\n",
        "# Sensitivity, hit rate, recall, or true positive rate\n",
        "TPR = TP/(TP+FN)\n",
        "# Specificity or true negative rate\n",
        "TNR = TN/(TN+FP) \n",
        "# Overall accuracy\n",
        "ACC = (TP+TN)/(TP+FP+FN+TN)\n",
        "\n",
        "print(TP)\n",
        "print(TN)\n",
        "print(FP)\n",
        "print(FN)\n",
        "print('--------')\n",
        "print(ACC)\n",
        "print(TPR)\n",
        "print(TNR)\n",
        "print('--------')\n",
        "\n",
        "TP = sum(TP)\n",
        "TN = sum(TN)\n",
        "FP = sum(FP)\n",
        "FN = sum(FN)\n",
        "\n",
        "# Sensitivity, hit rate, recall, or true positive rate\n",
        "TPR = TP/(TP+FN)\n",
        "# Specificity or true negative rate\n",
        "TNR = TN/(TN+FP) \n",
        "# Overall accuracy\n",
        "ACC = (TP+TN)/(TP+FP+FN+TN)\n",
        "\n",
        "print(TP)\n",
        "print(TN)\n",
        "print(FP)\n",
        "print(FN)\n",
        "print('--------')\n",
        "print(ACC)\n",
        "print(TPR)\n",
        "print(TNR)"
      ],
      "metadata": {
        "colab": {
          "base_uri": "https://localhost:8080/",
          "height": 591
        },
        "id": "y0RigLm76Rpg",
        "outputId": "ba7f209f-eba3-4540-a6a4-3b4de725406f"
      },
      "execution_count": 14,
      "outputs": [
        {
          "output_type": "display_data",
          "data": {
            "text/plain": [
              "<Figure size 432x288 with 2 Axes>"
            ],
            "image/png": "[encoded data removed]"
          },
          "metadata": {
            "needs_background": "light"
          }
        },
        {
          "output_type": "stream",
          "name": "stdout",
          "text": [
            "--------\n",
            "[ 1  3 16 38]\n",
            "[74 69 51 40]\n",
            "[ 4  6 12  8]\n",
            "[ 9 10  9  2]\n",
            "--------\n",
            "[0.85227273 0.81818182 0.76136364 0.88636364]\n",
            "[0.1        0.23076923 0.64       0.95      ]\n",
            "[0.94871795 0.92       0.80952381 0.83333333]\n",
            "--------\n",
            "58\n",
            "234\n",
            "30\n",
            "30\n",
            "--------\n",
            "0.8295454545454546\n",
            "0.6590909090909091\n",
            "0.8863636363636364\n"
          ]
        }
      ]
    },
    {
      "cell_type": "code",
      "source": [
        "import matplotlib.pyplot as plt\n",
        "from sklearn.datasets import make_classification\n",
        "from numpy import mean\n",
        "from sklearn.metrics import confusion_matrix, ConfusionMatrixDisplay, accuracy_score, classification_report, recall_score\n",
        "\n",
        "test = model.predict(np_image_list_test)\n",
        "\n",
        "predicted_labels = []\n",
        "correct_labels = []\n",
        "for i in range (len(test)):\n",
        "  predicted_labels.append(np.argmax(test[i]))\n",
        "\n",
        "for i in range (len(image_labels_test)):\n",
        "  correct_labels.append(np.argmax(image_labels_test[i]))\n",
        "\n",
        "\n",
        "confusion_matrix = confusion_matrix(correct_labels, predicted_labels)\n",
        "disp = ConfusionMatrixDisplay(confusion_matrix=confusion_matrix)  \n",
        "disp.plot()\n",
        "plt.show()\n",
        "print('--------')\n",
        "FP = confusion_matrix.sum(axis=0) - np.diag(confusion_matrix)  \n",
        "FN = confusion_matrix.sum(axis=1) - np.diag(confusion_matrix)\n",
        "TP = np.diag(confusion_matrix)\n",
        "TN = confusion_matrix.sum() - (FP + FN + TP)\n",
        "\n",
        "# Sensitivity, hit rate, recall, or true positive rate\n",
        "TPR = TP/(TP+FN)\n",
        "# Specificity or true negative rate\n",
        "TNR = TN/(TN+FP) \n",
        "# Overall accuracy\n",
        "ACC = (TP+TN)/(TP+FP+FN+TN)\n",
        "\n",
        "print(TP)\n",
        "print(TN)\n",
        "print(FP)\n",
        "print(FN)\n",
        "print('--------')\n",
        "print(ACC)\n",
        "print(TPR)\n",
        "print(TNR)\n",
        "print('--------')\n",
        "\n",
        "TP = sum(TP)\n",
        "TN = sum(TN)\n",
        "FP = sum(FP)\n",
        "FN = sum(FN)\n",
        "\n",
        "# Sensitivity, hit rate, recall, or true positive rate\n",
        "TPR = TP/(TP+FN)\n",
        "# Specificity or true negative rate\n",
        "TNR = TN/(TN+FP) \n",
        "# Overall accuracy\n",
        "ACC = (TP+TN)/(TP+FP+FN+TN)\n",
        "\n",
        "print(TP)\n",
        "print(TN)\n",
        "print(FP)\n",
        "print(FN)\n",
        "print('--------')\n",
        "print(ACC)\n",
        "print(TPR)\n",
        "print(TNR)"
      ],
      "metadata": {
        "colab": {
          "base_uri": "https://localhost:8080/",
          "height": 591
        },
        "id": "xufCN02P5v4A",
        "outputId": "941d8b9d-3b0e-4c0c-dbe0-ec2ae00ea891"
      },
      "execution_count": 15,
      "outputs": [
        {
          "output_type": "display_data",
          "data": {
            "text/plain": [
              "<Figure size 432x288 with 2 Axes>"
            ],
            "image/png": "[encoded data removed]"
          },
          "metadata": {
            "needs_background": "light"
          }
        },
        {
          "output_type": "stream",
          "name": "stdout",
          "text": [
            "--------\n",
            "[ 1  9 11 39]\n",
            "[93 83 66 38]\n",
            "[ 5 11 12 22]\n",
            "[11  7 21 11]\n",
            "--------\n",
            "[0.85454545 0.83636364 0.7        0.7       ]\n",
            "[0.08333333 0.5625     0.34375    0.78      ]\n",
            "[0.94897959 0.88297872 0.84615385 0.63333333]\n",
            "--------\n",
            "60\n",
            "280\n",
            "50\n",
            "50\n",
            "--------\n",
            "0.7727272727272727\n",
            "0.5454545454545454\n",
            "0.8484848484848485\n"
          ]
        }
      ]
    },
    {
      "cell_type": "markdown",
      "metadata": {
        "id": "bTgk1-sdzmgy"
      },
      "source": [
        "**Validating** Network"
      ]
    },
    {
      "cell_type": "code",
      "source": [
        "\n"
      ],
      "metadata": {
        "id": "d_NBE4KkWuhu"
      },
      "execution_count": 15,
      "outputs": []
    },
    {
      "cell_type": "markdown",
      "source": [
        "**Testing** Network"
      ],
      "metadata": {
        "id": "saJYjKqX9tRL"
      }
    },
    {
      "cell_type": "code",
      "source": [
        "\n"
      ],
      "metadata": {
        "id": "A7DR52hmTc75"
      },
      "execution_count": 15,
      "outputs": []
    },
    {
      "cell_type": "code",
      "source": [
        "test_img = cv2.imread('/content/Datasets/fold2/Test/apel_sehat/apel_sehat (1).jpg')\n",
        "\n",
        "plt.imshow(test_img)\n",
        "test_img = test_img / 255\n",
        "test_img = np.expand_dims(test_img, axis=0)\n",
        "pr=model.predict(test_img)\n",
        "\n",
        "print(pr)\n",
        "output = label_binarizer.inverse_transform(pr)\n",
        "print(output)"
      ],
      "metadata": {
        "colab": {
          "base_uri": "https://localhost:8080/",
          "height": 303
        },
        "id": "zkMI6CwJArvo",
        "outputId": "0e1a3034-80e7-4bad-bd7c-4aa476d96778"
      },
      "execution_count": 17,
      "outputs": [
        {
          "output_type": "stream",
          "name": "stdout",
          "text": [
            "[[8.1686506e-09 2.0741491e-04 7.3357136e-04 9.9905902e-01]]\n",
            "['apel_sehat']\n"
          ]
        },
        {
          "output_type": "display_data",
          "data": {
            "text/plain": [
              "<Figure size 432x288 with 1 Axes>"
            ],
            "image/png": "[encoded data removed]"
          },
          "metadata": {
            "needs_background": "light"
          }
        }
      ]
    },
    {
      "cell_type": "code",
      "source": [
        "# save the model to disk\n",
        "#print(\"[INFO] Saving model...\")\n",
        "#pickle.dump(model,open('cnn_model.pkl', 'wb'))\n",
        "#model.save('/content/fold1.h5')"
      ],
      "metadata": {
        "id": "Wr_b8qBuCAIS"
      },
      "execution_count": null,
      "outputs": []
    }
  ]
}