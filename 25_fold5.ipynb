{
  "nbformat": 4,
  "nbformat_minor": 0,
  "metadata": {
    "accelerator": "GPU",
    "colab": {
      "name": "Kodingan Skripsi 3",
      "provenance": [],
      "collapsed_sections": [],
      "include_colab_link": true
    },
    "kernelspec": {
      "display_name": "Python 3",
      "language": "python",
      "name": "python3"
    },
    "language_info": {
      "codemirror_mode": {
        "name": "ipython",
        "version": 3
      },
      "file_extension": ".py",
      "mimetype": "text/x-python",
      "name": "python",
      "nbconvert_exporter": "python",
      "pygments_lexer": "ipython3",
      "version": "3.6.6"
    }
  },
  "cells": [
    {
      "cell_type": "markdown",
      "metadata": {
        "id": "view-in-github",
        "colab_type": "text"
      },
      "source": [
        "<a href=\"https://colab.research.google.com/github/TaufiqIdrus/Python-Projects/blob/master/25_fold5.ipynb\" target=\"_parent\"><img src=\"https://colab.research.google.com/assets/colab-badge.svg\" alt=\"Open In Colab\"/></a>"
      ]
    },
    {
      "cell_type": "markdown",
      "metadata": {
        "id": "yJT_kQA2lITS"
      },
      "source": [
        "**Identifikasi Penyakit Pada Tanaman Apel menggunakan Convolutional Neural Network**"
      ]
    },
    {
      "cell_type": "code",
      "metadata": {
        "id": "xXeOaYTUzmgT"
      },
      "source": [
        "import numpy as np\n",
        "import pickle\n",
        "import os\n",
        "import cv2\n",
        "import tensorflow as tf\n",
        "import keras\n",
        "from os import listdir\n",
        "from sklearn.preprocessing import LabelBinarizer\n",
        "from keras.models import Sequential\n",
        "from keras.layers.convolutional import Conv2D\n",
        "from keras.layers.convolutional import MaxPooling2D\n",
        "from keras.layers.core import Activation, Flatten, Dropout, Dense\n",
        "from keras import backend as K\n",
        "from tensorflow.keras.optimizers import Adam\n",
        "from keras.preprocessing import image\n",
        "import matplotlib.pyplot as plt\n",
        "from sklearn.datasets import make_classification\n",
        "from numpy import mean\n"
      ],
      "execution_count": 1,
      "outputs": []
    },
    {
      "cell_type": "markdown",
      "metadata": {
        "id": "fp8C0d28lQok"
      },
      "source": [
        "Importing and Preparing Dataset"
      ]
    },
    {
      "cell_type": "code",
      "metadata": {
        "id": "_0xehllADlUs",
        "colab": {
          "base_uri": "https://localhost:8080/"
        },
        "outputId": "78c250cf-2a17-4fa0-c131-6377fa9eb1ed"
      },
      "source": [
        "!pip install pyunpack\n",
        "!pip install patool\n",
        "from pyunpack import Archive\n",
        "Archive('/content/fold5.rar').extractall('/content/Datasets/')\n",
        "iterasi = 5\n",
        "width=60\n",
        "height=60\n",
        "default_image_size = tuple((height, width))\n",
        "directory_root_train = '/content/Datasets/fold5/Train'\n",
        "directory_root_validation = '/content/Datasets/fold5/Validation'\n",
        "directory_root_test = '/content/Datasets/fold5/Test'\n",
        "image_size = 0\n",
        "depth=3"
      ],
      "execution_count": 2,
      "outputs": [
        {
          "output_type": "stream",
          "name": "stdout",
          "text": [
            "Looking in indexes: https://pypi.org/simple, https://us-python.pkg.dev/colab-wheels/public/simple/\n",
            "Collecting pyunpack\n",
            "  Downloading pyunpack-0.3-py2.py3-none-any.whl (4.1 kB)\n",
            "Collecting easyprocess\n",
            "  Downloading EasyProcess-1.1-py3-none-any.whl (8.7 kB)\n",
            "Collecting entrypoint2\n",
            "  Downloading entrypoint2-1.1-py2.py3-none-any.whl (9.9 kB)\n",
            "Installing collected packages: entrypoint2, easyprocess, pyunpack\n",
            "Successfully installed easyprocess-1.1 entrypoint2-1.1 pyunpack-0.3\n",
            "Looking in indexes: https://pypi.org/simple, https://us-python.pkg.dev/colab-wheels/public/simple/\n",
            "Collecting patool\n",
            "  Downloading patool-1.12-py2.py3-none-any.whl (77 kB)\n",
            "\u001b[K     |████████████████████████████████| 77 kB 6.2 MB/s \n",
            "\u001b[?25hInstalling collected packages: patool\n",
            "Successfully installed patool-1.12\n"
          ]
        }
      ]
    },
    {
      "cell_type": "code",
      "metadata": {
        "id": "KbAwJJTpzmge"
      },
      "source": [
        "def convert_image_to_array(image_dir):\n",
        "    try:\n",
        "        image = cv2.imread(image_dir)\n",
        "        if image is not None :\n",
        "            image = cv2.resize(image, default_image_size)   \n",
        "            return keras.preprocessing.image.img_to_array(image)\n",
        "        else :\n",
        "            return np.array([])\n",
        "    except Exception as e:\n",
        "        print(f\"Error : {e}\")\n",
        "        return None"
      ],
      "execution_count": 3,
      "outputs": []
    },
    {
      "cell_type": "markdown",
      "source": [
        "Converting **Training** Data to Array"
      ],
      "metadata": {
        "id": "bgXxUMO2cI_D"
      }
    },
    {
      "cell_type": "code",
      "metadata": {
        "id": "Erz6IjKXzmgg",
        "colab": {
          "base_uri": "https://localhost:8080/"
        },
        "outputId": "34890cbe-8c26-4fef-9b05-bedc451ec556"
      },
      "source": [
        "image_list_train, label_list_train = [], []\n",
        "try:\n",
        "    print(\"[INFO] Loading images ...\")\n",
        "    root_dir = listdir(directory_root_train)\n",
        "\n",
        "    for plant_disease_folder in root_dir:\n",
        "        print(f\"[INFO] Processing {plant_disease_folder} ...\")\n",
        "        plant_disease_image_list = listdir(f\"{directory_root_train}/{plant_disease_folder}/\")\n",
        "      \n",
        "        for image in plant_disease_image_list:\n",
        "            image_directory = f\"{directory_root_train}/{plant_disease_folder}/{image}\"\n",
        "\n",
        "            if image_directory.endswith(\".jpg\") == True or image_directory.endswith(\".JPG\") == True:\n",
        "                image_list_train.append(convert_image_to_array(image_directory))\n",
        "                label_list_train.append(plant_disease_folder)\n",
        "    print(\"[INFO] Image loading completed\")\n",
        "\n",
        "except Exception as e:\n",
        "    print(f\"Error : {e}\")\n",
        "\n",
        "#image labeling\n",
        "image_size = len(image_list_train)\n",
        "label_binarizer = LabelBinarizer()\n",
        "image_labels_train = label_binarizer.fit_transform(label_list_train)\n",
        "pickle.dump(label_binarizer,open('label_transform_train.pkl', 'wb'))\n",
        "n_classes = len(label_binarizer.classes_)\n",
        "np_image_list_train = np.array(image_list_train, dtype=np.float16) / 255.0"
      ],
      "execution_count": 4,
      "outputs": [
        {
          "output_type": "stream",
          "name": "stdout",
          "text": [
            "[INFO] Loading images ...\n",
            "[INFO] Processing apel_sehat ...\n",
            "[INFO] Processing apel_bercak_daun ...\n",
            "[INFO] Processing apel_cacar_daun ...\n",
            "[INFO] Processing apel_busuk_buah ...\n",
            "[INFO] Image loading completed\n"
          ]
        }
      ]
    },
    {
      "cell_type": "markdown",
      "source": [
        "Converting **Validation** Data to Array"
      ],
      "metadata": {
        "id": "7eEMGiqRd_E4"
      }
    },
    {
      "cell_type": "code",
      "source": [
        "image_list_validation, label_list_validation = [], []\n",
        "try:\n",
        "    print(\"[INFO] Loading images ...\")\n",
        "    root_dir = listdir(directory_root_validation)\n",
        "\n",
        "    for plant_disease_folder in root_dir:\n",
        "        print(f\"[INFO] Processing {plant_disease_folder} ...\")\n",
        "        plant_disease_image_list = listdir(f\"{directory_root_validation}/{plant_disease_folder}/\")\n",
        "      \n",
        "        for image in plant_disease_image_list:\n",
        "            image_directory = f\"{directory_root_validation}/{plant_disease_folder}/{image}\"\n",
        "\n",
        "            if image_directory.endswith(\".jpg\") == True or image_directory.endswith(\".JPG\") == True:\n",
        "                image_list_validation.append(convert_image_to_array(image_directory))\n",
        "                label_list_validation.append(plant_disease_folder)\n",
        "    print(\"[INFO] Image loading completed\")\n",
        "\n",
        "except Exception as e:\n",
        "    print(f\"Error : {e}\")\n",
        "\n",
        "#image labeling\n",
        "image_size = len(image_list_validation)\n",
        "label_binarizer = LabelBinarizer()\n",
        "image_labels_validation = label_binarizer.fit_transform(label_list_validation)\n",
        "pickle.dump(label_binarizer,open('label_transform_validation.pkl', 'wb'))\n",
        "n_classes = len(label_binarizer.classes_)\n",
        "np_image_list_validation = np.array(image_list_validation, dtype=np.float16) / 255.0"
      ],
      "metadata": {
        "id": "wfHDdR0ZeEuU",
        "colab": {
          "base_uri": "https://localhost:8080/"
        },
        "outputId": "75235cba-69d3-4c4c-92c2-67e54aae7ed8"
      },
      "execution_count": 5,
      "outputs": [
        {
          "output_type": "stream",
          "name": "stdout",
          "text": [
            "[INFO] Loading images ...\n",
            "[INFO] Processing apel_sehat ...\n",
            "[INFO] Processing apel_bercak_daun ...\n",
            "[INFO] Processing apel_cacar_daun ...\n",
            "[INFO] Processing apel_busuk_buah ...\n",
            "[INFO] Image loading completed\n"
          ]
        }
      ]
    },
    {
      "cell_type": "markdown",
      "source": [
        "Converting **Testing** Data to Array"
      ],
      "metadata": {
        "id": "brwWyZVncTdg"
      }
    },
    {
      "cell_type": "code",
      "metadata": {
        "id": "uNPby5UMcaWY",
        "colab": {
          "base_uri": "https://localhost:8080/"
        },
        "outputId": "5f68dcd8-3a5c-4e9c-b2d8-765e9dab93eb"
      },
      "source": [
        "image_list_test, label_list_test = [], []\n",
        "try:\n",
        "    print(\"[INFO] Loading images ...\")\n",
        "    root_dir = listdir(directory_root_test)\n",
        "\n",
        "    for plant_disease_folder in root_dir:\n",
        "        print(f\"[INFO] Processing {plant_disease_folder} ...\")\n",
        "        plant_disease_image_list = listdir(f\"{directory_root_test}/{plant_disease_folder}/\")\n",
        "      \n",
        "        for image in plant_disease_image_list:\n",
        "            image_directory = f\"{directory_root_test}/{plant_disease_folder}/{image}\"\n",
        "\n",
        "            if image_directory.endswith(\".jpg\") == True or image_directory.endswith(\".JPG\") == True:\n",
        "                image_list_test.append(convert_image_to_array(image_directory))\n",
        "                label_list_test.append(plant_disease_folder)\n",
        "    print(\"[INFO] Image loading completed\")\n",
        "\n",
        "except Exception as e:\n",
        "    print(f\"Error : {e}\")\n",
        "\n",
        "#image labeling\n",
        "image_size = len(image_list_test)\n",
        "label_binarizer = LabelBinarizer()\n",
        "image_labels_test = label_binarizer.fit_transform(label_list_test)\n",
        "pickle.dump(label_binarizer,open('label_transform_test.pkl', 'wb'))\n",
        "n_classes = len(label_binarizer.classes_)\n",
        "np_image_list_test = np.array(image_list_test, dtype=np.float16) / 255.0"
      ],
      "execution_count": 6,
      "outputs": [
        {
          "output_type": "stream",
          "name": "stdout",
          "text": [
            "[INFO] Loading images ...\n",
            "[INFO] Processing apel_sehat ...\n",
            "[INFO] Processing apel_bercak_daun ...\n",
            "[INFO] Processing apel_cacar_daun ...\n",
            "[INFO] Processing apel_busuk_buah ...\n",
            "[INFO] Image loading completed\n"
          ]
        }
      ]
    },
    {
      "cell_type": "markdown",
      "metadata": {
        "id": "jYBTFN0CnAi7"
      },
      "source": [
        "Data Augmenting Initialization"
      ]
    },
    {
      "cell_type": "code",
      "metadata": {
        "id": "TLMxMK2Tzmgr"
      },
      "source": [
        "aug = keras.preprocessing.image.ImageDataGenerator(\n",
        "    rotation_range=25, \n",
        "    width_shift_range=0.1,\n",
        "    height_shift_range=0.1, \n",
        "    shear_range=0.2, \n",
        "    zoom_range=0.2,\n",
        "    horizontal_flip=True, \n",
        "    fill_mode=\"nearest\")"
      ],
      "execution_count": 7,
      "outputs": []
    },
    {
      "cell_type": "markdown",
      "metadata": {
        "id": "H1BfRyYNnGv_"
      },
      "source": [
        "Creating CNN Model"
      ]
    },
    {
      "cell_type": "code",
      "metadata": {
        "id": "WmLX4wm8zmgs"
      },
      "source": [
        "model = keras.models.Sequential()\n",
        "inputShape = (height, width, depth)\n",
        "\n",
        "model.add(Conv2D(20, (5, 5), padding=\"same\",input_shape=inputShape))\n",
        "model.add(Activation(\"relu\"))\n",
        "\n",
        "model.add(MaxPooling2D(pool_size=(2, 2), strides=2))\n",
        "\n",
        "model.add(Conv2D(50, (5, 5), padding=\"same\"))\n",
        "model.add(Activation(\"relu\"))\n",
        "\n",
        "model.add(MaxPooling2D(pool_size=(2, 2),strides=2))\n",
        "\n",
        "model.add(Flatten())\n",
        "\n",
        "model.add(Dense(500))\n",
        "model.add(Activation(\"relu\"))\n",
        "\n",
        "model.add(Dense(4))\n",
        "model.add(Activation(\"softmax\"))"
      ],
      "execution_count": 8,
      "outputs": []
    },
    {
      "cell_type": "code",
      "source": [
        "#model.summary()"
      ],
      "metadata": {
        "id": "RQIgaph8hW06"
      },
      "execution_count": 9,
      "outputs": []
    },
    {
      "cell_type": "code",
      "source": [
        "#from PIL import Image\n",
        "#from keras.utils.vis_utils import plot_model\n",
        "#plot_model(model, to_file='cnn_model.png', show_shapes=True, show_layer_names=True)\n",
        "#display(Image.open('cnn_model.png'))"
      ],
      "metadata": {
        "id": "T05gPuu1GudW"
      },
      "execution_count": 10,
      "outputs": []
    },
    {
      "cell_type": "markdown",
      "metadata": {
        "id": "Zfsu3lVfnXFG"
      },
      "source": [
        "**Training** Network"
      ]
    },
    {
      "cell_type": "code",
      "metadata": {
        "id": "rvwKwe3Lzmgv",
        "colab": {
          "base_uri": "https://localhost:8080/"
        },
        "outputId": "4fe25fc5-f732-4561-ca69-f105603649d0"
      },
      "source": [
        "EPOCHS = 200\n",
        "INIT_LR = 1e-3\n",
        "BS = 8\n",
        "\n",
        "with tf.device('/GPU:0'):\n",
        "  opt = Adam(learning_rate=INIT_LR, decay=INIT_LR / EPOCHS)\n",
        "  model.compile(loss=\"categorical_crossentropy\", optimizer=opt,metrics=[\"Accuracy\", \"FalseNegatives\", \"FalsePositives\", \"TrueNegatives\", \"TruePositives\"])\n",
        "  \n",
        "  history = model.fit(\n",
        "      aug.flow(np_image_list_train, image_labels_train, batch_size=BS),\n",
        "      validation_data=(np_image_list_validation, image_labels_validation),\n",
        "      steps_per_epoch=len(np_image_list_train) // BS,\n",
        "      epochs=EPOCHS, \n",
        "      verbose=1,\n",
        "      )\n"
      ],
      "execution_count": 11,
      "outputs": [
        {
          "output_type": "stream",
          "name": "stdout",
          "text": [
            "Epoch 1/200\n",
            "44/44 [==============================] - 16s 48ms/step - loss: 1.3814 - Accuracy: 0.4403 - false_negatives: 291.0000 - false_positives: 57.0000 - true_negatives: 999.0000 - true_positives: 61.0000 - val_loss: 1.7923 - val_Accuracy: 0.4348 - val_false_negatives: 52.0000 - val_false_positives: 52.0000 - val_true_negatives: 224.0000 - val_true_positives: 40.0000\n",
            "Epoch 2/200\n",
            "44/44 [==============================] - 1s 15ms/step - loss: 1.1945 - Accuracy: 0.4688 - false_negatives: 267.0000 - false_positives: 47.0000 - true_negatives: 1009.0000 - true_positives: 85.0000 - val_loss: 1.1061 - val_Accuracy: 0.4891 - val_false_negatives: 57.0000 - val_false_positives: 20.0000 - val_true_negatives: 256.0000 - val_true_positives: 35.0000\n",
            "Epoch 3/200\n",
            "44/44 [==============================] - 1s 16ms/step - loss: 1.0716 - Accuracy: 0.5881 - false_negatives: 238.0000 - false_positives: 43.0000 - true_negatives: 1013.0000 - true_positives: 114.0000 - val_loss: 1.1098 - val_Accuracy: 0.4783 - val_false_negatives: 56.0000 - val_false_positives: 22.0000 - val_true_negatives: 254.0000 - val_true_positives: 36.0000\n",
            "Epoch 4/200\n",
            "44/44 [==============================] - 1s 15ms/step - loss: 0.9681 - Accuracy: 0.6278 - false_negatives: 192.0000 - false_positives: 63.0000 - true_negatives: 993.0000 - true_positives: 160.0000 - val_loss: 0.9470 - val_Accuracy: 0.6196 - val_false_negatives: 56.0000 - val_false_positives: 9.0000 - val_true_negatives: 267.0000 - val_true_positives: 36.0000\n",
            "Epoch 5/200\n",
            "44/44 [==============================] - 1s 14ms/step - loss: 0.9607 - Accuracy: 0.6165 - false_negatives: 219.0000 - false_positives: 45.0000 - true_negatives: 1011.0000 - true_positives: 133.0000 - val_loss: 0.9798 - val_Accuracy: 0.5652 - val_false_negatives: 45.0000 - val_false_positives: 22.0000 - val_true_negatives: 254.0000 - val_true_positives: 47.0000\n",
            "Epoch 6/200\n",
            "44/44 [==============================] - 1s 14ms/step - loss: 0.9506 - Accuracy: 0.6307 - false_negatives: 203.0000 - false_positives: 55.0000 - true_negatives: 1001.0000 - true_positives: 149.0000 - val_loss: 0.9294 - val_Accuracy: 0.6848 - val_false_negatives: 58.0000 - val_false_positives: 3.0000 - val_true_negatives: 273.0000 - val_true_positives: 34.0000\n",
            "Epoch 7/200\n",
            "44/44 [==============================] - 1s 14ms/step - loss: 0.9193 - Accuracy: 0.6562 - false_negatives: 190.0000 - false_positives: 49.0000 - true_negatives: 1007.0000 - true_positives: 162.0000 - val_loss: 0.9829 - val_Accuracy: 0.6413 - val_false_negatives: 65.0000 - val_false_positives: 2.0000 - val_true_negatives: 274.0000 - val_true_positives: 27.0000\n",
            "Epoch 8/200\n",
            "44/44 [==============================] - 1s 14ms/step - loss: 0.9141 - Accuracy: 0.6648 - false_negatives: 184.0000 - false_positives: 55.0000 - true_negatives: 1001.0000 - true_positives: 168.0000 - val_loss: 1.0096 - val_Accuracy: 0.6304 - val_false_negatives: 56.0000 - val_false_positives: 7.0000 - val_true_negatives: 269.0000 - val_true_positives: 36.0000\n",
            "Epoch 9/200\n",
            "44/44 [==============================] - 1s 14ms/step - loss: 0.8958 - Accuracy: 0.6705 - false_negatives: 176.0000 - false_positives: 61.0000 - true_negatives: 995.0000 - true_positives: 176.0000 - val_loss: 0.9578 - val_Accuracy: 0.6196 - val_false_negatives: 50.0000 - val_false_positives: 10.0000 - val_true_negatives: 266.0000 - val_true_positives: 42.0000\n",
            "Epoch 10/200\n",
            "44/44 [==============================] - 1s 14ms/step - loss: 0.9275 - Accuracy: 0.6534 - false_negatives: 174.0000 - false_positives: 59.0000 - true_negatives: 997.0000 - true_positives: 178.0000 - val_loss: 0.9564 - val_Accuracy: 0.6196 - val_false_negatives: 47.0000 - val_false_positives: 17.0000 - val_true_negatives: 259.0000 - val_true_positives: 45.0000\n",
            "Epoch 11/200\n",
            "44/44 [==============================] - 1s 14ms/step - loss: 0.8777 - Accuracy: 0.6733 - false_negatives: 167.0000 - false_positives: 53.0000 - true_negatives: 1003.0000 - true_positives: 185.0000 - val_loss: 1.0956 - val_Accuracy: 0.6413 - val_false_negatives: 50.0000 - val_false_positives: 12.0000 - val_true_negatives: 264.0000 - val_true_positives: 42.0000\n",
            "Epoch 12/200\n",
            "44/44 [==============================] - 1s 14ms/step - loss: 0.8227 - Accuracy: 0.6733 - false_negatives: 152.0000 - false_positives: 68.0000 - true_negatives: 988.0000 - true_positives: 200.0000 - val_loss: 1.0004 - val_Accuracy: 0.6413 - val_false_negatives: 36.0000 - val_false_positives: 24.0000 - val_true_negatives: 252.0000 - val_true_positives: 56.0000\n",
            "Epoch 13/200\n",
            "44/44 [==============================] - 1s 14ms/step - loss: 0.8297 - Accuracy: 0.6989 - false_negatives: 153.0000 - false_positives: 62.0000 - true_negatives: 994.0000 - true_positives: 199.0000 - val_loss: 0.9118 - val_Accuracy: 0.6087 - val_false_negatives: 49.0000 - val_false_positives: 14.0000 - val_true_negatives: 262.0000 - val_true_positives: 43.0000\n",
            "Epoch 14/200\n",
            "44/44 [==============================] - 1s 14ms/step - loss: 0.8610 - Accuracy: 0.6761 - false_negatives: 149.0000 - false_positives: 67.0000 - true_negatives: 989.0000 - true_positives: 203.0000 - val_loss: 0.9000 - val_Accuracy: 0.6630 - val_false_negatives: 37.0000 - val_false_positives: 19.0000 - val_true_negatives: 257.0000 - val_true_positives: 55.0000\n",
            "Epoch 15/200\n",
            "44/44 [==============================] - 1s 14ms/step - loss: 0.7688 - Accuracy: 0.7301 - false_negatives: 123.0000 - false_positives: 70.0000 - true_negatives: 986.0000 - true_positives: 229.0000 - val_loss: 1.0220 - val_Accuracy: 0.6087 - val_false_negatives: 42.0000 - val_false_positives: 22.0000 - val_true_negatives: 254.0000 - val_true_positives: 50.0000\n",
            "Epoch 16/200\n",
            "44/44 [==============================] - 1s 14ms/step - loss: 0.7807 - Accuracy: 0.7045 - false_negatives: 129.0000 - false_positives: 72.0000 - true_negatives: 984.0000 - true_positives: 223.0000 - val_loss: 0.8543 - val_Accuracy: 0.6630 - val_false_negatives: 40.0000 - val_false_positives: 17.0000 - val_true_negatives: 259.0000 - val_true_positives: 52.0000\n",
            "Epoch 17/200\n",
            "44/44 [==============================] - 1s 15ms/step - loss: 0.8409 - Accuracy: 0.6960 - false_negatives: 140.0000 - false_positives: 70.0000 - true_negatives: 986.0000 - true_positives: 212.0000 - val_loss: 0.8536 - val_Accuracy: 0.6413 - val_false_negatives: 39.0000 - val_false_positives: 16.0000 - val_true_negatives: 260.0000 - val_true_positives: 53.0000\n",
            "Epoch 18/200\n",
            "44/44 [==============================] - 1s 15ms/step - loss: 0.7517 - Accuracy: 0.7386 - false_negatives: 115.0000 - false_positives: 62.0000 - true_negatives: 994.0000 - true_positives: 237.0000 - val_loss: 0.9993 - val_Accuracy: 0.5870 - val_false_negatives: 45.0000 - val_false_positives: 26.0000 - val_true_negatives: 250.0000 - val_true_positives: 47.0000\n",
            "Epoch 19/200\n",
            "44/44 [==============================] - 1s 14ms/step - loss: 0.7569 - Accuracy: 0.7216 - false_negatives: 117.0000 - false_positives: 65.0000 - true_negatives: 991.0000 - true_positives: 235.0000 - val_loss: 0.9707 - val_Accuracy: 0.6522 - val_false_negatives: 36.0000 - val_false_positives: 26.0000 - val_true_negatives: 250.0000 - val_true_positives: 56.0000\n",
            "Epoch 20/200\n",
            "44/44 [==============================] - 1s 14ms/step - loss: 0.7189 - Accuracy: 0.7244 - false_negatives: 115.0000 - false_positives: 65.0000 - true_negatives: 991.0000 - true_positives: 237.0000 - val_loss: 1.0405 - val_Accuracy: 0.6522 - val_false_negatives: 36.0000 - val_false_positives: 27.0000 - val_true_negatives: 249.0000 - val_true_positives: 56.0000\n",
            "Epoch 21/200\n",
            "44/44 [==============================] - 1s 14ms/step - loss: 0.7126 - Accuracy: 0.7301 - false_negatives: 116.0000 - false_positives: 65.0000 - true_negatives: 991.0000 - true_positives: 236.0000 - val_loss: 1.2244 - val_Accuracy: 0.5652 - val_false_negatives: 43.0000 - val_false_positives: 31.0000 - val_true_negatives: 245.0000 - val_true_positives: 49.0000\n",
            "Epoch 22/200\n",
            "44/44 [==============================] - 1s 14ms/step - loss: 0.7384 - Accuracy: 0.7500 - false_negatives: 114.0000 - false_positives: 57.0000 - true_negatives: 999.0000 - true_positives: 238.0000 - val_loss: 1.2776 - val_Accuracy: 0.5870 - val_false_negatives: 40.0000 - val_false_positives: 33.0000 - val_true_negatives: 243.0000 - val_true_positives: 52.0000\n",
            "Epoch 23/200\n",
            "44/44 [==============================] - 1s 14ms/step - loss: 0.7837 - Accuracy: 0.6960 - false_negatives: 129.0000 - false_positives: 66.0000 - true_negatives: 990.0000 - true_positives: 223.0000 - val_loss: 0.9879 - val_Accuracy: 0.6413 - val_false_negatives: 43.0000 - val_false_positives: 24.0000 - val_true_negatives: 252.0000 - val_true_positives: 49.0000\n",
            "Epoch 24/200\n",
            "44/44 [==============================] - 1s 14ms/step - loss: 0.7469 - Accuracy: 0.7216 - false_negatives: 118.0000 - false_positives: 63.0000 - true_negatives: 993.0000 - true_positives: 234.0000 - val_loss: 0.9912 - val_Accuracy: 0.5761 - val_false_negatives: 42.0000 - val_false_positives: 33.0000 - val_true_negatives: 243.0000 - val_true_positives: 50.0000\n",
            "Epoch 25/200\n",
            "44/44 [==============================] - 1s 14ms/step - loss: 0.6956 - Accuracy: 0.7443 - false_negatives: 109.0000 - false_positives: 68.0000 - true_negatives: 988.0000 - true_positives: 243.0000 - val_loss: 1.1512 - val_Accuracy: 0.6087 - val_false_negatives: 38.0000 - val_false_positives: 31.0000 - val_true_negatives: 245.0000 - val_true_positives: 54.0000\n",
            "Epoch 26/200\n",
            "44/44 [==============================] - 1s 14ms/step - loss: 0.6947 - Accuracy: 0.7528 - false_negatives: 111.0000 - false_positives: 60.0000 - true_negatives: 996.0000 - true_positives: 241.0000 - val_loss: 1.0857 - val_Accuracy: 0.6087 - val_false_negatives: 39.0000 - val_false_positives: 30.0000 - val_true_negatives: 246.0000 - val_true_positives: 53.0000\n",
            "Epoch 27/200\n",
            "44/44 [==============================] - 1s 14ms/step - loss: 0.6817 - Accuracy: 0.7500 - false_negatives: 104.0000 - false_positives: 60.0000 - true_negatives: 996.0000 - true_positives: 248.0000 - val_loss: 1.1291 - val_Accuracy: 0.5435 - val_false_negatives: 46.0000 - val_false_positives: 31.0000 - val_true_negatives: 245.0000 - val_true_positives: 46.0000\n",
            "Epoch 28/200\n",
            "44/44 [==============================] - 1s 14ms/step - loss: 0.6781 - Accuracy: 0.7528 - false_negatives: 104.0000 - false_positives: 60.0000 - true_negatives: 996.0000 - true_positives: 248.0000 - val_loss: 0.9388 - val_Accuracy: 0.6413 - val_false_negatives: 38.0000 - val_false_positives: 25.0000 - val_true_negatives: 251.0000 - val_true_positives: 54.0000\n",
            "Epoch 29/200\n",
            "44/44 [==============================] - 1s 15ms/step - loss: 0.7226 - Accuracy: 0.7642 - false_negatives: 106.0000 - false_positives: 65.0000 - true_negatives: 991.0000 - true_positives: 246.0000 - val_loss: 1.0771 - val_Accuracy: 0.5217 - val_false_negatives: 47.0000 - val_false_positives: 35.0000 - val_true_negatives: 241.0000 - val_true_positives: 45.0000\n",
            "Epoch 30/200\n",
            "44/44 [==============================] - 1s 14ms/step - loss: 0.7779 - Accuracy: 0.7131 - false_negatives: 125.0000 - false_positives: 72.0000 - true_negatives: 984.0000 - true_positives: 227.0000 - val_loss: 0.8203 - val_Accuracy: 0.6739 - val_false_negatives: 37.0000 - val_false_positives: 19.0000 - val_true_negatives: 257.0000 - val_true_positives: 55.0000\n",
            "Epoch 31/200\n",
            "44/44 [==============================] - 1s 14ms/step - loss: 0.6677 - Accuracy: 0.7699 - false_negatives: 104.0000 - false_positives: 59.0000 - true_negatives: 997.0000 - true_positives: 248.0000 - val_loss: 1.0103 - val_Accuracy: 0.5761 - val_false_negatives: 43.0000 - val_false_positives: 33.0000 - val_true_negatives: 243.0000 - val_true_positives: 49.0000\n",
            "Epoch 32/200\n",
            "44/44 [==============================] - 1s 14ms/step - loss: 0.7051 - Accuracy: 0.7500 - false_negatives: 115.0000 - false_positives: 61.0000 - true_negatives: 995.0000 - true_positives: 237.0000 - val_loss: 0.8391 - val_Accuracy: 0.6739 - val_false_negatives: 40.0000 - val_false_positives: 16.0000 - val_true_negatives: 260.0000 - val_true_positives: 52.0000\n",
            "Epoch 33/200\n",
            "44/44 [==============================] - 1s 15ms/step - loss: 0.7194 - Accuracy: 0.7528 - false_negatives: 112.0000 - false_positives: 63.0000 - true_negatives: 993.0000 - true_positives: 240.0000 - val_loss: 0.8700 - val_Accuracy: 0.6522 - val_false_negatives: 33.0000 - val_false_positives: 25.0000 - val_true_negatives: 251.0000 - val_true_positives: 59.0000\n",
            "Epoch 34/200\n",
            "44/44 [==============================] - 1s 14ms/step - loss: 0.6713 - Accuracy: 0.7642 - false_negatives: 103.0000 - false_positives: 64.0000 - true_negatives: 992.0000 - true_positives: 249.0000 - val_loss: 1.1004 - val_Accuracy: 0.5978 - val_false_negatives: 38.0000 - val_false_positives: 34.0000 - val_true_negatives: 242.0000 - val_true_positives: 54.0000\n",
            "Epoch 35/200\n",
            "44/44 [==============================] - 1s 14ms/step - loss: 0.7006 - Accuracy: 0.7528 - false_negatives: 108.0000 - false_positives: 65.0000 - true_negatives: 991.0000 - true_positives: 244.0000 - val_loss: 1.0016 - val_Accuracy: 0.5978 - val_false_negatives: 38.0000 - val_false_positives: 31.0000 - val_true_negatives: 245.0000 - val_true_positives: 54.0000\n",
            "Epoch 36/200\n",
            "44/44 [==============================] - 1s 14ms/step - loss: 0.6475 - Accuracy: 0.7699 - false_negatives: 95.0000 - false_positives: 60.0000 - true_negatives: 996.0000 - true_positives: 257.0000 - val_loss: 0.8457 - val_Accuracy: 0.6087 - val_false_negatives: 40.0000 - val_false_positives: 28.0000 - val_true_negatives: 248.0000 - val_true_positives: 52.0000\n",
            "Epoch 37/200\n",
            "44/44 [==============================] - 1s 14ms/step - loss: 0.6381 - Accuracy: 0.7557 - false_negatives: 101.0000 - false_positives: 57.0000 - true_negatives: 999.0000 - true_positives: 251.0000 - val_loss: 0.9832 - val_Accuracy: 0.6196 - val_false_negatives: 39.0000 - val_false_positives: 31.0000 - val_true_negatives: 245.0000 - val_true_positives: 53.0000\n",
            "Epoch 38/200\n",
            "44/44 [==============================] - 1s 15ms/step - loss: 0.6568 - Accuracy: 0.7727 - false_negatives: 106.0000 - false_positives: 59.0000 - true_negatives: 997.0000 - true_positives: 246.0000 - val_loss: 0.8960 - val_Accuracy: 0.6304 - val_false_negatives: 39.0000 - val_false_positives: 30.0000 - val_true_negatives: 246.0000 - val_true_positives: 53.0000\n",
            "Epoch 39/200\n",
            "44/44 [==============================] - 1s 15ms/step - loss: 0.6607 - Accuracy: 0.7670 - false_negatives: 96.0000 - false_positives: 59.0000 - true_negatives: 997.0000 - true_positives: 256.0000 - val_loss: 1.0971 - val_Accuracy: 0.5109 - val_false_negatives: 48.0000 - val_false_positives: 39.0000 - val_true_negatives: 237.0000 - val_true_positives: 44.0000\n",
            "Epoch 40/200\n",
            "44/44 [==============================] - 1s 14ms/step - loss: 0.6540 - Accuracy: 0.7443 - false_negatives: 105.0000 - false_positives: 65.0000 - true_negatives: 991.0000 - true_positives: 247.0000 - val_loss: 0.9753 - val_Accuracy: 0.5652 - val_false_negatives: 42.0000 - val_false_positives: 35.0000 - val_true_negatives: 241.0000 - val_true_positives: 50.0000\n",
            "Epoch 41/200\n",
            "44/44 [==============================] - 1s 14ms/step - loss: 0.6511 - Accuracy: 0.7784 - false_negatives: 92.0000 - false_positives: 58.0000 - true_negatives: 998.0000 - true_positives: 260.0000 - val_loss: 0.9071 - val_Accuracy: 0.6522 - val_false_negatives: 35.0000 - val_false_positives: 28.0000 - val_true_negatives: 248.0000 - val_true_positives: 57.0000\n",
            "Epoch 42/200\n",
            "44/44 [==============================] - 1s 14ms/step - loss: 0.6888 - Accuracy: 0.7443 - false_negatives: 107.0000 - false_positives: 69.0000 - true_negatives: 987.0000 - true_positives: 245.0000 - val_loss: 0.7698 - val_Accuracy: 0.6739 - val_false_negatives: 34.0000 - val_false_positives: 20.0000 - val_true_negatives: 256.0000 - val_true_positives: 58.0000\n",
            "Epoch 43/200\n",
            "44/44 [==============================] - 1s 14ms/step - loss: 0.6321 - Accuracy: 0.7841 - false_negatives: 95.0000 - false_positives: 51.0000 - true_negatives: 1005.0000 - true_positives: 257.0000 - val_loss: 0.8647 - val_Accuracy: 0.6630 - val_false_negatives: 37.0000 - val_false_positives: 25.0000 - val_true_negatives: 251.0000 - val_true_positives: 55.0000\n",
            "Epoch 44/200\n",
            "44/44 [==============================] - 1s 14ms/step - loss: 0.5999 - Accuracy: 0.7812 - false_negatives: 91.0000 - false_positives: 59.0000 - true_negatives: 997.0000 - true_positives: 261.0000 - val_loss: 0.8676 - val_Accuracy: 0.6739 - val_false_negatives: 33.0000 - val_false_positives: 27.0000 - val_true_negatives: 249.0000 - val_true_positives: 59.0000\n",
            "Epoch 45/200\n",
            "44/44 [==============================] - 1s 14ms/step - loss: 0.6605 - Accuracy: 0.7443 - false_negatives: 106.0000 - false_positives: 62.0000 - true_negatives: 994.0000 - true_positives: 246.0000 - val_loss: 0.8332 - val_Accuracy: 0.7065 - val_false_negatives: 33.0000 - val_false_positives: 20.0000 - val_true_negatives: 256.0000 - val_true_positives: 59.0000\n",
            "Epoch 46/200\n",
            "44/44 [==============================] - 1s 14ms/step - loss: 0.6687 - Accuracy: 0.7500 - false_negatives: 108.0000 - false_positives: 62.0000 - true_negatives: 994.0000 - true_positives: 244.0000 - val_loss: 0.8317 - val_Accuracy: 0.6413 - val_false_negatives: 37.0000 - val_false_positives: 29.0000 - val_true_negatives: 247.0000 - val_true_positives: 55.0000\n",
            "Epoch 47/200\n",
            "44/44 [==============================] - 1s 15ms/step - loss: 0.6336 - Accuracy: 0.7841 - false_negatives: 94.0000 - false_positives: 58.0000 - true_negatives: 998.0000 - true_positives: 258.0000 - val_loss: 1.0812 - val_Accuracy: 0.5761 - val_false_negatives: 44.0000 - val_false_positives: 34.0000 - val_true_negatives: 242.0000 - val_true_positives: 48.0000\n",
            "Epoch 48/200\n",
            "44/44 [==============================] - 1s 15ms/step - loss: 0.6905 - Accuracy: 0.7443 - false_negatives: 106.0000 - false_positives: 66.0000 - true_negatives: 990.0000 - true_positives: 246.0000 - val_loss: 1.0327 - val_Accuracy: 0.6196 - val_false_negatives: 38.0000 - val_false_positives: 29.0000 - val_true_negatives: 247.0000 - val_true_positives: 54.0000\n",
            "Epoch 49/200\n",
            "44/44 [==============================] - 1s 14ms/step - loss: 0.6255 - Accuracy: 0.7642 - false_negatives: 96.0000 - false_positives: 59.0000 - true_negatives: 997.0000 - true_positives: 256.0000 - val_loss: 1.0141 - val_Accuracy: 0.5978 - val_false_negatives: 41.0000 - val_false_positives: 32.0000 - val_true_negatives: 244.0000 - val_true_positives: 51.0000\n",
            "Epoch 50/200\n",
            "44/44 [==============================] - 1s 15ms/step - loss: 0.5733 - Accuracy: 0.7642 - false_negatives: 95.0000 - false_positives: 57.0000 - true_negatives: 999.0000 - true_positives: 257.0000 - val_loss: 0.8855 - val_Accuracy: 0.6413 - val_false_negatives: 38.0000 - val_false_positives: 30.0000 - val_true_negatives: 246.0000 - val_true_positives: 54.0000\n",
            "Epoch 51/200\n",
            "44/44 [==============================] - 1s 14ms/step - loss: 0.6130 - Accuracy: 0.7756 - false_negatives: 97.0000 - false_positives: 61.0000 - true_negatives: 995.0000 - true_positives: 255.0000 - val_loss: 0.8542 - val_Accuracy: 0.6087 - val_false_negatives: 39.0000 - val_false_positives: 32.0000 - val_true_negatives: 244.0000 - val_true_positives: 53.0000\n",
            "Epoch 52/200\n",
            "44/44 [==============================] - 1s 14ms/step - loss: 0.6492 - Accuracy: 0.7699 - false_negatives: 106.0000 - false_positives: 59.0000 - true_negatives: 997.0000 - true_positives: 246.0000 - val_loss: 0.8613 - val_Accuracy: 0.6522 - val_false_negatives: 35.0000 - val_false_positives: 27.0000 - val_true_negatives: 249.0000 - val_true_positives: 57.0000\n",
            "Epoch 53/200\n",
            "44/44 [==============================] - 1s 14ms/step - loss: 0.5628 - Accuracy: 0.7926 - false_negatives: 89.0000 - false_positives: 51.0000 - true_negatives: 1005.0000 - true_positives: 263.0000 - val_loss: 0.9910 - val_Accuracy: 0.6304 - val_false_negatives: 37.0000 - val_false_positives: 30.0000 - val_true_negatives: 246.0000 - val_true_positives: 55.0000\n",
            "Epoch 54/200\n",
            "44/44 [==============================] - 1s 14ms/step - loss: 0.5944 - Accuracy: 0.7756 - false_negatives: 93.0000 - false_positives: 57.0000 - true_negatives: 999.0000 - true_positives: 259.0000 - val_loss: 0.9277 - val_Accuracy: 0.5870 - val_false_negatives: 40.0000 - val_false_positives: 36.0000 - val_true_negatives: 240.0000 - val_true_positives: 52.0000\n",
            "Epoch 55/200\n",
            "44/44 [==============================] - 1s 14ms/step - loss: 0.6277 - Accuracy: 0.7784 - false_negatives: 97.0000 - false_positives: 59.0000 - true_negatives: 997.0000 - true_positives: 255.0000 - val_loss: 0.9584 - val_Accuracy: 0.5870 - val_false_negatives: 43.0000 - val_false_positives: 35.0000 - val_true_negatives: 241.0000 - val_true_positives: 49.0000\n",
            "Epoch 56/200\n",
            "44/44 [==============================] - 1s 15ms/step - loss: 0.5953 - Accuracy: 0.7812 - false_negatives: 97.0000 - false_positives: 59.0000 - true_negatives: 997.0000 - true_positives: 255.0000 - val_loss: 1.0164 - val_Accuracy: 0.6413 - val_false_negatives: 35.0000 - val_false_positives: 29.0000 - val_true_negatives: 247.0000 - val_true_positives: 57.0000\n",
            "Epoch 57/200\n",
            "44/44 [==============================] - 1s 14ms/step - loss: 0.6045 - Accuracy: 0.7727 - false_negatives: 91.0000 - false_positives: 57.0000 - true_negatives: 999.0000 - true_positives: 261.0000 - val_loss: 0.9038 - val_Accuracy: 0.6413 - val_false_negatives: 38.0000 - val_false_positives: 28.0000 - val_true_negatives: 248.0000 - val_true_positives: 54.0000\n",
            "Epoch 58/200\n",
            "44/44 [==============================] - 1s 14ms/step - loss: 0.5883 - Accuracy: 0.7898 - false_negatives: 92.0000 - false_positives: 59.0000 - true_negatives: 997.0000 - true_positives: 260.0000 - val_loss: 0.9118 - val_Accuracy: 0.6413 - val_false_negatives: 37.0000 - val_false_positives: 29.0000 - val_true_negatives: 247.0000 - val_true_positives: 55.0000\n",
            "Epoch 59/200\n",
            "44/44 [==============================] - 1s 14ms/step - loss: 0.5502 - Accuracy: 0.8011 - false_negatives: 84.0000 - false_positives: 53.0000 - true_negatives: 1003.0000 - true_positives: 268.0000 - val_loss: 0.9486 - val_Accuracy: 0.7065 - val_false_negatives: 30.0000 - val_false_positives: 26.0000 - val_true_negatives: 250.0000 - val_true_positives: 62.0000\n",
            "Epoch 60/200\n",
            "44/44 [==============================] - 1s 14ms/step - loss: 0.5693 - Accuracy: 0.7812 - false_negatives: 88.0000 - false_positives: 58.0000 - true_negatives: 998.0000 - true_positives: 264.0000 - val_loss: 1.1379 - val_Accuracy: 0.6087 - val_false_negatives: 43.0000 - val_false_positives: 32.0000 - val_true_negatives: 244.0000 - val_true_positives: 49.0000\n",
            "Epoch 61/200\n",
            "44/44 [==============================] - 1s 15ms/step - loss: 0.5841 - Accuracy: 0.8068 - false_negatives: 89.0000 - false_positives: 49.0000 - true_negatives: 1007.0000 - true_positives: 263.0000 - val_loss: 0.7565 - val_Accuracy: 0.6957 - val_false_negatives: 31.0000 - val_false_positives: 24.0000 - val_true_negatives: 252.0000 - val_true_positives: 61.0000\n",
            "Epoch 62/200\n",
            "44/44 [==============================] - 1s 14ms/step - loss: 0.5915 - Accuracy: 0.7869 - false_negatives: 87.0000 - false_positives: 65.0000 - true_negatives: 991.0000 - true_positives: 265.0000 - val_loss: 0.9470 - val_Accuracy: 0.6304 - val_false_negatives: 39.0000 - val_false_positives: 31.0000 - val_true_negatives: 245.0000 - val_true_positives: 53.0000\n",
            "Epoch 63/200\n",
            "44/44 [==============================] - 1s 14ms/step - loss: 0.5656 - Accuracy: 0.7784 - false_negatives: 92.0000 - false_positives: 59.0000 - true_negatives: 997.0000 - true_positives: 260.0000 - val_loss: 0.7256 - val_Accuracy: 0.6630 - val_false_negatives: 35.0000 - val_false_positives: 26.0000 - val_true_negatives: 250.0000 - val_true_positives: 57.0000\n",
            "Epoch 64/200\n",
            "44/44 [==============================] - 1s 16ms/step - loss: 0.5561 - Accuracy: 0.7926 - false_negatives: 92.0000 - false_positives: 53.0000 - true_negatives: 1003.0000 - true_positives: 260.0000 - val_loss: 1.0552 - val_Accuracy: 0.5870 - val_false_negatives: 41.0000 - val_false_positives: 29.0000 - val_true_negatives: 247.0000 - val_true_positives: 51.0000\n",
            "Epoch 65/200\n",
            "44/44 [==============================] - 1s 15ms/step - loss: 0.5859 - Accuracy: 0.7898 - false_negatives: 89.0000 - false_positives: 53.0000 - true_negatives: 1003.0000 - true_positives: 263.0000 - val_loss: 0.9947 - val_Accuracy: 0.6087 - val_false_negatives: 38.0000 - val_false_positives: 31.0000 - val_true_negatives: 245.0000 - val_true_positives: 54.0000\n",
            "Epoch 66/200\n",
            "44/44 [==============================] - 1s 15ms/step - loss: 0.5298 - Accuracy: 0.7926 - false_negatives: 84.0000 - false_positives: 49.0000 - true_negatives: 1007.0000 - true_positives: 268.0000 - val_loss: 1.1203 - val_Accuracy: 0.5761 - val_false_negatives: 40.0000 - val_false_positives: 34.0000 - val_true_negatives: 242.0000 - val_true_positives: 52.0000\n",
            "Epoch 67/200\n",
            "44/44 [==============================] - 1s 15ms/step - loss: 0.5390 - Accuracy: 0.7983 - false_negatives: 83.0000 - false_positives: 52.0000 - true_negatives: 1004.0000 - true_positives: 269.0000 - val_loss: 0.9881 - val_Accuracy: 0.6304 - val_false_negatives: 36.0000 - val_false_positives: 30.0000 - val_true_negatives: 246.0000 - val_true_positives: 56.0000\n",
            "Epoch 68/200\n",
            "44/44 [==============================] - 1s 14ms/step - loss: 0.5564 - Accuracy: 0.7841 - false_negatives: 92.0000 - false_positives: 51.0000 - true_negatives: 1005.0000 - true_positives: 260.0000 - val_loss: 1.0771 - val_Accuracy: 0.6087 - val_false_negatives: 40.0000 - val_false_positives: 31.0000 - val_true_negatives: 245.0000 - val_true_positives: 52.0000\n",
            "Epoch 69/200\n",
            "44/44 [==============================] - 1s 14ms/step - loss: 0.5560 - Accuracy: 0.7756 - false_negatives: 88.0000 - false_positives: 57.0000 - true_negatives: 999.0000 - true_positives: 264.0000 - val_loss: 1.5423 - val_Accuracy: 0.5543 - val_false_negatives: 43.0000 - val_false_positives: 38.0000 - val_true_negatives: 238.0000 - val_true_positives: 49.0000\n",
            "Epoch 70/200\n",
            "44/44 [==============================] - 1s 15ms/step - loss: 0.5639 - Accuracy: 0.7841 - false_negatives: 88.0000 - false_positives: 50.0000 - true_negatives: 1006.0000 - true_positives: 264.0000 - val_loss: 0.8767 - val_Accuracy: 0.6413 - val_false_negatives: 38.0000 - val_false_positives: 27.0000 - val_true_negatives: 249.0000 - val_true_positives: 54.0000\n",
            "Epoch 71/200\n",
            "44/44 [==============================] - 1s 14ms/step - loss: 0.5295 - Accuracy: 0.8097 - false_negatives: 90.0000 - false_positives: 48.0000 - true_negatives: 1008.0000 - true_positives: 262.0000 - val_loss: 0.9706 - val_Accuracy: 0.6522 - val_false_negatives: 34.0000 - val_false_positives: 29.0000 - val_true_negatives: 247.0000 - val_true_positives: 58.0000\n",
            "Epoch 72/200\n",
            "44/44 [==============================] - 1s 14ms/step - loss: 0.5604 - Accuracy: 0.8011 - false_negatives: 80.0000 - false_positives: 51.0000 - true_negatives: 1005.0000 - true_positives: 272.0000 - val_loss: 1.2275 - val_Accuracy: 0.5870 - val_false_negatives: 38.0000 - val_false_positives: 33.0000 - val_true_negatives: 243.0000 - val_true_positives: 54.0000\n",
            "Epoch 73/200\n",
            "44/44 [==============================] - 1s 15ms/step - loss: 0.5679 - Accuracy: 0.7926 - false_negatives: 89.0000 - false_positives: 60.0000 - true_negatives: 996.0000 - true_positives: 263.0000 - val_loss: 0.9075 - val_Accuracy: 0.6522 - val_false_negatives: 32.0000 - val_false_positives: 28.0000 - val_true_negatives: 248.0000 - val_true_positives: 60.0000\n",
            "Epoch 74/200\n",
            "44/44 [==============================] - 1s 14ms/step - loss: 0.6301 - Accuracy: 0.7699 - false_negatives: 98.0000 - false_positives: 57.0000 - true_negatives: 999.0000 - true_positives: 254.0000 - val_loss: 0.8725 - val_Accuracy: 0.5761 - val_false_negatives: 45.0000 - val_false_positives: 33.0000 - val_true_negatives: 243.0000 - val_true_positives: 47.0000\n",
            "Epoch 75/200\n",
            "44/44 [==============================] - 1s 14ms/step - loss: 0.5044 - Accuracy: 0.8352 - false_negatives: 74.0000 - false_positives: 49.0000 - true_negatives: 1007.0000 - true_positives: 278.0000 - val_loss: 0.9743 - val_Accuracy: 0.5870 - val_false_negatives: 40.0000 - val_false_positives: 31.0000 - val_true_negatives: 245.0000 - val_true_positives: 52.0000\n",
            "Epoch 76/200\n",
            "44/44 [==============================] - 1s 15ms/step - loss: 0.5839 - Accuracy: 0.7784 - false_negatives: 91.0000 - false_positives: 59.0000 - true_negatives: 997.0000 - true_positives: 261.0000 - val_loss: 1.2759 - val_Accuracy: 0.6304 - val_false_negatives: 37.0000 - val_false_positives: 31.0000 - val_true_negatives: 245.0000 - val_true_positives: 55.0000\n",
            "Epoch 77/200\n",
            "44/44 [==============================] - 1s 14ms/step - loss: 0.5304 - Accuracy: 0.8011 - false_negatives: 87.0000 - false_positives: 52.0000 - true_negatives: 1004.0000 - true_positives: 265.0000 - val_loss: 0.9520 - val_Accuracy: 0.5870 - val_false_negatives: 45.0000 - val_false_positives: 27.0000 - val_true_negatives: 249.0000 - val_true_positives: 47.0000\n",
            "Epoch 78/200\n",
            "44/44 [==============================] - 1s 14ms/step - loss: 0.5226 - Accuracy: 0.7983 - false_negatives: 88.0000 - false_positives: 57.0000 - true_negatives: 999.0000 - true_positives: 264.0000 - val_loss: 0.9411 - val_Accuracy: 0.6957 - val_false_negatives: 31.0000 - val_false_positives: 26.0000 - val_true_negatives: 250.0000 - val_true_positives: 61.0000\n",
            "Epoch 79/200\n",
            "44/44 [==============================] - 1s 14ms/step - loss: 0.5006 - Accuracy: 0.8068 - false_negatives: 77.0000 - false_positives: 48.0000 - true_negatives: 1008.0000 - true_positives: 275.0000 - val_loss: 1.6759 - val_Accuracy: 0.5978 - val_false_negatives: 39.0000 - val_false_positives: 36.0000 - val_true_negatives: 240.0000 - val_true_positives: 53.0000\n",
            "Epoch 80/200\n",
            "44/44 [==============================] - 1s 15ms/step - loss: 0.4984 - Accuracy: 0.8267 - false_negatives: 77.0000 - false_positives: 48.0000 - true_negatives: 1008.0000 - true_positives: 275.0000 - val_loss: 1.3874 - val_Accuracy: 0.5978 - val_false_negatives: 40.0000 - val_false_positives: 34.0000 - val_true_negatives: 242.0000 - val_true_positives: 52.0000\n",
            "Epoch 81/200\n",
            "44/44 [==============================] - 1s 14ms/step - loss: 0.5169 - Accuracy: 0.8295 - false_negatives: 74.0000 - false_positives: 46.0000 - true_negatives: 1010.0000 - true_positives: 278.0000 - val_loss: 0.9548 - val_Accuracy: 0.6630 - val_false_negatives: 35.0000 - val_false_positives: 27.0000 - val_true_negatives: 249.0000 - val_true_positives: 57.0000\n",
            "Epoch 82/200\n",
            "44/44 [==============================] - 1s 14ms/step - loss: 0.5233 - Accuracy: 0.8068 - false_negatives: 78.0000 - false_positives: 48.0000 - true_negatives: 1008.0000 - true_positives: 274.0000 - val_loss: 1.1440 - val_Accuracy: 0.5870 - val_false_negatives: 40.0000 - val_false_positives: 35.0000 - val_true_negatives: 241.0000 - val_true_positives: 52.0000\n",
            "Epoch 83/200\n",
            "44/44 [==============================] - 1s 14ms/step - loss: 0.4882 - Accuracy: 0.8381 - false_negatives: 71.0000 - false_positives: 46.0000 - true_negatives: 1010.0000 - true_positives: 281.0000 - val_loss: 1.2174 - val_Accuracy: 0.6630 - val_false_negatives: 33.0000 - val_false_positives: 31.0000 - val_true_negatives: 245.0000 - val_true_positives: 59.0000\n",
            "Epoch 84/200\n",
            "44/44 [==============================] - 1s 15ms/step - loss: 0.4932 - Accuracy: 0.8381 - false_negatives: 66.0000 - false_positives: 45.0000 - true_negatives: 1011.0000 - true_positives: 286.0000 - val_loss: 0.8670 - val_Accuracy: 0.6848 - val_false_negatives: 32.0000 - val_false_positives: 23.0000 - val_true_negatives: 253.0000 - val_true_positives: 60.0000\n",
            "Epoch 85/200\n",
            "44/44 [==============================] - 1s 14ms/step - loss: 0.5505 - Accuracy: 0.7955 - false_negatives: 86.0000 - false_positives: 50.0000 - true_negatives: 1006.0000 - true_positives: 266.0000 - val_loss: 1.1656 - val_Accuracy: 0.5870 - val_false_negatives: 41.0000 - val_false_positives: 37.0000 - val_true_negatives: 239.0000 - val_true_positives: 51.0000\n",
            "Epoch 86/200\n",
            "44/44 [==============================] - 1s 14ms/step - loss: 0.5122 - Accuracy: 0.8267 - false_negatives: 78.0000 - false_positives: 48.0000 - true_negatives: 1008.0000 - true_positives: 274.0000 - val_loss: 1.0530 - val_Accuracy: 0.6522 - val_false_negatives: 36.0000 - val_false_positives: 30.0000 - val_true_negatives: 246.0000 - val_true_positives: 56.0000\n",
            "Epoch 87/200\n",
            "44/44 [==============================] - 1s 15ms/step - loss: 0.5299 - Accuracy: 0.8182 - false_negatives: 80.0000 - false_positives: 46.0000 - true_negatives: 1010.0000 - true_positives: 272.0000 - val_loss: 1.0507 - val_Accuracy: 0.6522 - val_false_negatives: 34.0000 - val_false_positives: 31.0000 - val_true_negatives: 245.0000 - val_true_positives: 58.0000\n",
            "Epoch 88/200\n",
            "44/44 [==============================] - 1s 15ms/step - loss: 0.4737 - Accuracy: 0.8239 - false_negatives: 77.0000 - false_positives: 45.0000 - true_negatives: 1011.0000 - true_positives: 275.0000 - val_loss: 1.1019 - val_Accuracy: 0.5978 - val_false_negatives: 39.0000 - val_false_positives: 32.0000 - val_true_negatives: 244.0000 - val_true_positives: 53.0000\n",
            "Epoch 89/200\n",
            "44/44 [==============================] - 1s 14ms/step - loss: 0.5003 - Accuracy: 0.8409 - false_negatives: 73.0000 - false_positives: 47.0000 - true_negatives: 1009.0000 - true_positives: 279.0000 - val_loss: 0.9364 - val_Accuracy: 0.6087 - val_false_negatives: 37.0000 - val_false_positives: 30.0000 - val_true_negatives: 246.0000 - val_true_positives: 55.0000\n",
            "Epoch 90/200\n",
            "44/44 [==============================] - 1s 15ms/step - loss: 0.4538 - Accuracy: 0.8409 - false_negatives: 63.0000 - false_positives: 43.0000 - true_negatives: 1013.0000 - true_positives: 289.0000 - val_loss: 1.2161 - val_Accuracy: 0.6087 - val_false_negatives: 39.0000 - val_false_positives: 35.0000 - val_true_negatives: 241.0000 - val_true_positives: 53.0000\n",
            "Epoch 91/200\n",
            "44/44 [==============================] - 1s 14ms/step - loss: 0.4749 - Accuracy: 0.8239 - false_negatives: 69.0000 - false_positives: 49.0000 - true_negatives: 1007.0000 - true_positives: 283.0000 - val_loss: 1.5544 - val_Accuracy: 0.6087 - val_false_negatives: 37.0000 - val_false_positives: 31.0000 - val_true_negatives: 245.0000 - val_true_positives: 55.0000\n",
            "Epoch 92/200\n",
            "44/44 [==============================] - 1s 14ms/step - loss: 0.4796 - Accuracy: 0.8182 - false_negatives: 74.0000 - false_positives: 49.0000 - true_negatives: 1007.0000 - true_positives: 278.0000 - val_loss: 1.0143 - val_Accuracy: 0.5978 - val_false_negatives: 37.0000 - val_false_positives: 34.0000 - val_true_negatives: 242.0000 - val_true_positives: 55.0000\n",
            "Epoch 93/200\n",
            "44/44 [==============================] - 1s 14ms/step - loss: 0.4517 - Accuracy: 0.8324 - false_negatives: 65.0000 - false_positives: 43.0000 - true_negatives: 1013.0000 - true_positives: 287.0000 - val_loss: 1.5053 - val_Accuracy: 0.6087 - val_false_negatives: 37.0000 - val_false_positives: 33.0000 - val_true_negatives: 243.0000 - val_true_positives: 55.0000\n",
            "Epoch 94/200\n",
            "44/44 [==============================] - 1s 14ms/step - loss: 0.4997 - Accuracy: 0.8068 - false_negatives: 83.0000 - false_positives: 49.0000 - true_negatives: 1007.0000 - true_positives: 269.0000 - val_loss: 0.7951 - val_Accuracy: 0.6848 - val_false_negatives: 30.0000 - val_false_positives: 26.0000 - val_true_negatives: 250.0000 - val_true_positives: 62.0000\n",
            "Epoch 95/200\n",
            "44/44 [==============================] - 1s 15ms/step - loss: 0.4689 - Accuracy: 0.8409 - false_negatives: 69.0000 - false_positives: 49.0000 - true_negatives: 1007.0000 - true_positives: 283.0000 - val_loss: 1.9667 - val_Accuracy: 0.5978 - val_false_negatives: 38.0000 - val_false_positives: 34.0000 - val_true_negatives: 242.0000 - val_true_positives: 54.0000\n",
            "Epoch 96/200\n",
            "44/44 [==============================] - 1s 14ms/step - loss: 0.5109 - Accuracy: 0.8210 - false_negatives: 71.0000 - false_positives: 50.0000 - true_negatives: 1006.0000 - true_positives: 281.0000 - val_loss: 0.8667 - val_Accuracy: 0.7065 - val_false_negatives: 30.0000 - val_false_positives: 26.0000 - val_true_negatives: 250.0000 - val_true_positives: 62.0000\n",
            "Epoch 97/200\n",
            "44/44 [==============================] - 1s 14ms/step - loss: 0.4986 - Accuracy: 0.8295 - false_negatives: 67.0000 - false_positives: 47.0000 - true_negatives: 1009.0000 - true_positives: 285.0000 - val_loss: 0.7640 - val_Accuracy: 0.6848 - val_false_negatives: 29.0000 - val_false_positives: 27.0000 - val_true_negatives: 249.0000 - val_true_positives: 63.0000\n",
            "Epoch 98/200\n",
            "44/44 [==============================] - 1s 15ms/step - loss: 0.5306 - Accuracy: 0.8153 - false_negatives: 78.0000 - false_positives: 48.0000 - true_negatives: 1008.0000 - true_positives: 274.0000 - val_loss: 0.9489 - val_Accuracy: 0.5870 - val_false_negatives: 39.0000 - val_false_positives: 32.0000 - val_true_negatives: 244.0000 - val_true_positives: 53.0000\n",
            "Epoch 99/200\n",
            "44/44 [==============================] - 1s 15ms/step - loss: 0.4717 - Accuracy: 0.8239 - false_negatives: 73.0000 - false_positives: 42.0000 - true_negatives: 1014.0000 - true_positives: 279.0000 - val_loss: 1.3528 - val_Accuracy: 0.6087 - val_false_negatives: 38.0000 - val_false_positives: 33.0000 - val_true_negatives: 243.0000 - val_true_positives: 54.0000\n",
            "Epoch 100/200\n",
            "44/44 [==============================] - 1s 15ms/step - loss: 0.4777 - Accuracy: 0.8324 - false_negatives: 71.0000 - false_positives: 46.0000 - true_negatives: 1010.0000 - true_positives: 281.0000 - val_loss: 0.8323 - val_Accuracy: 0.6522 - val_false_negatives: 33.0000 - val_false_positives: 30.0000 - val_true_negatives: 246.0000 - val_true_positives: 59.0000\n",
            "Epoch 101/200\n",
            "44/44 [==============================] - 1s 14ms/step - loss: 0.4613 - Accuracy: 0.8267 - false_negatives: 69.0000 - false_positives: 51.0000 - true_negatives: 1005.0000 - true_positives: 283.0000 - val_loss: 1.3089 - val_Accuracy: 0.6304 - val_false_negatives: 36.0000 - val_false_positives: 33.0000 - val_true_negatives: 243.0000 - val_true_positives: 56.0000\n",
            "Epoch 102/200\n",
            "44/44 [==============================] - 1s 15ms/step - loss: 0.4878 - Accuracy: 0.8352 - false_negatives: 70.0000 - false_positives: 45.0000 - true_negatives: 1011.0000 - true_positives: 282.0000 - val_loss: 0.9983 - val_Accuracy: 0.5761 - val_false_negatives: 39.0000 - val_false_positives: 34.0000 - val_true_negatives: 242.0000 - val_true_positives: 53.0000\n",
            "Epoch 103/200\n",
            "44/44 [==============================] - 1s 15ms/step - loss: 0.4270 - Accuracy: 0.8523 - false_negatives: 63.0000 - false_positives: 38.0000 - true_negatives: 1018.0000 - true_positives: 289.0000 - val_loss: 1.0608 - val_Accuracy: 0.5978 - val_false_negatives: 38.0000 - val_false_positives: 36.0000 - val_true_negatives: 240.0000 - val_true_positives: 54.0000\n",
            "Epoch 104/200\n",
            "44/44 [==============================] - 1s 15ms/step - loss: 0.5024 - Accuracy: 0.8153 - false_negatives: 83.0000 - false_positives: 59.0000 - true_negatives: 997.0000 - true_positives: 269.0000 - val_loss: 0.9749 - val_Accuracy: 0.6848 - val_false_negatives: 32.0000 - val_false_positives: 24.0000 - val_true_negatives: 252.0000 - val_true_positives: 60.0000\n",
            "Epoch 105/200\n",
            "44/44 [==============================] - 1s 15ms/step - loss: 0.4954 - Accuracy: 0.8210 - false_negatives: 74.0000 - false_positives: 51.0000 - true_negatives: 1005.0000 - true_positives: 278.0000 - val_loss: 1.1725 - val_Accuracy: 0.5870 - val_false_negatives: 38.0000 - val_false_positives: 32.0000 - val_true_negatives: 244.0000 - val_true_positives: 54.0000\n",
            "Epoch 106/200\n",
            "44/44 [==============================] - 1s 15ms/step - loss: 0.4950 - Accuracy: 0.8153 - false_negatives: 75.0000 - false_positives: 48.0000 - true_negatives: 1008.0000 - true_positives: 277.0000 - val_loss: 1.5708 - val_Accuracy: 0.5543 - val_false_negatives: 42.0000 - val_false_positives: 37.0000 - val_true_negatives: 239.0000 - val_true_positives: 50.0000\n",
            "Epoch 107/200\n",
            "44/44 [==============================] - 1s 15ms/step - loss: 0.5174 - Accuracy: 0.8011 - false_negatives: 83.0000 - false_positives: 57.0000 - true_negatives: 999.0000 - true_positives: 269.0000 - val_loss: 0.6504 - val_Accuracy: 0.6957 - val_false_negatives: 29.0000 - val_false_positives: 24.0000 - val_true_negatives: 252.0000 - val_true_positives: 63.0000\n",
            "Epoch 108/200\n",
            "44/44 [==============================] - 1s 15ms/step - loss: 0.4886 - Accuracy: 0.8239 - false_negatives: 71.0000 - false_positives: 47.0000 - true_negatives: 1009.0000 - true_positives: 281.0000 - val_loss: 0.8445 - val_Accuracy: 0.6522 - val_false_negatives: 37.0000 - val_false_positives: 28.0000 - val_true_negatives: 248.0000 - val_true_positives: 55.0000\n",
            "Epoch 109/200\n",
            "44/44 [==============================] - 1s 16ms/step - loss: 0.4437 - Accuracy: 0.8352 - false_negatives: 66.0000 - false_positives: 49.0000 - true_negatives: 1007.0000 - true_positives: 286.0000 - val_loss: 1.1385 - val_Accuracy: 0.6413 - val_false_negatives: 34.0000 - val_false_positives: 31.0000 - val_true_negatives: 245.0000 - val_true_positives: 58.0000\n",
            "Epoch 110/200\n",
            "44/44 [==============================] - 1s 25ms/step - loss: 0.4864 - Accuracy: 0.8267 - false_negatives: 68.0000 - false_positives: 46.0000 - true_negatives: 1010.0000 - true_positives: 284.0000 - val_loss: 1.3078 - val_Accuracy: 0.6196 - val_false_negatives: 37.0000 - val_false_positives: 33.0000 - val_true_negatives: 243.0000 - val_true_positives: 55.0000\n",
            "Epoch 111/200\n",
            "44/44 [==============================] - 1s 24ms/step - loss: 0.4571 - Accuracy: 0.8722 - false_negatives: 60.0000 - false_positives: 36.0000 - true_negatives: 1020.0000 - true_positives: 292.0000 - val_loss: 0.9557 - val_Accuracy: 0.7065 - val_false_negatives: 28.0000 - val_false_positives: 26.0000 - val_true_negatives: 250.0000 - val_true_positives: 64.0000\n",
            "Epoch 112/200\n",
            "44/44 [==============================] - 1s 24ms/step - loss: 0.4311 - Accuracy: 0.8324 - false_negatives: 67.0000 - false_positives: 48.0000 - true_negatives: 1008.0000 - true_positives: 285.0000 - val_loss: 1.1551 - val_Accuracy: 0.6630 - val_false_negatives: 32.0000 - val_false_positives: 30.0000 - val_true_negatives: 246.0000 - val_true_positives: 60.0000\n",
            "Epoch 113/200\n",
            "44/44 [==============================] - 1s 16ms/step - loss: 0.4691 - Accuracy: 0.8352 - false_negatives: 65.0000 - false_positives: 47.0000 - true_negatives: 1009.0000 - true_positives: 287.0000 - val_loss: 1.2029 - val_Accuracy: 0.6739 - val_false_negatives: 30.0000 - val_false_positives: 29.0000 - val_true_negatives: 247.0000 - val_true_positives: 62.0000\n",
            "Epoch 114/200\n",
            "44/44 [==============================] - 1s 15ms/step - loss: 0.4942 - Accuracy: 0.8153 - false_negatives: 75.0000 - false_positives: 53.0000 - true_negatives: 1003.0000 - true_positives: 277.0000 - val_loss: 1.1482 - val_Accuracy: 0.6087 - val_false_negatives: 38.0000 - val_false_positives: 34.0000 - val_true_negatives: 242.0000 - val_true_positives: 54.0000\n",
            "Epoch 115/200\n",
            "44/44 [==============================] - 1s 15ms/step - loss: 0.4848 - Accuracy: 0.8381 - false_negatives: 67.0000 - false_positives: 47.0000 - true_negatives: 1009.0000 - true_positives: 285.0000 - val_loss: 1.0122 - val_Accuracy: 0.6196 - val_false_negatives: 41.0000 - val_false_positives: 31.0000 - val_true_negatives: 245.0000 - val_true_positives: 51.0000\n",
            "Epoch 116/200\n",
            "44/44 [==============================] - 1s 15ms/step - loss: 0.4389 - Accuracy: 0.8381 - false_negatives: 61.0000 - false_positives: 46.0000 - true_negatives: 1010.0000 - true_positives: 291.0000 - val_loss: 0.8255 - val_Accuracy: 0.6739 - val_false_negatives: 32.0000 - val_false_positives: 26.0000 - val_true_negatives: 250.0000 - val_true_positives: 60.0000\n",
            "Epoch 117/200\n",
            "44/44 [==============================] - 1s 15ms/step - loss: 0.4099 - Accuracy: 0.8523 - false_negatives: 66.0000 - false_positives: 43.0000 - true_negatives: 1013.0000 - true_positives: 286.0000 - val_loss: 1.1886 - val_Accuracy: 0.6196 - val_false_negatives: 36.0000 - val_false_positives: 34.0000 - val_true_negatives: 242.0000 - val_true_positives: 56.0000\n",
            "Epoch 118/200\n",
            "44/44 [==============================] - 1s 15ms/step - loss: 0.4416 - Accuracy: 0.8352 - false_negatives: 64.0000 - false_positives: 51.0000 - true_negatives: 1005.0000 - true_positives: 288.0000 - val_loss: 1.4377 - val_Accuracy: 0.6522 - val_false_negatives: 32.0000 - val_false_positives: 32.0000 - val_true_negatives: 244.0000 - val_true_positives: 60.0000\n",
            "Epoch 119/200\n",
            "44/44 [==============================] - 1s 15ms/step - loss: 0.4403 - Accuracy: 0.8494 - false_negatives: 63.0000 - false_positives: 48.0000 - true_negatives: 1008.0000 - true_positives: 289.0000 - val_loss: 1.1511 - val_Accuracy: 0.6413 - val_false_negatives: 33.0000 - val_false_positives: 33.0000 - val_true_negatives: 243.0000 - val_true_positives: 59.0000\n",
            "Epoch 120/200\n",
            "44/44 [==============================] - 1s 15ms/step - loss: 0.4343 - Accuracy: 0.8438 - false_negatives: 65.0000 - false_positives: 48.0000 - true_negatives: 1008.0000 - true_positives: 287.0000 - val_loss: 1.0558 - val_Accuracy: 0.6413 - val_false_negatives: 35.0000 - val_false_positives: 31.0000 - val_true_negatives: 245.0000 - val_true_positives: 57.0000\n",
            "Epoch 121/200\n",
            "44/44 [==============================] - 1s 15ms/step - loss: 0.4213 - Accuracy: 0.8523 - false_negatives: 59.0000 - false_positives: 44.0000 - true_negatives: 1012.0000 - true_positives: 293.0000 - val_loss: 1.1011 - val_Accuracy: 0.6630 - val_false_negatives: 31.0000 - val_false_positives: 29.0000 - val_true_negatives: 247.0000 - val_true_positives: 61.0000\n",
            "Epoch 122/200\n",
            "44/44 [==============================] - 1s 15ms/step - loss: 0.4142 - Accuracy: 0.8494 - false_negatives: 63.0000 - false_positives: 41.0000 - true_negatives: 1015.0000 - true_positives: 289.0000 - val_loss: 1.5317 - val_Accuracy: 0.6196 - val_false_negatives: 37.0000 - val_false_positives: 34.0000 - val_true_negatives: 242.0000 - val_true_positives: 55.0000\n",
            "Epoch 123/200\n",
            "44/44 [==============================] - 1s 15ms/step - loss: 0.4161 - Accuracy: 0.8466 - false_negatives: 61.0000 - false_positives: 44.0000 - true_negatives: 1012.0000 - true_positives: 291.0000 - val_loss: 0.7578 - val_Accuracy: 0.7283 - val_false_negatives: 27.0000 - val_false_positives: 23.0000 - val_true_negatives: 253.0000 - val_true_positives: 65.0000\n",
            "Epoch 124/200\n",
            "44/44 [==============================] - 1s 15ms/step - loss: 0.4280 - Accuracy: 0.8409 - false_negatives: 64.0000 - false_positives: 47.0000 - true_negatives: 1009.0000 - true_positives: 288.0000 - val_loss: 0.7914 - val_Accuracy: 0.6522 - val_false_negatives: 32.0000 - val_false_positives: 31.0000 - val_true_negatives: 245.0000 - val_true_positives: 60.0000\n",
            "Epoch 125/200\n",
            "44/44 [==============================] - 1s 15ms/step - loss: 0.4005 - Accuracy: 0.8580 - false_negatives: 58.0000 - false_positives: 44.0000 - true_negatives: 1012.0000 - true_positives: 294.0000 - val_loss: 1.0807 - val_Accuracy: 0.6848 - val_false_negatives: 30.0000 - val_false_positives: 28.0000 - val_true_negatives: 248.0000 - val_true_positives: 62.0000\n",
            "Epoch 126/200\n",
            "44/44 [==============================] - 1s 15ms/step - loss: 0.3910 - Accuracy: 0.8665 - false_negatives: 52.0000 - false_positives: 39.0000 - true_negatives: 1017.0000 - true_positives: 300.0000 - val_loss: 0.9053 - val_Accuracy: 0.6304 - val_false_negatives: 34.0000 - val_false_positives: 30.0000 - val_true_negatives: 246.0000 - val_true_positives: 58.0000\n",
            "Epoch 127/200\n",
            "44/44 [==============================] - 1s 15ms/step - loss: 0.4163 - Accuracy: 0.8438 - false_negatives: 63.0000 - false_positives: 44.0000 - true_negatives: 1012.0000 - true_positives: 289.0000 - val_loss: 0.9830 - val_Accuracy: 0.6413 - val_false_negatives: 34.0000 - val_false_positives: 31.0000 - val_true_negatives: 245.0000 - val_true_positives: 58.0000\n",
            "Epoch 128/200\n",
            "44/44 [==============================] - 1s 15ms/step - loss: 0.4172 - Accuracy: 0.8551 - false_negatives: 56.0000 - false_positives: 39.0000 - true_negatives: 1017.0000 - true_positives: 296.0000 - val_loss: 1.2369 - val_Accuracy: 0.6196 - val_false_negatives: 36.0000 - val_false_positives: 30.0000 - val_true_negatives: 246.0000 - val_true_positives: 56.0000\n",
            "Epoch 129/200\n",
            "44/44 [==============================] - 1s 15ms/step - loss: 0.3981 - Accuracy: 0.8551 - false_negatives: 58.0000 - false_positives: 44.0000 - true_negatives: 1012.0000 - true_positives: 294.0000 - val_loss: 0.9776 - val_Accuracy: 0.6522 - val_false_negatives: 33.0000 - val_false_positives: 30.0000 - val_true_negatives: 246.0000 - val_true_positives: 59.0000\n",
            "Epoch 130/200\n",
            "44/44 [==============================] - 1s 15ms/step - loss: 0.3321 - Accuracy: 0.8835 - false_negatives: 50.0000 - false_positives: 31.0000 - true_negatives: 1025.0000 - true_positives: 302.0000 - val_loss: 1.1857 - val_Accuracy: 0.6196 - val_false_negatives: 35.0000 - val_false_positives: 33.0000 - val_true_negatives: 243.0000 - val_true_positives: 57.0000\n",
            "Epoch 131/200\n",
            "44/44 [==============================] - 1s 15ms/step - loss: 0.3697 - Accuracy: 0.8750 - false_negatives: 51.0000 - false_positives: 36.0000 - true_negatives: 1020.0000 - true_positives: 301.0000 - val_loss: 1.1151 - val_Accuracy: 0.5978 - val_false_negatives: 38.0000 - val_false_positives: 33.0000 - val_true_negatives: 243.0000 - val_true_positives: 54.0000\n",
            "Epoch 132/200\n",
            "44/44 [==============================] - 1s 15ms/step - loss: 0.3722 - Accuracy: 0.8835 - false_negatives: 44.0000 - false_positives: 33.0000 - true_negatives: 1023.0000 - true_positives: 308.0000 - val_loss: 0.8913 - val_Accuracy: 0.7065 - val_false_negatives: 30.0000 - val_false_positives: 23.0000 - val_true_negatives: 253.0000 - val_true_positives: 62.0000\n",
            "Epoch 133/200\n",
            "44/44 [==============================] - 1s 15ms/step - loss: 0.3609 - Accuracy: 0.8665 - false_negatives: 54.0000 - false_positives: 37.0000 - true_negatives: 1019.0000 - true_positives: 298.0000 - val_loss: 1.4370 - val_Accuracy: 0.6196 - val_false_negatives: 35.0000 - val_false_positives: 35.0000 - val_true_negatives: 241.0000 - val_true_positives: 57.0000\n",
            "Epoch 134/200\n",
            "44/44 [==============================] - 1s 16ms/step - loss: 0.3790 - Accuracy: 0.8722 - false_negatives: 49.0000 - false_positives: 40.0000 - true_negatives: 1016.0000 - true_positives: 303.0000 - val_loss: 1.2955 - val_Accuracy: 0.6522 - val_false_negatives: 32.0000 - val_false_positives: 30.0000 - val_true_negatives: 246.0000 - val_true_positives: 60.0000\n",
            "Epoch 135/200\n",
            "44/44 [==============================] - 1s 15ms/step - loss: 0.3540 - Accuracy: 0.8864 - false_negatives: 52.0000 - false_positives: 32.0000 - true_negatives: 1024.0000 - true_positives: 300.0000 - val_loss: 1.2020 - val_Accuracy: 0.5978 - val_false_negatives: 38.0000 - val_false_positives: 34.0000 - val_true_negatives: 242.0000 - val_true_positives: 54.0000\n",
            "Epoch 136/200\n",
            "44/44 [==============================] - 1s 16ms/step - loss: 0.3551 - Accuracy: 0.8722 - false_negatives: 49.0000 - false_positives: 40.0000 - true_negatives: 1016.0000 - true_positives: 303.0000 - val_loss: 1.0880 - val_Accuracy: 0.6304 - val_false_negatives: 34.0000 - val_false_positives: 31.0000 - val_true_negatives: 245.0000 - val_true_positives: 58.0000\n",
            "Epoch 137/200\n",
            "44/44 [==============================] - 1s 15ms/step - loss: 0.3419 - Accuracy: 0.8807 - false_negatives: 52.0000 - false_positives: 37.0000 - true_negatives: 1019.0000 - true_positives: 300.0000 - val_loss: 1.0932 - val_Accuracy: 0.6413 - val_false_negatives: 34.0000 - val_false_positives: 29.0000 - val_true_negatives: 247.0000 - val_true_positives: 58.0000\n",
            "Epoch 138/200\n",
            "44/44 [==============================] - 1s 15ms/step - loss: 0.3502 - Accuracy: 0.8750 - false_negatives: 48.0000 - false_positives: 36.0000 - true_negatives: 1020.0000 - true_positives: 304.0000 - val_loss: 1.4242 - val_Accuracy: 0.6087 - val_false_negatives: 36.0000 - val_false_positives: 34.0000 - val_true_negatives: 242.0000 - val_true_positives: 56.0000\n",
            "Epoch 139/200\n",
            "44/44 [==============================] - 1s 15ms/step - loss: 0.3678 - Accuracy: 0.8750 - false_negatives: 44.0000 - false_positives: 39.0000 - true_negatives: 1017.0000 - true_positives: 308.0000 - val_loss: 0.9857 - val_Accuracy: 0.6522 - val_false_negatives: 34.0000 - val_false_positives: 28.0000 - val_true_negatives: 248.0000 - val_true_positives: 58.0000\n",
            "Epoch 140/200\n",
            "44/44 [==============================] - 1s 15ms/step - loss: 0.3162 - Accuracy: 0.8778 - false_negatives: 45.0000 - false_positives: 38.0000 - true_negatives: 1018.0000 - true_positives: 307.0000 - val_loss: 1.5410 - val_Accuracy: 0.5870 - val_false_negatives: 38.0000 - val_false_positives: 37.0000 - val_true_negatives: 239.0000 - val_true_positives: 54.0000\n",
            "Epoch 141/200\n",
            "44/44 [==============================] - 1s 15ms/step - loss: 0.3831 - Accuracy: 0.8722 - false_negatives: 51.0000 - false_positives: 41.0000 - true_negatives: 1015.0000 - true_positives: 301.0000 - val_loss: 1.1454 - val_Accuracy: 0.6304 - val_false_negatives: 36.0000 - val_false_positives: 32.0000 - val_true_negatives: 244.0000 - val_true_positives: 56.0000\n",
            "Epoch 142/200\n",
            "44/44 [==============================] - 1s 15ms/step - loss: 0.3299 - Accuracy: 0.8864 - false_negatives: 44.0000 - false_positives: 33.0000 - true_negatives: 1023.0000 - true_positives: 308.0000 - val_loss: 1.2802 - val_Accuracy: 0.6087 - val_false_negatives: 38.0000 - val_false_positives: 36.0000 - val_true_negatives: 240.0000 - val_true_positives: 54.0000\n",
            "Epoch 143/200\n",
            "44/44 [==============================] - 1s 15ms/step - loss: 0.3656 - Accuracy: 0.8693 - false_negatives: 50.0000 - false_positives: 38.0000 - true_negatives: 1018.0000 - true_positives: 302.0000 - val_loss: 1.2707 - val_Accuracy: 0.6630 - val_false_negatives: 32.0000 - val_false_positives: 31.0000 - val_true_negatives: 245.0000 - val_true_positives: 60.0000\n",
            "Epoch 144/200\n",
            "44/44 [==============================] - 1s 15ms/step - loss: 0.3322 - Accuracy: 0.8920 - false_negatives: 47.0000 - false_positives: 35.0000 - true_negatives: 1021.0000 - true_positives: 305.0000 - val_loss: 1.2494 - val_Accuracy: 0.6196 - val_false_negatives: 35.0000 - val_false_positives: 34.0000 - val_true_negatives: 242.0000 - val_true_positives: 57.0000\n",
            "Epoch 145/200\n",
            "44/44 [==============================] - 1s 15ms/step - loss: 0.3927 - Accuracy: 0.8494 - false_negatives: 60.0000 - false_positives: 44.0000 - true_negatives: 1012.0000 - true_positives: 292.0000 - val_loss: 1.5338 - val_Accuracy: 0.6413 - val_false_negatives: 33.0000 - val_false_positives: 33.0000 - val_true_negatives: 243.0000 - val_true_positives: 59.0000\n",
            "Epoch 146/200\n",
            "44/44 [==============================] - 1s 15ms/step - loss: 0.3408 - Accuracy: 0.8892 - false_negatives: 43.0000 - false_positives: 33.0000 - true_negatives: 1023.0000 - true_positives: 309.0000 - val_loss: 1.1712 - val_Accuracy: 0.6739 - val_false_negatives: 30.0000 - val_false_positives: 30.0000 - val_true_negatives: 246.0000 - val_true_positives: 62.0000\n",
            "Epoch 147/200\n",
            "44/44 [==============================] - 1s 16ms/step - loss: 0.3181 - Accuracy: 0.8778 - false_negatives: 46.0000 - false_positives: 35.0000 - true_negatives: 1021.0000 - true_positives: 306.0000 - val_loss: 1.1942 - val_Accuracy: 0.6196 - val_false_negatives: 38.0000 - val_false_positives: 32.0000 - val_true_negatives: 244.0000 - val_true_positives: 54.0000\n",
            "Epoch 148/200\n",
            "44/44 [==============================] - 1s 17ms/step - loss: 0.3325 - Accuracy: 0.8920 - false_negatives: 47.0000 - false_positives: 35.0000 - true_negatives: 1021.0000 - true_positives: 305.0000 - val_loss: 1.2014 - val_Accuracy: 0.6196 - val_false_negatives: 37.0000 - val_false_positives: 33.0000 - val_true_negatives: 243.0000 - val_true_positives: 55.0000\n",
            "Epoch 149/200\n",
            "44/44 [==============================] - 1s 15ms/step - loss: 0.3114 - Accuracy: 0.8722 - false_negatives: 51.0000 - false_positives: 39.0000 - true_negatives: 1017.0000 - true_positives: 301.0000 - val_loss: 1.0692 - val_Accuracy: 0.6304 - val_false_negatives: 34.0000 - val_false_positives: 33.0000 - val_true_negatives: 243.0000 - val_true_positives: 58.0000\n",
            "Epoch 150/200\n",
            "44/44 [==============================] - 1s 15ms/step - loss: 0.2991 - Accuracy: 0.8892 - false_negatives: 43.0000 - false_positives: 31.0000 - true_negatives: 1025.0000 - true_positives: 309.0000 - val_loss: 1.1163 - val_Accuracy: 0.6196 - val_false_negatives: 35.0000 - val_false_positives: 34.0000 - val_true_negatives: 242.0000 - val_true_positives: 57.0000\n",
            "Epoch 151/200\n",
            "44/44 [==============================] - 1s 15ms/step - loss: 0.3661 - Accuracy: 0.8523 - false_negatives: 55.0000 - false_positives: 47.0000 - true_negatives: 1009.0000 - true_positives: 297.0000 - val_loss: 1.3614 - val_Accuracy: 0.5761 - val_false_negatives: 39.0000 - val_false_positives: 37.0000 - val_true_negatives: 239.0000 - val_true_positives: 53.0000\n",
            "Epoch 152/200\n",
            "44/44 [==============================] - 1s 15ms/step - loss: 0.3777 - Accuracy: 0.8693 - false_negatives: 52.0000 - false_positives: 39.0000 - true_negatives: 1017.0000 - true_positives: 300.0000 - val_loss: 1.0254 - val_Accuracy: 0.5761 - val_false_negatives: 40.0000 - val_false_positives: 34.0000 - val_true_negatives: 242.0000 - val_true_positives: 52.0000\n",
            "Epoch 153/200\n",
            "44/44 [==============================] - 1s 15ms/step - loss: 0.2947 - Accuracy: 0.9006 - false_negatives: 42.0000 - false_positives: 28.0000 - true_negatives: 1028.0000 - true_positives: 310.0000 - val_loss: 1.2980 - val_Accuracy: 0.6304 - val_false_negatives: 34.0000 - val_false_positives: 33.0000 - val_true_negatives: 243.0000 - val_true_positives: 58.0000\n",
            "Epoch 154/200\n",
            "44/44 [==============================] - 1s 15ms/step - loss: 0.2838 - Accuracy: 0.8920 - false_negatives: 40.0000 - false_positives: 28.0000 - true_negatives: 1028.0000 - true_positives: 312.0000 - val_loss: 1.5773 - val_Accuracy: 0.6087 - val_false_negatives: 36.0000 - val_false_positives: 36.0000 - val_true_negatives: 240.0000 - val_true_positives: 56.0000\n",
            "Epoch 155/200\n",
            "44/44 [==============================] - 1s 15ms/step - loss: 0.2684 - Accuracy: 0.8920 - false_negatives: 40.0000 - false_positives: 31.0000 - true_negatives: 1025.0000 - true_positives: 312.0000 - val_loss: 1.0196 - val_Accuracy: 0.6522 - val_false_negatives: 33.0000 - val_false_positives: 30.0000 - val_true_negatives: 246.0000 - val_true_positives: 59.0000\n",
            "Epoch 156/200\n",
            "44/44 [==============================] - 1s 15ms/step - loss: 0.3375 - Accuracy: 0.8864 - false_negatives: 44.0000 - false_positives: 37.0000 - true_negatives: 1019.0000 - true_positives: 308.0000 - val_loss: 1.7276 - val_Accuracy: 0.5761 - val_false_negatives: 39.0000 - val_false_positives: 38.0000 - val_true_negatives: 238.0000 - val_true_positives: 53.0000\n",
            "Epoch 157/200\n",
            "44/44 [==============================] - 1s 15ms/step - loss: 0.3092 - Accuracy: 0.8722 - false_negatives: 51.0000 - false_positives: 38.0000 - true_negatives: 1018.0000 - true_positives: 301.0000 - val_loss: 1.9904 - val_Accuracy: 0.6087 - val_false_negatives: 36.0000 - val_false_positives: 36.0000 - val_true_negatives: 240.0000 - val_true_positives: 56.0000\n",
            "Epoch 158/200\n",
            "44/44 [==============================] - 1s 15ms/step - loss: 0.2826 - Accuracy: 0.8949 - false_negatives: 41.0000 - false_positives: 33.0000 - true_negatives: 1023.0000 - true_positives: 311.0000 - val_loss: 1.9195 - val_Accuracy: 0.6087 - val_false_negatives: 37.0000 - val_false_positives: 36.0000 - val_true_negatives: 240.0000 - val_true_positives: 55.0000\n",
            "Epoch 159/200\n",
            "44/44 [==============================] - 1s 15ms/step - loss: 0.3659 - Accuracy: 0.8750 - false_negatives: 50.0000 - false_positives: 36.0000 - true_negatives: 1020.0000 - true_positives: 302.0000 - val_loss: 2.1024 - val_Accuracy: 0.5870 - val_false_negatives: 38.0000 - val_false_positives: 38.0000 - val_true_negatives: 238.0000 - val_true_positives: 54.0000\n",
            "Epoch 160/200\n",
            "44/44 [==============================] - 1s 15ms/step - loss: 0.3338 - Accuracy: 0.8807 - false_negatives: 45.0000 - false_positives: 30.0000 - true_negatives: 1026.0000 - true_positives: 307.0000 - val_loss: 1.3596 - val_Accuracy: 0.5978 - val_false_negatives: 37.0000 - val_false_positives: 35.0000 - val_true_negatives: 241.0000 - val_true_positives: 55.0000\n",
            "Epoch 161/200\n",
            "44/44 [==============================] - 1s 15ms/step - loss: 0.2982 - Accuracy: 0.8778 - false_negatives: 47.0000 - false_positives: 38.0000 - true_negatives: 1018.0000 - true_positives: 305.0000 - val_loss: 2.0147 - val_Accuracy: 0.5978 - val_false_negatives: 38.0000 - val_false_positives: 36.0000 - val_true_negatives: 240.0000 - val_true_positives: 54.0000\n",
            "Epoch 162/200\n",
            "44/44 [==============================] - 1s 15ms/step - loss: 0.2964 - Accuracy: 0.8807 - false_negatives: 47.0000 - false_positives: 38.0000 - true_negatives: 1018.0000 - true_positives: 305.0000 - val_loss: 1.8338 - val_Accuracy: 0.5652 - val_false_negatives: 40.0000 - val_false_positives: 38.0000 - val_true_negatives: 238.0000 - val_true_positives: 52.0000\n",
            "Epoch 163/200\n",
            "44/44 [==============================] - 1s 15ms/step - loss: 0.2619 - Accuracy: 0.9091 - false_negatives: 35.0000 - false_positives: 31.0000 - true_negatives: 1025.0000 - true_positives: 317.0000 - val_loss: 1.8193 - val_Accuracy: 0.5870 - val_false_negatives: 39.0000 - val_false_positives: 38.0000 - val_true_negatives: 238.0000 - val_true_positives: 53.0000\n",
            "Epoch 164/200\n",
            "44/44 [==============================] - 1s 16ms/step - loss: 0.3019 - Accuracy: 0.8949 - false_negatives: 41.0000 - false_positives: 30.0000 - true_negatives: 1026.0000 - true_positives: 311.0000 - val_loss: 1.8012 - val_Accuracy: 0.5978 - val_false_negatives: 38.0000 - val_false_positives: 36.0000 - val_true_negatives: 240.0000 - val_true_positives: 54.0000\n",
            "Epoch 165/200\n",
            "44/44 [==============================] - 1s 15ms/step - loss: 0.2915 - Accuracy: 0.9006 - false_negatives: 38.0000 - false_positives: 27.0000 - true_negatives: 1029.0000 - true_positives: 314.0000 - val_loss: 1.6134 - val_Accuracy: 0.6087 - val_false_negatives: 36.0000 - val_false_positives: 35.0000 - val_true_negatives: 241.0000 - val_true_positives: 56.0000\n",
            "Epoch 166/200\n",
            "44/44 [==============================] - 1s 15ms/step - loss: 0.3643 - Accuracy: 0.8580 - false_negatives: 50.0000 - false_positives: 43.0000 - true_negatives: 1013.0000 - true_positives: 302.0000 - val_loss: 1.3712 - val_Accuracy: 0.5543 - val_false_negatives: 41.0000 - val_false_positives: 39.0000 - val_true_negatives: 237.0000 - val_true_positives: 51.0000\n",
            "Epoch 167/200\n",
            "44/44 [==============================] - 1s 15ms/step - loss: 0.4940 - Accuracy: 0.8295 - false_negatives: 67.0000 - false_positives: 55.0000 - true_negatives: 1001.0000 - true_positives: 285.0000 - val_loss: 1.4401 - val_Accuracy: 0.5870 - val_false_negatives: 40.0000 - val_false_positives: 33.0000 - val_true_negatives: 243.0000 - val_true_positives: 52.0000\n",
            "Epoch 168/200\n",
            "44/44 [==============================] - 1s 16ms/step - loss: 0.3781 - Accuracy: 0.8608 - false_negatives: 55.0000 - false_positives: 45.0000 - true_negatives: 1011.0000 - true_positives: 297.0000 - val_loss: 1.3901 - val_Accuracy: 0.6522 - val_false_negatives: 33.0000 - val_false_positives: 32.0000 - val_true_negatives: 244.0000 - val_true_positives: 59.0000\n",
            "Epoch 169/200\n",
            "44/44 [==============================] - 1s 15ms/step - loss: 0.3253 - Accuracy: 0.8920 - false_negatives: 44.0000 - false_positives: 31.0000 - true_negatives: 1025.0000 - true_positives: 308.0000 - val_loss: 1.4691 - val_Accuracy: 0.5978 - val_false_negatives: 37.0000 - val_false_positives: 35.0000 - val_true_negatives: 241.0000 - val_true_positives: 55.0000\n",
            "Epoch 170/200\n",
            "44/44 [==============================] - 1s 15ms/step - loss: 0.3196 - Accuracy: 0.8835 - false_negatives: 47.0000 - false_positives: 32.0000 - true_negatives: 1024.0000 - true_positives: 305.0000 - val_loss: 1.0290 - val_Accuracy: 0.6630 - val_false_negatives: 33.0000 - val_false_positives: 30.0000 - val_true_negatives: 246.0000 - val_true_positives: 59.0000\n",
            "Epoch 171/200\n",
            "44/44 [==============================] - 1s 15ms/step - loss: 0.2931 - Accuracy: 0.8977 - false_negatives: 44.0000 - false_positives: 34.0000 - true_negatives: 1022.0000 - true_positives: 308.0000 - val_loss: 1.6351 - val_Accuracy: 0.5761 - val_false_negatives: 40.0000 - val_false_positives: 39.0000 - val_true_negatives: 237.0000 - val_true_positives: 52.0000\n",
            "Epoch 172/200\n",
            "44/44 [==============================] - 1s 15ms/step - loss: 0.2565 - Accuracy: 0.9091 - false_negatives: 35.0000 - false_positives: 31.0000 - true_negatives: 1025.0000 - true_positives: 317.0000 - val_loss: 1.6232 - val_Accuracy: 0.5978 - val_false_negatives: 37.0000 - val_false_positives: 36.0000 - val_true_negatives: 240.0000 - val_true_positives: 55.0000\n",
            "Epoch 173/200\n",
            "44/44 [==============================] - 1s 15ms/step - loss: 0.2738 - Accuracy: 0.8892 - false_negatives: 42.0000 - false_positives: 33.0000 - true_negatives: 1023.0000 - true_positives: 310.0000 - val_loss: 1.3267 - val_Accuracy: 0.5978 - val_false_negatives: 37.0000 - val_false_positives: 36.0000 - val_true_negatives: 240.0000 - val_true_positives: 55.0000\n",
            "Epoch 174/200\n",
            "44/44 [==============================] - 1s 16ms/step - loss: 0.2980 - Accuracy: 0.8949 - false_negatives: 41.0000 - false_positives: 31.0000 - true_negatives: 1025.0000 - true_positives: 311.0000 - val_loss: 1.4053 - val_Accuracy: 0.6304 - val_false_negatives: 36.0000 - val_false_positives: 34.0000 - val_true_negatives: 242.0000 - val_true_positives: 56.0000\n",
            "Epoch 175/200\n",
            "44/44 [==============================] - 1s 16ms/step - loss: 0.3931 - Accuracy: 0.8608 - false_negatives: 53.0000 - false_positives: 45.0000 - true_negatives: 1011.0000 - true_positives: 299.0000 - val_loss: 1.2783 - val_Accuracy: 0.5978 - val_false_negatives: 37.0000 - val_false_positives: 33.0000 - val_true_negatives: 243.0000 - val_true_positives: 55.0000\n",
            "Epoch 176/200\n",
            "44/44 [==============================] - 1s 15ms/step - loss: 0.3702 - Accuracy: 0.8523 - false_negatives: 55.0000 - false_positives: 47.0000 - true_negatives: 1009.0000 - true_positives: 297.0000 - val_loss: 1.7808 - val_Accuracy: 0.5870 - val_false_negatives: 41.0000 - val_false_positives: 37.0000 - val_true_negatives: 239.0000 - val_true_positives: 51.0000\n",
            "Epoch 177/200\n",
            "44/44 [==============================] - 1s 15ms/step - loss: 0.3298 - Accuracy: 0.9034 - false_negatives: 41.0000 - false_positives: 30.0000 - true_negatives: 1026.0000 - true_positives: 311.0000 - val_loss: 1.4413 - val_Accuracy: 0.6522 - val_false_negatives: 32.0000 - val_false_positives: 32.0000 - val_true_negatives: 244.0000 - val_true_positives: 60.0000\n",
            "Epoch 178/200\n",
            "44/44 [==============================] - 1s 16ms/step - loss: 0.2221 - Accuracy: 0.9403 - false_negatives: 26.0000 - false_positives: 19.0000 - true_negatives: 1037.0000 - true_positives: 326.0000 - val_loss: 1.1837 - val_Accuracy: 0.6630 - val_false_negatives: 32.0000 - val_false_positives: 30.0000 - val_true_negatives: 246.0000 - val_true_positives: 60.0000\n",
            "Epoch 179/200\n",
            "44/44 [==============================] - 1s 16ms/step - loss: 0.2248 - Accuracy: 0.9261 - false_negatives: 33.0000 - false_positives: 23.0000 - true_negatives: 1033.0000 - true_positives: 319.0000 - val_loss: 2.0066 - val_Accuracy: 0.5761 - val_false_negatives: 39.0000 - val_false_positives: 39.0000 - val_true_negatives: 237.0000 - val_true_positives: 53.0000\n",
            "Epoch 180/200\n",
            "44/44 [==============================] - 1s 15ms/step - loss: 0.2323 - Accuracy: 0.9233 - false_negatives: 30.0000 - false_positives: 22.0000 - true_negatives: 1034.0000 - true_positives: 322.0000 - val_loss: 1.6610 - val_Accuracy: 0.6196 - val_false_negatives: 35.0000 - val_false_positives: 35.0000 - val_true_negatives: 241.0000 - val_true_positives: 57.0000\n",
            "Epoch 181/200\n",
            "44/44 [==============================] - 1s 15ms/step - loss: 0.2099 - Accuracy: 0.9233 - false_negatives: 30.0000 - false_positives: 25.0000 - true_negatives: 1031.0000 - true_positives: 322.0000 - val_loss: 1.0622 - val_Accuracy: 0.7283 - val_false_negatives: 25.0000 - val_false_positives: 24.0000 - val_true_negatives: 252.0000 - val_true_positives: 67.0000\n",
            "Epoch 182/200\n",
            "44/44 [==============================] - 1s 16ms/step - loss: 0.2652 - Accuracy: 0.9062 - false_negatives: 36.0000 - false_positives: 28.0000 - true_negatives: 1028.0000 - true_positives: 316.0000 - val_loss: 1.7102 - val_Accuracy: 0.6087 - val_false_negatives: 36.0000 - val_false_positives: 35.0000 - val_true_negatives: 241.0000 - val_true_positives: 56.0000\n",
            "Epoch 183/200\n",
            "44/44 [==============================] - 1s 15ms/step - loss: 0.2657 - Accuracy: 0.9205 - false_negatives: 32.0000 - false_positives: 26.0000 - true_negatives: 1030.0000 - true_positives: 320.0000 - val_loss: 1.1817 - val_Accuracy: 0.6413 - val_false_negatives: 34.0000 - val_false_positives: 32.0000 - val_true_negatives: 244.0000 - val_true_positives: 58.0000\n",
            "Epoch 184/200\n",
            "44/44 [==============================] - 1s 15ms/step - loss: 0.2327 - Accuracy: 0.9176 - false_negatives: 34.0000 - false_positives: 25.0000 - true_negatives: 1031.0000 - true_positives: 318.0000 - val_loss: 1.2894 - val_Accuracy: 0.6739 - val_false_negatives: 30.0000 - val_false_positives: 28.0000 - val_true_negatives: 248.0000 - val_true_positives: 62.0000\n",
            "Epoch 185/200\n",
            "44/44 [==============================] - 1s 15ms/step - loss: 0.2123 - Accuracy: 0.9119 - false_negatives: 32.0000 - false_positives: 24.0000 - true_negatives: 1032.0000 - true_positives: 320.0000 - val_loss: 1.2843 - val_Accuracy: 0.6630 - val_false_negatives: 32.0000 - val_false_positives: 31.0000 - val_true_negatives: 245.0000 - val_true_positives: 60.0000\n",
            "Epoch 186/200\n",
            "44/44 [==============================] - 1s 16ms/step - loss: 0.2209 - Accuracy: 0.9233 - false_negatives: 31.0000 - false_positives: 21.0000 - true_negatives: 1035.0000 - true_positives: 321.0000 - val_loss: 1.2386 - val_Accuracy: 0.7065 - val_false_negatives: 29.0000 - val_false_positives: 26.0000 - val_true_negatives: 250.0000 - val_true_positives: 63.0000\n",
            "Epoch 187/200\n",
            "44/44 [==============================] - 1s 16ms/step - loss: 0.2072 - Accuracy: 0.9205 - false_negatives: 30.0000 - false_positives: 25.0000 - true_negatives: 1031.0000 - true_positives: 322.0000 - val_loss: 2.1536 - val_Accuracy: 0.6087 - val_false_negatives: 36.0000 - val_false_positives: 36.0000 - val_true_negatives: 240.0000 - val_true_positives: 56.0000\n",
            "Epoch 188/200\n",
            "44/44 [==============================] - 1s 16ms/step - loss: 0.2168 - Accuracy: 0.9233 - false_negatives: 28.0000 - false_positives: 25.0000 - true_negatives: 1031.0000 - true_positives: 324.0000 - val_loss: 1.2384 - val_Accuracy: 0.7283 - val_false_negatives: 25.0000 - val_false_positives: 25.0000 - val_true_negatives: 251.0000 - val_true_positives: 67.0000\n",
            "Epoch 189/200\n",
            "44/44 [==============================] - 1s 16ms/step - loss: 0.2517 - Accuracy: 0.8835 - false_negatives: 43.0000 - false_positives: 35.0000 - true_negatives: 1021.0000 - true_positives: 309.0000 - val_loss: 1.3722 - val_Accuracy: 0.6957 - val_false_negatives: 28.0000 - val_false_positives: 27.0000 - val_true_negatives: 249.0000 - val_true_positives: 64.0000\n",
            "Epoch 190/200\n",
            "44/44 [==============================] - 1s 16ms/step - loss: 0.2600 - Accuracy: 0.9062 - false_negatives: 35.0000 - false_positives: 29.0000 - true_negatives: 1027.0000 - true_positives: 317.0000 - val_loss: 1.6074 - val_Accuracy: 0.6304 - val_false_negatives: 34.0000 - val_false_positives: 33.0000 - val_true_negatives: 243.0000 - val_true_positives: 58.0000\n",
            "Epoch 191/200\n",
            "44/44 [==============================] - 1s 15ms/step - loss: 0.2466 - Accuracy: 0.9176 - false_negatives: 35.0000 - false_positives: 25.0000 - true_negatives: 1031.0000 - true_positives: 317.0000 - val_loss: 1.0009 - val_Accuracy: 0.7065 - val_false_negatives: 27.0000 - val_false_positives: 27.0000 - val_true_negatives: 249.0000 - val_true_positives: 65.0000\n",
            "Epoch 192/200\n",
            "44/44 [==============================] - 1s 15ms/step - loss: 0.1929 - Accuracy: 0.9347 - false_negatives: 28.0000 - false_positives: 21.0000 - true_negatives: 1035.0000 - true_positives: 324.0000 - val_loss: 1.2841 - val_Accuracy: 0.6848 - val_false_negatives: 29.0000 - val_false_positives: 29.0000 - val_true_negatives: 247.0000 - val_true_positives: 63.0000\n",
            "Epoch 193/200\n",
            "44/44 [==============================] - 1s 15ms/step - loss: 0.1992 - Accuracy: 0.9290 - false_negatives: 27.0000 - false_positives: 19.0000 - true_negatives: 1037.0000 - true_positives: 325.0000 - val_loss: 1.1607 - val_Accuracy: 0.7283 - val_false_negatives: 25.0000 - val_false_positives: 25.0000 - val_true_negatives: 251.0000 - val_true_positives: 67.0000\n",
            "Epoch 194/200\n",
            "44/44 [==============================] - 1s 15ms/step - loss: 0.2188 - Accuracy: 0.9148 - false_negatives: 34.0000 - false_positives: 28.0000 - true_negatives: 1028.0000 - true_positives: 318.0000 - val_loss: 1.6381 - val_Accuracy: 0.6413 - val_false_negatives: 33.0000 - val_false_positives: 33.0000 - val_true_negatives: 243.0000 - val_true_positives: 59.0000\n",
            "Epoch 195/200\n",
            "44/44 [==============================] - 1s 16ms/step - loss: 0.1926 - Accuracy: 0.9290 - false_negatives: 26.0000 - false_positives: 22.0000 - true_negatives: 1034.0000 - true_positives: 326.0000 - val_loss: 1.8398 - val_Accuracy: 0.6413 - val_false_negatives: 33.0000 - val_false_positives: 33.0000 - val_true_negatives: 243.0000 - val_true_positives: 59.0000\n",
            "Epoch 196/200\n",
            "44/44 [==============================] - 1s 16ms/step - loss: 0.2033 - Accuracy: 0.9261 - false_negatives: 27.0000 - false_positives: 22.0000 - true_negatives: 1034.0000 - true_positives: 325.0000 - val_loss: 1.4915 - val_Accuracy: 0.6739 - val_false_negatives: 30.0000 - val_false_positives: 30.0000 - val_true_negatives: 246.0000 - val_true_positives: 62.0000\n",
            "Epoch 197/200\n",
            "44/44 [==============================] - 1s 15ms/step - loss: 0.2050 - Accuracy: 0.9148 - false_negatives: 30.0000 - false_positives: 28.0000 - true_negatives: 1028.0000 - true_positives: 322.0000 - val_loss: 1.6878 - val_Accuracy: 0.6304 - val_false_negatives: 34.0000 - val_false_positives: 33.0000 - val_true_negatives: 243.0000 - val_true_positives: 58.0000\n",
            "Epoch 198/200\n",
            "44/44 [==============================] - 1s 15ms/step - loss: 0.1626 - Accuracy: 0.9489 - false_negatives: 22.0000 - false_positives: 14.0000 - true_negatives: 1042.0000 - true_positives: 330.0000 - val_loss: 1.9098 - val_Accuracy: 0.6304 - val_false_negatives: 34.0000 - val_false_positives: 34.0000 - val_true_negatives: 242.0000 - val_true_positives: 58.0000\n",
            "Epoch 199/200\n",
            "44/44 [==============================] - 1s 15ms/step - loss: 0.1980 - Accuracy: 0.9261 - false_negatives: 30.0000 - false_positives: 25.0000 - true_negatives: 1031.0000 - true_positives: 322.0000 - val_loss: 1.2665 - val_Accuracy: 0.6957 - val_false_negatives: 28.0000 - val_false_positives: 28.0000 - val_true_negatives: 248.0000 - val_true_positives: 64.0000\n",
            "Epoch 200/200\n",
            "44/44 [==============================] - 1s 16ms/step - loss: 0.1720 - Accuracy: 0.9347 - false_negatives: 23.0000 - false_positives: 22.0000 - true_negatives: 1034.0000 - true_positives: 329.0000 - val_loss: 1.4879 - val_Accuracy: 0.6957 - val_false_negatives: 28.0000 - val_false_positives: 28.0000 - val_true_negatives: 248.0000 - val_true_positives: 64.0000\n"
          ]
        }
      ]
    },
    {
      "cell_type": "markdown",
      "source": [
        "Plotting Traning Result"
      ],
      "metadata": {
        "id": "XZSFG8fXqz7c"
      }
    },
    {
      "cell_type": "code",
      "source": [
        "  #plotting\n",
        "  epochs = range(1, len(history.history['loss'])+1)\n",
        "  plt.title(f\"Grafik loss training iterasi {iterasi}\")\n",
        "  plt.plot(epochs, history.history['loss'], 'r', label='Training Loss')\n",
        "  plt.plot(epochs, history.history['val_loss'], 'b', label='Validation Loss')    \n",
        "  plt.xlabel(\"Epoch\")\n",
        "  plt.ylabel(\"Loss\")\n",
        "  plt.legend()\n",
        "  plt.show()\n"
      ],
      "metadata": {
        "id": "3dXbDrJpY1NK",
        "colab": {
          "base_uri": "https://localhost:8080/",
          "height": 295
        },
        "outputId": "a740fc65-6292-45ed-dcde-93cc46912d0d"
      },
      "execution_count": 12,
      "outputs": [
        {
          "output_type": "display_data",
          "data": {
            "text/plain": [
              "<Figure size 432x288 with 1 Axes>"
            ],
            "image/png": "[encoded data removed]"
          },
          "metadata": {
            "needs_background": "light"
          }
        }
      ]
    },
    {
      "cell_type": "code",
      "source": [
        "  #plotting\n",
        "  epochs = range(1, len(history.history['loss'])+1)\n",
        "  plt.title(f\"Grafik Akurasi training iterasi {iterasi}\")\n",
        "  plt.plot(epochs, history.history['Accuracy'], 'r', label='Training Accuracy')\n",
        "  plt.plot(epochs, history.history['val_Accuracy'], 'b', label='Validation Accuracy')    \n",
        "  plt.xlabel(\"Epoch\")\n",
        "  plt.ylabel(\"Accuracy\")\n",
        "  plt.legend()\n",
        "  plt.show()"
      ],
      "metadata": {
        "id": "j3xigprPwlSX",
        "colab": {
          "base_uri": "https://localhost:8080/",
          "height": 295
        },
        "outputId": "69c2d3c7-defe-468f-9172-2cb735bbb642"
      },
      "execution_count": 13,
      "outputs": [
        {
          "output_type": "display_data",
          "data": {
            "text/plain": [
              "<Figure size 432x288 with 1 Axes>"
            ],
            "image/png": "[encoded data removed]"
          },
          "metadata": {
            "needs_background": "light"
          }
        }
      ]
    },
    {
      "cell_type": "code",
      "source": [
        "import matplotlib.pyplot as plt\n",
        "from sklearn.datasets import make_classification\n",
        "from numpy import mean\n",
        "from sklearn.metrics import confusion_matrix, ConfusionMatrixDisplay, accuracy_score, classification_report, recall_score\n",
        "\n",
        "validation = model.predict(np_image_list_validation)\n",
        "\n",
        "predicted_labels = []\n",
        "correct_labels = []\n",
        "for i in range (len(validation)):\n",
        "  predicted_labels.append(np.argmax(validation[i]))\n",
        "\n",
        "for i in range (len(image_labels_validation)):\n",
        "  correct_labels.append(np.argmax(image_labels_validation[i]))\n",
        "\n",
        "\n",
        "confusion_matrix = confusion_matrix(correct_labels, predicted_labels)\n",
        "disp = ConfusionMatrixDisplay(confusion_matrix=confusion_matrix)  \n",
        "disp.plot()\n",
        "plt.show()\n",
        "print('--------')\n",
        "FP = confusion_matrix.sum(axis=0) - np.diag(confusion_matrix)  \n",
        "FN = confusion_matrix.sum(axis=1) - np.diag(confusion_matrix)\n",
        "TP = np.diag(confusion_matrix)\n",
        "TN = confusion_matrix.sum() - (FP + FN + TP)\n",
        "\n",
        "# Sensitivity, hit rate, recall, or true positive rate\n",
        "TPR = TP/(TP+FN)\n",
        "# Specificity or true negative rate\n",
        "TNR = TN/(TN+FP) \n",
        "# Overall accuracy\n",
        "ACC = (TP+TN)/(TP+FP+FN+TN)\n",
        "\n",
        "print(TP)\n",
        "print(TN)\n",
        "print(FP)\n",
        "print(FN)\n",
        "print('--------')\n",
        "print(ACC)\n",
        "print(TPR)\n",
        "print(TNR)\n",
        "print('--------')\n",
        "\n",
        "TP = sum(TP)\n",
        "TN = sum(TN)\n",
        "FP = sum(FP)\n",
        "FN = sum(FN)\n",
        "\n",
        "# Sensitivity, hit rate, recall, or true positive rate\n",
        "TPR = TP/(TP+FN)\n",
        "# Specificity or true negative rate\n",
        "TNR = TN/(TN+FP) \n",
        "# Overall accuracy\n",
        "ACC = (TP+TN)/(TP+FP+FN+TN)\n",
        "\n",
        "print(TP)\n",
        "print(TN)\n",
        "print(FP)\n",
        "print(FN)\n",
        "print('--------')\n",
        "print(ACC)\n",
        "print(TPR)\n",
        "print(TNR)"
      ],
      "metadata": {
        "colab": {
          "base_uri": "https://localhost:8080/",
          "height": 591
        },
        "id": "y0RigLm76Rpg",
        "outputId": "950bc75c-884d-4f75-c0ae-6ebf1058c27b"
      },
      "execution_count": 14,
      "outputs": [
        {
          "output_type": "display_data",
          "data": {
            "text/plain": [
              "<Figure size 432x288 with 2 Axes>"
            ],
            "image/png": "[encoded data removed]"
          },
          "metadata": {
            "needs_background": "light"
          }
        },
        {
          "output_type": "stream",
          "name": "stdout",
          "text": [
            "--------\n",
            "[ 3  6 28 27]\n",
            "[71 77 48 52]\n",
            "[11  1 16  0]\n",
            "[ 7  8  0 13]\n",
            "--------\n",
            "[0.80434783 0.90217391 0.82608696 0.85869565]\n",
            "[0.3        0.42857143 1.         0.675     ]\n",
            "[0.86585366 0.98717949 0.75       1.        ]\n",
            "--------\n",
            "64\n",
            "248\n",
            "28\n",
            "28\n",
            "--------\n",
            "0.8478260869565217\n",
            "0.6956521739130435\n",
            "0.8985507246376812\n"
          ]
        }
      ]
    },
    {
      "cell_type": "code",
      "source": [
        "import matplotlib.pyplot as plt\n",
        "from sklearn.datasets import make_classification\n",
        "from numpy import mean\n",
        "from sklearn.metrics import confusion_matrix, ConfusionMatrixDisplay, accuracy_score, classification_report, recall_score\n",
        "\n",
        "test = model.predict(np_image_list_test)\n",
        "\n",
        "predicted_labels = []\n",
        "correct_labels = []\n",
        "for i in range (len(test)):\n",
        "  predicted_labels.append(np.argmax(test[i]))\n",
        "\n",
        "for i in range (len(image_labels_test)):\n",
        "  correct_labels.append(np.argmax(image_labels_test[i]))\n",
        "\n",
        "\n",
        "confusion_matrix = confusion_matrix(correct_labels, predicted_labels)\n",
        "disp = ConfusionMatrixDisplay(confusion_matrix=confusion_matrix)  \n",
        "disp.plot()\n",
        "plt.show()\n",
        "print('--------')\n",
        "FP = confusion_matrix.sum(axis=0) - np.diag(confusion_matrix)  \n",
        "FN = confusion_matrix.sum(axis=1) - np.diag(confusion_matrix)\n",
        "TP = np.diag(confusion_matrix)\n",
        "TN = confusion_matrix.sum() - (FP + FN + TP)\n",
        "\n",
        "# Sensitivity, hit rate, recall, or true positive rate\n",
        "TPR = TP/(TP+FN)\n",
        "# Specificity or true negative rate\n",
        "TNR = TN/(TN+FP) \n",
        "# Overall accuracy\n",
        "ACC = (TP+TN)/(TP+FP+FN+TN)\n",
        "\n",
        "print(TP)\n",
        "print(TN)\n",
        "print(FP)\n",
        "print(FN)\n",
        "print('--------')\n",
        "print(ACC)\n",
        "print(TPR)\n",
        "print(TNR)\n",
        "print('--------')\n",
        "\n",
        "TP = sum(TP)\n",
        "TN = sum(TN)\n",
        "FP = sum(FP)\n",
        "FN = sum(FN)\n",
        "\n",
        "# Sensitivity, hit rate, recall, or true positive rate\n",
        "TPR = TP/(TP+FN)\n",
        "# Specificity or true negative rate\n",
        "TNR = TN/(TN+FP) \n",
        "# Overall accuracy\n",
        "ACC = (TP+TN)/(TP+FP+FN+TN)\n",
        "\n",
        "print(TP)\n",
        "print(TN)\n",
        "print(FP)\n",
        "print(FN)\n",
        "print('--------')\n",
        "print(ACC)\n",
        "print(TPR)\n",
        "print(TNR)"
      ],
      "metadata": {
        "colab": {
          "base_uri": "https://localhost:8080/",
          "height": 591
        },
        "id": "xufCN02P5v4A",
        "outputId": "0bb4207d-f774-4453-e3c2-dabcc35d3650"
      },
      "execution_count": 15,
      "outputs": [
        {
          "output_type": "display_data",
          "data": {
            "text/plain": [
              "<Figure size 432x288 with 2 Axes>"
            ],
            "image/png": "[encoded data removed]"
          },
          "metadata": {
            "needs_background": "light"
          }
        },
        {
          "output_type": "stream",
          "name": "stdout",
          "text": [
            "--------\n",
            "[ 2 11 14 36]\n",
            "[96 85 67 35]\n",
            "[ 2  9 11 25]\n",
            "[10  5 18 14]\n",
            "--------\n",
            "[0.89090909 0.87272727 0.73636364 0.64545455]\n",
            "[0.16666667 0.6875     0.4375     0.72      ]\n",
            "[0.97959184 0.90425532 0.85897436 0.58333333]\n",
            "--------\n",
            "63\n",
            "283\n",
            "47\n",
            "47\n",
            "--------\n",
            "0.7863636363636364\n",
            "0.5727272727272728\n",
            "0.8575757575757575\n"
          ]
        }
      ]
    },
    {
      "cell_type": "markdown",
      "metadata": {
        "id": "bTgk1-sdzmgy"
      },
      "source": [
        "**Validating** Network"
      ]
    },
    {
      "cell_type": "code",
      "source": [
        "\n"
      ],
      "metadata": {
        "id": "d_NBE4KkWuhu"
      },
      "execution_count": 15,
      "outputs": []
    },
    {
      "cell_type": "markdown",
      "source": [
        "**Testing** Network"
      ],
      "metadata": {
        "id": "saJYjKqX9tRL"
      }
    },
    {
      "cell_type": "code",
      "source": [
        "\n"
      ],
      "metadata": {
        "id": "A7DR52hmTc75"
      },
      "execution_count": 15,
      "outputs": []
    },
    {
      "cell_type": "code",
      "source": [
        "test_img = cv2.imread('/content/Datasets/fold5/Test/apel_sehat/apel_sehat (1).jpg')\n",
        "\n",
        "plt.imshow(test_img)\n",
        "test_img = test_img / 255\n",
        "test_img = np.expand_dims(test_img, axis=0)\n",
        "pr=model.predict(test_img)\n",
        "\n",
        "print(pr)\n",
        "output = label_binarizer.inverse_transform(pr)\n",
        "print(output)"
      ],
      "metadata": {
        "colab": {
          "base_uri": "https://localhost:8080/",
          "height": 303
        },
        "id": "zkMI6CwJArvo",
        "outputId": "6d49c367-e506-4919-f708-c0c4c412fb68"
      },
      "execution_count": 16,
      "outputs": [
        {
          "output_type": "stream",
          "name": "stdout",
          "text": [
            "[[1.0481480e-08 1.2323217e-07 1.4748926e-04 9.9985242e-01]]\n",
            "['apel_sehat']\n"
          ]
        },
        {
          "output_type": "display_data",
          "data": {
            "text/plain": [
              "<Figure size 432x288 with 1 Axes>"
            ],
            "image/png": "[encoded data removed]"
          },
          "metadata": {
            "needs_background": "light"
          }
        }
      ]
    },
    {
      "cell_type": "code",
      "source": [
        "# save the model to disk\n",
        "#print(\"[INFO] Saving model...\")\n",
        "#pickle.dump(model,open('cnn_model.pkl', 'wb'))\n",
        "#model.save('/content/fold1.h5')"
      ],
      "metadata": {
        "id": "Wr_b8qBuCAIS"
      },
      "execution_count": 17,
      "outputs": []
    }
  ]
}