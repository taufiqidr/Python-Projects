{
  "nbformat": 4,
  "nbformat_minor": 0,
  "metadata": {
    "accelerator": "GPU",
    "colab": {
      "name": "Kodingan Skripsi 3",
      "provenance": [],
      "collapsed_sections": [],
      "include_colab_link": true
    },
    "kernelspec": {
      "display_name": "Python 3",
      "language": "python",
      "name": "python3"
    },
    "language_info": {
      "codemirror_mode": {
        "name": "ipython",
        "version": 3
      },
      "file_extension": ".py",
      "mimetype": "text/x-python",
      "name": "python",
      "nbconvert_exporter": "python",
      "pygments_lexer": "ipython3",
      "version": "3.6.6"
    }
  },
  "cells": [
    {
      "cell_type": "markdown",
      "metadata": {
        "id": "view-in-github",
        "colab_type": "text"
      },
      "source": [
        "<a href=\"https://colab.research.google.com/github/TaufiqIdrus/Python-Projects/blob/master/50_fold2.ipynb\" target=\"_parent\"><img src=\"https://colab.research.google.com/assets/colab-badge.svg\" alt=\"Open In Colab\"/></a>"
      ]
    },
    {
      "cell_type": "markdown",
      "metadata": {
        "id": "yJT_kQA2lITS"
      },
      "source": [
        "**Identifikasi Penyakit Pada Tanaman Apel menggunakan Convolutional Neural Network**"
      ]
    },
    {
      "cell_type": "code",
      "metadata": {
        "id": "xXeOaYTUzmgT"
      },
      "source": [
        "import numpy as np\n",
        "import pickle\n",
        "import os\n",
        "import cv2\n",
        "import tensorflow as tf\n",
        "import keras\n",
        "from os import listdir\n",
        "from sklearn.preprocessing import LabelBinarizer\n",
        "from keras.models import Sequential\n",
        "from keras.layers.convolutional import Conv2D\n",
        "from keras.layers.convolutional import MaxPooling2D\n",
        "from keras.layers.core import Activation, Flatten, Dropout, Dense\n",
        "from keras import backend as K\n",
        "from tensorflow.keras.optimizers import Adam\n",
        "from keras.preprocessing import image\n",
        "import matplotlib.pyplot as plt\n",
        "from sklearn.datasets import make_classification\n",
        "from numpy import mean\n"
      ],
      "execution_count": 1,
      "outputs": []
    },
    {
      "cell_type": "markdown",
      "metadata": {
        "id": "fp8C0d28lQok"
      },
      "source": [
        "Importing and Preparing Dataset"
      ]
    },
    {
      "cell_type": "code",
      "metadata": {
        "id": "_0xehllADlUs",
        "colab": {
          "base_uri": "https://localhost:8080/"
        },
        "outputId": "e6d5925c-956a-4cb3-e598-4d89eb40e0b5"
      },
      "source": [
        "!pip install pyunpack\n",
        "!pip install patool\n",
        "from pyunpack import Archive\n",
        "Archive('/content/fold2.rar').extractall('/content/Datasets/')\n",
        "iterasi = 2\n",
        "width=60\n",
        "height=60\n",
        "default_image_size = tuple((height, width))\n",
        "directory_root_train = '/content/Datasets/fold2/Train'\n",
        "directory_root_validation = '/content/Datasets/fold2/Validation'\n",
        "directory_root_test = '/content/Datasets/fold2/Test'\n",
        "image_size = 0\n",
        "depth=3"
      ],
      "execution_count": 2,
      "outputs": [
        {
          "output_type": "stream",
          "name": "stdout",
          "text": [
            "Looking in indexes: https://pypi.org/simple, https://us-python.pkg.dev/colab-wheels/public/simple/\n",
            "Requirement already satisfied: pyunpack in /usr/local/lib/python3.7/dist-packages (0.3)\n",
            "Requirement already satisfied: entrypoint2 in /usr/local/lib/python3.7/dist-packages (from pyunpack) (1.1)\n",
            "Requirement already satisfied: easyprocess in /usr/local/lib/python3.7/dist-packages (from pyunpack) (1.1)\n",
            "Looking in indexes: https://pypi.org/simple, https://us-python.pkg.dev/colab-wheels/public/simple/\n",
            "Requirement already satisfied: patool in /usr/local/lib/python3.7/dist-packages (1.12)\n"
          ]
        }
      ]
    },
    {
      "cell_type": "code",
      "metadata": {
        "id": "KbAwJJTpzmge"
      },
      "source": [
        "def convert_image_to_array(image_dir):\n",
        "    try:\n",
        "        image = cv2.imread(image_dir)\n",
        "        if image is not None :\n",
        "            image = cv2.resize(image, default_image_size)   \n",
        "            return keras.preprocessing.image.img_to_array(image)\n",
        "        else :\n",
        "            return np.array([])\n",
        "    except Exception as e:\n",
        "        print(f\"Error : {e}\")\n",
        "        return None"
      ],
      "execution_count": 3,
      "outputs": []
    },
    {
      "cell_type": "markdown",
      "source": [
        "Converting **Training** Data to Array"
      ],
      "metadata": {
        "id": "bgXxUMO2cI_D"
      }
    },
    {
      "cell_type": "code",
      "metadata": {
        "id": "Erz6IjKXzmgg",
        "colab": {
          "base_uri": "https://localhost:8080/"
        },
        "outputId": "e69aa5f9-f510-4a15-9652-c34de2faab26"
      },
      "source": [
        "image_list_train, label_list_train = [], []\n",
        "try:\n",
        "    print(\"[INFO] Loading images ...\")\n",
        "    root_dir = listdir(directory_root_train)\n",
        "\n",
        "    for plant_disease_folder in root_dir:\n",
        "        print(f\"[INFO] Processing {plant_disease_folder} ...\")\n",
        "        plant_disease_image_list = listdir(f\"{directory_root_train}/{plant_disease_folder}/\")\n",
        "      \n",
        "        for image in plant_disease_image_list:\n",
        "            image_directory = f\"{directory_root_train}/{plant_disease_folder}/{image}\"\n",
        "\n",
        "            if image_directory.endswith(\".jpg\") == True or image_directory.endswith(\".JPG\") == True:\n",
        "                image_list_train.append(convert_image_to_array(image_directory))\n",
        "                label_list_train.append(plant_disease_folder)\n",
        "    print(\"[INFO] Image loading completed\")\n",
        "\n",
        "except Exception as e:\n",
        "    print(f\"Error : {e}\")\n",
        "\n",
        "#image labeling\n",
        "image_size = len(image_list_train)\n",
        "label_binarizer = LabelBinarizer()\n",
        "image_labels_train = label_binarizer.fit_transform(label_list_train)\n",
        "pickle.dump(label_binarizer,open('label_transform_train.pkl', 'wb'))\n",
        "n_classes = len(label_binarizer.classes_)\n",
        "np_image_list_train = np.array(image_list_train, dtype=np.float16) / 255.0"
      ],
      "execution_count": 4,
      "outputs": [
        {
          "output_type": "stream",
          "name": "stdout",
          "text": [
            "[INFO] Loading images ...\n",
            "[INFO] Processing apel_sehat ...\n",
            "[INFO] Processing apel_bercak_daun ...\n",
            "[INFO] Processing apel_cacar_daun ...\n",
            "[INFO] Processing apel_busuk_buah ...\n",
            "[INFO] Image loading completed\n"
          ]
        }
      ]
    },
    {
      "cell_type": "markdown",
      "source": [
        "Converting **Validation** Data to Array"
      ],
      "metadata": {
        "id": "7eEMGiqRd_E4"
      }
    },
    {
      "cell_type": "code",
      "source": [
        "image_list_validation, label_list_validation = [], []\n",
        "try:\n",
        "    print(\"[INFO] Loading images ...\")\n",
        "    root_dir = listdir(directory_root_validation)\n",
        "\n",
        "    for plant_disease_folder in root_dir:\n",
        "        print(f\"[INFO] Processing {plant_disease_folder} ...\")\n",
        "        plant_disease_image_list = listdir(f\"{directory_root_validation}/{plant_disease_folder}/\")\n",
        "      \n",
        "        for image in plant_disease_image_list:\n",
        "            image_directory = f\"{directory_root_validation}/{plant_disease_folder}/{image}\"\n",
        "\n",
        "            if image_directory.endswith(\".jpg\") == True or image_directory.endswith(\".JPG\") == True:\n",
        "                image_list_validation.append(convert_image_to_array(image_directory))\n",
        "                label_list_validation.append(plant_disease_folder)\n",
        "    print(\"[INFO] Image loading completed\")\n",
        "\n",
        "except Exception as e:\n",
        "    print(f\"Error : {e}\")\n",
        "\n",
        "#image labeling\n",
        "image_size = len(image_list_validation)\n",
        "label_binarizer = LabelBinarizer()\n",
        "image_labels_validation = label_binarizer.fit_transform(label_list_validation)\n",
        "pickle.dump(label_binarizer,open('label_transform_validation.pkl', 'wb'))\n",
        "n_classes = len(label_binarizer.classes_)\n",
        "np_image_list_validation = np.array(image_list_validation, dtype=np.float16) / 255.0"
      ],
      "metadata": {
        "id": "wfHDdR0ZeEuU",
        "colab": {
          "base_uri": "https://localhost:8080/"
        },
        "outputId": "e71080ea-2a0e-4122-83b4-b8c0cc3bd327"
      },
      "execution_count": 5,
      "outputs": [
        {
          "output_type": "stream",
          "name": "stdout",
          "text": [
            "[INFO] Loading images ...\n",
            "[INFO] Processing apel_sehat ...\n",
            "[INFO] Processing apel_bercak_daun ...\n",
            "[INFO] Processing apel_cacar_daun ...\n",
            "[INFO] Processing apel_busuk_buah ...\n",
            "[INFO] Image loading completed\n"
          ]
        }
      ]
    },
    {
      "cell_type": "markdown",
      "source": [
        "Converting **Testing** Data to Array"
      ],
      "metadata": {
        "id": "brwWyZVncTdg"
      }
    },
    {
      "cell_type": "code",
      "metadata": {
        "id": "uNPby5UMcaWY",
        "colab": {
          "base_uri": "https://localhost:8080/"
        },
        "outputId": "49158103-87d7-49f6-dfb9-b764e652d665"
      },
      "source": [
        "image_list_test, label_list_test = [], []\n",
        "try:\n",
        "    print(\"[INFO] Loading images ...\")\n",
        "    root_dir = listdir(directory_root_test)\n",
        "\n",
        "    for plant_disease_folder in root_dir:\n",
        "        print(f\"[INFO] Processing {plant_disease_folder} ...\")\n",
        "        plant_disease_image_list = listdir(f\"{directory_root_test}/{plant_disease_folder}/\")\n",
        "      \n",
        "        for image in plant_disease_image_list:\n",
        "            image_directory = f\"{directory_root_test}/{plant_disease_folder}/{image}\"\n",
        "\n",
        "            if image_directory.endswith(\".jpg\") == True or image_directory.endswith(\".JPG\") == True:\n",
        "                image_list_test.append(convert_image_to_array(image_directory))\n",
        "                label_list_test.append(plant_disease_folder)\n",
        "    print(\"[INFO] Image loading completed\")\n",
        "\n",
        "except Exception as e:\n",
        "    print(f\"Error : {e}\")\n",
        "\n",
        "#image labeling\n",
        "image_size = len(image_list_test)\n",
        "label_binarizer = LabelBinarizer()\n",
        "image_labels_test = label_binarizer.fit_transform(label_list_test)\n",
        "pickle.dump(label_binarizer,open('label_transform_test.pkl', 'wb'))\n",
        "n_classes = len(label_binarizer.classes_)\n",
        "np_image_list_test = np.array(image_list_test, dtype=np.float16) / 255.0"
      ],
      "execution_count": 6,
      "outputs": [
        {
          "output_type": "stream",
          "name": "stdout",
          "text": [
            "[INFO] Loading images ...\n",
            "[INFO] Processing apel_sehat ...\n",
            "[INFO] Processing apel_bercak_daun ...\n",
            "[INFO] Processing apel_cacar_daun ...\n",
            "[INFO] Processing apel_busuk_buah ...\n",
            "[INFO] Image loading completed\n"
          ]
        }
      ]
    },
    {
      "cell_type": "markdown",
      "metadata": {
        "id": "jYBTFN0CnAi7"
      },
      "source": [
        "Data Augmenting Initialization"
      ]
    },
    {
      "cell_type": "code",
      "metadata": {
        "id": "TLMxMK2Tzmgr"
      },
      "source": [
        "aug = keras.preprocessing.image.ImageDataGenerator(\n",
        "    rotation_range=25, \n",
        "    width_shift_range=0.1,\n",
        "    height_shift_range=0.1, \n",
        "    shear_range=0.2, \n",
        "    zoom_range=0.2,\n",
        "    horizontal_flip=True, \n",
        "    fill_mode=\"nearest\")"
      ],
      "execution_count": 7,
      "outputs": []
    },
    {
      "cell_type": "markdown",
      "metadata": {
        "id": "H1BfRyYNnGv_"
      },
      "source": [
        "Creating CNN Model"
      ]
    },
    {
      "cell_type": "code",
      "metadata": {
        "id": "WmLX4wm8zmgs"
      },
      "source": [
        "model = keras.models.Sequential()\n",
        "inputShape = (height, width, depth)\n",
        "\n",
        "model.add(Conv2D(20, (5, 5), padding=\"same\",input_shape=inputShape))\n",
        "model.add(Activation(\"relu\"))\n",
        "\n",
        "model.add(MaxPooling2D(pool_size=(2, 2), strides=2))\n",
        "\n",
        "model.add(Conv2D(50, (5, 5), padding=\"same\"))\n",
        "model.add(Activation(\"relu\"))\n",
        "\n",
        "model.add(MaxPooling2D(pool_size=(2, 2),strides=2))\n",
        "\n",
        "model.add(Flatten())\n",
        "\n",
        "model.add(Dense(500))\n",
        "model.add(Activation(\"relu\"))\n",
        "\n",
        "model.add(Dense(4))\n",
        "model.add(Activation(\"softmax\"))"
      ],
      "execution_count": 8,
      "outputs": []
    },
    {
      "cell_type": "code",
      "source": [
        "#model.summary()"
      ],
      "metadata": {
        "id": "RQIgaph8hW06"
      },
      "execution_count": 9,
      "outputs": []
    },
    {
      "cell_type": "code",
      "source": [
        "#from PIL import Image\n",
        "#from keras.utils.vis_utils import plot_model\n",
        "#plot_model(model, to_file='cnn_model.png', show_shapes=True, show_layer_names=True)\n",
        "#display(Image.open('cnn_model.png'))"
      ],
      "metadata": {
        "id": "T05gPuu1GudW"
      },
      "execution_count": 10,
      "outputs": []
    },
    {
      "cell_type": "markdown",
      "metadata": {
        "id": "Zfsu3lVfnXFG"
      },
      "source": [
        "**Training** Network"
      ]
    },
    {
      "cell_type": "code",
      "metadata": {
        "id": "rvwKwe3Lzmgv",
        "colab": {
          "base_uri": "https://localhost:8080/"
        },
        "outputId": "e7a5084e-2d8d-4945-905b-b319ecb97abb"
      },
      "source": [
        "EPOCHS = 200\n",
        "INIT_LR = 1e-3\n",
        "BS = 8\n",
        "\n",
        "with tf.device('/GPU:0'):\n",
        "  opt = Adam(learning_rate=INIT_LR, decay=INIT_LR / EPOCHS)\n",
        "  model.compile(loss=\"categorical_crossentropy\", optimizer=opt,metrics=[\"Accuracy\", \"FalseNegatives\", \"FalsePositives\", \"TrueNegatives\", \"TruePositives\"])\n",
        "  \n",
        "  history = model.fit(\n",
        "      aug.flow(np_image_list_train, image_labels_train, batch_size=BS),\n",
        "      validation_data=(np_image_list_validation, image_labels_validation),\n",
        "      steps_per_epoch=len(np_image_list_train) // BS,\n",
        "      epochs=EPOCHS, \n",
        "      verbose=1,\n",
        "      )\n"
      ],
      "execution_count": 11,
      "outputs": [
        {
          "output_type": "stream",
          "name": "stdout",
          "text": [
            "Epoch 1/200\n",
            "44/44 [==============================] - 18s 60ms/step - loss: 1.3107 - Accuracy: 0.4253 - false_negatives: 288.0000 - false_positives: 53.0000 - true_negatives: 991.0000 - true_positives: 60.0000 - val_loss: 1.1492 - val_Accuracy: 0.4545 - val_false_negatives: 48.0000 - val_false_positives: 24.0000 - val_true_negatives: 240.0000 - val_true_positives: 40.0000\n",
            "Epoch 2/200\n",
            "44/44 [==============================] - 1s 27ms/step - loss: 1.1922 - Accuracy: 0.4770 - false_negatives: 254.0000 - false_positives: 56.0000 - true_negatives: 988.0000 - true_positives: 94.0000 - val_loss: 1.0576 - val_Accuracy: 0.5000 - val_false_negatives: 49.0000 - val_false_positives: 11.0000 - val_true_negatives: 253.0000 - val_true_positives: 39.0000\n",
            "Epoch 3/200\n",
            "44/44 [==============================] - 1s 14ms/step - loss: 1.1048 - Accuracy: 0.5460 - false_negatives: 235.0000 - false_positives: 44.0000 - true_negatives: 1000.0000 - true_positives: 113.0000 - val_loss: 1.0603 - val_Accuracy: 0.5568 - val_false_negatives: 48.0000 - val_false_positives: 16.0000 - val_true_negatives: 248.0000 - val_true_positives: 40.0000\n",
            "Epoch 4/200\n",
            "44/44 [==============================] - 1s 14ms/step - loss: 1.1383 - Accuracy: 0.5718 - false_negatives: 248.0000 - false_positives: 53.0000 - true_negatives: 991.0000 - true_positives: 100.0000 - val_loss: 1.0903 - val_Accuracy: 0.5000 - val_false_negatives: 48.0000 - val_false_positives: 19.0000 - val_true_negatives: 245.0000 - val_true_positives: 40.0000\n",
            "Epoch 5/200\n",
            "44/44 [==============================] - 1s 14ms/step - loss: 1.0416 - Accuracy: 0.5862 - false_negatives: 224.0000 - false_positives: 51.0000 - true_negatives: 993.0000 - true_positives: 124.0000 - val_loss: 0.9472 - val_Accuracy: 0.6364 - val_false_negatives: 50.0000 - val_false_positives: 10.0000 - val_true_negatives: 254.0000 - val_true_positives: 38.0000\n",
            "Epoch 6/200\n",
            "44/44 [==============================] - 1s 14ms/step - loss: 1.0475 - Accuracy: 0.5920 - false_negatives: 209.0000 - false_positives: 61.0000 - true_negatives: 983.0000 - true_positives: 139.0000 - val_loss: 0.9493 - val_Accuracy: 0.6932 - val_false_negatives: 58.0000 - val_false_positives: 4.0000 - val_true_negatives: 260.0000 - val_true_positives: 30.0000\n",
            "Epoch 7/200\n",
            "44/44 [==============================] - 1s 14ms/step - loss: 1.0048 - Accuracy: 0.6293 - false_negatives: 209.0000 - false_positives: 61.0000 - true_negatives: 983.0000 - true_positives: 139.0000 - val_loss: 0.9752 - val_Accuracy: 0.5795 - val_false_negatives: 42.0000 - val_false_positives: 17.0000 - val_true_negatives: 247.0000 - val_true_positives: 46.0000\n",
            "Epoch 8/200\n",
            "44/44 [==============================] - 1s 14ms/step - loss: 1.0045 - Accuracy: 0.5948 - false_negatives: 193.0000 - false_positives: 69.0000 - true_negatives: 975.0000 - true_positives: 155.0000 - val_loss: 1.0281 - val_Accuracy: 0.5341 - val_false_negatives: 48.0000 - val_false_positives: 17.0000 - val_true_negatives: 247.0000 - val_true_positives: 40.0000\n",
            "Epoch 9/200\n",
            "44/44 [==============================] - 1s 14ms/step - loss: 0.9961 - Accuracy: 0.6006 - false_negatives: 201.0000 - false_positives: 66.0000 - true_negatives: 978.0000 - true_positives: 147.0000 - val_loss: 0.9169 - val_Accuracy: 0.6591 - val_false_negatives: 52.0000 - val_false_positives: 7.0000 - val_true_negatives: 257.0000 - val_true_positives: 36.0000\n",
            "Epoch 10/200\n",
            "44/44 [==============================] - 1s 14ms/step - loss: 0.9169 - Accuracy: 0.6335 - false_negatives: 179.0000 - false_positives: 74.0000 - true_negatives: 982.0000 - true_positives: 173.0000 - val_loss: 1.1852 - val_Accuracy: 0.5341 - val_false_negatives: 48.0000 - val_false_positives: 29.0000 - val_true_negatives: 235.0000 - val_true_positives: 40.0000\n",
            "Epoch 11/200\n",
            "44/44 [==============================] - 1s 14ms/step - loss: 0.9531 - Accuracy: 0.6293 - false_negatives: 184.0000 - false_positives: 74.0000 - true_negatives: 970.0000 - true_positives: 164.0000 - val_loss: 0.8899 - val_Accuracy: 0.6591 - val_false_negatives: 51.0000 - val_false_positives: 7.0000 - val_true_negatives: 257.0000 - val_true_positives: 37.0000\n",
            "Epoch 12/200\n",
            "44/44 [==============================] - 1s 14ms/step - loss: 0.9226 - Accuracy: 0.6379 - false_negatives: 183.0000 - false_positives: 74.0000 - true_negatives: 970.0000 - true_positives: 165.0000 - val_loss: 0.8808 - val_Accuracy: 0.6932 - val_false_negatives: 47.0000 - val_false_positives: 14.0000 - val_true_negatives: 250.0000 - val_true_positives: 41.0000\n",
            "Epoch 13/200\n",
            "44/44 [==============================] - 1s 15ms/step - loss: 0.9895 - Accuracy: 0.6063 - false_negatives: 191.0000 - false_positives: 61.0000 - true_negatives: 983.0000 - true_positives: 157.0000 - val_loss: 0.9235 - val_Accuracy: 0.6136 - val_false_negatives: 45.0000 - val_false_positives: 14.0000 - val_true_negatives: 250.0000 - val_true_positives: 43.0000\n",
            "Epoch 14/200\n",
            "44/44 [==============================] - 1s 14ms/step - loss: 0.9496 - Accuracy: 0.6207 - false_negatives: 193.0000 - false_positives: 67.0000 - true_negatives: 977.0000 - true_positives: 155.0000 - val_loss: 0.9680 - val_Accuracy: 0.6250 - val_false_negatives: 39.0000 - val_false_positives: 23.0000 - val_true_negatives: 241.0000 - val_true_positives: 49.0000\n",
            "Epoch 15/200\n",
            "44/44 [==============================] - 1s 15ms/step - loss: 0.9253 - Accuracy: 0.6437 - false_negatives: 166.0000 - false_positives: 81.0000 - true_negatives: 963.0000 - true_positives: 182.0000 - val_loss: 0.8879 - val_Accuracy: 0.6591 - val_false_negatives: 36.0000 - val_false_positives: 17.0000 - val_true_negatives: 247.0000 - val_true_positives: 52.0000\n",
            "Epoch 16/200\n",
            "44/44 [==============================] - 1s 14ms/step - loss: 0.9273 - Accuracy: 0.6437 - false_negatives: 163.0000 - false_positives: 70.0000 - true_negatives: 974.0000 - true_positives: 185.0000 - val_loss: 0.9241 - val_Accuracy: 0.6477 - val_false_negatives: 42.0000 - val_false_positives: 14.0000 - val_true_negatives: 250.0000 - val_true_positives: 46.0000\n",
            "Epoch 17/200\n",
            "44/44 [==============================] - 1s 14ms/step - loss: 0.9216 - Accuracy: 0.6379 - false_negatives: 163.0000 - false_positives: 77.0000 - true_negatives: 967.0000 - true_positives: 185.0000 - val_loss: 1.1052 - val_Accuracy: 0.5568 - val_false_negatives: 42.0000 - val_false_positives: 26.0000 - val_true_negatives: 238.0000 - val_true_positives: 46.0000\n",
            "Epoch 18/200\n",
            "44/44 [==============================] - 1s 14ms/step - loss: 0.8957 - Accuracy: 0.6351 - false_negatives: 165.0000 - false_positives: 73.0000 - true_negatives: 971.0000 - true_positives: 183.0000 - val_loss: 1.0590 - val_Accuracy: 0.6023 - val_false_negatives: 43.0000 - val_false_positives: 21.0000 - val_true_negatives: 243.0000 - val_true_positives: 45.0000\n",
            "Epoch 19/200\n",
            "44/44 [==============================] - 1s 15ms/step - loss: 0.9236 - Accuracy: 0.6580 - false_negatives: 170.0000 - false_positives: 62.0000 - true_negatives: 982.0000 - true_positives: 178.0000 - val_loss: 1.0720 - val_Accuracy: 0.5682 - val_false_negatives: 42.0000 - val_false_positives: 24.0000 - val_true_negatives: 240.0000 - val_true_positives: 46.0000\n",
            "Epoch 20/200\n",
            "44/44 [==============================] - 1s 25ms/step - loss: 0.9082 - Accuracy: 0.6494 - false_negatives: 162.0000 - false_positives: 72.0000 - true_negatives: 972.0000 - true_positives: 186.0000 - val_loss: 0.8844 - val_Accuracy: 0.6705 - val_false_negatives: 35.0000 - val_false_positives: 16.0000 - val_true_negatives: 248.0000 - val_true_positives: 53.0000\n",
            "Epoch 21/200\n",
            "44/44 [==============================] - 1s 24ms/step - loss: 0.9311 - Accuracy: 0.6609 - false_negatives: 160.0000 - false_positives: 73.0000 - true_negatives: 971.0000 - true_positives: 188.0000 - val_loss: 0.9487 - val_Accuracy: 0.6818 - val_false_negatives: 36.0000 - val_false_positives: 24.0000 - val_true_negatives: 240.0000 - val_true_positives: 52.0000\n",
            "Epoch 22/200\n",
            "44/44 [==============================] - 1s 30ms/step - loss: 0.8995 - Accuracy: 0.6523 - false_negatives: 150.0000 - false_positives: 90.0000 - true_negatives: 954.0000 - true_positives: 198.0000 - val_loss: 0.8891 - val_Accuracy: 0.6591 - val_false_negatives: 39.0000 - val_false_positives: 16.0000 - val_true_negatives: 248.0000 - val_true_positives: 49.0000\n",
            "Epoch 23/200\n",
            "44/44 [==============================] - 1s 24ms/step - loss: 0.8934 - Accuracy: 0.6264 - false_negatives: 161.0000 - false_positives: 73.0000 - true_negatives: 971.0000 - true_positives: 187.0000 - val_loss: 1.1250 - val_Accuracy: 0.5682 - val_false_negatives: 42.0000 - val_false_positives: 27.0000 - val_true_negatives: 237.0000 - val_true_positives: 46.0000\n",
            "Epoch 24/200\n",
            "44/44 [==============================] - 1s 30ms/step - loss: 0.8750 - Accuracy: 0.6897 - false_negatives: 154.0000 - false_positives: 66.0000 - true_negatives: 978.0000 - true_positives: 194.0000 - val_loss: 0.8744 - val_Accuracy: 0.6705 - val_false_negatives: 36.0000 - val_false_positives: 16.0000 - val_true_negatives: 248.0000 - val_true_positives: 52.0000\n",
            "Epoch 25/200\n",
            "44/44 [==============================] - 1s 23ms/step - loss: 0.9193 - Accuracy: 0.6523 - false_negatives: 159.0000 - false_positives: 67.0000 - true_negatives: 977.0000 - true_positives: 189.0000 - val_loss: 0.9572 - val_Accuracy: 0.6136 - val_false_negatives: 36.0000 - val_false_positives: 23.0000 - val_true_negatives: 241.0000 - val_true_positives: 52.0000\n",
            "Epoch 26/200\n",
            "44/44 [==============================] - 1s 14ms/step - loss: 0.9223 - Accuracy: 0.6379 - false_negatives: 164.0000 - false_positives: 63.0000 - true_negatives: 981.0000 - true_positives: 184.0000 - val_loss: 0.9749 - val_Accuracy: 0.6023 - val_false_negatives: 42.0000 - val_false_positives: 19.0000 - val_true_negatives: 245.0000 - val_true_positives: 46.0000\n",
            "Epoch 27/200\n",
            "44/44 [==============================] - 1s 14ms/step - loss: 0.8588 - Accuracy: 0.6609 - false_negatives: 150.0000 - false_positives: 73.0000 - true_negatives: 971.0000 - true_positives: 198.0000 - val_loss: 0.9384 - val_Accuracy: 0.6023 - val_false_negatives: 41.0000 - val_false_positives: 18.0000 - val_true_negatives: 246.0000 - val_true_positives: 47.0000\n",
            "Epoch 28/200\n",
            "44/44 [==============================] - 1s 15ms/step - loss: 0.8500 - Accuracy: 0.6724 - false_negatives: 144.0000 - false_positives: 78.0000 - true_negatives: 966.0000 - true_positives: 204.0000 - val_loss: 0.8530 - val_Accuracy: 0.6591 - val_false_negatives: 36.0000 - val_false_positives: 18.0000 - val_true_negatives: 246.0000 - val_true_positives: 52.0000\n",
            "Epoch 29/200\n",
            "44/44 [==============================] - 1s 14ms/step - loss: 0.7917 - Accuracy: 0.6983 - false_negatives: 129.0000 - false_positives: 70.0000 - true_negatives: 974.0000 - true_positives: 219.0000 - val_loss: 0.9354 - val_Accuracy: 0.5909 - val_false_negatives: 40.0000 - val_false_positives: 23.0000 - val_true_negatives: 241.0000 - val_true_positives: 48.0000\n",
            "Epoch 30/200\n",
            "44/44 [==============================] - 1s 14ms/step - loss: 0.8234 - Accuracy: 0.7011 - false_negatives: 137.0000 - false_positives: 62.0000 - true_negatives: 982.0000 - true_positives: 211.0000 - val_loss: 0.8866 - val_Accuracy: 0.6591 - val_false_negatives: 34.0000 - val_false_positives: 16.0000 - val_true_negatives: 248.0000 - val_true_positives: 54.0000\n",
            "Epoch 31/200\n",
            "44/44 [==============================] - 1s 15ms/step - loss: 0.8487 - Accuracy: 0.6810 - false_negatives: 145.0000 - false_positives: 68.0000 - true_negatives: 976.0000 - true_positives: 203.0000 - val_loss: 1.0760 - val_Accuracy: 0.5455 - val_false_negatives: 45.0000 - val_false_positives: 23.0000 - val_true_negatives: 241.0000 - val_true_positives: 43.0000\n",
            "Epoch 32/200\n",
            "44/44 [==============================] - 1s 14ms/step - loss: 0.8283 - Accuracy: 0.6925 - false_negatives: 145.0000 - false_positives: 61.0000 - true_negatives: 983.0000 - true_positives: 203.0000 - val_loss: 1.1342 - val_Accuracy: 0.5795 - val_false_negatives: 42.0000 - val_false_positives: 29.0000 - val_true_negatives: 235.0000 - val_true_positives: 46.0000\n",
            "Epoch 33/200\n",
            "44/44 [==============================] - 1s 15ms/step - loss: 0.8192 - Accuracy: 0.6523 - false_negatives: 138.0000 - false_positives: 71.0000 - true_negatives: 973.0000 - true_positives: 210.0000 - val_loss: 0.8208 - val_Accuracy: 0.7159 - val_false_negatives: 37.0000 - val_false_positives: 12.0000 - val_true_negatives: 252.0000 - val_true_positives: 51.0000\n",
            "Epoch 34/200\n",
            "44/44 [==============================] - 1s 14ms/step - loss: 0.7822 - Accuracy: 0.7069 - false_negatives: 133.0000 - false_positives: 70.0000 - true_negatives: 974.0000 - true_positives: 215.0000 - val_loss: 0.9629 - val_Accuracy: 0.6250 - val_false_negatives: 41.0000 - val_false_positives: 19.0000 - val_true_negatives: 245.0000 - val_true_positives: 47.0000\n",
            "Epoch 35/200\n",
            "44/44 [==============================] - 1s 14ms/step - loss: 0.7668 - Accuracy: 0.7126 - false_negatives: 122.0000 - false_positives: 60.0000 - true_negatives: 984.0000 - true_positives: 226.0000 - val_loss: 0.8086 - val_Accuracy: 0.7500 - val_false_negatives: 35.0000 - val_false_positives: 17.0000 - val_true_negatives: 247.0000 - val_true_positives: 53.0000\n",
            "Epoch 36/200\n",
            "44/44 [==============================] - 1s 14ms/step - loss: 0.8411 - Accuracy: 0.6782 - false_negatives: 132.0000 - false_positives: 77.0000 - true_negatives: 967.0000 - true_positives: 216.0000 - val_loss: 0.8319 - val_Accuracy: 0.6932 - val_false_negatives: 37.0000 - val_false_positives: 17.0000 - val_true_negatives: 247.0000 - val_true_positives: 51.0000\n",
            "Epoch 37/200\n",
            "44/44 [==============================] - 1s 14ms/step - loss: 0.7633 - Accuracy: 0.7213 - false_negatives: 132.0000 - false_positives: 58.0000 - true_negatives: 986.0000 - true_positives: 216.0000 - val_loss: 0.8211 - val_Accuracy: 0.7045 - val_false_negatives: 35.0000 - val_false_positives: 19.0000 - val_true_negatives: 245.0000 - val_true_positives: 53.0000\n",
            "Epoch 38/200\n",
            "44/44 [==============================] - 1s 14ms/step - loss: 0.7945 - Accuracy: 0.6897 - false_negatives: 132.0000 - false_positives: 72.0000 - true_negatives: 972.0000 - true_positives: 216.0000 - val_loss: 0.9846 - val_Accuracy: 0.6818 - val_false_negatives: 33.0000 - val_false_positives: 22.0000 - val_true_negatives: 242.0000 - val_true_positives: 55.0000\n",
            "Epoch 39/200\n",
            "44/44 [==============================] - 1s 14ms/step - loss: 0.7791 - Accuracy: 0.7011 - false_negatives: 134.0000 - false_positives: 69.0000 - true_negatives: 975.0000 - true_positives: 214.0000 - val_loss: 0.8248 - val_Accuracy: 0.7045 - val_false_negatives: 31.0000 - val_false_positives: 22.0000 - val_true_negatives: 242.0000 - val_true_positives: 57.0000\n",
            "Epoch 40/200\n",
            "44/44 [==============================] - 1s 14ms/step - loss: 0.7426 - Accuracy: 0.6983 - false_negatives: 136.0000 - false_positives: 67.0000 - true_negatives: 977.0000 - true_positives: 212.0000 - val_loss: 0.8527 - val_Accuracy: 0.6932 - val_false_negatives: 30.0000 - val_false_positives: 23.0000 - val_true_negatives: 241.0000 - val_true_positives: 58.0000\n",
            "Epoch 41/200\n",
            "44/44 [==============================] - 1s 14ms/step - loss: 0.7606 - Accuracy: 0.6925 - false_negatives: 129.0000 - false_positives: 71.0000 - true_negatives: 973.0000 - true_positives: 219.0000 - val_loss: 0.7644 - val_Accuracy: 0.7500 - val_false_negatives: 32.0000 - val_false_positives: 12.0000 - val_true_negatives: 252.0000 - val_true_positives: 56.0000\n",
            "Epoch 42/200\n",
            "44/44 [==============================] - 1s 14ms/step - loss: 0.7671 - Accuracy: 0.7098 - false_negatives: 136.0000 - false_positives: 77.0000 - true_negatives: 967.0000 - true_positives: 212.0000 - val_loss: 0.9050 - val_Accuracy: 0.6364 - val_false_negatives: 41.0000 - val_false_positives: 16.0000 - val_true_negatives: 248.0000 - val_true_positives: 47.0000\n",
            "Epoch 43/200\n",
            "44/44 [==============================] - 1s 15ms/step - loss: 0.7450 - Accuracy: 0.7069 - false_negatives: 130.0000 - false_positives: 69.0000 - true_negatives: 975.0000 - true_positives: 218.0000 - val_loss: 0.8878 - val_Accuracy: 0.6932 - val_false_negatives: 36.0000 - val_false_positives: 20.0000 - val_true_negatives: 244.0000 - val_true_positives: 52.0000\n",
            "Epoch 44/200\n",
            "44/44 [==============================] - 1s 15ms/step - loss: 0.8247 - Accuracy: 0.6724 - false_negatives: 145.0000 - false_positives: 71.0000 - true_negatives: 973.0000 - true_positives: 203.0000 - val_loss: 0.9385 - val_Accuracy: 0.6364 - val_false_negatives: 43.0000 - val_false_positives: 20.0000 - val_true_negatives: 244.0000 - val_true_positives: 45.0000\n",
            "Epoch 45/200\n",
            "44/44 [==============================] - 1s 14ms/step - loss: 0.8092 - Accuracy: 0.6868 - false_negatives: 148.0000 - false_positives: 67.0000 - true_negatives: 977.0000 - true_positives: 200.0000 - val_loss: 1.0117 - val_Accuracy: 0.6136 - val_false_negatives: 38.0000 - val_false_positives: 22.0000 - val_true_negatives: 242.0000 - val_true_positives: 50.0000\n",
            "Epoch 46/200\n",
            "44/44 [==============================] - 1s 15ms/step - loss: 0.7264 - Accuracy: 0.7270 - false_negatives: 115.0000 - false_positives: 59.0000 - true_negatives: 985.0000 - true_positives: 233.0000 - val_loss: 0.9282 - val_Accuracy: 0.6932 - val_false_negatives: 34.0000 - val_false_positives: 19.0000 - val_true_negatives: 245.0000 - val_true_positives: 54.0000\n",
            "Epoch 47/200\n",
            "44/44 [==============================] - 1s 14ms/step - loss: 0.7085 - Accuracy: 0.7500 - false_negatives: 121.0000 - false_positives: 66.0000 - true_negatives: 978.0000 - true_positives: 227.0000 - val_loss: 0.9812 - val_Accuracy: 0.6705 - val_false_negatives: 34.0000 - val_false_positives: 20.0000 - val_true_negatives: 244.0000 - val_true_positives: 54.0000\n",
            "Epoch 48/200\n",
            "44/44 [==============================] - 1s 14ms/step - loss: 0.7261 - Accuracy: 0.7356 - false_negatives: 113.0000 - false_positives: 65.0000 - true_negatives: 979.0000 - true_positives: 235.0000 - val_loss: 0.9404 - val_Accuracy: 0.6591 - val_false_negatives: 35.0000 - val_false_positives: 19.0000 - val_true_negatives: 245.0000 - val_true_positives: 53.0000\n",
            "Epoch 49/200\n",
            "44/44 [==============================] - 1s 14ms/step - loss: 0.7261 - Accuracy: 0.7244 - false_negatives: 117.0000 - false_positives: 66.0000 - true_negatives: 990.0000 - true_positives: 235.0000 - val_loss: 1.1679 - val_Accuracy: 0.6364 - val_false_negatives: 34.0000 - val_false_positives: 24.0000 - val_true_negatives: 240.0000 - val_true_positives: 54.0000\n",
            "Epoch 50/200\n",
            "44/44 [==============================] - 1s 15ms/step - loss: 0.7577 - Accuracy: 0.7184 - false_negatives: 126.0000 - false_positives: 64.0000 - true_negatives: 980.0000 - true_positives: 222.0000 - val_loss: 1.2347 - val_Accuracy: 0.5795 - val_false_negatives: 41.0000 - val_false_positives: 26.0000 - val_true_negatives: 238.0000 - val_true_positives: 47.0000\n",
            "Epoch 51/200\n",
            "44/44 [==============================] - 1s 14ms/step - loss: 0.7843 - Accuracy: 0.6753 - false_negatives: 137.0000 - false_positives: 65.0000 - true_negatives: 979.0000 - true_positives: 211.0000 - val_loss: 0.9297 - val_Accuracy: 0.6477 - val_false_negatives: 33.0000 - val_false_positives: 22.0000 - val_true_negatives: 242.0000 - val_true_positives: 55.0000\n",
            "Epoch 52/200\n",
            "44/44 [==============================] - 1s 14ms/step - loss: 0.7100 - Accuracy: 0.7213 - false_negatives: 126.0000 - false_positives: 63.0000 - true_negatives: 981.0000 - true_positives: 222.0000 - val_loss: 0.7949 - val_Accuracy: 0.7159 - val_false_negatives: 29.0000 - val_false_positives: 18.0000 - val_true_negatives: 246.0000 - val_true_positives: 59.0000\n",
            "Epoch 53/200\n",
            "44/44 [==============================] - 1s 14ms/step - loss: 0.7161 - Accuracy: 0.7328 - false_negatives: 124.0000 - false_positives: 65.0000 - true_negatives: 979.0000 - true_positives: 224.0000 - val_loss: 0.9316 - val_Accuracy: 0.6591 - val_false_negatives: 32.0000 - val_false_positives: 24.0000 - val_true_negatives: 240.0000 - val_true_positives: 56.0000\n",
            "Epoch 54/200\n",
            "44/44 [==============================] - 1s 14ms/step - loss: 0.6817 - Accuracy: 0.7500 - false_negatives: 106.0000 - false_positives: 64.0000 - true_negatives: 980.0000 - true_positives: 242.0000 - val_loss: 0.8707 - val_Accuracy: 0.6591 - val_false_negatives: 34.0000 - val_false_positives: 22.0000 - val_true_negatives: 242.0000 - val_true_positives: 54.0000\n",
            "Epoch 55/200\n",
            "44/44 [==============================] - 1s 14ms/step - loss: 0.7099 - Accuracy: 0.7471 - false_negatives: 106.0000 - false_positives: 66.0000 - true_negatives: 978.0000 - true_positives: 242.0000 - val_loss: 0.7900 - val_Accuracy: 0.7159 - val_false_negatives: 29.0000 - val_false_positives: 23.0000 - val_true_negatives: 241.0000 - val_true_positives: 59.0000\n",
            "Epoch 56/200\n",
            "44/44 [==============================] - 1s 14ms/step - loss: 0.7324 - Accuracy: 0.7213 - false_negatives: 122.0000 - false_positives: 66.0000 - true_negatives: 978.0000 - true_positives: 226.0000 - val_loss: 0.7608 - val_Accuracy: 0.7159 - val_false_negatives: 29.0000 - val_false_positives: 17.0000 - val_true_negatives: 247.0000 - val_true_positives: 59.0000\n",
            "Epoch 57/200\n",
            "44/44 [==============================] - 1s 14ms/step - loss: 0.6661 - Accuracy: 0.7615 - false_negatives: 110.0000 - false_positives: 53.0000 - true_negatives: 991.0000 - true_positives: 238.0000 - val_loss: 1.0575 - val_Accuracy: 0.6136 - val_false_negatives: 37.0000 - val_false_positives: 24.0000 - val_true_negatives: 240.0000 - val_true_positives: 51.0000\n",
            "Epoch 58/200\n",
            "44/44 [==============================] - 1s 14ms/step - loss: 0.6278 - Accuracy: 0.7500 - false_negatives: 105.0000 - false_positives: 60.0000 - true_negatives: 984.0000 - true_positives: 243.0000 - val_loss: 1.3533 - val_Accuracy: 0.6023 - val_false_negatives: 37.0000 - val_false_positives: 30.0000 - val_true_negatives: 234.0000 - val_true_positives: 51.0000\n",
            "Epoch 59/200\n",
            "44/44 [==============================] - 1s 14ms/step - loss: 0.7298 - Accuracy: 0.7184 - false_negatives: 121.0000 - false_positives: 69.0000 - true_negatives: 975.0000 - true_positives: 227.0000 - val_loss: 0.9169 - val_Accuracy: 0.6818 - val_false_negatives: 37.0000 - val_false_positives: 20.0000 - val_true_negatives: 244.0000 - val_true_positives: 51.0000\n",
            "Epoch 60/200\n",
            "44/44 [==============================] - 1s 15ms/step - loss: 0.6397 - Accuracy: 0.7471 - false_negatives: 112.0000 - false_positives: 57.0000 - true_negatives: 987.0000 - true_positives: 236.0000 - val_loss: 0.9875 - val_Accuracy: 0.6705 - val_false_negatives: 35.0000 - val_false_positives: 21.0000 - val_true_negatives: 243.0000 - val_true_positives: 53.0000\n",
            "Epoch 61/200\n",
            "44/44 [==============================] - 1s 14ms/step - loss: 0.6308 - Accuracy: 0.7557 - false_negatives: 104.0000 - false_positives: 55.0000 - true_negatives: 989.0000 - true_positives: 244.0000 - val_loss: 0.8077 - val_Accuracy: 0.7386 - val_false_negatives: 28.0000 - val_false_positives: 19.0000 - val_true_negatives: 245.0000 - val_true_positives: 60.0000\n",
            "Epoch 62/200\n",
            "44/44 [==============================] - 1s 14ms/step - loss: 0.6247 - Accuracy: 0.7443 - false_negatives: 101.0000 - false_positives: 66.0000 - true_negatives: 978.0000 - true_positives: 247.0000 - val_loss: 0.8127 - val_Accuracy: 0.6932 - val_false_negatives: 33.0000 - val_false_positives: 16.0000 - val_true_negatives: 248.0000 - val_true_positives: 55.0000\n",
            "Epoch 63/200\n",
            "44/44 [==============================] - 1s 14ms/step - loss: 0.6812 - Accuracy: 0.7328 - false_negatives: 120.0000 - false_positives: 61.0000 - true_negatives: 983.0000 - true_positives: 228.0000 - val_loss: 0.9764 - val_Accuracy: 0.6932 - val_false_negatives: 31.0000 - val_false_positives: 21.0000 - val_true_negatives: 243.0000 - val_true_positives: 57.0000\n",
            "Epoch 64/200\n",
            "44/44 [==============================] - 1s 15ms/step - loss: 0.7095 - Accuracy: 0.7414 - false_negatives: 117.0000 - false_positives: 67.0000 - true_negatives: 977.0000 - true_positives: 231.0000 - val_loss: 0.7305 - val_Accuracy: 0.7614 - val_false_negatives: 32.0000 - val_false_positives: 17.0000 - val_true_negatives: 247.0000 - val_true_positives: 56.0000\n",
            "Epoch 65/200\n",
            "44/44 [==============================] - 1s 15ms/step - loss: 0.6116 - Accuracy: 0.7672 - false_negatives: 111.0000 - false_positives: 50.0000 - true_negatives: 994.0000 - true_positives: 237.0000 - val_loss: 0.8285 - val_Accuracy: 0.7045 - val_false_negatives: 30.0000 - val_false_positives: 20.0000 - val_true_negatives: 244.0000 - val_true_positives: 58.0000\n",
            "Epoch 66/200\n",
            "44/44 [==============================] - 1s 15ms/step - loss: 0.6505 - Accuracy: 0.7644 - false_negatives: 98.0000 - false_positives: 59.0000 - true_negatives: 985.0000 - true_positives: 250.0000 - val_loss: 0.8356 - val_Accuracy: 0.6818 - val_false_negatives: 35.0000 - val_false_positives: 19.0000 - val_true_negatives: 245.0000 - val_true_positives: 53.0000\n",
            "Epoch 67/200\n",
            "44/44 [==============================] - 1s 15ms/step - loss: 0.6779 - Accuracy: 0.7385 - false_negatives: 118.0000 - false_positives: 60.0000 - true_negatives: 984.0000 - true_positives: 230.0000 - val_loss: 0.8159 - val_Accuracy: 0.6932 - val_false_negatives: 35.0000 - val_false_positives: 16.0000 - val_true_negatives: 248.0000 - val_true_positives: 53.0000\n",
            "Epoch 68/200\n",
            "44/44 [==============================] - 1s 15ms/step - loss: 0.6866 - Accuracy: 0.7500 - false_negatives: 115.0000 - false_positives: 63.0000 - true_negatives: 981.0000 - true_positives: 233.0000 - val_loss: 0.7400 - val_Accuracy: 0.7273 - val_false_negatives: 31.0000 - val_false_positives: 17.0000 - val_true_negatives: 247.0000 - val_true_positives: 57.0000\n",
            "Epoch 69/200\n",
            "44/44 [==============================] - 1s 15ms/step - loss: 0.6413 - Accuracy: 0.7443 - false_negatives: 111.0000 - false_positives: 59.0000 - true_negatives: 985.0000 - true_positives: 237.0000 - val_loss: 0.8322 - val_Accuracy: 0.7045 - val_false_negatives: 33.0000 - val_false_positives: 18.0000 - val_true_negatives: 246.0000 - val_true_positives: 55.0000\n",
            "Epoch 70/200\n",
            "44/44 [==============================] - 1s 14ms/step - loss: 0.6605 - Accuracy: 0.7299 - false_negatives: 115.0000 - false_positives: 60.0000 - true_negatives: 984.0000 - true_positives: 233.0000 - val_loss: 0.7392 - val_Accuracy: 0.7614 - val_false_negatives: 36.0000 - val_false_positives: 14.0000 - val_true_negatives: 250.0000 - val_true_positives: 52.0000\n",
            "Epoch 71/200\n",
            "44/44 [==============================] - 1s 14ms/step - loss: 0.6258 - Accuracy: 0.7529 - false_negatives: 102.0000 - false_positives: 60.0000 - true_negatives: 984.0000 - true_positives: 246.0000 - val_loss: 0.8456 - val_Accuracy: 0.7273 - val_false_negatives: 32.0000 - val_false_positives: 19.0000 - val_true_negatives: 245.0000 - val_true_positives: 56.0000\n",
            "Epoch 72/200\n",
            "44/44 [==============================] - 1s 14ms/step - loss: 0.6311 - Accuracy: 0.7701 - false_negatives: 102.0000 - false_positives: 58.0000 - true_negatives: 986.0000 - true_positives: 246.0000 - val_loss: 0.8464 - val_Accuracy: 0.7614 - val_false_negatives: 30.0000 - val_false_positives: 17.0000 - val_true_negatives: 247.0000 - val_true_positives: 58.0000\n",
            "Epoch 73/200\n",
            "44/44 [==============================] - 1s 15ms/step - loss: 0.6220 - Accuracy: 0.7672 - false_negatives: 102.0000 - false_positives: 54.0000 - true_negatives: 990.0000 - true_positives: 246.0000 - val_loss: 0.8424 - val_Accuracy: 0.7045 - val_false_negatives: 31.0000 - val_false_positives: 21.0000 - val_true_negatives: 243.0000 - val_true_positives: 57.0000\n",
            "Epoch 74/200\n",
            "44/44 [==============================] - 1s 15ms/step - loss: 0.6101 - Accuracy: 0.7615 - false_negatives: 103.0000 - false_positives: 61.0000 - true_negatives: 983.0000 - true_positives: 245.0000 - val_loss: 0.9328 - val_Accuracy: 0.6818 - val_false_negatives: 33.0000 - val_false_positives: 20.0000 - val_true_negatives: 244.0000 - val_true_positives: 55.0000\n",
            "Epoch 75/200\n",
            "44/44 [==============================] - 1s 14ms/step - loss: 0.5848 - Accuracy: 0.8017 - false_negatives: 94.0000 - false_positives: 55.0000 - true_negatives: 989.0000 - true_positives: 254.0000 - val_loss: 0.6791 - val_Accuracy: 0.7386 - val_false_negatives: 29.0000 - val_false_positives: 21.0000 - val_true_negatives: 243.0000 - val_true_positives: 59.0000\n",
            "Epoch 76/200\n",
            "44/44 [==============================] - 1s 21ms/step - loss: 0.5845 - Accuracy: 0.7787 - false_negatives: 94.0000 - false_positives: 51.0000 - true_negatives: 993.0000 - true_positives: 254.0000 - val_loss: 1.0495 - val_Accuracy: 0.7273 - val_false_negatives: 29.0000 - val_false_positives: 19.0000 - val_true_negatives: 245.0000 - val_true_positives: 59.0000\n",
            "Epoch 77/200\n",
            "44/44 [==============================] - 1s 17ms/step - loss: 0.5657 - Accuracy: 0.7845 - false_negatives: 92.0000 - false_positives: 54.0000 - true_negatives: 990.0000 - true_positives: 256.0000 - val_loss: 0.8099 - val_Accuracy: 0.7159 - val_false_negatives: 30.0000 - val_false_positives: 20.0000 - val_true_negatives: 244.0000 - val_true_positives: 58.0000\n",
            "Epoch 78/200\n",
            "44/44 [==============================] - 1s 17ms/step - loss: 0.6404 - Accuracy: 0.7529 - false_negatives: 105.0000 - false_positives: 62.0000 - true_negatives: 982.0000 - true_positives: 243.0000 - val_loss: 1.0119 - val_Accuracy: 0.7159 - val_false_negatives: 31.0000 - val_false_positives: 20.0000 - val_true_negatives: 244.0000 - val_true_positives: 57.0000\n",
            "Epoch 79/200\n",
            "44/44 [==============================] - 1s 14ms/step - loss: 0.6046 - Accuracy: 0.7812 - false_negatives: 96.0000 - false_positives: 56.0000 - true_negatives: 1000.0000 - true_positives: 256.0000 - val_loss: 0.7670 - val_Accuracy: 0.7727 - val_false_negatives: 24.0000 - val_false_positives: 15.0000 - val_true_negatives: 249.0000 - val_true_positives: 64.0000\n",
            "Epoch 80/200\n",
            "44/44 [==============================] - 1s 15ms/step - loss: 0.5547 - Accuracy: 0.7931 - false_negatives: 90.0000 - false_positives: 49.0000 - true_negatives: 995.0000 - true_positives: 258.0000 - val_loss: 0.7905 - val_Accuracy: 0.6932 - val_false_negatives: 31.0000 - val_false_positives: 19.0000 - val_true_negatives: 245.0000 - val_true_positives: 57.0000\n",
            "Epoch 81/200\n",
            "44/44 [==============================] - 1s 15ms/step - loss: 0.6505 - Accuracy: 0.7759 - false_negatives: 110.0000 - false_positives: 52.0000 - true_negatives: 992.0000 - true_positives: 238.0000 - val_loss: 1.1060 - val_Accuracy: 0.6591 - val_false_negatives: 31.0000 - val_false_positives: 23.0000 - val_true_negatives: 241.0000 - val_true_positives: 57.0000\n",
            "Epoch 82/200\n",
            "44/44 [==============================] - 1s 14ms/step - loss: 0.6681 - Accuracy: 0.7213 - false_negatives: 107.0000 - false_positives: 81.0000 - true_negatives: 963.0000 - true_positives: 241.0000 - val_loss: 0.9923 - val_Accuracy: 0.7614 - val_false_negatives: 25.0000 - val_false_positives: 19.0000 - val_true_negatives: 245.0000 - val_true_positives: 63.0000\n",
            "Epoch 83/200\n",
            "44/44 [==============================] - 1s 15ms/step - loss: 0.5904 - Accuracy: 0.7672 - false_negatives: 94.0000 - false_positives: 54.0000 - true_negatives: 990.0000 - true_positives: 254.0000 - val_loss: 1.1574 - val_Accuracy: 0.7045 - val_false_negatives: 30.0000 - val_false_positives: 23.0000 - val_true_negatives: 241.0000 - val_true_positives: 58.0000\n",
            "Epoch 84/200\n",
            "44/44 [==============================] - 1s 15ms/step - loss: 0.6277 - Accuracy: 0.7586 - false_negatives: 109.0000 - false_positives: 57.0000 - true_negatives: 987.0000 - true_positives: 239.0000 - val_loss: 1.1141 - val_Accuracy: 0.6932 - val_false_negatives: 32.0000 - val_false_positives: 19.0000 - val_true_negatives: 245.0000 - val_true_positives: 56.0000\n",
            "Epoch 85/200\n",
            "44/44 [==============================] - 1s 14ms/step - loss: 0.5800 - Accuracy: 0.7787 - false_negatives: 92.0000 - false_positives: 58.0000 - true_negatives: 986.0000 - true_positives: 256.0000 - val_loss: 0.8435 - val_Accuracy: 0.7273 - val_false_negatives: 28.0000 - val_false_positives: 18.0000 - val_true_negatives: 246.0000 - val_true_positives: 60.0000\n",
            "Epoch 86/200\n",
            "44/44 [==============================] - 1s 15ms/step - loss: 0.5447 - Accuracy: 0.7874 - false_negatives: 93.0000 - false_positives: 56.0000 - true_negatives: 988.0000 - true_positives: 255.0000 - val_loss: 0.8457 - val_Accuracy: 0.7386 - val_false_negatives: 30.0000 - val_false_positives: 19.0000 - val_true_negatives: 245.0000 - val_true_positives: 58.0000\n",
            "Epoch 87/200\n",
            "44/44 [==============================] - 1s 15ms/step - loss: 0.5903 - Accuracy: 0.7787 - false_negatives: 102.0000 - false_positives: 54.0000 - true_negatives: 990.0000 - true_positives: 246.0000 - val_loss: 0.8698 - val_Accuracy: 0.7273 - val_false_negatives: 26.0000 - val_false_positives: 20.0000 - val_true_negatives: 244.0000 - val_true_positives: 62.0000\n",
            "Epoch 88/200\n",
            "44/44 [==============================] - 1s 14ms/step - loss: 0.6062 - Accuracy: 0.7586 - false_negatives: 107.0000 - false_positives: 55.0000 - true_negatives: 989.0000 - true_positives: 241.0000 - val_loss: 1.1066 - val_Accuracy: 0.7159 - val_false_negatives: 31.0000 - val_false_positives: 20.0000 - val_true_negatives: 244.0000 - val_true_positives: 57.0000\n",
            "Epoch 89/200\n",
            "44/44 [==============================] - 1s 14ms/step - loss: 0.5815 - Accuracy: 0.7759 - false_negatives: 99.0000 - false_positives: 49.0000 - true_negatives: 995.0000 - true_positives: 249.0000 - val_loss: 0.8648 - val_Accuracy: 0.7159 - val_false_negatives: 26.0000 - val_false_positives: 21.0000 - val_true_negatives: 243.0000 - val_true_positives: 62.0000\n",
            "Epoch 90/200\n",
            "44/44 [==============================] - 1s 15ms/step - loss: 0.5826 - Accuracy: 0.7701 - false_negatives: 95.0000 - false_positives: 61.0000 - true_negatives: 983.0000 - true_positives: 253.0000 - val_loss: 0.8113 - val_Accuracy: 0.7273 - val_false_negatives: 26.0000 - val_false_positives: 14.0000 - val_true_negatives: 250.0000 - val_true_positives: 62.0000\n",
            "Epoch 91/200\n",
            "44/44 [==============================] - 1s 15ms/step - loss: 0.5647 - Accuracy: 0.7902 - false_negatives: 99.0000 - false_positives: 49.0000 - true_negatives: 995.0000 - true_positives: 249.0000 - val_loss: 0.8398 - val_Accuracy: 0.7386 - val_false_negatives: 25.0000 - val_false_positives: 17.0000 - val_true_negatives: 247.0000 - val_true_positives: 63.0000\n",
            "Epoch 92/200\n",
            "44/44 [==============================] - 1s 15ms/step - loss: 0.4998 - Accuracy: 0.8132 - false_negatives: 79.0000 - false_positives: 48.0000 - true_negatives: 996.0000 - true_positives: 269.0000 - val_loss: 1.1652 - val_Accuracy: 0.6591 - val_false_negatives: 35.0000 - val_false_positives: 24.0000 - val_true_negatives: 240.0000 - val_true_positives: 53.0000\n",
            "Epoch 93/200\n",
            "44/44 [==============================] - 1s 15ms/step - loss: 0.5689 - Accuracy: 0.7787 - false_negatives: 96.0000 - false_positives: 58.0000 - true_negatives: 986.0000 - true_positives: 252.0000 - val_loss: 0.9003 - val_Accuracy: 0.7159 - val_false_negatives: 29.0000 - val_false_positives: 18.0000 - val_true_negatives: 246.0000 - val_true_positives: 59.0000\n",
            "Epoch 94/200\n",
            "44/44 [==============================] - 1s 15ms/step - loss: 0.5225 - Accuracy: 0.8046 - false_negatives: 86.0000 - false_positives: 51.0000 - true_negatives: 993.0000 - true_positives: 262.0000 - val_loss: 1.4072 - val_Accuracy: 0.6705 - val_false_negatives: 31.0000 - val_false_positives: 24.0000 - val_true_negatives: 240.0000 - val_true_positives: 57.0000\n",
            "Epoch 95/200\n",
            "44/44 [==============================] - 1s 15ms/step - loss: 0.5297 - Accuracy: 0.8046 - false_negatives: 84.0000 - false_positives: 52.0000 - true_negatives: 992.0000 - true_positives: 264.0000 - val_loss: 0.7964 - val_Accuracy: 0.7614 - val_false_negatives: 24.0000 - val_false_positives: 17.0000 - val_true_negatives: 247.0000 - val_true_positives: 64.0000\n",
            "Epoch 96/200\n",
            "44/44 [==============================] - 1s 15ms/step - loss: 0.6527 - Accuracy: 0.7557 - false_negatives: 101.0000 - false_positives: 62.0000 - true_negatives: 982.0000 - true_positives: 247.0000 - val_loss: 0.8532 - val_Accuracy: 0.7273 - val_false_negatives: 28.0000 - val_false_positives: 17.0000 - val_true_negatives: 247.0000 - val_true_positives: 60.0000\n",
            "Epoch 97/200\n",
            "44/44 [==============================] - 1s 15ms/step - loss: 0.5231 - Accuracy: 0.8017 - false_negatives: 88.0000 - false_positives: 47.0000 - true_negatives: 997.0000 - true_positives: 260.0000 - val_loss: 0.9086 - val_Accuracy: 0.6818 - val_false_negatives: 31.0000 - val_false_positives: 20.0000 - val_true_negatives: 244.0000 - val_true_positives: 57.0000\n",
            "Epoch 98/200\n",
            "44/44 [==============================] - 1s 15ms/step - loss: 0.5457 - Accuracy: 0.7874 - false_negatives: 88.0000 - false_positives: 57.0000 - true_negatives: 987.0000 - true_positives: 260.0000 - val_loss: 0.8306 - val_Accuracy: 0.7386 - val_false_negatives: 28.0000 - val_false_positives: 17.0000 - val_true_negatives: 247.0000 - val_true_positives: 60.0000\n",
            "Epoch 99/200\n",
            "44/44 [==============================] - 1s 24ms/step - loss: 0.4818 - Accuracy: 0.8190 - false_negatives: 82.0000 - false_positives: 41.0000 - true_negatives: 1003.0000 - true_positives: 266.0000 - val_loss: 0.7931 - val_Accuracy: 0.7500 - val_false_negatives: 26.0000 - val_false_positives: 16.0000 - val_true_negatives: 248.0000 - val_true_positives: 62.0000\n",
            "Epoch 100/200\n",
            "44/44 [==============================] - 1s 33ms/step - loss: 0.5404 - Accuracy: 0.8161 - false_negatives: 86.0000 - false_positives: 49.0000 - true_negatives: 995.0000 - true_positives: 262.0000 - val_loss: 0.8925 - val_Accuracy: 0.7273 - val_false_negatives: 27.0000 - val_false_positives: 16.0000 - val_true_negatives: 248.0000 - val_true_positives: 61.0000\n",
            "Epoch 101/200\n",
            "44/44 [==============================] - 1s 29ms/step - loss: 0.5189 - Accuracy: 0.8046 - false_negatives: 85.0000 - false_positives: 47.0000 - true_negatives: 997.0000 - true_positives: 263.0000 - val_loss: 1.0398 - val_Accuracy: 0.6932 - val_false_negatives: 29.0000 - val_false_positives: 23.0000 - val_true_negatives: 241.0000 - val_true_positives: 59.0000\n",
            "Epoch 102/200\n",
            "44/44 [==============================] - 1s 32ms/step - loss: 0.5573 - Accuracy: 0.7816 - false_negatives: 94.0000 - false_positives: 52.0000 - true_negatives: 992.0000 - true_positives: 254.0000 - val_loss: 1.0176 - val_Accuracy: 0.6591 - val_false_negatives: 32.0000 - val_false_positives: 20.0000 - val_true_negatives: 244.0000 - val_true_positives: 56.0000\n",
            "Epoch 103/200\n",
            "44/44 [==============================] - 1s 19ms/step - loss: 0.5011 - Accuracy: 0.8132 - false_negatives: 75.0000 - false_positives: 51.0000 - true_negatives: 993.0000 - true_positives: 273.0000 - val_loss: 0.7546 - val_Accuracy: 0.7386 - val_false_negatives: 27.0000 - val_false_positives: 16.0000 - val_true_negatives: 248.0000 - val_true_positives: 61.0000\n",
            "Epoch 104/200\n",
            "44/44 [==============================] - 1s 15ms/step - loss: 0.4666 - Accuracy: 0.7989 - false_negatives: 84.0000 - false_positives: 54.0000 - true_negatives: 990.0000 - true_positives: 264.0000 - val_loss: 0.9318 - val_Accuracy: 0.7045 - val_false_negatives: 32.0000 - val_false_positives: 24.0000 - val_true_negatives: 240.0000 - val_true_positives: 56.0000\n",
            "Epoch 105/200\n",
            "44/44 [==============================] - 1s 15ms/step - loss: 0.4479 - Accuracy: 0.8506 - false_negatives: 67.0000 - false_positives: 39.0000 - true_negatives: 1005.0000 - true_positives: 281.0000 - val_loss: 0.9855 - val_Accuracy: 0.6818 - val_false_negatives: 28.0000 - val_false_positives: 22.0000 - val_true_negatives: 242.0000 - val_true_positives: 60.0000\n",
            "Epoch 106/200\n",
            "44/44 [==============================] - 1s 15ms/step - loss: 0.4757 - Accuracy: 0.8190 - false_negatives: 79.0000 - false_positives: 49.0000 - true_negatives: 995.0000 - true_positives: 269.0000 - val_loss: 0.8176 - val_Accuracy: 0.7159 - val_false_negatives: 26.0000 - val_false_positives: 21.0000 - val_true_negatives: 243.0000 - val_true_positives: 62.0000\n",
            "Epoch 107/200\n",
            "44/44 [==============================] - 1s 15ms/step - loss: 0.4640 - Accuracy: 0.8333 - false_negatives: 68.0000 - false_positives: 44.0000 - true_negatives: 1000.0000 - true_positives: 280.0000 - val_loss: 1.1857 - val_Accuracy: 0.7045 - val_false_negatives: 28.0000 - val_false_positives: 23.0000 - val_true_negatives: 241.0000 - val_true_positives: 60.0000\n",
            "Epoch 108/200\n",
            "44/44 [==============================] - 1s 15ms/step - loss: 0.5178 - Accuracy: 0.8190 - false_negatives: 84.0000 - false_positives: 46.0000 - true_negatives: 998.0000 - true_positives: 264.0000 - val_loss: 0.8427 - val_Accuracy: 0.7273 - val_false_negatives: 27.0000 - val_false_positives: 19.0000 - val_true_negatives: 245.0000 - val_true_positives: 61.0000\n",
            "Epoch 109/200\n",
            "44/44 [==============================] - 1s 15ms/step - loss: 0.4279 - Accuracy: 0.8448 - false_negatives: 67.0000 - false_positives: 47.0000 - true_negatives: 997.0000 - true_positives: 281.0000 - val_loss: 1.5631 - val_Accuracy: 0.6477 - val_false_negatives: 34.0000 - val_false_positives: 31.0000 - val_true_negatives: 233.0000 - val_true_positives: 54.0000\n",
            "Epoch 110/200\n",
            "44/44 [==============================] - 1s 15ms/step - loss: 0.5460 - Accuracy: 0.7787 - false_negatives: 91.0000 - false_positives: 59.0000 - true_negatives: 985.0000 - true_positives: 257.0000 - val_loss: 0.8336 - val_Accuracy: 0.7273 - val_false_negatives: 28.0000 - val_false_positives: 19.0000 - val_true_negatives: 245.0000 - val_true_positives: 60.0000\n",
            "Epoch 111/200\n",
            "44/44 [==============================] - 1s 15ms/step - loss: 0.4747 - Accuracy: 0.8218 - false_negatives: 83.0000 - false_positives: 48.0000 - true_negatives: 996.0000 - true_positives: 265.0000 - val_loss: 1.0395 - val_Accuracy: 0.7386 - val_false_negatives: 26.0000 - val_false_positives: 23.0000 - val_true_negatives: 241.0000 - val_true_positives: 62.0000\n",
            "Epoch 112/200\n",
            "44/44 [==============================] - 1s 15ms/step - loss: 0.5429 - Accuracy: 0.7960 - false_negatives: 85.0000 - false_positives: 53.0000 - true_negatives: 991.0000 - true_positives: 263.0000 - val_loss: 0.9443 - val_Accuracy: 0.7159 - val_false_negatives: 28.0000 - val_false_positives: 24.0000 - val_true_negatives: 240.0000 - val_true_positives: 60.0000\n",
            "Epoch 113/200\n",
            "44/44 [==============================] - 1s 15ms/step - loss: 0.4406 - Accuracy: 0.8333 - false_negatives: 66.0000 - false_positives: 45.0000 - true_negatives: 999.0000 - true_positives: 282.0000 - val_loss: 0.8389 - val_Accuracy: 0.7614 - val_false_negatives: 22.0000 - val_false_positives: 15.0000 - val_true_negatives: 249.0000 - val_true_positives: 66.0000\n",
            "Epoch 114/200\n",
            "44/44 [==============================] - 1s 15ms/step - loss: 0.4554 - Accuracy: 0.8132 - false_negatives: 77.0000 - false_positives: 42.0000 - true_negatives: 1002.0000 - true_positives: 271.0000 - val_loss: 0.7928 - val_Accuracy: 0.7500 - val_false_negatives: 27.0000 - val_false_positives: 21.0000 - val_true_negatives: 243.0000 - val_true_positives: 61.0000\n",
            "Epoch 115/200\n",
            "44/44 [==============================] - 1s 16ms/step - loss: 0.4908 - Accuracy: 0.8103 - false_negatives: 75.0000 - false_positives: 47.0000 - true_negatives: 997.0000 - true_positives: 273.0000 - val_loss: 0.9286 - val_Accuracy: 0.7159 - val_false_negatives: 25.0000 - val_false_positives: 18.0000 - val_true_negatives: 246.0000 - val_true_positives: 63.0000\n",
            "Epoch 116/200\n",
            "44/44 [==============================] - 1s 15ms/step - loss: 0.4552 - Accuracy: 0.8247 - false_negatives: 78.0000 - false_positives: 46.0000 - true_negatives: 998.0000 - true_positives: 270.0000 - val_loss: 0.9090 - val_Accuracy: 0.7273 - val_false_negatives: 27.0000 - val_false_positives: 18.0000 - val_true_negatives: 246.0000 - val_true_positives: 61.0000\n",
            "Epoch 117/200\n",
            "44/44 [==============================] - 1s 15ms/step - loss: 0.4572 - Accuracy: 0.8218 - false_negatives: 77.0000 - false_positives: 40.0000 - true_negatives: 1004.0000 - true_positives: 271.0000 - val_loss: 1.0222 - val_Accuracy: 0.6705 - val_false_negatives: 31.0000 - val_false_positives: 26.0000 - val_true_negatives: 238.0000 - val_true_positives: 57.0000\n",
            "Epoch 118/200\n",
            "44/44 [==============================] - 1s 15ms/step - loss: 0.4925 - Accuracy: 0.8075 - false_negatives: 79.0000 - false_positives: 52.0000 - true_negatives: 992.0000 - true_positives: 269.0000 - val_loss: 0.8512 - val_Accuracy: 0.7273 - val_false_negatives: 27.0000 - val_false_positives: 20.0000 - val_true_negatives: 244.0000 - val_true_positives: 61.0000\n",
            "Epoch 119/200\n",
            "44/44 [==============================] - 1s 15ms/step - loss: 0.4306 - Accuracy: 0.8420 - false_negatives: 70.0000 - false_positives: 45.0000 - true_negatives: 999.0000 - true_positives: 278.0000 - val_loss: 1.0170 - val_Accuracy: 0.7386 - val_false_negatives: 25.0000 - val_false_positives: 20.0000 - val_true_negatives: 244.0000 - val_true_positives: 63.0000\n",
            "Epoch 120/200\n",
            "44/44 [==============================] - 1s 15ms/step - loss: 0.4471 - Accuracy: 0.8161 - false_negatives: 74.0000 - false_positives: 46.0000 - true_negatives: 998.0000 - true_positives: 274.0000 - val_loss: 0.9761 - val_Accuracy: 0.7045 - val_false_negatives: 26.0000 - val_false_positives: 23.0000 - val_true_negatives: 241.0000 - val_true_positives: 62.0000\n",
            "Epoch 121/200\n",
            "44/44 [==============================] - 1s 15ms/step - loss: 0.4021 - Accuracy: 0.8132 - false_negatives: 74.0000 - false_positives: 48.0000 - true_negatives: 996.0000 - true_positives: 274.0000 - val_loss: 0.9755 - val_Accuracy: 0.7159 - val_false_negatives: 25.0000 - val_false_positives: 24.0000 - val_true_negatives: 240.0000 - val_true_positives: 63.0000\n",
            "Epoch 122/200\n",
            "44/44 [==============================] - 1s 15ms/step - loss: 0.4124 - Accuracy: 0.8391 - false_negatives: 66.0000 - false_positives: 43.0000 - true_negatives: 1001.0000 - true_positives: 282.0000 - val_loss: 0.8879 - val_Accuracy: 0.6818 - val_false_negatives: 30.0000 - val_false_positives: 24.0000 - val_true_negatives: 240.0000 - val_true_positives: 58.0000\n",
            "Epoch 123/200\n",
            "44/44 [==============================] - 1s 15ms/step - loss: 0.4072 - Accuracy: 0.8563 - false_negatives: 59.0000 - false_positives: 39.0000 - true_negatives: 1005.0000 - true_positives: 289.0000 - val_loss: 0.8854 - val_Accuracy: 0.7386 - val_false_negatives: 23.0000 - val_false_positives: 22.0000 - val_true_negatives: 242.0000 - val_true_positives: 65.0000\n",
            "Epoch 124/200\n",
            "44/44 [==============================] - 1s 15ms/step - loss: 0.4463 - Accuracy: 0.8477 - false_negatives: 64.0000 - false_positives: 47.0000 - true_negatives: 997.0000 - true_positives: 284.0000 - val_loss: 1.1209 - val_Accuracy: 0.7159 - val_false_negatives: 27.0000 - val_false_positives: 23.0000 - val_true_negatives: 241.0000 - val_true_positives: 61.0000\n",
            "Epoch 125/200\n",
            "44/44 [==============================] - 1s 15ms/step - loss: 0.5261 - Accuracy: 0.7960 - false_negatives: 79.0000 - false_positives: 50.0000 - true_negatives: 994.0000 - true_positives: 269.0000 - val_loss: 1.1654 - val_Accuracy: 0.7045 - val_false_negatives: 29.0000 - val_false_positives: 21.0000 - val_true_negatives: 243.0000 - val_true_positives: 59.0000\n",
            "Epoch 126/200\n",
            "44/44 [==============================] - 1s 15ms/step - loss: 0.4132 - Accuracy: 0.8420 - false_negatives: 67.0000 - false_positives: 33.0000 - true_negatives: 1011.0000 - true_positives: 281.0000 - val_loss: 0.7879 - val_Accuracy: 0.7727 - val_false_negatives: 22.0000 - val_false_positives: 19.0000 - val_true_negatives: 245.0000 - val_true_positives: 66.0000\n",
            "Epoch 127/200\n",
            "44/44 [==============================] - 1s 15ms/step - loss: 0.4468 - Accuracy: 0.8161 - false_negatives: 72.0000 - false_positives: 55.0000 - true_negatives: 989.0000 - true_positives: 276.0000 - val_loss: 0.8395 - val_Accuracy: 0.7386 - val_false_negatives: 27.0000 - val_false_positives: 19.0000 - val_true_negatives: 245.0000 - val_true_positives: 61.0000\n",
            "Epoch 128/200\n",
            "44/44 [==============================] - 1s 24ms/step - loss: 0.3842 - Accuracy: 0.8506 - false_negatives: 65.0000 - false_positives: 37.0000 - true_negatives: 1007.0000 - true_positives: 283.0000 - val_loss: 0.8222 - val_Accuracy: 0.7955 - val_false_negatives: 20.0000 - val_false_positives: 16.0000 - val_true_negatives: 248.0000 - val_true_positives: 68.0000\n",
            "Epoch 129/200\n",
            "44/44 [==============================] - 1s 25ms/step - loss: 0.5273 - Accuracy: 0.7960 - false_negatives: 86.0000 - false_positives: 57.0000 - true_negatives: 987.0000 - true_positives: 262.0000 - val_loss: 0.7988 - val_Accuracy: 0.7955 - val_false_negatives: 22.0000 - val_false_positives: 16.0000 - val_true_negatives: 248.0000 - val_true_positives: 66.0000\n",
            "Epoch 130/200\n",
            "44/44 [==============================] - 1s 15ms/step - loss: 0.5214 - Accuracy: 0.8324 - false_negatives: 74.0000 - false_positives: 49.0000 - true_negatives: 1007.0000 - true_positives: 278.0000 - val_loss: 0.7654 - val_Accuracy: 0.7159 - val_false_negatives: 28.0000 - val_false_positives: 19.0000 - val_true_negatives: 245.0000 - val_true_positives: 60.0000\n",
            "Epoch 131/200\n",
            "44/44 [==============================] - 1s 15ms/step - loss: 0.4743 - Accuracy: 0.8305 - false_negatives: 74.0000 - false_positives: 45.0000 - true_negatives: 999.0000 - true_positives: 274.0000 - val_loss: 1.1172 - val_Accuracy: 0.7045 - val_false_negatives: 29.0000 - val_false_positives: 21.0000 - val_true_negatives: 243.0000 - val_true_positives: 59.0000\n",
            "Epoch 132/200\n",
            "44/44 [==============================] - 1s 16ms/step - loss: 0.4667 - Accuracy: 0.8391 - false_negatives: 73.0000 - false_positives: 45.0000 - true_negatives: 999.0000 - true_positives: 275.0000 - val_loss: 0.8917 - val_Accuracy: 0.7500 - val_false_negatives: 24.0000 - val_false_positives: 18.0000 - val_true_negatives: 246.0000 - val_true_positives: 64.0000\n",
            "Epoch 133/200\n",
            "44/44 [==============================] - 1s 15ms/step - loss: 0.3865 - Accuracy: 0.8736 - false_negatives: 60.0000 - false_positives: 31.0000 - true_negatives: 1013.0000 - true_positives: 288.0000 - val_loss: 0.7915 - val_Accuracy: 0.7386 - val_false_negatives: 23.0000 - val_false_positives: 17.0000 - val_true_negatives: 247.0000 - val_true_positives: 65.0000\n",
            "Epoch 134/200\n",
            "44/44 [==============================] - 1s 15ms/step - loss: 0.4671 - Accuracy: 0.8420 - false_negatives: 64.0000 - false_positives: 48.0000 - true_negatives: 996.0000 - true_positives: 284.0000 - val_loss: 0.7965 - val_Accuracy: 0.7727 - val_false_negatives: 23.0000 - val_false_positives: 18.0000 - val_true_negatives: 246.0000 - val_true_positives: 65.0000\n",
            "Epoch 135/200\n",
            "44/44 [==============================] - 1s 16ms/step - loss: 0.4334 - Accuracy: 0.8333 - false_negatives: 71.0000 - false_positives: 41.0000 - true_negatives: 1003.0000 - true_positives: 277.0000 - val_loss: 0.9164 - val_Accuracy: 0.7386 - val_false_negatives: 27.0000 - val_false_positives: 20.0000 - val_true_negatives: 244.0000 - val_true_positives: 61.0000\n",
            "Epoch 136/200\n",
            "44/44 [==============================] - 1s 15ms/step - loss: 0.3885 - Accuracy: 0.8391 - false_negatives: 64.0000 - false_positives: 45.0000 - true_negatives: 999.0000 - true_positives: 284.0000 - val_loss: 0.9048 - val_Accuracy: 0.7500 - val_false_negatives: 22.0000 - val_false_positives: 20.0000 - val_true_negatives: 244.0000 - val_true_positives: 66.0000\n",
            "Epoch 137/200\n",
            "44/44 [==============================] - 1s 15ms/step - loss: 0.3951 - Accuracy: 0.8477 - false_negatives: 61.0000 - false_positives: 42.0000 - true_negatives: 1002.0000 - true_positives: 287.0000 - val_loss: 1.1732 - val_Accuracy: 0.7159 - val_false_negatives: 27.0000 - val_false_positives: 21.0000 - val_true_negatives: 243.0000 - val_true_positives: 61.0000\n",
            "Epoch 138/200\n",
            "44/44 [==============================] - 1s 15ms/step - loss: 0.4015 - Accuracy: 0.8391 - false_negatives: 67.0000 - false_positives: 40.0000 - true_negatives: 1004.0000 - true_positives: 281.0000 - val_loss: 0.7518 - val_Accuracy: 0.7159 - val_false_negatives: 25.0000 - val_false_positives: 20.0000 - val_true_negatives: 244.0000 - val_true_positives: 63.0000\n",
            "Epoch 139/200\n",
            "44/44 [==============================] - 1s 16ms/step - loss: 0.3874 - Accuracy: 0.8707 - false_negatives: 61.0000 - false_positives: 38.0000 - true_negatives: 1006.0000 - true_positives: 287.0000 - val_loss: 0.7896 - val_Accuracy: 0.7159 - val_false_negatives: 27.0000 - val_false_positives: 19.0000 - val_true_negatives: 245.0000 - val_true_positives: 61.0000\n",
            "Epoch 140/200\n",
            "44/44 [==============================] - 1s 15ms/step - loss: 0.3614 - Accuracy: 0.8707 - false_negatives: 57.0000 - false_positives: 36.0000 - true_negatives: 1008.0000 - true_positives: 291.0000 - val_loss: 0.8336 - val_Accuracy: 0.7955 - val_false_negatives: 19.0000 - val_false_positives: 18.0000 - val_true_negatives: 246.0000 - val_true_positives: 69.0000\n",
            "Epoch 141/200\n",
            "44/44 [==============================] - 1s 16ms/step - loss: 0.4037 - Accuracy: 0.8506 - false_negatives: 56.0000 - false_positives: 46.0000 - true_negatives: 998.0000 - true_positives: 292.0000 - val_loss: 1.4082 - val_Accuracy: 0.6932 - val_false_negatives: 28.0000 - val_false_positives: 22.0000 - val_true_negatives: 242.0000 - val_true_positives: 60.0000\n",
            "Epoch 142/200\n",
            "44/44 [==============================] - 1s 16ms/step - loss: 0.4222 - Accuracy: 0.8534 - false_negatives: 61.0000 - false_positives: 38.0000 - true_negatives: 1006.0000 - true_positives: 287.0000 - val_loss: 0.8767 - val_Accuracy: 0.7955 - val_false_negatives: 21.0000 - val_false_positives: 16.0000 - val_true_negatives: 248.0000 - val_true_positives: 67.0000\n",
            "Epoch 143/200\n",
            "44/44 [==============================] - 1s 15ms/step - loss: 0.3803 - Accuracy: 0.8506 - false_negatives: 61.0000 - false_positives: 40.0000 - true_negatives: 1004.0000 - true_positives: 287.0000 - val_loss: 1.0633 - val_Accuracy: 0.7614 - val_false_negatives: 23.0000 - val_false_positives: 19.0000 - val_true_negatives: 245.0000 - val_true_positives: 65.0000\n",
            "Epoch 144/200\n",
            "44/44 [==============================] - 1s 15ms/step - loss: 0.3320 - Accuracy: 0.8764 - false_negatives: 55.0000 - false_positives: 35.0000 - true_negatives: 1009.0000 - true_positives: 293.0000 - val_loss: 0.8205 - val_Accuracy: 0.7841 - val_false_negatives: 21.0000 - val_false_positives: 16.0000 - val_true_negatives: 248.0000 - val_true_positives: 67.0000\n",
            "Epoch 145/200\n",
            "44/44 [==============================] - 1s 16ms/step - loss: 0.3457 - Accuracy: 0.8707 - false_negatives: 57.0000 - false_positives: 35.0000 - true_negatives: 1009.0000 - true_positives: 291.0000 - val_loss: 1.0034 - val_Accuracy: 0.7614 - val_false_negatives: 25.0000 - val_false_positives: 19.0000 - val_true_negatives: 245.0000 - val_true_positives: 63.0000\n",
            "Epoch 146/200\n",
            "44/44 [==============================] - 1s 16ms/step - loss: 0.3566 - Accuracy: 0.8563 - false_negatives: 58.0000 - false_positives: 43.0000 - true_negatives: 1001.0000 - true_positives: 290.0000 - val_loss: 1.0138 - val_Accuracy: 0.7500 - val_false_negatives: 26.0000 - val_false_positives: 19.0000 - val_true_negatives: 245.0000 - val_true_positives: 62.0000\n",
            "Epoch 147/200\n",
            "44/44 [==============================] - 1s 16ms/step - loss: 0.3587 - Accuracy: 0.8381 - false_negatives: 62.0000 - false_positives: 40.0000 - true_negatives: 1016.0000 - true_positives: 290.0000 - val_loss: 0.9548 - val_Accuracy: 0.7727 - val_false_negatives: 23.0000 - val_false_positives: 18.0000 - val_true_negatives: 246.0000 - val_true_positives: 65.0000\n",
            "Epoch 148/200\n",
            "44/44 [==============================] - 1s 15ms/step - loss: 0.3384 - Accuracy: 0.8592 - false_negatives: 56.0000 - false_positives: 42.0000 - true_negatives: 1002.0000 - true_positives: 292.0000 - val_loss: 1.1781 - val_Accuracy: 0.7159 - val_false_negatives: 27.0000 - val_false_positives: 24.0000 - val_true_negatives: 240.0000 - val_true_positives: 61.0000\n",
            "Epoch 149/200\n",
            "44/44 [==============================] - 1s 16ms/step - loss: 0.3068 - Accuracy: 0.8937 - false_negatives: 44.0000 - false_positives: 32.0000 - true_negatives: 1012.0000 - true_positives: 304.0000 - val_loss: 0.9243 - val_Accuracy: 0.7614 - val_false_negatives: 24.0000 - val_false_positives: 16.0000 - val_true_negatives: 248.0000 - val_true_positives: 64.0000\n",
            "Epoch 150/200\n",
            "44/44 [==============================] - 1s 15ms/step - loss: 0.3651 - Accuracy: 0.8764 - false_negatives: 51.0000 - false_positives: 35.0000 - true_negatives: 1009.0000 - true_positives: 297.0000 - val_loss: 0.9039 - val_Accuracy: 0.7614 - val_false_negatives: 22.0000 - val_false_positives: 17.0000 - val_true_negatives: 247.0000 - val_true_positives: 66.0000\n",
            "Epoch 151/200\n",
            "44/44 [==============================] - 1s 15ms/step - loss: 0.3470 - Accuracy: 0.8534 - false_negatives: 54.0000 - false_positives: 42.0000 - true_negatives: 1002.0000 - true_positives: 294.0000 - val_loss: 0.8137 - val_Accuracy: 0.8068 - val_false_negatives: 19.0000 - val_false_positives: 15.0000 - val_true_negatives: 249.0000 - val_true_positives: 69.0000\n",
            "Epoch 152/200\n",
            "44/44 [==============================] - 1s 16ms/step - loss: 0.3223 - Accuracy: 0.8851 - false_negatives: 43.0000 - false_positives: 33.0000 - true_negatives: 1011.0000 - true_positives: 305.0000 - val_loss: 0.7350 - val_Accuracy: 0.8295 - val_false_negatives: 19.0000 - val_false_positives: 13.0000 - val_true_negatives: 251.0000 - val_true_positives: 69.0000\n",
            "Epoch 153/200\n",
            "44/44 [==============================] - 1s 15ms/step - loss: 0.4639 - Accuracy: 0.8333 - false_negatives: 68.0000 - false_positives: 51.0000 - true_negatives: 993.0000 - true_positives: 280.0000 - val_loss: 1.0848 - val_Accuracy: 0.7727 - val_false_negatives: 24.0000 - val_false_positives: 17.0000 - val_true_negatives: 247.0000 - val_true_positives: 64.0000\n",
            "Epoch 154/200\n",
            "44/44 [==============================] - 1s 16ms/step - loss: 0.4186 - Accuracy: 0.8333 - false_negatives: 65.0000 - false_positives: 49.0000 - true_negatives: 995.0000 - true_positives: 283.0000 - val_loss: 0.9608 - val_Accuracy: 0.7727 - val_false_negatives: 22.0000 - val_false_positives: 19.0000 - val_true_negatives: 245.0000 - val_true_positives: 66.0000\n",
            "Epoch 155/200\n",
            "44/44 [==============================] - 1s 16ms/step - loss: 0.3481 - Accuracy: 0.8678 - false_negatives: 54.0000 - false_positives: 36.0000 - true_negatives: 1008.0000 - true_positives: 294.0000 - val_loss: 0.9848 - val_Accuracy: 0.7500 - val_false_negatives: 27.0000 - val_false_positives: 20.0000 - val_true_negatives: 244.0000 - val_true_positives: 61.0000\n",
            "Epoch 156/200\n",
            "44/44 [==============================] - 1s 16ms/step - loss: 0.3169 - Accuracy: 0.8764 - false_negatives: 51.0000 - false_positives: 33.0000 - true_negatives: 1011.0000 - true_positives: 297.0000 - val_loss: 0.9143 - val_Accuracy: 0.7841 - val_false_negatives: 21.0000 - val_false_positives: 18.0000 - val_true_negatives: 246.0000 - val_true_positives: 67.0000\n",
            "Epoch 157/200\n",
            "44/44 [==============================] - 1s 15ms/step - loss: 0.3360 - Accuracy: 0.8649 - false_negatives: 55.0000 - false_positives: 41.0000 - true_negatives: 1003.0000 - true_positives: 293.0000 - val_loss: 1.2431 - val_Accuracy: 0.7386 - val_false_negatives: 24.0000 - val_false_positives: 20.0000 - val_true_negatives: 244.0000 - val_true_positives: 64.0000\n",
            "Epoch 158/200\n",
            "44/44 [==============================] - 1s 16ms/step - loss: 0.4895 - Accuracy: 0.8381 - false_negatives: 70.0000 - false_positives: 45.0000 - true_negatives: 1011.0000 - true_positives: 282.0000 - val_loss: 0.9909 - val_Accuracy: 0.8068 - val_false_negatives: 18.0000 - val_false_positives: 14.0000 - val_true_negatives: 250.0000 - val_true_positives: 70.0000\n",
            "Epoch 159/200\n",
            "44/44 [==============================] - 1s 15ms/step - loss: 0.3520 - Accuracy: 0.8793 - false_negatives: 49.0000 - false_positives: 39.0000 - true_negatives: 1005.0000 - true_positives: 299.0000 - val_loss: 0.7946 - val_Accuracy: 0.7614 - val_false_negatives: 23.0000 - val_false_positives: 19.0000 - val_true_negatives: 245.0000 - val_true_positives: 65.0000\n",
            "Epoch 160/200\n",
            "44/44 [==============================] - 1s 16ms/step - loss: 0.2975 - Accuracy: 0.8851 - false_negatives: 48.0000 - false_positives: 32.0000 - true_negatives: 1012.0000 - true_positives: 300.0000 - val_loss: 1.1084 - val_Accuracy: 0.7159 - val_false_negatives: 25.0000 - val_false_positives: 21.0000 - val_true_negatives: 243.0000 - val_true_positives: 63.0000\n",
            "Epoch 161/200\n",
            "44/44 [==============================] - 1s 16ms/step - loss: 0.2761 - Accuracy: 0.8937 - false_negatives: 41.0000 - false_positives: 26.0000 - true_negatives: 1018.0000 - true_positives: 307.0000 - val_loss: 0.9721 - val_Accuracy: 0.7841 - val_false_negatives: 20.0000 - val_false_positives: 17.0000 - val_true_negatives: 247.0000 - val_true_positives: 68.0000\n",
            "Epoch 162/200\n",
            "44/44 [==============================] - 1s 15ms/step - loss: 0.3899 - Accuracy: 0.8736 - false_negatives: 55.0000 - false_positives: 35.0000 - true_negatives: 1009.0000 - true_positives: 293.0000 - val_loss: 1.2885 - val_Accuracy: 0.6818 - val_false_negatives: 29.0000 - val_false_positives: 22.0000 - val_true_negatives: 242.0000 - val_true_positives: 59.0000\n",
            "Epoch 163/200\n",
            "44/44 [==============================] - 1s 16ms/step - loss: 0.3743 - Accuracy: 0.8362 - false_negatives: 64.0000 - false_positives: 45.0000 - true_negatives: 999.0000 - true_positives: 284.0000 - val_loss: 0.9542 - val_Accuracy: 0.7727 - val_false_negatives: 22.0000 - val_false_positives: 16.0000 - val_true_negatives: 248.0000 - val_true_positives: 66.0000\n",
            "Epoch 164/200\n",
            "44/44 [==============================] - 1s 16ms/step - loss: 0.3070 - Accuracy: 0.8793 - false_negatives: 43.0000 - false_positives: 36.0000 - true_negatives: 1008.0000 - true_positives: 305.0000 - val_loss: 1.6018 - val_Accuracy: 0.6818 - val_false_negatives: 30.0000 - val_false_positives: 24.0000 - val_true_negatives: 240.0000 - val_true_positives: 58.0000\n",
            "Epoch 165/200\n",
            "44/44 [==============================] - 1s 15ms/step - loss: 0.4113 - Accuracy: 0.8305 - false_negatives: 63.0000 - false_positives: 49.0000 - true_negatives: 995.0000 - true_positives: 285.0000 - val_loss: 1.2608 - val_Accuracy: 0.7614 - val_false_negatives: 22.0000 - val_false_positives: 20.0000 - val_true_negatives: 244.0000 - val_true_positives: 66.0000\n",
            "Epoch 166/200\n",
            "44/44 [==============================] - 1s 15ms/step - loss: 0.3107 - Accuracy: 0.8937 - false_negatives: 43.0000 - false_positives: 31.0000 - true_negatives: 1013.0000 - true_positives: 305.0000 - val_loss: 0.9396 - val_Accuracy: 0.7159 - val_false_negatives: 26.0000 - val_false_positives: 19.0000 - val_true_negatives: 245.0000 - val_true_positives: 62.0000\n",
            "Epoch 167/200\n",
            "44/44 [==============================] - 1s 15ms/step - loss: 0.3589 - Accuracy: 0.8391 - false_negatives: 63.0000 - false_positives: 44.0000 - true_negatives: 1000.0000 - true_positives: 285.0000 - val_loss: 1.0113 - val_Accuracy: 0.7955 - val_false_negatives: 18.0000 - val_false_positives: 16.0000 - val_true_negatives: 248.0000 - val_true_positives: 70.0000\n",
            "Epoch 168/200\n",
            "44/44 [==============================] - 1s 15ms/step - loss: 0.2717 - Accuracy: 0.9109 - false_negatives: 38.0000 - false_positives: 28.0000 - true_negatives: 1016.0000 - true_positives: 310.0000 - val_loss: 1.2188 - val_Accuracy: 0.7727 - val_false_negatives: 22.0000 - val_false_positives: 16.0000 - val_true_negatives: 248.0000 - val_true_positives: 66.0000\n",
            "Epoch 169/200\n",
            "44/44 [==============================] - 1s 15ms/step - loss: 0.3038 - Accuracy: 0.8793 - false_negatives: 46.0000 - false_positives: 34.0000 - true_negatives: 1010.0000 - true_positives: 302.0000 - val_loss: 1.4911 - val_Accuracy: 0.7045 - val_false_negatives: 28.0000 - val_false_positives: 21.0000 - val_true_negatives: 243.0000 - val_true_positives: 60.0000\n",
            "Epoch 170/200\n",
            "44/44 [==============================] - 1s 15ms/step - loss: 0.3341 - Accuracy: 0.8707 - false_negatives: 51.0000 - false_positives: 34.0000 - true_negatives: 1010.0000 - true_positives: 297.0000 - val_loss: 1.1931 - val_Accuracy: 0.7727 - val_false_negatives: 21.0000 - val_false_positives: 19.0000 - val_true_negatives: 245.0000 - val_true_positives: 67.0000\n",
            "Epoch 171/200\n",
            "44/44 [==============================] - 1s 16ms/step - loss: 0.2954 - Accuracy: 0.8822 - false_negatives: 45.0000 - false_positives: 35.0000 - true_negatives: 1009.0000 - true_positives: 303.0000 - val_loss: 0.9696 - val_Accuracy: 0.7841 - val_false_negatives: 20.0000 - val_false_positives: 16.0000 - val_true_negatives: 248.0000 - val_true_positives: 68.0000\n",
            "Epoch 172/200\n",
            "44/44 [==============================] - 1s 16ms/step - loss: 0.3219 - Accuracy: 0.8822 - false_negatives: 46.0000 - false_positives: 33.0000 - true_negatives: 1011.0000 - true_positives: 302.0000 - val_loss: 0.9577 - val_Accuracy: 0.7500 - val_false_negatives: 22.0000 - val_false_positives: 20.0000 - val_true_negatives: 244.0000 - val_true_positives: 66.0000\n",
            "Epoch 173/200\n",
            "44/44 [==============================] - 1s 15ms/step - loss: 0.3063 - Accuracy: 0.8764 - false_negatives: 52.0000 - false_positives: 33.0000 - true_negatives: 1011.0000 - true_positives: 296.0000 - val_loss: 0.9217 - val_Accuracy: 0.7614 - val_false_negatives: 22.0000 - val_false_positives: 20.0000 - val_true_negatives: 244.0000 - val_true_positives: 66.0000\n",
            "Epoch 174/200\n",
            "44/44 [==============================] - 1s 16ms/step - loss: 0.3376 - Accuracy: 0.8736 - false_negatives: 53.0000 - false_positives: 34.0000 - true_negatives: 1010.0000 - true_positives: 295.0000 - val_loss: 1.0608 - val_Accuracy: 0.7500 - val_false_negatives: 25.0000 - val_false_positives: 19.0000 - val_true_negatives: 245.0000 - val_true_positives: 63.0000\n",
            "Epoch 175/200\n",
            "44/44 [==============================] - 1s 15ms/step - loss: 0.3070 - Accuracy: 0.8851 - false_negatives: 49.0000 - false_positives: 34.0000 - true_negatives: 1010.0000 - true_positives: 299.0000 - val_loss: 1.1354 - val_Accuracy: 0.7386 - val_false_negatives: 23.0000 - val_false_positives: 22.0000 - val_true_negatives: 242.0000 - val_true_positives: 65.0000\n",
            "Epoch 176/200\n",
            "44/44 [==============================] - 1s 15ms/step - loss: 0.2831 - Accuracy: 0.8994 - false_negatives: 40.0000 - false_positives: 30.0000 - true_negatives: 1014.0000 - true_positives: 308.0000 - val_loss: 1.0730 - val_Accuracy: 0.7727 - val_false_negatives: 23.0000 - val_false_positives: 18.0000 - val_true_negatives: 246.0000 - val_true_positives: 65.0000\n",
            "Epoch 177/200\n",
            "44/44 [==============================] - 1s 23ms/step - loss: 0.2584 - Accuracy: 0.8994 - false_negatives: 39.0000 - false_positives: 26.0000 - true_negatives: 1018.0000 - true_positives: 309.0000 - val_loss: 1.3220 - val_Accuracy: 0.7273 - val_false_negatives: 25.0000 - val_false_positives: 21.0000 - val_true_negatives: 243.0000 - val_true_positives: 63.0000\n",
            "Epoch 178/200\n",
            "44/44 [==============================] - 1s 24ms/step - loss: 0.2343 - Accuracy: 0.9052 - false_negatives: 34.0000 - false_positives: 27.0000 - true_negatives: 1017.0000 - true_positives: 314.0000 - val_loss: 1.0485 - val_Accuracy: 0.8068 - val_false_negatives: 19.0000 - val_false_positives: 15.0000 - val_true_negatives: 249.0000 - val_true_positives: 69.0000\n",
            "Epoch 179/200\n",
            "44/44 [==============================] - 1s 16ms/step - loss: 0.3013 - Accuracy: 0.8937 - false_negatives: 43.0000 - false_positives: 29.0000 - true_negatives: 1015.0000 - true_positives: 305.0000 - val_loss: 0.9975 - val_Accuracy: 0.7500 - val_false_negatives: 22.0000 - val_false_positives: 20.0000 - val_true_negatives: 244.0000 - val_true_positives: 66.0000\n",
            "Epoch 180/200\n",
            "44/44 [==============================] - 1s 16ms/step - loss: 0.3332 - Accuracy: 0.8678 - false_negatives: 46.0000 - false_positives: 41.0000 - true_negatives: 1003.0000 - true_positives: 302.0000 - val_loss: 1.0842 - val_Accuracy: 0.7386 - val_false_negatives: 23.0000 - val_false_positives: 22.0000 - val_true_negatives: 242.0000 - val_true_positives: 65.0000\n",
            "Epoch 181/200\n",
            "44/44 [==============================] - 1s 15ms/step - loss: 0.2854 - Accuracy: 0.8937 - false_negatives: 40.0000 - false_positives: 35.0000 - true_negatives: 1009.0000 - true_positives: 308.0000 - val_loss: 0.7718 - val_Accuracy: 0.7614 - val_false_negatives: 22.0000 - val_false_positives: 19.0000 - val_true_negatives: 245.0000 - val_true_positives: 66.0000\n",
            "Epoch 182/200\n",
            "44/44 [==============================] - 1s 15ms/step - loss: 0.2576 - Accuracy: 0.9224 - false_negatives: 36.0000 - false_positives: 23.0000 - true_negatives: 1021.0000 - true_positives: 312.0000 - val_loss: 1.5246 - val_Accuracy: 0.6932 - val_false_negatives: 28.0000 - val_false_positives: 25.0000 - val_true_negatives: 239.0000 - val_true_positives: 60.0000\n",
            "Epoch 183/200\n",
            "44/44 [==============================] - 1s 16ms/step - loss: 0.3567 - Accuracy: 0.8937 - false_negatives: 42.0000 - false_positives: 32.0000 - true_negatives: 1012.0000 - true_positives: 306.0000 - val_loss: 0.8825 - val_Accuracy: 0.7500 - val_false_negatives: 23.0000 - val_false_positives: 20.0000 - val_true_negatives: 244.0000 - val_true_positives: 65.0000\n",
            "Epoch 184/200\n",
            "44/44 [==============================] - 1s 16ms/step - loss: 0.2749 - Accuracy: 0.9109 - false_negatives: 38.0000 - false_positives: 25.0000 - true_negatives: 1019.0000 - true_positives: 310.0000 - val_loss: 1.1077 - val_Accuracy: 0.8068 - val_false_negatives: 20.0000 - val_false_positives: 16.0000 - val_true_negatives: 248.0000 - val_true_positives: 68.0000\n",
            "Epoch 185/200\n",
            "44/44 [==============================] - 1s 15ms/step - loss: 0.2726 - Accuracy: 0.9224 - false_negatives: 32.0000 - false_positives: 25.0000 - true_negatives: 1019.0000 - true_positives: 316.0000 - val_loss: 0.9826 - val_Accuracy: 0.7386 - val_false_negatives: 24.0000 - val_false_positives: 22.0000 - val_true_negatives: 242.0000 - val_true_positives: 64.0000\n",
            "Epoch 186/200\n",
            "44/44 [==============================] - 1s 16ms/step - loss: 0.3811 - Accuracy: 0.8391 - false_negatives: 58.0000 - false_positives: 46.0000 - true_negatives: 998.0000 - true_positives: 290.0000 - val_loss: 1.2583 - val_Accuracy: 0.6705 - val_false_negatives: 32.0000 - val_false_positives: 25.0000 - val_true_negatives: 239.0000 - val_true_positives: 56.0000\n",
            "Epoch 187/200\n",
            "44/44 [==============================] - 1s 16ms/step - loss: 0.2798 - Accuracy: 0.8994 - false_negatives: 39.0000 - false_positives: 30.0000 - true_negatives: 1014.0000 - true_positives: 309.0000 - val_loss: 0.8363 - val_Accuracy: 0.7500 - val_false_negatives: 24.0000 - val_false_positives: 20.0000 - val_true_negatives: 244.0000 - val_true_positives: 64.0000\n",
            "Epoch 188/200\n",
            "44/44 [==============================] - 1s 16ms/step - loss: 0.2643 - Accuracy: 0.9109 - false_negatives: 36.0000 - false_positives: 28.0000 - true_negatives: 1016.0000 - true_positives: 312.0000 - val_loss: 1.1300 - val_Accuracy: 0.7841 - val_false_negatives: 20.0000 - val_false_positives: 17.0000 - val_true_negatives: 247.0000 - val_true_positives: 68.0000\n",
            "Epoch 189/200\n",
            "44/44 [==============================] - 1s 15ms/step - loss: 0.3001 - Accuracy: 0.8851 - false_negatives: 47.0000 - false_positives: 33.0000 - true_negatives: 1011.0000 - true_positives: 301.0000 - val_loss: 0.8793 - val_Accuracy: 0.7727 - val_false_negatives: 21.0000 - val_false_positives: 18.0000 - val_true_negatives: 246.0000 - val_true_positives: 67.0000\n",
            "Epoch 190/200\n",
            "44/44 [==============================] - 1s 16ms/step - loss: 0.1964 - Accuracy: 0.9339 - false_negatives: 28.0000 - false_positives: 22.0000 - true_negatives: 1022.0000 - true_positives: 320.0000 - val_loss: 1.4370 - val_Accuracy: 0.7273 - val_false_negatives: 25.0000 - val_false_positives: 22.0000 - val_true_negatives: 242.0000 - val_true_positives: 63.0000\n",
            "Epoch 191/200\n",
            "44/44 [==============================] - 1s 16ms/step - loss: 0.2364 - Accuracy: 0.9224 - false_negatives: 30.0000 - false_positives: 24.0000 - true_negatives: 1020.0000 - true_positives: 318.0000 - val_loss: 1.2175 - val_Accuracy: 0.7614 - val_false_negatives: 22.0000 - val_false_positives: 21.0000 - val_true_negatives: 243.0000 - val_true_positives: 66.0000\n",
            "Epoch 192/200\n",
            "44/44 [==============================] - 1s 16ms/step - loss: 0.2152 - Accuracy: 0.9282 - false_negatives: 27.0000 - false_positives: 20.0000 - true_negatives: 1024.0000 - true_positives: 321.0000 - val_loss: 1.2941 - val_Accuracy: 0.7500 - val_false_negatives: 22.0000 - val_false_positives: 19.0000 - val_true_negatives: 245.0000 - val_true_positives: 66.0000\n",
            "Epoch 193/200\n",
            "44/44 [==============================] - 1s 15ms/step - loss: 0.2421 - Accuracy: 0.9195 - false_negatives: 36.0000 - false_positives: 28.0000 - true_negatives: 1016.0000 - true_positives: 312.0000 - val_loss: 1.2108 - val_Accuracy: 0.7159 - val_false_negatives: 27.0000 - val_false_positives: 24.0000 - val_true_negatives: 240.0000 - val_true_positives: 61.0000\n",
            "Epoch 194/200\n",
            "44/44 [==============================] - 1s 16ms/step - loss: 0.2170 - Accuracy: 0.9195 - false_negatives: 30.0000 - false_positives: 27.0000 - true_negatives: 1017.0000 - true_positives: 318.0000 - val_loss: 1.0463 - val_Accuracy: 0.7727 - val_false_negatives: 20.0000 - val_false_positives: 18.0000 - val_true_negatives: 246.0000 - val_true_positives: 68.0000\n",
            "Epoch 195/200\n",
            "44/44 [==============================] - 1s 16ms/step - loss: 0.2157 - Accuracy: 0.9195 - false_negatives: 32.0000 - false_positives: 24.0000 - true_negatives: 1020.0000 - true_positives: 316.0000 - val_loss: 1.2343 - val_Accuracy: 0.7727 - val_false_negatives: 20.0000 - val_false_positives: 19.0000 - val_true_negatives: 245.0000 - val_true_positives: 68.0000\n",
            "Epoch 196/200\n",
            "44/44 [==============================] - 1s 16ms/step - loss: 0.2714 - Accuracy: 0.8949 - false_negatives: 42.0000 - false_positives: 34.0000 - true_negatives: 1022.0000 - true_positives: 310.0000 - val_loss: 1.1790 - val_Accuracy: 0.7386 - val_false_negatives: 23.0000 - val_false_positives: 22.0000 - val_true_negatives: 242.0000 - val_true_positives: 65.0000\n",
            "Epoch 197/200\n",
            "44/44 [==============================] - 1s 15ms/step - loss: 0.2536 - Accuracy: 0.8937 - false_negatives: 40.0000 - false_positives: 32.0000 - true_negatives: 1012.0000 - true_positives: 308.0000 - val_loss: 1.0231 - val_Accuracy: 0.6932 - val_false_negatives: 30.0000 - val_false_positives: 24.0000 - val_true_negatives: 240.0000 - val_true_positives: 58.0000\n",
            "Epoch 198/200\n",
            "44/44 [==============================] - 1s 15ms/step - loss: 0.2675 - Accuracy: 0.9109 - false_negatives: 36.0000 - false_positives: 30.0000 - true_negatives: 1014.0000 - true_positives: 312.0000 - val_loss: 1.1131 - val_Accuracy: 0.7386 - val_false_negatives: 25.0000 - val_false_positives: 21.0000 - val_true_negatives: 243.0000 - val_true_positives: 63.0000\n",
            "Epoch 199/200\n",
            "44/44 [==============================] - 1s 16ms/step - loss: 0.2239 - Accuracy: 0.9282 - false_negatives: 26.0000 - false_positives: 24.0000 - true_negatives: 1020.0000 - true_positives: 322.0000 - val_loss: 1.1785 - val_Accuracy: 0.7386 - val_false_negatives: 26.0000 - val_false_positives: 20.0000 - val_true_negatives: 244.0000 - val_true_positives: 62.0000\n",
            "Epoch 200/200\n",
            "44/44 [==============================] - 1s 15ms/step - loss: 0.2326 - Accuracy: 0.9138 - false_negatives: 33.0000 - false_positives: 26.0000 - true_negatives: 1018.0000 - true_positives: 315.0000 - val_loss: 0.9894 - val_Accuracy: 0.7500 - val_false_negatives: 25.0000 - val_false_positives: 19.0000 - val_true_negatives: 245.0000 - val_true_positives: 63.0000\n"
          ]
        }
      ]
    },
    {
      "cell_type": "markdown",
      "source": [
        "Plotting Traning Result"
      ],
      "metadata": {
        "id": "XZSFG8fXqz7c"
      }
    },
    {
      "cell_type": "code",
      "source": [
        "  #plotting\n",
        "  epochs = range(1, len(history.history['loss'])+1)\n",
        "  plt.title(f\"Grafik loss training iterasi {iterasi}\")\n",
        "  plt.plot(epochs, history.history['loss'], 'r', label='Training Loss')\n",
        "  plt.plot(epochs, history.history['val_loss'], 'b', label='Validation Loss')    \n",
        "  plt.xlabel(\"Epoch\")\n",
        "  plt.ylabel(\"Loss\")\n",
        "  plt.legend()\n",
        "  plt.show()\n"
      ],
      "metadata": {
        "id": "3dXbDrJpY1NK",
        "colab": {
          "base_uri": "https://localhost:8080/",
          "height": 295
        },
        "outputId": "64c06ed9-9422-46d5-d1ec-31baad2a5696"
      },
      "execution_count": 12,
      "outputs": [
        {
          "output_type": "display_data",
          "data": {
            "text/plain": [
              "<Figure size 432x288 with 1 Axes>"
            ],
            "image/png": "[encoded data removed]"
          },
          "metadata": {
            "needs_background": "light"
          }
        }
      ]
    },
    {
      "cell_type": "code",
      "source": [
        "  #plotting\n",
        "  epochs = range(1, len(history.history['loss'])+1)\n",
        "  plt.title(f\"Grafik Akurasi training iterasi {iterasi}\")\n",
        "  plt.plot(epochs, history.history['Accuracy'], 'r', label='Training Accuracy')\n",
        "  plt.plot(epochs, history.history['val_Accuracy'], 'b', label='Validation Accuracy')    \n",
        "  plt.xlabel(\"Epoch\")\n",
        "  plt.ylabel(\"Accuracy\")\n",
        "  plt.legend()\n",
        "  plt.show()"
      ],
      "metadata": {
        "id": "j3xigprPwlSX",
        "colab": {
          "base_uri": "https://localhost:8080/",
          "height": 295
        },
        "outputId": "76ea35e4-3048-4269-b538-b912c568a095"
      },
      "execution_count": 13,
      "outputs": [
        {
          "output_type": "display_data",
          "data": {
            "text/plain": [
              "<Figure size 432x288 with 1 Axes>"
            ],
            "image/png": "[encoded data removed]"
          },
          "metadata": {
            "needs_background": "light"
          }
        }
      ]
    },
    {
      "cell_type": "code",
      "source": [
        "import matplotlib.pyplot as plt\n",
        "from sklearn.datasets import make_classification\n",
        "from numpy import mean\n",
        "from sklearn.metrics import confusion_matrix, ConfusionMatrixDisplay, accuracy_score, classification_report, recall_score\n",
        "\n",
        "validation = model.predict(np_image_list_validation)\n",
        "\n",
        "predicted_labels = []\n",
        "correct_labels = []\n",
        "for i in range (len(validation)):\n",
        "  predicted_labels.append(np.argmax(validation[i]))\n",
        "\n",
        "for i in range (len(image_labels_validation)):\n",
        "  correct_labels.append(np.argmax(image_labels_validation[i]))\n",
        "\n",
        "\n",
        "confusion_matrix = confusion_matrix(correct_labels, predicted_labels)\n",
        "disp = ConfusionMatrixDisplay(confusion_matrix=confusion_matrix)  \n",
        "disp.plot()\n",
        "plt.show()\n",
        "print('--------')\n",
        "FP = confusion_matrix.sum(axis=0) - np.diag(confusion_matrix)  \n",
        "FN = confusion_matrix.sum(axis=1) - np.diag(confusion_matrix)\n",
        "TP = np.diag(confusion_matrix)\n",
        "TN = confusion_matrix.sum() - (FP + FN + TP)\n",
        "\n",
        "# Sensitivity, hit rate, recall, or true positive rate\n",
        "TPR = TP/(TP+FN)\n",
        "# Specificity or true negative rate\n",
        "TNR = TN/(TN+FP) \n",
        "# Overall accuracy\n",
        "ACC = (TP+TN)/(TP+FP+FN+TN)\n",
        "\n",
        "print(TP)\n",
        "print(TN)\n",
        "print(FP)\n",
        "print(FN)\n",
        "print('--------')\n",
        "print(ACC)\n",
        "print(TPR)\n",
        "print(TNR)\n",
        "print('--------')\n",
        "\n",
        "TP = sum(TP)\n",
        "TN = sum(TN)\n",
        "FP = sum(FP)\n",
        "FN = sum(FN)\n",
        "\n",
        "# Sensitivity, hit rate, recall, or true positive rate\n",
        "TPR = TP/(TP+FN)\n",
        "# Specificity or true negative rate\n",
        "TNR = TN/(TN+FP) \n",
        "# Overall accuracy\n",
        "ACC = (TP+TN)/(TP+FP+FN+TN)\n",
        "\n",
        "print(TP)\n",
        "print(TN)\n",
        "print(FP)\n",
        "print(FN)\n",
        "print('--------')\n",
        "print(ACC)\n",
        "print(TPR)\n",
        "print(TNR)"
      ],
      "metadata": {
        "colab": {
          "base_uri": "https://localhost:8080/",
          "height": 591
        },
        "id": "y0RigLm76Rpg",
        "outputId": "418ad14a-ee62-4971-eff4-9a54a5643c4b"
      },
      "execution_count": 14,
      "outputs": [
        {
          "output_type": "display_data",
          "data": {
            "text/plain": [
              "<Figure size 432x288 with 2 Axes>"
            ],
            "image/png": "[encoded data removed]"
          },
          "metadata": {
            "needs_background": "light"
          }
        },
        {
          "output_type": "stream",
          "name": "stdout",
          "text": [
            "--------\n",
            "[ 8  6 15 37]\n",
            "[73 70 61 38]\n",
            "[ 5  5  2 10]\n",
            "[ 2  7 10  3]\n",
            "--------\n",
            "[0.92045455 0.86363636 0.86363636 0.85227273]\n",
            "[0.8        0.46153846 0.6        0.925     ]\n",
            "[0.93589744 0.93333333 0.96825397 0.79166667]\n",
            "--------\n",
            "66\n",
            "242\n",
            "22\n",
            "22\n",
            "--------\n",
            "0.875\n",
            "0.75\n",
            "0.9166666666666666\n"
          ]
        }
      ]
    },
    {
      "cell_type": "code",
      "source": [
        "import matplotlib.pyplot as plt\n",
        "from sklearn.datasets import make_classification\n",
        "from numpy import mean\n",
        "from sklearn.metrics import confusion_matrix, ConfusionMatrixDisplay, accuracy_score, classification_report, recall_score\n",
        "\n",
        "test = model.predict(np_image_list_test)\n",
        "\n",
        "predicted_labels = []\n",
        "correct_labels = []\n",
        "for i in range (len(test)):\n",
        "  predicted_labels.append(np.argmax(test[i]))\n",
        "\n",
        "for i in range (len(image_labels_test)):\n",
        "  correct_labels.append(np.argmax(image_labels_test[i]))\n",
        "\n",
        "\n",
        "confusion_matrix = confusion_matrix(correct_labels, predicted_labels)\n",
        "disp = ConfusionMatrixDisplay(confusion_matrix=confusion_matrix)  \n",
        "disp.plot()\n",
        "plt.show()\n",
        "print('--------')\n",
        "FP = confusion_matrix.sum(axis=0) - np.diag(confusion_matrix)  \n",
        "FN = confusion_matrix.sum(axis=1) - np.diag(confusion_matrix)\n",
        "TP = np.diag(confusion_matrix)\n",
        "TN = confusion_matrix.sum() - (FP + FN + TP)\n",
        "\n",
        "# Sensitivity, hit rate, recall, or true positive rate\n",
        "TPR = TP/(TP+FN)\n",
        "# Specificity or true negative rate\n",
        "TNR = TN/(TN+FP) \n",
        "# Overall accuracy\n",
        "ACC = (TP+TN)/(TP+FP+FN+TN)\n",
        "\n",
        "print(TP)\n",
        "print(TN)\n",
        "print(FP)\n",
        "print(FN)\n",
        "print('--------')\n",
        "print(ACC)\n",
        "print(TPR)\n",
        "print(TNR)\n",
        "print('--------')\n",
        "\n",
        "TP = sum(TP)\n",
        "TN = sum(TN)\n",
        "FP = sum(FP)\n",
        "FN = sum(FN)\n",
        "\n",
        "# Sensitivity, hit rate, recall, or true positive rate\n",
        "TPR = TP/(TP+FN)\n",
        "# Specificity or true negative rate\n",
        "TNR = TN/(TN+FP) \n",
        "# Overall accuracy\n",
        "ACC = (TP+TN)/(TP+FP+FN+TN)\n",
        "\n",
        "print(TP)\n",
        "print(TN)\n",
        "print(FP)\n",
        "print(FN)\n",
        "print('--------')\n",
        "print(ACC)\n",
        "print(TPR)\n",
        "print(TNR)"
      ],
      "metadata": {
        "colab": {
          "base_uri": "https://localhost:8080/",
          "height": 591
        },
        "id": "xufCN02P5v4A",
        "outputId": "d24a971d-5b30-402f-becc-3b6497329b26"
      },
      "execution_count": 15,
      "outputs": [
        {
          "output_type": "display_data",
          "data": {
            "text/plain": [
              "<Figure size 432x288 with 2 Axes>"
            ],
            "image/png": "[encoded data removed]"
          },
          "metadata": {
            "needs_background": "light"
          }
        },
        {
          "output_type": "stream",
          "name": "stdout",
          "text": [
            "--------\n",
            "[ 0  6 16 41]\n",
            "[87 87 68 41]\n",
            "[11  7 10 19]\n",
            "[12 10 16  9]\n",
            "--------\n",
            "[0.79090909 0.84545455 0.76363636 0.74545455]\n",
            "[0.    0.375 0.5   0.82 ]\n",
            "[0.8877551  0.92553191 0.87179487 0.68333333]\n",
            "--------\n",
            "63\n",
            "283\n",
            "47\n",
            "47\n",
            "--------\n",
            "0.7863636363636364\n",
            "0.5727272727272728\n",
            "0.8575757575757575\n"
          ]
        }
      ]
    },
    {
      "cell_type": "markdown",
      "metadata": {
        "id": "bTgk1-sdzmgy"
      },
      "source": [
        "**Validating** Network"
      ]
    },
    {
      "cell_type": "code",
      "source": [
        "\n"
      ],
      "metadata": {
        "id": "d_NBE4KkWuhu"
      },
      "execution_count": 15,
      "outputs": []
    },
    {
      "cell_type": "markdown",
      "source": [
        "**Testing** Network"
      ],
      "metadata": {
        "id": "saJYjKqX9tRL"
      }
    },
    {
      "cell_type": "code",
      "source": [
        "\n"
      ],
      "metadata": {
        "id": "A7DR52hmTc75"
      },
      "execution_count": 15,
      "outputs": []
    },
    {
      "cell_type": "code",
      "source": [
        "test_img = cv2.imread('/content/Datasets/fold2/Test/apel_sehat/apel_sehat (1).jpg')\n",
        "\n",
        "plt.imshow(test_img)\n",
        "test_img = test_img / 255\n",
        "test_img = np.expand_dims(test_img, axis=0)\n",
        "pr=model.predict(test_img)\n",
        "\n",
        "print(pr)\n",
        "output = label_binarizer.inverse_transform(pr)\n",
        "print(output)"
      ],
      "metadata": {
        "colab": {
          "base_uri": "https://localhost:8080/",
          "height": 303
        },
        "id": "zkMI6CwJArvo",
        "outputId": "a9378f56-aa2c-4a1d-dcd6-c209d57edde6"
      },
      "execution_count": 16,
      "outputs": [
        {
          "output_type": "stream",
          "name": "stdout",
          "text": [
            "[[4.4883262e-02 4.4495937e-05 4.2716912e-03 9.5080054e-01]]\n",
            "['apel_sehat']\n"
          ]
        },
        {
          "output_type": "display_data",
          "data": {
            "text/plain": [
              "<Figure size 432x288 with 1 Axes>"
            ],
            "image/png": "[encoded data removed]"
          },
          "metadata": {
            "needs_background": "light"
          }
        }
      ]
    },
    {
      "cell_type": "code",
      "source": [
        "# save the model to disk\n",
        "#print(\"[INFO] Saving model...\")\n",
        "#pickle.dump(model,open('cnn_model.pkl', 'wb'))\n",
        "#model.save('/content/fold1.h5')"
      ],
      "metadata": {
        "id": "Wr_b8qBuCAIS"
      },
      "execution_count": 17,
      "outputs": []
    }
  ]
}