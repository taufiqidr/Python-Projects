{
  "nbformat": 4,
  "nbformat_minor": 0,
  "metadata": {
    "accelerator": "GPU",
    "colab": {
      "name": "Kodingan Skripsi 3",
      "provenance": [],
      "collapsed_sections": [],
      "include_colab_link": true
    },
    "kernelspec": {
      "display_name": "Python 3",
      "language": "python",
      "name": "python3"
    },
    "language_info": {
      "codemirror_mode": {
        "name": "ipython",
        "version": 3
      },
      "file_extension": ".py",
      "mimetype": "text/x-python",
      "name": "python",
      "nbconvert_exporter": "python",
      "pygments_lexer": "ipython3",
      "version": "3.6.6"
    }
  },
  "cells": [
    {
      "cell_type": "markdown",
      "metadata": {
        "id": "view-in-github",
        "colab_type": "text"
      },
      "source": [
        "<a href=\"https://colab.research.google.com/github/TaufiqIdrus/Python-Projects/blob/master/50_fold3.ipynb\" target=\"_parent\"><img src=\"https://colab.research.google.com/assets/colab-badge.svg\" alt=\"Open In Colab\"/></a>"
      ]
    },
    {
      "cell_type": "markdown",
      "metadata": {
        "id": "yJT_kQA2lITS"
      },
      "source": [
        "**Identifikasi Penyakit Pada Tanaman Apel menggunakan Convolutional Neural Network**"
      ]
    },
    {
      "cell_type": "code",
      "metadata": {
        "id": "xXeOaYTUzmgT"
      },
      "source": [
        "import numpy as np\n",
        "import pickle\n",
        "import os\n",
        "import cv2\n",
        "import tensorflow as tf\n",
        "import keras\n",
        "from os import listdir\n",
        "from sklearn.preprocessing import LabelBinarizer\n",
        "from keras.models import Sequential\n",
        "from keras.layers.convolutional import Conv2D\n",
        "from keras.layers.convolutional import MaxPooling2D\n",
        "from keras.layers.core import Activation, Flatten, Dropout, Dense\n",
        "from keras import backend as K\n",
        "from tensorflow.keras.optimizers import Adam\n",
        "from keras.preprocessing import image\n",
        "import matplotlib.pyplot as plt\n",
        "from sklearn.datasets import make_classification\n",
        "from numpy import mean\n"
      ],
      "execution_count": 1,
      "outputs": []
    },
    {
      "cell_type": "markdown",
      "metadata": {
        "id": "fp8C0d28lQok"
      },
      "source": [
        "Importing and Preparing Dataset"
      ]
    },
    {
      "cell_type": "code",
      "metadata": {
        "id": "_0xehllADlUs",
        "colab": {
          "base_uri": "https://localhost:8080/"
        },
        "outputId": "835ee11d-b553-4df1-eb09-7a6dfc5d4b8d"
      },
      "source": [
        "!pip install pyunpack\n",
        "!pip install patool\n",
        "from pyunpack import Archive\n",
        "Archive('/content/fold3.rar').extractall('/content/Datasets/')\n",
        "iterasi = 3\n",
        "width=60\n",
        "height=60\n",
        "default_image_size = tuple((height, width))\n",
        "directory_root_train = '/content/Datasets/fold3/Train'\n",
        "directory_root_validation = '/content/Datasets/fold3/Validation'\n",
        "directory_root_test = '/content/Datasets/fold3/Test'\n",
        "image_size = 0\n",
        "depth=3"
      ],
      "execution_count": 2,
      "outputs": [
        {
          "output_type": "stream",
          "name": "stdout",
          "text": [
            "Looking in indexes: https://pypi.org/simple, https://us-python.pkg.dev/colab-wheels/public/simple/\n",
            "Collecting pyunpack\n",
            "  Downloading pyunpack-0.3-py2.py3-none-any.whl (4.1 kB)\n",
            "Collecting entrypoint2\n",
            "  Downloading entrypoint2-1.1-py2.py3-none-any.whl (9.9 kB)\n",
            "Collecting easyprocess\n",
            "  Downloading EasyProcess-1.1-py3-none-any.whl (8.7 kB)\n",
            "Installing collected packages: entrypoint2, easyprocess, pyunpack\n",
            "Successfully installed easyprocess-1.1 entrypoint2-1.1 pyunpack-0.3\n",
            "Looking in indexes: https://pypi.org/simple, https://us-python.pkg.dev/colab-wheels/public/simple/\n",
            "Collecting patool\n",
            "  Downloading patool-1.12-py2.py3-none-any.whl (77 kB)\n",
            "\u001b[K     |████████████████████████████████| 77 kB 6.3 MB/s \n",
            "\u001b[?25hInstalling collected packages: patool\n",
            "Successfully installed patool-1.12\n"
          ]
        }
      ]
    },
    {
      "cell_type": "code",
      "metadata": {
        "id": "KbAwJJTpzmge"
      },
      "source": [
        "def convert_image_to_array(image_dir):\n",
        "    try:\n",
        "        image = cv2.imread(image_dir)\n",
        "        if image is not None :\n",
        "            image = cv2.resize(image, default_image_size)   \n",
        "            return keras.preprocessing.image.img_to_array(image)\n",
        "        else :\n",
        "            return np.array([])\n",
        "    except Exception as e:\n",
        "        print(f\"Error : {e}\")\n",
        "        return None"
      ],
      "execution_count": 3,
      "outputs": []
    },
    {
      "cell_type": "markdown",
      "source": [
        "Converting **Training** Data to Array"
      ],
      "metadata": {
        "id": "bgXxUMO2cI_D"
      }
    },
    {
      "cell_type": "code",
      "metadata": {
        "id": "Erz6IjKXzmgg",
        "colab": {
          "base_uri": "https://localhost:8080/"
        },
        "outputId": "6bf3ec54-6588-4dbd-865a-4df96bee1dbf"
      },
      "source": [
        "image_list_train, label_list_train = [], []\n",
        "try:\n",
        "    print(\"[INFO] Loading images ...\")\n",
        "    root_dir = listdir(directory_root_train)\n",
        "\n",
        "    for plant_disease_folder in root_dir:\n",
        "        print(f\"[INFO] Processing {plant_disease_folder} ...\")\n",
        "        plant_disease_image_list = listdir(f\"{directory_root_train}/{plant_disease_folder}/\")\n",
        "      \n",
        "        for image in plant_disease_image_list:\n",
        "            image_directory = f\"{directory_root_train}/{plant_disease_folder}/{image}\"\n",
        "\n",
        "            if image_directory.endswith(\".jpg\") == True or image_directory.endswith(\".JPG\") == True:\n",
        "                image_list_train.append(convert_image_to_array(image_directory))\n",
        "                label_list_train.append(plant_disease_folder)\n",
        "    print(\"[INFO] Image loading completed\")\n",
        "\n",
        "except Exception as e:\n",
        "    print(f\"Error : {e}\")\n",
        "\n",
        "#image labeling\n",
        "image_size = len(image_list_train)\n",
        "label_binarizer = LabelBinarizer()\n",
        "image_labels_train = label_binarizer.fit_transform(label_list_train)\n",
        "pickle.dump(label_binarizer,open('label_transform_train.pkl', 'wb'))\n",
        "n_classes = len(label_binarizer.classes_)\n",
        "np_image_list_train = np.array(image_list_train, dtype=np.float16) / 255.0"
      ],
      "execution_count": 4,
      "outputs": [
        {
          "output_type": "stream",
          "name": "stdout",
          "text": [
            "[INFO] Loading images ...\n",
            "[INFO] Processing apel_sehat ...\n",
            "[INFO] Processing apel_bercak_daun ...\n",
            "[INFO] Processing apel_cacar_daun ...\n",
            "[INFO] Processing apel_busuk_buah ...\n",
            "[INFO] Image loading completed\n"
          ]
        }
      ]
    },
    {
      "cell_type": "markdown",
      "source": [
        "Converting **Validation** Data to Array"
      ],
      "metadata": {
        "id": "7eEMGiqRd_E4"
      }
    },
    {
      "cell_type": "code",
      "source": [
        "image_list_validation, label_list_validation = [], []\n",
        "try:\n",
        "    print(\"[INFO] Loading images ...\")\n",
        "    root_dir = listdir(directory_root_validation)\n",
        "\n",
        "    for plant_disease_folder in root_dir:\n",
        "        print(f\"[INFO] Processing {plant_disease_folder} ...\")\n",
        "        plant_disease_image_list = listdir(f\"{directory_root_validation}/{plant_disease_folder}/\")\n",
        "      \n",
        "        for image in plant_disease_image_list:\n",
        "            image_directory = f\"{directory_root_validation}/{plant_disease_folder}/{image}\"\n",
        "\n",
        "            if image_directory.endswith(\".jpg\") == True or image_directory.endswith(\".JPG\") == True:\n",
        "                image_list_validation.append(convert_image_to_array(image_directory))\n",
        "                label_list_validation.append(plant_disease_folder)\n",
        "    print(\"[INFO] Image loading completed\")\n",
        "\n",
        "except Exception as e:\n",
        "    print(f\"Error : {e}\")\n",
        "\n",
        "#image labeling\n",
        "image_size = len(image_list_validation)\n",
        "label_binarizer = LabelBinarizer()\n",
        "image_labels_validation = label_binarizer.fit_transform(label_list_validation)\n",
        "pickle.dump(label_binarizer,open('label_transform_validation.pkl', 'wb'))\n",
        "n_classes = len(label_binarizer.classes_)\n",
        "np_image_list_validation = np.array(image_list_validation, dtype=np.float16) / 255.0"
      ],
      "metadata": {
        "id": "wfHDdR0ZeEuU",
        "colab": {
          "base_uri": "https://localhost:8080/"
        },
        "outputId": "47d8fb34-4fa0-4ee3-c58a-86c0b3f0ea93"
      },
      "execution_count": 5,
      "outputs": [
        {
          "output_type": "stream",
          "name": "stdout",
          "text": [
            "[INFO] Loading images ...\n",
            "[INFO] Processing apel_sehat ...\n",
            "[INFO] Processing apel_bercak_daun ...\n",
            "[INFO] Processing apel_cacar_daun ...\n",
            "[INFO] Processing apel_busuk_buah ...\n",
            "[INFO] Image loading completed\n"
          ]
        }
      ]
    },
    {
      "cell_type": "markdown",
      "source": [
        "Converting **Testing** Data to Array"
      ],
      "metadata": {
        "id": "brwWyZVncTdg"
      }
    },
    {
      "cell_type": "code",
      "metadata": {
        "id": "uNPby5UMcaWY",
        "colab": {
          "base_uri": "https://localhost:8080/"
        },
        "outputId": "a62b5f5d-4611-4773-d206-fc265a17af19"
      },
      "source": [
        "image_list_test, label_list_test = [], []\n",
        "try:\n",
        "    print(\"[INFO] Loading images ...\")\n",
        "    root_dir = listdir(directory_root_test)\n",
        "\n",
        "    for plant_disease_folder in root_dir:\n",
        "        print(f\"[INFO] Processing {plant_disease_folder} ...\")\n",
        "        plant_disease_image_list = listdir(f\"{directory_root_test}/{plant_disease_folder}/\")\n",
        "      \n",
        "        for image in plant_disease_image_list:\n",
        "            image_directory = f\"{directory_root_test}/{plant_disease_folder}/{image}\"\n",
        "\n",
        "            if image_directory.endswith(\".jpg\") == True or image_directory.endswith(\".JPG\") == True:\n",
        "                image_list_test.append(convert_image_to_array(image_directory))\n",
        "                label_list_test.append(plant_disease_folder)\n",
        "    print(\"[INFO] Image loading completed\")\n",
        "\n",
        "except Exception as e:\n",
        "    print(f\"Error : {e}\")\n",
        "\n",
        "#image labeling\n",
        "image_size = len(image_list_test)\n",
        "label_binarizer = LabelBinarizer()\n",
        "image_labels_test = label_binarizer.fit_transform(label_list_test)\n",
        "pickle.dump(label_binarizer,open('label_transform_test.pkl', 'wb'))\n",
        "n_classes = len(label_binarizer.classes_)\n",
        "np_image_list_test = np.array(image_list_test, dtype=np.float16) / 255.0"
      ],
      "execution_count": 6,
      "outputs": [
        {
          "output_type": "stream",
          "name": "stdout",
          "text": [
            "[INFO] Loading images ...\n",
            "[INFO] Processing apel_sehat ...\n",
            "[INFO] Processing apel_bercak_daun ...\n",
            "[INFO] Processing apel_cacar_daun ...\n",
            "[INFO] Processing apel_busuk_buah ...\n",
            "[INFO] Image loading completed\n"
          ]
        }
      ]
    },
    {
      "cell_type": "markdown",
      "metadata": {
        "id": "jYBTFN0CnAi7"
      },
      "source": [
        "Data Augmenting Initialization"
      ]
    },
    {
      "cell_type": "code",
      "metadata": {
        "id": "TLMxMK2Tzmgr"
      },
      "source": [
        "aug = keras.preprocessing.image.ImageDataGenerator(\n",
        "    rotation_range=25, \n",
        "    width_shift_range=0.1,\n",
        "    height_shift_range=0.1, \n",
        "    shear_range=0.2, \n",
        "    zoom_range=0.2,\n",
        "    horizontal_flip=True, \n",
        "    fill_mode=\"nearest\")"
      ],
      "execution_count": 7,
      "outputs": []
    },
    {
      "cell_type": "markdown",
      "metadata": {
        "id": "H1BfRyYNnGv_"
      },
      "source": [
        "Creating CNN Model"
      ]
    },
    {
      "cell_type": "code",
      "metadata": {
        "id": "WmLX4wm8zmgs"
      },
      "source": [
        "model = keras.models.Sequential()\n",
        "inputShape = (height, width, depth)\n",
        "\n",
        "model.add(Conv2D(20, (5, 5), padding=\"same\",input_shape=inputShape))\n",
        "model.add(Activation(\"relu\"))\n",
        "\n",
        "model.add(MaxPooling2D(pool_size=(2, 2), strides=2))\n",
        "\n",
        "model.add(Conv2D(50, (5, 5), padding=\"same\"))\n",
        "model.add(Activation(\"relu\"))\n",
        "\n",
        "model.add(MaxPooling2D(pool_size=(2, 2),strides=2))\n",
        "\n",
        "model.add(Flatten())\n",
        "\n",
        "model.add(Dense(500))\n",
        "model.add(Activation(\"relu\"))\n",
        "\n",
        "model.add(Dense(4))\n",
        "model.add(Activation(\"softmax\"))"
      ],
      "execution_count": 8,
      "outputs": []
    },
    {
      "cell_type": "code",
      "source": [
        "#model.summary()"
      ],
      "metadata": {
        "id": "RQIgaph8hW06"
      },
      "execution_count": 9,
      "outputs": []
    },
    {
      "cell_type": "code",
      "source": [
        "#from PIL import Image\n",
        "#from keras.utils.vis_utils import plot_model\n",
        "#plot_model(model, to_file='cnn_model.png', show_shapes=True, show_layer_names=True)\n",
        "#display(Image.open('cnn_model.png'))"
      ],
      "metadata": {
        "id": "T05gPuu1GudW"
      },
      "execution_count": 10,
      "outputs": []
    },
    {
      "cell_type": "markdown",
      "metadata": {
        "id": "Zfsu3lVfnXFG"
      },
      "source": [
        "**Training** Network"
      ]
    },
    {
      "cell_type": "code",
      "metadata": {
        "id": "rvwKwe3Lzmgv",
        "colab": {
          "base_uri": "https://localhost:8080/"
        },
        "outputId": "a9c5077f-7b32-4da3-edd7-04e92e5c8340"
      },
      "source": [
        "EPOCHS = 200\n",
        "INIT_LR = 1e-3\n",
        "BS = 8\n",
        "\n",
        "with tf.device('/GPU:0'):\n",
        "  opt = Adam(learning_rate=INIT_LR, decay=INIT_LR / EPOCHS)\n",
        "  model.compile(loss=\"categorical_crossentropy\", optimizer=opt,metrics=[\"Accuracy\", \"FalseNegatives\", \"FalsePositives\", \"TrueNegatives\", \"TruePositives\"])\n",
        "  \n",
        "  history = model.fit(\n",
        "      aug.flow(np_image_list_train, image_labels_train, batch_size=BS),\n",
        "      validation_data=(np_image_list_validation, image_labels_validation),\n",
        "      steps_per_epoch=len(np_image_list_train) // BS,\n",
        "      epochs=EPOCHS, \n",
        "      verbose=1,\n",
        "      )\n"
      ],
      "execution_count": 11,
      "outputs": [
        {
          "output_type": "stream",
          "name": "stdout",
          "text": [
            "Epoch 1/200\n",
            "44/44 [==============================] - 17s 67ms/step - loss: 1.5167 - Accuracy: 0.4167 - false_negatives: 318.0000 - false_positives: 44.0000 - true_negatives: 1000.0000 - true_positives: 30.0000 - val_loss: 1.2733 - val_Accuracy: 0.2955 - val_false_negatives: 88.0000 - val_false_positives: 0.0000e+00 - val_true_negatives: 264.0000 - val_true_positives: 0.0000e+00\n",
            "Epoch 2/200\n",
            "44/44 [==============================] - 1s 18ms/step - loss: 1.2708 - Accuracy: 0.4224 - false_negatives: 312.0000 - false_positives: 38.0000 - true_negatives: 1006.0000 - true_positives: 36.0000 - val_loss: 1.1840 - val_Accuracy: 0.4545 - val_false_negatives: 84.0000 - val_false_positives: 0.0000e+00 - val_true_negatives: 264.0000 - val_true_positives: 4.0000\n",
            "Epoch 3/200\n",
            "44/44 [==============================] - 1s 14ms/step - loss: 1.2021 - Accuracy: 0.4626 - false_negatives: 286.0000 - false_positives: 37.0000 - true_negatives: 1007.0000 - true_positives: 62.0000 - val_loss: 1.0853 - val_Accuracy: 0.5909 - val_false_negatives: 65.0000 - val_false_positives: 1.0000 - val_true_negatives: 263.0000 - val_true_positives: 23.0000\n",
            "Epoch 4/200\n",
            "44/44 [==============================] - 1s 14ms/step - loss: 1.1920 - Accuracy: 0.5086 - false_negatives: 278.0000 - false_positives: 37.0000 - true_negatives: 1007.0000 - true_positives: 70.0000 - val_loss: 0.9590 - val_Accuracy: 0.5455 - val_false_negatives: 48.0000 - val_false_positives: 11.0000 - val_true_negatives: 253.0000 - val_true_positives: 40.0000\n",
            "Epoch 5/200\n",
            "44/44 [==============================] - 1s 14ms/step - loss: 1.1019 - Accuracy: 0.5575 - false_negatives: 239.0000 - false_positives: 43.0000 - true_negatives: 1001.0000 - true_positives: 109.0000 - val_loss: 0.9412 - val_Accuracy: 0.5682 - val_false_negatives: 48.0000 - val_false_positives: 21.0000 - val_true_negatives: 243.0000 - val_true_positives: 40.0000\n",
            "Epoch 6/200\n",
            "44/44 [==============================] - 1s 14ms/step - loss: 1.0914 - Accuracy: 0.5575 - false_negatives: 237.0000 - false_positives: 49.0000 - true_negatives: 995.0000 - true_positives: 111.0000 - val_loss: 0.8569 - val_Accuracy: 0.7045 - val_false_negatives: 58.0000 - val_false_positives: 6.0000 - val_true_negatives: 258.0000 - val_true_positives: 30.0000\n",
            "Epoch 7/200\n",
            "44/44 [==============================] - 1s 14ms/step - loss: 1.0933 - Accuracy: 0.5833 - false_negatives: 231.0000 - false_positives: 54.0000 - true_negatives: 990.0000 - true_positives: 117.0000 - val_loss: 0.8971 - val_Accuracy: 0.6250 - val_false_negatives: 48.0000 - val_false_positives: 16.0000 - val_true_negatives: 248.0000 - val_true_positives: 40.0000\n",
            "Epoch 8/200\n",
            "44/44 [==============================] - 1s 14ms/step - loss: 1.0744 - Accuracy: 0.5718 - false_negatives: 241.0000 - false_positives: 38.0000 - true_negatives: 1006.0000 - true_positives: 107.0000 - val_loss: 0.8051 - val_Accuracy: 0.6818 - val_false_negatives: 48.0000 - val_false_positives: 10.0000 - val_true_negatives: 254.0000 - val_true_positives: 40.0000\n",
            "Epoch 9/200\n",
            "44/44 [==============================] - 1s 14ms/step - loss: 1.0062 - Accuracy: 0.5948 - false_negatives: 196.0000 - false_positives: 62.0000 - true_negatives: 982.0000 - true_positives: 152.0000 - val_loss: 0.7208 - val_Accuracy: 0.7273 - val_false_negatives: 31.0000 - val_false_positives: 19.0000 - val_true_negatives: 245.0000 - val_true_positives: 57.0000\n",
            "Epoch 10/200\n",
            "44/44 [==============================] - 1s 14ms/step - loss: 1.0534 - Accuracy: 0.5805 - false_negatives: 208.0000 - false_positives: 61.0000 - true_negatives: 983.0000 - true_positives: 140.0000 - val_loss: 0.7861 - val_Accuracy: 0.6818 - val_false_negatives: 50.0000 - val_false_positives: 4.0000 - val_true_negatives: 260.0000 - val_true_positives: 38.0000\n",
            "Epoch 11/200\n",
            "44/44 [==============================] - 1s 14ms/step - loss: 1.0153 - Accuracy: 0.6034 - false_negatives: 197.0000 - false_positives: 63.0000 - true_negatives: 981.0000 - true_positives: 151.0000 - val_loss: 0.7681 - val_Accuracy: 0.7273 - val_false_negatives: 54.0000 - val_false_positives: 5.0000 - val_true_negatives: 259.0000 - val_true_positives: 34.0000\n",
            "Epoch 12/200\n",
            "44/44 [==============================] - 1s 14ms/step - loss: 1.0470 - Accuracy: 0.5632 - false_negatives: 224.0000 - false_positives: 59.0000 - true_negatives: 985.0000 - true_positives: 124.0000 - val_loss: 0.7985 - val_Accuracy: 0.6705 - val_false_negatives: 48.0000 - val_false_positives: 13.0000 - val_true_negatives: 251.0000 - val_true_positives: 40.0000\n",
            "Epoch 13/200\n",
            "44/44 [==============================] - 1s 14ms/step - loss: 0.9972 - Accuracy: 0.5977 - false_negatives: 213.0000 - false_positives: 44.0000 - true_negatives: 1000.0000 - true_positives: 135.0000 - val_loss: 0.6816 - val_Accuracy: 0.7159 - val_false_negatives: 34.0000 - val_false_positives: 16.0000 - val_true_negatives: 248.0000 - val_true_positives: 54.0000\n",
            "Epoch 14/200\n",
            "44/44 [==============================] - 1s 15ms/step - loss: 0.9913 - Accuracy: 0.6207 - false_negatives: 200.0000 - false_positives: 56.0000 - true_negatives: 988.0000 - true_positives: 148.0000 - val_loss: 0.7053 - val_Accuracy: 0.7273 - val_false_negatives: 32.0000 - val_false_positives: 15.0000 - val_true_negatives: 249.0000 - val_true_positives: 56.0000\n",
            "Epoch 15/200\n",
            "44/44 [==============================] - 1s 14ms/step - loss: 0.9718 - Accuracy: 0.6351 - false_negatives: 188.0000 - false_positives: 67.0000 - true_negatives: 977.0000 - true_positives: 160.0000 - val_loss: 0.6443 - val_Accuracy: 0.7159 - val_false_negatives: 29.0000 - val_false_positives: 16.0000 - val_true_negatives: 248.0000 - val_true_positives: 59.0000\n",
            "Epoch 16/200\n",
            "44/44 [==============================] - 1s 14ms/step - loss: 0.9942 - Accuracy: 0.6121 - false_negatives: 203.0000 - false_positives: 63.0000 - true_negatives: 981.0000 - true_positives: 145.0000 - val_loss: 0.7557 - val_Accuracy: 0.6591 - val_false_negatives: 42.0000 - val_false_positives: 12.0000 - val_true_negatives: 252.0000 - val_true_positives: 46.0000\n",
            "Epoch 17/200\n",
            "44/44 [==============================] - 1s 14ms/step - loss: 1.0086 - Accuracy: 0.5977 - false_negatives: 202.0000 - false_positives: 62.0000 - true_negatives: 982.0000 - true_positives: 146.0000 - val_loss: 0.7218 - val_Accuracy: 0.7273 - val_false_negatives: 41.0000 - val_false_positives: 8.0000 - val_true_negatives: 256.0000 - val_true_positives: 47.0000\n",
            "Epoch 18/200\n",
            "44/44 [==============================] - 1s 14ms/step - loss: 0.9480 - Accuracy: 0.6207 - false_negatives: 170.0000 - false_positives: 74.0000 - true_negatives: 970.0000 - true_positives: 178.0000 - val_loss: 0.7618 - val_Accuracy: 0.7500 - val_false_negatives: 45.0000 - val_false_positives: 10.0000 - val_true_negatives: 254.0000 - val_true_positives: 43.0000\n",
            "Epoch 19/200\n",
            "44/44 [==============================] - 1s 14ms/step - loss: 0.9860 - Accuracy: 0.5833 - false_negatives: 204.0000 - false_positives: 65.0000 - true_negatives: 979.0000 - true_positives: 144.0000 - val_loss: 0.7468 - val_Accuracy: 0.7273 - val_false_negatives: 46.0000 - val_false_positives: 8.0000 - val_true_negatives: 256.0000 - val_true_positives: 42.0000\n",
            "Epoch 20/200\n",
            "44/44 [==============================] - 1s 14ms/step - loss: 0.9950 - Accuracy: 0.5862 - false_negatives: 193.0000 - false_positives: 74.0000 - true_negatives: 970.0000 - true_positives: 155.0000 - val_loss: 0.7594 - val_Accuracy: 0.7045 - val_false_negatives: 41.0000 - val_false_positives: 11.0000 - val_true_negatives: 253.0000 - val_true_positives: 47.0000\n",
            "Epoch 21/200\n",
            "44/44 [==============================] - 1s 14ms/step - loss: 0.9682 - Accuracy: 0.6006 - false_negatives: 191.0000 - false_positives: 62.0000 - true_negatives: 982.0000 - true_positives: 157.0000 - val_loss: 0.6949 - val_Accuracy: 0.7273 - val_false_negatives: 28.0000 - val_false_positives: 19.0000 - val_true_negatives: 245.0000 - val_true_positives: 60.0000\n",
            "Epoch 22/200\n",
            "44/44 [==============================] - 1s 14ms/step - loss: 0.9258 - Accuracy: 0.6466 - false_negatives: 165.0000 - false_positives: 77.0000 - true_negatives: 967.0000 - true_positives: 183.0000 - val_loss: 0.6258 - val_Accuracy: 0.7955 - val_false_negatives: 40.0000 - val_false_positives: 4.0000 - val_true_negatives: 260.0000 - val_true_positives: 48.0000\n",
            "Epoch 23/200\n",
            "44/44 [==============================] - 1s 14ms/step - loss: 0.8963 - Accuracy: 0.6408 - false_negatives: 169.0000 - false_positives: 70.0000 - true_negatives: 974.0000 - true_positives: 179.0000 - val_loss: 0.5899 - val_Accuracy: 0.7386 - val_false_negatives: 31.0000 - val_false_positives: 11.0000 - val_true_negatives: 253.0000 - val_true_positives: 57.0000\n",
            "Epoch 24/200\n",
            "44/44 [==============================] - 1s 14ms/step - loss: 0.9362 - Accuracy: 0.6178 - false_negatives: 171.0000 - false_positives: 70.0000 - true_negatives: 974.0000 - true_positives: 177.0000 - val_loss: 0.6416 - val_Accuracy: 0.7500 - val_false_negatives: 33.0000 - val_false_positives: 12.0000 - val_true_negatives: 252.0000 - val_true_positives: 55.0000\n",
            "Epoch 25/200\n",
            "44/44 [==============================] - 1s 14ms/step - loss: 0.9518 - Accuracy: 0.6149 - false_negatives: 175.0000 - false_positives: 81.0000 - true_negatives: 963.0000 - true_positives: 173.0000 - val_loss: 0.6656 - val_Accuracy: 0.7045 - val_false_negatives: 38.0000 - val_false_positives: 10.0000 - val_true_negatives: 254.0000 - val_true_positives: 50.0000\n",
            "Epoch 26/200\n",
            "44/44 [==============================] - 1s 14ms/step - loss: 0.8877 - Accuracy: 0.6523 - false_negatives: 161.0000 - false_positives: 66.0000 - true_negatives: 978.0000 - true_positives: 187.0000 - val_loss: 0.6024 - val_Accuracy: 0.7955 - val_false_negatives: 33.0000 - val_false_positives: 10.0000 - val_true_negatives: 254.0000 - val_true_positives: 55.0000\n",
            "Epoch 27/200\n",
            "44/44 [==============================] - 1s 14ms/step - loss: 0.8454 - Accuracy: 0.6609 - false_negatives: 151.0000 - false_positives: 68.0000 - true_negatives: 976.0000 - true_positives: 197.0000 - val_loss: 0.6744 - val_Accuracy: 0.7273 - val_false_negatives: 30.0000 - val_false_positives: 10.0000 - val_true_negatives: 254.0000 - val_true_positives: 58.0000\n",
            "Epoch 28/200\n",
            "44/44 [==============================] - 1s 14ms/step - loss: 0.9231 - Accuracy: 0.6322 - false_negatives: 160.0000 - false_positives: 81.0000 - true_negatives: 963.0000 - true_positives: 188.0000 - val_loss: 0.6258 - val_Accuracy: 0.7500 - val_false_negatives: 27.0000 - val_false_positives: 13.0000 - val_true_negatives: 251.0000 - val_true_positives: 61.0000\n",
            "Epoch 29/200\n",
            "44/44 [==============================] - 1s 14ms/step - loss: 0.8928 - Accuracy: 0.6408 - false_negatives: 163.0000 - false_positives: 69.0000 - true_negatives: 975.0000 - true_positives: 185.0000 - val_loss: 0.6130 - val_Accuracy: 0.7614 - val_false_negatives: 28.0000 - val_false_positives: 12.0000 - val_true_negatives: 252.0000 - val_true_positives: 60.0000\n",
            "Epoch 30/200\n",
            "44/44 [==============================] - 1s 14ms/step - loss: 0.8478 - Accuracy: 0.6753 - false_negatives: 143.0000 - false_positives: 71.0000 - true_negatives: 973.0000 - true_positives: 205.0000 - val_loss: 0.6553 - val_Accuracy: 0.7500 - val_false_negatives: 27.0000 - val_false_positives: 9.0000 - val_true_negatives: 255.0000 - val_true_positives: 61.0000\n",
            "Epoch 31/200\n",
            "44/44 [==============================] - 1s 14ms/step - loss: 0.8659 - Accuracy: 0.6638 - false_negatives: 155.0000 - false_positives: 77.0000 - true_negatives: 967.0000 - true_positives: 193.0000 - val_loss: 0.4815 - val_Accuracy: 0.8523 - val_false_negatives: 18.0000 - val_false_positives: 10.0000 - val_true_negatives: 254.0000 - val_true_positives: 70.0000\n",
            "Epoch 32/200\n",
            "44/44 [==============================] - 1s 25ms/step - loss: 0.8857 - Accuracy: 0.6580 - false_negatives: 151.0000 - false_positives: 77.0000 - true_negatives: 967.0000 - true_positives: 197.0000 - val_loss: 0.5822 - val_Accuracy: 0.7955 - val_false_negatives: 28.0000 - val_false_positives: 10.0000 - val_true_negatives: 254.0000 - val_true_positives: 60.0000\n",
            "Epoch 33/200\n",
            "44/44 [==============================] - 1s 23ms/step - loss: 0.8729 - Accuracy: 0.6695 - false_negatives: 147.0000 - false_positives: 74.0000 - true_negatives: 970.0000 - true_positives: 201.0000 - val_loss: 0.6288 - val_Accuracy: 0.8068 - val_false_negatives: 33.0000 - val_false_positives: 9.0000 - val_true_negatives: 255.0000 - val_true_positives: 55.0000\n",
            "Epoch 34/200\n",
            "44/44 [==============================] - 1s 14ms/step - loss: 0.8704 - Accuracy: 0.6839 - false_negatives: 152.0000 - false_positives: 80.0000 - true_negatives: 964.0000 - true_positives: 196.0000 - val_loss: 0.6706 - val_Accuracy: 0.7500 - val_false_negatives: 26.0000 - val_false_positives: 10.0000 - val_true_negatives: 254.0000 - val_true_positives: 62.0000\n",
            "Epoch 35/200\n",
            "44/44 [==============================] - 1s 14ms/step - loss: 0.8851 - Accuracy: 0.6351 - false_negatives: 157.0000 - false_positives: 68.0000 - true_negatives: 976.0000 - true_positives: 191.0000 - val_loss: 0.4766 - val_Accuracy: 0.8523 - val_false_negatives: 19.0000 - val_false_positives: 9.0000 - val_true_negatives: 255.0000 - val_true_positives: 69.0000\n",
            "Epoch 36/200\n",
            "44/44 [==============================] - 1s 14ms/step - loss: 0.8298 - Accuracy: 0.6983 - false_negatives: 129.0000 - false_positives: 72.0000 - true_negatives: 972.0000 - true_positives: 219.0000 - val_loss: 0.6579 - val_Accuracy: 0.7273 - val_false_negatives: 27.0000 - val_false_positives: 14.0000 - val_true_negatives: 250.0000 - val_true_positives: 61.0000\n",
            "Epoch 37/200\n",
            "44/44 [==============================] - 1s 14ms/step - loss: 0.8394 - Accuracy: 0.6925 - false_negatives: 141.0000 - false_positives: 76.0000 - true_negatives: 968.0000 - true_positives: 207.0000 - val_loss: 0.5905 - val_Accuracy: 0.8182 - val_false_negatives: 23.0000 - val_false_positives: 11.0000 - val_true_negatives: 253.0000 - val_true_positives: 65.0000\n",
            "Epoch 38/200\n",
            "44/44 [==============================] - 1s 14ms/step - loss: 0.7944 - Accuracy: 0.7069 - false_negatives: 126.0000 - false_positives: 74.0000 - true_negatives: 970.0000 - true_positives: 222.0000 - val_loss: 0.5382 - val_Accuracy: 0.8182 - val_false_negatives: 20.0000 - val_false_positives: 8.0000 - val_true_negatives: 256.0000 - val_true_positives: 68.0000\n",
            "Epoch 39/200\n",
            "44/44 [==============================] - 1s 14ms/step - loss: 0.8629 - Accuracy: 0.6552 - false_negatives: 145.0000 - false_positives: 85.0000 - true_negatives: 959.0000 - true_positives: 203.0000 - val_loss: 0.6976 - val_Accuracy: 0.7955 - val_false_negatives: 28.0000 - val_false_positives: 6.0000 - val_true_negatives: 258.0000 - val_true_positives: 60.0000\n",
            "Epoch 40/200\n",
            "44/44 [==============================] - 1s 14ms/step - loss: 0.8248 - Accuracy: 0.6667 - false_negatives: 140.0000 - false_positives: 69.0000 - true_negatives: 975.0000 - true_positives: 208.0000 - val_loss: 0.6422 - val_Accuracy: 0.7273 - val_false_negatives: 25.0000 - val_false_positives: 15.0000 - val_true_negatives: 249.0000 - val_true_positives: 63.0000\n",
            "Epoch 41/200\n",
            "44/44 [==============================] - 1s 14ms/step - loss: 0.8281 - Accuracy: 0.6753 - false_negatives: 139.0000 - false_positives: 78.0000 - true_negatives: 966.0000 - true_positives: 209.0000 - val_loss: 0.6859 - val_Accuracy: 0.7273 - val_false_negatives: 28.0000 - val_false_positives: 17.0000 - val_true_negatives: 247.0000 - val_true_positives: 60.0000\n",
            "Epoch 42/200\n",
            "44/44 [==============================] - 1s 14ms/step - loss: 0.8007 - Accuracy: 0.7126 - false_negatives: 122.0000 - false_positives: 72.0000 - true_negatives: 972.0000 - true_positives: 226.0000 - val_loss: 0.5262 - val_Accuracy: 0.8182 - val_false_negatives: 21.0000 - val_false_positives: 8.0000 - val_true_negatives: 256.0000 - val_true_positives: 67.0000\n",
            "Epoch 43/200\n",
            "44/44 [==============================] - 1s 14ms/step - loss: 0.7734 - Accuracy: 0.7069 - false_negatives: 125.0000 - false_positives: 67.0000 - true_negatives: 977.0000 - true_positives: 223.0000 - val_loss: 0.6607 - val_Accuracy: 0.7614 - val_false_negatives: 25.0000 - val_false_positives: 14.0000 - val_true_negatives: 250.0000 - val_true_positives: 63.0000\n",
            "Epoch 44/200\n",
            "44/44 [==============================] - 1s 14ms/step - loss: 0.7950 - Accuracy: 0.6868 - false_negatives: 131.0000 - false_positives: 73.0000 - true_negatives: 971.0000 - true_positives: 217.0000 - val_loss: 0.4787 - val_Accuracy: 0.8182 - val_false_negatives: 20.0000 - val_false_positives: 12.0000 - val_true_negatives: 252.0000 - val_true_positives: 68.0000\n",
            "Epoch 45/200\n",
            "44/44 [==============================] - 1s 14ms/step - loss: 0.8552 - Accuracy: 0.6868 - false_negatives: 145.0000 - false_positives: 74.0000 - true_negatives: 970.0000 - true_positives: 203.0000 - val_loss: 0.5723 - val_Accuracy: 0.7955 - val_false_negatives: 26.0000 - val_false_positives: 9.0000 - val_true_negatives: 255.0000 - val_true_positives: 62.0000\n",
            "Epoch 46/200\n",
            "44/44 [==============================] - 1s 14ms/step - loss: 0.7643 - Accuracy: 0.7155 - false_negatives: 126.0000 - false_positives: 63.0000 - true_negatives: 981.0000 - true_positives: 222.0000 - val_loss: 0.4955 - val_Accuracy: 0.8182 - val_false_negatives: 18.0000 - val_false_positives: 9.0000 - val_true_negatives: 255.0000 - val_true_positives: 70.0000\n",
            "Epoch 47/200\n",
            "44/44 [==============================] - 1s 14ms/step - loss: 0.8090 - Accuracy: 0.6782 - false_negatives: 135.0000 - false_positives: 72.0000 - true_negatives: 972.0000 - true_positives: 213.0000 - val_loss: 0.5957 - val_Accuracy: 0.7273 - val_false_negatives: 27.0000 - val_false_positives: 17.0000 - val_true_negatives: 247.0000 - val_true_positives: 61.0000\n",
            "Epoch 48/200\n",
            "44/44 [==============================] - 1s 14ms/step - loss: 0.7827 - Accuracy: 0.6839 - false_negatives: 136.0000 - false_positives: 72.0000 - true_negatives: 972.0000 - true_positives: 212.0000 - val_loss: 0.5034 - val_Accuracy: 0.8409 - val_false_negatives: 19.0000 - val_false_positives: 7.0000 - val_true_negatives: 257.0000 - val_true_positives: 69.0000\n",
            "Epoch 49/200\n",
            "44/44 [==============================] - 1s 14ms/step - loss: 0.7602 - Accuracy: 0.7155 - false_negatives: 132.0000 - false_positives: 66.0000 - true_negatives: 978.0000 - true_positives: 216.0000 - val_loss: 0.4818 - val_Accuracy: 0.8295 - val_false_negatives: 18.0000 - val_false_positives: 9.0000 - val_true_negatives: 255.0000 - val_true_positives: 70.0000\n",
            "Epoch 50/200\n",
            "44/44 [==============================] - 1s 14ms/step - loss: 0.7722 - Accuracy: 0.7011 - false_negatives: 127.0000 - false_positives: 71.0000 - true_negatives: 973.0000 - true_positives: 221.0000 - val_loss: 0.4605 - val_Accuracy: 0.8409 - val_false_negatives: 16.0000 - val_false_positives: 6.0000 - val_true_negatives: 258.0000 - val_true_positives: 72.0000\n",
            "Epoch 51/200\n",
            "44/44 [==============================] - 1s 14ms/step - loss: 0.7483 - Accuracy: 0.7069 - false_negatives: 129.0000 - false_positives: 68.0000 - true_negatives: 976.0000 - true_positives: 219.0000 - val_loss: 0.6291 - val_Accuracy: 0.7841 - val_false_negatives: 24.0000 - val_false_positives: 12.0000 - val_true_negatives: 252.0000 - val_true_positives: 64.0000\n",
            "Epoch 52/200\n",
            "44/44 [==============================] - 1s 14ms/step - loss: 0.7651 - Accuracy: 0.7241 - false_negatives: 120.0000 - false_positives: 64.0000 - true_negatives: 980.0000 - true_positives: 228.0000 - val_loss: 0.4388 - val_Accuracy: 0.8182 - val_false_negatives: 18.0000 - val_false_positives: 13.0000 - val_true_negatives: 251.0000 - val_true_positives: 70.0000\n",
            "Epoch 53/200\n",
            "44/44 [==============================] - 1s 14ms/step - loss: 0.7518 - Accuracy: 0.7241 - false_negatives: 127.0000 - false_positives: 65.0000 - true_negatives: 979.0000 - true_positives: 221.0000 - val_loss: 0.5735 - val_Accuracy: 0.7614 - val_false_negatives: 25.0000 - val_false_positives: 11.0000 - val_true_negatives: 253.0000 - val_true_positives: 63.0000\n",
            "Epoch 54/200\n",
            "44/44 [==============================] - 1s 14ms/step - loss: 0.7977 - Accuracy: 0.6983 - false_negatives: 123.0000 - false_positives: 73.0000 - true_negatives: 971.0000 - true_positives: 225.0000 - val_loss: 0.4925 - val_Accuracy: 0.8523 - val_false_negatives: 18.0000 - val_false_positives: 10.0000 - val_true_negatives: 254.0000 - val_true_positives: 70.0000\n",
            "Epoch 55/200\n",
            "44/44 [==============================] - 1s 14ms/step - loss: 0.7076 - Accuracy: 0.7270 - false_negatives: 115.0000 - false_positives: 60.0000 - true_negatives: 984.0000 - true_positives: 233.0000 - val_loss: 0.5390 - val_Accuracy: 0.7727 - val_false_negatives: 22.0000 - val_false_positives: 11.0000 - val_true_negatives: 253.0000 - val_true_positives: 66.0000\n",
            "Epoch 56/200\n",
            "44/44 [==============================] - 1s 14ms/step - loss: 0.7170 - Accuracy: 0.7299 - false_negatives: 122.0000 - false_positives: 62.0000 - true_negatives: 982.0000 - true_positives: 226.0000 - val_loss: 0.4531 - val_Accuracy: 0.8295 - val_false_negatives: 18.0000 - val_false_positives: 7.0000 - val_true_negatives: 257.0000 - val_true_positives: 70.0000\n",
            "Epoch 57/200\n",
            "44/44 [==============================] - 1s 14ms/step - loss: 0.7728 - Accuracy: 0.6954 - false_negatives: 134.0000 - false_positives: 71.0000 - true_negatives: 973.0000 - true_positives: 214.0000 - val_loss: 0.4604 - val_Accuracy: 0.8409 - val_false_negatives: 19.0000 - val_false_positives: 8.0000 - val_true_negatives: 256.0000 - val_true_positives: 69.0000\n",
            "Epoch 58/200\n",
            "44/44 [==============================] - 1s 14ms/step - loss: 0.7318 - Accuracy: 0.7328 - false_negatives: 118.0000 - false_positives: 67.0000 - true_negatives: 977.0000 - true_positives: 230.0000 - val_loss: 0.4807 - val_Accuracy: 0.8636 - val_false_negatives: 16.0000 - val_false_positives: 8.0000 - val_true_negatives: 256.0000 - val_true_positives: 72.0000\n",
            "Epoch 59/200\n",
            "44/44 [==============================] - 1s 14ms/step - loss: 0.7774 - Accuracy: 0.7098 - false_negatives: 124.0000 - false_positives: 70.0000 - true_negatives: 974.0000 - true_positives: 224.0000 - val_loss: 0.4111 - val_Accuracy: 0.8409 - val_false_negatives: 18.0000 - val_false_positives: 12.0000 - val_true_negatives: 252.0000 - val_true_positives: 70.0000\n",
            "Epoch 60/200\n",
            "44/44 [==============================] - 1s 15ms/step - loss: 0.7767 - Accuracy: 0.7241 - false_negatives: 128.0000 - false_positives: 71.0000 - true_negatives: 973.0000 - true_positives: 220.0000 - val_loss: 0.5863 - val_Accuracy: 0.7614 - val_false_negatives: 25.0000 - val_false_positives: 13.0000 - val_true_negatives: 251.0000 - val_true_positives: 63.0000\n",
            "Epoch 61/200\n",
            "44/44 [==============================] - 1s 14ms/step - loss: 0.7447 - Accuracy: 0.7270 - false_negatives: 131.0000 - false_positives: 69.0000 - true_negatives: 975.0000 - true_positives: 217.0000 - val_loss: 0.4419 - val_Accuracy: 0.8409 - val_false_negatives: 16.0000 - val_false_positives: 12.0000 - val_true_negatives: 252.0000 - val_true_positives: 72.0000\n",
            "Epoch 62/200\n",
            "44/44 [==============================] - 1s 14ms/step - loss: 0.7575 - Accuracy: 0.6897 - false_negatives: 129.0000 - false_positives: 71.0000 - true_negatives: 973.0000 - true_positives: 219.0000 - val_loss: 0.4125 - val_Accuracy: 0.8523 - val_false_negatives: 15.0000 - val_false_positives: 8.0000 - val_true_negatives: 256.0000 - val_true_positives: 73.0000\n",
            "Epoch 63/200\n",
            "44/44 [==============================] - 1s 15ms/step - loss: 0.7635 - Accuracy: 0.7155 - false_negatives: 129.0000 - false_positives: 69.0000 - true_negatives: 975.0000 - true_positives: 219.0000 - val_loss: 0.6317 - val_Accuracy: 0.7500 - val_false_negatives: 25.0000 - val_false_positives: 10.0000 - val_true_negatives: 254.0000 - val_true_positives: 63.0000\n",
            "Epoch 64/200\n",
            "44/44 [==============================] - 1s 15ms/step - loss: 0.7688 - Accuracy: 0.6983 - false_negatives: 127.0000 - false_positives: 71.0000 - true_negatives: 973.0000 - true_positives: 221.0000 - val_loss: 0.4585 - val_Accuracy: 0.8409 - val_false_negatives: 17.0000 - val_false_positives: 7.0000 - val_true_negatives: 257.0000 - val_true_positives: 71.0000\n",
            "Epoch 65/200\n",
            "44/44 [==============================] - 1s 14ms/step - loss: 0.7199 - Accuracy: 0.7270 - false_negatives: 115.0000 - false_positives: 61.0000 - true_negatives: 983.0000 - true_positives: 233.0000 - val_loss: 0.5220 - val_Accuracy: 0.7727 - val_false_negatives: 23.0000 - val_false_positives: 9.0000 - val_true_negatives: 255.0000 - val_true_positives: 65.0000\n",
            "Epoch 66/200\n",
            "44/44 [==============================] - 1s 14ms/step - loss: 0.7400 - Accuracy: 0.7098 - false_negatives: 120.0000 - false_positives: 69.0000 - true_negatives: 975.0000 - true_positives: 228.0000 - val_loss: 0.6073 - val_Accuracy: 0.7727 - val_false_negatives: 22.0000 - val_false_positives: 16.0000 - val_true_negatives: 248.0000 - val_true_positives: 66.0000\n",
            "Epoch 67/200\n",
            "44/44 [==============================] - 1s 14ms/step - loss: 0.7571 - Accuracy: 0.7011 - false_negatives: 128.0000 - false_positives: 67.0000 - true_negatives: 977.0000 - true_positives: 220.0000 - val_loss: 0.5327 - val_Accuracy: 0.8068 - val_false_negatives: 21.0000 - val_false_positives: 10.0000 - val_true_negatives: 254.0000 - val_true_positives: 67.0000\n",
            "Epoch 68/200\n",
            "44/44 [==============================] - 1s 15ms/step - loss: 0.7158 - Accuracy: 0.7299 - false_negatives: 122.0000 - false_positives: 70.0000 - true_negatives: 974.0000 - true_positives: 226.0000 - val_loss: 0.5508 - val_Accuracy: 0.7841 - val_false_negatives: 28.0000 - val_false_positives: 10.0000 - val_true_negatives: 254.0000 - val_true_positives: 60.0000\n",
            "Epoch 69/200\n",
            "44/44 [==============================] - 1s 14ms/step - loss: 0.7325 - Accuracy: 0.7126 - false_negatives: 130.0000 - false_positives: 63.0000 - true_negatives: 981.0000 - true_positives: 218.0000 - val_loss: 0.4540 - val_Accuracy: 0.8523 - val_false_negatives: 16.0000 - val_false_positives: 8.0000 - val_true_negatives: 256.0000 - val_true_positives: 72.0000\n",
            "Epoch 70/200\n",
            "44/44 [==============================] - 1s 14ms/step - loss: 0.6575 - Accuracy: 0.7615 - false_negatives: 102.0000 - false_positives: 57.0000 - true_negatives: 987.0000 - true_positives: 246.0000 - val_loss: 0.4730 - val_Accuracy: 0.8182 - val_false_negatives: 19.0000 - val_false_positives: 9.0000 - val_true_negatives: 255.0000 - val_true_positives: 69.0000\n",
            "Epoch 71/200\n",
            "44/44 [==============================] - 1s 14ms/step - loss: 0.7005 - Accuracy: 0.7385 - false_negatives: 108.0000 - false_positives: 67.0000 - true_negatives: 977.0000 - true_positives: 240.0000 - val_loss: 0.6226 - val_Accuracy: 0.7614 - val_false_negatives: 23.0000 - val_false_positives: 12.0000 - val_true_negatives: 252.0000 - val_true_positives: 65.0000\n",
            "Epoch 72/200\n",
            "44/44 [==============================] - 1s 14ms/step - loss: 0.6849 - Accuracy: 0.7385 - false_negatives: 113.0000 - false_positives: 64.0000 - true_negatives: 980.0000 - true_positives: 235.0000 - val_loss: 0.4981 - val_Accuracy: 0.8636 - val_false_negatives: 14.0000 - val_false_positives: 8.0000 - val_true_negatives: 256.0000 - val_true_positives: 74.0000\n",
            "Epoch 73/200\n",
            "44/44 [==============================] - 1s 14ms/step - loss: 0.7101 - Accuracy: 0.7184 - false_negatives: 115.0000 - false_positives: 62.0000 - true_negatives: 982.0000 - true_positives: 233.0000 - val_loss: 0.5110 - val_Accuracy: 0.7955 - val_false_negatives: 21.0000 - val_false_positives: 12.0000 - val_true_negatives: 252.0000 - val_true_positives: 67.0000\n",
            "Epoch 74/200\n",
            "44/44 [==============================] - 1s 14ms/step - loss: 0.7628 - Accuracy: 0.6925 - false_negatives: 121.0000 - false_positives: 75.0000 - true_negatives: 969.0000 - true_positives: 227.0000 - val_loss: 0.4892 - val_Accuracy: 0.8295 - val_false_negatives: 20.0000 - val_false_positives: 8.0000 - val_true_negatives: 256.0000 - val_true_positives: 68.0000\n",
            "Epoch 75/200\n",
            "44/44 [==============================] - 1s 14ms/step - loss: 0.7369 - Accuracy: 0.6925 - false_negatives: 129.0000 - false_positives: 65.0000 - true_negatives: 979.0000 - true_positives: 219.0000 - val_loss: 0.4113 - val_Accuracy: 0.8523 - val_false_negatives: 13.0000 - val_false_positives: 6.0000 - val_true_negatives: 258.0000 - val_true_positives: 75.0000\n",
            "Epoch 76/200\n",
            "44/44 [==============================] - 1s 15ms/step - loss: 0.7105 - Accuracy: 0.7155 - false_negatives: 115.0000 - false_positives: 73.0000 - true_negatives: 971.0000 - true_positives: 233.0000 - val_loss: 0.3809 - val_Accuracy: 0.8636 - val_false_negatives: 13.0000 - val_false_positives: 10.0000 - val_true_negatives: 254.0000 - val_true_positives: 75.0000\n",
            "Epoch 77/200\n",
            "44/44 [==============================] - 1s 15ms/step - loss: 0.6962 - Accuracy: 0.7471 - false_negatives: 103.0000 - false_positives: 62.0000 - true_negatives: 982.0000 - true_positives: 245.0000 - val_loss: 0.5245 - val_Accuracy: 0.8182 - val_false_negatives: 19.0000 - val_false_positives: 7.0000 - val_true_negatives: 257.0000 - val_true_positives: 69.0000\n",
            "Epoch 78/200\n",
            "44/44 [==============================] - 1s 14ms/step - loss: 0.7046 - Accuracy: 0.7557 - false_negatives: 114.0000 - false_positives: 58.0000 - true_negatives: 986.0000 - true_positives: 234.0000 - val_loss: 0.4771 - val_Accuracy: 0.8409 - val_false_negatives: 19.0000 - val_false_positives: 8.0000 - val_true_negatives: 256.0000 - val_true_positives: 69.0000\n",
            "Epoch 79/200\n",
            "44/44 [==============================] - 1s 14ms/step - loss: 0.6629 - Accuracy: 0.7529 - false_negatives: 112.0000 - false_positives: 52.0000 - true_negatives: 992.0000 - true_positives: 236.0000 - val_loss: 0.4041 - val_Accuracy: 0.8523 - val_false_negatives: 14.0000 - val_false_positives: 7.0000 - val_true_negatives: 257.0000 - val_true_positives: 74.0000\n",
            "Epoch 80/200\n",
            "44/44 [==============================] - 1s 14ms/step - loss: 0.7250 - Accuracy: 0.7385 - false_negatives: 124.0000 - false_positives: 67.0000 - true_negatives: 977.0000 - true_positives: 224.0000 - val_loss: 0.3959 - val_Accuracy: 0.8636 - val_false_negatives: 14.0000 - val_false_positives: 7.0000 - val_true_negatives: 257.0000 - val_true_positives: 74.0000\n",
            "Epoch 81/200\n",
            "44/44 [==============================] - 1s 14ms/step - loss: 0.6998 - Accuracy: 0.7328 - false_negatives: 118.0000 - false_positives: 64.0000 - true_negatives: 980.0000 - true_positives: 230.0000 - val_loss: 0.3541 - val_Accuracy: 0.8864 - val_false_negatives: 13.0000 - val_false_positives: 4.0000 - val_true_negatives: 260.0000 - val_true_positives: 75.0000\n",
            "Epoch 82/200\n",
            "44/44 [==============================] - 1s 15ms/step - loss: 0.6641 - Accuracy: 0.7529 - false_negatives: 109.0000 - false_positives: 57.0000 - true_negatives: 987.0000 - true_positives: 239.0000 - val_loss: 0.4809 - val_Accuracy: 0.8523 - val_false_negatives: 18.0000 - val_false_positives: 9.0000 - val_true_negatives: 255.0000 - val_true_positives: 70.0000\n",
            "Epoch 83/200\n",
            "44/44 [==============================] - 1s 14ms/step - loss: 0.6335 - Accuracy: 0.7529 - false_negatives: 104.0000 - false_positives: 63.0000 - true_negatives: 981.0000 - true_positives: 244.0000 - val_loss: 0.3062 - val_Accuracy: 0.8864 - val_false_negatives: 11.0000 - val_false_positives: 5.0000 - val_true_negatives: 259.0000 - val_true_positives: 77.0000\n",
            "Epoch 84/200\n",
            "44/44 [==============================] - 1s 14ms/step - loss: 0.6510 - Accuracy: 0.7414 - false_negatives: 105.0000 - false_positives: 60.0000 - true_negatives: 984.0000 - true_positives: 243.0000 - val_loss: 0.3397 - val_Accuracy: 0.8864 - val_false_negatives: 12.0000 - val_false_positives: 6.0000 - val_true_negatives: 258.0000 - val_true_positives: 76.0000\n",
            "Epoch 85/200\n",
            "44/44 [==============================] - 1s 14ms/step - loss: 0.6278 - Accuracy: 0.7529 - false_negatives: 104.0000 - false_positives: 50.0000 - true_negatives: 994.0000 - true_positives: 244.0000 - val_loss: 0.3609 - val_Accuracy: 0.8750 - val_false_negatives: 12.0000 - val_false_positives: 7.0000 - val_true_negatives: 257.0000 - val_true_positives: 76.0000\n",
            "Epoch 86/200\n",
            "44/44 [==============================] - 1s 14ms/step - loss: 0.6430 - Accuracy: 0.7414 - false_negatives: 111.0000 - false_positives: 59.0000 - true_negatives: 985.0000 - true_positives: 237.0000 - val_loss: 0.3801 - val_Accuracy: 0.8750 - val_false_negatives: 14.0000 - val_false_positives: 5.0000 - val_true_negatives: 259.0000 - val_true_positives: 74.0000\n",
            "Epoch 87/200\n",
            "44/44 [==============================] - 1s 15ms/step - loss: 0.6758 - Accuracy: 0.7356 - false_negatives: 114.0000 - false_positives: 61.0000 - true_negatives: 983.0000 - true_positives: 234.0000 - val_loss: 0.4164 - val_Accuracy: 0.8295 - val_false_negatives: 17.0000 - val_false_positives: 8.0000 - val_true_negatives: 256.0000 - val_true_positives: 71.0000\n",
            "Epoch 88/200\n",
            "44/44 [==============================] - 1s 15ms/step - loss: 0.6414 - Accuracy: 0.7356 - false_negatives: 104.0000 - false_positives: 57.0000 - true_negatives: 987.0000 - true_positives: 244.0000 - val_loss: 0.4092 - val_Accuracy: 0.8295 - val_false_negatives: 17.0000 - val_false_positives: 9.0000 - val_true_negatives: 255.0000 - val_true_positives: 71.0000\n",
            "Epoch 89/200\n",
            "44/44 [==============================] - 1s 14ms/step - loss: 0.6577 - Accuracy: 0.7500 - false_negatives: 106.0000 - false_positives: 59.0000 - true_negatives: 985.0000 - true_positives: 242.0000 - val_loss: 0.3569 - val_Accuracy: 0.8864 - val_false_negatives: 13.0000 - val_false_positives: 5.0000 - val_true_negatives: 259.0000 - val_true_positives: 75.0000\n",
            "Epoch 90/200\n",
            "44/44 [==============================] - 1s 14ms/step - loss: 0.6332 - Accuracy: 0.7701 - false_negatives: 102.0000 - false_positives: 59.0000 - true_negatives: 985.0000 - true_positives: 246.0000 - val_loss: 0.3604 - val_Accuracy: 0.8750 - val_false_negatives: 15.0000 - val_false_positives: 8.0000 - val_true_negatives: 256.0000 - val_true_positives: 73.0000\n",
            "Epoch 91/200\n",
            "44/44 [==============================] - 1s 14ms/step - loss: 0.6084 - Accuracy: 0.7644 - false_negatives: 89.0000 - false_positives: 62.0000 - true_negatives: 982.0000 - true_positives: 259.0000 - val_loss: 0.3585 - val_Accuracy: 0.8750 - val_false_negatives: 12.0000 - val_false_positives: 7.0000 - val_true_negatives: 257.0000 - val_true_positives: 76.0000\n",
            "Epoch 92/200\n",
            "44/44 [==============================] - 1s 24ms/step - loss: 0.6507 - Accuracy: 0.7443 - false_negatives: 115.0000 - false_positives: 63.0000 - true_negatives: 981.0000 - true_positives: 233.0000 - val_loss: 0.3588 - val_Accuracy: 0.8636 - val_false_negatives: 14.0000 - val_false_positives: 8.0000 - val_true_negatives: 256.0000 - val_true_positives: 74.0000\n",
            "Epoch 93/200\n",
            "44/44 [==============================] - 1s 24ms/step - loss: 0.6471 - Accuracy: 0.7241 - false_negatives: 108.0000 - false_positives: 60.0000 - true_negatives: 984.0000 - true_positives: 240.0000 - val_loss: 0.3245 - val_Accuracy: 0.8977 - val_false_negatives: 12.0000 - val_false_positives: 4.0000 - val_true_negatives: 260.0000 - val_true_positives: 76.0000\n",
            "Epoch 94/200\n",
            "44/44 [==============================] - 1s 21ms/step - loss: 0.6403 - Accuracy: 0.7500 - false_negatives: 101.0000 - false_positives: 61.0000 - true_negatives: 983.0000 - true_positives: 247.0000 - val_loss: 0.5499 - val_Accuracy: 0.7727 - val_false_negatives: 21.0000 - val_false_positives: 14.0000 - val_true_negatives: 250.0000 - val_true_positives: 67.0000\n",
            "Epoch 95/200\n",
            "44/44 [==============================] - 1s 14ms/step - loss: 0.5698 - Accuracy: 0.7845 - false_negatives: 97.0000 - false_positives: 55.0000 - true_negatives: 989.0000 - true_positives: 251.0000 - val_loss: 0.5123 - val_Accuracy: 0.8182 - val_false_negatives: 19.0000 - val_false_positives: 13.0000 - val_true_negatives: 251.0000 - val_true_positives: 69.0000\n",
            "Epoch 96/200\n",
            "44/44 [==============================] - 1s 14ms/step - loss: 0.6475 - Accuracy: 0.7500 - false_negatives: 102.0000 - false_positives: 66.0000 - true_negatives: 978.0000 - true_positives: 246.0000 - val_loss: 0.4477 - val_Accuracy: 0.8636 - val_false_negatives: 16.0000 - val_false_positives: 7.0000 - val_true_negatives: 257.0000 - val_true_positives: 72.0000\n",
            "Epoch 97/200\n",
            "44/44 [==============================] - 1s 14ms/step - loss: 0.5808 - Accuracy: 0.7701 - false_negatives: 92.0000 - false_positives: 62.0000 - true_negatives: 982.0000 - true_positives: 256.0000 - val_loss: 0.3176 - val_Accuracy: 0.8636 - val_false_negatives: 14.0000 - val_false_positives: 7.0000 - val_true_negatives: 257.0000 - val_true_positives: 74.0000\n",
            "Epoch 98/200\n",
            "44/44 [==============================] - 1s 14ms/step - loss: 0.6324 - Accuracy: 0.7529 - false_negatives: 105.0000 - false_positives: 70.0000 - true_negatives: 974.0000 - true_positives: 243.0000 - val_loss: 0.3028 - val_Accuracy: 0.8864 - val_false_negatives: 10.0000 - val_false_positives: 7.0000 - val_true_negatives: 257.0000 - val_true_positives: 78.0000\n",
            "Epoch 99/200\n",
            "44/44 [==============================] - 1s 15ms/step - loss: 0.5770 - Accuracy: 0.7730 - false_negatives: 99.0000 - false_positives: 55.0000 - true_negatives: 989.0000 - true_positives: 249.0000 - val_loss: 0.3404 - val_Accuracy: 0.8864 - val_false_negatives: 13.0000 - val_false_positives: 6.0000 - val_true_negatives: 258.0000 - val_true_positives: 75.0000\n",
            "Epoch 100/200\n",
            "44/44 [==============================] - 1s 15ms/step - loss: 0.5926 - Accuracy: 0.7471 - false_negatives: 98.0000 - false_positives: 57.0000 - true_negatives: 987.0000 - true_positives: 250.0000 - val_loss: 0.6051 - val_Accuracy: 0.7841 - val_false_negatives: 21.0000 - val_false_positives: 17.0000 - val_true_negatives: 247.0000 - val_true_positives: 67.0000\n",
            "Epoch 101/200\n",
            "44/44 [==============================] - 1s 14ms/step - loss: 0.5765 - Accuracy: 0.7845 - false_negatives: 93.0000 - false_positives: 57.0000 - true_negatives: 987.0000 - true_positives: 255.0000 - val_loss: 0.5490 - val_Accuracy: 0.8295 - val_false_negatives: 20.0000 - val_false_positives: 10.0000 - val_true_negatives: 254.0000 - val_true_positives: 68.0000\n",
            "Epoch 102/200\n",
            "44/44 [==============================] - 1s 15ms/step - loss: 0.6614 - Accuracy: 0.7615 - false_negatives: 114.0000 - false_positives: 61.0000 - true_negatives: 983.0000 - true_positives: 234.0000 - val_loss: 0.3272 - val_Accuracy: 0.9091 - val_false_negatives: 11.0000 - val_false_positives: 5.0000 - val_true_negatives: 259.0000 - val_true_positives: 77.0000\n",
            "Epoch 103/200\n",
            "44/44 [==============================] - 1s 15ms/step - loss: 0.5706 - Accuracy: 0.7701 - false_negatives: 96.0000 - false_positives: 59.0000 - true_negatives: 985.0000 - true_positives: 252.0000 - val_loss: 0.2933 - val_Accuracy: 0.8977 - val_false_negatives: 11.0000 - val_false_positives: 5.0000 - val_true_negatives: 259.0000 - val_true_positives: 77.0000\n",
            "Epoch 104/200\n",
            "44/44 [==============================] - 1s 15ms/step - loss: 0.5810 - Accuracy: 0.7787 - false_negatives: 89.0000 - false_positives: 57.0000 - true_negatives: 987.0000 - true_positives: 259.0000 - val_loss: 0.5018 - val_Accuracy: 0.8295 - val_false_negatives: 21.0000 - val_false_positives: 11.0000 - val_true_negatives: 253.0000 - val_true_positives: 67.0000\n",
            "Epoch 105/200\n",
            "44/44 [==============================] - 1s 15ms/step - loss: 0.5508 - Accuracy: 0.7644 - false_negatives: 102.0000 - false_positives: 56.0000 - true_negatives: 988.0000 - true_positives: 246.0000 - val_loss: 0.4772 - val_Accuracy: 0.8636 - val_false_negatives: 18.0000 - val_false_positives: 9.0000 - val_true_negatives: 255.0000 - val_true_positives: 70.0000\n",
            "Epoch 106/200\n",
            "44/44 [==============================] - 1s 15ms/step - loss: 0.6118 - Accuracy: 0.7586 - false_negatives: 101.0000 - false_positives: 59.0000 - true_negatives: 985.0000 - true_positives: 247.0000 - val_loss: 0.3872 - val_Accuracy: 0.8523 - val_false_negatives: 15.0000 - val_false_positives: 9.0000 - val_true_negatives: 255.0000 - val_true_positives: 73.0000\n",
            "Epoch 107/200\n",
            "44/44 [==============================] - 1s 15ms/step - loss: 0.6049 - Accuracy: 0.7672 - false_negatives: 102.0000 - false_positives: 55.0000 - true_negatives: 989.0000 - true_positives: 246.0000 - val_loss: 0.3984 - val_Accuracy: 0.8750 - val_false_negatives: 15.0000 - val_false_positives: 7.0000 - val_true_negatives: 257.0000 - val_true_positives: 73.0000\n",
            "Epoch 108/200\n",
            "44/44 [==============================] - 1s 15ms/step - loss: 0.6016 - Accuracy: 0.7816 - false_negatives: 99.0000 - false_positives: 52.0000 - true_negatives: 992.0000 - true_positives: 249.0000 - val_loss: 0.3996 - val_Accuracy: 0.8750 - val_false_negatives: 12.0000 - val_false_positives: 6.0000 - val_true_negatives: 258.0000 - val_true_positives: 76.0000\n",
            "Epoch 109/200\n",
            "44/44 [==============================] - 1s 15ms/step - loss: 0.5867 - Accuracy: 0.7787 - false_negatives: 96.0000 - false_positives: 63.0000 - true_negatives: 981.0000 - true_positives: 252.0000 - val_loss: 0.4320 - val_Accuracy: 0.8636 - val_false_negatives: 15.0000 - val_false_positives: 5.0000 - val_true_negatives: 259.0000 - val_true_positives: 73.0000\n",
            "Epoch 110/200\n",
            "44/44 [==============================] - 1s 15ms/step - loss: 0.5824 - Accuracy: 0.7730 - false_negatives: 92.0000 - false_positives: 52.0000 - true_negatives: 992.0000 - true_positives: 256.0000 - val_loss: 0.4693 - val_Accuracy: 0.8409 - val_false_negatives: 19.0000 - val_false_positives: 5.0000 - val_true_negatives: 259.0000 - val_true_positives: 69.0000\n",
            "Epoch 111/200\n",
            "44/44 [==============================] - 1s 15ms/step - loss: 0.5798 - Accuracy: 0.7730 - false_negatives: 102.0000 - false_positives: 55.0000 - true_negatives: 989.0000 - true_positives: 246.0000 - val_loss: 0.4469 - val_Accuracy: 0.8409 - val_false_negatives: 15.0000 - val_false_positives: 10.0000 - val_true_negatives: 254.0000 - val_true_positives: 73.0000\n",
            "Epoch 112/200\n",
            "44/44 [==============================] - 1s 15ms/step - loss: 0.6121 - Accuracy: 0.7874 - false_negatives: 95.0000 - false_positives: 57.0000 - true_negatives: 987.0000 - true_positives: 253.0000 - val_loss: 0.5425 - val_Accuracy: 0.8068 - val_false_negatives: 20.0000 - val_false_positives: 13.0000 - val_true_negatives: 251.0000 - val_true_positives: 68.0000\n",
            "Epoch 113/200\n",
            "44/44 [==============================] - 1s 15ms/step - loss: 0.5553 - Accuracy: 0.7931 - false_negatives: 90.0000 - false_positives: 50.0000 - true_negatives: 994.0000 - true_positives: 258.0000 - val_loss: 0.4239 - val_Accuracy: 0.8295 - val_false_negatives: 18.0000 - val_false_positives: 12.0000 - val_true_negatives: 252.0000 - val_true_positives: 70.0000\n",
            "Epoch 114/200\n",
            "44/44 [==============================] - 1s 15ms/step - loss: 0.6099 - Accuracy: 0.7816 - false_negatives: 89.0000 - false_positives: 52.0000 - true_negatives: 992.0000 - true_positives: 259.0000 - val_loss: 0.3184 - val_Accuracy: 0.8750 - val_false_negatives: 14.0000 - val_false_positives: 7.0000 - val_true_negatives: 257.0000 - val_true_positives: 74.0000\n",
            "Epoch 115/200\n",
            "44/44 [==============================] - 1s 15ms/step - loss: 0.5402 - Accuracy: 0.7902 - false_negatives: 91.0000 - false_positives: 53.0000 - true_negatives: 991.0000 - true_positives: 257.0000 - val_loss: 0.3211 - val_Accuracy: 0.8636 - val_false_negatives: 13.0000 - val_false_positives: 8.0000 - val_true_negatives: 256.0000 - val_true_positives: 75.0000\n",
            "Epoch 116/200\n",
            "44/44 [==============================] - 1s 15ms/step - loss: 0.5049 - Accuracy: 0.8046 - false_negatives: 83.0000 - false_positives: 54.0000 - true_negatives: 990.0000 - true_positives: 265.0000 - val_loss: 0.4638 - val_Accuracy: 0.8409 - val_false_negatives: 16.0000 - val_false_positives: 10.0000 - val_true_negatives: 254.0000 - val_true_positives: 72.0000\n",
            "Epoch 117/200\n",
            "44/44 [==============================] - 1s 15ms/step - loss: 0.5188 - Accuracy: 0.7902 - false_negatives: 88.0000 - false_positives: 54.0000 - true_negatives: 990.0000 - true_positives: 260.0000 - val_loss: 0.4366 - val_Accuracy: 0.8409 - val_false_negatives: 15.0000 - val_false_positives: 13.0000 - val_true_negatives: 251.0000 - val_true_positives: 73.0000\n",
            "Epoch 118/200\n",
            "44/44 [==============================] - 1s 15ms/step - loss: 0.4956 - Accuracy: 0.7989 - false_negatives: 81.0000 - false_positives: 51.0000 - true_negatives: 993.0000 - true_positives: 267.0000 - val_loss: 0.4125 - val_Accuracy: 0.8523 - val_false_negatives: 14.0000 - val_false_positives: 8.0000 - val_true_negatives: 256.0000 - val_true_positives: 74.0000\n",
            "Epoch 119/200\n",
            "44/44 [==============================] - 1s 15ms/step - loss: 0.5435 - Accuracy: 0.7931 - false_negatives: 91.0000 - false_positives: 53.0000 - true_negatives: 991.0000 - true_positives: 257.0000 - val_loss: 0.3605 - val_Accuracy: 0.8750 - val_false_negatives: 13.0000 - val_false_positives: 7.0000 - val_true_negatives: 257.0000 - val_true_positives: 75.0000\n",
            "Epoch 120/200\n",
            "44/44 [==============================] - 1s 15ms/step - loss: 0.5374 - Accuracy: 0.7874 - false_negatives: 91.0000 - false_positives: 45.0000 - true_negatives: 999.0000 - true_positives: 257.0000 - val_loss: 0.5229 - val_Accuracy: 0.8068 - val_false_negatives: 20.0000 - val_false_positives: 9.0000 - val_true_negatives: 255.0000 - val_true_positives: 68.0000\n",
            "Epoch 121/200\n",
            "44/44 [==============================] - 1s 14ms/step - loss: 0.5201 - Accuracy: 0.8046 - false_negatives: 89.0000 - false_positives: 54.0000 - true_negatives: 990.0000 - true_positives: 259.0000 - val_loss: 0.3589 - val_Accuracy: 0.8750 - val_false_negatives: 13.0000 - val_false_positives: 8.0000 - val_true_negatives: 256.0000 - val_true_positives: 75.0000\n",
            "Epoch 122/200\n",
            "44/44 [==============================] - 1s 15ms/step - loss: 0.4990 - Accuracy: 0.7989 - false_negatives: 81.0000 - false_positives: 52.0000 - true_negatives: 992.0000 - true_positives: 267.0000 - val_loss: 0.4991 - val_Accuracy: 0.8409 - val_false_negatives: 15.0000 - val_false_positives: 12.0000 - val_true_negatives: 252.0000 - val_true_positives: 73.0000\n",
            "Epoch 123/200\n",
            "44/44 [==============================] - 1s 15ms/step - loss: 0.4953 - Accuracy: 0.7902 - false_negatives: 86.0000 - false_positives: 53.0000 - true_negatives: 991.0000 - true_positives: 262.0000 - val_loss: 0.4188 - val_Accuracy: 0.8636 - val_false_negatives: 14.0000 - val_false_positives: 7.0000 - val_true_negatives: 257.0000 - val_true_positives: 74.0000\n",
            "Epoch 124/200\n",
            "44/44 [==============================] - 1s 15ms/step - loss: 0.5914 - Accuracy: 0.7845 - false_negatives: 91.0000 - false_positives: 52.0000 - true_negatives: 992.0000 - true_positives: 257.0000 - val_loss: 0.4126 - val_Accuracy: 0.8750 - val_false_negatives: 14.0000 - val_false_positives: 8.0000 - val_true_negatives: 256.0000 - val_true_positives: 74.0000\n",
            "Epoch 125/200\n",
            "44/44 [==============================] - 1s 15ms/step - loss: 0.5127 - Accuracy: 0.8017 - false_negatives: 78.0000 - false_positives: 50.0000 - true_negatives: 994.0000 - true_positives: 270.0000 - val_loss: 0.4953 - val_Accuracy: 0.8409 - val_false_negatives: 17.0000 - val_false_positives: 11.0000 - val_true_negatives: 253.0000 - val_true_positives: 71.0000\n",
            "Epoch 126/200\n",
            "44/44 [==============================] - 1s 15ms/step - loss: 0.5005 - Accuracy: 0.7960 - false_negatives: 88.0000 - false_positives: 50.0000 - true_negatives: 994.0000 - true_positives: 260.0000 - val_loss: 0.3770 - val_Accuracy: 0.8864 - val_false_negatives: 13.0000 - val_false_positives: 7.0000 - val_true_negatives: 257.0000 - val_true_positives: 75.0000\n",
            "Epoch 127/200\n",
            "44/44 [==============================] - 1s 15ms/step - loss: 0.5186 - Accuracy: 0.7989 - false_negatives: 77.0000 - false_positives: 56.0000 - true_negatives: 988.0000 - true_positives: 271.0000 - val_loss: 0.4210 - val_Accuracy: 0.8182 - val_false_negatives: 17.0000 - val_false_positives: 12.0000 - val_true_negatives: 252.0000 - val_true_positives: 71.0000\n",
            "Epoch 128/200\n",
            "44/44 [==============================] - 1s 15ms/step - loss: 0.4812 - Accuracy: 0.8161 - false_negatives: 80.0000 - false_positives: 45.0000 - true_negatives: 999.0000 - true_positives: 268.0000 - val_loss: 0.5107 - val_Accuracy: 0.8182 - val_false_negatives: 19.0000 - val_false_positives: 13.0000 - val_true_negatives: 251.0000 - val_true_positives: 69.0000\n",
            "Epoch 129/200\n",
            "44/44 [==============================] - 1s 15ms/step - loss: 0.5161 - Accuracy: 0.7874 - false_negatives: 88.0000 - false_positives: 49.0000 - true_negatives: 995.0000 - true_positives: 260.0000 - val_loss: 0.3507 - val_Accuracy: 0.8750 - val_false_negatives: 11.0000 - val_false_positives: 8.0000 - val_true_negatives: 256.0000 - val_true_positives: 77.0000\n",
            "Epoch 130/200\n",
            "44/44 [==============================] - 1s 15ms/step - loss: 0.4124 - Accuracy: 0.8247 - false_negatives: 69.0000 - false_positives: 38.0000 - true_negatives: 1006.0000 - true_positives: 279.0000 - val_loss: 0.3153 - val_Accuracy: 0.8750 - val_false_negatives: 12.0000 - val_false_positives: 8.0000 - val_true_negatives: 256.0000 - val_true_positives: 76.0000\n",
            "Epoch 131/200\n",
            "44/44 [==============================] - 1s 15ms/step - loss: 0.4348 - Accuracy: 0.8305 - false_negatives: 76.0000 - false_positives: 46.0000 - true_negatives: 998.0000 - true_positives: 272.0000 - val_loss: 0.4257 - val_Accuracy: 0.8523 - val_false_negatives: 14.0000 - val_false_positives: 10.0000 - val_true_negatives: 254.0000 - val_true_positives: 74.0000\n",
            "Epoch 132/200\n",
            "44/44 [==============================] - 1s 15ms/step - loss: 0.4655 - Accuracy: 0.8276 - false_negatives: 74.0000 - false_positives: 42.0000 - true_negatives: 1002.0000 - true_positives: 274.0000 - val_loss: 0.3709 - val_Accuracy: 0.8864 - val_false_negatives: 14.0000 - val_false_positives: 8.0000 - val_true_negatives: 256.0000 - val_true_positives: 74.0000\n",
            "Epoch 133/200\n",
            "44/44 [==============================] - 1s 15ms/step - loss: 0.4062 - Accuracy: 0.8247 - false_negatives: 71.0000 - false_positives: 41.0000 - true_negatives: 1003.0000 - true_positives: 277.0000 - val_loss: 0.4735 - val_Accuracy: 0.8409 - val_false_negatives: 15.0000 - val_false_positives: 9.0000 - val_true_negatives: 255.0000 - val_true_positives: 73.0000\n",
            "Epoch 134/200\n",
            "44/44 [==============================] - 1s 15ms/step - loss: 0.4856 - Accuracy: 0.8247 - false_negatives: 76.0000 - false_positives: 47.0000 - true_negatives: 997.0000 - true_positives: 272.0000 - val_loss: 0.3988 - val_Accuracy: 0.8523 - val_false_negatives: 15.0000 - val_false_positives: 8.0000 - val_true_negatives: 256.0000 - val_true_positives: 73.0000\n",
            "Epoch 135/200\n",
            "44/44 [==============================] - 1s 15ms/step - loss: 0.4405 - Accuracy: 0.8190 - false_negatives: 78.0000 - false_positives: 51.0000 - true_negatives: 993.0000 - true_positives: 270.0000 - val_loss: 0.5745 - val_Accuracy: 0.8182 - val_false_negatives: 19.0000 - val_false_positives: 14.0000 - val_true_negatives: 250.0000 - val_true_positives: 69.0000\n",
            "Epoch 136/200\n",
            "44/44 [==============================] - 1s 15ms/step - loss: 0.4673 - Accuracy: 0.8391 - false_negatives: 64.0000 - false_positives: 46.0000 - true_negatives: 998.0000 - true_positives: 284.0000 - val_loss: 0.3299 - val_Accuracy: 0.8864 - val_false_negatives: 10.0000 - val_false_positives: 8.0000 - val_true_negatives: 256.0000 - val_true_positives: 78.0000\n",
            "Epoch 137/200\n",
            "44/44 [==============================] - 1s 15ms/step - loss: 0.4007 - Accuracy: 0.8534 - false_negatives: 63.0000 - false_positives: 42.0000 - true_negatives: 1002.0000 - true_positives: 285.0000 - val_loss: 0.3368 - val_Accuracy: 0.8864 - val_false_negatives: 11.0000 - val_false_positives: 8.0000 - val_true_negatives: 256.0000 - val_true_positives: 77.0000\n",
            "Epoch 138/200\n",
            "44/44 [==============================] - 1s 15ms/step - loss: 0.4650 - Accuracy: 0.8276 - false_negatives: 68.0000 - false_positives: 53.0000 - true_negatives: 991.0000 - true_positives: 280.0000 - val_loss: 0.3527 - val_Accuracy: 0.8523 - val_false_negatives: 13.0000 - val_false_positives: 11.0000 - val_true_negatives: 253.0000 - val_true_positives: 75.0000\n",
            "Epoch 139/200\n",
            "44/44 [==============================] - 1s 15ms/step - loss: 0.4535 - Accuracy: 0.8276 - false_negatives: 74.0000 - false_positives: 46.0000 - true_negatives: 998.0000 - true_positives: 274.0000 - val_loss: 0.3631 - val_Accuracy: 0.8295 - val_false_negatives: 16.0000 - val_false_positives: 14.0000 - val_true_negatives: 250.0000 - val_true_positives: 72.0000\n",
            "Epoch 140/200\n",
            "44/44 [==============================] - 1s 15ms/step - loss: 0.4017 - Accuracy: 0.8305 - false_negatives: 67.0000 - false_positives: 46.0000 - true_negatives: 998.0000 - true_positives: 281.0000 - val_loss: 0.5582 - val_Accuracy: 0.8295 - val_false_negatives: 16.0000 - val_false_positives: 10.0000 - val_true_negatives: 254.0000 - val_true_positives: 72.0000\n",
            "Epoch 141/200\n",
            "44/44 [==============================] - 1s 16ms/step - loss: 0.4736 - Accuracy: 0.8153 - false_negatives: 77.0000 - false_positives: 55.0000 - true_negatives: 1001.0000 - true_positives: 275.0000 - val_loss: 0.3528 - val_Accuracy: 0.8636 - val_false_negatives: 12.0000 - val_false_positives: 10.0000 - val_true_negatives: 254.0000 - val_true_positives: 76.0000\n",
            "Epoch 142/200\n",
            "44/44 [==============================] - 1s 15ms/step - loss: 0.3647 - Accuracy: 0.8534 - false_negatives: 60.0000 - false_positives: 43.0000 - true_negatives: 1001.0000 - true_positives: 288.0000 - val_loss: 0.4377 - val_Accuracy: 0.8636 - val_false_negatives: 12.0000 - val_false_positives: 12.0000 - val_true_negatives: 252.0000 - val_true_positives: 76.0000\n",
            "Epoch 143/200\n",
            "44/44 [==============================] - 1s 15ms/step - loss: 0.3951 - Accuracy: 0.8592 - false_negatives: 59.0000 - false_positives: 45.0000 - true_negatives: 999.0000 - true_positives: 289.0000 - val_loss: 0.3594 - val_Accuracy: 0.8409 - val_false_negatives: 15.0000 - val_false_positives: 14.0000 - val_true_negatives: 250.0000 - val_true_positives: 73.0000\n",
            "Epoch 144/200\n",
            "44/44 [==============================] - 1s 15ms/step - loss: 0.4839 - Accuracy: 0.8161 - false_negatives: 76.0000 - false_positives: 52.0000 - true_negatives: 992.0000 - true_positives: 272.0000 - val_loss: 0.4515 - val_Accuracy: 0.8409 - val_false_negatives: 14.0000 - val_false_positives: 13.0000 - val_true_negatives: 251.0000 - val_true_positives: 74.0000\n",
            "Epoch 145/200\n",
            "44/44 [==============================] - 1s 15ms/step - loss: 0.4209 - Accuracy: 0.8391 - false_negatives: 63.0000 - false_positives: 48.0000 - true_negatives: 996.0000 - true_positives: 285.0000 - val_loss: 0.3893 - val_Accuracy: 0.8523 - val_false_negatives: 14.0000 - val_false_positives: 12.0000 - val_true_negatives: 252.0000 - val_true_positives: 74.0000\n",
            "Epoch 146/200\n",
            "44/44 [==============================] - 1s 15ms/step - loss: 0.4493 - Accuracy: 0.8333 - false_negatives: 68.0000 - false_positives: 47.0000 - true_negatives: 997.0000 - true_positives: 280.0000 - val_loss: 0.3234 - val_Accuracy: 0.8523 - val_false_negatives: 14.0000 - val_false_positives: 9.0000 - val_true_negatives: 255.0000 - val_true_positives: 74.0000\n",
            "Epoch 147/200\n",
            "44/44 [==============================] - 1s 15ms/step - loss: 0.4157 - Accuracy: 0.8247 - false_negatives: 66.0000 - false_positives: 46.0000 - true_negatives: 998.0000 - true_positives: 282.0000 - val_loss: 0.4362 - val_Accuracy: 0.8068 - val_false_negatives: 17.0000 - val_false_positives: 13.0000 - val_true_negatives: 251.0000 - val_true_positives: 71.0000\n",
            "Epoch 148/200\n",
            "44/44 [==============================] - 1s 15ms/step - loss: 0.3613 - Accuracy: 0.8592 - false_negatives: 56.0000 - false_positives: 44.0000 - true_negatives: 1000.0000 - true_positives: 292.0000 - val_loss: 0.3405 - val_Accuracy: 0.8750 - val_false_negatives: 12.0000 - val_false_positives: 8.0000 - val_true_negatives: 256.0000 - val_true_positives: 76.0000\n",
            "Epoch 149/200\n",
            "44/44 [==============================] - 1s 15ms/step - loss: 0.3289 - Accuracy: 0.8621 - false_negatives: 54.0000 - false_positives: 42.0000 - true_negatives: 1002.0000 - true_positives: 294.0000 - val_loss: 0.3580 - val_Accuracy: 0.8295 - val_false_negatives: 15.0000 - val_false_positives: 14.0000 - val_true_negatives: 250.0000 - val_true_positives: 73.0000\n",
            "Epoch 150/200\n",
            "44/44 [==============================] - 1s 16ms/step - loss: 0.3337 - Accuracy: 0.8649 - false_negatives: 54.0000 - false_positives: 38.0000 - true_negatives: 1006.0000 - true_positives: 294.0000 - val_loss: 0.5969 - val_Accuracy: 0.8068 - val_false_negatives: 17.0000 - val_false_positives: 15.0000 - val_true_negatives: 249.0000 - val_true_positives: 71.0000\n",
            "Epoch 151/200\n",
            "44/44 [==============================] - 1s 15ms/step - loss: 0.3553 - Accuracy: 0.8420 - false_negatives: 59.0000 - false_positives: 44.0000 - true_negatives: 1000.0000 - true_positives: 289.0000 - val_loss: 0.3786 - val_Accuracy: 0.8636 - val_false_negatives: 13.0000 - val_false_positives: 9.0000 - val_true_negatives: 255.0000 - val_true_positives: 75.0000\n",
            "Epoch 152/200\n",
            "44/44 [==============================] - 1s 15ms/step - loss: 0.3425 - Accuracy: 0.8822 - false_negatives: 46.0000 - false_positives: 34.0000 - true_negatives: 1010.0000 - true_positives: 302.0000 - val_loss: 0.4067 - val_Accuracy: 0.8523 - val_false_negatives: 15.0000 - val_false_positives: 12.0000 - val_true_negatives: 252.0000 - val_true_positives: 73.0000\n",
            "Epoch 153/200\n",
            "44/44 [==============================] - 1s 15ms/step - loss: 0.3256 - Accuracy: 0.8764 - false_negatives: 49.0000 - false_positives: 35.0000 - true_negatives: 1009.0000 - true_positives: 299.0000 - val_loss: 0.5035 - val_Accuracy: 0.7955 - val_false_negatives: 18.0000 - val_false_positives: 16.0000 - val_true_negatives: 248.0000 - val_true_positives: 70.0000\n",
            "Epoch 154/200\n",
            "44/44 [==============================] - 1s 15ms/step - loss: 0.3517 - Accuracy: 0.8592 - false_negatives: 55.0000 - false_positives: 33.0000 - true_negatives: 1011.0000 - true_positives: 293.0000 - val_loss: 0.3726 - val_Accuracy: 0.8523 - val_false_negatives: 13.0000 - val_false_positives: 9.0000 - val_true_negatives: 255.0000 - val_true_positives: 75.0000\n",
            "Epoch 155/200\n",
            "44/44 [==============================] - 1s 15ms/step - loss: 0.3590 - Accuracy: 0.8534 - false_negatives: 55.0000 - false_positives: 39.0000 - true_negatives: 1005.0000 - true_positives: 293.0000 - val_loss: 0.4417 - val_Accuracy: 0.8523 - val_false_negatives: 14.0000 - val_false_positives: 12.0000 - val_true_negatives: 252.0000 - val_true_positives: 74.0000\n",
            "Epoch 156/200\n",
            "44/44 [==============================] - 1s 15ms/step - loss: 0.3686 - Accuracy: 0.8391 - false_negatives: 60.0000 - false_positives: 47.0000 - true_negatives: 997.0000 - true_positives: 288.0000 - val_loss: 0.4400 - val_Accuracy: 0.8295 - val_false_negatives: 15.0000 - val_false_positives: 15.0000 - val_true_negatives: 249.0000 - val_true_positives: 73.0000\n",
            "Epoch 157/200\n",
            "44/44 [==============================] - 1s 15ms/step - loss: 0.2950 - Accuracy: 0.8937 - false_negatives: 38.0000 - false_positives: 28.0000 - true_negatives: 1016.0000 - true_positives: 310.0000 - val_loss: 0.5291 - val_Accuracy: 0.8295 - val_false_negatives: 15.0000 - val_false_positives: 14.0000 - val_true_negatives: 250.0000 - val_true_positives: 73.0000\n",
            "Epoch 158/200\n",
            "44/44 [==============================] - 1s 15ms/step - loss: 0.3743 - Accuracy: 0.8420 - false_negatives: 62.0000 - false_positives: 49.0000 - true_negatives: 995.0000 - true_positives: 286.0000 - val_loss: 0.4259 - val_Accuracy: 0.8409 - val_false_negatives: 14.0000 - val_false_positives: 13.0000 - val_true_negatives: 251.0000 - val_true_positives: 74.0000\n",
            "Epoch 159/200\n",
            "44/44 [==============================] - 1s 15ms/step - loss: 0.3227 - Accuracy: 0.8937 - false_negatives: 46.0000 - false_positives: 27.0000 - true_negatives: 1017.0000 - true_positives: 302.0000 - val_loss: 0.4302 - val_Accuracy: 0.8295 - val_false_negatives: 15.0000 - val_false_positives: 15.0000 - val_true_negatives: 249.0000 - val_true_positives: 73.0000\n",
            "Epoch 160/200\n",
            "44/44 [==============================] - 1s 15ms/step - loss: 0.3564 - Accuracy: 0.8592 - false_negatives: 52.0000 - false_positives: 36.0000 - true_negatives: 1008.0000 - true_positives: 296.0000 - val_loss: 0.4781 - val_Accuracy: 0.8068 - val_false_negatives: 18.0000 - val_false_positives: 12.0000 - val_true_negatives: 252.0000 - val_true_positives: 70.0000\n",
            "Epoch 161/200\n",
            "44/44 [==============================] - 1s 15ms/step - loss: 0.3789 - Accuracy: 0.8420 - false_negatives: 63.0000 - false_positives: 44.0000 - true_negatives: 1000.0000 - true_positives: 285.0000 - val_loss: 0.4187 - val_Accuracy: 0.8295 - val_false_negatives: 15.0000 - val_false_positives: 14.0000 - val_true_negatives: 250.0000 - val_true_positives: 73.0000\n",
            "Epoch 162/200\n",
            "44/44 [==============================] - 1s 15ms/step - loss: 0.3411 - Accuracy: 0.8764 - false_negatives: 47.0000 - false_positives: 35.0000 - true_negatives: 1009.0000 - true_positives: 301.0000 - val_loss: 0.3696 - val_Accuracy: 0.8409 - val_false_negatives: 14.0000 - val_false_positives: 13.0000 - val_true_negatives: 251.0000 - val_true_positives: 74.0000\n",
            "Epoch 163/200\n",
            "44/44 [==============================] - 1s 15ms/step - loss: 0.3963 - Accuracy: 0.8391 - false_negatives: 65.0000 - false_positives: 48.0000 - true_negatives: 996.0000 - true_positives: 283.0000 - val_loss: 0.4892 - val_Accuracy: 0.8182 - val_false_negatives: 16.0000 - val_false_positives: 16.0000 - val_true_negatives: 248.0000 - val_true_positives: 72.0000\n",
            "Epoch 164/200\n",
            "44/44 [==============================] - 1s 15ms/step - loss: 0.3235 - Accuracy: 0.8621 - false_negatives: 55.0000 - false_positives: 39.0000 - true_negatives: 1005.0000 - true_positives: 293.0000 - val_loss: 0.4345 - val_Accuracy: 0.8295 - val_false_negatives: 15.0000 - val_false_positives: 14.0000 - val_true_negatives: 250.0000 - val_true_positives: 73.0000\n",
            "Epoch 165/200\n",
            "44/44 [==============================] - 1s 15ms/step - loss: 0.3291 - Accuracy: 0.8707 - false_negatives: 50.0000 - false_positives: 41.0000 - true_negatives: 1003.0000 - true_positives: 298.0000 - val_loss: 0.3582 - val_Accuracy: 0.8750 - val_false_negatives: 12.0000 - val_false_positives: 10.0000 - val_true_negatives: 254.0000 - val_true_positives: 76.0000\n",
            "Epoch 166/200\n",
            "44/44 [==============================] - 1s 16ms/step - loss: 0.3343 - Accuracy: 0.8851 - false_negatives: 43.0000 - false_positives: 31.0000 - true_negatives: 1013.0000 - true_positives: 305.0000 - val_loss: 0.3766 - val_Accuracy: 0.8523 - val_false_negatives: 14.0000 - val_false_positives: 11.0000 - val_true_negatives: 253.0000 - val_true_positives: 74.0000\n",
            "Epoch 167/200\n",
            "44/44 [==============================] - 1s 15ms/step - loss: 0.2821 - Accuracy: 0.8908 - false_negatives: 41.0000 - false_positives: 32.0000 - true_negatives: 1012.0000 - true_positives: 307.0000 - val_loss: 0.5469 - val_Accuracy: 0.8523 - val_false_negatives: 14.0000 - val_false_positives: 12.0000 - val_true_negatives: 252.0000 - val_true_positives: 74.0000\n",
            "Epoch 168/200\n",
            "44/44 [==============================] - 1s 15ms/step - loss: 0.2789 - Accuracy: 0.9023 - false_negatives: 39.0000 - false_positives: 25.0000 - true_negatives: 1019.0000 - true_positives: 309.0000 - val_loss: 0.4674 - val_Accuracy: 0.8409 - val_false_negatives: 14.0000 - val_false_positives: 11.0000 - val_true_negatives: 253.0000 - val_true_positives: 74.0000\n",
            "Epoch 169/200\n",
            "44/44 [==============================] - 1s 16ms/step - loss: 0.2887 - Accuracy: 0.9052 - false_negatives: 41.0000 - false_positives: 30.0000 - true_negatives: 1014.0000 - true_positives: 307.0000 - val_loss: 0.4658 - val_Accuracy: 0.8523 - val_false_negatives: 13.0000 - val_false_positives: 13.0000 - val_true_negatives: 251.0000 - val_true_positives: 75.0000\n",
            "Epoch 170/200\n",
            "44/44 [==============================] - 1s 15ms/step - loss: 0.2871 - Accuracy: 0.8851 - false_negatives: 45.0000 - false_positives: 27.0000 - true_negatives: 1017.0000 - true_positives: 303.0000 - val_loss: 0.3957 - val_Accuracy: 0.8409 - val_false_negatives: 14.0000 - val_false_positives: 13.0000 - val_true_negatives: 251.0000 - val_true_positives: 74.0000\n",
            "Epoch 171/200\n",
            "44/44 [==============================] - 1s 15ms/step - loss: 0.2740 - Accuracy: 0.8793 - false_negatives: 48.0000 - false_positives: 34.0000 - true_negatives: 1010.0000 - true_positives: 300.0000 - val_loss: 0.4615 - val_Accuracy: 0.8636 - val_false_negatives: 12.0000 - val_false_positives: 12.0000 - val_true_negatives: 252.0000 - val_true_positives: 76.0000\n",
            "Epoch 172/200\n",
            "44/44 [==============================] - 1s 16ms/step - loss: 0.3093 - Accuracy: 0.8592 - false_negatives: 55.0000 - false_positives: 43.0000 - true_negatives: 1001.0000 - true_positives: 293.0000 - val_loss: 0.3266 - val_Accuracy: 0.8523 - val_false_negatives: 14.0000 - val_false_positives: 11.0000 - val_true_negatives: 253.0000 - val_true_positives: 74.0000\n",
            "Epoch 173/200\n",
            "44/44 [==============================] - 1s 16ms/step - loss: 0.2799 - Accuracy: 0.8966 - false_negatives: 42.0000 - false_positives: 26.0000 - true_negatives: 1018.0000 - true_positives: 306.0000 - val_loss: 0.5396 - val_Accuracy: 0.8409 - val_false_negatives: 15.0000 - val_false_positives: 12.0000 - val_true_negatives: 252.0000 - val_true_positives: 73.0000\n",
            "Epoch 174/200\n",
            "44/44 [==============================] - 1s 15ms/step - loss: 0.3310 - Accuracy: 0.8707 - false_negatives: 49.0000 - false_positives: 38.0000 - true_negatives: 1006.0000 - true_positives: 299.0000 - val_loss: 0.5393 - val_Accuracy: 0.8864 - val_false_negatives: 12.0000 - val_false_positives: 9.0000 - val_true_negatives: 255.0000 - val_true_positives: 76.0000\n",
            "Epoch 175/200\n",
            "44/44 [==============================] - 1s 15ms/step - loss: 0.4024 - Accuracy: 0.8448 - false_negatives: 56.0000 - false_positives: 45.0000 - true_negatives: 999.0000 - true_positives: 292.0000 - val_loss: 0.5123 - val_Accuracy: 0.8636 - val_false_negatives: 12.0000 - val_false_positives: 11.0000 - val_true_negatives: 253.0000 - val_true_positives: 76.0000\n",
            "Epoch 176/200\n",
            "44/44 [==============================] - 1s 15ms/step - loss: 0.3218 - Accuracy: 0.8678 - false_negatives: 48.0000 - false_positives: 38.0000 - true_negatives: 1006.0000 - true_positives: 300.0000 - val_loss: 0.4641 - val_Accuracy: 0.8636 - val_false_negatives: 13.0000 - val_false_positives: 10.0000 - val_true_negatives: 254.0000 - val_true_positives: 75.0000\n",
            "Epoch 177/200\n",
            "44/44 [==============================] - 1s 16ms/step - loss: 0.2751 - Accuracy: 0.9023 - false_negatives: 37.0000 - false_positives: 28.0000 - true_negatives: 1016.0000 - true_positives: 311.0000 - val_loss: 0.4513 - val_Accuracy: 0.8864 - val_false_negatives: 11.0000 - val_false_positives: 9.0000 - val_true_negatives: 255.0000 - val_true_positives: 77.0000\n",
            "Epoch 178/200\n",
            "44/44 [==============================] - 1s 16ms/step - loss: 0.2876 - Accuracy: 0.9023 - false_negatives: 44.0000 - false_positives: 29.0000 - true_negatives: 1015.0000 - true_positives: 304.0000 - val_loss: 0.5976 - val_Accuracy: 0.7955 - val_false_negatives: 18.0000 - val_false_positives: 16.0000 - val_true_negatives: 248.0000 - val_true_positives: 70.0000\n",
            "Epoch 179/200\n",
            "44/44 [==============================] - 1s 15ms/step - loss: 0.2511 - Accuracy: 0.9062 - false_negatives: 37.0000 - false_positives: 28.0000 - true_negatives: 1028.0000 - true_positives: 315.0000 - val_loss: 0.4646 - val_Accuracy: 0.8750 - val_false_negatives: 11.0000 - val_false_positives: 10.0000 - val_true_negatives: 254.0000 - val_true_positives: 77.0000\n",
            "Epoch 180/200\n",
            "44/44 [==============================] - 1s 16ms/step - loss: 0.2383 - Accuracy: 0.9062 - false_negatives: 36.0000 - false_positives: 26.0000 - true_negatives: 1030.0000 - true_positives: 316.0000 - val_loss: 0.5078 - val_Accuracy: 0.8409 - val_false_negatives: 15.0000 - val_false_positives: 13.0000 - val_true_negatives: 251.0000 - val_true_positives: 73.0000\n",
            "Epoch 181/200\n",
            "44/44 [==============================] - 1s 15ms/step - loss: 0.2176 - Accuracy: 0.9195 - false_negatives: 32.0000 - false_positives: 24.0000 - true_negatives: 1020.0000 - true_positives: 316.0000 - val_loss: 0.4490 - val_Accuracy: 0.8182 - val_false_negatives: 16.0000 - val_false_positives: 13.0000 - val_true_negatives: 251.0000 - val_true_positives: 72.0000\n",
            "Epoch 182/200\n",
            "44/44 [==============================] - 1s 15ms/step - loss: 0.2639 - Accuracy: 0.9138 - false_negatives: 35.0000 - false_positives: 28.0000 - true_negatives: 1016.0000 - true_positives: 313.0000 - val_loss: 0.4915 - val_Accuracy: 0.8523 - val_false_negatives: 14.0000 - val_false_positives: 13.0000 - val_true_negatives: 251.0000 - val_true_positives: 74.0000\n",
            "Epoch 183/200\n",
            "44/44 [==============================] - 1s 15ms/step - loss: 0.2682 - Accuracy: 0.8908 - false_negatives: 40.0000 - false_positives: 35.0000 - true_negatives: 1009.0000 - true_positives: 308.0000 - val_loss: 0.4684 - val_Accuracy: 0.8182 - val_false_negatives: 16.0000 - val_false_positives: 12.0000 - val_true_negatives: 252.0000 - val_true_positives: 72.0000\n",
            "Epoch 184/200\n",
            "44/44 [==============================] - 1s 15ms/step - loss: 0.3248 - Accuracy: 0.8764 - false_negatives: 47.0000 - false_positives: 38.0000 - true_negatives: 1006.0000 - true_positives: 301.0000 - val_loss: 0.4808 - val_Accuracy: 0.8295 - val_false_negatives: 15.0000 - val_false_positives: 13.0000 - val_true_negatives: 251.0000 - val_true_positives: 73.0000\n",
            "Epoch 185/200\n",
            "44/44 [==============================] - 1s 15ms/step - loss: 0.2602 - Accuracy: 0.8908 - false_negatives: 41.0000 - false_positives: 33.0000 - true_negatives: 1011.0000 - true_positives: 307.0000 - val_loss: 0.5618 - val_Accuracy: 0.8523 - val_false_negatives: 13.0000 - val_false_positives: 11.0000 - val_true_negatives: 253.0000 - val_true_positives: 75.0000\n",
            "Epoch 186/200\n",
            "44/44 [==============================] - 1s 16ms/step - loss: 0.2860 - Accuracy: 0.8994 - false_negatives: 40.0000 - false_positives: 26.0000 - true_negatives: 1018.0000 - true_positives: 308.0000 - val_loss: 0.4929 - val_Accuracy: 0.8409 - val_false_negatives: 15.0000 - val_false_positives: 14.0000 - val_true_negatives: 250.0000 - val_true_positives: 73.0000\n",
            "Epoch 187/200\n",
            "44/44 [==============================] - 1s 16ms/step - loss: 0.2979 - Accuracy: 0.8908 - false_negatives: 43.0000 - false_positives: 31.0000 - true_negatives: 1013.0000 - true_positives: 305.0000 - val_loss: 0.4847 - val_Accuracy: 0.8409 - val_false_negatives: 14.0000 - val_false_positives: 12.0000 - val_true_negatives: 252.0000 - val_true_positives: 74.0000\n",
            "Epoch 188/200\n",
            "44/44 [==============================] - 1s 19ms/step - loss: 0.2242 - Accuracy: 0.9109 - false_negatives: 35.0000 - false_positives: 31.0000 - true_negatives: 1013.0000 - true_positives: 313.0000 - val_loss: 0.6150 - val_Accuracy: 0.8295 - val_false_negatives: 17.0000 - val_false_positives: 15.0000 - val_true_negatives: 249.0000 - val_true_positives: 71.0000\n",
            "Epoch 189/200\n",
            "44/44 [==============================] - 1s 25ms/step - loss: 0.2425 - Accuracy: 0.8994 - false_negatives: 39.0000 - false_positives: 34.0000 - true_negatives: 1010.0000 - true_positives: 309.0000 - val_loss: 0.4980 - val_Accuracy: 0.8295 - val_false_negatives: 15.0000 - val_false_positives: 13.0000 - val_true_negatives: 251.0000 - val_true_positives: 73.0000\n",
            "Epoch 190/200\n",
            "44/44 [==============================] - 1s 16ms/step - loss: 0.3093 - Accuracy: 0.8966 - false_negatives: 39.0000 - false_positives: 36.0000 - true_negatives: 1008.0000 - true_positives: 309.0000 - val_loss: 0.5255 - val_Accuracy: 0.8750 - val_false_negatives: 11.0000 - val_false_positives: 8.0000 - val_true_negatives: 256.0000 - val_true_positives: 77.0000\n",
            "Epoch 191/200\n",
            "44/44 [==============================] - 1s 16ms/step - loss: 0.2413 - Accuracy: 0.9138 - false_negatives: 32.0000 - false_positives: 24.0000 - true_negatives: 1020.0000 - true_positives: 316.0000 - val_loss: 0.4958 - val_Accuracy: 0.8523 - val_false_negatives: 13.0000 - val_false_positives: 10.0000 - val_true_negatives: 254.0000 - val_true_positives: 75.0000\n",
            "Epoch 192/200\n",
            "44/44 [==============================] - 1s 15ms/step - loss: 0.2606 - Accuracy: 0.9023 - false_negatives: 41.0000 - false_positives: 30.0000 - true_negatives: 1014.0000 - true_positives: 307.0000 - val_loss: 0.4972 - val_Accuracy: 0.8523 - val_false_negatives: 13.0000 - val_false_positives: 12.0000 - val_true_negatives: 252.0000 - val_true_positives: 75.0000\n",
            "Epoch 193/200\n",
            "44/44 [==============================] - 1s 15ms/step - loss: 0.3362 - Accuracy: 0.8736 - false_negatives: 48.0000 - false_positives: 38.0000 - true_negatives: 1006.0000 - true_positives: 300.0000 - val_loss: 0.5071 - val_Accuracy: 0.8636 - val_false_negatives: 12.0000 - val_false_positives: 12.0000 - val_true_negatives: 252.0000 - val_true_positives: 76.0000\n",
            "Epoch 194/200\n",
            "44/44 [==============================] - 1s 16ms/step - loss: 0.2540 - Accuracy: 0.9109 - false_negatives: 36.0000 - false_positives: 29.0000 - true_negatives: 1015.0000 - true_positives: 312.0000 - val_loss: 0.5809 - val_Accuracy: 0.8068 - val_false_negatives: 17.0000 - val_false_positives: 16.0000 - val_true_negatives: 248.0000 - val_true_positives: 71.0000\n",
            "Epoch 195/200\n",
            "44/44 [==============================] - 1s 16ms/step - loss: 0.3361 - Accuracy: 0.8477 - false_negatives: 56.0000 - false_positives: 44.0000 - true_negatives: 1000.0000 - true_positives: 292.0000 - val_loss: 0.4382 - val_Accuracy: 0.8523 - val_false_negatives: 14.0000 - val_false_positives: 12.0000 - val_true_negatives: 252.0000 - val_true_positives: 74.0000\n",
            "Epoch 196/200\n",
            "44/44 [==============================] - 1s 16ms/step - loss: 0.2646 - Accuracy: 0.8937 - false_negatives: 41.0000 - false_positives: 30.0000 - true_negatives: 1014.0000 - true_positives: 307.0000 - val_loss: 0.4380 - val_Accuracy: 0.8750 - val_false_negatives: 11.0000 - val_false_positives: 10.0000 - val_true_negatives: 254.0000 - val_true_positives: 77.0000\n",
            "Epoch 197/200\n",
            "44/44 [==============================] - 1s 16ms/step - loss: 0.2623 - Accuracy: 0.9109 - false_negatives: 34.0000 - false_positives: 27.0000 - true_negatives: 1017.0000 - true_positives: 314.0000 - val_loss: 0.5710 - val_Accuracy: 0.8409 - val_false_negatives: 15.0000 - val_false_positives: 13.0000 - val_true_negatives: 251.0000 - val_true_positives: 73.0000\n",
            "Epoch 198/200\n",
            "44/44 [==============================] - 1s 16ms/step - loss: 0.2247 - Accuracy: 0.8994 - false_negatives: 36.0000 - false_positives: 28.0000 - true_negatives: 1016.0000 - true_positives: 312.0000 - val_loss: 0.4504 - val_Accuracy: 0.8864 - val_false_negatives: 10.0000 - val_false_positives: 10.0000 - val_true_negatives: 254.0000 - val_true_positives: 78.0000\n",
            "Epoch 199/200\n",
            "44/44 [==============================] - 1s 16ms/step - loss: 0.2382 - Accuracy: 0.9138 - false_negatives: 33.0000 - false_positives: 25.0000 - true_negatives: 1019.0000 - true_positives: 315.0000 - val_loss: 0.4937 - val_Accuracy: 0.9091 - val_false_negatives: 11.0000 - val_false_positives: 8.0000 - val_true_negatives: 256.0000 - val_true_positives: 77.0000\n",
            "Epoch 200/200\n",
            "44/44 [==============================] - 1s 15ms/step - loss: 0.2131 - Accuracy: 0.9224 - false_negatives: 31.0000 - false_positives: 19.0000 - true_negatives: 1025.0000 - true_positives: 317.0000 - val_loss: 0.5006 - val_Accuracy: 0.8409 - val_false_negatives: 15.0000 - val_false_positives: 12.0000 - val_true_negatives: 252.0000 - val_true_positives: 73.0000\n"
          ]
        }
      ]
    },
    {
      "cell_type": "markdown",
      "source": [
        "Plotting Traning Result"
      ],
      "metadata": {
        "id": "XZSFG8fXqz7c"
      }
    },
    {
      "cell_type": "code",
      "source": [
        "  #plotting\n",
        "  epochs = range(1, len(history.history['loss'])+1)\n",
        "  plt.title(f\"Grafik loss training iterasi {iterasi}\")\n",
        "  plt.plot(epochs, history.history['loss'], 'r', label='Training Loss')\n",
        "  plt.plot(epochs, history.history['val_loss'], 'b', label='Validation Loss')    \n",
        "  plt.xlabel(\"Epoch\")\n",
        "  plt.ylabel(\"Loss\")\n",
        "  plt.legend()\n",
        "  plt.show()\n"
      ],
      "metadata": {
        "id": "3dXbDrJpY1NK",
        "colab": {
          "base_uri": "https://localhost:8080/",
          "height": 295
        },
        "outputId": "233de840-edd3-4c98-f384-d19507a63dc0"
      },
      "execution_count": 12,
      "outputs": [
        {
          "output_type": "display_data",
          "data": {
            "text/plain": [
              "<Figure size 432x288 with 1 Axes>"
            ],
            "image/png": "[encoded data removed]"
          },
          "metadata": {
            "needs_background": "light"
          }
        }
      ]
    },
    {
      "cell_type": "code",
      "source": [
        "  #plotting\n",
        "  epochs = range(1, len(history.history['loss'])+1)\n",
        "  plt.title(f\"Grafik Akurasi training iterasi {iterasi}\")\n",
        "  plt.plot(epochs, history.history['Accuracy'], 'r', label='Training Accuracy')\n",
        "  plt.plot(epochs, history.history['val_Accuracy'], 'b', label='Validation Accuracy')    \n",
        "  plt.xlabel(\"Epoch\")\n",
        "  plt.ylabel(\"Accuracy\")\n",
        "  plt.legend()\n",
        "  plt.show()"
      ],
      "metadata": {
        "id": "j3xigprPwlSX",
        "colab": {
          "base_uri": "https://localhost:8080/",
          "height": 295
        },
        "outputId": "5629a750-f48d-4370-c7ed-cbe80678b67d"
      },
      "execution_count": 13,
      "outputs": [
        {
          "output_type": "display_data",
          "data": {
            "text/plain": [
              "<Figure size 432x288 with 1 Axes>"
            ],
            "image/png": "[encoded data removed]"
          },
          "metadata": {
            "needs_background": "light"
          }
        }
      ]
    },
    {
      "cell_type": "code",
      "source": [
        "import matplotlib.pyplot as plt\n",
        "from sklearn.datasets import make_classification\n",
        "from numpy import mean\n",
        "from sklearn.metrics import confusion_matrix, ConfusionMatrixDisplay, accuracy_score, classification_report, recall_score\n",
        "\n",
        "validation = model.predict(np_image_list_validation)\n",
        "\n",
        "predicted_labels = []\n",
        "correct_labels = []\n",
        "for i in range (len(validation)):\n",
        "  predicted_labels.append(np.argmax(validation[i]))\n",
        "\n",
        "for i in range (len(image_labels_validation)):\n",
        "  correct_labels.append(np.argmax(image_labels_validation[i]))\n",
        "\n",
        "\n",
        "confusion_matrix = confusion_matrix(correct_labels, predicted_labels)\n",
        "disp = ConfusionMatrixDisplay(confusion_matrix=confusion_matrix)  \n",
        "disp.plot()\n",
        "plt.show()\n",
        "print('--------')\n",
        "FP = confusion_matrix.sum(axis=0) - np.diag(confusion_matrix)  \n",
        "FN = confusion_matrix.sum(axis=1) - np.diag(confusion_matrix)\n",
        "TP = np.diag(confusion_matrix)\n",
        "TN = confusion_matrix.sum() - (FP + FN + TP)\n",
        "\n",
        "# Sensitivity, hit rate, recall, or true positive rate\n",
        "TPR = TP/(TP+FN)\n",
        "# Specificity or true negative rate\n",
        "TNR = TN/(TN+FP) \n",
        "# Overall accuracy\n",
        "ACC = (TP+TN)/(TP+FP+FN+TN)\n",
        "\n",
        "print(TP)\n",
        "print(TN)\n",
        "print(FP)\n",
        "print(FN)\n",
        "print('--------')\n",
        "print(ACC)\n",
        "print(TPR)\n",
        "print(TNR)\n",
        "print('--------')\n",
        "\n",
        "TP = sum(TP)\n",
        "TN = sum(TN)\n",
        "FP = sum(FP)\n",
        "FN = sum(FN)\n",
        "\n",
        "# Sensitivity, hit rate, recall, or true positive rate\n",
        "TPR = TP/(TP+FN)\n",
        "# Specificity or true negative rate\n",
        "TNR = TN/(TN+FP) \n",
        "# Overall accuracy\n",
        "ACC = (TP+TN)/(TP+FP+FN+TN)\n",
        "\n",
        "print(TP)\n",
        "print(TN)\n",
        "print(FP)\n",
        "print(FN)\n",
        "print('--------')\n",
        "print(ACC)\n",
        "print(TPR)\n",
        "print(TNR)"
      ],
      "metadata": {
        "colab": {
          "base_uri": "https://localhost:8080/",
          "height": 591
        },
        "id": "y0RigLm76Rpg",
        "outputId": "569e66e6-1065-4897-8d26-f6b0393989d9"
      },
      "execution_count": 14,
      "outputs": [
        {
          "output_type": "display_data",
          "data": {
            "text/plain": [
              "<Figure size 432x288 with 2 Axes>"
            ],
            "image/png": "[encoded data removed]"
          },
          "metadata": {
            "needs_background": "light"
          }
        },
        {
          "output_type": "stream",
          "name": "stdout",
          "text": [
            "--------\n",
            "[ 5  9 21 39]\n",
            "[71 73 61 45]\n",
            "[7 2 2 3]\n",
            "[5 4 4 1]\n",
            "--------\n",
            "[0.86363636 0.93181818 0.93181818 0.95454545]\n",
            "[0.5        0.69230769 0.84       0.975     ]\n",
            "[0.91025641 0.97333333 0.96825397 0.9375    ]\n",
            "--------\n",
            "74\n",
            "250\n",
            "14\n",
            "14\n",
            "--------\n",
            "0.9204545454545454\n",
            "0.8409090909090909\n",
            "0.946969696969697\n"
          ]
        }
      ]
    },
    {
      "cell_type": "code",
      "source": [
        "import matplotlib.pyplot as plt\n",
        "from sklearn.datasets import make_classification\n",
        "from numpy import mean\n",
        "from sklearn.metrics import confusion_matrix, ConfusionMatrixDisplay, accuracy_score, classification_report, recall_score\n",
        "\n",
        "test = model.predict(np_image_list_test)\n",
        "\n",
        "predicted_labels = []\n",
        "correct_labels = []\n",
        "for i in range (len(test)):\n",
        "  predicted_labels.append(np.argmax(test[i]))\n",
        "\n",
        "for i in range (len(image_labels_test)):\n",
        "  correct_labels.append(np.argmax(image_labels_test[i]))\n",
        "\n",
        "\n",
        "confusion_matrix = confusion_matrix(correct_labels, predicted_labels)\n",
        "disp = ConfusionMatrixDisplay(confusion_matrix=confusion_matrix)  \n",
        "disp.plot()\n",
        "plt.show()\n",
        "print('--------')\n",
        "FP = confusion_matrix.sum(axis=0) - np.diag(confusion_matrix)  \n",
        "FN = confusion_matrix.sum(axis=1) - np.diag(confusion_matrix)\n",
        "TP = np.diag(confusion_matrix)\n",
        "TN = confusion_matrix.sum() - (FP + FN + TP)\n",
        "\n",
        "# Sensitivity, hit rate, recall, or true positive rate\n",
        "TPR = TP/(TP+FN)\n",
        "# Specificity or true negative rate\n",
        "TNR = TN/(TN+FP) \n",
        "# Overall accuracy\n",
        "ACC = (TP+TN)/(TP+FP+FN+TN)\n",
        "\n",
        "print(TP)\n",
        "print(TN)\n",
        "print(FP)\n",
        "print(FN)\n",
        "print('--------')\n",
        "print(ACC)\n",
        "print(TPR)\n",
        "print(TNR)\n",
        "print('--------')\n",
        "\n",
        "TP = sum(TP)\n",
        "TN = sum(TN)\n",
        "FP = sum(FP)\n",
        "FN = sum(FN)\n",
        "\n",
        "# Sensitivity, hit rate, recall, or true positive rate\n",
        "TPR = TP/(TP+FN)\n",
        "# Specificity or true negative rate\n",
        "TNR = TN/(TN+FP) \n",
        "# Overall accuracy\n",
        "ACC = (TP+TN)/(TP+FP+FN+TN)\n",
        "\n",
        "print(TP)\n",
        "print(TN)\n",
        "print(FP)\n",
        "print(FN)\n",
        "print('--------')\n",
        "print(ACC)\n",
        "print(TPR)\n",
        "print(TNR)"
      ],
      "metadata": {
        "colab": {
          "base_uri": "https://localhost:8080/",
          "height": 591
        },
        "id": "xufCN02P5v4A",
        "outputId": "2e9a82a2-ebd8-4c74-fced-3a15d105e6e7"
      },
      "execution_count": 15,
      "outputs": [
        {
          "output_type": "display_data",
          "data": {
            "text/plain": [
              "<Figure size 432x288 with 2 Axes>"
            ],
            "image/png": "[encoded data removed]"
          },
          "metadata": {
            "needs_background": "light"
          }
        },
        {
          "output_type": "stream",
          "name": "stdout",
          "text": [
            "--------\n",
            "[ 1  5 15 36]\n",
            "[91 86 61 39]\n",
            "[ 7  8 17 21]\n",
            "[11 11 17 14]\n",
            "--------\n",
            "[0.83636364 0.82727273 0.69090909 0.68181818]\n",
            "[0.08333333 0.3125     0.46875    0.72      ]\n",
            "[0.92857143 0.91489362 0.78205128 0.65      ]\n",
            "--------\n",
            "57\n",
            "277\n",
            "53\n",
            "53\n",
            "--------\n",
            "0.759090909090909\n",
            "0.5181818181818182\n",
            "0.8393939393939394\n"
          ]
        }
      ]
    },
    {
      "cell_type": "markdown",
      "metadata": {
        "id": "bTgk1-sdzmgy"
      },
      "source": [
        "**Validating** Network"
      ]
    },
    {
      "cell_type": "code",
      "source": [
        "\n"
      ],
      "metadata": {
        "id": "d_NBE4KkWuhu"
      },
      "execution_count": 15,
      "outputs": []
    },
    {
      "cell_type": "markdown",
      "source": [
        "**Testing** Network"
      ],
      "metadata": {
        "id": "saJYjKqX9tRL"
      }
    },
    {
      "cell_type": "code",
      "source": [
        "\n"
      ],
      "metadata": {
        "id": "A7DR52hmTc75"
      },
      "execution_count": 15,
      "outputs": []
    },
    {
      "cell_type": "code",
      "source": [
        "test_img = cv2.imread('/content/Datasets/fold3/Test/apel_sehat/apel_sehat (1).jpg')\n",
        "\n",
        "plt.imshow(test_img)\n",
        "test_img = test_img / 255\n",
        "test_img = np.expand_dims(test_img, axis=0)\n",
        "pr=model.predict(test_img)\n",
        "\n",
        "print(pr)\n",
        "output = label_binarizer.inverse_transform(pr)\n",
        "print(output)"
      ],
      "metadata": {
        "colab": {
          "base_uri": "https://localhost:8080/",
          "height": 303
        },
        "id": "zkMI6CwJArvo",
        "outputId": "68bc99ac-1271-48af-ab76-886a7adde903"
      },
      "execution_count": 16,
      "outputs": [
        {
          "output_type": "stream",
          "name": "stdout",
          "text": [
            "[[1.3067054e-03 3.7104877e-05 2.4205862e-02 9.7445041e-01]]\n",
            "['apel_sehat']\n"
          ]
        },
        {
          "output_type": "display_data",
          "data": {
            "text/plain": [
              "<Figure size 432x288 with 1 Axes>"
            ],
            "image/png": "[encoded data removed]"
          },
          "metadata": {
            "needs_background": "light"
          }
        }
      ]
    },
    {
      "cell_type": "code",
      "source": [
        "# save the model to disk\n",
        "#print(\"[INFO] Saving model...\")\n",
        "#pickle.dump(model,open('cnn_model.pkl', 'wb'))\n",
        "#model.save('/content/fold1.h5')"
      ],
      "metadata": {
        "id": "Wr_b8qBuCAIS"
      },
      "execution_count": 17,
      "outputs": []
    }
  ]
}