{
  "nbformat": 4,
  "nbformat_minor": 0,
  "metadata": {
    "accelerator": "GPU",
    "colab": {
      "name": "Kodingan Skripsi 3",
      "provenance": [],
      "collapsed_sections": [],
      "include_colab_link": true
    },
    "kernelspec": {
      "display_name": "Python 3",
      "language": "python",
      "name": "python3"
    },
    "language_info": {
      "codemirror_mode": {
        "name": "ipython",
        "version": 3
      },
      "file_extension": ".py",
      "mimetype": "text/x-python",
      "name": "python",
      "nbconvert_exporter": "python",
      "pygments_lexer": "ipython3",
      "version": "3.6.6"
    }
  },
  "cells": [
    {
      "cell_type": "markdown",
      "metadata": {
        "id": "view-in-github",
        "colab_type": "text"
      },
      "source": [
        "<a href=\"https://colab.research.google.com/github/TaufiqIdrus/Python-Projects/blob/master/25_fold3.ipynb\" target=\"_parent\"><img src=\"https://colab.research.google.com/assets/colab-badge.svg\" alt=\"Open In Colab\"/></a>"
      ]
    },
    {
      "cell_type": "markdown",
      "metadata": {
        "id": "yJT_kQA2lITS"
      },
      "source": [
        "**Identifikasi Penyakit Pada Tanaman Apel menggunakan Convolutional Neural Network**"
      ]
    },
    {
      "cell_type": "code",
      "metadata": {
        "id": "xXeOaYTUzmgT"
      },
      "source": [
        "import numpy as np\n",
        "import pickle\n",
        "import os\n",
        "import cv2\n",
        "import tensorflow as tf\n",
        "import keras\n",
        "from os import listdir\n",
        "from sklearn.preprocessing import LabelBinarizer\n",
        "from keras.models import Sequential\n",
        "from keras.layers.convolutional import Conv2D\n",
        "from keras.layers.convolutional import MaxPooling2D\n",
        "from keras.layers.core import Activation, Flatten, Dropout, Dense\n",
        "from keras import backend as K\n",
        "from tensorflow.keras.optimizers import Adam\n",
        "from keras.preprocessing import image\n",
        "import matplotlib.pyplot as plt\n",
        "from sklearn.datasets import make_classification\n",
        "from numpy import mean\n"
      ],
      "execution_count": 1,
      "outputs": []
    },
    {
      "cell_type": "markdown",
      "metadata": {
        "id": "fp8C0d28lQok"
      },
      "source": [
        "Importing and Preparing Dataset"
      ]
    },
    {
      "cell_type": "code",
      "metadata": {
        "id": "_0xehllADlUs",
        "colab": {
          "base_uri": "https://localhost:8080/"
        },
        "outputId": "a842421a-ef30-4b7a-cefd-cf36b26d800c"
      },
      "source": [
        "!pip install pyunpack\n",
        "!pip install patool\n",
        "from pyunpack import Archive\n",
        "Archive('/content/fold3.rar').extractall('/content/Datasets/')\n",
        "iterasi = 3\n",
        "width=60\n",
        "height=60\n",
        "default_image_size = tuple((height, width))\n",
        "directory_root_train = '/content/Datasets/fold3/Train'\n",
        "directory_root_validation = '/content/Datasets/fold3/Validation'\n",
        "directory_root_test = '/content/Datasets/fold3/Test'\n",
        "image_size = 0\n",
        "depth=3"
      ],
      "execution_count": 2,
      "outputs": [
        {
          "output_type": "stream",
          "name": "stdout",
          "text": [
            "Looking in indexes: https://pypi.org/simple, https://us-python.pkg.dev/colab-wheels/public/simple/\n",
            "Collecting pyunpack\n",
            "  Downloading pyunpack-0.3-py2.py3-none-any.whl (4.1 kB)\n",
            "Collecting entrypoint2\n",
            "  Downloading entrypoint2-1.1-py2.py3-none-any.whl (9.9 kB)\n",
            "Collecting easyprocess\n",
            "  Downloading EasyProcess-1.1-py3-none-any.whl (8.7 kB)\n",
            "Installing collected packages: entrypoint2, easyprocess, pyunpack\n",
            "Successfully installed easyprocess-1.1 entrypoint2-1.1 pyunpack-0.3\n",
            "Looking in indexes: https://pypi.org/simple, https://us-python.pkg.dev/colab-wheels/public/simple/\n",
            "Collecting patool\n",
            "  Downloading patool-1.12-py2.py3-none-any.whl (77 kB)\n",
            "\u001b[K     |████████████████████████████████| 77 kB 5.4 MB/s \n",
            "\u001b[?25hInstalling collected packages: patool\n",
            "Successfully installed patool-1.12\n"
          ]
        }
      ]
    },
    {
      "cell_type": "code",
      "metadata": {
        "id": "KbAwJJTpzmge"
      },
      "source": [
        "def convert_image_to_array(image_dir):\n",
        "    try:\n",
        "        image = cv2.imread(image_dir)\n",
        "        if image is not None :\n",
        "            image = cv2.resize(image, default_image_size)   \n",
        "            return keras.preprocessing.image.img_to_array(image)\n",
        "        else :\n",
        "            return np.array([])\n",
        "    except Exception as e:\n",
        "        print(f\"Error : {e}\")\n",
        "        return None"
      ],
      "execution_count": 3,
      "outputs": []
    },
    {
      "cell_type": "markdown",
      "source": [
        "Converting **Training** Data to Array"
      ],
      "metadata": {
        "id": "bgXxUMO2cI_D"
      }
    },
    {
      "cell_type": "code",
      "metadata": {
        "id": "Erz6IjKXzmgg",
        "colab": {
          "base_uri": "https://localhost:8080/"
        },
        "outputId": "0b434439-c3ef-4318-b391-69a45964e018"
      },
      "source": [
        "image_list_train, label_list_train = [], []\n",
        "try:\n",
        "    print(\"[INFO] Loading images ...\")\n",
        "    root_dir = listdir(directory_root_train)\n",
        "\n",
        "    for plant_disease_folder in root_dir:\n",
        "        print(f\"[INFO] Processing {plant_disease_folder} ...\")\n",
        "        plant_disease_image_list = listdir(f\"{directory_root_train}/{plant_disease_folder}/\")\n",
        "      \n",
        "        for image in plant_disease_image_list:\n",
        "            image_directory = f\"{directory_root_train}/{plant_disease_folder}/{image}\"\n",
        "\n",
        "            if image_directory.endswith(\".jpg\") == True or image_directory.endswith(\".JPG\") == True:\n",
        "                image_list_train.append(convert_image_to_array(image_directory))\n",
        "                label_list_train.append(plant_disease_folder)\n",
        "    print(\"[INFO] Image loading completed\")\n",
        "\n",
        "except Exception as e:\n",
        "    print(f\"Error : {e}\")\n",
        "\n",
        "#image labeling\n",
        "image_size = len(image_list_train)\n",
        "label_binarizer = LabelBinarizer()\n",
        "image_labels_train = label_binarizer.fit_transform(label_list_train)\n",
        "pickle.dump(label_binarizer,open('label_transform_train.pkl', 'wb'))\n",
        "n_classes = len(label_binarizer.classes_)\n",
        "np_image_list_train = np.array(image_list_train, dtype=np.float16) / 255.0"
      ],
      "execution_count": 4,
      "outputs": [
        {
          "output_type": "stream",
          "name": "stdout",
          "text": [
            "[INFO] Loading images ...\n",
            "[INFO] Processing apel_sehat ...\n",
            "[INFO] Processing apel_bercak_daun ...\n",
            "[INFO] Processing apel_cacar_daun ...\n",
            "[INFO] Processing apel_busuk_buah ...\n",
            "[INFO] Image loading completed\n"
          ]
        }
      ]
    },
    {
      "cell_type": "markdown",
      "source": [
        "Converting **Validation** Data to Array"
      ],
      "metadata": {
        "id": "7eEMGiqRd_E4"
      }
    },
    {
      "cell_type": "code",
      "source": [
        "image_list_validation, label_list_validation = [], []\n",
        "try:\n",
        "    print(\"[INFO] Loading images ...\")\n",
        "    root_dir = listdir(directory_root_validation)\n",
        "\n",
        "    for plant_disease_folder in root_dir:\n",
        "        print(f\"[INFO] Processing {plant_disease_folder} ...\")\n",
        "        plant_disease_image_list = listdir(f\"{directory_root_validation}/{plant_disease_folder}/\")\n",
        "      \n",
        "        for image in plant_disease_image_list:\n",
        "            image_directory = f\"{directory_root_validation}/{plant_disease_folder}/{image}\"\n",
        "\n",
        "            if image_directory.endswith(\".jpg\") == True or image_directory.endswith(\".JPG\") == True:\n",
        "                image_list_validation.append(convert_image_to_array(image_directory))\n",
        "                label_list_validation.append(plant_disease_folder)\n",
        "    print(\"[INFO] Image loading completed\")\n",
        "\n",
        "except Exception as e:\n",
        "    print(f\"Error : {e}\")\n",
        "\n",
        "#image labeling\n",
        "image_size = len(image_list_validation)\n",
        "label_binarizer = LabelBinarizer()\n",
        "image_labels_validation = label_binarizer.fit_transform(label_list_validation)\n",
        "pickle.dump(label_binarizer,open('label_transform_validation.pkl', 'wb'))\n",
        "n_classes = len(label_binarizer.classes_)\n",
        "np_image_list_validation = np.array(image_list_validation, dtype=np.float16) / 255.0"
      ],
      "metadata": {
        "id": "wfHDdR0ZeEuU",
        "colab": {
          "base_uri": "https://localhost:8080/"
        },
        "outputId": "ad755a7d-9427-4bb3-fd6e-95130f26ec60"
      },
      "execution_count": 5,
      "outputs": [
        {
          "output_type": "stream",
          "name": "stdout",
          "text": [
            "[INFO] Loading images ...\n",
            "[INFO] Processing apel_sehat ...\n",
            "[INFO] Processing apel_bercak_daun ...\n",
            "[INFO] Processing apel_cacar_daun ...\n",
            "[INFO] Processing apel_busuk_buah ...\n",
            "[INFO] Image loading completed\n"
          ]
        }
      ]
    },
    {
      "cell_type": "markdown",
      "source": [
        "Converting **Testing** Data to Array"
      ],
      "metadata": {
        "id": "brwWyZVncTdg"
      }
    },
    {
      "cell_type": "code",
      "metadata": {
        "id": "uNPby5UMcaWY",
        "colab": {
          "base_uri": "https://localhost:8080/"
        },
        "outputId": "ba9e9375-ca7b-402a-913c-f0d6c67cc57c"
      },
      "source": [
        "image_list_test, label_list_test = [], []\n",
        "try:\n",
        "    print(\"[INFO] Loading images ...\")\n",
        "    root_dir = listdir(directory_root_test)\n",
        "\n",
        "    for plant_disease_folder in root_dir:\n",
        "        print(f\"[INFO] Processing {plant_disease_folder} ...\")\n",
        "        plant_disease_image_list = listdir(f\"{directory_root_test}/{plant_disease_folder}/\")\n",
        "      \n",
        "        for image in plant_disease_image_list:\n",
        "            image_directory = f\"{directory_root_test}/{plant_disease_folder}/{image}\"\n",
        "\n",
        "            if image_directory.endswith(\".jpg\") == True or image_directory.endswith(\".JPG\") == True:\n",
        "                image_list_test.append(convert_image_to_array(image_directory))\n",
        "                label_list_test.append(plant_disease_folder)\n",
        "    print(\"[INFO] Image loading completed\")\n",
        "\n",
        "except Exception as e:\n",
        "    print(f\"Error : {e}\")\n",
        "\n",
        "#image labeling\n",
        "image_size = len(image_list_test)\n",
        "label_binarizer = LabelBinarizer()\n",
        "image_labels_test = label_binarizer.fit_transform(label_list_test)\n",
        "pickle.dump(label_binarizer,open('label_transform_test.pkl', 'wb'))\n",
        "n_classes = len(label_binarizer.classes_)\n",
        "np_image_list_test = np.array(image_list_test, dtype=np.float16) / 255.0"
      ],
      "execution_count": 6,
      "outputs": [
        {
          "output_type": "stream",
          "name": "stdout",
          "text": [
            "[INFO] Loading images ...\n",
            "[INFO] Processing apel_sehat ...\n",
            "[INFO] Processing apel_bercak_daun ...\n",
            "[INFO] Processing apel_cacar_daun ...\n",
            "[INFO] Processing apel_busuk_buah ...\n",
            "[INFO] Image loading completed\n"
          ]
        }
      ]
    },
    {
      "cell_type": "markdown",
      "metadata": {
        "id": "jYBTFN0CnAi7"
      },
      "source": [
        "Data Augmenting Initialization"
      ]
    },
    {
      "cell_type": "code",
      "metadata": {
        "id": "TLMxMK2Tzmgr"
      },
      "source": [
        "aug = keras.preprocessing.image.ImageDataGenerator(\n",
        "    rotation_range=25, \n",
        "    width_shift_range=0.1,\n",
        "    height_shift_range=0.1, \n",
        "    shear_range=0.2, \n",
        "    zoom_range=0.2,\n",
        "    horizontal_flip=True, \n",
        "    fill_mode=\"nearest\")"
      ],
      "execution_count": 7,
      "outputs": []
    },
    {
      "cell_type": "markdown",
      "metadata": {
        "id": "H1BfRyYNnGv_"
      },
      "source": [
        "Creating CNN Model"
      ]
    },
    {
      "cell_type": "code",
      "metadata": {
        "id": "WmLX4wm8zmgs"
      },
      "source": [
        "model = keras.models.Sequential()\n",
        "inputShape = (height, width, depth)\n",
        "\n",
        "model.add(Conv2D(20, (5, 5), padding=\"same\",input_shape=inputShape))\n",
        "model.add(Activation(\"relu\"))\n",
        "\n",
        "model.add(MaxPooling2D(pool_size=(2, 2), strides=2))\n",
        "\n",
        "model.add(Conv2D(50, (5, 5), padding=\"same\"))\n",
        "model.add(Activation(\"relu\"))\n",
        "\n",
        "model.add(MaxPooling2D(pool_size=(2, 2),strides=2))\n",
        "\n",
        "model.add(Flatten())\n",
        "\n",
        "model.add(Dense(500))\n",
        "model.add(Activation(\"relu\"))\n",
        "\n",
        "model.add(Dense(4))\n",
        "model.add(Activation(\"softmax\"))"
      ],
      "execution_count": 8,
      "outputs": []
    },
    {
      "cell_type": "code",
      "source": [
        "#model.summary()"
      ],
      "metadata": {
        "id": "RQIgaph8hW06"
      },
      "execution_count": 9,
      "outputs": []
    },
    {
      "cell_type": "code",
      "source": [
        "#from PIL import Image\n",
        "#from keras.utils.vis_utils import plot_model\n",
        "#plot_model(model, to_file='cnn_model.png', show_shapes=True, show_layer_names=True)\n",
        "#display(Image.open('cnn_model.png'))"
      ],
      "metadata": {
        "id": "T05gPuu1GudW"
      },
      "execution_count": 10,
      "outputs": []
    },
    {
      "cell_type": "markdown",
      "metadata": {
        "id": "Zfsu3lVfnXFG"
      },
      "source": [
        "**Training** Network"
      ]
    },
    {
      "cell_type": "code",
      "metadata": {
        "id": "rvwKwe3Lzmgv",
        "colab": {
          "base_uri": "https://localhost:8080/"
        },
        "outputId": "9754e15a-5054-4d11-94a7-ef7417e34761"
      },
      "source": [
        "EPOCHS = 200\n",
        "INIT_LR = 1e-3\n",
        "BS = 8\n",
        "\n",
        "with tf.device('/GPU:0'):\n",
        "  opt = Adam(learning_rate=INIT_LR, decay=INIT_LR / EPOCHS)\n",
        "  model.compile(loss=\"categorical_crossentropy\", optimizer=opt,metrics=[\"Accuracy\", \"FalseNegatives\", \"FalsePositives\", \"TrueNegatives\", \"TruePositives\"])\n",
        "  \n",
        "  history = model.fit(\n",
        "      aug.flow(np_image_list_train, image_labels_train, batch_size=BS),\n",
        "      validation_data=(np_image_list_validation, image_labels_validation),\n",
        "      steps_per_epoch=len(np_image_list_train) // BS,\n",
        "      epochs=EPOCHS, \n",
        "      verbose=1,\n",
        "      )\n"
      ],
      "execution_count": 11,
      "outputs": [
        {
          "output_type": "stream",
          "name": "stdout",
          "text": [
            "Epoch 1/200\n",
            "44/44 [==============================] - 18s 70ms/step - loss: 1.3168 - Accuracy: 0.4109 - false_negatives: 305.0000 - false_positives: 37.0000 - true_negatives: 1007.0000 - true_positives: 43.0000 - val_loss: 1.1299 - val_Accuracy: 0.4545 - val_false_negatives: 51.0000 - val_false_positives: 3.0000 - val_true_negatives: 261.0000 - val_true_positives: 37.0000\n",
            "Epoch 2/200\n",
            "44/44 [==============================] - 1s 22ms/step - loss: 1.2038 - Accuracy: 0.5086 - false_negatives: 275.0000 - false_positives: 34.0000 - true_negatives: 1010.0000 - true_positives: 73.0000 - val_loss: 0.9903 - val_Accuracy: 0.5227 - val_false_negatives: 48.0000 - val_false_positives: 9.0000 - val_true_negatives: 255.0000 - val_true_positives: 40.0000\n",
            "Epoch 3/200\n",
            "44/44 [==============================] - 1s 15ms/step - loss: 1.0732 - Accuracy: 0.5632 - false_negatives: 235.0000 - false_positives: 38.0000 - true_negatives: 1006.0000 - true_positives: 113.0000 - val_loss: 0.9687 - val_Accuracy: 0.6136 - val_false_negatives: 48.0000 - val_false_positives: 19.0000 - val_true_negatives: 245.0000 - val_true_positives: 40.0000\n",
            "Epoch 4/200\n",
            "44/44 [==============================] - 1s 15ms/step - loss: 1.0799 - Accuracy: 0.5661 - false_negatives: 225.0000 - false_positives: 46.0000 - true_negatives: 998.0000 - true_positives: 123.0000 - val_loss: 0.9013 - val_Accuracy: 0.6818 - val_false_negatives: 43.0000 - val_false_positives: 15.0000 - val_true_negatives: 249.0000 - val_true_positives: 45.0000\n",
            "Epoch 5/200\n",
            "44/44 [==============================] - 1s 15ms/step - loss: 0.9744 - Accuracy: 0.6379 - false_negatives: 220.0000 - false_positives: 45.0000 - true_negatives: 999.0000 - true_positives: 128.0000 - val_loss: 0.6732 - val_Accuracy: 0.7614 - val_false_negatives: 34.0000 - val_false_positives: 6.0000 - val_true_negatives: 258.0000 - val_true_positives: 54.0000\n",
            "Epoch 6/200\n",
            "44/44 [==============================] - 1s 14ms/step - loss: 1.0054 - Accuracy: 0.6264 - false_negatives: 212.0000 - false_positives: 52.0000 - true_negatives: 992.0000 - true_positives: 136.0000 - val_loss: 0.7495 - val_Accuracy: 0.6818 - val_false_negatives: 42.0000 - val_false_positives: 13.0000 - val_true_negatives: 251.0000 - val_true_positives: 46.0000\n",
            "Epoch 7/200\n",
            "44/44 [==============================] - 1s 15ms/step - loss: 1.0597 - Accuracy: 0.5460 - false_negatives: 221.0000 - false_positives: 60.0000 - true_negatives: 984.0000 - true_positives: 127.0000 - val_loss: 0.8521 - val_Accuracy: 0.7614 - val_false_negatives: 44.0000 - val_false_positives: 9.0000 - val_true_negatives: 255.0000 - val_true_positives: 44.0000\n",
            "Epoch 8/200\n",
            "44/44 [==============================] - 1s 15ms/step - loss: 0.9711 - Accuracy: 0.5948 - false_negatives: 207.0000 - false_positives: 42.0000 - true_negatives: 1002.0000 - true_positives: 141.0000 - val_loss: 0.6384 - val_Accuracy: 0.7955 - val_false_negatives: 24.0000 - val_false_positives: 11.0000 - val_true_negatives: 253.0000 - val_true_positives: 64.0000\n",
            "Epoch 9/200\n",
            "44/44 [==============================] - 1s 15ms/step - loss: 0.9867 - Accuracy: 0.6063 - false_negatives: 205.0000 - false_positives: 64.0000 - true_negatives: 980.0000 - true_positives: 143.0000 - val_loss: 0.7927 - val_Accuracy: 0.7045 - val_false_negatives: 42.0000 - val_false_positives: 5.0000 - val_true_negatives: 259.0000 - val_true_positives: 46.0000\n",
            "Epoch 10/200\n",
            "44/44 [==============================] - 1s 15ms/step - loss: 0.9982 - Accuracy: 0.5948 - false_negatives: 215.0000 - false_positives: 44.0000 - true_negatives: 1000.0000 - true_positives: 133.0000 - val_loss: 0.6847 - val_Accuracy: 0.7386 - val_false_negatives: 33.0000 - val_false_positives: 10.0000 - val_true_negatives: 254.0000 - val_true_positives: 55.0000\n",
            "Epoch 11/200\n",
            "44/44 [==============================] - 1s 15ms/step - loss: 0.9304 - Accuracy: 0.6351 - false_negatives: 179.0000 - false_positives: 66.0000 - true_negatives: 978.0000 - true_positives: 169.0000 - val_loss: 0.6174 - val_Accuracy: 0.8068 - val_false_negatives: 27.0000 - val_false_positives: 8.0000 - val_true_negatives: 256.0000 - val_true_positives: 61.0000\n",
            "Epoch 12/200\n",
            "44/44 [==============================] - 1s 15ms/step - loss: 0.9380 - Accuracy: 0.6351 - false_negatives: 177.0000 - false_positives: 62.0000 - true_negatives: 982.0000 - true_positives: 171.0000 - val_loss: 0.7171 - val_Accuracy: 0.7727 - val_false_negatives: 39.0000 - val_false_positives: 7.0000 - val_true_negatives: 257.0000 - val_true_positives: 49.0000\n",
            "Epoch 13/200\n",
            "44/44 [==============================] - 1s 15ms/step - loss: 0.9794 - Accuracy: 0.6264 - false_negatives: 202.0000 - false_positives: 54.0000 - true_negatives: 990.0000 - true_positives: 146.0000 - val_loss: 0.6923 - val_Accuracy: 0.7841 - val_false_negatives: 25.0000 - val_false_positives: 10.0000 - val_true_negatives: 254.0000 - val_true_positives: 63.0000\n",
            "Epoch 14/200\n",
            "44/44 [==============================] - 1s 14ms/step - loss: 0.9223 - Accuracy: 0.6523 - false_negatives: 173.0000 - false_positives: 57.0000 - true_negatives: 987.0000 - true_positives: 175.0000 - val_loss: 0.6791 - val_Accuracy: 0.7500 - val_false_negatives: 44.0000 - val_false_positives: 5.0000 - val_true_negatives: 259.0000 - val_true_positives: 44.0000\n",
            "Epoch 15/200\n",
            "44/44 [==============================] - 1s 15ms/step - loss: 0.8835 - Accuracy: 0.6552 - false_negatives: 159.0000 - false_positives: 57.0000 - true_negatives: 987.0000 - true_positives: 189.0000 - val_loss: 0.5895 - val_Accuracy: 0.7614 - val_false_negatives: 26.0000 - val_false_positives: 13.0000 - val_true_negatives: 251.0000 - val_true_positives: 62.0000\n",
            "Epoch 16/200\n",
            "44/44 [==============================] - 1s 16ms/step - loss: 0.8734 - Accuracy: 0.6724 - false_negatives: 170.0000 - false_positives: 61.0000 - true_negatives: 983.0000 - true_positives: 178.0000 - val_loss: 0.6193 - val_Accuracy: 0.7614 - val_false_negatives: 29.0000 - val_false_positives: 11.0000 - val_true_negatives: 253.0000 - val_true_positives: 59.0000\n",
            "Epoch 17/200\n",
            "44/44 [==============================] - 1s 26ms/step - loss: 0.8560 - Accuracy: 0.6695 - false_negatives: 156.0000 - false_positives: 60.0000 - true_negatives: 984.0000 - true_positives: 192.0000 - val_loss: 0.5533 - val_Accuracy: 0.7727 - val_false_negatives: 26.0000 - val_false_positives: 10.0000 - val_true_negatives: 254.0000 - val_true_positives: 62.0000\n",
            "Epoch 18/200\n",
            "44/44 [==============================] - 1s 23ms/step - loss: 0.8636 - Accuracy: 0.6552 - false_negatives: 166.0000 - false_positives: 55.0000 - true_negatives: 989.0000 - true_positives: 182.0000 - val_loss: 0.5130 - val_Accuracy: 0.7841 - val_false_negatives: 21.0000 - val_false_positives: 10.0000 - val_true_negatives: 254.0000 - val_true_positives: 67.0000\n",
            "Epoch 19/200\n",
            "44/44 [==============================] - 1s 15ms/step - loss: 0.8779 - Accuracy: 0.6580 - false_negatives: 150.0000 - false_positives: 75.0000 - true_negatives: 969.0000 - true_positives: 198.0000 - val_loss: 0.5715 - val_Accuracy: 0.7955 - val_false_negatives: 25.0000 - val_false_positives: 6.0000 - val_true_negatives: 258.0000 - val_true_positives: 63.0000\n",
            "Epoch 20/200\n",
            "44/44 [==============================] - 1s 15ms/step - loss: 0.9162 - Accuracy: 0.6351 - false_negatives: 187.0000 - false_positives: 50.0000 - true_negatives: 994.0000 - true_positives: 161.0000 - val_loss: 0.5206 - val_Accuracy: 0.8068 - val_false_negatives: 22.0000 - val_false_positives: 9.0000 - val_true_negatives: 255.0000 - val_true_positives: 66.0000\n",
            "Epoch 21/200\n",
            "44/44 [==============================] - 1s 15ms/step - loss: 0.8511 - Accuracy: 0.6810 - false_negatives: 157.0000 - false_positives: 64.0000 - true_negatives: 980.0000 - true_positives: 191.0000 - val_loss: 0.6942 - val_Accuracy: 0.7273 - val_false_negatives: 31.0000 - val_false_positives: 15.0000 - val_true_negatives: 249.0000 - val_true_positives: 57.0000\n",
            "Epoch 22/200\n",
            "44/44 [==============================] - 1s 15ms/step - loss: 0.8585 - Accuracy: 0.6810 - false_negatives: 152.0000 - false_positives: 58.0000 - true_negatives: 986.0000 - true_positives: 196.0000 - val_loss: 0.5447 - val_Accuracy: 0.8182 - val_false_negatives: 21.0000 - val_false_positives: 7.0000 - val_true_negatives: 257.0000 - val_true_positives: 67.0000\n",
            "Epoch 23/200\n",
            "44/44 [==============================] - 1s 15ms/step - loss: 0.8665 - Accuracy: 0.6724 - false_negatives: 152.0000 - false_positives: 66.0000 - true_negatives: 978.0000 - true_positives: 196.0000 - val_loss: 0.6657 - val_Accuracy: 0.7500 - val_false_negatives: 32.0000 - val_false_positives: 12.0000 - val_true_negatives: 252.0000 - val_true_positives: 56.0000\n",
            "Epoch 24/200\n",
            "44/44 [==============================] - 1s 15ms/step - loss: 0.8176 - Accuracy: 0.6897 - false_negatives: 145.0000 - false_positives: 60.0000 - true_negatives: 984.0000 - true_positives: 203.0000 - val_loss: 0.5989 - val_Accuracy: 0.8068 - val_false_negatives: 22.0000 - val_false_positives: 6.0000 - val_true_negatives: 258.0000 - val_true_positives: 66.0000\n",
            "Epoch 25/200\n",
            "44/44 [==============================] - 1s 15ms/step - loss: 0.9644 - Accuracy: 0.6322 - false_negatives: 162.0000 - false_positives: 72.0000 - true_negatives: 972.0000 - true_positives: 186.0000 - val_loss: 0.7093 - val_Accuracy: 0.7727 - val_false_negatives: 26.0000 - val_false_positives: 13.0000 - val_true_negatives: 251.0000 - val_true_positives: 62.0000\n",
            "Epoch 26/200\n",
            "44/44 [==============================] - 1s 15ms/step - loss: 0.8524 - Accuracy: 0.6466 - false_negatives: 156.0000 - false_positives: 57.0000 - true_negatives: 987.0000 - true_positives: 192.0000 - val_loss: 0.5432 - val_Accuracy: 0.8068 - val_false_negatives: 21.0000 - val_false_positives: 9.0000 - val_true_negatives: 255.0000 - val_true_positives: 67.0000\n",
            "Epoch 27/200\n",
            "44/44 [==============================] - 1s 15ms/step - loss: 0.7809 - Accuracy: 0.6897 - false_negatives: 143.0000 - false_positives: 53.0000 - true_negatives: 991.0000 - true_positives: 205.0000 - val_loss: 0.5035 - val_Accuracy: 0.7955 - val_false_negatives: 22.0000 - val_false_positives: 9.0000 - val_true_negatives: 255.0000 - val_true_positives: 66.0000\n",
            "Epoch 28/200\n",
            "44/44 [==============================] - 1s 15ms/step - loss: 0.7991 - Accuracy: 0.6839 - false_negatives: 152.0000 - false_positives: 49.0000 - true_negatives: 995.0000 - true_positives: 196.0000 - val_loss: 0.5259 - val_Accuracy: 0.7955 - val_false_negatives: 18.0000 - val_false_positives: 11.0000 - val_true_negatives: 253.0000 - val_true_positives: 70.0000\n",
            "Epoch 29/200\n",
            "44/44 [==============================] - 1s 16ms/step - loss: 0.8035 - Accuracy: 0.6782 - false_negatives: 146.0000 - false_positives: 64.0000 - true_negatives: 980.0000 - true_positives: 202.0000 - val_loss: 0.5507 - val_Accuracy: 0.7955 - val_false_negatives: 19.0000 - val_false_positives: 10.0000 - val_true_negatives: 254.0000 - val_true_positives: 69.0000\n",
            "Epoch 30/200\n",
            "44/44 [==============================] - 1s 16ms/step - loss: 0.7987 - Accuracy: 0.6753 - false_negatives: 155.0000 - false_positives: 52.0000 - true_negatives: 992.0000 - true_positives: 193.0000 - val_loss: 0.5686 - val_Accuracy: 0.7955 - val_false_negatives: 22.0000 - val_false_positives: 9.0000 - val_true_negatives: 255.0000 - val_true_positives: 66.0000\n",
            "Epoch 31/200\n",
            "44/44 [==============================] - 1s 15ms/step - loss: 0.7640 - Accuracy: 0.6753 - false_negatives: 131.0000 - false_positives: 63.0000 - true_negatives: 981.0000 - true_positives: 217.0000 - val_loss: 0.5051 - val_Accuracy: 0.8182 - val_false_negatives: 21.0000 - val_false_positives: 10.0000 - val_true_negatives: 254.0000 - val_true_positives: 67.0000\n",
            "Epoch 32/200\n",
            "44/44 [==============================] - 1s 15ms/step - loss: 0.8153 - Accuracy: 0.6925 - false_negatives: 154.0000 - false_positives: 49.0000 - true_negatives: 995.0000 - true_positives: 194.0000 - val_loss: 0.4972 - val_Accuracy: 0.7955 - val_false_negatives: 20.0000 - val_false_positives: 8.0000 - val_true_negatives: 256.0000 - val_true_positives: 68.0000\n",
            "Epoch 33/200\n",
            "44/44 [==============================] - 1s 15ms/step - loss: 0.7940 - Accuracy: 0.6897 - false_negatives: 141.0000 - false_positives: 57.0000 - true_negatives: 987.0000 - true_positives: 207.0000 - val_loss: 0.5722 - val_Accuracy: 0.7955 - val_false_negatives: 21.0000 - val_false_positives: 12.0000 - val_true_negatives: 252.0000 - val_true_positives: 67.0000\n",
            "Epoch 34/200\n",
            "44/44 [==============================] - 1s 15ms/step - loss: 0.8039 - Accuracy: 0.6954 - false_negatives: 137.0000 - false_positives: 65.0000 - true_negatives: 979.0000 - true_positives: 211.0000 - val_loss: 0.5610 - val_Accuracy: 0.7955 - val_false_negatives: 20.0000 - val_false_positives: 9.0000 - val_true_negatives: 255.0000 - val_true_positives: 68.0000\n",
            "Epoch 35/200\n",
            "44/44 [==============================] - 1s 16ms/step - loss: 0.7751 - Accuracy: 0.6868 - false_negatives: 132.0000 - false_positives: 66.0000 - true_negatives: 978.0000 - true_positives: 216.0000 - val_loss: 0.5455 - val_Accuracy: 0.7955 - val_false_negatives: 20.0000 - val_false_positives: 10.0000 - val_true_negatives: 254.0000 - val_true_positives: 68.0000\n",
            "Epoch 36/200\n",
            "44/44 [==============================] - 1s 15ms/step - loss: 0.8232 - Accuracy: 0.6925 - false_negatives: 151.0000 - false_positives: 53.0000 - true_negatives: 991.0000 - true_positives: 197.0000 - val_loss: 0.5428 - val_Accuracy: 0.8068 - val_false_negatives: 24.0000 - val_false_positives: 6.0000 - val_true_negatives: 258.0000 - val_true_positives: 64.0000\n",
            "Epoch 37/200\n",
            "44/44 [==============================] - 1s 15ms/step - loss: 0.7323 - Accuracy: 0.7213 - false_negatives: 130.0000 - false_positives: 56.0000 - true_negatives: 988.0000 - true_positives: 218.0000 - val_loss: 0.5901 - val_Accuracy: 0.7955 - val_false_negatives: 23.0000 - val_false_positives: 9.0000 - val_true_negatives: 255.0000 - val_true_positives: 65.0000\n",
            "Epoch 38/200\n",
            "44/44 [==============================] - 1s 15ms/step - loss: 0.7580 - Accuracy: 0.7098 - false_negatives: 142.0000 - false_positives: 54.0000 - true_negatives: 990.0000 - true_positives: 206.0000 - val_loss: 0.4794 - val_Accuracy: 0.7955 - val_false_negatives: 21.0000 - val_false_positives: 9.0000 - val_true_negatives: 255.0000 - val_true_positives: 67.0000\n",
            "Epoch 39/200\n",
            "44/44 [==============================] - 1s 15ms/step - loss: 0.7577 - Accuracy: 0.7069 - false_negatives: 140.0000 - false_positives: 52.0000 - true_negatives: 992.0000 - true_positives: 208.0000 - val_loss: 0.7790 - val_Accuracy: 0.7955 - val_false_negatives: 27.0000 - val_false_positives: 13.0000 - val_true_negatives: 251.0000 - val_true_positives: 61.0000\n",
            "Epoch 40/200\n",
            "44/44 [==============================] - 1s 15ms/step - loss: 0.7802 - Accuracy: 0.7011 - false_negatives: 139.0000 - false_positives: 63.0000 - true_negatives: 981.0000 - true_positives: 209.0000 - val_loss: 0.5704 - val_Accuracy: 0.8068 - val_false_negatives: 20.0000 - val_false_positives: 10.0000 - val_true_negatives: 254.0000 - val_true_positives: 68.0000\n",
            "Epoch 41/200\n",
            "44/44 [==============================] - 1s 16ms/step - loss: 0.7895 - Accuracy: 0.6810 - false_negatives: 151.0000 - false_positives: 51.0000 - true_negatives: 993.0000 - true_positives: 197.0000 - val_loss: 0.6191 - val_Accuracy: 0.8068 - val_false_negatives: 21.0000 - val_false_positives: 13.0000 - val_true_negatives: 251.0000 - val_true_positives: 67.0000\n",
            "Epoch 42/200\n",
            "44/44 [==============================] - 1s 15ms/step - loss: 0.7251 - Accuracy: 0.6839 - false_negatives: 131.0000 - false_positives: 59.0000 - true_negatives: 985.0000 - true_positives: 217.0000 - val_loss: 0.4699 - val_Accuracy: 0.8068 - val_false_negatives: 22.0000 - val_false_positives: 11.0000 - val_true_negatives: 253.0000 - val_true_positives: 66.0000\n",
            "Epoch 43/200\n",
            "44/44 [==============================] - 1s 15ms/step - loss: 0.7342 - Accuracy: 0.7328 - false_negatives: 135.0000 - false_positives: 53.0000 - true_negatives: 991.0000 - true_positives: 213.0000 - val_loss: 0.4834 - val_Accuracy: 0.8068 - val_false_negatives: 23.0000 - val_false_positives: 8.0000 - val_true_negatives: 256.0000 - val_true_positives: 65.0000\n",
            "Epoch 44/200\n",
            "44/44 [==============================] - 1s 15ms/step - loss: 0.7799 - Accuracy: 0.6609 - false_negatives: 137.0000 - false_positives: 68.0000 - true_negatives: 976.0000 - true_positives: 211.0000 - val_loss: 0.6680 - val_Accuracy: 0.7841 - val_false_negatives: 26.0000 - val_false_positives: 12.0000 - val_true_negatives: 252.0000 - val_true_positives: 62.0000\n",
            "Epoch 45/200\n",
            "44/44 [==============================] - 1s 15ms/step - loss: 0.7372 - Accuracy: 0.7069 - false_negatives: 138.0000 - false_positives: 57.0000 - true_negatives: 987.0000 - true_positives: 210.0000 - val_loss: 0.4562 - val_Accuracy: 0.8295 - val_false_negatives: 20.0000 - val_false_positives: 5.0000 - val_true_negatives: 259.0000 - val_true_positives: 68.0000\n",
            "Epoch 46/200\n",
            "44/44 [==============================] - 1s 15ms/step - loss: 0.7545 - Accuracy: 0.7299 - false_negatives: 141.0000 - false_positives: 53.0000 - true_negatives: 991.0000 - true_positives: 207.0000 - val_loss: 0.6112 - val_Accuracy: 0.7955 - val_false_negatives: 26.0000 - val_false_positives: 10.0000 - val_true_negatives: 254.0000 - val_true_positives: 62.0000\n",
            "Epoch 47/200\n",
            "44/44 [==============================] - 1s 15ms/step - loss: 0.7490 - Accuracy: 0.7155 - false_negatives: 139.0000 - false_positives: 50.0000 - true_negatives: 994.0000 - true_positives: 209.0000 - val_loss: 0.5420 - val_Accuracy: 0.7955 - val_false_negatives: 21.0000 - val_false_positives: 8.0000 - val_true_negatives: 256.0000 - val_true_positives: 67.0000\n",
            "Epoch 48/200\n",
            "44/44 [==============================] - 1s 15ms/step - loss: 0.7317 - Accuracy: 0.7155 - false_negatives: 124.0000 - false_positives: 54.0000 - true_negatives: 990.0000 - true_positives: 224.0000 - val_loss: 0.5523 - val_Accuracy: 0.8068 - val_false_negatives: 18.0000 - val_false_positives: 5.0000 - val_true_negatives: 259.0000 - val_true_positives: 70.0000\n",
            "Epoch 49/200\n",
            "44/44 [==============================] - 1s 15ms/step - loss: 0.6997 - Accuracy: 0.7155 - false_negatives: 125.0000 - false_positives: 57.0000 - true_negatives: 987.0000 - true_positives: 223.0000 - val_loss: 0.4927 - val_Accuracy: 0.8068 - val_false_negatives: 20.0000 - val_false_positives: 9.0000 - val_true_negatives: 255.0000 - val_true_positives: 68.0000\n",
            "Epoch 50/200\n",
            "44/44 [==============================] - 1s 15ms/step - loss: 0.7123 - Accuracy: 0.6983 - false_negatives: 134.0000 - false_positives: 60.0000 - true_negatives: 984.0000 - true_positives: 214.0000 - val_loss: 0.5563 - val_Accuracy: 0.7955 - val_false_negatives: 20.0000 - val_false_positives: 7.0000 - val_true_negatives: 257.0000 - val_true_positives: 68.0000\n",
            "Epoch 51/200\n",
            "44/44 [==============================] - 1s 15ms/step - loss: 0.7217 - Accuracy: 0.7155 - false_negatives: 126.0000 - false_positives: 47.0000 - true_negatives: 997.0000 - true_positives: 222.0000 - val_loss: 0.5898 - val_Accuracy: 0.8068 - val_false_negatives: 21.0000 - val_false_positives: 10.0000 - val_true_negatives: 254.0000 - val_true_positives: 67.0000\n",
            "Epoch 52/200\n",
            "44/44 [==============================] - 1s 15ms/step - loss: 0.7123 - Accuracy: 0.7184 - false_negatives: 131.0000 - false_positives: 54.0000 - true_negatives: 990.0000 - true_positives: 217.0000 - val_loss: 0.5646 - val_Accuracy: 0.8182 - val_false_negatives: 20.0000 - val_false_positives: 9.0000 - val_true_negatives: 255.0000 - val_true_positives: 68.0000\n",
            "Epoch 53/200\n",
            "44/44 [==============================] - 1s 16ms/step - loss: 0.6999 - Accuracy: 0.7385 - false_negatives: 125.0000 - false_positives: 54.0000 - true_negatives: 990.0000 - true_positives: 223.0000 - val_loss: 0.5224 - val_Accuracy: 0.7841 - val_false_negatives: 24.0000 - val_false_positives: 7.0000 - val_true_negatives: 257.0000 - val_true_positives: 64.0000\n",
            "Epoch 54/200\n",
            "44/44 [==============================] - 1s 15ms/step - loss: 0.7528 - Accuracy: 0.7188 - false_negatives: 132.0000 - false_positives: 60.0000 - true_negatives: 996.0000 - true_positives: 220.0000 - val_loss: 0.5086 - val_Accuracy: 0.8182 - val_false_negatives: 19.0000 - val_false_positives: 10.0000 - val_true_negatives: 254.0000 - val_true_positives: 69.0000\n",
            "Epoch 55/200\n",
            "44/44 [==============================] - 1s 16ms/step - loss: 0.6955 - Accuracy: 0.7184 - false_negatives: 124.0000 - false_positives: 56.0000 - true_negatives: 988.0000 - true_positives: 224.0000 - val_loss: 0.5606 - val_Accuracy: 0.8295 - val_false_negatives: 19.0000 - val_false_positives: 11.0000 - val_true_negatives: 253.0000 - val_true_positives: 69.0000\n",
            "Epoch 56/200\n",
            "44/44 [==============================] - 1s 15ms/step - loss: 0.6944 - Accuracy: 0.7356 - false_negatives: 128.0000 - false_positives: 45.0000 - true_negatives: 999.0000 - true_positives: 220.0000 - val_loss: 0.5166 - val_Accuracy: 0.8295 - val_false_negatives: 19.0000 - val_false_positives: 10.0000 - val_true_negatives: 254.0000 - val_true_positives: 69.0000\n",
            "Epoch 57/200\n",
            "44/44 [==============================] - 1s 15ms/step - loss: 0.7040 - Accuracy: 0.7040 - false_negatives: 125.0000 - false_positives: 60.0000 - true_negatives: 984.0000 - true_positives: 223.0000 - val_loss: 0.5780 - val_Accuracy: 0.7500 - val_false_negatives: 23.0000 - val_false_positives: 12.0000 - val_true_negatives: 252.0000 - val_true_positives: 65.0000\n",
            "Epoch 58/200\n",
            "44/44 [==============================] - 1s 15ms/step - loss: 0.6958 - Accuracy: 0.7299 - false_negatives: 126.0000 - false_positives: 50.0000 - true_negatives: 994.0000 - true_positives: 222.0000 - val_loss: 0.5016 - val_Accuracy: 0.7614 - val_false_negatives: 22.0000 - val_false_positives: 10.0000 - val_true_negatives: 254.0000 - val_true_positives: 66.0000\n",
            "Epoch 59/200\n",
            "44/44 [==============================] - 1s 16ms/step - loss: 0.7455 - Accuracy: 0.7184 - false_negatives: 135.0000 - false_positives: 54.0000 - true_negatives: 990.0000 - true_positives: 213.0000 - val_loss: 0.5641 - val_Accuracy: 0.8523 - val_false_negatives: 21.0000 - val_false_positives: 8.0000 - val_true_negatives: 256.0000 - val_true_positives: 67.0000\n",
            "Epoch 60/200\n",
            "44/44 [==============================] - 1s 15ms/step - loss: 0.7175 - Accuracy: 0.7126 - false_negatives: 131.0000 - false_positives: 49.0000 - true_negatives: 995.0000 - true_positives: 217.0000 - val_loss: 0.4767 - val_Accuracy: 0.8636 - val_false_negatives: 20.0000 - val_false_positives: 6.0000 - val_true_negatives: 258.0000 - val_true_positives: 68.0000\n",
            "Epoch 61/200\n",
            "44/44 [==============================] - 1s 15ms/step - loss: 0.7133 - Accuracy: 0.6954 - false_negatives: 131.0000 - false_positives: 60.0000 - true_negatives: 984.0000 - true_positives: 217.0000 - val_loss: 0.6063 - val_Accuracy: 0.8182 - val_false_negatives: 21.0000 - val_false_positives: 9.0000 - val_true_negatives: 255.0000 - val_true_positives: 67.0000\n",
            "Epoch 62/200\n",
            "44/44 [==============================] - 1s 15ms/step - loss: 0.7133 - Accuracy: 0.7299 - false_negatives: 126.0000 - false_positives: 52.0000 - true_negatives: 992.0000 - true_positives: 222.0000 - val_loss: 0.5121 - val_Accuracy: 0.8295 - val_false_negatives: 21.0000 - val_false_positives: 8.0000 - val_true_negatives: 256.0000 - val_true_positives: 67.0000\n",
            "Epoch 63/200\n",
            "44/44 [==============================] - 1s 15ms/step - loss: 0.6851 - Accuracy: 0.7414 - false_negatives: 125.0000 - false_positives: 49.0000 - true_negatives: 995.0000 - true_positives: 223.0000 - val_loss: 0.5112 - val_Accuracy: 0.8523 - val_false_negatives: 25.0000 - val_false_positives: 7.0000 - val_true_negatives: 257.0000 - val_true_positives: 63.0000\n",
            "Epoch 64/200\n",
            "44/44 [==============================] - 1s 15ms/step - loss: 0.7369 - Accuracy: 0.7471 - false_negatives: 125.0000 - false_positives: 57.0000 - true_negatives: 987.0000 - true_positives: 223.0000 - val_loss: 0.5134 - val_Accuracy: 0.8182 - val_false_negatives: 22.0000 - val_false_positives: 7.0000 - val_true_negatives: 257.0000 - val_true_positives: 66.0000\n",
            "Epoch 65/200\n",
            "44/44 [==============================] - 1s 16ms/step - loss: 0.6844 - Accuracy: 0.7356 - false_negatives: 124.0000 - false_positives: 52.0000 - true_negatives: 992.0000 - true_positives: 224.0000 - val_loss: 0.4702 - val_Accuracy: 0.8182 - val_false_negatives: 21.0000 - val_false_positives: 10.0000 - val_true_negatives: 254.0000 - val_true_positives: 67.0000\n",
            "Epoch 66/200\n",
            "44/44 [==============================] - 1s 16ms/step - loss: 0.6879 - Accuracy: 0.7328 - false_negatives: 120.0000 - false_positives: 55.0000 - true_negatives: 989.0000 - true_positives: 228.0000 - val_loss: 0.4555 - val_Accuracy: 0.8182 - val_false_negatives: 17.0000 - val_false_positives: 12.0000 - val_true_negatives: 252.0000 - val_true_positives: 71.0000\n",
            "Epoch 67/200\n",
            "44/44 [==============================] - 1s 15ms/step - loss: 0.6432 - Accuracy: 0.7471 - false_negatives: 121.0000 - false_positives: 51.0000 - true_negatives: 993.0000 - true_positives: 227.0000 - val_loss: 0.4715 - val_Accuracy: 0.8182 - val_false_negatives: 21.0000 - val_false_positives: 11.0000 - val_true_negatives: 253.0000 - val_true_positives: 67.0000\n",
            "Epoch 68/200\n",
            "44/44 [==============================] - 1s 15ms/step - loss: 0.7046 - Accuracy: 0.7184 - false_negatives: 124.0000 - false_positives: 58.0000 - true_negatives: 986.0000 - true_positives: 224.0000 - val_loss: 0.5215 - val_Accuracy: 0.7955 - val_false_negatives: 22.0000 - val_false_positives: 7.0000 - val_true_negatives: 257.0000 - val_true_positives: 66.0000\n",
            "Epoch 69/200\n",
            "44/44 [==============================] - 1s 16ms/step - loss: 0.6574 - Accuracy: 0.7500 - false_negatives: 119.0000 - false_positives: 47.0000 - true_negatives: 997.0000 - true_positives: 229.0000 - val_loss: 0.4475 - val_Accuracy: 0.8182 - val_false_negatives: 21.0000 - val_false_positives: 10.0000 - val_true_negatives: 254.0000 - val_true_positives: 67.0000\n",
            "Epoch 70/200\n",
            "44/44 [==============================] - 1s 15ms/step - loss: 0.6482 - Accuracy: 0.7356 - false_negatives: 120.0000 - false_positives: 57.0000 - true_negatives: 987.0000 - true_positives: 228.0000 - val_loss: 0.4916 - val_Accuracy: 0.7727 - val_false_negatives: 23.0000 - val_false_positives: 14.0000 - val_true_negatives: 250.0000 - val_true_positives: 65.0000\n",
            "Epoch 71/200\n",
            "44/44 [==============================] - 1s 15ms/step - loss: 0.6481 - Accuracy: 0.7529 - false_negatives: 116.0000 - false_positives: 49.0000 - true_negatives: 995.0000 - true_positives: 232.0000 - val_loss: 0.4924 - val_Accuracy: 0.8864 - val_false_negatives: 14.0000 - val_false_positives: 7.0000 - val_true_negatives: 257.0000 - val_true_positives: 74.0000\n",
            "Epoch 72/200\n",
            "44/44 [==============================] - 1s 15ms/step - loss: 0.6779 - Accuracy: 0.7529 - false_negatives: 110.0000 - false_positives: 64.0000 - true_negatives: 980.0000 - true_positives: 238.0000 - val_loss: 0.4211 - val_Accuracy: 0.8523 - val_false_negatives: 15.0000 - val_false_positives: 8.0000 - val_true_negatives: 256.0000 - val_true_positives: 73.0000\n",
            "Epoch 73/200\n",
            "44/44 [==============================] - 1s 15ms/step - loss: 0.6923 - Accuracy: 0.7385 - false_negatives: 114.0000 - false_positives: 63.0000 - true_negatives: 981.0000 - true_positives: 234.0000 - val_loss: 0.4403 - val_Accuracy: 0.8750 - val_false_negatives: 16.0000 - val_false_positives: 7.0000 - val_true_negatives: 257.0000 - val_true_positives: 72.0000\n",
            "Epoch 74/200\n",
            "44/44 [==============================] - 1s 15ms/step - loss: 0.6111 - Accuracy: 0.7615 - false_negatives: 107.0000 - false_positives: 47.0000 - true_negatives: 997.0000 - true_positives: 241.0000 - val_loss: 0.4709 - val_Accuracy: 0.8523 - val_false_negatives: 17.0000 - val_false_positives: 7.0000 - val_true_negatives: 257.0000 - val_true_positives: 71.0000\n",
            "Epoch 75/200\n",
            "44/44 [==============================] - 1s 15ms/step - loss: 0.6262 - Accuracy: 0.7529 - false_negatives: 110.0000 - false_positives: 53.0000 - true_negatives: 991.0000 - true_positives: 238.0000 - val_loss: 0.4006 - val_Accuracy: 0.8864 - val_false_negatives: 11.0000 - val_false_positives: 9.0000 - val_true_negatives: 255.0000 - val_true_positives: 77.0000\n",
            "Epoch 76/200\n",
            "44/44 [==============================] - 1s 15ms/step - loss: 0.6825 - Accuracy: 0.7299 - false_negatives: 123.0000 - false_positives: 63.0000 - true_negatives: 981.0000 - true_positives: 225.0000 - val_loss: 0.4094 - val_Accuracy: 0.8864 - val_false_negatives: 14.0000 - val_false_positives: 9.0000 - val_true_negatives: 255.0000 - val_true_positives: 74.0000\n",
            "Epoch 77/200\n",
            "44/44 [==============================] - 1s 16ms/step - loss: 0.5997 - Accuracy: 0.7644 - false_negatives: 109.0000 - false_positives: 55.0000 - true_negatives: 989.0000 - true_positives: 239.0000 - val_loss: 0.5016 - val_Accuracy: 0.8750 - val_false_negatives: 19.0000 - val_false_positives: 8.0000 - val_true_negatives: 256.0000 - val_true_positives: 69.0000\n",
            "Epoch 78/200\n",
            "44/44 [==============================] - 1s 15ms/step - loss: 0.6330 - Accuracy: 0.7529 - false_negatives: 99.0000 - false_positives: 59.0000 - true_negatives: 985.0000 - true_positives: 249.0000 - val_loss: 0.4230 - val_Accuracy: 0.8750 - val_false_negatives: 14.0000 - val_false_positives: 6.0000 - val_true_negatives: 258.0000 - val_true_positives: 74.0000\n",
            "Epoch 79/200\n",
            "44/44 [==============================] - 1s 15ms/step - loss: 0.5930 - Accuracy: 0.7615 - false_negatives: 95.0000 - false_positives: 56.0000 - true_negatives: 988.0000 - true_positives: 253.0000 - val_loss: 0.4849 - val_Accuracy: 0.8864 - val_false_negatives: 15.0000 - val_false_positives: 7.0000 - val_true_negatives: 257.0000 - val_true_positives: 73.0000\n",
            "Epoch 80/200\n",
            "44/44 [==============================] - 1s 15ms/step - loss: 0.5905 - Accuracy: 0.7931 - false_negatives: 93.0000 - false_positives: 48.0000 - true_negatives: 996.0000 - true_positives: 255.0000 - val_loss: 0.3752 - val_Accuracy: 0.8523 - val_false_negatives: 13.0000 - val_false_positives: 10.0000 - val_true_negatives: 254.0000 - val_true_positives: 75.0000\n",
            "Epoch 81/200\n",
            "44/44 [==============================] - 1s 15ms/step - loss: 0.6117 - Accuracy: 0.7644 - false_negatives: 108.0000 - false_positives: 53.0000 - true_negatives: 991.0000 - true_positives: 240.0000 - val_loss: 0.6304 - val_Accuracy: 0.8750 - val_false_negatives: 16.0000 - val_false_positives: 10.0000 - val_true_negatives: 254.0000 - val_true_positives: 72.0000\n",
            "Epoch 82/200\n",
            "44/44 [==============================] - 1s 15ms/step - loss: 0.6030 - Accuracy: 0.7759 - false_negatives: 95.0000 - false_positives: 51.0000 - true_negatives: 993.0000 - true_positives: 253.0000 - val_loss: 0.3160 - val_Accuracy: 0.8864 - val_false_negatives: 10.0000 - val_false_positives: 8.0000 - val_true_negatives: 256.0000 - val_true_positives: 78.0000\n",
            "Epoch 83/200\n",
            "44/44 [==============================] - 1s 15ms/step - loss: 0.5730 - Accuracy: 0.7615 - false_negatives: 97.0000 - false_positives: 54.0000 - true_negatives: 990.0000 - true_positives: 251.0000 - val_loss: 0.3752 - val_Accuracy: 0.8864 - val_false_negatives: 10.0000 - val_false_positives: 9.0000 - val_true_negatives: 255.0000 - val_true_positives: 78.0000\n",
            "Epoch 84/200\n",
            "44/44 [==============================] - 1s 16ms/step - loss: 0.5723 - Accuracy: 0.7816 - false_negatives: 93.0000 - false_positives: 55.0000 - true_negatives: 989.0000 - true_positives: 255.0000 - val_loss: 0.7553 - val_Accuracy: 0.8295 - val_false_negatives: 19.0000 - val_false_positives: 12.0000 - val_true_negatives: 252.0000 - val_true_positives: 69.0000\n",
            "Epoch 85/200\n",
            "44/44 [==============================] - 1s 16ms/step - loss: 0.6080 - Accuracy: 0.7701 - false_negatives: 99.0000 - false_positives: 50.0000 - true_negatives: 994.0000 - true_positives: 249.0000 - val_loss: 0.5731 - val_Accuracy: 0.7386 - val_false_negatives: 25.0000 - val_false_positives: 20.0000 - val_true_negatives: 244.0000 - val_true_positives: 63.0000\n",
            "Epoch 86/200\n",
            "44/44 [==============================] - 1s 17ms/step - loss: 0.5497 - Accuracy: 0.7874 - false_negatives: 95.0000 - false_positives: 59.0000 - true_negatives: 985.0000 - true_positives: 253.0000 - val_loss: 0.3569 - val_Accuracy: 0.8750 - val_false_negatives: 11.0000 - val_false_positives: 11.0000 - val_true_negatives: 253.0000 - val_true_positives: 77.0000\n",
            "Epoch 87/200\n",
            "44/44 [==============================] - 1s 17ms/step - loss: 0.6161 - Accuracy: 0.7816 - false_negatives: 93.0000 - false_positives: 51.0000 - true_negatives: 993.0000 - true_positives: 255.0000 - val_loss: 0.4762 - val_Accuracy: 0.8409 - val_false_negatives: 19.0000 - val_false_positives: 11.0000 - val_true_negatives: 253.0000 - val_true_positives: 69.0000\n",
            "Epoch 88/200\n",
            "44/44 [==============================] - 1s 17ms/step - loss: 0.5604 - Accuracy: 0.7787 - false_negatives: 99.0000 - false_positives: 51.0000 - true_negatives: 993.0000 - true_positives: 249.0000 - val_loss: 0.5156 - val_Accuracy: 0.8409 - val_false_negatives: 18.0000 - val_false_positives: 11.0000 - val_true_negatives: 253.0000 - val_true_positives: 70.0000\n",
            "Epoch 89/200\n",
            "44/44 [==============================] - 1s 16ms/step - loss: 0.5902 - Accuracy: 0.7845 - false_negatives: 88.0000 - false_positives: 60.0000 - true_negatives: 984.0000 - true_positives: 260.0000 - val_loss: 0.3884 - val_Accuracy: 0.8864 - val_false_negatives: 11.0000 - val_false_positives: 9.0000 - val_true_negatives: 255.0000 - val_true_positives: 77.0000\n",
            "Epoch 90/200\n",
            "44/44 [==============================] - 1s 15ms/step - loss: 0.5368 - Accuracy: 0.7874 - false_negatives: 90.0000 - false_positives: 49.0000 - true_negatives: 995.0000 - true_positives: 258.0000 - val_loss: 0.4206 - val_Accuracy: 0.8750 - val_false_negatives: 12.0000 - val_false_positives: 9.0000 - val_true_negatives: 255.0000 - val_true_positives: 76.0000\n",
            "Epoch 91/200\n",
            "44/44 [==============================] - 1s 16ms/step - loss: 0.5726 - Accuracy: 0.7931 - false_negatives: 83.0000 - false_positives: 54.0000 - true_negatives: 990.0000 - true_positives: 265.0000 - val_loss: 0.5268 - val_Accuracy: 0.8409 - val_false_negatives: 15.0000 - val_false_positives: 13.0000 - val_true_negatives: 251.0000 - val_true_positives: 73.0000\n",
            "Epoch 92/200\n",
            "44/44 [==============================] - 1s 16ms/step - loss: 0.5258 - Accuracy: 0.7816 - false_negatives: 87.0000 - false_positives: 51.0000 - true_negatives: 993.0000 - true_positives: 261.0000 - val_loss: 0.4172 - val_Accuracy: 0.8750 - val_false_negatives: 11.0000 - val_false_positives: 9.0000 - val_true_negatives: 255.0000 - val_true_positives: 77.0000\n",
            "Epoch 93/200\n",
            "44/44 [==============================] - 1s 15ms/step - loss: 0.5093 - Accuracy: 0.8017 - false_negatives: 85.0000 - false_positives: 52.0000 - true_negatives: 992.0000 - true_positives: 263.0000 - val_loss: 0.3699 - val_Accuracy: 0.8864 - val_false_negatives: 12.0000 - val_false_positives: 9.0000 - val_true_negatives: 255.0000 - val_true_positives: 76.0000\n",
            "Epoch 94/200\n",
            "44/44 [==============================] - 1s 17ms/step - loss: 0.4826 - Accuracy: 0.8218 - false_negatives: 80.0000 - false_positives: 44.0000 - true_negatives: 1000.0000 - true_positives: 268.0000 - val_loss: 0.3791 - val_Accuracy: 0.8636 - val_false_negatives: 12.0000 - val_false_positives: 10.0000 - val_true_negatives: 254.0000 - val_true_positives: 76.0000\n",
            "Epoch 95/200\n",
            "44/44 [==============================] - 1s 16ms/step - loss: 0.5730 - Accuracy: 0.7586 - false_negatives: 93.0000 - false_positives: 66.0000 - true_negatives: 978.0000 - true_positives: 255.0000 - val_loss: 0.3312 - val_Accuracy: 0.8750 - val_false_negatives: 15.0000 - val_false_positives: 6.0000 - val_true_negatives: 258.0000 - val_true_positives: 73.0000\n",
            "Epoch 96/200\n",
            "44/44 [==============================] - 1s 16ms/step - loss: 0.5543 - Accuracy: 0.7960 - false_negatives: 92.0000 - false_positives: 41.0000 - true_negatives: 1003.0000 - true_positives: 256.0000 - val_loss: 0.3775 - val_Accuracy: 0.8864 - val_false_negatives: 11.0000 - val_false_positives: 7.0000 - val_true_negatives: 257.0000 - val_true_positives: 77.0000\n",
            "Epoch 97/200\n",
            "44/44 [==============================] - 1s 17ms/step - loss: 0.4834 - Accuracy: 0.8103 - false_negatives: 78.0000 - false_positives: 49.0000 - true_negatives: 995.0000 - true_positives: 270.0000 - val_loss: 0.4486 - val_Accuracy: 0.8864 - val_false_negatives: 10.0000 - val_false_positives: 9.0000 - val_true_negatives: 255.0000 - val_true_positives: 78.0000\n",
            "Epoch 98/200\n",
            "44/44 [==============================] - 1s 16ms/step - loss: 0.5079 - Accuracy: 0.8075 - false_negatives: 78.0000 - false_positives: 55.0000 - true_negatives: 989.0000 - true_positives: 270.0000 - val_loss: 0.4156 - val_Accuracy: 0.8977 - val_false_negatives: 10.0000 - val_false_positives: 8.0000 - val_true_negatives: 256.0000 - val_true_positives: 78.0000\n",
            "Epoch 99/200\n",
            "44/44 [==============================] - 1s 15ms/step - loss: 0.4905 - Accuracy: 0.8247 - false_negatives: 77.0000 - false_positives: 44.0000 - true_negatives: 1000.0000 - true_positives: 271.0000 - val_loss: 0.3768 - val_Accuracy: 0.8750 - val_false_negatives: 12.0000 - val_false_positives: 10.0000 - val_true_negatives: 254.0000 - val_true_positives: 76.0000\n",
            "Epoch 100/200\n",
            "44/44 [==============================] - 1s 16ms/step - loss: 0.4918 - Accuracy: 0.8046 - false_negatives: 82.0000 - false_positives: 49.0000 - true_negatives: 995.0000 - true_positives: 266.0000 - val_loss: 0.4450 - val_Accuracy: 0.8636 - val_false_negatives: 14.0000 - val_false_positives: 10.0000 - val_true_negatives: 254.0000 - val_true_positives: 74.0000\n",
            "Epoch 101/200\n",
            "44/44 [==============================] - 1s 15ms/step - loss: 0.5024 - Accuracy: 0.8103 - false_negatives: 78.0000 - false_positives: 52.0000 - true_negatives: 992.0000 - true_positives: 270.0000 - val_loss: 0.2885 - val_Accuracy: 0.8864 - val_false_negatives: 10.0000 - val_false_positives: 7.0000 - val_true_negatives: 257.0000 - val_true_positives: 78.0000\n",
            "Epoch 102/200\n",
            "44/44 [==============================] - 1s 16ms/step - loss: 0.5034 - Accuracy: 0.8075 - false_negatives: 81.0000 - false_positives: 53.0000 - true_negatives: 991.0000 - true_positives: 267.0000 - val_loss: 0.3271 - val_Accuracy: 0.8636 - val_false_negatives: 13.0000 - val_false_positives: 11.0000 - val_true_negatives: 253.0000 - val_true_positives: 75.0000\n",
            "Epoch 103/200\n",
            "44/44 [==============================] - 1s 16ms/step - loss: 0.5043 - Accuracy: 0.7960 - false_negatives: 83.0000 - false_positives: 54.0000 - true_negatives: 990.0000 - true_positives: 265.0000 - val_loss: 0.3914 - val_Accuracy: 0.8636 - val_false_negatives: 14.0000 - val_false_positives: 11.0000 - val_true_negatives: 253.0000 - val_true_positives: 74.0000\n",
            "Epoch 104/200\n",
            "44/44 [==============================] - 1s 16ms/step - loss: 0.5520 - Accuracy: 0.7989 - false_negatives: 86.0000 - false_positives: 58.0000 - true_negatives: 986.0000 - true_positives: 262.0000 - val_loss: 0.5543 - val_Accuracy: 0.8409 - val_false_negatives: 15.0000 - val_false_positives: 11.0000 - val_true_negatives: 253.0000 - val_true_positives: 73.0000\n",
            "Epoch 105/200\n",
            "44/44 [==============================] - 1s 16ms/step - loss: 0.4733 - Accuracy: 0.8210 - false_negatives: 76.0000 - false_positives: 48.0000 - true_negatives: 1008.0000 - true_positives: 276.0000 - val_loss: 0.4324 - val_Accuracy: 0.8409 - val_false_negatives: 17.0000 - val_false_positives: 10.0000 - val_true_negatives: 254.0000 - val_true_positives: 71.0000\n",
            "Epoch 106/200\n",
            "44/44 [==============================] - 1s 17ms/step - loss: 0.4882 - Accuracy: 0.8103 - false_negatives: 83.0000 - false_positives: 41.0000 - true_negatives: 1003.0000 - true_positives: 265.0000 - val_loss: 0.3645 - val_Accuracy: 0.8636 - val_false_negatives: 13.0000 - val_false_positives: 10.0000 - val_true_negatives: 254.0000 - val_true_positives: 75.0000\n",
            "Epoch 107/200\n",
            "44/44 [==============================] - 1s 17ms/step - loss: 0.4904 - Accuracy: 0.8161 - false_negatives: 77.0000 - false_positives: 53.0000 - true_negatives: 991.0000 - true_positives: 271.0000 - val_loss: 0.3878 - val_Accuracy: 0.8864 - val_false_negatives: 11.0000 - val_false_positives: 9.0000 - val_true_negatives: 255.0000 - val_true_positives: 77.0000\n",
            "Epoch 108/200\n",
            "44/44 [==============================] - 1s 17ms/step - loss: 0.5246 - Accuracy: 0.7902 - false_negatives: 90.0000 - false_positives: 55.0000 - true_negatives: 989.0000 - true_positives: 258.0000 - val_loss: 0.4496 - val_Accuracy: 0.8636 - val_false_negatives: 17.0000 - val_false_positives: 10.0000 - val_true_negatives: 254.0000 - val_true_positives: 71.0000\n",
            "Epoch 109/200\n",
            "44/44 [==============================] - 1s 17ms/step - loss: 0.4717 - Accuracy: 0.8247 - false_negatives: 72.0000 - false_positives: 40.0000 - true_negatives: 1004.0000 - true_positives: 276.0000 - val_loss: 0.3746 - val_Accuracy: 0.8864 - val_false_negatives: 11.0000 - val_false_positives: 8.0000 - val_true_negatives: 256.0000 - val_true_positives: 77.0000\n",
            "Epoch 110/200\n",
            "44/44 [==============================] - 1s 16ms/step - loss: 0.4686 - Accuracy: 0.8218 - false_negatives: 74.0000 - false_positives: 42.0000 - true_negatives: 1002.0000 - true_positives: 274.0000 - val_loss: 0.4306 - val_Accuracy: 0.8864 - val_false_negatives: 11.0000 - val_false_positives: 9.0000 - val_true_negatives: 255.0000 - val_true_positives: 77.0000\n",
            "Epoch 111/200\n",
            "44/44 [==============================] - 1s 28ms/step - loss: 0.5113 - Accuracy: 0.8190 - false_negatives: 71.0000 - false_positives: 49.0000 - true_negatives: 995.0000 - true_positives: 277.0000 - val_loss: 0.8004 - val_Accuracy: 0.8295 - val_false_negatives: 16.0000 - val_false_positives: 11.0000 - val_true_negatives: 253.0000 - val_true_positives: 72.0000\n",
            "Epoch 112/200\n",
            "44/44 [==============================] - 1s 17ms/step - loss: 0.5140 - Accuracy: 0.7845 - false_negatives: 86.0000 - false_positives: 48.0000 - true_negatives: 996.0000 - true_positives: 262.0000 - val_loss: 0.4271 - val_Accuracy: 0.8523 - val_false_negatives: 18.0000 - val_false_positives: 8.0000 - val_true_negatives: 256.0000 - val_true_positives: 70.0000\n",
            "Epoch 113/200\n",
            "44/44 [==============================] - 1s 17ms/step - loss: 0.4414 - Accuracy: 0.8477 - false_negatives: 68.0000 - false_positives: 39.0000 - true_negatives: 1005.0000 - true_positives: 280.0000 - val_loss: 0.5774 - val_Accuracy: 0.8750 - val_false_negatives: 13.0000 - val_false_positives: 11.0000 - val_true_negatives: 253.0000 - val_true_positives: 75.0000\n",
            "Epoch 114/200\n",
            "44/44 [==============================] - 1s 18ms/step - loss: 0.4035 - Accuracy: 0.8391 - false_negatives: 65.0000 - false_positives: 41.0000 - true_negatives: 1003.0000 - true_positives: 283.0000 - val_loss: 0.7616 - val_Accuracy: 0.8523 - val_false_negatives: 15.0000 - val_false_positives: 11.0000 - val_true_negatives: 253.0000 - val_true_positives: 73.0000\n",
            "Epoch 115/200\n",
            "44/44 [==============================] - 1s 18ms/step - loss: 0.4947 - Accuracy: 0.8075 - false_negatives: 80.0000 - false_positives: 48.0000 - true_negatives: 996.0000 - true_positives: 268.0000 - val_loss: 0.4915 - val_Accuracy: 0.8409 - val_false_negatives: 14.0000 - val_false_positives: 12.0000 - val_true_negatives: 252.0000 - val_true_positives: 74.0000\n",
            "Epoch 116/200\n",
            "44/44 [==============================] - 1s 17ms/step - loss: 0.4536 - Accuracy: 0.8247 - false_negatives: 74.0000 - false_positives: 46.0000 - true_negatives: 998.0000 - true_positives: 274.0000 - val_loss: 0.4660 - val_Accuracy: 0.8523 - val_false_negatives: 16.0000 - val_false_positives: 11.0000 - val_true_negatives: 253.0000 - val_true_positives: 72.0000\n",
            "Epoch 117/200\n",
            "44/44 [==============================] - 1s 16ms/step - loss: 0.4668 - Accuracy: 0.8362 - false_negatives: 66.0000 - false_positives: 49.0000 - true_negatives: 995.0000 - true_positives: 282.0000 - val_loss: 0.6420 - val_Accuracy: 0.8068 - val_false_negatives: 19.0000 - val_false_positives: 17.0000 - val_true_negatives: 247.0000 - val_true_positives: 69.0000\n",
            "Epoch 118/200\n",
            "44/44 [==============================] - 1s 16ms/step - loss: 0.4311 - Accuracy: 0.8333 - false_negatives: 65.0000 - false_positives: 40.0000 - true_negatives: 1004.0000 - true_positives: 283.0000 - val_loss: 0.5163 - val_Accuracy: 0.9091 - val_false_negatives: 10.0000 - val_false_positives: 8.0000 - val_true_negatives: 256.0000 - val_true_positives: 78.0000\n",
            "Epoch 119/200\n",
            "44/44 [==============================] - 1s 26ms/step - loss: 0.4361 - Accuracy: 0.8420 - false_negatives: 65.0000 - false_positives: 42.0000 - true_negatives: 1002.0000 - true_positives: 283.0000 - val_loss: 0.6660 - val_Accuracy: 0.8864 - val_false_negatives: 15.0000 - val_false_positives: 9.0000 - val_true_negatives: 255.0000 - val_true_positives: 73.0000\n",
            "Epoch 120/200\n",
            "44/44 [==============================] - 1s 25ms/step - loss: 0.4482 - Accuracy: 0.8333 - false_negatives: 68.0000 - false_positives: 47.0000 - true_negatives: 997.0000 - true_positives: 280.0000 - val_loss: 0.4670 - val_Accuracy: 0.8182 - val_false_negatives: 18.0000 - val_false_positives: 14.0000 - val_true_negatives: 250.0000 - val_true_positives: 70.0000\n",
            "Epoch 121/200\n",
            "44/44 [==============================] - 1s 16ms/step - loss: 0.4346 - Accuracy: 0.8362 - false_negatives: 68.0000 - false_positives: 45.0000 - true_negatives: 999.0000 - true_positives: 280.0000 - val_loss: 0.6340 - val_Accuracy: 0.8523 - val_false_negatives: 14.0000 - val_false_positives: 12.0000 - val_true_negatives: 252.0000 - val_true_positives: 74.0000\n",
            "Epoch 122/200\n",
            "44/44 [==============================] - 1s 15ms/step - loss: 0.4212 - Accuracy: 0.8391 - false_negatives: 64.0000 - false_positives: 42.0000 - true_negatives: 1002.0000 - true_positives: 284.0000 - val_loss: 0.5983 - val_Accuracy: 0.8182 - val_false_negatives: 17.0000 - val_false_positives: 14.0000 - val_true_negatives: 250.0000 - val_true_positives: 71.0000\n",
            "Epoch 123/200\n",
            "44/44 [==============================] - 1s 16ms/step - loss: 0.4297 - Accuracy: 0.8362 - false_negatives: 64.0000 - false_positives: 46.0000 - true_negatives: 998.0000 - true_positives: 284.0000 - val_loss: 0.6582 - val_Accuracy: 0.8523 - val_false_negatives: 14.0000 - val_false_positives: 11.0000 - val_true_negatives: 253.0000 - val_true_positives: 74.0000\n",
            "Epoch 124/200\n",
            "44/44 [==============================] - 1s 16ms/step - loss: 0.4378 - Accuracy: 0.8362 - false_negatives: 69.0000 - false_positives: 42.0000 - true_negatives: 1002.0000 - true_positives: 279.0000 - val_loss: 0.5236 - val_Accuracy: 0.8409 - val_false_negatives: 19.0000 - val_false_positives: 11.0000 - val_true_negatives: 253.0000 - val_true_positives: 69.0000\n",
            "Epoch 125/200\n",
            "44/44 [==============================] - 1s 16ms/step - loss: 0.4229 - Accuracy: 0.8448 - false_negatives: 67.0000 - false_positives: 44.0000 - true_negatives: 1000.0000 - true_positives: 281.0000 - val_loss: 0.9196 - val_Accuracy: 0.7727 - val_false_negatives: 22.0000 - val_false_positives: 19.0000 - val_true_negatives: 245.0000 - val_true_positives: 66.0000\n",
            "Epoch 126/200\n",
            "44/44 [==============================] - 1s 17ms/step - loss: 0.4042 - Accuracy: 0.8448 - false_negatives: 65.0000 - false_positives: 43.0000 - true_negatives: 1001.0000 - true_positives: 283.0000 - val_loss: 0.6620 - val_Accuracy: 0.9091 - val_false_negatives: 10.0000 - val_false_positives: 7.0000 - val_true_negatives: 257.0000 - val_true_positives: 78.0000\n",
            "Epoch 127/200\n",
            "44/44 [==============================] - 1s 15ms/step - loss: 0.3938 - Accuracy: 0.8534 - false_negatives: 64.0000 - false_positives: 39.0000 - true_negatives: 1005.0000 - true_positives: 284.0000 - val_loss: 0.5139 - val_Accuracy: 0.8750 - val_false_negatives: 14.0000 - val_false_positives: 11.0000 - val_true_negatives: 253.0000 - val_true_positives: 74.0000\n",
            "Epoch 128/200\n",
            "44/44 [==============================] - 1s 16ms/step - loss: 0.4224 - Accuracy: 0.8477 - false_negatives: 60.0000 - false_positives: 42.0000 - true_negatives: 1002.0000 - true_positives: 288.0000 - val_loss: 0.4428 - val_Accuracy: 0.8750 - val_false_negatives: 12.0000 - val_false_positives: 10.0000 - val_true_negatives: 254.0000 - val_true_positives: 76.0000\n",
            "Epoch 129/200\n",
            "44/44 [==============================] - 1s 16ms/step - loss: 0.3548 - Accuracy: 0.8649 - false_negatives: 60.0000 - false_positives: 34.0000 - true_negatives: 1010.0000 - true_positives: 288.0000 - val_loss: 0.6324 - val_Accuracy: 0.8864 - val_false_negatives: 11.0000 - val_false_positives: 9.0000 - val_true_negatives: 255.0000 - val_true_positives: 77.0000\n",
            "Epoch 130/200\n",
            "44/44 [==============================] - 1s 16ms/step - loss: 0.4249 - Accuracy: 0.8477 - false_negatives: 64.0000 - false_positives: 39.0000 - true_negatives: 1005.0000 - true_positives: 284.0000 - val_loss: 0.4924 - val_Accuracy: 0.8636 - val_false_negatives: 12.0000 - val_false_positives: 10.0000 - val_true_negatives: 254.0000 - val_true_positives: 76.0000\n",
            "Epoch 131/200\n",
            "44/44 [==============================] - 1s 16ms/step - loss: 0.4348 - Accuracy: 0.8420 - false_negatives: 66.0000 - false_positives: 46.0000 - true_negatives: 998.0000 - true_positives: 282.0000 - val_loss: 0.8854 - val_Accuracy: 0.7841 - val_false_negatives: 20.0000 - val_false_positives: 16.0000 - val_true_negatives: 248.0000 - val_true_positives: 68.0000\n",
            "Epoch 132/200\n",
            "44/44 [==============================] - 1s 16ms/step - loss: 0.4050 - Accuracy: 0.8506 - false_negatives: 62.0000 - false_positives: 40.0000 - true_negatives: 1004.0000 - true_positives: 286.0000 - val_loss: 1.2740 - val_Accuracy: 0.8523 - val_false_negatives: 13.0000 - val_false_positives: 12.0000 - val_true_negatives: 252.0000 - val_true_positives: 75.0000\n",
            "Epoch 133/200\n",
            "44/44 [==============================] - 1s 16ms/step - loss: 0.4414 - Accuracy: 0.8477 - false_negatives: 60.0000 - false_positives: 41.0000 - true_negatives: 1003.0000 - true_positives: 288.0000 - val_loss: 0.7468 - val_Accuracy: 0.8750 - val_false_negatives: 12.0000 - val_false_positives: 11.0000 - val_true_negatives: 253.0000 - val_true_positives: 76.0000\n",
            "Epoch 134/200\n",
            "44/44 [==============================] - 1s 16ms/step - loss: 0.3804 - Accuracy: 0.8506 - false_negatives: 57.0000 - false_positives: 39.0000 - true_negatives: 1005.0000 - true_positives: 291.0000 - val_loss: 0.5931 - val_Accuracy: 0.8523 - val_false_negatives: 14.0000 - val_false_positives: 13.0000 - val_true_negatives: 251.0000 - val_true_positives: 74.0000\n",
            "Epoch 135/200\n",
            "44/44 [==============================] - 1s 16ms/step - loss: 0.4227 - Accuracy: 0.8420 - false_negatives: 63.0000 - false_positives: 45.0000 - true_negatives: 999.0000 - true_positives: 285.0000 - val_loss: 0.5158 - val_Accuracy: 0.8750 - val_false_negatives: 13.0000 - val_false_positives: 11.0000 - val_true_negatives: 253.0000 - val_true_positives: 75.0000\n",
            "Epoch 136/200\n",
            "44/44 [==============================] - 1s 16ms/step - loss: 0.4554 - Accuracy: 0.8477 - false_negatives: 65.0000 - false_positives: 43.0000 - true_negatives: 1001.0000 - true_positives: 283.0000 - val_loss: 0.4319 - val_Accuracy: 0.8523 - val_false_negatives: 17.0000 - val_false_positives: 12.0000 - val_true_negatives: 252.0000 - val_true_positives: 71.0000\n",
            "Epoch 137/200\n",
            "44/44 [==============================] - 1s 16ms/step - loss: 0.3885 - Accuracy: 0.8448 - false_negatives: 58.0000 - false_positives: 42.0000 - true_negatives: 1002.0000 - true_positives: 290.0000 - val_loss: 0.4834 - val_Accuracy: 0.8864 - val_false_negatives: 12.0000 - val_false_positives: 9.0000 - val_true_negatives: 255.0000 - val_true_positives: 76.0000\n",
            "Epoch 138/200\n",
            "44/44 [==============================] - 1s 15ms/step - loss: 0.3628 - Accuracy: 0.8793 - false_negatives: 53.0000 - false_positives: 34.0000 - true_negatives: 1010.0000 - true_positives: 295.0000 - val_loss: 0.6125 - val_Accuracy: 0.8409 - val_false_negatives: 17.0000 - val_false_positives: 10.0000 - val_true_negatives: 254.0000 - val_true_positives: 71.0000\n",
            "Epoch 139/200\n",
            "44/44 [==============================] - 1s 16ms/step - loss: 0.3883 - Accuracy: 0.8580 - false_negatives: 63.0000 - false_positives: 33.0000 - true_negatives: 1023.0000 - true_positives: 289.0000 - val_loss: 0.5989 - val_Accuracy: 0.8750 - val_false_negatives: 11.0000 - val_false_positives: 9.0000 - val_true_negatives: 255.0000 - val_true_positives: 77.0000\n",
            "Epoch 140/200\n",
            "44/44 [==============================] - 1s 16ms/step - loss: 0.3983 - Accuracy: 0.8420 - false_negatives: 61.0000 - false_positives: 43.0000 - true_negatives: 1001.0000 - true_positives: 287.0000 - val_loss: 0.8287 - val_Accuracy: 0.8523 - val_false_negatives: 14.0000 - val_false_positives: 10.0000 - val_true_negatives: 254.0000 - val_true_positives: 74.0000\n",
            "Epoch 141/200\n",
            "44/44 [==============================] - 1s 16ms/step - loss: 0.3481 - Accuracy: 0.8506 - false_negatives: 61.0000 - false_positives: 37.0000 - true_negatives: 1007.0000 - true_positives: 287.0000 - val_loss: 0.7066 - val_Accuracy: 0.9091 - val_false_negatives: 9.0000 - val_false_positives: 8.0000 - val_true_negatives: 256.0000 - val_true_positives: 79.0000\n",
            "Epoch 142/200\n",
            "44/44 [==============================] - 1s 16ms/step - loss: 0.3732 - Accuracy: 0.8707 - false_negatives: 53.0000 - false_positives: 39.0000 - true_negatives: 1005.0000 - true_positives: 295.0000 - val_loss: 0.5859 - val_Accuracy: 0.8523 - val_false_negatives: 14.0000 - val_false_positives: 12.0000 - val_true_negatives: 252.0000 - val_true_positives: 74.0000\n",
            "Epoch 143/200\n",
            "44/44 [==============================] - 1s 16ms/step - loss: 0.3404 - Accuracy: 0.8764 - false_negatives: 46.0000 - false_positives: 34.0000 - true_negatives: 1010.0000 - true_positives: 302.0000 - val_loss: 0.4922 - val_Accuracy: 0.8636 - val_false_negatives: 12.0000 - val_false_positives: 10.0000 - val_true_negatives: 254.0000 - val_true_positives: 76.0000\n",
            "Epoch 144/200\n",
            "44/44 [==============================] - 1s 16ms/step - loss: 0.3395 - Accuracy: 0.8678 - false_negatives: 54.0000 - false_positives: 38.0000 - true_negatives: 1006.0000 - true_positives: 294.0000 - val_loss: 0.8746 - val_Accuracy: 0.8068 - val_false_negatives: 18.0000 - val_false_positives: 14.0000 - val_true_negatives: 250.0000 - val_true_positives: 70.0000\n",
            "Epoch 145/200\n",
            "44/44 [==============================] - 1s 16ms/step - loss: 0.3467 - Accuracy: 0.8506 - false_negatives: 59.0000 - false_positives: 42.0000 - true_negatives: 1002.0000 - true_positives: 289.0000 - val_loss: 0.6636 - val_Accuracy: 0.8977 - val_false_negatives: 9.0000 - val_false_positives: 8.0000 - val_true_negatives: 256.0000 - val_true_positives: 79.0000\n",
            "Epoch 146/200\n",
            "44/44 [==============================] - 1s 16ms/step - loss: 0.3244 - Accuracy: 0.8822 - false_negatives: 48.0000 - false_positives: 32.0000 - true_negatives: 1012.0000 - true_positives: 300.0000 - val_loss: 0.7341 - val_Accuracy: 0.8409 - val_false_negatives: 16.0000 - val_false_positives: 13.0000 - val_true_negatives: 251.0000 - val_true_positives: 72.0000\n",
            "Epoch 147/200\n",
            "44/44 [==============================] - 1s 16ms/step - loss: 0.3067 - Accuracy: 0.8879 - false_negatives: 45.0000 - false_positives: 31.0000 - true_negatives: 1013.0000 - true_positives: 303.0000 - val_loss: 0.4432 - val_Accuracy: 0.8636 - val_false_negatives: 12.0000 - val_false_positives: 11.0000 - val_true_negatives: 253.0000 - val_true_positives: 76.0000\n",
            "Epoch 148/200\n",
            "44/44 [==============================] - 1s 16ms/step - loss: 0.3691 - Accuracy: 0.8592 - false_negatives: 57.0000 - false_positives: 40.0000 - true_negatives: 1004.0000 - true_positives: 291.0000 - val_loss: 0.4150 - val_Accuracy: 0.8750 - val_false_negatives: 12.0000 - val_false_positives: 8.0000 - val_true_negatives: 256.0000 - val_true_positives: 76.0000\n",
            "Epoch 149/200\n",
            "44/44 [==============================] - 1s 16ms/step - loss: 0.3851 - Accuracy: 0.8649 - false_negatives: 53.0000 - false_positives: 39.0000 - true_negatives: 1005.0000 - true_positives: 295.0000 - val_loss: 0.8974 - val_Accuracy: 0.7955 - val_false_negatives: 19.0000 - val_false_positives: 16.0000 - val_true_negatives: 248.0000 - val_true_positives: 69.0000\n",
            "Epoch 150/200\n",
            "44/44 [==============================] - 1s 16ms/step - loss: 0.3425 - Accuracy: 0.8736 - false_negatives: 52.0000 - false_positives: 33.0000 - true_negatives: 1011.0000 - true_positives: 296.0000 - val_loss: 0.4951 - val_Accuracy: 0.8636 - val_false_negatives: 14.0000 - val_false_positives: 12.0000 - val_true_negatives: 252.0000 - val_true_positives: 74.0000\n",
            "Epoch 151/200\n",
            "44/44 [==============================] - 1s 16ms/step - loss: 0.3348 - Accuracy: 0.8851 - false_negatives: 48.0000 - false_positives: 31.0000 - true_negatives: 1013.0000 - true_positives: 300.0000 - val_loss: 0.6671 - val_Accuracy: 0.8864 - val_false_negatives: 10.0000 - val_false_positives: 10.0000 - val_true_negatives: 254.0000 - val_true_positives: 78.0000\n",
            "Epoch 152/200\n",
            "44/44 [==============================] - 1s 16ms/step - loss: 0.3193 - Accuracy: 0.8879 - false_negatives: 50.0000 - false_positives: 35.0000 - true_negatives: 1009.0000 - true_positives: 298.0000 - val_loss: 0.6405 - val_Accuracy: 0.8182 - val_false_negatives: 18.0000 - val_false_positives: 14.0000 - val_true_negatives: 250.0000 - val_true_positives: 70.0000\n",
            "Epoch 153/200\n",
            "44/44 [==============================] - 1s 16ms/step - loss: 0.3125 - Accuracy: 0.8649 - false_negatives: 53.0000 - false_positives: 39.0000 - true_negatives: 1005.0000 - true_positives: 295.0000 - val_loss: 0.5431 - val_Accuracy: 0.8523 - val_false_negatives: 14.0000 - val_false_positives: 12.0000 - val_true_negatives: 252.0000 - val_true_positives: 74.0000\n",
            "Epoch 154/200\n",
            "44/44 [==============================] - 1s 17ms/step - loss: 0.3723 - Accuracy: 0.8793 - false_negatives: 47.0000 - false_positives: 39.0000 - true_negatives: 1005.0000 - true_positives: 301.0000 - val_loss: 0.5052 - val_Accuracy: 0.8977 - val_false_negatives: 10.0000 - val_false_positives: 9.0000 - val_true_negatives: 255.0000 - val_true_positives: 78.0000\n",
            "Epoch 155/200\n",
            "44/44 [==============================] - 1s 16ms/step - loss: 0.3200 - Accuracy: 0.8851 - false_negatives: 52.0000 - false_positives: 33.0000 - true_negatives: 1011.0000 - true_positives: 296.0000 - val_loss: 0.5818 - val_Accuracy: 0.8523 - val_false_negatives: 13.0000 - val_false_positives: 12.0000 - val_true_negatives: 252.0000 - val_true_positives: 75.0000\n",
            "Epoch 156/200\n",
            "44/44 [==============================] - 1s 17ms/step - loss: 0.3153 - Accuracy: 0.8851 - false_negatives: 45.0000 - false_positives: 34.0000 - true_negatives: 1010.0000 - true_positives: 303.0000 - val_loss: 0.5755 - val_Accuracy: 0.8977 - val_false_negatives: 9.0000 - val_false_positives: 9.0000 - val_true_negatives: 255.0000 - val_true_positives: 79.0000\n",
            "Epoch 157/200\n",
            "44/44 [==============================] - 1s 16ms/step - loss: 0.3330 - Accuracy: 0.8736 - false_negatives: 52.0000 - false_positives: 38.0000 - true_negatives: 1006.0000 - true_positives: 296.0000 - val_loss: 0.6135 - val_Accuracy: 0.8523 - val_false_negatives: 14.0000 - val_false_positives: 12.0000 - val_true_negatives: 252.0000 - val_true_positives: 74.0000\n",
            "Epoch 158/200\n",
            "44/44 [==============================] - 1s 16ms/step - loss: 0.3508 - Accuracy: 0.8793 - false_negatives: 48.0000 - false_positives: 32.0000 - true_negatives: 1012.0000 - true_positives: 300.0000 - val_loss: 0.8425 - val_Accuracy: 0.8636 - val_false_negatives: 13.0000 - val_false_positives: 10.0000 - val_true_negatives: 254.0000 - val_true_positives: 75.0000\n",
            "Epoch 159/200\n",
            "44/44 [==============================] - 1s 16ms/step - loss: 0.2897 - Accuracy: 0.9052 - false_negatives: 43.0000 - false_positives: 23.0000 - true_negatives: 1021.0000 - true_positives: 305.0000 - val_loss: 0.5893 - val_Accuracy: 0.8636 - val_false_negatives: 12.0000 - val_false_positives: 12.0000 - val_true_negatives: 252.0000 - val_true_positives: 76.0000\n",
            "Epoch 160/200\n",
            "44/44 [==============================] - 1s 16ms/step - loss: 0.3198 - Accuracy: 0.8908 - false_negatives: 43.0000 - false_positives: 33.0000 - true_negatives: 1011.0000 - true_positives: 305.0000 - val_loss: 0.6255 - val_Accuracy: 0.8864 - val_false_negatives: 10.0000 - val_false_positives: 10.0000 - val_true_negatives: 254.0000 - val_true_positives: 78.0000\n",
            "Epoch 161/200\n",
            "44/44 [==============================] - 1s 16ms/step - loss: 0.2549 - Accuracy: 0.9109 - false_negatives: 37.0000 - false_positives: 26.0000 - true_negatives: 1018.0000 - true_positives: 311.0000 - val_loss: 0.7313 - val_Accuracy: 0.8864 - val_false_negatives: 11.0000 - val_false_positives: 10.0000 - val_true_negatives: 254.0000 - val_true_positives: 77.0000\n",
            "Epoch 162/200\n",
            "44/44 [==============================] - 1s 16ms/step - loss: 0.3338 - Accuracy: 0.8851 - false_negatives: 46.0000 - false_positives: 36.0000 - true_negatives: 1008.0000 - true_positives: 302.0000 - val_loss: 0.4073 - val_Accuracy: 0.8523 - val_false_negatives: 13.0000 - val_false_positives: 12.0000 - val_true_negatives: 252.0000 - val_true_positives: 75.0000\n",
            "Epoch 163/200\n",
            "44/44 [==============================] - 1s 17ms/step - loss: 0.3222 - Accuracy: 0.8908 - false_negatives: 47.0000 - false_positives: 34.0000 - true_negatives: 1010.0000 - true_positives: 301.0000 - val_loss: 0.5332 - val_Accuracy: 0.8864 - val_false_negatives: 11.0000 - val_false_positives: 10.0000 - val_true_negatives: 254.0000 - val_true_positives: 77.0000\n",
            "Epoch 164/200\n",
            "44/44 [==============================] - 1s 16ms/step - loss: 0.2790 - Accuracy: 0.8994 - false_negatives: 43.0000 - false_positives: 26.0000 - true_negatives: 1018.0000 - true_positives: 305.0000 - val_loss: 0.6823 - val_Accuracy: 0.8523 - val_false_negatives: 13.0000 - val_false_positives: 13.0000 - val_true_negatives: 251.0000 - val_true_positives: 75.0000\n",
            "Epoch 165/200\n",
            "44/44 [==============================] - 1s 16ms/step - loss: 0.3189 - Accuracy: 0.8908 - false_negatives: 43.0000 - false_positives: 32.0000 - true_negatives: 1012.0000 - true_positives: 305.0000 - val_loss: 0.7918 - val_Accuracy: 0.8523 - val_false_negatives: 13.0000 - val_false_positives: 12.0000 - val_true_negatives: 252.0000 - val_true_positives: 75.0000\n",
            "Epoch 166/200\n",
            "44/44 [==============================] - 1s 16ms/step - loss: 0.2661 - Accuracy: 0.9167 - false_negatives: 34.0000 - false_positives: 25.0000 - true_negatives: 1019.0000 - true_positives: 314.0000 - val_loss: 0.8191 - val_Accuracy: 0.8295 - val_false_negatives: 16.0000 - val_false_positives: 15.0000 - val_true_negatives: 249.0000 - val_true_positives: 72.0000\n",
            "Epoch 167/200\n",
            "44/44 [==============================] - 1s 16ms/step - loss: 0.3343 - Accuracy: 0.8649 - false_negatives: 53.0000 - false_positives: 41.0000 - true_negatives: 1003.0000 - true_positives: 295.0000 - val_loss: 0.7038 - val_Accuracy: 0.8750 - val_false_negatives: 14.0000 - val_false_positives: 10.0000 - val_true_negatives: 254.0000 - val_true_positives: 74.0000\n",
            "Epoch 168/200\n",
            "44/44 [==============================] - 1s 16ms/step - loss: 0.3310 - Accuracy: 0.8678 - false_negatives: 51.0000 - false_positives: 38.0000 - true_negatives: 1006.0000 - true_positives: 297.0000 - val_loss: 0.5478 - val_Accuracy: 0.8750 - val_false_negatives: 11.0000 - val_false_positives: 10.0000 - val_true_negatives: 254.0000 - val_true_positives: 77.0000\n",
            "Epoch 169/200\n",
            "44/44 [==============================] - 1s 16ms/step - loss: 0.3029 - Accuracy: 0.8879 - false_negatives: 47.0000 - false_positives: 31.0000 - true_negatives: 1013.0000 - true_positives: 301.0000 - val_loss: 0.6582 - val_Accuracy: 0.8977 - val_false_negatives: 11.0000 - val_false_positives: 9.0000 - val_true_negatives: 255.0000 - val_true_positives: 77.0000\n",
            "Epoch 170/200\n",
            "44/44 [==============================] - 1s 16ms/step - loss: 0.3426 - Accuracy: 0.8621 - false_negatives: 52.0000 - false_positives: 32.0000 - true_negatives: 1012.0000 - true_positives: 296.0000 - val_loss: 0.6355 - val_Accuracy: 0.8864 - val_false_negatives: 10.0000 - val_false_positives: 9.0000 - val_true_negatives: 255.0000 - val_true_positives: 78.0000\n",
            "Epoch 171/200\n",
            "44/44 [==============================] - 1s 16ms/step - loss: 0.2626 - Accuracy: 0.9138 - false_negatives: 38.0000 - false_positives: 27.0000 - true_negatives: 1017.0000 - true_positives: 310.0000 - val_loss: 0.6681 - val_Accuracy: 0.8750 - val_false_negatives: 11.0000 - val_false_positives: 11.0000 - val_true_negatives: 253.0000 - val_true_positives: 77.0000\n",
            "Epoch 172/200\n",
            "44/44 [==============================] - 1s 16ms/step - loss: 0.2600 - Accuracy: 0.8994 - false_negatives: 42.0000 - false_positives: 32.0000 - true_negatives: 1012.0000 - true_positives: 306.0000 - val_loss: 0.8434 - val_Accuracy: 0.7841 - val_false_negatives: 20.0000 - val_false_positives: 18.0000 - val_true_negatives: 246.0000 - val_true_positives: 68.0000\n",
            "Epoch 173/200\n",
            "44/44 [==============================] - 1s 16ms/step - loss: 0.2778 - Accuracy: 0.9062 - false_negatives: 39.0000 - false_positives: 30.0000 - true_negatives: 1026.0000 - true_positives: 313.0000 - val_loss: 0.5867 - val_Accuracy: 0.8750 - val_false_negatives: 11.0000 - val_false_positives: 10.0000 - val_true_negatives: 254.0000 - val_true_positives: 77.0000\n",
            "Epoch 174/200\n",
            "44/44 [==============================] - 1s 17ms/step - loss: 0.3018 - Accuracy: 0.8937 - false_negatives: 43.0000 - false_positives: 31.0000 - true_negatives: 1013.0000 - true_positives: 305.0000 - val_loss: 0.4615 - val_Accuracy: 0.8977 - val_false_negatives: 10.0000 - val_false_positives: 8.0000 - val_true_negatives: 256.0000 - val_true_positives: 78.0000\n",
            "Epoch 175/200\n",
            "44/44 [==============================] - 1s 16ms/step - loss: 0.3048 - Accuracy: 0.8793 - false_negatives: 48.0000 - false_positives: 35.0000 - true_negatives: 1009.0000 - true_positives: 300.0000 - val_loss: 0.5989 - val_Accuracy: 0.9091 - val_false_negatives: 8.0000 - val_false_positives: 8.0000 - val_true_negatives: 256.0000 - val_true_positives: 80.0000\n",
            "Epoch 176/200\n",
            "44/44 [==============================] - 1s 16ms/step - loss: 0.2647 - Accuracy: 0.8835 - false_negatives: 44.0000 - false_positives: 35.0000 - true_negatives: 1021.0000 - true_positives: 308.0000 - val_loss: 0.5519 - val_Accuracy: 0.8523 - val_false_negatives: 14.0000 - val_false_positives: 13.0000 - val_true_negatives: 251.0000 - val_true_positives: 74.0000\n",
            "Epoch 177/200\n",
            "44/44 [==============================] - 1s 16ms/step - loss: 0.2383 - Accuracy: 0.9052 - false_negatives: 39.0000 - false_positives: 27.0000 - true_negatives: 1017.0000 - true_positives: 309.0000 - val_loss: 0.8636 - val_Accuracy: 0.8636 - val_false_negatives: 12.0000 - val_false_positives: 12.0000 - val_true_negatives: 252.0000 - val_true_positives: 76.0000\n",
            "Epoch 178/200\n",
            "44/44 [==============================] - 1s 17ms/step - loss: 0.2791 - Accuracy: 0.8937 - false_negatives: 40.0000 - false_positives: 30.0000 - true_negatives: 1014.0000 - true_positives: 308.0000 - val_loss: 0.8100 - val_Accuracy: 0.8636 - val_false_negatives: 14.0000 - val_false_positives: 12.0000 - val_true_negatives: 252.0000 - val_true_positives: 74.0000\n",
            "Epoch 179/200\n",
            "44/44 [==============================] - 1s 16ms/step - loss: 0.2709 - Accuracy: 0.9023 - false_negatives: 37.0000 - false_positives: 25.0000 - true_negatives: 1019.0000 - true_positives: 311.0000 - val_loss: 0.6122 - val_Accuracy: 0.8636 - val_false_negatives: 12.0000 - val_false_positives: 12.0000 - val_true_negatives: 252.0000 - val_true_positives: 76.0000\n",
            "Epoch 180/200\n",
            "44/44 [==============================] - 1s 16ms/step - loss: 0.2623 - Accuracy: 0.8994 - false_negatives: 40.0000 - false_positives: 30.0000 - true_negatives: 1014.0000 - true_positives: 308.0000 - val_loss: 0.6760 - val_Accuracy: 0.8636 - val_false_negatives: 13.0000 - val_false_positives: 11.0000 - val_true_negatives: 253.0000 - val_true_positives: 75.0000\n",
            "Epoch 181/200\n",
            "44/44 [==============================] - 1s 17ms/step - loss: 0.3010 - Accuracy: 0.9023 - false_negatives: 38.0000 - false_positives: 28.0000 - true_negatives: 1016.0000 - true_positives: 310.0000 - val_loss: 0.7721 - val_Accuracy: 0.8977 - val_false_negatives: 11.0000 - val_false_positives: 9.0000 - val_true_negatives: 255.0000 - val_true_positives: 77.0000\n",
            "Epoch 182/200\n",
            "44/44 [==============================] - 1s 17ms/step - loss: 0.3943 - Accuracy: 0.8534 - false_negatives: 54.0000 - false_positives: 45.0000 - true_negatives: 999.0000 - true_positives: 294.0000 - val_loss: 1.0540 - val_Accuracy: 0.8636 - val_false_negatives: 13.0000 - val_false_positives: 12.0000 - val_true_negatives: 252.0000 - val_true_positives: 75.0000\n",
            "Epoch 183/200\n",
            "44/44 [==============================] - 1s 16ms/step - loss: 0.3040 - Accuracy: 0.8649 - false_negatives: 51.0000 - false_positives: 37.0000 - true_negatives: 1007.0000 - true_positives: 297.0000 - val_loss: 0.7771 - val_Accuracy: 0.8409 - val_false_negatives: 14.0000 - val_false_positives: 14.0000 - val_true_negatives: 250.0000 - val_true_positives: 74.0000\n",
            "Epoch 184/200\n",
            "44/44 [==============================] - 1s 17ms/step - loss: 0.2385 - Accuracy: 0.9052 - false_negatives: 38.0000 - false_positives: 31.0000 - true_negatives: 1013.0000 - true_positives: 310.0000 - val_loss: 0.8860 - val_Accuracy: 0.8750 - val_false_negatives: 11.0000 - val_false_positives: 11.0000 - val_true_negatives: 253.0000 - val_true_positives: 77.0000\n",
            "Epoch 185/200\n",
            "44/44 [==============================] - 1s 16ms/step - loss: 0.3478 - Accuracy: 0.8908 - false_negatives: 42.0000 - false_positives: 31.0000 - true_negatives: 1013.0000 - true_positives: 306.0000 - val_loss: 1.1056 - val_Accuracy: 0.8295 - val_false_negatives: 15.0000 - val_false_positives: 15.0000 - val_true_negatives: 249.0000 - val_true_positives: 73.0000\n",
            "Epoch 186/200\n",
            "44/44 [==============================] - 1s 18ms/step - loss: 0.3164 - Accuracy: 0.8908 - false_negatives: 44.0000 - false_positives: 32.0000 - true_negatives: 1012.0000 - true_positives: 304.0000 - val_loss: 0.8836 - val_Accuracy: 0.8295 - val_false_negatives: 16.0000 - val_false_positives: 15.0000 - val_true_negatives: 249.0000 - val_true_positives: 72.0000\n",
            "Epoch 187/200\n",
            "44/44 [==============================] - 1s 17ms/step - loss: 0.2566 - Accuracy: 0.9138 - false_negatives: 38.0000 - false_positives: 26.0000 - true_negatives: 1018.0000 - true_positives: 310.0000 - val_loss: 0.6126 - val_Accuracy: 0.8409 - val_false_negatives: 14.0000 - val_false_positives: 14.0000 - val_true_negatives: 250.0000 - val_true_positives: 74.0000\n",
            "Epoch 188/200\n",
            "44/44 [==============================] - 1s 16ms/step - loss: 0.2408 - Accuracy: 0.9138 - false_negatives: 38.0000 - false_positives: 25.0000 - true_negatives: 1019.0000 - true_positives: 310.0000 - val_loss: 0.8458 - val_Accuracy: 0.8636 - val_false_negatives: 12.0000 - val_false_positives: 12.0000 - val_true_negatives: 252.0000 - val_true_positives: 76.0000\n",
            "Epoch 189/200\n",
            "44/44 [==============================] - 1s 17ms/step - loss: 0.3038 - Accuracy: 0.8966 - false_negatives: 44.0000 - false_positives: 30.0000 - true_negatives: 1014.0000 - true_positives: 304.0000 - val_loss: 0.6421 - val_Accuracy: 0.8977 - val_false_negatives: 10.0000 - val_false_positives: 9.0000 - val_true_negatives: 255.0000 - val_true_positives: 78.0000\n",
            "Epoch 190/200\n",
            "44/44 [==============================] - 1s 16ms/step - loss: 0.2295 - Accuracy: 0.9052 - false_negatives: 36.0000 - false_positives: 30.0000 - true_negatives: 1014.0000 - true_positives: 312.0000 - val_loss: 0.5165 - val_Accuracy: 0.8750 - val_false_negatives: 11.0000 - val_false_positives: 10.0000 - val_true_negatives: 254.0000 - val_true_positives: 77.0000\n",
            "Epoch 191/200\n",
            "44/44 [==============================] - 1s 16ms/step - loss: 0.1855 - Accuracy: 0.9397 - false_negatives: 25.0000 - false_positives: 19.0000 - true_negatives: 1025.0000 - true_positives: 323.0000 - val_loss: 0.6139 - val_Accuracy: 0.8523 - val_false_negatives: 13.0000 - val_false_positives: 11.0000 - val_true_negatives: 253.0000 - val_true_positives: 75.0000\n",
            "Epoch 192/200\n",
            "44/44 [==============================] - 1s 17ms/step - loss: 0.2451 - Accuracy: 0.9023 - false_negatives: 37.0000 - false_positives: 28.0000 - true_negatives: 1016.0000 - true_positives: 311.0000 - val_loss: 0.7842 - val_Accuracy: 0.8409 - val_false_negatives: 14.0000 - val_false_positives: 12.0000 - val_true_negatives: 252.0000 - val_true_positives: 74.0000\n",
            "Epoch 193/200\n",
            "44/44 [==============================] - 1s 16ms/step - loss: 0.2746 - Accuracy: 0.8879 - false_negatives: 42.0000 - false_positives: 34.0000 - true_negatives: 1010.0000 - true_positives: 306.0000 - val_loss: 0.8952 - val_Accuracy: 0.8864 - val_false_negatives: 10.0000 - val_false_positives: 10.0000 - val_true_negatives: 254.0000 - val_true_positives: 78.0000\n",
            "Epoch 194/200\n",
            "44/44 [==============================] - 1s 16ms/step - loss: 0.2704 - Accuracy: 0.8994 - false_negatives: 40.0000 - false_positives: 30.0000 - true_negatives: 1014.0000 - true_positives: 308.0000 - val_loss: 0.8803 - val_Accuracy: 0.8182 - val_false_negatives: 17.0000 - val_false_positives: 15.0000 - val_true_negatives: 249.0000 - val_true_positives: 71.0000\n",
            "Epoch 195/200\n",
            "44/44 [==============================] - 1s 16ms/step - loss: 0.2353 - Accuracy: 0.9339 - false_negatives: 28.0000 - false_positives: 19.0000 - true_negatives: 1025.0000 - true_positives: 320.0000 - val_loss: 0.5388 - val_Accuracy: 0.8864 - val_false_negatives: 11.0000 - val_false_positives: 10.0000 - val_true_negatives: 254.0000 - val_true_positives: 77.0000\n",
            "Epoch 196/200\n",
            "44/44 [==============================] - 1s 17ms/step - loss: 0.1908 - Accuracy: 0.9253 - false_negatives: 30.0000 - false_positives: 22.0000 - true_negatives: 1022.0000 - true_positives: 318.0000 - val_loss: 0.6159 - val_Accuracy: 0.8750 - val_false_negatives: 12.0000 - val_false_positives: 10.0000 - val_true_negatives: 254.0000 - val_true_positives: 76.0000\n",
            "Epoch 197/200\n",
            "44/44 [==============================] - 1s 16ms/step - loss: 0.2082 - Accuracy: 0.9109 - false_negatives: 33.0000 - false_positives: 23.0000 - true_negatives: 1021.0000 - true_positives: 315.0000 - val_loss: 0.9352 - val_Accuracy: 0.7955 - val_false_negatives: 18.0000 - val_false_positives: 17.0000 - val_true_negatives: 247.0000 - val_true_positives: 70.0000\n",
            "Epoch 198/200\n",
            "44/44 [==============================] - 1s 16ms/step - loss: 0.2915 - Accuracy: 0.8937 - false_negatives: 41.0000 - false_positives: 35.0000 - true_negatives: 1009.0000 - true_positives: 307.0000 - val_loss: 0.8825 - val_Accuracy: 0.8295 - val_false_negatives: 15.0000 - val_false_positives: 15.0000 - val_true_negatives: 249.0000 - val_true_positives: 73.0000\n",
            "Epoch 199/200\n",
            "44/44 [==============================] - 1s 17ms/step - loss: 0.2252 - Accuracy: 0.9080 - false_negatives: 36.0000 - false_positives: 31.0000 - true_negatives: 1013.0000 - true_positives: 312.0000 - val_loss: 0.4167 - val_Accuracy: 0.8636 - val_false_negatives: 12.0000 - val_false_positives: 11.0000 - val_true_negatives: 253.0000 - val_true_positives: 76.0000\n",
            "Epoch 200/200\n",
            "44/44 [==============================] - 1s 16ms/step - loss: 0.2577 - Accuracy: 0.8937 - false_negatives: 40.0000 - false_positives: 28.0000 - true_negatives: 1016.0000 - true_positives: 308.0000 - val_loss: 0.6240 - val_Accuracy: 0.8523 - val_false_negatives: 13.0000 - val_false_positives: 13.0000 - val_true_negatives: 251.0000 - val_true_positives: 75.0000\n"
          ]
        }
      ]
    },
    {
      "cell_type": "markdown",
      "source": [
        "Plotting Traning Result"
      ],
      "metadata": {
        "id": "XZSFG8fXqz7c"
      }
    },
    {
      "cell_type": "code",
      "source": [
        "  #plotting\n",
        "  epochs = range(1, len(history.history['loss'])+1)\n",
        "  plt.title(f\"Grafik loss training iterasi {iterasi}\")\n",
        "  plt.plot(epochs, history.history['loss'], 'r', label='Training Loss')\n",
        "  plt.plot(epochs, history.history['val_loss'], 'b', label='Validation Loss')    \n",
        "  plt.xlabel(\"Epoch\")\n",
        "  plt.ylabel(\"Loss\")\n",
        "  plt.legend()\n",
        "  plt.show()\n"
      ],
      "metadata": {
        "id": "3dXbDrJpY1NK",
        "colab": {
          "base_uri": "https://localhost:8080/",
          "height": 295
        },
        "outputId": "9a5366e2-480b-4ed4-d7da-15e0c1adb160"
      },
      "execution_count": 12,
      "outputs": [
        {
          "output_type": "display_data",
          "data": {
            "text/plain": [
              "<Figure size 432x288 with 1 Axes>"
            ],
            "image/png": "[encoded data removed]"
          },
          "metadata": {
            "needs_background": "light"
          }
        }
      ]
    },
    {
      "cell_type": "code",
      "source": [
        "  #plotting\n",
        "  epochs = range(1, len(history.history['loss'])+1)\n",
        "  plt.title(f\"Grafik Akurasi training iterasi {iterasi}\")\n",
        "  plt.plot(epochs, history.history['Accuracy'], 'r', label='Training Accuracy')\n",
        "  plt.plot(epochs, history.history['val_Accuracy'], 'b', label='Validation Accuracy')    \n",
        "  plt.xlabel(\"Epoch\")\n",
        "  plt.ylabel(\"Accuracy\")\n",
        "  plt.legend()\n",
        "  plt.show()"
      ],
      "metadata": {
        "id": "j3xigprPwlSX",
        "colab": {
          "base_uri": "https://localhost:8080/",
          "height": 295
        },
        "outputId": "dd717c81-ad36-4a37-c979-d45765a82df1"
      },
      "execution_count": 13,
      "outputs": [
        {
          "output_type": "display_data",
          "data": {
            "text/plain": [
              "<Figure size 432x288 with 1 Axes>"
            ],
            "image/png": "[encoded data removed]"
          },
          "metadata": {
            "needs_background": "light"
          }
        }
      ]
    },
    {
      "cell_type": "code",
      "source": [
        "import matplotlib.pyplot as plt\n",
        "from sklearn.datasets import make_classification\n",
        "from numpy import mean\n",
        "from sklearn.metrics import confusion_matrix, ConfusionMatrixDisplay, accuracy_score, classification_report, recall_score\n",
        "\n",
        "validation = model.predict(np_image_list_validation)\n",
        "\n",
        "predicted_labels = []\n",
        "correct_labels = []\n",
        "for i in range (len(validation)):\n",
        "  predicted_labels.append(np.argmax(validation[i]))\n",
        "\n",
        "for i in range (len(image_labels_validation)):\n",
        "  correct_labels.append(np.argmax(image_labels_validation[i]))\n",
        "\n",
        "\n",
        "confusion_matrix = confusion_matrix(correct_labels, predicted_labels)\n",
        "disp = ConfusionMatrixDisplay(confusion_matrix=confusion_matrix)  \n",
        "disp.plot()\n",
        "plt.show()\n",
        "print('--------')\n",
        "FP = confusion_matrix.sum(axis=0) - np.diag(confusion_matrix)  \n",
        "FN = confusion_matrix.sum(axis=1) - np.diag(confusion_matrix)\n",
        "TP = np.diag(confusion_matrix)\n",
        "TN = confusion_matrix.sum() - (FP + FN + TP)\n",
        "\n",
        "# Sensitivity, hit rate, recall, or true positive rate\n",
        "TPR = TP/(TP+FN)\n",
        "# Specificity or true negative rate\n",
        "TNR = TN/(TN+FP) \n",
        "# Overall accuracy\n",
        "ACC = (TP+TN)/(TP+FP+FN+TN)\n",
        "\n",
        "print(TP)\n",
        "print(TN)\n",
        "print(FP)\n",
        "print(FN)\n",
        "print('--------')\n",
        "print(ACC)\n",
        "print(TPR)\n",
        "print(TNR)\n",
        "print('--------')\n",
        "\n",
        "TP = sum(TP)\n",
        "TN = sum(TN)\n",
        "FP = sum(FP)\n",
        "FN = sum(FN)\n",
        "\n",
        "# Sensitivity, hit rate, recall, or true positive rate\n",
        "TPR = TP/(TP+FN)\n",
        "# Specificity or true negative rate\n",
        "TNR = TN/(TN+FP) \n",
        "# Overall accuracy\n",
        "ACC = (TP+TN)/(TP+FP+FN+TN)\n",
        "\n",
        "print(TP)\n",
        "print(TN)\n",
        "print(FP)\n",
        "print(FN)\n",
        "print('--------')\n",
        "print(ACC)\n",
        "print(TPR)\n",
        "print(TNR)"
      ],
      "metadata": {
        "colab": {
          "base_uri": "https://localhost:8080/",
          "height": 591
        },
        "id": "y0RigLm76Rpg",
        "outputId": "8dbf7a7e-1dc4-49a2-9346-a049a980dd8d"
      },
      "execution_count": 14,
      "outputs": [
        {
          "output_type": "display_data",
          "data": {
            "text/plain": [
              "<Figure size 432x288 with 2 Axes>"
            ],
            "image/png": "[encoded data removed]"
          },
          "metadata": {
            "needs_background": "light"
          }
        },
        {
          "output_type": "stream",
          "name": "stdout",
          "text": [
            "--------\n",
            "[ 6  8 23 38]\n",
            "[74 75 58 44]\n",
            "[4 0 5 4]\n",
            "[4 5 2 2]\n",
            "--------\n",
            "[0.90909091 0.94318182 0.92045455 0.93181818]\n",
            "[0.6        0.61538462 0.92       0.95      ]\n",
            "[0.94871795 1.         0.92063492 0.91666667]\n",
            "--------\n",
            "75\n",
            "251\n",
            "13\n",
            "13\n",
            "--------\n",
            "0.9261363636363636\n",
            "0.8522727272727273\n",
            "0.9507575757575758\n"
          ]
        }
      ]
    },
    {
      "cell_type": "code",
      "source": [
        "import matplotlib.pyplot as plt\n",
        "from sklearn.datasets import make_classification\n",
        "from numpy import mean\n",
        "from sklearn.metrics import confusion_matrix, ConfusionMatrixDisplay, accuracy_score, classification_report, recall_score\n",
        "\n",
        "test = model.predict(np_image_list_test)\n",
        "\n",
        "predicted_labels = []\n",
        "correct_labels = []\n",
        "for i in range (len(test)):\n",
        "  predicted_labels.append(np.argmax(test[i]))\n",
        "\n",
        "for i in range (len(image_labels_test)):\n",
        "  correct_labels.append(np.argmax(image_labels_test[i]))\n",
        "\n",
        "\n",
        "confusion_matrix = confusion_matrix(correct_labels, predicted_labels)\n",
        "disp = ConfusionMatrixDisplay(confusion_matrix=confusion_matrix)  \n",
        "disp.plot()\n",
        "plt.show()\n",
        "print('--------')\n",
        "FP = confusion_matrix.sum(axis=0) - np.diag(confusion_matrix)  \n",
        "FN = confusion_matrix.sum(axis=1) - np.diag(confusion_matrix)\n",
        "TP = np.diag(confusion_matrix)\n",
        "TN = confusion_matrix.sum() - (FP + FN + TP)\n",
        "\n",
        "# Sensitivity, hit rate, recall, or true positive rate\n",
        "TPR = TP/(TP+FN)\n",
        "# Specificity or true negative rate\n",
        "TNR = TN/(TN+FP) \n",
        "# Overall accuracy\n",
        "ACC = (TP+TN)/(TP+FP+FN+TN)\n",
        "\n",
        "print(TP)\n",
        "print(TN)\n",
        "print(FP)\n",
        "print(FN)\n",
        "print('--------')\n",
        "print(ACC)\n",
        "print(TPR)\n",
        "print(TNR)\n",
        "print('--------')\n",
        "\n",
        "TP = sum(TP)\n",
        "TN = sum(TN)\n",
        "FP = sum(FP)\n",
        "FN = sum(FN)\n",
        "\n",
        "# Sensitivity, hit rate, recall, or true positive rate\n",
        "TPR = TP/(TP+FN)\n",
        "# Specificity or true negative rate\n",
        "TNR = TN/(TN+FP) \n",
        "# Overall accuracy\n",
        "ACC = (TP+TN)/(TP+FP+FN+TN)\n",
        "\n",
        "print(TP)\n",
        "print(TN)\n",
        "print(FP)\n",
        "print(FN)\n",
        "print('--------')\n",
        "print(ACC)\n",
        "print(TPR)\n",
        "print(TNR)"
      ],
      "metadata": {
        "colab": {
          "base_uri": "https://localhost:8080/",
          "height": 591
        },
        "id": "xufCN02P5v4A",
        "outputId": "40d5c9af-5ef5-4420-a591-0780a3490163"
      },
      "execution_count": 15,
      "outputs": [
        {
          "output_type": "display_data",
          "data": {
            "text/plain": [
              "<Figure size 432x288 with 2 Axes>"
            ],
            "image/png": "[encoded data removed]"
          },
          "metadata": {
            "needs_background": "light"
          }
        },
        {
          "output_type": "stream",
          "name": "stdout",
          "text": [
            "--------\n",
            "[ 2  6 19 38]\n",
            "[89 92 65 39]\n",
            "[ 9  2 13 21]\n",
            "[10 10 13 12]\n",
            "--------\n",
            "[0.82727273 0.89090909 0.76363636 0.7       ]\n",
            "[0.16666667 0.375      0.59375    0.76      ]\n",
            "[0.90816327 0.9787234  0.83333333 0.65      ]\n",
            "--------\n",
            "65\n",
            "285\n",
            "45\n",
            "45\n",
            "--------\n",
            "0.7954545454545454\n",
            "0.5909090909090909\n",
            "0.8636363636363636\n"
          ]
        }
      ]
    },
    {
      "cell_type": "markdown",
      "metadata": {
        "id": "bTgk1-sdzmgy"
      },
      "source": [
        "**Validating** Network"
      ]
    },
    {
      "cell_type": "code",
      "source": [
        "\n"
      ],
      "metadata": {
        "id": "d_NBE4KkWuhu"
      },
      "execution_count": 15,
      "outputs": []
    },
    {
      "cell_type": "markdown",
      "source": [
        "**Testing** Network"
      ],
      "metadata": {
        "id": "saJYjKqX9tRL"
      }
    },
    {
      "cell_type": "code",
      "source": [
        "\n"
      ],
      "metadata": {
        "id": "A7DR52hmTc75"
      },
      "execution_count": 15,
      "outputs": []
    },
    {
      "cell_type": "code",
      "source": [
        "test_img = cv2.imread('/content/Datasets/fold3/Test/apel_sehat/apel_sehat (1).jpg')\n",
        "\n",
        "plt.imshow(test_img)\n",
        "test_img = test_img / 255\n",
        "test_img = np.expand_dims(test_img, axis=0)\n",
        "pr=model.predict(test_img)\n",
        "\n",
        "print(pr)\n",
        "output = label_binarizer.inverse_transform(pr)\n",
        "print(output)"
      ],
      "metadata": {
        "colab": {
          "base_uri": "https://localhost:8080/",
          "height": 303
        },
        "id": "zkMI6CwJArvo",
        "outputId": "15917de3-a2cb-4a11-8b46-196fc3ab2f63"
      },
      "execution_count": 16,
      "outputs": [
        {
          "output_type": "stream",
          "name": "stdout",
          "text": [
            "[[9.5063297e-06 4.6434122e-04 3.1852832e-03 9.9634081e-01]]\n",
            "['apel_sehat']\n"
          ]
        },
        {
          "output_type": "display_data",
          "data": {
            "text/plain": [
              "<Figure size 432x288 with 1 Axes>"
            ],
            "image/png": "[encoded data removed]"
          },
          "metadata": {
            "needs_background": "light"
          }
        }
      ]
    },
    {
      "cell_type": "code",
      "source": [
        "# save the model to disk\n",
        "#print(\"[INFO] Saving model...\")\n",
        "#pickle.dump(model,open('cnn_model.pkl', 'wb'))\n",
        "#model.save('/content/fold1.h5')"
      ],
      "metadata": {
        "id": "Wr_b8qBuCAIS"
      },
      "execution_count": 17,
      "outputs": []
    }
  ]
}